{
 "cells": [
  {
   "cell_type": "code",
   "execution_count": null,
   "id": "numerical-preliminary",
   "metadata": {},
   "outputs": [],
   "source": [
    "import numpy as np\n",
    "import pandas as pd\n",
    "\n",
    "from ptplot import plotting, utilities\n",
    "\n",
    "%reload_ext autoreload\n",
    "%autoreload 2"
   ]
  },
  {
   "cell_type": "markdown",
   "id": "agricultural-button",
   "metadata": {},
   "source": [
    "We'll pick a single play to look at, just for demonstration purposes. I've somewhat-randomly chosen [this Cleveland Browns reverse + WR pass from the 2018 season](https://www.youtube.com/watch?v=Co5IaAFdaPU), which has player-tracking data available for it from Adam Sonty's [ngs_highlights repo](https://github.com/asonty/ngs_highlights) (specifically, the file used is located [here](https://raw.githubusercontent.com/asonty/ngs_highlights/20f74138f0a2f7e91879d31bbf2d8addc0bd59bc/play_data/2018_CLE_2018122305_1246.tsv))."
   ]
  },
  {
   "cell_type": "code",
   "execution_count": null,
   "id": "perfect-grade",
   "metadata": {},
   "outputs": [],
   "source": [
    "# Data file copied locally to ensure the demo works even if the ngs_highlights_repo is taken down\n",
    "player_tracking_data = pd.read_csv(\n",
    "    \"2018_CLE_2018122305_1246.tsv\",\n",
    "    sep=\"\\t\", parse_dates=[\"time\"]\n",
    ")"
   ]
  },
  {
   "cell_type": "code",
   "execution_count": null,
   "id": "piano-jesus",
   "metadata": {},
   "outputs": [],
   "source": [
    "player_tracking_data.head().T"
   ]
  },
  {
   "cell_type": "markdown",
   "id": "current-native",
   "metadata": {},
   "source": [
    "Let's start by making a simple plot that shows player positions at a certain frame. Frames where interesting stuff happens are actually tagged by the event column, so we'll choose the moment of time when the pass occurred:"
   ]
  },
  {
   "cell_type": "code",
   "execution_count": null,
   "id": "continental-garbage",
   "metadata": {},
   "outputs": [],
   "source": [
    "fig = plotting.plot_positions(\n",
    "    player_tracking_data[player_tracking_data[\"event\"] == \"pass_forward\"], \n",
    "    \"x\", \"y\"\n",
    ")\n",
    "fig.show()"
   ]
  },
  {
   "cell_type": "markdown",
   "id": "placed-grenada",
   "metadata": {},
   "source": [
    "That's nice, but all the players look the same, which isn't very helpful. The good news is that it's pretty easy to make things clearer. First we'll add a column to the DataFrame to denote which rows contain the ball, then we'll use that column + others to add team and player information:"
   ]
  },
  {
   "cell_type": "code",
   "execution_count": null,
   "id": "advanced-afternoon",
   "metadata": {},
   "outputs": [],
   "source": [
    "player_tracking_data[\"is_ball\"] = (player_tracking_data[\"displayName\"] == \"ball\")"
   ]
  },
  {
   "cell_type": "code",
   "execution_count": null,
   "id": "whole-angel",
   "metadata": {},
   "outputs": [],
   "source": [
    "fig = plotting.plot_positions(\n",
    "    player_tracking_data[player_tracking_data[\"event\"] == \"pass_forward\"], \"x\", \"y\",\n",
    "    uniform_number=\"jerseyNumber\",\n",
    "    home_away_identifier=\"homeTeamFlag\",\n",
    "    hover_text=\"displayName\",\n",
    "    ball_identifier=\"is_ball\",\n",
    "    team_abbreviations=\"teamAbbr\"\n",
    ")\n",
    "fig.show()"
   ]
  },
  {
   "cell_type": "markdown",
   "id": "numerous-compilation",
   "metadata": {},
   "source": [
    "Much better. In addition to the addition of team colors and player numbers, note that mousing over the markers shows the player's name too. You can also use the Plotly controls on the top right of the chart to do things like zoom in, select players, and save a static image. \n",
    "\n",
    "in addition to making plots of player positions, `ptplot` can also generate tracks of player positions over the course of the play. The code in the next cell generates those tracks for the entire play:"
   ]
  },
  {
   "cell_type": "code",
   "execution_count": null,
   "id": "interior-jackson",
   "metadata": {},
   "outputs": [],
   "source": [
    "fig = plotting.plot_tracks(\n",
    "    player_tracking_data, \"x\", \"y\", \"displayName\",\n",
    "    home_away_identifier=\"homeTeamFlag\",\n",
    "    hover_text=\"displayName\",\n",
    "    ball_identifier=\"is_ball\",\n",
    "    team_abbreviations=\"teamAbbr\"\n",
    ")\n",
    "fig.show()"
   ]
  },
  {
   "cell_type": "markdown",
   "id": "competent-protest",
   "metadata": {},
   "source": [
    "Again you'll see similar interactivity as for the player positions plot. \n",
    "\n",
    "Now, if you want both the positions *and* player tracks, it's possible to combine these two figures by re-using the figure object that `ptplot`'s plotting functions return:"
   ]
  },
  {
   "cell_type": "code",
   "execution_count": null,
   "id": "vulnerable-affiliate",
   "metadata": {},
   "outputs": [],
   "source": [
    "# Just look between the snap and the pass, to make the tracks clearer\n",
    "snap_frame = player_tracking_data[player_tracking_data[\"event\"] == \"ball_snap\"][\"frame\"].unique()[0]\n",
    "pass_forward_frame = player_tracking_data[player_tracking_data[\"event\"] == \"pass_forward\"][\"frame\"].unique()[0]\n",
    "\n",
    "fig = plotting.plot_tracks(\n",
    "    player_tracking_data[player_tracking_data[\"frame\"].between(snap_frame, pass_forward_frame)], \n",
    "    \"x\", \"y\", \"displayName\",\n",
    "    home_away_identifier=\"homeTeamFlag\",\n",
    "    hover_text=\"displayName\",\n",
    "    ball_identifier=\"is_ball\",\n",
    "    team_abbreviations=\"teamAbbr\"\n",
    ")\n",
    "plotting.plot_positions(\n",
    "    player_tracking_data[player_tracking_data[\"event\"] == \"pass_forward\"], \"x\", \"y\",\n",
    "    uniform_number=\"jerseyNumber\",\n",
    "    home_away_identifier=\"homeTeamFlag\",\n",
    "    hover_text=\"displayName\",\n",
    "    ball_identifier=\"is_ball\",\n",
    "    team_abbreviations=\"teamAbbr\",\n",
    "    fig=fig\n",
    ")\n",
    "fig.show()"
   ]
  },
  {
   "cell_type": "markdown",
   "id": "approximate-aquarium",
   "metadata": {},
   "source": [
    "Lastly, `ptplot` comes with support for both horizontal and vertical field orientations. Horizontal views tend to be better for computers, which tend towards widescreen displays, while vertical views scroll better on phones."
   ]
  },
  {
   "cell_type": "code",
   "execution_count": null,
   "id": "superb-mystery",
   "metadata": {},
   "outputs": [],
   "source": [
    "# Same plot as before, but now vertically oriented\n",
    "vertical_fig = plotting.plot_tracks(\n",
    "    player_tracking_data[player_tracking_data[\"frame\"].between(snap_frame, pass_forward_frame)], \n",
    "    \"y\", \"x\", \"displayName\",\n",
    "    home_away_identifier=\"homeTeamFlag\",\n",
    "    hover_text=\"displayName\",\n",
    "    ball_identifier=\"is_ball\",\n",
    "    team_abbreviations=\"teamAbbr\",\n",
    "    fig=\"nfl_vertical\"\n",
    ")\n",
    "plotting.plot_positions(\n",
    "    player_tracking_data[player_tracking_data[\"event\"] == \"pass_forward\"], \"y\", \"x\",\n",
    "    uniform_number=\"jerseyNumber\",\n",
    "    home_away_identifier=\"homeTeamFlag\",\n",
    "    hover_text=\"displayName\",\n",
    "    ball_identifier=\"is_ball\",\n",
    "    team_abbreviations=\"teamAbbr\",\n",
    "    fig=vertical_fig\n",
    ")\n",
    "vertical_fig.update_layout(width=250, height=550)\n",
    "vertical_fig.show()"
   ]
  },
  {
   "cell_type": "code",
   "execution_count": null,
   "id": "industrial-elder",
   "metadata": {
    "scrolled": false
   },
   "outputs": [],
   "source": [
    "positions_fig = plotting.animate_play(\n",
    "    player_tracking_data, \"x\", \"y\", \"frame\",\n",
    "    uniform_number=\"jerseyNumber\",\n",
    "    home_away_identifier=\"homeTeamFlag\",\n",
    "    hover_text=lambda data: data[\"displayName\"].str.cat(data[\"position\"], sep=\" \"),\n",
    "    ball_identifier=lambda data: (data[\"displayName\"] == \"ball\").values,\n",
    "    #slider_label_generator=utilities.generate_time_elapsed_labels(player_tracking_data[\"time\"].min(), \"time\"),\n",
    "    team_abbreviations=\"teamAbbr\",\n",
    "    events_of_interest=\"event\"\n",
    ")\n",
    "positions_fig.show()"
   ]
  },
  {
   "cell_type": "code",
   "execution_count": null,
   "id": "biblical-direction",
   "metadata": {
    "scrolled": false
   },
   "outputs": [],
   "source": [
    "# frames_to_track = (\n",
    "#     (player_tracking_data[\"frame\"] < 100)\n",
    "# )\n",
    "tracks_fig = plotting.animate_tracks(\n",
    "    player_tracking_data[[\"x\", \"y\", \"displayName\", \"frame\"]], \"x\", \"y\", \"displayName\", \"frame\",\n",
    "    home_away_identifier=\"homeTeamFlag\",\n",
    "    hover_text=lambda data: data[\"displayName\"].str.cat(data[\"position\"].fillna(\"\"), sep=\" \"),\n",
    "    ball_identifier=lambda data: (data[\"displayName\"] == \"ball\").values,\n",
    "    team_abbreviations=\"teamAbbr\",\n",
    "    events_of_interest=\"event\"\n",
    ")\n",
    "tracks_fig.show()"
   ]
  },
  {
   "cell_type": "code",
   "execution_count": null,
   "id": "bottom-european",
   "metadata": {},
   "outputs": [],
   "source": [
    "player_tracking_data[[\"x\", \"y\", \"displayName\", \"frame\"]].memory_usage().sum() / 1e6"
   ]
  },
  {
   "cell_type": "code",
   "execution_count": null,
   "id": "medium-atlanta",
   "metadata": {},
   "outputs": [],
   "source": [
    "player_tracking_data"
   ]
  },
  {
   "cell_type": "code",
   "execution_count": null,
   "id": "rural-medicine",
   "metadata": {},
   "outputs": [],
   "source": [
    "combined_fig = plotting.animate_play(\n",
    "    player_tracking_data, \"x\", \"y\", \"frame\",\n",
    "    uniform_number=\"jerseyNumber\",\n",
    "    home_away_identifier=\"homeTeamFlag\",\n",
    "    hover_text=lambda data: data[\"displayName\"].str.cat(data[\"position\"], sep=\" \"),\n",
    "    ball_identifier=lambda data: (data[\"displayName\"] == \"ball\").values,\n",
    "    team_abbreviations=\"teamAbbr\",\n",
    "    events_of_interest=\"event\",\n",
    "    fig=tracks_fig\n",
    ")\n",
    "combined_fig.show()"
   ]
  },
  {
   "cell_type": "code",
   "execution_count": null,
   "id": "dirty-august",
   "metadata": {},
   "outputs": [],
   "source": [
    "fig = plotting.plot_positions(\n",
    "    player_tracking_data[player_tracking_data[\"event\"] == \"pass_forward\"], \"y\", \"x\",\n",
    "    uniform_number=\"jerseyNumber\",\n",
    "    home_away_identifier=\"homeTeamFlag\",\n",
    "    hover_text=lambda data: data[\"displayName\"].str.cat(data[\"position\"], sep=\" \"),\n",
    "    ball_identifier=lambda data: (data[\"displayName\"] == \"ball\").values,\n",
    "    team_abbreviations=\"teamAbbr\",\n",
    "    fig=\"nfl_vertical\"\n",
    ")\n",
    "fig.update_layout(width=400, height=700)\n",
    "fig.show()"
   ]
  }
 ],
 "metadata": {
  "kernelspec": {
   "display_name": "Python 3",
   "language": "python",
   "name": "python3"
  },
  "language_info": {
   "codemirror_mode": {
    "name": "ipython",
    "version": 3
   },
   "file_extension": ".py",
   "mimetype": "text/x-python",
   "name": "python",
   "nbconvert_exporter": "python",
   "pygments_lexer": "ipython3",
   "version": "3.8.6"
  }
 },
 "nbformat": 4,
 "nbformat_minor": 5
}
