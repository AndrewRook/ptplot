{
 "cells": [
  {
   "cell_type": "code",
   "execution_count": 1,
   "id": "removable-drama",
   "metadata": {},
   "outputs": [],
   "source": [
    "import dask.dataframe as dd\n",
    "import numpy as np\n",
    "import pandas as pd\n",
    "\n",
    "from ptplot import plotting, utilities\n",
    "\n",
    "%reload_ext autoreload\n",
    "%autoreload 2"
   ]
  },
  {
   "cell_type": "code",
   "execution_count": 2,
   "id": "agreed-adult",
   "metadata": {},
   "outputs": [],
   "source": [
    "data_directory = \"../data/bigdatabowl_2021/\"\n",
    "play_descriptions = pd.read_csv(data_directory + \"plays.csv\")\n",
    "player_tracking_data = dd.read_csv(data_directory + \"week*.csv\", parse_dates=[\"time\"])"
   ]
  },
  {
   "cell_type": "markdown",
   "id": "stone-montana",
   "metadata": {},
   "source": [
    "We'll pick a single play to look at, just for demonstration purposes. I've somewhat-randomly chosen a [long\n",
    "Aaron Rodgers-Randall Cobb touchdown pass from Week 1 of 2018](https://www.youtube.com/watch?v=I40ILjNdwZM&feature=emb_err_woyt)."
   ]
  },
  {
   "cell_type": "code",
   "execution_count": 3,
   "id": "fleet-trust",
   "metadata": {},
   "outputs": [],
   "source": [
    "interesting_play = player_tracking_data[\n",
    "    (player_tracking_data[\"gameId\"] == 2018090912) &\n",
    "    (player_tracking_data[\"playId\"] == 3564)\n",
    "].compute()\n",
    "interesting_play[\"team_abbreviation\"] = np.where(interesting_play[\"team\"] == \"home\", \"GB\", \"CHI\")"
   ]
  },
  {
   "cell_type": "code",
   "execution_count": 4,
   "id": "painful-offense",
   "metadata": {},
   "outputs": [
    {
     "data": {
      "text/html": [
       "<div>\n",
       "<style scoped>\n",
       "    .dataframe tbody tr th:only-of-type {\n",
       "        vertical-align: middle;\n",
       "    }\n",
       "\n",
       "    .dataframe tbody tr th {\n",
       "        vertical-align: top;\n",
       "    }\n",
       "\n",
       "    .dataframe thead th {\n",
       "        text-align: right;\n",
       "    }\n",
       "</style>\n",
       "<table border=\"1\" class=\"dataframe\">\n",
       "  <thead>\n",
       "    <tr style=\"text-align: right;\">\n",
       "      <th></th>\n",
       "      <th>time</th>\n",
       "      <th>x</th>\n",
       "      <th>y</th>\n",
       "      <th>s</th>\n",
       "      <th>a</th>\n",
       "      <th>dis</th>\n",
       "      <th>o</th>\n",
       "      <th>dir</th>\n",
       "      <th>event</th>\n",
       "      <th>nflId</th>\n",
       "      <th>displayName</th>\n",
       "      <th>jerseyNumber</th>\n",
       "      <th>position</th>\n",
       "      <th>frameId</th>\n",
       "      <th>team</th>\n",
       "      <th>gameId</th>\n",
       "      <th>playId</th>\n",
       "      <th>playDirection</th>\n",
       "      <th>route</th>\n",
       "      <th>team_abbreviation</th>\n",
       "    </tr>\n",
       "  </thead>\n",
       "  <tbody>\n",
       "    <tr>\n",
       "      <th>315754</th>\n",
       "      <td>2018-09-10 03:11:31.599000+00:00</td>\n",
       "      <td>33.82</td>\n",
       "      <td>23.05</td>\n",
       "      <td>0.00</td>\n",
       "      <td>0.00</td>\n",
       "      <td>0.00</td>\n",
       "      <td>79.98</td>\n",
       "      <td>244.08</td>\n",
       "      <td>None</td>\n",
       "      <td>497236.0</td>\n",
       "      <td>Jimmy Graham</td>\n",
       "      <td>80.0</td>\n",
       "      <td>TE</td>\n",
       "      <td>1</td>\n",
       "      <td>home</td>\n",
       "      <td>2018090912</td>\n",
       "      <td>3564</td>\n",
       "      <td>right</td>\n",
       "      <td>CROSS</td>\n",
       "      <td>GB</td>\n",
       "    </tr>\n",
       "    <tr>\n",
       "      <th>315755</th>\n",
       "      <td>2018-09-10 03:11:31.599000+00:00</td>\n",
       "      <td>35.71</td>\n",
       "      <td>44.29</td>\n",
       "      <td>0.27</td>\n",
       "      <td>0.08</td>\n",
       "      <td>0.03</td>\n",
       "      <td>265.03</td>\n",
       "      <td>235.01</td>\n",
       "      <td>None</td>\n",
       "      <td>2495108.0</td>\n",
       "      <td>Prince Amukamara</td>\n",
       "      <td>20.0</td>\n",
       "      <td>CB</td>\n",
       "      <td>1</td>\n",
       "      <td>away</td>\n",
       "      <td>2018090912</td>\n",
       "      <td>3564</td>\n",
       "      <td>right</td>\n",
       "      <td>NaN</td>\n",
       "      <td>CHI</td>\n",
       "    </tr>\n",
       "    <tr>\n",
       "      <th>315756</th>\n",
       "      <td>2018-09-10 03:11:31.599000+00:00</td>\n",
       "      <td>32.78</td>\n",
       "      <td>19.21</td>\n",
       "      <td>0.00</td>\n",
       "      <td>0.00</td>\n",
       "      <td>0.00</td>\n",
       "      <td>49.33</td>\n",
       "      <td>182.31</td>\n",
       "      <td>None</td>\n",
       "      <td>2495448.0</td>\n",
       "      <td>Randall Cobb</td>\n",
       "      <td>18.0</td>\n",
       "      <td>WR</td>\n",
       "      <td>1</td>\n",
       "      <td>home</td>\n",
       "      <td>2018090912</td>\n",
       "      <td>3564</td>\n",
       "      <td>right</td>\n",
       "      <td>IN</td>\n",
       "      <td>GB</td>\n",
       "    </tr>\n",
       "    <tr>\n",
       "      <th>315757</th>\n",
       "      <td>2018-09-10 03:11:31.599000+00:00</td>\n",
       "      <td>29.66</td>\n",
       "      <td>29.79</td>\n",
       "      <td>0.00</td>\n",
       "      <td>0.00</td>\n",
       "      <td>0.00</td>\n",
       "      <td>104.44</td>\n",
       "      <td>92.47</td>\n",
       "      <td>None</td>\n",
       "      <td>2506363.0</td>\n",
       "      <td>Aaron Rodgers</td>\n",
       "      <td>12.0</td>\n",
       "      <td>QB</td>\n",
       "      <td>1</td>\n",
       "      <td>home</td>\n",
       "      <td>2018090912</td>\n",
       "      <td>3564</td>\n",
       "      <td>right</td>\n",
       "      <td>NaN</td>\n",
       "      <td>GB</td>\n",
       "    </tr>\n",
       "    <tr>\n",
       "      <th>315758</th>\n",
       "      <td>2018-09-10 03:11:31.599000+00:00</td>\n",
       "      <td>36.88</td>\n",
       "      <td>32.58</td>\n",
       "      <td>2.20</td>\n",
       "      <td>0.78</td>\n",
       "      <td>0.22</td>\n",
       "      <td>223.23</td>\n",
       "      <td>274.52</td>\n",
       "      <td>None</td>\n",
       "      <td>2532961.0</td>\n",
       "      <td>Danny Trevathan</td>\n",
       "      <td>59.0</td>\n",
       "      <td>ILB</td>\n",
       "      <td>1</td>\n",
       "      <td>away</td>\n",
       "      <td>2018090912</td>\n",
       "      <td>3564</td>\n",
       "      <td>right</td>\n",
       "      <td>NaN</td>\n",
       "      <td>CHI</td>\n",
       "    </tr>\n",
       "  </tbody>\n",
       "</table>\n",
       "</div>"
      ],
      "text/plain": [
       "                                   time      x      y     s     a   dis  \\\n",
       "315754 2018-09-10 03:11:31.599000+00:00  33.82  23.05  0.00  0.00  0.00   \n",
       "315755 2018-09-10 03:11:31.599000+00:00  35.71  44.29  0.27  0.08  0.03   \n",
       "315756 2018-09-10 03:11:31.599000+00:00  32.78  19.21  0.00  0.00  0.00   \n",
       "315757 2018-09-10 03:11:31.599000+00:00  29.66  29.79  0.00  0.00  0.00   \n",
       "315758 2018-09-10 03:11:31.599000+00:00  36.88  32.58  2.20  0.78  0.22   \n",
       "\n",
       "             o     dir event      nflId       displayName  jerseyNumber  \\\n",
       "315754   79.98  244.08  None   497236.0      Jimmy Graham          80.0   \n",
       "315755  265.03  235.01  None  2495108.0  Prince Amukamara          20.0   \n",
       "315756   49.33  182.31  None  2495448.0      Randall Cobb          18.0   \n",
       "315757  104.44   92.47  None  2506363.0     Aaron Rodgers          12.0   \n",
       "315758  223.23  274.52  None  2532961.0   Danny Trevathan          59.0   \n",
       "\n",
       "       position  frameId  team      gameId  playId playDirection  route  \\\n",
       "315754       TE        1  home  2018090912    3564         right  CROSS   \n",
       "315755       CB        1  away  2018090912    3564         right    NaN   \n",
       "315756       WR        1  home  2018090912    3564         right     IN   \n",
       "315757       QB        1  home  2018090912    3564         right    NaN   \n",
       "315758      ILB        1  away  2018090912    3564         right    NaN   \n",
       "\n",
       "       team_abbreviation  \n",
       "315754                GB  \n",
       "315755               CHI  \n",
       "315756                GB  \n",
       "315757                GB  \n",
       "315758               CHI  "
      ]
     },
     "execution_count": 4,
     "metadata": {},
     "output_type": "execute_result"
    }
   ],
   "source": [
    "interesting_play.loc[interesting_play[\"displayName\"] == \"Football\", \"team_abbreviation\"] = np.nan\n",
    "\n",
    "interesting_play.head()"
   ]
  },
  {
   "cell_type": "code",
   "execution_count": 61,
   "id": "expensive-rendering",
   "metadata": {},
   "outputs": [
    {
     "data": {
      "application/vnd.plotly.v1+json": {
       "config": {
        "plotlyServerURL": "https://plot.ly"
       },
       "data": [
        {
         "hovertext": [
          "Jimmy Graham TE",
          "Prince Amukamara CB",
          "Randall Cobb WR",
          "Aaron Rodgers QB",
          "Danny Trevathan ILB",
          "Marcus Cooper CB",
          "Davante Adams WR",
          "Kyle Fuller CB",
          "Adrian Amos FS",
          "Ty Montgomery RB",
          "Bryce Callahan CB",
          "Leonard Floyd OLB",
          "Geronimo Allison WR",
          "Eddie Jackson FS",
          null
         ],
         "marker": {
          "color": [
           "rgb(238, 173, 30)",
           "white",
           "rgb(238, 173, 30)",
           "rgb(238, 173, 30)",
           "white",
           "white",
           "rgb(238, 173, 30)",
           "white",
           "white",
           "rgb(238, 173, 30)",
           "white",
           "white",
           "rgb(238, 173, 30)",
           "white",
           "brown"
          ],
          "line": {
           "color": [
            "rgb(28, 45, 37)",
            "rgb(200, 56, 3)",
            "rgb(28, 45, 37)",
            "rgb(28, 45, 37)",
            "rgb(200, 56, 3)",
            "rgb(200, 56, 3)",
            "rgb(28, 45, 37)",
            "rgb(200, 56, 3)",
            "rgb(200, 56, 3)",
            "rgb(28, 45, 37)",
            "rgb(200, 56, 3)",
            "rgb(200, 56, 3)",
            "rgb(28, 45, 37)",
            "rgb(200, 56, 3)",
            "black"
           ],
           "width": [
            2,
            2,
            2,
            2,
            2,
            2,
            2,
            2,
            2,
            2,
            2,
            2,
            2,
            2,
            1
           ]
          },
          "opacity": 1,
          "size": [
           16,
           16,
           16,
           16,
           16,
           16,
           16,
           16,
           16,
           16,
           16,
           16,
           16,
           16,
           12
          ],
          "symbol": [
           "circle",
           "circle",
           "circle",
           "circle",
           "circle",
           "circle",
           "circle",
           "circle",
           "circle",
           "circle",
           "circle",
           "circle",
           "circle",
           "circle",
           "diamond-wide"
          ]
         },
         "mode": "markers+text",
         "text": [
          80,
          20,
          18,
          12,
          59,
          31,
          17,
          23,
          38,
          88,
          37,
          94,
          81,
          39,
          null
         ],
         "textfont": {
          "color": [
           "black",
           "rgb(11, 22, 42)",
           "black",
           "black",
           "rgb(11, 22, 42)",
           "rgb(11, 22, 42)",
           "black",
           "rgb(11, 22, 42)",
           "rgb(11, 22, 42)",
           "black",
           "rgb(11, 22, 42)",
           "rgb(11, 22, 42)",
           "black",
           "rgb(11, 22, 42)",
           "black"
          ],
          "family": [
           "Gravitas One"
          ],
          "size": 9
         },
         "type": "scatter",
         "x": [
          37.58,
          47.79,
          43.82,
          28.55,
          32.24,
          38.06,
          48.85,
          46.13,
          54.61,
          39.63,
          50.14,
          37.89,
          46.4,
          43.57,
          28.22
         ],
         "y": [
          44.56,
          50.6,
          32.9,
          33.87,
          34.24,
          44.07,
          49.19,
          24.18,
          47.44,
          12.02,
          23.87,
          14.05,
          25.32,
          34.7,
          33.27
         ]
        }
       ],
       "layout": {
        "plot_bgcolor": "rgb(195,217,192)",
        "shapes": [
         {
          "layer": "below",
          "line": {
           "color": "white",
           "width": 5
          },
          "type": "line",
          "x0": 0,
          "x1": 120,
          "y0": 0,
          "y1": 0
         },
         {
          "layer": "below",
          "line": {
           "color": "white",
           "width": 5
          },
          "type": "line",
          "x0": 0,
          "x1": 120,
          "y0": 53.3,
          "y1": 53.3
         },
         {
          "layer": "below",
          "line": {
           "color": "white",
           "width": 5
          },
          "type": "line",
          "x0": 0,
          "x1": 0,
          "y0": 0,
          "y1": 53.3
         },
         {
          "layer": "below",
          "line": {
           "color": "white",
           "width": 5
          },
          "type": "line",
          "x0": 120,
          "x1": 120,
          "y0": 0,
          "y1": 53.3
         },
         {
          "layer": "below",
          "line": {
           "color": "white",
           "width": 2
          },
          "type": "line",
          "x0": 10,
          "x1": 10,
          "y0": 0,
          "y1": 53.3
         },
         {
          "layer": "below",
          "line": {
           "color": "white",
           "width": 2
          },
          "type": "line",
          "x0": 15,
          "x1": 15,
          "y0": 0,
          "y1": 53.3
         },
         {
          "layer": "below",
          "line": {
           "color": "white",
           "width": 2
          },
          "type": "line",
          "x0": 20,
          "x1": 20,
          "y0": 0,
          "y1": 53.3
         },
         {
          "layer": "below",
          "line": {
           "color": "white",
           "width": 2
          },
          "type": "line",
          "x0": 25,
          "x1": 25,
          "y0": 0,
          "y1": 53.3
         },
         {
          "layer": "below",
          "line": {
           "color": "white",
           "width": 2
          },
          "type": "line",
          "x0": 30,
          "x1": 30,
          "y0": 0,
          "y1": 53.3
         },
         {
          "layer": "below",
          "line": {
           "color": "white",
           "width": 2
          },
          "type": "line",
          "x0": 35,
          "x1": 35,
          "y0": 0,
          "y1": 53.3
         },
         {
          "layer": "below",
          "line": {
           "color": "white",
           "width": 2
          },
          "type": "line",
          "x0": 40,
          "x1": 40,
          "y0": 0,
          "y1": 53.3
         },
         {
          "layer": "below",
          "line": {
           "color": "white",
           "width": 2
          },
          "type": "line",
          "x0": 45,
          "x1": 45,
          "y0": 0,
          "y1": 53.3
         },
         {
          "layer": "below",
          "line": {
           "color": "white",
           "width": 2
          },
          "type": "line",
          "x0": 50,
          "x1": 50,
          "y0": 0,
          "y1": 53.3
         },
         {
          "layer": "below",
          "line": {
           "color": "white",
           "width": 2
          },
          "type": "line",
          "x0": 55,
          "x1": 55,
          "y0": 0,
          "y1": 53.3
         },
         {
          "layer": "below",
          "line": {
           "color": "white",
           "width": 2
          },
          "type": "line",
          "x0": 60,
          "x1": 60,
          "y0": 0,
          "y1": 53.3
         },
         {
          "layer": "below",
          "line": {
           "color": "white",
           "width": 2
          },
          "type": "line",
          "x0": 65,
          "x1": 65,
          "y0": 0,
          "y1": 53.3
         },
         {
          "layer": "below",
          "line": {
           "color": "white",
           "width": 2
          },
          "type": "line",
          "x0": 70,
          "x1": 70,
          "y0": 0,
          "y1": 53.3
         },
         {
          "layer": "below",
          "line": {
           "color": "white",
           "width": 2
          },
          "type": "line",
          "x0": 75,
          "x1": 75,
          "y0": 0,
          "y1": 53.3
         },
         {
          "layer": "below",
          "line": {
           "color": "white",
           "width": 2
          },
          "type": "line",
          "x0": 80,
          "x1": 80,
          "y0": 0,
          "y1": 53.3
         },
         {
          "layer": "below",
          "line": {
           "color": "white",
           "width": 2
          },
          "type": "line",
          "x0": 85,
          "x1": 85,
          "y0": 0,
          "y1": 53.3
         },
         {
          "layer": "below",
          "line": {
           "color": "white",
           "width": 2
          },
          "type": "line",
          "x0": 90,
          "x1": 90,
          "y0": 0,
          "y1": 53.3
         },
         {
          "layer": "below",
          "line": {
           "color": "white",
           "width": 2
          },
          "type": "line",
          "x0": 95,
          "x1": 95,
          "y0": 0,
          "y1": 53.3
         },
         {
          "layer": "below",
          "line": {
           "color": "white",
           "width": 2
          },
          "type": "line",
          "x0": 100,
          "x1": 100,
          "y0": 0,
          "y1": 53.3
         },
         {
          "layer": "below",
          "line": {
           "color": "white",
           "width": 2
          },
          "type": "line",
          "x0": 105,
          "x1": 105,
          "y0": 0,
          "y1": 53.3
         },
         {
          "layer": "below",
          "line": {
           "color": "white",
           "width": 2
          },
          "type": "line",
          "x0": 110,
          "x1": 110,
          "y0": 0,
          "y1": 53.3
         },
         {
          "layer": "below",
          "line": {
           "color": "white",
           "width": 2
          },
          "type": "line",
          "x0": 11,
          "x1": 11,
          "y0": 1,
          "y1": 1.6666666666666665
         },
         {
          "layer": "below",
          "line": {
           "color": "white",
           "width": 2
          },
          "type": "line",
          "x0": 11,
          "x1": 11,
          "y0": 23.58333,
          "y1": 24.249996666666668
         },
         {
          "layer": "below",
          "line": {
           "color": "white",
           "width": 2
          },
          "type": "line",
          "x0": 11,
          "x1": 11,
          "y0": 29.08333,
          "y1": 29.749996666666668
         },
         {
          "layer": "below",
          "line": {
           "color": "white",
           "width": 2
          },
          "type": "line",
          "x0": 11,
          "x1": 11,
          "y0": 51.63333333333333,
          "y1": 52.3
         },
         {
          "layer": "below",
          "line": {
           "color": "white",
           "width": 2
          },
          "type": "line",
          "x0": 12,
          "x1": 12,
          "y0": 1,
          "y1": 1.6666666666666665
         },
         {
          "layer": "below",
          "line": {
           "color": "white",
           "width": 2
          },
          "type": "line",
          "x0": 12,
          "x1": 12,
          "y0": 23.58333,
          "y1": 24.249996666666668
         },
         {
          "layer": "below",
          "line": {
           "color": "white",
           "width": 2
          },
          "type": "line",
          "x0": 12,
          "x1": 12,
          "y0": 29.08333,
          "y1": 29.749996666666668
         },
         {
          "layer": "below",
          "line": {
           "color": "white",
           "width": 2
          },
          "type": "line",
          "x0": 12,
          "x1": 12,
          "y0": 51.63333333333333,
          "y1": 52.3
         },
         {
          "layer": "below",
          "line": {
           "color": "white",
           "width": 2
          },
          "type": "line",
          "x0": 13,
          "x1": 13,
          "y0": 1,
          "y1": 1.6666666666666665
         },
         {
          "layer": "below",
          "line": {
           "color": "white",
           "width": 2
          },
          "type": "line",
          "x0": 13,
          "x1": 13,
          "y0": 23.58333,
          "y1": 24.249996666666668
         },
         {
          "layer": "below",
          "line": {
           "color": "white",
           "width": 2
          },
          "type": "line",
          "x0": 13,
          "x1": 13,
          "y0": 29.08333,
          "y1": 29.749996666666668
         },
         {
          "layer": "below",
          "line": {
           "color": "white",
           "width": 2
          },
          "type": "line",
          "x0": 13,
          "x1": 13,
          "y0": 51.63333333333333,
          "y1": 52.3
         },
         {
          "layer": "below",
          "line": {
           "color": "white",
           "width": 2
          },
          "type": "line",
          "x0": 14,
          "x1": 14,
          "y0": 1,
          "y1": 1.6666666666666665
         },
         {
          "layer": "below",
          "line": {
           "color": "white",
           "width": 2
          },
          "type": "line",
          "x0": 14,
          "x1": 14,
          "y0": 23.58333,
          "y1": 24.249996666666668
         },
         {
          "layer": "below",
          "line": {
           "color": "white",
           "width": 2
          },
          "type": "line",
          "x0": 14,
          "x1": 14,
          "y0": 29.08333,
          "y1": 29.749996666666668
         },
         {
          "layer": "below",
          "line": {
           "color": "white",
           "width": 2
          },
          "type": "line",
          "x0": 14,
          "x1": 14,
          "y0": 51.63333333333333,
          "y1": 52.3
         },
         {
          "layer": "below",
          "line": {
           "color": "white",
           "width": 2
          },
          "type": "line",
          "x0": 15,
          "x1": 15,
          "y0": 1,
          "y1": 1.6666666666666665
         },
         {
          "layer": "below",
          "line": {
           "color": "white",
           "width": 2
          },
          "type": "line",
          "x0": 15,
          "x1": 15,
          "y0": 23.58333,
          "y1": 24.249996666666668
         },
         {
          "layer": "below",
          "line": {
           "color": "white",
           "width": 2
          },
          "type": "line",
          "x0": 15,
          "x1": 15,
          "y0": 29.08333,
          "y1": 29.749996666666668
         },
         {
          "layer": "below",
          "line": {
           "color": "white",
           "width": 2
          },
          "type": "line",
          "x0": 15,
          "x1": 15,
          "y0": 51.63333333333333,
          "y1": 52.3
         },
         {
          "layer": "below",
          "line": {
           "color": "white",
           "width": 2
          },
          "type": "line",
          "x0": 16,
          "x1": 16,
          "y0": 1,
          "y1": 1.6666666666666665
         },
         {
          "layer": "below",
          "line": {
           "color": "white",
           "width": 2
          },
          "type": "line",
          "x0": 16,
          "x1": 16,
          "y0": 23.58333,
          "y1": 24.249996666666668
         },
         {
          "layer": "below",
          "line": {
           "color": "white",
           "width": 2
          },
          "type": "line",
          "x0": 16,
          "x1": 16,
          "y0": 29.08333,
          "y1": 29.749996666666668
         },
         {
          "layer": "below",
          "line": {
           "color": "white",
           "width": 2
          },
          "type": "line",
          "x0": 16,
          "x1": 16,
          "y0": 51.63333333333333,
          "y1": 52.3
         },
         {
          "layer": "below",
          "line": {
           "color": "white",
           "width": 2
          },
          "type": "line",
          "x0": 17,
          "x1": 17,
          "y0": 1,
          "y1": 1.6666666666666665
         },
         {
          "layer": "below",
          "line": {
           "color": "white",
           "width": 2
          },
          "type": "line",
          "x0": 17,
          "x1": 17,
          "y0": 23.58333,
          "y1": 24.249996666666668
         },
         {
          "layer": "below",
          "line": {
           "color": "white",
           "width": 2
          },
          "type": "line",
          "x0": 17,
          "x1": 17,
          "y0": 29.08333,
          "y1": 29.749996666666668
         },
         {
          "layer": "below",
          "line": {
           "color": "white",
           "width": 2
          },
          "type": "line",
          "x0": 17,
          "x1": 17,
          "y0": 51.63333333333333,
          "y1": 52.3
         },
         {
          "layer": "below",
          "line": {
           "color": "white",
           "width": 2
          },
          "type": "line",
          "x0": 18,
          "x1": 18,
          "y0": 1,
          "y1": 1.6666666666666665
         },
         {
          "layer": "below",
          "line": {
           "color": "white",
           "width": 2
          },
          "type": "line",
          "x0": 18,
          "x1": 18,
          "y0": 23.58333,
          "y1": 24.249996666666668
         },
         {
          "layer": "below",
          "line": {
           "color": "white",
           "width": 2
          },
          "type": "line",
          "x0": 18,
          "x1": 18,
          "y0": 29.08333,
          "y1": 29.749996666666668
         },
         {
          "layer": "below",
          "line": {
           "color": "white",
           "width": 2
          },
          "type": "line",
          "x0": 18,
          "x1": 18,
          "y0": 51.63333333333333,
          "y1": 52.3
         },
         {
          "layer": "below",
          "line": {
           "color": "white",
           "width": 2
          },
          "type": "line",
          "x0": 19,
          "x1": 19,
          "y0": 1,
          "y1": 1.6666666666666665
         },
         {
          "layer": "below",
          "line": {
           "color": "white",
           "width": 2
          },
          "type": "line",
          "x0": 19,
          "x1": 19,
          "y0": 23.58333,
          "y1": 24.249996666666668
         },
         {
          "layer": "below",
          "line": {
           "color": "white",
           "width": 2
          },
          "type": "line",
          "x0": 19,
          "x1": 19,
          "y0": 29.08333,
          "y1": 29.749996666666668
         },
         {
          "layer": "below",
          "line": {
           "color": "white",
           "width": 2
          },
          "type": "line",
          "x0": 19,
          "x1": 19,
          "y0": 51.63333333333333,
          "y1": 52.3
         },
         {
          "layer": "below",
          "line": {
           "color": "white",
           "width": 2
          },
          "type": "line",
          "x0": 21,
          "x1": 21,
          "y0": 1,
          "y1": 1.6666666666666665
         },
         {
          "layer": "below",
          "line": {
           "color": "white",
           "width": 2
          },
          "type": "line",
          "x0": 21,
          "x1": 21,
          "y0": 23.58333,
          "y1": 24.249996666666668
         },
         {
          "layer": "below",
          "line": {
           "color": "white",
           "width": 2
          },
          "type": "line",
          "x0": 21,
          "x1": 21,
          "y0": 29.08333,
          "y1": 29.749996666666668
         },
         {
          "layer": "below",
          "line": {
           "color": "white",
           "width": 2
          },
          "type": "line",
          "x0": 21,
          "x1": 21,
          "y0": 51.63333333333333,
          "y1": 52.3
         },
         {
          "layer": "below",
          "line": {
           "color": "white",
           "width": 2
          },
          "type": "line",
          "x0": 22,
          "x1": 22,
          "y0": 1,
          "y1": 1.6666666666666665
         },
         {
          "layer": "below",
          "line": {
           "color": "white",
           "width": 2
          },
          "type": "line",
          "x0": 22,
          "x1": 22,
          "y0": 23.58333,
          "y1": 24.249996666666668
         },
         {
          "layer": "below",
          "line": {
           "color": "white",
           "width": 2
          },
          "type": "line",
          "x0": 22,
          "x1": 22,
          "y0": 29.08333,
          "y1": 29.749996666666668
         },
         {
          "layer": "below",
          "line": {
           "color": "white",
           "width": 2
          },
          "type": "line",
          "x0": 22,
          "x1": 22,
          "y0": 51.63333333333333,
          "y1": 52.3
         },
         {
          "layer": "below",
          "line": {
           "color": "white",
           "width": 2
          },
          "type": "line",
          "x0": 23,
          "x1": 23,
          "y0": 1,
          "y1": 1.6666666666666665
         },
         {
          "layer": "below",
          "line": {
           "color": "white",
           "width": 2
          },
          "type": "line",
          "x0": 23,
          "x1": 23,
          "y0": 23.58333,
          "y1": 24.249996666666668
         },
         {
          "layer": "below",
          "line": {
           "color": "white",
           "width": 2
          },
          "type": "line",
          "x0": 23,
          "x1": 23,
          "y0": 29.08333,
          "y1": 29.749996666666668
         },
         {
          "layer": "below",
          "line": {
           "color": "white",
           "width": 2
          },
          "type": "line",
          "x0": 23,
          "x1": 23,
          "y0": 51.63333333333333,
          "y1": 52.3
         },
         {
          "layer": "below",
          "line": {
           "color": "white",
           "width": 2
          },
          "type": "line",
          "x0": 24,
          "x1": 24,
          "y0": 1,
          "y1": 1.6666666666666665
         },
         {
          "layer": "below",
          "line": {
           "color": "white",
           "width": 2
          },
          "type": "line",
          "x0": 24,
          "x1": 24,
          "y0": 23.58333,
          "y1": 24.249996666666668
         },
         {
          "layer": "below",
          "line": {
           "color": "white",
           "width": 2
          },
          "type": "line",
          "x0": 24,
          "x1": 24,
          "y0": 29.08333,
          "y1": 29.749996666666668
         },
         {
          "layer": "below",
          "line": {
           "color": "white",
           "width": 2
          },
          "type": "line",
          "x0": 24,
          "x1": 24,
          "y0": 51.63333333333333,
          "y1": 52.3
         },
         {
          "layer": "below",
          "line": {
           "color": "white",
           "width": 2
          },
          "type": "line",
          "x0": 25,
          "x1": 25,
          "y0": 1,
          "y1": 1.6666666666666665
         },
         {
          "layer": "below",
          "line": {
           "color": "white",
           "width": 2
          },
          "type": "line",
          "x0": 25,
          "x1": 25,
          "y0": 23.58333,
          "y1": 24.249996666666668
         },
         {
          "layer": "below",
          "line": {
           "color": "white",
           "width": 2
          },
          "type": "line",
          "x0": 25,
          "x1": 25,
          "y0": 29.08333,
          "y1": 29.749996666666668
         },
         {
          "layer": "below",
          "line": {
           "color": "white",
           "width": 2
          },
          "type": "line",
          "x0": 25,
          "x1": 25,
          "y0": 51.63333333333333,
          "y1": 52.3
         },
         {
          "layer": "below",
          "line": {
           "color": "white",
           "width": 2
          },
          "type": "line",
          "x0": 26,
          "x1": 26,
          "y0": 1,
          "y1": 1.6666666666666665
         },
         {
          "layer": "below",
          "line": {
           "color": "white",
           "width": 2
          },
          "type": "line",
          "x0": 26,
          "x1": 26,
          "y0": 23.58333,
          "y1": 24.249996666666668
         },
         {
          "layer": "below",
          "line": {
           "color": "white",
           "width": 2
          },
          "type": "line",
          "x0": 26,
          "x1": 26,
          "y0": 29.08333,
          "y1": 29.749996666666668
         },
         {
          "layer": "below",
          "line": {
           "color": "white",
           "width": 2
          },
          "type": "line",
          "x0": 26,
          "x1": 26,
          "y0": 51.63333333333333,
          "y1": 52.3
         },
         {
          "layer": "below",
          "line": {
           "color": "white",
           "width": 2
          },
          "type": "line",
          "x0": 27,
          "x1": 27,
          "y0": 1,
          "y1": 1.6666666666666665
         },
         {
          "layer": "below",
          "line": {
           "color": "white",
           "width": 2
          },
          "type": "line",
          "x0": 27,
          "x1": 27,
          "y0": 23.58333,
          "y1": 24.249996666666668
         },
         {
          "layer": "below",
          "line": {
           "color": "white",
           "width": 2
          },
          "type": "line",
          "x0": 27,
          "x1": 27,
          "y0": 29.08333,
          "y1": 29.749996666666668
         },
         {
          "layer": "below",
          "line": {
           "color": "white",
           "width": 2
          },
          "type": "line",
          "x0": 27,
          "x1": 27,
          "y0": 51.63333333333333,
          "y1": 52.3
         },
         {
          "layer": "below",
          "line": {
           "color": "white",
           "width": 2
          },
          "type": "line",
          "x0": 28,
          "x1": 28,
          "y0": 1,
          "y1": 1.6666666666666665
         },
         {
          "layer": "below",
          "line": {
           "color": "white",
           "width": 2
          },
          "type": "line",
          "x0": 28,
          "x1": 28,
          "y0": 23.58333,
          "y1": 24.249996666666668
         },
         {
          "layer": "below",
          "line": {
           "color": "white",
           "width": 2
          },
          "type": "line",
          "x0": 28,
          "x1": 28,
          "y0": 29.08333,
          "y1": 29.749996666666668
         },
         {
          "layer": "below",
          "line": {
           "color": "white",
           "width": 2
          },
          "type": "line",
          "x0": 28,
          "x1": 28,
          "y0": 51.63333333333333,
          "y1": 52.3
         },
         {
          "layer": "below",
          "line": {
           "color": "white",
           "width": 2
          },
          "type": "line",
          "x0": 29,
          "x1": 29,
          "y0": 1,
          "y1": 1.6666666666666665
         },
         {
          "layer": "below",
          "line": {
           "color": "white",
           "width": 2
          },
          "type": "line",
          "x0": 29,
          "x1": 29,
          "y0": 23.58333,
          "y1": 24.249996666666668
         },
         {
          "layer": "below",
          "line": {
           "color": "white",
           "width": 2
          },
          "type": "line",
          "x0": 29,
          "x1": 29,
          "y0": 29.08333,
          "y1": 29.749996666666668
         },
         {
          "layer": "below",
          "line": {
           "color": "white",
           "width": 2
          },
          "type": "line",
          "x0": 29,
          "x1": 29,
          "y0": 51.63333333333333,
          "y1": 52.3
         },
         {
          "layer": "below",
          "line": {
           "color": "white",
           "width": 2
          },
          "type": "line",
          "x0": 31,
          "x1": 31,
          "y0": 1,
          "y1": 1.6666666666666665
         },
         {
          "layer": "below",
          "line": {
           "color": "white",
           "width": 2
          },
          "type": "line",
          "x0": 31,
          "x1": 31,
          "y0": 23.58333,
          "y1": 24.249996666666668
         },
         {
          "layer": "below",
          "line": {
           "color": "white",
           "width": 2
          },
          "type": "line",
          "x0": 31,
          "x1": 31,
          "y0": 29.08333,
          "y1": 29.749996666666668
         },
         {
          "layer": "below",
          "line": {
           "color": "white",
           "width": 2
          },
          "type": "line",
          "x0": 31,
          "x1": 31,
          "y0": 51.63333333333333,
          "y1": 52.3
         },
         {
          "layer": "below",
          "line": {
           "color": "white",
           "width": 2
          },
          "type": "line",
          "x0": 32,
          "x1": 32,
          "y0": 1,
          "y1": 1.6666666666666665
         },
         {
          "layer": "below",
          "line": {
           "color": "white",
           "width": 2
          },
          "type": "line",
          "x0": 32,
          "x1": 32,
          "y0": 23.58333,
          "y1": 24.249996666666668
         },
         {
          "layer": "below",
          "line": {
           "color": "white",
           "width": 2
          },
          "type": "line",
          "x0": 32,
          "x1": 32,
          "y0": 29.08333,
          "y1": 29.749996666666668
         },
         {
          "layer": "below",
          "line": {
           "color": "white",
           "width": 2
          },
          "type": "line",
          "x0": 32,
          "x1": 32,
          "y0": 51.63333333333333,
          "y1": 52.3
         },
         {
          "layer": "below",
          "line": {
           "color": "white",
           "width": 2
          },
          "type": "line",
          "x0": 33,
          "x1": 33,
          "y0": 1,
          "y1": 1.6666666666666665
         },
         {
          "layer": "below",
          "line": {
           "color": "white",
           "width": 2
          },
          "type": "line",
          "x0": 33,
          "x1": 33,
          "y0": 23.58333,
          "y1": 24.249996666666668
         },
         {
          "layer": "below",
          "line": {
           "color": "white",
           "width": 2
          },
          "type": "line",
          "x0": 33,
          "x1": 33,
          "y0": 29.08333,
          "y1": 29.749996666666668
         },
         {
          "layer": "below",
          "line": {
           "color": "white",
           "width": 2
          },
          "type": "line",
          "x0": 33,
          "x1": 33,
          "y0": 51.63333333333333,
          "y1": 52.3
         },
         {
          "layer": "below",
          "line": {
           "color": "white",
           "width": 2
          },
          "type": "line",
          "x0": 34,
          "x1": 34,
          "y0": 1,
          "y1": 1.6666666666666665
         },
         {
          "layer": "below",
          "line": {
           "color": "white",
           "width": 2
          },
          "type": "line",
          "x0": 34,
          "x1": 34,
          "y0": 23.58333,
          "y1": 24.249996666666668
         },
         {
          "layer": "below",
          "line": {
           "color": "white",
           "width": 2
          },
          "type": "line",
          "x0": 34,
          "x1": 34,
          "y0": 29.08333,
          "y1": 29.749996666666668
         },
         {
          "layer": "below",
          "line": {
           "color": "white",
           "width": 2
          },
          "type": "line",
          "x0": 34,
          "x1": 34,
          "y0": 51.63333333333333,
          "y1": 52.3
         },
         {
          "layer": "below",
          "line": {
           "color": "white",
           "width": 2
          },
          "type": "line",
          "x0": 35,
          "x1": 35,
          "y0": 1,
          "y1": 1.6666666666666665
         },
         {
          "layer": "below",
          "line": {
           "color": "white",
           "width": 2
          },
          "type": "line",
          "x0": 35,
          "x1": 35,
          "y0": 23.58333,
          "y1": 24.249996666666668
         },
         {
          "layer": "below",
          "line": {
           "color": "white",
           "width": 2
          },
          "type": "line",
          "x0": 35,
          "x1": 35,
          "y0": 29.08333,
          "y1": 29.749996666666668
         },
         {
          "layer": "below",
          "line": {
           "color": "white",
           "width": 2
          },
          "type": "line",
          "x0": 35,
          "x1": 35,
          "y0": 51.63333333333333,
          "y1": 52.3
         },
         {
          "layer": "below",
          "line": {
           "color": "white",
           "width": 2
          },
          "type": "line",
          "x0": 36,
          "x1": 36,
          "y0": 1,
          "y1": 1.6666666666666665
         },
         {
          "layer": "below",
          "line": {
           "color": "white",
           "width": 2
          },
          "type": "line",
          "x0": 36,
          "x1": 36,
          "y0": 23.58333,
          "y1": 24.249996666666668
         },
         {
          "layer": "below",
          "line": {
           "color": "white",
           "width": 2
          },
          "type": "line",
          "x0": 36,
          "x1": 36,
          "y0": 29.08333,
          "y1": 29.749996666666668
         },
         {
          "layer": "below",
          "line": {
           "color": "white",
           "width": 2
          },
          "type": "line",
          "x0": 36,
          "x1": 36,
          "y0": 51.63333333333333,
          "y1": 52.3
         },
         {
          "layer": "below",
          "line": {
           "color": "white",
           "width": 2
          },
          "type": "line",
          "x0": 37,
          "x1": 37,
          "y0": 1,
          "y1": 1.6666666666666665
         },
         {
          "layer": "below",
          "line": {
           "color": "white",
           "width": 2
          },
          "type": "line",
          "x0": 37,
          "x1": 37,
          "y0": 23.58333,
          "y1": 24.249996666666668
         },
         {
          "layer": "below",
          "line": {
           "color": "white",
           "width": 2
          },
          "type": "line",
          "x0": 37,
          "x1": 37,
          "y0": 29.08333,
          "y1": 29.749996666666668
         },
         {
          "layer": "below",
          "line": {
           "color": "white",
           "width": 2
          },
          "type": "line",
          "x0": 37,
          "x1": 37,
          "y0": 51.63333333333333,
          "y1": 52.3
         },
         {
          "layer": "below",
          "line": {
           "color": "white",
           "width": 2
          },
          "type": "line",
          "x0": 38,
          "x1": 38,
          "y0": 1,
          "y1": 1.6666666666666665
         },
         {
          "layer": "below",
          "line": {
           "color": "white",
           "width": 2
          },
          "type": "line",
          "x0": 38,
          "x1": 38,
          "y0": 23.58333,
          "y1": 24.249996666666668
         },
         {
          "layer": "below",
          "line": {
           "color": "white",
           "width": 2
          },
          "type": "line",
          "x0": 38,
          "x1": 38,
          "y0": 29.08333,
          "y1": 29.749996666666668
         },
         {
          "layer": "below",
          "line": {
           "color": "white",
           "width": 2
          },
          "type": "line",
          "x0": 38,
          "x1": 38,
          "y0": 51.63333333333333,
          "y1": 52.3
         },
         {
          "layer": "below",
          "line": {
           "color": "white",
           "width": 2
          },
          "type": "line",
          "x0": 39,
          "x1": 39,
          "y0": 1,
          "y1": 1.6666666666666665
         },
         {
          "layer": "below",
          "line": {
           "color": "white",
           "width": 2
          },
          "type": "line",
          "x0": 39,
          "x1": 39,
          "y0": 23.58333,
          "y1": 24.249996666666668
         },
         {
          "layer": "below",
          "line": {
           "color": "white",
           "width": 2
          },
          "type": "line",
          "x0": 39,
          "x1": 39,
          "y0": 29.08333,
          "y1": 29.749996666666668
         },
         {
          "layer": "below",
          "line": {
           "color": "white",
           "width": 2
          },
          "type": "line",
          "x0": 39,
          "x1": 39,
          "y0": 51.63333333333333,
          "y1": 52.3
         },
         {
          "layer": "below",
          "line": {
           "color": "white",
           "width": 2
          },
          "type": "line",
          "x0": 41,
          "x1": 41,
          "y0": 1,
          "y1": 1.6666666666666665
         },
         {
          "layer": "below",
          "line": {
           "color": "white",
           "width": 2
          },
          "type": "line",
          "x0": 41,
          "x1": 41,
          "y0": 23.58333,
          "y1": 24.249996666666668
         },
         {
          "layer": "below",
          "line": {
           "color": "white",
           "width": 2
          },
          "type": "line",
          "x0": 41,
          "x1": 41,
          "y0": 29.08333,
          "y1": 29.749996666666668
         },
         {
          "layer": "below",
          "line": {
           "color": "white",
           "width": 2
          },
          "type": "line",
          "x0": 41,
          "x1": 41,
          "y0": 51.63333333333333,
          "y1": 52.3
         },
         {
          "layer": "below",
          "line": {
           "color": "white",
           "width": 2
          },
          "type": "line",
          "x0": 42,
          "x1": 42,
          "y0": 1,
          "y1": 1.6666666666666665
         },
         {
          "layer": "below",
          "line": {
           "color": "white",
           "width": 2
          },
          "type": "line",
          "x0": 42,
          "x1": 42,
          "y0": 23.58333,
          "y1": 24.249996666666668
         },
         {
          "layer": "below",
          "line": {
           "color": "white",
           "width": 2
          },
          "type": "line",
          "x0": 42,
          "x1": 42,
          "y0": 29.08333,
          "y1": 29.749996666666668
         },
         {
          "layer": "below",
          "line": {
           "color": "white",
           "width": 2
          },
          "type": "line",
          "x0": 42,
          "x1": 42,
          "y0": 51.63333333333333,
          "y1": 52.3
         },
         {
          "layer": "below",
          "line": {
           "color": "white",
           "width": 2
          },
          "type": "line",
          "x0": 43,
          "x1": 43,
          "y0": 1,
          "y1": 1.6666666666666665
         },
         {
          "layer": "below",
          "line": {
           "color": "white",
           "width": 2
          },
          "type": "line",
          "x0": 43,
          "x1": 43,
          "y0": 23.58333,
          "y1": 24.249996666666668
         },
         {
          "layer": "below",
          "line": {
           "color": "white",
           "width": 2
          },
          "type": "line",
          "x0": 43,
          "x1": 43,
          "y0": 29.08333,
          "y1": 29.749996666666668
         },
         {
          "layer": "below",
          "line": {
           "color": "white",
           "width": 2
          },
          "type": "line",
          "x0": 43,
          "x1": 43,
          "y0": 51.63333333333333,
          "y1": 52.3
         },
         {
          "layer": "below",
          "line": {
           "color": "white",
           "width": 2
          },
          "type": "line",
          "x0": 44,
          "x1": 44,
          "y0": 1,
          "y1": 1.6666666666666665
         },
         {
          "layer": "below",
          "line": {
           "color": "white",
           "width": 2
          },
          "type": "line",
          "x0": 44,
          "x1": 44,
          "y0": 23.58333,
          "y1": 24.249996666666668
         },
         {
          "layer": "below",
          "line": {
           "color": "white",
           "width": 2
          },
          "type": "line",
          "x0": 44,
          "x1": 44,
          "y0": 29.08333,
          "y1": 29.749996666666668
         },
         {
          "layer": "below",
          "line": {
           "color": "white",
           "width": 2
          },
          "type": "line",
          "x0": 44,
          "x1": 44,
          "y0": 51.63333333333333,
          "y1": 52.3
         },
         {
          "layer": "below",
          "line": {
           "color": "white",
           "width": 2
          },
          "type": "line",
          "x0": 45,
          "x1": 45,
          "y0": 1,
          "y1": 1.6666666666666665
         },
         {
          "layer": "below",
          "line": {
           "color": "white",
           "width": 2
          },
          "type": "line",
          "x0": 45,
          "x1": 45,
          "y0": 23.58333,
          "y1": 24.249996666666668
         },
         {
          "layer": "below",
          "line": {
           "color": "white",
           "width": 2
          },
          "type": "line",
          "x0": 45,
          "x1": 45,
          "y0": 29.08333,
          "y1": 29.749996666666668
         },
         {
          "layer": "below",
          "line": {
           "color": "white",
           "width": 2
          },
          "type": "line",
          "x0": 45,
          "x1": 45,
          "y0": 51.63333333333333,
          "y1": 52.3
         },
         {
          "layer": "below",
          "line": {
           "color": "white",
           "width": 2
          },
          "type": "line",
          "x0": 46,
          "x1": 46,
          "y0": 1,
          "y1": 1.6666666666666665
         },
         {
          "layer": "below",
          "line": {
           "color": "white",
           "width": 2
          },
          "type": "line",
          "x0": 46,
          "x1": 46,
          "y0": 23.58333,
          "y1": 24.249996666666668
         },
         {
          "layer": "below",
          "line": {
           "color": "white",
           "width": 2
          },
          "type": "line",
          "x0": 46,
          "x1": 46,
          "y0": 29.08333,
          "y1": 29.749996666666668
         },
         {
          "layer": "below",
          "line": {
           "color": "white",
           "width": 2
          },
          "type": "line",
          "x0": 46,
          "x1": 46,
          "y0": 51.63333333333333,
          "y1": 52.3
         },
         {
          "layer": "below",
          "line": {
           "color": "white",
           "width": 2
          },
          "type": "line",
          "x0": 47,
          "x1": 47,
          "y0": 1,
          "y1": 1.6666666666666665
         },
         {
          "layer": "below",
          "line": {
           "color": "white",
           "width": 2
          },
          "type": "line",
          "x0": 47,
          "x1": 47,
          "y0": 23.58333,
          "y1": 24.249996666666668
         },
         {
          "layer": "below",
          "line": {
           "color": "white",
           "width": 2
          },
          "type": "line",
          "x0": 47,
          "x1": 47,
          "y0": 29.08333,
          "y1": 29.749996666666668
         },
         {
          "layer": "below",
          "line": {
           "color": "white",
           "width": 2
          },
          "type": "line",
          "x0": 47,
          "x1": 47,
          "y0": 51.63333333333333,
          "y1": 52.3
         },
         {
          "layer": "below",
          "line": {
           "color": "white",
           "width": 2
          },
          "type": "line",
          "x0": 48,
          "x1": 48,
          "y0": 1,
          "y1": 1.6666666666666665
         },
         {
          "layer": "below",
          "line": {
           "color": "white",
           "width": 2
          },
          "type": "line",
          "x0": 48,
          "x1": 48,
          "y0": 23.58333,
          "y1": 24.249996666666668
         },
         {
          "layer": "below",
          "line": {
           "color": "white",
           "width": 2
          },
          "type": "line",
          "x0": 48,
          "x1": 48,
          "y0": 29.08333,
          "y1": 29.749996666666668
         },
         {
          "layer": "below",
          "line": {
           "color": "white",
           "width": 2
          },
          "type": "line",
          "x0": 48,
          "x1": 48,
          "y0": 51.63333333333333,
          "y1": 52.3
         },
         {
          "layer": "below",
          "line": {
           "color": "white",
           "width": 2
          },
          "type": "line",
          "x0": 49,
          "x1": 49,
          "y0": 1,
          "y1": 1.6666666666666665
         },
         {
          "layer": "below",
          "line": {
           "color": "white",
           "width": 2
          },
          "type": "line",
          "x0": 49,
          "x1": 49,
          "y0": 23.58333,
          "y1": 24.249996666666668
         },
         {
          "layer": "below",
          "line": {
           "color": "white",
           "width": 2
          },
          "type": "line",
          "x0": 49,
          "x1": 49,
          "y0": 29.08333,
          "y1": 29.749996666666668
         },
         {
          "layer": "below",
          "line": {
           "color": "white",
           "width": 2
          },
          "type": "line",
          "x0": 49,
          "x1": 49,
          "y0": 51.63333333333333,
          "y1": 52.3
         },
         {
          "layer": "below",
          "line": {
           "color": "white",
           "width": 2
          },
          "type": "line",
          "x0": 51,
          "x1": 51,
          "y0": 1,
          "y1": 1.6666666666666665
         },
         {
          "layer": "below",
          "line": {
           "color": "white",
           "width": 2
          },
          "type": "line",
          "x0": 51,
          "x1": 51,
          "y0": 23.58333,
          "y1": 24.249996666666668
         },
         {
          "layer": "below",
          "line": {
           "color": "white",
           "width": 2
          },
          "type": "line",
          "x0": 51,
          "x1": 51,
          "y0": 29.08333,
          "y1": 29.749996666666668
         },
         {
          "layer": "below",
          "line": {
           "color": "white",
           "width": 2
          },
          "type": "line",
          "x0": 51,
          "x1": 51,
          "y0": 51.63333333333333,
          "y1": 52.3
         },
         {
          "layer": "below",
          "line": {
           "color": "white",
           "width": 2
          },
          "type": "line",
          "x0": 52,
          "x1": 52,
          "y0": 1,
          "y1": 1.6666666666666665
         },
         {
          "layer": "below",
          "line": {
           "color": "white",
           "width": 2
          },
          "type": "line",
          "x0": 52,
          "x1": 52,
          "y0": 23.58333,
          "y1": 24.249996666666668
         },
         {
          "layer": "below",
          "line": {
           "color": "white",
           "width": 2
          },
          "type": "line",
          "x0": 52,
          "x1": 52,
          "y0": 29.08333,
          "y1": 29.749996666666668
         },
         {
          "layer": "below",
          "line": {
           "color": "white",
           "width": 2
          },
          "type": "line",
          "x0": 52,
          "x1": 52,
          "y0": 51.63333333333333,
          "y1": 52.3
         },
         {
          "layer": "below",
          "line": {
           "color": "white",
           "width": 2
          },
          "type": "line",
          "x0": 53,
          "x1": 53,
          "y0": 1,
          "y1": 1.6666666666666665
         },
         {
          "layer": "below",
          "line": {
           "color": "white",
           "width": 2
          },
          "type": "line",
          "x0": 53,
          "x1": 53,
          "y0": 23.58333,
          "y1": 24.249996666666668
         },
         {
          "layer": "below",
          "line": {
           "color": "white",
           "width": 2
          },
          "type": "line",
          "x0": 53,
          "x1": 53,
          "y0": 29.08333,
          "y1": 29.749996666666668
         },
         {
          "layer": "below",
          "line": {
           "color": "white",
           "width": 2
          },
          "type": "line",
          "x0": 53,
          "x1": 53,
          "y0": 51.63333333333333,
          "y1": 52.3
         },
         {
          "layer": "below",
          "line": {
           "color": "white",
           "width": 2
          },
          "type": "line",
          "x0": 54,
          "x1": 54,
          "y0": 1,
          "y1": 1.6666666666666665
         },
         {
          "layer": "below",
          "line": {
           "color": "white",
           "width": 2
          },
          "type": "line",
          "x0": 54,
          "x1": 54,
          "y0": 23.58333,
          "y1": 24.249996666666668
         },
         {
          "layer": "below",
          "line": {
           "color": "white",
           "width": 2
          },
          "type": "line",
          "x0": 54,
          "x1": 54,
          "y0": 29.08333,
          "y1": 29.749996666666668
         },
         {
          "layer": "below",
          "line": {
           "color": "white",
           "width": 2
          },
          "type": "line",
          "x0": 54,
          "x1": 54,
          "y0": 51.63333333333333,
          "y1": 52.3
         },
         {
          "layer": "below",
          "line": {
           "color": "white",
           "width": 2
          },
          "type": "line",
          "x0": 55,
          "x1": 55,
          "y0": 1,
          "y1": 1.6666666666666665
         },
         {
          "layer": "below",
          "line": {
           "color": "white",
           "width": 2
          },
          "type": "line",
          "x0": 55,
          "x1": 55,
          "y0": 23.58333,
          "y1": 24.249996666666668
         },
         {
          "layer": "below",
          "line": {
           "color": "white",
           "width": 2
          },
          "type": "line",
          "x0": 55,
          "x1": 55,
          "y0": 29.08333,
          "y1": 29.749996666666668
         },
         {
          "layer": "below",
          "line": {
           "color": "white",
           "width": 2
          },
          "type": "line",
          "x0": 55,
          "x1": 55,
          "y0": 51.63333333333333,
          "y1": 52.3
         },
         {
          "layer": "below",
          "line": {
           "color": "white",
           "width": 2
          },
          "type": "line",
          "x0": 56,
          "x1": 56,
          "y0": 1,
          "y1": 1.6666666666666665
         },
         {
          "layer": "below",
          "line": {
           "color": "white",
           "width": 2
          },
          "type": "line",
          "x0": 56,
          "x1": 56,
          "y0": 23.58333,
          "y1": 24.249996666666668
         },
         {
          "layer": "below",
          "line": {
           "color": "white",
           "width": 2
          },
          "type": "line",
          "x0": 56,
          "x1": 56,
          "y0": 29.08333,
          "y1": 29.749996666666668
         },
         {
          "layer": "below",
          "line": {
           "color": "white",
           "width": 2
          },
          "type": "line",
          "x0": 56,
          "x1": 56,
          "y0": 51.63333333333333,
          "y1": 52.3
         },
         {
          "layer": "below",
          "line": {
           "color": "white",
           "width": 2
          },
          "type": "line",
          "x0": 57,
          "x1": 57,
          "y0": 1,
          "y1": 1.6666666666666665
         },
         {
          "layer": "below",
          "line": {
           "color": "white",
           "width": 2
          },
          "type": "line",
          "x0": 57,
          "x1": 57,
          "y0": 23.58333,
          "y1": 24.249996666666668
         },
         {
          "layer": "below",
          "line": {
           "color": "white",
           "width": 2
          },
          "type": "line",
          "x0": 57,
          "x1": 57,
          "y0": 29.08333,
          "y1": 29.749996666666668
         },
         {
          "layer": "below",
          "line": {
           "color": "white",
           "width": 2
          },
          "type": "line",
          "x0": 57,
          "x1": 57,
          "y0": 51.63333333333333,
          "y1": 52.3
         },
         {
          "layer": "below",
          "line": {
           "color": "white",
           "width": 2
          },
          "type": "line",
          "x0": 58,
          "x1": 58,
          "y0": 1,
          "y1": 1.6666666666666665
         },
         {
          "layer": "below",
          "line": {
           "color": "white",
           "width": 2
          },
          "type": "line",
          "x0": 58,
          "x1": 58,
          "y0": 23.58333,
          "y1": 24.249996666666668
         },
         {
          "layer": "below",
          "line": {
           "color": "white",
           "width": 2
          },
          "type": "line",
          "x0": 58,
          "x1": 58,
          "y0": 29.08333,
          "y1": 29.749996666666668
         },
         {
          "layer": "below",
          "line": {
           "color": "white",
           "width": 2
          },
          "type": "line",
          "x0": 58,
          "x1": 58,
          "y0": 51.63333333333333,
          "y1": 52.3
         },
         {
          "layer": "below",
          "line": {
           "color": "white",
           "width": 2
          },
          "type": "line",
          "x0": 59,
          "x1": 59,
          "y0": 1,
          "y1": 1.6666666666666665
         },
         {
          "layer": "below",
          "line": {
           "color": "white",
           "width": 2
          },
          "type": "line",
          "x0": 59,
          "x1": 59,
          "y0": 23.58333,
          "y1": 24.249996666666668
         },
         {
          "layer": "below",
          "line": {
           "color": "white",
           "width": 2
          },
          "type": "line",
          "x0": 59,
          "x1": 59,
          "y0": 29.08333,
          "y1": 29.749996666666668
         },
         {
          "layer": "below",
          "line": {
           "color": "white",
           "width": 2
          },
          "type": "line",
          "x0": 59,
          "x1": 59,
          "y0": 51.63333333333333,
          "y1": 52.3
         },
         {
          "layer": "below",
          "line": {
           "color": "white",
           "width": 2
          },
          "type": "line",
          "x0": 61,
          "x1": 61,
          "y0": 1,
          "y1": 1.6666666666666665
         },
         {
          "layer": "below",
          "line": {
           "color": "white",
           "width": 2
          },
          "type": "line",
          "x0": 61,
          "x1": 61,
          "y0": 23.58333,
          "y1": 24.249996666666668
         },
         {
          "layer": "below",
          "line": {
           "color": "white",
           "width": 2
          },
          "type": "line",
          "x0": 61,
          "x1": 61,
          "y0": 29.08333,
          "y1": 29.749996666666668
         },
         {
          "layer": "below",
          "line": {
           "color": "white",
           "width": 2
          },
          "type": "line",
          "x0": 61,
          "x1": 61,
          "y0": 51.63333333333333,
          "y1": 52.3
         },
         {
          "layer": "below",
          "line": {
           "color": "white",
           "width": 2
          },
          "type": "line",
          "x0": 62,
          "x1": 62,
          "y0": 1,
          "y1": 1.6666666666666665
         },
         {
          "layer": "below",
          "line": {
           "color": "white",
           "width": 2
          },
          "type": "line",
          "x0": 62,
          "x1": 62,
          "y0": 23.58333,
          "y1": 24.249996666666668
         },
         {
          "layer": "below",
          "line": {
           "color": "white",
           "width": 2
          },
          "type": "line",
          "x0": 62,
          "x1": 62,
          "y0": 29.08333,
          "y1": 29.749996666666668
         },
         {
          "layer": "below",
          "line": {
           "color": "white",
           "width": 2
          },
          "type": "line",
          "x0": 62,
          "x1": 62,
          "y0": 51.63333333333333,
          "y1": 52.3
         },
         {
          "layer": "below",
          "line": {
           "color": "white",
           "width": 2
          },
          "type": "line",
          "x0": 63,
          "x1": 63,
          "y0": 1,
          "y1": 1.6666666666666665
         },
         {
          "layer": "below",
          "line": {
           "color": "white",
           "width": 2
          },
          "type": "line",
          "x0": 63,
          "x1": 63,
          "y0": 23.58333,
          "y1": 24.249996666666668
         },
         {
          "layer": "below",
          "line": {
           "color": "white",
           "width": 2
          },
          "type": "line",
          "x0": 63,
          "x1": 63,
          "y0": 29.08333,
          "y1": 29.749996666666668
         },
         {
          "layer": "below",
          "line": {
           "color": "white",
           "width": 2
          },
          "type": "line",
          "x0": 63,
          "x1": 63,
          "y0": 51.63333333333333,
          "y1": 52.3
         },
         {
          "layer": "below",
          "line": {
           "color": "white",
           "width": 2
          },
          "type": "line",
          "x0": 64,
          "x1": 64,
          "y0": 1,
          "y1": 1.6666666666666665
         },
         {
          "layer": "below",
          "line": {
           "color": "white",
           "width": 2
          },
          "type": "line",
          "x0": 64,
          "x1": 64,
          "y0": 23.58333,
          "y1": 24.249996666666668
         },
         {
          "layer": "below",
          "line": {
           "color": "white",
           "width": 2
          },
          "type": "line",
          "x0": 64,
          "x1": 64,
          "y0": 29.08333,
          "y1": 29.749996666666668
         },
         {
          "layer": "below",
          "line": {
           "color": "white",
           "width": 2
          },
          "type": "line",
          "x0": 64,
          "x1": 64,
          "y0": 51.63333333333333,
          "y1": 52.3
         },
         {
          "layer": "below",
          "line": {
           "color": "white",
           "width": 2
          },
          "type": "line",
          "x0": 65,
          "x1": 65,
          "y0": 1,
          "y1": 1.6666666666666665
         },
         {
          "layer": "below",
          "line": {
           "color": "white",
           "width": 2
          },
          "type": "line",
          "x0": 65,
          "x1": 65,
          "y0": 23.58333,
          "y1": 24.249996666666668
         },
         {
          "layer": "below",
          "line": {
           "color": "white",
           "width": 2
          },
          "type": "line",
          "x0": 65,
          "x1": 65,
          "y0": 29.08333,
          "y1": 29.749996666666668
         },
         {
          "layer": "below",
          "line": {
           "color": "white",
           "width": 2
          },
          "type": "line",
          "x0": 65,
          "x1": 65,
          "y0": 51.63333333333333,
          "y1": 52.3
         },
         {
          "layer": "below",
          "line": {
           "color": "white",
           "width": 2
          },
          "type": "line",
          "x0": 66,
          "x1": 66,
          "y0": 1,
          "y1": 1.6666666666666665
         },
         {
          "layer": "below",
          "line": {
           "color": "white",
           "width": 2
          },
          "type": "line",
          "x0": 66,
          "x1": 66,
          "y0": 23.58333,
          "y1": 24.249996666666668
         },
         {
          "layer": "below",
          "line": {
           "color": "white",
           "width": 2
          },
          "type": "line",
          "x0": 66,
          "x1": 66,
          "y0": 29.08333,
          "y1": 29.749996666666668
         },
         {
          "layer": "below",
          "line": {
           "color": "white",
           "width": 2
          },
          "type": "line",
          "x0": 66,
          "x1": 66,
          "y0": 51.63333333333333,
          "y1": 52.3
         },
         {
          "layer": "below",
          "line": {
           "color": "white",
           "width": 2
          },
          "type": "line",
          "x0": 67,
          "x1": 67,
          "y0": 1,
          "y1": 1.6666666666666665
         },
         {
          "layer": "below",
          "line": {
           "color": "white",
           "width": 2
          },
          "type": "line",
          "x0": 67,
          "x1": 67,
          "y0": 23.58333,
          "y1": 24.249996666666668
         },
         {
          "layer": "below",
          "line": {
           "color": "white",
           "width": 2
          },
          "type": "line",
          "x0": 67,
          "x1": 67,
          "y0": 29.08333,
          "y1": 29.749996666666668
         },
         {
          "layer": "below",
          "line": {
           "color": "white",
           "width": 2
          },
          "type": "line",
          "x0": 67,
          "x1": 67,
          "y0": 51.63333333333333,
          "y1": 52.3
         },
         {
          "layer": "below",
          "line": {
           "color": "white",
           "width": 2
          },
          "type": "line",
          "x0": 68,
          "x1": 68,
          "y0": 1,
          "y1": 1.6666666666666665
         },
         {
          "layer": "below",
          "line": {
           "color": "white",
           "width": 2
          },
          "type": "line",
          "x0": 68,
          "x1": 68,
          "y0": 23.58333,
          "y1": 24.249996666666668
         },
         {
          "layer": "below",
          "line": {
           "color": "white",
           "width": 2
          },
          "type": "line",
          "x0": 68,
          "x1": 68,
          "y0": 29.08333,
          "y1": 29.749996666666668
         },
         {
          "layer": "below",
          "line": {
           "color": "white",
           "width": 2
          },
          "type": "line",
          "x0": 68,
          "x1": 68,
          "y0": 51.63333333333333,
          "y1": 52.3
         },
         {
          "layer": "below",
          "line": {
           "color": "white",
           "width": 2
          },
          "type": "line",
          "x0": 69,
          "x1": 69,
          "y0": 1,
          "y1": 1.6666666666666665
         },
         {
          "layer": "below",
          "line": {
           "color": "white",
           "width": 2
          },
          "type": "line",
          "x0": 69,
          "x1": 69,
          "y0": 23.58333,
          "y1": 24.249996666666668
         },
         {
          "layer": "below",
          "line": {
           "color": "white",
           "width": 2
          },
          "type": "line",
          "x0": 69,
          "x1": 69,
          "y0": 29.08333,
          "y1": 29.749996666666668
         },
         {
          "layer": "below",
          "line": {
           "color": "white",
           "width": 2
          },
          "type": "line",
          "x0": 69,
          "x1": 69,
          "y0": 51.63333333333333,
          "y1": 52.3
         },
         {
          "layer": "below",
          "line": {
           "color": "white",
           "width": 2
          },
          "type": "line",
          "x0": 71,
          "x1": 71,
          "y0": 1,
          "y1": 1.6666666666666665
         },
         {
          "layer": "below",
          "line": {
           "color": "white",
           "width": 2
          },
          "type": "line",
          "x0": 71,
          "x1": 71,
          "y0": 23.58333,
          "y1": 24.249996666666668
         },
         {
          "layer": "below",
          "line": {
           "color": "white",
           "width": 2
          },
          "type": "line",
          "x0": 71,
          "x1": 71,
          "y0": 29.08333,
          "y1": 29.749996666666668
         },
         {
          "layer": "below",
          "line": {
           "color": "white",
           "width": 2
          },
          "type": "line",
          "x0": 71,
          "x1": 71,
          "y0": 51.63333333333333,
          "y1": 52.3
         },
         {
          "layer": "below",
          "line": {
           "color": "white",
           "width": 2
          },
          "type": "line",
          "x0": 72,
          "x1": 72,
          "y0": 1,
          "y1": 1.6666666666666665
         },
         {
          "layer": "below",
          "line": {
           "color": "white",
           "width": 2
          },
          "type": "line",
          "x0": 72,
          "x1": 72,
          "y0": 23.58333,
          "y1": 24.249996666666668
         },
         {
          "layer": "below",
          "line": {
           "color": "white",
           "width": 2
          },
          "type": "line",
          "x0": 72,
          "x1": 72,
          "y0": 29.08333,
          "y1": 29.749996666666668
         },
         {
          "layer": "below",
          "line": {
           "color": "white",
           "width": 2
          },
          "type": "line",
          "x0": 72,
          "x1": 72,
          "y0": 51.63333333333333,
          "y1": 52.3
         },
         {
          "layer": "below",
          "line": {
           "color": "white",
           "width": 2
          },
          "type": "line",
          "x0": 73,
          "x1": 73,
          "y0": 1,
          "y1": 1.6666666666666665
         },
         {
          "layer": "below",
          "line": {
           "color": "white",
           "width": 2
          },
          "type": "line",
          "x0": 73,
          "x1": 73,
          "y0": 23.58333,
          "y1": 24.249996666666668
         },
         {
          "layer": "below",
          "line": {
           "color": "white",
           "width": 2
          },
          "type": "line",
          "x0": 73,
          "x1": 73,
          "y0": 29.08333,
          "y1": 29.749996666666668
         },
         {
          "layer": "below",
          "line": {
           "color": "white",
           "width": 2
          },
          "type": "line",
          "x0": 73,
          "x1": 73,
          "y0": 51.63333333333333,
          "y1": 52.3
         },
         {
          "layer": "below",
          "line": {
           "color": "white",
           "width": 2
          },
          "type": "line",
          "x0": 74,
          "x1": 74,
          "y0": 1,
          "y1": 1.6666666666666665
         },
         {
          "layer": "below",
          "line": {
           "color": "white",
           "width": 2
          },
          "type": "line",
          "x0": 74,
          "x1": 74,
          "y0": 23.58333,
          "y1": 24.249996666666668
         },
         {
          "layer": "below",
          "line": {
           "color": "white",
           "width": 2
          },
          "type": "line",
          "x0": 74,
          "x1": 74,
          "y0": 29.08333,
          "y1": 29.749996666666668
         },
         {
          "layer": "below",
          "line": {
           "color": "white",
           "width": 2
          },
          "type": "line",
          "x0": 74,
          "x1": 74,
          "y0": 51.63333333333333,
          "y1": 52.3
         },
         {
          "layer": "below",
          "line": {
           "color": "white",
           "width": 2
          },
          "type": "line",
          "x0": 75,
          "x1": 75,
          "y0": 1,
          "y1": 1.6666666666666665
         },
         {
          "layer": "below",
          "line": {
           "color": "white",
           "width": 2
          },
          "type": "line",
          "x0": 75,
          "x1": 75,
          "y0": 23.58333,
          "y1": 24.249996666666668
         },
         {
          "layer": "below",
          "line": {
           "color": "white",
           "width": 2
          },
          "type": "line",
          "x0": 75,
          "x1": 75,
          "y0": 29.08333,
          "y1": 29.749996666666668
         },
         {
          "layer": "below",
          "line": {
           "color": "white",
           "width": 2
          },
          "type": "line",
          "x0": 75,
          "x1": 75,
          "y0": 51.63333333333333,
          "y1": 52.3
         },
         {
          "layer": "below",
          "line": {
           "color": "white",
           "width": 2
          },
          "type": "line",
          "x0": 76,
          "x1": 76,
          "y0": 1,
          "y1": 1.6666666666666665
         },
         {
          "layer": "below",
          "line": {
           "color": "white",
           "width": 2
          },
          "type": "line",
          "x0": 76,
          "x1": 76,
          "y0": 23.58333,
          "y1": 24.249996666666668
         },
         {
          "layer": "below",
          "line": {
           "color": "white",
           "width": 2
          },
          "type": "line",
          "x0": 76,
          "x1": 76,
          "y0": 29.08333,
          "y1": 29.749996666666668
         },
         {
          "layer": "below",
          "line": {
           "color": "white",
           "width": 2
          },
          "type": "line",
          "x0": 76,
          "x1": 76,
          "y0": 51.63333333333333,
          "y1": 52.3
         },
         {
          "layer": "below",
          "line": {
           "color": "white",
           "width": 2
          },
          "type": "line",
          "x0": 77,
          "x1": 77,
          "y0": 1,
          "y1": 1.6666666666666665
         },
         {
          "layer": "below",
          "line": {
           "color": "white",
           "width": 2
          },
          "type": "line",
          "x0": 77,
          "x1": 77,
          "y0": 23.58333,
          "y1": 24.249996666666668
         },
         {
          "layer": "below",
          "line": {
           "color": "white",
           "width": 2
          },
          "type": "line",
          "x0": 77,
          "x1": 77,
          "y0": 29.08333,
          "y1": 29.749996666666668
         },
         {
          "layer": "below",
          "line": {
           "color": "white",
           "width": 2
          },
          "type": "line",
          "x0": 77,
          "x1": 77,
          "y0": 51.63333333333333,
          "y1": 52.3
         },
         {
          "layer": "below",
          "line": {
           "color": "white",
           "width": 2
          },
          "type": "line",
          "x0": 78,
          "x1": 78,
          "y0": 1,
          "y1": 1.6666666666666665
         },
         {
          "layer": "below",
          "line": {
           "color": "white",
           "width": 2
          },
          "type": "line",
          "x0": 78,
          "x1": 78,
          "y0": 23.58333,
          "y1": 24.249996666666668
         },
         {
          "layer": "below",
          "line": {
           "color": "white",
           "width": 2
          },
          "type": "line",
          "x0": 78,
          "x1": 78,
          "y0": 29.08333,
          "y1": 29.749996666666668
         },
         {
          "layer": "below",
          "line": {
           "color": "white",
           "width": 2
          },
          "type": "line",
          "x0": 78,
          "x1": 78,
          "y0": 51.63333333333333,
          "y1": 52.3
         },
         {
          "layer": "below",
          "line": {
           "color": "white",
           "width": 2
          },
          "type": "line",
          "x0": 79,
          "x1": 79,
          "y0": 1,
          "y1": 1.6666666666666665
         },
         {
          "layer": "below",
          "line": {
           "color": "white",
           "width": 2
          },
          "type": "line",
          "x0": 79,
          "x1": 79,
          "y0": 23.58333,
          "y1": 24.249996666666668
         },
         {
          "layer": "below",
          "line": {
           "color": "white",
           "width": 2
          },
          "type": "line",
          "x0": 79,
          "x1": 79,
          "y0": 29.08333,
          "y1": 29.749996666666668
         },
         {
          "layer": "below",
          "line": {
           "color": "white",
           "width": 2
          },
          "type": "line",
          "x0": 79,
          "x1": 79,
          "y0": 51.63333333333333,
          "y1": 52.3
         },
         {
          "layer": "below",
          "line": {
           "color": "white",
           "width": 2
          },
          "type": "line",
          "x0": 81,
          "x1": 81,
          "y0": 1,
          "y1": 1.6666666666666665
         },
         {
          "layer": "below",
          "line": {
           "color": "white",
           "width": 2
          },
          "type": "line",
          "x0": 81,
          "x1": 81,
          "y0": 23.58333,
          "y1": 24.249996666666668
         },
         {
          "layer": "below",
          "line": {
           "color": "white",
           "width": 2
          },
          "type": "line",
          "x0": 81,
          "x1": 81,
          "y0": 29.08333,
          "y1": 29.749996666666668
         },
         {
          "layer": "below",
          "line": {
           "color": "white",
           "width": 2
          },
          "type": "line",
          "x0": 81,
          "x1": 81,
          "y0": 51.63333333333333,
          "y1": 52.3
         },
         {
          "layer": "below",
          "line": {
           "color": "white",
           "width": 2
          },
          "type": "line",
          "x0": 82,
          "x1": 82,
          "y0": 1,
          "y1": 1.6666666666666665
         },
         {
          "layer": "below",
          "line": {
           "color": "white",
           "width": 2
          },
          "type": "line",
          "x0": 82,
          "x1": 82,
          "y0": 23.58333,
          "y1": 24.249996666666668
         },
         {
          "layer": "below",
          "line": {
           "color": "white",
           "width": 2
          },
          "type": "line",
          "x0": 82,
          "x1": 82,
          "y0": 29.08333,
          "y1": 29.749996666666668
         },
         {
          "layer": "below",
          "line": {
           "color": "white",
           "width": 2
          },
          "type": "line",
          "x0": 82,
          "x1": 82,
          "y0": 51.63333333333333,
          "y1": 52.3
         },
         {
          "layer": "below",
          "line": {
           "color": "white",
           "width": 2
          },
          "type": "line",
          "x0": 83,
          "x1": 83,
          "y0": 1,
          "y1": 1.6666666666666665
         },
         {
          "layer": "below",
          "line": {
           "color": "white",
           "width": 2
          },
          "type": "line",
          "x0": 83,
          "x1": 83,
          "y0": 23.58333,
          "y1": 24.249996666666668
         },
         {
          "layer": "below",
          "line": {
           "color": "white",
           "width": 2
          },
          "type": "line",
          "x0": 83,
          "x1": 83,
          "y0": 29.08333,
          "y1": 29.749996666666668
         },
         {
          "layer": "below",
          "line": {
           "color": "white",
           "width": 2
          },
          "type": "line",
          "x0": 83,
          "x1": 83,
          "y0": 51.63333333333333,
          "y1": 52.3
         },
         {
          "layer": "below",
          "line": {
           "color": "white",
           "width": 2
          },
          "type": "line",
          "x0": 84,
          "x1": 84,
          "y0": 1,
          "y1": 1.6666666666666665
         },
         {
          "layer": "below",
          "line": {
           "color": "white",
           "width": 2
          },
          "type": "line",
          "x0": 84,
          "x1": 84,
          "y0": 23.58333,
          "y1": 24.249996666666668
         },
         {
          "layer": "below",
          "line": {
           "color": "white",
           "width": 2
          },
          "type": "line",
          "x0": 84,
          "x1": 84,
          "y0": 29.08333,
          "y1": 29.749996666666668
         },
         {
          "layer": "below",
          "line": {
           "color": "white",
           "width": 2
          },
          "type": "line",
          "x0": 84,
          "x1": 84,
          "y0": 51.63333333333333,
          "y1": 52.3
         },
         {
          "layer": "below",
          "line": {
           "color": "white",
           "width": 2
          },
          "type": "line",
          "x0": 85,
          "x1": 85,
          "y0": 1,
          "y1": 1.6666666666666665
         },
         {
          "layer": "below",
          "line": {
           "color": "white",
           "width": 2
          },
          "type": "line",
          "x0": 85,
          "x1": 85,
          "y0": 23.58333,
          "y1": 24.249996666666668
         },
         {
          "layer": "below",
          "line": {
           "color": "white",
           "width": 2
          },
          "type": "line",
          "x0": 85,
          "x1": 85,
          "y0": 29.08333,
          "y1": 29.749996666666668
         },
         {
          "layer": "below",
          "line": {
           "color": "white",
           "width": 2
          },
          "type": "line",
          "x0": 85,
          "x1": 85,
          "y0": 51.63333333333333,
          "y1": 52.3
         },
         {
          "layer": "below",
          "line": {
           "color": "white",
           "width": 2
          },
          "type": "line",
          "x0": 86,
          "x1": 86,
          "y0": 1,
          "y1": 1.6666666666666665
         },
         {
          "layer": "below",
          "line": {
           "color": "white",
           "width": 2
          },
          "type": "line",
          "x0": 86,
          "x1": 86,
          "y0": 23.58333,
          "y1": 24.249996666666668
         },
         {
          "layer": "below",
          "line": {
           "color": "white",
           "width": 2
          },
          "type": "line",
          "x0": 86,
          "x1": 86,
          "y0": 29.08333,
          "y1": 29.749996666666668
         },
         {
          "layer": "below",
          "line": {
           "color": "white",
           "width": 2
          },
          "type": "line",
          "x0": 86,
          "x1": 86,
          "y0": 51.63333333333333,
          "y1": 52.3
         },
         {
          "layer": "below",
          "line": {
           "color": "white",
           "width": 2
          },
          "type": "line",
          "x0": 87,
          "x1": 87,
          "y0": 1,
          "y1": 1.6666666666666665
         },
         {
          "layer": "below",
          "line": {
           "color": "white",
           "width": 2
          },
          "type": "line",
          "x0": 87,
          "x1": 87,
          "y0": 23.58333,
          "y1": 24.249996666666668
         },
         {
          "layer": "below",
          "line": {
           "color": "white",
           "width": 2
          },
          "type": "line",
          "x0": 87,
          "x1": 87,
          "y0": 29.08333,
          "y1": 29.749996666666668
         },
         {
          "layer": "below",
          "line": {
           "color": "white",
           "width": 2
          },
          "type": "line",
          "x0": 87,
          "x1": 87,
          "y0": 51.63333333333333,
          "y1": 52.3
         },
         {
          "layer": "below",
          "line": {
           "color": "white",
           "width": 2
          },
          "type": "line",
          "x0": 88,
          "x1": 88,
          "y0": 1,
          "y1": 1.6666666666666665
         },
         {
          "layer": "below",
          "line": {
           "color": "white",
           "width": 2
          },
          "type": "line",
          "x0": 88,
          "x1": 88,
          "y0": 23.58333,
          "y1": 24.249996666666668
         },
         {
          "layer": "below",
          "line": {
           "color": "white",
           "width": 2
          },
          "type": "line",
          "x0": 88,
          "x1": 88,
          "y0": 29.08333,
          "y1": 29.749996666666668
         },
         {
          "layer": "below",
          "line": {
           "color": "white",
           "width": 2
          },
          "type": "line",
          "x0": 88,
          "x1": 88,
          "y0": 51.63333333333333,
          "y1": 52.3
         },
         {
          "layer": "below",
          "line": {
           "color": "white",
           "width": 2
          },
          "type": "line",
          "x0": 89,
          "x1": 89,
          "y0": 1,
          "y1": 1.6666666666666665
         },
         {
          "layer": "below",
          "line": {
           "color": "white",
           "width": 2
          },
          "type": "line",
          "x0": 89,
          "x1": 89,
          "y0": 23.58333,
          "y1": 24.249996666666668
         },
         {
          "layer": "below",
          "line": {
           "color": "white",
           "width": 2
          },
          "type": "line",
          "x0": 89,
          "x1": 89,
          "y0": 29.08333,
          "y1": 29.749996666666668
         },
         {
          "layer": "below",
          "line": {
           "color": "white",
           "width": 2
          },
          "type": "line",
          "x0": 89,
          "x1": 89,
          "y0": 51.63333333333333,
          "y1": 52.3
         },
         {
          "layer": "below",
          "line": {
           "color": "white",
           "width": 2
          },
          "type": "line",
          "x0": 91,
          "x1": 91,
          "y0": 1,
          "y1": 1.6666666666666665
         },
         {
          "layer": "below",
          "line": {
           "color": "white",
           "width": 2
          },
          "type": "line",
          "x0": 91,
          "x1": 91,
          "y0": 23.58333,
          "y1": 24.249996666666668
         },
         {
          "layer": "below",
          "line": {
           "color": "white",
           "width": 2
          },
          "type": "line",
          "x0": 91,
          "x1": 91,
          "y0": 29.08333,
          "y1": 29.749996666666668
         },
         {
          "layer": "below",
          "line": {
           "color": "white",
           "width": 2
          },
          "type": "line",
          "x0": 91,
          "x1": 91,
          "y0": 51.63333333333333,
          "y1": 52.3
         },
         {
          "layer": "below",
          "line": {
           "color": "white",
           "width": 2
          },
          "type": "line",
          "x0": 92,
          "x1": 92,
          "y0": 1,
          "y1": 1.6666666666666665
         },
         {
          "layer": "below",
          "line": {
           "color": "white",
           "width": 2
          },
          "type": "line",
          "x0": 92,
          "x1": 92,
          "y0": 23.58333,
          "y1": 24.249996666666668
         },
         {
          "layer": "below",
          "line": {
           "color": "white",
           "width": 2
          },
          "type": "line",
          "x0": 92,
          "x1": 92,
          "y0": 29.08333,
          "y1": 29.749996666666668
         },
         {
          "layer": "below",
          "line": {
           "color": "white",
           "width": 2
          },
          "type": "line",
          "x0": 92,
          "x1": 92,
          "y0": 51.63333333333333,
          "y1": 52.3
         },
         {
          "layer": "below",
          "line": {
           "color": "white",
           "width": 2
          },
          "type": "line",
          "x0": 93,
          "x1": 93,
          "y0": 1,
          "y1": 1.6666666666666665
         },
         {
          "layer": "below",
          "line": {
           "color": "white",
           "width": 2
          },
          "type": "line",
          "x0": 93,
          "x1": 93,
          "y0": 23.58333,
          "y1": 24.249996666666668
         },
         {
          "layer": "below",
          "line": {
           "color": "white",
           "width": 2
          },
          "type": "line",
          "x0": 93,
          "x1": 93,
          "y0": 29.08333,
          "y1": 29.749996666666668
         },
         {
          "layer": "below",
          "line": {
           "color": "white",
           "width": 2
          },
          "type": "line",
          "x0": 93,
          "x1": 93,
          "y0": 51.63333333333333,
          "y1": 52.3
         },
         {
          "layer": "below",
          "line": {
           "color": "white",
           "width": 2
          },
          "type": "line",
          "x0": 94,
          "x1": 94,
          "y0": 1,
          "y1": 1.6666666666666665
         },
         {
          "layer": "below",
          "line": {
           "color": "white",
           "width": 2
          },
          "type": "line",
          "x0": 94,
          "x1": 94,
          "y0": 23.58333,
          "y1": 24.249996666666668
         },
         {
          "layer": "below",
          "line": {
           "color": "white",
           "width": 2
          },
          "type": "line",
          "x0": 94,
          "x1": 94,
          "y0": 29.08333,
          "y1": 29.749996666666668
         },
         {
          "layer": "below",
          "line": {
           "color": "white",
           "width": 2
          },
          "type": "line",
          "x0": 94,
          "x1": 94,
          "y0": 51.63333333333333,
          "y1": 52.3
         },
         {
          "layer": "below",
          "line": {
           "color": "white",
           "width": 2
          },
          "type": "line",
          "x0": 95,
          "x1": 95,
          "y0": 1,
          "y1": 1.6666666666666665
         },
         {
          "layer": "below",
          "line": {
           "color": "white",
           "width": 2
          },
          "type": "line",
          "x0": 95,
          "x1": 95,
          "y0": 23.58333,
          "y1": 24.249996666666668
         },
         {
          "layer": "below",
          "line": {
           "color": "white",
           "width": 2
          },
          "type": "line",
          "x0": 95,
          "x1": 95,
          "y0": 29.08333,
          "y1": 29.749996666666668
         },
         {
          "layer": "below",
          "line": {
           "color": "white",
           "width": 2
          },
          "type": "line",
          "x0": 95,
          "x1": 95,
          "y0": 51.63333333333333,
          "y1": 52.3
         },
         {
          "layer": "below",
          "line": {
           "color": "white",
           "width": 2
          },
          "type": "line",
          "x0": 96,
          "x1": 96,
          "y0": 1,
          "y1": 1.6666666666666665
         },
         {
          "layer": "below",
          "line": {
           "color": "white",
           "width": 2
          },
          "type": "line",
          "x0": 96,
          "x1": 96,
          "y0": 23.58333,
          "y1": 24.249996666666668
         },
         {
          "layer": "below",
          "line": {
           "color": "white",
           "width": 2
          },
          "type": "line",
          "x0": 96,
          "x1": 96,
          "y0": 29.08333,
          "y1": 29.749996666666668
         },
         {
          "layer": "below",
          "line": {
           "color": "white",
           "width": 2
          },
          "type": "line",
          "x0": 96,
          "x1": 96,
          "y0": 51.63333333333333,
          "y1": 52.3
         },
         {
          "layer": "below",
          "line": {
           "color": "white",
           "width": 2
          },
          "type": "line",
          "x0": 97,
          "x1": 97,
          "y0": 1,
          "y1": 1.6666666666666665
         },
         {
          "layer": "below",
          "line": {
           "color": "white",
           "width": 2
          },
          "type": "line",
          "x0": 97,
          "x1": 97,
          "y0": 23.58333,
          "y1": 24.249996666666668
         },
         {
          "layer": "below",
          "line": {
           "color": "white",
           "width": 2
          },
          "type": "line",
          "x0": 97,
          "x1": 97,
          "y0": 29.08333,
          "y1": 29.749996666666668
         },
         {
          "layer": "below",
          "line": {
           "color": "white",
           "width": 2
          },
          "type": "line",
          "x0": 97,
          "x1": 97,
          "y0": 51.63333333333333,
          "y1": 52.3
         },
         {
          "layer": "below",
          "line": {
           "color": "white",
           "width": 2
          },
          "type": "line",
          "x0": 98,
          "x1": 98,
          "y0": 1,
          "y1": 1.6666666666666665
         },
         {
          "layer": "below",
          "line": {
           "color": "white",
           "width": 2
          },
          "type": "line",
          "x0": 98,
          "x1": 98,
          "y0": 23.58333,
          "y1": 24.249996666666668
         },
         {
          "layer": "below",
          "line": {
           "color": "white",
           "width": 2
          },
          "type": "line",
          "x0": 98,
          "x1": 98,
          "y0": 29.08333,
          "y1": 29.749996666666668
         },
         {
          "layer": "below",
          "line": {
           "color": "white",
           "width": 2
          },
          "type": "line",
          "x0": 98,
          "x1": 98,
          "y0": 51.63333333333333,
          "y1": 52.3
         },
         {
          "layer": "below",
          "line": {
           "color": "white",
           "width": 2
          },
          "type": "line",
          "x0": 99,
          "x1": 99,
          "y0": 1,
          "y1": 1.6666666666666665
         },
         {
          "layer": "below",
          "line": {
           "color": "white",
           "width": 2
          },
          "type": "line",
          "x0": 99,
          "x1": 99,
          "y0": 23.58333,
          "y1": 24.249996666666668
         },
         {
          "layer": "below",
          "line": {
           "color": "white",
           "width": 2
          },
          "type": "line",
          "x0": 99,
          "x1": 99,
          "y0": 29.08333,
          "y1": 29.749996666666668
         },
         {
          "layer": "below",
          "line": {
           "color": "white",
           "width": 2
          },
          "type": "line",
          "x0": 99,
          "x1": 99,
          "y0": 51.63333333333333,
          "y1": 52.3
         },
         {
          "layer": "below",
          "line": {
           "color": "white",
           "width": 2
          },
          "type": "line",
          "x0": 101,
          "x1": 101,
          "y0": 1,
          "y1": 1.6666666666666665
         },
         {
          "layer": "below",
          "line": {
           "color": "white",
           "width": 2
          },
          "type": "line",
          "x0": 101,
          "x1": 101,
          "y0": 23.58333,
          "y1": 24.249996666666668
         },
         {
          "layer": "below",
          "line": {
           "color": "white",
           "width": 2
          },
          "type": "line",
          "x0": 101,
          "x1": 101,
          "y0": 29.08333,
          "y1": 29.749996666666668
         },
         {
          "layer": "below",
          "line": {
           "color": "white",
           "width": 2
          },
          "type": "line",
          "x0": 101,
          "x1": 101,
          "y0": 51.63333333333333,
          "y1": 52.3
         },
         {
          "layer": "below",
          "line": {
           "color": "white",
           "width": 2
          },
          "type": "line",
          "x0": 102,
          "x1": 102,
          "y0": 1,
          "y1": 1.6666666666666665
         },
         {
          "layer": "below",
          "line": {
           "color": "white",
           "width": 2
          },
          "type": "line",
          "x0": 102,
          "x1": 102,
          "y0": 23.58333,
          "y1": 24.249996666666668
         },
         {
          "layer": "below",
          "line": {
           "color": "white",
           "width": 2
          },
          "type": "line",
          "x0": 102,
          "x1": 102,
          "y0": 29.08333,
          "y1": 29.749996666666668
         },
         {
          "layer": "below",
          "line": {
           "color": "white",
           "width": 2
          },
          "type": "line",
          "x0": 102,
          "x1": 102,
          "y0": 51.63333333333333,
          "y1": 52.3
         },
         {
          "layer": "below",
          "line": {
           "color": "white",
           "width": 2
          },
          "type": "line",
          "x0": 103,
          "x1": 103,
          "y0": 1,
          "y1": 1.6666666666666665
         },
         {
          "layer": "below",
          "line": {
           "color": "white",
           "width": 2
          },
          "type": "line",
          "x0": 103,
          "x1": 103,
          "y0": 23.58333,
          "y1": 24.249996666666668
         },
         {
          "layer": "below",
          "line": {
           "color": "white",
           "width": 2
          },
          "type": "line",
          "x0": 103,
          "x1": 103,
          "y0": 29.08333,
          "y1": 29.749996666666668
         },
         {
          "layer": "below",
          "line": {
           "color": "white",
           "width": 2
          },
          "type": "line",
          "x0": 103,
          "x1": 103,
          "y0": 51.63333333333333,
          "y1": 52.3
         },
         {
          "layer": "below",
          "line": {
           "color": "white",
           "width": 2
          },
          "type": "line",
          "x0": 104,
          "x1": 104,
          "y0": 1,
          "y1": 1.6666666666666665
         },
         {
          "layer": "below",
          "line": {
           "color": "white",
           "width": 2
          },
          "type": "line",
          "x0": 104,
          "x1": 104,
          "y0": 23.58333,
          "y1": 24.249996666666668
         },
         {
          "layer": "below",
          "line": {
           "color": "white",
           "width": 2
          },
          "type": "line",
          "x0": 104,
          "x1": 104,
          "y0": 29.08333,
          "y1": 29.749996666666668
         },
         {
          "layer": "below",
          "line": {
           "color": "white",
           "width": 2
          },
          "type": "line",
          "x0": 104,
          "x1": 104,
          "y0": 51.63333333333333,
          "y1": 52.3
         },
         {
          "layer": "below",
          "line": {
           "color": "white",
           "width": 2
          },
          "type": "line",
          "x0": 105,
          "x1": 105,
          "y0": 1,
          "y1": 1.6666666666666665
         },
         {
          "layer": "below",
          "line": {
           "color": "white",
           "width": 2
          },
          "type": "line",
          "x0": 105,
          "x1": 105,
          "y0": 23.58333,
          "y1": 24.249996666666668
         },
         {
          "layer": "below",
          "line": {
           "color": "white",
           "width": 2
          },
          "type": "line",
          "x0": 105,
          "x1": 105,
          "y0": 29.08333,
          "y1": 29.749996666666668
         },
         {
          "layer": "below",
          "line": {
           "color": "white",
           "width": 2
          },
          "type": "line",
          "x0": 105,
          "x1": 105,
          "y0": 51.63333333333333,
          "y1": 52.3
         },
         {
          "layer": "below",
          "line": {
           "color": "white",
           "width": 2
          },
          "type": "line",
          "x0": 106,
          "x1": 106,
          "y0": 1,
          "y1": 1.6666666666666665
         },
         {
          "layer": "below",
          "line": {
           "color": "white",
           "width": 2
          },
          "type": "line",
          "x0": 106,
          "x1": 106,
          "y0": 23.58333,
          "y1": 24.249996666666668
         },
         {
          "layer": "below",
          "line": {
           "color": "white",
           "width": 2
          },
          "type": "line",
          "x0": 106,
          "x1": 106,
          "y0": 29.08333,
          "y1": 29.749996666666668
         },
         {
          "layer": "below",
          "line": {
           "color": "white",
           "width": 2
          },
          "type": "line",
          "x0": 106,
          "x1": 106,
          "y0": 51.63333333333333,
          "y1": 52.3
         },
         {
          "layer": "below",
          "line": {
           "color": "white",
           "width": 2
          },
          "type": "line",
          "x0": 107,
          "x1": 107,
          "y0": 1,
          "y1": 1.6666666666666665
         },
         {
          "layer": "below",
          "line": {
           "color": "white",
           "width": 2
          },
          "type": "line",
          "x0": 107,
          "x1": 107,
          "y0": 23.58333,
          "y1": 24.249996666666668
         },
         {
          "layer": "below",
          "line": {
           "color": "white",
           "width": 2
          },
          "type": "line",
          "x0": 107,
          "x1": 107,
          "y0": 29.08333,
          "y1": 29.749996666666668
         },
         {
          "layer": "below",
          "line": {
           "color": "white",
           "width": 2
          },
          "type": "line",
          "x0": 107,
          "x1": 107,
          "y0": 51.63333333333333,
          "y1": 52.3
         },
         {
          "layer": "below",
          "line": {
           "color": "white",
           "width": 2
          },
          "type": "line",
          "x0": 108,
          "x1": 108,
          "y0": 1,
          "y1": 1.6666666666666665
         },
         {
          "layer": "below",
          "line": {
           "color": "white",
           "width": 2
          },
          "type": "line",
          "x0": 108,
          "x1": 108,
          "y0": 23.58333,
          "y1": 24.249996666666668
         },
         {
          "layer": "below",
          "line": {
           "color": "white",
           "width": 2
          },
          "type": "line",
          "x0": 108,
          "x1": 108,
          "y0": 29.08333,
          "y1": 29.749996666666668
         },
         {
          "layer": "below",
          "line": {
           "color": "white",
           "width": 2
          },
          "type": "line",
          "x0": 108,
          "x1": 108,
          "y0": 51.63333333333333,
          "y1": 52.3
         },
         {
          "layer": "below",
          "line": {
           "color": "white",
           "width": 2
          },
          "type": "line",
          "x0": 109,
          "x1": 109,
          "y0": 1,
          "y1": 1.6666666666666665
         },
         {
          "layer": "below",
          "line": {
           "color": "white",
           "width": 2
          },
          "type": "line",
          "x0": 109,
          "x1": 109,
          "y0": 23.58333,
          "y1": 24.249996666666668
         },
         {
          "layer": "below",
          "line": {
           "color": "white",
           "width": 2
          },
          "type": "line",
          "x0": 109,
          "x1": 109,
          "y0": 29.08333,
          "y1": 29.749996666666668
         },
         {
          "layer": "below",
          "line": {
           "color": "white",
           "width": 2
          },
          "type": "line",
          "x0": 109,
          "x1": 109,
          "y0": 51.63333333333333,
          "y1": 52.3
         },
         {
          "fillcolor": "white",
          "layer": "below",
          "line": {
           "color": "white"
          },
          "path": "M 18.013,4.68 L 18.013,5.72 A 3.257,3.257 180.0 0,1 18.014,5.789 A 1.126,1.126 180.0 0,1 17.991,6.057 Q 17.963,6.16 17.893,6.1899999999999995 Q 17.823,6.22 17.663,6.22 L 17.418,6.22 A 0.095,0.095 180.0 0,0 17.328,6.34 Q 17.333000000000002,6.415 17.358,6.432 Q 17.383,6.45 17.421,6.45 L 17.473,6.45 Q 17.683,6.45 17.883,6.5169999999999995 Q 18.083000000000002,6.585 18.318,6.68 Q 18.348,6.6899999999999995 18.368000000000002,6.6899999999999995 Q 18.448,6.6899999999999995 18.448,6.574999999999999 L 18.448,4.68 Q 18.448,4.46 18.501,4.365 Q 18.553,4.27 18.666,4.245 Q 18.778000000000002,4.22 19.028000000000002,4.22 L 19.078,4.22 Q 19.118000000000002,4.22 19.136,4.199999999999999 Q 19.153000000000002,4.18 19.158,4.12 Q 19.158,4.0 19.068,4.0 Q 18.708000000000002,4.015000000000001 18.228,4.015000000000001 Q 17.753,4.015000000000001 17.393,4.0 A 0.095,0.095 180.0 0,0 17.303,4.12 Q 17.308,4.18 17.326,4.199999999999999 Q 17.343,4.22 17.383,4.22 Q 17.663,4.22 17.781000000000002,4.242 Q 17.898,4.265000000000001 17.956,4.359999999999999 Q 18.013,4.455 18.013,4.68 L 18.013,4.68",
          "type": "path"
         },
         {
          "fillcolor": "white",
          "layer": "below",
          "line": {
           "color": "white"
          },
          "path": "M 21.69,6.7509999999999994 Q 21.3,6.7509999999999994 21.033,6.561 Q 20.765,6.371 20.633,6.056 Q 20.5,5.741 20.5,5.371 Q 20.5,4.996 20.633,4.686 Q 20.765,4.376 21.033,4.188 Q 21.3,4.001 21.69,4.001 Q 22.06,4.001 22.33,4.191 Q 22.6,4.381 22.740000000000002,4.696 Q 22.88,5.011 22.88,5.371 Q 22.88,5.731 22.740000000000002,6.045999999999999 Q 22.6,6.361000000000001 22.33,6.556 Q 22.06,6.7509999999999994 21.69,6.7509999999999994 M 21.695,6.566 Q 22.03,6.566 22.215,6.256 Q 22.4,5.946 22.4,5.371 Q 22.4,4.796 22.215,4.491 Q 22.03,4.186 21.695,4.186 Q 21.35,4.186 21.165,4.4879999999999995 Q 20.98,4.791 20.98,5.371 Q 20.98,5.9510000000000005 21.165,6.258 Q 21.35,6.566 21.695,6.566",
          "type": "path"
         },
         {
          "fillcolor": "white",
          "layer": "below",
          "line": {
           "color": "white"
          },
          "path": "M 18.19,49.751 Q 17.8,49.751 17.533,49.561 Q 17.265,49.371 17.133,49.056 Q 17.0,48.741 17.0,48.371 Q 17.0,47.996 17.133,47.686 Q 17.265,47.376 17.533,47.188 Q 17.8,47.001 18.19,47.001 Q 18.56,47.001 18.83,47.191 Q 19.1,47.381 19.240000000000002,47.696 Q 19.38,48.011 19.38,48.371 Q 19.38,48.731 19.240000000000002,49.046 Q 19.1,49.361 18.83,49.556 Q 18.56,49.751 18.19,49.751 M 18.195,49.566 Q 18.53,49.566 18.715,49.256 Q 18.9,48.946 18.9,48.371 Q 18.9,47.796 18.715,47.491 Q 18.53,47.186 18.195,47.186 Q 17.85,47.186 17.665,47.488 Q 17.48,47.791 17.48,48.371 Q 17.48,48.951 17.665,49.258 Q 17.85,49.566 18.195,49.566",
          "type": "path"
         },
         {
          "fillcolor": "white",
          "layer": "below",
          "line": {
           "color": "white"
          },
          "path": "M 21.644647615158764,49.01 L 21.644647615158764,47.97 A 3.257,3.257 360.0 0,1 21.643647615158763,47.901 A 1.126,1.126 360.0 0,1 21.666647615158762,47.633 Q 21.69464761515876,47.53 21.76464761515876,47.5 Q 21.83464761515876,47.47 21.99464761515876,47.47 L 22.239647615158763,47.47 A 0.095,0.095 360.0 0,0 22.329647615158763,47.35 Q 22.324647615158764,47.275 22.29964761515876,47.258 Q 22.274647615158763,47.24 22.236647615158763,47.24 L 22.184647615158763,47.24 Q 21.974647615158762,47.24 21.774647615158763,47.173 Q 21.574647615158764,47.105 21.33964761515876,47.01 Q 21.309647615158763,47.0 21.289647615158763,47.0 Q 21.20964761515876,47.0 21.20964761515876,47.115 L 21.20964761515876,49.01 Q 21.20964761515876,49.23 21.15664761515876,49.325 Q 21.10464761515876,49.42 20.99164761515876,49.445 Q 20.879647615158763,49.47 20.629647615158763,49.47 L 20.579647615158763,49.47 Q 20.539647615158763,49.47 20.521647615158763,49.49 Q 20.504647615158763,49.51 20.49964761515876,49.57 Q 20.49964761515876,49.69 20.589647615158764,49.69 Q 20.949647615158764,49.675 21.429647615158764,49.675 Q 21.904647615158762,49.675 22.26464761515876,49.69 A 0.095,0.095 360.0 0,0 22.35464761515876,49.57 Q 22.349647615158762,49.51 22.33164761515876,49.49 Q 22.314647615158762,49.47 22.274647615158763,49.47 Q 21.99464761515876,49.47 21.876647615158763,49.448 Q 21.759647615158762,49.425 21.701647615158763,49.33 Q 21.644647615158764,49.235 21.644647615158764,49.01 L 21.644647615158764,49.01",
          "type": "path"
         },
         {
          "fillcolor": "white",
          "layer": "below",
          "line": {
           "color": "white"
          },
          "path": "M 27.747,4.38 L 27.747,4.355 L 29.087,4.355 A 0.449,0.449 180.0 0,0 29.269000000000002,4.327 Q 29.327,4.3 29.327,4.18 Q 29.327,4.0 29.152,4.0 L 27.477,4.0 Q 27.302,4.0 27.302,4.18 Q 27.307000000000002,4.285 27.359,4.35 Q 27.412,4.415 27.532,4.495 Q 27.927,4.76 28.144000000000002,4.932 Q 28.362000000000002,5.105 28.537,5.37 Q 28.712,5.635 28.712,5.965 Q 28.712,6.205 28.584,6.337 Q 28.457,6.47 28.227,6.47 Q 28.032,6.47 27.904,6.372 Q 27.777,6.275 27.777,6.105 Q 27.777,6.02 27.817,5.962 Q 27.857,5.904999999999999 27.899,5.87 Q 27.942,5.835 27.942,5.83 Q 27.942,5.795 27.874000000000002,5.745 Q 27.807000000000002,5.695 27.712,5.695 Q 27.557000000000002,5.695 27.464000000000002,5.792 Q 27.372,5.89 27.372,6.04 Q 27.372,6.24 27.507,6.38 Q 27.642,6.52 27.849,6.585 Q 28.057000000000002,6.65 28.272000000000002,6.65 Q 28.647000000000002,6.65 28.919,6.465 Q 29.192,6.279999999999999 29.192,5.9 Q 29.192,5.625 29.042,5.4 Q 28.892,5.175 28.684,5.0169999999999995 Q 28.477,4.859999999999999 28.142,4.645 Q 27.877000000000002,4.48 27.747,4.38",
          "type": "path"
         },
         {
          "fillcolor": "white",
          "layer": "below",
          "line": {
           "color": "white"
          },
          "path": "M 31.69,6.7509999999999994 Q 31.3,6.7509999999999994 31.033,6.561 Q 30.765,6.371 30.633,6.056 Q 30.5,5.741 30.5,5.371 Q 30.5,4.996 30.633,4.686 Q 30.765,4.376 31.033,4.188 Q 31.3,4.001 31.69,4.001 Q 32.06,4.001 32.33,4.191 Q 32.6,4.381 32.74,4.696 Q 32.88,5.011 32.88,5.371 Q 32.88,5.731 32.74,6.045999999999999 Q 32.6,6.361000000000001 32.33,6.556 Q 32.06,6.7509999999999994 31.69,6.7509999999999994 M 31.695,6.566 Q 32.03,6.566 32.215,6.256 Q 32.4,5.946 32.4,5.371 Q 32.4,4.796 32.215,4.491 Q 32.03,4.186 31.695,4.186 Q 31.35,4.186 31.165,4.4879999999999995 Q 30.98,4.791 30.98,5.371 Q 30.98,5.9510000000000005 31.165,6.258 Q 31.35,6.566 31.695,6.566",
          "type": "path"
         },
         {
          "fillcolor": "white",
          "layer": "below",
          "line": {
           "color": "white"
          },
          "path": "M 28.19,49.751 Q 27.8,49.751 27.533,49.561 Q 27.265,49.371 27.133,49.056 Q 27.0,48.741 27.0,48.371 Q 27.0,47.996 27.133,47.686 Q 27.265,47.376 27.533,47.188 Q 27.8,47.001 28.19,47.001 Q 28.56,47.001 28.83,47.191 Q 29.1,47.381 29.240000000000002,47.696 Q 29.38,48.011 29.38,48.371 Q 29.38,48.731 29.240000000000002,49.046 Q 29.1,49.361 28.83,49.556 Q 28.56,49.751 28.19,49.751 M 28.195,49.566 Q 28.53,49.566 28.715,49.256 Q 28.9,48.946 28.9,48.371 Q 28.9,47.796 28.715,47.491 Q 28.53,47.186 28.195,47.186 Q 27.85,47.186 27.665,47.488 Q 27.48,47.791 27.48,48.371 Q 27.48,48.951 27.665,49.258 Q 27.85,49.566 28.195,49.566",
          "type": "path"
         },
         {
          "fillcolor": "white",
          "layer": "below",
          "line": {
           "color": "white"
          },
          "path": "M 32.082,49.27 L 32.082,49.295 L 30.742,49.295 A 0.449,0.449 360.0 0,0 30.56,49.323 Q 30.502,49.35 30.502,49.47 Q 30.502,49.65 30.677,49.65 L 32.352,49.65 Q 32.527,49.65 32.527,49.47 Q 32.522,49.365 32.47,49.3 Q 32.417,49.235 32.297,49.155 Q 31.902,48.89 31.685,48.718 Q 31.467,48.545 31.292,48.28 Q 31.117,48.015 31.117,47.685 Q 31.117,47.445 31.245,47.313 Q 31.372,47.18 31.602,47.18 Q 31.797,47.18 31.925,47.278 Q 32.052,47.375 32.052,47.545 Q 32.052,47.63 32.012,47.688 Q 31.972,47.745 31.93,47.78 Q 31.887,47.815 31.887,47.82 Q 31.887,47.855 31.955,47.905 Q 32.022,47.955 32.117,47.955 Q 32.272,47.955 32.365,47.858 Q 32.457,47.76 32.457,47.61 Q 32.457,47.41 32.322,47.27 Q 32.187,47.13 31.98,47.065 Q 31.772,47.0 31.557,47.0 Q 31.182,47.0 30.91,47.185 Q 30.637,47.37 30.637,47.75 Q 30.637,48.025 30.787,48.25 Q 30.937,48.475 31.145,48.633 Q 31.352,48.79 31.687,49.005 Q 31.951999999999998,49.17 32.082,49.27",
          "type": "path"
         },
         {
          "fillcolor": "white",
          "layer": "below",
          "line": {
           "color": "white"
          },
          "path": "M 38.199999999999996,5.336 L 38.015,5.336 Q 37.98,5.336 37.959999999999994,5.366 Q 37.94,5.396 37.94,5.436 Q 37.94,5.481 37.959999999999994,5.513 Q 37.98,5.546 38.015,5.551 L 38.199999999999996,5.551 Q 38.394999999999996,5.571 38.513,5.726 Q 38.629999999999995,5.881 38.629999999999995,6.101 Q 38.629999999999995,6.341 38.495,6.468 Q 38.36,6.596 38.18,6.596 Q 38.01,6.596 37.888,6.498 Q 37.765,6.401 37.765,6.231 Q 37.765,6.121 37.808,6.083 Q 37.849999999999994,6.046 37.89,6.038 Q 37.93,6.031000000000001 37.93,6.026 Q 37.93,5.991 37.863,5.941 Q 37.794999999999995,5.891 37.699999999999996,5.891 Q 37.54,5.891 37.449999999999996,5.991 Q 37.36,6.091 37.36,6.246 Q 37.36,6.491 37.589999999999996,6.6259999999999994 Q 37.82,6.761 38.184999999999995,6.761 Q 38.574999999999996,6.761 38.83,6.591 Q 39.084999999999994,6.420999999999999 39.084999999999994,6.101 Q 39.084999999999994,5.891 38.937999999999995,5.711 Q 38.79,5.531 38.515,5.4559999999999995 L 38.515,5.436 Q 38.794999999999995,5.406 39.0,5.258 Q 39.205,5.111 39.205,4.791 Q 39.205,4.386 38.91,4.193 Q 38.614999999999995,4.001 38.169999999999995,4.001 Q 37.805,4.0009999999999994 37.553,4.143 Q 37.3,4.286 37.3,4.561 Q 37.3,4.7059999999999995 37.39,4.811 Q 37.48,4.916 37.64,4.916 Q 37.735,4.916 37.803,4.866 Q 37.87,4.816 37.87,4.781 Q 37.87,4.776 37.824999999999996,4.743 Q 37.779999999999994,4.711 37.742999999999995,4.656000000000001 Q 37.705,4.601 37.705,4.516 Q 37.705,4.361000000000001 37.837999999999994,4.273 Q 37.97,4.186 38.184999999999995,4.186 Q 38.72,4.186 38.72,4.781 Q 38.72,5.026 38.589999999999996,5.173 Q 38.459999999999994,5.321 38.199999999999996,5.336",
          "type": "path"
         },
         {
          "fillcolor": "white",
          "layer": "below",
          "line": {
           "color": "white"
          },
          "path": "M 41.69,6.7509999999999994 Q 41.3,6.7509999999999994 41.033,6.561 Q 40.765,6.371 40.633,6.056 Q 40.5,5.741 40.5,5.371 Q 40.5,4.996 40.633,4.686 Q 40.765,4.376 41.033,4.188 Q 41.3,4.001 41.69,4.001 Q 42.06,4.001 42.33,4.191 Q 42.6,4.381 42.74,4.696 Q 42.88,5.011 42.88,5.371 Q 42.88,5.731 42.74,6.045999999999999 Q 42.6,6.361000000000001 42.33,6.556 Q 42.06,6.7509999999999994 41.69,6.7509999999999994 M 41.695,6.566 Q 42.03,6.566 42.215,6.256 Q 42.4,5.946 42.4,5.371 Q 42.4,4.796 42.215,4.491 Q 42.03,4.186 41.695,4.186 Q 41.35,4.186 41.165,4.4879999999999995 Q 40.98,4.791 40.98,5.371 Q 40.98,5.9510000000000005 41.165,6.258 Q 41.35,6.566 41.695,6.566",
          "type": "path"
         },
         {
          "fillcolor": "white",
          "layer": "below",
          "line": {
           "color": "white"
          },
          "path": "M 38.19,49.751 Q 37.8,49.751 37.533,49.561 Q 37.265,49.371 37.133,49.056 Q 37.0,48.741 37.0,48.371 Q 37.0,47.996 37.133,47.686 Q 37.265,47.376 37.533,47.188 Q 37.8,47.001 38.19,47.001 Q 38.56,47.001 38.83,47.191 Q 39.1,47.381 39.24,47.696 Q 39.38,48.011 39.38,48.371 Q 39.38,48.731 39.24,49.046 Q 39.1,49.361 38.83,49.556 Q 38.56,49.751 38.19,49.751 M 38.195,49.566 Q 38.53,49.566 38.715,49.256 Q 38.9,48.946 38.9,48.371 Q 38.9,47.796 38.715,47.491 Q 38.53,47.186 38.195,47.186 Q 37.85,47.186 37.665,47.488 Q 37.48,47.791 37.48,48.371 Q 37.48,48.951 37.665,49.258 Q 37.85,49.566 38.195,49.566",
          "type": "path"
         },
         {
          "fillcolor": "white",
          "layer": "below",
          "line": {
           "color": "white"
          },
          "path": "M 41.505,48.426 L 41.69,48.426 Q 41.725,48.426 41.745,48.396 Q 41.765,48.366 41.765,48.326 Q 41.765,48.281 41.745,48.249 Q 41.725,48.216 41.69,48.211 L 41.505,48.211 Q 41.31,48.191 41.192,48.036 Q 41.075,47.881 41.075,47.661 Q 41.075,47.421 41.21,47.294 Q 41.345,47.166 41.525,47.166 Q 41.695,47.166 41.817,47.264 Q 41.94,47.361 41.94,47.531 Q 41.94,47.641 41.897,47.679 Q 41.855,47.716 41.815,47.724 Q 41.775,47.731 41.775,47.736 Q 41.775,47.771 41.842,47.821 Q 41.91,47.871 42.005,47.871 Q 42.165,47.871 42.255,47.771 Q 42.345,47.671 42.345,47.516 Q 42.345,47.271 42.115,47.136 Q 41.885,47.001 41.52,47.001 Q 41.13,47.001 40.875,47.171 Q 40.62,47.341 40.62,47.661 Q 40.62,47.871 40.767,48.051 Q 40.915,48.231 41.19,48.306 L 41.19,48.326 Q 40.91,48.356 40.705,48.504 Q 40.5,48.651 40.5,48.971000000000004 Q 40.5,49.376 40.795,49.569 Q 41.09,49.761 41.535,49.761 Q 41.9,49.761 42.152,49.619 Q 42.405,49.476 42.405,49.201 Q 42.405,49.056 42.315,48.951 Q 42.225,48.846000000000004 42.065,48.846000000000004 Q 41.97,48.846000000000004 41.902,48.896 Q 41.835,48.946 41.835,48.981 Q 41.835,48.986 41.88,49.019 Q 41.925,49.051 41.962,49.106 Q 42.0,49.161 42.0,49.246 Q 42.0,49.400999999999996 41.867,49.489 Q 41.735,49.576 41.52,49.576 Q 40.985,49.576 40.985,48.981 Q 40.985,48.736 41.115,48.589 Q 41.245,48.441 41.505,48.426",
          "type": "path"
         },
         {
          "fillcolor": "white",
          "layer": "below",
          "line": {
           "color": "white"
          },
          "path": "M 48.654999999999994,4.096 L 48.654999999999994,4.861 L 47.459999999999994,4.861 Q 47.379999999999995,4.861 47.339999999999996,4.911 Q 47.3,4.961 47.3,5.036 Q 47.3,5.101 47.334999999999994,5.146 L 48.739999999999995,6.680999999999999 Q 48.79,6.731 48.894999999999996,6.731 Q 48.974999999999994,6.731 49.029999999999994,6.689 Q 49.084999999999994,6.646 49.089999999999996,6.555999999999999 L 49.089999999999996,5.106 L 49.39,5.106 Q 49.459999999999994,5.106 49.489999999999995,5.0889999999999995 Q 49.519999999999996,5.071 49.525,4.986 Q 49.525,4.931 49.503,4.896 Q 49.48,4.861 49.43,4.861 L 49.089999999999996,4.861 L 49.089999999999996,4.096 Q 49.089999999999996,4.051 49.025,4.026 Q 48.959999999999994,4.0009999999999994 48.875,4.0009999999999994 Q 48.79,4.0009999999999994 48.724999999999994,4.026 Q 48.66,4.051 48.654999999999994,4.096 M 48.654999999999994,6.291 L 47.589999999999996,5.106 L 48.654999999999994,5.106 L 48.654999999999994,6.291",
          "type": "path"
         },
         {
          "fillcolor": "white",
          "layer": "below",
          "line": {
           "color": "white"
          },
          "path": "M 51.69,6.7509999999999994 Q 51.3,6.7509999999999994 51.033,6.561 Q 50.765,6.371 50.633,6.056 Q 50.5,5.741 50.5,5.371 Q 50.5,4.996 50.633,4.686 Q 50.765,4.376 51.033,4.188 Q 51.3,4.001 51.69,4.001 Q 52.06,4.001 52.33,4.191 Q 52.6,4.381 52.74,4.696 Q 52.88,5.011 52.88,5.371 Q 52.88,5.731 52.74,6.045999999999999 Q 52.6,6.361000000000001 52.33,6.556 Q 52.06,6.7509999999999994 51.69,6.7509999999999994 M 51.695,6.566 Q 52.03,6.566 52.215,6.256 Q 52.4,5.946 52.4,5.371 Q 52.4,4.796 52.215,4.491 Q 52.03,4.186 51.695,4.186 Q 51.35,4.186 51.165,4.4879999999999995 Q 50.98,4.791 50.98,5.371 Q 50.98,5.9510000000000005 51.165,6.258 Q 51.35,6.566 51.695,6.566",
          "type": "path"
         },
         {
          "fillcolor": "white",
          "layer": "below",
          "line": {
           "color": "white"
          },
          "path": "M 48.19,49.751 Q 47.8,49.751 47.533,49.561 Q 47.265,49.371 47.133,49.056 Q 47.0,48.741 47.0,48.371 Q 47.0,47.996 47.133,47.686 Q 47.265,47.376 47.533,47.188 Q 47.8,47.001 48.19,47.001 Q 48.56,47.001 48.83,47.191 Q 49.1,47.381 49.24,47.696 Q 49.38,48.011 49.38,48.371 Q 49.38,48.731 49.24,49.046 Q 49.1,49.361 48.83,49.556 Q 48.56,49.751 48.19,49.751 M 48.195,49.566 Q 48.53,49.566 48.715,49.256 Q 48.9,48.946 48.9,48.371 Q 48.9,47.796 48.715,47.491 Q 48.53,47.186 48.195,47.186 Q 47.85,47.186 47.665,47.488 Q 47.48,47.791 47.48,48.371 Q 47.48,48.951 47.665,49.258 Q 47.85,49.566 48.195,49.566",
          "type": "path"
         },
         {
          "fillcolor": "white",
          "layer": "below",
          "line": {
           "color": "white"
          },
          "path": "M 51.37,49.636 L 51.37,48.871 L 52.565,48.871 Q 52.645,48.871 52.685,48.821 Q 52.725,48.771 52.725,48.696 Q 52.725,48.631 52.69,48.586 L 51.285,47.051 Q 51.235,47.001 51.13,47.001 Q 51.05,47.001 50.995,47.043 Q 50.94,47.086 50.935,47.176 L 50.935,48.626 L 50.635,48.626 Q 50.565,48.626 50.535,48.643 Q 50.505,48.661 50.5,48.746 Q 50.5,48.801 50.522,48.836 Q 50.545,48.871 50.595,48.871 L 50.935,48.871 L 50.935,49.636 Q 50.935,49.681 51.0,49.706 Q 51.065,49.731 51.15,49.731 Q 51.235,49.731 51.3,49.706 Q 51.365,49.681 51.37,49.636 M 51.37,47.441 L 52.435,48.626 L 51.37,48.626 L 51.37,47.441",
          "type": "path"
         },
         {
          "fillcolor": "white",
          "layer": "below",
          "line": {
           "color": "white"
          },
          "path": "M 57.434999999999995,5.45 L 57.44,5.51 L 57.595,6.7 L 58.97,6.7 Q 59.04,6.7 59.083,6.655 Q 59.125,6.61 59.125,6.53 Q 59.125,6.345000000000001 58.934999999999995,6.345000000000001 L 57.824999999999996,6.345000000000001 L 57.72,5.65 Q 57.94,5.785 58.26,5.785 Q 58.474999999999994,5.785 58.693,5.69 Q 58.91,5.595000000000001 59.055,5.4 Q 59.199999999999996,5.205 59.199999999999996,4.915 Q 59.199999999999996,4.625 59.058,4.417 Q 58.915,4.21 58.678,4.105 Q 58.44,4.0 58.16,4.0 Q 57.79,4.0 57.544999999999995,4.135 Q 57.3,4.27 57.3,4.555 Q 57.3,4.71 57.393,4.827 Q 57.485,4.945 57.64,4.945 Q 57.735,4.945 57.803,4.8950000000000005 Q 57.87,4.845000000000001 57.87,4.8100000000000005 Q 57.87,4.805 57.824999999999996,4.765000000000001 Q 57.779999999999994,4.725 57.742999999999995,4.667 Q 57.705,4.61 57.705,4.535 Q 57.705,4.365 57.827999999999996,4.275 Q 57.949999999999996,4.1850000000000005 58.169999999999995,4.1850000000000005 Q 58.445,4.1850000000000005 58.583,4.380000000000001 Q 58.72,4.575 58.72,4.890000000000001 Q 58.72,5.18 58.58,5.372 Q 58.44,5.565 58.144999999999996,5.565 Q 58.01,5.565 57.913,5.522 Q 57.815,5.48 57.705,5.4 Q 57.64,5.355 57.598,5.332 Q 57.555,5.3100000000000005 57.515,5.3100000000000005 Q 57.434999999999995,5.3100000000000005 57.434999999999995,5.45 L 57.434999999999995,5.45",
          "type": "path"
         },
         {
          "fillcolor": "white",
          "layer": "below",
          "line": {
           "color": "white"
          },
          "path": "M 61.69,6.7509999999999994 Q 61.3,6.7509999999999994 61.033,6.561 Q 60.765,6.371 60.633,6.056 Q 60.5,5.741 60.5,5.371 Q 60.5,4.996 60.633,4.686 Q 60.765,4.376 61.033,4.188 Q 61.3,4.001 61.69,4.001 Q 62.06,4.001 62.33,4.191 Q 62.6,4.381 62.74,4.696 Q 62.88,5.011 62.88,5.371 Q 62.88,5.731 62.74,6.045999999999999 Q 62.6,6.361000000000001 62.33,6.556 Q 62.06,6.7509999999999994 61.69,6.7509999999999994 M 61.695,6.566 Q 62.03,6.566 62.215,6.256 Q 62.4,5.946 62.4,5.371 Q 62.4,4.796 62.215,4.491 Q 62.03,4.186 61.695,4.186 Q 61.35,4.186 61.165,4.4879999999999995 Q 60.98,4.791 60.98,5.371 Q 60.98,5.9510000000000005 61.165,6.258 Q 61.35,6.566 61.695,6.566",
          "type": "path"
         },
         {
          "fillcolor": "white",
          "layer": "below",
          "line": {
           "color": "white"
          },
          "path": "M 58.19,49.751 Q 57.8,49.751 57.533,49.561 Q 57.265,49.371 57.133,49.056 Q 57.0,48.741 57.0,48.371 Q 57.0,47.996 57.133,47.686 Q 57.265,47.376 57.533,47.188 Q 57.8,47.001 58.19,47.001 Q 58.56,47.001 58.83,47.191 Q 59.1,47.381 59.24,47.696 Q 59.38,48.011 59.38,48.371 Q 59.38,48.731 59.24,49.046 Q 59.1,49.361 58.83,49.556 Q 58.56,49.751 58.19,49.751 M 58.195,49.566 Q 58.53,49.566 58.715,49.256 Q 58.9,48.946 58.9,48.371 Q 58.9,47.796 58.715,47.491 Q 58.53,47.186 58.195,47.186 Q 57.85,47.186 57.665,47.488 Q 57.48,47.791 57.48,48.371 Q 57.48,48.951 57.665,49.258 Q 57.85,49.566 58.195,49.566",
          "type": "path"
         },
         {
          "fillcolor": "white",
          "layer": "below",
          "line": {
           "color": "white"
          },
          "path": "M 62.265,48.25 L 62.26,48.19 L 62.105,47.0 L 60.73,47.0 Q 60.66,47.0 60.617,47.045 Q 60.575,47.09 60.575,47.17 Q 60.575,47.355 60.765,47.355 L 61.875,47.355 L 61.98,48.05 Q 61.76,47.915 61.44,47.915 Q 61.225,47.915 61.007,48.01 Q 60.79,48.105 60.645,48.3 Q 60.5,48.495 60.5,48.785 Q 60.5,49.075 60.642,49.283 Q 60.785,49.49 61.022,49.595 Q 61.26,49.7 61.54,49.7 Q 61.91,49.7 62.155,49.565 Q 62.4,49.43 62.4,49.145 Q 62.4,48.99 62.307,48.873 Q 62.215,48.755 62.06,48.755 Q 61.965,48.755 61.897,48.805 Q 61.83,48.855 61.83,48.89 Q 61.83,48.895 61.875,48.935 Q 61.92,48.975 61.957,49.033 Q 61.995,49.09 61.995,49.165 Q 61.995,49.335 61.872,49.425 Q 61.75,49.515 61.53,49.515 Q 61.255,49.515 61.117,49.32 Q 60.98,49.125 60.98,48.81 Q 60.98,48.52 61.12,48.328 Q 61.26,48.135 61.555,48.135 Q 61.69,48.135 61.787,48.178 Q 61.885,48.22 61.995,48.3 Q 62.06,48.345 62.102,48.368 Q 62.145,48.39 62.185,48.39 Q 62.265,48.39 62.265,48.25 L 62.265,48.25",
          "type": "path"
         },
         {
          "fillcolor": "white",
          "layer": "below",
          "line": {
           "color": "white"
          },
          "path": "M 68.655,4.096 L 68.655,4.861 L 67.46,4.861 Q 67.38,4.861 67.34,4.911 Q 67.3,4.961 67.3,5.036 Q 67.3,5.101 67.335,5.146 L 68.74,6.680999999999999 Q 68.78999999999999,6.731 68.895,6.731 Q 68.975,6.731 69.03,6.689 Q 69.085,6.646 69.09,6.555999999999999 L 69.09,5.106 L 69.39,5.106 Q 69.46,5.106 69.49,5.0889999999999995 Q 69.52,5.071 69.52499999999999,4.986 Q 69.52499999999999,4.931 69.503,4.896 Q 69.48,4.861 69.42999999999999,4.861 L 69.09,4.861 L 69.09,4.096 Q 69.09,4.051 69.02499999999999,4.026 Q 68.96,4.0009999999999994 68.875,4.0009999999999994 Q 68.78999999999999,4.0009999999999994 68.725,4.026 Q 68.66,4.051 68.655,4.096 M 68.655,6.291 L 67.59,5.106 L 68.655,5.106 L 68.655,6.291",
          "type": "path"
         },
         {
          "fillcolor": "white",
          "layer": "below",
          "line": {
           "color": "white"
          },
          "path": "M 71.69,6.7509999999999994 Q 71.3,6.7509999999999994 71.033,6.561 Q 70.765,6.371 70.633,6.056 Q 70.5,5.741 70.5,5.371 Q 70.5,4.996 70.633,4.686 Q 70.765,4.376 71.033,4.188 Q 71.3,4.001 71.69,4.001 Q 72.06,4.001 72.33,4.191 Q 72.6,4.381 72.74,4.696 Q 72.88,5.011 72.88,5.371 Q 72.88,5.731 72.74,6.045999999999999 Q 72.6,6.361000000000001 72.33,6.556 Q 72.06,6.7509999999999994 71.69,6.7509999999999994 M 71.695,6.566 Q 72.03,6.566 72.215,6.256 Q 72.4,5.946 72.4,5.371 Q 72.4,4.796 72.215,4.491 Q 72.03,4.186 71.695,4.186 Q 71.35,4.186 71.165,4.4879999999999995 Q 70.98,4.791 70.98,5.371 Q 70.98,5.9510000000000005 71.165,6.258 Q 71.35,6.566 71.695,6.566",
          "type": "path"
         },
         {
          "fillcolor": "white",
          "layer": "below",
          "line": {
           "color": "white"
          },
          "path": "M 68.19,49.751 Q 67.8,49.751 67.533,49.561 Q 67.265,49.371 67.133,49.056 Q 67.0,48.741 67.0,48.371 Q 67.0,47.996 67.133,47.686 Q 67.265,47.376 67.533,47.188 Q 67.8,47.001 68.19,47.001 Q 68.56,47.001 68.83,47.191 Q 69.1,47.381 69.24,47.696 Q 69.38,48.011 69.38,48.371 Q 69.38,48.731 69.24,49.046 Q 69.1,49.361 68.83,49.556 Q 68.56,49.751 68.19,49.751 M 68.195,49.566 Q 68.53,49.566 68.715,49.256 Q 68.9,48.946 68.9,48.371 Q 68.9,47.796 68.715,47.491 Q 68.53,47.186 68.195,47.186 Q 67.85,47.186 67.665,47.488 Q 67.48,47.791 67.48,48.371 Q 67.48,48.951 67.665,49.258 Q 67.85,49.566 68.195,49.566",
          "type": "path"
         },
         {
          "fillcolor": "white",
          "layer": "below",
          "line": {
           "color": "white"
          },
          "path": "M 71.37,49.636 L 71.37,48.871 L 72.565,48.871 Q 72.645,48.871 72.685,48.821 Q 72.725,48.771 72.725,48.696 Q 72.725,48.631 72.69,48.586 L 71.285,47.051 Q 71.235,47.001 71.13,47.001 Q 71.05,47.001 70.995,47.043 Q 70.94,47.086 70.935,47.176 L 70.935,48.626 L 70.635,48.626 Q 70.565,48.626 70.535,48.643 Q 70.505,48.661 70.5,48.746 Q 70.5,48.801 70.522,48.836 Q 70.545,48.871 70.595,48.871 L 70.935,48.871 L 70.935,49.636 Q 70.935,49.681 71.0,49.706 Q 71.065,49.731 71.15,49.731 Q 71.235,49.731 71.3,49.706 Q 71.365,49.681 71.37,49.636 M 71.37,47.441 L 72.435,48.626 L 71.37,48.626 L 71.37,47.441",
          "type": "path"
         },
         {
          "fillcolor": "white",
          "layer": "below",
          "line": {
           "color": "white"
          },
          "path": "M 78.2,5.336 L 78.015,5.336 Q 77.98,5.336 77.96,5.366 Q 77.94,5.396 77.94,5.436 Q 77.94,5.481 77.96,5.513 Q 77.98,5.546 78.015,5.551 L 78.2,5.551 Q 78.395,5.571 78.51299999999999,5.726 Q 78.63,5.881 78.63,6.101 Q 78.63,6.341 78.49499999999999,6.468 Q 78.36,6.596 78.17999999999999,6.596 Q 78.00999999999999,6.596 77.88799999999999,6.498 Q 77.765,6.401 77.765,6.231 Q 77.765,6.121 77.80799999999999,6.083 Q 77.85,6.046 77.89,6.038 Q 77.92999999999999,6.031000000000001 77.92999999999999,6.026 Q 77.92999999999999,5.991 77.863,5.941 Q 77.795,5.891 77.7,5.891 Q 77.53999999999999,5.891 77.45,5.991 Q 77.36,6.091 77.36,6.246 Q 77.36,6.491 77.59,6.6259999999999994 Q 77.82,6.761 78.185,6.761 Q 78.575,6.761 78.83,6.591 Q 79.085,6.420999999999999 79.085,6.101 Q 79.085,5.891 78.938,5.711 Q 78.78999999999999,5.531 78.515,5.4559999999999995 L 78.515,5.436 Q 78.795,5.406 79.0,5.258 Q 79.205,5.111 79.205,4.791 Q 79.205,4.386 78.91,4.193 Q 78.615,4.001 78.17,4.001 Q 77.80499999999999,4.0009999999999994 77.553,4.143 Q 77.3,4.286 77.3,4.561 Q 77.3,4.7059999999999995 77.39,4.811 Q 77.48,4.916 77.64,4.916 Q 77.735,4.916 77.803,4.866 Q 77.86999999999999,4.816 77.86999999999999,4.781 Q 77.86999999999999,4.776 77.825,4.743 Q 77.78,4.711 77.743,4.656000000000001 Q 77.705,4.601 77.705,4.516 Q 77.705,4.361000000000001 77.838,4.273 Q 77.97,4.186 78.185,4.186 Q 78.72,4.186 78.72,4.781 Q 78.72,5.026 78.59,5.173 Q 78.46,5.321 78.2,5.336",
          "type": "path"
         },
         {
          "fillcolor": "white",
          "layer": "below",
          "line": {
           "color": "white"
          },
          "path": "M 81.69,6.7509999999999994 Q 81.3,6.7509999999999994 81.033,6.561 Q 80.765,6.371 80.633,6.056 Q 80.5,5.741 80.5,5.371 Q 80.5,4.996 80.633,4.686 Q 80.765,4.376 81.033,4.188 Q 81.3,4.001 81.69,4.001 Q 82.06,4.001 82.33,4.191 Q 82.6,4.381 82.74,4.696 Q 82.88,5.011 82.88,5.371 Q 82.88,5.731 82.74,6.045999999999999 Q 82.6,6.361000000000001 82.33,6.556 Q 82.06,6.7509999999999994 81.69,6.7509999999999994 M 81.695,6.566 Q 82.03,6.566 82.215,6.256 Q 82.4,5.946 82.4,5.371 Q 82.4,4.796 82.215,4.491 Q 82.03,4.186 81.695,4.186 Q 81.35,4.186 81.165,4.4879999999999995 Q 80.98,4.791 80.98,5.371 Q 80.98,5.9510000000000005 81.165,6.258 Q 81.35,6.566 81.695,6.566",
          "type": "path"
         },
         {
          "fillcolor": "white",
          "layer": "below",
          "line": {
           "color": "white"
          },
          "path": "M 78.19,49.751 Q 77.8,49.751 77.533,49.561 Q 77.265,49.371 77.133,49.056 Q 77.0,48.741 77.0,48.371 Q 77.0,47.996 77.133,47.686 Q 77.265,47.376 77.533,47.188 Q 77.8,47.001 78.19,47.001 Q 78.56,47.001 78.83,47.191 Q 79.1,47.381 79.24,47.696 Q 79.38,48.011 79.38,48.371 Q 79.38,48.731 79.24,49.046 Q 79.1,49.361 78.83,49.556 Q 78.56,49.751 78.19,49.751 M 78.195,49.566 Q 78.53,49.566 78.715,49.256 Q 78.9,48.946 78.9,48.371 Q 78.9,47.796 78.715,47.491 Q 78.53,47.186 78.195,47.186 Q 77.85,47.186 77.665,47.488 Q 77.48,47.791 77.48,48.371 Q 77.48,48.951 77.665,49.258 Q 77.85,49.566 78.195,49.566",
          "type": "path"
         },
         {
          "fillcolor": "white",
          "layer": "below",
          "line": {
           "color": "white"
          },
          "path": "M 81.505,48.426 L 81.69,48.426 Q 81.725,48.426 81.745,48.396 Q 81.765,48.366 81.765,48.326 Q 81.765,48.281 81.745,48.249 Q 81.725,48.216 81.69,48.211 L 81.505,48.211 Q 81.31,48.191 81.192,48.036 Q 81.075,47.881 81.075,47.661 Q 81.075,47.421 81.21,47.294 Q 81.345,47.166 81.525,47.166 Q 81.695,47.166 81.817,47.264 Q 81.94,47.361 81.94,47.531 Q 81.94,47.641 81.897,47.679 Q 81.855,47.716 81.815,47.724 Q 81.775,47.731 81.775,47.736 Q 81.775,47.771 81.842,47.821 Q 81.91,47.871 82.005,47.871 Q 82.165,47.871 82.255,47.771 Q 82.345,47.671 82.345,47.516 Q 82.345,47.271 82.115,47.136 Q 81.885,47.001 81.52,47.001 Q 81.13,47.001 80.875,47.171 Q 80.62,47.341 80.62,47.661 Q 80.62,47.871 80.767,48.051 Q 80.915,48.231 81.19,48.306 L 81.19,48.326 Q 80.91,48.356 80.705,48.504 Q 80.5,48.651 80.5,48.971000000000004 Q 80.5,49.376 80.795,49.569 Q 81.09,49.761 81.535,49.761 Q 81.9,49.761 82.152,49.619 Q 82.405,49.476 82.405,49.201 Q 82.405,49.056 82.315,48.951 Q 82.225,48.846000000000004 82.065,48.846000000000004 Q 81.97,48.846000000000004 81.902,48.896 Q 81.835,48.946 81.835,48.981 Q 81.835,48.986 81.88,49.019 Q 81.925,49.051 81.962,49.106 Q 82.0,49.161 82.0,49.246 Q 82.0,49.400999999999996 81.867,49.489 Q 81.735,49.576 81.52,49.576 Q 80.985,49.576 80.985,48.981 Q 80.985,48.736 81.115,48.589 Q 81.245,48.441 81.505,48.426",
          "type": "path"
         },
         {
          "fillcolor": "white",
          "layer": "below",
          "line": {
           "color": "white"
          },
          "path": "M 87.747,4.38 L 87.747,4.355 L 89.087,4.355 A 0.449,0.449 180.0 0,0 89.26899999999999,4.327 Q 89.327,4.3 89.327,4.18 Q 89.327,4.0 89.152,4.0 L 87.477,4.0 Q 87.30199999999999,4.0 87.30199999999999,4.18 Q 87.307,4.285 87.359,4.35 Q 87.41199999999999,4.415 87.532,4.495 Q 87.92699999999999,4.76 88.14399999999999,4.932 Q 88.362,5.105 88.53699999999999,5.37 Q 88.712,5.635 88.712,5.965 Q 88.712,6.205 88.584,6.337 Q 88.457,6.47 88.227,6.47 Q 88.032,6.47 87.904,6.372 Q 87.777,6.275 87.777,6.105 Q 87.777,6.02 87.817,5.962 Q 87.857,5.904999999999999 87.899,5.87 Q 87.942,5.835 87.942,5.83 Q 87.942,5.795 87.874,5.745 Q 87.807,5.695 87.712,5.695 Q 87.557,5.695 87.464,5.792 Q 87.372,5.89 87.372,6.04 Q 87.372,6.24 87.50699999999999,6.38 Q 87.642,6.52 87.849,6.585 Q 88.057,6.65 88.27199999999999,6.65 Q 88.64699999999999,6.65 88.919,6.465 Q 89.192,6.279999999999999 89.192,5.9 Q 89.192,5.625 89.042,5.4 Q 88.892,5.175 88.684,5.0169999999999995 Q 88.477,4.859999999999999 88.142,4.645 Q 87.877,4.48 87.747,4.38",
          "type": "path"
         },
         {
          "fillcolor": "white",
          "layer": "below",
          "line": {
           "color": "white"
          },
          "path": "M 91.69,6.7509999999999994 Q 91.3,6.7509999999999994 91.033,6.561 Q 90.765,6.371 90.633,6.056 Q 90.5,5.741 90.5,5.371 Q 90.5,4.996 90.633,4.686 Q 90.765,4.376 91.033,4.188 Q 91.3,4.001 91.69,4.001 Q 92.06,4.001 92.33,4.191 Q 92.6,4.381 92.74,4.696 Q 92.88,5.011 92.88,5.371 Q 92.88,5.731 92.74,6.045999999999999 Q 92.6,6.361000000000001 92.33,6.556 Q 92.06,6.7509999999999994 91.69,6.7509999999999994 M 91.695,6.566 Q 92.03,6.566 92.215,6.256 Q 92.4,5.946 92.4,5.371 Q 92.4,4.796 92.215,4.491 Q 92.03,4.186 91.695,4.186 Q 91.35,4.186 91.165,4.4879999999999995 Q 90.98,4.791 90.98,5.371 Q 90.98,5.9510000000000005 91.165,6.258 Q 91.35,6.566 91.695,6.566",
          "type": "path"
         },
         {
          "fillcolor": "white",
          "layer": "below",
          "line": {
           "color": "white"
          },
          "path": "M 88.19,49.751 Q 87.8,49.751 87.533,49.561 Q 87.265,49.371 87.133,49.056 Q 87.0,48.741 87.0,48.371 Q 87.0,47.996 87.133,47.686 Q 87.265,47.376 87.533,47.188 Q 87.8,47.001 88.19,47.001 Q 88.56,47.001 88.83,47.191 Q 89.1,47.381 89.24,47.696 Q 89.38,48.011 89.38,48.371 Q 89.38,48.731 89.24,49.046 Q 89.1,49.361 88.83,49.556 Q 88.56,49.751 88.19,49.751 M 88.195,49.566 Q 88.53,49.566 88.715,49.256 Q 88.9,48.946 88.9,48.371 Q 88.9,47.796 88.715,47.491 Q 88.53,47.186 88.195,47.186 Q 87.85,47.186 87.665,47.488 Q 87.48,47.791 87.48,48.371 Q 87.48,48.951 87.665,49.258 Q 87.85,49.566 88.195,49.566",
          "type": "path"
         },
         {
          "fillcolor": "white",
          "layer": "below",
          "line": {
           "color": "white"
          },
          "path": "M 92.082,49.27 L 92.082,49.295 L 90.742,49.295 A 0.449,0.449 360.0 0,0 90.56,49.323 Q 90.502,49.35 90.502,49.47 Q 90.502,49.65 90.677,49.65 L 92.352,49.65 Q 92.527,49.65 92.527,49.47 Q 92.522,49.365 92.47,49.3 Q 92.417,49.235 92.297,49.155 Q 91.902,48.89 91.685,48.718 Q 91.467,48.545 91.292,48.28 Q 91.117,48.015 91.117,47.685 Q 91.117,47.445 91.245,47.313 Q 91.372,47.18 91.602,47.18 Q 91.797,47.18 91.925,47.278 Q 92.052,47.375 92.052,47.545 Q 92.052,47.63 92.012,47.688 Q 91.972,47.745 91.93,47.78 Q 91.887,47.815 91.887,47.82 Q 91.887,47.855 91.955,47.905 Q 92.022,47.955 92.117,47.955 Q 92.272,47.955 92.365,47.858 Q 92.457,47.76 92.457,47.61 Q 92.457,47.41 92.322,47.27 Q 92.187,47.13 91.98,47.065 Q 91.772,47.0 91.557,47.0 Q 91.182,47.0 90.91,47.185 Q 90.637,47.37 90.637,47.75 Q 90.637,48.025 90.787,48.25 Q 90.937,48.475 91.145,48.633 Q 91.352,48.79 91.687,49.005 Q 91.952,49.17 92.082,49.27",
          "type": "path"
         },
         {
          "fillcolor": "white",
          "layer": "below",
          "line": {
           "color": "white"
          },
          "path": "M 98.01299999999999,4.68 L 98.01299999999999,5.72 A 3.257,3.257 180.0 0,1 98.014,5.789 A 1.126,1.126 180.0 0,1 97.991,6.057 Q 97.963,6.16 97.893,6.1899999999999995 Q 97.823,6.22 97.663,6.22 L 97.41799999999999,6.22 A 0.095,0.095 180.0 0,0 97.328,6.34 Q 97.333,6.415 97.358,6.432 Q 97.383,6.45 97.42099999999999,6.45 L 97.473,6.45 Q 97.68299999999999,6.45 97.883,6.5169999999999995 Q 98.083,6.585 98.318,6.68 Q 98.348,6.6899999999999995 98.368,6.6899999999999995 Q 98.448,6.6899999999999995 98.448,6.574999999999999 L 98.448,4.68 Q 98.448,4.46 98.50099999999999,4.365 Q 98.553,4.27 98.666,4.245 Q 98.77799999999999,4.22 99.02799999999999,4.22 L 99.078,4.22 Q 99.118,4.22 99.136,4.199999999999999 Q 99.15299999999999,4.18 99.158,4.12 Q 99.158,4.0 99.068,4.0 Q 98.708,4.015000000000001 98.228,4.015000000000001 Q 97.753,4.015000000000001 97.393,4.0 A 0.095,0.095 180.0 0,0 97.303,4.12 Q 97.30799999999999,4.18 97.326,4.199999999999999 Q 97.343,4.22 97.383,4.22 Q 97.663,4.22 97.78099999999999,4.242 Q 97.898,4.265000000000001 97.956,4.359999999999999 Q 98.01299999999999,4.455 98.01299999999999,4.68 L 98.01299999999999,4.68",
          "type": "path"
         },
         {
          "fillcolor": "white",
          "layer": "below",
          "line": {
           "color": "white"
          },
          "path": "M 101.69,6.7509999999999994 Q 101.3,6.7509999999999994 101.033,6.561 Q 100.765,6.371 100.633,6.056 Q 100.5,5.741 100.5,5.371 Q 100.5,4.996 100.633,4.686 Q 100.765,4.376 101.033,4.188 Q 101.3,4.001 101.69,4.001 Q 102.06,4.001 102.33,4.191 Q 102.6,4.381 102.74,4.696 Q 102.88,5.011 102.88,5.371 Q 102.88,5.731 102.74,6.045999999999999 Q 102.6,6.361000000000001 102.33,6.556 Q 102.06,6.7509999999999994 101.69,6.7509999999999994 M 101.695,6.566 Q 102.03,6.566 102.215,6.256 Q 102.4,5.946 102.4,5.371 Q 102.4,4.796 102.215,4.491 Q 102.03,4.186 101.695,4.186 Q 101.35,4.186 101.165,4.4879999999999995 Q 100.98,4.791 100.98,5.371 Q 100.98,5.9510000000000005 101.165,6.258 Q 101.35,6.566 101.695,6.566",
          "type": "path"
         },
         {
          "fillcolor": "white",
          "layer": "below",
          "line": {
           "color": "white"
          },
          "path": "M 98.19,49.751 Q 97.8,49.751 97.533,49.561 Q 97.265,49.371 97.133,49.056 Q 97.0,48.741 97.0,48.371 Q 97.0,47.996 97.133,47.686 Q 97.265,47.376 97.533,47.188 Q 97.8,47.001 98.19,47.001 Q 98.56,47.001 98.83,47.191 Q 99.1,47.381 99.24,47.696 Q 99.38,48.011 99.38,48.371 Q 99.38,48.731 99.24,49.046 Q 99.1,49.361 98.83,49.556 Q 98.56,49.751 98.19,49.751 M 98.195,49.566 Q 98.53,49.566 98.715,49.256 Q 98.9,48.946 98.9,48.371 Q 98.9,47.796 98.715,47.491 Q 98.53,47.186 98.195,47.186 Q 97.85,47.186 97.665,47.488 Q 97.48,47.791 97.48,48.371 Q 97.48,48.951 97.665,49.258 Q 97.85,49.566 98.195,49.566",
          "type": "path"
         },
         {
          "fillcolor": "white",
          "layer": "below",
          "line": {
           "color": "white"
          },
          "path": "M 101.64464761515876,49.01 L 101.64464761515876,47.97 A 3.257,3.257 360.0 0,1 101.64364761515876,47.901 A 1.126,1.126 360.0 0,1 101.66664761515877,47.633 Q 101.69464761515876,47.53 101.76464761515876,47.5 Q 101.83464761515876,47.47 101.99464761515877,47.47 L 102.23964761515876,47.47 A 0.095,0.095 360.0 0,0 102.32964761515876,47.35 Q 102.32464761515877,47.275 102.29964761515876,47.258 Q 102.27464761515876,47.24 102.23664761515876,47.24 L 102.18464761515877,47.24 Q 101.97464761515876,47.24 101.77464761515876,47.173 Q 101.57464761515877,47.105 101.33964761515877,47.01 Q 101.30964761515877,47.0 101.28964761515876,47.0 Q 101.20964761515876,47.0 101.20964761515876,47.115 L 101.20964761515876,49.01 Q 101.20964761515876,49.23 101.15664761515876,49.325 Q 101.10464761515877,49.42 100.99164761515877,49.445 Q 100.87964761515876,49.47 100.62964761515876,49.47 L 100.57964761515876,49.47 Q 100.53964761515876,49.47 100.52164761515876,49.49 Q 100.50464761515876,49.51 100.49964761515876,49.57 Q 100.49964761515876,49.69 100.58964761515877,49.69 Q 100.94964761515877,49.675 101.42964761515876,49.675 Q 101.90464761515877,49.675 102.26464761515876,49.69 A 0.095,0.095 360.0 0,0 102.35464761515877,49.57 Q 102.34964761515876,49.51 102.33164761515876,49.49 Q 102.31464761515876,49.47 102.27464761515876,49.47 Q 101.99464761515877,49.47 101.87664761515876,49.448 Q 101.75964761515877,49.425 101.70164761515876,49.33 Q 101.64464761515876,49.235 101.64464761515876,49.01 L 101.64464761515876,49.01",
          "type": "path"
         },
         {
          "fillcolor": "white",
          "layer": "below",
          "line": {
           "color": "white"
          },
          "path": "M 16.8 5.2 L 16.3 5.45 L 16.8 5.7 L 16.8 5.2 Z",
          "type": "path"
         },
         {
          "fillcolor": "white",
          "layer": "below",
          "line": {
           "color": "white"
          },
          "path": "M 103.6 5.2 L 104.1 5.45 L 103.6 5.7 L 103.6 5.2 Z",
          "type": "path"
         },
         {
          "fillcolor": "white",
          "layer": "below",
          "line": {
           "color": "white"
          },
          "path": "M 16.4 48.5 L 15.9 48.25 L 16.4 48.0 L 16.4 48.5 Z",
          "type": "path"
         },
         {
          "fillcolor": "white",
          "layer": "below",
          "line": {
           "color": "white"
          },
          "path": "M 103.2 48.5 L 103.7 48.25 L 103.2 48.0 L 103.2 48.5 Z",
          "type": "path"
         },
         {
          "fillcolor": "white",
          "layer": "below",
          "line": {
           "color": "white"
          },
          "path": "M 26.8 5.2 L 26.3 5.45 L 26.8 5.7 L 26.8 5.2 Z",
          "type": "path"
         },
         {
          "fillcolor": "white",
          "layer": "below",
          "line": {
           "color": "white"
          },
          "path": "M 93.6 5.2 L 94.1 5.45 L 93.6 5.7 L 93.6 5.2 Z",
          "type": "path"
         },
         {
          "fillcolor": "white",
          "layer": "below",
          "line": {
           "color": "white"
          },
          "path": "M 26.4 48.5 L 25.9 48.25 L 26.4 48.0 L 26.4 48.5 Z",
          "type": "path"
         },
         {
          "fillcolor": "white",
          "layer": "below",
          "line": {
           "color": "white"
          },
          "path": "M 93.2 48.5 L 93.7 48.25 L 93.2 48.0 L 93.2 48.5 Z",
          "type": "path"
         },
         {
          "fillcolor": "white",
          "layer": "below",
          "line": {
           "color": "white"
          },
          "path": "M 36.8 5.2 L 36.3 5.45 L 36.8 5.7 L 36.8 5.2 Z",
          "type": "path"
         },
         {
          "fillcolor": "white",
          "layer": "below",
          "line": {
           "color": "white"
          },
          "path": "M 83.6 5.2 L 84.1 5.45 L 83.6 5.7 L 83.6 5.2 Z",
          "type": "path"
         },
         {
          "fillcolor": "white",
          "layer": "below",
          "line": {
           "color": "white"
          },
          "path": "M 36.4 48.5 L 35.9 48.25 L 36.4 48.0 L 36.4 48.5 Z",
          "type": "path"
         },
         {
          "fillcolor": "white",
          "layer": "below",
          "line": {
           "color": "white"
          },
          "path": "M 83.2 48.5 L 83.7 48.25 L 83.2 48.0 L 83.2 48.5 Z",
          "type": "path"
         },
         {
          "fillcolor": "white",
          "layer": "below",
          "line": {
           "color": "white"
          },
          "path": "M 46.8 5.2 L 46.3 5.45 L 46.8 5.7 L 46.8 5.2 Z",
          "type": "path"
         },
         {
          "fillcolor": "white",
          "layer": "below",
          "line": {
           "color": "white"
          },
          "path": "M 73.6 5.2 L 74.1 5.45 L 73.6 5.7 L 73.6 5.2 Z",
          "type": "path"
         },
         {
          "fillcolor": "white",
          "layer": "below",
          "line": {
           "color": "white"
          },
          "path": "M 46.4 48.5 L 45.9 48.25 L 46.4 48.0 L 46.4 48.5 Z",
          "type": "path"
         },
         {
          "fillcolor": "white",
          "layer": "below",
          "line": {
           "color": "white"
          },
          "path": "M 73.2 48.5 L 73.7 48.25 L 73.2 48.0 L 73.2 48.5 Z",
          "type": "path"
         }
        ],
        "template": {
         "data": {
          "bar": [
           {
            "error_x": {
             "color": "#2a3f5f"
            },
            "error_y": {
             "color": "#2a3f5f"
            },
            "marker": {
             "line": {
              "color": "#E5ECF6",
              "width": 0.5
             }
            },
            "type": "bar"
           }
          ],
          "barpolar": [
           {
            "marker": {
             "line": {
              "color": "#E5ECF6",
              "width": 0.5
             }
            },
            "type": "barpolar"
           }
          ],
          "carpet": [
           {
            "aaxis": {
             "endlinecolor": "#2a3f5f",
             "gridcolor": "white",
             "linecolor": "white",
             "minorgridcolor": "white",
             "startlinecolor": "#2a3f5f"
            },
            "baxis": {
             "endlinecolor": "#2a3f5f",
             "gridcolor": "white",
             "linecolor": "white",
             "minorgridcolor": "white",
             "startlinecolor": "#2a3f5f"
            },
            "type": "carpet"
           }
          ],
          "choropleth": [
           {
            "colorbar": {
             "outlinewidth": 0,
             "ticks": ""
            },
            "type": "choropleth"
           }
          ],
          "contour": [
           {
            "colorbar": {
             "outlinewidth": 0,
             "ticks": ""
            },
            "colorscale": [
             [
              0,
              "#0d0887"
             ],
             [
              0.1111111111111111,
              "#46039f"
             ],
             [
              0.2222222222222222,
              "#7201a8"
             ],
             [
              0.3333333333333333,
              "#9c179e"
             ],
             [
              0.4444444444444444,
              "#bd3786"
             ],
             [
              0.5555555555555556,
              "#d8576b"
             ],
             [
              0.6666666666666666,
              "#ed7953"
             ],
             [
              0.7777777777777778,
              "#fb9f3a"
             ],
             [
              0.8888888888888888,
              "#fdca26"
             ],
             [
              1,
              "#f0f921"
             ]
            ],
            "type": "contour"
           }
          ],
          "contourcarpet": [
           {
            "colorbar": {
             "outlinewidth": 0,
             "ticks": ""
            },
            "type": "contourcarpet"
           }
          ],
          "heatmap": [
           {
            "colorbar": {
             "outlinewidth": 0,
             "ticks": ""
            },
            "colorscale": [
             [
              0,
              "#0d0887"
             ],
             [
              0.1111111111111111,
              "#46039f"
             ],
             [
              0.2222222222222222,
              "#7201a8"
             ],
             [
              0.3333333333333333,
              "#9c179e"
             ],
             [
              0.4444444444444444,
              "#bd3786"
             ],
             [
              0.5555555555555556,
              "#d8576b"
             ],
             [
              0.6666666666666666,
              "#ed7953"
             ],
             [
              0.7777777777777778,
              "#fb9f3a"
             ],
             [
              0.8888888888888888,
              "#fdca26"
             ],
             [
              1,
              "#f0f921"
             ]
            ],
            "type": "heatmap"
           }
          ],
          "heatmapgl": [
           {
            "colorbar": {
             "outlinewidth": 0,
             "ticks": ""
            },
            "colorscale": [
             [
              0,
              "#0d0887"
             ],
             [
              0.1111111111111111,
              "#46039f"
             ],
             [
              0.2222222222222222,
              "#7201a8"
             ],
             [
              0.3333333333333333,
              "#9c179e"
             ],
             [
              0.4444444444444444,
              "#bd3786"
             ],
             [
              0.5555555555555556,
              "#d8576b"
             ],
             [
              0.6666666666666666,
              "#ed7953"
             ],
             [
              0.7777777777777778,
              "#fb9f3a"
             ],
             [
              0.8888888888888888,
              "#fdca26"
             ],
             [
              1,
              "#f0f921"
             ]
            ],
            "type": "heatmapgl"
           }
          ],
          "histogram": [
           {
            "marker": {
             "colorbar": {
              "outlinewidth": 0,
              "ticks": ""
             }
            },
            "type": "histogram"
           }
          ],
          "histogram2d": [
           {
            "colorbar": {
             "outlinewidth": 0,
             "ticks": ""
            },
            "colorscale": [
             [
              0,
              "#0d0887"
             ],
             [
              0.1111111111111111,
              "#46039f"
             ],
             [
              0.2222222222222222,
              "#7201a8"
             ],
             [
              0.3333333333333333,
              "#9c179e"
             ],
             [
              0.4444444444444444,
              "#bd3786"
             ],
             [
              0.5555555555555556,
              "#d8576b"
             ],
             [
              0.6666666666666666,
              "#ed7953"
             ],
             [
              0.7777777777777778,
              "#fb9f3a"
             ],
             [
              0.8888888888888888,
              "#fdca26"
             ],
             [
              1,
              "#f0f921"
             ]
            ],
            "type": "histogram2d"
           }
          ],
          "histogram2dcontour": [
           {
            "colorbar": {
             "outlinewidth": 0,
             "ticks": ""
            },
            "colorscale": [
             [
              0,
              "#0d0887"
             ],
             [
              0.1111111111111111,
              "#46039f"
             ],
             [
              0.2222222222222222,
              "#7201a8"
             ],
             [
              0.3333333333333333,
              "#9c179e"
             ],
             [
              0.4444444444444444,
              "#bd3786"
             ],
             [
              0.5555555555555556,
              "#d8576b"
             ],
             [
              0.6666666666666666,
              "#ed7953"
             ],
             [
              0.7777777777777778,
              "#fb9f3a"
             ],
             [
              0.8888888888888888,
              "#fdca26"
             ],
             [
              1,
              "#f0f921"
             ]
            ],
            "type": "histogram2dcontour"
           }
          ],
          "mesh3d": [
           {
            "colorbar": {
             "outlinewidth": 0,
             "ticks": ""
            },
            "type": "mesh3d"
           }
          ],
          "parcoords": [
           {
            "line": {
             "colorbar": {
              "outlinewidth": 0,
              "ticks": ""
             }
            },
            "type": "parcoords"
           }
          ],
          "pie": [
           {
            "automargin": true,
            "type": "pie"
           }
          ],
          "scatter": [
           {
            "marker": {
             "colorbar": {
              "outlinewidth": 0,
              "ticks": ""
             }
            },
            "type": "scatter"
           }
          ],
          "scatter3d": [
           {
            "line": {
             "colorbar": {
              "outlinewidth": 0,
              "ticks": ""
             }
            },
            "marker": {
             "colorbar": {
              "outlinewidth": 0,
              "ticks": ""
             }
            },
            "type": "scatter3d"
           }
          ],
          "scattercarpet": [
           {
            "marker": {
             "colorbar": {
              "outlinewidth": 0,
              "ticks": ""
             }
            },
            "type": "scattercarpet"
           }
          ],
          "scattergeo": [
           {
            "marker": {
             "colorbar": {
              "outlinewidth": 0,
              "ticks": ""
             }
            },
            "type": "scattergeo"
           }
          ],
          "scattergl": [
           {
            "marker": {
             "colorbar": {
              "outlinewidth": 0,
              "ticks": ""
             }
            },
            "type": "scattergl"
           }
          ],
          "scattermapbox": [
           {
            "marker": {
             "colorbar": {
              "outlinewidth": 0,
              "ticks": ""
             }
            },
            "type": "scattermapbox"
           }
          ],
          "scatterpolar": [
           {
            "marker": {
             "colorbar": {
              "outlinewidth": 0,
              "ticks": ""
             }
            },
            "type": "scatterpolar"
           }
          ],
          "scatterpolargl": [
           {
            "marker": {
             "colorbar": {
              "outlinewidth": 0,
              "ticks": ""
             }
            },
            "type": "scatterpolargl"
           }
          ],
          "scatterternary": [
           {
            "marker": {
             "colorbar": {
              "outlinewidth": 0,
              "ticks": ""
             }
            },
            "type": "scatterternary"
           }
          ],
          "surface": [
           {
            "colorbar": {
             "outlinewidth": 0,
             "ticks": ""
            },
            "colorscale": [
             [
              0,
              "#0d0887"
             ],
             [
              0.1111111111111111,
              "#46039f"
             ],
             [
              0.2222222222222222,
              "#7201a8"
             ],
             [
              0.3333333333333333,
              "#9c179e"
             ],
             [
              0.4444444444444444,
              "#bd3786"
             ],
             [
              0.5555555555555556,
              "#d8576b"
             ],
             [
              0.6666666666666666,
              "#ed7953"
             ],
             [
              0.7777777777777778,
              "#fb9f3a"
             ],
             [
              0.8888888888888888,
              "#fdca26"
             ],
             [
              1,
              "#f0f921"
             ]
            ],
            "type": "surface"
           }
          ],
          "table": [
           {
            "cells": {
             "fill": {
              "color": "#EBF0F8"
             },
             "line": {
              "color": "white"
             }
            },
            "header": {
             "fill": {
              "color": "#C8D4E3"
             },
             "line": {
              "color": "white"
             }
            },
            "type": "table"
           }
          ]
         },
         "layout": {
          "annotationdefaults": {
           "arrowcolor": "#2a3f5f",
           "arrowhead": 0,
           "arrowwidth": 1
          },
          "autotypenumbers": "strict",
          "coloraxis": {
           "colorbar": {
            "outlinewidth": 0,
            "ticks": ""
           }
          },
          "colorscale": {
           "diverging": [
            [
             0,
             "#8e0152"
            ],
            [
             0.1,
             "#c51b7d"
            ],
            [
             0.2,
             "#de77ae"
            ],
            [
             0.3,
             "#f1b6da"
            ],
            [
             0.4,
             "#fde0ef"
            ],
            [
             0.5,
             "#f7f7f7"
            ],
            [
             0.6,
             "#e6f5d0"
            ],
            [
             0.7,
             "#b8e186"
            ],
            [
             0.8,
             "#7fbc41"
            ],
            [
             0.9,
             "#4d9221"
            ],
            [
             1,
             "#276419"
            ]
           ],
           "sequential": [
            [
             0,
             "#0d0887"
            ],
            [
             0.1111111111111111,
             "#46039f"
            ],
            [
             0.2222222222222222,
             "#7201a8"
            ],
            [
             0.3333333333333333,
             "#9c179e"
            ],
            [
             0.4444444444444444,
             "#bd3786"
            ],
            [
             0.5555555555555556,
             "#d8576b"
            ],
            [
             0.6666666666666666,
             "#ed7953"
            ],
            [
             0.7777777777777778,
             "#fb9f3a"
            ],
            [
             0.8888888888888888,
             "#fdca26"
            ],
            [
             1,
             "#f0f921"
            ]
           ],
           "sequentialminus": [
            [
             0,
             "#0d0887"
            ],
            [
             0.1111111111111111,
             "#46039f"
            ],
            [
             0.2222222222222222,
             "#7201a8"
            ],
            [
             0.3333333333333333,
             "#9c179e"
            ],
            [
             0.4444444444444444,
             "#bd3786"
            ],
            [
             0.5555555555555556,
             "#d8576b"
            ],
            [
             0.6666666666666666,
             "#ed7953"
            ],
            [
             0.7777777777777778,
             "#fb9f3a"
            ],
            [
             0.8888888888888888,
             "#fdca26"
            ],
            [
             1,
             "#f0f921"
            ]
           ]
          },
          "colorway": [
           "#636efa",
           "#EF553B",
           "#00cc96",
           "#ab63fa",
           "#FFA15A",
           "#19d3f3",
           "#FF6692",
           "#B6E880",
           "#FF97FF",
           "#FECB52"
          ],
          "font": {
           "color": "#2a3f5f"
          },
          "geo": {
           "bgcolor": "white",
           "lakecolor": "white",
           "landcolor": "#E5ECF6",
           "showlakes": true,
           "showland": true,
           "subunitcolor": "white"
          },
          "hoverlabel": {
           "align": "left"
          },
          "hovermode": "closest",
          "mapbox": {
           "style": "light"
          },
          "paper_bgcolor": "white",
          "plot_bgcolor": "#E5ECF6",
          "polar": {
           "angularaxis": {
            "gridcolor": "white",
            "linecolor": "white",
            "ticks": ""
           },
           "bgcolor": "#E5ECF6",
           "radialaxis": {
            "gridcolor": "white",
            "linecolor": "white",
            "ticks": ""
           }
          },
          "scene": {
           "xaxis": {
            "backgroundcolor": "#E5ECF6",
            "gridcolor": "white",
            "gridwidth": 2,
            "linecolor": "white",
            "showbackground": true,
            "ticks": "",
            "zerolinecolor": "white"
           },
           "yaxis": {
            "backgroundcolor": "#E5ECF6",
            "gridcolor": "white",
            "gridwidth": 2,
            "linecolor": "white",
            "showbackground": true,
            "ticks": "",
            "zerolinecolor": "white"
           },
           "zaxis": {
            "backgroundcolor": "#E5ECF6",
            "gridcolor": "white",
            "gridwidth": 2,
            "linecolor": "white",
            "showbackground": true,
            "ticks": "",
            "zerolinecolor": "white"
           }
          },
          "shapedefaults": {
           "line": {
            "color": "#2a3f5f"
           }
          },
          "ternary": {
           "aaxis": {
            "gridcolor": "white",
            "linecolor": "white",
            "ticks": ""
           },
           "baxis": {
            "gridcolor": "white",
            "linecolor": "white",
            "ticks": ""
           },
           "bgcolor": "#E5ECF6",
           "caxis": {
            "gridcolor": "white",
            "linecolor": "white",
            "ticks": ""
           }
          },
          "title": {
           "x": 0.05
          },
          "xaxis": {
           "automargin": true,
           "gridcolor": "white",
           "linecolor": "white",
           "ticks": "",
           "title": {
            "standoff": 15
           },
           "zerolinecolor": "white",
           "zerolinewidth": 2
          },
          "yaxis": {
           "automargin": true,
           "gridcolor": "white",
           "linecolor": "white",
           "ticks": "",
           "title": {
            "standoff": 15
           },
           "zerolinecolor": "white",
           "zerolinewidth": 2
          }
         }
        },
        "xaxis": {
         "range": [
          -3,
          123
         ],
         "showgrid": false,
         "showticklabels": false,
         "zeroline": false
        },
        "yaxis": {
         "range": [
          -5,
          58.3
         ],
         "showgrid": false,
         "showticklabels": false,
         "zeroline": false
        }
       }
      },
      "text/html": [
       "<div>                            <div id=\"bb81a6df-3bb4-413b-afec-220539eacf5a\" class=\"plotly-graph-div\" style=\"height:525px; width:100%;\"></div>            <script type=\"text/javascript\">                require([\"plotly\"], function(Plotly) {                    window.PLOTLYENV=window.PLOTLYENV || {};                                    if (document.getElementById(\"bb81a6df-3bb4-413b-afec-220539eacf5a\")) {                    Plotly.newPlot(                        \"bb81a6df-3bb4-413b-afec-220539eacf5a\",                        [{\"hovertext\": [\"Jimmy Graham TE\", \"Prince Amukamara CB\", \"Randall Cobb WR\", \"Aaron Rodgers QB\", \"Danny Trevathan ILB\", \"Marcus Cooper CB\", \"Davante Adams WR\", \"Kyle Fuller CB\", \"Adrian Amos FS\", \"Ty Montgomery RB\", \"Bryce Callahan CB\", \"Leonard Floyd OLB\", \"Geronimo Allison WR\", \"Eddie Jackson FS\", null], \"marker\": {\"color\": [\"rgb(238, 173, 30)\", \"white\", \"rgb(238, 173, 30)\", \"rgb(238, 173, 30)\", \"white\", \"white\", \"rgb(238, 173, 30)\", \"white\", \"white\", \"rgb(238, 173, 30)\", \"white\", \"white\", \"rgb(238, 173, 30)\", \"white\", \"brown\"], \"line\": {\"color\": [\"rgb(28, 45, 37)\", \"rgb(200, 56, 3)\", \"rgb(28, 45, 37)\", \"rgb(28, 45, 37)\", \"rgb(200, 56, 3)\", \"rgb(200, 56, 3)\", \"rgb(28, 45, 37)\", \"rgb(200, 56, 3)\", \"rgb(200, 56, 3)\", \"rgb(28, 45, 37)\", \"rgb(200, 56, 3)\", \"rgb(200, 56, 3)\", \"rgb(28, 45, 37)\", \"rgb(200, 56, 3)\", \"black\"], \"width\": [2, 2, 2, 2, 2, 2, 2, 2, 2, 2, 2, 2, 2, 2, 1]}, \"opacity\": 1, \"size\": [16, 16, 16, 16, 16, 16, 16, 16, 16, 16, 16, 16, 16, 16, 12], \"symbol\": [\"circle\", \"circle\", \"circle\", \"circle\", \"circle\", \"circle\", \"circle\", \"circle\", \"circle\", \"circle\", \"circle\", \"circle\", \"circle\", \"circle\", \"diamond-wide\"]}, \"mode\": \"markers+text\", \"text\": [80.0, 20.0, 18.0, 12.0, 59.0, 31.0, 17.0, 23.0, 38.0, 88.0, 37.0, 94.0, 81.0, 39.0, null], \"textfont\": {\"color\": [\"black\", \"rgb(11, 22, 42)\", \"black\", \"black\", \"rgb(11, 22, 42)\", \"rgb(11, 22, 42)\", \"black\", \"rgb(11, 22, 42)\", \"rgb(11, 22, 42)\", \"black\", \"rgb(11, 22, 42)\", \"rgb(11, 22, 42)\", \"black\", \"rgb(11, 22, 42)\", \"black\"], \"family\": [\"Gravitas One\"], \"size\": 9}, \"type\": \"scatter\", \"x\": [37.58, 47.79, 43.82, 28.55, 32.24, 38.06, 48.85, 46.13, 54.61, 39.63, 50.14, 37.89, 46.4, 43.57, 28.22], \"y\": [44.56, 50.6, 32.9, 33.87, 34.24, 44.07, 49.19, 24.18, 47.44, 12.02, 23.87, 14.05, 25.32, 34.7, 33.27]}],                        {\"plot_bgcolor\": \"rgb(195,217,192)\", \"shapes\": [{\"layer\": \"below\", \"line\": {\"color\": \"white\", \"width\": 5}, \"type\": \"line\", \"x0\": 0, \"x1\": 120, \"y0\": 0, \"y1\": 0}, {\"layer\": \"below\", \"line\": {\"color\": \"white\", \"width\": 5}, \"type\": \"line\", \"x0\": 0, \"x1\": 120, \"y0\": 53.3, \"y1\": 53.3}, {\"layer\": \"below\", \"line\": {\"color\": \"white\", \"width\": 5}, \"type\": \"line\", \"x0\": 0, \"x1\": 0, \"y0\": 0, \"y1\": 53.3}, {\"layer\": \"below\", \"line\": {\"color\": \"white\", \"width\": 5}, \"type\": \"line\", \"x0\": 120, \"x1\": 120, \"y0\": 0, \"y1\": 53.3}, {\"layer\": \"below\", \"line\": {\"color\": \"white\", \"width\": 2}, \"type\": \"line\", \"x0\": 10, \"x1\": 10, \"y0\": 0, \"y1\": 53.3}, {\"layer\": \"below\", \"line\": {\"color\": \"white\", \"width\": 2}, \"type\": \"line\", \"x0\": 15, \"x1\": 15, \"y0\": 0, \"y1\": 53.3}, {\"layer\": \"below\", \"line\": {\"color\": \"white\", \"width\": 2}, \"type\": \"line\", \"x0\": 20, \"x1\": 20, \"y0\": 0, \"y1\": 53.3}, {\"layer\": \"below\", \"line\": {\"color\": \"white\", \"width\": 2}, \"type\": \"line\", \"x0\": 25, \"x1\": 25, \"y0\": 0, \"y1\": 53.3}, {\"layer\": \"below\", \"line\": {\"color\": \"white\", \"width\": 2}, \"type\": \"line\", \"x0\": 30, \"x1\": 30, \"y0\": 0, \"y1\": 53.3}, {\"layer\": \"below\", \"line\": {\"color\": \"white\", \"width\": 2}, \"type\": \"line\", \"x0\": 35, \"x1\": 35, \"y0\": 0, \"y1\": 53.3}, {\"layer\": \"below\", \"line\": {\"color\": \"white\", \"width\": 2}, \"type\": \"line\", \"x0\": 40, \"x1\": 40, \"y0\": 0, \"y1\": 53.3}, {\"layer\": \"below\", \"line\": {\"color\": \"white\", \"width\": 2}, \"type\": \"line\", \"x0\": 45, \"x1\": 45, \"y0\": 0, \"y1\": 53.3}, {\"layer\": \"below\", \"line\": {\"color\": \"white\", \"width\": 2}, \"type\": \"line\", \"x0\": 50, \"x1\": 50, \"y0\": 0, \"y1\": 53.3}, {\"layer\": \"below\", \"line\": {\"color\": \"white\", \"width\": 2}, \"type\": \"line\", \"x0\": 55, \"x1\": 55, \"y0\": 0, \"y1\": 53.3}, {\"layer\": \"below\", \"line\": {\"color\": \"white\", \"width\": 2}, \"type\": \"line\", \"x0\": 60, \"x1\": 60, \"y0\": 0, \"y1\": 53.3}, {\"layer\": \"below\", \"line\": {\"color\": \"white\", \"width\": 2}, \"type\": \"line\", \"x0\": 65, \"x1\": 65, \"y0\": 0, \"y1\": 53.3}, {\"layer\": \"below\", \"line\": {\"color\": \"white\", \"width\": 2}, \"type\": \"line\", \"x0\": 70, \"x1\": 70, \"y0\": 0, \"y1\": 53.3}, {\"layer\": \"below\", \"line\": {\"color\": \"white\", \"width\": 2}, \"type\": \"line\", \"x0\": 75, \"x1\": 75, \"y0\": 0, \"y1\": 53.3}, {\"layer\": \"below\", \"line\": {\"color\": \"white\", \"width\": 2}, \"type\": \"line\", \"x0\": 80, \"x1\": 80, \"y0\": 0, \"y1\": 53.3}, {\"layer\": \"below\", \"line\": {\"color\": \"white\", \"width\": 2}, \"type\": \"line\", \"x0\": 85, \"x1\": 85, \"y0\": 0, \"y1\": 53.3}, {\"layer\": \"below\", \"line\": {\"color\": \"white\", \"width\": 2}, \"type\": \"line\", \"x0\": 90, \"x1\": 90, \"y0\": 0, \"y1\": 53.3}, {\"layer\": \"below\", \"line\": {\"color\": \"white\", \"width\": 2}, \"type\": \"line\", \"x0\": 95, \"x1\": 95, \"y0\": 0, \"y1\": 53.3}, {\"layer\": \"below\", \"line\": {\"color\": \"white\", \"width\": 2}, \"type\": \"line\", \"x0\": 100, \"x1\": 100, \"y0\": 0, \"y1\": 53.3}, {\"layer\": \"below\", \"line\": {\"color\": \"white\", \"width\": 2}, \"type\": \"line\", \"x0\": 105, \"x1\": 105, \"y0\": 0, \"y1\": 53.3}, {\"layer\": \"below\", \"line\": {\"color\": \"white\", \"width\": 2}, \"type\": \"line\", \"x0\": 110, \"x1\": 110, \"y0\": 0, \"y1\": 53.3}, {\"layer\": \"below\", \"line\": {\"color\": \"white\", \"width\": 2}, \"type\": \"line\", \"x0\": 11, \"x1\": 11, \"y0\": 1, \"y1\": 1.6666666666666665}, {\"layer\": \"below\", \"line\": {\"color\": \"white\", \"width\": 2}, \"type\": \"line\", \"x0\": 11, \"x1\": 11, \"y0\": 23.58333, \"y1\": 24.249996666666668}, {\"layer\": \"below\", \"line\": {\"color\": \"white\", \"width\": 2}, \"type\": \"line\", \"x0\": 11, \"x1\": 11, \"y0\": 29.08333, \"y1\": 29.749996666666668}, {\"layer\": \"below\", \"line\": {\"color\": \"white\", \"width\": 2}, \"type\": \"line\", \"x0\": 11, \"x1\": 11, \"y0\": 51.63333333333333, \"y1\": 52.3}, {\"layer\": \"below\", \"line\": {\"color\": \"white\", \"width\": 2}, \"type\": \"line\", \"x0\": 12, \"x1\": 12, \"y0\": 1, \"y1\": 1.6666666666666665}, {\"layer\": \"below\", \"line\": {\"color\": \"white\", \"width\": 2}, \"type\": \"line\", \"x0\": 12, \"x1\": 12, \"y0\": 23.58333, \"y1\": 24.249996666666668}, {\"layer\": \"below\", \"line\": {\"color\": \"white\", \"width\": 2}, \"type\": \"line\", \"x0\": 12, \"x1\": 12, \"y0\": 29.08333, \"y1\": 29.749996666666668}, {\"layer\": \"below\", \"line\": {\"color\": \"white\", \"width\": 2}, \"type\": \"line\", \"x0\": 12, \"x1\": 12, \"y0\": 51.63333333333333, \"y1\": 52.3}, {\"layer\": \"below\", \"line\": {\"color\": \"white\", \"width\": 2}, \"type\": \"line\", \"x0\": 13, \"x1\": 13, \"y0\": 1, \"y1\": 1.6666666666666665}, {\"layer\": \"below\", \"line\": {\"color\": \"white\", \"width\": 2}, \"type\": \"line\", \"x0\": 13, \"x1\": 13, \"y0\": 23.58333, \"y1\": 24.249996666666668}, {\"layer\": \"below\", \"line\": {\"color\": \"white\", \"width\": 2}, \"type\": \"line\", \"x0\": 13, \"x1\": 13, \"y0\": 29.08333, \"y1\": 29.749996666666668}, {\"layer\": \"below\", \"line\": {\"color\": \"white\", \"width\": 2}, \"type\": \"line\", \"x0\": 13, \"x1\": 13, \"y0\": 51.63333333333333, \"y1\": 52.3}, {\"layer\": \"below\", \"line\": {\"color\": \"white\", \"width\": 2}, \"type\": \"line\", \"x0\": 14, \"x1\": 14, \"y0\": 1, \"y1\": 1.6666666666666665}, {\"layer\": \"below\", \"line\": {\"color\": \"white\", \"width\": 2}, \"type\": \"line\", \"x0\": 14, \"x1\": 14, \"y0\": 23.58333, \"y1\": 24.249996666666668}, {\"layer\": \"below\", \"line\": {\"color\": \"white\", \"width\": 2}, \"type\": \"line\", \"x0\": 14, \"x1\": 14, \"y0\": 29.08333, \"y1\": 29.749996666666668}, {\"layer\": \"below\", \"line\": {\"color\": \"white\", \"width\": 2}, \"type\": \"line\", \"x0\": 14, \"x1\": 14, \"y0\": 51.63333333333333, \"y1\": 52.3}, {\"layer\": \"below\", \"line\": {\"color\": \"white\", \"width\": 2}, \"type\": \"line\", \"x0\": 15, \"x1\": 15, \"y0\": 1, \"y1\": 1.6666666666666665}, {\"layer\": \"below\", \"line\": {\"color\": \"white\", \"width\": 2}, \"type\": \"line\", \"x0\": 15, \"x1\": 15, \"y0\": 23.58333, \"y1\": 24.249996666666668}, {\"layer\": \"below\", \"line\": {\"color\": \"white\", \"width\": 2}, \"type\": \"line\", \"x0\": 15, \"x1\": 15, \"y0\": 29.08333, \"y1\": 29.749996666666668}, {\"layer\": \"below\", \"line\": {\"color\": \"white\", \"width\": 2}, \"type\": \"line\", \"x0\": 15, \"x1\": 15, \"y0\": 51.63333333333333, \"y1\": 52.3}, {\"layer\": \"below\", \"line\": {\"color\": \"white\", \"width\": 2}, \"type\": \"line\", \"x0\": 16, \"x1\": 16, \"y0\": 1, \"y1\": 1.6666666666666665}, {\"layer\": \"below\", \"line\": {\"color\": \"white\", \"width\": 2}, \"type\": \"line\", \"x0\": 16, \"x1\": 16, \"y0\": 23.58333, \"y1\": 24.249996666666668}, {\"layer\": \"below\", \"line\": {\"color\": \"white\", \"width\": 2}, \"type\": \"line\", \"x0\": 16, \"x1\": 16, \"y0\": 29.08333, \"y1\": 29.749996666666668}, {\"layer\": \"below\", \"line\": {\"color\": \"white\", \"width\": 2}, \"type\": \"line\", \"x0\": 16, \"x1\": 16, \"y0\": 51.63333333333333, \"y1\": 52.3}, {\"layer\": \"below\", \"line\": {\"color\": \"white\", \"width\": 2}, \"type\": \"line\", \"x0\": 17, \"x1\": 17, \"y0\": 1, \"y1\": 1.6666666666666665}, {\"layer\": \"below\", \"line\": {\"color\": \"white\", \"width\": 2}, \"type\": \"line\", \"x0\": 17, \"x1\": 17, \"y0\": 23.58333, \"y1\": 24.249996666666668}, {\"layer\": \"below\", \"line\": {\"color\": \"white\", \"width\": 2}, \"type\": \"line\", \"x0\": 17, \"x1\": 17, \"y0\": 29.08333, \"y1\": 29.749996666666668}, {\"layer\": \"below\", \"line\": {\"color\": \"white\", \"width\": 2}, \"type\": \"line\", \"x0\": 17, \"x1\": 17, \"y0\": 51.63333333333333, \"y1\": 52.3}, {\"layer\": \"below\", \"line\": {\"color\": \"white\", \"width\": 2}, \"type\": \"line\", \"x0\": 18, \"x1\": 18, \"y0\": 1, \"y1\": 1.6666666666666665}, {\"layer\": \"below\", \"line\": {\"color\": \"white\", \"width\": 2}, \"type\": \"line\", \"x0\": 18, \"x1\": 18, \"y0\": 23.58333, \"y1\": 24.249996666666668}, {\"layer\": \"below\", \"line\": {\"color\": \"white\", \"width\": 2}, \"type\": \"line\", \"x0\": 18, \"x1\": 18, \"y0\": 29.08333, \"y1\": 29.749996666666668}, {\"layer\": \"below\", \"line\": {\"color\": \"white\", \"width\": 2}, \"type\": \"line\", \"x0\": 18, \"x1\": 18, \"y0\": 51.63333333333333, \"y1\": 52.3}, {\"layer\": \"below\", \"line\": {\"color\": \"white\", \"width\": 2}, \"type\": \"line\", \"x0\": 19, \"x1\": 19, \"y0\": 1, \"y1\": 1.6666666666666665}, {\"layer\": \"below\", \"line\": {\"color\": \"white\", \"width\": 2}, \"type\": \"line\", \"x0\": 19, \"x1\": 19, \"y0\": 23.58333, \"y1\": 24.249996666666668}, {\"layer\": \"below\", \"line\": {\"color\": \"white\", \"width\": 2}, \"type\": \"line\", \"x0\": 19, \"x1\": 19, \"y0\": 29.08333, \"y1\": 29.749996666666668}, {\"layer\": \"below\", \"line\": {\"color\": \"white\", \"width\": 2}, \"type\": \"line\", \"x0\": 19, \"x1\": 19, \"y0\": 51.63333333333333, \"y1\": 52.3}, {\"layer\": \"below\", \"line\": {\"color\": \"white\", \"width\": 2}, \"type\": \"line\", \"x0\": 21, \"x1\": 21, \"y0\": 1, \"y1\": 1.6666666666666665}, {\"layer\": \"below\", \"line\": {\"color\": \"white\", \"width\": 2}, \"type\": \"line\", \"x0\": 21, \"x1\": 21, \"y0\": 23.58333, \"y1\": 24.249996666666668}, {\"layer\": \"below\", \"line\": {\"color\": \"white\", \"width\": 2}, \"type\": \"line\", \"x0\": 21, \"x1\": 21, \"y0\": 29.08333, \"y1\": 29.749996666666668}, {\"layer\": \"below\", \"line\": {\"color\": \"white\", \"width\": 2}, \"type\": \"line\", \"x0\": 21, \"x1\": 21, \"y0\": 51.63333333333333, \"y1\": 52.3}, {\"layer\": \"below\", \"line\": {\"color\": \"white\", \"width\": 2}, \"type\": \"line\", \"x0\": 22, \"x1\": 22, \"y0\": 1, \"y1\": 1.6666666666666665}, {\"layer\": \"below\", \"line\": {\"color\": \"white\", \"width\": 2}, \"type\": \"line\", \"x0\": 22, \"x1\": 22, \"y0\": 23.58333, \"y1\": 24.249996666666668}, {\"layer\": \"below\", \"line\": {\"color\": \"white\", \"width\": 2}, \"type\": \"line\", \"x0\": 22, \"x1\": 22, \"y0\": 29.08333, \"y1\": 29.749996666666668}, {\"layer\": \"below\", \"line\": {\"color\": \"white\", \"width\": 2}, \"type\": \"line\", \"x0\": 22, \"x1\": 22, \"y0\": 51.63333333333333, \"y1\": 52.3}, {\"layer\": \"below\", \"line\": {\"color\": \"white\", \"width\": 2}, \"type\": \"line\", \"x0\": 23, \"x1\": 23, \"y0\": 1, \"y1\": 1.6666666666666665}, {\"layer\": \"below\", \"line\": {\"color\": \"white\", \"width\": 2}, \"type\": \"line\", \"x0\": 23, \"x1\": 23, \"y0\": 23.58333, \"y1\": 24.249996666666668}, {\"layer\": \"below\", \"line\": {\"color\": \"white\", \"width\": 2}, \"type\": \"line\", \"x0\": 23, \"x1\": 23, \"y0\": 29.08333, \"y1\": 29.749996666666668}, {\"layer\": \"below\", \"line\": {\"color\": \"white\", \"width\": 2}, \"type\": \"line\", \"x0\": 23, \"x1\": 23, \"y0\": 51.63333333333333, \"y1\": 52.3}, {\"layer\": \"below\", \"line\": {\"color\": \"white\", \"width\": 2}, \"type\": \"line\", \"x0\": 24, \"x1\": 24, \"y0\": 1, \"y1\": 1.6666666666666665}, {\"layer\": \"below\", \"line\": {\"color\": \"white\", \"width\": 2}, \"type\": \"line\", \"x0\": 24, \"x1\": 24, \"y0\": 23.58333, \"y1\": 24.249996666666668}, {\"layer\": \"below\", \"line\": {\"color\": \"white\", \"width\": 2}, \"type\": \"line\", \"x0\": 24, \"x1\": 24, \"y0\": 29.08333, \"y1\": 29.749996666666668}, {\"layer\": \"below\", \"line\": {\"color\": \"white\", \"width\": 2}, \"type\": \"line\", \"x0\": 24, \"x1\": 24, \"y0\": 51.63333333333333, \"y1\": 52.3}, {\"layer\": \"below\", \"line\": {\"color\": \"white\", \"width\": 2}, \"type\": \"line\", \"x0\": 25, \"x1\": 25, \"y0\": 1, \"y1\": 1.6666666666666665}, {\"layer\": \"below\", \"line\": {\"color\": \"white\", \"width\": 2}, \"type\": \"line\", \"x0\": 25, \"x1\": 25, \"y0\": 23.58333, \"y1\": 24.249996666666668}, {\"layer\": \"below\", \"line\": {\"color\": \"white\", \"width\": 2}, \"type\": \"line\", \"x0\": 25, \"x1\": 25, \"y0\": 29.08333, \"y1\": 29.749996666666668}, {\"layer\": \"below\", \"line\": {\"color\": \"white\", \"width\": 2}, \"type\": \"line\", \"x0\": 25, \"x1\": 25, \"y0\": 51.63333333333333, \"y1\": 52.3}, {\"layer\": \"below\", \"line\": {\"color\": \"white\", \"width\": 2}, \"type\": \"line\", \"x0\": 26, \"x1\": 26, \"y0\": 1, \"y1\": 1.6666666666666665}, {\"layer\": \"below\", \"line\": {\"color\": \"white\", \"width\": 2}, \"type\": \"line\", \"x0\": 26, \"x1\": 26, \"y0\": 23.58333, \"y1\": 24.249996666666668}, {\"layer\": \"below\", \"line\": {\"color\": \"white\", \"width\": 2}, \"type\": \"line\", \"x0\": 26, \"x1\": 26, \"y0\": 29.08333, \"y1\": 29.749996666666668}, {\"layer\": \"below\", \"line\": {\"color\": \"white\", \"width\": 2}, \"type\": \"line\", \"x0\": 26, \"x1\": 26, \"y0\": 51.63333333333333, \"y1\": 52.3}, {\"layer\": \"below\", \"line\": {\"color\": \"white\", \"width\": 2}, \"type\": \"line\", \"x0\": 27, \"x1\": 27, \"y0\": 1, \"y1\": 1.6666666666666665}, {\"layer\": \"below\", \"line\": {\"color\": \"white\", \"width\": 2}, \"type\": \"line\", \"x0\": 27, \"x1\": 27, \"y0\": 23.58333, \"y1\": 24.249996666666668}, {\"layer\": \"below\", \"line\": {\"color\": \"white\", \"width\": 2}, \"type\": \"line\", \"x0\": 27, \"x1\": 27, \"y0\": 29.08333, \"y1\": 29.749996666666668}, {\"layer\": \"below\", \"line\": {\"color\": \"white\", \"width\": 2}, \"type\": \"line\", \"x0\": 27, \"x1\": 27, \"y0\": 51.63333333333333, \"y1\": 52.3}, {\"layer\": \"below\", \"line\": {\"color\": \"white\", \"width\": 2}, \"type\": \"line\", \"x0\": 28, \"x1\": 28, \"y0\": 1, \"y1\": 1.6666666666666665}, {\"layer\": \"below\", \"line\": {\"color\": \"white\", \"width\": 2}, \"type\": \"line\", \"x0\": 28, \"x1\": 28, \"y0\": 23.58333, \"y1\": 24.249996666666668}, {\"layer\": \"below\", \"line\": {\"color\": \"white\", \"width\": 2}, \"type\": \"line\", \"x0\": 28, \"x1\": 28, \"y0\": 29.08333, \"y1\": 29.749996666666668}, {\"layer\": \"below\", \"line\": {\"color\": \"white\", \"width\": 2}, \"type\": \"line\", \"x0\": 28, \"x1\": 28, \"y0\": 51.63333333333333, \"y1\": 52.3}, {\"layer\": \"below\", \"line\": {\"color\": \"white\", \"width\": 2}, \"type\": \"line\", \"x0\": 29, \"x1\": 29, \"y0\": 1, \"y1\": 1.6666666666666665}, {\"layer\": \"below\", \"line\": {\"color\": \"white\", \"width\": 2}, \"type\": \"line\", \"x0\": 29, \"x1\": 29, \"y0\": 23.58333, \"y1\": 24.249996666666668}, {\"layer\": \"below\", \"line\": {\"color\": \"white\", \"width\": 2}, \"type\": \"line\", \"x0\": 29, \"x1\": 29, \"y0\": 29.08333, \"y1\": 29.749996666666668}, {\"layer\": \"below\", \"line\": {\"color\": \"white\", \"width\": 2}, \"type\": \"line\", \"x0\": 29, \"x1\": 29, \"y0\": 51.63333333333333, \"y1\": 52.3}, {\"layer\": \"below\", \"line\": {\"color\": \"white\", \"width\": 2}, \"type\": \"line\", \"x0\": 31, \"x1\": 31, \"y0\": 1, \"y1\": 1.6666666666666665}, {\"layer\": \"below\", \"line\": {\"color\": \"white\", \"width\": 2}, \"type\": \"line\", \"x0\": 31, \"x1\": 31, \"y0\": 23.58333, \"y1\": 24.249996666666668}, {\"layer\": \"below\", \"line\": {\"color\": \"white\", \"width\": 2}, \"type\": \"line\", \"x0\": 31, \"x1\": 31, \"y0\": 29.08333, \"y1\": 29.749996666666668}, {\"layer\": \"below\", \"line\": {\"color\": \"white\", \"width\": 2}, \"type\": \"line\", \"x0\": 31, \"x1\": 31, \"y0\": 51.63333333333333, \"y1\": 52.3}, {\"layer\": \"below\", \"line\": {\"color\": \"white\", \"width\": 2}, \"type\": \"line\", \"x0\": 32, \"x1\": 32, \"y0\": 1, \"y1\": 1.6666666666666665}, {\"layer\": \"below\", \"line\": {\"color\": \"white\", \"width\": 2}, \"type\": \"line\", \"x0\": 32, \"x1\": 32, \"y0\": 23.58333, \"y1\": 24.249996666666668}, {\"layer\": \"below\", \"line\": {\"color\": \"white\", \"width\": 2}, \"type\": \"line\", \"x0\": 32, \"x1\": 32, \"y0\": 29.08333, \"y1\": 29.749996666666668}, {\"layer\": \"below\", \"line\": {\"color\": \"white\", \"width\": 2}, \"type\": \"line\", \"x0\": 32, \"x1\": 32, \"y0\": 51.63333333333333, \"y1\": 52.3}, {\"layer\": \"below\", \"line\": {\"color\": \"white\", \"width\": 2}, \"type\": \"line\", \"x0\": 33, \"x1\": 33, \"y0\": 1, \"y1\": 1.6666666666666665}, {\"layer\": \"below\", \"line\": {\"color\": \"white\", \"width\": 2}, \"type\": \"line\", \"x0\": 33, \"x1\": 33, \"y0\": 23.58333, \"y1\": 24.249996666666668}, {\"layer\": \"below\", \"line\": {\"color\": \"white\", \"width\": 2}, \"type\": \"line\", \"x0\": 33, \"x1\": 33, \"y0\": 29.08333, \"y1\": 29.749996666666668}, {\"layer\": \"below\", \"line\": {\"color\": \"white\", \"width\": 2}, \"type\": \"line\", \"x0\": 33, \"x1\": 33, \"y0\": 51.63333333333333, \"y1\": 52.3}, {\"layer\": \"below\", \"line\": {\"color\": \"white\", \"width\": 2}, \"type\": \"line\", \"x0\": 34, \"x1\": 34, \"y0\": 1, \"y1\": 1.6666666666666665}, {\"layer\": \"below\", \"line\": {\"color\": \"white\", \"width\": 2}, \"type\": \"line\", \"x0\": 34, \"x1\": 34, \"y0\": 23.58333, \"y1\": 24.249996666666668}, {\"layer\": \"below\", \"line\": {\"color\": \"white\", \"width\": 2}, \"type\": \"line\", \"x0\": 34, \"x1\": 34, \"y0\": 29.08333, \"y1\": 29.749996666666668}, {\"layer\": \"below\", \"line\": {\"color\": \"white\", \"width\": 2}, \"type\": \"line\", \"x0\": 34, \"x1\": 34, \"y0\": 51.63333333333333, \"y1\": 52.3}, {\"layer\": \"below\", \"line\": {\"color\": \"white\", \"width\": 2}, \"type\": \"line\", \"x0\": 35, \"x1\": 35, \"y0\": 1, \"y1\": 1.6666666666666665}, {\"layer\": \"below\", \"line\": {\"color\": \"white\", \"width\": 2}, \"type\": \"line\", \"x0\": 35, \"x1\": 35, \"y0\": 23.58333, \"y1\": 24.249996666666668}, {\"layer\": \"below\", \"line\": {\"color\": \"white\", \"width\": 2}, \"type\": \"line\", \"x0\": 35, \"x1\": 35, \"y0\": 29.08333, \"y1\": 29.749996666666668}, {\"layer\": \"below\", \"line\": {\"color\": \"white\", \"width\": 2}, \"type\": \"line\", \"x0\": 35, \"x1\": 35, \"y0\": 51.63333333333333, \"y1\": 52.3}, {\"layer\": \"below\", \"line\": {\"color\": \"white\", \"width\": 2}, \"type\": \"line\", \"x0\": 36, \"x1\": 36, \"y0\": 1, \"y1\": 1.6666666666666665}, {\"layer\": \"below\", \"line\": {\"color\": \"white\", \"width\": 2}, \"type\": \"line\", \"x0\": 36, \"x1\": 36, \"y0\": 23.58333, \"y1\": 24.249996666666668}, {\"layer\": \"below\", \"line\": {\"color\": \"white\", \"width\": 2}, \"type\": \"line\", \"x0\": 36, \"x1\": 36, \"y0\": 29.08333, \"y1\": 29.749996666666668}, {\"layer\": \"below\", \"line\": {\"color\": \"white\", \"width\": 2}, \"type\": \"line\", \"x0\": 36, \"x1\": 36, \"y0\": 51.63333333333333, \"y1\": 52.3}, {\"layer\": \"below\", \"line\": {\"color\": \"white\", \"width\": 2}, \"type\": \"line\", \"x0\": 37, \"x1\": 37, \"y0\": 1, \"y1\": 1.6666666666666665}, {\"layer\": \"below\", \"line\": {\"color\": \"white\", \"width\": 2}, \"type\": \"line\", \"x0\": 37, \"x1\": 37, \"y0\": 23.58333, \"y1\": 24.249996666666668}, {\"layer\": \"below\", \"line\": {\"color\": \"white\", \"width\": 2}, \"type\": \"line\", \"x0\": 37, \"x1\": 37, \"y0\": 29.08333, \"y1\": 29.749996666666668}, {\"layer\": \"below\", \"line\": {\"color\": \"white\", \"width\": 2}, \"type\": \"line\", \"x0\": 37, \"x1\": 37, \"y0\": 51.63333333333333, \"y1\": 52.3}, {\"layer\": \"below\", \"line\": {\"color\": \"white\", \"width\": 2}, \"type\": \"line\", \"x0\": 38, \"x1\": 38, \"y0\": 1, \"y1\": 1.6666666666666665}, {\"layer\": \"below\", \"line\": {\"color\": \"white\", \"width\": 2}, \"type\": \"line\", \"x0\": 38, \"x1\": 38, \"y0\": 23.58333, \"y1\": 24.249996666666668}, {\"layer\": \"below\", \"line\": {\"color\": \"white\", \"width\": 2}, \"type\": \"line\", \"x0\": 38, \"x1\": 38, \"y0\": 29.08333, \"y1\": 29.749996666666668}, {\"layer\": \"below\", \"line\": {\"color\": \"white\", \"width\": 2}, \"type\": \"line\", \"x0\": 38, \"x1\": 38, \"y0\": 51.63333333333333, \"y1\": 52.3}, {\"layer\": \"below\", \"line\": {\"color\": \"white\", \"width\": 2}, \"type\": \"line\", \"x0\": 39, \"x1\": 39, \"y0\": 1, \"y1\": 1.6666666666666665}, {\"layer\": \"below\", \"line\": {\"color\": \"white\", \"width\": 2}, \"type\": \"line\", \"x0\": 39, \"x1\": 39, \"y0\": 23.58333, \"y1\": 24.249996666666668}, {\"layer\": \"below\", \"line\": {\"color\": \"white\", \"width\": 2}, \"type\": \"line\", \"x0\": 39, \"x1\": 39, \"y0\": 29.08333, \"y1\": 29.749996666666668}, {\"layer\": \"below\", \"line\": {\"color\": \"white\", \"width\": 2}, \"type\": \"line\", \"x0\": 39, \"x1\": 39, \"y0\": 51.63333333333333, \"y1\": 52.3}, {\"layer\": \"below\", \"line\": {\"color\": \"white\", \"width\": 2}, \"type\": \"line\", \"x0\": 41, \"x1\": 41, \"y0\": 1, \"y1\": 1.6666666666666665}, {\"layer\": \"below\", \"line\": {\"color\": \"white\", \"width\": 2}, \"type\": \"line\", \"x0\": 41, \"x1\": 41, \"y0\": 23.58333, \"y1\": 24.249996666666668}, {\"layer\": \"below\", \"line\": {\"color\": \"white\", \"width\": 2}, \"type\": \"line\", \"x0\": 41, \"x1\": 41, \"y0\": 29.08333, \"y1\": 29.749996666666668}, {\"layer\": \"below\", \"line\": {\"color\": \"white\", \"width\": 2}, \"type\": \"line\", \"x0\": 41, \"x1\": 41, \"y0\": 51.63333333333333, \"y1\": 52.3}, {\"layer\": \"below\", \"line\": {\"color\": \"white\", \"width\": 2}, \"type\": \"line\", \"x0\": 42, \"x1\": 42, \"y0\": 1, \"y1\": 1.6666666666666665}, {\"layer\": \"below\", \"line\": {\"color\": \"white\", \"width\": 2}, \"type\": \"line\", \"x0\": 42, \"x1\": 42, \"y0\": 23.58333, \"y1\": 24.249996666666668}, {\"layer\": \"below\", \"line\": {\"color\": \"white\", \"width\": 2}, \"type\": \"line\", \"x0\": 42, \"x1\": 42, \"y0\": 29.08333, \"y1\": 29.749996666666668}, {\"layer\": \"below\", \"line\": {\"color\": \"white\", \"width\": 2}, \"type\": \"line\", \"x0\": 42, \"x1\": 42, \"y0\": 51.63333333333333, \"y1\": 52.3}, {\"layer\": \"below\", \"line\": {\"color\": \"white\", \"width\": 2}, \"type\": \"line\", \"x0\": 43, \"x1\": 43, \"y0\": 1, \"y1\": 1.6666666666666665}, {\"layer\": \"below\", \"line\": {\"color\": \"white\", \"width\": 2}, \"type\": \"line\", \"x0\": 43, \"x1\": 43, \"y0\": 23.58333, \"y1\": 24.249996666666668}, {\"layer\": \"below\", \"line\": {\"color\": \"white\", \"width\": 2}, \"type\": \"line\", \"x0\": 43, \"x1\": 43, \"y0\": 29.08333, \"y1\": 29.749996666666668}, {\"layer\": \"below\", \"line\": {\"color\": \"white\", \"width\": 2}, \"type\": \"line\", \"x0\": 43, \"x1\": 43, \"y0\": 51.63333333333333, \"y1\": 52.3}, {\"layer\": \"below\", \"line\": {\"color\": \"white\", \"width\": 2}, \"type\": \"line\", \"x0\": 44, \"x1\": 44, \"y0\": 1, \"y1\": 1.6666666666666665}, {\"layer\": \"below\", \"line\": {\"color\": \"white\", \"width\": 2}, \"type\": \"line\", \"x0\": 44, \"x1\": 44, \"y0\": 23.58333, \"y1\": 24.249996666666668}, {\"layer\": \"below\", \"line\": {\"color\": \"white\", \"width\": 2}, \"type\": \"line\", \"x0\": 44, \"x1\": 44, \"y0\": 29.08333, \"y1\": 29.749996666666668}, {\"layer\": \"below\", \"line\": {\"color\": \"white\", \"width\": 2}, \"type\": \"line\", \"x0\": 44, \"x1\": 44, \"y0\": 51.63333333333333, \"y1\": 52.3}, {\"layer\": \"below\", \"line\": {\"color\": \"white\", \"width\": 2}, \"type\": \"line\", \"x0\": 45, \"x1\": 45, \"y0\": 1, \"y1\": 1.6666666666666665}, {\"layer\": \"below\", \"line\": {\"color\": \"white\", \"width\": 2}, \"type\": \"line\", \"x0\": 45, \"x1\": 45, \"y0\": 23.58333, \"y1\": 24.249996666666668}, {\"layer\": \"below\", \"line\": {\"color\": \"white\", \"width\": 2}, \"type\": \"line\", \"x0\": 45, \"x1\": 45, \"y0\": 29.08333, \"y1\": 29.749996666666668}, {\"layer\": \"below\", \"line\": {\"color\": \"white\", \"width\": 2}, \"type\": \"line\", \"x0\": 45, \"x1\": 45, \"y0\": 51.63333333333333, \"y1\": 52.3}, {\"layer\": \"below\", \"line\": {\"color\": \"white\", \"width\": 2}, \"type\": \"line\", \"x0\": 46, \"x1\": 46, \"y0\": 1, \"y1\": 1.6666666666666665}, {\"layer\": \"below\", \"line\": {\"color\": \"white\", \"width\": 2}, \"type\": \"line\", \"x0\": 46, \"x1\": 46, \"y0\": 23.58333, \"y1\": 24.249996666666668}, {\"layer\": \"below\", \"line\": {\"color\": \"white\", \"width\": 2}, \"type\": \"line\", \"x0\": 46, \"x1\": 46, \"y0\": 29.08333, \"y1\": 29.749996666666668}, {\"layer\": \"below\", \"line\": {\"color\": \"white\", \"width\": 2}, \"type\": \"line\", \"x0\": 46, \"x1\": 46, \"y0\": 51.63333333333333, \"y1\": 52.3}, {\"layer\": \"below\", \"line\": {\"color\": \"white\", \"width\": 2}, \"type\": \"line\", \"x0\": 47, \"x1\": 47, \"y0\": 1, \"y1\": 1.6666666666666665}, {\"layer\": \"below\", \"line\": {\"color\": \"white\", \"width\": 2}, \"type\": \"line\", \"x0\": 47, \"x1\": 47, \"y0\": 23.58333, \"y1\": 24.249996666666668}, {\"layer\": \"below\", \"line\": {\"color\": \"white\", \"width\": 2}, \"type\": \"line\", \"x0\": 47, \"x1\": 47, \"y0\": 29.08333, \"y1\": 29.749996666666668}, {\"layer\": \"below\", \"line\": {\"color\": \"white\", \"width\": 2}, \"type\": \"line\", \"x0\": 47, \"x1\": 47, \"y0\": 51.63333333333333, \"y1\": 52.3}, {\"layer\": \"below\", \"line\": {\"color\": \"white\", \"width\": 2}, \"type\": \"line\", \"x0\": 48, \"x1\": 48, \"y0\": 1, \"y1\": 1.6666666666666665}, {\"layer\": \"below\", \"line\": {\"color\": \"white\", \"width\": 2}, \"type\": \"line\", \"x0\": 48, \"x1\": 48, \"y0\": 23.58333, \"y1\": 24.249996666666668}, {\"layer\": \"below\", \"line\": {\"color\": \"white\", \"width\": 2}, \"type\": \"line\", \"x0\": 48, \"x1\": 48, \"y0\": 29.08333, \"y1\": 29.749996666666668}, {\"layer\": \"below\", \"line\": {\"color\": \"white\", \"width\": 2}, \"type\": \"line\", \"x0\": 48, \"x1\": 48, \"y0\": 51.63333333333333, \"y1\": 52.3}, {\"layer\": \"below\", \"line\": {\"color\": \"white\", \"width\": 2}, \"type\": \"line\", \"x0\": 49, \"x1\": 49, \"y0\": 1, \"y1\": 1.6666666666666665}, {\"layer\": \"below\", \"line\": {\"color\": \"white\", \"width\": 2}, \"type\": \"line\", \"x0\": 49, \"x1\": 49, \"y0\": 23.58333, \"y1\": 24.249996666666668}, {\"layer\": \"below\", \"line\": {\"color\": \"white\", \"width\": 2}, \"type\": \"line\", \"x0\": 49, \"x1\": 49, \"y0\": 29.08333, \"y1\": 29.749996666666668}, {\"layer\": \"below\", \"line\": {\"color\": \"white\", \"width\": 2}, \"type\": \"line\", \"x0\": 49, \"x1\": 49, \"y0\": 51.63333333333333, \"y1\": 52.3}, {\"layer\": \"below\", \"line\": {\"color\": \"white\", \"width\": 2}, \"type\": \"line\", \"x0\": 51, \"x1\": 51, \"y0\": 1, \"y1\": 1.6666666666666665}, {\"layer\": \"below\", \"line\": {\"color\": \"white\", \"width\": 2}, \"type\": \"line\", \"x0\": 51, \"x1\": 51, \"y0\": 23.58333, \"y1\": 24.249996666666668}, {\"layer\": \"below\", \"line\": {\"color\": \"white\", \"width\": 2}, \"type\": \"line\", \"x0\": 51, \"x1\": 51, \"y0\": 29.08333, \"y1\": 29.749996666666668}, {\"layer\": \"below\", \"line\": {\"color\": \"white\", \"width\": 2}, \"type\": \"line\", \"x0\": 51, \"x1\": 51, \"y0\": 51.63333333333333, \"y1\": 52.3}, {\"layer\": \"below\", \"line\": {\"color\": \"white\", \"width\": 2}, \"type\": \"line\", \"x0\": 52, \"x1\": 52, \"y0\": 1, \"y1\": 1.6666666666666665}, {\"layer\": \"below\", \"line\": {\"color\": \"white\", \"width\": 2}, \"type\": \"line\", \"x0\": 52, \"x1\": 52, \"y0\": 23.58333, \"y1\": 24.249996666666668}, {\"layer\": \"below\", \"line\": {\"color\": \"white\", \"width\": 2}, \"type\": \"line\", \"x0\": 52, \"x1\": 52, \"y0\": 29.08333, \"y1\": 29.749996666666668}, {\"layer\": \"below\", \"line\": {\"color\": \"white\", \"width\": 2}, \"type\": \"line\", \"x0\": 52, \"x1\": 52, \"y0\": 51.63333333333333, \"y1\": 52.3}, {\"layer\": \"below\", \"line\": {\"color\": \"white\", \"width\": 2}, \"type\": \"line\", \"x0\": 53, \"x1\": 53, \"y0\": 1, \"y1\": 1.6666666666666665}, {\"layer\": \"below\", \"line\": {\"color\": \"white\", \"width\": 2}, \"type\": \"line\", \"x0\": 53, \"x1\": 53, \"y0\": 23.58333, \"y1\": 24.249996666666668}, {\"layer\": \"below\", \"line\": {\"color\": \"white\", \"width\": 2}, \"type\": \"line\", \"x0\": 53, \"x1\": 53, \"y0\": 29.08333, \"y1\": 29.749996666666668}, {\"layer\": \"below\", \"line\": {\"color\": \"white\", \"width\": 2}, \"type\": \"line\", \"x0\": 53, \"x1\": 53, \"y0\": 51.63333333333333, \"y1\": 52.3}, {\"layer\": \"below\", \"line\": {\"color\": \"white\", \"width\": 2}, \"type\": \"line\", \"x0\": 54, \"x1\": 54, \"y0\": 1, \"y1\": 1.6666666666666665}, {\"layer\": \"below\", \"line\": {\"color\": \"white\", \"width\": 2}, \"type\": \"line\", \"x0\": 54, \"x1\": 54, \"y0\": 23.58333, \"y1\": 24.249996666666668}, {\"layer\": \"below\", \"line\": {\"color\": \"white\", \"width\": 2}, \"type\": \"line\", \"x0\": 54, \"x1\": 54, \"y0\": 29.08333, \"y1\": 29.749996666666668}, {\"layer\": \"below\", \"line\": {\"color\": \"white\", \"width\": 2}, \"type\": \"line\", \"x0\": 54, \"x1\": 54, \"y0\": 51.63333333333333, \"y1\": 52.3}, {\"layer\": \"below\", \"line\": {\"color\": \"white\", \"width\": 2}, \"type\": \"line\", \"x0\": 55, \"x1\": 55, \"y0\": 1, \"y1\": 1.6666666666666665}, {\"layer\": \"below\", \"line\": {\"color\": \"white\", \"width\": 2}, \"type\": \"line\", \"x0\": 55, \"x1\": 55, \"y0\": 23.58333, \"y1\": 24.249996666666668}, {\"layer\": \"below\", \"line\": {\"color\": \"white\", \"width\": 2}, \"type\": \"line\", \"x0\": 55, \"x1\": 55, \"y0\": 29.08333, \"y1\": 29.749996666666668}, {\"layer\": \"below\", \"line\": {\"color\": \"white\", \"width\": 2}, \"type\": \"line\", \"x0\": 55, \"x1\": 55, \"y0\": 51.63333333333333, \"y1\": 52.3}, {\"layer\": \"below\", \"line\": {\"color\": \"white\", \"width\": 2}, \"type\": \"line\", \"x0\": 56, \"x1\": 56, \"y0\": 1, \"y1\": 1.6666666666666665}, {\"layer\": \"below\", \"line\": {\"color\": \"white\", \"width\": 2}, \"type\": \"line\", \"x0\": 56, \"x1\": 56, \"y0\": 23.58333, \"y1\": 24.249996666666668}, {\"layer\": \"below\", \"line\": {\"color\": \"white\", \"width\": 2}, \"type\": \"line\", \"x0\": 56, \"x1\": 56, \"y0\": 29.08333, \"y1\": 29.749996666666668}, {\"layer\": \"below\", \"line\": {\"color\": \"white\", \"width\": 2}, \"type\": \"line\", \"x0\": 56, \"x1\": 56, \"y0\": 51.63333333333333, \"y1\": 52.3}, {\"layer\": \"below\", \"line\": {\"color\": \"white\", \"width\": 2}, \"type\": \"line\", \"x0\": 57, \"x1\": 57, \"y0\": 1, \"y1\": 1.6666666666666665}, {\"layer\": \"below\", \"line\": {\"color\": \"white\", \"width\": 2}, \"type\": \"line\", \"x0\": 57, \"x1\": 57, \"y0\": 23.58333, \"y1\": 24.249996666666668}, {\"layer\": \"below\", \"line\": {\"color\": \"white\", \"width\": 2}, \"type\": \"line\", \"x0\": 57, \"x1\": 57, \"y0\": 29.08333, \"y1\": 29.749996666666668}, {\"layer\": \"below\", \"line\": {\"color\": \"white\", \"width\": 2}, \"type\": \"line\", \"x0\": 57, \"x1\": 57, \"y0\": 51.63333333333333, \"y1\": 52.3}, {\"layer\": \"below\", \"line\": {\"color\": \"white\", \"width\": 2}, \"type\": \"line\", \"x0\": 58, \"x1\": 58, \"y0\": 1, \"y1\": 1.6666666666666665}, {\"layer\": \"below\", \"line\": {\"color\": \"white\", \"width\": 2}, \"type\": \"line\", \"x0\": 58, \"x1\": 58, \"y0\": 23.58333, \"y1\": 24.249996666666668}, {\"layer\": \"below\", \"line\": {\"color\": \"white\", \"width\": 2}, \"type\": \"line\", \"x0\": 58, \"x1\": 58, \"y0\": 29.08333, \"y1\": 29.749996666666668}, {\"layer\": \"below\", \"line\": {\"color\": \"white\", \"width\": 2}, \"type\": \"line\", \"x0\": 58, \"x1\": 58, \"y0\": 51.63333333333333, \"y1\": 52.3}, {\"layer\": \"below\", \"line\": {\"color\": \"white\", \"width\": 2}, \"type\": \"line\", \"x0\": 59, \"x1\": 59, \"y0\": 1, \"y1\": 1.6666666666666665}, {\"layer\": \"below\", \"line\": {\"color\": \"white\", \"width\": 2}, \"type\": \"line\", \"x0\": 59, \"x1\": 59, \"y0\": 23.58333, \"y1\": 24.249996666666668}, {\"layer\": \"below\", \"line\": {\"color\": \"white\", \"width\": 2}, \"type\": \"line\", \"x0\": 59, \"x1\": 59, \"y0\": 29.08333, \"y1\": 29.749996666666668}, {\"layer\": \"below\", \"line\": {\"color\": \"white\", \"width\": 2}, \"type\": \"line\", \"x0\": 59, \"x1\": 59, \"y0\": 51.63333333333333, \"y1\": 52.3}, {\"layer\": \"below\", \"line\": {\"color\": \"white\", \"width\": 2}, \"type\": \"line\", \"x0\": 61, \"x1\": 61, \"y0\": 1, \"y1\": 1.6666666666666665}, {\"layer\": \"below\", \"line\": {\"color\": \"white\", \"width\": 2}, \"type\": \"line\", \"x0\": 61, \"x1\": 61, \"y0\": 23.58333, \"y1\": 24.249996666666668}, {\"layer\": \"below\", \"line\": {\"color\": \"white\", \"width\": 2}, \"type\": \"line\", \"x0\": 61, \"x1\": 61, \"y0\": 29.08333, \"y1\": 29.749996666666668}, {\"layer\": \"below\", \"line\": {\"color\": \"white\", \"width\": 2}, \"type\": \"line\", \"x0\": 61, \"x1\": 61, \"y0\": 51.63333333333333, \"y1\": 52.3}, {\"layer\": \"below\", \"line\": {\"color\": \"white\", \"width\": 2}, \"type\": \"line\", \"x0\": 62, \"x1\": 62, \"y0\": 1, \"y1\": 1.6666666666666665}, {\"layer\": \"below\", \"line\": {\"color\": \"white\", \"width\": 2}, \"type\": \"line\", \"x0\": 62, \"x1\": 62, \"y0\": 23.58333, \"y1\": 24.249996666666668}, {\"layer\": \"below\", \"line\": {\"color\": \"white\", \"width\": 2}, \"type\": \"line\", \"x0\": 62, \"x1\": 62, \"y0\": 29.08333, \"y1\": 29.749996666666668}, {\"layer\": \"below\", \"line\": {\"color\": \"white\", \"width\": 2}, \"type\": \"line\", \"x0\": 62, \"x1\": 62, \"y0\": 51.63333333333333, \"y1\": 52.3}, {\"layer\": \"below\", \"line\": {\"color\": \"white\", \"width\": 2}, \"type\": \"line\", \"x0\": 63, \"x1\": 63, \"y0\": 1, \"y1\": 1.6666666666666665}, {\"layer\": \"below\", \"line\": {\"color\": \"white\", \"width\": 2}, \"type\": \"line\", \"x0\": 63, \"x1\": 63, \"y0\": 23.58333, \"y1\": 24.249996666666668}, {\"layer\": \"below\", \"line\": {\"color\": \"white\", \"width\": 2}, \"type\": \"line\", \"x0\": 63, \"x1\": 63, \"y0\": 29.08333, \"y1\": 29.749996666666668}, {\"layer\": \"below\", \"line\": {\"color\": \"white\", \"width\": 2}, \"type\": \"line\", \"x0\": 63, \"x1\": 63, \"y0\": 51.63333333333333, \"y1\": 52.3}, {\"layer\": \"below\", \"line\": {\"color\": \"white\", \"width\": 2}, \"type\": \"line\", \"x0\": 64, \"x1\": 64, \"y0\": 1, \"y1\": 1.6666666666666665}, {\"layer\": \"below\", \"line\": {\"color\": \"white\", \"width\": 2}, \"type\": \"line\", \"x0\": 64, \"x1\": 64, \"y0\": 23.58333, \"y1\": 24.249996666666668}, {\"layer\": \"below\", \"line\": {\"color\": \"white\", \"width\": 2}, \"type\": \"line\", \"x0\": 64, \"x1\": 64, \"y0\": 29.08333, \"y1\": 29.749996666666668}, {\"layer\": \"below\", \"line\": {\"color\": \"white\", \"width\": 2}, \"type\": \"line\", \"x0\": 64, \"x1\": 64, \"y0\": 51.63333333333333, \"y1\": 52.3}, {\"layer\": \"below\", \"line\": {\"color\": \"white\", \"width\": 2}, \"type\": \"line\", \"x0\": 65, \"x1\": 65, \"y0\": 1, \"y1\": 1.6666666666666665}, {\"layer\": \"below\", \"line\": {\"color\": \"white\", \"width\": 2}, \"type\": \"line\", \"x0\": 65, \"x1\": 65, \"y0\": 23.58333, \"y1\": 24.249996666666668}, {\"layer\": \"below\", \"line\": {\"color\": \"white\", \"width\": 2}, \"type\": \"line\", \"x0\": 65, \"x1\": 65, \"y0\": 29.08333, \"y1\": 29.749996666666668}, {\"layer\": \"below\", \"line\": {\"color\": \"white\", \"width\": 2}, \"type\": \"line\", \"x0\": 65, \"x1\": 65, \"y0\": 51.63333333333333, \"y1\": 52.3}, {\"layer\": \"below\", \"line\": {\"color\": \"white\", \"width\": 2}, \"type\": \"line\", \"x0\": 66, \"x1\": 66, \"y0\": 1, \"y1\": 1.6666666666666665}, {\"layer\": \"below\", \"line\": {\"color\": \"white\", \"width\": 2}, \"type\": \"line\", \"x0\": 66, \"x1\": 66, \"y0\": 23.58333, \"y1\": 24.249996666666668}, {\"layer\": \"below\", \"line\": {\"color\": \"white\", \"width\": 2}, \"type\": \"line\", \"x0\": 66, \"x1\": 66, \"y0\": 29.08333, \"y1\": 29.749996666666668}, {\"layer\": \"below\", \"line\": {\"color\": \"white\", \"width\": 2}, \"type\": \"line\", \"x0\": 66, \"x1\": 66, \"y0\": 51.63333333333333, \"y1\": 52.3}, {\"layer\": \"below\", \"line\": {\"color\": \"white\", \"width\": 2}, \"type\": \"line\", \"x0\": 67, \"x1\": 67, \"y0\": 1, \"y1\": 1.6666666666666665}, {\"layer\": \"below\", \"line\": {\"color\": \"white\", \"width\": 2}, \"type\": \"line\", \"x0\": 67, \"x1\": 67, \"y0\": 23.58333, \"y1\": 24.249996666666668}, {\"layer\": \"below\", \"line\": {\"color\": \"white\", \"width\": 2}, \"type\": \"line\", \"x0\": 67, \"x1\": 67, \"y0\": 29.08333, \"y1\": 29.749996666666668}, {\"layer\": \"below\", \"line\": {\"color\": \"white\", \"width\": 2}, \"type\": \"line\", \"x0\": 67, \"x1\": 67, \"y0\": 51.63333333333333, \"y1\": 52.3}, {\"layer\": \"below\", \"line\": {\"color\": \"white\", \"width\": 2}, \"type\": \"line\", \"x0\": 68, \"x1\": 68, \"y0\": 1, \"y1\": 1.6666666666666665}, {\"layer\": \"below\", \"line\": {\"color\": \"white\", \"width\": 2}, \"type\": \"line\", \"x0\": 68, \"x1\": 68, \"y0\": 23.58333, \"y1\": 24.249996666666668}, {\"layer\": \"below\", \"line\": {\"color\": \"white\", \"width\": 2}, \"type\": \"line\", \"x0\": 68, \"x1\": 68, \"y0\": 29.08333, \"y1\": 29.749996666666668}, {\"layer\": \"below\", \"line\": {\"color\": \"white\", \"width\": 2}, \"type\": \"line\", \"x0\": 68, \"x1\": 68, \"y0\": 51.63333333333333, \"y1\": 52.3}, {\"layer\": \"below\", \"line\": {\"color\": \"white\", \"width\": 2}, \"type\": \"line\", \"x0\": 69, \"x1\": 69, \"y0\": 1, \"y1\": 1.6666666666666665}, {\"layer\": \"below\", \"line\": {\"color\": \"white\", \"width\": 2}, \"type\": \"line\", \"x0\": 69, \"x1\": 69, \"y0\": 23.58333, \"y1\": 24.249996666666668}, {\"layer\": \"below\", \"line\": {\"color\": \"white\", \"width\": 2}, \"type\": \"line\", \"x0\": 69, \"x1\": 69, \"y0\": 29.08333, \"y1\": 29.749996666666668}, {\"layer\": \"below\", \"line\": {\"color\": \"white\", \"width\": 2}, \"type\": \"line\", \"x0\": 69, \"x1\": 69, \"y0\": 51.63333333333333, \"y1\": 52.3}, {\"layer\": \"below\", \"line\": {\"color\": \"white\", \"width\": 2}, \"type\": \"line\", \"x0\": 71, \"x1\": 71, \"y0\": 1, \"y1\": 1.6666666666666665}, {\"layer\": \"below\", \"line\": {\"color\": \"white\", \"width\": 2}, \"type\": \"line\", \"x0\": 71, \"x1\": 71, \"y0\": 23.58333, \"y1\": 24.249996666666668}, {\"layer\": \"below\", \"line\": {\"color\": \"white\", \"width\": 2}, \"type\": \"line\", \"x0\": 71, \"x1\": 71, \"y0\": 29.08333, \"y1\": 29.749996666666668}, {\"layer\": \"below\", \"line\": {\"color\": \"white\", \"width\": 2}, \"type\": \"line\", \"x0\": 71, \"x1\": 71, \"y0\": 51.63333333333333, \"y1\": 52.3}, {\"layer\": \"below\", \"line\": {\"color\": \"white\", \"width\": 2}, \"type\": \"line\", \"x0\": 72, \"x1\": 72, \"y0\": 1, \"y1\": 1.6666666666666665}, {\"layer\": \"below\", \"line\": {\"color\": \"white\", \"width\": 2}, \"type\": \"line\", \"x0\": 72, \"x1\": 72, \"y0\": 23.58333, \"y1\": 24.249996666666668}, {\"layer\": \"below\", \"line\": {\"color\": \"white\", \"width\": 2}, \"type\": \"line\", \"x0\": 72, \"x1\": 72, \"y0\": 29.08333, \"y1\": 29.749996666666668}, {\"layer\": \"below\", \"line\": {\"color\": \"white\", \"width\": 2}, \"type\": \"line\", \"x0\": 72, \"x1\": 72, \"y0\": 51.63333333333333, \"y1\": 52.3}, {\"layer\": \"below\", \"line\": {\"color\": \"white\", \"width\": 2}, \"type\": \"line\", \"x0\": 73, \"x1\": 73, \"y0\": 1, \"y1\": 1.6666666666666665}, {\"layer\": \"below\", \"line\": {\"color\": \"white\", \"width\": 2}, \"type\": \"line\", \"x0\": 73, \"x1\": 73, \"y0\": 23.58333, \"y1\": 24.249996666666668}, {\"layer\": \"below\", \"line\": {\"color\": \"white\", \"width\": 2}, \"type\": \"line\", \"x0\": 73, \"x1\": 73, \"y0\": 29.08333, \"y1\": 29.749996666666668}, {\"layer\": \"below\", \"line\": {\"color\": \"white\", \"width\": 2}, \"type\": \"line\", \"x0\": 73, \"x1\": 73, \"y0\": 51.63333333333333, \"y1\": 52.3}, {\"layer\": \"below\", \"line\": {\"color\": \"white\", \"width\": 2}, \"type\": \"line\", \"x0\": 74, \"x1\": 74, \"y0\": 1, \"y1\": 1.6666666666666665}, {\"layer\": \"below\", \"line\": {\"color\": \"white\", \"width\": 2}, \"type\": \"line\", \"x0\": 74, \"x1\": 74, \"y0\": 23.58333, \"y1\": 24.249996666666668}, {\"layer\": \"below\", \"line\": {\"color\": \"white\", \"width\": 2}, \"type\": \"line\", \"x0\": 74, \"x1\": 74, \"y0\": 29.08333, \"y1\": 29.749996666666668}, {\"layer\": \"below\", \"line\": {\"color\": \"white\", \"width\": 2}, \"type\": \"line\", \"x0\": 74, \"x1\": 74, \"y0\": 51.63333333333333, \"y1\": 52.3}, {\"layer\": \"below\", \"line\": {\"color\": \"white\", \"width\": 2}, \"type\": \"line\", \"x0\": 75, \"x1\": 75, \"y0\": 1, \"y1\": 1.6666666666666665}, {\"layer\": \"below\", \"line\": {\"color\": \"white\", \"width\": 2}, \"type\": \"line\", \"x0\": 75, \"x1\": 75, \"y0\": 23.58333, \"y1\": 24.249996666666668}, {\"layer\": \"below\", \"line\": {\"color\": \"white\", \"width\": 2}, \"type\": \"line\", \"x0\": 75, \"x1\": 75, \"y0\": 29.08333, \"y1\": 29.749996666666668}, {\"layer\": \"below\", \"line\": {\"color\": \"white\", \"width\": 2}, \"type\": \"line\", \"x0\": 75, \"x1\": 75, \"y0\": 51.63333333333333, \"y1\": 52.3}, {\"layer\": \"below\", \"line\": {\"color\": \"white\", \"width\": 2}, \"type\": \"line\", \"x0\": 76, \"x1\": 76, \"y0\": 1, \"y1\": 1.6666666666666665}, {\"layer\": \"below\", \"line\": {\"color\": \"white\", \"width\": 2}, \"type\": \"line\", \"x0\": 76, \"x1\": 76, \"y0\": 23.58333, \"y1\": 24.249996666666668}, {\"layer\": \"below\", \"line\": {\"color\": \"white\", \"width\": 2}, \"type\": \"line\", \"x0\": 76, \"x1\": 76, \"y0\": 29.08333, \"y1\": 29.749996666666668}, {\"layer\": \"below\", \"line\": {\"color\": \"white\", \"width\": 2}, \"type\": \"line\", \"x0\": 76, \"x1\": 76, \"y0\": 51.63333333333333, \"y1\": 52.3}, {\"layer\": \"below\", \"line\": {\"color\": \"white\", \"width\": 2}, \"type\": \"line\", \"x0\": 77, \"x1\": 77, \"y0\": 1, \"y1\": 1.6666666666666665}, {\"layer\": \"below\", \"line\": {\"color\": \"white\", \"width\": 2}, \"type\": \"line\", \"x0\": 77, \"x1\": 77, \"y0\": 23.58333, \"y1\": 24.249996666666668}, {\"layer\": \"below\", \"line\": {\"color\": \"white\", \"width\": 2}, \"type\": \"line\", \"x0\": 77, \"x1\": 77, \"y0\": 29.08333, \"y1\": 29.749996666666668}, {\"layer\": \"below\", \"line\": {\"color\": \"white\", \"width\": 2}, \"type\": \"line\", \"x0\": 77, \"x1\": 77, \"y0\": 51.63333333333333, \"y1\": 52.3}, {\"layer\": \"below\", \"line\": {\"color\": \"white\", \"width\": 2}, \"type\": \"line\", \"x0\": 78, \"x1\": 78, \"y0\": 1, \"y1\": 1.6666666666666665}, {\"layer\": \"below\", \"line\": {\"color\": \"white\", \"width\": 2}, \"type\": \"line\", \"x0\": 78, \"x1\": 78, \"y0\": 23.58333, \"y1\": 24.249996666666668}, {\"layer\": \"below\", \"line\": {\"color\": \"white\", \"width\": 2}, \"type\": \"line\", \"x0\": 78, \"x1\": 78, \"y0\": 29.08333, \"y1\": 29.749996666666668}, {\"layer\": \"below\", \"line\": {\"color\": \"white\", \"width\": 2}, \"type\": \"line\", \"x0\": 78, \"x1\": 78, \"y0\": 51.63333333333333, \"y1\": 52.3}, {\"layer\": \"below\", \"line\": {\"color\": \"white\", \"width\": 2}, \"type\": \"line\", \"x0\": 79, \"x1\": 79, \"y0\": 1, \"y1\": 1.6666666666666665}, {\"layer\": \"below\", \"line\": {\"color\": \"white\", \"width\": 2}, \"type\": \"line\", \"x0\": 79, \"x1\": 79, \"y0\": 23.58333, \"y1\": 24.249996666666668}, {\"layer\": \"below\", \"line\": {\"color\": \"white\", \"width\": 2}, \"type\": \"line\", \"x0\": 79, \"x1\": 79, \"y0\": 29.08333, \"y1\": 29.749996666666668}, {\"layer\": \"below\", \"line\": {\"color\": \"white\", \"width\": 2}, \"type\": \"line\", \"x0\": 79, \"x1\": 79, \"y0\": 51.63333333333333, \"y1\": 52.3}, {\"layer\": \"below\", \"line\": {\"color\": \"white\", \"width\": 2}, \"type\": \"line\", \"x0\": 81, \"x1\": 81, \"y0\": 1, \"y1\": 1.6666666666666665}, {\"layer\": \"below\", \"line\": {\"color\": \"white\", \"width\": 2}, \"type\": \"line\", \"x0\": 81, \"x1\": 81, \"y0\": 23.58333, \"y1\": 24.249996666666668}, {\"layer\": \"below\", \"line\": {\"color\": \"white\", \"width\": 2}, \"type\": \"line\", \"x0\": 81, \"x1\": 81, \"y0\": 29.08333, \"y1\": 29.749996666666668}, {\"layer\": \"below\", \"line\": {\"color\": \"white\", \"width\": 2}, \"type\": \"line\", \"x0\": 81, \"x1\": 81, \"y0\": 51.63333333333333, \"y1\": 52.3}, {\"layer\": \"below\", \"line\": {\"color\": \"white\", \"width\": 2}, \"type\": \"line\", \"x0\": 82, \"x1\": 82, \"y0\": 1, \"y1\": 1.6666666666666665}, {\"layer\": \"below\", \"line\": {\"color\": \"white\", \"width\": 2}, \"type\": \"line\", \"x0\": 82, \"x1\": 82, \"y0\": 23.58333, \"y1\": 24.249996666666668}, {\"layer\": \"below\", \"line\": {\"color\": \"white\", \"width\": 2}, \"type\": \"line\", \"x0\": 82, \"x1\": 82, \"y0\": 29.08333, \"y1\": 29.749996666666668}, {\"layer\": \"below\", \"line\": {\"color\": \"white\", \"width\": 2}, \"type\": \"line\", \"x0\": 82, \"x1\": 82, \"y0\": 51.63333333333333, \"y1\": 52.3}, {\"layer\": \"below\", \"line\": {\"color\": \"white\", \"width\": 2}, \"type\": \"line\", \"x0\": 83, \"x1\": 83, \"y0\": 1, \"y1\": 1.6666666666666665}, {\"layer\": \"below\", \"line\": {\"color\": \"white\", \"width\": 2}, \"type\": \"line\", \"x0\": 83, \"x1\": 83, \"y0\": 23.58333, \"y1\": 24.249996666666668}, {\"layer\": \"below\", \"line\": {\"color\": \"white\", \"width\": 2}, \"type\": \"line\", \"x0\": 83, \"x1\": 83, \"y0\": 29.08333, \"y1\": 29.749996666666668}, {\"layer\": \"below\", \"line\": {\"color\": \"white\", \"width\": 2}, \"type\": \"line\", \"x0\": 83, \"x1\": 83, \"y0\": 51.63333333333333, \"y1\": 52.3}, {\"layer\": \"below\", \"line\": {\"color\": \"white\", \"width\": 2}, \"type\": \"line\", \"x0\": 84, \"x1\": 84, \"y0\": 1, \"y1\": 1.6666666666666665}, {\"layer\": \"below\", \"line\": {\"color\": \"white\", \"width\": 2}, \"type\": \"line\", \"x0\": 84, \"x1\": 84, \"y0\": 23.58333, \"y1\": 24.249996666666668}, {\"layer\": \"below\", \"line\": {\"color\": \"white\", \"width\": 2}, \"type\": \"line\", \"x0\": 84, \"x1\": 84, \"y0\": 29.08333, \"y1\": 29.749996666666668}, {\"layer\": \"below\", \"line\": {\"color\": \"white\", \"width\": 2}, \"type\": \"line\", \"x0\": 84, \"x1\": 84, \"y0\": 51.63333333333333, \"y1\": 52.3}, {\"layer\": \"below\", \"line\": {\"color\": \"white\", \"width\": 2}, \"type\": \"line\", \"x0\": 85, \"x1\": 85, \"y0\": 1, \"y1\": 1.6666666666666665}, {\"layer\": \"below\", \"line\": {\"color\": \"white\", \"width\": 2}, \"type\": \"line\", \"x0\": 85, \"x1\": 85, \"y0\": 23.58333, \"y1\": 24.249996666666668}, {\"layer\": \"below\", \"line\": {\"color\": \"white\", \"width\": 2}, \"type\": \"line\", \"x0\": 85, \"x1\": 85, \"y0\": 29.08333, \"y1\": 29.749996666666668}, {\"layer\": \"below\", \"line\": {\"color\": \"white\", \"width\": 2}, \"type\": \"line\", \"x0\": 85, \"x1\": 85, \"y0\": 51.63333333333333, \"y1\": 52.3}, {\"layer\": \"below\", \"line\": {\"color\": \"white\", \"width\": 2}, \"type\": \"line\", \"x0\": 86, \"x1\": 86, \"y0\": 1, \"y1\": 1.6666666666666665}, {\"layer\": \"below\", \"line\": {\"color\": \"white\", \"width\": 2}, \"type\": \"line\", \"x0\": 86, \"x1\": 86, \"y0\": 23.58333, \"y1\": 24.249996666666668}, {\"layer\": \"below\", \"line\": {\"color\": \"white\", \"width\": 2}, \"type\": \"line\", \"x0\": 86, \"x1\": 86, \"y0\": 29.08333, \"y1\": 29.749996666666668}, {\"layer\": \"below\", \"line\": {\"color\": \"white\", \"width\": 2}, \"type\": \"line\", \"x0\": 86, \"x1\": 86, \"y0\": 51.63333333333333, \"y1\": 52.3}, {\"layer\": \"below\", \"line\": {\"color\": \"white\", \"width\": 2}, \"type\": \"line\", \"x0\": 87, \"x1\": 87, \"y0\": 1, \"y1\": 1.6666666666666665}, {\"layer\": \"below\", \"line\": {\"color\": \"white\", \"width\": 2}, \"type\": \"line\", \"x0\": 87, \"x1\": 87, \"y0\": 23.58333, \"y1\": 24.249996666666668}, {\"layer\": \"below\", \"line\": {\"color\": \"white\", \"width\": 2}, \"type\": \"line\", \"x0\": 87, \"x1\": 87, \"y0\": 29.08333, \"y1\": 29.749996666666668}, {\"layer\": \"below\", \"line\": {\"color\": \"white\", \"width\": 2}, \"type\": \"line\", \"x0\": 87, \"x1\": 87, \"y0\": 51.63333333333333, \"y1\": 52.3}, {\"layer\": \"below\", \"line\": {\"color\": \"white\", \"width\": 2}, \"type\": \"line\", \"x0\": 88, \"x1\": 88, \"y0\": 1, \"y1\": 1.6666666666666665}, {\"layer\": \"below\", \"line\": {\"color\": \"white\", \"width\": 2}, \"type\": \"line\", \"x0\": 88, \"x1\": 88, \"y0\": 23.58333, \"y1\": 24.249996666666668}, {\"layer\": \"below\", \"line\": {\"color\": \"white\", \"width\": 2}, \"type\": \"line\", \"x0\": 88, \"x1\": 88, \"y0\": 29.08333, \"y1\": 29.749996666666668}, {\"layer\": \"below\", \"line\": {\"color\": \"white\", \"width\": 2}, \"type\": \"line\", \"x0\": 88, \"x1\": 88, \"y0\": 51.63333333333333, \"y1\": 52.3}, {\"layer\": \"below\", \"line\": {\"color\": \"white\", \"width\": 2}, \"type\": \"line\", \"x0\": 89, \"x1\": 89, \"y0\": 1, \"y1\": 1.6666666666666665}, {\"layer\": \"below\", \"line\": {\"color\": \"white\", \"width\": 2}, \"type\": \"line\", \"x0\": 89, \"x1\": 89, \"y0\": 23.58333, \"y1\": 24.249996666666668}, {\"layer\": \"below\", \"line\": {\"color\": \"white\", \"width\": 2}, \"type\": \"line\", \"x0\": 89, \"x1\": 89, \"y0\": 29.08333, \"y1\": 29.749996666666668}, {\"layer\": \"below\", \"line\": {\"color\": \"white\", \"width\": 2}, \"type\": \"line\", \"x0\": 89, \"x1\": 89, \"y0\": 51.63333333333333, \"y1\": 52.3}, {\"layer\": \"below\", \"line\": {\"color\": \"white\", \"width\": 2}, \"type\": \"line\", \"x0\": 91, \"x1\": 91, \"y0\": 1, \"y1\": 1.6666666666666665}, {\"layer\": \"below\", \"line\": {\"color\": \"white\", \"width\": 2}, \"type\": \"line\", \"x0\": 91, \"x1\": 91, \"y0\": 23.58333, \"y1\": 24.249996666666668}, {\"layer\": \"below\", \"line\": {\"color\": \"white\", \"width\": 2}, \"type\": \"line\", \"x0\": 91, \"x1\": 91, \"y0\": 29.08333, \"y1\": 29.749996666666668}, {\"layer\": \"below\", \"line\": {\"color\": \"white\", \"width\": 2}, \"type\": \"line\", \"x0\": 91, \"x1\": 91, \"y0\": 51.63333333333333, \"y1\": 52.3}, {\"layer\": \"below\", \"line\": {\"color\": \"white\", \"width\": 2}, \"type\": \"line\", \"x0\": 92, \"x1\": 92, \"y0\": 1, \"y1\": 1.6666666666666665}, {\"layer\": \"below\", \"line\": {\"color\": \"white\", \"width\": 2}, \"type\": \"line\", \"x0\": 92, \"x1\": 92, \"y0\": 23.58333, \"y1\": 24.249996666666668}, {\"layer\": \"below\", \"line\": {\"color\": \"white\", \"width\": 2}, \"type\": \"line\", \"x0\": 92, \"x1\": 92, \"y0\": 29.08333, \"y1\": 29.749996666666668}, {\"layer\": \"below\", \"line\": {\"color\": \"white\", \"width\": 2}, \"type\": \"line\", \"x0\": 92, \"x1\": 92, \"y0\": 51.63333333333333, \"y1\": 52.3}, {\"layer\": \"below\", \"line\": {\"color\": \"white\", \"width\": 2}, \"type\": \"line\", \"x0\": 93, \"x1\": 93, \"y0\": 1, \"y1\": 1.6666666666666665}, {\"layer\": \"below\", \"line\": {\"color\": \"white\", \"width\": 2}, \"type\": \"line\", \"x0\": 93, \"x1\": 93, \"y0\": 23.58333, \"y1\": 24.249996666666668}, {\"layer\": \"below\", \"line\": {\"color\": \"white\", \"width\": 2}, \"type\": \"line\", \"x0\": 93, \"x1\": 93, \"y0\": 29.08333, \"y1\": 29.749996666666668}, {\"layer\": \"below\", \"line\": {\"color\": \"white\", \"width\": 2}, \"type\": \"line\", \"x0\": 93, \"x1\": 93, \"y0\": 51.63333333333333, \"y1\": 52.3}, {\"layer\": \"below\", \"line\": {\"color\": \"white\", \"width\": 2}, \"type\": \"line\", \"x0\": 94, \"x1\": 94, \"y0\": 1, \"y1\": 1.6666666666666665}, {\"layer\": \"below\", \"line\": {\"color\": \"white\", \"width\": 2}, \"type\": \"line\", \"x0\": 94, \"x1\": 94, \"y0\": 23.58333, \"y1\": 24.249996666666668}, {\"layer\": \"below\", \"line\": {\"color\": \"white\", \"width\": 2}, \"type\": \"line\", \"x0\": 94, \"x1\": 94, \"y0\": 29.08333, \"y1\": 29.749996666666668}, {\"layer\": \"below\", \"line\": {\"color\": \"white\", \"width\": 2}, \"type\": \"line\", \"x0\": 94, \"x1\": 94, \"y0\": 51.63333333333333, \"y1\": 52.3}, {\"layer\": \"below\", \"line\": {\"color\": \"white\", \"width\": 2}, \"type\": \"line\", \"x0\": 95, \"x1\": 95, \"y0\": 1, \"y1\": 1.6666666666666665}, {\"layer\": \"below\", \"line\": {\"color\": \"white\", \"width\": 2}, \"type\": \"line\", \"x0\": 95, \"x1\": 95, \"y0\": 23.58333, \"y1\": 24.249996666666668}, {\"layer\": \"below\", \"line\": {\"color\": \"white\", \"width\": 2}, \"type\": \"line\", \"x0\": 95, \"x1\": 95, \"y0\": 29.08333, \"y1\": 29.749996666666668}, {\"layer\": \"below\", \"line\": {\"color\": \"white\", \"width\": 2}, \"type\": \"line\", \"x0\": 95, \"x1\": 95, \"y0\": 51.63333333333333, \"y1\": 52.3}, {\"layer\": \"below\", \"line\": {\"color\": \"white\", \"width\": 2}, \"type\": \"line\", \"x0\": 96, \"x1\": 96, \"y0\": 1, \"y1\": 1.6666666666666665}, {\"layer\": \"below\", \"line\": {\"color\": \"white\", \"width\": 2}, \"type\": \"line\", \"x0\": 96, \"x1\": 96, \"y0\": 23.58333, \"y1\": 24.249996666666668}, {\"layer\": \"below\", \"line\": {\"color\": \"white\", \"width\": 2}, \"type\": \"line\", \"x0\": 96, \"x1\": 96, \"y0\": 29.08333, \"y1\": 29.749996666666668}, {\"layer\": \"below\", \"line\": {\"color\": \"white\", \"width\": 2}, \"type\": \"line\", \"x0\": 96, \"x1\": 96, \"y0\": 51.63333333333333, \"y1\": 52.3}, {\"layer\": \"below\", \"line\": {\"color\": \"white\", \"width\": 2}, \"type\": \"line\", \"x0\": 97, \"x1\": 97, \"y0\": 1, \"y1\": 1.6666666666666665}, {\"layer\": \"below\", \"line\": {\"color\": \"white\", \"width\": 2}, \"type\": \"line\", \"x0\": 97, \"x1\": 97, \"y0\": 23.58333, \"y1\": 24.249996666666668}, {\"layer\": \"below\", \"line\": {\"color\": \"white\", \"width\": 2}, \"type\": \"line\", \"x0\": 97, \"x1\": 97, \"y0\": 29.08333, \"y1\": 29.749996666666668}, {\"layer\": \"below\", \"line\": {\"color\": \"white\", \"width\": 2}, \"type\": \"line\", \"x0\": 97, \"x1\": 97, \"y0\": 51.63333333333333, \"y1\": 52.3}, {\"layer\": \"below\", \"line\": {\"color\": \"white\", \"width\": 2}, \"type\": \"line\", \"x0\": 98, \"x1\": 98, \"y0\": 1, \"y1\": 1.6666666666666665}, {\"layer\": \"below\", \"line\": {\"color\": \"white\", \"width\": 2}, \"type\": \"line\", \"x0\": 98, \"x1\": 98, \"y0\": 23.58333, \"y1\": 24.249996666666668}, {\"layer\": \"below\", \"line\": {\"color\": \"white\", \"width\": 2}, \"type\": \"line\", \"x0\": 98, \"x1\": 98, \"y0\": 29.08333, \"y1\": 29.749996666666668}, {\"layer\": \"below\", \"line\": {\"color\": \"white\", \"width\": 2}, \"type\": \"line\", \"x0\": 98, \"x1\": 98, \"y0\": 51.63333333333333, \"y1\": 52.3}, {\"layer\": \"below\", \"line\": {\"color\": \"white\", \"width\": 2}, \"type\": \"line\", \"x0\": 99, \"x1\": 99, \"y0\": 1, \"y1\": 1.6666666666666665}, {\"layer\": \"below\", \"line\": {\"color\": \"white\", \"width\": 2}, \"type\": \"line\", \"x0\": 99, \"x1\": 99, \"y0\": 23.58333, \"y1\": 24.249996666666668}, {\"layer\": \"below\", \"line\": {\"color\": \"white\", \"width\": 2}, \"type\": \"line\", \"x0\": 99, \"x1\": 99, \"y0\": 29.08333, \"y1\": 29.749996666666668}, {\"layer\": \"below\", \"line\": {\"color\": \"white\", \"width\": 2}, \"type\": \"line\", \"x0\": 99, \"x1\": 99, \"y0\": 51.63333333333333, \"y1\": 52.3}, {\"layer\": \"below\", \"line\": {\"color\": \"white\", \"width\": 2}, \"type\": \"line\", \"x0\": 101, \"x1\": 101, \"y0\": 1, \"y1\": 1.6666666666666665}, {\"layer\": \"below\", \"line\": {\"color\": \"white\", \"width\": 2}, \"type\": \"line\", \"x0\": 101, \"x1\": 101, \"y0\": 23.58333, \"y1\": 24.249996666666668}, {\"layer\": \"below\", \"line\": {\"color\": \"white\", \"width\": 2}, \"type\": \"line\", \"x0\": 101, \"x1\": 101, \"y0\": 29.08333, \"y1\": 29.749996666666668}, {\"layer\": \"below\", \"line\": {\"color\": \"white\", \"width\": 2}, \"type\": \"line\", \"x0\": 101, \"x1\": 101, \"y0\": 51.63333333333333, \"y1\": 52.3}, {\"layer\": \"below\", \"line\": {\"color\": \"white\", \"width\": 2}, \"type\": \"line\", \"x0\": 102, \"x1\": 102, \"y0\": 1, \"y1\": 1.6666666666666665}, {\"layer\": \"below\", \"line\": {\"color\": \"white\", \"width\": 2}, \"type\": \"line\", \"x0\": 102, \"x1\": 102, \"y0\": 23.58333, \"y1\": 24.249996666666668}, {\"layer\": \"below\", \"line\": {\"color\": \"white\", \"width\": 2}, \"type\": \"line\", \"x0\": 102, \"x1\": 102, \"y0\": 29.08333, \"y1\": 29.749996666666668}, {\"layer\": \"below\", \"line\": {\"color\": \"white\", \"width\": 2}, \"type\": \"line\", \"x0\": 102, \"x1\": 102, \"y0\": 51.63333333333333, \"y1\": 52.3}, {\"layer\": \"below\", \"line\": {\"color\": \"white\", \"width\": 2}, \"type\": \"line\", \"x0\": 103, \"x1\": 103, \"y0\": 1, \"y1\": 1.6666666666666665}, {\"layer\": \"below\", \"line\": {\"color\": \"white\", \"width\": 2}, \"type\": \"line\", \"x0\": 103, \"x1\": 103, \"y0\": 23.58333, \"y1\": 24.249996666666668}, {\"layer\": \"below\", \"line\": {\"color\": \"white\", \"width\": 2}, \"type\": \"line\", \"x0\": 103, \"x1\": 103, \"y0\": 29.08333, \"y1\": 29.749996666666668}, {\"layer\": \"below\", \"line\": {\"color\": \"white\", \"width\": 2}, \"type\": \"line\", \"x0\": 103, \"x1\": 103, \"y0\": 51.63333333333333, \"y1\": 52.3}, {\"layer\": \"below\", \"line\": {\"color\": \"white\", \"width\": 2}, \"type\": \"line\", \"x0\": 104, \"x1\": 104, \"y0\": 1, \"y1\": 1.6666666666666665}, {\"layer\": \"below\", \"line\": {\"color\": \"white\", \"width\": 2}, \"type\": \"line\", \"x0\": 104, \"x1\": 104, \"y0\": 23.58333, \"y1\": 24.249996666666668}, {\"layer\": \"below\", \"line\": {\"color\": \"white\", \"width\": 2}, \"type\": \"line\", \"x0\": 104, \"x1\": 104, \"y0\": 29.08333, \"y1\": 29.749996666666668}, {\"layer\": \"below\", \"line\": {\"color\": \"white\", \"width\": 2}, \"type\": \"line\", \"x0\": 104, \"x1\": 104, \"y0\": 51.63333333333333, \"y1\": 52.3}, {\"layer\": \"below\", \"line\": {\"color\": \"white\", \"width\": 2}, \"type\": \"line\", \"x0\": 105, \"x1\": 105, \"y0\": 1, \"y1\": 1.6666666666666665}, {\"layer\": \"below\", \"line\": {\"color\": \"white\", \"width\": 2}, \"type\": \"line\", \"x0\": 105, \"x1\": 105, \"y0\": 23.58333, \"y1\": 24.249996666666668}, {\"layer\": \"below\", \"line\": {\"color\": \"white\", \"width\": 2}, \"type\": \"line\", \"x0\": 105, \"x1\": 105, \"y0\": 29.08333, \"y1\": 29.749996666666668}, {\"layer\": \"below\", \"line\": {\"color\": \"white\", \"width\": 2}, \"type\": \"line\", \"x0\": 105, \"x1\": 105, \"y0\": 51.63333333333333, \"y1\": 52.3}, {\"layer\": \"below\", \"line\": {\"color\": \"white\", \"width\": 2}, \"type\": \"line\", \"x0\": 106, \"x1\": 106, \"y0\": 1, \"y1\": 1.6666666666666665}, {\"layer\": \"below\", \"line\": {\"color\": \"white\", \"width\": 2}, \"type\": \"line\", \"x0\": 106, \"x1\": 106, \"y0\": 23.58333, \"y1\": 24.249996666666668}, {\"layer\": \"below\", \"line\": {\"color\": \"white\", \"width\": 2}, \"type\": \"line\", \"x0\": 106, \"x1\": 106, \"y0\": 29.08333, \"y1\": 29.749996666666668}, {\"layer\": \"below\", \"line\": {\"color\": \"white\", \"width\": 2}, \"type\": \"line\", \"x0\": 106, \"x1\": 106, \"y0\": 51.63333333333333, \"y1\": 52.3}, {\"layer\": \"below\", \"line\": {\"color\": \"white\", \"width\": 2}, \"type\": \"line\", \"x0\": 107, \"x1\": 107, \"y0\": 1, \"y1\": 1.6666666666666665}, {\"layer\": \"below\", \"line\": {\"color\": \"white\", \"width\": 2}, \"type\": \"line\", \"x0\": 107, \"x1\": 107, \"y0\": 23.58333, \"y1\": 24.249996666666668}, {\"layer\": \"below\", \"line\": {\"color\": \"white\", \"width\": 2}, \"type\": \"line\", \"x0\": 107, \"x1\": 107, \"y0\": 29.08333, \"y1\": 29.749996666666668}, {\"layer\": \"below\", \"line\": {\"color\": \"white\", \"width\": 2}, \"type\": \"line\", \"x0\": 107, \"x1\": 107, \"y0\": 51.63333333333333, \"y1\": 52.3}, {\"layer\": \"below\", \"line\": {\"color\": \"white\", \"width\": 2}, \"type\": \"line\", \"x0\": 108, \"x1\": 108, \"y0\": 1, \"y1\": 1.6666666666666665}, {\"layer\": \"below\", \"line\": {\"color\": \"white\", \"width\": 2}, \"type\": \"line\", \"x0\": 108, \"x1\": 108, \"y0\": 23.58333, \"y1\": 24.249996666666668}, {\"layer\": \"below\", \"line\": {\"color\": \"white\", \"width\": 2}, \"type\": \"line\", \"x0\": 108, \"x1\": 108, \"y0\": 29.08333, \"y1\": 29.749996666666668}, {\"layer\": \"below\", \"line\": {\"color\": \"white\", \"width\": 2}, \"type\": \"line\", \"x0\": 108, \"x1\": 108, \"y0\": 51.63333333333333, \"y1\": 52.3}, {\"layer\": \"below\", \"line\": {\"color\": \"white\", \"width\": 2}, \"type\": \"line\", \"x0\": 109, \"x1\": 109, \"y0\": 1, \"y1\": 1.6666666666666665}, {\"layer\": \"below\", \"line\": {\"color\": \"white\", \"width\": 2}, \"type\": \"line\", \"x0\": 109, \"x1\": 109, \"y0\": 23.58333, \"y1\": 24.249996666666668}, {\"layer\": \"below\", \"line\": {\"color\": \"white\", \"width\": 2}, \"type\": \"line\", \"x0\": 109, \"x1\": 109, \"y0\": 29.08333, \"y1\": 29.749996666666668}, {\"layer\": \"below\", \"line\": {\"color\": \"white\", \"width\": 2}, \"type\": \"line\", \"x0\": 109, \"x1\": 109, \"y0\": 51.63333333333333, \"y1\": 52.3}, {\"fillcolor\": \"white\", \"layer\": \"below\", \"line\": {\"color\": \"white\"}, \"path\": \"M 18.013,4.68 L 18.013,5.72 A 3.257,3.257 180.0 0,1 18.014,5.789 A 1.126,1.126 180.0 0,1 17.991,6.057 Q 17.963,6.16 17.893,6.1899999999999995 Q 17.823,6.22 17.663,6.22 L 17.418,6.22 A 0.095,0.095 180.0 0,0 17.328,6.34 Q 17.333000000000002,6.415 17.358,6.432 Q 17.383,6.45 17.421,6.45 L 17.473,6.45 Q 17.683,6.45 17.883,6.5169999999999995 Q 18.083000000000002,6.585 18.318,6.68 Q 18.348,6.6899999999999995 18.368000000000002,6.6899999999999995 Q 18.448,6.6899999999999995 18.448,6.574999999999999 L 18.448,4.68 Q 18.448,4.46 18.501,4.365 Q 18.553,4.27 18.666,4.245 Q 18.778000000000002,4.22 19.028000000000002,4.22 L 19.078,4.22 Q 19.118000000000002,4.22 19.136,4.199999999999999 Q 19.153000000000002,4.18 19.158,4.12 Q 19.158,4.0 19.068,4.0 Q 18.708000000000002,4.015000000000001 18.228,4.015000000000001 Q 17.753,4.015000000000001 17.393,4.0 A 0.095,0.095 180.0 0,0 17.303,4.12 Q 17.308,4.18 17.326,4.199999999999999 Q 17.343,4.22 17.383,4.22 Q 17.663,4.22 17.781000000000002,4.242 Q 17.898,4.265000000000001 17.956,4.359999999999999 Q 18.013,4.455 18.013,4.68 L 18.013,4.68\", \"type\": \"path\"}, {\"fillcolor\": \"white\", \"layer\": \"below\", \"line\": {\"color\": \"white\"}, \"path\": \"M 21.69,6.7509999999999994 Q 21.3,6.7509999999999994 21.033,6.561 Q 20.765,6.371 20.633,6.056 Q 20.5,5.741 20.5,5.371 Q 20.5,4.996 20.633,4.686 Q 20.765,4.376 21.033,4.188 Q 21.3,4.001 21.69,4.001 Q 22.06,4.001 22.33,4.191 Q 22.6,4.381 22.740000000000002,4.696 Q 22.88,5.011 22.88,5.371 Q 22.88,5.731 22.740000000000002,6.045999999999999 Q 22.6,6.361000000000001 22.33,6.556 Q 22.06,6.7509999999999994 21.69,6.7509999999999994 M 21.695,6.566 Q 22.03,6.566 22.215,6.256 Q 22.4,5.946 22.4,5.371 Q 22.4,4.796 22.215,4.491 Q 22.03,4.186 21.695,4.186 Q 21.35,4.186 21.165,4.4879999999999995 Q 20.98,4.791 20.98,5.371 Q 20.98,5.9510000000000005 21.165,6.258 Q 21.35,6.566 21.695,6.566\", \"type\": \"path\"}, {\"fillcolor\": \"white\", \"layer\": \"below\", \"line\": {\"color\": \"white\"}, \"path\": \"M 18.19,49.751 Q 17.8,49.751 17.533,49.561 Q 17.265,49.371 17.133,49.056 Q 17.0,48.741 17.0,48.371 Q 17.0,47.996 17.133,47.686 Q 17.265,47.376 17.533,47.188 Q 17.8,47.001 18.19,47.001 Q 18.56,47.001 18.83,47.191 Q 19.1,47.381 19.240000000000002,47.696 Q 19.38,48.011 19.38,48.371 Q 19.38,48.731 19.240000000000002,49.046 Q 19.1,49.361 18.83,49.556 Q 18.56,49.751 18.19,49.751 M 18.195,49.566 Q 18.53,49.566 18.715,49.256 Q 18.9,48.946 18.9,48.371 Q 18.9,47.796 18.715,47.491 Q 18.53,47.186 18.195,47.186 Q 17.85,47.186 17.665,47.488 Q 17.48,47.791 17.48,48.371 Q 17.48,48.951 17.665,49.258 Q 17.85,49.566 18.195,49.566\", \"type\": \"path\"}, {\"fillcolor\": \"white\", \"layer\": \"below\", \"line\": {\"color\": \"white\"}, \"path\": \"M 21.644647615158764,49.01 L 21.644647615158764,47.97 A 3.257,3.257 360.0 0,1 21.643647615158763,47.901 A 1.126,1.126 360.0 0,1 21.666647615158762,47.633 Q 21.69464761515876,47.53 21.76464761515876,47.5 Q 21.83464761515876,47.47 21.99464761515876,47.47 L 22.239647615158763,47.47 A 0.095,0.095 360.0 0,0 22.329647615158763,47.35 Q 22.324647615158764,47.275 22.29964761515876,47.258 Q 22.274647615158763,47.24 22.236647615158763,47.24 L 22.184647615158763,47.24 Q 21.974647615158762,47.24 21.774647615158763,47.173 Q 21.574647615158764,47.105 21.33964761515876,47.01 Q 21.309647615158763,47.0 21.289647615158763,47.0 Q 21.20964761515876,47.0 21.20964761515876,47.115 L 21.20964761515876,49.01 Q 21.20964761515876,49.23 21.15664761515876,49.325 Q 21.10464761515876,49.42 20.99164761515876,49.445 Q 20.879647615158763,49.47 20.629647615158763,49.47 L 20.579647615158763,49.47 Q 20.539647615158763,49.47 20.521647615158763,49.49 Q 20.504647615158763,49.51 20.49964761515876,49.57 Q 20.49964761515876,49.69 20.589647615158764,49.69 Q 20.949647615158764,49.675 21.429647615158764,49.675 Q 21.904647615158762,49.675 22.26464761515876,49.69 A 0.095,0.095 360.0 0,0 22.35464761515876,49.57 Q 22.349647615158762,49.51 22.33164761515876,49.49 Q 22.314647615158762,49.47 22.274647615158763,49.47 Q 21.99464761515876,49.47 21.876647615158763,49.448 Q 21.759647615158762,49.425 21.701647615158763,49.33 Q 21.644647615158764,49.235 21.644647615158764,49.01 L 21.644647615158764,49.01\", \"type\": \"path\"}, {\"fillcolor\": \"white\", \"layer\": \"below\", \"line\": {\"color\": \"white\"}, \"path\": \"M 27.747,4.38 L 27.747,4.355 L 29.087,4.355 A 0.449,0.449 180.0 0,0 29.269000000000002,4.327 Q 29.327,4.3 29.327,4.18 Q 29.327,4.0 29.152,4.0 L 27.477,4.0 Q 27.302,4.0 27.302,4.18 Q 27.307000000000002,4.285 27.359,4.35 Q 27.412,4.415 27.532,4.495 Q 27.927,4.76 28.144000000000002,4.932 Q 28.362000000000002,5.105 28.537,5.37 Q 28.712,5.635 28.712,5.965 Q 28.712,6.205 28.584,6.337 Q 28.457,6.47 28.227,6.47 Q 28.032,6.47 27.904,6.372 Q 27.777,6.275 27.777,6.105 Q 27.777,6.02 27.817,5.962 Q 27.857,5.904999999999999 27.899,5.87 Q 27.942,5.835 27.942,5.83 Q 27.942,5.795 27.874000000000002,5.745 Q 27.807000000000002,5.695 27.712,5.695 Q 27.557000000000002,5.695 27.464000000000002,5.792 Q 27.372,5.89 27.372,6.04 Q 27.372,6.24 27.507,6.38 Q 27.642,6.52 27.849,6.585 Q 28.057000000000002,6.65 28.272000000000002,6.65 Q 28.647000000000002,6.65 28.919,6.465 Q 29.192,6.279999999999999 29.192,5.9 Q 29.192,5.625 29.042,5.4 Q 28.892,5.175 28.684,5.0169999999999995 Q 28.477,4.859999999999999 28.142,4.645 Q 27.877000000000002,4.48 27.747,4.38\", \"type\": \"path\"}, {\"fillcolor\": \"white\", \"layer\": \"below\", \"line\": {\"color\": \"white\"}, \"path\": \"M 31.69,6.7509999999999994 Q 31.3,6.7509999999999994 31.033,6.561 Q 30.765,6.371 30.633,6.056 Q 30.5,5.741 30.5,5.371 Q 30.5,4.996 30.633,4.686 Q 30.765,4.376 31.033,4.188 Q 31.3,4.001 31.69,4.001 Q 32.06,4.001 32.33,4.191 Q 32.6,4.381 32.74,4.696 Q 32.88,5.011 32.88,5.371 Q 32.88,5.731 32.74,6.045999999999999 Q 32.6,6.361000000000001 32.33,6.556 Q 32.06,6.7509999999999994 31.69,6.7509999999999994 M 31.695,6.566 Q 32.03,6.566 32.215,6.256 Q 32.4,5.946 32.4,5.371 Q 32.4,4.796 32.215,4.491 Q 32.03,4.186 31.695,4.186 Q 31.35,4.186 31.165,4.4879999999999995 Q 30.98,4.791 30.98,5.371 Q 30.98,5.9510000000000005 31.165,6.258 Q 31.35,6.566 31.695,6.566\", \"type\": \"path\"}, {\"fillcolor\": \"white\", \"layer\": \"below\", \"line\": {\"color\": \"white\"}, \"path\": \"M 28.19,49.751 Q 27.8,49.751 27.533,49.561 Q 27.265,49.371 27.133,49.056 Q 27.0,48.741 27.0,48.371 Q 27.0,47.996 27.133,47.686 Q 27.265,47.376 27.533,47.188 Q 27.8,47.001 28.19,47.001 Q 28.56,47.001 28.83,47.191 Q 29.1,47.381 29.240000000000002,47.696 Q 29.38,48.011 29.38,48.371 Q 29.38,48.731 29.240000000000002,49.046 Q 29.1,49.361 28.83,49.556 Q 28.56,49.751 28.19,49.751 M 28.195,49.566 Q 28.53,49.566 28.715,49.256 Q 28.9,48.946 28.9,48.371 Q 28.9,47.796 28.715,47.491 Q 28.53,47.186 28.195,47.186 Q 27.85,47.186 27.665,47.488 Q 27.48,47.791 27.48,48.371 Q 27.48,48.951 27.665,49.258 Q 27.85,49.566 28.195,49.566\", \"type\": \"path\"}, {\"fillcolor\": \"white\", \"layer\": \"below\", \"line\": {\"color\": \"white\"}, \"path\": \"M 32.082,49.27 L 32.082,49.295 L 30.742,49.295 A 0.449,0.449 360.0 0,0 30.56,49.323 Q 30.502,49.35 30.502,49.47 Q 30.502,49.65 30.677,49.65 L 32.352,49.65 Q 32.527,49.65 32.527,49.47 Q 32.522,49.365 32.47,49.3 Q 32.417,49.235 32.297,49.155 Q 31.902,48.89 31.685,48.718 Q 31.467,48.545 31.292,48.28 Q 31.117,48.015 31.117,47.685 Q 31.117,47.445 31.245,47.313 Q 31.372,47.18 31.602,47.18 Q 31.797,47.18 31.925,47.278 Q 32.052,47.375 32.052,47.545 Q 32.052,47.63 32.012,47.688 Q 31.972,47.745 31.93,47.78 Q 31.887,47.815 31.887,47.82 Q 31.887,47.855 31.955,47.905 Q 32.022,47.955 32.117,47.955 Q 32.272,47.955 32.365,47.858 Q 32.457,47.76 32.457,47.61 Q 32.457,47.41 32.322,47.27 Q 32.187,47.13 31.98,47.065 Q 31.772,47.0 31.557,47.0 Q 31.182,47.0 30.91,47.185 Q 30.637,47.37 30.637,47.75 Q 30.637,48.025 30.787,48.25 Q 30.937,48.475 31.145,48.633 Q 31.352,48.79 31.687,49.005 Q 31.951999999999998,49.17 32.082,49.27\", \"type\": \"path\"}, {\"fillcolor\": \"white\", \"layer\": \"below\", \"line\": {\"color\": \"white\"}, \"path\": \"M 38.199999999999996,5.336 L 38.015,5.336 Q 37.98,5.336 37.959999999999994,5.366 Q 37.94,5.396 37.94,5.436 Q 37.94,5.481 37.959999999999994,5.513 Q 37.98,5.546 38.015,5.551 L 38.199999999999996,5.551 Q 38.394999999999996,5.571 38.513,5.726 Q 38.629999999999995,5.881 38.629999999999995,6.101 Q 38.629999999999995,6.341 38.495,6.468 Q 38.36,6.596 38.18,6.596 Q 38.01,6.596 37.888,6.498 Q 37.765,6.401 37.765,6.231 Q 37.765,6.121 37.808,6.083 Q 37.849999999999994,6.046 37.89,6.038 Q 37.93,6.031000000000001 37.93,6.026 Q 37.93,5.991 37.863,5.941 Q 37.794999999999995,5.891 37.699999999999996,5.891 Q 37.54,5.891 37.449999999999996,5.991 Q 37.36,6.091 37.36,6.246 Q 37.36,6.491 37.589999999999996,6.6259999999999994 Q 37.82,6.761 38.184999999999995,6.761 Q 38.574999999999996,6.761 38.83,6.591 Q 39.084999999999994,6.420999999999999 39.084999999999994,6.101 Q 39.084999999999994,5.891 38.937999999999995,5.711 Q 38.79,5.531 38.515,5.4559999999999995 L 38.515,5.436 Q 38.794999999999995,5.406 39.0,5.258 Q 39.205,5.111 39.205,4.791 Q 39.205,4.386 38.91,4.193 Q 38.614999999999995,4.001 38.169999999999995,4.001 Q 37.805,4.0009999999999994 37.553,4.143 Q 37.3,4.286 37.3,4.561 Q 37.3,4.7059999999999995 37.39,4.811 Q 37.48,4.916 37.64,4.916 Q 37.735,4.916 37.803,4.866 Q 37.87,4.816 37.87,4.781 Q 37.87,4.776 37.824999999999996,4.743 Q 37.779999999999994,4.711 37.742999999999995,4.656000000000001 Q 37.705,4.601 37.705,4.516 Q 37.705,4.361000000000001 37.837999999999994,4.273 Q 37.97,4.186 38.184999999999995,4.186 Q 38.72,4.186 38.72,4.781 Q 38.72,5.026 38.589999999999996,5.173 Q 38.459999999999994,5.321 38.199999999999996,5.336\", \"type\": \"path\"}, {\"fillcolor\": \"white\", \"layer\": \"below\", \"line\": {\"color\": \"white\"}, \"path\": \"M 41.69,6.7509999999999994 Q 41.3,6.7509999999999994 41.033,6.561 Q 40.765,6.371 40.633,6.056 Q 40.5,5.741 40.5,5.371 Q 40.5,4.996 40.633,4.686 Q 40.765,4.376 41.033,4.188 Q 41.3,4.001 41.69,4.001 Q 42.06,4.001 42.33,4.191 Q 42.6,4.381 42.74,4.696 Q 42.88,5.011 42.88,5.371 Q 42.88,5.731 42.74,6.045999999999999 Q 42.6,6.361000000000001 42.33,6.556 Q 42.06,6.7509999999999994 41.69,6.7509999999999994 M 41.695,6.566 Q 42.03,6.566 42.215,6.256 Q 42.4,5.946 42.4,5.371 Q 42.4,4.796 42.215,4.491 Q 42.03,4.186 41.695,4.186 Q 41.35,4.186 41.165,4.4879999999999995 Q 40.98,4.791 40.98,5.371 Q 40.98,5.9510000000000005 41.165,6.258 Q 41.35,6.566 41.695,6.566\", \"type\": \"path\"}, {\"fillcolor\": \"white\", \"layer\": \"below\", \"line\": {\"color\": \"white\"}, \"path\": \"M 38.19,49.751 Q 37.8,49.751 37.533,49.561 Q 37.265,49.371 37.133,49.056 Q 37.0,48.741 37.0,48.371 Q 37.0,47.996 37.133,47.686 Q 37.265,47.376 37.533,47.188 Q 37.8,47.001 38.19,47.001 Q 38.56,47.001 38.83,47.191 Q 39.1,47.381 39.24,47.696 Q 39.38,48.011 39.38,48.371 Q 39.38,48.731 39.24,49.046 Q 39.1,49.361 38.83,49.556 Q 38.56,49.751 38.19,49.751 M 38.195,49.566 Q 38.53,49.566 38.715,49.256 Q 38.9,48.946 38.9,48.371 Q 38.9,47.796 38.715,47.491 Q 38.53,47.186 38.195,47.186 Q 37.85,47.186 37.665,47.488 Q 37.48,47.791 37.48,48.371 Q 37.48,48.951 37.665,49.258 Q 37.85,49.566 38.195,49.566\", \"type\": \"path\"}, {\"fillcolor\": \"white\", \"layer\": \"below\", \"line\": {\"color\": \"white\"}, \"path\": \"M 41.505,48.426 L 41.69,48.426 Q 41.725,48.426 41.745,48.396 Q 41.765,48.366 41.765,48.326 Q 41.765,48.281 41.745,48.249 Q 41.725,48.216 41.69,48.211 L 41.505,48.211 Q 41.31,48.191 41.192,48.036 Q 41.075,47.881 41.075,47.661 Q 41.075,47.421 41.21,47.294 Q 41.345,47.166 41.525,47.166 Q 41.695,47.166 41.817,47.264 Q 41.94,47.361 41.94,47.531 Q 41.94,47.641 41.897,47.679 Q 41.855,47.716 41.815,47.724 Q 41.775,47.731 41.775,47.736 Q 41.775,47.771 41.842,47.821 Q 41.91,47.871 42.005,47.871 Q 42.165,47.871 42.255,47.771 Q 42.345,47.671 42.345,47.516 Q 42.345,47.271 42.115,47.136 Q 41.885,47.001 41.52,47.001 Q 41.13,47.001 40.875,47.171 Q 40.62,47.341 40.62,47.661 Q 40.62,47.871 40.767,48.051 Q 40.915,48.231 41.19,48.306 L 41.19,48.326 Q 40.91,48.356 40.705,48.504 Q 40.5,48.651 40.5,48.971000000000004 Q 40.5,49.376 40.795,49.569 Q 41.09,49.761 41.535,49.761 Q 41.9,49.761 42.152,49.619 Q 42.405,49.476 42.405,49.201 Q 42.405,49.056 42.315,48.951 Q 42.225,48.846000000000004 42.065,48.846000000000004 Q 41.97,48.846000000000004 41.902,48.896 Q 41.835,48.946 41.835,48.981 Q 41.835,48.986 41.88,49.019 Q 41.925,49.051 41.962,49.106 Q 42.0,49.161 42.0,49.246 Q 42.0,49.400999999999996 41.867,49.489 Q 41.735,49.576 41.52,49.576 Q 40.985,49.576 40.985,48.981 Q 40.985,48.736 41.115,48.589 Q 41.245,48.441 41.505,48.426\", \"type\": \"path\"}, {\"fillcolor\": \"white\", \"layer\": \"below\", \"line\": {\"color\": \"white\"}, \"path\": \"M 48.654999999999994,4.096 L 48.654999999999994,4.861 L 47.459999999999994,4.861 Q 47.379999999999995,4.861 47.339999999999996,4.911 Q 47.3,4.961 47.3,5.036 Q 47.3,5.101 47.334999999999994,5.146 L 48.739999999999995,6.680999999999999 Q 48.79,6.731 48.894999999999996,6.731 Q 48.974999999999994,6.731 49.029999999999994,6.689 Q 49.084999999999994,6.646 49.089999999999996,6.555999999999999 L 49.089999999999996,5.106 L 49.39,5.106 Q 49.459999999999994,5.106 49.489999999999995,5.0889999999999995 Q 49.519999999999996,5.071 49.525,4.986 Q 49.525,4.931 49.503,4.896 Q 49.48,4.861 49.43,4.861 L 49.089999999999996,4.861 L 49.089999999999996,4.096 Q 49.089999999999996,4.051 49.025,4.026 Q 48.959999999999994,4.0009999999999994 48.875,4.0009999999999994 Q 48.79,4.0009999999999994 48.724999999999994,4.026 Q 48.66,4.051 48.654999999999994,4.096 M 48.654999999999994,6.291 L 47.589999999999996,5.106 L 48.654999999999994,5.106 L 48.654999999999994,6.291\", \"type\": \"path\"}, {\"fillcolor\": \"white\", \"layer\": \"below\", \"line\": {\"color\": \"white\"}, \"path\": \"M 51.69,6.7509999999999994 Q 51.3,6.7509999999999994 51.033,6.561 Q 50.765,6.371 50.633,6.056 Q 50.5,5.741 50.5,5.371 Q 50.5,4.996 50.633,4.686 Q 50.765,4.376 51.033,4.188 Q 51.3,4.001 51.69,4.001 Q 52.06,4.001 52.33,4.191 Q 52.6,4.381 52.74,4.696 Q 52.88,5.011 52.88,5.371 Q 52.88,5.731 52.74,6.045999999999999 Q 52.6,6.361000000000001 52.33,6.556 Q 52.06,6.7509999999999994 51.69,6.7509999999999994 M 51.695,6.566 Q 52.03,6.566 52.215,6.256 Q 52.4,5.946 52.4,5.371 Q 52.4,4.796 52.215,4.491 Q 52.03,4.186 51.695,4.186 Q 51.35,4.186 51.165,4.4879999999999995 Q 50.98,4.791 50.98,5.371 Q 50.98,5.9510000000000005 51.165,6.258 Q 51.35,6.566 51.695,6.566\", \"type\": \"path\"}, {\"fillcolor\": \"white\", \"layer\": \"below\", \"line\": {\"color\": \"white\"}, \"path\": \"M 48.19,49.751 Q 47.8,49.751 47.533,49.561 Q 47.265,49.371 47.133,49.056 Q 47.0,48.741 47.0,48.371 Q 47.0,47.996 47.133,47.686 Q 47.265,47.376 47.533,47.188 Q 47.8,47.001 48.19,47.001 Q 48.56,47.001 48.83,47.191 Q 49.1,47.381 49.24,47.696 Q 49.38,48.011 49.38,48.371 Q 49.38,48.731 49.24,49.046 Q 49.1,49.361 48.83,49.556 Q 48.56,49.751 48.19,49.751 M 48.195,49.566 Q 48.53,49.566 48.715,49.256 Q 48.9,48.946 48.9,48.371 Q 48.9,47.796 48.715,47.491 Q 48.53,47.186 48.195,47.186 Q 47.85,47.186 47.665,47.488 Q 47.48,47.791 47.48,48.371 Q 47.48,48.951 47.665,49.258 Q 47.85,49.566 48.195,49.566\", \"type\": \"path\"}, {\"fillcolor\": \"white\", \"layer\": \"below\", \"line\": {\"color\": \"white\"}, \"path\": \"M 51.37,49.636 L 51.37,48.871 L 52.565,48.871 Q 52.645,48.871 52.685,48.821 Q 52.725,48.771 52.725,48.696 Q 52.725,48.631 52.69,48.586 L 51.285,47.051 Q 51.235,47.001 51.13,47.001 Q 51.05,47.001 50.995,47.043 Q 50.94,47.086 50.935,47.176 L 50.935,48.626 L 50.635,48.626 Q 50.565,48.626 50.535,48.643 Q 50.505,48.661 50.5,48.746 Q 50.5,48.801 50.522,48.836 Q 50.545,48.871 50.595,48.871 L 50.935,48.871 L 50.935,49.636 Q 50.935,49.681 51.0,49.706 Q 51.065,49.731 51.15,49.731 Q 51.235,49.731 51.3,49.706 Q 51.365,49.681 51.37,49.636 M 51.37,47.441 L 52.435,48.626 L 51.37,48.626 L 51.37,47.441\", \"type\": \"path\"}, {\"fillcolor\": \"white\", \"layer\": \"below\", \"line\": {\"color\": \"white\"}, \"path\": \"M 57.434999999999995,5.45 L 57.44,5.51 L 57.595,6.7 L 58.97,6.7 Q 59.04,6.7 59.083,6.655 Q 59.125,6.61 59.125,6.53 Q 59.125,6.345000000000001 58.934999999999995,6.345000000000001 L 57.824999999999996,6.345000000000001 L 57.72,5.65 Q 57.94,5.785 58.26,5.785 Q 58.474999999999994,5.785 58.693,5.69 Q 58.91,5.595000000000001 59.055,5.4 Q 59.199999999999996,5.205 59.199999999999996,4.915 Q 59.199999999999996,4.625 59.058,4.417 Q 58.915,4.21 58.678,4.105 Q 58.44,4.0 58.16,4.0 Q 57.79,4.0 57.544999999999995,4.135 Q 57.3,4.27 57.3,4.555 Q 57.3,4.71 57.393,4.827 Q 57.485,4.945 57.64,4.945 Q 57.735,4.945 57.803,4.8950000000000005 Q 57.87,4.845000000000001 57.87,4.8100000000000005 Q 57.87,4.805 57.824999999999996,4.765000000000001 Q 57.779999999999994,4.725 57.742999999999995,4.667 Q 57.705,4.61 57.705,4.535 Q 57.705,4.365 57.827999999999996,4.275 Q 57.949999999999996,4.1850000000000005 58.169999999999995,4.1850000000000005 Q 58.445,4.1850000000000005 58.583,4.380000000000001 Q 58.72,4.575 58.72,4.890000000000001 Q 58.72,5.18 58.58,5.372 Q 58.44,5.565 58.144999999999996,5.565 Q 58.01,5.565 57.913,5.522 Q 57.815,5.48 57.705,5.4 Q 57.64,5.355 57.598,5.332 Q 57.555,5.3100000000000005 57.515,5.3100000000000005 Q 57.434999999999995,5.3100000000000005 57.434999999999995,5.45 L 57.434999999999995,5.45\", \"type\": \"path\"}, {\"fillcolor\": \"white\", \"layer\": \"below\", \"line\": {\"color\": \"white\"}, \"path\": \"M 61.69,6.7509999999999994 Q 61.3,6.7509999999999994 61.033,6.561 Q 60.765,6.371 60.633,6.056 Q 60.5,5.741 60.5,5.371 Q 60.5,4.996 60.633,4.686 Q 60.765,4.376 61.033,4.188 Q 61.3,4.001 61.69,4.001 Q 62.06,4.001 62.33,4.191 Q 62.6,4.381 62.74,4.696 Q 62.88,5.011 62.88,5.371 Q 62.88,5.731 62.74,6.045999999999999 Q 62.6,6.361000000000001 62.33,6.556 Q 62.06,6.7509999999999994 61.69,6.7509999999999994 M 61.695,6.566 Q 62.03,6.566 62.215,6.256 Q 62.4,5.946 62.4,5.371 Q 62.4,4.796 62.215,4.491 Q 62.03,4.186 61.695,4.186 Q 61.35,4.186 61.165,4.4879999999999995 Q 60.98,4.791 60.98,5.371 Q 60.98,5.9510000000000005 61.165,6.258 Q 61.35,6.566 61.695,6.566\", \"type\": \"path\"}, {\"fillcolor\": \"white\", \"layer\": \"below\", \"line\": {\"color\": \"white\"}, \"path\": \"M 58.19,49.751 Q 57.8,49.751 57.533,49.561 Q 57.265,49.371 57.133,49.056 Q 57.0,48.741 57.0,48.371 Q 57.0,47.996 57.133,47.686 Q 57.265,47.376 57.533,47.188 Q 57.8,47.001 58.19,47.001 Q 58.56,47.001 58.83,47.191 Q 59.1,47.381 59.24,47.696 Q 59.38,48.011 59.38,48.371 Q 59.38,48.731 59.24,49.046 Q 59.1,49.361 58.83,49.556 Q 58.56,49.751 58.19,49.751 M 58.195,49.566 Q 58.53,49.566 58.715,49.256 Q 58.9,48.946 58.9,48.371 Q 58.9,47.796 58.715,47.491 Q 58.53,47.186 58.195,47.186 Q 57.85,47.186 57.665,47.488 Q 57.48,47.791 57.48,48.371 Q 57.48,48.951 57.665,49.258 Q 57.85,49.566 58.195,49.566\", \"type\": \"path\"}, {\"fillcolor\": \"white\", \"layer\": \"below\", \"line\": {\"color\": \"white\"}, \"path\": \"M 62.265,48.25 L 62.26,48.19 L 62.105,47.0 L 60.73,47.0 Q 60.66,47.0 60.617,47.045 Q 60.575,47.09 60.575,47.17 Q 60.575,47.355 60.765,47.355 L 61.875,47.355 L 61.98,48.05 Q 61.76,47.915 61.44,47.915 Q 61.225,47.915 61.007,48.01 Q 60.79,48.105 60.645,48.3 Q 60.5,48.495 60.5,48.785 Q 60.5,49.075 60.642,49.283 Q 60.785,49.49 61.022,49.595 Q 61.26,49.7 61.54,49.7 Q 61.91,49.7 62.155,49.565 Q 62.4,49.43 62.4,49.145 Q 62.4,48.99 62.307,48.873 Q 62.215,48.755 62.06,48.755 Q 61.965,48.755 61.897,48.805 Q 61.83,48.855 61.83,48.89 Q 61.83,48.895 61.875,48.935 Q 61.92,48.975 61.957,49.033 Q 61.995,49.09 61.995,49.165 Q 61.995,49.335 61.872,49.425 Q 61.75,49.515 61.53,49.515 Q 61.255,49.515 61.117,49.32 Q 60.98,49.125 60.98,48.81 Q 60.98,48.52 61.12,48.328 Q 61.26,48.135 61.555,48.135 Q 61.69,48.135 61.787,48.178 Q 61.885,48.22 61.995,48.3 Q 62.06,48.345 62.102,48.368 Q 62.145,48.39 62.185,48.39 Q 62.265,48.39 62.265,48.25 L 62.265,48.25\", \"type\": \"path\"}, {\"fillcolor\": \"white\", \"layer\": \"below\", \"line\": {\"color\": \"white\"}, \"path\": \"M 68.655,4.096 L 68.655,4.861 L 67.46,4.861 Q 67.38,4.861 67.34,4.911 Q 67.3,4.961 67.3,5.036 Q 67.3,5.101 67.335,5.146 L 68.74,6.680999999999999 Q 68.78999999999999,6.731 68.895,6.731 Q 68.975,6.731 69.03,6.689 Q 69.085,6.646 69.09,6.555999999999999 L 69.09,5.106 L 69.39,5.106 Q 69.46,5.106 69.49,5.0889999999999995 Q 69.52,5.071 69.52499999999999,4.986 Q 69.52499999999999,4.931 69.503,4.896 Q 69.48,4.861 69.42999999999999,4.861 L 69.09,4.861 L 69.09,4.096 Q 69.09,4.051 69.02499999999999,4.026 Q 68.96,4.0009999999999994 68.875,4.0009999999999994 Q 68.78999999999999,4.0009999999999994 68.725,4.026 Q 68.66,4.051 68.655,4.096 M 68.655,6.291 L 67.59,5.106 L 68.655,5.106 L 68.655,6.291\", \"type\": \"path\"}, {\"fillcolor\": \"white\", \"layer\": \"below\", \"line\": {\"color\": \"white\"}, \"path\": \"M 71.69,6.7509999999999994 Q 71.3,6.7509999999999994 71.033,6.561 Q 70.765,6.371 70.633,6.056 Q 70.5,5.741 70.5,5.371 Q 70.5,4.996 70.633,4.686 Q 70.765,4.376 71.033,4.188 Q 71.3,4.001 71.69,4.001 Q 72.06,4.001 72.33,4.191 Q 72.6,4.381 72.74,4.696 Q 72.88,5.011 72.88,5.371 Q 72.88,5.731 72.74,6.045999999999999 Q 72.6,6.361000000000001 72.33,6.556 Q 72.06,6.7509999999999994 71.69,6.7509999999999994 M 71.695,6.566 Q 72.03,6.566 72.215,6.256 Q 72.4,5.946 72.4,5.371 Q 72.4,4.796 72.215,4.491 Q 72.03,4.186 71.695,4.186 Q 71.35,4.186 71.165,4.4879999999999995 Q 70.98,4.791 70.98,5.371 Q 70.98,5.9510000000000005 71.165,6.258 Q 71.35,6.566 71.695,6.566\", \"type\": \"path\"}, {\"fillcolor\": \"white\", \"layer\": \"below\", \"line\": {\"color\": \"white\"}, \"path\": \"M 68.19,49.751 Q 67.8,49.751 67.533,49.561 Q 67.265,49.371 67.133,49.056 Q 67.0,48.741 67.0,48.371 Q 67.0,47.996 67.133,47.686 Q 67.265,47.376 67.533,47.188 Q 67.8,47.001 68.19,47.001 Q 68.56,47.001 68.83,47.191 Q 69.1,47.381 69.24,47.696 Q 69.38,48.011 69.38,48.371 Q 69.38,48.731 69.24,49.046 Q 69.1,49.361 68.83,49.556 Q 68.56,49.751 68.19,49.751 M 68.195,49.566 Q 68.53,49.566 68.715,49.256 Q 68.9,48.946 68.9,48.371 Q 68.9,47.796 68.715,47.491 Q 68.53,47.186 68.195,47.186 Q 67.85,47.186 67.665,47.488 Q 67.48,47.791 67.48,48.371 Q 67.48,48.951 67.665,49.258 Q 67.85,49.566 68.195,49.566\", \"type\": \"path\"}, {\"fillcolor\": \"white\", \"layer\": \"below\", \"line\": {\"color\": \"white\"}, \"path\": \"M 71.37,49.636 L 71.37,48.871 L 72.565,48.871 Q 72.645,48.871 72.685,48.821 Q 72.725,48.771 72.725,48.696 Q 72.725,48.631 72.69,48.586 L 71.285,47.051 Q 71.235,47.001 71.13,47.001 Q 71.05,47.001 70.995,47.043 Q 70.94,47.086 70.935,47.176 L 70.935,48.626 L 70.635,48.626 Q 70.565,48.626 70.535,48.643 Q 70.505,48.661 70.5,48.746 Q 70.5,48.801 70.522,48.836 Q 70.545,48.871 70.595,48.871 L 70.935,48.871 L 70.935,49.636 Q 70.935,49.681 71.0,49.706 Q 71.065,49.731 71.15,49.731 Q 71.235,49.731 71.3,49.706 Q 71.365,49.681 71.37,49.636 M 71.37,47.441 L 72.435,48.626 L 71.37,48.626 L 71.37,47.441\", \"type\": \"path\"}, {\"fillcolor\": \"white\", \"layer\": \"below\", \"line\": {\"color\": \"white\"}, \"path\": \"M 78.2,5.336 L 78.015,5.336 Q 77.98,5.336 77.96,5.366 Q 77.94,5.396 77.94,5.436 Q 77.94,5.481 77.96,5.513 Q 77.98,5.546 78.015,5.551 L 78.2,5.551 Q 78.395,5.571 78.51299999999999,5.726 Q 78.63,5.881 78.63,6.101 Q 78.63,6.341 78.49499999999999,6.468 Q 78.36,6.596 78.17999999999999,6.596 Q 78.00999999999999,6.596 77.88799999999999,6.498 Q 77.765,6.401 77.765,6.231 Q 77.765,6.121 77.80799999999999,6.083 Q 77.85,6.046 77.89,6.038 Q 77.92999999999999,6.031000000000001 77.92999999999999,6.026 Q 77.92999999999999,5.991 77.863,5.941 Q 77.795,5.891 77.7,5.891 Q 77.53999999999999,5.891 77.45,5.991 Q 77.36,6.091 77.36,6.246 Q 77.36,6.491 77.59,6.6259999999999994 Q 77.82,6.761 78.185,6.761 Q 78.575,6.761 78.83,6.591 Q 79.085,6.420999999999999 79.085,6.101 Q 79.085,5.891 78.938,5.711 Q 78.78999999999999,5.531 78.515,5.4559999999999995 L 78.515,5.436 Q 78.795,5.406 79.0,5.258 Q 79.205,5.111 79.205,4.791 Q 79.205,4.386 78.91,4.193 Q 78.615,4.001 78.17,4.001 Q 77.80499999999999,4.0009999999999994 77.553,4.143 Q 77.3,4.286 77.3,4.561 Q 77.3,4.7059999999999995 77.39,4.811 Q 77.48,4.916 77.64,4.916 Q 77.735,4.916 77.803,4.866 Q 77.86999999999999,4.816 77.86999999999999,4.781 Q 77.86999999999999,4.776 77.825,4.743 Q 77.78,4.711 77.743,4.656000000000001 Q 77.705,4.601 77.705,4.516 Q 77.705,4.361000000000001 77.838,4.273 Q 77.97,4.186 78.185,4.186 Q 78.72,4.186 78.72,4.781 Q 78.72,5.026 78.59,5.173 Q 78.46,5.321 78.2,5.336\", \"type\": \"path\"}, {\"fillcolor\": \"white\", \"layer\": \"below\", \"line\": {\"color\": \"white\"}, \"path\": \"M 81.69,6.7509999999999994 Q 81.3,6.7509999999999994 81.033,6.561 Q 80.765,6.371 80.633,6.056 Q 80.5,5.741 80.5,5.371 Q 80.5,4.996 80.633,4.686 Q 80.765,4.376 81.033,4.188 Q 81.3,4.001 81.69,4.001 Q 82.06,4.001 82.33,4.191 Q 82.6,4.381 82.74,4.696 Q 82.88,5.011 82.88,5.371 Q 82.88,5.731 82.74,6.045999999999999 Q 82.6,6.361000000000001 82.33,6.556 Q 82.06,6.7509999999999994 81.69,6.7509999999999994 M 81.695,6.566 Q 82.03,6.566 82.215,6.256 Q 82.4,5.946 82.4,5.371 Q 82.4,4.796 82.215,4.491 Q 82.03,4.186 81.695,4.186 Q 81.35,4.186 81.165,4.4879999999999995 Q 80.98,4.791 80.98,5.371 Q 80.98,5.9510000000000005 81.165,6.258 Q 81.35,6.566 81.695,6.566\", \"type\": \"path\"}, {\"fillcolor\": \"white\", \"layer\": \"below\", \"line\": {\"color\": \"white\"}, \"path\": \"M 78.19,49.751 Q 77.8,49.751 77.533,49.561 Q 77.265,49.371 77.133,49.056 Q 77.0,48.741 77.0,48.371 Q 77.0,47.996 77.133,47.686 Q 77.265,47.376 77.533,47.188 Q 77.8,47.001 78.19,47.001 Q 78.56,47.001 78.83,47.191 Q 79.1,47.381 79.24,47.696 Q 79.38,48.011 79.38,48.371 Q 79.38,48.731 79.24,49.046 Q 79.1,49.361 78.83,49.556 Q 78.56,49.751 78.19,49.751 M 78.195,49.566 Q 78.53,49.566 78.715,49.256 Q 78.9,48.946 78.9,48.371 Q 78.9,47.796 78.715,47.491 Q 78.53,47.186 78.195,47.186 Q 77.85,47.186 77.665,47.488 Q 77.48,47.791 77.48,48.371 Q 77.48,48.951 77.665,49.258 Q 77.85,49.566 78.195,49.566\", \"type\": \"path\"}, {\"fillcolor\": \"white\", \"layer\": \"below\", \"line\": {\"color\": \"white\"}, \"path\": \"M 81.505,48.426 L 81.69,48.426 Q 81.725,48.426 81.745,48.396 Q 81.765,48.366 81.765,48.326 Q 81.765,48.281 81.745,48.249 Q 81.725,48.216 81.69,48.211 L 81.505,48.211 Q 81.31,48.191 81.192,48.036 Q 81.075,47.881 81.075,47.661 Q 81.075,47.421 81.21,47.294 Q 81.345,47.166 81.525,47.166 Q 81.695,47.166 81.817,47.264 Q 81.94,47.361 81.94,47.531 Q 81.94,47.641 81.897,47.679 Q 81.855,47.716 81.815,47.724 Q 81.775,47.731 81.775,47.736 Q 81.775,47.771 81.842,47.821 Q 81.91,47.871 82.005,47.871 Q 82.165,47.871 82.255,47.771 Q 82.345,47.671 82.345,47.516 Q 82.345,47.271 82.115,47.136 Q 81.885,47.001 81.52,47.001 Q 81.13,47.001 80.875,47.171 Q 80.62,47.341 80.62,47.661 Q 80.62,47.871 80.767,48.051 Q 80.915,48.231 81.19,48.306 L 81.19,48.326 Q 80.91,48.356 80.705,48.504 Q 80.5,48.651 80.5,48.971000000000004 Q 80.5,49.376 80.795,49.569 Q 81.09,49.761 81.535,49.761 Q 81.9,49.761 82.152,49.619 Q 82.405,49.476 82.405,49.201 Q 82.405,49.056 82.315,48.951 Q 82.225,48.846000000000004 82.065,48.846000000000004 Q 81.97,48.846000000000004 81.902,48.896 Q 81.835,48.946 81.835,48.981 Q 81.835,48.986 81.88,49.019 Q 81.925,49.051 81.962,49.106 Q 82.0,49.161 82.0,49.246 Q 82.0,49.400999999999996 81.867,49.489 Q 81.735,49.576 81.52,49.576 Q 80.985,49.576 80.985,48.981 Q 80.985,48.736 81.115,48.589 Q 81.245,48.441 81.505,48.426\", \"type\": \"path\"}, {\"fillcolor\": \"white\", \"layer\": \"below\", \"line\": {\"color\": \"white\"}, \"path\": \"M 87.747,4.38 L 87.747,4.355 L 89.087,4.355 A 0.449,0.449 180.0 0,0 89.26899999999999,4.327 Q 89.327,4.3 89.327,4.18 Q 89.327,4.0 89.152,4.0 L 87.477,4.0 Q 87.30199999999999,4.0 87.30199999999999,4.18 Q 87.307,4.285 87.359,4.35 Q 87.41199999999999,4.415 87.532,4.495 Q 87.92699999999999,4.76 88.14399999999999,4.932 Q 88.362,5.105 88.53699999999999,5.37 Q 88.712,5.635 88.712,5.965 Q 88.712,6.205 88.584,6.337 Q 88.457,6.47 88.227,6.47 Q 88.032,6.47 87.904,6.372 Q 87.777,6.275 87.777,6.105 Q 87.777,6.02 87.817,5.962 Q 87.857,5.904999999999999 87.899,5.87 Q 87.942,5.835 87.942,5.83 Q 87.942,5.795 87.874,5.745 Q 87.807,5.695 87.712,5.695 Q 87.557,5.695 87.464,5.792 Q 87.372,5.89 87.372,6.04 Q 87.372,6.24 87.50699999999999,6.38 Q 87.642,6.52 87.849,6.585 Q 88.057,6.65 88.27199999999999,6.65 Q 88.64699999999999,6.65 88.919,6.465 Q 89.192,6.279999999999999 89.192,5.9 Q 89.192,5.625 89.042,5.4 Q 88.892,5.175 88.684,5.0169999999999995 Q 88.477,4.859999999999999 88.142,4.645 Q 87.877,4.48 87.747,4.38\", \"type\": \"path\"}, {\"fillcolor\": \"white\", \"layer\": \"below\", \"line\": {\"color\": \"white\"}, \"path\": \"M 91.69,6.7509999999999994 Q 91.3,6.7509999999999994 91.033,6.561 Q 90.765,6.371 90.633,6.056 Q 90.5,5.741 90.5,5.371 Q 90.5,4.996 90.633,4.686 Q 90.765,4.376 91.033,4.188 Q 91.3,4.001 91.69,4.001 Q 92.06,4.001 92.33,4.191 Q 92.6,4.381 92.74,4.696 Q 92.88,5.011 92.88,5.371 Q 92.88,5.731 92.74,6.045999999999999 Q 92.6,6.361000000000001 92.33,6.556 Q 92.06,6.7509999999999994 91.69,6.7509999999999994 M 91.695,6.566 Q 92.03,6.566 92.215,6.256 Q 92.4,5.946 92.4,5.371 Q 92.4,4.796 92.215,4.491 Q 92.03,4.186 91.695,4.186 Q 91.35,4.186 91.165,4.4879999999999995 Q 90.98,4.791 90.98,5.371 Q 90.98,5.9510000000000005 91.165,6.258 Q 91.35,6.566 91.695,6.566\", \"type\": \"path\"}, {\"fillcolor\": \"white\", \"layer\": \"below\", \"line\": {\"color\": \"white\"}, \"path\": \"M 88.19,49.751 Q 87.8,49.751 87.533,49.561 Q 87.265,49.371 87.133,49.056 Q 87.0,48.741 87.0,48.371 Q 87.0,47.996 87.133,47.686 Q 87.265,47.376 87.533,47.188 Q 87.8,47.001 88.19,47.001 Q 88.56,47.001 88.83,47.191 Q 89.1,47.381 89.24,47.696 Q 89.38,48.011 89.38,48.371 Q 89.38,48.731 89.24,49.046 Q 89.1,49.361 88.83,49.556 Q 88.56,49.751 88.19,49.751 M 88.195,49.566 Q 88.53,49.566 88.715,49.256 Q 88.9,48.946 88.9,48.371 Q 88.9,47.796 88.715,47.491 Q 88.53,47.186 88.195,47.186 Q 87.85,47.186 87.665,47.488 Q 87.48,47.791 87.48,48.371 Q 87.48,48.951 87.665,49.258 Q 87.85,49.566 88.195,49.566\", \"type\": \"path\"}, {\"fillcolor\": \"white\", \"layer\": \"below\", \"line\": {\"color\": \"white\"}, \"path\": \"M 92.082,49.27 L 92.082,49.295 L 90.742,49.295 A 0.449,0.449 360.0 0,0 90.56,49.323 Q 90.502,49.35 90.502,49.47 Q 90.502,49.65 90.677,49.65 L 92.352,49.65 Q 92.527,49.65 92.527,49.47 Q 92.522,49.365 92.47,49.3 Q 92.417,49.235 92.297,49.155 Q 91.902,48.89 91.685,48.718 Q 91.467,48.545 91.292,48.28 Q 91.117,48.015 91.117,47.685 Q 91.117,47.445 91.245,47.313 Q 91.372,47.18 91.602,47.18 Q 91.797,47.18 91.925,47.278 Q 92.052,47.375 92.052,47.545 Q 92.052,47.63 92.012,47.688 Q 91.972,47.745 91.93,47.78 Q 91.887,47.815 91.887,47.82 Q 91.887,47.855 91.955,47.905 Q 92.022,47.955 92.117,47.955 Q 92.272,47.955 92.365,47.858 Q 92.457,47.76 92.457,47.61 Q 92.457,47.41 92.322,47.27 Q 92.187,47.13 91.98,47.065 Q 91.772,47.0 91.557,47.0 Q 91.182,47.0 90.91,47.185 Q 90.637,47.37 90.637,47.75 Q 90.637,48.025 90.787,48.25 Q 90.937,48.475 91.145,48.633 Q 91.352,48.79 91.687,49.005 Q 91.952,49.17 92.082,49.27\", \"type\": \"path\"}, {\"fillcolor\": \"white\", \"layer\": \"below\", \"line\": {\"color\": \"white\"}, \"path\": \"M 98.01299999999999,4.68 L 98.01299999999999,5.72 A 3.257,3.257 180.0 0,1 98.014,5.789 A 1.126,1.126 180.0 0,1 97.991,6.057 Q 97.963,6.16 97.893,6.1899999999999995 Q 97.823,6.22 97.663,6.22 L 97.41799999999999,6.22 A 0.095,0.095 180.0 0,0 97.328,6.34 Q 97.333,6.415 97.358,6.432 Q 97.383,6.45 97.42099999999999,6.45 L 97.473,6.45 Q 97.68299999999999,6.45 97.883,6.5169999999999995 Q 98.083,6.585 98.318,6.68 Q 98.348,6.6899999999999995 98.368,6.6899999999999995 Q 98.448,6.6899999999999995 98.448,6.574999999999999 L 98.448,4.68 Q 98.448,4.46 98.50099999999999,4.365 Q 98.553,4.27 98.666,4.245 Q 98.77799999999999,4.22 99.02799999999999,4.22 L 99.078,4.22 Q 99.118,4.22 99.136,4.199999999999999 Q 99.15299999999999,4.18 99.158,4.12 Q 99.158,4.0 99.068,4.0 Q 98.708,4.015000000000001 98.228,4.015000000000001 Q 97.753,4.015000000000001 97.393,4.0 A 0.095,0.095 180.0 0,0 97.303,4.12 Q 97.30799999999999,4.18 97.326,4.199999999999999 Q 97.343,4.22 97.383,4.22 Q 97.663,4.22 97.78099999999999,4.242 Q 97.898,4.265000000000001 97.956,4.359999999999999 Q 98.01299999999999,4.455 98.01299999999999,4.68 L 98.01299999999999,4.68\", \"type\": \"path\"}, {\"fillcolor\": \"white\", \"layer\": \"below\", \"line\": {\"color\": \"white\"}, \"path\": \"M 101.69,6.7509999999999994 Q 101.3,6.7509999999999994 101.033,6.561 Q 100.765,6.371 100.633,6.056 Q 100.5,5.741 100.5,5.371 Q 100.5,4.996 100.633,4.686 Q 100.765,4.376 101.033,4.188 Q 101.3,4.001 101.69,4.001 Q 102.06,4.001 102.33,4.191 Q 102.6,4.381 102.74,4.696 Q 102.88,5.011 102.88,5.371 Q 102.88,5.731 102.74,6.045999999999999 Q 102.6,6.361000000000001 102.33,6.556 Q 102.06,6.7509999999999994 101.69,6.7509999999999994 M 101.695,6.566 Q 102.03,6.566 102.215,6.256 Q 102.4,5.946 102.4,5.371 Q 102.4,4.796 102.215,4.491 Q 102.03,4.186 101.695,4.186 Q 101.35,4.186 101.165,4.4879999999999995 Q 100.98,4.791 100.98,5.371 Q 100.98,5.9510000000000005 101.165,6.258 Q 101.35,6.566 101.695,6.566\", \"type\": \"path\"}, {\"fillcolor\": \"white\", \"layer\": \"below\", \"line\": {\"color\": \"white\"}, \"path\": \"M 98.19,49.751 Q 97.8,49.751 97.533,49.561 Q 97.265,49.371 97.133,49.056 Q 97.0,48.741 97.0,48.371 Q 97.0,47.996 97.133,47.686 Q 97.265,47.376 97.533,47.188 Q 97.8,47.001 98.19,47.001 Q 98.56,47.001 98.83,47.191 Q 99.1,47.381 99.24,47.696 Q 99.38,48.011 99.38,48.371 Q 99.38,48.731 99.24,49.046 Q 99.1,49.361 98.83,49.556 Q 98.56,49.751 98.19,49.751 M 98.195,49.566 Q 98.53,49.566 98.715,49.256 Q 98.9,48.946 98.9,48.371 Q 98.9,47.796 98.715,47.491 Q 98.53,47.186 98.195,47.186 Q 97.85,47.186 97.665,47.488 Q 97.48,47.791 97.48,48.371 Q 97.48,48.951 97.665,49.258 Q 97.85,49.566 98.195,49.566\", \"type\": \"path\"}, {\"fillcolor\": \"white\", \"layer\": \"below\", \"line\": {\"color\": \"white\"}, \"path\": \"M 101.64464761515876,49.01 L 101.64464761515876,47.97 A 3.257,3.257 360.0 0,1 101.64364761515876,47.901 A 1.126,1.126 360.0 0,1 101.66664761515877,47.633 Q 101.69464761515876,47.53 101.76464761515876,47.5 Q 101.83464761515876,47.47 101.99464761515877,47.47 L 102.23964761515876,47.47 A 0.095,0.095 360.0 0,0 102.32964761515876,47.35 Q 102.32464761515877,47.275 102.29964761515876,47.258 Q 102.27464761515876,47.24 102.23664761515876,47.24 L 102.18464761515877,47.24 Q 101.97464761515876,47.24 101.77464761515876,47.173 Q 101.57464761515877,47.105 101.33964761515877,47.01 Q 101.30964761515877,47.0 101.28964761515876,47.0 Q 101.20964761515876,47.0 101.20964761515876,47.115 L 101.20964761515876,49.01 Q 101.20964761515876,49.23 101.15664761515876,49.325 Q 101.10464761515877,49.42 100.99164761515877,49.445 Q 100.87964761515876,49.47 100.62964761515876,49.47 L 100.57964761515876,49.47 Q 100.53964761515876,49.47 100.52164761515876,49.49 Q 100.50464761515876,49.51 100.49964761515876,49.57 Q 100.49964761515876,49.69 100.58964761515877,49.69 Q 100.94964761515877,49.675 101.42964761515876,49.675 Q 101.90464761515877,49.675 102.26464761515876,49.69 A 0.095,0.095 360.0 0,0 102.35464761515877,49.57 Q 102.34964761515876,49.51 102.33164761515876,49.49 Q 102.31464761515876,49.47 102.27464761515876,49.47 Q 101.99464761515877,49.47 101.87664761515876,49.448 Q 101.75964761515877,49.425 101.70164761515876,49.33 Q 101.64464761515876,49.235 101.64464761515876,49.01 L 101.64464761515876,49.01\", \"type\": \"path\"}, {\"fillcolor\": \"white\", \"layer\": \"below\", \"line\": {\"color\": \"white\"}, \"path\": \"M 16.8 5.2 L 16.3 5.45 L 16.8 5.7 L 16.8 5.2 Z\", \"type\": \"path\"}, {\"fillcolor\": \"white\", \"layer\": \"below\", \"line\": {\"color\": \"white\"}, \"path\": \"M 103.6 5.2 L 104.1 5.45 L 103.6 5.7 L 103.6 5.2 Z\", \"type\": \"path\"}, {\"fillcolor\": \"white\", \"layer\": \"below\", \"line\": {\"color\": \"white\"}, \"path\": \"M 16.4 48.5 L 15.9 48.25 L 16.4 48.0 L 16.4 48.5 Z\", \"type\": \"path\"}, {\"fillcolor\": \"white\", \"layer\": \"below\", \"line\": {\"color\": \"white\"}, \"path\": \"M 103.2 48.5 L 103.7 48.25 L 103.2 48.0 L 103.2 48.5 Z\", \"type\": \"path\"}, {\"fillcolor\": \"white\", \"layer\": \"below\", \"line\": {\"color\": \"white\"}, \"path\": \"M 26.8 5.2 L 26.3 5.45 L 26.8 5.7 L 26.8 5.2 Z\", \"type\": \"path\"}, {\"fillcolor\": \"white\", \"layer\": \"below\", \"line\": {\"color\": \"white\"}, \"path\": \"M 93.6 5.2 L 94.1 5.45 L 93.6 5.7 L 93.6 5.2 Z\", \"type\": \"path\"}, {\"fillcolor\": \"white\", \"layer\": \"below\", \"line\": {\"color\": \"white\"}, \"path\": \"M 26.4 48.5 L 25.9 48.25 L 26.4 48.0 L 26.4 48.5 Z\", \"type\": \"path\"}, {\"fillcolor\": \"white\", \"layer\": \"below\", \"line\": {\"color\": \"white\"}, \"path\": \"M 93.2 48.5 L 93.7 48.25 L 93.2 48.0 L 93.2 48.5 Z\", \"type\": \"path\"}, {\"fillcolor\": \"white\", \"layer\": \"below\", \"line\": {\"color\": \"white\"}, \"path\": \"M 36.8 5.2 L 36.3 5.45 L 36.8 5.7 L 36.8 5.2 Z\", \"type\": \"path\"}, {\"fillcolor\": \"white\", \"layer\": \"below\", \"line\": {\"color\": \"white\"}, \"path\": \"M 83.6 5.2 L 84.1 5.45 L 83.6 5.7 L 83.6 5.2 Z\", \"type\": \"path\"}, {\"fillcolor\": \"white\", \"layer\": \"below\", \"line\": {\"color\": \"white\"}, \"path\": \"M 36.4 48.5 L 35.9 48.25 L 36.4 48.0 L 36.4 48.5 Z\", \"type\": \"path\"}, {\"fillcolor\": \"white\", \"layer\": \"below\", \"line\": {\"color\": \"white\"}, \"path\": \"M 83.2 48.5 L 83.7 48.25 L 83.2 48.0 L 83.2 48.5 Z\", \"type\": \"path\"}, {\"fillcolor\": \"white\", \"layer\": \"below\", \"line\": {\"color\": \"white\"}, \"path\": \"M 46.8 5.2 L 46.3 5.45 L 46.8 5.7 L 46.8 5.2 Z\", \"type\": \"path\"}, {\"fillcolor\": \"white\", \"layer\": \"below\", \"line\": {\"color\": \"white\"}, \"path\": \"M 73.6 5.2 L 74.1 5.45 L 73.6 5.7 L 73.6 5.2 Z\", \"type\": \"path\"}, {\"fillcolor\": \"white\", \"layer\": \"below\", \"line\": {\"color\": \"white\"}, \"path\": \"M 46.4 48.5 L 45.9 48.25 L 46.4 48.0 L 46.4 48.5 Z\", \"type\": \"path\"}, {\"fillcolor\": \"white\", \"layer\": \"below\", \"line\": {\"color\": \"white\"}, \"path\": \"M 73.2 48.5 L 73.7 48.25 L 73.2 48.0 L 73.2 48.5 Z\", \"type\": \"path\"}], \"template\": {\"data\": {\"bar\": [{\"error_x\": {\"color\": \"#2a3f5f\"}, \"error_y\": {\"color\": \"#2a3f5f\"}, \"marker\": {\"line\": {\"color\": \"#E5ECF6\", \"width\": 0.5}}, \"type\": \"bar\"}], \"barpolar\": [{\"marker\": {\"line\": {\"color\": \"#E5ECF6\", \"width\": 0.5}}, \"type\": \"barpolar\"}], \"carpet\": [{\"aaxis\": {\"endlinecolor\": \"#2a3f5f\", \"gridcolor\": \"white\", \"linecolor\": \"white\", \"minorgridcolor\": \"white\", \"startlinecolor\": \"#2a3f5f\"}, \"baxis\": {\"endlinecolor\": \"#2a3f5f\", \"gridcolor\": \"white\", \"linecolor\": \"white\", \"minorgridcolor\": \"white\", \"startlinecolor\": \"#2a3f5f\"}, \"type\": \"carpet\"}], \"choropleth\": [{\"colorbar\": {\"outlinewidth\": 0, \"ticks\": \"\"}, \"type\": \"choropleth\"}], \"contour\": [{\"colorbar\": {\"outlinewidth\": 0, \"ticks\": \"\"}, \"colorscale\": [[0.0, \"#0d0887\"], [0.1111111111111111, \"#46039f\"], [0.2222222222222222, \"#7201a8\"], [0.3333333333333333, \"#9c179e\"], [0.4444444444444444, \"#bd3786\"], [0.5555555555555556, \"#d8576b\"], [0.6666666666666666, \"#ed7953\"], [0.7777777777777778, \"#fb9f3a\"], [0.8888888888888888, \"#fdca26\"], [1.0, \"#f0f921\"]], \"type\": \"contour\"}], \"contourcarpet\": [{\"colorbar\": {\"outlinewidth\": 0, \"ticks\": \"\"}, \"type\": \"contourcarpet\"}], \"heatmap\": [{\"colorbar\": {\"outlinewidth\": 0, \"ticks\": \"\"}, \"colorscale\": [[0.0, \"#0d0887\"], [0.1111111111111111, \"#46039f\"], [0.2222222222222222, \"#7201a8\"], [0.3333333333333333, \"#9c179e\"], [0.4444444444444444, \"#bd3786\"], [0.5555555555555556, \"#d8576b\"], [0.6666666666666666, \"#ed7953\"], [0.7777777777777778, \"#fb9f3a\"], [0.8888888888888888, \"#fdca26\"], [1.0, \"#f0f921\"]], \"type\": \"heatmap\"}], \"heatmapgl\": [{\"colorbar\": {\"outlinewidth\": 0, \"ticks\": \"\"}, \"colorscale\": [[0.0, \"#0d0887\"], [0.1111111111111111, \"#46039f\"], [0.2222222222222222, \"#7201a8\"], [0.3333333333333333, \"#9c179e\"], [0.4444444444444444, \"#bd3786\"], [0.5555555555555556, \"#d8576b\"], [0.6666666666666666, \"#ed7953\"], [0.7777777777777778, \"#fb9f3a\"], [0.8888888888888888, \"#fdca26\"], [1.0, \"#f0f921\"]], \"type\": \"heatmapgl\"}], \"histogram\": [{\"marker\": {\"colorbar\": {\"outlinewidth\": 0, \"ticks\": \"\"}}, \"type\": \"histogram\"}], \"histogram2d\": [{\"colorbar\": {\"outlinewidth\": 0, \"ticks\": \"\"}, \"colorscale\": [[0.0, \"#0d0887\"], [0.1111111111111111, \"#46039f\"], [0.2222222222222222, \"#7201a8\"], [0.3333333333333333, \"#9c179e\"], [0.4444444444444444, \"#bd3786\"], [0.5555555555555556, \"#d8576b\"], [0.6666666666666666, \"#ed7953\"], [0.7777777777777778, \"#fb9f3a\"], [0.8888888888888888, \"#fdca26\"], [1.0, \"#f0f921\"]], \"type\": \"histogram2d\"}], \"histogram2dcontour\": [{\"colorbar\": {\"outlinewidth\": 0, \"ticks\": \"\"}, \"colorscale\": [[0.0, \"#0d0887\"], [0.1111111111111111, \"#46039f\"], [0.2222222222222222, \"#7201a8\"], [0.3333333333333333, \"#9c179e\"], [0.4444444444444444, \"#bd3786\"], [0.5555555555555556, \"#d8576b\"], [0.6666666666666666, \"#ed7953\"], [0.7777777777777778, \"#fb9f3a\"], [0.8888888888888888, \"#fdca26\"], [1.0, \"#f0f921\"]], \"type\": \"histogram2dcontour\"}], \"mesh3d\": [{\"colorbar\": {\"outlinewidth\": 0, \"ticks\": \"\"}, \"type\": \"mesh3d\"}], \"parcoords\": [{\"line\": {\"colorbar\": {\"outlinewidth\": 0, \"ticks\": \"\"}}, \"type\": \"parcoords\"}], \"pie\": [{\"automargin\": true, \"type\": \"pie\"}], \"scatter\": [{\"marker\": {\"colorbar\": {\"outlinewidth\": 0, \"ticks\": \"\"}}, \"type\": \"scatter\"}], \"scatter3d\": [{\"line\": {\"colorbar\": {\"outlinewidth\": 0, \"ticks\": \"\"}}, \"marker\": {\"colorbar\": {\"outlinewidth\": 0, \"ticks\": \"\"}}, \"type\": \"scatter3d\"}], \"scattercarpet\": [{\"marker\": {\"colorbar\": {\"outlinewidth\": 0, \"ticks\": \"\"}}, \"type\": \"scattercarpet\"}], \"scattergeo\": [{\"marker\": {\"colorbar\": {\"outlinewidth\": 0, \"ticks\": \"\"}}, \"type\": \"scattergeo\"}], \"scattergl\": [{\"marker\": {\"colorbar\": {\"outlinewidth\": 0, \"ticks\": \"\"}}, \"type\": \"scattergl\"}], \"scattermapbox\": [{\"marker\": {\"colorbar\": {\"outlinewidth\": 0, \"ticks\": \"\"}}, \"type\": \"scattermapbox\"}], \"scatterpolar\": [{\"marker\": {\"colorbar\": {\"outlinewidth\": 0, \"ticks\": \"\"}}, \"type\": \"scatterpolar\"}], \"scatterpolargl\": [{\"marker\": {\"colorbar\": {\"outlinewidth\": 0, \"ticks\": \"\"}}, \"type\": \"scatterpolargl\"}], \"scatterternary\": [{\"marker\": {\"colorbar\": {\"outlinewidth\": 0, \"ticks\": \"\"}}, \"type\": \"scatterternary\"}], \"surface\": [{\"colorbar\": {\"outlinewidth\": 0, \"ticks\": \"\"}, \"colorscale\": [[0.0, \"#0d0887\"], [0.1111111111111111, \"#46039f\"], [0.2222222222222222, \"#7201a8\"], [0.3333333333333333, \"#9c179e\"], [0.4444444444444444, \"#bd3786\"], [0.5555555555555556, \"#d8576b\"], [0.6666666666666666, \"#ed7953\"], [0.7777777777777778, \"#fb9f3a\"], [0.8888888888888888, \"#fdca26\"], [1.0, \"#f0f921\"]], \"type\": \"surface\"}], \"table\": [{\"cells\": {\"fill\": {\"color\": \"#EBF0F8\"}, \"line\": {\"color\": \"white\"}}, \"header\": {\"fill\": {\"color\": \"#C8D4E3\"}, \"line\": {\"color\": \"white\"}}, \"type\": \"table\"}]}, \"layout\": {\"annotationdefaults\": {\"arrowcolor\": \"#2a3f5f\", \"arrowhead\": 0, \"arrowwidth\": 1}, \"autotypenumbers\": \"strict\", \"coloraxis\": {\"colorbar\": {\"outlinewidth\": 0, \"ticks\": \"\"}}, \"colorscale\": {\"diverging\": [[0, \"#8e0152\"], [0.1, \"#c51b7d\"], [0.2, \"#de77ae\"], [0.3, \"#f1b6da\"], [0.4, \"#fde0ef\"], [0.5, \"#f7f7f7\"], [0.6, \"#e6f5d0\"], [0.7, \"#b8e186\"], [0.8, \"#7fbc41\"], [0.9, \"#4d9221\"], [1, \"#276419\"]], \"sequential\": [[0.0, \"#0d0887\"], [0.1111111111111111, \"#46039f\"], [0.2222222222222222, \"#7201a8\"], [0.3333333333333333, \"#9c179e\"], [0.4444444444444444, \"#bd3786\"], [0.5555555555555556, \"#d8576b\"], [0.6666666666666666, \"#ed7953\"], [0.7777777777777778, \"#fb9f3a\"], [0.8888888888888888, \"#fdca26\"], [1.0, \"#f0f921\"]], \"sequentialminus\": [[0.0, \"#0d0887\"], [0.1111111111111111, \"#46039f\"], [0.2222222222222222, \"#7201a8\"], [0.3333333333333333, \"#9c179e\"], [0.4444444444444444, \"#bd3786\"], [0.5555555555555556, \"#d8576b\"], [0.6666666666666666, \"#ed7953\"], [0.7777777777777778, \"#fb9f3a\"], [0.8888888888888888, \"#fdca26\"], [1.0, \"#f0f921\"]]}, \"colorway\": [\"#636efa\", \"#EF553B\", \"#00cc96\", \"#ab63fa\", \"#FFA15A\", \"#19d3f3\", \"#FF6692\", \"#B6E880\", \"#FF97FF\", \"#FECB52\"], \"font\": {\"color\": \"#2a3f5f\"}, \"geo\": {\"bgcolor\": \"white\", \"lakecolor\": \"white\", \"landcolor\": \"#E5ECF6\", \"showlakes\": true, \"showland\": true, \"subunitcolor\": \"white\"}, \"hoverlabel\": {\"align\": \"left\"}, \"hovermode\": \"closest\", \"mapbox\": {\"style\": \"light\"}, \"paper_bgcolor\": \"white\", \"plot_bgcolor\": \"#E5ECF6\", \"polar\": {\"angularaxis\": {\"gridcolor\": \"white\", \"linecolor\": \"white\", \"ticks\": \"\"}, \"bgcolor\": \"#E5ECF6\", \"radialaxis\": {\"gridcolor\": \"white\", \"linecolor\": \"white\", \"ticks\": \"\"}}, \"scene\": {\"xaxis\": {\"backgroundcolor\": \"#E5ECF6\", \"gridcolor\": \"white\", \"gridwidth\": 2, \"linecolor\": \"white\", \"showbackground\": true, \"ticks\": \"\", \"zerolinecolor\": \"white\"}, \"yaxis\": {\"backgroundcolor\": \"#E5ECF6\", \"gridcolor\": \"white\", \"gridwidth\": 2, \"linecolor\": \"white\", \"showbackground\": true, \"ticks\": \"\", \"zerolinecolor\": \"white\"}, \"zaxis\": {\"backgroundcolor\": \"#E5ECF6\", \"gridcolor\": \"white\", \"gridwidth\": 2, \"linecolor\": \"white\", \"showbackground\": true, \"ticks\": \"\", \"zerolinecolor\": \"white\"}}, \"shapedefaults\": {\"line\": {\"color\": \"#2a3f5f\"}}, \"ternary\": {\"aaxis\": {\"gridcolor\": \"white\", \"linecolor\": \"white\", \"ticks\": \"\"}, \"baxis\": {\"gridcolor\": \"white\", \"linecolor\": \"white\", \"ticks\": \"\"}, \"bgcolor\": \"#E5ECF6\", \"caxis\": {\"gridcolor\": \"white\", \"linecolor\": \"white\", \"ticks\": \"\"}}, \"title\": {\"x\": 0.05}, \"xaxis\": {\"automargin\": true, \"gridcolor\": \"white\", \"linecolor\": \"white\", \"ticks\": \"\", \"title\": {\"standoff\": 15}, \"zerolinecolor\": \"white\", \"zerolinewidth\": 2}, \"yaxis\": {\"automargin\": true, \"gridcolor\": \"white\", \"linecolor\": \"white\", \"ticks\": \"\", \"title\": {\"standoff\": 15}, \"zerolinecolor\": \"white\", \"zerolinewidth\": 2}}}, \"xaxis\": {\"range\": [-3, 123], \"showgrid\": false, \"showticklabels\": false, \"zeroline\": false}, \"yaxis\": {\"range\": [-5, 58.3], \"showgrid\": false, \"showticklabels\": false, \"zeroline\": false}},                        {\"responsive\": true}                    ).then(function(){\n",
       "                            \n",
       "var gd = document.getElementById('bb81a6df-3bb4-413b-afec-220539eacf5a');\n",
       "var x = new MutationObserver(function (mutations, observer) {{\n",
       "        var display = window.getComputedStyle(gd).display;\n",
       "        if (!display || display === 'none') {{\n",
       "            console.log([gd, 'removed!']);\n",
       "            Plotly.purge(gd);\n",
       "            observer.disconnect();\n",
       "        }}\n",
       "}});\n",
       "\n",
       "// Listen for the removal of the full notebook cells\n",
       "var notebookContainer = gd.closest('#notebook-container');\n",
       "if (notebookContainer) {{\n",
       "    x.observe(notebookContainer, {childList: true});\n",
       "}}\n",
       "\n",
       "// Listen for the clearing of the current output cell\n",
       "var outputEl = gd.closest('.output');\n",
       "if (outputEl) {{\n",
       "    x.observe(outputEl, {childList: true});\n",
       "}}\n",
       "\n",
       "                        })                };                });            </script>        </div>"
      ]
     },
     "metadata": {},
     "output_type": "display_data"
    }
   ],
   "source": [
    "fig = plotting.plot_frame(\n",
    "    interesting_play[interesting_play[\"event\"] == \"pass_forward\"], \"x\", \"y\",\n",
    "    uniform_number=\"jerseyNumber\",\n",
    "    home_away_identifier=lambda data: data[\"team\"] == \"home\",\n",
    "    hover_text=lambda data: data[\"displayName\"].str.cat(data[\"position\"], sep=\" \"),\n",
    "    ball_identifier=lambda data: (data[\"displayName\"] == \"Football\").values,\n",
    "    team_abbreviations=\"team_abbreviation\"\n",
    ")\n",
    "fig.show()"
   ]
  },
  {
   "cell_type": "code",
   "execution_count": 247,
   "id": "crude-garbage",
   "metadata": {},
   "outputs": [
    {
     "data": {
      "application/vnd.plotly.v1+json": {
       "config": {
        "plotlyServerURL": "https://plot.ly"
       },
       "data": [
        {
         "hovertext": [
          "Jimmy Graham TE",
          "Prince Amukamara CB",
          "Randall Cobb WR",
          "Aaron Rodgers QB",
          "Danny Trevathan ILB",
          "Marcus Cooper CB",
          "Davante Adams WR",
          "Kyle Fuller CB",
          "Adrian Amos FS",
          "Ty Montgomery RB",
          "Bryce Callahan CB",
          "Leonard Floyd OLB",
          "Geronimo Allison WR",
          "Eddie Jackson FS",
          null
         ],
         "marker": {
          "color": [
           "rgb(238, 173, 30)",
           "white",
           "rgb(238, 173, 30)",
           "rgb(238, 173, 30)",
           "white",
           "white",
           "rgb(238, 173, 30)",
           "white",
           "white",
           "rgb(238, 173, 30)",
           "white",
           "white",
           "rgb(238, 173, 30)",
           "white",
           "brown"
          ],
          "line": {
           "color": [
            "rgb(28, 45, 37)",
            "rgb(200, 56, 3)",
            "rgb(28, 45, 37)",
            "rgb(28, 45, 37)",
            "rgb(200, 56, 3)",
            "rgb(200, 56, 3)",
            "rgb(28, 45, 37)",
            "rgb(200, 56, 3)",
            "rgb(200, 56, 3)",
            "rgb(28, 45, 37)",
            "rgb(200, 56, 3)",
            "rgb(200, 56, 3)",
            "rgb(28, 45, 37)",
            "rgb(200, 56, 3)",
            "black"
           ],
           "width": [
            2,
            2,
            2,
            2,
            2,
            2,
            2,
            2,
            2,
            2,
            2,
            2,
            2,
            2,
            1
           ]
          },
          "opacity": 1,
          "size": [
           16,
           16,
           16,
           16,
           16,
           16,
           16,
           16,
           16,
           16,
           16,
           16,
           16,
           16,
           12
          ],
          "symbol": [
           "circle",
           "circle",
           "circle",
           "circle",
           "circle",
           "circle",
           "circle",
           "circle",
           "circle",
           "circle",
           "circle",
           "circle",
           "circle",
           "circle",
           "diamond-wide"
          ]
         },
         "mode": "markers+text",
         "text": [
          80,
          20,
          18,
          12,
          59,
          31,
          17,
          23,
          38,
          88,
          37,
          94,
          81,
          39,
          null
         ],
         "textfont": {
          "color": [
           "black",
           "rgb(11, 22, 42)",
           "black",
           "black",
           "rgb(11, 22, 42)",
           "rgb(11, 22, 42)",
           "black",
           "rgb(11, 22, 42)",
           "rgb(11, 22, 42)",
           "black",
           "rgb(11, 22, 42)",
           "rgb(11, 22, 42)",
           "black",
           "rgb(11, 22, 42)",
           "black"
          ],
          "family": [
           "Gravitas One"
          ],
          "size": 9
         },
         "type": "scatter",
         "x": [
          33.82,
          35.71,
          32.78,
          29.66,
          36.88,
          37.31,
          33.44,
          35.87,
          43.53,
          30.04,
          38.49,
          35.62,
          32.77,
          46.76,
          34.69
         ],
         "y": [
          23.05,
          44.29,
          19.21,
          29.79,
          32.58,
          23.49,
          44.85,
          10.03,
          35.92,
          32.53,
          18.54,
          27.2,
          10.37,
          21.15,
          29.77
         ]
        }
       ],
       "frames": [
        {
         "data": [
          {
           "type": "scatter",
           "x": [
            33.82,
            35.71,
            32.78,
            29.66,
            36.88,
            37.31,
            33.44,
            35.87,
            43.53,
            30.04,
            38.49,
            35.62,
            32.77,
            46.76,
            34.69
           ],
           "y": [
            23.05,
            44.29,
            19.21,
            29.79,
            32.58,
            23.49,
            44.85,
            10.03,
            35.92,
            32.53,
            18.54,
            27.2,
            10.37,
            21.15,
            29.77
           ]
          }
         ],
         "name": "1"
        },
        {
         "data": [
          {
           "type": "scatter",
           "x": [
            33.81,
            35.68,
            32.78,
            29.66,
            36.7,
            37.31,
            33.45,
            35.89,
            43.51,
            30.04,
            38.53,
            35.62,
            32.77,
            46.74,
            34.69
           ],
           "y": [
            23.05,
            44.29,
            19.21,
            29.78,
            32.57,
            23.47,
            44.85,
            10.03,
            35.95,
            32.53,
            18.51,
            27.2,
            10.37,
            21.11,
            29.77
           ]
          }
         ],
         "name": "2"
        },
        {
         "data": [
          {
           "type": "scatter",
           "x": [
            33.81,
            35.64,
            32.78,
            29.67,
            36.54,
            37.3,
            33.45,
            35.9,
            43.5,
            30.04,
            38.55,
            35.62,
            32.77,
            46.71,
            34.69
           ],
           "y": [
            23.04,
            44.24,
            19.21,
            29.78,
            32.56,
            23.47,
            44.86,
            10.03,
            35.99,
            32.53,
            18.48,
            27.2,
            10.36,
            21.07,
            29.77
           ]
          }
         ],
         "name": "3"
        },
        {
         "data": [
          {
           "type": "scatter",
           "x": [
            33.81,
            35.61,
            32.77,
            29.68,
            36.39,
            37.29,
            33.45,
            35.9,
            43.48,
            30.04,
            38.56,
            35.62,
            32.77,
            46.69,
            34.69
           ],
           "y": [
            23.03,
            44.23,
            19.21,
            29.78,
            32.56,
            23.48,
            44.86,
            10.03,
            36,
            32.53,
            18.47,
            27.2,
            10.36,
            21.04,
            29.77
           ]
          }
         ],
         "name": "4"
        },
        {
         "data": [
          {
           "type": "scatter",
           "x": [
            33.81,
            35.58,
            32.77,
            29.68,
            36.26,
            37.29,
            33.45,
            35.92,
            43.47,
            30.04,
            38.57,
            35.62,
            32.77,
            46.66,
            34.69
           ],
           "y": [
            23.03,
            44.21,
            19.21,
            29.78,
            32.57,
            23.48,
            44.86,
            10.02,
            36,
            32.53,
            18.46,
            27.19,
            10.36,
            21,
            29.77
           ]
          }
         ],
         "name": "5"
        },
        {
         "data": [
          {
           "type": "scatter",
           "x": [
            33.81,
            35.57,
            32.77,
            29.69,
            36.15,
            37.29,
            33.45,
            35.94,
            43.47,
            30.03,
            38.57,
            35.62,
            32.77,
            46.64,
            34.69
           ],
           "y": [
            23.03,
            44.21,
            19.2,
            29.78,
            32.58,
            23.48,
            44.87,
            10.01,
            36.01,
            32.53,
            18.45,
            27.19,
            10.35,
            20.99,
            29.77
           ]
          }
         ],
         "name": "6"
        },
        {
         "data": [
          {
           "type": "scatter",
           "x": [
            33.81,
            35.55,
            32.77,
            29.69,
            36.03,
            37.29,
            33.45,
            35.96,
            43.48,
            30.03,
            38.57,
            35.61,
            32.77,
            46.62,
            34.69
           ],
           "y": [
            23.03,
            44.22,
            19.2,
            29.78,
            32.59,
            23.49,
            44.87,
            10.01,
            36.01,
            32.53,
            18.45,
            27.19,
            10.35,
            20.98,
            29.77
           ]
          }
         ],
         "name": "7"
        },
        {
         "data": [
          {
           "type": "scatter",
           "x": [
            33.81,
            35.54,
            32.77,
            29.69,
            35.91,
            37.29,
            33.45,
            35.98,
            43.49,
            30.03,
            38.56,
            35.62,
            32.77,
            46.6,
            34.69
           ],
           "y": [
            23.05,
            44.23,
            19.2,
            29.78,
            32.57,
            23.49,
            44.86,
            10.02,
            36.02,
            32.53,
            18.43,
            27.18,
            10.35,
            20.98,
            29.77
           ]
          }
         ],
         "name": "8"
        },
        {
         "data": [
          {
           "type": "scatter",
           "x": [
            33.81,
            35.54,
            32.78,
            29.69,
            35.81,
            37.28,
            33.46,
            36,
            43.5,
            30.03,
            38.55,
            35.61,
            32.77,
            46.58,
            34.69
           ],
           "y": [
            23.05,
            44.23,
            19.2,
            29.78,
            32.56,
            23.49,
            44.87,
            9.99,
            36.03,
            32.53,
            18.41,
            27.18,
            10.35,
            20.99,
            29.77
           ]
          }
         ],
         "name": "9"
        },
        {
         "data": [
          {
           "type": "scatter",
           "x": [
            33.81,
            35.54,
            32.79,
            29.7,
            35.71,
            37.29,
            33.45,
            36.03,
            43.52,
            30.03,
            38.55,
            35.6,
            32.78,
            46.56,
            34.69
           ],
           "y": [
            23.05,
            44.24,
            19.2,
            29.78,
            32.56,
            23.49,
            44.86,
            9.95,
            36.05,
            32.53,
            18.39,
            27.17,
            10.35,
            21.01,
            29.77
           ]
          }
         ],
         "name": "10"
        },
        {
         "data": [
          {
           "type": "scatter",
           "x": [
            33.81,
            35.53,
            32.8,
            29.69,
            35.59,
            37.29,
            33.46,
            36.06,
            43.55,
            30.03,
            38.55,
            35.6,
            32.79,
            46.54,
            34.69
           ],
           "y": [
            23.07,
            44.24,
            19.2,
            29.78,
            32.53,
            23.5,
            44.86,
            9.92,
            36.08,
            32.53,
            18.36,
            27.18,
            10.35,
            21.02,
            29.77
           ]
          }
         ],
         "name": "11"
        },
        {
         "data": [
          {
           "type": "scatter",
           "x": [
            33.81,
            35.52,
            32.82,
            29.69,
            35.43,
            37.29,
            33.47,
            36.09,
            43.6,
            30.03,
            38.57,
            35.59,
            32.81,
            46.53,
            33.02
           ],
           "y": [
            23.09,
            44.22,
            19.2,
            29.77,
            32.53,
            23.51,
            44.86,
            9.86,
            36.15,
            32.52,
            18.31,
            27.19,
            10.35,
            21.05,
            29.99
           ]
          }
         ],
         "name": "12"
        },
        {
         "data": [
          {
           "type": "scatter",
           "x": [
            33.8,
            35.51,
            32.87,
            29.68,
            35.25,
            37.29,
            33.49,
            36.12,
            43.68,
            30.04,
            38.6,
            35.56,
            32.85,
            46.52,
            32.45
           ],
           "y": [
            23.12,
            44.21,
            19.2,
            29.77,
            32.53,
            23.53,
            44.86,
            9.83,
            36.25,
            32.52,
            18.25,
            27.21,
            10.34,
            21.07,
            29.95
           ]
          }
         ],
         "name": "13"
        },
        {
         "data": [
          {
           "type": "scatter",
           "x": [
            33.8,
            35.51,
            32.97,
            29.65,
            35.04,
            37.28,
            33.54,
            36.16,
            43.77,
            30.04,
            38.65,
            35.52,
            32.94,
            46.52,
            31.89
           ],
           "y": [
            23.17,
            44.21,
            19.2,
            29.77,
            32.54,
            23.57,
            44.87,
            9.78,
            36.35,
            32.48,
            18.18,
            27.26,
            10.31,
            21.1,
            29.9
           ]
          }
         ],
         "name": "14"
        },
        {
         "data": [
          {
           "type": "scatter",
           "x": [
            33.8,
            35.54,
            33.16,
            29.6,
            34.81,
            37.28,
            33.61,
            36.26,
            43.88,
            30.04,
            38.72,
            35.43,
            33.1,
            46.54,
            31.34
           ],
           "y": [
            23.25,
            44.21,
            19.2,
            29.76,
            32.55,
            23.63,
            44.89,
            9.71,
            36.46,
            32.41,
            18.1,
            27.33,
            10.27,
            21.13,
            29.86
           ]
          }
         ],
         "name": "15"
        },
        {
         "data": [
          {
           "type": "scatter",
           "x": [
            33.79,
            35.59,
            33.4,
            29.48,
            34.56,
            37.27,
            33.72,
            36.39,
            44.02,
            30.05,
            38.83,
            35.32,
            33.34,
            46.56,
            30.84
           ],
           "y": [
            23.37,
            44.22,
            19.21,
            29.77,
            32.56,
            23.72,
            44.92,
            9.62,
            36.59,
            32.32,
            18,
            27.44,
            10.22,
            21.16,
            29.82
           ]
          }
         ],
         "name": "16"
        },
        {
         "data": [
          {
           "type": "scatter",
           "x": [
            33.79,
            35.66,
            33.74,
            29.33,
            34.29,
            37.26,
            33.87,
            36.56,
            44.17,
            30.06,
            38.96,
            35.15,
            33.66,
            46.6,
            30.39
           ],
           "y": [
            23.54,
            44.23,
            19.21,
            29.78,
            32.57,
            23.84,
            44.98,
            9.52,
            36.73,
            32.2,
            17.9,
            27.58,
            10.14,
            21.21,
            29.77
           ]
          }
         ],
         "name": "17"
        },
        {
         "data": [
          {
           "type": "scatter",
           "x": [
            33.78,
            35.78,
            34.15,
            29.17,
            34.03,
            37.25,
            34.07,
            36.78,
            44.35,
            30.06,
            39.13,
            34.95,
            34.01,
            46.65,
            29.99
           ],
           "y": [
            23.73,
            44.26,
            19.23,
            29.79,
            32.58,
            23.99,
            45.06,
            9.41,
            36.88,
            32.04,
            17.8,
            27.74,
            10.06,
            21.25,
            29.72
           ]
          }
         ],
         "name": "18"
        },
        {
         "data": [
          {
           "type": "scatter",
           "x": [
            33.77,
            35.92,
            34.62,
            28.98,
            33.79,
            37.22,
            34.3,
            37.05,
            44.57,
            30.04,
            39.34,
            34.73,
            34.44,
            46.72,
            29.63
           ],
           "y": [
            23.96,
            44.29,
            19.25,
            29.81,
            32.61,
            24.17,
            45.15,
            9.29,
            37.06,
            31.85,
            17.7,
            27.92,
            9.98,
            21.31,
            29.66
           ]
          }
         ],
         "name": "19"
        },
        {
         "data": [
          {
           "type": "scatter",
           "x": [
            33.76,
            36.08,
            35.14,
            28.76,
            33.56,
            37.2,
            34.57,
            37.37,
            44.84,
            30.01,
            39.58,
            34.48,
            34.92,
            46.82,
            29.28
           ],
           "y": [
            24.21,
            44.35,
            19.28,
            29.83,
            32.63,
            24.35,
            45.26,
            9.18,
            37.26,
            31.64,
            17.6,
            28.1,
            9.9,
            21.4,
            29.64
           ]
          }
         ],
         "name": "20"
        },
        {
         "data": [
          {
           "type": "scatter",
           "x": [
            33.75,
            36.27,
            35.71,
            28.52,
            33.36,
            37.16,
            34.88,
            37.73,
            45.12,
            29.97,
            39.85,
            34.21,
            35.43,
            46.92,
            28.93
           ],
           "y": [
            24.48,
            44.41,
            19.31,
            29.85,
            32.64,
            24.52,
            45.39,
            9.07,
            37.48,
            31.4,
            17.51,
            28.29,
            9.83,
            21.49,
            29.6
           ]
          }
         ],
         "name": "21"
        },
        {
         "data": [
          {
           "type": "scatter",
           "x": [
            33.74,
            36.49,
            36.31,
            28.27,
            33.17,
            37.1,
            35.23,
            38.12,
            45.42,
            29.9,
            40.16,
            33.95,
            35.96,
            47.04,
            28.63
           ],
           "y": [
            24.77,
            44.51,
            19.34,
            29.88,
            32.64,
            24.69,
            45.54,
            8.97,
            37.72,
            31.14,
            17.44,
            28.46,
            9.76,
            21.6,
            29.57
           ]
          }
         ],
         "name": "22"
        },
        {
         "data": [
          {
           "type": "scatter",
           "x": [
            33.75,
            36.75,
            36.95,
            28,
            33,
            37.04,
            35.61,
            38.55,
            45.75,
            29.83,
            40.51,
            33.69,
            36.56,
            47.17,
            28.37
           ],
           "y": [
            25.08,
            44.63,
            19.39,
            29.9,
            32.61,
            24.86,
            45.7,
            8.88,
            37.99,
            30.88,
            17.4,
            28.63,
            9.7,
            21.7,
            29.54
           ]
          }
         ],
         "name": "23"
        },
        {
         "data": [
          {
           "type": "scatter",
           "x": [
            33.76,
            37.03,
            37.6,
            27.71,
            32.84,
            36.98,
            36.01,
            39.02,
            46.1,
            29.76,
            40.88,
            33.44,
            37.18,
            47.3,
            28.1
           ],
           "y": [
            25.39,
            44.77,
            19.47,
            29.93,
            32.57,
            25.02,
            45.86,
            8.82,
            38.28,
            30.59,
            17.36,
            28.77,
            9.66,
            21.81,
            29.52
           ]
          }
         ],
         "name": "24"
        },
        {
         "data": [
          {
           "type": "scatter",
           "x": [
            33.79,
            37.34,
            38.25,
            27.42,
            32.71,
            36.91,
            36.44,
            39.51,
            46.45,
            29.68,
            41.27,
            33.2,
            37.83,
            47.43,
            27.79
           ],
           "y": [
            25.72,
            44.93,
            19.59,
            29.96,
            32.51,
            25.19,
            46.04,
            8.78,
            38.6,
            30.29,
            17.34,
            28.88,
            9.64,
            21.94,
            29.53
           ]
          }
         ],
         "name": "25"
        },
        {
         "data": [
          {
           "type": "scatter",
           "x": [
            33.84,
            37.65,
            38.9,
            27.11,
            32.59,
            36.84,
            36.89,
            40.02,
            46.82,
            29.62,
            41.69,
            32.99,
            38.5,
            47.54,
            27.49
           ],
           "y": [
            26.07,
            45.11,
            19.73,
            29.99,
            32.45,
            25.36,
            46.24,
            8.77,
            38.94,
            29.98,
            17.37,
            28.95,
            9.63,
            22.08,
            29.59
           ]
          }
         ],
         "name": "26"
        },
        {
         "data": [
          {
           "type": "scatter",
           "x": [
            33.92,
            37.99,
            39.54,
            26.83,
            32.47,
            36.77,
            37.36,
            40.53,
            47.19,
            29.57,
            42.12,
            32.82,
            39.18,
            47.64,
            27.26
           ],
           "y": [
            26.44,
            45.31,
            19.93,
            30.02,
            32.38,
            25.53,
            46.45,
            8.78,
            39.29,
            29.66,
            17.42,
            28.97,
            9.64,
            22.24,
            29.6
           ]
          }
         ],
         "name": "27"
        },
        {
         "data": [
          {
           "type": "scatter",
           "x": [
            34.04,
            38.33,
            40.16,
            26.55,
            32.34,
            36.73,
            37.85,
            41.08,
            47.58,
            29.54,
            42.55,
            32.68,
            39.87,
            47.73,
            27.01
           ],
           "y": [
            26.82,
            45.5,
            20.16,
            30.04,
            32.31,
            25.73,
            46.68,
            8.85,
            39.66,
            29.31,
            17.52,
            28.94,
            9.67,
            22.42,
            29.7
           ]
          }
         ],
         "name": "28"
        },
        {
         "data": [
          {
           "type": "scatter",
           "x": [
            34.16,
            38.7,
            40.75,
            26.32,
            32.21,
            36.69,
            38.35,
            41.65,
            47.96,
            29.54,
            42.98,
            32.59,
            40.55,
            47.78,
            26.76
           ],
           "y": [
            27.22,
            45.72,
            20.44,
            30.05,
            32.25,
            25.94,
            46.9,
            8.96,
            40.04,
            28.95,
            17.65,
            28.85,
            9.73,
            22.66,
            29.76
           ]
          }
         ],
         "name": "29"
        },
        {
         "data": [
          {
           "type": "scatter",
           "x": [
            34.33,
            39.08,
            41.31,
            26.12,
            32.08,
            36.67,
            38.88,
            42.22,
            48.34,
            29.57,
            43.41,
            32.52,
            41.23,
            47.81,
            26.57
           ],
           "y": [
            27.66,
            45.94,
            20.79,
            30.05,
            32.21,
            26.17,
            47.12,
            9.09,
            40.43,
            28.56,
            17.82,
            28.72,
            9.82,
            22.91,
            29.79
           ]
          }
         ],
         "name": "30"
        },
        {
         "data": [
          {
           "type": "scatter",
           "x": [
            34.52,
            39.48,
            41.83,
            25.95,
            31.93,
            36.66,
            39.42,
            42.8,
            48.71,
            29.65,
            43.84,
            32.48,
            41.88,
            47.81,
            26.39
           ],
           "y": [
            28.11,
            46.16,
            21.17,
            30.05,
            32.17,
            26.43,
            47.34,
            9.26,
            40.82,
            28.16,
            18.01,
            28.53,
            9.96,
            23.19,
            29.81
           ]
          }
         ],
         "name": "31"
        },
        {
         "data": [
          {
           "type": "scatter",
           "x": [
            34.72,
            39.89,
            42.31,
            25.82,
            31.77,
            36.69,
            39.99,
            43.37,
            49.09,
            29.78,
            44.25,
            32.48,
            42.53,
            47.77,
            26.23
           ],
           "y": [
            28.57,
            46.38,
            21.6,
            30.05,
            32.16,
            26.74,
            47.56,
            9.46,
            41.21,
            27.71,
            18.24,
            28.29,
            10.13,
            23.5,
            29.82
           ]
          }
         ],
         "name": "32"
        },
        {
         "data": [
          {
           "type": "scatter",
           "x": [
            34.93,
            40.33,
            42.74,
            25.75,
            31.62,
            36.72,
            40.58,
            43.92,
            49.47,
            29.93,
            44.64,
            32.5,
            43.13,
            47.66,
            26.12
           ],
           "y": [
            29.05,
            46.58,
            22.09,
            30.04,
            32.16,
            27.08,
            47.75,
            9.7,
            41.59,
            27.25,
            18.49,
            28,
            10.34,
            23.88,
            29.81
           ]
          }
         ],
         "name": "33"
        },
        {
         "data": [
          {
           "type": "scatter",
           "x": [
            35.15,
            40.8,
            43.13,
            25.7,
            31.47,
            36.77,
            41.18,
            44.45,
            49.84,
            30.13,
            45.02,
            32.54,
            43.7,
            47.54,
            26.06
           ],
           "y": [
            29.54,
            46.77,
            22.63,
            30.03,
            32.17,
            27.47,
            47.94,
            9.97,
            41.97,
            26.77,
            18.77,
            27.66,
            10.6,
            24.27,
            29.79
           ]
          }
         ],
         "name": "34"
        },
        {
         "data": [
          {
           "type": "scatter",
           "x": [
            35.38,
            41.27,
            43.48,
            25.71,
            31.34,
            36.85,
            41.78,
            44.96,
            50.22,
            30.34,
            45.38,
            32.6,
            44.23,
            47.38,
            26.04
           ],
           "y": [
            30.05,
            46.95,
            23.2,
            30.02,
            32.17,
            27.94,
            48.12,
            10.28,
            42.35,
            26.26,
            19.07,
            27.26,
            10.93,
            24.68,
            29.77
           ]
          }
         ],
         "name": "35"
        },
        {
         "data": [
          {
           "type": "scatter",
           "x": [
            35.6,
            41.78,
            43.78,
            25.75,
            31.23,
            36.95,
            42.37,
            45.44,
            50.59,
            30.56,
            45.71,
            32.68,
            44.71,
            47.19,
            26.08
           ],
           "y": [
            30.57,
            47.12,
            23.81,
            30.01,
            32.17,
            28.46,
            48.28,
            10.62,
            42.72,
            25.73,
            19.36,
            26.82,
            11.3,
            25.12,
            29.73
           ]
          }
         ],
         "name": "36"
        },
        {
         "data": [
          {
           "type": "scatter",
           "x": [
            35.82,
            42.29,
            44.03,
            25.82,
            31.12,
            37.05,
            42.94,
            45.87,
            50.97,
            30.81,
            46.01,
            32.77,
            45.15,
            46.96,
            26.13
           ],
           "y": [
            31.1,
            47.28,
            24.46,
            30.01,
            32.19,
            29.02,
            48.44,
            11.02,
            43.07,
            25.16,
            19.61,
            26.35,
            11.7,
            25.61,
            29.7
           ]
          }
         ],
         "name": "37"
        },
        {
         "data": [
          {
           "type": "scatter",
           "x": [
            36.02,
            42.8,
            44.25,
            25.92,
            31.02,
            37.16,
            43.47,
            46.25,
            51.33,
            31.05,
            46.29,
            32.87,
            45.53,
            46.72,
            26.22
           ],
           "y": [
            31.64,
            47.41,
            25.13,
            30.02,
            32.22,
            29.61,
            48.59,
            11.45,
            43.41,
            24.56,
            19.85,
            25.83,
            12.15,
            26.1,
            29.66
           ]
          }
         ],
         "name": "38"
        },
        {
         "data": [
          {
           "type": "scatter",
           "x": [
            36.21,
            43.3,
            44.42,
            26.06,
            30.94,
            37.26,
            43.97,
            46.58,
            51.7,
            31.3,
            46.55,
            32.98,
            45.86,
            46.47,
            26.37
           ],
           "y": [
            32.19,
            47.55,
            25.82,
            30.05,
            32.24,
            30.24,
            48.74,
            11.93,
            43.73,
            23.96,
            20.06,
            25.27,
            12.65,
            26.62,
            29.7
           ]
          }
         ],
         "name": "39"
        },
        {
         "data": [
          {
           "type": "scatter",
           "x": [
            36.39,
            43.79,
            44.53,
            26.22,
            30.9,
            37.37,
            44.4,
            46.85,
            52.08,
            31.54,
            46.8,
            33.09,
            46.13,
            46.21,
            26.55
           ],
           "y": [
            32.76,
            47.69,
            26.51,
            30.11,
            32.25,
            30.89,
            48.9,
            12.44,
            44.04,
            23.33,
            20.16,
            24.69,
            13.17,
            27.17,
            29.78
           ]
          }
         ],
         "name": "40"
        },
        {
         "data": [
          {
           "type": "scatter",
           "x": [
            36.55,
            44.22,
            44.61,
            26.39,
            30.89,
            37.47,
            44.78,
            47.07,
            52.44,
            31.79,
            47.03,
            33.21,
            46.35,
            45.95,
            26.73
           ],
           "y": [
            33.34,
            47.85,
            27.2,
            30.18,
            32.26,
            31.57,
            49.05,
            12.99,
            44.32,
            22.68,
            20.27,
            24.08,
            13.73,
            27.73,
            29.84
           ]
          }
         ],
         "name": "41"
        },
        {
         "data": [
          {
           "type": "scatter",
           "x": [
            36.7,
            44.61,
            44.63,
            26.57,
            30.9,
            37.56,
            45.11,
            47.23,
            52.79,
            32.02,
            47.26,
            33.34,
            46.52,
            45.71,
            26.97
           ],
           "y": [
            33.94,
            48.03,
            27.87,
            30.25,
            32.27,
            32.28,
            49.21,
            13.56,
            44.57,
            21.99,
            20.35,
            23.46,
            14.31,
            28.32,
            29.9
           ]
          }
         ],
         "name": "42"
        },
        {
         "data": [
          {
           "type": "scatter",
           "x": [
            36.84,
            44.99,
            44.6,
            26.75,
            30.93,
            37.64,
            45.39,
            47.33,
            53.11,
            32.26,
            47.49,
            33.47,
            46.64,
            45.47,
            27.24
           ],
           "y": [
            34.55,
            48.2,
            28.52,
            30.36,
            32.27,
            33.01,
            49.37,
            14.16,
            44.81,
            21.31,
            20.41,
            22.82,
            14.92,
            28.92,
            30.02
           ]
          }
         ],
         "name": "43"
        },
        {
         "data": [
          {
           "type": "scatter",
           "x": [
            36.95,
            45.27,
            44.54,
            26.94,
            30.96,
            37.71,
            45.64,
            47.37,
            53.43,
            32.52,
            47.71,
            33.61,
            46.68,
            45.26,
            27.46
           ],
           "y": [
            35.17,
            48.42,
            29.15,
            30.5,
            32.3,
            33.74,
            49.54,
            14.78,
            45.02,
            20.61,
            20.43,
            22.18,
            15.56,
            29.53,
            30.14
           ]
          }
         ],
         "name": "44"
        },
        {
         "data": [
          {
           "type": "scatter",
           "x": [
            37.05,
            45.53,
            44.43,
            27.13,
            31,
            37.78,
            45.86,
            47.34,
            53.7,
            32.79,
            47.92,
            33.75,
            46.7,
            45.07,
            27.67
           ],
           "y": [
            35.8,
            48.65,
            29.73,
            30.64,
            32.33,
            34.48,
            49.71,
            15.41,
            45.25,
            19.9,
            20.45,
            21.54,
            16.2,
            30.15,
            30.26
           ]
          }
         ],
         "name": "45"
        },
        {
         "data": [
          {
           "type": "scatter",
           "x": [
            37.13,
            45.73,
            44.29,
            27.31,
            31.04,
            37.84,
            46.05,
            47.27,
            53.94,
            33.09,
            48.14,
            33.9,
            46.68,
            44.9,
            27.86
           ],
           "y": [
            36.43,
            48.89,
            30.27,
            30.82,
            32.41,
            35.23,
            49.88,
            16.06,
            45.45,
            19.2,
            20.45,
            20.9,
            16.87,
            30.77,
            30.41
           ]
          }
         ],
         "name": "46"
        },
        {
         "data": [
          {
           "type": "scatter",
           "x": [
            37.2,
            45.89,
            44.13,
            27.49,
            31.11,
            37.89,
            46.24,
            47.16,
            54.16,
            33.42,
            48.37,
            34.06,
            46.63,
            44.74,
            28.05
           ],
           "y": [
            37.09,
            49.14,
            30.77,
            31.02,
            32.47,
            36.01,
            50.04,
            16.72,
            45.63,
            18.49,
            20.46,
            20.26,
            17.55,
            31.37,
            30.54
           ]
          }
         ],
         "name": "47"
        },
        {
         "data": [
          {
           "type": "scatter",
           "x": [
            37.25,
            46.03,
            43.96,
            27.65,
            31.2,
            37.93,
            46.42,
            47.01,
            54.32,
            33.76,
            48.59,
            34.23,
            46.56,
            44.6,
            28.19
           ],
           "y": [
            37.75,
            49.38,
            31.21,
            31.24,
            32.55,
            36.77,
            50.18,
            17.38,
            45.81,
            17.78,
            20.52,
            19.62,
            18.23,
            31.95,
            30.72
           ]
          }
         ],
         "name": "48"
        },
        {
         "data": [
          {
           "type": "scatter",
           "x": [
            37.29,
            46.17,
            43.81,
            27.8,
            31.3,
            37.97,
            46.63,
            46.85,
            54.42,
            34.15,
            48.82,
            34.45,
            46.48,
            44.47,
            28.29
           ],
           "y": [
            38.42,
            49.63,
            31.59,
            31.48,
            32.65,
            37.55,
            50.28,
            18.05,
            46,
            17.08,
            20.6,
            18.98,
            18.91,
            32.51,
            30.93
           ]
          }
         ],
         "name": "49"
        },
        {
         "data": [
          {
           "type": "scatter",
           "x": [
            37.32,
            46.3,
            43.66,
            27.93,
            31.41,
            37.99,
            46.84,
            46.69,
            54.51,
            34.58,
            49.03,
            34.67,
            46.4,
            44.35,
            28.36
           ],
           "y": [
            39.1,
            49.88,
            31.93,
            31.73,
            32.76,
            38.33,
            50.36,
            18.72,
            46.21,
            16.41,
            20.73,
            18.35,
            19.6,
            33.02,
            31.16
           ]
          }
         ],
         "name": "50"
        },
        {
         "data": [
          {
           "type": "scatter",
           "x": [
            37.34,
            46.44,
            43.55,
            28.04,
            31.54,
            38.01,
            47.06,
            46.53,
            54.56,
            35.08,
            49.23,
            35.02,
            46.32,
            44.23,
            28.39
           ],
           "y": [
            39.79,
            50.09,
            32.21,
            31.98,
            32.89,
            39.1,
            50.41,
            19.39,
            46.4,
            15.76,
            20.92,
            17.73,
            20.3,
            33.49,
            31.42
           ]
          }
         ],
         "name": "51"
        },
        {
         "data": [
          {
           "type": "scatter",
           "x": [
            37.34,
            46.59,
            43.47,
            28.16,
            31.67,
            38.01,
            47.29,
            46.38,
            54.57,
            35.62,
            49.41,
            35.35,
            46.26,
            44.13,
            28.4
           ],
           "y": [
            40.47,
            50.29,
            32.45,
            32.24,
            33.04,
            39.87,
            50.4,
            20.07,
            46.59,
            15.13,
            21.19,
            17.13,
            21,
            33.88,
            31.69
           ]
          }
         ],
         "name": "52"
        },
        {
         "data": [
          {
           "type": "scatter",
           "x": [
            37.36,
            46.76,
            43.42,
            28.25,
            31.79,
            38.01,
            47.54,
            46.25,
            54.58,
            36.22,
            49.58,
            35.69,
            46.21,
            44.02,
            28.38
           ],
           "y": [
            41.16,
            50.45,
            32.64,
            32.5,
            33.21,
            40.62,
            50.33,
            20.74,
            46.79,
            14.53,
            21.51,
            16.55,
            21.71,
            34.24,
            31.98
           ]
          }
         ],
         "name": "53"
        },
        {
         "data": [
          {
           "type": "scatter",
           "x": [
            37.39,
            46.93,
            43.42,
            28.33,
            31.92,
            38.01,
            47.8,
            46.16,
            54.58,
            36.83,
            49.72,
            36.06,
            46.18,
            43.91,
            28.35
           ],
           "y": [
            41.86,
            50.58,
            32.79,
            32.77,
            33.39,
            41.37,
            50.22,
            21.42,
            46.98,
            13.97,
            21.88,
            15.99,
            22.41,
            34.51,
            32.27
           ]
          }
         ],
         "name": "54"
        },
        {
         "data": [
          {
           "type": "scatter",
           "x": [
            37.42,
            47.13,
            43.45,
            28.4,
            32.03,
            38,
            48.06,
            46.09,
            54.58,
            37.48,
            49.83,
            36.47,
            46.19,
            43.81,
            28.3
           ],
           "y": [
            42.55,
            50.66,
            32.89,
            33.04,
            33.58,
            42.1,
            50.04,
            22.1,
            47.15,
            13.43,
            22.31,
            15.46,
            23.13,
            34.63,
            32.57
           ]
          }
         ],
         "name": "55"
        },
        {
         "data": [
          {
           "type": "scatter",
           "x": [
            37.46,
            47.33,
            43.54,
            28.46,
            32.13,
            38.01,
            48.32,
            46.07,
            54.57,
            38.17,
            49.96,
            36.91,
            46.23,
            43.72,
            28.24
           ],
           "y": [
            43.23,
            50.7,
            32.93,
            33.32,
            33.79,
            42.78,
            49.82,
            22.79,
            47.31,
            12.92,
            22.79,
            14.96,
            23.86,
            34.74,
            32.86
           ]
          }
         ],
         "name": "56"
        },
        {
         "data": [
          {
           "type": "scatter",
           "x": [
            37.52,
            47.56,
            43.66,
            28.51,
            32.19,
            38.03,
            48.59,
            46.08,
            54.58,
            38.89,
            50.06,
            37.38,
            46.3,
            43.63,
            28.17
           ],
           "y": [
            43.9,
            50.68,
            32.93,
            33.59,
            34,
            43.44,
            49.52,
            23.48,
            47.41,
            12.45,
            23.31,
            14.49,
            24.58,
            34.76,
            33.16
           ]
          }
         ],
         "name": "57"
        },
        {
         "data": [
          {
           "type": "scatter",
           "x": [
            37.58,
            47.79,
            43.82,
            28.55,
            32.24,
            38.06,
            48.85,
            46.13,
            54.61,
            39.63,
            50.14,
            37.89,
            46.4,
            43.57,
            28.22
           ],
           "y": [
            44.56,
            50.6,
            32.9,
            33.87,
            34.24,
            44.07,
            49.19,
            24.18,
            47.44,
            12.02,
            23.87,
            14.05,
            25.32,
            34.7,
            33.27
           ]
          }
         ],
         "name": "58"
        },
        {
         "data": [
          {
           "type": "scatter",
           "x": [
            37.68,
            48.02,
            43.99,
            28.58,
            32.28,
            38.11,
            49.09,
            46.2,
            54.61,
            40.39,
            50.21,
            38.44,
            46.53,
            43.52,
            32.31
           ],
           "y": [
            45.2,
            50.49,
            32.83,
            34.17,
            34.47,
            44.65,
            48.81,
            24.88,
            47.41,
            11.6,
            24.48,
            13.63,
            26.05,
            34.54,
            32.57
           ]
          }
         ],
         "name": "59"
        },
        {
         "data": [
          {
           "type": "scatter",
           "x": [
            37.82,
            48.23,
            44.19,
            28.6,
            32.31,
            38.17,
            49.32,
            46.31,
            54.64,
            41.16,
            50.25,
            39.02,
            46.68,
            43.48,
            34.73
           ],
           "y": [
            45.84,
            50.3,
            32.71,
            34.46,
            34.68,
            45.2,
            48.38,
            25.59,
            47.34,
            11.22,
            25.12,
            13.23,
            26.78,
            34.33,
            32.34
           ]
          }
         ],
         "name": "60"
        },
        {
         "data": [
          {
           "type": "scatter",
           "x": [
            37.98,
            48.45,
            44.4,
            28.62,
            32.32,
            38.26,
            49.53,
            46.44,
            54.7,
            41.94,
            50.28,
            39.64,
            46.86,
            43.45,
            37.1
           ],
           "y": [
            46.45,
            50.08,
            32.57,
            34.74,
            34.89,
            45.71,
            47.92,
            26.3,
            47.22,
            10.85,
            25.79,
            12.85,
            27.51,
            34.03,
            32.11
           ]
          }
         ],
         "name": "61"
        },
        {
         "data": [
          {
           "type": "scatter",
           "x": [
            38.18,
            48.65,
            44.62,
            28.63,
            32.34,
            38.35,
            49.72,
            46.6,
            54.76,
            42.72,
            50.33,
            40.28,
            47.06,
            43.43,
            39.43
           ],
           "y": [
            47.04,
            49.81,
            32.41,
            35.03,
            35.1,
            46.18,
            47.44,
            27.02,
            47.07,
            10.5,
            26.5,
            12.49,
            28.22,
            33.66,
            31.89
           ]
          }
         ],
         "name": "62"
        },
        {
         "data": [
          {
           "type": "scatter",
           "x": [
            38.4,
            48.82,
            44.82,
            28.65,
            32.35,
            38.48,
            49.88,
            46.78,
            54.81,
            43.51,
            50.37,
            40.95,
            47.28,
            43.41,
            41.69
           ],
           "y": [
            47.61,
            49.5,
            32.21,
            35.31,
            35.29,
            46.61,
            46.95,
            27.74,
            46.87,
            10.18,
            27.24,
            12.16,
            28.95,
            33.25,
            31.67
           ]
          }
         ],
         "name": "63"
        },
        {
         "data": [
          {
           "type": "scatter",
           "x": [
            38.66,
            48.96,
            45.04,
            28.69,
            32.35,
            38.63,
            50.01,
            46.96,
            54.87,
            44.29,
            50.41,
            41.65,
            47.52,
            43.38,
            43.89
           ],
           "y": [
            48.13,
            49.17,
            32,
            35.58,
            35.47,
            47.01,
            46.44,
            28.47,
            46.63,
            9.88,
            27.99,
            11.84,
            29.66,
            32.79,
            31.46
           ]
          }
         ],
         "name": "64"
        },
        {
         "data": [
          {
           "type": "scatter",
           "x": [
            38.94,
            49.07,
            45.25,
            28.72,
            32.36,
            38.82,
            50.11,
            47.14,
            54.93,
            45.06,
            50.44,
            42.37,
            47.76,
            43.36,
            44.64
           ],
           "y": [
            48.61,
            48.8,
            31.78,
            35.86,
            35.63,
            47.38,
            45.93,
            29.17,
            46.35,
            9.58,
            28.76,
            11.53,
            30.35,
            32.33,
            31.17
           ]
          }
         ],
         "name": "65"
        },
        {
         "data": [
          {
           "type": "scatter",
           "x": [
            39.25,
            49.15,
            45.47,
            28.76,
            32.37,
            39.01,
            50.19,
            47.3,
            54.97,
            45.82,
            50.48,
            43.09,
            48.02,
            43.34,
            45.05
           ],
           "y": [
            49.06,
            48.41,
            31.54,
            36.12,
            35.77,
            47.72,
            45.42,
            29.85,
            46.02,
            9.31,
            29.52,
            11.24,
            31,
            31.87,
            31.02
           ]
          }
         ],
         "name": "66"
        },
        {
         "data": [
          {
           "type": "scatter",
           "x": [
            39.6,
            49.2,
            45.72,
            28.81,
            32.39,
            39.21,
            50.25,
            47.46,
            55.01,
            46.57,
            50.54,
            43.83,
            48.28,
            43.32,
            45.48
           ],
           "y": [
            49.45,
            48,
            31.3,
            36.38,
            35.89,
            48.02,
            44.92,
            30.51,
            45.66,
            9.06,
            30.27,
            10.96,
            31.62,
            31.43,
            30.87
           ]
          }
         ],
         "name": "67"
        },
        {
         "data": [
          {
           "type": "scatter",
           "x": [
            39.96,
            49.23,
            45.95,
            28.88,
            32.42,
            39.43,
            50.29,
            47.61,
            55.03,
            47.31,
            50.59,
            44.58,
            48.54,
            43.3,
            45.87
           ],
           "y": [
            49.81,
            47.57,
            31.06,
            36.64,
            35.99,
            48.29,
            44.43,
            31.15,
            45.28,
            8.83,
            31.01,
            10.71,
            32.22,
            31.02,
            30.73
           ]
          }
         ],
         "name": "68"
        },
        {
         "data": [
          {
           "type": "scatter",
           "x": [
            40.33,
            49.24,
            46.17,
            28.95,
            32.45,
            39.67,
            50.32,
            47.75,
            55.04,
            48.04,
            50.65,
            45.33,
            48.81,
            43.27,
            46.25
           ],
           "y": [
            50.11,
            47.13,
            30.86,
            36.85,
            36.07,
            48.51,
            43.95,
            31.75,
            44.87,
            8.61,
            31.73,
            10.46,
            32.79,
            30.69,
            30.59
           ]
          }
         ],
         "name": "69"
        },
        {
         "data": [
          {
           "type": "scatter",
           "x": [
            40.71,
            49.24,
            46.46,
            29.05,
            32.49,
            39.92,
            50.34,
            47.89,
            55.05,
            48.76,
            50.75,
            46.08,
            49.09,
            43.26,
            46.65
           ],
           "y": [
            50.37,
            46.67,
            30.65,
            37.07,
            36.11,
            48.71,
            43.49,
            32.23,
            44.44,
            8.41,
            32.41,
            10.24,
            33.32,
            30.37,
            30.46
           ]
          }
         ],
         "name": "70"
        },
        {
         "data": [
          {
           "type": "scatter",
           "x": [
            41.1,
            49.24,
            46.78,
            29.17,
            32.54,
            40.19,
            50.34,
            48.02,
            55.03,
            49.47,
            50.86,
            46.82,
            49.36,
            43.26,
            47.07
           ],
           "y": [
            50.59,
            46.21,
            30.45,
            37.28,
            36.14,
            48.87,
            43.04,
            32.71,
            43.98,
            8.24,
            33.08,
            10.02,
            33.81,
            30.11,
            30.32
           ]
          }
         ],
         "name": "71"
        },
        {
         "data": [
          {
           "type": "scatter",
           "x": [
            41.5,
            49.25,
            47.11,
            29.3,
            32.6,
            40.49,
            50.34,
            48.11,
            55.02,
            50.17,
            51,
            47.55,
            49.63,
            43.3,
            47.48
           ],
           "y": [
            50.78,
            45.75,
            30.28,
            37.5,
            36.14,
            49.01,
            42.62,
            33.12,
            43.51,
            8.09,
            33.71,
            9.82,
            34.27,
            29.97,
            30.2
           ]
          }
         ],
         "name": "72"
        },
        {
         "data": [
          {
           "type": "scatter",
           "x": [
            41.91,
            49.27,
            47.49,
            29.46,
            32.7,
            40.8,
            50.36,
            48.22,
            55.02,
            50.87,
            51.16,
            48.29,
            49.91,
            43.31,
            47.9
           ],
           "y": [
            50.94,
            45.28,
            30.13,
            37.71,
            36.13,
            49.11,
            42.2,
            33.49,
            43.03,
            7.98,
            34.31,
            9.62,
            34.69,
            29.83,
            30.1
           ]
          }
         ],
         "name": "73"
        },
        {
         "data": [
          {
           "type": "scatter",
           "x": [
            42.31,
            49.32,
            47.91,
            29.63,
            32.8,
            41.14,
            50.38,
            48.35,
            55.05,
            51.56,
            51.37,
            49.01,
            50.2,
            43.34,
            48.31
           ],
           "y": [
            51.07,
            44.8,
            30,
            37.91,
            36.1,
            49.2,
            41.81,
            33.78,
            42.55,
            7.89,
            34.88,
            9.44,
            35.06,
            29.72,
            30
           ]
          }
         ],
         "name": "74"
        },
        {
         "data": [
          {
           "type": "scatter",
           "x": [
            42.71,
            49.38,
            48.37,
            29.84,
            32.92,
            41.49,
            50.42,
            48.47,
            55.1,
            52.24,
            51.61,
            49.72,
            50.49,
            43.38,
            48.78
           ],
           "y": [
            51.15,
            44.33,
            29.9,
            38.11,
            36.06,
            49.25,
            41.44,
            34.04,
            42.08,
            7.85,
            35.42,
            9.29,
            35.38,
            29.65,
            29.91
           ]
          }
         ],
         "name": "75"
        },
        {
         "data": [
          {
           "type": "scatter",
           "x": [
            43.11,
            49.48,
            48.87,
            30.11,
            33.06,
            41.86,
            50.48,
            48.62,
            55.2,
            52.93,
            51.89,
            50.43,
            50.8,
            43.44,
            49.29
           ],
           "y": [
            51.2,
            43.87,
            29.8,
            38.29,
            36.01,
            49.26,
            41.09,
            34.22,
            41.61,
            7.84,
            35.91,
            9.16,
            35.64,
            29.62,
            29.81
           ]
          }
         ],
         "name": "76"
        },
        {
         "data": [
          {
           "type": "scatter",
           "x": [
            43.5,
            49.6,
            49.42,
            30.37,
            33.22,
            42.24,
            50.56,
            48.77,
            55.36,
            53.61,
            52.22,
            51.13,
            51.19,
            43.53,
            49.82
           ],
           "y": [
            51.22,
            43.39,
            29.73,
            38.47,
            35.94,
            49.25,
            40.75,
            34.36,
            41.15,
            7.87,
            36.37,
            9.06,
            35.87,
            29.61,
            29.75
           ]
          }
         ],
         "name": "77"
        },
        {
         "data": [
          {
           "type": "scatter",
           "x": [
            43.89,
            49.78,
            50.02,
            30.64,
            33.4,
            42.64,
            50.66,
            48.95,
            55.57,
            54.29,
            52.6,
            51.82,
            51.55,
            43.64,
            50.35
           ],
           "y": [
            51.21,
            42.94,
            29.66,
            38.67,
            35.87,
            49.22,
            40.43,
            34.44,
            40.71,
            7.93,
            36.8,
            8.98,
            36.05,
            29.62,
            29.69
           ]
          }
         ],
         "name": "78"
        },
        {
         "data": [
          {
           "type": "scatter",
           "x": [
            44.27,
            49.99,
            50.65,
            30.93,
            33.61,
            43.06,
            50.78,
            49.18,
            55.84,
            54.97,
            53.03,
            52.52,
            51.94,
            43.78,
            50.93
           ],
           "y": [
            51.18,
            42.49,
            29.59,
            38.85,
            35.79,
            49.16,
            40.13,
            34.47,
            40.29,
            8.05,
            37.19,
            8.95,
            36.19,
            29.65,
            29.63
           ]
          }
         ],
         "name": "79"
        },
        {
         "data": [
          {
           "type": "scatter",
           "x": [
            44.65,
            50.24,
            51.31,
            31.22,
            33.83,
            43.49,
            50.95,
            49.46,
            56.17,
            55.64,
            53.51,
            53.21,
            52.35,
            43.96,
            51.55
           ],
           "y": [
            51.13,
            42.06,
            29.53,
            39.03,
            35.71,
            49.07,
            39.85,
            34.45,
            39.89,
            8.2,
            37.55,
            8.95,
            36.3,
            29.66,
            29.56
           ]
          }
         ],
         "name": "80"
        },
        {
         "data": [
          {
           "type": "scatter",
           "x": [
            45.01,
            50.54,
            52,
            31.53,
            34.08,
            43.93,
            51.14,
            49.76,
            56.56,
            56.31,
            54.02,
            53.9,
            52.78,
            44.17,
            52.21
           ],
           "y": [
            51.07,
            41.65,
            29.45,
            39.21,
            35.62,
            48.96,
            39.59,
            34.39,
            39.51,
            8.38,
            37.87,
            8.98,
            36.37,
            29.65,
            29.48
           ]
          }
         ],
         "name": "81"
        },
        {
         "data": [
          {
           "type": "scatter",
           "x": [
            45.38,
            50.91,
            52.7,
            31.84,
            34.34,
            44.39,
            51.36,
            50.1,
            57.01,
            56.97,
            54.55,
            54.59,
            53.24,
            44.42,
            52.88
           ],
           "y": [
            50.98,
            41.25,
            29.36,
            39.4,
            35.52,
            48.83,
            39.34,
            34.29,
            39.18,
            8.59,
            38.16,
            9.04,
            36.41,
            29.62,
            29.41
           ]
          }
         ],
         "name": "82"
        },
        {
         "data": [
          {
           "type": "scatter",
           "x": [
            45.76,
            51.31,
            53.43,
            32.16,
            34.62,
            44.86,
            51.6,
            50.47,
            57.5,
            57.65,
            55.15,
            55.28,
            53.73,
            44.71,
            53.55
           ],
           "y": [
            50.88,
            40.87,
            29.24,
            39.58,
            35.42,
            48.69,
            39.1,
            34.16,
            38.85,
            8.82,
            38.41,
            9.14,
            36.43,
            29.58,
            29.32
           ]
          }
         ],
         "name": "83"
        },
        {
         "data": [
          {
           "type": "scatter",
           "x": [
            46.13,
            51.74,
            54.16,
            32.48,
            34.94,
            45.35,
            51.87,
            50.87,
            58.05,
            58.3,
            55.79,
            55.98,
            54.24,
            45.03,
            54.27
           ],
           "y": [
            50.77,
            40.5,
            29.11,
            39.76,
            35.32,
            48.54,
            38.88,
            34,
            38.55,
            9.1,
            38.62,
            9.26,
            36.41,
            29.51,
            29.19
           ]
          }
         ],
         "name": "84"
        },
        {
         "data": [
          {
           "type": "scatter",
           "x": [
            46.49,
            52.2,
            54.91,
            32.8,
            35.26,
            45.85,
            52.15,
            51.29,
            58.63,
            58.95,
            56.44,
            56.67,
            54.79,
            45.39,
            55
           ],
           "y": [
            50.63,
            40.16,
            28.95,
            39.94,
            35.21,
            48.36,
            38.67,
            33.82,
            38.27,
            9.38,
            38.8,
            9.42,
            36.37,
            29.43,
            29.03
           ]
          }
         ],
         "name": "85"
        },
        {
         "data": [
          {
           "type": "scatter",
           "x": [
            46.86,
            52.71,
            55.66,
            33.11,
            35.6,
            46.35,
            52.45,
            51.74,
            59.28,
            59.6,
            57.1,
            57.37,
            55.36,
            45.8,
            55.74
           ],
           "y": [
            50.48,
            39.82,
            28.76,
            40.13,
            35.1,
            48.18,
            38.47,
            33.64,
            38.02,
            9.68,
            38.95,
            9.59,
            36.3,
            29.32,
            28.87
           ]
          }
         ],
         "name": "86"
        },
        {
         "data": [
          {
           "type": "scatter",
           "x": [
            47.23,
            53.24,
            56.42,
            33.44,
            35.96,
            46.88,
            52.78,
            52.22,
            59.94,
            60.24,
            57.78,
            58.07,
            55.96,
            46.25,
            56.47
           ],
           "y": [
            50.32,
            39.51,
            28.56,
            40.31,
            35,
            47.97,
            38.28,
            33.42,
            37.79,
            9.99,
            39.07,
            9.79,
            36.21,
            29.21,
            28.69
           ]
          }
         ],
         "name": "87"
        },
        {
         "data": [
          {
           "type": "scatter",
           "x": [
            47.6,
            53.79,
            57.17,
            33.76,
            36.34,
            47.41,
            53.13,
            52.72,
            60.62,
            60.9,
            58.48,
            58.77,
            56.58,
            46.71,
            57.21
           ],
           "y": [
            50.16,
            39.2,
            28.33,
            40.5,
            34.9,
            47.77,
            38.08,
            33.19,
            37.55,
            10.32,
            39.16,
            10,
            36.11,
            29.07,
            28.49
           ]
          }
         ],
         "name": "88"
        },
        {
         "data": [
          {
           "type": "scatter",
           "x": [
            47.95,
            54.35,
            57.94,
            34.09,
            36.74,
            47.96,
            53.49,
            53.24,
            61.32,
            61.55,
            59.18,
            59.49,
            57.23,
            47.22,
            57.98
           ],
           "y": [
            49.98,
            38.9,
            28.08,
            40.68,
            34.8,
            47.56,
            37.9,
            32.96,
            37.31,
            10.64,
            39.22,
            10.2,
            35.99,
            28.92,
            28.23
           ]
          }
         ],
         "name": "89"
        },
        {
         "data": [
          {
           "type": "scatter",
           "x": [
            48.32,
            54.93,
            58.7,
            34.41,
            37.14,
            48.53,
            53.87,
            53.79,
            62.04,
            62.21,
            59.89,
            60.21,
            57.9,
            47.75,
            58.78
           ],
           "y": [
            49.8,
            38.61,
            27.82,
            40.86,
            34.7,
            47.35,
            37.71,
            32.72,
            37.07,
            10.96,
            39.24,
            10.41,
            35.84,
            28.77,
            27.93
           ]
          }
         ],
         "name": "90"
        },
        {
         "data": [
          {
           "type": "scatter",
           "x": [
            48.69,
            55.51,
            59.46,
            34.74,
            37.56,
            49.1,
            54.25,
            54.34,
            62.77,
            62.88,
            60.62,
            60.93,
            58.58,
            48.31,
            59.54
           ],
           "y": [
            49.61,
            38.33,
            27.53,
            41.03,
            34.6,
            47.13,
            37.52,
            32.46,
            36.82,
            11.28,
            39.23,
            10.63,
            35.69,
            28.6,
            27.65
           ]
          }
         ],
         "name": "91"
        },
        {
         "data": [
          {
           "type": "scatter",
           "x": [
            49.06,
            56.1,
            60.24,
            35.06,
            37.99,
            49.68,
            54.64,
            54.91,
            63.51,
            63.56,
            61.39,
            61.67,
            59.28,
            48.87,
            60.28
           ],
           "y": [
            49.41,
            38.05,
            27.23,
            41.21,
            34.51,
            46.91,
            37.33,
            32.2,
            36.54,
            11.58,
            39.15,
            10.84,
            35.53,
            28.43,
            27.35
           ]
          }
         ],
         "name": "92"
        },
        {
         "data": [
          {
           "type": "scatter",
           "x": [
            49.43,
            56.7,
            61.02,
            35.38,
            38.43,
            50.28,
            55.04,
            55.49,
            64.26,
            64.24,
            62.13,
            62.42,
            59.98,
            49.47,
            61.07
           ],
           "y": [
            49.21,
            37.78,
            26.9,
            41.38,
            34.41,
            46.68,
            37.16,
            31.94,
            36.24,
            11.86,
            39.07,
            11.04,
            35.35,
            28.28,
            27.03
           ]
          }
         ],
         "name": "93"
        },
        {
         "data": [
          {
           "type": "scatter",
           "x": [
            49.81,
            57.29,
            61.8,
            35.72,
            38.88,
            50.89,
            55.45,
            56.08,
            65.01,
            64.92,
            62.89,
            63.17,
            60.7,
            50.07,
            61.88
           ],
           "y": [
            49.01,
            37.5,
            26.57,
            41.55,
            34.31,
            46.46,
            36.98,
            31.67,
            35.92,
            12.14,
            38.94,
            11.24,
            35.15,
            28.11,
            26.67
           ]
          }
         ],
         "name": "94"
        },
        {
         "data": [
          {
           "type": "scatter",
           "x": [
            50.21,
            57.9,
            62.59,
            36.07,
            39.33,
            51.5,
            55.87,
            56.68,
            65.76,
            65.62,
            63.64,
            63.94,
            61.44,
            50.68,
            62.68
           ],
           "y": [
            48.83,
            37.2,
            26.25,
            41.71,
            34.22,
            46.22,
            36.8,
            31.4,
            35.6,
            12.4,
            38.79,
            11.43,
            34.94,
            27.95,
            26.31
           ]
          }
         ],
         "name": "95"
        },
        {
         "data": [
          {
           "type": "scatter",
           "x": [
            50.59,
            58.5,
            63.38,
            36.42,
            39.79,
            52.12,
            56.29,
            57.3,
            66.51,
            66.32,
            64.4,
            64.71,
            62.17,
            51.29,
            63.47
           ],
           "y": [
            48.63,
            36.9,
            25.89,
            41.86,
            34.12,
            45.98,
            36.63,
            31.12,
            35.27,
            12.64,
            38.6,
            11.62,
            34.72,
            27.79,
            25.95
           ]
          }
         ],
         "name": "96"
        },
        {
         "data": [
          {
           "type": "scatter",
           "x": [
            50.99,
            59.1,
            64.19,
            36.78,
            40.26,
            52.75,
            56.72,
            57.92,
            67.26,
            67.02,
            65.15,
            65.5,
            62.9,
            51.91,
            64.27
           ],
           "y": [
            48.43,
            36.6,
            25.55,
            42,
            34.02,
            45.74,
            36.46,
            30.85,
            34.92,
            12.87,
            38.38,
            11.8,
            34.48,
            27.63,
            25.59
           ]
          }
         ],
         "name": "97"
        },
        {
         "data": [
          {
           "type": "scatter",
           "x": [
            51.38,
            59.69,
            64.98,
            37.13,
            40.73,
            53.38,
            57.15,
            58.55,
            68.04,
            67.75,
            65.91,
            66.29,
            63.65,
            52.54,
            65.11
           ],
           "y": [
            48.23,
            36.3,
            25.21,
            42.15,
            33.91,
            45.5,
            36.28,
            30.57,
            34.54,
            13.09,
            38.14,
            11.99,
            34.21,
            27.47,
            25.22
           ]
          }
         ],
         "name": "98"
        },
        {
         "data": [
          {
           "type": "scatter",
           "x": [
            51.77,
            60.29,
            65.8,
            37.49,
            41.2,
            54,
            57.58,
            59.18,
            68.82,
            68.46,
            66.67,
            67.09,
            64.39,
            53.17,
            65.97
           ],
           "y": [
            48.01,
            35.99,
            24.86,
            42.29,
            33.81,
            45.25,
            36.11,
            30.28,
            34.16,
            13.29,
            37.89,
            12.17,
            33.93,
            27.31,
            24.85
           ]
          }
         ],
         "name": "99"
        },
        {
         "data": [
          {
           "type": "scatter",
           "x": [
            52.17,
            60.89,
            66.63,
            37.85,
            41.67,
            54.62,
            58.02,
            59.82,
            69.6,
            69.18,
            67.44,
            67.9,
            65.12,
            53.8,
            66.81
           ],
           "y": [
            47.79,
            35.68,
            24.52,
            42.43,
            33.71,
            45,
            35.93,
            30,
            33.76,
            13.49,
            37.62,
            12.33,
            33.63,
            27.16,
            24.5
           ]
          }
         ],
         "name": "100"
        },
        {
         "data": [
          {
           "type": "scatter",
           "x": [
            52.57,
            61.49,
            67.47,
            38.21,
            42.15,
            55.25,
            58.46,
            60.47,
            70.37,
            69.89,
            68.19,
            68.71,
            65.85,
            54.43,
            67.64
           ],
           "y": [
            47.56,
            35.36,
            24.19,
            42.57,
            33.61,
            44.74,
            35.77,
            29.71,
            33.36,
            13.66,
            37.33,
            12.48,
            33.31,
            27.01,
            24.17
           ]
          }
         ],
         "name": "101"
        },
        {
         "data": [
          {
           "type": "scatter",
           "x": [
            52.97,
            62.09,
            68.31,
            38.57,
            42.63,
            55.87,
            58.9,
            61.11,
            71.16,
            70.62,
            68.94,
            69.53,
            66.59,
            55.05,
            68.48
           ],
           "y": [
            47.32,
            35.04,
            23.87,
            42.69,
            33.52,
            44.49,
            35.6,
            29.41,
            32.93,
            13.83,
            37.04,
            12.63,
            32.97,
            26.85,
            23.85
           ]
          }
         ],
         "name": "102"
        },
        {
         "data": [
          {
           "type": "scatter",
           "x": [
            53.37,
            62.69,
            69.15,
            38.93,
            43.11,
            56.49,
            59.34,
            61.76,
            71.94,
            71.34,
            69.69,
            70.35,
            67.33,
            55.67,
            69.34
           ],
           "y": [
            47.08,
            34.7,
            23.55,
            42.83,
            33.43,
            44.23,
            35.44,
            29.11,
            32.5,
            13.98,
            36.73,
            12.75,
            32.64,
            26.69,
            23.52
           ]
          }
         ],
         "name": "103"
        },
        {
         "data": [
          {
           "type": "scatter",
           "x": [
            53.76,
            63.29,
            70.01,
            39.29,
            43.59,
            57.12,
            59.8,
            62.43,
            72.72,
            72.06,
            70.43,
            71.18,
            68.06,
            56.28,
            70.22
           ],
           "y": [
            46.84,
            34.37,
            23.24,
            42.95,
            33.33,
            43.97,
            35.28,
            28.81,
            32.06,
            14.12,
            36.43,
            12.87,
            32.29,
            26.53,
            23.19
           ]
          }
         ],
         "name": "104"
        },
        {
         "data": [
          {
           "type": "scatter",
           "x": [
            54.15,
            63.9,
            70.87,
            39.64,
            44.08,
            57.75,
            60.25,
            63.08,
            73.49,
            72.77,
            71.16,
            72.01,
            68.79,
            56.9,
            71.08
           ],
           "y": [
            46.6,
            34.04,
            22.94,
            43.07,
            33.24,
            43.71,
            35.15,
            28.51,
            31.61,
            14.24,
            36.12,
            12.97,
            31.92,
            26.35,
            22.9
           ]
          }
         ],
         "name": "105"
        },
        {
         "data": [
          {
           "type": "scatter",
           "x": [
            54.54,
            64.5,
            71.72,
            40,
            44.57,
            58.37,
            60.7,
            63.75,
            74.28,
            73.49,
            71.9,
            72.84,
            69.52,
            57.51,
            71.94
           ],
           "y": [
            46.36,
            33.71,
            22.65,
            43.18,
            33.15,
            43.45,
            35.02,
            28.22,
            31.15,
            14.36,
            35.8,
            13.07,
            31.54,
            26.18,
            22.62
           ]
          }
         ],
         "name": "106"
        },
        {
         "data": [
          {
           "type": "scatter",
           "x": [
            54.94,
            65.11,
            72.59,
            40.35,
            45.06,
            58.99,
            61.16,
            64.41,
            75.07,
            74.22,
            72.64,
            73.67,
            70.26,
            58.11,
            72.81
           ],
           "y": [
            46.11,
            33.39,
            22.37,
            43.29,
            33.06,
            43.19,
            34.9,
            27.92,
            30.69,
            14.49,
            35.48,
            13.16,
            31.16,
            26.01,
            22.35
           ]
          }
         ],
         "name": "107"
        },
        {
         "data": [
          {
           "type": "scatter",
           "x": [
            55.33,
            65.72,
            73.48,
            40.71,
            45.55,
            59.63,
            61.64,
            65.09,
            75.86,
            74.94,
            73.37,
            74.52,
            70.99,
            58.71,
            73.71
           ],
           "y": [
            45.86,
            33.07,
            22.09,
            43.39,
            32.97,
            42.93,
            34.77,
            27.64,
            30.22,
            14.61,
            35.15,
            13.25,
            30.77,
            25.85,
            22.05
           ]
          }
         ],
         "name": "108"
        },
        {
         "data": [
          {
           "type": "scatter",
           "x": [
            55.72,
            66.33,
            74.36,
            41.06,
            46.04,
            60.26,
            62.11,
            65.76,
            76.65,
            75.66,
            74.1,
            75.38,
            71.73,
            59.3,
            74.62
           ],
           "y": [
            45.62,
            32.76,
            21.81,
            43.49,
            32.89,
            42.67,
            34.66,
            27.35,
            29.75,
            14.71,
            34.82,
            13.33,
            30.37,
            25.67,
            21.76
           ]
          }
         ],
         "name": "109"
        },
        {
         "data": [
          {
           "type": "scatter",
           "x": [
            56.12,
            66.95,
            75.25,
            41.42,
            46.53,
            60.89,
            62.59,
            66.45,
            77.47,
            76.39,
            74.82,
            76.23,
            72.47,
            59.89,
            75.5
           ],
           "y": [
            45.39,
            32.45,
            21.54,
            43.58,
            32.81,
            42.4,
            34.54,
            27.06,
            29.26,
            14.8,
            34.49,
            13.41,
            29.97,
            25.5,
            21.48
           ]
          }
         ],
         "name": "110"
        },
        {
         "data": [
          {
           "type": "scatter",
           "x": [
            56.51,
            67.56,
            76.13,
            41.77,
            47.03,
            61.53,
            63.06,
            67.15,
            78.27,
            77.13,
            75.53,
            77.09,
            73.21,
            60.47,
            76.37
           ],
           "y": [
            45.16,
            32.15,
            21.27,
            43.68,
            32.72,
            42.12,
            34.41,
            26.77,
            28.78,
            14.88,
            34.17,
            13.51,
            29.57,
            25.32,
            21.21
           ]
          }
         ],
         "name": "111"
        },
        {
         "data": [
          {
           "type": "scatter",
           "x": [
            56.9,
            68.19,
            77.01,
            42.12,
            47.53,
            62.19,
            63.54,
            67.84,
            79.06,
            77.87,
            76.25,
            77.96,
            73.95,
            61.05,
            77.23
           ],
           "y": [
            44.93,
            31.84,
            20.99,
            43.77,
            32.64,
            41.84,
            34.28,
            26.49,
            28.31,
            14.95,
            33.83,
            13.58,
            29.17,
            25.15,
            20.95
           ]
          }
         ],
         "name": "112"
        },
        {
         "data": [
          {
           "type": "scatter",
           "x": [
            57.27,
            68.81,
            77.88,
            42.47,
            48.03,
            62.84,
            64.03,
            68.54,
            79.85,
            78.63,
            76.95,
            78.82,
            74.7,
            61.63,
            78.12
           ],
           "y": [
            44.7,
            31.54,
            20.7,
            43.86,
            32.55,
            41.57,
            34.16,
            26.2,
            27.83,
            15.01,
            33.5,
            13.67,
            28.77,
            24.97,
            20.63
           ]
          }
         ],
         "name": "113"
        },
        {
         "data": [
          {
           "type": "scatter",
           "x": [
            57.65,
            69.42,
            78.74,
            42.83,
            48.53,
            63.49,
            64.51,
            69.24,
            80.65,
            79.42,
            77.64,
            79.67,
            75.44,
            62.2,
            78.97
           ],
           "y": [
            44.47,
            31.25,
            20.39,
            43.96,
            32.46,
            41.29,
            34.03,
            25.93,
            27.33,
            15.07,
            33.18,
            13.76,
            28.38,
            24.79,
            20.32
           ]
          }
         ],
         "name": "114"
        },
        {
         "data": [
          {
           "type": "scatter",
           "x": [
            58.04,
            70.03,
            79.57,
            43.19,
            49.02,
            64.15,
            64.99,
            69.94,
            81.43,
            80.21,
            78.33,
            80.52,
            76.19,
            62.77,
            79.77
           ],
           "y": [
            44.24,
            30.96,
            20.06,
            44.05,
            32.37,
            41.01,
            33.89,
            25.65,
            26.83,
            15.12,
            32.85,
            13.84,
            27.98,
            24.62,
            19.99
           ]
          }
         ],
         "name": "115"
        },
        {
         "data": [
          {
           "type": "scatter",
           "x": [
            58.43,
            70.64,
            80.37,
            43.54,
            49.51,
            64.8,
            65.47,
            70.65,
            82.22,
            81.01,
            79.01,
            81.35,
            76.93,
            63.35,
            80.55
           ],
           "y": [
            44,
            30.67,
            19.7,
            44.14,
            32.28,
            40.73,
            33.75,
            25.36,
            26.34,
            15.15,
            32.53,
            13.92,
            27.59,
            24.44,
            19.64
           ]
          }
         ],
         "name": "116"
        },
        {
         "data": [
          {
           "type": "scatter",
           "x": [
            58.81,
            71.24,
            81.14,
            43.91,
            50,
            65.44,
            65.96,
            71.36,
            83,
            81.81,
            79.67,
            82.16,
            77.68,
            63.91,
            81.32
           ],
           "y": [
            43.77,
            30.39,
            19.31,
            44.22,
            32.19,
            40.44,
            33.61,
            25.08,
            25.84,
            15.19,
            32.21,
            14.01,
            27.19,
            24.26,
            19.26
           ]
          }
         ],
         "name": "117"
        },
        {
         "data": [
          {
           "type": "scatter",
           "x": [
            59.19,
            71.84,
            81.88,
            44.27,
            50.49,
            66.1,
            66.44,
            72.08,
            83.78,
            82.64,
            80.34,
            82.98,
            78.42,
            64.47,
            82.07
           ],
           "y": [
            43.53,
            30.1,
            18.89,
            44.29,
            32.1,
            40.16,
            33.47,
            24.81,
            25.33,
            15.22,
            31.88,
            14.08,
            26.8,
            24.08,
            18.86
           ]
          }
         ],
         "name": "118"
        },
        {
         "data": [
          {
           "type": "scatter",
           "x": [
            59.57,
            72.44,
            82.58,
            44.63,
            50.97,
            66.74,
            66.91,
            72.8,
            84.55,
            83.46,
            81,
            83.77,
            79.16,
            65.02,
            82.79
           ],
           "y": [
            43.31,
            29.82,
            18.45,
            44.36,
            32.02,
            39.88,
            33.32,
            24.53,
            24.82,
            15.25,
            31.57,
            14.13,
            26.4,
            23.88,
            18.44
           ]
          }
         ],
         "name": "119"
        },
        {
         "data": [
          {
           "type": "scatter",
           "x": [
            59.95,
            73.04,
            83.26,
            45,
            51.46,
            67.37,
            67.38,
            73.52,
            85.32,
            84.27,
            81.67,
            84.55,
            79.89,
            65.57,
            83.46
           ],
           "y": [
            43.1,
            29.53,
            17.97,
            44.42,
            31.93,
            39.6,
            33.17,
            24.25,
            24.31,
            15.28,
            31.24,
            14.15,
            26.01,
            23.69,
            17.99
           ]
          }
         ],
         "name": "120"
        },
        {
         "data": [
          {
           "type": "scatter",
           "x": [
            60.33,
            73.64,
            83.91,
            45.36,
            51.93,
            67.98,
            67.85,
            74.24,
            86.07,
            85.09,
            82.32,
            85.31,
            80.61,
            66.11,
            84.11
           ],
           "y": [
            42.88,
            29.25,
            17.45,
            44.48,
            31.85,
            39.32,
            33,
            23.96,
            23.8,
            15.3,
            30.93,
            14.16,
            25.62,
            23.49,
            17.5
           ]
          }
         ],
         "name": "121"
        },
        {
         "data": [
          {
           "type": "scatter",
           "x": [
            60.7,
            74.24,
            84.53,
            45.72,
            52.41,
            68.61,
            68.32,
            74.96,
            86.85,
            85.89,
            82.95,
            86.05,
            81.33,
            66.65,
            84.74
           ],
           "y": [
            42.67,
            28.94,
            16.92,
            44.53,
            31.77,
            39.04,
            32.84,
            23.66,
            23.29,
            15.29,
            30.62,
            14.12,
            25.22,
            23.28,
            16.97
           ]
          }
         ],
         "name": "122"
        },
        {
         "data": [
          {
           "type": "scatter",
           "x": [
            61.06,
            74.83,
            85.12,
            46.09,
            52.88,
            69.22,
            68.78,
            75.69,
            87.62,
            86.67,
            83.59,
            86.78,
            82.05,
            67.18,
            85.33
           ],
           "y": [
            42.45,
            28.65,
            16.35,
            44.58,
            31.69,
            38.77,
            32.67,
            23.35,
            22.78,
            15.27,
            30.32,
            14.05,
            24.83,
            23.07,
            16.41
           ]
          }
         ],
         "name": "123"
        },
        {
         "data": [
          {
           "type": "scatter",
           "x": [
            61.43,
            75.42,
            85.69,
            46.45,
            53.34,
            69.82,
            69.24,
            76.44,
            88.4,
            87.45,
            84.22,
            87.47,
            82.77,
            67.71,
            85.9
           ],
           "y": [
            42.21,
            28.35,
            15.77,
            44.63,
            31.6,
            38.49,
            32.5,
            23.04,
            22.26,
            15.23,
            30.02,
            13.95,
            24.42,
            22.85,
            15.84
           ]
          }
         ],
         "name": "124"
        },
        {
         "data": [
          {
           "type": "scatter",
           "x": [
            61.8,
            75.99,
            86.25,
            46.81,
            53.81,
            70.41,
            69.7,
            77.17,
            89.18,
            88.21,
            84.84,
            88.13,
            83.49,
            68.24,
            86.44
           ],
           "y": [
            42,
            28.04,
            15.15,
            44.66,
            31.51,
            38.23,
            32.33,
            22.71,
            21.75,
            15.16,
            29.72,
            13.81,
            24,
            22.63,
            15.24
           ]
          }
         ],
         "name": "125"
        },
        {
         "data": [
          {
           "type": "scatter",
           "x": [
            62.17,
            76.57,
            86.8,
            47.18,
            54.27,
            71,
            70.15,
            77.9,
            89.96,
            88.94,
            85.46,
            88.76,
            84.2,
            68.76,
            86.98
           ],
           "y": [
            41.79,
            27.74,
            14.54,
            44.69,
            31.43,
            37.96,
            32.17,
            22.38,
            21.24,
            15.04,
            29.43,
            13.62,
            23.57,
            22.39,
            14.62
           ]
          }
         ],
         "name": "126"
        },
        {
         "data": [
          {
           "type": "scatter",
           "x": [
            62.53,
            77.13,
            87.34,
            47.54,
            54.73,
            71.58,
            70.59,
            78.63,
            90.74,
            89.64,
            86.08,
            89.35,
            84.9,
            69.28,
            87.53
           ],
           "y": [
            41.58,
            27.42,
            13.91,
            44.71,
            31.35,
            37.68,
            32.01,
            22.03,
            20.74,
            14.89,
            29.14,
            13.39,
            23.15,
            22.15,
            13.98
           ]
          }
         ],
         "name": "127"
        },
        {
         "data": [
          {
           "type": "scatter",
           "x": [
            62.88,
            77.69,
            87.87,
            47.9,
            55.19,
            72.15,
            71.04,
            79.35,
            91.51,
            90.32,
            86.71,
            89.92,
            85.6,
            69.79,
            88.07
           ],
           "y": [
            41.38,
            27.1,
            13.27,
            44.72,
            31.27,
            37.4,
            31.85,
            21.66,
            20.25,
            14.7,
            28.86,
            13.11,
            22.72,
            21.91,
            13.32
           ]
          }
         ],
         "name": "128"
        },
        {
         "data": [
          {
           "type": "scatter",
           "x": [
            63.22,
            78.26,
            88.39,
            48.26,
            55.64,
            72.72,
            71.49,
            80.07,
            92.28,
            90.97,
            87.32,
            90.44,
            86.28,
            70.29,
            88.61
           ],
           "y": [
            41.17,
            26.78,
            12.64,
            44.72,
            31.19,
            37.14,
            31.69,
            21.29,
            19.74,
            14.48,
            28.57,
            12.78,
            22.29,
            21.66,
            12.65
           ]
          }
         ],
         "name": "129"
        },
        {
         "data": [
          {
           "type": "scatter",
           "x": [
            63.57,
            78.81,
            88.91,
            48.62,
            56.1,
            73.29,
            71.94,
            80.78,
            93.03,
            91.58,
            87.92,
            90.94,
            86.96,
            70.79,
            89.12
           ],
           "y": [
            40.96,
            26.45,
            12,
            44.71,
            31.11,
            36.88,
            31.54,
            20.91,
            19.23,
            14.2,
            28.29,
            12.41,
            21.86,
            21.4,
            12
           ]
          }
         ],
         "name": "130"
        },
        {
         "data": [
          {
           "type": "scatter",
           "x": [
            63.91,
            79.36,
            89.43,
            48.98,
            56.54,
            73.86,
            72.36,
            81.48,
            93.77,
            92.17,
            88.52,
            91.43,
            87.63,
            71.27,
            89.65
           ],
           "y": [
            40.74,
            26.12,
            11.36,
            44.7,
            31.03,
            36.62,
            31.39,
            20.5,
            18.71,
            13.9,
            28,
            12.01,
            21.43,
            21.13,
            11.34
           ]
          }
         ],
         "name": "131"
        },
        {
         "data": [
          {
           "type": "scatter",
           "x": [
            64.26,
            79.89,
            89.97,
            49.34,
            56.99,
            74.41,
            72.8,
            82.19,
            94.5,
            92.74,
            89.1,
            91.9,
            88.28,
            71.74,
            90.21
           ],
           "y": [
            40.52,
            25.8,
            10.73,
            44.68,
            30.95,
            36.36,
            31.25,
            20.09,
            18.18,
            13.55,
            27.73,
            11.59,
            20.99,
            20.86,
            10.66
           ]
          }
         ],
         "name": "132"
        },
        {
         "data": [
          {
           "type": "scatter",
           "x": [
            64.6,
            80.41,
            90.5,
            49.69,
            57.43,
            74.96,
            73.23,
            82.88,
            95.21,
            93.29,
            89.68,
            92.34,
            88.92,
            72.22,
            90.76
           ],
           "y": [
            40.3,
            25.47,
            10.09,
            44.66,
            30.88,
            36.1,
            31.12,
            19.67,
            17.63,
            13.16,
            27.45,
            11.13,
            20.56,
            20.59,
            10
           ]
          }
         ],
         "name": "133"
        },
        {
         "data": [
          {
           "type": "scatter",
           "x": [
            64.94,
            80.94,
            91.03,
            50.05,
            57.88,
            75.51,
            73.65,
            83.56,
            95.9,
            93.83,
            90.25,
            92.77,
            89.55,
            72.69,
            91.3
           ],
           "y": [
            40.08,
            25.14,
            9.47,
            44.63,
            30.82,
            35.85,
            30.99,
            19.24,
            17.07,
            12.74,
            27.18,
            10.66,
            20.12,
            20.33,
            9.36
           ]
          }
         ],
         "name": "134"
        },
        {
         "data": [
          {
           "type": "scatter",
           "x": [
            65.29,
            81.47,
            91.58,
            50.42,
            58.31,
            76.07,
            74.07,
            84.24,
            96.57,
            94.36,
            90.81,
            93.19,
            90.16,
            73.15,
            91.83
           ],
           "y": [
            39.86,
            24.81,
            8.84,
            44.61,
            30.74,
            35.61,
            30.87,
            18.81,
            16.5,
            12.29,
            26.89,
            10.17,
            19.68,
            20.06,
            8.73
           ]
          }
         ],
         "name": "135"
        },
        {
         "data": [
          {
           "type": "scatter",
           "x": [
            65.62,
            81.99,
            92.13,
            50.79,
            58.74,
            76.61,
            74.5,
            84.92,
            97.21,
            94.89,
            91.37,
            93.6,
            90.76,
            73.6,
            92.39
           ],
           "y": [
            39.65,
            24.5,
            8.22,
            44.58,
            30.67,
            35.39,
            30.74,
            18.39,
            15.9,
            11.82,
            26.61,
            9.69,
            19.23,
            19.8,
            8.11
           ]
          }
         ],
         "name": "136"
        },
        {
         "data": [
          {
           "type": "scatter",
           "x": [
            65.96,
            82.51,
            92.7,
            51.16,
            59.17,
            77.17,
            74.91,
            85.59,
            97.83,
            95.41,
            91.9,
            94,
            91.37,
            74.06,
            92.97
           ],
           "y": [
            39.43,
            24.18,
            7.62,
            44.57,
            30.59,
            35.17,
            30.62,
            17.96,
            15.29,
            11.35,
            26.32,
            9.21,
            18.77,
            19.53,
            7.5
           ]
          }
         ],
         "name": "137"
        },
        {
         "data": [
          {
           "type": "scatter",
           "x": [
            66.29,
            83.03,
            93.28,
            51.53,
            59.59,
            77.73,
            75.32,
            86.26,
            98.43,
            95.93,
            92.43,
            94.38,
            91.95,
            74.51,
            93.57
           ],
           "y": [
            39.21,
            23.86,
            7.03,
            44.56,
            30.5,
            34.95,
            30.51,
            17.53,
            14.66,
            10.86,
            26.02,
            8.75,
            18.32,
            19.26,
            6.89
           ]
          }
         ],
         "name": "138"
        },
        {
         "data": [
          {
           "type": "scatter",
           "x": [
            66.63,
            83.55,
            93.86,
            51.91,
            60.02,
            78.28,
            75.72,
            86.92,
            99,
            96.44,
            92.96,
            94.73,
            92.53,
            74.95,
            94.17
           ],
           "y": [
            38.98,
            23.54,
            6.45,
            44.56,
            30.41,
            34.73,
            30.41,
            17.09,
            14.02,
            10.37,
            25.72,
            8.32,
            17.86,
            19,
            6.31
           ]
          }
         ],
         "name": "139"
        },
        {
         "data": [
          {
           "type": "scatter",
           "x": [
            66.96,
            84.06,
            94.46,
            52.28,
            60.44,
            78.83,
            76.1,
            87.58,
            99.55,
            96.93,
            93.47,
            95.05,
            93.09,
            75.39,
            94.76
           ],
           "y": [
            38.76,
            23.23,
            5.88,
            44.56,
            30.33,
            34.52,
            30.32,
            16.66,
            13.37,
            9.89,
            25.41,
            7.92,
            17.4,
            18.74,
            5.75
           ]
          }
         ],
         "name": "140"
        },
        {
         "data": [
          {
           "type": "scatter",
           "x": [
            67.3,
            84.57,
            95.08,
            52.65,
            60.85,
            79.38,
            76.48,
            88.23,
            100.08,
            97.43,
            93.97,
            95.34,
            93.64,
            75.82,
            95.36
           ],
           "y": [
            38.53,
            22.92,
            5.34,
            44.56,
            30.24,
            34.32,
            30.25,
            16.23,
            12.71,
            9.41,
            25.11,
            7.54,
            16.94,
            18.48,
            5.2
           ]
          }
         ],
         "name": "141"
        },
        {
         "data": [
          {
           "type": "scatter",
           "x": [
            67.64,
            85.08,
            95.71,
            53.01,
            61.26,
            79.94,
            76.85,
            88.88,
            100.59,
            97.92,
            94.46,
            95.6,
            94.19,
            76.23,
            95.99
           ],
           "y": [
            38.3,
            22.61,
            4.81,
            44.57,
            30.15,
            34.11,
            30.16,
            15.81,
            12.03,
            8.93,
            24.79,
            7.2,
            16.48,
            18.22,
            4.68
           ]
          }
         ],
         "name": "142"
        },
        {
         "data": [
          {
           "type": "scatter",
           "x": [
            67.98,
            85.58,
            96.36,
            53.37,
            61.67,
            80.5,
            77.2,
            89.51,
            101.08,
            98.4,
            94.94,
            95.81,
            94.74,
            76.62,
            96.64
           ],
           "y": [
            38.08,
            22.31,
            4.32,
            44.58,
            30.07,
            33.9,
            30.09,
            15.4,
            11.34,
            8.47,
            24.46,
            6.91,
            16.03,
            17.97,
            4.18
           ]
          }
         ],
         "name": "143"
        },
        {
         "data": [
          {
           "type": "scatter",
           "x": [
            68.32,
            86.09,
            97.04,
            53.73,
            62.08,
            81.06,
            77.54,
            90.13,
            101.56,
            98.89,
            95.42,
            95.97,
            95.28,
            77,
            97.28
           ],
           "y": [
            37.85,
            22,
            3.85,
            44.6,
            30,
            33.69,
            30.03,
            14.98,
            10.66,
            8.01,
            24.14,
            6.66,
            15.58,
            17.72,
            3.72
           ]
          }
         ],
         "name": "144"
        },
        {
         "data": [
          {
           "type": "scatter",
           "x": [
            68.65,
            86.58,
            97.72,
            54.08,
            62.48,
            81.61,
            77.87,
            90.76,
            102.03,
            99.39,
            95.88,
            96.11,
            95.82,
            77.37,
            97.93
           ],
           "y": [
            37.63,
            21.7,
            3.4,
            44.62,
            29.93,
            33.48,
            29.97,
            14.57,
            9.95,
            7.55,
            23.81,
            6.45,
            15.14,
            17.47,
            3.28
           ]
          }
         ],
         "name": "145"
        },
        {
         "data": [
          {
           "type": "scatter",
           "x": [
            69,
            87.08,
            98.42,
            54.42,
            62.89,
            82.15,
            78.17,
            91.38,
            102.48,
            99.89,
            96.32,
            96.2,
            96.36,
            77.73,
            98.6
           ],
           "y": [
            37.39,
            21.41,
            2.99,
            44.63,
            29.86,
            33.27,
            29.92,
            14.16,
            9.21,
            7.1,
            23.48,
            6.3,
            14.68,
            17.23,
            2.88
           ]
          }
         ],
         "name": "146"
        },
        {
         "data": [
          {
           "type": "scatter",
           "x": [
            69.35,
            87.55,
            99.12,
            54.75,
            63.29,
            82.69,
            78.46,
            91.98,
            102.92,
            100.39,
            96.74,
            96.26,
            96.9,
            78.08,
            99.26
           ],
           "y": [
            37.15,
            21.1,
            2.61,
            44.65,
            29.8,
            33.07,
            29.88,
            13.74,
            8.48,
            6.66,
            23.16,
            6.19,
            14.23,
            17,
            2.52
           ]
          }
         ],
         "name": "147"
        },
        {
         "data": [
          {
           "type": "scatter",
           "x": [
            69.69,
            88.03,
            99.8,
            55.08,
            63.69,
            83.23,
            78.74,
            92.58,
            103.35,
            100.91,
            97.15,
            96.29,
            97.43,
            78.43,
            99.91
           ],
           "y": [
            36.91,
            20.8,
            2.28,
            44.68,
            29.74,
            32.86,
            29.83,
            13.36,
            7.75,
            6.22,
            22.83,
            6.13,
            13.79,
            16.78,
            2.2
           ]
          }
         ],
         "name": "148"
        },
        {
         "data": [
          {
           "type": "scatter",
           "x": [
            70.05,
            88.49,
            100.47,
            55.41,
            64.09,
            83.76,
            78.99,
            93.16,
            103.76,
            101.44,
            97.55,
            96.3,
            97.97,
            78.78,
            100.55
           ],
           "y": [
            36.66,
            20.52,
            1.99,
            44.7,
            29.7,
            32.65,
            29.79,
            12.97,
            7.03,
            5.79,
            22.52,
            6.1,
            13.36,
            16.57,
            1.93
           ]
          }
         ],
         "name": "149"
        },
        {
         "data": [
          {
           "type": "scatter",
           "x": [
            70.41,
            88.94,
            101.14,
            55.73,
            64.49,
            84.28,
            79.23,
            93.72,
            104.16,
            101.97,
            97.93,
            96.3,
            98.51,
            79.12,
            101.17
           ],
           "y": [
            36.41,
            20.23,
            1.74,
            44.73,
            29.65,
            32.45,
            29.75,
            12.58,
            6.31,
            5.36,
            22.2,
            6.1,
            12.92,
            16.36,
            1.7
           ]
          }
         ],
         "name": "150"
        },
        {
         "data": [
          {
           "type": "scatter",
           "x": [
            70.77,
            89.38,
            101.79,
            56.05,
            64.89,
            84.8,
            79.46,
            94.27,
            104.53,
            102.51,
            98.29,
            96.28,
            99.05,
            79.46,
            101.79
           ],
           "y": [
            36.17,
            19.94,
            1.57,
            44.76,
            29.61,
            32.25,
            29.71,
            12.2,
            5.61,
            4.94,
            21.9,
            6.11,
            12.49,
            16.15,
            1.52
           ]
          }
         ],
         "name": "151"
        },
        {
         "data": [
          {
           "type": "scatter",
           "x": [
            71.13,
            89.8,
            102.39,
            56.36,
            65.28,
            85.3,
            79.68,
            94.81,
            104.89,
            103.06,
            98.65,
            96.27,
            99.59,
            79.79,
            102.4
           ],
           "y": [
            35.92,
            19.66,
            1.46,
            44.78,
            29.58,
            32.05,
            29.68,
            11.84,
            4.92,
            4.52,
            21.59,
            6.14,
            12.07,
            15.95,
            1.39
           ]
          }
         ],
         "name": "152"
        },
        {
         "data": [
          {
           "type": "scatter",
           "x": [
            71.49,
            90.22,
            102.97,
            56.69,
            65.66,
            85.81,
            79.88,
            95.33,
            105.22,
            103.61,
            99,
            96.25,
            100.12,
            80.12,
            103
           ],
           "y": [
            35.66,
            19.38,
            1.4,
            44.81,
            29.55,
            31.84,
            29.65,
            11.49,
            4.25,
            4.09,
            21.29,
            6.18,
            11.64,
            15.76,
            1.33
           ]
          }
         ],
         "name": "153"
        },
        {
         "data": [
          {
           "type": "scatter",
           "x": [
            71.85,
            90.64,
            103.53,
            57.01,
            66.04,
            86.33,
            80.07,
            95.84,
            105.54,
            104.14,
            99.35,
            96.24,
            100.67,
            80.45,
            103.55
           ],
           "y": [
            35.41,
            19.11,
            1.39,
            44.84,
            29.51,
            31.64,
            29.63,
            11.14,
            3.6,
            3.65,
            21,
            6.22,
            11.21,
            15.58,
            1.33
           ]
          }
         ],
         "name": "154"
        },
        {
         "data": [
          {
           "type": "scatter",
           "x": [
            72.23,
            91.04,
            104.06,
            57.33,
            66.41,
            86.86,
            80.26,
            96.34,
            105.85,
            104.66,
            99.71,
            96.22,
            101.21,
            80.78,
            104.07
           ],
           "y": [
            35.14,
            18.84,
            1.44,
            44.87,
            29.48,
            31.43,
            29.6,
            10.8,
            2.97,
            3.2,
            20.71,
            6.25,
            10.77,
            15.41,
            1.39
           ]
          }
         ],
         "name": "155"
        },
        {
         "data": [
          {
           "type": "scatter",
           "x": [
            72.6,
            91.43,
            104.56,
            57.65,
            66.78,
            87.38,
            80.43,
            96.83,
            106.15,
            105.15,
            100.07,
            96.21,
            101.74,
            81.11,
            104.59
           ],
           "y": [
            34.88,
            18.57,
            1.53,
            44.88,
            29.45,
            31.23,
            29.58,
            10.48,
            2.37,
            2.74,
            20.43,
            6.28,
            10.34,
            15.25,
            1.49
           ]
          }
         ],
         "name": "156"
        },
        {
         "data": [
          {
           "type": "scatter",
           "x": [
            72.96,
            91.81,
            105.04,
            57.98,
            67.15,
            87.9,
            80.59,
            97.3,
            106.43,
            105.62,
            100.44,
            96.2,
            102.28,
            81.44,
            105.1
           ],
           "y": [
            34.62,
            18.31,
            1.65,
            44.91,
            29.42,
            31.03,
            29.57,
            10.17,
            1.79,
            2.28,
            20.15,
            6.29,
            9.89,
            15.1,
            1.64
           ]
          }
         ],
         "name": "157"
        },
        {
         "data": [
          {
           "type": "scatter",
           "x": [
            73.33,
            92.19,
            105.51,
            58.3,
            67.51,
            88.43,
            80.73,
            97.76,
            106.71,
            106.06,
            100.8,
            96.18,
            102.82,
            81.77,
            105.6
           ],
           "y": [
            34.36,
            18.04,
            1.83,
            44.93,
            29.39,
            30.82,
            29.54,
            9.87,
            1.24,
            1.82,
            19.89,
            6.31,
            9.43,
            14.95,
            1.83
           ]
          }
         ],
         "name": "158"
        },
        {
         "data": [
          {
           "type": "scatter",
           "x": [
            73.7,
            92.56,
            105.97,
            58.63,
            67.86,
            88.94,
            80.87,
            98.21,
            106.96,
            106.47,
            101.16,
            96.18,
            103.35,
            82.09,
            106.11
           ],
           "y": [
            34.1,
            17.78,
            2.05,
            44.94,
            29.37,
            30.62,
            29.52,
            9.58,
            0.73,
            1.36,
            19.63,
            6.31,
            8.97,
            14.81,
            2.06
           ]
          }
         ],
         "name": "159"
        },
        {
         "data": [
          {
           "type": "scatter",
           "x": [
            74.06,
            92.92,
            106.41,
            58.95,
            68.21,
            89.46,
            81.01,
            98.64,
            107.2,
            106.85,
            101.53,
            96.17,
            103.87,
            82.41,
            106.62
           ],
           "y": [
            33.84,
            17.52,
            2.29,
            44.95,
            29.35,
            30.42,
            29.48,
            9.3,
            0.24,
            0.92,
            19.38,
            6.32,
            8.52,
            14.68,
            2.34
           ]
          }
         ],
         "name": "160"
        },
        {
         "data": [
          {
           "type": "scatter",
           "x": [
            74.43,
            93.27,
            106.85,
            59.27,
            68.55,
            89.97,
            81.14,
            99.07,
            107.42,
            107.21,
            101.88,
            96.17,
            104.39,
            82.73,
            107.11
           ],
           "y": [
            33.58,
            17.27,
            2.55,
            44.97,
            29.33,
            30.22,
            29.43,
            9.03,
            -0.21,
            0.49,
            19.14,
            6.32,
            8.06,
            14.55,
            2.65
           ]
          }
         ],
         "name": "161"
        },
        {
         "data": [
          {
           "type": "scatter",
           "x": [
            74.78,
            93.62,
            107.28,
            59.59,
            68.88,
            90.49,
            81.26,
            99.48,
            107.6,
            107.54,
            102.24,
            96.19,
            104.9,
            83.04,
            107.58
           ],
           "y": [
            33.31,
            17.03,
            2.83,
            44.98,
            29.31,
            30.02,
            29.39,
            8.77,
            -0.65,
            0.08,
            18.91,
            6.31,
            7.62,
            14.43,
            2.98
           ]
          }
         ],
         "name": "162"
        },
        {
         "data": [
          {
           "type": "scatter",
           "x": [
            75.13,
            93.96,
            107.72,
            59.92,
            69.21,
            90.99,
            81.38,
            99.89,
            107.77,
            107.84,
            102.6,
            96.2,
            105.41,
            83.35,
            108.06
           ],
           "y": [
            33.06,
            16.79,
            3.13,
            45,
            29.3,
            29.83,
            29.35,
            8.54,
            -1.05,
            -0.3,
            18.69,
            6.31,
            7.2,
            14.31,
            3.32
           ]
          }
         ],
         "name": "163"
        },
        {
         "data": [
          {
           "type": "scatter",
           "x": [
            75.49,
            94.3,
            108.14,
            60.24,
            69.53,
            91.5,
            81.5,
            100.3,
            107.92,
            108.11,
            102.94,
            96.22,
            105.91,
            83.64,
            108.51
           ],
           "y": [
            32.8,
            16.58,
            3.43,
            45.02,
            29.29,
            29.63,
            29.3,
            8.32,
            -1.43,
            -0.64,
            18.48,
            6.31,
            6.81,
            14.2,
            3.66
           ]
          }
         ],
         "name": "164"
        },
        {
         "data": [
          {
           "type": "scatter",
           "x": [
            75.86,
            94.62,
            108.56,
            60.56,
            69.83,
            91.99,
            81.62,
            100.69,
            108.03,
            108.37,
            103.28,
            96.24,
            106.42,
            83.93,
            108.93
           ],
           "y": [
            32.55,
            16.37,
            3.73,
            45.04,
            29.29,
            29.44,
            29.26,
            8.11,
            -1.78,
            -0.94,
            18.27,
            6.32,
            6.45,
            14.1,
            4
           ]
          }
         ],
         "name": "165"
        },
        {
         "data": [
          {
           "type": "scatter",
           "x": [
            76.23,
            94.93,
            108.97,
            60.88,
            70.12,
            92.48,
            81.73,
            101.08,
            108.12,
            108.62,
            103.61,
            96.26,
            106.93,
            84.22,
            109.33
           ],
           "y": [
            32.3,
            16.19,
            4.03,
            45.06,
            29.28,
            29.25,
            29.2,
            7.91,
            -2.09,
            -1.21,
            18.09,
            6.32,
            6.15,
            13.97,
            4.32
           ]
          }
         ],
         "name": "166"
        },
        {
         "data": [
          {
           "type": "scatter",
           "x": [
            76.6,
            95.22,
            109.4,
            61.2,
            70.4,
            92.94,
            81.85,
            101.47,
            108.18,
            108.86,
            103.92,
            96.25,
            107.44,
            84.5,
            109.71
           ],
           "y": [
            32.03,
            16.01,
            4.32,
            45.08,
            29.27,
            29.1,
            29.15,
            7.73,
            -2.38,
            -1.42,
            17.92,
            6.31,
            5.89,
            13.86,
            4.63
           ]
          }
         ],
         "name": "167"
        },
        {
         "data": [
          {
           "type": "scatter",
           "x": [
            76.98,
            95.51,
            109.82,
            61.52,
            70.67,
            93.39,
            81.97,
            101.84,
            108.23,
            109.11,
            104.21,
            96.26,
            107.95,
            84.79,
            110.08
           ],
           "y": [
            31.77,
            15.84,
            4.6,
            45.11,
            29.28,
            28.93,
            29.1,
            7.56,
            -2.64,
            -1.59,
            17.76,
            6.31,
            5.68,
            13.76,
            4.9
           ]
          }
         ],
         "name": "168"
        },
        {
         "data": [
          {
           "type": "scatter",
           "x": [
            77.36,
            95.77,
            110.23,
            61.84,
            70.94,
            93.84,
            82.09,
            102.21,
            108.28,
            109.36,
            104.48,
            96.27,
            108.45,
            85.06,
            110.41
           ],
           "y": [
            31.51,
            15.68,
            4.88,
            45.13,
            29.29,
            28.77,
            29.04,
            7.4,
            -2.87,
            -1.73,
            17.61,
            6.31,
            5.54,
            13.68,
            5.13
           ]
          }
         ],
         "name": "169"
        }
       ],
       "layout": {
        "plot_bgcolor": "rgb(195,217,192)",
        "shapes": [
         {
          "layer": "below",
          "line": {
           "color": "white",
           "width": 5
          },
          "type": "line",
          "x0": 0,
          "x1": 120,
          "y0": 0,
          "y1": 0
         },
         {
          "layer": "below",
          "line": {
           "color": "white",
           "width": 5
          },
          "type": "line",
          "x0": 0,
          "x1": 120,
          "y0": 53.3,
          "y1": 53.3
         },
         {
          "layer": "below",
          "line": {
           "color": "white",
           "width": 5
          },
          "type": "line",
          "x0": 0,
          "x1": 0,
          "y0": 0,
          "y1": 53.3
         },
         {
          "layer": "below",
          "line": {
           "color": "white",
           "width": 5
          },
          "type": "line",
          "x0": 120,
          "x1": 120,
          "y0": 0,
          "y1": 53.3
         },
         {
          "layer": "below",
          "line": {
           "color": "white",
           "width": 2
          },
          "type": "line",
          "x0": 10,
          "x1": 10,
          "y0": 0,
          "y1": 53.3
         },
         {
          "layer": "below",
          "line": {
           "color": "white",
           "width": 2
          },
          "type": "line",
          "x0": 15,
          "x1": 15,
          "y0": 0,
          "y1": 53.3
         },
         {
          "layer": "below",
          "line": {
           "color": "white",
           "width": 2
          },
          "type": "line",
          "x0": 20,
          "x1": 20,
          "y0": 0,
          "y1": 53.3
         },
         {
          "layer": "below",
          "line": {
           "color": "white",
           "width": 2
          },
          "type": "line",
          "x0": 25,
          "x1": 25,
          "y0": 0,
          "y1": 53.3
         },
         {
          "layer": "below",
          "line": {
           "color": "white",
           "width": 2
          },
          "type": "line",
          "x0": 30,
          "x1": 30,
          "y0": 0,
          "y1": 53.3
         },
         {
          "layer": "below",
          "line": {
           "color": "white",
           "width": 2
          },
          "type": "line",
          "x0": 35,
          "x1": 35,
          "y0": 0,
          "y1": 53.3
         },
         {
          "layer": "below",
          "line": {
           "color": "white",
           "width": 2
          },
          "type": "line",
          "x0": 40,
          "x1": 40,
          "y0": 0,
          "y1": 53.3
         },
         {
          "layer": "below",
          "line": {
           "color": "white",
           "width": 2
          },
          "type": "line",
          "x0": 45,
          "x1": 45,
          "y0": 0,
          "y1": 53.3
         },
         {
          "layer": "below",
          "line": {
           "color": "white",
           "width": 2
          },
          "type": "line",
          "x0": 50,
          "x1": 50,
          "y0": 0,
          "y1": 53.3
         },
         {
          "layer": "below",
          "line": {
           "color": "white",
           "width": 2
          },
          "type": "line",
          "x0": 55,
          "x1": 55,
          "y0": 0,
          "y1": 53.3
         },
         {
          "layer": "below",
          "line": {
           "color": "white",
           "width": 2
          },
          "type": "line",
          "x0": 60,
          "x1": 60,
          "y0": 0,
          "y1": 53.3
         },
         {
          "layer": "below",
          "line": {
           "color": "white",
           "width": 2
          },
          "type": "line",
          "x0": 65,
          "x1": 65,
          "y0": 0,
          "y1": 53.3
         },
         {
          "layer": "below",
          "line": {
           "color": "white",
           "width": 2
          },
          "type": "line",
          "x0": 70,
          "x1": 70,
          "y0": 0,
          "y1": 53.3
         },
         {
          "layer": "below",
          "line": {
           "color": "white",
           "width": 2
          },
          "type": "line",
          "x0": 75,
          "x1": 75,
          "y0": 0,
          "y1": 53.3
         },
         {
          "layer": "below",
          "line": {
           "color": "white",
           "width": 2
          },
          "type": "line",
          "x0": 80,
          "x1": 80,
          "y0": 0,
          "y1": 53.3
         },
         {
          "layer": "below",
          "line": {
           "color": "white",
           "width": 2
          },
          "type": "line",
          "x0": 85,
          "x1": 85,
          "y0": 0,
          "y1": 53.3
         },
         {
          "layer": "below",
          "line": {
           "color": "white",
           "width": 2
          },
          "type": "line",
          "x0": 90,
          "x1": 90,
          "y0": 0,
          "y1": 53.3
         },
         {
          "layer": "below",
          "line": {
           "color": "white",
           "width": 2
          },
          "type": "line",
          "x0": 95,
          "x1": 95,
          "y0": 0,
          "y1": 53.3
         },
         {
          "layer": "below",
          "line": {
           "color": "white",
           "width": 2
          },
          "type": "line",
          "x0": 100,
          "x1": 100,
          "y0": 0,
          "y1": 53.3
         },
         {
          "layer": "below",
          "line": {
           "color": "white",
           "width": 2
          },
          "type": "line",
          "x0": 105,
          "x1": 105,
          "y0": 0,
          "y1": 53.3
         },
         {
          "layer": "below",
          "line": {
           "color": "white",
           "width": 2
          },
          "type": "line",
          "x0": 110,
          "x1": 110,
          "y0": 0,
          "y1": 53.3
         },
         {
          "layer": "below",
          "line": {
           "color": "white",
           "width": 2
          },
          "type": "line",
          "x0": 11,
          "x1": 11,
          "y0": 1,
          "y1": 1.6666666666666665
         },
         {
          "layer": "below",
          "line": {
           "color": "white",
           "width": 2
          },
          "type": "line",
          "x0": 11,
          "x1": 11,
          "y0": 23.58333,
          "y1": 24.249996666666668
         },
         {
          "layer": "below",
          "line": {
           "color": "white",
           "width": 2
          },
          "type": "line",
          "x0": 11,
          "x1": 11,
          "y0": 29.08333,
          "y1": 29.749996666666668
         },
         {
          "layer": "below",
          "line": {
           "color": "white",
           "width": 2
          },
          "type": "line",
          "x0": 11,
          "x1": 11,
          "y0": 51.63333333333333,
          "y1": 52.3
         },
         {
          "layer": "below",
          "line": {
           "color": "white",
           "width": 2
          },
          "type": "line",
          "x0": 12,
          "x1": 12,
          "y0": 1,
          "y1": 1.6666666666666665
         },
         {
          "layer": "below",
          "line": {
           "color": "white",
           "width": 2
          },
          "type": "line",
          "x0": 12,
          "x1": 12,
          "y0": 23.58333,
          "y1": 24.249996666666668
         },
         {
          "layer": "below",
          "line": {
           "color": "white",
           "width": 2
          },
          "type": "line",
          "x0": 12,
          "x1": 12,
          "y0": 29.08333,
          "y1": 29.749996666666668
         },
         {
          "layer": "below",
          "line": {
           "color": "white",
           "width": 2
          },
          "type": "line",
          "x0": 12,
          "x1": 12,
          "y0": 51.63333333333333,
          "y1": 52.3
         },
         {
          "layer": "below",
          "line": {
           "color": "white",
           "width": 2
          },
          "type": "line",
          "x0": 13,
          "x1": 13,
          "y0": 1,
          "y1": 1.6666666666666665
         },
         {
          "layer": "below",
          "line": {
           "color": "white",
           "width": 2
          },
          "type": "line",
          "x0": 13,
          "x1": 13,
          "y0": 23.58333,
          "y1": 24.249996666666668
         },
         {
          "layer": "below",
          "line": {
           "color": "white",
           "width": 2
          },
          "type": "line",
          "x0": 13,
          "x1": 13,
          "y0": 29.08333,
          "y1": 29.749996666666668
         },
         {
          "layer": "below",
          "line": {
           "color": "white",
           "width": 2
          },
          "type": "line",
          "x0": 13,
          "x1": 13,
          "y0": 51.63333333333333,
          "y1": 52.3
         },
         {
          "layer": "below",
          "line": {
           "color": "white",
           "width": 2
          },
          "type": "line",
          "x0": 14,
          "x1": 14,
          "y0": 1,
          "y1": 1.6666666666666665
         },
         {
          "layer": "below",
          "line": {
           "color": "white",
           "width": 2
          },
          "type": "line",
          "x0": 14,
          "x1": 14,
          "y0": 23.58333,
          "y1": 24.249996666666668
         },
         {
          "layer": "below",
          "line": {
           "color": "white",
           "width": 2
          },
          "type": "line",
          "x0": 14,
          "x1": 14,
          "y0": 29.08333,
          "y1": 29.749996666666668
         },
         {
          "layer": "below",
          "line": {
           "color": "white",
           "width": 2
          },
          "type": "line",
          "x0": 14,
          "x1": 14,
          "y0": 51.63333333333333,
          "y1": 52.3
         },
         {
          "layer": "below",
          "line": {
           "color": "white",
           "width": 2
          },
          "type": "line",
          "x0": 15,
          "x1": 15,
          "y0": 1,
          "y1": 1.6666666666666665
         },
         {
          "layer": "below",
          "line": {
           "color": "white",
           "width": 2
          },
          "type": "line",
          "x0": 15,
          "x1": 15,
          "y0": 23.58333,
          "y1": 24.249996666666668
         },
         {
          "layer": "below",
          "line": {
           "color": "white",
           "width": 2
          },
          "type": "line",
          "x0": 15,
          "x1": 15,
          "y0": 29.08333,
          "y1": 29.749996666666668
         },
         {
          "layer": "below",
          "line": {
           "color": "white",
           "width": 2
          },
          "type": "line",
          "x0": 15,
          "x1": 15,
          "y0": 51.63333333333333,
          "y1": 52.3
         },
         {
          "layer": "below",
          "line": {
           "color": "white",
           "width": 2
          },
          "type": "line",
          "x0": 16,
          "x1": 16,
          "y0": 1,
          "y1": 1.6666666666666665
         },
         {
          "layer": "below",
          "line": {
           "color": "white",
           "width": 2
          },
          "type": "line",
          "x0": 16,
          "x1": 16,
          "y0": 23.58333,
          "y1": 24.249996666666668
         },
         {
          "layer": "below",
          "line": {
           "color": "white",
           "width": 2
          },
          "type": "line",
          "x0": 16,
          "x1": 16,
          "y0": 29.08333,
          "y1": 29.749996666666668
         },
         {
          "layer": "below",
          "line": {
           "color": "white",
           "width": 2
          },
          "type": "line",
          "x0": 16,
          "x1": 16,
          "y0": 51.63333333333333,
          "y1": 52.3
         },
         {
          "layer": "below",
          "line": {
           "color": "white",
           "width": 2
          },
          "type": "line",
          "x0": 17,
          "x1": 17,
          "y0": 1,
          "y1": 1.6666666666666665
         },
         {
          "layer": "below",
          "line": {
           "color": "white",
           "width": 2
          },
          "type": "line",
          "x0": 17,
          "x1": 17,
          "y0": 23.58333,
          "y1": 24.249996666666668
         },
         {
          "layer": "below",
          "line": {
           "color": "white",
           "width": 2
          },
          "type": "line",
          "x0": 17,
          "x1": 17,
          "y0": 29.08333,
          "y1": 29.749996666666668
         },
         {
          "layer": "below",
          "line": {
           "color": "white",
           "width": 2
          },
          "type": "line",
          "x0": 17,
          "x1": 17,
          "y0": 51.63333333333333,
          "y1": 52.3
         },
         {
          "layer": "below",
          "line": {
           "color": "white",
           "width": 2
          },
          "type": "line",
          "x0": 18,
          "x1": 18,
          "y0": 1,
          "y1": 1.6666666666666665
         },
         {
          "layer": "below",
          "line": {
           "color": "white",
           "width": 2
          },
          "type": "line",
          "x0": 18,
          "x1": 18,
          "y0": 23.58333,
          "y1": 24.249996666666668
         },
         {
          "layer": "below",
          "line": {
           "color": "white",
           "width": 2
          },
          "type": "line",
          "x0": 18,
          "x1": 18,
          "y0": 29.08333,
          "y1": 29.749996666666668
         },
         {
          "layer": "below",
          "line": {
           "color": "white",
           "width": 2
          },
          "type": "line",
          "x0": 18,
          "x1": 18,
          "y0": 51.63333333333333,
          "y1": 52.3
         },
         {
          "layer": "below",
          "line": {
           "color": "white",
           "width": 2
          },
          "type": "line",
          "x0": 19,
          "x1": 19,
          "y0": 1,
          "y1": 1.6666666666666665
         },
         {
          "layer": "below",
          "line": {
           "color": "white",
           "width": 2
          },
          "type": "line",
          "x0": 19,
          "x1": 19,
          "y0": 23.58333,
          "y1": 24.249996666666668
         },
         {
          "layer": "below",
          "line": {
           "color": "white",
           "width": 2
          },
          "type": "line",
          "x0": 19,
          "x1": 19,
          "y0": 29.08333,
          "y1": 29.749996666666668
         },
         {
          "layer": "below",
          "line": {
           "color": "white",
           "width": 2
          },
          "type": "line",
          "x0": 19,
          "x1": 19,
          "y0": 51.63333333333333,
          "y1": 52.3
         },
         {
          "layer": "below",
          "line": {
           "color": "white",
           "width": 2
          },
          "type": "line",
          "x0": 21,
          "x1": 21,
          "y0": 1,
          "y1": 1.6666666666666665
         },
         {
          "layer": "below",
          "line": {
           "color": "white",
           "width": 2
          },
          "type": "line",
          "x0": 21,
          "x1": 21,
          "y0": 23.58333,
          "y1": 24.249996666666668
         },
         {
          "layer": "below",
          "line": {
           "color": "white",
           "width": 2
          },
          "type": "line",
          "x0": 21,
          "x1": 21,
          "y0": 29.08333,
          "y1": 29.749996666666668
         },
         {
          "layer": "below",
          "line": {
           "color": "white",
           "width": 2
          },
          "type": "line",
          "x0": 21,
          "x1": 21,
          "y0": 51.63333333333333,
          "y1": 52.3
         },
         {
          "layer": "below",
          "line": {
           "color": "white",
           "width": 2
          },
          "type": "line",
          "x0": 22,
          "x1": 22,
          "y0": 1,
          "y1": 1.6666666666666665
         },
         {
          "layer": "below",
          "line": {
           "color": "white",
           "width": 2
          },
          "type": "line",
          "x0": 22,
          "x1": 22,
          "y0": 23.58333,
          "y1": 24.249996666666668
         },
         {
          "layer": "below",
          "line": {
           "color": "white",
           "width": 2
          },
          "type": "line",
          "x0": 22,
          "x1": 22,
          "y0": 29.08333,
          "y1": 29.749996666666668
         },
         {
          "layer": "below",
          "line": {
           "color": "white",
           "width": 2
          },
          "type": "line",
          "x0": 22,
          "x1": 22,
          "y0": 51.63333333333333,
          "y1": 52.3
         },
         {
          "layer": "below",
          "line": {
           "color": "white",
           "width": 2
          },
          "type": "line",
          "x0": 23,
          "x1": 23,
          "y0": 1,
          "y1": 1.6666666666666665
         },
         {
          "layer": "below",
          "line": {
           "color": "white",
           "width": 2
          },
          "type": "line",
          "x0": 23,
          "x1": 23,
          "y0": 23.58333,
          "y1": 24.249996666666668
         },
         {
          "layer": "below",
          "line": {
           "color": "white",
           "width": 2
          },
          "type": "line",
          "x0": 23,
          "x1": 23,
          "y0": 29.08333,
          "y1": 29.749996666666668
         },
         {
          "layer": "below",
          "line": {
           "color": "white",
           "width": 2
          },
          "type": "line",
          "x0": 23,
          "x1": 23,
          "y0": 51.63333333333333,
          "y1": 52.3
         },
         {
          "layer": "below",
          "line": {
           "color": "white",
           "width": 2
          },
          "type": "line",
          "x0": 24,
          "x1": 24,
          "y0": 1,
          "y1": 1.6666666666666665
         },
         {
          "layer": "below",
          "line": {
           "color": "white",
           "width": 2
          },
          "type": "line",
          "x0": 24,
          "x1": 24,
          "y0": 23.58333,
          "y1": 24.249996666666668
         },
         {
          "layer": "below",
          "line": {
           "color": "white",
           "width": 2
          },
          "type": "line",
          "x0": 24,
          "x1": 24,
          "y0": 29.08333,
          "y1": 29.749996666666668
         },
         {
          "layer": "below",
          "line": {
           "color": "white",
           "width": 2
          },
          "type": "line",
          "x0": 24,
          "x1": 24,
          "y0": 51.63333333333333,
          "y1": 52.3
         },
         {
          "layer": "below",
          "line": {
           "color": "white",
           "width": 2
          },
          "type": "line",
          "x0": 25,
          "x1": 25,
          "y0": 1,
          "y1": 1.6666666666666665
         },
         {
          "layer": "below",
          "line": {
           "color": "white",
           "width": 2
          },
          "type": "line",
          "x0": 25,
          "x1": 25,
          "y0": 23.58333,
          "y1": 24.249996666666668
         },
         {
          "layer": "below",
          "line": {
           "color": "white",
           "width": 2
          },
          "type": "line",
          "x0": 25,
          "x1": 25,
          "y0": 29.08333,
          "y1": 29.749996666666668
         },
         {
          "layer": "below",
          "line": {
           "color": "white",
           "width": 2
          },
          "type": "line",
          "x0": 25,
          "x1": 25,
          "y0": 51.63333333333333,
          "y1": 52.3
         },
         {
          "layer": "below",
          "line": {
           "color": "white",
           "width": 2
          },
          "type": "line",
          "x0": 26,
          "x1": 26,
          "y0": 1,
          "y1": 1.6666666666666665
         },
         {
          "layer": "below",
          "line": {
           "color": "white",
           "width": 2
          },
          "type": "line",
          "x0": 26,
          "x1": 26,
          "y0": 23.58333,
          "y1": 24.249996666666668
         },
         {
          "layer": "below",
          "line": {
           "color": "white",
           "width": 2
          },
          "type": "line",
          "x0": 26,
          "x1": 26,
          "y0": 29.08333,
          "y1": 29.749996666666668
         },
         {
          "layer": "below",
          "line": {
           "color": "white",
           "width": 2
          },
          "type": "line",
          "x0": 26,
          "x1": 26,
          "y0": 51.63333333333333,
          "y1": 52.3
         },
         {
          "layer": "below",
          "line": {
           "color": "white",
           "width": 2
          },
          "type": "line",
          "x0": 27,
          "x1": 27,
          "y0": 1,
          "y1": 1.6666666666666665
         },
         {
          "layer": "below",
          "line": {
           "color": "white",
           "width": 2
          },
          "type": "line",
          "x0": 27,
          "x1": 27,
          "y0": 23.58333,
          "y1": 24.249996666666668
         },
         {
          "layer": "below",
          "line": {
           "color": "white",
           "width": 2
          },
          "type": "line",
          "x0": 27,
          "x1": 27,
          "y0": 29.08333,
          "y1": 29.749996666666668
         },
         {
          "layer": "below",
          "line": {
           "color": "white",
           "width": 2
          },
          "type": "line",
          "x0": 27,
          "x1": 27,
          "y0": 51.63333333333333,
          "y1": 52.3
         },
         {
          "layer": "below",
          "line": {
           "color": "white",
           "width": 2
          },
          "type": "line",
          "x0": 28,
          "x1": 28,
          "y0": 1,
          "y1": 1.6666666666666665
         },
         {
          "layer": "below",
          "line": {
           "color": "white",
           "width": 2
          },
          "type": "line",
          "x0": 28,
          "x1": 28,
          "y0": 23.58333,
          "y1": 24.249996666666668
         },
         {
          "layer": "below",
          "line": {
           "color": "white",
           "width": 2
          },
          "type": "line",
          "x0": 28,
          "x1": 28,
          "y0": 29.08333,
          "y1": 29.749996666666668
         },
         {
          "layer": "below",
          "line": {
           "color": "white",
           "width": 2
          },
          "type": "line",
          "x0": 28,
          "x1": 28,
          "y0": 51.63333333333333,
          "y1": 52.3
         },
         {
          "layer": "below",
          "line": {
           "color": "white",
           "width": 2
          },
          "type": "line",
          "x0": 29,
          "x1": 29,
          "y0": 1,
          "y1": 1.6666666666666665
         },
         {
          "layer": "below",
          "line": {
           "color": "white",
           "width": 2
          },
          "type": "line",
          "x0": 29,
          "x1": 29,
          "y0": 23.58333,
          "y1": 24.249996666666668
         },
         {
          "layer": "below",
          "line": {
           "color": "white",
           "width": 2
          },
          "type": "line",
          "x0": 29,
          "x1": 29,
          "y0": 29.08333,
          "y1": 29.749996666666668
         },
         {
          "layer": "below",
          "line": {
           "color": "white",
           "width": 2
          },
          "type": "line",
          "x0": 29,
          "x1": 29,
          "y0": 51.63333333333333,
          "y1": 52.3
         },
         {
          "layer": "below",
          "line": {
           "color": "white",
           "width": 2
          },
          "type": "line",
          "x0": 31,
          "x1": 31,
          "y0": 1,
          "y1": 1.6666666666666665
         },
         {
          "layer": "below",
          "line": {
           "color": "white",
           "width": 2
          },
          "type": "line",
          "x0": 31,
          "x1": 31,
          "y0": 23.58333,
          "y1": 24.249996666666668
         },
         {
          "layer": "below",
          "line": {
           "color": "white",
           "width": 2
          },
          "type": "line",
          "x0": 31,
          "x1": 31,
          "y0": 29.08333,
          "y1": 29.749996666666668
         },
         {
          "layer": "below",
          "line": {
           "color": "white",
           "width": 2
          },
          "type": "line",
          "x0": 31,
          "x1": 31,
          "y0": 51.63333333333333,
          "y1": 52.3
         },
         {
          "layer": "below",
          "line": {
           "color": "white",
           "width": 2
          },
          "type": "line",
          "x0": 32,
          "x1": 32,
          "y0": 1,
          "y1": 1.6666666666666665
         },
         {
          "layer": "below",
          "line": {
           "color": "white",
           "width": 2
          },
          "type": "line",
          "x0": 32,
          "x1": 32,
          "y0": 23.58333,
          "y1": 24.249996666666668
         },
         {
          "layer": "below",
          "line": {
           "color": "white",
           "width": 2
          },
          "type": "line",
          "x0": 32,
          "x1": 32,
          "y0": 29.08333,
          "y1": 29.749996666666668
         },
         {
          "layer": "below",
          "line": {
           "color": "white",
           "width": 2
          },
          "type": "line",
          "x0": 32,
          "x1": 32,
          "y0": 51.63333333333333,
          "y1": 52.3
         },
         {
          "layer": "below",
          "line": {
           "color": "white",
           "width": 2
          },
          "type": "line",
          "x0": 33,
          "x1": 33,
          "y0": 1,
          "y1": 1.6666666666666665
         },
         {
          "layer": "below",
          "line": {
           "color": "white",
           "width": 2
          },
          "type": "line",
          "x0": 33,
          "x1": 33,
          "y0": 23.58333,
          "y1": 24.249996666666668
         },
         {
          "layer": "below",
          "line": {
           "color": "white",
           "width": 2
          },
          "type": "line",
          "x0": 33,
          "x1": 33,
          "y0": 29.08333,
          "y1": 29.749996666666668
         },
         {
          "layer": "below",
          "line": {
           "color": "white",
           "width": 2
          },
          "type": "line",
          "x0": 33,
          "x1": 33,
          "y0": 51.63333333333333,
          "y1": 52.3
         },
         {
          "layer": "below",
          "line": {
           "color": "white",
           "width": 2
          },
          "type": "line",
          "x0": 34,
          "x1": 34,
          "y0": 1,
          "y1": 1.6666666666666665
         },
         {
          "layer": "below",
          "line": {
           "color": "white",
           "width": 2
          },
          "type": "line",
          "x0": 34,
          "x1": 34,
          "y0": 23.58333,
          "y1": 24.249996666666668
         },
         {
          "layer": "below",
          "line": {
           "color": "white",
           "width": 2
          },
          "type": "line",
          "x0": 34,
          "x1": 34,
          "y0": 29.08333,
          "y1": 29.749996666666668
         },
         {
          "layer": "below",
          "line": {
           "color": "white",
           "width": 2
          },
          "type": "line",
          "x0": 34,
          "x1": 34,
          "y0": 51.63333333333333,
          "y1": 52.3
         },
         {
          "layer": "below",
          "line": {
           "color": "white",
           "width": 2
          },
          "type": "line",
          "x0": 35,
          "x1": 35,
          "y0": 1,
          "y1": 1.6666666666666665
         },
         {
          "layer": "below",
          "line": {
           "color": "white",
           "width": 2
          },
          "type": "line",
          "x0": 35,
          "x1": 35,
          "y0": 23.58333,
          "y1": 24.249996666666668
         },
         {
          "layer": "below",
          "line": {
           "color": "white",
           "width": 2
          },
          "type": "line",
          "x0": 35,
          "x1": 35,
          "y0": 29.08333,
          "y1": 29.749996666666668
         },
         {
          "layer": "below",
          "line": {
           "color": "white",
           "width": 2
          },
          "type": "line",
          "x0": 35,
          "x1": 35,
          "y0": 51.63333333333333,
          "y1": 52.3
         },
         {
          "layer": "below",
          "line": {
           "color": "white",
           "width": 2
          },
          "type": "line",
          "x0": 36,
          "x1": 36,
          "y0": 1,
          "y1": 1.6666666666666665
         },
         {
          "layer": "below",
          "line": {
           "color": "white",
           "width": 2
          },
          "type": "line",
          "x0": 36,
          "x1": 36,
          "y0": 23.58333,
          "y1": 24.249996666666668
         },
         {
          "layer": "below",
          "line": {
           "color": "white",
           "width": 2
          },
          "type": "line",
          "x0": 36,
          "x1": 36,
          "y0": 29.08333,
          "y1": 29.749996666666668
         },
         {
          "layer": "below",
          "line": {
           "color": "white",
           "width": 2
          },
          "type": "line",
          "x0": 36,
          "x1": 36,
          "y0": 51.63333333333333,
          "y1": 52.3
         },
         {
          "layer": "below",
          "line": {
           "color": "white",
           "width": 2
          },
          "type": "line",
          "x0": 37,
          "x1": 37,
          "y0": 1,
          "y1": 1.6666666666666665
         },
         {
          "layer": "below",
          "line": {
           "color": "white",
           "width": 2
          },
          "type": "line",
          "x0": 37,
          "x1": 37,
          "y0": 23.58333,
          "y1": 24.249996666666668
         },
         {
          "layer": "below",
          "line": {
           "color": "white",
           "width": 2
          },
          "type": "line",
          "x0": 37,
          "x1": 37,
          "y0": 29.08333,
          "y1": 29.749996666666668
         },
         {
          "layer": "below",
          "line": {
           "color": "white",
           "width": 2
          },
          "type": "line",
          "x0": 37,
          "x1": 37,
          "y0": 51.63333333333333,
          "y1": 52.3
         },
         {
          "layer": "below",
          "line": {
           "color": "white",
           "width": 2
          },
          "type": "line",
          "x0": 38,
          "x1": 38,
          "y0": 1,
          "y1": 1.6666666666666665
         },
         {
          "layer": "below",
          "line": {
           "color": "white",
           "width": 2
          },
          "type": "line",
          "x0": 38,
          "x1": 38,
          "y0": 23.58333,
          "y1": 24.249996666666668
         },
         {
          "layer": "below",
          "line": {
           "color": "white",
           "width": 2
          },
          "type": "line",
          "x0": 38,
          "x1": 38,
          "y0": 29.08333,
          "y1": 29.749996666666668
         },
         {
          "layer": "below",
          "line": {
           "color": "white",
           "width": 2
          },
          "type": "line",
          "x0": 38,
          "x1": 38,
          "y0": 51.63333333333333,
          "y1": 52.3
         },
         {
          "layer": "below",
          "line": {
           "color": "white",
           "width": 2
          },
          "type": "line",
          "x0": 39,
          "x1": 39,
          "y0": 1,
          "y1": 1.6666666666666665
         },
         {
          "layer": "below",
          "line": {
           "color": "white",
           "width": 2
          },
          "type": "line",
          "x0": 39,
          "x1": 39,
          "y0": 23.58333,
          "y1": 24.249996666666668
         },
         {
          "layer": "below",
          "line": {
           "color": "white",
           "width": 2
          },
          "type": "line",
          "x0": 39,
          "x1": 39,
          "y0": 29.08333,
          "y1": 29.749996666666668
         },
         {
          "layer": "below",
          "line": {
           "color": "white",
           "width": 2
          },
          "type": "line",
          "x0": 39,
          "x1": 39,
          "y0": 51.63333333333333,
          "y1": 52.3
         },
         {
          "layer": "below",
          "line": {
           "color": "white",
           "width": 2
          },
          "type": "line",
          "x0": 41,
          "x1": 41,
          "y0": 1,
          "y1": 1.6666666666666665
         },
         {
          "layer": "below",
          "line": {
           "color": "white",
           "width": 2
          },
          "type": "line",
          "x0": 41,
          "x1": 41,
          "y0": 23.58333,
          "y1": 24.249996666666668
         },
         {
          "layer": "below",
          "line": {
           "color": "white",
           "width": 2
          },
          "type": "line",
          "x0": 41,
          "x1": 41,
          "y0": 29.08333,
          "y1": 29.749996666666668
         },
         {
          "layer": "below",
          "line": {
           "color": "white",
           "width": 2
          },
          "type": "line",
          "x0": 41,
          "x1": 41,
          "y0": 51.63333333333333,
          "y1": 52.3
         },
         {
          "layer": "below",
          "line": {
           "color": "white",
           "width": 2
          },
          "type": "line",
          "x0": 42,
          "x1": 42,
          "y0": 1,
          "y1": 1.6666666666666665
         },
         {
          "layer": "below",
          "line": {
           "color": "white",
           "width": 2
          },
          "type": "line",
          "x0": 42,
          "x1": 42,
          "y0": 23.58333,
          "y1": 24.249996666666668
         },
         {
          "layer": "below",
          "line": {
           "color": "white",
           "width": 2
          },
          "type": "line",
          "x0": 42,
          "x1": 42,
          "y0": 29.08333,
          "y1": 29.749996666666668
         },
         {
          "layer": "below",
          "line": {
           "color": "white",
           "width": 2
          },
          "type": "line",
          "x0": 42,
          "x1": 42,
          "y0": 51.63333333333333,
          "y1": 52.3
         },
         {
          "layer": "below",
          "line": {
           "color": "white",
           "width": 2
          },
          "type": "line",
          "x0": 43,
          "x1": 43,
          "y0": 1,
          "y1": 1.6666666666666665
         },
         {
          "layer": "below",
          "line": {
           "color": "white",
           "width": 2
          },
          "type": "line",
          "x0": 43,
          "x1": 43,
          "y0": 23.58333,
          "y1": 24.249996666666668
         },
         {
          "layer": "below",
          "line": {
           "color": "white",
           "width": 2
          },
          "type": "line",
          "x0": 43,
          "x1": 43,
          "y0": 29.08333,
          "y1": 29.749996666666668
         },
         {
          "layer": "below",
          "line": {
           "color": "white",
           "width": 2
          },
          "type": "line",
          "x0": 43,
          "x1": 43,
          "y0": 51.63333333333333,
          "y1": 52.3
         },
         {
          "layer": "below",
          "line": {
           "color": "white",
           "width": 2
          },
          "type": "line",
          "x0": 44,
          "x1": 44,
          "y0": 1,
          "y1": 1.6666666666666665
         },
         {
          "layer": "below",
          "line": {
           "color": "white",
           "width": 2
          },
          "type": "line",
          "x0": 44,
          "x1": 44,
          "y0": 23.58333,
          "y1": 24.249996666666668
         },
         {
          "layer": "below",
          "line": {
           "color": "white",
           "width": 2
          },
          "type": "line",
          "x0": 44,
          "x1": 44,
          "y0": 29.08333,
          "y1": 29.749996666666668
         },
         {
          "layer": "below",
          "line": {
           "color": "white",
           "width": 2
          },
          "type": "line",
          "x0": 44,
          "x1": 44,
          "y0": 51.63333333333333,
          "y1": 52.3
         },
         {
          "layer": "below",
          "line": {
           "color": "white",
           "width": 2
          },
          "type": "line",
          "x0": 45,
          "x1": 45,
          "y0": 1,
          "y1": 1.6666666666666665
         },
         {
          "layer": "below",
          "line": {
           "color": "white",
           "width": 2
          },
          "type": "line",
          "x0": 45,
          "x1": 45,
          "y0": 23.58333,
          "y1": 24.249996666666668
         },
         {
          "layer": "below",
          "line": {
           "color": "white",
           "width": 2
          },
          "type": "line",
          "x0": 45,
          "x1": 45,
          "y0": 29.08333,
          "y1": 29.749996666666668
         },
         {
          "layer": "below",
          "line": {
           "color": "white",
           "width": 2
          },
          "type": "line",
          "x0": 45,
          "x1": 45,
          "y0": 51.63333333333333,
          "y1": 52.3
         },
         {
          "layer": "below",
          "line": {
           "color": "white",
           "width": 2
          },
          "type": "line",
          "x0": 46,
          "x1": 46,
          "y0": 1,
          "y1": 1.6666666666666665
         },
         {
          "layer": "below",
          "line": {
           "color": "white",
           "width": 2
          },
          "type": "line",
          "x0": 46,
          "x1": 46,
          "y0": 23.58333,
          "y1": 24.249996666666668
         },
         {
          "layer": "below",
          "line": {
           "color": "white",
           "width": 2
          },
          "type": "line",
          "x0": 46,
          "x1": 46,
          "y0": 29.08333,
          "y1": 29.749996666666668
         },
         {
          "layer": "below",
          "line": {
           "color": "white",
           "width": 2
          },
          "type": "line",
          "x0": 46,
          "x1": 46,
          "y0": 51.63333333333333,
          "y1": 52.3
         },
         {
          "layer": "below",
          "line": {
           "color": "white",
           "width": 2
          },
          "type": "line",
          "x0": 47,
          "x1": 47,
          "y0": 1,
          "y1": 1.6666666666666665
         },
         {
          "layer": "below",
          "line": {
           "color": "white",
           "width": 2
          },
          "type": "line",
          "x0": 47,
          "x1": 47,
          "y0": 23.58333,
          "y1": 24.249996666666668
         },
         {
          "layer": "below",
          "line": {
           "color": "white",
           "width": 2
          },
          "type": "line",
          "x0": 47,
          "x1": 47,
          "y0": 29.08333,
          "y1": 29.749996666666668
         },
         {
          "layer": "below",
          "line": {
           "color": "white",
           "width": 2
          },
          "type": "line",
          "x0": 47,
          "x1": 47,
          "y0": 51.63333333333333,
          "y1": 52.3
         },
         {
          "layer": "below",
          "line": {
           "color": "white",
           "width": 2
          },
          "type": "line",
          "x0": 48,
          "x1": 48,
          "y0": 1,
          "y1": 1.6666666666666665
         },
         {
          "layer": "below",
          "line": {
           "color": "white",
           "width": 2
          },
          "type": "line",
          "x0": 48,
          "x1": 48,
          "y0": 23.58333,
          "y1": 24.249996666666668
         },
         {
          "layer": "below",
          "line": {
           "color": "white",
           "width": 2
          },
          "type": "line",
          "x0": 48,
          "x1": 48,
          "y0": 29.08333,
          "y1": 29.749996666666668
         },
         {
          "layer": "below",
          "line": {
           "color": "white",
           "width": 2
          },
          "type": "line",
          "x0": 48,
          "x1": 48,
          "y0": 51.63333333333333,
          "y1": 52.3
         },
         {
          "layer": "below",
          "line": {
           "color": "white",
           "width": 2
          },
          "type": "line",
          "x0": 49,
          "x1": 49,
          "y0": 1,
          "y1": 1.6666666666666665
         },
         {
          "layer": "below",
          "line": {
           "color": "white",
           "width": 2
          },
          "type": "line",
          "x0": 49,
          "x1": 49,
          "y0": 23.58333,
          "y1": 24.249996666666668
         },
         {
          "layer": "below",
          "line": {
           "color": "white",
           "width": 2
          },
          "type": "line",
          "x0": 49,
          "x1": 49,
          "y0": 29.08333,
          "y1": 29.749996666666668
         },
         {
          "layer": "below",
          "line": {
           "color": "white",
           "width": 2
          },
          "type": "line",
          "x0": 49,
          "x1": 49,
          "y0": 51.63333333333333,
          "y1": 52.3
         },
         {
          "layer": "below",
          "line": {
           "color": "white",
           "width": 2
          },
          "type": "line",
          "x0": 51,
          "x1": 51,
          "y0": 1,
          "y1": 1.6666666666666665
         },
         {
          "layer": "below",
          "line": {
           "color": "white",
           "width": 2
          },
          "type": "line",
          "x0": 51,
          "x1": 51,
          "y0": 23.58333,
          "y1": 24.249996666666668
         },
         {
          "layer": "below",
          "line": {
           "color": "white",
           "width": 2
          },
          "type": "line",
          "x0": 51,
          "x1": 51,
          "y0": 29.08333,
          "y1": 29.749996666666668
         },
         {
          "layer": "below",
          "line": {
           "color": "white",
           "width": 2
          },
          "type": "line",
          "x0": 51,
          "x1": 51,
          "y0": 51.63333333333333,
          "y1": 52.3
         },
         {
          "layer": "below",
          "line": {
           "color": "white",
           "width": 2
          },
          "type": "line",
          "x0": 52,
          "x1": 52,
          "y0": 1,
          "y1": 1.6666666666666665
         },
         {
          "layer": "below",
          "line": {
           "color": "white",
           "width": 2
          },
          "type": "line",
          "x0": 52,
          "x1": 52,
          "y0": 23.58333,
          "y1": 24.249996666666668
         },
         {
          "layer": "below",
          "line": {
           "color": "white",
           "width": 2
          },
          "type": "line",
          "x0": 52,
          "x1": 52,
          "y0": 29.08333,
          "y1": 29.749996666666668
         },
         {
          "layer": "below",
          "line": {
           "color": "white",
           "width": 2
          },
          "type": "line",
          "x0": 52,
          "x1": 52,
          "y0": 51.63333333333333,
          "y1": 52.3
         },
         {
          "layer": "below",
          "line": {
           "color": "white",
           "width": 2
          },
          "type": "line",
          "x0": 53,
          "x1": 53,
          "y0": 1,
          "y1": 1.6666666666666665
         },
         {
          "layer": "below",
          "line": {
           "color": "white",
           "width": 2
          },
          "type": "line",
          "x0": 53,
          "x1": 53,
          "y0": 23.58333,
          "y1": 24.249996666666668
         },
         {
          "layer": "below",
          "line": {
           "color": "white",
           "width": 2
          },
          "type": "line",
          "x0": 53,
          "x1": 53,
          "y0": 29.08333,
          "y1": 29.749996666666668
         },
         {
          "layer": "below",
          "line": {
           "color": "white",
           "width": 2
          },
          "type": "line",
          "x0": 53,
          "x1": 53,
          "y0": 51.63333333333333,
          "y1": 52.3
         },
         {
          "layer": "below",
          "line": {
           "color": "white",
           "width": 2
          },
          "type": "line",
          "x0": 54,
          "x1": 54,
          "y0": 1,
          "y1": 1.6666666666666665
         },
         {
          "layer": "below",
          "line": {
           "color": "white",
           "width": 2
          },
          "type": "line",
          "x0": 54,
          "x1": 54,
          "y0": 23.58333,
          "y1": 24.249996666666668
         },
         {
          "layer": "below",
          "line": {
           "color": "white",
           "width": 2
          },
          "type": "line",
          "x0": 54,
          "x1": 54,
          "y0": 29.08333,
          "y1": 29.749996666666668
         },
         {
          "layer": "below",
          "line": {
           "color": "white",
           "width": 2
          },
          "type": "line",
          "x0": 54,
          "x1": 54,
          "y0": 51.63333333333333,
          "y1": 52.3
         },
         {
          "layer": "below",
          "line": {
           "color": "white",
           "width": 2
          },
          "type": "line",
          "x0": 55,
          "x1": 55,
          "y0": 1,
          "y1": 1.6666666666666665
         },
         {
          "layer": "below",
          "line": {
           "color": "white",
           "width": 2
          },
          "type": "line",
          "x0": 55,
          "x1": 55,
          "y0": 23.58333,
          "y1": 24.249996666666668
         },
         {
          "layer": "below",
          "line": {
           "color": "white",
           "width": 2
          },
          "type": "line",
          "x0": 55,
          "x1": 55,
          "y0": 29.08333,
          "y1": 29.749996666666668
         },
         {
          "layer": "below",
          "line": {
           "color": "white",
           "width": 2
          },
          "type": "line",
          "x0": 55,
          "x1": 55,
          "y0": 51.63333333333333,
          "y1": 52.3
         },
         {
          "layer": "below",
          "line": {
           "color": "white",
           "width": 2
          },
          "type": "line",
          "x0": 56,
          "x1": 56,
          "y0": 1,
          "y1": 1.6666666666666665
         },
         {
          "layer": "below",
          "line": {
           "color": "white",
           "width": 2
          },
          "type": "line",
          "x0": 56,
          "x1": 56,
          "y0": 23.58333,
          "y1": 24.249996666666668
         },
         {
          "layer": "below",
          "line": {
           "color": "white",
           "width": 2
          },
          "type": "line",
          "x0": 56,
          "x1": 56,
          "y0": 29.08333,
          "y1": 29.749996666666668
         },
         {
          "layer": "below",
          "line": {
           "color": "white",
           "width": 2
          },
          "type": "line",
          "x0": 56,
          "x1": 56,
          "y0": 51.63333333333333,
          "y1": 52.3
         },
         {
          "layer": "below",
          "line": {
           "color": "white",
           "width": 2
          },
          "type": "line",
          "x0": 57,
          "x1": 57,
          "y0": 1,
          "y1": 1.6666666666666665
         },
         {
          "layer": "below",
          "line": {
           "color": "white",
           "width": 2
          },
          "type": "line",
          "x0": 57,
          "x1": 57,
          "y0": 23.58333,
          "y1": 24.249996666666668
         },
         {
          "layer": "below",
          "line": {
           "color": "white",
           "width": 2
          },
          "type": "line",
          "x0": 57,
          "x1": 57,
          "y0": 29.08333,
          "y1": 29.749996666666668
         },
         {
          "layer": "below",
          "line": {
           "color": "white",
           "width": 2
          },
          "type": "line",
          "x0": 57,
          "x1": 57,
          "y0": 51.63333333333333,
          "y1": 52.3
         },
         {
          "layer": "below",
          "line": {
           "color": "white",
           "width": 2
          },
          "type": "line",
          "x0": 58,
          "x1": 58,
          "y0": 1,
          "y1": 1.6666666666666665
         },
         {
          "layer": "below",
          "line": {
           "color": "white",
           "width": 2
          },
          "type": "line",
          "x0": 58,
          "x1": 58,
          "y0": 23.58333,
          "y1": 24.249996666666668
         },
         {
          "layer": "below",
          "line": {
           "color": "white",
           "width": 2
          },
          "type": "line",
          "x0": 58,
          "x1": 58,
          "y0": 29.08333,
          "y1": 29.749996666666668
         },
         {
          "layer": "below",
          "line": {
           "color": "white",
           "width": 2
          },
          "type": "line",
          "x0": 58,
          "x1": 58,
          "y0": 51.63333333333333,
          "y1": 52.3
         },
         {
          "layer": "below",
          "line": {
           "color": "white",
           "width": 2
          },
          "type": "line",
          "x0": 59,
          "x1": 59,
          "y0": 1,
          "y1": 1.6666666666666665
         },
         {
          "layer": "below",
          "line": {
           "color": "white",
           "width": 2
          },
          "type": "line",
          "x0": 59,
          "x1": 59,
          "y0": 23.58333,
          "y1": 24.249996666666668
         },
         {
          "layer": "below",
          "line": {
           "color": "white",
           "width": 2
          },
          "type": "line",
          "x0": 59,
          "x1": 59,
          "y0": 29.08333,
          "y1": 29.749996666666668
         },
         {
          "layer": "below",
          "line": {
           "color": "white",
           "width": 2
          },
          "type": "line",
          "x0": 59,
          "x1": 59,
          "y0": 51.63333333333333,
          "y1": 52.3
         },
         {
          "layer": "below",
          "line": {
           "color": "white",
           "width": 2
          },
          "type": "line",
          "x0": 61,
          "x1": 61,
          "y0": 1,
          "y1": 1.6666666666666665
         },
         {
          "layer": "below",
          "line": {
           "color": "white",
           "width": 2
          },
          "type": "line",
          "x0": 61,
          "x1": 61,
          "y0": 23.58333,
          "y1": 24.249996666666668
         },
         {
          "layer": "below",
          "line": {
           "color": "white",
           "width": 2
          },
          "type": "line",
          "x0": 61,
          "x1": 61,
          "y0": 29.08333,
          "y1": 29.749996666666668
         },
         {
          "layer": "below",
          "line": {
           "color": "white",
           "width": 2
          },
          "type": "line",
          "x0": 61,
          "x1": 61,
          "y0": 51.63333333333333,
          "y1": 52.3
         },
         {
          "layer": "below",
          "line": {
           "color": "white",
           "width": 2
          },
          "type": "line",
          "x0": 62,
          "x1": 62,
          "y0": 1,
          "y1": 1.6666666666666665
         },
         {
          "layer": "below",
          "line": {
           "color": "white",
           "width": 2
          },
          "type": "line",
          "x0": 62,
          "x1": 62,
          "y0": 23.58333,
          "y1": 24.249996666666668
         },
         {
          "layer": "below",
          "line": {
           "color": "white",
           "width": 2
          },
          "type": "line",
          "x0": 62,
          "x1": 62,
          "y0": 29.08333,
          "y1": 29.749996666666668
         },
         {
          "layer": "below",
          "line": {
           "color": "white",
           "width": 2
          },
          "type": "line",
          "x0": 62,
          "x1": 62,
          "y0": 51.63333333333333,
          "y1": 52.3
         },
         {
          "layer": "below",
          "line": {
           "color": "white",
           "width": 2
          },
          "type": "line",
          "x0": 63,
          "x1": 63,
          "y0": 1,
          "y1": 1.6666666666666665
         },
         {
          "layer": "below",
          "line": {
           "color": "white",
           "width": 2
          },
          "type": "line",
          "x0": 63,
          "x1": 63,
          "y0": 23.58333,
          "y1": 24.249996666666668
         },
         {
          "layer": "below",
          "line": {
           "color": "white",
           "width": 2
          },
          "type": "line",
          "x0": 63,
          "x1": 63,
          "y0": 29.08333,
          "y1": 29.749996666666668
         },
         {
          "layer": "below",
          "line": {
           "color": "white",
           "width": 2
          },
          "type": "line",
          "x0": 63,
          "x1": 63,
          "y0": 51.63333333333333,
          "y1": 52.3
         },
         {
          "layer": "below",
          "line": {
           "color": "white",
           "width": 2
          },
          "type": "line",
          "x0": 64,
          "x1": 64,
          "y0": 1,
          "y1": 1.6666666666666665
         },
         {
          "layer": "below",
          "line": {
           "color": "white",
           "width": 2
          },
          "type": "line",
          "x0": 64,
          "x1": 64,
          "y0": 23.58333,
          "y1": 24.249996666666668
         },
         {
          "layer": "below",
          "line": {
           "color": "white",
           "width": 2
          },
          "type": "line",
          "x0": 64,
          "x1": 64,
          "y0": 29.08333,
          "y1": 29.749996666666668
         },
         {
          "layer": "below",
          "line": {
           "color": "white",
           "width": 2
          },
          "type": "line",
          "x0": 64,
          "x1": 64,
          "y0": 51.63333333333333,
          "y1": 52.3
         },
         {
          "layer": "below",
          "line": {
           "color": "white",
           "width": 2
          },
          "type": "line",
          "x0": 65,
          "x1": 65,
          "y0": 1,
          "y1": 1.6666666666666665
         },
         {
          "layer": "below",
          "line": {
           "color": "white",
           "width": 2
          },
          "type": "line",
          "x0": 65,
          "x1": 65,
          "y0": 23.58333,
          "y1": 24.249996666666668
         },
         {
          "layer": "below",
          "line": {
           "color": "white",
           "width": 2
          },
          "type": "line",
          "x0": 65,
          "x1": 65,
          "y0": 29.08333,
          "y1": 29.749996666666668
         },
         {
          "layer": "below",
          "line": {
           "color": "white",
           "width": 2
          },
          "type": "line",
          "x0": 65,
          "x1": 65,
          "y0": 51.63333333333333,
          "y1": 52.3
         },
         {
          "layer": "below",
          "line": {
           "color": "white",
           "width": 2
          },
          "type": "line",
          "x0": 66,
          "x1": 66,
          "y0": 1,
          "y1": 1.6666666666666665
         },
         {
          "layer": "below",
          "line": {
           "color": "white",
           "width": 2
          },
          "type": "line",
          "x0": 66,
          "x1": 66,
          "y0": 23.58333,
          "y1": 24.249996666666668
         },
         {
          "layer": "below",
          "line": {
           "color": "white",
           "width": 2
          },
          "type": "line",
          "x0": 66,
          "x1": 66,
          "y0": 29.08333,
          "y1": 29.749996666666668
         },
         {
          "layer": "below",
          "line": {
           "color": "white",
           "width": 2
          },
          "type": "line",
          "x0": 66,
          "x1": 66,
          "y0": 51.63333333333333,
          "y1": 52.3
         },
         {
          "layer": "below",
          "line": {
           "color": "white",
           "width": 2
          },
          "type": "line",
          "x0": 67,
          "x1": 67,
          "y0": 1,
          "y1": 1.6666666666666665
         },
         {
          "layer": "below",
          "line": {
           "color": "white",
           "width": 2
          },
          "type": "line",
          "x0": 67,
          "x1": 67,
          "y0": 23.58333,
          "y1": 24.249996666666668
         },
         {
          "layer": "below",
          "line": {
           "color": "white",
           "width": 2
          },
          "type": "line",
          "x0": 67,
          "x1": 67,
          "y0": 29.08333,
          "y1": 29.749996666666668
         },
         {
          "layer": "below",
          "line": {
           "color": "white",
           "width": 2
          },
          "type": "line",
          "x0": 67,
          "x1": 67,
          "y0": 51.63333333333333,
          "y1": 52.3
         },
         {
          "layer": "below",
          "line": {
           "color": "white",
           "width": 2
          },
          "type": "line",
          "x0": 68,
          "x1": 68,
          "y0": 1,
          "y1": 1.6666666666666665
         },
         {
          "layer": "below",
          "line": {
           "color": "white",
           "width": 2
          },
          "type": "line",
          "x0": 68,
          "x1": 68,
          "y0": 23.58333,
          "y1": 24.249996666666668
         },
         {
          "layer": "below",
          "line": {
           "color": "white",
           "width": 2
          },
          "type": "line",
          "x0": 68,
          "x1": 68,
          "y0": 29.08333,
          "y1": 29.749996666666668
         },
         {
          "layer": "below",
          "line": {
           "color": "white",
           "width": 2
          },
          "type": "line",
          "x0": 68,
          "x1": 68,
          "y0": 51.63333333333333,
          "y1": 52.3
         },
         {
          "layer": "below",
          "line": {
           "color": "white",
           "width": 2
          },
          "type": "line",
          "x0": 69,
          "x1": 69,
          "y0": 1,
          "y1": 1.6666666666666665
         },
         {
          "layer": "below",
          "line": {
           "color": "white",
           "width": 2
          },
          "type": "line",
          "x0": 69,
          "x1": 69,
          "y0": 23.58333,
          "y1": 24.249996666666668
         },
         {
          "layer": "below",
          "line": {
           "color": "white",
           "width": 2
          },
          "type": "line",
          "x0": 69,
          "x1": 69,
          "y0": 29.08333,
          "y1": 29.749996666666668
         },
         {
          "layer": "below",
          "line": {
           "color": "white",
           "width": 2
          },
          "type": "line",
          "x0": 69,
          "x1": 69,
          "y0": 51.63333333333333,
          "y1": 52.3
         },
         {
          "layer": "below",
          "line": {
           "color": "white",
           "width": 2
          },
          "type": "line",
          "x0": 71,
          "x1": 71,
          "y0": 1,
          "y1": 1.6666666666666665
         },
         {
          "layer": "below",
          "line": {
           "color": "white",
           "width": 2
          },
          "type": "line",
          "x0": 71,
          "x1": 71,
          "y0": 23.58333,
          "y1": 24.249996666666668
         },
         {
          "layer": "below",
          "line": {
           "color": "white",
           "width": 2
          },
          "type": "line",
          "x0": 71,
          "x1": 71,
          "y0": 29.08333,
          "y1": 29.749996666666668
         },
         {
          "layer": "below",
          "line": {
           "color": "white",
           "width": 2
          },
          "type": "line",
          "x0": 71,
          "x1": 71,
          "y0": 51.63333333333333,
          "y1": 52.3
         },
         {
          "layer": "below",
          "line": {
           "color": "white",
           "width": 2
          },
          "type": "line",
          "x0": 72,
          "x1": 72,
          "y0": 1,
          "y1": 1.6666666666666665
         },
         {
          "layer": "below",
          "line": {
           "color": "white",
           "width": 2
          },
          "type": "line",
          "x0": 72,
          "x1": 72,
          "y0": 23.58333,
          "y1": 24.249996666666668
         },
         {
          "layer": "below",
          "line": {
           "color": "white",
           "width": 2
          },
          "type": "line",
          "x0": 72,
          "x1": 72,
          "y0": 29.08333,
          "y1": 29.749996666666668
         },
         {
          "layer": "below",
          "line": {
           "color": "white",
           "width": 2
          },
          "type": "line",
          "x0": 72,
          "x1": 72,
          "y0": 51.63333333333333,
          "y1": 52.3
         },
         {
          "layer": "below",
          "line": {
           "color": "white",
           "width": 2
          },
          "type": "line",
          "x0": 73,
          "x1": 73,
          "y0": 1,
          "y1": 1.6666666666666665
         },
         {
          "layer": "below",
          "line": {
           "color": "white",
           "width": 2
          },
          "type": "line",
          "x0": 73,
          "x1": 73,
          "y0": 23.58333,
          "y1": 24.249996666666668
         },
         {
          "layer": "below",
          "line": {
           "color": "white",
           "width": 2
          },
          "type": "line",
          "x0": 73,
          "x1": 73,
          "y0": 29.08333,
          "y1": 29.749996666666668
         },
         {
          "layer": "below",
          "line": {
           "color": "white",
           "width": 2
          },
          "type": "line",
          "x0": 73,
          "x1": 73,
          "y0": 51.63333333333333,
          "y1": 52.3
         },
         {
          "layer": "below",
          "line": {
           "color": "white",
           "width": 2
          },
          "type": "line",
          "x0": 74,
          "x1": 74,
          "y0": 1,
          "y1": 1.6666666666666665
         },
         {
          "layer": "below",
          "line": {
           "color": "white",
           "width": 2
          },
          "type": "line",
          "x0": 74,
          "x1": 74,
          "y0": 23.58333,
          "y1": 24.249996666666668
         },
         {
          "layer": "below",
          "line": {
           "color": "white",
           "width": 2
          },
          "type": "line",
          "x0": 74,
          "x1": 74,
          "y0": 29.08333,
          "y1": 29.749996666666668
         },
         {
          "layer": "below",
          "line": {
           "color": "white",
           "width": 2
          },
          "type": "line",
          "x0": 74,
          "x1": 74,
          "y0": 51.63333333333333,
          "y1": 52.3
         },
         {
          "layer": "below",
          "line": {
           "color": "white",
           "width": 2
          },
          "type": "line",
          "x0": 75,
          "x1": 75,
          "y0": 1,
          "y1": 1.6666666666666665
         },
         {
          "layer": "below",
          "line": {
           "color": "white",
           "width": 2
          },
          "type": "line",
          "x0": 75,
          "x1": 75,
          "y0": 23.58333,
          "y1": 24.249996666666668
         },
         {
          "layer": "below",
          "line": {
           "color": "white",
           "width": 2
          },
          "type": "line",
          "x0": 75,
          "x1": 75,
          "y0": 29.08333,
          "y1": 29.749996666666668
         },
         {
          "layer": "below",
          "line": {
           "color": "white",
           "width": 2
          },
          "type": "line",
          "x0": 75,
          "x1": 75,
          "y0": 51.63333333333333,
          "y1": 52.3
         },
         {
          "layer": "below",
          "line": {
           "color": "white",
           "width": 2
          },
          "type": "line",
          "x0": 76,
          "x1": 76,
          "y0": 1,
          "y1": 1.6666666666666665
         },
         {
          "layer": "below",
          "line": {
           "color": "white",
           "width": 2
          },
          "type": "line",
          "x0": 76,
          "x1": 76,
          "y0": 23.58333,
          "y1": 24.249996666666668
         },
         {
          "layer": "below",
          "line": {
           "color": "white",
           "width": 2
          },
          "type": "line",
          "x0": 76,
          "x1": 76,
          "y0": 29.08333,
          "y1": 29.749996666666668
         },
         {
          "layer": "below",
          "line": {
           "color": "white",
           "width": 2
          },
          "type": "line",
          "x0": 76,
          "x1": 76,
          "y0": 51.63333333333333,
          "y1": 52.3
         },
         {
          "layer": "below",
          "line": {
           "color": "white",
           "width": 2
          },
          "type": "line",
          "x0": 77,
          "x1": 77,
          "y0": 1,
          "y1": 1.6666666666666665
         },
         {
          "layer": "below",
          "line": {
           "color": "white",
           "width": 2
          },
          "type": "line",
          "x0": 77,
          "x1": 77,
          "y0": 23.58333,
          "y1": 24.249996666666668
         },
         {
          "layer": "below",
          "line": {
           "color": "white",
           "width": 2
          },
          "type": "line",
          "x0": 77,
          "x1": 77,
          "y0": 29.08333,
          "y1": 29.749996666666668
         },
         {
          "layer": "below",
          "line": {
           "color": "white",
           "width": 2
          },
          "type": "line",
          "x0": 77,
          "x1": 77,
          "y0": 51.63333333333333,
          "y1": 52.3
         },
         {
          "layer": "below",
          "line": {
           "color": "white",
           "width": 2
          },
          "type": "line",
          "x0": 78,
          "x1": 78,
          "y0": 1,
          "y1": 1.6666666666666665
         },
         {
          "layer": "below",
          "line": {
           "color": "white",
           "width": 2
          },
          "type": "line",
          "x0": 78,
          "x1": 78,
          "y0": 23.58333,
          "y1": 24.249996666666668
         },
         {
          "layer": "below",
          "line": {
           "color": "white",
           "width": 2
          },
          "type": "line",
          "x0": 78,
          "x1": 78,
          "y0": 29.08333,
          "y1": 29.749996666666668
         },
         {
          "layer": "below",
          "line": {
           "color": "white",
           "width": 2
          },
          "type": "line",
          "x0": 78,
          "x1": 78,
          "y0": 51.63333333333333,
          "y1": 52.3
         },
         {
          "layer": "below",
          "line": {
           "color": "white",
           "width": 2
          },
          "type": "line",
          "x0": 79,
          "x1": 79,
          "y0": 1,
          "y1": 1.6666666666666665
         },
         {
          "layer": "below",
          "line": {
           "color": "white",
           "width": 2
          },
          "type": "line",
          "x0": 79,
          "x1": 79,
          "y0": 23.58333,
          "y1": 24.249996666666668
         },
         {
          "layer": "below",
          "line": {
           "color": "white",
           "width": 2
          },
          "type": "line",
          "x0": 79,
          "x1": 79,
          "y0": 29.08333,
          "y1": 29.749996666666668
         },
         {
          "layer": "below",
          "line": {
           "color": "white",
           "width": 2
          },
          "type": "line",
          "x0": 79,
          "x1": 79,
          "y0": 51.63333333333333,
          "y1": 52.3
         },
         {
          "layer": "below",
          "line": {
           "color": "white",
           "width": 2
          },
          "type": "line",
          "x0": 81,
          "x1": 81,
          "y0": 1,
          "y1": 1.6666666666666665
         },
         {
          "layer": "below",
          "line": {
           "color": "white",
           "width": 2
          },
          "type": "line",
          "x0": 81,
          "x1": 81,
          "y0": 23.58333,
          "y1": 24.249996666666668
         },
         {
          "layer": "below",
          "line": {
           "color": "white",
           "width": 2
          },
          "type": "line",
          "x0": 81,
          "x1": 81,
          "y0": 29.08333,
          "y1": 29.749996666666668
         },
         {
          "layer": "below",
          "line": {
           "color": "white",
           "width": 2
          },
          "type": "line",
          "x0": 81,
          "x1": 81,
          "y0": 51.63333333333333,
          "y1": 52.3
         },
         {
          "layer": "below",
          "line": {
           "color": "white",
           "width": 2
          },
          "type": "line",
          "x0": 82,
          "x1": 82,
          "y0": 1,
          "y1": 1.6666666666666665
         },
         {
          "layer": "below",
          "line": {
           "color": "white",
           "width": 2
          },
          "type": "line",
          "x0": 82,
          "x1": 82,
          "y0": 23.58333,
          "y1": 24.249996666666668
         },
         {
          "layer": "below",
          "line": {
           "color": "white",
           "width": 2
          },
          "type": "line",
          "x0": 82,
          "x1": 82,
          "y0": 29.08333,
          "y1": 29.749996666666668
         },
         {
          "layer": "below",
          "line": {
           "color": "white",
           "width": 2
          },
          "type": "line",
          "x0": 82,
          "x1": 82,
          "y0": 51.63333333333333,
          "y1": 52.3
         },
         {
          "layer": "below",
          "line": {
           "color": "white",
           "width": 2
          },
          "type": "line",
          "x0": 83,
          "x1": 83,
          "y0": 1,
          "y1": 1.6666666666666665
         },
         {
          "layer": "below",
          "line": {
           "color": "white",
           "width": 2
          },
          "type": "line",
          "x0": 83,
          "x1": 83,
          "y0": 23.58333,
          "y1": 24.249996666666668
         },
         {
          "layer": "below",
          "line": {
           "color": "white",
           "width": 2
          },
          "type": "line",
          "x0": 83,
          "x1": 83,
          "y0": 29.08333,
          "y1": 29.749996666666668
         },
         {
          "layer": "below",
          "line": {
           "color": "white",
           "width": 2
          },
          "type": "line",
          "x0": 83,
          "x1": 83,
          "y0": 51.63333333333333,
          "y1": 52.3
         },
         {
          "layer": "below",
          "line": {
           "color": "white",
           "width": 2
          },
          "type": "line",
          "x0": 84,
          "x1": 84,
          "y0": 1,
          "y1": 1.6666666666666665
         },
         {
          "layer": "below",
          "line": {
           "color": "white",
           "width": 2
          },
          "type": "line",
          "x0": 84,
          "x1": 84,
          "y0": 23.58333,
          "y1": 24.249996666666668
         },
         {
          "layer": "below",
          "line": {
           "color": "white",
           "width": 2
          },
          "type": "line",
          "x0": 84,
          "x1": 84,
          "y0": 29.08333,
          "y1": 29.749996666666668
         },
         {
          "layer": "below",
          "line": {
           "color": "white",
           "width": 2
          },
          "type": "line",
          "x0": 84,
          "x1": 84,
          "y0": 51.63333333333333,
          "y1": 52.3
         },
         {
          "layer": "below",
          "line": {
           "color": "white",
           "width": 2
          },
          "type": "line",
          "x0": 85,
          "x1": 85,
          "y0": 1,
          "y1": 1.6666666666666665
         },
         {
          "layer": "below",
          "line": {
           "color": "white",
           "width": 2
          },
          "type": "line",
          "x0": 85,
          "x1": 85,
          "y0": 23.58333,
          "y1": 24.249996666666668
         },
         {
          "layer": "below",
          "line": {
           "color": "white",
           "width": 2
          },
          "type": "line",
          "x0": 85,
          "x1": 85,
          "y0": 29.08333,
          "y1": 29.749996666666668
         },
         {
          "layer": "below",
          "line": {
           "color": "white",
           "width": 2
          },
          "type": "line",
          "x0": 85,
          "x1": 85,
          "y0": 51.63333333333333,
          "y1": 52.3
         },
         {
          "layer": "below",
          "line": {
           "color": "white",
           "width": 2
          },
          "type": "line",
          "x0": 86,
          "x1": 86,
          "y0": 1,
          "y1": 1.6666666666666665
         },
         {
          "layer": "below",
          "line": {
           "color": "white",
           "width": 2
          },
          "type": "line",
          "x0": 86,
          "x1": 86,
          "y0": 23.58333,
          "y1": 24.249996666666668
         },
         {
          "layer": "below",
          "line": {
           "color": "white",
           "width": 2
          },
          "type": "line",
          "x0": 86,
          "x1": 86,
          "y0": 29.08333,
          "y1": 29.749996666666668
         },
         {
          "layer": "below",
          "line": {
           "color": "white",
           "width": 2
          },
          "type": "line",
          "x0": 86,
          "x1": 86,
          "y0": 51.63333333333333,
          "y1": 52.3
         },
         {
          "layer": "below",
          "line": {
           "color": "white",
           "width": 2
          },
          "type": "line",
          "x0": 87,
          "x1": 87,
          "y0": 1,
          "y1": 1.6666666666666665
         },
         {
          "layer": "below",
          "line": {
           "color": "white",
           "width": 2
          },
          "type": "line",
          "x0": 87,
          "x1": 87,
          "y0": 23.58333,
          "y1": 24.249996666666668
         },
         {
          "layer": "below",
          "line": {
           "color": "white",
           "width": 2
          },
          "type": "line",
          "x0": 87,
          "x1": 87,
          "y0": 29.08333,
          "y1": 29.749996666666668
         },
         {
          "layer": "below",
          "line": {
           "color": "white",
           "width": 2
          },
          "type": "line",
          "x0": 87,
          "x1": 87,
          "y0": 51.63333333333333,
          "y1": 52.3
         },
         {
          "layer": "below",
          "line": {
           "color": "white",
           "width": 2
          },
          "type": "line",
          "x0": 88,
          "x1": 88,
          "y0": 1,
          "y1": 1.6666666666666665
         },
         {
          "layer": "below",
          "line": {
           "color": "white",
           "width": 2
          },
          "type": "line",
          "x0": 88,
          "x1": 88,
          "y0": 23.58333,
          "y1": 24.249996666666668
         },
         {
          "layer": "below",
          "line": {
           "color": "white",
           "width": 2
          },
          "type": "line",
          "x0": 88,
          "x1": 88,
          "y0": 29.08333,
          "y1": 29.749996666666668
         },
         {
          "layer": "below",
          "line": {
           "color": "white",
           "width": 2
          },
          "type": "line",
          "x0": 88,
          "x1": 88,
          "y0": 51.63333333333333,
          "y1": 52.3
         },
         {
          "layer": "below",
          "line": {
           "color": "white",
           "width": 2
          },
          "type": "line",
          "x0": 89,
          "x1": 89,
          "y0": 1,
          "y1": 1.6666666666666665
         },
         {
          "layer": "below",
          "line": {
           "color": "white",
           "width": 2
          },
          "type": "line",
          "x0": 89,
          "x1": 89,
          "y0": 23.58333,
          "y1": 24.249996666666668
         },
         {
          "layer": "below",
          "line": {
           "color": "white",
           "width": 2
          },
          "type": "line",
          "x0": 89,
          "x1": 89,
          "y0": 29.08333,
          "y1": 29.749996666666668
         },
         {
          "layer": "below",
          "line": {
           "color": "white",
           "width": 2
          },
          "type": "line",
          "x0": 89,
          "x1": 89,
          "y0": 51.63333333333333,
          "y1": 52.3
         },
         {
          "layer": "below",
          "line": {
           "color": "white",
           "width": 2
          },
          "type": "line",
          "x0": 91,
          "x1": 91,
          "y0": 1,
          "y1": 1.6666666666666665
         },
         {
          "layer": "below",
          "line": {
           "color": "white",
           "width": 2
          },
          "type": "line",
          "x0": 91,
          "x1": 91,
          "y0": 23.58333,
          "y1": 24.249996666666668
         },
         {
          "layer": "below",
          "line": {
           "color": "white",
           "width": 2
          },
          "type": "line",
          "x0": 91,
          "x1": 91,
          "y0": 29.08333,
          "y1": 29.749996666666668
         },
         {
          "layer": "below",
          "line": {
           "color": "white",
           "width": 2
          },
          "type": "line",
          "x0": 91,
          "x1": 91,
          "y0": 51.63333333333333,
          "y1": 52.3
         },
         {
          "layer": "below",
          "line": {
           "color": "white",
           "width": 2
          },
          "type": "line",
          "x0": 92,
          "x1": 92,
          "y0": 1,
          "y1": 1.6666666666666665
         },
         {
          "layer": "below",
          "line": {
           "color": "white",
           "width": 2
          },
          "type": "line",
          "x0": 92,
          "x1": 92,
          "y0": 23.58333,
          "y1": 24.249996666666668
         },
         {
          "layer": "below",
          "line": {
           "color": "white",
           "width": 2
          },
          "type": "line",
          "x0": 92,
          "x1": 92,
          "y0": 29.08333,
          "y1": 29.749996666666668
         },
         {
          "layer": "below",
          "line": {
           "color": "white",
           "width": 2
          },
          "type": "line",
          "x0": 92,
          "x1": 92,
          "y0": 51.63333333333333,
          "y1": 52.3
         },
         {
          "layer": "below",
          "line": {
           "color": "white",
           "width": 2
          },
          "type": "line",
          "x0": 93,
          "x1": 93,
          "y0": 1,
          "y1": 1.6666666666666665
         },
         {
          "layer": "below",
          "line": {
           "color": "white",
           "width": 2
          },
          "type": "line",
          "x0": 93,
          "x1": 93,
          "y0": 23.58333,
          "y1": 24.249996666666668
         },
         {
          "layer": "below",
          "line": {
           "color": "white",
           "width": 2
          },
          "type": "line",
          "x0": 93,
          "x1": 93,
          "y0": 29.08333,
          "y1": 29.749996666666668
         },
         {
          "layer": "below",
          "line": {
           "color": "white",
           "width": 2
          },
          "type": "line",
          "x0": 93,
          "x1": 93,
          "y0": 51.63333333333333,
          "y1": 52.3
         },
         {
          "layer": "below",
          "line": {
           "color": "white",
           "width": 2
          },
          "type": "line",
          "x0": 94,
          "x1": 94,
          "y0": 1,
          "y1": 1.6666666666666665
         },
         {
          "layer": "below",
          "line": {
           "color": "white",
           "width": 2
          },
          "type": "line",
          "x0": 94,
          "x1": 94,
          "y0": 23.58333,
          "y1": 24.249996666666668
         },
         {
          "layer": "below",
          "line": {
           "color": "white",
           "width": 2
          },
          "type": "line",
          "x0": 94,
          "x1": 94,
          "y0": 29.08333,
          "y1": 29.749996666666668
         },
         {
          "layer": "below",
          "line": {
           "color": "white",
           "width": 2
          },
          "type": "line",
          "x0": 94,
          "x1": 94,
          "y0": 51.63333333333333,
          "y1": 52.3
         },
         {
          "layer": "below",
          "line": {
           "color": "white",
           "width": 2
          },
          "type": "line",
          "x0": 95,
          "x1": 95,
          "y0": 1,
          "y1": 1.6666666666666665
         },
         {
          "layer": "below",
          "line": {
           "color": "white",
           "width": 2
          },
          "type": "line",
          "x0": 95,
          "x1": 95,
          "y0": 23.58333,
          "y1": 24.249996666666668
         },
         {
          "layer": "below",
          "line": {
           "color": "white",
           "width": 2
          },
          "type": "line",
          "x0": 95,
          "x1": 95,
          "y0": 29.08333,
          "y1": 29.749996666666668
         },
         {
          "layer": "below",
          "line": {
           "color": "white",
           "width": 2
          },
          "type": "line",
          "x0": 95,
          "x1": 95,
          "y0": 51.63333333333333,
          "y1": 52.3
         },
         {
          "layer": "below",
          "line": {
           "color": "white",
           "width": 2
          },
          "type": "line",
          "x0": 96,
          "x1": 96,
          "y0": 1,
          "y1": 1.6666666666666665
         },
         {
          "layer": "below",
          "line": {
           "color": "white",
           "width": 2
          },
          "type": "line",
          "x0": 96,
          "x1": 96,
          "y0": 23.58333,
          "y1": 24.249996666666668
         },
         {
          "layer": "below",
          "line": {
           "color": "white",
           "width": 2
          },
          "type": "line",
          "x0": 96,
          "x1": 96,
          "y0": 29.08333,
          "y1": 29.749996666666668
         },
         {
          "layer": "below",
          "line": {
           "color": "white",
           "width": 2
          },
          "type": "line",
          "x0": 96,
          "x1": 96,
          "y0": 51.63333333333333,
          "y1": 52.3
         },
         {
          "layer": "below",
          "line": {
           "color": "white",
           "width": 2
          },
          "type": "line",
          "x0": 97,
          "x1": 97,
          "y0": 1,
          "y1": 1.6666666666666665
         },
         {
          "layer": "below",
          "line": {
           "color": "white",
           "width": 2
          },
          "type": "line",
          "x0": 97,
          "x1": 97,
          "y0": 23.58333,
          "y1": 24.249996666666668
         },
         {
          "layer": "below",
          "line": {
           "color": "white",
           "width": 2
          },
          "type": "line",
          "x0": 97,
          "x1": 97,
          "y0": 29.08333,
          "y1": 29.749996666666668
         },
         {
          "layer": "below",
          "line": {
           "color": "white",
           "width": 2
          },
          "type": "line",
          "x0": 97,
          "x1": 97,
          "y0": 51.63333333333333,
          "y1": 52.3
         },
         {
          "layer": "below",
          "line": {
           "color": "white",
           "width": 2
          },
          "type": "line",
          "x0": 98,
          "x1": 98,
          "y0": 1,
          "y1": 1.6666666666666665
         },
         {
          "layer": "below",
          "line": {
           "color": "white",
           "width": 2
          },
          "type": "line",
          "x0": 98,
          "x1": 98,
          "y0": 23.58333,
          "y1": 24.249996666666668
         },
         {
          "layer": "below",
          "line": {
           "color": "white",
           "width": 2
          },
          "type": "line",
          "x0": 98,
          "x1": 98,
          "y0": 29.08333,
          "y1": 29.749996666666668
         },
         {
          "layer": "below",
          "line": {
           "color": "white",
           "width": 2
          },
          "type": "line",
          "x0": 98,
          "x1": 98,
          "y0": 51.63333333333333,
          "y1": 52.3
         },
         {
          "layer": "below",
          "line": {
           "color": "white",
           "width": 2
          },
          "type": "line",
          "x0": 99,
          "x1": 99,
          "y0": 1,
          "y1": 1.6666666666666665
         },
         {
          "layer": "below",
          "line": {
           "color": "white",
           "width": 2
          },
          "type": "line",
          "x0": 99,
          "x1": 99,
          "y0": 23.58333,
          "y1": 24.249996666666668
         },
         {
          "layer": "below",
          "line": {
           "color": "white",
           "width": 2
          },
          "type": "line",
          "x0": 99,
          "x1": 99,
          "y0": 29.08333,
          "y1": 29.749996666666668
         },
         {
          "layer": "below",
          "line": {
           "color": "white",
           "width": 2
          },
          "type": "line",
          "x0": 99,
          "x1": 99,
          "y0": 51.63333333333333,
          "y1": 52.3
         },
         {
          "layer": "below",
          "line": {
           "color": "white",
           "width": 2
          },
          "type": "line",
          "x0": 101,
          "x1": 101,
          "y0": 1,
          "y1": 1.6666666666666665
         },
         {
          "layer": "below",
          "line": {
           "color": "white",
           "width": 2
          },
          "type": "line",
          "x0": 101,
          "x1": 101,
          "y0": 23.58333,
          "y1": 24.249996666666668
         },
         {
          "layer": "below",
          "line": {
           "color": "white",
           "width": 2
          },
          "type": "line",
          "x0": 101,
          "x1": 101,
          "y0": 29.08333,
          "y1": 29.749996666666668
         },
         {
          "layer": "below",
          "line": {
           "color": "white",
           "width": 2
          },
          "type": "line",
          "x0": 101,
          "x1": 101,
          "y0": 51.63333333333333,
          "y1": 52.3
         },
         {
          "layer": "below",
          "line": {
           "color": "white",
           "width": 2
          },
          "type": "line",
          "x0": 102,
          "x1": 102,
          "y0": 1,
          "y1": 1.6666666666666665
         },
         {
          "layer": "below",
          "line": {
           "color": "white",
           "width": 2
          },
          "type": "line",
          "x0": 102,
          "x1": 102,
          "y0": 23.58333,
          "y1": 24.249996666666668
         },
         {
          "layer": "below",
          "line": {
           "color": "white",
           "width": 2
          },
          "type": "line",
          "x0": 102,
          "x1": 102,
          "y0": 29.08333,
          "y1": 29.749996666666668
         },
         {
          "layer": "below",
          "line": {
           "color": "white",
           "width": 2
          },
          "type": "line",
          "x0": 102,
          "x1": 102,
          "y0": 51.63333333333333,
          "y1": 52.3
         },
         {
          "layer": "below",
          "line": {
           "color": "white",
           "width": 2
          },
          "type": "line",
          "x0": 103,
          "x1": 103,
          "y0": 1,
          "y1": 1.6666666666666665
         },
         {
          "layer": "below",
          "line": {
           "color": "white",
           "width": 2
          },
          "type": "line",
          "x0": 103,
          "x1": 103,
          "y0": 23.58333,
          "y1": 24.249996666666668
         },
         {
          "layer": "below",
          "line": {
           "color": "white",
           "width": 2
          },
          "type": "line",
          "x0": 103,
          "x1": 103,
          "y0": 29.08333,
          "y1": 29.749996666666668
         },
         {
          "layer": "below",
          "line": {
           "color": "white",
           "width": 2
          },
          "type": "line",
          "x0": 103,
          "x1": 103,
          "y0": 51.63333333333333,
          "y1": 52.3
         },
         {
          "layer": "below",
          "line": {
           "color": "white",
           "width": 2
          },
          "type": "line",
          "x0": 104,
          "x1": 104,
          "y0": 1,
          "y1": 1.6666666666666665
         },
         {
          "layer": "below",
          "line": {
           "color": "white",
           "width": 2
          },
          "type": "line",
          "x0": 104,
          "x1": 104,
          "y0": 23.58333,
          "y1": 24.249996666666668
         },
         {
          "layer": "below",
          "line": {
           "color": "white",
           "width": 2
          },
          "type": "line",
          "x0": 104,
          "x1": 104,
          "y0": 29.08333,
          "y1": 29.749996666666668
         },
         {
          "layer": "below",
          "line": {
           "color": "white",
           "width": 2
          },
          "type": "line",
          "x0": 104,
          "x1": 104,
          "y0": 51.63333333333333,
          "y1": 52.3
         },
         {
          "layer": "below",
          "line": {
           "color": "white",
           "width": 2
          },
          "type": "line",
          "x0": 105,
          "x1": 105,
          "y0": 1,
          "y1": 1.6666666666666665
         },
         {
          "layer": "below",
          "line": {
           "color": "white",
           "width": 2
          },
          "type": "line",
          "x0": 105,
          "x1": 105,
          "y0": 23.58333,
          "y1": 24.249996666666668
         },
         {
          "layer": "below",
          "line": {
           "color": "white",
           "width": 2
          },
          "type": "line",
          "x0": 105,
          "x1": 105,
          "y0": 29.08333,
          "y1": 29.749996666666668
         },
         {
          "layer": "below",
          "line": {
           "color": "white",
           "width": 2
          },
          "type": "line",
          "x0": 105,
          "x1": 105,
          "y0": 51.63333333333333,
          "y1": 52.3
         },
         {
          "layer": "below",
          "line": {
           "color": "white",
           "width": 2
          },
          "type": "line",
          "x0": 106,
          "x1": 106,
          "y0": 1,
          "y1": 1.6666666666666665
         },
         {
          "layer": "below",
          "line": {
           "color": "white",
           "width": 2
          },
          "type": "line",
          "x0": 106,
          "x1": 106,
          "y0": 23.58333,
          "y1": 24.249996666666668
         },
         {
          "layer": "below",
          "line": {
           "color": "white",
           "width": 2
          },
          "type": "line",
          "x0": 106,
          "x1": 106,
          "y0": 29.08333,
          "y1": 29.749996666666668
         },
         {
          "layer": "below",
          "line": {
           "color": "white",
           "width": 2
          },
          "type": "line",
          "x0": 106,
          "x1": 106,
          "y0": 51.63333333333333,
          "y1": 52.3
         },
         {
          "layer": "below",
          "line": {
           "color": "white",
           "width": 2
          },
          "type": "line",
          "x0": 107,
          "x1": 107,
          "y0": 1,
          "y1": 1.6666666666666665
         },
         {
          "layer": "below",
          "line": {
           "color": "white",
           "width": 2
          },
          "type": "line",
          "x0": 107,
          "x1": 107,
          "y0": 23.58333,
          "y1": 24.249996666666668
         },
         {
          "layer": "below",
          "line": {
           "color": "white",
           "width": 2
          },
          "type": "line",
          "x0": 107,
          "x1": 107,
          "y0": 29.08333,
          "y1": 29.749996666666668
         },
         {
          "layer": "below",
          "line": {
           "color": "white",
           "width": 2
          },
          "type": "line",
          "x0": 107,
          "x1": 107,
          "y0": 51.63333333333333,
          "y1": 52.3
         },
         {
          "layer": "below",
          "line": {
           "color": "white",
           "width": 2
          },
          "type": "line",
          "x0": 108,
          "x1": 108,
          "y0": 1,
          "y1": 1.6666666666666665
         },
         {
          "layer": "below",
          "line": {
           "color": "white",
           "width": 2
          },
          "type": "line",
          "x0": 108,
          "x1": 108,
          "y0": 23.58333,
          "y1": 24.249996666666668
         },
         {
          "layer": "below",
          "line": {
           "color": "white",
           "width": 2
          },
          "type": "line",
          "x0": 108,
          "x1": 108,
          "y0": 29.08333,
          "y1": 29.749996666666668
         },
         {
          "layer": "below",
          "line": {
           "color": "white",
           "width": 2
          },
          "type": "line",
          "x0": 108,
          "x1": 108,
          "y0": 51.63333333333333,
          "y1": 52.3
         },
         {
          "layer": "below",
          "line": {
           "color": "white",
           "width": 2
          },
          "type": "line",
          "x0": 109,
          "x1": 109,
          "y0": 1,
          "y1": 1.6666666666666665
         },
         {
          "layer": "below",
          "line": {
           "color": "white",
           "width": 2
          },
          "type": "line",
          "x0": 109,
          "x1": 109,
          "y0": 23.58333,
          "y1": 24.249996666666668
         },
         {
          "layer": "below",
          "line": {
           "color": "white",
           "width": 2
          },
          "type": "line",
          "x0": 109,
          "x1": 109,
          "y0": 29.08333,
          "y1": 29.749996666666668
         },
         {
          "layer": "below",
          "line": {
           "color": "white",
           "width": 2
          },
          "type": "line",
          "x0": 109,
          "x1": 109,
          "y0": 51.63333333333333,
          "y1": 52.3
         },
         {
          "fillcolor": "white",
          "layer": "below",
          "line": {
           "color": "white"
          },
          "path": "M 18.013,4.68 L 18.013,5.72 A 3.257,3.257 180.0 0,1 18.014,5.789 A 1.126,1.126 180.0 0,1 17.991,6.057 Q 17.963,6.16 17.893,6.1899999999999995 Q 17.823,6.22 17.663,6.22 L 17.418,6.22 A 0.095,0.095 180.0 0,0 17.328,6.34 Q 17.333000000000002,6.415 17.358,6.432 Q 17.383,6.45 17.421,6.45 L 17.473,6.45 Q 17.683,6.45 17.883,6.5169999999999995 Q 18.083000000000002,6.585 18.318,6.68 Q 18.348,6.6899999999999995 18.368000000000002,6.6899999999999995 Q 18.448,6.6899999999999995 18.448,6.574999999999999 L 18.448,4.68 Q 18.448,4.46 18.501,4.365 Q 18.553,4.27 18.666,4.245 Q 18.778000000000002,4.22 19.028000000000002,4.22 L 19.078,4.22 Q 19.118000000000002,4.22 19.136,4.199999999999999 Q 19.153000000000002,4.18 19.158,4.12 Q 19.158,4.0 19.068,4.0 Q 18.708000000000002,4.015000000000001 18.228,4.015000000000001 Q 17.753,4.015000000000001 17.393,4.0 A 0.095,0.095 180.0 0,0 17.303,4.12 Q 17.308,4.18 17.326,4.199999999999999 Q 17.343,4.22 17.383,4.22 Q 17.663,4.22 17.781000000000002,4.242 Q 17.898,4.265000000000001 17.956,4.359999999999999 Q 18.013,4.455 18.013,4.68 L 18.013,4.68",
          "type": "path"
         },
         {
          "fillcolor": "white",
          "layer": "below",
          "line": {
           "color": "white"
          },
          "path": "M 21.69,6.7509999999999994 Q 21.3,6.7509999999999994 21.033,6.561 Q 20.765,6.371 20.633,6.056 Q 20.5,5.741 20.5,5.371 Q 20.5,4.996 20.633,4.686 Q 20.765,4.376 21.033,4.188 Q 21.3,4.001 21.69,4.001 Q 22.06,4.001 22.33,4.191 Q 22.6,4.381 22.740000000000002,4.696 Q 22.88,5.011 22.88,5.371 Q 22.88,5.731 22.740000000000002,6.045999999999999 Q 22.6,6.361000000000001 22.33,6.556 Q 22.06,6.7509999999999994 21.69,6.7509999999999994 M 21.695,6.566 Q 22.03,6.566 22.215,6.256 Q 22.4,5.946 22.4,5.371 Q 22.4,4.796 22.215,4.491 Q 22.03,4.186 21.695,4.186 Q 21.35,4.186 21.165,4.4879999999999995 Q 20.98,4.791 20.98,5.371 Q 20.98,5.9510000000000005 21.165,6.258 Q 21.35,6.566 21.695,6.566",
          "type": "path"
         },
         {
          "fillcolor": "white",
          "layer": "below",
          "line": {
           "color": "white"
          },
          "path": "M 18.19,49.751 Q 17.8,49.751 17.533,49.561 Q 17.265,49.371 17.133,49.056 Q 17.0,48.741 17.0,48.371 Q 17.0,47.996 17.133,47.686 Q 17.265,47.376 17.533,47.188 Q 17.8,47.001 18.19,47.001 Q 18.56,47.001 18.83,47.191 Q 19.1,47.381 19.240000000000002,47.696 Q 19.38,48.011 19.38,48.371 Q 19.38,48.731 19.240000000000002,49.046 Q 19.1,49.361 18.83,49.556 Q 18.56,49.751 18.19,49.751 M 18.195,49.566 Q 18.53,49.566 18.715,49.256 Q 18.9,48.946 18.9,48.371 Q 18.9,47.796 18.715,47.491 Q 18.53,47.186 18.195,47.186 Q 17.85,47.186 17.665,47.488 Q 17.48,47.791 17.48,48.371 Q 17.48,48.951 17.665,49.258 Q 17.85,49.566 18.195,49.566",
          "type": "path"
         },
         {
          "fillcolor": "white",
          "layer": "below",
          "line": {
           "color": "white"
          },
          "path": "M 21.644647615158764,49.01 L 21.644647615158764,47.97 A 3.257,3.257 360.0 0,1 21.643647615158763,47.901 A 1.126,1.126 360.0 0,1 21.666647615158762,47.633 Q 21.69464761515876,47.53 21.76464761515876,47.5 Q 21.83464761515876,47.47 21.99464761515876,47.47 L 22.239647615158763,47.47 A 0.095,0.095 360.0 0,0 22.329647615158763,47.35 Q 22.324647615158764,47.275 22.29964761515876,47.258 Q 22.274647615158763,47.24 22.236647615158763,47.24 L 22.184647615158763,47.24 Q 21.974647615158762,47.24 21.774647615158763,47.173 Q 21.574647615158764,47.105 21.33964761515876,47.01 Q 21.309647615158763,47.0 21.289647615158763,47.0 Q 21.20964761515876,47.0 21.20964761515876,47.115 L 21.20964761515876,49.01 Q 21.20964761515876,49.23 21.15664761515876,49.325 Q 21.10464761515876,49.42 20.99164761515876,49.445 Q 20.879647615158763,49.47 20.629647615158763,49.47 L 20.579647615158763,49.47 Q 20.539647615158763,49.47 20.521647615158763,49.49 Q 20.504647615158763,49.51 20.49964761515876,49.57 Q 20.49964761515876,49.69 20.589647615158764,49.69 Q 20.949647615158764,49.675 21.429647615158764,49.675 Q 21.904647615158762,49.675 22.26464761515876,49.69 A 0.095,0.095 360.0 0,0 22.35464761515876,49.57 Q 22.349647615158762,49.51 22.33164761515876,49.49 Q 22.314647615158762,49.47 22.274647615158763,49.47 Q 21.99464761515876,49.47 21.876647615158763,49.448 Q 21.759647615158762,49.425 21.701647615158763,49.33 Q 21.644647615158764,49.235 21.644647615158764,49.01 L 21.644647615158764,49.01",
          "type": "path"
         },
         {
          "fillcolor": "white",
          "layer": "below",
          "line": {
           "color": "white"
          },
          "path": "M 27.747,4.38 L 27.747,4.355 L 29.087,4.355 A 0.449,0.449 180.0 0,0 29.269000000000002,4.327 Q 29.327,4.3 29.327,4.18 Q 29.327,4.0 29.152,4.0 L 27.477,4.0 Q 27.302,4.0 27.302,4.18 Q 27.307000000000002,4.285 27.359,4.35 Q 27.412,4.415 27.532,4.495 Q 27.927,4.76 28.144000000000002,4.932 Q 28.362000000000002,5.105 28.537,5.37 Q 28.712,5.635 28.712,5.965 Q 28.712,6.205 28.584,6.337 Q 28.457,6.47 28.227,6.47 Q 28.032,6.47 27.904,6.372 Q 27.777,6.275 27.777,6.105 Q 27.777,6.02 27.817,5.962 Q 27.857,5.904999999999999 27.899,5.87 Q 27.942,5.835 27.942,5.83 Q 27.942,5.795 27.874000000000002,5.745 Q 27.807000000000002,5.695 27.712,5.695 Q 27.557000000000002,5.695 27.464000000000002,5.792 Q 27.372,5.89 27.372,6.04 Q 27.372,6.24 27.507,6.38 Q 27.642,6.52 27.849,6.585 Q 28.057000000000002,6.65 28.272000000000002,6.65 Q 28.647000000000002,6.65 28.919,6.465 Q 29.192,6.279999999999999 29.192,5.9 Q 29.192,5.625 29.042,5.4 Q 28.892,5.175 28.684,5.0169999999999995 Q 28.477,4.859999999999999 28.142,4.645 Q 27.877000000000002,4.48 27.747,4.38",
          "type": "path"
         },
         {
          "fillcolor": "white",
          "layer": "below",
          "line": {
           "color": "white"
          },
          "path": "M 31.69,6.7509999999999994 Q 31.3,6.7509999999999994 31.033,6.561 Q 30.765,6.371 30.633,6.056 Q 30.5,5.741 30.5,5.371 Q 30.5,4.996 30.633,4.686 Q 30.765,4.376 31.033,4.188 Q 31.3,4.001 31.69,4.001 Q 32.06,4.001 32.33,4.191 Q 32.6,4.381 32.74,4.696 Q 32.88,5.011 32.88,5.371 Q 32.88,5.731 32.74,6.045999999999999 Q 32.6,6.361000000000001 32.33,6.556 Q 32.06,6.7509999999999994 31.69,6.7509999999999994 M 31.695,6.566 Q 32.03,6.566 32.215,6.256 Q 32.4,5.946 32.4,5.371 Q 32.4,4.796 32.215,4.491 Q 32.03,4.186 31.695,4.186 Q 31.35,4.186 31.165,4.4879999999999995 Q 30.98,4.791 30.98,5.371 Q 30.98,5.9510000000000005 31.165,6.258 Q 31.35,6.566 31.695,6.566",
          "type": "path"
         },
         {
          "fillcolor": "white",
          "layer": "below",
          "line": {
           "color": "white"
          },
          "path": "M 28.19,49.751 Q 27.8,49.751 27.533,49.561 Q 27.265,49.371 27.133,49.056 Q 27.0,48.741 27.0,48.371 Q 27.0,47.996 27.133,47.686 Q 27.265,47.376 27.533,47.188 Q 27.8,47.001 28.19,47.001 Q 28.56,47.001 28.83,47.191 Q 29.1,47.381 29.240000000000002,47.696 Q 29.38,48.011 29.38,48.371 Q 29.38,48.731 29.240000000000002,49.046 Q 29.1,49.361 28.83,49.556 Q 28.56,49.751 28.19,49.751 M 28.195,49.566 Q 28.53,49.566 28.715,49.256 Q 28.9,48.946 28.9,48.371 Q 28.9,47.796 28.715,47.491 Q 28.53,47.186 28.195,47.186 Q 27.85,47.186 27.665,47.488 Q 27.48,47.791 27.48,48.371 Q 27.48,48.951 27.665,49.258 Q 27.85,49.566 28.195,49.566",
          "type": "path"
         },
         {
          "fillcolor": "white",
          "layer": "below",
          "line": {
           "color": "white"
          },
          "path": "M 32.082,49.27 L 32.082,49.295 L 30.742,49.295 A 0.449,0.449 360.0 0,0 30.56,49.323 Q 30.502,49.35 30.502,49.47 Q 30.502,49.65 30.677,49.65 L 32.352,49.65 Q 32.527,49.65 32.527,49.47 Q 32.522,49.365 32.47,49.3 Q 32.417,49.235 32.297,49.155 Q 31.902,48.89 31.685,48.718 Q 31.467,48.545 31.292,48.28 Q 31.117,48.015 31.117,47.685 Q 31.117,47.445 31.245,47.313 Q 31.372,47.18 31.602,47.18 Q 31.797,47.18 31.925,47.278 Q 32.052,47.375 32.052,47.545 Q 32.052,47.63 32.012,47.688 Q 31.972,47.745 31.93,47.78 Q 31.887,47.815 31.887,47.82 Q 31.887,47.855 31.955,47.905 Q 32.022,47.955 32.117,47.955 Q 32.272,47.955 32.365,47.858 Q 32.457,47.76 32.457,47.61 Q 32.457,47.41 32.322,47.27 Q 32.187,47.13 31.98,47.065 Q 31.772,47.0 31.557,47.0 Q 31.182,47.0 30.91,47.185 Q 30.637,47.37 30.637,47.75 Q 30.637,48.025 30.787,48.25 Q 30.937,48.475 31.145,48.633 Q 31.352,48.79 31.687,49.005 Q 31.951999999999998,49.17 32.082,49.27",
          "type": "path"
         },
         {
          "fillcolor": "white",
          "layer": "below",
          "line": {
           "color": "white"
          },
          "path": "M 38.199999999999996,5.336 L 38.015,5.336 Q 37.98,5.336 37.959999999999994,5.366 Q 37.94,5.396 37.94,5.436 Q 37.94,5.481 37.959999999999994,5.513 Q 37.98,5.546 38.015,5.551 L 38.199999999999996,5.551 Q 38.394999999999996,5.571 38.513,5.726 Q 38.629999999999995,5.881 38.629999999999995,6.101 Q 38.629999999999995,6.341 38.495,6.468 Q 38.36,6.596 38.18,6.596 Q 38.01,6.596 37.888,6.498 Q 37.765,6.401 37.765,6.231 Q 37.765,6.121 37.808,6.083 Q 37.849999999999994,6.046 37.89,6.038 Q 37.93,6.031000000000001 37.93,6.026 Q 37.93,5.991 37.863,5.941 Q 37.794999999999995,5.891 37.699999999999996,5.891 Q 37.54,5.891 37.449999999999996,5.991 Q 37.36,6.091 37.36,6.246 Q 37.36,6.491 37.589999999999996,6.6259999999999994 Q 37.82,6.761 38.184999999999995,6.761 Q 38.574999999999996,6.761 38.83,6.591 Q 39.084999999999994,6.420999999999999 39.084999999999994,6.101 Q 39.084999999999994,5.891 38.937999999999995,5.711 Q 38.79,5.531 38.515,5.4559999999999995 L 38.515,5.436 Q 38.794999999999995,5.406 39.0,5.258 Q 39.205,5.111 39.205,4.791 Q 39.205,4.386 38.91,4.193 Q 38.614999999999995,4.001 38.169999999999995,4.001 Q 37.805,4.0009999999999994 37.553,4.143 Q 37.3,4.286 37.3,4.561 Q 37.3,4.7059999999999995 37.39,4.811 Q 37.48,4.916 37.64,4.916 Q 37.735,4.916 37.803,4.866 Q 37.87,4.816 37.87,4.781 Q 37.87,4.776 37.824999999999996,4.743 Q 37.779999999999994,4.711 37.742999999999995,4.656000000000001 Q 37.705,4.601 37.705,4.516 Q 37.705,4.361000000000001 37.837999999999994,4.273 Q 37.97,4.186 38.184999999999995,4.186 Q 38.72,4.186 38.72,4.781 Q 38.72,5.026 38.589999999999996,5.173 Q 38.459999999999994,5.321 38.199999999999996,5.336",
          "type": "path"
         },
         {
          "fillcolor": "white",
          "layer": "below",
          "line": {
           "color": "white"
          },
          "path": "M 41.69,6.7509999999999994 Q 41.3,6.7509999999999994 41.033,6.561 Q 40.765,6.371 40.633,6.056 Q 40.5,5.741 40.5,5.371 Q 40.5,4.996 40.633,4.686 Q 40.765,4.376 41.033,4.188 Q 41.3,4.001 41.69,4.001 Q 42.06,4.001 42.33,4.191 Q 42.6,4.381 42.74,4.696 Q 42.88,5.011 42.88,5.371 Q 42.88,5.731 42.74,6.045999999999999 Q 42.6,6.361000000000001 42.33,6.556 Q 42.06,6.7509999999999994 41.69,6.7509999999999994 M 41.695,6.566 Q 42.03,6.566 42.215,6.256 Q 42.4,5.946 42.4,5.371 Q 42.4,4.796 42.215,4.491 Q 42.03,4.186 41.695,4.186 Q 41.35,4.186 41.165,4.4879999999999995 Q 40.98,4.791 40.98,5.371 Q 40.98,5.9510000000000005 41.165,6.258 Q 41.35,6.566 41.695,6.566",
          "type": "path"
         },
         {
          "fillcolor": "white",
          "layer": "below",
          "line": {
           "color": "white"
          },
          "path": "M 38.19,49.751 Q 37.8,49.751 37.533,49.561 Q 37.265,49.371 37.133,49.056 Q 37.0,48.741 37.0,48.371 Q 37.0,47.996 37.133,47.686 Q 37.265,47.376 37.533,47.188 Q 37.8,47.001 38.19,47.001 Q 38.56,47.001 38.83,47.191 Q 39.1,47.381 39.24,47.696 Q 39.38,48.011 39.38,48.371 Q 39.38,48.731 39.24,49.046 Q 39.1,49.361 38.83,49.556 Q 38.56,49.751 38.19,49.751 M 38.195,49.566 Q 38.53,49.566 38.715,49.256 Q 38.9,48.946 38.9,48.371 Q 38.9,47.796 38.715,47.491 Q 38.53,47.186 38.195,47.186 Q 37.85,47.186 37.665,47.488 Q 37.48,47.791 37.48,48.371 Q 37.48,48.951 37.665,49.258 Q 37.85,49.566 38.195,49.566",
          "type": "path"
         },
         {
          "fillcolor": "white",
          "layer": "below",
          "line": {
           "color": "white"
          },
          "path": "M 41.505,48.426 L 41.69,48.426 Q 41.725,48.426 41.745,48.396 Q 41.765,48.366 41.765,48.326 Q 41.765,48.281 41.745,48.249 Q 41.725,48.216 41.69,48.211 L 41.505,48.211 Q 41.31,48.191 41.192,48.036 Q 41.075,47.881 41.075,47.661 Q 41.075,47.421 41.21,47.294 Q 41.345,47.166 41.525,47.166 Q 41.695,47.166 41.817,47.264 Q 41.94,47.361 41.94,47.531 Q 41.94,47.641 41.897,47.679 Q 41.855,47.716 41.815,47.724 Q 41.775,47.731 41.775,47.736 Q 41.775,47.771 41.842,47.821 Q 41.91,47.871 42.005,47.871 Q 42.165,47.871 42.255,47.771 Q 42.345,47.671 42.345,47.516 Q 42.345,47.271 42.115,47.136 Q 41.885,47.001 41.52,47.001 Q 41.13,47.001 40.875,47.171 Q 40.62,47.341 40.62,47.661 Q 40.62,47.871 40.767,48.051 Q 40.915,48.231 41.19,48.306 L 41.19,48.326 Q 40.91,48.356 40.705,48.504 Q 40.5,48.651 40.5,48.971000000000004 Q 40.5,49.376 40.795,49.569 Q 41.09,49.761 41.535,49.761 Q 41.9,49.761 42.152,49.619 Q 42.405,49.476 42.405,49.201 Q 42.405,49.056 42.315,48.951 Q 42.225,48.846000000000004 42.065,48.846000000000004 Q 41.97,48.846000000000004 41.902,48.896 Q 41.835,48.946 41.835,48.981 Q 41.835,48.986 41.88,49.019 Q 41.925,49.051 41.962,49.106 Q 42.0,49.161 42.0,49.246 Q 42.0,49.400999999999996 41.867,49.489 Q 41.735,49.576 41.52,49.576 Q 40.985,49.576 40.985,48.981 Q 40.985,48.736 41.115,48.589 Q 41.245,48.441 41.505,48.426",
          "type": "path"
         },
         {
          "fillcolor": "white",
          "layer": "below",
          "line": {
           "color": "white"
          },
          "path": "M 48.654999999999994,4.096 L 48.654999999999994,4.861 L 47.459999999999994,4.861 Q 47.379999999999995,4.861 47.339999999999996,4.911 Q 47.3,4.961 47.3,5.036 Q 47.3,5.101 47.334999999999994,5.146 L 48.739999999999995,6.680999999999999 Q 48.79,6.731 48.894999999999996,6.731 Q 48.974999999999994,6.731 49.029999999999994,6.689 Q 49.084999999999994,6.646 49.089999999999996,6.555999999999999 L 49.089999999999996,5.106 L 49.39,5.106 Q 49.459999999999994,5.106 49.489999999999995,5.0889999999999995 Q 49.519999999999996,5.071 49.525,4.986 Q 49.525,4.931 49.503,4.896 Q 49.48,4.861 49.43,4.861 L 49.089999999999996,4.861 L 49.089999999999996,4.096 Q 49.089999999999996,4.051 49.025,4.026 Q 48.959999999999994,4.0009999999999994 48.875,4.0009999999999994 Q 48.79,4.0009999999999994 48.724999999999994,4.026 Q 48.66,4.051 48.654999999999994,4.096 M 48.654999999999994,6.291 L 47.589999999999996,5.106 L 48.654999999999994,5.106 L 48.654999999999994,6.291",
          "type": "path"
         },
         {
          "fillcolor": "white",
          "layer": "below",
          "line": {
           "color": "white"
          },
          "path": "M 51.69,6.7509999999999994 Q 51.3,6.7509999999999994 51.033,6.561 Q 50.765,6.371 50.633,6.056 Q 50.5,5.741 50.5,5.371 Q 50.5,4.996 50.633,4.686 Q 50.765,4.376 51.033,4.188 Q 51.3,4.001 51.69,4.001 Q 52.06,4.001 52.33,4.191 Q 52.6,4.381 52.74,4.696 Q 52.88,5.011 52.88,5.371 Q 52.88,5.731 52.74,6.045999999999999 Q 52.6,6.361000000000001 52.33,6.556 Q 52.06,6.7509999999999994 51.69,6.7509999999999994 M 51.695,6.566 Q 52.03,6.566 52.215,6.256 Q 52.4,5.946 52.4,5.371 Q 52.4,4.796 52.215,4.491 Q 52.03,4.186 51.695,4.186 Q 51.35,4.186 51.165,4.4879999999999995 Q 50.98,4.791 50.98,5.371 Q 50.98,5.9510000000000005 51.165,6.258 Q 51.35,6.566 51.695,6.566",
          "type": "path"
         },
         {
          "fillcolor": "white",
          "layer": "below",
          "line": {
           "color": "white"
          },
          "path": "M 48.19,49.751 Q 47.8,49.751 47.533,49.561 Q 47.265,49.371 47.133,49.056 Q 47.0,48.741 47.0,48.371 Q 47.0,47.996 47.133,47.686 Q 47.265,47.376 47.533,47.188 Q 47.8,47.001 48.19,47.001 Q 48.56,47.001 48.83,47.191 Q 49.1,47.381 49.24,47.696 Q 49.38,48.011 49.38,48.371 Q 49.38,48.731 49.24,49.046 Q 49.1,49.361 48.83,49.556 Q 48.56,49.751 48.19,49.751 M 48.195,49.566 Q 48.53,49.566 48.715,49.256 Q 48.9,48.946 48.9,48.371 Q 48.9,47.796 48.715,47.491 Q 48.53,47.186 48.195,47.186 Q 47.85,47.186 47.665,47.488 Q 47.48,47.791 47.48,48.371 Q 47.48,48.951 47.665,49.258 Q 47.85,49.566 48.195,49.566",
          "type": "path"
         },
         {
          "fillcolor": "white",
          "layer": "below",
          "line": {
           "color": "white"
          },
          "path": "M 51.37,49.636 L 51.37,48.871 L 52.565,48.871 Q 52.645,48.871 52.685,48.821 Q 52.725,48.771 52.725,48.696 Q 52.725,48.631 52.69,48.586 L 51.285,47.051 Q 51.235,47.001 51.13,47.001 Q 51.05,47.001 50.995,47.043 Q 50.94,47.086 50.935,47.176 L 50.935,48.626 L 50.635,48.626 Q 50.565,48.626 50.535,48.643 Q 50.505,48.661 50.5,48.746 Q 50.5,48.801 50.522,48.836 Q 50.545,48.871 50.595,48.871 L 50.935,48.871 L 50.935,49.636 Q 50.935,49.681 51.0,49.706 Q 51.065,49.731 51.15,49.731 Q 51.235,49.731 51.3,49.706 Q 51.365,49.681 51.37,49.636 M 51.37,47.441 L 52.435,48.626 L 51.37,48.626 L 51.37,47.441",
          "type": "path"
         },
         {
          "fillcolor": "white",
          "layer": "below",
          "line": {
           "color": "white"
          },
          "path": "M 57.434999999999995,5.45 L 57.44,5.51 L 57.595,6.7 L 58.97,6.7 Q 59.04,6.7 59.083,6.655 Q 59.125,6.61 59.125,6.53 Q 59.125,6.345000000000001 58.934999999999995,6.345000000000001 L 57.824999999999996,6.345000000000001 L 57.72,5.65 Q 57.94,5.785 58.26,5.785 Q 58.474999999999994,5.785 58.693,5.69 Q 58.91,5.595000000000001 59.055,5.4 Q 59.199999999999996,5.205 59.199999999999996,4.915 Q 59.199999999999996,4.625 59.058,4.417 Q 58.915,4.21 58.678,4.105 Q 58.44,4.0 58.16,4.0 Q 57.79,4.0 57.544999999999995,4.135 Q 57.3,4.27 57.3,4.555 Q 57.3,4.71 57.393,4.827 Q 57.485,4.945 57.64,4.945 Q 57.735,4.945 57.803,4.8950000000000005 Q 57.87,4.845000000000001 57.87,4.8100000000000005 Q 57.87,4.805 57.824999999999996,4.765000000000001 Q 57.779999999999994,4.725 57.742999999999995,4.667 Q 57.705,4.61 57.705,4.535 Q 57.705,4.365 57.827999999999996,4.275 Q 57.949999999999996,4.1850000000000005 58.169999999999995,4.1850000000000005 Q 58.445,4.1850000000000005 58.583,4.380000000000001 Q 58.72,4.575 58.72,4.890000000000001 Q 58.72,5.18 58.58,5.372 Q 58.44,5.565 58.144999999999996,5.565 Q 58.01,5.565 57.913,5.522 Q 57.815,5.48 57.705,5.4 Q 57.64,5.355 57.598,5.332 Q 57.555,5.3100000000000005 57.515,5.3100000000000005 Q 57.434999999999995,5.3100000000000005 57.434999999999995,5.45 L 57.434999999999995,5.45",
          "type": "path"
         },
         {
          "fillcolor": "white",
          "layer": "below",
          "line": {
           "color": "white"
          },
          "path": "M 61.69,6.7509999999999994 Q 61.3,6.7509999999999994 61.033,6.561 Q 60.765,6.371 60.633,6.056 Q 60.5,5.741 60.5,5.371 Q 60.5,4.996 60.633,4.686 Q 60.765,4.376 61.033,4.188 Q 61.3,4.001 61.69,4.001 Q 62.06,4.001 62.33,4.191 Q 62.6,4.381 62.74,4.696 Q 62.88,5.011 62.88,5.371 Q 62.88,5.731 62.74,6.045999999999999 Q 62.6,6.361000000000001 62.33,6.556 Q 62.06,6.7509999999999994 61.69,6.7509999999999994 M 61.695,6.566 Q 62.03,6.566 62.215,6.256 Q 62.4,5.946 62.4,5.371 Q 62.4,4.796 62.215,4.491 Q 62.03,4.186 61.695,4.186 Q 61.35,4.186 61.165,4.4879999999999995 Q 60.98,4.791 60.98,5.371 Q 60.98,5.9510000000000005 61.165,6.258 Q 61.35,6.566 61.695,6.566",
          "type": "path"
         },
         {
          "fillcolor": "white",
          "layer": "below",
          "line": {
           "color": "white"
          },
          "path": "M 58.19,49.751 Q 57.8,49.751 57.533,49.561 Q 57.265,49.371 57.133,49.056 Q 57.0,48.741 57.0,48.371 Q 57.0,47.996 57.133,47.686 Q 57.265,47.376 57.533,47.188 Q 57.8,47.001 58.19,47.001 Q 58.56,47.001 58.83,47.191 Q 59.1,47.381 59.24,47.696 Q 59.38,48.011 59.38,48.371 Q 59.38,48.731 59.24,49.046 Q 59.1,49.361 58.83,49.556 Q 58.56,49.751 58.19,49.751 M 58.195,49.566 Q 58.53,49.566 58.715,49.256 Q 58.9,48.946 58.9,48.371 Q 58.9,47.796 58.715,47.491 Q 58.53,47.186 58.195,47.186 Q 57.85,47.186 57.665,47.488 Q 57.48,47.791 57.48,48.371 Q 57.48,48.951 57.665,49.258 Q 57.85,49.566 58.195,49.566",
          "type": "path"
         },
         {
          "fillcolor": "white",
          "layer": "below",
          "line": {
           "color": "white"
          },
          "path": "M 62.265,48.25 L 62.26,48.19 L 62.105,47.0 L 60.73,47.0 Q 60.66,47.0 60.617,47.045 Q 60.575,47.09 60.575,47.17 Q 60.575,47.355 60.765,47.355 L 61.875,47.355 L 61.98,48.05 Q 61.76,47.915 61.44,47.915 Q 61.225,47.915 61.007,48.01 Q 60.79,48.105 60.645,48.3 Q 60.5,48.495 60.5,48.785 Q 60.5,49.075 60.642,49.283 Q 60.785,49.49 61.022,49.595 Q 61.26,49.7 61.54,49.7 Q 61.91,49.7 62.155,49.565 Q 62.4,49.43 62.4,49.145 Q 62.4,48.99 62.307,48.873 Q 62.215,48.755 62.06,48.755 Q 61.965,48.755 61.897,48.805 Q 61.83,48.855 61.83,48.89 Q 61.83,48.895 61.875,48.935 Q 61.92,48.975 61.957,49.033 Q 61.995,49.09 61.995,49.165 Q 61.995,49.335 61.872,49.425 Q 61.75,49.515 61.53,49.515 Q 61.255,49.515 61.117,49.32 Q 60.98,49.125 60.98,48.81 Q 60.98,48.52 61.12,48.328 Q 61.26,48.135 61.555,48.135 Q 61.69,48.135 61.787,48.178 Q 61.885,48.22 61.995,48.3 Q 62.06,48.345 62.102,48.368 Q 62.145,48.39 62.185,48.39 Q 62.265,48.39 62.265,48.25 L 62.265,48.25",
          "type": "path"
         },
         {
          "fillcolor": "white",
          "layer": "below",
          "line": {
           "color": "white"
          },
          "path": "M 68.655,4.096 L 68.655,4.861 L 67.46,4.861 Q 67.38,4.861 67.34,4.911 Q 67.3,4.961 67.3,5.036 Q 67.3,5.101 67.335,5.146 L 68.74,6.680999999999999 Q 68.78999999999999,6.731 68.895,6.731 Q 68.975,6.731 69.03,6.689 Q 69.085,6.646 69.09,6.555999999999999 L 69.09,5.106 L 69.39,5.106 Q 69.46,5.106 69.49,5.0889999999999995 Q 69.52,5.071 69.52499999999999,4.986 Q 69.52499999999999,4.931 69.503,4.896 Q 69.48,4.861 69.42999999999999,4.861 L 69.09,4.861 L 69.09,4.096 Q 69.09,4.051 69.02499999999999,4.026 Q 68.96,4.0009999999999994 68.875,4.0009999999999994 Q 68.78999999999999,4.0009999999999994 68.725,4.026 Q 68.66,4.051 68.655,4.096 M 68.655,6.291 L 67.59,5.106 L 68.655,5.106 L 68.655,6.291",
          "type": "path"
         },
         {
          "fillcolor": "white",
          "layer": "below",
          "line": {
           "color": "white"
          },
          "path": "M 71.69,6.7509999999999994 Q 71.3,6.7509999999999994 71.033,6.561 Q 70.765,6.371 70.633,6.056 Q 70.5,5.741 70.5,5.371 Q 70.5,4.996 70.633,4.686 Q 70.765,4.376 71.033,4.188 Q 71.3,4.001 71.69,4.001 Q 72.06,4.001 72.33,4.191 Q 72.6,4.381 72.74,4.696 Q 72.88,5.011 72.88,5.371 Q 72.88,5.731 72.74,6.045999999999999 Q 72.6,6.361000000000001 72.33,6.556 Q 72.06,6.7509999999999994 71.69,6.7509999999999994 M 71.695,6.566 Q 72.03,6.566 72.215,6.256 Q 72.4,5.946 72.4,5.371 Q 72.4,4.796 72.215,4.491 Q 72.03,4.186 71.695,4.186 Q 71.35,4.186 71.165,4.4879999999999995 Q 70.98,4.791 70.98,5.371 Q 70.98,5.9510000000000005 71.165,6.258 Q 71.35,6.566 71.695,6.566",
          "type": "path"
         },
         {
          "fillcolor": "white",
          "layer": "below",
          "line": {
           "color": "white"
          },
          "path": "M 68.19,49.751 Q 67.8,49.751 67.533,49.561 Q 67.265,49.371 67.133,49.056 Q 67.0,48.741 67.0,48.371 Q 67.0,47.996 67.133,47.686 Q 67.265,47.376 67.533,47.188 Q 67.8,47.001 68.19,47.001 Q 68.56,47.001 68.83,47.191 Q 69.1,47.381 69.24,47.696 Q 69.38,48.011 69.38,48.371 Q 69.38,48.731 69.24,49.046 Q 69.1,49.361 68.83,49.556 Q 68.56,49.751 68.19,49.751 M 68.195,49.566 Q 68.53,49.566 68.715,49.256 Q 68.9,48.946 68.9,48.371 Q 68.9,47.796 68.715,47.491 Q 68.53,47.186 68.195,47.186 Q 67.85,47.186 67.665,47.488 Q 67.48,47.791 67.48,48.371 Q 67.48,48.951 67.665,49.258 Q 67.85,49.566 68.195,49.566",
          "type": "path"
         },
         {
          "fillcolor": "white",
          "layer": "below",
          "line": {
           "color": "white"
          },
          "path": "M 71.37,49.636 L 71.37,48.871 L 72.565,48.871 Q 72.645,48.871 72.685,48.821 Q 72.725,48.771 72.725,48.696 Q 72.725,48.631 72.69,48.586 L 71.285,47.051 Q 71.235,47.001 71.13,47.001 Q 71.05,47.001 70.995,47.043 Q 70.94,47.086 70.935,47.176 L 70.935,48.626 L 70.635,48.626 Q 70.565,48.626 70.535,48.643 Q 70.505,48.661 70.5,48.746 Q 70.5,48.801 70.522,48.836 Q 70.545,48.871 70.595,48.871 L 70.935,48.871 L 70.935,49.636 Q 70.935,49.681 71.0,49.706 Q 71.065,49.731 71.15,49.731 Q 71.235,49.731 71.3,49.706 Q 71.365,49.681 71.37,49.636 M 71.37,47.441 L 72.435,48.626 L 71.37,48.626 L 71.37,47.441",
          "type": "path"
         },
         {
          "fillcolor": "white",
          "layer": "below",
          "line": {
           "color": "white"
          },
          "path": "M 78.2,5.336 L 78.015,5.336 Q 77.98,5.336 77.96,5.366 Q 77.94,5.396 77.94,5.436 Q 77.94,5.481 77.96,5.513 Q 77.98,5.546 78.015,5.551 L 78.2,5.551 Q 78.395,5.571 78.51299999999999,5.726 Q 78.63,5.881 78.63,6.101 Q 78.63,6.341 78.49499999999999,6.468 Q 78.36,6.596 78.17999999999999,6.596 Q 78.00999999999999,6.596 77.88799999999999,6.498 Q 77.765,6.401 77.765,6.231 Q 77.765,6.121 77.80799999999999,6.083 Q 77.85,6.046 77.89,6.038 Q 77.92999999999999,6.031000000000001 77.92999999999999,6.026 Q 77.92999999999999,5.991 77.863,5.941 Q 77.795,5.891 77.7,5.891 Q 77.53999999999999,5.891 77.45,5.991 Q 77.36,6.091 77.36,6.246 Q 77.36,6.491 77.59,6.6259999999999994 Q 77.82,6.761 78.185,6.761 Q 78.575,6.761 78.83,6.591 Q 79.085,6.420999999999999 79.085,6.101 Q 79.085,5.891 78.938,5.711 Q 78.78999999999999,5.531 78.515,5.4559999999999995 L 78.515,5.436 Q 78.795,5.406 79.0,5.258 Q 79.205,5.111 79.205,4.791 Q 79.205,4.386 78.91,4.193 Q 78.615,4.001 78.17,4.001 Q 77.80499999999999,4.0009999999999994 77.553,4.143 Q 77.3,4.286 77.3,4.561 Q 77.3,4.7059999999999995 77.39,4.811 Q 77.48,4.916 77.64,4.916 Q 77.735,4.916 77.803,4.866 Q 77.86999999999999,4.816 77.86999999999999,4.781 Q 77.86999999999999,4.776 77.825,4.743 Q 77.78,4.711 77.743,4.656000000000001 Q 77.705,4.601 77.705,4.516 Q 77.705,4.361000000000001 77.838,4.273 Q 77.97,4.186 78.185,4.186 Q 78.72,4.186 78.72,4.781 Q 78.72,5.026 78.59,5.173 Q 78.46,5.321 78.2,5.336",
          "type": "path"
         },
         {
          "fillcolor": "white",
          "layer": "below",
          "line": {
           "color": "white"
          },
          "path": "M 81.69,6.7509999999999994 Q 81.3,6.7509999999999994 81.033,6.561 Q 80.765,6.371 80.633,6.056 Q 80.5,5.741 80.5,5.371 Q 80.5,4.996 80.633,4.686 Q 80.765,4.376 81.033,4.188 Q 81.3,4.001 81.69,4.001 Q 82.06,4.001 82.33,4.191 Q 82.6,4.381 82.74,4.696 Q 82.88,5.011 82.88,5.371 Q 82.88,5.731 82.74,6.045999999999999 Q 82.6,6.361000000000001 82.33,6.556 Q 82.06,6.7509999999999994 81.69,6.7509999999999994 M 81.695,6.566 Q 82.03,6.566 82.215,6.256 Q 82.4,5.946 82.4,5.371 Q 82.4,4.796 82.215,4.491 Q 82.03,4.186 81.695,4.186 Q 81.35,4.186 81.165,4.4879999999999995 Q 80.98,4.791 80.98,5.371 Q 80.98,5.9510000000000005 81.165,6.258 Q 81.35,6.566 81.695,6.566",
          "type": "path"
         },
         {
          "fillcolor": "white",
          "layer": "below",
          "line": {
           "color": "white"
          },
          "path": "M 78.19,49.751 Q 77.8,49.751 77.533,49.561 Q 77.265,49.371 77.133,49.056 Q 77.0,48.741 77.0,48.371 Q 77.0,47.996 77.133,47.686 Q 77.265,47.376 77.533,47.188 Q 77.8,47.001 78.19,47.001 Q 78.56,47.001 78.83,47.191 Q 79.1,47.381 79.24,47.696 Q 79.38,48.011 79.38,48.371 Q 79.38,48.731 79.24,49.046 Q 79.1,49.361 78.83,49.556 Q 78.56,49.751 78.19,49.751 M 78.195,49.566 Q 78.53,49.566 78.715,49.256 Q 78.9,48.946 78.9,48.371 Q 78.9,47.796 78.715,47.491 Q 78.53,47.186 78.195,47.186 Q 77.85,47.186 77.665,47.488 Q 77.48,47.791 77.48,48.371 Q 77.48,48.951 77.665,49.258 Q 77.85,49.566 78.195,49.566",
          "type": "path"
         },
         {
          "fillcolor": "white",
          "layer": "below",
          "line": {
           "color": "white"
          },
          "path": "M 81.505,48.426 L 81.69,48.426 Q 81.725,48.426 81.745,48.396 Q 81.765,48.366 81.765,48.326 Q 81.765,48.281 81.745,48.249 Q 81.725,48.216 81.69,48.211 L 81.505,48.211 Q 81.31,48.191 81.192,48.036 Q 81.075,47.881 81.075,47.661 Q 81.075,47.421 81.21,47.294 Q 81.345,47.166 81.525,47.166 Q 81.695,47.166 81.817,47.264 Q 81.94,47.361 81.94,47.531 Q 81.94,47.641 81.897,47.679 Q 81.855,47.716 81.815,47.724 Q 81.775,47.731 81.775,47.736 Q 81.775,47.771 81.842,47.821 Q 81.91,47.871 82.005,47.871 Q 82.165,47.871 82.255,47.771 Q 82.345,47.671 82.345,47.516 Q 82.345,47.271 82.115,47.136 Q 81.885,47.001 81.52,47.001 Q 81.13,47.001 80.875,47.171 Q 80.62,47.341 80.62,47.661 Q 80.62,47.871 80.767,48.051 Q 80.915,48.231 81.19,48.306 L 81.19,48.326 Q 80.91,48.356 80.705,48.504 Q 80.5,48.651 80.5,48.971000000000004 Q 80.5,49.376 80.795,49.569 Q 81.09,49.761 81.535,49.761 Q 81.9,49.761 82.152,49.619 Q 82.405,49.476 82.405,49.201 Q 82.405,49.056 82.315,48.951 Q 82.225,48.846000000000004 82.065,48.846000000000004 Q 81.97,48.846000000000004 81.902,48.896 Q 81.835,48.946 81.835,48.981 Q 81.835,48.986 81.88,49.019 Q 81.925,49.051 81.962,49.106 Q 82.0,49.161 82.0,49.246 Q 82.0,49.400999999999996 81.867,49.489 Q 81.735,49.576 81.52,49.576 Q 80.985,49.576 80.985,48.981 Q 80.985,48.736 81.115,48.589 Q 81.245,48.441 81.505,48.426",
          "type": "path"
         },
         {
          "fillcolor": "white",
          "layer": "below",
          "line": {
           "color": "white"
          },
          "path": "M 87.747,4.38 L 87.747,4.355 L 89.087,4.355 A 0.449,0.449 180.0 0,0 89.26899999999999,4.327 Q 89.327,4.3 89.327,4.18 Q 89.327,4.0 89.152,4.0 L 87.477,4.0 Q 87.30199999999999,4.0 87.30199999999999,4.18 Q 87.307,4.285 87.359,4.35 Q 87.41199999999999,4.415 87.532,4.495 Q 87.92699999999999,4.76 88.14399999999999,4.932 Q 88.362,5.105 88.53699999999999,5.37 Q 88.712,5.635 88.712,5.965 Q 88.712,6.205 88.584,6.337 Q 88.457,6.47 88.227,6.47 Q 88.032,6.47 87.904,6.372 Q 87.777,6.275 87.777,6.105 Q 87.777,6.02 87.817,5.962 Q 87.857,5.904999999999999 87.899,5.87 Q 87.942,5.835 87.942,5.83 Q 87.942,5.795 87.874,5.745 Q 87.807,5.695 87.712,5.695 Q 87.557,5.695 87.464,5.792 Q 87.372,5.89 87.372,6.04 Q 87.372,6.24 87.50699999999999,6.38 Q 87.642,6.52 87.849,6.585 Q 88.057,6.65 88.27199999999999,6.65 Q 88.64699999999999,6.65 88.919,6.465 Q 89.192,6.279999999999999 89.192,5.9 Q 89.192,5.625 89.042,5.4 Q 88.892,5.175 88.684,5.0169999999999995 Q 88.477,4.859999999999999 88.142,4.645 Q 87.877,4.48 87.747,4.38",
          "type": "path"
         },
         {
          "fillcolor": "white",
          "layer": "below",
          "line": {
           "color": "white"
          },
          "path": "M 91.69,6.7509999999999994 Q 91.3,6.7509999999999994 91.033,6.561 Q 90.765,6.371 90.633,6.056 Q 90.5,5.741 90.5,5.371 Q 90.5,4.996 90.633,4.686 Q 90.765,4.376 91.033,4.188 Q 91.3,4.001 91.69,4.001 Q 92.06,4.001 92.33,4.191 Q 92.6,4.381 92.74,4.696 Q 92.88,5.011 92.88,5.371 Q 92.88,5.731 92.74,6.045999999999999 Q 92.6,6.361000000000001 92.33,6.556 Q 92.06,6.7509999999999994 91.69,6.7509999999999994 M 91.695,6.566 Q 92.03,6.566 92.215,6.256 Q 92.4,5.946 92.4,5.371 Q 92.4,4.796 92.215,4.491 Q 92.03,4.186 91.695,4.186 Q 91.35,4.186 91.165,4.4879999999999995 Q 90.98,4.791 90.98,5.371 Q 90.98,5.9510000000000005 91.165,6.258 Q 91.35,6.566 91.695,6.566",
          "type": "path"
         },
         {
          "fillcolor": "white",
          "layer": "below",
          "line": {
           "color": "white"
          },
          "path": "M 88.19,49.751 Q 87.8,49.751 87.533,49.561 Q 87.265,49.371 87.133,49.056 Q 87.0,48.741 87.0,48.371 Q 87.0,47.996 87.133,47.686 Q 87.265,47.376 87.533,47.188 Q 87.8,47.001 88.19,47.001 Q 88.56,47.001 88.83,47.191 Q 89.1,47.381 89.24,47.696 Q 89.38,48.011 89.38,48.371 Q 89.38,48.731 89.24,49.046 Q 89.1,49.361 88.83,49.556 Q 88.56,49.751 88.19,49.751 M 88.195,49.566 Q 88.53,49.566 88.715,49.256 Q 88.9,48.946 88.9,48.371 Q 88.9,47.796 88.715,47.491 Q 88.53,47.186 88.195,47.186 Q 87.85,47.186 87.665,47.488 Q 87.48,47.791 87.48,48.371 Q 87.48,48.951 87.665,49.258 Q 87.85,49.566 88.195,49.566",
          "type": "path"
         },
         {
          "fillcolor": "white",
          "layer": "below",
          "line": {
           "color": "white"
          },
          "path": "M 92.082,49.27 L 92.082,49.295 L 90.742,49.295 A 0.449,0.449 360.0 0,0 90.56,49.323 Q 90.502,49.35 90.502,49.47 Q 90.502,49.65 90.677,49.65 L 92.352,49.65 Q 92.527,49.65 92.527,49.47 Q 92.522,49.365 92.47,49.3 Q 92.417,49.235 92.297,49.155 Q 91.902,48.89 91.685,48.718 Q 91.467,48.545 91.292,48.28 Q 91.117,48.015 91.117,47.685 Q 91.117,47.445 91.245,47.313 Q 91.372,47.18 91.602,47.18 Q 91.797,47.18 91.925,47.278 Q 92.052,47.375 92.052,47.545 Q 92.052,47.63 92.012,47.688 Q 91.972,47.745 91.93,47.78 Q 91.887,47.815 91.887,47.82 Q 91.887,47.855 91.955,47.905 Q 92.022,47.955 92.117,47.955 Q 92.272,47.955 92.365,47.858 Q 92.457,47.76 92.457,47.61 Q 92.457,47.41 92.322,47.27 Q 92.187,47.13 91.98,47.065 Q 91.772,47.0 91.557,47.0 Q 91.182,47.0 90.91,47.185 Q 90.637,47.37 90.637,47.75 Q 90.637,48.025 90.787,48.25 Q 90.937,48.475 91.145,48.633 Q 91.352,48.79 91.687,49.005 Q 91.952,49.17 92.082,49.27",
          "type": "path"
         },
         {
          "fillcolor": "white",
          "layer": "below",
          "line": {
           "color": "white"
          },
          "path": "M 98.01299999999999,4.68 L 98.01299999999999,5.72 A 3.257,3.257 180.0 0,1 98.014,5.789 A 1.126,1.126 180.0 0,1 97.991,6.057 Q 97.963,6.16 97.893,6.1899999999999995 Q 97.823,6.22 97.663,6.22 L 97.41799999999999,6.22 A 0.095,0.095 180.0 0,0 97.328,6.34 Q 97.333,6.415 97.358,6.432 Q 97.383,6.45 97.42099999999999,6.45 L 97.473,6.45 Q 97.68299999999999,6.45 97.883,6.5169999999999995 Q 98.083,6.585 98.318,6.68 Q 98.348,6.6899999999999995 98.368,6.6899999999999995 Q 98.448,6.6899999999999995 98.448,6.574999999999999 L 98.448,4.68 Q 98.448,4.46 98.50099999999999,4.365 Q 98.553,4.27 98.666,4.245 Q 98.77799999999999,4.22 99.02799999999999,4.22 L 99.078,4.22 Q 99.118,4.22 99.136,4.199999999999999 Q 99.15299999999999,4.18 99.158,4.12 Q 99.158,4.0 99.068,4.0 Q 98.708,4.015000000000001 98.228,4.015000000000001 Q 97.753,4.015000000000001 97.393,4.0 A 0.095,0.095 180.0 0,0 97.303,4.12 Q 97.30799999999999,4.18 97.326,4.199999999999999 Q 97.343,4.22 97.383,4.22 Q 97.663,4.22 97.78099999999999,4.242 Q 97.898,4.265000000000001 97.956,4.359999999999999 Q 98.01299999999999,4.455 98.01299999999999,4.68 L 98.01299999999999,4.68",
          "type": "path"
         },
         {
          "fillcolor": "white",
          "layer": "below",
          "line": {
           "color": "white"
          },
          "path": "M 101.69,6.7509999999999994 Q 101.3,6.7509999999999994 101.033,6.561 Q 100.765,6.371 100.633,6.056 Q 100.5,5.741 100.5,5.371 Q 100.5,4.996 100.633,4.686 Q 100.765,4.376 101.033,4.188 Q 101.3,4.001 101.69,4.001 Q 102.06,4.001 102.33,4.191 Q 102.6,4.381 102.74,4.696 Q 102.88,5.011 102.88,5.371 Q 102.88,5.731 102.74,6.045999999999999 Q 102.6,6.361000000000001 102.33,6.556 Q 102.06,6.7509999999999994 101.69,6.7509999999999994 M 101.695,6.566 Q 102.03,6.566 102.215,6.256 Q 102.4,5.946 102.4,5.371 Q 102.4,4.796 102.215,4.491 Q 102.03,4.186 101.695,4.186 Q 101.35,4.186 101.165,4.4879999999999995 Q 100.98,4.791 100.98,5.371 Q 100.98,5.9510000000000005 101.165,6.258 Q 101.35,6.566 101.695,6.566",
          "type": "path"
         },
         {
          "fillcolor": "white",
          "layer": "below",
          "line": {
           "color": "white"
          },
          "path": "M 98.19,49.751 Q 97.8,49.751 97.533,49.561 Q 97.265,49.371 97.133,49.056 Q 97.0,48.741 97.0,48.371 Q 97.0,47.996 97.133,47.686 Q 97.265,47.376 97.533,47.188 Q 97.8,47.001 98.19,47.001 Q 98.56,47.001 98.83,47.191 Q 99.1,47.381 99.24,47.696 Q 99.38,48.011 99.38,48.371 Q 99.38,48.731 99.24,49.046 Q 99.1,49.361 98.83,49.556 Q 98.56,49.751 98.19,49.751 M 98.195,49.566 Q 98.53,49.566 98.715,49.256 Q 98.9,48.946 98.9,48.371 Q 98.9,47.796 98.715,47.491 Q 98.53,47.186 98.195,47.186 Q 97.85,47.186 97.665,47.488 Q 97.48,47.791 97.48,48.371 Q 97.48,48.951 97.665,49.258 Q 97.85,49.566 98.195,49.566",
          "type": "path"
         },
         {
          "fillcolor": "white",
          "layer": "below",
          "line": {
           "color": "white"
          },
          "path": "M 101.64464761515876,49.01 L 101.64464761515876,47.97 A 3.257,3.257 360.0 0,1 101.64364761515876,47.901 A 1.126,1.126 360.0 0,1 101.66664761515877,47.633 Q 101.69464761515876,47.53 101.76464761515876,47.5 Q 101.83464761515876,47.47 101.99464761515877,47.47 L 102.23964761515876,47.47 A 0.095,0.095 360.0 0,0 102.32964761515876,47.35 Q 102.32464761515877,47.275 102.29964761515876,47.258 Q 102.27464761515876,47.24 102.23664761515876,47.24 L 102.18464761515877,47.24 Q 101.97464761515876,47.24 101.77464761515876,47.173 Q 101.57464761515877,47.105 101.33964761515877,47.01 Q 101.30964761515877,47.0 101.28964761515876,47.0 Q 101.20964761515876,47.0 101.20964761515876,47.115 L 101.20964761515876,49.01 Q 101.20964761515876,49.23 101.15664761515876,49.325 Q 101.10464761515877,49.42 100.99164761515877,49.445 Q 100.87964761515876,49.47 100.62964761515876,49.47 L 100.57964761515876,49.47 Q 100.53964761515876,49.47 100.52164761515876,49.49 Q 100.50464761515876,49.51 100.49964761515876,49.57 Q 100.49964761515876,49.69 100.58964761515877,49.69 Q 100.94964761515877,49.675 101.42964761515876,49.675 Q 101.90464761515877,49.675 102.26464761515876,49.69 A 0.095,0.095 360.0 0,0 102.35464761515877,49.57 Q 102.34964761515876,49.51 102.33164761515876,49.49 Q 102.31464761515876,49.47 102.27464761515876,49.47 Q 101.99464761515877,49.47 101.87664761515876,49.448 Q 101.75964761515877,49.425 101.70164761515876,49.33 Q 101.64464761515876,49.235 101.64464761515876,49.01 L 101.64464761515876,49.01",
          "type": "path"
         },
         {
          "fillcolor": "white",
          "layer": "below",
          "line": {
           "color": "white"
          },
          "path": "M 16.8 5.2 L 16.3 5.45 L 16.8 5.7 L 16.8 5.2 Z",
          "type": "path"
         },
         {
          "fillcolor": "white",
          "layer": "below",
          "line": {
           "color": "white"
          },
          "path": "M 103.6 5.2 L 104.1 5.45 L 103.6 5.7 L 103.6 5.2 Z",
          "type": "path"
         },
         {
          "fillcolor": "white",
          "layer": "below",
          "line": {
           "color": "white"
          },
          "path": "M 16.4 48.5 L 15.9 48.25 L 16.4 48.0 L 16.4 48.5 Z",
          "type": "path"
         },
         {
          "fillcolor": "white",
          "layer": "below",
          "line": {
           "color": "white"
          },
          "path": "M 103.2 48.5 L 103.7 48.25 L 103.2 48.0 L 103.2 48.5 Z",
          "type": "path"
         },
         {
          "fillcolor": "white",
          "layer": "below",
          "line": {
           "color": "white"
          },
          "path": "M 26.8 5.2 L 26.3 5.45 L 26.8 5.7 L 26.8 5.2 Z",
          "type": "path"
         },
         {
          "fillcolor": "white",
          "layer": "below",
          "line": {
           "color": "white"
          },
          "path": "M 93.6 5.2 L 94.1 5.45 L 93.6 5.7 L 93.6 5.2 Z",
          "type": "path"
         },
         {
          "fillcolor": "white",
          "layer": "below",
          "line": {
           "color": "white"
          },
          "path": "M 26.4 48.5 L 25.9 48.25 L 26.4 48.0 L 26.4 48.5 Z",
          "type": "path"
         },
         {
          "fillcolor": "white",
          "layer": "below",
          "line": {
           "color": "white"
          },
          "path": "M 93.2 48.5 L 93.7 48.25 L 93.2 48.0 L 93.2 48.5 Z",
          "type": "path"
         },
         {
          "fillcolor": "white",
          "layer": "below",
          "line": {
           "color": "white"
          },
          "path": "M 36.8 5.2 L 36.3 5.45 L 36.8 5.7 L 36.8 5.2 Z",
          "type": "path"
         },
         {
          "fillcolor": "white",
          "layer": "below",
          "line": {
           "color": "white"
          },
          "path": "M 83.6 5.2 L 84.1 5.45 L 83.6 5.7 L 83.6 5.2 Z",
          "type": "path"
         },
         {
          "fillcolor": "white",
          "layer": "below",
          "line": {
           "color": "white"
          },
          "path": "M 36.4 48.5 L 35.9 48.25 L 36.4 48.0 L 36.4 48.5 Z",
          "type": "path"
         },
         {
          "fillcolor": "white",
          "layer": "below",
          "line": {
           "color": "white"
          },
          "path": "M 83.2 48.5 L 83.7 48.25 L 83.2 48.0 L 83.2 48.5 Z",
          "type": "path"
         },
         {
          "fillcolor": "white",
          "layer": "below",
          "line": {
           "color": "white"
          },
          "path": "M 46.8 5.2 L 46.3 5.45 L 46.8 5.7 L 46.8 5.2 Z",
          "type": "path"
         },
         {
          "fillcolor": "white",
          "layer": "below",
          "line": {
           "color": "white"
          },
          "path": "M 73.6 5.2 L 74.1 5.45 L 73.6 5.7 L 73.6 5.2 Z",
          "type": "path"
         },
         {
          "fillcolor": "white",
          "layer": "below",
          "line": {
           "color": "white"
          },
          "path": "M 46.4 48.5 L 45.9 48.25 L 46.4 48.0 L 46.4 48.5 Z",
          "type": "path"
         },
         {
          "fillcolor": "white",
          "layer": "below",
          "line": {
           "color": "white"
          },
          "path": "M 73.2 48.5 L 73.7 48.25 L 73.2 48.0 L 73.2 48.5 Z",
          "type": "path"
         }
        ],
        "sliders": [
         {
          "len": 0.98,
          "pad": {
           "b": 10,
           "t": 5
          },
          "steps": [
           {
            "args": [
             [
              "1"
             ],
             {
              "frame": {
               "duration": 100,
               "redraw": false
              },
              "fromcurrent": true,
              "mode": "immediate",
              "transition": {
               "duration": 100
              }
             }
            ],
            "label": "0.00 s",
            "method": "animate"
           },
           {
            "args": [
             [
              "2"
             ],
             {
              "frame": {
               "duration": 100,
               "redraw": false
              },
              "fromcurrent": true,
              "mode": "immediate",
              "transition": {
               "duration": 100
              }
             }
            ],
            "label": "0.10 s",
            "method": "animate"
           },
           {
            "args": [
             [
              "3"
             ],
             {
              "frame": {
               "duration": 100,
               "redraw": false
              },
              "fromcurrent": true,
              "mode": "immediate",
              "transition": {
               "duration": 100
              }
             }
            ],
            "label": "0.20 s",
            "method": "animate"
           },
           {
            "args": [
             [
              "4"
             ],
             {
              "frame": {
               "duration": 100,
               "redraw": false
              },
              "fromcurrent": true,
              "mode": "immediate",
              "transition": {
               "duration": 100
              }
             }
            ],
            "label": "0.30 s",
            "method": "animate"
           },
           {
            "args": [
             [
              "5"
             ],
             {
              "frame": {
               "duration": 100,
               "redraw": false
              },
              "fromcurrent": true,
              "mode": "immediate",
              "transition": {
               "duration": 100
              }
             }
            ],
            "label": "0.40 s",
            "method": "animate"
           },
           {
            "args": [
             [
              "6"
             ],
             {
              "frame": {
               "duration": 100,
               "redraw": false
              },
              "fromcurrent": true,
              "mode": "immediate",
              "transition": {
               "duration": 100
              }
             }
            ],
            "label": "0.50 s",
            "method": "animate"
           },
           {
            "args": [
             [
              "7"
             ],
             {
              "frame": {
               "duration": 100,
               "redraw": false
              },
              "fromcurrent": true,
              "mode": "immediate",
              "transition": {
               "duration": 100
              }
             }
            ],
            "label": "0.60 s",
            "method": "animate"
           },
           {
            "args": [
             [
              "8"
             ],
             {
              "frame": {
               "duration": 100,
               "redraw": false
              },
              "fromcurrent": true,
              "mode": "immediate",
              "transition": {
               "duration": 100
              }
             }
            ],
            "label": "0.70 s",
            "method": "animate"
           },
           {
            "args": [
             [
              "9"
             ],
             {
              "frame": {
               "duration": 100,
               "redraw": false
              },
              "fromcurrent": true,
              "mode": "immediate",
              "transition": {
               "duration": 100
              }
             }
            ],
            "label": "0.80 s",
            "method": "animate"
           },
           {
            "args": [
             [
              "10"
             ],
             {
              "frame": {
               "duration": 100,
               "redraw": false
              },
              "fromcurrent": true,
              "mode": "immediate",
              "transition": {
               "duration": 100
              }
             }
            ],
            "label": "0.90 s",
            "method": "animate"
           },
           {
            "args": [
             [
              "11"
             ],
             {
              "frame": {
               "duration": 100,
               "redraw": false
              },
              "fromcurrent": true,
              "mode": "immediate",
              "transition": {
               "duration": 100
              }
             }
            ],
            "label": "1.00 s",
            "method": "animate"
           },
           {
            "args": [
             [
              "12"
             ],
             {
              "frame": {
               "duration": 100,
               "redraw": false
              },
              "fromcurrent": true,
              "mode": "immediate",
              "transition": {
               "duration": 100
              }
             }
            ],
            "label": "1.10 s",
            "method": "animate"
           },
           {
            "args": [
             [
              "13"
             ],
             {
              "frame": {
               "duration": 100,
               "redraw": false
              },
              "fromcurrent": true,
              "mode": "immediate",
              "transition": {
               "duration": 100
              }
             }
            ],
            "label": "1.20 s",
            "method": "animate"
           },
           {
            "args": [
             [
              "14"
             ],
             {
              "frame": {
               "duration": 100,
               "redraw": false
              },
              "fromcurrent": true,
              "mode": "immediate",
              "transition": {
               "duration": 100
              }
             }
            ],
            "label": "1.30 s",
            "method": "animate"
           },
           {
            "args": [
             [
              "15"
             ],
             {
              "frame": {
               "duration": 100,
               "redraw": false
              },
              "fromcurrent": true,
              "mode": "immediate",
              "transition": {
               "duration": 100
              }
             }
            ],
            "label": "1.40 s",
            "method": "animate"
           },
           {
            "args": [
             [
              "16"
             ],
             {
              "frame": {
               "duration": 100,
               "redraw": false
              },
              "fromcurrent": true,
              "mode": "immediate",
              "transition": {
               "duration": 100
              }
             }
            ],
            "label": "1.50 s",
            "method": "animate"
           },
           {
            "args": [
             [
              "17"
             ],
             {
              "frame": {
               "duration": 100,
               "redraw": false
              },
              "fromcurrent": true,
              "mode": "immediate",
              "transition": {
               "duration": 100
              }
             }
            ],
            "label": "1.60 s",
            "method": "animate"
           },
           {
            "args": [
             [
              "18"
             ],
             {
              "frame": {
               "duration": 100,
               "redraw": false
              },
              "fromcurrent": true,
              "mode": "immediate",
              "transition": {
               "duration": 100
              }
             }
            ],
            "label": "1.70 s",
            "method": "animate"
           },
           {
            "args": [
             [
              "19"
             ],
             {
              "frame": {
               "duration": 100,
               "redraw": false
              },
              "fromcurrent": true,
              "mode": "immediate",
              "transition": {
               "duration": 100
              }
             }
            ],
            "label": "1.80 s",
            "method": "animate"
           },
           {
            "args": [
             [
              "20"
             ],
             {
              "frame": {
               "duration": 100,
               "redraw": false
              },
              "fromcurrent": true,
              "mode": "immediate",
              "transition": {
               "duration": 100
              }
             }
            ],
            "label": "1.90 s",
            "method": "animate"
           },
           {
            "args": [
             [
              "21"
             ],
             {
              "frame": {
               "duration": 100,
               "redraw": false
              },
              "fromcurrent": true,
              "mode": "immediate",
              "transition": {
               "duration": 100
              }
             }
            ],
            "label": "2.00 s",
            "method": "animate"
           },
           {
            "args": [
             [
              "22"
             ],
             {
              "frame": {
               "duration": 100,
               "redraw": false
              },
              "fromcurrent": true,
              "mode": "immediate",
              "transition": {
               "duration": 100
              }
             }
            ],
            "label": "2.10 s",
            "method": "animate"
           },
           {
            "args": [
             [
              "23"
             ],
             {
              "frame": {
               "duration": 100,
               "redraw": false
              },
              "fromcurrent": true,
              "mode": "immediate",
              "transition": {
               "duration": 100
              }
             }
            ],
            "label": "2.20 s",
            "method": "animate"
           },
           {
            "args": [
             [
              "24"
             ],
             {
              "frame": {
               "duration": 100,
               "redraw": false
              },
              "fromcurrent": true,
              "mode": "immediate",
              "transition": {
               "duration": 100
              }
             }
            ],
            "label": "2.30 s",
            "method": "animate"
           },
           {
            "args": [
             [
              "25"
             ],
             {
              "frame": {
               "duration": 100,
               "redraw": false
              },
              "fromcurrent": true,
              "mode": "immediate",
              "transition": {
               "duration": 100
              }
             }
            ],
            "label": "2.40 s",
            "method": "animate"
           },
           {
            "args": [
             [
              "26"
             ],
             {
              "frame": {
               "duration": 100,
               "redraw": false
              },
              "fromcurrent": true,
              "mode": "immediate",
              "transition": {
               "duration": 100
              }
             }
            ],
            "label": "2.50 s",
            "method": "animate"
           },
           {
            "args": [
             [
              "27"
             ],
             {
              "frame": {
               "duration": 100,
               "redraw": false
              },
              "fromcurrent": true,
              "mode": "immediate",
              "transition": {
               "duration": 100
              }
             }
            ],
            "label": "2.60 s",
            "method": "animate"
           },
           {
            "args": [
             [
              "28"
             ],
             {
              "frame": {
               "duration": 100,
               "redraw": false
              },
              "fromcurrent": true,
              "mode": "immediate",
              "transition": {
               "duration": 100
              }
             }
            ],
            "label": "2.70 s",
            "method": "animate"
           },
           {
            "args": [
             [
              "29"
             ],
             {
              "frame": {
               "duration": 100,
               "redraw": false
              },
              "fromcurrent": true,
              "mode": "immediate",
              "transition": {
               "duration": 100
              }
             }
            ],
            "label": "2.80 s",
            "method": "animate"
           },
           {
            "args": [
             [
              "30"
             ],
             {
              "frame": {
               "duration": 100,
               "redraw": false
              },
              "fromcurrent": true,
              "mode": "immediate",
              "transition": {
               "duration": 100
              }
             }
            ],
            "label": "2.90 s",
            "method": "animate"
           },
           {
            "args": [
             [
              "31"
             ],
             {
              "frame": {
               "duration": 100,
               "redraw": false
              },
              "fromcurrent": true,
              "mode": "immediate",
              "transition": {
               "duration": 100
              }
             }
            ],
            "label": "3.00 s",
            "method": "animate"
           },
           {
            "args": [
             [
              "32"
             ],
             {
              "frame": {
               "duration": 100,
               "redraw": false
              },
              "fromcurrent": true,
              "mode": "immediate",
              "transition": {
               "duration": 100
              }
             }
            ],
            "label": "3.10 s",
            "method": "animate"
           },
           {
            "args": [
             [
              "33"
             ],
             {
              "frame": {
               "duration": 100,
               "redraw": false
              },
              "fromcurrent": true,
              "mode": "immediate",
              "transition": {
               "duration": 100
              }
             }
            ],
            "label": "3.20 s",
            "method": "animate"
           },
           {
            "args": [
             [
              "34"
             ],
             {
              "frame": {
               "duration": 100,
               "redraw": false
              },
              "fromcurrent": true,
              "mode": "immediate",
              "transition": {
               "duration": 100
              }
             }
            ],
            "label": "3.30 s",
            "method": "animate"
           },
           {
            "args": [
             [
              "35"
             ],
             {
              "frame": {
               "duration": 100,
               "redraw": false
              },
              "fromcurrent": true,
              "mode": "immediate",
              "transition": {
               "duration": 100
              }
             }
            ],
            "label": "3.40 s",
            "method": "animate"
           },
           {
            "args": [
             [
              "36"
             ],
             {
              "frame": {
               "duration": 100,
               "redraw": false
              },
              "fromcurrent": true,
              "mode": "immediate",
              "transition": {
               "duration": 100
              }
             }
            ],
            "label": "3.50 s",
            "method": "animate"
           },
           {
            "args": [
             [
              "37"
             ],
             {
              "frame": {
               "duration": 100,
               "redraw": false
              },
              "fromcurrent": true,
              "mode": "immediate",
              "transition": {
               "duration": 100
              }
             }
            ],
            "label": "3.60 s",
            "method": "animate"
           },
           {
            "args": [
             [
              "38"
             ],
             {
              "frame": {
               "duration": 100,
               "redraw": false
              },
              "fromcurrent": true,
              "mode": "immediate",
              "transition": {
               "duration": 100
              }
             }
            ],
            "label": "3.70 s",
            "method": "animate"
           },
           {
            "args": [
             [
              "39"
             ],
             {
              "frame": {
               "duration": 100,
               "redraw": false
              },
              "fromcurrent": true,
              "mode": "immediate",
              "transition": {
               "duration": 100
              }
             }
            ],
            "label": "3.80 s",
            "method": "animate"
           },
           {
            "args": [
             [
              "40"
             ],
             {
              "frame": {
               "duration": 100,
               "redraw": false
              },
              "fromcurrent": true,
              "mode": "immediate",
              "transition": {
               "duration": 100
              }
             }
            ],
            "label": "3.90 s",
            "method": "animate"
           },
           {
            "args": [
             [
              "41"
             ],
             {
              "frame": {
               "duration": 100,
               "redraw": false
              },
              "fromcurrent": true,
              "mode": "immediate",
              "transition": {
               "duration": 100
              }
             }
            ],
            "label": "4.00 s",
            "method": "animate"
           },
           {
            "args": [
             [
              "42"
             ],
             {
              "frame": {
               "duration": 100,
               "redraw": false
              },
              "fromcurrent": true,
              "mode": "immediate",
              "transition": {
               "duration": 100
              }
             }
            ],
            "label": "4.10 s",
            "method": "animate"
           },
           {
            "args": [
             [
              "43"
             ],
             {
              "frame": {
               "duration": 100,
               "redraw": false
              },
              "fromcurrent": true,
              "mode": "immediate",
              "transition": {
               "duration": 100
              }
             }
            ],
            "label": "4.20 s",
            "method": "animate"
           },
           {
            "args": [
             [
              "44"
             ],
             {
              "frame": {
               "duration": 100,
               "redraw": false
              },
              "fromcurrent": true,
              "mode": "immediate",
              "transition": {
               "duration": 100
              }
             }
            ],
            "label": "4.30 s",
            "method": "animate"
           },
           {
            "args": [
             [
              "45"
             ],
             {
              "frame": {
               "duration": 100,
               "redraw": false
              },
              "fromcurrent": true,
              "mode": "immediate",
              "transition": {
               "duration": 100
              }
             }
            ],
            "label": "4.40 s",
            "method": "animate"
           },
           {
            "args": [
             [
              "46"
             ],
             {
              "frame": {
               "duration": 100,
               "redraw": false
              },
              "fromcurrent": true,
              "mode": "immediate",
              "transition": {
               "duration": 100
              }
             }
            ],
            "label": "4.50 s",
            "method": "animate"
           },
           {
            "args": [
             [
              "47"
             ],
             {
              "frame": {
               "duration": 100,
               "redraw": false
              },
              "fromcurrent": true,
              "mode": "immediate",
              "transition": {
               "duration": 100
              }
             }
            ],
            "label": "4.60 s",
            "method": "animate"
           },
           {
            "args": [
             [
              "48"
             ],
             {
              "frame": {
               "duration": 100,
               "redraw": false
              },
              "fromcurrent": true,
              "mode": "immediate",
              "transition": {
               "duration": 100
              }
             }
            ],
            "label": "4.70 s",
            "method": "animate"
           },
           {
            "args": [
             [
              "49"
             ],
             {
              "frame": {
               "duration": 100,
               "redraw": false
              },
              "fromcurrent": true,
              "mode": "immediate",
              "transition": {
               "duration": 100
              }
             }
            ],
            "label": "4.80 s",
            "method": "animate"
           },
           {
            "args": [
             [
              "50"
             ],
             {
              "frame": {
               "duration": 100,
               "redraw": false
              },
              "fromcurrent": true,
              "mode": "immediate",
              "transition": {
               "duration": 100
              }
             }
            ],
            "label": "4.90 s",
            "method": "animate"
           },
           {
            "args": [
             [
              "51"
             ],
             {
              "frame": {
               "duration": 100,
               "redraw": false
              },
              "fromcurrent": true,
              "mode": "immediate",
              "transition": {
               "duration": 100
              }
             }
            ],
            "label": "5.00 s",
            "method": "animate"
           },
           {
            "args": [
             [
              "52"
             ],
             {
              "frame": {
               "duration": 100,
               "redraw": false
              },
              "fromcurrent": true,
              "mode": "immediate",
              "transition": {
               "duration": 100
              }
             }
            ],
            "label": "5.10 s",
            "method": "animate"
           },
           {
            "args": [
             [
              "53"
             ],
             {
              "frame": {
               "duration": 100,
               "redraw": false
              },
              "fromcurrent": true,
              "mode": "immediate",
              "transition": {
               "duration": 100
              }
             }
            ],
            "label": "5.20 s",
            "method": "animate"
           },
           {
            "args": [
             [
              "54"
             ],
             {
              "frame": {
               "duration": 100,
               "redraw": false
              },
              "fromcurrent": true,
              "mode": "immediate",
              "transition": {
               "duration": 100
              }
             }
            ],
            "label": "5.30 s",
            "method": "animate"
           },
           {
            "args": [
             [
              "55"
             ],
             {
              "frame": {
               "duration": 100,
               "redraw": false
              },
              "fromcurrent": true,
              "mode": "immediate",
              "transition": {
               "duration": 100
              }
             }
            ],
            "label": "5.40 s",
            "method": "animate"
           },
           {
            "args": [
             [
              "56"
             ],
             {
              "frame": {
               "duration": 100,
               "redraw": false
              },
              "fromcurrent": true,
              "mode": "immediate",
              "transition": {
               "duration": 100
              }
             }
            ],
            "label": "5.50 s",
            "method": "animate"
           },
           {
            "args": [
             [
              "57"
             ],
             {
              "frame": {
               "duration": 100,
               "redraw": false
              },
              "fromcurrent": true,
              "mode": "immediate",
              "transition": {
               "duration": 100
              }
             }
            ],
            "label": "5.60 s",
            "method": "animate"
           },
           {
            "args": [
             [
              "58"
             ],
             {
              "frame": {
               "duration": 100,
               "redraw": false
              },
              "fromcurrent": true,
              "mode": "immediate",
              "transition": {
               "duration": 100
              }
             }
            ],
            "label": "5.70 s",
            "method": "animate"
           },
           {
            "args": [
             [
              "59"
             ],
             {
              "frame": {
               "duration": 100,
               "redraw": false
              },
              "fromcurrent": true,
              "mode": "immediate",
              "transition": {
               "duration": 100
              }
             }
            ],
            "label": "5.80 s",
            "method": "animate"
           },
           {
            "args": [
             [
              "60"
             ],
             {
              "frame": {
               "duration": 100,
               "redraw": false
              },
              "fromcurrent": true,
              "mode": "immediate",
              "transition": {
               "duration": 100
              }
             }
            ],
            "label": "5.90 s",
            "method": "animate"
           },
           {
            "args": [
             [
              "61"
             ],
             {
              "frame": {
               "duration": 100,
               "redraw": false
              },
              "fromcurrent": true,
              "mode": "immediate",
              "transition": {
               "duration": 100
              }
             }
            ],
            "label": "6.00 s",
            "method": "animate"
           },
           {
            "args": [
             [
              "62"
             ],
             {
              "frame": {
               "duration": 100,
               "redraw": false
              },
              "fromcurrent": true,
              "mode": "immediate",
              "transition": {
               "duration": 100
              }
             }
            ],
            "label": "6.10 s",
            "method": "animate"
           },
           {
            "args": [
             [
              "63"
             ],
             {
              "frame": {
               "duration": 100,
               "redraw": false
              },
              "fromcurrent": true,
              "mode": "immediate",
              "transition": {
               "duration": 100
              }
             }
            ],
            "label": "6.20 s",
            "method": "animate"
           },
           {
            "args": [
             [
              "64"
             ],
             {
              "frame": {
               "duration": 100,
               "redraw": false
              },
              "fromcurrent": true,
              "mode": "immediate",
              "transition": {
               "duration": 100
              }
             }
            ],
            "label": "6.30 s",
            "method": "animate"
           },
           {
            "args": [
             [
              "65"
             ],
             {
              "frame": {
               "duration": 100,
               "redraw": false
              },
              "fromcurrent": true,
              "mode": "immediate",
              "transition": {
               "duration": 100
              }
             }
            ],
            "label": "6.40 s",
            "method": "animate"
           },
           {
            "args": [
             [
              "66"
             ],
             {
              "frame": {
               "duration": 100,
               "redraw": false
              },
              "fromcurrent": true,
              "mode": "immediate",
              "transition": {
               "duration": 100
              }
             }
            ],
            "label": "6.50 s",
            "method": "animate"
           },
           {
            "args": [
             [
              "67"
             ],
             {
              "frame": {
               "duration": 100,
               "redraw": false
              },
              "fromcurrent": true,
              "mode": "immediate",
              "transition": {
               "duration": 100
              }
             }
            ],
            "label": "6.60 s",
            "method": "animate"
           },
           {
            "args": [
             [
              "68"
             ],
             {
              "frame": {
               "duration": 100,
               "redraw": false
              },
              "fromcurrent": true,
              "mode": "immediate",
              "transition": {
               "duration": 100
              }
             }
            ],
            "label": "6.70 s",
            "method": "animate"
           },
           {
            "args": [
             [
              "69"
             ],
             {
              "frame": {
               "duration": 100,
               "redraw": false
              },
              "fromcurrent": true,
              "mode": "immediate",
              "transition": {
               "duration": 100
              }
             }
            ],
            "label": "6.80 s",
            "method": "animate"
           },
           {
            "args": [
             [
              "70"
             ],
             {
              "frame": {
               "duration": 100,
               "redraw": false
              },
              "fromcurrent": true,
              "mode": "immediate",
              "transition": {
               "duration": 100
              }
             }
            ],
            "label": "6.90 s",
            "method": "animate"
           },
           {
            "args": [
             [
              "71"
             ],
             {
              "frame": {
               "duration": 100,
               "redraw": false
              },
              "fromcurrent": true,
              "mode": "immediate",
              "transition": {
               "duration": 100
              }
             }
            ],
            "label": "7.00 s",
            "method": "animate"
           },
           {
            "args": [
             [
              "72"
             ],
             {
              "frame": {
               "duration": 100,
               "redraw": false
              },
              "fromcurrent": true,
              "mode": "immediate",
              "transition": {
               "duration": 100
              }
             }
            ],
            "label": "7.10 s",
            "method": "animate"
           },
           {
            "args": [
             [
              "73"
             ],
             {
              "frame": {
               "duration": 100,
               "redraw": false
              },
              "fromcurrent": true,
              "mode": "immediate",
              "transition": {
               "duration": 100
              }
             }
            ],
            "label": "7.20 s",
            "method": "animate"
           },
           {
            "args": [
             [
              "74"
             ],
             {
              "frame": {
               "duration": 100,
               "redraw": false
              },
              "fromcurrent": true,
              "mode": "immediate",
              "transition": {
               "duration": 100
              }
             }
            ],
            "label": "7.30 s",
            "method": "animate"
           },
           {
            "args": [
             [
              "75"
             ],
             {
              "frame": {
               "duration": 100,
               "redraw": false
              },
              "fromcurrent": true,
              "mode": "immediate",
              "transition": {
               "duration": 100
              }
             }
            ],
            "label": "7.40 s",
            "method": "animate"
           },
           {
            "args": [
             [
              "76"
             ],
             {
              "frame": {
               "duration": 100,
               "redraw": false
              },
              "fromcurrent": true,
              "mode": "immediate",
              "transition": {
               "duration": 100
              }
             }
            ],
            "label": "7.50 s",
            "method": "animate"
           },
           {
            "args": [
             [
              "77"
             ],
             {
              "frame": {
               "duration": 100,
               "redraw": false
              },
              "fromcurrent": true,
              "mode": "immediate",
              "transition": {
               "duration": 100
              }
             }
            ],
            "label": "7.60 s",
            "method": "animate"
           },
           {
            "args": [
             [
              "78"
             ],
             {
              "frame": {
               "duration": 100,
               "redraw": false
              },
              "fromcurrent": true,
              "mode": "immediate",
              "transition": {
               "duration": 100
              }
             }
            ],
            "label": "7.70 s",
            "method": "animate"
           },
           {
            "args": [
             [
              "79"
             ],
             {
              "frame": {
               "duration": 100,
               "redraw": false
              },
              "fromcurrent": true,
              "mode": "immediate",
              "transition": {
               "duration": 100
              }
             }
            ],
            "label": "7.80 s",
            "method": "animate"
           },
           {
            "args": [
             [
              "80"
             ],
             {
              "frame": {
               "duration": 100,
               "redraw": false
              },
              "fromcurrent": true,
              "mode": "immediate",
              "transition": {
               "duration": 100
              }
             }
            ],
            "label": "7.90 s",
            "method": "animate"
           },
           {
            "args": [
             [
              "81"
             ],
             {
              "frame": {
               "duration": 100,
               "redraw": false
              },
              "fromcurrent": true,
              "mode": "immediate",
              "transition": {
               "duration": 100
              }
             }
            ],
            "label": "8.00 s",
            "method": "animate"
           },
           {
            "args": [
             [
              "82"
             ],
             {
              "frame": {
               "duration": 100,
               "redraw": false
              },
              "fromcurrent": true,
              "mode": "immediate",
              "transition": {
               "duration": 100
              }
             }
            ],
            "label": "8.10 s",
            "method": "animate"
           },
           {
            "args": [
             [
              "83"
             ],
             {
              "frame": {
               "duration": 100,
               "redraw": false
              },
              "fromcurrent": true,
              "mode": "immediate",
              "transition": {
               "duration": 100
              }
             }
            ],
            "label": "8.20 s",
            "method": "animate"
           },
           {
            "args": [
             [
              "84"
             ],
             {
              "frame": {
               "duration": 100,
               "redraw": false
              },
              "fromcurrent": true,
              "mode": "immediate",
              "transition": {
               "duration": 100
              }
             }
            ],
            "label": "8.30 s",
            "method": "animate"
           },
           {
            "args": [
             [
              "85"
             ],
             {
              "frame": {
               "duration": 100,
               "redraw": false
              },
              "fromcurrent": true,
              "mode": "immediate",
              "transition": {
               "duration": 100
              }
             }
            ],
            "label": "8.40 s",
            "method": "animate"
           },
           {
            "args": [
             [
              "86"
             ],
             {
              "frame": {
               "duration": 100,
               "redraw": false
              },
              "fromcurrent": true,
              "mode": "immediate",
              "transition": {
               "duration": 100
              }
             }
            ],
            "label": "8.50 s",
            "method": "animate"
           },
           {
            "args": [
             [
              "87"
             ],
             {
              "frame": {
               "duration": 100,
               "redraw": false
              },
              "fromcurrent": true,
              "mode": "immediate",
              "transition": {
               "duration": 100
              }
             }
            ],
            "label": "8.60 s",
            "method": "animate"
           },
           {
            "args": [
             [
              "88"
             ],
             {
              "frame": {
               "duration": 100,
               "redraw": false
              },
              "fromcurrent": true,
              "mode": "immediate",
              "transition": {
               "duration": 100
              }
             }
            ],
            "label": "8.70 s",
            "method": "animate"
           },
           {
            "args": [
             [
              "89"
             ],
             {
              "frame": {
               "duration": 100,
               "redraw": false
              },
              "fromcurrent": true,
              "mode": "immediate",
              "transition": {
               "duration": 100
              }
             }
            ],
            "label": "8.80 s",
            "method": "animate"
           },
           {
            "args": [
             [
              "90"
             ],
             {
              "frame": {
               "duration": 100,
               "redraw": false
              },
              "fromcurrent": true,
              "mode": "immediate",
              "transition": {
               "duration": 100
              }
             }
            ],
            "label": "8.90 s",
            "method": "animate"
           },
           {
            "args": [
             [
              "91"
             ],
             {
              "frame": {
               "duration": 100,
               "redraw": false
              },
              "fromcurrent": true,
              "mode": "immediate",
              "transition": {
               "duration": 100
              }
             }
            ],
            "label": "9.00 s",
            "method": "animate"
           },
           {
            "args": [
             [
              "92"
             ],
             {
              "frame": {
               "duration": 100,
               "redraw": false
              },
              "fromcurrent": true,
              "mode": "immediate",
              "transition": {
               "duration": 100
              }
             }
            ],
            "label": "9.10 s",
            "method": "animate"
           },
           {
            "args": [
             [
              "93"
             ],
             {
              "frame": {
               "duration": 100,
               "redraw": false
              },
              "fromcurrent": true,
              "mode": "immediate",
              "transition": {
               "duration": 100
              }
             }
            ],
            "label": "9.20 s",
            "method": "animate"
           },
           {
            "args": [
             [
              "94"
             ],
             {
              "frame": {
               "duration": 100,
               "redraw": false
              },
              "fromcurrent": true,
              "mode": "immediate",
              "transition": {
               "duration": 100
              }
             }
            ],
            "label": "9.30 s",
            "method": "animate"
           },
           {
            "args": [
             [
              "95"
             ],
             {
              "frame": {
               "duration": 100,
               "redraw": false
              },
              "fromcurrent": true,
              "mode": "immediate",
              "transition": {
               "duration": 100
              }
             }
            ],
            "label": "9.40 s",
            "method": "animate"
           },
           {
            "args": [
             [
              "96"
             ],
             {
              "frame": {
               "duration": 100,
               "redraw": false
              },
              "fromcurrent": true,
              "mode": "immediate",
              "transition": {
               "duration": 100
              }
             }
            ],
            "label": "9.50 s",
            "method": "animate"
           },
           {
            "args": [
             [
              "97"
             ],
             {
              "frame": {
               "duration": 100,
               "redraw": false
              },
              "fromcurrent": true,
              "mode": "immediate",
              "transition": {
               "duration": 100
              }
             }
            ],
            "label": "9.60 s",
            "method": "animate"
           },
           {
            "args": [
             [
              "98"
             ],
             {
              "frame": {
               "duration": 100,
               "redraw": false
              },
              "fromcurrent": true,
              "mode": "immediate",
              "transition": {
               "duration": 100
              }
             }
            ],
            "label": "9.70 s",
            "method": "animate"
           },
           {
            "args": [
             [
              "99"
             ],
             {
              "frame": {
               "duration": 100,
               "redraw": false
              },
              "fromcurrent": true,
              "mode": "immediate",
              "transition": {
               "duration": 100
              }
             }
            ],
            "label": "9.80 s",
            "method": "animate"
           },
           {
            "args": [
             [
              "100"
             ],
             {
              "frame": {
               "duration": 100,
               "redraw": false
              },
              "fromcurrent": true,
              "mode": "immediate",
              "transition": {
               "duration": 100
              }
             }
            ],
            "label": "9.90 s",
            "method": "animate"
           },
           {
            "args": [
             [
              "101"
             ],
             {
              "frame": {
               "duration": 100,
               "redraw": false
              },
              "fromcurrent": true,
              "mode": "immediate",
              "transition": {
               "duration": 100
              }
             }
            ],
            "label": "10.00 s",
            "method": "animate"
           },
           {
            "args": [
             [
              "102"
             ],
             {
              "frame": {
               "duration": 100,
               "redraw": false
              },
              "fromcurrent": true,
              "mode": "immediate",
              "transition": {
               "duration": 100
              }
             }
            ],
            "label": "10.10 s",
            "method": "animate"
           },
           {
            "args": [
             [
              "103"
             ],
             {
              "frame": {
               "duration": 100,
               "redraw": false
              },
              "fromcurrent": true,
              "mode": "immediate",
              "transition": {
               "duration": 100
              }
             }
            ],
            "label": "10.20 s",
            "method": "animate"
           },
           {
            "args": [
             [
              "104"
             ],
             {
              "frame": {
               "duration": 100,
               "redraw": false
              },
              "fromcurrent": true,
              "mode": "immediate",
              "transition": {
               "duration": 100
              }
             }
            ],
            "label": "10.30 s",
            "method": "animate"
           },
           {
            "args": [
             [
              "105"
             ],
             {
              "frame": {
               "duration": 100,
               "redraw": false
              },
              "fromcurrent": true,
              "mode": "immediate",
              "transition": {
               "duration": 100
              }
             }
            ],
            "label": "10.40 s",
            "method": "animate"
           },
           {
            "args": [
             [
              "106"
             ],
             {
              "frame": {
               "duration": 100,
               "redraw": false
              },
              "fromcurrent": true,
              "mode": "immediate",
              "transition": {
               "duration": 100
              }
             }
            ],
            "label": "10.50 s",
            "method": "animate"
           },
           {
            "args": [
             [
              "107"
             ],
             {
              "frame": {
               "duration": 100,
               "redraw": false
              },
              "fromcurrent": true,
              "mode": "immediate",
              "transition": {
               "duration": 100
              }
             }
            ],
            "label": "10.60 s",
            "method": "animate"
           },
           {
            "args": [
             [
              "108"
             ],
             {
              "frame": {
               "duration": 100,
               "redraw": false
              },
              "fromcurrent": true,
              "mode": "immediate",
              "transition": {
               "duration": 100
              }
             }
            ],
            "label": "10.70 s",
            "method": "animate"
           },
           {
            "args": [
             [
              "109"
             ],
             {
              "frame": {
               "duration": 100,
               "redraw": false
              },
              "fromcurrent": true,
              "mode": "immediate",
              "transition": {
               "duration": 100
              }
             }
            ],
            "label": "10.80 s",
            "method": "animate"
           },
           {
            "args": [
             [
              "110"
             ],
             {
              "frame": {
               "duration": 100,
               "redraw": false
              },
              "fromcurrent": true,
              "mode": "immediate",
              "transition": {
               "duration": 100
              }
             }
            ],
            "label": "10.90 s",
            "method": "animate"
           },
           {
            "args": [
             [
              "111"
             ],
             {
              "frame": {
               "duration": 100,
               "redraw": false
              },
              "fromcurrent": true,
              "mode": "immediate",
              "transition": {
               "duration": 100
              }
             }
            ],
            "label": "11.00 s",
            "method": "animate"
           },
           {
            "args": [
             [
              "112"
             ],
             {
              "frame": {
               "duration": 100,
               "redraw": false
              },
              "fromcurrent": true,
              "mode": "immediate",
              "transition": {
               "duration": 100
              }
             }
            ],
            "label": "11.10 s",
            "method": "animate"
           },
           {
            "args": [
             [
              "113"
             ],
             {
              "frame": {
               "duration": 100,
               "redraw": false
              },
              "fromcurrent": true,
              "mode": "immediate",
              "transition": {
               "duration": 100
              }
             }
            ],
            "label": "11.20 s",
            "method": "animate"
           },
           {
            "args": [
             [
              "114"
             ],
             {
              "frame": {
               "duration": 100,
               "redraw": false
              },
              "fromcurrent": true,
              "mode": "immediate",
              "transition": {
               "duration": 100
              }
             }
            ],
            "label": "11.30 s",
            "method": "animate"
           },
           {
            "args": [
             [
              "115"
             ],
             {
              "frame": {
               "duration": 100,
               "redraw": false
              },
              "fromcurrent": true,
              "mode": "immediate",
              "transition": {
               "duration": 100
              }
             }
            ],
            "label": "11.40 s",
            "method": "animate"
           },
           {
            "args": [
             [
              "116"
             ],
             {
              "frame": {
               "duration": 100,
               "redraw": false
              },
              "fromcurrent": true,
              "mode": "immediate",
              "transition": {
               "duration": 100
              }
             }
            ],
            "label": "11.50 s",
            "method": "animate"
           },
           {
            "args": [
             [
              "117"
             ],
             {
              "frame": {
               "duration": 100,
               "redraw": false
              },
              "fromcurrent": true,
              "mode": "immediate",
              "transition": {
               "duration": 100
              }
             }
            ],
            "label": "11.60 s",
            "method": "animate"
           },
           {
            "args": [
             [
              "118"
             ],
             {
              "frame": {
               "duration": 100,
               "redraw": false
              },
              "fromcurrent": true,
              "mode": "immediate",
              "transition": {
               "duration": 100
              }
             }
            ],
            "label": "11.70 s",
            "method": "animate"
           },
           {
            "args": [
             [
              "119"
             ],
             {
              "frame": {
               "duration": 100,
               "redraw": false
              },
              "fromcurrent": true,
              "mode": "immediate",
              "transition": {
               "duration": 100
              }
             }
            ],
            "label": "11.80 s",
            "method": "animate"
           },
           {
            "args": [
             [
              "120"
             ],
             {
              "frame": {
               "duration": 100,
               "redraw": false
              },
              "fromcurrent": true,
              "mode": "immediate",
              "transition": {
               "duration": 100
              }
             }
            ],
            "label": "11.90 s",
            "method": "animate"
           },
           {
            "args": [
             [
              "121"
             ],
             {
              "frame": {
               "duration": 100,
               "redraw": false
              },
              "fromcurrent": true,
              "mode": "immediate",
              "transition": {
               "duration": 100
              }
             }
            ],
            "label": "12.00 s",
            "method": "animate"
           },
           {
            "args": [
             [
              "122"
             ],
             {
              "frame": {
               "duration": 100,
               "redraw": false
              },
              "fromcurrent": true,
              "mode": "immediate",
              "transition": {
               "duration": 100
              }
             }
            ],
            "label": "12.10 s",
            "method": "animate"
           },
           {
            "args": [
             [
              "123"
             ],
             {
              "frame": {
               "duration": 100,
               "redraw": false
              },
              "fromcurrent": true,
              "mode": "immediate",
              "transition": {
               "duration": 100
              }
             }
            ],
            "label": "12.20 s",
            "method": "animate"
           },
           {
            "args": [
             [
              "124"
             ],
             {
              "frame": {
               "duration": 100,
               "redraw": false
              },
              "fromcurrent": true,
              "mode": "immediate",
              "transition": {
               "duration": 100
              }
             }
            ],
            "label": "12.30 s",
            "method": "animate"
           },
           {
            "args": [
             [
              "125"
             ],
             {
              "frame": {
               "duration": 100,
               "redraw": false
              },
              "fromcurrent": true,
              "mode": "immediate",
              "transition": {
               "duration": 100
              }
             }
            ],
            "label": "12.40 s",
            "method": "animate"
           },
           {
            "args": [
             [
              "126"
             ],
             {
              "frame": {
               "duration": 100,
               "redraw": false
              },
              "fromcurrent": true,
              "mode": "immediate",
              "transition": {
               "duration": 100
              }
             }
            ],
            "label": "12.50 s",
            "method": "animate"
           },
           {
            "args": [
             [
              "127"
             ],
             {
              "frame": {
               "duration": 100,
               "redraw": false
              },
              "fromcurrent": true,
              "mode": "immediate",
              "transition": {
               "duration": 100
              }
             }
            ],
            "label": "12.60 s",
            "method": "animate"
           },
           {
            "args": [
             [
              "128"
             ],
             {
              "frame": {
               "duration": 100,
               "redraw": false
              },
              "fromcurrent": true,
              "mode": "immediate",
              "transition": {
               "duration": 100
              }
             }
            ],
            "label": "12.70 s",
            "method": "animate"
           },
           {
            "args": [
             [
              "129"
             ],
             {
              "frame": {
               "duration": 100,
               "redraw": false
              },
              "fromcurrent": true,
              "mode": "immediate",
              "transition": {
               "duration": 100
              }
             }
            ],
            "label": "12.80 s",
            "method": "animate"
           },
           {
            "args": [
             [
              "130"
             ],
             {
              "frame": {
               "duration": 100,
               "redraw": false
              },
              "fromcurrent": true,
              "mode": "immediate",
              "transition": {
               "duration": 100
              }
             }
            ],
            "label": "12.90 s",
            "method": "animate"
           },
           {
            "args": [
             [
              "131"
             ],
             {
              "frame": {
               "duration": 100,
               "redraw": false
              },
              "fromcurrent": true,
              "mode": "immediate",
              "transition": {
               "duration": 100
              }
             }
            ],
            "label": "13.00 s",
            "method": "animate"
           },
           {
            "args": [
             [
              "132"
             ],
             {
              "frame": {
               "duration": 100,
               "redraw": false
              },
              "fromcurrent": true,
              "mode": "immediate",
              "transition": {
               "duration": 100
              }
             }
            ],
            "label": "13.10 s",
            "method": "animate"
           },
           {
            "args": [
             [
              "133"
             ],
             {
              "frame": {
               "duration": 100,
               "redraw": false
              },
              "fromcurrent": true,
              "mode": "immediate",
              "transition": {
               "duration": 100
              }
             }
            ],
            "label": "13.20 s",
            "method": "animate"
           },
           {
            "args": [
             [
              "134"
             ],
             {
              "frame": {
               "duration": 100,
               "redraw": false
              },
              "fromcurrent": true,
              "mode": "immediate",
              "transition": {
               "duration": 100
              }
             }
            ],
            "label": "13.30 s",
            "method": "animate"
           },
           {
            "args": [
             [
              "135"
             ],
             {
              "frame": {
               "duration": 100,
               "redraw": false
              },
              "fromcurrent": true,
              "mode": "immediate",
              "transition": {
               "duration": 100
              }
             }
            ],
            "label": "13.40 s",
            "method": "animate"
           },
           {
            "args": [
             [
              "136"
             ],
             {
              "frame": {
               "duration": 100,
               "redraw": false
              },
              "fromcurrent": true,
              "mode": "immediate",
              "transition": {
               "duration": 100
              }
             }
            ],
            "label": "13.50 s",
            "method": "animate"
           },
           {
            "args": [
             [
              "137"
             ],
             {
              "frame": {
               "duration": 100,
               "redraw": false
              },
              "fromcurrent": true,
              "mode": "immediate",
              "transition": {
               "duration": 100
              }
             }
            ],
            "label": "13.60 s",
            "method": "animate"
           },
           {
            "args": [
             [
              "138"
             ],
             {
              "frame": {
               "duration": 100,
               "redraw": false
              },
              "fromcurrent": true,
              "mode": "immediate",
              "transition": {
               "duration": 100
              }
             }
            ],
            "label": "13.70 s",
            "method": "animate"
           },
           {
            "args": [
             [
              "139"
             ],
             {
              "frame": {
               "duration": 100,
               "redraw": false
              },
              "fromcurrent": true,
              "mode": "immediate",
              "transition": {
               "duration": 100
              }
             }
            ],
            "label": "13.80 s",
            "method": "animate"
           },
           {
            "args": [
             [
              "140"
             ],
             {
              "frame": {
               "duration": 100,
               "redraw": false
              },
              "fromcurrent": true,
              "mode": "immediate",
              "transition": {
               "duration": 100
              }
             }
            ],
            "label": "13.90 s",
            "method": "animate"
           },
           {
            "args": [
             [
              "141"
             ],
             {
              "frame": {
               "duration": 100,
               "redraw": false
              },
              "fromcurrent": true,
              "mode": "immediate",
              "transition": {
               "duration": 100
              }
             }
            ],
            "label": "14.00 s",
            "method": "animate"
           },
           {
            "args": [
             [
              "142"
             ],
             {
              "frame": {
               "duration": 100,
               "redraw": false
              },
              "fromcurrent": true,
              "mode": "immediate",
              "transition": {
               "duration": 100
              }
             }
            ],
            "label": "14.10 s",
            "method": "animate"
           },
           {
            "args": [
             [
              "143"
             ],
             {
              "frame": {
               "duration": 100,
               "redraw": false
              },
              "fromcurrent": true,
              "mode": "immediate",
              "transition": {
               "duration": 100
              }
             }
            ],
            "label": "14.20 s",
            "method": "animate"
           },
           {
            "args": [
             [
              "144"
             ],
             {
              "frame": {
               "duration": 100,
               "redraw": false
              },
              "fromcurrent": true,
              "mode": "immediate",
              "transition": {
               "duration": 100
              }
             }
            ],
            "label": "14.30 s",
            "method": "animate"
           },
           {
            "args": [
             [
              "145"
             ],
             {
              "frame": {
               "duration": 100,
               "redraw": false
              },
              "fromcurrent": true,
              "mode": "immediate",
              "transition": {
               "duration": 100
              }
             }
            ],
            "label": "14.40 s",
            "method": "animate"
           },
           {
            "args": [
             [
              "146"
             ],
             {
              "frame": {
               "duration": 100,
               "redraw": false
              },
              "fromcurrent": true,
              "mode": "immediate",
              "transition": {
               "duration": 100
              }
             }
            ],
            "label": "14.50 s",
            "method": "animate"
           },
           {
            "args": [
             [
              "147"
             ],
             {
              "frame": {
               "duration": 100,
               "redraw": false
              },
              "fromcurrent": true,
              "mode": "immediate",
              "transition": {
               "duration": 100
              }
             }
            ],
            "label": "14.60 s",
            "method": "animate"
           },
           {
            "args": [
             [
              "148"
             ],
             {
              "frame": {
               "duration": 100,
               "redraw": false
              },
              "fromcurrent": true,
              "mode": "immediate",
              "transition": {
               "duration": 100
              }
             }
            ],
            "label": "14.70 s",
            "method": "animate"
           },
           {
            "args": [
             [
              "149"
             ],
             {
              "frame": {
               "duration": 100,
               "redraw": false
              },
              "fromcurrent": true,
              "mode": "immediate",
              "transition": {
               "duration": 100
              }
             }
            ],
            "label": "14.80 s",
            "method": "animate"
           },
           {
            "args": [
             [
              "150"
             ],
             {
              "frame": {
               "duration": 100,
               "redraw": false
              },
              "fromcurrent": true,
              "mode": "immediate",
              "transition": {
               "duration": 100
              }
             }
            ],
            "label": "14.90 s",
            "method": "animate"
           },
           {
            "args": [
             [
              "151"
             ],
             {
              "frame": {
               "duration": 100,
               "redraw": false
              },
              "fromcurrent": true,
              "mode": "immediate",
              "transition": {
               "duration": 100
              }
             }
            ],
            "label": "15.00 s",
            "method": "animate"
           },
           {
            "args": [
             [
              "152"
             ],
             {
              "frame": {
               "duration": 100,
               "redraw": false
              },
              "fromcurrent": true,
              "mode": "immediate",
              "transition": {
               "duration": 100
              }
             }
            ],
            "label": "15.10 s",
            "method": "animate"
           },
           {
            "args": [
             [
              "153"
             ],
             {
              "frame": {
               "duration": 100,
               "redraw": false
              },
              "fromcurrent": true,
              "mode": "immediate",
              "transition": {
               "duration": 100
              }
             }
            ],
            "label": "15.20 s",
            "method": "animate"
           },
           {
            "args": [
             [
              "154"
             ],
             {
              "frame": {
               "duration": 100,
               "redraw": false
              },
              "fromcurrent": true,
              "mode": "immediate",
              "transition": {
               "duration": 100
              }
             }
            ],
            "label": "15.30 s",
            "method": "animate"
           },
           {
            "args": [
             [
              "155"
             ],
             {
              "frame": {
               "duration": 100,
               "redraw": false
              },
              "fromcurrent": true,
              "mode": "immediate",
              "transition": {
               "duration": 100
              }
             }
            ],
            "label": "15.40 s",
            "method": "animate"
           },
           {
            "args": [
             [
              "156"
             ],
             {
              "frame": {
               "duration": 100,
               "redraw": false
              },
              "fromcurrent": true,
              "mode": "immediate",
              "transition": {
               "duration": 100
              }
             }
            ],
            "label": "15.50 s",
            "method": "animate"
           },
           {
            "args": [
             [
              "157"
             ],
             {
              "frame": {
               "duration": 100,
               "redraw": false
              },
              "fromcurrent": true,
              "mode": "immediate",
              "transition": {
               "duration": 100
              }
             }
            ],
            "label": "15.60 s",
            "method": "animate"
           },
           {
            "args": [
             [
              "158"
             ],
             {
              "frame": {
               "duration": 100,
               "redraw": false
              },
              "fromcurrent": true,
              "mode": "immediate",
              "transition": {
               "duration": 100
              }
             }
            ],
            "label": "15.70 s",
            "method": "animate"
           },
           {
            "args": [
             [
              "159"
             ],
             {
              "frame": {
               "duration": 100,
               "redraw": false
              },
              "fromcurrent": true,
              "mode": "immediate",
              "transition": {
               "duration": 100
              }
             }
            ],
            "label": "15.80 s",
            "method": "animate"
           },
           {
            "args": [
             [
              "160"
             ],
             {
              "frame": {
               "duration": 100,
               "redraw": false
              },
              "fromcurrent": true,
              "mode": "immediate",
              "transition": {
               "duration": 100
              }
             }
            ],
            "label": "15.90 s",
            "method": "animate"
           },
           {
            "args": [
             [
              "161"
             ],
             {
              "frame": {
               "duration": 100,
               "redraw": false
              },
              "fromcurrent": true,
              "mode": "immediate",
              "transition": {
               "duration": 100
              }
             }
            ],
            "label": "16.00 s",
            "method": "animate"
           },
           {
            "args": [
             [
              "162"
             ],
             {
              "frame": {
               "duration": 100,
               "redraw": false
              },
              "fromcurrent": true,
              "mode": "immediate",
              "transition": {
               "duration": 100
              }
             }
            ],
            "label": "16.10 s",
            "method": "animate"
           },
           {
            "args": [
             [
              "163"
             ],
             {
              "frame": {
               "duration": 100,
               "redraw": false
              },
              "fromcurrent": true,
              "mode": "immediate",
              "transition": {
               "duration": 100
              }
             }
            ],
            "label": "16.20 s",
            "method": "animate"
           },
           {
            "args": [
             [
              "164"
             ],
             {
              "frame": {
               "duration": 100,
               "redraw": false
              },
              "fromcurrent": true,
              "mode": "immediate",
              "transition": {
               "duration": 100
              }
             }
            ],
            "label": "16.30 s",
            "method": "animate"
           },
           {
            "args": [
             [
              "165"
             ],
             {
              "frame": {
               "duration": 100,
               "redraw": false
              },
              "fromcurrent": true,
              "mode": "immediate",
              "transition": {
               "duration": 100
              }
             }
            ],
            "label": "16.40 s",
            "method": "animate"
           },
           {
            "args": [
             [
              "166"
             ],
             {
              "frame": {
               "duration": 100,
               "redraw": false
              },
              "fromcurrent": true,
              "mode": "immediate",
              "transition": {
               "duration": 100
              }
             }
            ],
            "label": "16.50 s",
            "method": "animate"
           },
           {
            "args": [
             [
              "167"
             ],
             {
              "frame": {
               "duration": 100,
               "redraw": false
              },
              "fromcurrent": true,
              "mode": "immediate",
              "transition": {
               "duration": 100
              }
             }
            ],
            "label": "16.60 s",
            "method": "animate"
           },
           {
            "args": [
             [
              "168"
             ],
             {
              "frame": {
               "duration": 100,
               "redraw": false
              },
              "fromcurrent": true,
              "mode": "immediate",
              "transition": {
               "duration": 100
              }
             }
            ],
            "label": "16.70 s",
            "method": "animate"
           },
           {
            "args": [
             [
              "169"
             ],
             {
              "frame": {
               "duration": 100,
               "redraw": false
              },
              "fromcurrent": true,
              "mode": "immediate",
              "transition": {
               "duration": 100
              }
             }
            ],
            "label": "16.80 s",
            "method": "animate"
           }
          ],
          "x": 0.01,
          "xanchor": "left",
          "y": 0,
          "yanchor": "top"
         }
        ],
        "template": {
         "data": {
          "bar": [
           {
            "error_x": {
             "color": "#2a3f5f"
            },
            "error_y": {
             "color": "#2a3f5f"
            },
            "marker": {
             "line": {
              "color": "#E5ECF6",
              "width": 0.5
             }
            },
            "type": "bar"
           }
          ],
          "barpolar": [
           {
            "marker": {
             "line": {
              "color": "#E5ECF6",
              "width": 0.5
             }
            },
            "type": "barpolar"
           }
          ],
          "carpet": [
           {
            "aaxis": {
             "endlinecolor": "#2a3f5f",
             "gridcolor": "white",
             "linecolor": "white",
             "minorgridcolor": "white",
             "startlinecolor": "#2a3f5f"
            },
            "baxis": {
             "endlinecolor": "#2a3f5f",
             "gridcolor": "white",
             "linecolor": "white",
             "minorgridcolor": "white",
             "startlinecolor": "#2a3f5f"
            },
            "type": "carpet"
           }
          ],
          "choropleth": [
           {
            "colorbar": {
             "outlinewidth": 0,
             "ticks": ""
            },
            "type": "choropleth"
           }
          ],
          "contour": [
           {
            "colorbar": {
             "outlinewidth": 0,
             "ticks": ""
            },
            "colorscale": [
             [
              0,
              "#0d0887"
             ],
             [
              0.1111111111111111,
              "#46039f"
             ],
             [
              0.2222222222222222,
              "#7201a8"
             ],
             [
              0.3333333333333333,
              "#9c179e"
             ],
             [
              0.4444444444444444,
              "#bd3786"
             ],
             [
              0.5555555555555556,
              "#d8576b"
             ],
             [
              0.6666666666666666,
              "#ed7953"
             ],
             [
              0.7777777777777778,
              "#fb9f3a"
             ],
             [
              0.8888888888888888,
              "#fdca26"
             ],
             [
              1,
              "#f0f921"
             ]
            ],
            "type": "contour"
           }
          ],
          "contourcarpet": [
           {
            "colorbar": {
             "outlinewidth": 0,
             "ticks": ""
            },
            "type": "contourcarpet"
           }
          ],
          "heatmap": [
           {
            "colorbar": {
             "outlinewidth": 0,
             "ticks": ""
            },
            "colorscale": [
             [
              0,
              "#0d0887"
             ],
             [
              0.1111111111111111,
              "#46039f"
             ],
             [
              0.2222222222222222,
              "#7201a8"
             ],
             [
              0.3333333333333333,
              "#9c179e"
             ],
             [
              0.4444444444444444,
              "#bd3786"
             ],
             [
              0.5555555555555556,
              "#d8576b"
             ],
             [
              0.6666666666666666,
              "#ed7953"
             ],
             [
              0.7777777777777778,
              "#fb9f3a"
             ],
             [
              0.8888888888888888,
              "#fdca26"
             ],
             [
              1,
              "#f0f921"
             ]
            ],
            "type": "heatmap"
           }
          ],
          "heatmapgl": [
           {
            "colorbar": {
             "outlinewidth": 0,
             "ticks": ""
            },
            "colorscale": [
             [
              0,
              "#0d0887"
             ],
             [
              0.1111111111111111,
              "#46039f"
             ],
             [
              0.2222222222222222,
              "#7201a8"
             ],
             [
              0.3333333333333333,
              "#9c179e"
             ],
             [
              0.4444444444444444,
              "#bd3786"
             ],
             [
              0.5555555555555556,
              "#d8576b"
             ],
             [
              0.6666666666666666,
              "#ed7953"
             ],
             [
              0.7777777777777778,
              "#fb9f3a"
             ],
             [
              0.8888888888888888,
              "#fdca26"
             ],
             [
              1,
              "#f0f921"
             ]
            ],
            "type": "heatmapgl"
           }
          ],
          "histogram": [
           {
            "marker": {
             "colorbar": {
              "outlinewidth": 0,
              "ticks": ""
             }
            },
            "type": "histogram"
           }
          ],
          "histogram2d": [
           {
            "colorbar": {
             "outlinewidth": 0,
             "ticks": ""
            },
            "colorscale": [
             [
              0,
              "#0d0887"
             ],
             [
              0.1111111111111111,
              "#46039f"
             ],
             [
              0.2222222222222222,
              "#7201a8"
             ],
             [
              0.3333333333333333,
              "#9c179e"
             ],
             [
              0.4444444444444444,
              "#bd3786"
             ],
             [
              0.5555555555555556,
              "#d8576b"
             ],
             [
              0.6666666666666666,
              "#ed7953"
             ],
             [
              0.7777777777777778,
              "#fb9f3a"
             ],
             [
              0.8888888888888888,
              "#fdca26"
             ],
             [
              1,
              "#f0f921"
             ]
            ],
            "type": "histogram2d"
           }
          ],
          "histogram2dcontour": [
           {
            "colorbar": {
             "outlinewidth": 0,
             "ticks": ""
            },
            "colorscale": [
             [
              0,
              "#0d0887"
             ],
             [
              0.1111111111111111,
              "#46039f"
             ],
             [
              0.2222222222222222,
              "#7201a8"
             ],
             [
              0.3333333333333333,
              "#9c179e"
             ],
             [
              0.4444444444444444,
              "#bd3786"
             ],
             [
              0.5555555555555556,
              "#d8576b"
             ],
             [
              0.6666666666666666,
              "#ed7953"
             ],
             [
              0.7777777777777778,
              "#fb9f3a"
             ],
             [
              0.8888888888888888,
              "#fdca26"
             ],
             [
              1,
              "#f0f921"
             ]
            ],
            "type": "histogram2dcontour"
           }
          ],
          "mesh3d": [
           {
            "colorbar": {
             "outlinewidth": 0,
             "ticks": ""
            },
            "type": "mesh3d"
           }
          ],
          "parcoords": [
           {
            "line": {
             "colorbar": {
              "outlinewidth": 0,
              "ticks": ""
             }
            },
            "type": "parcoords"
           }
          ],
          "pie": [
           {
            "automargin": true,
            "type": "pie"
           }
          ],
          "scatter": [
           {
            "marker": {
             "colorbar": {
              "outlinewidth": 0,
              "ticks": ""
             }
            },
            "type": "scatter"
           }
          ],
          "scatter3d": [
           {
            "line": {
             "colorbar": {
              "outlinewidth": 0,
              "ticks": ""
             }
            },
            "marker": {
             "colorbar": {
              "outlinewidth": 0,
              "ticks": ""
             }
            },
            "type": "scatter3d"
           }
          ],
          "scattercarpet": [
           {
            "marker": {
             "colorbar": {
              "outlinewidth": 0,
              "ticks": ""
             }
            },
            "type": "scattercarpet"
           }
          ],
          "scattergeo": [
           {
            "marker": {
             "colorbar": {
              "outlinewidth": 0,
              "ticks": ""
             }
            },
            "type": "scattergeo"
           }
          ],
          "scattergl": [
           {
            "marker": {
             "colorbar": {
              "outlinewidth": 0,
              "ticks": ""
             }
            },
            "type": "scattergl"
           }
          ],
          "scattermapbox": [
           {
            "marker": {
             "colorbar": {
              "outlinewidth": 0,
              "ticks": ""
             }
            },
            "type": "scattermapbox"
           }
          ],
          "scatterpolar": [
           {
            "marker": {
             "colorbar": {
              "outlinewidth": 0,
              "ticks": ""
             }
            },
            "type": "scatterpolar"
           }
          ],
          "scatterpolargl": [
           {
            "marker": {
             "colorbar": {
              "outlinewidth": 0,
              "ticks": ""
             }
            },
            "type": "scatterpolargl"
           }
          ],
          "scatterternary": [
           {
            "marker": {
             "colorbar": {
              "outlinewidth": 0,
              "ticks": ""
             }
            },
            "type": "scatterternary"
           }
          ],
          "surface": [
           {
            "colorbar": {
             "outlinewidth": 0,
             "ticks": ""
            },
            "colorscale": [
             [
              0,
              "#0d0887"
             ],
             [
              0.1111111111111111,
              "#46039f"
             ],
             [
              0.2222222222222222,
              "#7201a8"
             ],
             [
              0.3333333333333333,
              "#9c179e"
             ],
             [
              0.4444444444444444,
              "#bd3786"
             ],
             [
              0.5555555555555556,
              "#d8576b"
             ],
             [
              0.6666666666666666,
              "#ed7953"
             ],
             [
              0.7777777777777778,
              "#fb9f3a"
             ],
             [
              0.8888888888888888,
              "#fdca26"
             ],
             [
              1,
              "#f0f921"
             ]
            ],
            "type": "surface"
           }
          ],
          "table": [
           {
            "cells": {
             "fill": {
              "color": "#EBF0F8"
             },
             "line": {
              "color": "white"
             }
            },
            "header": {
             "fill": {
              "color": "#C8D4E3"
             },
             "line": {
              "color": "white"
             }
            },
            "type": "table"
           }
          ]
         },
         "layout": {
          "annotationdefaults": {
           "arrowcolor": "#2a3f5f",
           "arrowhead": 0,
           "arrowwidth": 1
          },
          "autotypenumbers": "strict",
          "coloraxis": {
           "colorbar": {
            "outlinewidth": 0,
            "ticks": ""
           }
          },
          "colorscale": {
           "diverging": [
            [
             0,
             "#8e0152"
            ],
            [
             0.1,
             "#c51b7d"
            ],
            [
             0.2,
             "#de77ae"
            ],
            [
             0.3,
             "#f1b6da"
            ],
            [
             0.4,
             "#fde0ef"
            ],
            [
             0.5,
             "#f7f7f7"
            ],
            [
             0.6,
             "#e6f5d0"
            ],
            [
             0.7,
             "#b8e186"
            ],
            [
             0.8,
             "#7fbc41"
            ],
            [
             0.9,
             "#4d9221"
            ],
            [
             1,
             "#276419"
            ]
           ],
           "sequential": [
            [
             0,
             "#0d0887"
            ],
            [
             0.1111111111111111,
             "#46039f"
            ],
            [
             0.2222222222222222,
             "#7201a8"
            ],
            [
             0.3333333333333333,
             "#9c179e"
            ],
            [
             0.4444444444444444,
             "#bd3786"
            ],
            [
             0.5555555555555556,
             "#d8576b"
            ],
            [
             0.6666666666666666,
             "#ed7953"
            ],
            [
             0.7777777777777778,
             "#fb9f3a"
            ],
            [
             0.8888888888888888,
             "#fdca26"
            ],
            [
             1,
             "#f0f921"
            ]
           ],
           "sequentialminus": [
            [
             0,
             "#0d0887"
            ],
            [
             0.1111111111111111,
             "#46039f"
            ],
            [
             0.2222222222222222,
             "#7201a8"
            ],
            [
             0.3333333333333333,
             "#9c179e"
            ],
            [
             0.4444444444444444,
             "#bd3786"
            ],
            [
             0.5555555555555556,
             "#d8576b"
            ],
            [
             0.6666666666666666,
             "#ed7953"
            ],
            [
             0.7777777777777778,
             "#fb9f3a"
            ],
            [
             0.8888888888888888,
             "#fdca26"
            ],
            [
             1,
             "#f0f921"
            ]
           ]
          },
          "colorway": [
           "#636efa",
           "#EF553B",
           "#00cc96",
           "#ab63fa",
           "#FFA15A",
           "#19d3f3",
           "#FF6692",
           "#B6E880",
           "#FF97FF",
           "#FECB52"
          ],
          "font": {
           "color": "#2a3f5f"
          },
          "geo": {
           "bgcolor": "white",
           "lakecolor": "white",
           "landcolor": "#E5ECF6",
           "showlakes": true,
           "showland": true,
           "subunitcolor": "white"
          },
          "hoverlabel": {
           "align": "left"
          },
          "hovermode": "closest",
          "mapbox": {
           "style": "light"
          },
          "paper_bgcolor": "white",
          "plot_bgcolor": "#E5ECF6",
          "polar": {
           "angularaxis": {
            "gridcolor": "white",
            "linecolor": "white",
            "ticks": ""
           },
           "bgcolor": "#E5ECF6",
           "radialaxis": {
            "gridcolor": "white",
            "linecolor": "white",
            "ticks": ""
           }
          },
          "scene": {
           "xaxis": {
            "backgroundcolor": "#E5ECF6",
            "gridcolor": "white",
            "gridwidth": 2,
            "linecolor": "white",
            "showbackground": true,
            "ticks": "",
            "zerolinecolor": "white"
           },
           "yaxis": {
            "backgroundcolor": "#E5ECF6",
            "gridcolor": "white",
            "gridwidth": 2,
            "linecolor": "white",
            "showbackground": true,
            "ticks": "",
            "zerolinecolor": "white"
           },
           "zaxis": {
            "backgroundcolor": "#E5ECF6",
            "gridcolor": "white",
            "gridwidth": 2,
            "linecolor": "white",
            "showbackground": true,
            "ticks": "",
            "zerolinecolor": "white"
           }
          },
          "shapedefaults": {
           "line": {
            "color": "#2a3f5f"
           }
          },
          "ternary": {
           "aaxis": {
            "gridcolor": "white",
            "linecolor": "white",
            "ticks": ""
           },
           "baxis": {
            "gridcolor": "white",
            "linecolor": "white",
            "ticks": ""
           },
           "bgcolor": "#E5ECF6",
           "caxis": {
            "gridcolor": "white",
            "linecolor": "white",
            "ticks": ""
           }
          },
          "title": {
           "x": 0.05
          },
          "xaxis": {
           "automargin": true,
           "gridcolor": "white",
           "linecolor": "white",
           "ticks": "",
           "title": {
            "standoff": 15
           },
           "zerolinecolor": "white",
           "zerolinewidth": 2
          },
          "yaxis": {
           "automargin": true,
           "gridcolor": "white",
           "linecolor": "white",
           "ticks": "",
           "title": {
            "standoff": 15
           },
           "zerolinecolor": "white",
           "zerolinewidth": 2
          }
         }
        },
        "updatemenus": [
         {
          "buttons": [
           {
            "args": [
             null,
             {
              "frame": {
               "duration": 100,
               "redraw": false
              },
              "fromcurrent": true,
              "mode": "immediate"
             }
            ],
            "label": "&#9654;",
            "method": "animate"
           },
           {
            "args": [
             [
              null
             ],
             {
              "frame": {
               "duration": 0,
               "redraw": false
              },
              "mode": "immediate",
              "transition": {
               "duration": 0
              }
             }
            ],
            "label": "&#9724;",
            "method": "animate"
           }
          ],
          "direction": "left",
          "pad": {
           "b": 10,
           "t": 30
          },
          "type": "buttons",
          "x": 0,
          "xanchor": "left",
          "y": 1.25,
          "yanchor": "top"
         },
         {
          "active": 0,
          "buttons": [
           {
            "args": [
             [
              1
             ],
             {
              "frame": {
               "duration": 10,
               "redraw": false
              },
              "fromcurrent": "true",
              "mode": "immediate",
              "transition": {
               "duration": 10
              }
             }
            ],
            "label": "Reset",
            "method": "animate"
           },
           {
            "args": [
             [
              11
             ],
             {
              "frame": {
               "duration": 10,
               "redraw": false
              },
              "fromcurrent": "true",
              "mode": "immediate",
              "transition": {
               "duration": 10
              }
             }
            ],
            "label": "ball_snap",
            "method": "animate"
           },
           {
            "args": [
             [
              58
             ],
             {
              "frame": {
               "duration": 10,
               "redraw": false
              },
              "fromcurrent": "true",
              "mode": "immediate",
              "transition": {
               "duration": 10
              }
             }
            ],
            "label": "pass_forward",
            "method": "animate"
           },
           {
            "args": [
             [
              65
             ],
             {
              "frame": {
               "duration": 10,
               "redraw": false
              },
              "fromcurrent": "true",
              "mode": "immediate",
              "transition": {
               "duration": 10
              }
             }
            ],
            "label": "pass_arrived",
            "method": "animate"
           },
           {
            "args": [
             [
              77
             ],
             {
              "frame": {
               "duration": 10,
               "redraw": false
              },
              "fromcurrent": "true",
              "mode": "immediate",
              "transition": {
               "duration": 10
              }
             }
            ],
            "label": "pass_outcome_caught",
            "method": "animate"
           },
           {
            "args": [
             [
              168
             ],
             {
              "frame": {
               "duration": 10,
               "redraw": false
              },
              "fromcurrent": "true",
              "mode": "immediate",
              "transition": {
               "duration": 10
              }
             }
            ],
            "label": "touchdown",
            "method": "animate"
           }
          ],
          "direction": "down",
          "pad": {
           "b": 10,
           "t": 30
          },
          "x": 1,
          "xanchor": "right",
          "y": 1.25,
          "yanchor": "top"
         }
        ],
        "xaxis": {
         "range": [
          -3,
          123
         ],
         "showgrid": false,
         "showticklabels": false,
         "zeroline": false
        },
        "yaxis": {
         "range": [
          -5,
          58.3
         ],
         "showgrid": false,
         "showticklabels": false,
         "zeroline": false
        }
       }
      },
      "text/html": [
       "<div>                            <div id=\"4bf0b580-939d-45ff-96a6-baaeb1fc0391\" class=\"plotly-graph-div\" style=\"height:525px; width:100%;\"></div>            <script type=\"text/javascript\">                require([\"plotly\"], function(Plotly) {                    window.PLOTLYENV=window.PLOTLYENV || {};                                    if (document.getElementById(\"4bf0b580-939d-45ff-96a6-baaeb1fc0391\")) {                    Plotly.newPlot(                        \"4bf0b580-939d-45ff-96a6-baaeb1fc0391\",                        [{\"hovertext\": [\"Jimmy Graham TE\", \"Prince Amukamara CB\", \"Randall Cobb WR\", \"Aaron Rodgers QB\", \"Danny Trevathan ILB\", \"Marcus Cooper CB\", \"Davante Adams WR\", \"Kyle Fuller CB\", \"Adrian Amos FS\", \"Ty Montgomery RB\", \"Bryce Callahan CB\", \"Leonard Floyd OLB\", \"Geronimo Allison WR\", \"Eddie Jackson FS\", null], \"marker\": {\"color\": [\"rgb(238, 173, 30)\", \"white\", \"rgb(238, 173, 30)\", \"rgb(238, 173, 30)\", \"white\", \"white\", \"rgb(238, 173, 30)\", \"white\", \"white\", \"rgb(238, 173, 30)\", \"white\", \"white\", \"rgb(238, 173, 30)\", \"white\", \"brown\"], \"line\": {\"color\": [\"rgb(28, 45, 37)\", \"rgb(200, 56, 3)\", \"rgb(28, 45, 37)\", \"rgb(28, 45, 37)\", \"rgb(200, 56, 3)\", \"rgb(200, 56, 3)\", \"rgb(28, 45, 37)\", \"rgb(200, 56, 3)\", \"rgb(200, 56, 3)\", \"rgb(28, 45, 37)\", \"rgb(200, 56, 3)\", \"rgb(200, 56, 3)\", \"rgb(28, 45, 37)\", \"rgb(200, 56, 3)\", \"black\"], \"width\": [2, 2, 2, 2, 2, 2, 2, 2, 2, 2, 2, 2, 2, 2, 1]}, \"opacity\": 1, \"size\": [16, 16, 16, 16, 16, 16, 16, 16, 16, 16, 16, 16, 16, 16, 12], \"symbol\": [\"circle\", \"circle\", \"circle\", \"circle\", \"circle\", \"circle\", \"circle\", \"circle\", \"circle\", \"circle\", \"circle\", \"circle\", \"circle\", \"circle\", \"diamond-wide\"]}, \"mode\": \"markers+text\", \"text\": [80.0, 20.0, 18.0, 12.0, 59.0, 31.0, 17.0, 23.0, 38.0, 88.0, 37.0, 94.0, 81.0, 39.0, null], \"textfont\": {\"color\": [\"black\", \"rgb(11, 22, 42)\", \"black\", \"black\", \"rgb(11, 22, 42)\", \"rgb(11, 22, 42)\", \"black\", \"rgb(11, 22, 42)\", \"rgb(11, 22, 42)\", \"black\", \"rgb(11, 22, 42)\", \"rgb(11, 22, 42)\", \"black\", \"rgb(11, 22, 42)\", \"black\"], \"family\": [\"Gravitas One\"], \"size\": 9}, \"type\": \"scatter\", \"x\": [33.82, 35.71, 32.78, 29.66, 36.88, 37.31, 33.44, 35.87, 43.53, 30.04, 38.49, 35.62, 32.77, 46.76, 34.69], \"y\": [23.05, 44.29, 19.21, 29.79, 32.58, 23.49, 44.85, 10.03, 35.92, 32.53, 18.54, 27.2, 10.37, 21.15, 29.77]}],                        {\"plot_bgcolor\": \"rgb(195,217,192)\", \"shapes\": [{\"layer\": \"below\", \"line\": {\"color\": \"white\", \"width\": 5}, \"type\": \"line\", \"x0\": 0, \"x1\": 120, \"y0\": 0, \"y1\": 0}, {\"layer\": \"below\", \"line\": {\"color\": \"white\", \"width\": 5}, \"type\": \"line\", \"x0\": 0, \"x1\": 120, \"y0\": 53.3, \"y1\": 53.3}, {\"layer\": \"below\", \"line\": {\"color\": \"white\", \"width\": 5}, \"type\": \"line\", \"x0\": 0, \"x1\": 0, \"y0\": 0, \"y1\": 53.3}, {\"layer\": \"below\", \"line\": {\"color\": \"white\", \"width\": 5}, \"type\": \"line\", \"x0\": 120, \"x1\": 120, \"y0\": 0, \"y1\": 53.3}, {\"layer\": \"below\", \"line\": {\"color\": \"white\", \"width\": 2}, \"type\": \"line\", \"x0\": 10, \"x1\": 10, \"y0\": 0, \"y1\": 53.3}, {\"layer\": \"below\", \"line\": {\"color\": \"white\", \"width\": 2}, \"type\": \"line\", \"x0\": 15, \"x1\": 15, \"y0\": 0, \"y1\": 53.3}, {\"layer\": \"below\", \"line\": {\"color\": \"white\", \"width\": 2}, \"type\": \"line\", \"x0\": 20, \"x1\": 20, \"y0\": 0, \"y1\": 53.3}, {\"layer\": \"below\", \"line\": {\"color\": \"white\", \"width\": 2}, \"type\": \"line\", \"x0\": 25, \"x1\": 25, \"y0\": 0, \"y1\": 53.3}, {\"layer\": \"below\", \"line\": {\"color\": \"white\", \"width\": 2}, \"type\": \"line\", \"x0\": 30, \"x1\": 30, \"y0\": 0, \"y1\": 53.3}, {\"layer\": \"below\", \"line\": {\"color\": \"white\", \"width\": 2}, \"type\": \"line\", \"x0\": 35, \"x1\": 35, \"y0\": 0, \"y1\": 53.3}, {\"layer\": \"below\", \"line\": {\"color\": \"white\", \"width\": 2}, \"type\": \"line\", \"x0\": 40, \"x1\": 40, \"y0\": 0, \"y1\": 53.3}, {\"layer\": \"below\", \"line\": {\"color\": \"white\", \"width\": 2}, \"type\": \"line\", \"x0\": 45, \"x1\": 45, \"y0\": 0, \"y1\": 53.3}, {\"layer\": \"below\", \"line\": {\"color\": \"white\", \"width\": 2}, \"type\": \"line\", \"x0\": 50, \"x1\": 50, \"y0\": 0, \"y1\": 53.3}, {\"layer\": \"below\", \"line\": {\"color\": \"white\", \"width\": 2}, \"type\": \"line\", \"x0\": 55, \"x1\": 55, \"y0\": 0, \"y1\": 53.3}, {\"layer\": \"below\", \"line\": {\"color\": \"white\", \"width\": 2}, \"type\": \"line\", \"x0\": 60, \"x1\": 60, \"y0\": 0, \"y1\": 53.3}, {\"layer\": \"below\", \"line\": {\"color\": \"white\", \"width\": 2}, \"type\": \"line\", \"x0\": 65, \"x1\": 65, \"y0\": 0, \"y1\": 53.3}, {\"layer\": \"below\", \"line\": {\"color\": \"white\", \"width\": 2}, \"type\": \"line\", \"x0\": 70, \"x1\": 70, \"y0\": 0, \"y1\": 53.3}, {\"layer\": \"below\", \"line\": {\"color\": \"white\", \"width\": 2}, \"type\": \"line\", \"x0\": 75, \"x1\": 75, \"y0\": 0, \"y1\": 53.3}, {\"layer\": \"below\", \"line\": {\"color\": \"white\", \"width\": 2}, \"type\": \"line\", \"x0\": 80, \"x1\": 80, \"y0\": 0, \"y1\": 53.3}, {\"layer\": \"below\", \"line\": {\"color\": \"white\", \"width\": 2}, \"type\": \"line\", \"x0\": 85, \"x1\": 85, \"y0\": 0, \"y1\": 53.3}, {\"layer\": \"below\", \"line\": {\"color\": \"white\", \"width\": 2}, \"type\": \"line\", \"x0\": 90, \"x1\": 90, \"y0\": 0, \"y1\": 53.3}, {\"layer\": \"below\", \"line\": {\"color\": \"white\", \"width\": 2}, \"type\": \"line\", \"x0\": 95, \"x1\": 95, \"y0\": 0, \"y1\": 53.3}, {\"layer\": \"below\", \"line\": {\"color\": \"white\", \"width\": 2}, \"type\": \"line\", \"x0\": 100, \"x1\": 100, \"y0\": 0, \"y1\": 53.3}, {\"layer\": \"below\", \"line\": {\"color\": \"white\", \"width\": 2}, \"type\": \"line\", \"x0\": 105, \"x1\": 105, \"y0\": 0, \"y1\": 53.3}, {\"layer\": \"below\", \"line\": {\"color\": \"white\", \"width\": 2}, \"type\": \"line\", \"x0\": 110, \"x1\": 110, \"y0\": 0, \"y1\": 53.3}, {\"layer\": \"below\", \"line\": {\"color\": \"white\", \"width\": 2}, \"type\": \"line\", \"x0\": 11, \"x1\": 11, \"y0\": 1, \"y1\": 1.6666666666666665}, {\"layer\": \"below\", \"line\": {\"color\": \"white\", \"width\": 2}, \"type\": \"line\", \"x0\": 11, \"x1\": 11, \"y0\": 23.58333, \"y1\": 24.249996666666668}, {\"layer\": \"below\", \"line\": {\"color\": \"white\", \"width\": 2}, \"type\": \"line\", \"x0\": 11, \"x1\": 11, \"y0\": 29.08333, \"y1\": 29.749996666666668}, {\"layer\": \"below\", \"line\": {\"color\": \"white\", \"width\": 2}, \"type\": \"line\", \"x0\": 11, \"x1\": 11, \"y0\": 51.63333333333333, \"y1\": 52.3}, {\"layer\": \"below\", \"line\": {\"color\": \"white\", \"width\": 2}, \"type\": \"line\", \"x0\": 12, \"x1\": 12, \"y0\": 1, \"y1\": 1.6666666666666665}, {\"layer\": \"below\", \"line\": {\"color\": \"white\", \"width\": 2}, \"type\": \"line\", \"x0\": 12, \"x1\": 12, \"y0\": 23.58333, \"y1\": 24.249996666666668}, {\"layer\": \"below\", \"line\": {\"color\": \"white\", \"width\": 2}, \"type\": \"line\", \"x0\": 12, \"x1\": 12, \"y0\": 29.08333, \"y1\": 29.749996666666668}, {\"layer\": \"below\", \"line\": {\"color\": \"white\", \"width\": 2}, \"type\": \"line\", \"x0\": 12, \"x1\": 12, \"y0\": 51.63333333333333, \"y1\": 52.3}, {\"layer\": \"below\", \"line\": {\"color\": \"white\", \"width\": 2}, \"type\": \"line\", \"x0\": 13, \"x1\": 13, \"y0\": 1, \"y1\": 1.6666666666666665}, {\"layer\": \"below\", \"line\": {\"color\": \"white\", \"width\": 2}, \"type\": \"line\", \"x0\": 13, \"x1\": 13, \"y0\": 23.58333, \"y1\": 24.249996666666668}, {\"layer\": \"below\", \"line\": {\"color\": \"white\", \"width\": 2}, \"type\": \"line\", \"x0\": 13, \"x1\": 13, \"y0\": 29.08333, \"y1\": 29.749996666666668}, {\"layer\": \"below\", \"line\": {\"color\": \"white\", \"width\": 2}, \"type\": \"line\", \"x0\": 13, \"x1\": 13, \"y0\": 51.63333333333333, \"y1\": 52.3}, {\"layer\": \"below\", \"line\": {\"color\": \"white\", \"width\": 2}, \"type\": \"line\", \"x0\": 14, \"x1\": 14, \"y0\": 1, \"y1\": 1.6666666666666665}, {\"layer\": \"below\", \"line\": {\"color\": \"white\", \"width\": 2}, \"type\": \"line\", \"x0\": 14, \"x1\": 14, \"y0\": 23.58333, \"y1\": 24.249996666666668}, {\"layer\": \"below\", \"line\": {\"color\": \"white\", \"width\": 2}, \"type\": \"line\", \"x0\": 14, \"x1\": 14, \"y0\": 29.08333, \"y1\": 29.749996666666668}, {\"layer\": \"below\", \"line\": {\"color\": \"white\", \"width\": 2}, \"type\": \"line\", \"x0\": 14, \"x1\": 14, \"y0\": 51.63333333333333, \"y1\": 52.3}, {\"layer\": \"below\", \"line\": {\"color\": \"white\", \"width\": 2}, \"type\": \"line\", \"x0\": 15, \"x1\": 15, \"y0\": 1, \"y1\": 1.6666666666666665}, {\"layer\": \"below\", \"line\": {\"color\": \"white\", \"width\": 2}, \"type\": \"line\", \"x0\": 15, \"x1\": 15, \"y0\": 23.58333, \"y1\": 24.249996666666668}, {\"layer\": \"below\", \"line\": {\"color\": \"white\", \"width\": 2}, \"type\": \"line\", \"x0\": 15, \"x1\": 15, \"y0\": 29.08333, \"y1\": 29.749996666666668}, {\"layer\": \"below\", \"line\": {\"color\": \"white\", \"width\": 2}, \"type\": \"line\", \"x0\": 15, \"x1\": 15, \"y0\": 51.63333333333333, \"y1\": 52.3}, {\"layer\": \"below\", \"line\": {\"color\": \"white\", \"width\": 2}, \"type\": \"line\", \"x0\": 16, \"x1\": 16, \"y0\": 1, \"y1\": 1.6666666666666665}, {\"layer\": \"below\", \"line\": {\"color\": \"white\", \"width\": 2}, \"type\": \"line\", \"x0\": 16, \"x1\": 16, \"y0\": 23.58333, \"y1\": 24.249996666666668}, {\"layer\": \"below\", \"line\": {\"color\": \"white\", \"width\": 2}, \"type\": \"line\", \"x0\": 16, \"x1\": 16, \"y0\": 29.08333, \"y1\": 29.749996666666668}, {\"layer\": \"below\", \"line\": {\"color\": \"white\", \"width\": 2}, \"type\": \"line\", \"x0\": 16, \"x1\": 16, \"y0\": 51.63333333333333, \"y1\": 52.3}, {\"layer\": \"below\", \"line\": {\"color\": \"white\", \"width\": 2}, \"type\": \"line\", \"x0\": 17, \"x1\": 17, \"y0\": 1, \"y1\": 1.6666666666666665}, {\"layer\": \"below\", \"line\": {\"color\": \"white\", \"width\": 2}, \"type\": \"line\", \"x0\": 17, \"x1\": 17, \"y0\": 23.58333, \"y1\": 24.249996666666668}, {\"layer\": \"below\", \"line\": {\"color\": \"white\", \"width\": 2}, \"type\": \"line\", \"x0\": 17, \"x1\": 17, \"y0\": 29.08333, \"y1\": 29.749996666666668}, {\"layer\": \"below\", \"line\": {\"color\": \"white\", \"width\": 2}, \"type\": \"line\", \"x0\": 17, \"x1\": 17, \"y0\": 51.63333333333333, \"y1\": 52.3}, {\"layer\": \"below\", \"line\": {\"color\": \"white\", \"width\": 2}, \"type\": \"line\", \"x0\": 18, \"x1\": 18, \"y0\": 1, \"y1\": 1.6666666666666665}, {\"layer\": \"below\", \"line\": {\"color\": \"white\", \"width\": 2}, \"type\": \"line\", \"x0\": 18, \"x1\": 18, \"y0\": 23.58333, \"y1\": 24.249996666666668}, {\"layer\": \"below\", \"line\": {\"color\": \"white\", \"width\": 2}, \"type\": \"line\", \"x0\": 18, \"x1\": 18, \"y0\": 29.08333, \"y1\": 29.749996666666668}, {\"layer\": \"below\", \"line\": {\"color\": \"white\", \"width\": 2}, \"type\": \"line\", \"x0\": 18, \"x1\": 18, \"y0\": 51.63333333333333, \"y1\": 52.3}, {\"layer\": \"below\", \"line\": {\"color\": \"white\", \"width\": 2}, \"type\": \"line\", \"x0\": 19, \"x1\": 19, \"y0\": 1, \"y1\": 1.6666666666666665}, {\"layer\": \"below\", \"line\": {\"color\": \"white\", \"width\": 2}, \"type\": \"line\", \"x0\": 19, \"x1\": 19, \"y0\": 23.58333, \"y1\": 24.249996666666668}, {\"layer\": \"below\", \"line\": {\"color\": \"white\", \"width\": 2}, \"type\": \"line\", \"x0\": 19, \"x1\": 19, \"y0\": 29.08333, \"y1\": 29.749996666666668}, {\"layer\": \"below\", \"line\": {\"color\": \"white\", \"width\": 2}, \"type\": \"line\", \"x0\": 19, \"x1\": 19, \"y0\": 51.63333333333333, \"y1\": 52.3}, {\"layer\": \"below\", \"line\": {\"color\": \"white\", \"width\": 2}, \"type\": \"line\", \"x0\": 21, \"x1\": 21, \"y0\": 1, \"y1\": 1.6666666666666665}, {\"layer\": \"below\", \"line\": {\"color\": \"white\", \"width\": 2}, \"type\": \"line\", \"x0\": 21, \"x1\": 21, \"y0\": 23.58333, \"y1\": 24.249996666666668}, {\"layer\": \"below\", \"line\": {\"color\": \"white\", \"width\": 2}, \"type\": \"line\", \"x0\": 21, \"x1\": 21, \"y0\": 29.08333, \"y1\": 29.749996666666668}, {\"layer\": \"below\", \"line\": {\"color\": \"white\", \"width\": 2}, \"type\": \"line\", \"x0\": 21, \"x1\": 21, \"y0\": 51.63333333333333, \"y1\": 52.3}, {\"layer\": \"below\", \"line\": {\"color\": \"white\", \"width\": 2}, \"type\": \"line\", \"x0\": 22, \"x1\": 22, \"y0\": 1, \"y1\": 1.6666666666666665}, {\"layer\": \"below\", \"line\": {\"color\": \"white\", \"width\": 2}, \"type\": \"line\", \"x0\": 22, \"x1\": 22, \"y0\": 23.58333, \"y1\": 24.249996666666668}, {\"layer\": \"below\", \"line\": {\"color\": \"white\", \"width\": 2}, \"type\": \"line\", \"x0\": 22, \"x1\": 22, \"y0\": 29.08333, \"y1\": 29.749996666666668}, {\"layer\": \"below\", \"line\": {\"color\": \"white\", \"width\": 2}, \"type\": \"line\", \"x0\": 22, \"x1\": 22, \"y0\": 51.63333333333333, \"y1\": 52.3}, {\"layer\": \"below\", \"line\": {\"color\": \"white\", \"width\": 2}, \"type\": \"line\", \"x0\": 23, \"x1\": 23, \"y0\": 1, \"y1\": 1.6666666666666665}, {\"layer\": \"below\", \"line\": {\"color\": \"white\", \"width\": 2}, \"type\": \"line\", \"x0\": 23, \"x1\": 23, \"y0\": 23.58333, \"y1\": 24.249996666666668}, {\"layer\": \"below\", \"line\": {\"color\": \"white\", \"width\": 2}, \"type\": \"line\", \"x0\": 23, \"x1\": 23, \"y0\": 29.08333, \"y1\": 29.749996666666668}, {\"layer\": \"below\", \"line\": {\"color\": \"white\", \"width\": 2}, \"type\": \"line\", \"x0\": 23, \"x1\": 23, \"y0\": 51.63333333333333, \"y1\": 52.3}, {\"layer\": \"below\", \"line\": {\"color\": \"white\", \"width\": 2}, \"type\": \"line\", \"x0\": 24, \"x1\": 24, \"y0\": 1, \"y1\": 1.6666666666666665}, {\"layer\": \"below\", \"line\": {\"color\": \"white\", \"width\": 2}, \"type\": \"line\", \"x0\": 24, \"x1\": 24, \"y0\": 23.58333, \"y1\": 24.249996666666668}, {\"layer\": \"below\", \"line\": {\"color\": \"white\", \"width\": 2}, \"type\": \"line\", \"x0\": 24, \"x1\": 24, \"y0\": 29.08333, \"y1\": 29.749996666666668}, {\"layer\": \"below\", \"line\": {\"color\": \"white\", \"width\": 2}, \"type\": \"line\", \"x0\": 24, \"x1\": 24, \"y0\": 51.63333333333333, \"y1\": 52.3}, {\"layer\": \"below\", \"line\": {\"color\": \"white\", \"width\": 2}, \"type\": \"line\", \"x0\": 25, \"x1\": 25, \"y0\": 1, \"y1\": 1.6666666666666665}, {\"layer\": \"below\", \"line\": {\"color\": \"white\", \"width\": 2}, \"type\": \"line\", \"x0\": 25, \"x1\": 25, \"y0\": 23.58333, \"y1\": 24.249996666666668}, {\"layer\": \"below\", \"line\": {\"color\": \"white\", \"width\": 2}, \"type\": \"line\", \"x0\": 25, \"x1\": 25, \"y0\": 29.08333, \"y1\": 29.749996666666668}, {\"layer\": \"below\", \"line\": {\"color\": \"white\", \"width\": 2}, \"type\": \"line\", \"x0\": 25, \"x1\": 25, \"y0\": 51.63333333333333, \"y1\": 52.3}, {\"layer\": \"below\", \"line\": {\"color\": \"white\", \"width\": 2}, \"type\": \"line\", \"x0\": 26, \"x1\": 26, \"y0\": 1, \"y1\": 1.6666666666666665}, {\"layer\": \"below\", \"line\": {\"color\": \"white\", \"width\": 2}, \"type\": \"line\", \"x0\": 26, \"x1\": 26, \"y0\": 23.58333, \"y1\": 24.249996666666668}, {\"layer\": \"below\", \"line\": {\"color\": \"white\", \"width\": 2}, \"type\": \"line\", \"x0\": 26, \"x1\": 26, \"y0\": 29.08333, \"y1\": 29.749996666666668}, {\"layer\": \"below\", \"line\": {\"color\": \"white\", \"width\": 2}, \"type\": \"line\", \"x0\": 26, \"x1\": 26, \"y0\": 51.63333333333333, \"y1\": 52.3}, {\"layer\": \"below\", \"line\": {\"color\": \"white\", \"width\": 2}, \"type\": \"line\", \"x0\": 27, \"x1\": 27, \"y0\": 1, \"y1\": 1.6666666666666665}, {\"layer\": \"below\", \"line\": {\"color\": \"white\", \"width\": 2}, \"type\": \"line\", \"x0\": 27, \"x1\": 27, \"y0\": 23.58333, \"y1\": 24.249996666666668}, {\"layer\": \"below\", \"line\": {\"color\": \"white\", \"width\": 2}, \"type\": \"line\", \"x0\": 27, \"x1\": 27, \"y0\": 29.08333, \"y1\": 29.749996666666668}, {\"layer\": \"below\", \"line\": {\"color\": \"white\", \"width\": 2}, \"type\": \"line\", \"x0\": 27, \"x1\": 27, \"y0\": 51.63333333333333, \"y1\": 52.3}, {\"layer\": \"below\", \"line\": {\"color\": \"white\", \"width\": 2}, \"type\": \"line\", \"x0\": 28, \"x1\": 28, \"y0\": 1, \"y1\": 1.6666666666666665}, {\"layer\": \"below\", \"line\": {\"color\": \"white\", \"width\": 2}, \"type\": \"line\", \"x0\": 28, \"x1\": 28, \"y0\": 23.58333, \"y1\": 24.249996666666668}, {\"layer\": \"below\", \"line\": {\"color\": \"white\", \"width\": 2}, \"type\": \"line\", \"x0\": 28, \"x1\": 28, \"y0\": 29.08333, \"y1\": 29.749996666666668}, {\"layer\": \"below\", \"line\": {\"color\": \"white\", \"width\": 2}, \"type\": \"line\", \"x0\": 28, \"x1\": 28, \"y0\": 51.63333333333333, \"y1\": 52.3}, {\"layer\": \"below\", \"line\": {\"color\": \"white\", \"width\": 2}, \"type\": \"line\", \"x0\": 29, \"x1\": 29, \"y0\": 1, \"y1\": 1.6666666666666665}, {\"layer\": \"below\", \"line\": {\"color\": \"white\", \"width\": 2}, \"type\": \"line\", \"x0\": 29, \"x1\": 29, \"y0\": 23.58333, \"y1\": 24.249996666666668}, {\"layer\": \"below\", \"line\": {\"color\": \"white\", \"width\": 2}, \"type\": \"line\", \"x0\": 29, \"x1\": 29, \"y0\": 29.08333, \"y1\": 29.749996666666668}, {\"layer\": \"below\", \"line\": {\"color\": \"white\", \"width\": 2}, \"type\": \"line\", \"x0\": 29, \"x1\": 29, \"y0\": 51.63333333333333, \"y1\": 52.3}, {\"layer\": \"below\", \"line\": {\"color\": \"white\", \"width\": 2}, \"type\": \"line\", \"x0\": 31, \"x1\": 31, \"y0\": 1, \"y1\": 1.6666666666666665}, {\"layer\": \"below\", \"line\": {\"color\": \"white\", \"width\": 2}, \"type\": \"line\", \"x0\": 31, \"x1\": 31, \"y0\": 23.58333, \"y1\": 24.249996666666668}, {\"layer\": \"below\", \"line\": {\"color\": \"white\", \"width\": 2}, \"type\": \"line\", \"x0\": 31, \"x1\": 31, \"y0\": 29.08333, \"y1\": 29.749996666666668}, {\"layer\": \"below\", \"line\": {\"color\": \"white\", \"width\": 2}, \"type\": \"line\", \"x0\": 31, \"x1\": 31, \"y0\": 51.63333333333333, \"y1\": 52.3}, {\"layer\": \"below\", \"line\": {\"color\": \"white\", \"width\": 2}, \"type\": \"line\", \"x0\": 32, \"x1\": 32, \"y0\": 1, \"y1\": 1.6666666666666665}, {\"layer\": \"below\", \"line\": {\"color\": \"white\", \"width\": 2}, \"type\": \"line\", \"x0\": 32, \"x1\": 32, \"y0\": 23.58333, \"y1\": 24.249996666666668}, {\"layer\": \"below\", \"line\": {\"color\": \"white\", \"width\": 2}, \"type\": \"line\", \"x0\": 32, \"x1\": 32, \"y0\": 29.08333, \"y1\": 29.749996666666668}, {\"layer\": \"below\", \"line\": {\"color\": \"white\", \"width\": 2}, \"type\": \"line\", \"x0\": 32, \"x1\": 32, \"y0\": 51.63333333333333, \"y1\": 52.3}, {\"layer\": \"below\", \"line\": {\"color\": \"white\", \"width\": 2}, \"type\": \"line\", \"x0\": 33, \"x1\": 33, \"y0\": 1, \"y1\": 1.6666666666666665}, {\"layer\": \"below\", \"line\": {\"color\": \"white\", \"width\": 2}, \"type\": \"line\", \"x0\": 33, \"x1\": 33, \"y0\": 23.58333, \"y1\": 24.249996666666668}, {\"layer\": \"below\", \"line\": {\"color\": \"white\", \"width\": 2}, \"type\": \"line\", \"x0\": 33, \"x1\": 33, \"y0\": 29.08333, \"y1\": 29.749996666666668}, {\"layer\": \"below\", \"line\": {\"color\": \"white\", \"width\": 2}, \"type\": \"line\", \"x0\": 33, \"x1\": 33, \"y0\": 51.63333333333333, \"y1\": 52.3}, {\"layer\": \"below\", \"line\": {\"color\": \"white\", \"width\": 2}, \"type\": \"line\", \"x0\": 34, \"x1\": 34, \"y0\": 1, \"y1\": 1.6666666666666665}, {\"layer\": \"below\", \"line\": {\"color\": \"white\", \"width\": 2}, \"type\": \"line\", \"x0\": 34, \"x1\": 34, \"y0\": 23.58333, \"y1\": 24.249996666666668}, {\"layer\": \"below\", \"line\": {\"color\": \"white\", \"width\": 2}, \"type\": \"line\", \"x0\": 34, \"x1\": 34, \"y0\": 29.08333, \"y1\": 29.749996666666668}, {\"layer\": \"below\", \"line\": {\"color\": \"white\", \"width\": 2}, \"type\": \"line\", \"x0\": 34, \"x1\": 34, \"y0\": 51.63333333333333, \"y1\": 52.3}, {\"layer\": \"below\", \"line\": {\"color\": \"white\", \"width\": 2}, \"type\": \"line\", \"x0\": 35, \"x1\": 35, \"y0\": 1, \"y1\": 1.6666666666666665}, {\"layer\": \"below\", \"line\": {\"color\": \"white\", \"width\": 2}, \"type\": \"line\", \"x0\": 35, \"x1\": 35, \"y0\": 23.58333, \"y1\": 24.249996666666668}, {\"layer\": \"below\", \"line\": {\"color\": \"white\", \"width\": 2}, \"type\": \"line\", \"x0\": 35, \"x1\": 35, \"y0\": 29.08333, \"y1\": 29.749996666666668}, {\"layer\": \"below\", \"line\": {\"color\": \"white\", \"width\": 2}, \"type\": \"line\", \"x0\": 35, \"x1\": 35, \"y0\": 51.63333333333333, \"y1\": 52.3}, {\"layer\": \"below\", \"line\": {\"color\": \"white\", \"width\": 2}, \"type\": \"line\", \"x0\": 36, \"x1\": 36, \"y0\": 1, \"y1\": 1.6666666666666665}, {\"layer\": \"below\", \"line\": {\"color\": \"white\", \"width\": 2}, \"type\": \"line\", \"x0\": 36, \"x1\": 36, \"y0\": 23.58333, \"y1\": 24.249996666666668}, {\"layer\": \"below\", \"line\": {\"color\": \"white\", \"width\": 2}, \"type\": \"line\", \"x0\": 36, \"x1\": 36, \"y0\": 29.08333, \"y1\": 29.749996666666668}, {\"layer\": \"below\", \"line\": {\"color\": \"white\", \"width\": 2}, \"type\": \"line\", \"x0\": 36, \"x1\": 36, \"y0\": 51.63333333333333, \"y1\": 52.3}, {\"layer\": \"below\", \"line\": {\"color\": \"white\", \"width\": 2}, \"type\": \"line\", \"x0\": 37, \"x1\": 37, \"y0\": 1, \"y1\": 1.6666666666666665}, {\"layer\": \"below\", \"line\": {\"color\": \"white\", \"width\": 2}, \"type\": \"line\", \"x0\": 37, \"x1\": 37, \"y0\": 23.58333, \"y1\": 24.249996666666668}, {\"layer\": \"below\", \"line\": {\"color\": \"white\", \"width\": 2}, \"type\": \"line\", \"x0\": 37, \"x1\": 37, \"y0\": 29.08333, \"y1\": 29.749996666666668}, {\"layer\": \"below\", \"line\": {\"color\": \"white\", \"width\": 2}, \"type\": \"line\", \"x0\": 37, \"x1\": 37, \"y0\": 51.63333333333333, \"y1\": 52.3}, {\"layer\": \"below\", \"line\": {\"color\": \"white\", \"width\": 2}, \"type\": \"line\", \"x0\": 38, \"x1\": 38, \"y0\": 1, \"y1\": 1.6666666666666665}, {\"layer\": \"below\", \"line\": {\"color\": \"white\", \"width\": 2}, \"type\": \"line\", \"x0\": 38, \"x1\": 38, \"y0\": 23.58333, \"y1\": 24.249996666666668}, {\"layer\": \"below\", \"line\": {\"color\": \"white\", \"width\": 2}, \"type\": \"line\", \"x0\": 38, \"x1\": 38, \"y0\": 29.08333, \"y1\": 29.749996666666668}, {\"layer\": \"below\", \"line\": {\"color\": \"white\", \"width\": 2}, \"type\": \"line\", \"x0\": 38, \"x1\": 38, \"y0\": 51.63333333333333, \"y1\": 52.3}, {\"layer\": \"below\", \"line\": {\"color\": \"white\", \"width\": 2}, \"type\": \"line\", \"x0\": 39, \"x1\": 39, \"y0\": 1, \"y1\": 1.6666666666666665}, {\"layer\": \"below\", \"line\": {\"color\": \"white\", \"width\": 2}, \"type\": \"line\", \"x0\": 39, \"x1\": 39, \"y0\": 23.58333, \"y1\": 24.249996666666668}, {\"layer\": \"below\", \"line\": {\"color\": \"white\", \"width\": 2}, \"type\": \"line\", \"x0\": 39, \"x1\": 39, \"y0\": 29.08333, \"y1\": 29.749996666666668}, {\"layer\": \"below\", \"line\": {\"color\": \"white\", \"width\": 2}, \"type\": \"line\", \"x0\": 39, \"x1\": 39, \"y0\": 51.63333333333333, \"y1\": 52.3}, {\"layer\": \"below\", \"line\": {\"color\": \"white\", \"width\": 2}, \"type\": \"line\", \"x0\": 41, \"x1\": 41, \"y0\": 1, \"y1\": 1.6666666666666665}, {\"layer\": \"below\", \"line\": {\"color\": \"white\", \"width\": 2}, \"type\": \"line\", \"x0\": 41, \"x1\": 41, \"y0\": 23.58333, \"y1\": 24.249996666666668}, {\"layer\": \"below\", \"line\": {\"color\": \"white\", \"width\": 2}, \"type\": \"line\", \"x0\": 41, \"x1\": 41, \"y0\": 29.08333, \"y1\": 29.749996666666668}, {\"layer\": \"below\", \"line\": {\"color\": \"white\", \"width\": 2}, \"type\": \"line\", \"x0\": 41, \"x1\": 41, \"y0\": 51.63333333333333, \"y1\": 52.3}, {\"layer\": \"below\", \"line\": {\"color\": \"white\", \"width\": 2}, \"type\": \"line\", \"x0\": 42, \"x1\": 42, \"y0\": 1, \"y1\": 1.6666666666666665}, {\"layer\": \"below\", \"line\": {\"color\": \"white\", \"width\": 2}, \"type\": \"line\", \"x0\": 42, \"x1\": 42, \"y0\": 23.58333, \"y1\": 24.249996666666668}, {\"layer\": \"below\", \"line\": {\"color\": \"white\", \"width\": 2}, \"type\": \"line\", \"x0\": 42, \"x1\": 42, \"y0\": 29.08333, \"y1\": 29.749996666666668}, {\"layer\": \"below\", \"line\": {\"color\": \"white\", \"width\": 2}, \"type\": \"line\", \"x0\": 42, \"x1\": 42, \"y0\": 51.63333333333333, \"y1\": 52.3}, {\"layer\": \"below\", \"line\": {\"color\": \"white\", \"width\": 2}, \"type\": \"line\", \"x0\": 43, \"x1\": 43, \"y0\": 1, \"y1\": 1.6666666666666665}, {\"layer\": \"below\", \"line\": {\"color\": \"white\", \"width\": 2}, \"type\": \"line\", \"x0\": 43, \"x1\": 43, \"y0\": 23.58333, \"y1\": 24.249996666666668}, {\"layer\": \"below\", \"line\": {\"color\": \"white\", \"width\": 2}, \"type\": \"line\", \"x0\": 43, \"x1\": 43, \"y0\": 29.08333, \"y1\": 29.749996666666668}, {\"layer\": \"below\", \"line\": {\"color\": \"white\", \"width\": 2}, \"type\": \"line\", \"x0\": 43, \"x1\": 43, \"y0\": 51.63333333333333, \"y1\": 52.3}, {\"layer\": \"below\", \"line\": {\"color\": \"white\", \"width\": 2}, \"type\": \"line\", \"x0\": 44, \"x1\": 44, \"y0\": 1, \"y1\": 1.6666666666666665}, {\"layer\": \"below\", \"line\": {\"color\": \"white\", \"width\": 2}, \"type\": \"line\", \"x0\": 44, \"x1\": 44, \"y0\": 23.58333, \"y1\": 24.249996666666668}, {\"layer\": \"below\", \"line\": {\"color\": \"white\", \"width\": 2}, \"type\": \"line\", \"x0\": 44, \"x1\": 44, \"y0\": 29.08333, \"y1\": 29.749996666666668}, {\"layer\": \"below\", \"line\": {\"color\": \"white\", \"width\": 2}, \"type\": \"line\", \"x0\": 44, \"x1\": 44, \"y0\": 51.63333333333333, \"y1\": 52.3}, {\"layer\": \"below\", \"line\": {\"color\": \"white\", \"width\": 2}, \"type\": \"line\", \"x0\": 45, \"x1\": 45, \"y0\": 1, \"y1\": 1.6666666666666665}, {\"layer\": \"below\", \"line\": {\"color\": \"white\", \"width\": 2}, \"type\": \"line\", \"x0\": 45, \"x1\": 45, \"y0\": 23.58333, \"y1\": 24.249996666666668}, {\"layer\": \"below\", \"line\": {\"color\": \"white\", \"width\": 2}, \"type\": \"line\", \"x0\": 45, \"x1\": 45, \"y0\": 29.08333, \"y1\": 29.749996666666668}, {\"layer\": \"below\", \"line\": {\"color\": \"white\", \"width\": 2}, \"type\": \"line\", \"x0\": 45, \"x1\": 45, \"y0\": 51.63333333333333, \"y1\": 52.3}, {\"layer\": \"below\", \"line\": {\"color\": \"white\", \"width\": 2}, \"type\": \"line\", \"x0\": 46, \"x1\": 46, \"y0\": 1, \"y1\": 1.6666666666666665}, {\"layer\": \"below\", \"line\": {\"color\": \"white\", \"width\": 2}, \"type\": \"line\", \"x0\": 46, \"x1\": 46, \"y0\": 23.58333, \"y1\": 24.249996666666668}, {\"layer\": \"below\", \"line\": {\"color\": \"white\", \"width\": 2}, \"type\": \"line\", \"x0\": 46, \"x1\": 46, \"y0\": 29.08333, \"y1\": 29.749996666666668}, {\"layer\": \"below\", \"line\": {\"color\": \"white\", \"width\": 2}, \"type\": \"line\", \"x0\": 46, \"x1\": 46, \"y0\": 51.63333333333333, \"y1\": 52.3}, {\"layer\": \"below\", \"line\": {\"color\": \"white\", \"width\": 2}, \"type\": \"line\", \"x0\": 47, \"x1\": 47, \"y0\": 1, \"y1\": 1.6666666666666665}, {\"layer\": \"below\", \"line\": {\"color\": \"white\", \"width\": 2}, \"type\": \"line\", \"x0\": 47, \"x1\": 47, \"y0\": 23.58333, \"y1\": 24.249996666666668}, {\"layer\": \"below\", \"line\": {\"color\": \"white\", \"width\": 2}, \"type\": \"line\", \"x0\": 47, \"x1\": 47, \"y0\": 29.08333, \"y1\": 29.749996666666668}, {\"layer\": \"below\", \"line\": {\"color\": \"white\", \"width\": 2}, \"type\": \"line\", \"x0\": 47, \"x1\": 47, \"y0\": 51.63333333333333, \"y1\": 52.3}, {\"layer\": \"below\", \"line\": {\"color\": \"white\", \"width\": 2}, \"type\": \"line\", \"x0\": 48, \"x1\": 48, \"y0\": 1, \"y1\": 1.6666666666666665}, {\"layer\": \"below\", \"line\": {\"color\": \"white\", \"width\": 2}, \"type\": \"line\", \"x0\": 48, \"x1\": 48, \"y0\": 23.58333, \"y1\": 24.249996666666668}, {\"layer\": \"below\", \"line\": {\"color\": \"white\", \"width\": 2}, \"type\": \"line\", \"x0\": 48, \"x1\": 48, \"y0\": 29.08333, \"y1\": 29.749996666666668}, {\"layer\": \"below\", \"line\": {\"color\": \"white\", \"width\": 2}, \"type\": \"line\", \"x0\": 48, \"x1\": 48, \"y0\": 51.63333333333333, \"y1\": 52.3}, {\"layer\": \"below\", \"line\": {\"color\": \"white\", \"width\": 2}, \"type\": \"line\", \"x0\": 49, \"x1\": 49, \"y0\": 1, \"y1\": 1.6666666666666665}, {\"layer\": \"below\", \"line\": {\"color\": \"white\", \"width\": 2}, \"type\": \"line\", \"x0\": 49, \"x1\": 49, \"y0\": 23.58333, \"y1\": 24.249996666666668}, {\"layer\": \"below\", \"line\": {\"color\": \"white\", \"width\": 2}, \"type\": \"line\", \"x0\": 49, \"x1\": 49, \"y0\": 29.08333, \"y1\": 29.749996666666668}, {\"layer\": \"below\", \"line\": {\"color\": \"white\", \"width\": 2}, \"type\": \"line\", \"x0\": 49, \"x1\": 49, \"y0\": 51.63333333333333, \"y1\": 52.3}, {\"layer\": \"below\", \"line\": {\"color\": \"white\", \"width\": 2}, \"type\": \"line\", \"x0\": 51, \"x1\": 51, \"y0\": 1, \"y1\": 1.6666666666666665}, {\"layer\": \"below\", \"line\": {\"color\": \"white\", \"width\": 2}, \"type\": \"line\", \"x0\": 51, \"x1\": 51, \"y0\": 23.58333, \"y1\": 24.249996666666668}, {\"layer\": \"below\", \"line\": {\"color\": \"white\", \"width\": 2}, \"type\": \"line\", \"x0\": 51, \"x1\": 51, \"y0\": 29.08333, \"y1\": 29.749996666666668}, {\"layer\": \"below\", \"line\": {\"color\": \"white\", \"width\": 2}, \"type\": \"line\", \"x0\": 51, \"x1\": 51, \"y0\": 51.63333333333333, \"y1\": 52.3}, {\"layer\": \"below\", \"line\": {\"color\": \"white\", \"width\": 2}, \"type\": \"line\", \"x0\": 52, \"x1\": 52, \"y0\": 1, \"y1\": 1.6666666666666665}, {\"layer\": \"below\", \"line\": {\"color\": \"white\", \"width\": 2}, \"type\": \"line\", \"x0\": 52, \"x1\": 52, \"y0\": 23.58333, \"y1\": 24.249996666666668}, {\"layer\": \"below\", \"line\": {\"color\": \"white\", \"width\": 2}, \"type\": \"line\", \"x0\": 52, \"x1\": 52, \"y0\": 29.08333, \"y1\": 29.749996666666668}, {\"layer\": \"below\", \"line\": {\"color\": \"white\", \"width\": 2}, \"type\": \"line\", \"x0\": 52, \"x1\": 52, \"y0\": 51.63333333333333, \"y1\": 52.3}, {\"layer\": \"below\", \"line\": {\"color\": \"white\", \"width\": 2}, \"type\": \"line\", \"x0\": 53, \"x1\": 53, \"y0\": 1, \"y1\": 1.6666666666666665}, {\"layer\": \"below\", \"line\": {\"color\": \"white\", \"width\": 2}, \"type\": \"line\", \"x0\": 53, \"x1\": 53, \"y0\": 23.58333, \"y1\": 24.249996666666668}, {\"layer\": \"below\", \"line\": {\"color\": \"white\", \"width\": 2}, \"type\": \"line\", \"x0\": 53, \"x1\": 53, \"y0\": 29.08333, \"y1\": 29.749996666666668}, {\"layer\": \"below\", \"line\": {\"color\": \"white\", \"width\": 2}, \"type\": \"line\", \"x0\": 53, \"x1\": 53, \"y0\": 51.63333333333333, \"y1\": 52.3}, {\"layer\": \"below\", \"line\": {\"color\": \"white\", \"width\": 2}, \"type\": \"line\", \"x0\": 54, \"x1\": 54, \"y0\": 1, \"y1\": 1.6666666666666665}, {\"layer\": \"below\", \"line\": {\"color\": \"white\", \"width\": 2}, \"type\": \"line\", \"x0\": 54, \"x1\": 54, \"y0\": 23.58333, \"y1\": 24.249996666666668}, {\"layer\": \"below\", \"line\": {\"color\": \"white\", \"width\": 2}, \"type\": \"line\", \"x0\": 54, \"x1\": 54, \"y0\": 29.08333, \"y1\": 29.749996666666668}, {\"layer\": \"below\", \"line\": {\"color\": \"white\", \"width\": 2}, \"type\": \"line\", \"x0\": 54, \"x1\": 54, \"y0\": 51.63333333333333, \"y1\": 52.3}, {\"layer\": \"below\", \"line\": {\"color\": \"white\", \"width\": 2}, \"type\": \"line\", \"x0\": 55, \"x1\": 55, \"y0\": 1, \"y1\": 1.6666666666666665}, {\"layer\": \"below\", \"line\": {\"color\": \"white\", \"width\": 2}, \"type\": \"line\", \"x0\": 55, \"x1\": 55, \"y0\": 23.58333, \"y1\": 24.249996666666668}, {\"layer\": \"below\", \"line\": {\"color\": \"white\", \"width\": 2}, \"type\": \"line\", \"x0\": 55, \"x1\": 55, \"y0\": 29.08333, \"y1\": 29.749996666666668}, {\"layer\": \"below\", \"line\": {\"color\": \"white\", \"width\": 2}, \"type\": \"line\", \"x0\": 55, \"x1\": 55, \"y0\": 51.63333333333333, \"y1\": 52.3}, {\"layer\": \"below\", \"line\": {\"color\": \"white\", \"width\": 2}, \"type\": \"line\", \"x0\": 56, \"x1\": 56, \"y0\": 1, \"y1\": 1.6666666666666665}, {\"layer\": \"below\", \"line\": {\"color\": \"white\", \"width\": 2}, \"type\": \"line\", \"x0\": 56, \"x1\": 56, \"y0\": 23.58333, \"y1\": 24.249996666666668}, {\"layer\": \"below\", \"line\": {\"color\": \"white\", \"width\": 2}, \"type\": \"line\", \"x0\": 56, \"x1\": 56, \"y0\": 29.08333, \"y1\": 29.749996666666668}, {\"layer\": \"below\", \"line\": {\"color\": \"white\", \"width\": 2}, \"type\": \"line\", \"x0\": 56, \"x1\": 56, \"y0\": 51.63333333333333, \"y1\": 52.3}, {\"layer\": \"below\", \"line\": {\"color\": \"white\", \"width\": 2}, \"type\": \"line\", \"x0\": 57, \"x1\": 57, \"y0\": 1, \"y1\": 1.6666666666666665}, {\"layer\": \"below\", \"line\": {\"color\": \"white\", \"width\": 2}, \"type\": \"line\", \"x0\": 57, \"x1\": 57, \"y0\": 23.58333, \"y1\": 24.249996666666668}, {\"layer\": \"below\", \"line\": {\"color\": \"white\", \"width\": 2}, \"type\": \"line\", \"x0\": 57, \"x1\": 57, \"y0\": 29.08333, \"y1\": 29.749996666666668}, {\"layer\": \"below\", \"line\": {\"color\": \"white\", \"width\": 2}, \"type\": \"line\", \"x0\": 57, \"x1\": 57, \"y0\": 51.63333333333333, \"y1\": 52.3}, {\"layer\": \"below\", \"line\": {\"color\": \"white\", \"width\": 2}, \"type\": \"line\", \"x0\": 58, \"x1\": 58, \"y0\": 1, \"y1\": 1.6666666666666665}, {\"layer\": \"below\", \"line\": {\"color\": \"white\", \"width\": 2}, \"type\": \"line\", \"x0\": 58, \"x1\": 58, \"y0\": 23.58333, \"y1\": 24.249996666666668}, {\"layer\": \"below\", \"line\": {\"color\": \"white\", \"width\": 2}, \"type\": \"line\", \"x0\": 58, \"x1\": 58, \"y0\": 29.08333, \"y1\": 29.749996666666668}, {\"layer\": \"below\", \"line\": {\"color\": \"white\", \"width\": 2}, \"type\": \"line\", \"x0\": 58, \"x1\": 58, \"y0\": 51.63333333333333, \"y1\": 52.3}, {\"layer\": \"below\", \"line\": {\"color\": \"white\", \"width\": 2}, \"type\": \"line\", \"x0\": 59, \"x1\": 59, \"y0\": 1, \"y1\": 1.6666666666666665}, {\"layer\": \"below\", \"line\": {\"color\": \"white\", \"width\": 2}, \"type\": \"line\", \"x0\": 59, \"x1\": 59, \"y0\": 23.58333, \"y1\": 24.249996666666668}, {\"layer\": \"below\", \"line\": {\"color\": \"white\", \"width\": 2}, \"type\": \"line\", \"x0\": 59, \"x1\": 59, \"y0\": 29.08333, \"y1\": 29.749996666666668}, {\"layer\": \"below\", \"line\": {\"color\": \"white\", \"width\": 2}, \"type\": \"line\", \"x0\": 59, \"x1\": 59, \"y0\": 51.63333333333333, \"y1\": 52.3}, {\"layer\": \"below\", \"line\": {\"color\": \"white\", \"width\": 2}, \"type\": \"line\", \"x0\": 61, \"x1\": 61, \"y0\": 1, \"y1\": 1.6666666666666665}, {\"layer\": \"below\", \"line\": {\"color\": \"white\", \"width\": 2}, \"type\": \"line\", \"x0\": 61, \"x1\": 61, \"y0\": 23.58333, \"y1\": 24.249996666666668}, {\"layer\": \"below\", \"line\": {\"color\": \"white\", \"width\": 2}, \"type\": \"line\", \"x0\": 61, \"x1\": 61, \"y0\": 29.08333, \"y1\": 29.749996666666668}, {\"layer\": \"below\", \"line\": {\"color\": \"white\", \"width\": 2}, \"type\": \"line\", \"x0\": 61, \"x1\": 61, \"y0\": 51.63333333333333, \"y1\": 52.3}, {\"layer\": \"below\", \"line\": {\"color\": \"white\", \"width\": 2}, \"type\": \"line\", \"x0\": 62, \"x1\": 62, \"y0\": 1, \"y1\": 1.6666666666666665}, {\"layer\": \"below\", \"line\": {\"color\": \"white\", \"width\": 2}, \"type\": \"line\", \"x0\": 62, \"x1\": 62, \"y0\": 23.58333, \"y1\": 24.249996666666668}, {\"layer\": \"below\", \"line\": {\"color\": \"white\", \"width\": 2}, \"type\": \"line\", \"x0\": 62, \"x1\": 62, \"y0\": 29.08333, \"y1\": 29.749996666666668}, {\"layer\": \"below\", \"line\": {\"color\": \"white\", \"width\": 2}, \"type\": \"line\", \"x0\": 62, \"x1\": 62, \"y0\": 51.63333333333333, \"y1\": 52.3}, {\"layer\": \"below\", \"line\": {\"color\": \"white\", \"width\": 2}, \"type\": \"line\", \"x0\": 63, \"x1\": 63, \"y0\": 1, \"y1\": 1.6666666666666665}, {\"layer\": \"below\", \"line\": {\"color\": \"white\", \"width\": 2}, \"type\": \"line\", \"x0\": 63, \"x1\": 63, \"y0\": 23.58333, \"y1\": 24.249996666666668}, {\"layer\": \"below\", \"line\": {\"color\": \"white\", \"width\": 2}, \"type\": \"line\", \"x0\": 63, \"x1\": 63, \"y0\": 29.08333, \"y1\": 29.749996666666668}, {\"layer\": \"below\", \"line\": {\"color\": \"white\", \"width\": 2}, \"type\": \"line\", \"x0\": 63, \"x1\": 63, \"y0\": 51.63333333333333, \"y1\": 52.3}, {\"layer\": \"below\", \"line\": {\"color\": \"white\", \"width\": 2}, \"type\": \"line\", \"x0\": 64, \"x1\": 64, \"y0\": 1, \"y1\": 1.6666666666666665}, {\"layer\": \"below\", \"line\": {\"color\": \"white\", \"width\": 2}, \"type\": \"line\", \"x0\": 64, \"x1\": 64, \"y0\": 23.58333, \"y1\": 24.249996666666668}, {\"layer\": \"below\", \"line\": {\"color\": \"white\", \"width\": 2}, \"type\": \"line\", \"x0\": 64, \"x1\": 64, \"y0\": 29.08333, \"y1\": 29.749996666666668}, {\"layer\": \"below\", \"line\": {\"color\": \"white\", \"width\": 2}, \"type\": \"line\", \"x0\": 64, \"x1\": 64, \"y0\": 51.63333333333333, \"y1\": 52.3}, {\"layer\": \"below\", \"line\": {\"color\": \"white\", \"width\": 2}, \"type\": \"line\", \"x0\": 65, \"x1\": 65, \"y0\": 1, \"y1\": 1.6666666666666665}, {\"layer\": \"below\", \"line\": {\"color\": \"white\", \"width\": 2}, \"type\": \"line\", \"x0\": 65, \"x1\": 65, \"y0\": 23.58333, \"y1\": 24.249996666666668}, {\"layer\": \"below\", \"line\": {\"color\": \"white\", \"width\": 2}, \"type\": \"line\", \"x0\": 65, \"x1\": 65, \"y0\": 29.08333, \"y1\": 29.749996666666668}, {\"layer\": \"below\", \"line\": {\"color\": \"white\", \"width\": 2}, \"type\": \"line\", \"x0\": 65, \"x1\": 65, \"y0\": 51.63333333333333, \"y1\": 52.3}, {\"layer\": \"below\", \"line\": {\"color\": \"white\", \"width\": 2}, \"type\": \"line\", \"x0\": 66, \"x1\": 66, \"y0\": 1, \"y1\": 1.6666666666666665}, {\"layer\": \"below\", \"line\": {\"color\": \"white\", \"width\": 2}, \"type\": \"line\", \"x0\": 66, \"x1\": 66, \"y0\": 23.58333, \"y1\": 24.249996666666668}, {\"layer\": \"below\", \"line\": {\"color\": \"white\", \"width\": 2}, \"type\": \"line\", \"x0\": 66, \"x1\": 66, \"y0\": 29.08333, \"y1\": 29.749996666666668}, {\"layer\": \"below\", \"line\": {\"color\": \"white\", \"width\": 2}, \"type\": \"line\", \"x0\": 66, \"x1\": 66, \"y0\": 51.63333333333333, \"y1\": 52.3}, {\"layer\": \"below\", \"line\": {\"color\": \"white\", \"width\": 2}, \"type\": \"line\", \"x0\": 67, \"x1\": 67, \"y0\": 1, \"y1\": 1.6666666666666665}, {\"layer\": \"below\", \"line\": {\"color\": \"white\", \"width\": 2}, \"type\": \"line\", \"x0\": 67, \"x1\": 67, \"y0\": 23.58333, \"y1\": 24.249996666666668}, {\"layer\": \"below\", \"line\": {\"color\": \"white\", \"width\": 2}, \"type\": \"line\", \"x0\": 67, \"x1\": 67, \"y0\": 29.08333, \"y1\": 29.749996666666668}, {\"layer\": \"below\", \"line\": {\"color\": \"white\", \"width\": 2}, \"type\": \"line\", \"x0\": 67, \"x1\": 67, \"y0\": 51.63333333333333, \"y1\": 52.3}, {\"layer\": \"below\", \"line\": {\"color\": \"white\", \"width\": 2}, \"type\": \"line\", \"x0\": 68, \"x1\": 68, \"y0\": 1, \"y1\": 1.6666666666666665}, {\"layer\": \"below\", \"line\": {\"color\": \"white\", \"width\": 2}, \"type\": \"line\", \"x0\": 68, \"x1\": 68, \"y0\": 23.58333, \"y1\": 24.249996666666668}, {\"layer\": \"below\", \"line\": {\"color\": \"white\", \"width\": 2}, \"type\": \"line\", \"x0\": 68, \"x1\": 68, \"y0\": 29.08333, \"y1\": 29.749996666666668}, {\"layer\": \"below\", \"line\": {\"color\": \"white\", \"width\": 2}, \"type\": \"line\", \"x0\": 68, \"x1\": 68, \"y0\": 51.63333333333333, \"y1\": 52.3}, {\"layer\": \"below\", \"line\": {\"color\": \"white\", \"width\": 2}, \"type\": \"line\", \"x0\": 69, \"x1\": 69, \"y0\": 1, \"y1\": 1.6666666666666665}, {\"layer\": \"below\", \"line\": {\"color\": \"white\", \"width\": 2}, \"type\": \"line\", \"x0\": 69, \"x1\": 69, \"y0\": 23.58333, \"y1\": 24.249996666666668}, {\"layer\": \"below\", \"line\": {\"color\": \"white\", \"width\": 2}, \"type\": \"line\", \"x0\": 69, \"x1\": 69, \"y0\": 29.08333, \"y1\": 29.749996666666668}, {\"layer\": \"below\", \"line\": {\"color\": \"white\", \"width\": 2}, \"type\": \"line\", \"x0\": 69, \"x1\": 69, \"y0\": 51.63333333333333, \"y1\": 52.3}, {\"layer\": \"below\", \"line\": {\"color\": \"white\", \"width\": 2}, \"type\": \"line\", \"x0\": 71, \"x1\": 71, \"y0\": 1, \"y1\": 1.6666666666666665}, {\"layer\": \"below\", \"line\": {\"color\": \"white\", \"width\": 2}, \"type\": \"line\", \"x0\": 71, \"x1\": 71, \"y0\": 23.58333, \"y1\": 24.249996666666668}, {\"layer\": \"below\", \"line\": {\"color\": \"white\", \"width\": 2}, \"type\": \"line\", \"x0\": 71, \"x1\": 71, \"y0\": 29.08333, \"y1\": 29.749996666666668}, {\"layer\": \"below\", \"line\": {\"color\": \"white\", \"width\": 2}, \"type\": \"line\", \"x0\": 71, \"x1\": 71, \"y0\": 51.63333333333333, \"y1\": 52.3}, {\"layer\": \"below\", \"line\": {\"color\": \"white\", \"width\": 2}, \"type\": \"line\", \"x0\": 72, \"x1\": 72, \"y0\": 1, \"y1\": 1.6666666666666665}, {\"layer\": \"below\", \"line\": {\"color\": \"white\", \"width\": 2}, \"type\": \"line\", \"x0\": 72, \"x1\": 72, \"y0\": 23.58333, \"y1\": 24.249996666666668}, {\"layer\": \"below\", \"line\": {\"color\": \"white\", \"width\": 2}, \"type\": \"line\", \"x0\": 72, \"x1\": 72, \"y0\": 29.08333, \"y1\": 29.749996666666668}, {\"layer\": \"below\", \"line\": {\"color\": \"white\", \"width\": 2}, \"type\": \"line\", \"x0\": 72, \"x1\": 72, \"y0\": 51.63333333333333, \"y1\": 52.3}, {\"layer\": \"below\", \"line\": {\"color\": \"white\", \"width\": 2}, \"type\": \"line\", \"x0\": 73, \"x1\": 73, \"y0\": 1, \"y1\": 1.6666666666666665}, {\"layer\": \"below\", \"line\": {\"color\": \"white\", \"width\": 2}, \"type\": \"line\", \"x0\": 73, \"x1\": 73, \"y0\": 23.58333, \"y1\": 24.249996666666668}, {\"layer\": \"below\", \"line\": {\"color\": \"white\", \"width\": 2}, \"type\": \"line\", \"x0\": 73, \"x1\": 73, \"y0\": 29.08333, \"y1\": 29.749996666666668}, {\"layer\": \"below\", \"line\": {\"color\": \"white\", \"width\": 2}, \"type\": \"line\", \"x0\": 73, \"x1\": 73, \"y0\": 51.63333333333333, \"y1\": 52.3}, {\"layer\": \"below\", \"line\": {\"color\": \"white\", \"width\": 2}, \"type\": \"line\", \"x0\": 74, \"x1\": 74, \"y0\": 1, \"y1\": 1.6666666666666665}, {\"layer\": \"below\", \"line\": {\"color\": \"white\", \"width\": 2}, \"type\": \"line\", \"x0\": 74, \"x1\": 74, \"y0\": 23.58333, \"y1\": 24.249996666666668}, {\"layer\": \"below\", \"line\": {\"color\": \"white\", \"width\": 2}, \"type\": \"line\", \"x0\": 74, \"x1\": 74, \"y0\": 29.08333, \"y1\": 29.749996666666668}, {\"layer\": \"below\", \"line\": {\"color\": \"white\", \"width\": 2}, \"type\": \"line\", \"x0\": 74, \"x1\": 74, \"y0\": 51.63333333333333, \"y1\": 52.3}, {\"layer\": \"below\", \"line\": {\"color\": \"white\", \"width\": 2}, \"type\": \"line\", \"x0\": 75, \"x1\": 75, \"y0\": 1, \"y1\": 1.6666666666666665}, {\"layer\": \"below\", \"line\": {\"color\": \"white\", \"width\": 2}, \"type\": \"line\", \"x0\": 75, \"x1\": 75, \"y0\": 23.58333, \"y1\": 24.249996666666668}, {\"layer\": \"below\", \"line\": {\"color\": \"white\", \"width\": 2}, \"type\": \"line\", \"x0\": 75, \"x1\": 75, \"y0\": 29.08333, \"y1\": 29.749996666666668}, {\"layer\": \"below\", \"line\": {\"color\": \"white\", \"width\": 2}, \"type\": \"line\", \"x0\": 75, \"x1\": 75, \"y0\": 51.63333333333333, \"y1\": 52.3}, {\"layer\": \"below\", \"line\": {\"color\": \"white\", \"width\": 2}, \"type\": \"line\", \"x0\": 76, \"x1\": 76, \"y0\": 1, \"y1\": 1.6666666666666665}, {\"layer\": \"below\", \"line\": {\"color\": \"white\", \"width\": 2}, \"type\": \"line\", \"x0\": 76, \"x1\": 76, \"y0\": 23.58333, \"y1\": 24.249996666666668}, {\"layer\": \"below\", \"line\": {\"color\": \"white\", \"width\": 2}, \"type\": \"line\", \"x0\": 76, \"x1\": 76, \"y0\": 29.08333, \"y1\": 29.749996666666668}, {\"layer\": \"below\", \"line\": {\"color\": \"white\", \"width\": 2}, \"type\": \"line\", \"x0\": 76, \"x1\": 76, \"y0\": 51.63333333333333, \"y1\": 52.3}, {\"layer\": \"below\", \"line\": {\"color\": \"white\", \"width\": 2}, \"type\": \"line\", \"x0\": 77, \"x1\": 77, \"y0\": 1, \"y1\": 1.6666666666666665}, {\"layer\": \"below\", \"line\": {\"color\": \"white\", \"width\": 2}, \"type\": \"line\", \"x0\": 77, \"x1\": 77, \"y0\": 23.58333, \"y1\": 24.249996666666668}, {\"layer\": \"below\", \"line\": {\"color\": \"white\", \"width\": 2}, \"type\": \"line\", \"x0\": 77, \"x1\": 77, \"y0\": 29.08333, \"y1\": 29.749996666666668}, {\"layer\": \"below\", \"line\": {\"color\": \"white\", \"width\": 2}, \"type\": \"line\", \"x0\": 77, \"x1\": 77, \"y0\": 51.63333333333333, \"y1\": 52.3}, {\"layer\": \"below\", \"line\": {\"color\": \"white\", \"width\": 2}, \"type\": \"line\", \"x0\": 78, \"x1\": 78, \"y0\": 1, \"y1\": 1.6666666666666665}, {\"layer\": \"below\", \"line\": {\"color\": \"white\", \"width\": 2}, \"type\": \"line\", \"x0\": 78, \"x1\": 78, \"y0\": 23.58333, \"y1\": 24.249996666666668}, {\"layer\": \"below\", \"line\": {\"color\": \"white\", \"width\": 2}, \"type\": \"line\", \"x0\": 78, \"x1\": 78, \"y0\": 29.08333, \"y1\": 29.749996666666668}, {\"layer\": \"below\", \"line\": {\"color\": \"white\", \"width\": 2}, \"type\": \"line\", \"x0\": 78, \"x1\": 78, \"y0\": 51.63333333333333, \"y1\": 52.3}, {\"layer\": \"below\", \"line\": {\"color\": \"white\", \"width\": 2}, \"type\": \"line\", \"x0\": 79, \"x1\": 79, \"y0\": 1, \"y1\": 1.6666666666666665}, {\"layer\": \"below\", \"line\": {\"color\": \"white\", \"width\": 2}, \"type\": \"line\", \"x0\": 79, \"x1\": 79, \"y0\": 23.58333, \"y1\": 24.249996666666668}, {\"layer\": \"below\", \"line\": {\"color\": \"white\", \"width\": 2}, \"type\": \"line\", \"x0\": 79, \"x1\": 79, \"y0\": 29.08333, \"y1\": 29.749996666666668}, {\"layer\": \"below\", \"line\": {\"color\": \"white\", \"width\": 2}, \"type\": \"line\", \"x0\": 79, \"x1\": 79, \"y0\": 51.63333333333333, \"y1\": 52.3}, {\"layer\": \"below\", \"line\": {\"color\": \"white\", \"width\": 2}, \"type\": \"line\", \"x0\": 81, \"x1\": 81, \"y0\": 1, \"y1\": 1.6666666666666665}, {\"layer\": \"below\", \"line\": {\"color\": \"white\", \"width\": 2}, \"type\": \"line\", \"x0\": 81, \"x1\": 81, \"y0\": 23.58333, \"y1\": 24.249996666666668}, {\"layer\": \"below\", \"line\": {\"color\": \"white\", \"width\": 2}, \"type\": \"line\", \"x0\": 81, \"x1\": 81, \"y0\": 29.08333, \"y1\": 29.749996666666668}, {\"layer\": \"below\", \"line\": {\"color\": \"white\", \"width\": 2}, \"type\": \"line\", \"x0\": 81, \"x1\": 81, \"y0\": 51.63333333333333, \"y1\": 52.3}, {\"layer\": \"below\", \"line\": {\"color\": \"white\", \"width\": 2}, \"type\": \"line\", \"x0\": 82, \"x1\": 82, \"y0\": 1, \"y1\": 1.6666666666666665}, {\"layer\": \"below\", \"line\": {\"color\": \"white\", \"width\": 2}, \"type\": \"line\", \"x0\": 82, \"x1\": 82, \"y0\": 23.58333, \"y1\": 24.249996666666668}, {\"layer\": \"below\", \"line\": {\"color\": \"white\", \"width\": 2}, \"type\": \"line\", \"x0\": 82, \"x1\": 82, \"y0\": 29.08333, \"y1\": 29.749996666666668}, {\"layer\": \"below\", \"line\": {\"color\": \"white\", \"width\": 2}, \"type\": \"line\", \"x0\": 82, \"x1\": 82, \"y0\": 51.63333333333333, \"y1\": 52.3}, {\"layer\": \"below\", \"line\": {\"color\": \"white\", \"width\": 2}, \"type\": \"line\", \"x0\": 83, \"x1\": 83, \"y0\": 1, \"y1\": 1.6666666666666665}, {\"layer\": \"below\", \"line\": {\"color\": \"white\", \"width\": 2}, \"type\": \"line\", \"x0\": 83, \"x1\": 83, \"y0\": 23.58333, \"y1\": 24.249996666666668}, {\"layer\": \"below\", \"line\": {\"color\": \"white\", \"width\": 2}, \"type\": \"line\", \"x0\": 83, \"x1\": 83, \"y0\": 29.08333, \"y1\": 29.749996666666668}, {\"layer\": \"below\", \"line\": {\"color\": \"white\", \"width\": 2}, \"type\": \"line\", \"x0\": 83, \"x1\": 83, \"y0\": 51.63333333333333, \"y1\": 52.3}, {\"layer\": \"below\", \"line\": {\"color\": \"white\", \"width\": 2}, \"type\": \"line\", \"x0\": 84, \"x1\": 84, \"y0\": 1, \"y1\": 1.6666666666666665}, {\"layer\": \"below\", \"line\": {\"color\": \"white\", \"width\": 2}, \"type\": \"line\", \"x0\": 84, \"x1\": 84, \"y0\": 23.58333, \"y1\": 24.249996666666668}, {\"layer\": \"below\", \"line\": {\"color\": \"white\", \"width\": 2}, \"type\": \"line\", \"x0\": 84, \"x1\": 84, \"y0\": 29.08333, \"y1\": 29.749996666666668}, {\"layer\": \"below\", \"line\": {\"color\": \"white\", \"width\": 2}, \"type\": \"line\", \"x0\": 84, \"x1\": 84, \"y0\": 51.63333333333333, \"y1\": 52.3}, {\"layer\": \"below\", \"line\": {\"color\": \"white\", \"width\": 2}, \"type\": \"line\", \"x0\": 85, \"x1\": 85, \"y0\": 1, \"y1\": 1.6666666666666665}, {\"layer\": \"below\", \"line\": {\"color\": \"white\", \"width\": 2}, \"type\": \"line\", \"x0\": 85, \"x1\": 85, \"y0\": 23.58333, \"y1\": 24.249996666666668}, {\"layer\": \"below\", \"line\": {\"color\": \"white\", \"width\": 2}, \"type\": \"line\", \"x0\": 85, \"x1\": 85, \"y0\": 29.08333, \"y1\": 29.749996666666668}, {\"layer\": \"below\", \"line\": {\"color\": \"white\", \"width\": 2}, \"type\": \"line\", \"x0\": 85, \"x1\": 85, \"y0\": 51.63333333333333, \"y1\": 52.3}, {\"layer\": \"below\", \"line\": {\"color\": \"white\", \"width\": 2}, \"type\": \"line\", \"x0\": 86, \"x1\": 86, \"y0\": 1, \"y1\": 1.6666666666666665}, {\"layer\": \"below\", \"line\": {\"color\": \"white\", \"width\": 2}, \"type\": \"line\", \"x0\": 86, \"x1\": 86, \"y0\": 23.58333, \"y1\": 24.249996666666668}, {\"layer\": \"below\", \"line\": {\"color\": \"white\", \"width\": 2}, \"type\": \"line\", \"x0\": 86, \"x1\": 86, \"y0\": 29.08333, \"y1\": 29.749996666666668}, {\"layer\": \"below\", \"line\": {\"color\": \"white\", \"width\": 2}, \"type\": \"line\", \"x0\": 86, \"x1\": 86, \"y0\": 51.63333333333333, \"y1\": 52.3}, {\"layer\": \"below\", \"line\": {\"color\": \"white\", \"width\": 2}, \"type\": \"line\", \"x0\": 87, \"x1\": 87, \"y0\": 1, \"y1\": 1.6666666666666665}, {\"layer\": \"below\", \"line\": {\"color\": \"white\", \"width\": 2}, \"type\": \"line\", \"x0\": 87, \"x1\": 87, \"y0\": 23.58333, \"y1\": 24.249996666666668}, {\"layer\": \"below\", \"line\": {\"color\": \"white\", \"width\": 2}, \"type\": \"line\", \"x0\": 87, \"x1\": 87, \"y0\": 29.08333, \"y1\": 29.749996666666668}, {\"layer\": \"below\", \"line\": {\"color\": \"white\", \"width\": 2}, \"type\": \"line\", \"x0\": 87, \"x1\": 87, \"y0\": 51.63333333333333, \"y1\": 52.3}, {\"layer\": \"below\", \"line\": {\"color\": \"white\", \"width\": 2}, \"type\": \"line\", \"x0\": 88, \"x1\": 88, \"y0\": 1, \"y1\": 1.6666666666666665}, {\"layer\": \"below\", \"line\": {\"color\": \"white\", \"width\": 2}, \"type\": \"line\", \"x0\": 88, \"x1\": 88, \"y0\": 23.58333, \"y1\": 24.249996666666668}, {\"layer\": \"below\", \"line\": {\"color\": \"white\", \"width\": 2}, \"type\": \"line\", \"x0\": 88, \"x1\": 88, \"y0\": 29.08333, \"y1\": 29.749996666666668}, {\"layer\": \"below\", \"line\": {\"color\": \"white\", \"width\": 2}, \"type\": \"line\", \"x0\": 88, \"x1\": 88, \"y0\": 51.63333333333333, \"y1\": 52.3}, {\"layer\": \"below\", \"line\": {\"color\": \"white\", \"width\": 2}, \"type\": \"line\", \"x0\": 89, \"x1\": 89, \"y0\": 1, \"y1\": 1.6666666666666665}, {\"layer\": \"below\", \"line\": {\"color\": \"white\", \"width\": 2}, \"type\": \"line\", \"x0\": 89, \"x1\": 89, \"y0\": 23.58333, \"y1\": 24.249996666666668}, {\"layer\": \"below\", \"line\": {\"color\": \"white\", \"width\": 2}, \"type\": \"line\", \"x0\": 89, \"x1\": 89, \"y0\": 29.08333, \"y1\": 29.749996666666668}, {\"layer\": \"below\", \"line\": {\"color\": \"white\", \"width\": 2}, \"type\": \"line\", \"x0\": 89, \"x1\": 89, \"y0\": 51.63333333333333, \"y1\": 52.3}, {\"layer\": \"below\", \"line\": {\"color\": \"white\", \"width\": 2}, \"type\": \"line\", \"x0\": 91, \"x1\": 91, \"y0\": 1, \"y1\": 1.6666666666666665}, {\"layer\": \"below\", \"line\": {\"color\": \"white\", \"width\": 2}, \"type\": \"line\", \"x0\": 91, \"x1\": 91, \"y0\": 23.58333, \"y1\": 24.249996666666668}, {\"layer\": \"below\", \"line\": {\"color\": \"white\", \"width\": 2}, \"type\": \"line\", \"x0\": 91, \"x1\": 91, \"y0\": 29.08333, \"y1\": 29.749996666666668}, {\"layer\": \"below\", \"line\": {\"color\": \"white\", \"width\": 2}, \"type\": \"line\", \"x0\": 91, \"x1\": 91, \"y0\": 51.63333333333333, \"y1\": 52.3}, {\"layer\": \"below\", \"line\": {\"color\": \"white\", \"width\": 2}, \"type\": \"line\", \"x0\": 92, \"x1\": 92, \"y0\": 1, \"y1\": 1.6666666666666665}, {\"layer\": \"below\", \"line\": {\"color\": \"white\", \"width\": 2}, \"type\": \"line\", \"x0\": 92, \"x1\": 92, \"y0\": 23.58333, \"y1\": 24.249996666666668}, {\"layer\": \"below\", \"line\": {\"color\": \"white\", \"width\": 2}, \"type\": \"line\", \"x0\": 92, \"x1\": 92, \"y0\": 29.08333, \"y1\": 29.749996666666668}, {\"layer\": \"below\", \"line\": {\"color\": \"white\", \"width\": 2}, \"type\": \"line\", \"x0\": 92, \"x1\": 92, \"y0\": 51.63333333333333, \"y1\": 52.3}, {\"layer\": \"below\", \"line\": {\"color\": \"white\", \"width\": 2}, \"type\": \"line\", \"x0\": 93, \"x1\": 93, \"y0\": 1, \"y1\": 1.6666666666666665}, {\"layer\": \"below\", \"line\": {\"color\": \"white\", \"width\": 2}, \"type\": \"line\", \"x0\": 93, \"x1\": 93, \"y0\": 23.58333, \"y1\": 24.249996666666668}, {\"layer\": \"below\", \"line\": {\"color\": \"white\", \"width\": 2}, \"type\": \"line\", \"x0\": 93, \"x1\": 93, \"y0\": 29.08333, \"y1\": 29.749996666666668}, {\"layer\": \"below\", \"line\": {\"color\": \"white\", \"width\": 2}, \"type\": \"line\", \"x0\": 93, \"x1\": 93, \"y0\": 51.63333333333333, \"y1\": 52.3}, {\"layer\": \"below\", \"line\": {\"color\": \"white\", \"width\": 2}, \"type\": \"line\", \"x0\": 94, \"x1\": 94, \"y0\": 1, \"y1\": 1.6666666666666665}, {\"layer\": \"below\", \"line\": {\"color\": \"white\", \"width\": 2}, \"type\": \"line\", \"x0\": 94, \"x1\": 94, \"y0\": 23.58333, \"y1\": 24.249996666666668}, {\"layer\": \"below\", \"line\": {\"color\": \"white\", \"width\": 2}, \"type\": \"line\", \"x0\": 94, \"x1\": 94, \"y0\": 29.08333, \"y1\": 29.749996666666668}, {\"layer\": \"below\", \"line\": {\"color\": \"white\", \"width\": 2}, \"type\": \"line\", \"x0\": 94, \"x1\": 94, \"y0\": 51.63333333333333, \"y1\": 52.3}, {\"layer\": \"below\", \"line\": {\"color\": \"white\", \"width\": 2}, \"type\": \"line\", \"x0\": 95, \"x1\": 95, \"y0\": 1, \"y1\": 1.6666666666666665}, {\"layer\": \"below\", \"line\": {\"color\": \"white\", \"width\": 2}, \"type\": \"line\", \"x0\": 95, \"x1\": 95, \"y0\": 23.58333, \"y1\": 24.249996666666668}, {\"layer\": \"below\", \"line\": {\"color\": \"white\", \"width\": 2}, \"type\": \"line\", \"x0\": 95, \"x1\": 95, \"y0\": 29.08333, \"y1\": 29.749996666666668}, {\"layer\": \"below\", \"line\": {\"color\": \"white\", \"width\": 2}, \"type\": \"line\", \"x0\": 95, \"x1\": 95, \"y0\": 51.63333333333333, \"y1\": 52.3}, {\"layer\": \"below\", \"line\": {\"color\": \"white\", \"width\": 2}, \"type\": \"line\", \"x0\": 96, \"x1\": 96, \"y0\": 1, \"y1\": 1.6666666666666665}, {\"layer\": \"below\", \"line\": {\"color\": \"white\", \"width\": 2}, \"type\": \"line\", \"x0\": 96, \"x1\": 96, \"y0\": 23.58333, \"y1\": 24.249996666666668}, {\"layer\": \"below\", \"line\": {\"color\": \"white\", \"width\": 2}, \"type\": \"line\", \"x0\": 96, \"x1\": 96, \"y0\": 29.08333, \"y1\": 29.749996666666668}, {\"layer\": \"below\", \"line\": {\"color\": \"white\", \"width\": 2}, \"type\": \"line\", \"x0\": 96, \"x1\": 96, \"y0\": 51.63333333333333, \"y1\": 52.3}, {\"layer\": \"below\", \"line\": {\"color\": \"white\", \"width\": 2}, \"type\": \"line\", \"x0\": 97, \"x1\": 97, \"y0\": 1, \"y1\": 1.6666666666666665}, {\"layer\": \"below\", \"line\": {\"color\": \"white\", \"width\": 2}, \"type\": \"line\", \"x0\": 97, \"x1\": 97, \"y0\": 23.58333, \"y1\": 24.249996666666668}, {\"layer\": \"below\", \"line\": {\"color\": \"white\", \"width\": 2}, \"type\": \"line\", \"x0\": 97, \"x1\": 97, \"y0\": 29.08333, \"y1\": 29.749996666666668}, {\"layer\": \"below\", \"line\": {\"color\": \"white\", \"width\": 2}, \"type\": \"line\", \"x0\": 97, \"x1\": 97, \"y0\": 51.63333333333333, \"y1\": 52.3}, {\"layer\": \"below\", \"line\": {\"color\": \"white\", \"width\": 2}, \"type\": \"line\", \"x0\": 98, \"x1\": 98, \"y0\": 1, \"y1\": 1.6666666666666665}, {\"layer\": \"below\", \"line\": {\"color\": \"white\", \"width\": 2}, \"type\": \"line\", \"x0\": 98, \"x1\": 98, \"y0\": 23.58333, \"y1\": 24.249996666666668}, {\"layer\": \"below\", \"line\": {\"color\": \"white\", \"width\": 2}, \"type\": \"line\", \"x0\": 98, \"x1\": 98, \"y0\": 29.08333, \"y1\": 29.749996666666668}, {\"layer\": \"below\", \"line\": {\"color\": \"white\", \"width\": 2}, \"type\": \"line\", \"x0\": 98, \"x1\": 98, \"y0\": 51.63333333333333, \"y1\": 52.3}, {\"layer\": \"below\", \"line\": {\"color\": \"white\", \"width\": 2}, \"type\": \"line\", \"x0\": 99, \"x1\": 99, \"y0\": 1, \"y1\": 1.6666666666666665}, {\"layer\": \"below\", \"line\": {\"color\": \"white\", \"width\": 2}, \"type\": \"line\", \"x0\": 99, \"x1\": 99, \"y0\": 23.58333, \"y1\": 24.249996666666668}, {\"layer\": \"below\", \"line\": {\"color\": \"white\", \"width\": 2}, \"type\": \"line\", \"x0\": 99, \"x1\": 99, \"y0\": 29.08333, \"y1\": 29.749996666666668}, {\"layer\": \"below\", \"line\": {\"color\": \"white\", \"width\": 2}, \"type\": \"line\", \"x0\": 99, \"x1\": 99, \"y0\": 51.63333333333333, \"y1\": 52.3}, {\"layer\": \"below\", \"line\": {\"color\": \"white\", \"width\": 2}, \"type\": \"line\", \"x0\": 101, \"x1\": 101, \"y0\": 1, \"y1\": 1.6666666666666665}, {\"layer\": \"below\", \"line\": {\"color\": \"white\", \"width\": 2}, \"type\": \"line\", \"x0\": 101, \"x1\": 101, \"y0\": 23.58333, \"y1\": 24.249996666666668}, {\"layer\": \"below\", \"line\": {\"color\": \"white\", \"width\": 2}, \"type\": \"line\", \"x0\": 101, \"x1\": 101, \"y0\": 29.08333, \"y1\": 29.749996666666668}, {\"layer\": \"below\", \"line\": {\"color\": \"white\", \"width\": 2}, \"type\": \"line\", \"x0\": 101, \"x1\": 101, \"y0\": 51.63333333333333, \"y1\": 52.3}, {\"layer\": \"below\", \"line\": {\"color\": \"white\", \"width\": 2}, \"type\": \"line\", \"x0\": 102, \"x1\": 102, \"y0\": 1, \"y1\": 1.6666666666666665}, {\"layer\": \"below\", \"line\": {\"color\": \"white\", \"width\": 2}, \"type\": \"line\", \"x0\": 102, \"x1\": 102, \"y0\": 23.58333, \"y1\": 24.249996666666668}, {\"layer\": \"below\", \"line\": {\"color\": \"white\", \"width\": 2}, \"type\": \"line\", \"x0\": 102, \"x1\": 102, \"y0\": 29.08333, \"y1\": 29.749996666666668}, {\"layer\": \"below\", \"line\": {\"color\": \"white\", \"width\": 2}, \"type\": \"line\", \"x0\": 102, \"x1\": 102, \"y0\": 51.63333333333333, \"y1\": 52.3}, {\"layer\": \"below\", \"line\": {\"color\": \"white\", \"width\": 2}, \"type\": \"line\", \"x0\": 103, \"x1\": 103, \"y0\": 1, \"y1\": 1.6666666666666665}, {\"layer\": \"below\", \"line\": {\"color\": \"white\", \"width\": 2}, \"type\": \"line\", \"x0\": 103, \"x1\": 103, \"y0\": 23.58333, \"y1\": 24.249996666666668}, {\"layer\": \"below\", \"line\": {\"color\": \"white\", \"width\": 2}, \"type\": \"line\", \"x0\": 103, \"x1\": 103, \"y0\": 29.08333, \"y1\": 29.749996666666668}, {\"layer\": \"below\", \"line\": {\"color\": \"white\", \"width\": 2}, \"type\": \"line\", \"x0\": 103, \"x1\": 103, \"y0\": 51.63333333333333, \"y1\": 52.3}, {\"layer\": \"below\", \"line\": {\"color\": \"white\", \"width\": 2}, \"type\": \"line\", \"x0\": 104, \"x1\": 104, \"y0\": 1, \"y1\": 1.6666666666666665}, {\"layer\": \"below\", \"line\": {\"color\": \"white\", \"width\": 2}, \"type\": \"line\", \"x0\": 104, \"x1\": 104, \"y0\": 23.58333, \"y1\": 24.249996666666668}, {\"layer\": \"below\", \"line\": {\"color\": \"white\", \"width\": 2}, \"type\": \"line\", \"x0\": 104, \"x1\": 104, \"y0\": 29.08333, \"y1\": 29.749996666666668}, {\"layer\": \"below\", \"line\": {\"color\": \"white\", \"width\": 2}, \"type\": \"line\", \"x0\": 104, \"x1\": 104, \"y0\": 51.63333333333333, \"y1\": 52.3}, {\"layer\": \"below\", \"line\": {\"color\": \"white\", \"width\": 2}, \"type\": \"line\", \"x0\": 105, \"x1\": 105, \"y0\": 1, \"y1\": 1.6666666666666665}, {\"layer\": \"below\", \"line\": {\"color\": \"white\", \"width\": 2}, \"type\": \"line\", \"x0\": 105, \"x1\": 105, \"y0\": 23.58333, \"y1\": 24.249996666666668}, {\"layer\": \"below\", \"line\": {\"color\": \"white\", \"width\": 2}, \"type\": \"line\", \"x0\": 105, \"x1\": 105, \"y0\": 29.08333, \"y1\": 29.749996666666668}, {\"layer\": \"below\", \"line\": {\"color\": \"white\", \"width\": 2}, \"type\": \"line\", \"x0\": 105, \"x1\": 105, \"y0\": 51.63333333333333, \"y1\": 52.3}, {\"layer\": \"below\", \"line\": {\"color\": \"white\", \"width\": 2}, \"type\": \"line\", \"x0\": 106, \"x1\": 106, \"y0\": 1, \"y1\": 1.6666666666666665}, {\"layer\": \"below\", \"line\": {\"color\": \"white\", \"width\": 2}, \"type\": \"line\", \"x0\": 106, \"x1\": 106, \"y0\": 23.58333, \"y1\": 24.249996666666668}, {\"layer\": \"below\", \"line\": {\"color\": \"white\", \"width\": 2}, \"type\": \"line\", \"x0\": 106, \"x1\": 106, \"y0\": 29.08333, \"y1\": 29.749996666666668}, {\"layer\": \"below\", \"line\": {\"color\": \"white\", \"width\": 2}, \"type\": \"line\", \"x0\": 106, \"x1\": 106, \"y0\": 51.63333333333333, \"y1\": 52.3}, {\"layer\": \"below\", \"line\": {\"color\": \"white\", \"width\": 2}, \"type\": \"line\", \"x0\": 107, \"x1\": 107, \"y0\": 1, \"y1\": 1.6666666666666665}, {\"layer\": \"below\", \"line\": {\"color\": \"white\", \"width\": 2}, \"type\": \"line\", \"x0\": 107, \"x1\": 107, \"y0\": 23.58333, \"y1\": 24.249996666666668}, {\"layer\": \"below\", \"line\": {\"color\": \"white\", \"width\": 2}, \"type\": \"line\", \"x0\": 107, \"x1\": 107, \"y0\": 29.08333, \"y1\": 29.749996666666668}, {\"layer\": \"below\", \"line\": {\"color\": \"white\", \"width\": 2}, \"type\": \"line\", \"x0\": 107, \"x1\": 107, \"y0\": 51.63333333333333, \"y1\": 52.3}, {\"layer\": \"below\", \"line\": {\"color\": \"white\", \"width\": 2}, \"type\": \"line\", \"x0\": 108, \"x1\": 108, \"y0\": 1, \"y1\": 1.6666666666666665}, {\"layer\": \"below\", \"line\": {\"color\": \"white\", \"width\": 2}, \"type\": \"line\", \"x0\": 108, \"x1\": 108, \"y0\": 23.58333, \"y1\": 24.249996666666668}, {\"layer\": \"below\", \"line\": {\"color\": \"white\", \"width\": 2}, \"type\": \"line\", \"x0\": 108, \"x1\": 108, \"y0\": 29.08333, \"y1\": 29.749996666666668}, {\"layer\": \"below\", \"line\": {\"color\": \"white\", \"width\": 2}, \"type\": \"line\", \"x0\": 108, \"x1\": 108, \"y0\": 51.63333333333333, \"y1\": 52.3}, {\"layer\": \"below\", \"line\": {\"color\": \"white\", \"width\": 2}, \"type\": \"line\", \"x0\": 109, \"x1\": 109, \"y0\": 1, \"y1\": 1.6666666666666665}, {\"layer\": \"below\", \"line\": {\"color\": \"white\", \"width\": 2}, \"type\": \"line\", \"x0\": 109, \"x1\": 109, \"y0\": 23.58333, \"y1\": 24.249996666666668}, {\"layer\": \"below\", \"line\": {\"color\": \"white\", \"width\": 2}, \"type\": \"line\", \"x0\": 109, \"x1\": 109, \"y0\": 29.08333, \"y1\": 29.749996666666668}, {\"layer\": \"below\", \"line\": {\"color\": \"white\", \"width\": 2}, \"type\": \"line\", \"x0\": 109, \"x1\": 109, \"y0\": 51.63333333333333, \"y1\": 52.3}, {\"fillcolor\": \"white\", \"layer\": \"below\", \"line\": {\"color\": \"white\"}, \"path\": \"M 18.013,4.68 L 18.013,5.72 A 3.257,3.257 180.0 0,1 18.014,5.789 A 1.126,1.126 180.0 0,1 17.991,6.057 Q 17.963,6.16 17.893,6.1899999999999995 Q 17.823,6.22 17.663,6.22 L 17.418,6.22 A 0.095,0.095 180.0 0,0 17.328,6.34 Q 17.333000000000002,6.415 17.358,6.432 Q 17.383,6.45 17.421,6.45 L 17.473,6.45 Q 17.683,6.45 17.883,6.5169999999999995 Q 18.083000000000002,6.585 18.318,6.68 Q 18.348,6.6899999999999995 18.368000000000002,6.6899999999999995 Q 18.448,6.6899999999999995 18.448,6.574999999999999 L 18.448,4.68 Q 18.448,4.46 18.501,4.365 Q 18.553,4.27 18.666,4.245 Q 18.778000000000002,4.22 19.028000000000002,4.22 L 19.078,4.22 Q 19.118000000000002,4.22 19.136,4.199999999999999 Q 19.153000000000002,4.18 19.158,4.12 Q 19.158,4.0 19.068,4.0 Q 18.708000000000002,4.015000000000001 18.228,4.015000000000001 Q 17.753,4.015000000000001 17.393,4.0 A 0.095,0.095 180.0 0,0 17.303,4.12 Q 17.308,4.18 17.326,4.199999999999999 Q 17.343,4.22 17.383,4.22 Q 17.663,4.22 17.781000000000002,4.242 Q 17.898,4.265000000000001 17.956,4.359999999999999 Q 18.013,4.455 18.013,4.68 L 18.013,4.68\", \"type\": \"path\"}, {\"fillcolor\": \"white\", \"layer\": \"below\", \"line\": {\"color\": \"white\"}, \"path\": \"M 21.69,6.7509999999999994 Q 21.3,6.7509999999999994 21.033,6.561 Q 20.765,6.371 20.633,6.056 Q 20.5,5.741 20.5,5.371 Q 20.5,4.996 20.633,4.686 Q 20.765,4.376 21.033,4.188 Q 21.3,4.001 21.69,4.001 Q 22.06,4.001 22.33,4.191 Q 22.6,4.381 22.740000000000002,4.696 Q 22.88,5.011 22.88,5.371 Q 22.88,5.731 22.740000000000002,6.045999999999999 Q 22.6,6.361000000000001 22.33,6.556 Q 22.06,6.7509999999999994 21.69,6.7509999999999994 M 21.695,6.566 Q 22.03,6.566 22.215,6.256 Q 22.4,5.946 22.4,5.371 Q 22.4,4.796 22.215,4.491 Q 22.03,4.186 21.695,4.186 Q 21.35,4.186 21.165,4.4879999999999995 Q 20.98,4.791 20.98,5.371 Q 20.98,5.9510000000000005 21.165,6.258 Q 21.35,6.566 21.695,6.566\", \"type\": \"path\"}, {\"fillcolor\": \"white\", \"layer\": \"below\", \"line\": {\"color\": \"white\"}, \"path\": \"M 18.19,49.751 Q 17.8,49.751 17.533,49.561 Q 17.265,49.371 17.133,49.056 Q 17.0,48.741 17.0,48.371 Q 17.0,47.996 17.133,47.686 Q 17.265,47.376 17.533,47.188 Q 17.8,47.001 18.19,47.001 Q 18.56,47.001 18.83,47.191 Q 19.1,47.381 19.240000000000002,47.696 Q 19.38,48.011 19.38,48.371 Q 19.38,48.731 19.240000000000002,49.046 Q 19.1,49.361 18.83,49.556 Q 18.56,49.751 18.19,49.751 M 18.195,49.566 Q 18.53,49.566 18.715,49.256 Q 18.9,48.946 18.9,48.371 Q 18.9,47.796 18.715,47.491 Q 18.53,47.186 18.195,47.186 Q 17.85,47.186 17.665,47.488 Q 17.48,47.791 17.48,48.371 Q 17.48,48.951 17.665,49.258 Q 17.85,49.566 18.195,49.566\", \"type\": \"path\"}, {\"fillcolor\": \"white\", \"layer\": \"below\", \"line\": {\"color\": \"white\"}, \"path\": \"M 21.644647615158764,49.01 L 21.644647615158764,47.97 A 3.257,3.257 360.0 0,1 21.643647615158763,47.901 A 1.126,1.126 360.0 0,1 21.666647615158762,47.633 Q 21.69464761515876,47.53 21.76464761515876,47.5 Q 21.83464761515876,47.47 21.99464761515876,47.47 L 22.239647615158763,47.47 A 0.095,0.095 360.0 0,0 22.329647615158763,47.35 Q 22.324647615158764,47.275 22.29964761515876,47.258 Q 22.274647615158763,47.24 22.236647615158763,47.24 L 22.184647615158763,47.24 Q 21.974647615158762,47.24 21.774647615158763,47.173 Q 21.574647615158764,47.105 21.33964761515876,47.01 Q 21.309647615158763,47.0 21.289647615158763,47.0 Q 21.20964761515876,47.0 21.20964761515876,47.115 L 21.20964761515876,49.01 Q 21.20964761515876,49.23 21.15664761515876,49.325 Q 21.10464761515876,49.42 20.99164761515876,49.445 Q 20.879647615158763,49.47 20.629647615158763,49.47 L 20.579647615158763,49.47 Q 20.539647615158763,49.47 20.521647615158763,49.49 Q 20.504647615158763,49.51 20.49964761515876,49.57 Q 20.49964761515876,49.69 20.589647615158764,49.69 Q 20.949647615158764,49.675 21.429647615158764,49.675 Q 21.904647615158762,49.675 22.26464761515876,49.69 A 0.095,0.095 360.0 0,0 22.35464761515876,49.57 Q 22.349647615158762,49.51 22.33164761515876,49.49 Q 22.314647615158762,49.47 22.274647615158763,49.47 Q 21.99464761515876,49.47 21.876647615158763,49.448 Q 21.759647615158762,49.425 21.701647615158763,49.33 Q 21.644647615158764,49.235 21.644647615158764,49.01 L 21.644647615158764,49.01\", \"type\": \"path\"}, {\"fillcolor\": \"white\", \"layer\": \"below\", \"line\": {\"color\": \"white\"}, \"path\": \"M 27.747,4.38 L 27.747,4.355 L 29.087,4.355 A 0.449,0.449 180.0 0,0 29.269000000000002,4.327 Q 29.327,4.3 29.327,4.18 Q 29.327,4.0 29.152,4.0 L 27.477,4.0 Q 27.302,4.0 27.302,4.18 Q 27.307000000000002,4.285 27.359,4.35 Q 27.412,4.415 27.532,4.495 Q 27.927,4.76 28.144000000000002,4.932 Q 28.362000000000002,5.105 28.537,5.37 Q 28.712,5.635 28.712,5.965 Q 28.712,6.205 28.584,6.337 Q 28.457,6.47 28.227,6.47 Q 28.032,6.47 27.904,6.372 Q 27.777,6.275 27.777,6.105 Q 27.777,6.02 27.817,5.962 Q 27.857,5.904999999999999 27.899,5.87 Q 27.942,5.835 27.942,5.83 Q 27.942,5.795 27.874000000000002,5.745 Q 27.807000000000002,5.695 27.712,5.695 Q 27.557000000000002,5.695 27.464000000000002,5.792 Q 27.372,5.89 27.372,6.04 Q 27.372,6.24 27.507,6.38 Q 27.642,6.52 27.849,6.585 Q 28.057000000000002,6.65 28.272000000000002,6.65 Q 28.647000000000002,6.65 28.919,6.465 Q 29.192,6.279999999999999 29.192,5.9 Q 29.192,5.625 29.042,5.4 Q 28.892,5.175 28.684,5.0169999999999995 Q 28.477,4.859999999999999 28.142,4.645 Q 27.877000000000002,4.48 27.747,4.38\", \"type\": \"path\"}, {\"fillcolor\": \"white\", \"layer\": \"below\", \"line\": {\"color\": \"white\"}, \"path\": \"M 31.69,6.7509999999999994 Q 31.3,6.7509999999999994 31.033,6.561 Q 30.765,6.371 30.633,6.056 Q 30.5,5.741 30.5,5.371 Q 30.5,4.996 30.633,4.686 Q 30.765,4.376 31.033,4.188 Q 31.3,4.001 31.69,4.001 Q 32.06,4.001 32.33,4.191 Q 32.6,4.381 32.74,4.696 Q 32.88,5.011 32.88,5.371 Q 32.88,5.731 32.74,6.045999999999999 Q 32.6,6.361000000000001 32.33,6.556 Q 32.06,6.7509999999999994 31.69,6.7509999999999994 M 31.695,6.566 Q 32.03,6.566 32.215,6.256 Q 32.4,5.946 32.4,5.371 Q 32.4,4.796 32.215,4.491 Q 32.03,4.186 31.695,4.186 Q 31.35,4.186 31.165,4.4879999999999995 Q 30.98,4.791 30.98,5.371 Q 30.98,5.9510000000000005 31.165,6.258 Q 31.35,6.566 31.695,6.566\", \"type\": \"path\"}, {\"fillcolor\": \"white\", \"layer\": \"below\", \"line\": {\"color\": \"white\"}, \"path\": \"M 28.19,49.751 Q 27.8,49.751 27.533,49.561 Q 27.265,49.371 27.133,49.056 Q 27.0,48.741 27.0,48.371 Q 27.0,47.996 27.133,47.686 Q 27.265,47.376 27.533,47.188 Q 27.8,47.001 28.19,47.001 Q 28.56,47.001 28.83,47.191 Q 29.1,47.381 29.240000000000002,47.696 Q 29.38,48.011 29.38,48.371 Q 29.38,48.731 29.240000000000002,49.046 Q 29.1,49.361 28.83,49.556 Q 28.56,49.751 28.19,49.751 M 28.195,49.566 Q 28.53,49.566 28.715,49.256 Q 28.9,48.946 28.9,48.371 Q 28.9,47.796 28.715,47.491 Q 28.53,47.186 28.195,47.186 Q 27.85,47.186 27.665,47.488 Q 27.48,47.791 27.48,48.371 Q 27.48,48.951 27.665,49.258 Q 27.85,49.566 28.195,49.566\", \"type\": \"path\"}, {\"fillcolor\": \"white\", \"layer\": \"below\", \"line\": {\"color\": \"white\"}, \"path\": \"M 32.082,49.27 L 32.082,49.295 L 30.742,49.295 A 0.449,0.449 360.0 0,0 30.56,49.323 Q 30.502,49.35 30.502,49.47 Q 30.502,49.65 30.677,49.65 L 32.352,49.65 Q 32.527,49.65 32.527,49.47 Q 32.522,49.365 32.47,49.3 Q 32.417,49.235 32.297,49.155 Q 31.902,48.89 31.685,48.718 Q 31.467,48.545 31.292,48.28 Q 31.117,48.015 31.117,47.685 Q 31.117,47.445 31.245,47.313 Q 31.372,47.18 31.602,47.18 Q 31.797,47.18 31.925,47.278 Q 32.052,47.375 32.052,47.545 Q 32.052,47.63 32.012,47.688 Q 31.972,47.745 31.93,47.78 Q 31.887,47.815 31.887,47.82 Q 31.887,47.855 31.955,47.905 Q 32.022,47.955 32.117,47.955 Q 32.272,47.955 32.365,47.858 Q 32.457,47.76 32.457,47.61 Q 32.457,47.41 32.322,47.27 Q 32.187,47.13 31.98,47.065 Q 31.772,47.0 31.557,47.0 Q 31.182,47.0 30.91,47.185 Q 30.637,47.37 30.637,47.75 Q 30.637,48.025 30.787,48.25 Q 30.937,48.475 31.145,48.633 Q 31.352,48.79 31.687,49.005 Q 31.951999999999998,49.17 32.082,49.27\", \"type\": \"path\"}, {\"fillcolor\": \"white\", \"layer\": \"below\", \"line\": {\"color\": \"white\"}, \"path\": \"M 38.199999999999996,5.336 L 38.015,5.336 Q 37.98,5.336 37.959999999999994,5.366 Q 37.94,5.396 37.94,5.436 Q 37.94,5.481 37.959999999999994,5.513 Q 37.98,5.546 38.015,5.551 L 38.199999999999996,5.551 Q 38.394999999999996,5.571 38.513,5.726 Q 38.629999999999995,5.881 38.629999999999995,6.101 Q 38.629999999999995,6.341 38.495,6.468 Q 38.36,6.596 38.18,6.596 Q 38.01,6.596 37.888,6.498 Q 37.765,6.401 37.765,6.231 Q 37.765,6.121 37.808,6.083 Q 37.849999999999994,6.046 37.89,6.038 Q 37.93,6.031000000000001 37.93,6.026 Q 37.93,5.991 37.863,5.941 Q 37.794999999999995,5.891 37.699999999999996,5.891 Q 37.54,5.891 37.449999999999996,5.991 Q 37.36,6.091 37.36,6.246 Q 37.36,6.491 37.589999999999996,6.6259999999999994 Q 37.82,6.761 38.184999999999995,6.761 Q 38.574999999999996,6.761 38.83,6.591 Q 39.084999999999994,6.420999999999999 39.084999999999994,6.101 Q 39.084999999999994,5.891 38.937999999999995,5.711 Q 38.79,5.531 38.515,5.4559999999999995 L 38.515,5.436 Q 38.794999999999995,5.406 39.0,5.258 Q 39.205,5.111 39.205,4.791 Q 39.205,4.386 38.91,4.193 Q 38.614999999999995,4.001 38.169999999999995,4.001 Q 37.805,4.0009999999999994 37.553,4.143 Q 37.3,4.286 37.3,4.561 Q 37.3,4.7059999999999995 37.39,4.811 Q 37.48,4.916 37.64,4.916 Q 37.735,4.916 37.803,4.866 Q 37.87,4.816 37.87,4.781 Q 37.87,4.776 37.824999999999996,4.743 Q 37.779999999999994,4.711 37.742999999999995,4.656000000000001 Q 37.705,4.601 37.705,4.516 Q 37.705,4.361000000000001 37.837999999999994,4.273 Q 37.97,4.186 38.184999999999995,4.186 Q 38.72,4.186 38.72,4.781 Q 38.72,5.026 38.589999999999996,5.173 Q 38.459999999999994,5.321 38.199999999999996,5.336\", \"type\": \"path\"}, {\"fillcolor\": \"white\", \"layer\": \"below\", \"line\": {\"color\": \"white\"}, \"path\": \"M 41.69,6.7509999999999994 Q 41.3,6.7509999999999994 41.033,6.561 Q 40.765,6.371 40.633,6.056 Q 40.5,5.741 40.5,5.371 Q 40.5,4.996 40.633,4.686 Q 40.765,4.376 41.033,4.188 Q 41.3,4.001 41.69,4.001 Q 42.06,4.001 42.33,4.191 Q 42.6,4.381 42.74,4.696 Q 42.88,5.011 42.88,5.371 Q 42.88,5.731 42.74,6.045999999999999 Q 42.6,6.361000000000001 42.33,6.556 Q 42.06,6.7509999999999994 41.69,6.7509999999999994 M 41.695,6.566 Q 42.03,6.566 42.215,6.256 Q 42.4,5.946 42.4,5.371 Q 42.4,4.796 42.215,4.491 Q 42.03,4.186 41.695,4.186 Q 41.35,4.186 41.165,4.4879999999999995 Q 40.98,4.791 40.98,5.371 Q 40.98,5.9510000000000005 41.165,6.258 Q 41.35,6.566 41.695,6.566\", \"type\": \"path\"}, {\"fillcolor\": \"white\", \"layer\": \"below\", \"line\": {\"color\": \"white\"}, \"path\": \"M 38.19,49.751 Q 37.8,49.751 37.533,49.561 Q 37.265,49.371 37.133,49.056 Q 37.0,48.741 37.0,48.371 Q 37.0,47.996 37.133,47.686 Q 37.265,47.376 37.533,47.188 Q 37.8,47.001 38.19,47.001 Q 38.56,47.001 38.83,47.191 Q 39.1,47.381 39.24,47.696 Q 39.38,48.011 39.38,48.371 Q 39.38,48.731 39.24,49.046 Q 39.1,49.361 38.83,49.556 Q 38.56,49.751 38.19,49.751 M 38.195,49.566 Q 38.53,49.566 38.715,49.256 Q 38.9,48.946 38.9,48.371 Q 38.9,47.796 38.715,47.491 Q 38.53,47.186 38.195,47.186 Q 37.85,47.186 37.665,47.488 Q 37.48,47.791 37.48,48.371 Q 37.48,48.951 37.665,49.258 Q 37.85,49.566 38.195,49.566\", \"type\": \"path\"}, {\"fillcolor\": \"white\", \"layer\": \"below\", \"line\": {\"color\": \"white\"}, \"path\": \"M 41.505,48.426 L 41.69,48.426 Q 41.725,48.426 41.745,48.396 Q 41.765,48.366 41.765,48.326 Q 41.765,48.281 41.745,48.249 Q 41.725,48.216 41.69,48.211 L 41.505,48.211 Q 41.31,48.191 41.192,48.036 Q 41.075,47.881 41.075,47.661 Q 41.075,47.421 41.21,47.294 Q 41.345,47.166 41.525,47.166 Q 41.695,47.166 41.817,47.264 Q 41.94,47.361 41.94,47.531 Q 41.94,47.641 41.897,47.679 Q 41.855,47.716 41.815,47.724 Q 41.775,47.731 41.775,47.736 Q 41.775,47.771 41.842,47.821 Q 41.91,47.871 42.005,47.871 Q 42.165,47.871 42.255,47.771 Q 42.345,47.671 42.345,47.516 Q 42.345,47.271 42.115,47.136 Q 41.885,47.001 41.52,47.001 Q 41.13,47.001 40.875,47.171 Q 40.62,47.341 40.62,47.661 Q 40.62,47.871 40.767,48.051 Q 40.915,48.231 41.19,48.306 L 41.19,48.326 Q 40.91,48.356 40.705,48.504 Q 40.5,48.651 40.5,48.971000000000004 Q 40.5,49.376 40.795,49.569 Q 41.09,49.761 41.535,49.761 Q 41.9,49.761 42.152,49.619 Q 42.405,49.476 42.405,49.201 Q 42.405,49.056 42.315,48.951 Q 42.225,48.846000000000004 42.065,48.846000000000004 Q 41.97,48.846000000000004 41.902,48.896 Q 41.835,48.946 41.835,48.981 Q 41.835,48.986 41.88,49.019 Q 41.925,49.051 41.962,49.106 Q 42.0,49.161 42.0,49.246 Q 42.0,49.400999999999996 41.867,49.489 Q 41.735,49.576 41.52,49.576 Q 40.985,49.576 40.985,48.981 Q 40.985,48.736 41.115,48.589 Q 41.245,48.441 41.505,48.426\", \"type\": \"path\"}, {\"fillcolor\": \"white\", \"layer\": \"below\", \"line\": {\"color\": \"white\"}, \"path\": \"M 48.654999999999994,4.096 L 48.654999999999994,4.861 L 47.459999999999994,4.861 Q 47.379999999999995,4.861 47.339999999999996,4.911 Q 47.3,4.961 47.3,5.036 Q 47.3,5.101 47.334999999999994,5.146 L 48.739999999999995,6.680999999999999 Q 48.79,6.731 48.894999999999996,6.731 Q 48.974999999999994,6.731 49.029999999999994,6.689 Q 49.084999999999994,6.646 49.089999999999996,6.555999999999999 L 49.089999999999996,5.106 L 49.39,5.106 Q 49.459999999999994,5.106 49.489999999999995,5.0889999999999995 Q 49.519999999999996,5.071 49.525,4.986 Q 49.525,4.931 49.503,4.896 Q 49.48,4.861 49.43,4.861 L 49.089999999999996,4.861 L 49.089999999999996,4.096 Q 49.089999999999996,4.051 49.025,4.026 Q 48.959999999999994,4.0009999999999994 48.875,4.0009999999999994 Q 48.79,4.0009999999999994 48.724999999999994,4.026 Q 48.66,4.051 48.654999999999994,4.096 M 48.654999999999994,6.291 L 47.589999999999996,5.106 L 48.654999999999994,5.106 L 48.654999999999994,6.291\", \"type\": \"path\"}, {\"fillcolor\": \"white\", \"layer\": \"below\", \"line\": {\"color\": \"white\"}, \"path\": \"M 51.69,6.7509999999999994 Q 51.3,6.7509999999999994 51.033,6.561 Q 50.765,6.371 50.633,6.056 Q 50.5,5.741 50.5,5.371 Q 50.5,4.996 50.633,4.686 Q 50.765,4.376 51.033,4.188 Q 51.3,4.001 51.69,4.001 Q 52.06,4.001 52.33,4.191 Q 52.6,4.381 52.74,4.696 Q 52.88,5.011 52.88,5.371 Q 52.88,5.731 52.74,6.045999999999999 Q 52.6,6.361000000000001 52.33,6.556 Q 52.06,6.7509999999999994 51.69,6.7509999999999994 M 51.695,6.566 Q 52.03,6.566 52.215,6.256 Q 52.4,5.946 52.4,5.371 Q 52.4,4.796 52.215,4.491 Q 52.03,4.186 51.695,4.186 Q 51.35,4.186 51.165,4.4879999999999995 Q 50.98,4.791 50.98,5.371 Q 50.98,5.9510000000000005 51.165,6.258 Q 51.35,6.566 51.695,6.566\", \"type\": \"path\"}, {\"fillcolor\": \"white\", \"layer\": \"below\", \"line\": {\"color\": \"white\"}, \"path\": \"M 48.19,49.751 Q 47.8,49.751 47.533,49.561 Q 47.265,49.371 47.133,49.056 Q 47.0,48.741 47.0,48.371 Q 47.0,47.996 47.133,47.686 Q 47.265,47.376 47.533,47.188 Q 47.8,47.001 48.19,47.001 Q 48.56,47.001 48.83,47.191 Q 49.1,47.381 49.24,47.696 Q 49.38,48.011 49.38,48.371 Q 49.38,48.731 49.24,49.046 Q 49.1,49.361 48.83,49.556 Q 48.56,49.751 48.19,49.751 M 48.195,49.566 Q 48.53,49.566 48.715,49.256 Q 48.9,48.946 48.9,48.371 Q 48.9,47.796 48.715,47.491 Q 48.53,47.186 48.195,47.186 Q 47.85,47.186 47.665,47.488 Q 47.48,47.791 47.48,48.371 Q 47.48,48.951 47.665,49.258 Q 47.85,49.566 48.195,49.566\", \"type\": \"path\"}, {\"fillcolor\": \"white\", \"layer\": \"below\", \"line\": {\"color\": \"white\"}, \"path\": \"M 51.37,49.636 L 51.37,48.871 L 52.565,48.871 Q 52.645,48.871 52.685,48.821 Q 52.725,48.771 52.725,48.696 Q 52.725,48.631 52.69,48.586 L 51.285,47.051 Q 51.235,47.001 51.13,47.001 Q 51.05,47.001 50.995,47.043 Q 50.94,47.086 50.935,47.176 L 50.935,48.626 L 50.635,48.626 Q 50.565,48.626 50.535,48.643 Q 50.505,48.661 50.5,48.746 Q 50.5,48.801 50.522,48.836 Q 50.545,48.871 50.595,48.871 L 50.935,48.871 L 50.935,49.636 Q 50.935,49.681 51.0,49.706 Q 51.065,49.731 51.15,49.731 Q 51.235,49.731 51.3,49.706 Q 51.365,49.681 51.37,49.636 M 51.37,47.441 L 52.435,48.626 L 51.37,48.626 L 51.37,47.441\", \"type\": \"path\"}, {\"fillcolor\": \"white\", \"layer\": \"below\", \"line\": {\"color\": \"white\"}, \"path\": \"M 57.434999999999995,5.45 L 57.44,5.51 L 57.595,6.7 L 58.97,6.7 Q 59.04,6.7 59.083,6.655 Q 59.125,6.61 59.125,6.53 Q 59.125,6.345000000000001 58.934999999999995,6.345000000000001 L 57.824999999999996,6.345000000000001 L 57.72,5.65 Q 57.94,5.785 58.26,5.785 Q 58.474999999999994,5.785 58.693,5.69 Q 58.91,5.595000000000001 59.055,5.4 Q 59.199999999999996,5.205 59.199999999999996,4.915 Q 59.199999999999996,4.625 59.058,4.417 Q 58.915,4.21 58.678,4.105 Q 58.44,4.0 58.16,4.0 Q 57.79,4.0 57.544999999999995,4.135 Q 57.3,4.27 57.3,4.555 Q 57.3,4.71 57.393,4.827 Q 57.485,4.945 57.64,4.945 Q 57.735,4.945 57.803,4.8950000000000005 Q 57.87,4.845000000000001 57.87,4.8100000000000005 Q 57.87,4.805 57.824999999999996,4.765000000000001 Q 57.779999999999994,4.725 57.742999999999995,4.667 Q 57.705,4.61 57.705,4.535 Q 57.705,4.365 57.827999999999996,4.275 Q 57.949999999999996,4.1850000000000005 58.169999999999995,4.1850000000000005 Q 58.445,4.1850000000000005 58.583,4.380000000000001 Q 58.72,4.575 58.72,4.890000000000001 Q 58.72,5.18 58.58,5.372 Q 58.44,5.565 58.144999999999996,5.565 Q 58.01,5.565 57.913,5.522 Q 57.815,5.48 57.705,5.4 Q 57.64,5.355 57.598,5.332 Q 57.555,5.3100000000000005 57.515,5.3100000000000005 Q 57.434999999999995,5.3100000000000005 57.434999999999995,5.45 L 57.434999999999995,5.45\", \"type\": \"path\"}, {\"fillcolor\": \"white\", \"layer\": \"below\", \"line\": {\"color\": \"white\"}, \"path\": \"M 61.69,6.7509999999999994 Q 61.3,6.7509999999999994 61.033,6.561 Q 60.765,6.371 60.633,6.056 Q 60.5,5.741 60.5,5.371 Q 60.5,4.996 60.633,4.686 Q 60.765,4.376 61.033,4.188 Q 61.3,4.001 61.69,4.001 Q 62.06,4.001 62.33,4.191 Q 62.6,4.381 62.74,4.696 Q 62.88,5.011 62.88,5.371 Q 62.88,5.731 62.74,6.045999999999999 Q 62.6,6.361000000000001 62.33,6.556 Q 62.06,6.7509999999999994 61.69,6.7509999999999994 M 61.695,6.566 Q 62.03,6.566 62.215,6.256 Q 62.4,5.946 62.4,5.371 Q 62.4,4.796 62.215,4.491 Q 62.03,4.186 61.695,4.186 Q 61.35,4.186 61.165,4.4879999999999995 Q 60.98,4.791 60.98,5.371 Q 60.98,5.9510000000000005 61.165,6.258 Q 61.35,6.566 61.695,6.566\", \"type\": \"path\"}, {\"fillcolor\": \"white\", \"layer\": \"below\", \"line\": {\"color\": \"white\"}, \"path\": \"M 58.19,49.751 Q 57.8,49.751 57.533,49.561 Q 57.265,49.371 57.133,49.056 Q 57.0,48.741 57.0,48.371 Q 57.0,47.996 57.133,47.686 Q 57.265,47.376 57.533,47.188 Q 57.8,47.001 58.19,47.001 Q 58.56,47.001 58.83,47.191 Q 59.1,47.381 59.24,47.696 Q 59.38,48.011 59.38,48.371 Q 59.38,48.731 59.24,49.046 Q 59.1,49.361 58.83,49.556 Q 58.56,49.751 58.19,49.751 M 58.195,49.566 Q 58.53,49.566 58.715,49.256 Q 58.9,48.946 58.9,48.371 Q 58.9,47.796 58.715,47.491 Q 58.53,47.186 58.195,47.186 Q 57.85,47.186 57.665,47.488 Q 57.48,47.791 57.48,48.371 Q 57.48,48.951 57.665,49.258 Q 57.85,49.566 58.195,49.566\", \"type\": \"path\"}, {\"fillcolor\": \"white\", \"layer\": \"below\", \"line\": {\"color\": \"white\"}, \"path\": \"M 62.265,48.25 L 62.26,48.19 L 62.105,47.0 L 60.73,47.0 Q 60.66,47.0 60.617,47.045 Q 60.575,47.09 60.575,47.17 Q 60.575,47.355 60.765,47.355 L 61.875,47.355 L 61.98,48.05 Q 61.76,47.915 61.44,47.915 Q 61.225,47.915 61.007,48.01 Q 60.79,48.105 60.645,48.3 Q 60.5,48.495 60.5,48.785 Q 60.5,49.075 60.642,49.283 Q 60.785,49.49 61.022,49.595 Q 61.26,49.7 61.54,49.7 Q 61.91,49.7 62.155,49.565 Q 62.4,49.43 62.4,49.145 Q 62.4,48.99 62.307,48.873 Q 62.215,48.755 62.06,48.755 Q 61.965,48.755 61.897,48.805 Q 61.83,48.855 61.83,48.89 Q 61.83,48.895 61.875,48.935 Q 61.92,48.975 61.957,49.033 Q 61.995,49.09 61.995,49.165 Q 61.995,49.335 61.872,49.425 Q 61.75,49.515 61.53,49.515 Q 61.255,49.515 61.117,49.32 Q 60.98,49.125 60.98,48.81 Q 60.98,48.52 61.12,48.328 Q 61.26,48.135 61.555,48.135 Q 61.69,48.135 61.787,48.178 Q 61.885,48.22 61.995,48.3 Q 62.06,48.345 62.102,48.368 Q 62.145,48.39 62.185,48.39 Q 62.265,48.39 62.265,48.25 L 62.265,48.25\", \"type\": \"path\"}, {\"fillcolor\": \"white\", \"layer\": \"below\", \"line\": {\"color\": \"white\"}, \"path\": \"M 68.655,4.096 L 68.655,4.861 L 67.46,4.861 Q 67.38,4.861 67.34,4.911 Q 67.3,4.961 67.3,5.036 Q 67.3,5.101 67.335,5.146 L 68.74,6.680999999999999 Q 68.78999999999999,6.731 68.895,6.731 Q 68.975,6.731 69.03,6.689 Q 69.085,6.646 69.09,6.555999999999999 L 69.09,5.106 L 69.39,5.106 Q 69.46,5.106 69.49,5.0889999999999995 Q 69.52,5.071 69.52499999999999,4.986 Q 69.52499999999999,4.931 69.503,4.896 Q 69.48,4.861 69.42999999999999,4.861 L 69.09,4.861 L 69.09,4.096 Q 69.09,4.051 69.02499999999999,4.026 Q 68.96,4.0009999999999994 68.875,4.0009999999999994 Q 68.78999999999999,4.0009999999999994 68.725,4.026 Q 68.66,4.051 68.655,4.096 M 68.655,6.291 L 67.59,5.106 L 68.655,5.106 L 68.655,6.291\", \"type\": \"path\"}, {\"fillcolor\": \"white\", \"layer\": \"below\", \"line\": {\"color\": \"white\"}, \"path\": \"M 71.69,6.7509999999999994 Q 71.3,6.7509999999999994 71.033,6.561 Q 70.765,6.371 70.633,6.056 Q 70.5,5.741 70.5,5.371 Q 70.5,4.996 70.633,4.686 Q 70.765,4.376 71.033,4.188 Q 71.3,4.001 71.69,4.001 Q 72.06,4.001 72.33,4.191 Q 72.6,4.381 72.74,4.696 Q 72.88,5.011 72.88,5.371 Q 72.88,5.731 72.74,6.045999999999999 Q 72.6,6.361000000000001 72.33,6.556 Q 72.06,6.7509999999999994 71.69,6.7509999999999994 M 71.695,6.566 Q 72.03,6.566 72.215,6.256 Q 72.4,5.946 72.4,5.371 Q 72.4,4.796 72.215,4.491 Q 72.03,4.186 71.695,4.186 Q 71.35,4.186 71.165,4.4879999999999995 Q 70.98,4.791 70.98,5.371 Q 70.98,5.9510000000000005 71.165,6.258 Q 71.35,6.566 71.695,6.566\", \"type\": \"path\"}, {\"fillcolor\": \"white\", \"layer\": \"below\", \"line\": {\"color\": \"white\"}, \"path\": \"M 68.19,49.751 Q 67.8,49.751 67.533,49.561 Q 67.265,49.371 67.133,49.056 Q 67.0,48.741 67.0,48.371 Q 67.0,47.996 67.133,47.686 Q 67.265,47.376 67.533,47.188 Q 67.8,47.001 68.19,47.001 Q 68.56,47.001 68.83,47.191 Q 69.1,47.381 69.24,47.696 Q 69.38,48.011 69.38,48.371 Q 69.38,48.731 69.24,49.046 Q 69.1,49.361 68.83,49.556 Q 68.56,49.751 68.19,49.751 M 68.195,49.566 Q 68.53,49.566 68.715,49.256 Q 68.9,48.946 68.9,48.371 Q 68.9,47.796 68.715,47.491 Q 68.53,47.186 68.195,47.186 Q 67.85,47.186 67.665,47.488 Q 67.48,47.791 67.48,48.371 Q 67.48,48.951 67.665,49.258 Q 67.85,49.566 68.195,49.566\", \"type\": \"path\"}, {\"fillcolor\": \"white\", \"layer\": \"below\", \"line\": {\"color\": \"white\"}, \"path\": \"M 71.37,49.636 L 71.37,48.871 L 72.565,48.871 Q 72.645,48.871 72.685,48.821 Q 72.725,48.771 72.725,48.696 Q 72.725,48.631 72.69,48.586 L 71.285,47.051 Q 71.235,47.001 71.13,47.001 Q 71.05,47.001 70.995,47.043 Q 70.94,47.086 70.935,47.176 L 70.935,48.626 L 70.635,48.626 Q 70.565,48.626 70.535,48.643 Q 70.505,48.661 70.5,48.746 Q 70.5,48.801 70.522,48.836 Q 70.545,48.871 70.595,48.871 L 70.935,48.871 L 70.935,49.636 Q 70.935,49.681 71.0,49.706 Q 71.065,49.731 71.15,49.731 Q 71.235,49.731 71.3,49.706 Q 71.365,49.681 71.37,49.636 M 71.37,47.441 L 72.435,48.626 L 71.37,48.626 L 71.37,47.441\", \"type\": \"path\"}, {\"fillcolor\": \"white\", \"layer\": \"below\", \"line\": {\"color\": \"white\"}, \"path\": \"M 78.2,5.336 L 78.015,5.336 Q 77.98,5.336 77.96,5.366 Q 77.94,5.396 77.94,5.436 Q 77.94,5.481 77.96,5.513 Q 77.98,5.546 78.015,5.551 L 78.2,5.551 Q 78.395,5.571 78.51299999999999,5.726 Q 78.63,5.881 78.63,6.101 Q 78.63,6.341 78.49499999999999,6.468 Q 78.36,6.596 78.17999999999999,6.596 Q 78.00999999999999,6.596 77.88799999999999,6.498 Q 77.765,6.401 77.765,6.231 Q 77.765,6.121 77.80799999999999,6.083 Q 77.85,6.046 77.89,6.038 Q 77.92999999999999,6.031000000000001 77.92999999999999,6.026 Q 77.92999999999999,5.991 77.863,5.941 Q 77.795,5.891 77.7,5.891 Q 77.53999999999999,5.891 77.45,5.991 Q 77.36,6.091 77.36,6.246 Q 77.36,6.491 77.59,6.6259999999999994 Q 77.82,6.761 78.185,6.761 Q 78.575,6.761 78.83,6.591 Q 79.085,6.420999999999999 79.085,6.101 Q 79.085,5.891 78.938,5.711 Q 78.78999999999999,5.531 78.515,5.4559999999999995 L 78.515,5.436 Q 78.795,5.406 79.0,5.258 Q 79.205,5.111 79.205,4.791 Q 79.205,4.386 78.91,4.193 Q 78.615,4.001 78.17,4.001 Q 77.80499999999999,4.0009999999999994 77.553,4.143 Q 77.3,4.286 77.3,4.561 Q 77.3,4.7059999999999995 77.39,4.811 Q 77.48,4.916 77.64,4.916 Q 77.735,4.916 77.803,4.866 Q 77.86999999999999,4.816 77.86999999999999,4.781 Q 77.86999999999999,4.776 77.825,4.743 Q 77.78,4.711 77.743,4.656000000000001 Q 77.705,4.601 77.705,4.516 Q 77.705,4.361000000000001 77.838,4.273 Q 77.97,4.186 78.185,4.186 Q 78.72,4.186 78.72,4.781 Q 78.72,5.026 78.59,5.173 Q 78.46,5.321 78.2,5.336\", \"type\": \"path\"}, {\"fillcolor\": \"white\", \"layer\": \"below\", \"line\": {\"color\": \"white\"}, \"path\": \"M 81.69,6.7509999999999994 Q 81.3,6.7509999999999994 81.033,6.561 Q 80.765,6.371 80.633,6.056 Q 80.5,5.741 80.5,5.371 Q 80.5,4.996 80.633,4.686 Q 80.765,4.376 81.033,4.188 Q 81.3,4.001 81.69,4.001 Q 82.06,4.001 82.33,4.191 Q 82.6,4.381 82.74,4.696 Q 82.88,5.011 82.88,5.371 Q 82.88,5.731 82.74,6.045999999999999 Q 82.6,6.361000000000001 82.33,6.556 Q 82.06,6.7509999999999994 81.69,6.7509999999999994 M 81.695,6.566 Q 82.03,6.566 82.215,6.256 Q 82.4,5.946 82.4,5.371 Q 82.4,4.796 82.215,4.491 Q 82.03,4.186 81.695,4.186 Q 81.35,4.186 81.165,4.4879999999999995 Q 80.98,4.791 80.98,5.371 Q 80.98,5.9510000000000005 81.165,6.258 Q 81.35,6.566 81.695,6.566\", \"type\": \"path\"}, {\"fillcolor\": \"white\", \"layer\": \"below\", \"line\": {\"color\": \"white\"}, \"path\": \"M 78.19,49.751 Q 77.8,49.751 77.533,49.561 Q 77.265,49.371 77.133,49.056 Q 77.0,48.741 77.0,48.371 Q 77.0,47.996 77.133,47.686 Q 77.265,47.376 77.533,47.188 Q 77.8,47.001 78.19,47.001 Q 78.56,47.001 78.83,47.191 Q 79.1,47.381 79.24,47.696 Q 79.38,48.011 79.38,48.371 Q 79.38,48.731 79.24,49.046 Q 79.1,49.361 78.83,49.556 Q 78.56,49.751 78.19,49.751 M 78.195,49.566 Q 78.53,49.566 78.715,49.256 Q 78.9,48.946 78.9,48.371 Q 78.9,47.796 78.715,47.491 Q 78.53,47.186 78.195,47.186 Q 77.85,47.186 77.665,47.488 Q 77.48,47.791 77.48,48.371 Q 77.48,48.951 77.665,49.258 Q 77.85,49.566 78.195,49.566\", \"type\": \"path\"}, {\"fillcolor\": \"white\", \"layer\": \"below\", \"line\": {\"color\": \"white\"}, \"path\": \"M 81.505,48.426 L 81.69,48.426 Q 81.725,48.426 81.745,48.396 Q 81.765,48.366 81.765,48.326 Q 81.765,48.281 81.745,48.249 Q 81.725,48.216 81.69,48.211 L 81.505,48.211 Q 81.31,48.191 81.192,48.036 Q 81.075,47.881 81.075,47.661 Q 81.075,47.421 81.21,47.294 Q 81.345,47.166 81.525,47.166 Q 81.695,47.166 81.817,47.264 Q 81.94,47.361 81.94,47.531 Q 81.94,47.641 81.897,47.679 Q 81.855,47.716 81.815,47.724 Q 81.775,47.731 81.775,47.736 Q 81.775,47.771 81.842,47.821 Q 81.91,47.871 82.005,47.871 Q 82.165,47.871 82.255,47.771 Q 82.345,47.671 82.345,47.516 Q 82.345,47.271 82.115,47.136 Q 81.885,47.001 81.52,47.001 Q 81.13,47.001 80.875,47.171 Q 80.62,47.341 80.62,47.661 Q 80.62,47.871 80.767,48.051 Q 80.915,48.231 81.19,48.306 L 81.19,48.326 Q 80.91,48.356 80.705,48.504 Q 80.5,48.651 80.5,48.971000000000004 Q 80.5,49.376 80.795,49.569 Q 81.09,49.761 81.535,49.761 Q 81.9,49.761 82.152,49.619 Q 82.405,49.476 82.405,49.201 Q 82.405,49.056 82.315,48.951 Q 82.225,48.846000000000004 82.065,48.846000000000004 Q 81.97,48.846000000000004 81.902,48.896 Q 81.835,48.946 81.835,48.981 Q 81.835,48.986 81.88,49.019 Q 81.925,49.051 81.962,49.106 Q 82.0,49.161 82.0,49.246 Q 82.0,49.400999999999996 81.867,49.489 Q 81.735,49.576 81.52,49.576 Q 80.985,49.576 80.985,48.981 Q 80.985,48.736 81.115,48.589 Q 81.245,48.441 81.505,48.426\", \"type\": \"path\"}, {\"fillcolor\": \"white\", \"layer\": \"below\", \"line\": {\"color\": \"white\"}, \"path\": \"M 87.747,4.38 L 87.747,4.355 L 89.087,4.355 A 0.449,0.449 180.0 0,0 89.26899999999999,4.327 Q 89.327,4.3 89.327,4.18 Q 89.327,4.0 89.152,4.0 L 87.477,4.0 Q 87.30199999999999,4.0 87.30199999999999,4.18 Q 87.307,4.285 87.359,4.35 Q 87.41199999999999,4.415 87.532,4.495 Q 87.92699999999999,4.76 88.14399999999999,4.932 Q 88.362,5.105 88.53699999999999,5.37 Q 88.712,5.635 88.712,5.965 Q 88.712,6.205 88.584,6.337 Q 88.457,6.47 88.227,6.47 Q 88.032,6.47 87.904,6.372 Q 87.777,6.275 87.777,6.105 Q 87.777,6.02 87.817,5.962 Q 87.857,5.904999999999999 87.899,5.87 Q 87.942,5.835 87.942,5.83 Q 87.942,5.795 87.874,5.745 Q 87.807,5.695 87.712,5.695 Q 87.557,5.695 87.464,5.792 Q 87.372,5.89 87.372,6.04 Q 87.372,6.24 87.50699999999999,6.38 Q 87.642,6.52 87.849,6.585 Q 88.057,6.65 88.27199999999999,6.65 Q 88.64699999999999,6.65 88.919,6.465 Q 89.192,6.279999999999999 89.192,5.9 Q 89.192,5.625 89.042,5.4 Q 88.892,5.175 88.684,5.0169999999999995 Q 88.477,4.859999999999999 88.142,4.645 Q 87.877,4.48 87.747,4.38\", \"type\": \"path\"}, {\"fillcolor\": \"white\", \"layer\": \"below\", \"line\": {\"color\": \"white\"}, \"path\": \"M 91.69,6.7509999999999994 Q 91.3,6.7509999999999994 91.033,6.561 Q 90.765,6.371 90.633,6.056 Q 90.5,5.741 90.5,5.371 Q 90.5,4.996 90.633,4.686 Q 90.765,4.376 91.033,4.188 Q 91.3,4.001 91.69,4.001 Q 92.06,4.001 92.33,4.191 Q 92.6,4.381 92.74,4.696 Q 92.88,5.011 92.88,5.371 Q 92.88,5.731 92.74,6.045999999999999 Q 92.6,6.361000000000001 92.33,6.556 Q 92.06,6.7509999999999994 91.69,6.7509999999999994 M 91.695,6.566 Q 92.03,6.566 92.215,6.256 Q 92.4,5.946 92.4,5.371 Q 92.4,4.796 92.215,4.491 Q 92.03,4.186 91.695,4.186 Q 91.35,4.186 91.165,4.4879999999999995 Q 90.98,4.791 90.98,5.371 Q 90.98,5.9510000000000005 91.165,6.258 Q 91.35,6.566 91.695,6.566\", \"type\": \"path\"}, {\"fillcolor\": \"white\", \"layer\": \"below\", \"line\": {\"color\": \"white\"}, \"path\": \"M 88.19,49.751 Q 87.8,49.751 87.533,49.561 Q 87.265,49.371 87.133,49.056 Q 87.0,48.741 87.0,48.371 Q 87.0,47.996 87.133,47.686 Q 87.265,47.376 87.533,47.188 Q 87.8,47.001 88.19,47.001 Q 88.56,47.001 88.83,47.191 Q 89.1,47.381 89.24,47.696 Q 89.38,48.011 89.38,48.371 Q 89.38,48.731 89.24,49.046 Q 89.1,49.361 88.83,49.556 Q 88.56,49.751 88.19,49.751 M 88.195,49.566 Q 88.53,49.566 88.715,49.256 Q 88.9,48.946 88.9,48.371 Q 88.9,47.796 88.715,47.491 Q 88.53,47.186 88.195,47.186 Q 87.85,47.186 87.665,47.488 Q 87.48,47.791 87.48,48.371 Q 87.48,48.951 87.665,49.258 Q 87.85,49.566 88.195,49.566\", \"type\": \"path\"}, {\"fillcolor\": \"white\", \"layer\": \"below\", \"line\": {\"color\": \"white\"}, \"path\": \"M 92.082,49.27 L 92.082,49.295 L 90.742,49.295 A 0.449,0.449 360.0 0,0 90.56,49.323 Q 90.502,49.35 90.502,49.47 Q 90.502,49.65 90.677,49.65 L 92.352,49.65 Q 92.527,49.65 92.527,49.47 Q 92.522,49.365 92.47,49.3 Q 92.417,49.235 92.297,49.155 Q 91.902,48.89 91.685,48.718 Q 91.467,48.545 91.292,48.28 Q 91.117,48.015 91.117,47.685 Q 91.117,47.445 91.245,47.313 Q 91.372,47.18 91.602,47.18 Q 91.797,47.18 91.925,47.278 Q 92.052,47.375 92.052,47.545 Q 92.052,47.63 92.012,47.688 Q 91.972,47.745 91.93,47.78 Q 91.887,47.815 91.887,47.82 Q 91.887,47.855 91.955,47.905 Q 92.022,47.955 92.117,47.955 Q 92.272,47.955 92.365,47.858 Q 92.457,47.76 92.457,47.61 Q 92.457,47.41 92.322,47.27 Q 92.187,47.13 91.98,47.065 Q 91.772,47.0 91.557,47.0 Q 91.182,47.0 90.91,47.185 Q 90.637,47.37 90.637,47.75 Q 90.637,48.025 90.787,48.25 Q 90.937,48.475 91.145,48.633 Q 91.352,48.79 91.687,49.005 Q 91.952,49.17 92.082,49.27\", \"type\": \"path\"}, {\"fillcolor\": \"white\", \"layer\": \"below\", \"line\": {\"color\": \"white\"}, \"path\": \"M 98.01299999999999,4.68 L 98.01299999999999,5.72 A 3.257,3.257 180.0 0,1 98.014,5.789 A 1.126,1.126 180.0 0,1 97.991,6.057 Q 97.963,6.16 97.893,6.1899999999999995 Q 97.823,6.22 97.663,6.22 L 97.41799999999999,6.22 A 0.095,0.095 180.0 0,0 97.328,6.34 Q 97.333,6.415 97.358,6.432 Q 97.383,6.45 97.42099999999999,6.45 L 97.473,6.45 Q 97.68299999999999,6.45 97.883,6.5169999999999995 Q 98.083,6.585 98.318,6.68 Q 98.348,6.6899999999999995 98.368,6.6899999999999995 Q 98.448,6.6899999999999995 98.448,6.574999999999999 L 98.448,4.68 Q 98.448,4.46 98.50099999999999,4.365 Q 98.553,4.27 98.666,4.245 Q 98.77799999999999,4.22 99.02799999999999,4.22 L 99.078,4.22 Q 99.118,4.22 99.136,4.199999999999999 Q 99.15299999999999,4.18 99.158,4.12 Q 99.158,4.0 99.068,4.0 Q 98.708,4.015000000000001 98.228,4.015000000000001 Q 97.753,4.015000000000001 97.393,4.0 A 0.095,0.095 180.0 0,0 97.303,4.12 Q 97.30799999999999,4.18 97.326,4.199999999999999 Q 97.343,4.22 97.383,4.22 Q 97.663,4.22 97.78099999999999,4.242 Q 97.898,4.265000000000001 97.956,4.359999999999999 Q 98.01299999999999,4.455 98.01299999999999,4.68 L 98.01299999999999,4.68\", \"type\": \"path\"}, {\"fillcolor\": \"white\", \"layer\": \"below\", \"line\": {\"color\": \"white\"}, \"path\": \"M 101.69,6.7509999999999994 Q 101.3,6.7509999999999994 101.033,6.561 Q 100.765,6.371 100.633,6.056 Q 100.5,5.741 100.5,5.371 Q 100.5,4.996 100.633,4.686 Q 100.765,4.376 101.033,4.188 Q 101.3,4.001 101.69,4.001 Q 102.06,4.001 102.33,4.191 Q 102.6,4.381 102.74,4.696 Q 102.88,5.011 102.88,5.371 Q 102.88,5.731 102.74,6.045999999999999 Q 102.6,6.361000000000001 102.33,6.556 Q 102.06,6.7509999999999994 101.69,6.7509999999999994 M 101.695,6.566 Q 102.03,6.566 102.215,6.256 Q 102.4,5.946 102.4,5.371 Q 102.4,4.796 102.215,4.491 Q 102.03,4.186 101.695,4.186 Q 101.35,4.186 101.165,4.4879999999999995 Q 100.98,4.791 100.98,5.371 Q 100.98,5.9510000000000005 101.165,6.258 Q 101.35,6.566 101.695,6.566\", \"type\": \"path\"}, {\"fillcolor\": \"white\", \"layer\": \"below\", \"line\": {\"color\": \"white\"}, \"path\": \"M 98.19,49.751 Q 97.8,49.751 97.533,49.561 Q 97.265,49.371 97.133,49.056 Q 97.0,48.741 97.0,48.371 Q 97.0,47.996 97.133,47.686 Q 97.265,47.376 97.533,47.188 Q 97.8,47.001 98.19,47.001 Q 98.56,47.001 98.83,47.191 Q 99.1,47.381 99.24,47.696 Q 99.38,48.011 99.38,48.371 Q 99.38,48.731 99.24,49.046 Q 99.1,49.361 98.83,49.556 Q 98.56,49.751 98.19,49.751 M 98.195,49.566 Q 98.53,49.566 98.715,49.256 Q 98.9,48.946 98.9,48.371 Q 98.9,47.796 98.715,47.491 Q 98.53,47.186 98.195,47.186 Q 97.85,47.186 97.665,47.488 Q 97.48,47.791 97.48,48.371 Q 97.48,48.951 97.665,49.258 Q 97.85,49.566 98.195,49.566\", \"type\": \"path\"}, {\"fillcolor\": \"white\", \"layer\": \"below\", \"line\": {\"color\": \"white\"}, \"path\": \"M 101.64464761515876,49.01 L 101.64464761515876,47.97 A 3.257,3.257 360.0 0,1 101.64364761515876,47.901 A 1.126,1.126 360.0 0,1 101.66664761515877,47.633 Q 101.69464761515876,47.53 101.76464761515876,47.5 Q 101.83464761515876,47.47 101.99464761515877,47.47 L 102.23964761515876,47.47 A 0.095,0.095 360.0 0,0 102.32964761515876,47.35 Q 102.32464761515877,47.275 102.29964761515876,47.258 Q 102.27464761515876,47.24 102.23664761515876,47.24 L 102.18464761515877,47.24 Q 101.97464761515876,47.24 101.77464761515876,47.173 Q 101.57464761515877,47.105 101.33964761515877,47.01 Q 101.30964761515877,47.0 101.28964761515876,47.0 Q 101.20964761515876,47.0 101.20964761515876,47.115 L 101.20964761515876,49.01 Q 101.20964761515876,49.23 101.15664761515876,49.325 Q 101.10464761515877,49.42 100.99164761515877,49.445 Q 100.87964761515876,49.47 100.62964761515876,49.47 L 100.57964761515876,49.47 Q 100.53964761515876,49.47 100.52164761515876,49.49 Q 100.50464761515876,49.51 100.49964761515876,49.57 Q 100.49964761515876,49.69 100.58964761515877,49.69 Q 100.94964761515877,49.675 101.42964761515876,49.675 Q 101.90464761515877,49.675 102.26464761515876,49.69 A 0.095,0.095 360.0 0,0 102.35464761515877,49.57 Q 102.34964761515876,49.51 102.33164761515876,49.49 Q 102.31464761515876,49.47 102.27464761515876,49.47 Q 101.99464761515877,49.47 101.87664761515876,49.448 Q 101.75964761515877,49.425 101.70164761515876,49.33 Q 101.64464761515876,49.235 101.64464761515876,49.01 L 101.64464761515876,49.01\", \"type\": \"path\"}, {\"fillcolor\": \"white\", \"layer\": \"below\", \"line\": {\"color\": \"white\"}, \"path\": \"M 16.8 5.2 L 16.3 5.45 L 16.8 5.7 L 16.8 5.2 Z\", \"type\": \"path\"}, {\"fillcolor\": \"white\", \"layer\": \"below\", \"line\": {\"color\": \"white\"}, \"path\": \"M 103.6 5.2 L 104.1 5.45 L 103.6 5.7 L 103.6 5.2 Z\", \"type\": \"path\"}, {\"fillcolor\": \"white\", \"layer\": \"below\", \"line\": {\"color\": \"white\"}, \"path\": \"M 16.4 48.5 L 15.9 48.25 L 16.4 48.0 L 16.4 48.5 Z\", \"type\": \"path\"}, {\"fillcolor\": \"white\", \"layer\": \"below\", \"line\": {\"color\": \"white\"}, \"path\": \"M 103.2 48.5 L 103.7 48.25 L 103.2 48.0 L 103.2 48.5 Z\", \"type\": \"path\"}, {\"fillcolor\": \"white\", \"layer\": \"below\", \"line\": {\"color\": \"white\"}, \"path\": \"M 26.8 5.2 L 26.3 5.45 L 26.8 5.7 L 26.8 5.2 Z\", \"type\": \"path\"}, {\"fillcolor\": \"white\", \"layer\": \"below\", \"line\": {\"color\": \"white\"}, \"path\": \"M 93.6 5.2 L 94.1 5.45 L 93.6 5.7 L 93.6 5.2 Z\", \"type\": \"path\"}, {\"fillcolor\": \"white\", \"layer\": \"below\", \"line\": {\"color\": \"white\"}, \"path\": \"M 26.4 48.5 L 25.9 48.25 L 26.4 48.0 L 26.4 48.5 Z\", \"type\": \"path\"}, {\"fillcolor\": \"white\", \"layer\": \"below\", \"line\": {\"color\": \"white\"}, \"path\": \"M 93.2 48.5 L 93.7 48.25 L 93.2 48.0 L 93.2 48.5 Z\", \"type\": \"path\"}, {\"fillcolor\": \"white\", \"layer\": \"below\", \"line\": {\"color\": \"white\"}, \"path\": \"M 36.8 5.2 L 36.3 5.45 L 36.8 5.7 L 36.8 5.2 Z\", \"type\": \"path\"}, {\"fillcolor\": \"white\", \"layer\": \"below\", \"line\": {\"color\": \"white\"}, \"path\": \"M 83.6 5.2 L 84.1 5.45 L 83.6 5.7 L 83.6 5.2 Z\", \"type\": \"path\"}, {\"fillcolor\": \"white\", \"layer\": \"below\", \"line\": {\"color\": \"white\"}, \"path\": \"M 36.4 48.5 L 35.9 48.25 L 36.4 48.0 L 36.4 48.5 Z\", \"type\": \"path\"}, {\"fillcolor\": \"white\", \"layer\": \"below\", \"line\": {\"color\": \"white\"}, \"path\": \"M 83.2 48.5 L 83.7 48.25 L 83.2 48.0 L 83.2 48.5 Z\", \"type\": \"path\"}, {\"fillcolor\": \"white\", \"layer\": \"below\", \"line\": {\"color\": \"white\"}, \"path\": \"M 46.8 5.2 L 46.3 5.45 L 46.8 5.7 L 46.8 5.2 Z\", \"type\": \"path\"}, {\"fillcolor\": \"white\", \"layer\": \"below\", \"line\": {\"color\": \"white\"}, \"path\": \"M 73.6 5.2 L 74.1 5.45 L 73.6 5.7 L 73.6 5.2 Z\", \"type\": \"path\"}, {\"fillcolor\": \"white\", \"layer\": \"below\", \"line\": {\"color\": \"white\"}, \"path\": \"M 46.4 48.5 L 45.9 48.25 L 46.4 48.0 L 46.4 48.5 Z\", \"type\": \"path\"}, {\"fillcolor\": \"white\", \"layer\": \"below\", \"line\": {\"color\": \"white\"}, \"path\": \"M 73.2 48.5 L 73.7 48.25 L 73.2 48.0 L 73.2 48.5 Z\", \"type\": \"path\"}], \"sliders\": [{\"len\": 0.98, \"pad\": {\"b\": 10, \"t\": 5}, \"steps\": [{\"args\": [[\"1\"], {\"frame\": {\"duration\": 100, \"redraw\": false}, \"fromcurrent\": true, \"mode\": \"immediate\", \"transition\": {\"duration\": 100}}], \"label\": \"0.00 s\", \"method\": \"animate\"}, {\"args\": [[\"2\"], {\"frame\": {\"duration\": 100, \"redraw\": false}, \"fromcurrent\": true, \"mode\": \"immediate\", \"transition\": {\"duration\": 100}}], \"label\": \"0.10 s\", \"method\": \"animate\"}, {\"args\": [[\"3\"], {\"frame\": {\"duration\": 100, \"redraw\": false}, \"fromcurrent\": true, \"mode\": \"immediate\", \"transition\": {\"duration\": 100}}], \"label\": \"0.20 s\", \"method\": \"animate\"}, {\"args\": [[\"4\"], {\"frame\": {\"duration\": 100, \"redraw\": false}, \"fromcurrent\": true, \"mode\": \"immediate\", \"transition\": {\"duration\": 100}}], \"label\": \"0.30 s\", \"method\": \"animate\"}, {\"args\": [[\"5\"], {\"frame\": {\"duration\": 100, \"redraw\": false}, \"fromcurrent\": true, \"mode\": \"immediate\", \"transition\": {\"duration\": 100}}], \"label\": \"0.40 s\", \"method\": \"animate\"}, {\"args\": [[\"6\"], {\"frame\": {\"duration\": 100, \"redraw\": false}, \"fromcurrent\": true, \"mode\": \"immediate\", \"transition\": {\"duration\": 100}}], \"label\": \"0.50 s\", \"method\": \"animate\"}, {\"args\": [[\"7\"], {\"frame\": {\"duration\": 100, \"redraw\": false}, \"fromcurrent\": true, \"mode\": \"immediate\", \"transition\": {\"duration\": 100}}], \"label\": \"0.60 s\", \"method\": \"animate\"}, {\"args\": [[\"8\"], {\"frame\": {\"duration\": 100, \"redraw\": false}, \"fromcurrent\": true, \"mode\": \"immediate\", \"transition\": {\"duration\": 100}}], \"label\": \"0.70 s\", \"method\": \"animate\"}, {\"args\": [[\"9\"], {\"frame\": {\"duration\": 100, \"redraw\": false}, \"fromcurrent\": true, \"mode\": \"immediate\", \"transition\": {\"duration\": 100}}], \"label\": \"0.80 s\", \"method\": \"animate\"}, {\"args\": [[\"10\"], {\"frame\": {\"duration\": 100, \"redraw\": false}, \"fromcurrent\": true, \"mode\": \"immediate\", \"transition\": {\"duration\": 100}}], \"label\": \"0.90 s\", \"method\": \"animate\"}, {\"args\": [[\"11\"], {\"frame\": {\"duration\": 100, \"redraw\": false}, \"fromcurrent\": true, \"mode\": \"immediate\", \"transition\": {\"duration\": 100}}], \"label\": \"1.00 s\", \"method\": \"animate\"}, {\"args\": [[\"12\"], {\"frame\": {\"duration\": 100, \"redraw\": false}, \"fromcurrent\": true, \"mode\": \"immediate\", \"transition\": {\"duration\": 100}}], \"label\": \"1.10 s\", \"method\": \"animate\"}, {\"args\": [[\"13\"], {\"frame\": {\"duration\": 100, \"redraw\": false}, \"fromcurrent\": true, \"mode\": \"immediate\", \"transition\": {\"duration\": 100}}], \"label\": \"1.20 s\", \"method\": \"animate\"}, {\"args\": [[\"14\"], {\"frame\": {\"duration\": 100, \"redraw\": false}, \"fromcurrent\": true, \"mode\": \"immediate\", \"transition\": {\"duration\": 100}}], \"label\": \"1.30 s\", \"method\": \"animate\"}, {\"args\": [[\"15\"], {\"frame\": {\"duration\": 100, \"redraw\": false}, \"fromcurrent\": true, \"mode\": \"immediate\", \"transition\": {\"duration\": 100}}], \"label\": \"1.40 s\", \"method\": \"animate\"}, {\"args\": [[\"16\"], {\"frame\": {\"duration\": 100, \"redraw\": false}, \"fromcurrent\": true, \"mode\": \"immediate\", \"transition\": {\"duration\": 100}}], \"label\": \"1.50 s\", \"method\": \"animate\"}, {\"args\": [[\"17\"], {\"frame\": {\"duration\": 100, \"redraw\": false}, \"fromcurrent\": true, \"mode\": \"immediate\", \"transition\": {\"duration\": 100}}], \"label\": \"1.60 s\", \"method\": \"animate\"}, {\"args\": [[\"18\"], {\"frame\": {\"duration\": 100, \"redraw\": false}, \"fromcurrent\": true, \"mode\": \"immediate\", \"transition\": {\"duration\": 100}}], \"label\": \"1.70 s\", \"method\": \"animate\"}, {\"args\": [[\"19\"], {\"frame\": {\"duration\": 100, \"redraw\": false}, \"fromcurrent\": true, \"mode\": \"immediate\", \"transition\": {\"duration\": 100}}], \"label\": \"1.80 s\", \"method\": \"animate\"}, {\"args\": [[\"20\"], {\"frame\": {\"duration\": 100, \"redraw\": false}, \"fromcurrent\": true, \"mode\": \"immediate\", \"transition\": {\"duration\": 100}}], \"label\": \"1.90 s\", \"method\": \"animate\"}, {\"args\": [[\"21\"], {\"frame\": {\"duration\": 100, \"redraw\": false}, \"fromcurrent\": true, \"mode\": \"immediate\", \"transition\": {\"duration\": 100}}], \"label\": \"2.00 s\", \"method\": \"animate\"}, {\"args\": [[\"22\"], {\"frame\": {\"duration\": 100, \"redraw\": false}, \"fromcurrent\": true, \"mode\": \"immediate\", \"transition\": {\"duration\": 100}}], \"label\": \"2.10 s\", \"method\": \"animate\"}, {\"args\": [[\"23\"], {\"frame\": {\"duration\": 100, \"redraw\": false}, \"fromcurrent\": true, \"mode\": \"immediate\", \"transition\": {\"duration\": 100}}], \"label\": \"2.20 s\", \"method\": \"animate\"}, {\"args\": [[\"24\"], {\"frame\": {\"duration\": 100, \"redraw\": false}, \"fromcurrent\": true, \"mode\": \"immediate\", \"transition\": {\"duration\": 100}}], \"label\": \"2.30 s\", \"method\": \"animate\"}, {\"args\": [[\"25\"], {\"frame\": {\"duration\": 100, \"redraw\": false}, \"fromcurrent\": true, \"mode\": \"immediate\", \"transition\": {\"duration\": 100}}], \"label\": \"2.40 s\", \"method\": \"animate\"}, {\"args\": [[\"26\"], {\"frame\": {\"duration\": 100, \"redraw\": false}, \"fromcurrent\": true, \"mode\": \"immediate\", \"transition\": {\"duration\": 100}}], \"label\": \"2.50 s\", \"method\": \"animate\"}, {\"args\": [[\"27\"], {\"frame\": {\"duration\": 100, \"redraw\": false}, \"fromcurrent\": true, \"mode\": \"immediate\", \"transition\": {\"duration\": 100}}], \"label\": \"2.60 s\", \"method\": \"animate\"}, {\"args\": [[\"28\"], {\"frame\": {\"duration\": 100, \"redraw\": false}, \"fromcurrent\": true, \"mode\": \"immediate\", \"transition\": {\"duration\": 100}}], \"label\": \"2.70 s\", \"method\": \"animate\"}, {\"args\": [[\"29\"], {\"frame\": {\"duration\": 100, \"redraw\": false}, \"fromcurrent\": true, \"mode\": \"immediate\", \"transition\": {\"duration\": 100}}], \"label\": \"2.80 s\", \"method\": \"animate\"}, {\"args\": [[\"30\"], {\"frame\": {\"duration\": 100, \"redraw\": false}, \"fromcurrent\": true, \"mode\": \"immediate\", \"transition\": {\"duration\": 100}}], \"label\": \"2.90 s\", \"method\": \"animate\"}, {\"args\": [[\"31\"], {\"frame\": {\"duration\": 100, \"redraw\": false}, \"fromcurrent\": true, \"mode\": \"immediate\", \"transition\": {\"duration\": 100}}], \"label\": \"3.00 s\", \"method\": \"animate\"}, {\"args\": [[\"32\"], {\"frame\": {\"duration\": 100, \"redraw\": false}, \"fromcurrent\": true, \"mode\": \"immediate\", \"transition\": {\"duration\": 100}}], \"label\": \"3.10 s\", \"method\": \"animate\"}, {\"args\": [[\"33\"], {\"frame\": {\"duration\": 100, \"redraw\": false}, \"fromcurrent\": true, \"mode\": \"immediate\", \"transition\": {\"duration\": 100}}], \"label\": \"3.20 s\", \"method\": \"animate\"}, {\"args\": [[\"34\"], {\"frame\": {\"duration\": 100, \"redraw\": false}, \"fromcurrent\": true, \"mode\": \"immediate\", \"transition\": {\"duration\": 100}}], \"label\": \"3.30 s\", \"method\": \"animate\"}, {\"args\": [[\"35\"], {\"frame\": {\"duration\": 100, \"redraw\": false}, \"fromcurrent\": true, \"mode\": \"immediate\", \"transition\": {\"duration\": 100}}], \"label\": \"3.40 s\", \"method\": \"animate\"}, {\"args\": [[\"36\"], {\"frame\": {\"duration\": 100, \"redraw\": false}, \"fromcurrent\": true, \"mode\": \"immediate\", \"transition\": {\"duration\": 100}}], \"label\": \"3.50 s\", \"method\": \"animate\"}, {\"args\": [[\"37\"], {\"frame\": {\"duration\": 100, \"redraw\": false}, \"fromcurrent\": true, \"mode\": \"immediate\", \"transition\": {\"duration\": 100}}], \"label\": \"3.60 s\", \"method\": \"animate\"}, {\"args\": [[\"38\"], {\"frame\": {\"duration\": 100, \"redraw\": false}, \"fromcurrent\": true, \"mode\": \"immediate\", \"transition\": {\"duration\": 100}}], \"label\": \"3.70 s\", \"method\": \"animate\"}, {\"args\": [[\"39\"], {\"frame\": {\"duration\": 100, \"redraw\": false}, \"fromcurrent\": true, \"mode\": \"immediate\", \"transition\": {\"duration\": 100}}], \"label\": \"3.80 s\", \"method\": \"animate\"}, {\"args\": [[\"40\"], {\"frame\": {\"duration\": 100, \"redraw\": false}, \"fromcurrent\": true, \"mode\": \"immediate\", \"transition\": {\"duration\": 100}}], \"label\": \"3.90 s\", \"method\": \"animate\"}, {\"args\": [[\"41\"], {\"frame\": {\"duration\": 100, \"redraw\": false}, \"fromcurrent\": true, \"mode\": \"immediate\", \"transition\": {\"duration\": 100}}], \"label\": \"4.00 s\", \"method\": \"animate\"}, {\"args\": [[\"42\"], {\"frame\": {\"duration\": 100, \"redraw\": false}, \"fromcurrent\": true, \"mode\": \"immediate\", \"transition\": {\"duration\": 100}}], \"label\": \"4.10 s\", \"method\": \"animate\"}, {\"args\": [[\"43\"], {\"frame\": {\"duration\": 100, \"redraw\": false}, \"fromcurrent\": true, \"mode\": \"immediate\", \"transition\": {\"duration\": 100}}], \"label\": \"4.20 s\", \"method\": \"animate\"}, {\"args\": [[\"44\"], {\"frame\": {\"duration\": 100, \"redraw\": false}, \"fromcurrent\": true, \"mode\": \"immediate\", \"transition\": {\"duration\": 100}}], \"label\": \"4.30 s\", \"method\": \"animate\"}, {\"args\": [[\"45\"], {\"frame\": {\"duration\": 100, \"redraw\": false}, \"fromcurrent\": true, \"mode\": \"immediate\", \"transition\": {\"duration\": 100}}], \"label\": \"4.40 s\", \"method\": \"animate\"}, {\"args\": [[\"46\"], {\"frame\": {\"duration\": 100, \"redraw\": false}, \"fromcurrent\": true, \"mode\": \"immediate\", \"transition\": {\"duration\": 100}}], \"label\": \"4.50 s\", \"method\": \"animate\"}, {\"args\": [[\"47\"], {\"frame\": {\"duration\": 100, \"redraw\": false}, \"fromcurrent\": true, \"mode\": \"immediate\", \"transition\": {\"duration\": 100}}], \"label\": \"4.60 s\", \"method\": \"animate\"}, {\"args\": [[\"48\"], {\"frame\": {\"duration\": 100, \"redraw\": false}, \"fromcurrent\": true, \"mode\": \"immediate\", \"transition\": {\"duration\": 100}}], \"label\": \"4.70 s\", \"method\": \"animate\"}, {\"args\": [[\"49\"], {\"frame\": {\"duration\": 100, \"redraw\": false}, \"fromcurrent\": true, \"mode\": \"immediate\", \"transition\": {\"duration\": 100}}], \"label\": \"4.80 s\", \"method\": \"animate\"}, {\"args\": [[\"50\"], {\"frame\": {\"duration\": 100, \"redraw\": false}, \"fromcurrent\": true, \"mode\": \"immediate\", \"transition\": {\"duration\": 100}}], \"label\": \"4.90 s\", \"method\": \"animate\"}, {\"args\": [[\"51\"], {\"frame\": {\"duration\": 100, \"redraw\": false}, \"fromcurrent\": true, \"mode\": \"immediate\", \"transition\": {\"duration\": 100}}], \"label\": \"5.00 s\", \"method\": \"animate\"}, {\"args\": [[\"52\"], {\"frame\": {\"duration\": 100, \"redraw\": false}, \"fromcurrent\": true, \"mode\": \"immediate\", \"transition\": {\"duration\": 100}}], \"label\": \"5.10 s\", \"method\": \"animate\"}, {\"args\": [[\"53\"], {\"frame\": {\"duration\": 100, \"redraw\": false}, \"fromcurrent\": true, \"mode\": \"immediate\", \"transition\": {\"duration\": 100}}], \"label\": \"5.20 s\", \"method\": \"animate\"}, {\"args\": [[\"54\"], {\"frame\": {\"duration\": 100, \"redraw\": false}, \"fromcurrent\": true, \"mode\": \"immediate\", \"transition\": {\"duration\": 100}}], \"label\": \"5.30 s\", \"method\": \"animate\"}, {\"args\": [[\"55\"], {\"frame\": {\"duration\": 100, \"redraw\": false}, \"fromcurrent\": true, \"mode\": \"immediate\", \"transition\": {\"duration\": 100}}], \"label\": \"5.40 s\", \"method\": \"animate\"}, {\"args\": [[\"56\"], {\"frame\": {\"duration\": 100, \"redraw\": false}, \"fromcurrent\": true, \"mode\": \"immediate\", \"transition\": {\"duration\": 100}}], \"label\": \"5.50 s\", \"method\": \"animate\"}, {\"args\": [[\"57\"], {\"frame\": {\"duration\": 100, \"redraw\": false}, \"fromcurrent\": true, \"mode\": \"immediate\", \"transition\": {\"duration\": 100}}], \"label\": \"5.60 s\", \"method\": \"animate\"}, {\"args\": [[\"58\"], {\"frame\": {\"duration\": 100, \"redraw\": false}, \"fromcurrent\": true, \"mode\": \"immediate\", \"transition\": {\"duration\": 100}}], \"label\": \"5.70 s\", \"method\": \"animate\"}, {\"args\": [[\"59\"], {\"frame\": {\"duration\": 100, \"redraw\": false}, \"fromcurrent\": true, \"mode\": \"immediate\", \"transition\": {\"duration\": 100}}], \"label\": \"5.80 s\", \"method\": \"animate\"}, {\"args\": [[\"60\"], {\"frame\": {\"duration\": 100, \"redraw\": false}, \"fromcurrent\": true, \"mode\": \"immediate\", \"transition\": {\"duration\": 100}}], \"label\": \"5.90 s\", \"method\": \"animate\"}, {\"args\": [[\"61\"], {\"frame\": {\"duration\": 100, \"redraw\": false}, \"fromcurrent\": true, \"mode\": \"immediate\", \"transition\": {\"duration\": 100}}], \"label\": \"6.00 s\", \"method\": \"animate\"}, {\"args\": [[\"62\"], {\"frame\": {\"duration\": 100, \"redraw\": false}, \"fromcurrent\": true, \"mode\": \"immediate\", \"transition\": {\"duration\": 100}}], \"label\": \"6.10 s\", \"method\": \"animate\"}, {\"args\": [[\"63\"], {\"frame\": {\"duration\": 100, \"redraw\": false}, \"fromcurrent\": true, \"mode\": \"immediate\", \"transition\": {\"duration\": 100}}], \"label\": \"6.20 s\", \"method\": \"animate\"}, {\"args\": [[\"64\"], {\"frame\": {\"duration\": 100, \"redraw\": false}, \"fromcurrent\": true, \"mode\": \"immediate\", \"transition\": {\"duration\": 100}}], \"label\": \"6.30 s\", \"method\": \"animate\"}, {\"args\": [[\"65\"], {\"frame\": {\"duration\": 100, \"redraw\": false}, \"fromcurrent\": true, \"mode\": \"immediate\", \"transition\": {\"duration\": 100}}], \"label\": \"6.40 s\", \"method\": \"animate\"}, {\"args\": [[\"66\"], {\"frame\": {\"duration\": 100, \"redraw\": false}, \"fromcurrent\": true, \"mode\": \"immediate\", \"transition\": {\"duration\": 100}}], \"label\": \"6.50 s\", \"method\": \"animate\"}, {\"args\": [[\"67\"], {\"frame\": {\"duration\": 100, \"redraw\": false}, \"fromcurrent\": true, \"mode\": \"immediate\", \"transition\": {\"duration\": 100}}], \"label\": \"6.60 s\", \"method\": \"animate\"}, {\"args\": [[\"68\"], {\"frame\": {\"duration\": 100, \"redraw\": false}, \"fromcurrent\": true, \"mode\": \"immediate\", \"transition\": {\"duration\": 100}}], \"label\": \"6.70 s\", \"method\": \"animate\"}, {\"args\": [[\"69\"], {\"frame\": {\"duration\": 100, \"redraw\": false}, \"fromcurrent\": true, \"mode\": \"immediate\", \"transition\": {\"duration\": 100}}], \"label\": \"6.80 s\", \"method\": \"animate\"}, {\"args\": [[\"70\"], {\"frame\": {\"duration\": 100, \"redraw\": false}, \"fromcurrent\": true, \"mode\": \"immediate\", \"transition\": {\"duration\": 100}}], \"label\": \"6.90 s\", \"method\": \"animate\"}, {\"args\": [[\"71\"], {\"frame\": {\"duration\": 100, \"redraw\": false}, \"fromcurrent\": true, \"mode\": \"immediate\", \"transition\": {\"duration\": 100}}], \"label\": \"7.00 s\", \"method\": \"animate\"}, {\"args\": [[\"72\"], {\"frame\": {\"duration\": 100, \"redraw\": false}, \"fromcurrent\": true, \"mode\": \"immediate\", \"transition\": {\"duration\": 100}}], \"label\": \"7.10 s\", \"method\": \"animate\"}, {\"args\": [[\"73\"], {\"frame\": {\"duration\": 100, \"redraw\": false}, \"fromcurrent\": true, \"mode\": \"immediate\", \"transition\": {\"duration\": 100}}], \"label\": \"7.20 s\", \"method\": \"animate\"}, {\"args\": [[\"74\"], {\"frame\": {\"duration\": 100, \"redraw\": false}, \"fromcurrent\": true, \"mode\": \"immediate\", \"transition\": {\"duration\": 100}}], \"label\": \"7.30 s\", \"method\": \"animate\"}, {\"args\": [[\"75\"], {\"frame\": {\"duration\": 100, \"redraw\": false}, \"fromcurrent\": true, \"mode\": \"immediate\", \"transition\": {\"duration\": 100}}], \"label\": \"7.40 s\", \"method\": \"animate\"}, {\"args\": [[\"76\"], {\"frame\": {\"duration\": 100, \"redraw\": false}, \"fromcurrent\": true, \"mode\": \"immediate\", \"transition\": {\"duration\": 100}}], \"label\": \"7.50 s\", \"method\": \"animate\"}, {\"args\": [[\"77\"], {\"frame\": {\"duration\": 100, \"redraw\": false}, \"fromcurrent\": true, \"mode\": \"immediate\", \"transition\": {\"duration\": 100}}], \"label\": \"7.60 s\", \"method\": \"animate\"}, {\"args\": [[\"78\"], {\"frame\": {\"duration\": 100, \"redraw\": false}, \"fromcurrent\": true, \"mode\": \"immediate\", \"transition\": {\"duration\": 100}}], \"label\": \"7.70 s\", \"method\": \"animate\"}, {\"args\": [[\"79\"], {\"frame\": {\"duration\": 100, \"redraw\": false}, \"fromcurrent\": true, \"mode\": \"immediate\", \"transition\": {\"duration\": 100}}], \"label\": \"7.80 s\", \"method\": \"animate\"}, {\"args\": [[\"80\"], {\"frame\": {\"duration\": 100, \"redraw\": false}, \"fromcurrent\": true, \"mode\": \"immediate\", \"transition\": {\"duration\": 100}}], \"label\": \"7.90 s\", \"method\": \"animate\"}, {\"args\": [[\"81\"], {\"frame\": {\"duration\": 100, \"redraw\": false}, \"fromcurrent\": true, \"mode\": \"immediate\", \"transition\": {\"duration\": 100}}], \"label\": \"8.00 s\", \"method\": \"animate\"}, {\"args\": [[\"82\"], {\"frame\": {\"duration\": 100, \"redraw\": false}, \"fromcurrent\": true, \"mode\": \"immediate\", \"transition\": {\"duration\": 100}}], \"label\": \"8.10 s\", \"method\": \"animate\"}, {\"args\": [[\"83\"], {\"frame\": {\"duration\": 100, \"redraw\": false}, \"fromcurrent\": true, \"mode\": \"immediate\", \"transition\": {\"duration\": 100}}], \"label\": \"8.20 s\", \"method\": \"animate\"}, {\"args\": [[\"84\"], {\"frame\": {\"duration\": 100, \"redraw\": false}, \"fromcurrent\": true, \"mode\": \"immediate\", \"transition\": {\"duration\": 100}}], \"label\": \"8.30 s\", \"method\": \"animate\"}, {\"args\": [[\"85\"], {\"frame\": {\"duration\": 100, \"redraw\": false}, \"fromcurrent\": true, \"mode\": \"immediate\", \"transition\": {\"duration\": 100}}], \"label\": \"8.40 s\", \"method\": \"animate\"}, {\"args\": [[\"86\"], {\"frame\": {\"duration\": 100, \"redraw\": false}, \"fromcurrent\": true, \"mode\": \"immediate\", \"transition\": {\"duration\": 100}}], \"label\": \"8.50 s\", \"method\": \"animate\"}, {\"args\": [[\"87\"], {\"frame\": {\"duration\": 100, \"redraw\": false}, \"fromcurrent\": true, \"mode\": \"immediate\", \"transition\": {\"duration\": 100}}], \"label\": \"8.60 s\", \"method\": \"animate\"}, {\"args\": [[\"88\"], {\"frame\": {\"duration\": 100, \"redraw\": false}, \"fromcurrent\": true, \"mode\": \"immediate\", \"transition\": {\"duration\": 100}}], \"label\": \"8.70 s\", \"method\": \"animate\"}, {\"args\": [[\"89\"], {\"frame\": {\"duration\": 100, \"redraw\": false}, \"fromcurrent\": true, \"mode\": \"immediate\", \"transition\": {\"duration\": 100}}], \"label\": \"8.80 s\", \"method\": \"animate\"}, {\"args\": [[\"90\"], {\"frame\": {\"duration\": 100, \"redraw\": false}, \"fromcurrent\": true, \"mode\": \"immediate\", \"transition\": {\"duration\": 100}}], \"label\": \"8.90 s\", \"method\": \"animate\"}, {\"args\": [[\"91\"], {\"frame\": {\"duration\": 100, \"redraw\": false}, \"fromcurrent\": true, \"mode\": \"immediate\", \"transition\": {\"duration\": 100}}], \"label\": \"9.00 s\", \"method\": \"animate\"}, {\"args\": [[\"92\"], {\"frame\": {\"duration\": 100, \"redraw\": false}, \"fromcurrent\": true, \"mode\": \"immediate\", \"transition\": {\"duration\": 100}}], \"label\": \"9.10 s\", \"method\": \"animate\"}, {\"args\": [[\"93\"], {\"frame\": {\"duration\": 100, \"redraw\": false}, \"fromcurrent\": true, \"mode\": \"immediate\", \"transition\": {\"duration\": 100}}], \"label\": \"9.20 s\", \"method\": \"animate\"}, {\"args\": [[\"94\"], {\"frame\": {\"duration\": 100, \"redraw\": false}, \"fromcurrent\": true, \"mode\": \"immediate\", \"transition\": {\"duration\": 100}}], \"label\": \"9.30 s\", \"method\": \"animate\"}, {\"args\": [[\"95\"], {\"frame\": {\"duration\": 100, \"redraw\": false}, \"fromcurrent\": true, \"mode\": \"immediate\", \"transition\": {\"duration\": 100}}], \"label\": \"9.40 s\", \"method\": \"animate\"}, {\"args\": [[\"96\"], {\"frame\": {\"duration\": 100, \"redraw\": false}, \"fromcurrent\": true, \"mode\": \"immediate\", \"transition\": {\"duration\": 100}}], \"label\": \"9.50 s\", \"method\": \"animate\"}, {\"args\": [[\"97\"], {\"frame\": {\"duration\": 100, \"redraw\": false}, \"fromcurrent\": true, \"mode\": \"immediate\", \"transition\": {\"duration\": 100}}], \"label\": \"9.60 s\", \"method\": \"animate\"}, {\"args\": [[\"98\"], {\"frame\": {\"duration\": 100, \"redraw\": false}, \"fromcurrent\": true, \"mode\": \"immediate\", \"transition\": {\"duration\": 100}}], \"label\": \"9.70 s\", \"method\": \"animate\"}, {\"args\": [[\"99\"], {\"frame\": {\"duration\": 100, \"redraw\": false}, \"fromcurrent\": true, \"mode\": \"immediate\", \"transition\": {\"duration\": 100}}], \"label\": \"9.80 s\", \"method\": \"animate\"}, {\"args\": [[\"100\"], {\"frame\": {\"duration\": 100, \"redraw\": false}, \"fromcurrent\": true, \"mode\": \"immediate\", \"transition\": {\"duration\": 100}}], \"label\": \"9.90 s\", \"method\": \"animate\"}, {\"args\": [[\"101\"], {\"frame\": {\"duration\": 100, \"redraw\": false}, \"fromcurrent\": true, \"mode\": \"immediate\", \"transition\": {\"duration\": 100}}], \"label\": \"10.00 s\", \"method\": \"animate\"}, {\"args\": [[\"102\"], {\"frame\": {\"duration\": 100, \"redraw\": false}, \"fromcurrent\": true, \"mode\": \"immediate\", \"transition\": {\"duration\": 100}}], \"label\": \"10.10 s\", \"method\": \"animate\"}, {\"args\": [[\"103\"], {\"frame\": {\"duration\": 100, \"redraw\": false}, \"fromcurrent\": true, \"mode\": \"immediate\", \"transition\": {\"duration\": 100}}], \"label\": \"10.20 s\", \"method\": \"animate\"}, {\"args\": [[\"104\"], {\"frame\": {\"duration\": 100, \"redraw\": false}, \"fromcurrent\": true, \"mode\": \"immediate\", \"transition\": {\"duration\": 100}}], \"label\": \"10.30 s\", \"method\": \"animate\"}, {\"args\": [[\"105\"], {\"frame\": {\"duration\": 100, \"redraw\": false}, \"fromcurrent\": true, \"mode\": \"immediate\", \"transition\": {\"duration\": 100}}], \"label\": \"10.40 s\", \"method\": \"animate\"}, {\"args\": [[\"106\"], {\"frame\": {\"duration\": 100, \"redraw\": false}, \"fromcurrent\": true, \"mode\": \"immediate\", \"transition\": {\"duration\": 100}}], \"label\": \"10.50 s\", \"method\": \"animate\"}, {\"args\": [[\"107\"], {\"frame\": {\"duration\": 100, \"redraw\": false}, \"fromcurrent\": true, \"mode\": \"immediate\", \"transition\": {\"duration\": 100}}], \"label\": \"10.60 s\", \"method\": \"animate\"}, {\"args\": [[\"108\"], {\"frame\": {\"duration\": 100, \"redraw\": false}, \"fromcurrent\": true, \"mode\": \"immediate\", \"transition\": {\"duration\": 100}}], \"label\": \"10.70 s\", \"method\": \"animate\"}, {\"args\": [[\"109\"], {\"frame\": {\"duration\": 100, \"redraw\": false}, \"fromcurrent\": true, \"mode\": \"immediate\", \"transition\": {\"duration\": 100}}], \"label\": \"10.80 s\", \"method\": \"animate\"}, {\"args\": [[\"110\"], {\"frame\": {\"duration\": 100, \"redraw\": false}, \"fromcurrent\": true, \"mode\": \"immediate\", \"transition\": {\"duration\": 100}}], \"label\": \"10.90 s\", \"method\": \"animate\"}, {\"args\": [[\"111\"], {\"frame\": {\"duration\": 100, \"redraw\": false}, \"fromcurrent\": true, \"mode\": \"immediate\", \"transition\": {\"duration\": 100}}], \"label\": \"11.00 s\", \"method\": \"animate\"}, {\"args\": [[\"112\"], {\"frame\": {\"duration\": 100, \"redraw\": false}, \"fromcurrent\": true, \"mode\": \"immediate\", \"transition\": {\"duration\": 100}}], \"label\": \"11.10 s\", \"method\": \"animate\"}, {\"args\": [[\"113\"], {\"frame\": {\"duration\": 100, \"redraw\": false}, \"fromcurrent\": true, \"mode\": \"immediate\", \"transition\": {\"duration\": 100}}], \"label\": \"11.20 s\", \"method\": \"animate\"}, {\"args\": [[\"114\"], {\"frame\": {\"duration\": 100, \"redraw\": false}, \"fromcurrent\": true, \"mode\": \"immediate\", \"transition\": {\"duration\": 100}}], \"label\": \"11.30 s\", \"method\": \"animate\"}, {\"args\": [[\"115\"], {\"frame\": {\"duration\": 100, \"redraw\": false}, \"fromcurrent\": true, \"mode\": \"immediate\", \"transition\": {\"duration\": 100}}], \"label\": \"11.40 s\", \"method\": \"animate\"}, {\"args\": [[\"116\"], {\"frame\": {\"duration\": 100, \"redraw\": false}, \"fromcurrent\": true, \"mode\": \"immediate\", \"transition\": {\"duration\": 100}}], \"label\": \"11.50 s\", \"method\": \"animate\"}, {\"args\": [[\"117\"], {\"frame\": {\"duration\": 100, \"redraw\": false}, \"fromcurrent\": true, \"mode\": \"immediate\", \"transition\": {\"duration\": 100}}], \"label\": \"11.60 s\", \"method\": \"animate\"}, {\"args\": [[\"118\"], {\"frame\": {\"duration\": 100, \"redraw\": false}, \"fromcurrent\": true, \"mode\": \"immediate\", \"transition\": {\"duration\": 100}}], \"label\": \"11.70 s\", \"method\": \"animate\"}, {\"args\": [[\"119\"], {\"frame\": {\"duration\": 100, \"redraw\": false}, \"fromcurrent\": true, \"mode\": \"immediate\", \"transition\": {\"duration\": 100}}], \"label\": \"11.80 s\", \"method\": \"animate\"}, {\"args\": [[\"120\"], {\"frame\": {\"duration\": 100, \"redraw\": false}, \"fromcurrent\": true, \"mode\": \"immediate\", \"transition\": {\"duration\": 100}}], \"label\": \"11.90 s\", \"method\": \"animate\"}, {\"args\": [[\"121\"], {\"frame\": {\"duration\": 100, \"redraw\": false}, \"fromcurrent\": true, \"mode\": \"immediate\", \"transition\": {\"duration\": 100}}], \"label\": \"12.00 s\", \"method\": \"animate\"}, {\"args\": [[\"122\"], {\"frame\": {\"duration\": 100, \"redraw\": false}, \"fromcurrent\": true, \"mode\": \"immediate\", \"transition\": {\"duration\": 100}}], \"label\": \"12.10 s\", \"method\": \"animate\"}, {\"args\": [[\"123\"], {\"frame\": {\"duration\": 100, \"redraw\": false}, \"fromcurrent\": true, \"mode\": \"immediate\", \"transition\": {\"duration\": 100}}], \"label\": \"12.20 s\", \"method\": \"animate\"}, {\"args\": [[\"124\"], {\"frame\": {\"duration\": 100, \"redraw\": false}, \"fromcurrent\": true, \"mode\": \"immediate\", \"transition\": {\"duration\": 100}}], \"label\": \"12.30 s\", \"method\": \"animate\"}, {\"args\": [[\"125\"], {\"frame\": {\"duration\": 100, \"redraw\": false}, \"fromcurrent\": true, \"mode\": \"immediate\", \"transition\": {\"duration\": 100}}], \"label\": \"12.40 s\", \"method\": \"animate\"}, {\"args\": [[\"126\"], {\"frame\": {\"duration\": 100, \"redraw\": false}, \"fromcurrent\": true, \"mode\": \"immediate\", \"transition\": {\"duration\": 100}}], \"label\": \"12.50 s\", \"method\": \"animate\"}, {\"args\": [[\"127\"], {\"frame\": {\"duration\": 100, \"redraw\": false}, \"fromcurrent\": true, \"mode\": \"immediate\", \"transition\": {\"duration\": 100}}], \"label\": \"12.60 s\", \"method\": \"animate\"}, {\"args\": [[\"128\"], {\"frame\": {\"duration\": 100, \"redraw\": false}, \"fromcurrent\": true, \"mode\": \"immediate\", \"transition\": {\"duration\": 100}}], \"label\": \"12.70 s\", \"method\": \"animate\"}, {\"args\": [[\"129\"], {\"frame\": {\"duration\": 100, \"redraw\": false}, \"fromcurrent\": true, \"mode\": \"immediate\", \"transition\": {\"duration\": 100}}], \"label\": \"12.80 s\", \"method\": \"animate\"}, {\"args\": [[\"130\"], {\"frame\": {\"duration\": 100, \"redraw\": false}, \"fromcurrent\": true, \"mode\": \"immediate\", \"transition\": {\"duration\": 100}}], \"label\": \"12.90 s\", \"method\": \"animate\"}, {\"args\": [[\"131\"], {\"frame\": {\"duration\": 100, \"redraw\": false}, \"fromcurrent\": true, \"mode\": \"immediate\", \"transition\": {\"duration\": 100}}], \"label\": \"13.00 s\", \"method\": \"animate\"}, {\"args\": [[\"132\"], {\"frame\": {\"duration\": 100, \"redraw\": false}, \"fromcurrent\": true, \"mode\": \"immediate\", \"transition\": {\"duration\": 100}}], \"label\": \"13.10 s\", \"method\": \"animate\"}, {\"args\": [[\"133\"], {\"frame\": {\"duration\": 100, \"redraw\": false}, \"fromcurrent\": true, \"mode\": \"immediate\", \"transition\": {\"duration\": 100}}], \"label\": \"13.20 s\", \"method\": \"animate\"}, {\"args\": [[\"134\"], {\"frame\": {\"duration\": 100, \"redraw\": false}, \"fromcurrent\": true, \"mode\": \"immediate\", \"transition\": {\"duration\": 100}}], \"label\": \"13.30 s\", \"method\": \"animate\"}, {\"args\": [[\"135\"], {\"frame\": {\"duration\": 100, \"redraw\": false}, \"fromcurrent\": true, \"mode\": \"immediate\", \"transition\": {\"duration\": 100}}], \"label\": \"13.40 s\", \"method\": \"animate\"}, {\"args\": [[\"136\"], {\"frame\": {\"duration\": 100, \"redraw\": false}, \"fromcurrent\": true, \"mode\": \"immediate\", \"transition\": {\"duration\": 100}}], \"label\": \"13.50 s\", \"method\": \"animate\"}, {\"args\": [[\"137\"], {\"frame\": {\"duration\": 100, \"redraw\": false}, \"fromcurrent\": true, \"mode\": \"immediate\", \"transition\": {\"duration\": 100}}], \"label\": \"13.60 s\", \"method\": \"animate\"}, {\"args\": [[\"138\"], {\"frame\": {\"duration\": 100, \"redraw\": false}, \"fromcurrent\": true, \"mode\": \"immediate\", \"transition\": {\"duration\": 100}}], \"label\": \"13.70 s\", \"method\": \"animate\"}, {\"args\": [[\"139\"], {\"frame\": {\"duration\": 100, \"redraw\": false}, \"fromcurrent\": true, \"mode\": \"immediate\", \"transition\": {\"duration\": 100}}], \"label\": \"13.80 s\", \"method\": \"animate\"}, {\"args\": [[\"140\"], {\"frame\": {\"duration\": 100, \"redraw\": false}, \"fromcurrent\": true, \"mode\": \"immediate\", \"transition\": {\"duration\": 100}}], \"label\": \"13.90 s\", \"method\": \"animate\"}, {\"args\": [[\"141\"], {\"frame\": {\"duration\": 100, \"redraw\": false}, \"fromcurrent\": true, \"mode\": \"immediate\", \"transition\": {\"duration\": 100}}], \"label\": \"14.00 s\", \"method\": \"animate\"}, {\"args\": [[\"142\"], {\"frame\": {\"duration\": 100, \"redraw\": false}, \"fromcurrent\": true, \"mode\": \"immediate\", \"transition\": {\"duration\": 100}}], \"label\": \"14.10 s\", \"method\": \"animate\"}, {\"args\": [[\"143\"], {\"frame\": {\"duration\": 100, \"redraw\": false}, \"fromcurrent\": true, \"mode\": \"immediate\", \"transition\": {\"duration\": 100}}], \"label\": \"14.20 s\", \"method\": \"animate\"}, {\"args\": [[\"144\"], {\"frame\": {\"duration\": 100, \"redraw\": false}, \"fromcurrent\": true, \"mode\": \"immediate\", \"transition\": {\"duration\": 100}}], \"label\": \"14.30 s\", \"method\": \"animate\"}, {\"args\": [[\"145\"], {\"frame\": {\"duration\": 100, \"redraw\": false}, \"fromcurrent\": true, \"mode\": \"immediate\", \"transition\": {\"duration\": 100}}], \"label\": \"14.40 s\", \"method\": \"animate\"}, {\"args\": [[\"146\"], {\"frame\": {\"duration\": 100, \"redraw\": false}, \"fromcurrent\": true, \"mode\": \"immediate\", \"transition\": {\"duration\": 100}}], \"label\": \"14.50 s\", \"method\": \"animate\"}, {\"args\": [[\"147\"], {\"frame\": {\"duration\": 100, \"redraw\": false}, \"fromcurrent\": true, \"mode\": \"immediate\", \"transition\": {\"duration\": 100}}], \"label\": \"14.60 s\", \"method\": \"animate\"}, {\"args\": [[\"148\"], {\"frame\": {\"duration\": 100, \"redraw\": false}, \"fromcurrent\": true, \"mode\": \"immediate\", \"transition\": {\"duration\": 100}}], \"label\": \"14.70 s\", \"method\": \"animate\"}, {\"args\": [[\"149\"], {\"frame\": {\"duration\": 100, \"redraw\": false}, \"fromcurrent\": true, \"mode\": \"immediate\", \"transition\": {\"duration\": 100}}], \"label\": \"14.80 s\", \"method\": \"animate\"}, {\"args\": [[\"150\"], {\"frame\": {\"duration\": 100, \"redraw\": false}, \"fromcurrent\": true, \"mode\": \"immediate\", \"transition\": {\"duration\": 100}}], \"label\": \"14.90 s\", \"method\": \"animate\"}, {\"args\": [[\"151\"], {\"frame\": {\"duration\": 100, \"redraw\": false}, \"fromcurrent\": true, \"mode\": \"immediate\", \"transition\": {\"duration\": 100}}], \"label\": \"15.00 s\", \"method\": \"animate\"}, {\"args\": [[\"152\"], {\"frame\": {\"duration\": 100, \"redraw\": false}, \"fromcurrent\": true, \"mode\": \"immediate\", \"transition\": {\"duration\": 100}}], \"label\": \"15.10 s\", \"method\": \"animate\"}, {\"args\": [[\"153\"], {\"frame\": {\"duration\": 100, \"redraw\": false}, \"fromcurrent\": true, \"mode\": \"immediate\", \"transition\": {\"duration\": 100}}], \"label\": \"15.20 s\", \"method\": \"animate\"}, {\"args\": [[\"154\"], {\"frame\": {\"duration\": 100, \"redraw\": false}, \"fromcurrent\": true, \"mode\": \"immediate\", \"transition\": {\"duration\": 100}}], \"label\": \"15.30 s\", \"method\": \"animate\"}, {\"args\": [[\"155\"], {\"frame\": {\"duration\": 100, \"redraw\": false}, \"fromcurrent\": true, \"mode\": \"immediate\", \"transition\": {\"duration\": 100}}], \"label\": \"15.40 s\", \"method\": \"animate\"}, {\"args\": [[\"156\"], {\"frame\": {\"duration\": 100, \"redraw\": false}, \"fromcurrent\": true, \"mode\": \"immediate\", \"transition\": {\"duration\": 100}}], \"label\": \"15.50 s\", \"method\": \"animate\"}, {\"args\": [[\"157\"], {\"frame\": {\"duration\": 100, \"redraw\": false}, \"fromcurrent\": true, \"mode\": \"immediate\", \"transition\": {\"duration\": 100}}], \"label\": \"15.60 s\", \"method\": \"animate\"}, {\"args\": [[\"158\"], {\"frame\": {\"duration\": 100, \"redraw\": false}, \"fromcurrent\": true, \"mode\": \"immediate\", \"transition\": {\"duration\": 100}}], \"label\": \"15.70 s\", \"method\": \"animate\"}, {\"args\": [[\"159\"], {\"frame\": {\"duration\": 100, \"redraw\": false}, \"fromcurrent\": true, \"mode\": \"immediate\", \"transition\": {\"duration\": 100}}], \"label\": \"15.80 s\", \"method\": \"animate\"}, {\"args\": [[\"160\"], {\"frame\": {\"duration\": 100, \"redraw\": false}, \"fromcurrent\": true, \"mode\": \"immediate\", \"transition\": {\"duration\": 100}}], \"label\": \"15.90 s\", \"method\": \"animate\"}, {\"args\": [[\"161\"], {\"frame\": {\"duration\": 100, \"redraw\": false}, \"fromcurrent\": true, \"mode\": \"immediate\", \"transition\": {\"duration\": 100}}], \"label\": \"16.00 s\", \"method\": \"animate\"}, {\"args\": [[\"162\"], {\"frame\": {\"duration\": 100, \"redraw\": false}, \"fromcurrent\": true, \"mode\": \"immediate\", \"transition\": {\"duration\": 100}}], \"label\": \"16.10 s\", \"method\": \"animate\"}, {\"args\": [[\"163\"], {\"frame\": {\"duration\": 100, \"redraw\": false}, \"fromcurrent\": true, \"mode\": \"immediate\", \"transition\": {\"duration\": 100}}], \"label\": \"16.20 s\", \"method\": \"animate\"}, {\"args\": [[\"164\"], {\"frame\": {\"duration\": 100, \"redraw\": false}, \"fromcurrent\": true, \"mode\": \"immediate\", \"transition\": {\"duration\": 100}}], \"label\": \"16.30 s\", \"method\": \"animate\"}, {\"args\": [[\"165\"], {\"frame\": {\"duration\": 100, \"redraw\": false}, \"fromcurrent\": true, \"mode\": \"immediate\", \"transition\": {\"duration\": 100}}], \"label\": \"16.40 s\", \"method\": \"animate\"}, {\"args\": [[\"166\"], {\"frame\": {\"duration\": 100, \"redraw\": false}, \"fromcurrent\": true, \"mode\": \"immediate\", \"transition\": {\"duration\": 100}}], \"label\": \"16.50 s\", \"method\": \"animate\"}, {\"args\": [[\"167\"], {\"frame\": {\"duration\": 100, \"redraw\": false}, \"fromcurrent\": true, \"mode\": \"immediate\", \"transition\": {\"duration\": 100}}], \"label\": \"16.60 s\", \"method\": \"animate\"}, {\"args\": [[\"168\"], {\"frame\": {\"duration\": 100, \"redraw\": false}, \"fromcurrent\": true, \"mode\": \"immediate\", \"transition\": {\"duration\": 100}}], \"label\": \"16.70 s\", \"method\": \"animate\"}, {\"args\": [[\"169\"], {\"frame\": {\"duration\": 100, \"redraw\": false}, \"fromcurrent\": true, \"mode\": \"immediate\", \"transition\": {\"duration\": 100}}], \"label\": \"16.80 s\", \"method\": \"animate\"}], \"x\": 0.01, \"xanchor\": \"left\", \"y\": 0, \"yanchor\": \"top\"}], \"template\": {\"data\": {\"bar\": [{\"error_x\": {\"color\": \"#2a3f5f\"}, \"error_y\": {\"color\": \"#2a3f5f\"}, \"marker\": {\"line\": {\"color\": \"#E5ECF6\", \"width\": 0.5}}, \"type\": \"bar\"}], \"barpolar\": [{\"marker\": {\"line\": {\"color\": \"#E5ECF6\", \"width\": 0.5}}, \"type\": \"barpolar\"}], \"carpet\": [{\"aaxis\": {\"endlinecolor\": \"#2a3f5f\", \"gridcolor\": \"white\", \"linecolor\": \"white\", \"minorgridcolor\": \"white\", \"startlinecolor\": \"#2a3f5f\"}, \"baxis\": {\"endlinecolor\": \"#2a3f5f\", \"gridcolor\": \"white\", \"linecolor\": \"white\", \"minorgridcolor\": \"white\", \"startlinecolor\": \"#2a3f5f\"}, \"type\": \"carpet\"}], \"choropleth\": [{\"colorbar\": {\"outlinewidth\": 0, \"ticks\": \"\"}, \"type\": \"choropleth\"}], \"contour\": [{\"colorbar\": {\"outlinewidth\": 0, \"ticks\": \"\"}, \"colorscale\": [[0.0, \"#0d0887\"], [0.1111111111111111, \"#46039f\"], [0.2222222222222222, \"#7201a8\"], [0.3333333333333333, \"#9c179e\"], [0.4444444444444444, \"#bd3786\"], [0.5555555555555556, \"#d8576b\"], [0.6666666666666666, \"#ed7953\"], [0.7777777777777778, \"#fb9f3a\"], [0.8888888888888888, \"#fdca26\"], [1.0, \"#f0f921\"]], \"type\": \"contour\"}], \"contourcarpet\": [{\"colorbar\": {\"outlinewidth\": 0, \"ticks\": \"\"}, \"type\": \"contourcarpet\"}], \"heatmap\": [{\"colorbar\": {\"outlinewidth\": 0, \"ticks\": \"\"}, \"colorscale\": [[0.0, \"#0d0887\"], [0.1111111111111111, \"#46039f\"], [0.2222222222222222, \"#7201a8\"], [0.3333333333333333, \"#9c179e\"], [0.4444444444444444, \"#bd3786\"], [0.5555555555555556, \"#d8576b\"], [0.6666666666666666, \"#ed7953\"], [0.7777777777777778, \"#fb9f3a\"], [0.8888888888888888, \"#fdca26\"], [1.0, \"#f0f921\"]], \"type\": \"heatmap\"}], \"heatmapgl\": [{\"colorbar\": {\"outlinewidth\": 0, \"ticks\": \"\"}, \"colorscale\": [[0.0, \"#0d0887\"], [0.1111111111111111, \"#46039f\"], [0.2222222222222222, \"#7201a8\"], [0.3333333333333333, \"#9c179e\"], [0.4444444444444444, \"#bd3786\"], [0.5555555555555556, \"#d8576b\"], [0.6666666666666666, \"#ed7953\"], [0.7777777777777778, \"#fb9f3a\"], [0.8888888888888888, \"#fdca26\"], [1.0, \"#f0f921\"]], \"type\": \"heatmapgl\"}], \"histogram\": [{\"marker\": {\"colorbar\": {\"outlinewidth\": 0, \"ticks\": \"\"}}, \"type\": \"histogram\"}], \"histogram2d\": [{\"colorbar\": {\"outlinewidth\": 0, \"ticks\": \"\"}, \"colorscale\": [[0.0, \"#0d0887\"], [0.1111111111111111, \"#46039f\"], [0.2222222222222222, \"#7201a8\"], [0.3333333333333333, \"#9c179e\"], [0.4444444444444444, \"#bd3786\"], [0.5555555555555556, \"#d8576b\"], [0.6666666666666666, \"#ed7953\"], [0.7777777777777778, \"#fb9f3a\"], [0.8888888888888888, \"#fdca26\"], [1.0, \"#f0f921\"]], \"type\": \"histogram2d\"}], \"histogram2dcontour\": [{\"colorbar\": {\"outlinewidth\": 0, \"ticks\": \"\"}, \"colorscale\": [[0.0, \"#0d0887\"], [0.1111111111111111, \"#46039f\"], [0.2222222222222222, \"#7201a8\"], [0.3333333333333333, \"#9c179e\"], [0.4444444444444444, \"#bd3786\"], [0.5555555555555556, \"#d8576b\"], [0.6666666666666666, \"#ed7953\"], [0.7777777777777778, \"#fb9f3a\"], [0.8888888888888888, \"#fdca26\"], [1.0, \"#f0f921\"]], \"type\": \"histogram2dcontour\"}], \"mesh3d\": [{\"colorbar\": {\"outlinewidth\": 0, \"ticks\": \"\"}, \"type\": \"mesh3d\"}], \"parcoords\": [{\"line\": {\"colorbar\": {\"outlinewidth\": 0, \"ticks\": \"\"}}, \"type\": \"parcoords\"}], \"pie\": [{\"automargin\": true, \"type\": \"pie\"}], \"scatter\": [{\"marker\": {\"colorbar\": {\"outlinewidth\": 0, \"ticks\": \"\"}}, \"type\": \"scatter\"}], \"scatter3d\": [{\"line\": {\"colorbar\": {\"outlinewidth\": 0, \"ticks\": \"\"}}, \"marker\": {\"colorbar\": {\"outlinewidth\": 0, \"ticks\": \"\"}}, \"type\": \"scatter3d\"}], \"scattercarpet\": [{\"marker\": {\"colorbar\": {\"outlinewidth\": 0, \"ticks\": \"\"}}, \"type\": \"scattercarpet\"}], \"scattergeo\": [{\"marker\": {\"colorbar\": {\"outlinewidth\": 0, \"ticks\": \"\"}}, \"type\": \"scattergeo\"}], \"scattergl\": [{\"marker\": {\"colorbar\": {\"outlinewidth\": 0, \"ticks\": \"\"}}, \"type\": \"scattergl\"}], \"scattermapbox\": [{\"marker\": {\"colorbar\": {\"outlinewidth\": 0, \"ticks\": \"\"}}, \"type\": \"scattermapbox\"}], \"scatterpolar\": [{\"marker\": {\"colorbar\": {\"outlinewidth\": 0, \"ticks\": \"\"}}, \"type\": \"scatterpolar\"}], \"scatterpolargl\": [{\"marker\": {\"colorbar\": {\"outlinewidth\": 0, \"ticks\": \"\"}}, \"type\": \"scatterpolargl\"}], \"scatterternary\": [{\"marker\": {\"colorbar\": {\"outlinewidth\": 0, \"ticks\": \"\"}}, \"type\": \"scatterternary\"}], \"surface\": [{\"colorbar\": {\"outlinewidth\": 0, \"ticks\": \"\"}, \"colorscale\": [[0.0, \"#0d0887\"], [0.1111111111111111, \"#46039f\"], [0.2222222222222222, \"#7201a8\"], [0.3333333333333333, \"#9c179e\"], [0.4444444444444444, \"#bd3786\"], [0.5555555555555556, \"#d8576b\"], [0.6666666666666666, \"#ed7953\"], [0.7777777777777778, \"#fb9f3a\"], [0.8888888888888888, \"#fdca26\"], [1.0, \"#f0f921\"]], \"type\": \"surface\"}], \"table\": [{\"cells\": {\"fill\": {\"color\": \"#EBF0F8\"}, \"line\": {\"color\": \"white\"}}, \"header\": {\"fill\": {\"color\": \"#C8D4E3\"}, \"line\": {\"color\": \"white\"}}, \"type\": \"table\"}]}, \"layout\": {\"annotationdefaults\": {\"arrowcolor\": \"#2a3f5f\", \"arrowhead\": 0, \"arrowwidth\": 1}, \"autotypenumbers\": \"strict\", \"coloraxis\": {\"colorbar\": {\"outlinewidth\": 0, \"ticks\": \"\"}}, \"colorscale\": {\"diverging\": [[0, \"#8e0152\"], [0.1, \"#c51b7d\"], [0.2, \"#de77ae\"], [0.3, \"#f1b6da\"], [0.4, \"#fde0ef\"], [0.5, \"#f7f7f7\"], [0.6, \"#e6f5d0\"], [0.7, \"#b8e186\"], [0.8, \"#7fbc41\"], [0.9, \"#4d9221\"], [1, \"#276419\"]], \"sequential\": [[0.0, \"#0d0887\"], [0.1111111111111111, \"#46039f\"], [0.2222222222222222, \"#7201a8\"], [0.3333333333333333, \"#9c179e\"], [0.4444444444444444, \"#bd3786\"], [0.5555555555555556, \"#d8576b\"], [0.6666666666666666, \"#ed7953\"], [0.7777777777777778, \"#fb9f3a\"], [0.8888888888888888, \"#fdca26\"], [1.0, \"#f0f921\"]], \"sequentialminus\": [[0.0, \"#0d0887\"], [0.1111111111111111, \"#46039f\"], [0.2222222222222222, \"#7201a8\"], [0.3333333333333333, \"#9c179e\"], [0.4444444444444444, \"#bd3786\"], [0.5555555555555556, \"#d8576b\"], [0.6666666666666666, \"#ed7953\"], [0.7777777777777778, \"#fb9f3a\"], [0.8888888888888888, \"#fdca26\"], [1.0, \"#f0f921\"]]}, \"colorway\": [\"#636efa\", \"#EF553B\", \"#00cc96\", \"#ab63fa\", \"#FFA15A\", \"#19d3f3\", \"#FF6692\", \"#B6E880\", \"#FF97FF\", \"#FECB52\"], \"font\": {\"color\": \"#2a3f5f\"}, \"geo\": {\"bgcolor\": \"white\", \"lakecolor\": \"white\", \"landcolor\": \"#E5ECF6\", \"showlakes\": true, \"showland\": true, \"subunitcolor\": \"white\"}, \"hoverlabel\": {\"align\": \"left\"}, \"hovermode\": \"closest\", \"mapbox\": {\"style\": \"light\"}, \"paper_bgcolor\": \"white\", \"plot_bgcolor\": \"#E5ECF6\", \"polar\": {\"angularaxis\": {\"gridcolor\": \"white\", \"linecolor\": \"white\", \"ticks\": \"\"}, \"bgcolor\": \"#E5ECF6\", \"radialaxis\": {\"gridcolor\": \"white\", \"linecolor\": \"white\", \"ticks\": \"\"}}, \"scene\": {\"xaxis\": {\"backgroundcolor\": \"#E5ECF6\", \"gridcolor\": \"white\", \"gridwidth\": 2, \"linecolor\": \"white\", \"showbackground\": true, \"ticks\": \"\", \"zerolinecolor\": \"white\"}, \"yaxis\": {\"backgroundcolor\": \"#E5ECF6\", \"gridcolor\": \"white\", \"gridwidth\": 2, \"linecolor\": \"white\", \"showbackground\": true, \"ticks\": \"\", \"zerolinecolor\": \"white\"}, \"zaxis\": {\"backgroundcolor\": \"#E5ECF6\", \"gridcolor\": \"white\", \"gridwidth\": 2, \"linecolor\": \"white\", \"showbackground\": true, \"ticks\": \"\", \"zerolinecolor\": \"white\"}}, \"shapedefaults\": {\"line\": {\"color\": \"#2a3f5f\"}}, \"ternary\": {\"aaxis\": {\"gridcolor\": \"white\", \"linecolor\": \"white\", \"ticks\": \"\"}, \"baxis\": {\"gridcolor\": \"white\", \"linecolor\": \"white\", \"ticks\": \"\"}, \"bgcolor\": \"#E5ECF6\", \"caxis\": {\"gridcolor\": \"white\", \"linecolor\": \"white\", \"ticks\": \"\"}}, \"title\": {\"x\": 0.05}, \"xaxis\": {\"automargin\": true, \"gridcolor\": \"white\", \"linecolor\": \"white\", \"ticks\": \"\", \"title\": {\"standoff\": 15}, \"zerolinecolor\": \"white\", \"zerolinewidth\": 2}, \"yaxis\": {\"automargin\": true, \"gridcolor\": \"white\", \"linecolor\": \"white\", \"ticks\": \"\", \"title\": {\"standoff\": 15}, \"zerolinecolor\": \"white\", \"zerolinewidth\": 2}}}, \"updatemenus\": [{\"buttons\": [{\"args\": [null, {\"frame\": {\"duration\": 100, \"redraw\": false}, \"fromcurrent\": true, \"mode\": \"immediate\"}], \"label\": \"&#9654;\", \"method\": \"animate\"}, {\"args\": [[null], {\"frame\": {\"duration\": 0, \"redraw\": false}, \"mode\": \"immediate\", \"transition\": {\"duration\": 0}}], \"label\": \"&#9724;\", \"method\": \"animate\"}], \"direction\": \"left\", \"pad\": {\"b\": 10, \"t\": 30}, \"type\": \"buttons\", \"x\": 0, \"xanchor\": \"left\", \"y\": 1.25, \"yanchor\": \"top\"}, {\"active\": 0, \"buttons\": [{\"args\": [[1], {\"frame\": {\"duration\": 10, \"redraw\": false}, \"fromcurrent\": \"true\", \"mode\": \"immediate\", \"transition\": {\"duration\": 10}}], \"label\": \"Reset\", \"method\": \"animate\"}, {\"args\": [[11], {\"frame\": {\"duration\": 10, \"redraw\": false}, \"fromcurrent\": \"true\", \"mode\": \"immediate\", \"transition\": {\"duration\": 10}}], \"label\": \"ball_snap\", \"method\": \"animate\"}, {\"args\": [[58], {\"frame\": {\"duration\": 10, \"redraw\": false}, \"fromcurrent\": \"true\", \"mode\": \"immediate\", \"transition\": {\"duration\": 10}}], \"label\": \"pass_forward\", \"method\": \"animate\"}, {\"args\": [[65], {\"frame\": {\"duration\": 10, \"redraw\": false}, \"fromcurrent\": \"true\", \"mode\": \"immediate\", \"transition\": {\"duration\": 10}}], \"label\": \"pass_arrived\", \"method\": \"animate\"}, {\"args\": [[77], {\"frame\": {\"duration\": 10, \"redraw\": false}, \"fromcurrent\": \"true\", \"mode\": \"immediate\", \"transition\": {\"duration\": 10}}], \"label\": \"pass_outcome_caught\", \"method\": \"animate\"}, {\"args\": [[168], {\"frame\": {\"duration\": 10, \"redraw\": false}, \"fromcurrent\": \"true\", \"mode\": \"immediate\", \"transition\": {\"duration\": 10}}], \"label\": \"touchdown\", \"method\": \"animate\"}], \"direction\": \"down\", \"pad\": {\"b\": 10, \"t\": 30}, \"x\": 1, \"xanchor\": \"right\", \"y\": 1.25, \"yanchor\": \"top\"}], \"xaxis\": {\"range\": [-3, 123], \"showgrid\": false, \"showticklabels\": false, \"zeroline\": false}, \"yaxis\": {\"range\": [-5, 58.3], \"showgrid\": false, \"showticklabels\": false, \"zeroline\": false}},                        {\"responsive\": true}                    ).then(function(){\n",
       "                            Plotly.addFrames('4bf0b580-939d-45ff-96a6-baaeb1fc0391', [{\"data\": [{\"x\": [33.82, 35.71, 32.78, 29.66, 36.88, 37.31, 33.44, 35.87, 43.53, 30.04, 38.49, 35.62, 32.77, 46.76, 34.69], \"y\": [23.05, 44.29, 19.21, 29.79, 32.58, 23.49, 44.85, 10.03, 35.92, 32.53, 18.54, 27.2, 10.37, 21.15, 29.77], \"type\": \"scatter\"}], \"name\": \"1\"}, {\"data\": [{\"x\": [33.81, 35.68, 32.78, 29.66, 36.7, 37.31, 33.45, 35.89, 43.51, 30.04, 38.53, 35.62, 32.77, 46.74, 34.69], \"y\": [23.05, 44.29, 19.21, 29.78, 32.57, 23.47, 44.85, 10.03, 35.95, 32.53, 18.51, 27.2, 10.37, 21.11, 29.77], \"type\": \"scatter\"}], \"name\": \"2\"}, {\"data\": [{\"x\": [33.81, 35.64, 32.78, 29.67, 36.54, 37.3, 33.45, 35.9, 43.5, 30.04, 38.55, 35.62, 32.77, 46.71, 34.69], \"y\": [23.04, 44.24, 19.21, 29.78, 32.56, 23.47, 44.86, 10.03, 35.99, 32.53, 18.48, 27.2, 10.36, 21.07, 29.77], \"type\": \"scatter\"}], \"name\": \"3\"}, {\"data\": [{\"x\": [33.81, 35.61, 32.77, 29.68, 36.39, 37.29, 33.45, 35.9, 43.48, 30.04, 38.56, 35.62, 32.77, 46.69, 34.69], \"y\": [23.03, 44.23, 19.21, 29.78, 32.56, 23.48, 44.86, 10.03, 36.0, 32.53, 18.47, 27.2, 10.36, 21.04, 29.77], \"type\": \"scatter\"}], \"name\": \"4\"}, {\"data\": [{\"x\": [33.81, 35.58, 32.77, 29.68, 36.26, 37.29, 33.45, 35.92, 43.47, 30.04, 38.57, 35.62, 32.77, 46.66, 34.69], \"y\": [23.03, 44.21, 19.21, 29.78, 32.57, 23.48, 44.86, 10.02, 36.0, 32.53, 18.46, 27.19, 10.36, 21.0, 29.77], \"type\": \"scatter\"}], \"name\": \"5\"}, {\"data\": [{\"x\": [33.81, 35.57, 32.77, 29.69, 36.15, 37.29, 33.45, 35.94, 43.47, 30.03, 38.57, 35.62, 32.77, 46.64, 34.69], \"y\": [23.03, 44.21, 19.2, 29.78, 32.58, 23.48, 44.87, 10.01, 36.01, 32.53, 18.45, 27.19, 10.35, 20.99, 29.77], \"type\": \"scatter\"}], \"name\": \"6\"}, {\"data\": [{\"x\": [33.81, 35.55, 32.77, 29.69, 36.03, 37.29, 33.45, 35.96, 43.48, 30.03, 38.57, 35.61, 32.77, 46.62, 34.69], \"y\": [23.03, 44.22, 19.2, 29.78, 32.59, 23.49, 44.87, 10.01, 36.01, 32.53, 18.45, 27.19, 10.35, 20.98, 29.77], \"type\": \"scatter\"}], \"name\": \"7\"}, {\"data\": [{\"x\": [33.81, 35.54, 32.77, 29.69, 35.91, 37.29, 33.45, 35.98, 43.49, 30.03, 38.56, 35.62, 32.77, 46.6, 34.69], \"y\": [23.05, 44.23, 19.2, 29.78, 32.57, 23.49, 44.86, 10.02, 36.02, 32.53, 18.43, 27.18, 10.35, 20.98, 29.77], \"type\": \"scatter\"}], \"name\": \"8\"}, {\"data\": [{\"x\": [33.81, 35.54, 32.78, 29.69, 35.81, 37.28, 33.46, 36.0, 43.5, 30.03, 38.55, 35.61, 32.77, 46.58, 34.69], \"y\": [23.05, 44.23, 19.2, 29.78, 32.56, 23.49, 44.87, 9.99, 36.03, 32.53, 18.41, 27.18, 10.35, 20.99, 29.77], \"type\": \"scatter\"}], \"name\": \"9\"}, {\"data\": [{\"x\": [33.81, 35.54, 32.79, 29.7, 35.71, 37.29, 33.45, 36.03, 43.52, 30.03, 38.55, 35.6, 32.78, 46.56, 34.69], \"y\": [23.05, 44.24, 19.2, 29.78, 32.56, 23.49, 44.86, 9.95, 36.05, 32.53, 18.39, 27.17, 10.35, 21.01, 29.77], \"type\": \"scatter\"}], \"name\": \"10\"}, {\"data\": [{\"x\": [33.81, 35.53, 32.8, 29.69, 35.59, 37.29, 33.46, 36.06, 43.55, 30.03, 38.55, 35.6, 32.79, 46.54, 34.69], \"y\": [23.07, 44.24, 19.2, 29.78, 32.53, 23.5, 44.86, 9.92, 36.08, 32.53, 18.36, 27.18, 10.35, 21.02, 29.77], \"type\": \"scatter\"}], \"name\": \"11\"}, {\"data\": [{\"x\": [33.81, 35.52, 32.82, 29.69, 35.43, 37.29, 33.47, 36.09, 43.6, 30.03, 38.57, 35.59, 32.81, 46.53, 33.02], \"y\": [23.09, 44.22, 19.2, 29.77, 32.53, 23.51, 44.86, 9.86, 36.15, 32.52, 18.31, 27.19, 10.35, 21.05, 29.99], \"type\": \"scatter\"}], \"name\": \"12\"}, {\"data\": [{\"x\": [33.8, 35.51, 32.87, 29.68, 35.25, 37.29, 33.49, 36.12, 43.68, 30.04, 38.6, 35.56, 32.85, 46.52, 32.45], \"y\": [23.12, 44.21, 19.2, 29.77, 32.53, 23.53, 44.86, 9.83, 36.25, 32.52, 18.25, 27.21, 10.34, 21.07, 29.95], \"type\": \"scatter\"}], \"name\": \"13\"}, {\"data\": [{\"x\": [33.8, 35.51, 32.97, 29.65, 35.04, 37.28, 33.54, 36.16, 43.77, 30.04, 38.65, 35.52, 32.94, 46.52, 31.89], \"y\": [23.17, 44.21, 19.2, 29.77, 32.54, 23.57, 44.87, 9.78, 36.35, 32.48, 18.18, 27.26, 10.31, 21.1, 29.9], \"type\": \"scatter\"}], \"name\": \"14\"}, {\"data\": [{\"x\": [33.8, 35.54, 33.16, 29.6, 34.81, 37.28, 33.61, 36.26, 43.88, 30.04, 38.72, 35.43, 33.1, 46.54, 31.34], \"y\": [23.25, 44.21, 19.2, 29.76, 32.55, 23.63, 44.89, 9.71, 36.46, 32.41, 18.1, 27.33, 10.27, 21.13, 29.86], \"type\": \"scatter\"}], \"name\": \"15\"}, {\"data\": [{\"x\": [33.79, 35.59, 33.4, 29.48, 34.56, 37.27, 33.72, 36.39, 44.02, 30.05, 38.83, 35.32, 33.34, 46.56, 30.84], \"y\": [23.37, 44.22, 19.21, 29.77, 32.56, 23.72, 44.92, 9.62, 36.59, 32.32, 18.0, 27.44, 10.22, 21.16, 29.82], \"type\": \"scatter\"}], \"name\": \"16\"}, {\"data\": [{\"x\": [33.79, 35.66, 33.74, 29.33, 34.29, 37.26, 33.87, 36.56, 44.17, 30.06, 38.96, 35.15, 33.66, 46.6, 30.39], \"y\": [23.54, 44.23, 19.21, 29.78, 32.57, 23.84, 44.98, 9.52, 36.73, 32.2, 17.9, 27.58, 10.14, 21.21, 29.77], \"type\": \"scatter\"}], \"name\": \"17\"}, {\"data\": [{\"x\": [33.78, 35.78, 34.15, 29.17, 34.03, 37.25, 34.07, 36.78, 44.35, 30.06, 39.13, 34.95, 34.01, 46.65, 29.99], \"y\": [23.73, 44.26, 19.23, 29.79, 32.58, 23.99, 45.06, 9.41, 36.88, 32.04, 17.8, 27.74, 10.06, 21.25, 29.72], \"type\": \"scatter\"}], \"name\": \"18\"}, {\"data\": [{\"x\": [33.77, 35.92, 34.62, 28.98, 33.79, 37.22, 34.3, 37.05, 44.57, 30.04, 39.34, 34.73, 34.44, 46.72, 29.63], \"y\": [23.96, 44.29, 19.25, 29.81, 32.61, 24.17, 45.15, 9.29, 37.06, 31.85, 17.7, 27.92, 9.98, 21.31, 29.66], \"type\": \"scatter\"}], \"name\": \"19\"}, {\"data\": [{\"x\": [33.76, 36.08, 35.14, 28.76, 33.56, 37.2, 34.57, 37.37, 44.84, 30.01, 39.58, 34.48, 34.92, 46.82, 29.28], \"y\": [24.21, 44.35, 19.28, 29.83, 32.63, 24.35, 45.26, 9.18, 37.26, 31.64, 17.6, 28.1, 9.9, 21.4, 29.64], \"type\": \"scatter\"}], \"name\": \"20\"}, {\"data\": [{\"x\": [33.75, 36.27, 35.71, 28.52, 33.36, 37.16, 34.88, 37.73, 45.12, 29.97, 39.85, 34.21, 35.43, 46.92, 28.93], \"y\": [24.48, 44.41, 19.31, 29.85, 32.64, 24.52, 45.39, 9.07, 37.48, 31.4, 17.51, 28.29, 9.83, 21.49, 29.6], \"type\": \"scatter\"}], \"name\": \"21\"}, {\"data\": [{\"x\": [33.74, 36.49, 36.31, 28.27, 33.17, 37.1, 35.23, 38.12, 45.42, 29.9, 40.16, 33.95, 35.96, 47.04, 28.63], \"y\": [24.77, 44.51, 19.34, 29.88, 32.64, 24.69, 45.54, 8.97, 37.72, 31.14, 17.44, 28.46, 9.76, 21.6, 29.57], \"type\": \"scatter\"}], \"name\": \"22\"}, {\"data\": [{\"x\": [33.75, 36.75, 36.95, 28.0, 33.0, 37.04, 35.61, 38.55, 45.75, 29.83, 40.51, 33.69, 36.56, 47.17, 28.37], \"y\": [25.08, 44.63, 19.39, 29.9, 32.61, 24.86, 45.7, 8.88, 37.99, 30.88, 17.4, 28.63, 9.7, 21.7, 29.54], \"type\": \"scatter\"}], \"name\": \"23\"}, {\"data\": [{\"x\": [33.76, 37.03, 37.6, 27.71, 32.84, 36.98, 36.01, 39.02, 46.1, 29.76, 40.88, 33.44, 37.18, 47.3, 28.1], \"y\": [25.39, 44.77, 19.47, 29.93, 32.57, 25.02, 45.86, 8.82, 38.28, 30.59, 17.36, 28.77, 9.66, 21.81, 29.52], \"type\": \"scatter\"}], \"name\": \"24\"}, {\"data\": [{\"x\": [33.79, 37.34, 38.25, 27.42, 32.71, 36.91, 36.44, 39.51, 46.45, 29.68, 41.27, 33.2, 37.83, 47.43, 27.79], \"y\": [25.72, 44.93, 19.59, 29.96, 32.51, 25.19, 46.04, 8.78, 38.6, 30.29, 17.34, 28.88, 9.64, 21.94, 29.53], \"type\": \"scatter\"}], \"name\": \"25\"}, {\"data\": [{\"x\": [33.84, 37.65, 38.9, 27.11, 32.59, 36.84, 36.89, 40.02, 46.82, 29.62, 41.69, 32.99, 38.5, 47.54, 27.49], \"y\": [26.07, 45.11, 19.73, 29.99, 32.45, 25.36, 46.24, 8.77, 38.94, 29.98, 17.37, 28.95, 9.63, 22.08, 29.59], \"type\": \"scatter\"}], \"name\": \"26\"}, {\"data\": [{\"x\": [33.92, 37.99, 39.54, 26.83, 32.47, 36.77, 37.36, 40.53, 47.19, 29.57, 42.12, 32.82, 39.18, 47.64, 27.26], \"y\": [26.44, 45.31, 19.93, 30.02, 32.38, 25.53, 46.45, 8.78, 39.29, 29.66, 17.42, 28.97, 9.64, 22.24, 29.6], \"type\": \"scatter\"}], \"name\": \"27\"}, {\"data\": [{\"x\": [34.04, 38.33, 40.16, 26.55, 32.34, 36.73, 37.85, 41.08, 47.58, 29.54, 42.55, 32.68, 39.87, 47.73, 27.01], \"y\": [26.82, 45.5, 20.16, 30.04, 32.31, 25.73, 46.68, 8.85, 39.66, 29.31, 17.52, 28.94, 9.67, 22.42, 29.7], \"type\": \"scatter\"}], \"name\": \"28\"}, {\"data\": [{\"x\": [34.16, 38.7, 40.75, 26.32, 32.21, 36.69, 38.35, 41.65, 47.96, 29.54, 42.98, 32.59, 40.55, 47.78, 26.76], \"y\": [27.22, 45.72, 20.44, 30.05, 32.25, 25.94, 46.9, 8.96, 40.04, 28.95, 17.65, 28.85, 9.73, 22.66, 29.76], \"type\": \"scatter\"}], \"name\": \"29\"}, {\"data\": [{\"x\": [34.33, 39.08, 41.31, 26.12, 32.08, 36.67, 38.88, 42.22, 48.34, 29.57, 43.41, 32.52, 41.23, 47.81, 26.57], \"y\": [27.66, 45.94, 20.79, 30.05, 32.21, 26.17, 47.12, 9.09, 40.43, 28.56, 17.82, 28.72, 9.82, 22.91, 29.79], \"type\": \"scatter\"}], \"name\": \"30\"}, {\"data\": [{\"x\": [34.52, 39.48, 41.83, 25.95, 31.93, 36.66, 39.42, 42.8, 48.71, 29.65, 43.84, 32.48, 41.88, 47.81, 26.39], \"y\": [28.11, 46.16, 21.17, 30.05, 32.17, 26.43, 47.34, 9.26, 40.82, 28.16, 18.01, 28.53, 9.96, 23.19, 29.81], \"type\": \"scatter\"}], \"name\": \"31\"}, {\"data\": [{\"x\": [34.72, 39.89, 42.31, 25.82, 31.77, 36.69, 39.99, 43.37, 49.09, 29.78, 44.25, 32.48, 42.53, 47.77, 26.23], \"y\": [28.57, 46.38, 21.6, 30.05, 32.16, 26.74, 47.56, 9.46, 41.21, 27.71, 18.24, 28.29, 10.13, 23.5, 29.82], \"type\": \"scatter\"}], \"name\": \"32\"}, {\"data\": [{\"x\": [34.93, 40.33, 42.74, 25.75, 31.62, 36.72, 40.58, 43.92, 49.47, 29.93, 44.64, 32.5, 43.13, 47.66, 26.12], \"y\": [29.05, 46.58, 22.09, 30.04, 32.16, 27.08, 47.75, 9.7, 41.59, 27.25, 18.49, 28.0, 10.34, 23.88, 29.81], \"type\": \"scatter\"}], \"name\": \"33\"}, {\"data\": [{\"x\": [35.15, 40.8, 43.13, 25.7, 31.47, 36.77, 41.18, 44.45, 49.84, 30.13, 45.02, 32.54, 43.7, 47.54, 26.06], \"y\": [29.54, 46.77, 22.63, 30.03, 32.17, 27.47, 47.94, 9.97, 41.97, 26.77, 18.77, 27.66, 10.6, 24.27, 29.79], \"type\": \"scatter\"}], \"name\": \"34\"}, {\"data\": [{\"x\": [35.38, 41.27, 43.48, 25.71, 31.34, 36.85, 41.78, 44.96, 50.22, 30.34, 45.38, 32.6, 44.23, 47.38, 26.04], \"y\": [30.05, 46.95, 23.2, 30.02, 32.17, 27.94, 48.12, 10.28, 42.35, 26.26, 19.07, 27.26, 10.93, 24.68, 29.77], \"type\": \"scatter\"}], \"name\": \"35\"}, {\"data\": [{\"x\": [35.6, 41.78, 43.78, 25.75, 31.23, 36.95, 42.37, 45.44, 50.59, 30.56, 45.71, 32.68, 44.71, 47.19, 26.08], \"y\": [30.57, 47.12, 23.81, 30.01, 32.17, 28.46, 48.28, 10.62, 42.72, 25.73, 19.36, 26.82, 11.3, 25.12, 29.73], \"type\": \"scatter\"}], \"name\": \"36\"}, {\"data\": [{\"x\": [35.82, 42.29, 44.03, 25.82, 31.12, 37.05, 42.94, 45.87, 50.97, 30.81, 46.01, 32.77, 45.15, 46.96, 26.13], \"y\": [31.1, 47.28, 24.46, 30.01, 32.19, 29.02, 48.44, 11.02, 43.07, 25.16, 19.61, 26.35, 11.7, 25.61, 29.7], \"type\": \"scatter\"}], \"name\": \"37\"}, {\"data\": [{\"x\": [36.02, 42.8, 44.25, 25.92, 31.02, 37.16, 43.47, 46.25, 51.33, 31.05, 46.29, 32.87, 45.53, 46.72, 26.22], \"y\": [31.64, 47.41, 25.13, 30.02, 32.22, 29.61, 48.59, 11.45, 43.41, 24.56, 19.85, 25.83, 12.15, 26.1, 29.66], \"type\": \"scatter\"}], \"name\": \"38\"}, {\"data\": [{\"x\": [36.21, 43.3, 44.42, 26.06, 30.94, 37.26, 43.97, 46.58, 51.7, 31.3, 46.55, 32.98, 45.86, 46.47, 26.37], \"y\": [32.19, 47.55, 25.82, 30.05, 32.24, 30.24, 48.74, 11.93, 43.73, 23.96, 20.06, 25.27, 12.65, 26.62, 29.7], \"type\": \"scatter\"}], \"name\": \"39\"}, {\"data\": [{\"x\": [36.39, 43.79, 44.53, 26.22, 30.9, 37.37, 44.4, 46.85, 52.08, 31.54, 46.8, 33.09, 46.13, 46.21, 26.55], \"y\": [32.76, 47.69, 26.51, 30.11, 32.25, 30.89, 48.9, 12.44, 44.04, 23.33, 20.16, 24.69, 13.17, 27.17, 29.78], \"type\": \"scatter\"}], \"name\": \"40\"}, {\"data\": [{\"x\": [36.55, 44.22, 44.61, 26.39, 30.89, 37.47, 44.78, 47.07, 52.44, 31.79, 47.03, 33.21, 46.35, 45.95, 26.73], \"y\": [33.34, 47.85, 27.2, 30.18, 32.26, 31.57, 49.05, 12.99, 44.32, 22.68, 20.27, 24.08, 13.73, 27.73, 29.84], \"type\": \"scatter\"}], \"name\": \"41\"}, {\"data\": [{\"x\": [36.7, 44.61, 44.63, 26.57, 30.9, 37.56, 45.11, 47.23, 52.79, 32.02, 47.26, 33.34, 46.52, 45.71, 26.97], \"y\": [33.94, 48.03, 27.87, 30.25, 32.27, 32.28, 49.21, 13.56, 44.57, 21.99, 20.35, 23.46, 14.31, 28.32, 29.9], \"type\": \"scatter\"}], \"name\": \"42\"}, {\"data\": [{\"x\": [36.84, 44.99, 44.6, 26.75, 30.93, 37.64, 45.39, 47.33, 53.11, 32.26, 47.49, 33.47, 46.64, 45.47, 27.24], \"y\": [34.55, 48.2, 28.52, 30.36, 32.27, 33.01, 49.37, 14.16, 44.81, 21.31, 20.41, 22.82, 14.92, 28.92, 30.02], \"type\": \"scatter\"}], \"name\": \"43\"}, {\"data\": [{\"x\": [36.95, 45.27, 44.54, 26.94, 30.96, 37.71, 45.64, 47.37, 53.43, 32.52, 47.71, 33.61, 46.68, 45.26, 27.46], \"y\": [35.17, 48.42, 29.15, 30.5, 32.3, 33.74, 49.54, 14.78, 45.02, 20.61, 20.43, 22.18, 15.56, 29.53, 30.14], \"type\": \"scatter\"}], \"name\": \"44\"}, {\"data\": [{\"x\": [37.05, 45.53, 44.43, 27.13, 31.0, 37.78, 45.86, 47.34, 53.7, 32.79, 47.92, 33.75, 46.7, 45.07, 27.67], \"y\": [35.8, 48.65, 29.73, 30.64, 32.33, 34.48, 49.71, 15.41, 45.25, 19.9, 20.45, 21.54, 16.2, 30.15, 30.26], \"type\": \"scatter\"}], \"name\": \"45\"}, {\"data\": [{\"x\": [37.13, 45.73, 44.29, 27.31, 31.04, 37.84, 46.05, 47.27, 53.94, 33.09, 48.14, 33.9, 46.68, 44.9, 27.86], \"y\": [36.43, 48.89, 30.27, 30.82, 32.41, 35.23, 49.88, 16.06, 45.45, 19.2, 20.45, 20.9, 16.87, 30.77, 30.41], \"type\": \"scatter\"}], \"name\": \"46\"}, {\"data\": [{\"x\": [37.2, 45.89, 44.13, 27.49, 31.11, 37.89, 46.24, 47.16, 54.16, 33.42, 48.37, 34.06, 46.63, 44.74, 28.05], \"y\": [37.09, 49.14, 30.77, 31.02, 32.47, 36.01, 50.04, 16.72, 45.63, 18.49, 20.46, 20.26, 17.55, 31.37, 30.54], \"type\": \"scatter\"}], \"name\": \"47\"}, {\"data\": [{\"x\": [37.25, 46.03, 43.96, 27.65, 31.2, 37.93, 46.42, 47.01, 54.32, 33.76, 48.59, 34.23, 46.56, 44.6, 28.19], \"y\": [37.75, 49.38, 31.21, 31.24, 32.55, 36.77, 50.18, 17.38, 45.81, 17.78, 20.52, 19.62, 18.23, 31.95, 30.72], \"type\": \"scatter\"}], \"name\": \"48\"}, {\"data\": [{\"x\": [37.29, 46.17, 43.81, 27.8, 31.3, 37.97, 46.63, 46.85, 54.42, 34.15, 48.82, 34.45, 46.48, 44.47, 28.29], \"y\": [38.42, 49.63, 31.59, 31.48, 32.65, 37.55, 50.28, 18.05, 46.0, 17.08, 20.6, 18.98, 18.91, 32.51, 30.93], \"type\": \"scatter\"}], \"name\": \"49\"}, {\"data\": [{\"x\": [37.32, 46.3, 43.66, 27.93, 31.41, 37.99, 46.84, 46.69, 54.51, 34.58, 49.03, 34.67, 46.4, 44.35, 28.36], \"y\": [39.1, 49.88, 31.93, 31.73, 32.76, 38.33, 50.36, 18.72, 46.21, 16.41, 20.73, 18.35, 19.6, 33.02, 31.16], \"type\": \"scatter\"}], \"name\": \"50\"}, {\"data\": [{\"x\": [37.34, 46.44, 43.55, 28.04, 31.54, 38.01, 47.06, 46.53, 54.56, 35.08, 49.23, 35.02, 46.32, 44.23, 28.39], \"y\": [39.79, 50.09, 32.21, 31.98, 32.89, 39.1, 50.41, 19.39, 46.4, 15.76, 20.92, 17.73, 20.3, 33.49, 31.42], \"type\": \"scatter\"}], \"name\": \"51\"}, {\"data\": [{\"x\": [37.34, 46.59, 43.47, 28.16, 31.67, 38.01, 47.29, 46.38, 54.57, 35.62, 49.41, 35.35, 46.26, 44.13, 28.4], \"y\": [40.47, 50.29, 32.45, 32.24, 33.04, 39.87, 50.4, 20.07, 46.59, 15.13, 21.19, 17.13, 21.0, 33.88, 31.69], \"type\": \"scatter\"}], \"name\": \"52\"}, {\"data\": [{\"x\": [37.36, 46.76, 43.42, 28.25, 31.79, 38.01, 47.54, 46.25, 54.58, 36.22, 49.58, 35.69, 46.21, 44.02, 28.38], \"y\": [41.16, 50.45, 32.64, 32.5, 33.21, 40.62, 50.33, 20.74, 46.79, 14.53, 21.51, 16.55, 21.71, 34.24, 31.98], \"type\": \"scatter\"}], \"name\": \"53\"}, {\"data\": [{\"x\": [37.39, 46.93, 43.42, 28.33, 31.92, 38.01, 47.8, 46.16, 54.58, 36.83, 49.72, 36.06, 46.18, 43.91, 28.35], \"y\": [41.86, 50.58, 32.79, 32.77, 33.39, 41.37, 50.22, 21.42, 46.98, 13.97, 21.88, 15.99, 22.41, 34.51, 32.27], \"type\": \"scatter\"}], \"name\": \"54\"}, {\"data\": [{\"x\": [37.42, 47.13, 43.45, 28.4, 32.03, 38.0, 48.06, 46.09, 54.58, 37.48, 49.83, 36.47, 46.19, 43.81, 28.3], \"y\": [42.55, 50.66, 32.89, 33.04, 33.58, 42.1, 50.04, 22.1, 47.15, 13.43, 22.31, 15.46, 23.13, 34.63, 32.57], \"type\": \"scatter\"}], \"name\": \"55\"}, {\"data\": [{\"x\": [37.46, 47.33, 43.54, 28.46, 32.13, 38.01, 48.32, 46.07, 54.57, 38.17, 49.96, 36.91, 46.23, 43.72, 28.24], \"y\": [43.23, 50.7, 32.93, 33.32, 33.79, 42.78, 49.82, 22.79, 47.31, 12.92, 22.79, 14.96, 23.86, 34.74, 32.86], \"type\": \"scatter\"}], \"name\": \"56\"}, {\"data\": [{\"x\": [37.52, 47.56, 43.66, 28.51, 32.19, 38.03, 48.59, 46.08, 54.58, 38.89, 50.06, 37.38, 46.3, 43.63, 28.17], \"y\": [43.9, 50.68, 32.93, 33.59, 34.0, 43.44, 49.52, 23.48, 47.41, 12.45, 23.31, 14.49, 24.58, 34.76, 33.16], \"type\": \"scatter\"}], \"name\": \"57\"}, {\"data\": [{\"x\": [37.58, 47.79, 43.82, 28.55, 32.24, 38.06, 48.85, 46.13, 54.61, 39.63, 50.14, 37.89, 46.4, 43.57, 28.22], \"y\": [44.56, 50.6, 32.9, 33.87, 34.24, 44.07, 49.19, 24.18, 47.44, 12.02, 23.87, 14.05, 25.32, 34.7, 33.27], \"type\": \"scatter\"}], \"name\": \"58\"}, {\"data\": [{\"x\": [37.68, 48.02, 43.99, 28.58, 32.28, 38.11, 49.09, 46.2, 54.61, 40.39, 50.21, 38.44, 46.53, 43.52, 32.31], \"y\": [45.2, 50.49, 32.83, 34.17, 34.47, 44.65, 48.81, 24.88, 47.41, 11.6, 24.48, 13.63, 26.05, 34.54, 32.57], \"type\": \"scatter\"}], \"name\": \"59\"}, {\"data\": [{\"x\": [37.82, 48.23, 44.19, 28.6, 32.31, 38.17, 49.32, 46.31, 54.64, 41.16, 50.25, 39.02, 46.68, 43.48, 34.73], \"y\": [45.84, 50.3, 32.71, 34.46, 34.68, 45.2, 48.38, 25.59, 47.34, 11.22, 25.12, 13.23, 26.78, 34.33, 32.34], \"type\": \"scatter\"}], \"name\": \"60\"}, {\"data\": [{\"x\": [37.98, 48.45, 44.4, 28.62, 32.32, 38.26, 49.53, 46.44, 54.7, 41.94, 50.28, 39.64, 46.86, 43.45, 37.1], \"y\": [46.45, 50.08, 32.57, 34.74, 34.89, 45.71, 47.92, 26.3, 47.22, 10.85, 25.79, 12.85, 27.51, 34.03, 32.11], \"type\": \"scatter\"}], \"name\": \"61\"}, {\"data\": [{\"x\": [38.18, 48.65, 44.62, 28.63, 32.34, 38.35, 49.72, 46.6, 54.76, 42.72, 50.33, 40.28, 47.06, 43.43, 39.43], \"y\": [47.04, 49.81, 32.41, 35.03, 35.1, 46.18, 47.44, 27.02, 47.07, 10.5, 26.5, 12.49, 28.22, 33.66, 31.89], \"type\": \"scatter\"}], \"name\": \"62\"}, {\"data\": [{\"x\": [38.4, 48.82, 44.82, 28.65, 32.35, 38.48, 49.88, 46.78, 54.81, 43.51, 50.37, 40.95, 47.28, 43.41, 41.69], \"y\": [47.61, 49.5, 32.21, 35.31, 35.29, 46.61, 46.95, 27.74, 46.87, 10.18, 27.24, 12.16, 28.95, 33.25, 31.67], \"type\": \"scatter\"}], \"name\": \"63\"}, {\"data\": [{\"x\": [38.66, 48.96, 45.04, 28.69, 32.35, 38.63, 50.01, 46.96, 54.87, 44.29, 50.41, 41.65, 47.52, 43.38, 43.89], \"y\": [48.13, 49.17, 32.0, 35.58, 35.47, 47.01, 46.44, 28.47, 46.63, 9.88, 27.99, 11.84, 29.66, 32.79, 31.46], \"type\": \"scatter\"}], \"name\": \"64\"}, {\"data\": [{\"x\": [38.94, 49.07, 45.25, 28.72, 32.36, 38.82, 50.11, 47.14, 54.93, 45.06, 50.44, 42.37, 47.76, 43.36, 44.64], \"y\": [48.61, 48.8, 31.78, 35.86, 35.63, 47.38, 45.93, 29.17, 46.35, 9.58, 28.76, 11.53, 30.35, 32.33, 31.17], \"type\": \"scatter\"}], \"name\": \"65\"}, {\"data\": [{\"x\": [39.25, 49.15, 45.47, 28.76, 32.37, 39.01, 50.19, 47.3, 54.97, 45.82, 50.48, 43.09, 48.02, 43.34, 45.05], \"y\": [49.06, 48.41, 31.54, 36.12, 35.77, 47.72, 45.42, 29.85, 46.02, 9.31, 29.52, 11.24, 31.0, 31.87, 31.02], \"type\": \"scatter\"}], \"name\": \"66\"}, {\"data\": [{\"x\": [39.6, 49.2, 45.72, 28.81, 32.39, 39.21, 50.25, 47.46, 55.01, 46.57, 50.54, 43.83, 48.28, 43.32, 45.48], \"y\": [49.45, 48.0, 31.3, 36.38, 35.89, 48.02, 44.92, 30.51, 45.66, 9.06, 30.27, 10.96, 31.62, 31.43, 30.87], \"type\": \"scatter\"}], \"name\": \"67\"}, {\"data\": [{\"x\": [39.96, 49.23, 45.95, 28.88, 32.42, 39.43, 50.29, 47.61, 55.03, 47.31, 50.59, 44.58, 48.54, 43.3, 45.87], \"y\": [49.81, 47.57, 31.06, 36.64, 35.99, 48.29, 44.43, 31.15, 45.28, 8.83, 31.01, 10.71, 32.22, 31.02, 30.73], \"type\": \"scatter\"}], \"name\": \"68\"}, {\"data\": [{\"x\": [40.33, 49.24, 46.17, 28.95, 32.45, 39.67, 50.32, 47.75, 55.04, 48.04, 50.65, 45.33, 48.81, 43.27, 46.25], \"y\": [50.11, 47.13, 30.86, 36.85, 36.07, 48.51, 43.95, 31.75, 44.87, 8.61, 31.73, 10.46, 32.79, 30.69, 30.59], \"type\": \"scatter\"}], \"name\": \"69\"}, {\"data\": [{\"x\": [40.71, 49.24, 46.46, 29.05, 32.49, 39.92, 50.34, 47.89, 55.05, 48.76, 50.75, 46.08, 49.09, 43.26, 46.65], \"y\": [50.37, 46.67, 30.65, 37.07, 36.11, 48.71, 43.49, 32.23, 44.44, 8.41, 32.41, 10.24, 33.32, 30.37, 30.46], \"type\": \"scatter\"}], \"name\": \"70\"}, {\"data\": [{\"x\": [41.1, 49.24, 46.78, 29.17, 32.54, 40.19, 50.34, 48.02, 55.03, 49.47, 50.86, 46.82, 49.36, 43.26, 47.07], \"y\": [50.59, 46.21, 30.45, 37.28, 36.14, 48.87, 43.04, 32.71, 43.98, 8.24, 33.08, 10.02, 33.81, 30.11, 30.32], \"type\": \"scatter\"}], \"name\": \"71\"}, {\"data\": [{\"x\": [41.5, 49.25, 47.11, 29.3, 32.6, 40.49, 50.34, 48.11, 55.02, 50.17, 51.0, 47.55, 49.63, 43.3, 47.48], \"y\": [50.78, 45.75, 30.28, 37.5, 36.14, 49.01, 42.62, 33.12, 43.51, 8.09, 33.71, 9.82, 34.27, 29.97, 30.2], \"type\": \"scatter\"}], \"name\": \"72\"}, {\"data\": [{\"x\": [41.91, 49.27, 47.49, 29.46, 32.7, 40.8, 50.36, 48.22, 55.02, 50.87, 51.16, 48.29, 49.91, 43.31, 47.9], \"y\": [50.94, 45.28, 30.13, 37.71, 36.13, 49.11, 42.2, 33.49, 43.03, 7.98, 34.31, 9.62, 34.69, 29.83, 30.1], \"type\": \"scatter\"}], \"name\": \"73\"}, {\"data\": [{\"x\": [42.31, 49.32, 47.91, 29.63, 32.8, 41.14, 50.38, 48.35, 55.05, 51.56, 51.37, 49.01, 50.2, 43.34, 48.31], \"y\": [51.07, 44.8, 30.0, 37.91, 36.1, 49.2, 41.81, 33.78, 42.55, 7.89, 34.88, 9.44, 35.06, 29.72, 30.0], \"type\": \"scatter\"}], \"name\": \"74\"}, {\"data\": [{\"x\": [42.71, 49.38, 48.37, 29.84, 32.92, 41.49, 50.42, 48.47, 55.1, 52.24, 51.61, 49.72, 50.49, 43.38, 48.78], \"y\": [51.15, 44.33, 29.9, 38.11, 36.06, 49.25, 41.44, 34.04, 42.08, 7.85, 35.42, 9.29, 35.38, 29.65, 29.91], \"type\": \"scatter\"}], \"name\": \"75\"}, {\"data\": [{\"x\": [43.11, 49.48, 48.87, 30.11, 33.06, 41.86, 50.48, 48.62, 55.2, 52.93, 51.89, 50.43, 50.8, 43.44, 49.29], \"y\": [51.2, 43.87, 29.8, 38.29, 36.01, 49.26, 41.09, 34.22, 41.61, 7.84, 35.91, 9.16, 35.64, 29.62, 29.81], \"type\": \"scatter\"}], \"name\": \"76\"}, {\"data\": [{\"x\": [43.5, 49.6, 49.42, 30.37, 33.22, 42.24, 50.56, 48.77, 55.36, 53.61, 52.22, 51.13, 51.19, 43.53, 49.82], \"y\": [51.22, 43.39, 29.73, 38.47, 35.94, 49.25, 40.75, 34.36, 41.15, 7.87, 36.37, 9.06, 35.87, 29.61, 29.75], \"type\": \"scatter\"}], \"name\": \"77\"}, {\"data\": [{\"x\": [43.89, 49.78, 50.02, 30.64, 33.4, 42.64, 50.66, 48.95, 55.57, 54.29, 52.6, 51.82, 51.55, 43.64, 50.35], \"y\": [51.21, 42.94, 29.66, 38.67, 35.87, 49.22, 40.43, 34.44, 40.71, 7.93, 36.8, 8.98, 36.05, 29.62, 29.69], \"type\": \"scatter\"}], \"name\": \"78\"}, {\"data\": [{\"x\": [44.27, 49.99, 50.65, 30.93, 33.61, 43.06, 50.78, 49.18, 55.84, 54.97, 53.03, 52.52, 51.94, 43.78, 50.93], \"y\": [51.18, 42.49, 29.59, 38.85, 35.79, 49.16, 40.13, 34.47, 40.29, 8.05, 37.19, 8.95, 36.19, 29.65, 29.63], \"type\": \"scatter\"}], \"name\": \"79\"}, {\"data\": [{\"x\": [44.65, 50.24, 51.31, 31.22, 33.83, 43.49, 50.95, 49.46, 56.17, 55.64, 53.51, 53.21, 52.35, 43.96, 51.55], \"y\": [51.13, 42.06, 29.53, 39.03, 35.71, 49.07, 39.85, 34.45, 39.89, 8.2, 37.55, 8.95, 36.3, 29.66, 29.56], \"type\": \"scatter\"}], \"name\": \"80\"}, {\"data\": [{\"x\": [45.01, 50.54, 52.0, 31.53, 34.08, 43.93, 51.14, 49.76, 56.56, 56.31, 54.02, 53.9, 52.78, 44.17, 52.21], \"y\": [51.07, 41.65, 29.45, 39.21, 35.62, 48.96, 39.59, 34.39, 39.51, 8.38, 37.87, 8.98, 36.37, 29.65, 29.48], \"type\": \"scatter\"}], \"name\": \"81\"}, {\"data\": [{\"x\": [45.38, 50.91, 52.7, 31.84, 34.34, 44.39, 51.36, 50.1, 57.01, 56.97, 54.55, 54.59, 53.24, 44.42, 52.88], \"y\": [50.98, 41.25, 29.36, 39.4, 35.52, 48.83, 39.34, 34.29, 39.18, 8.59, 38.16, 9.04, 36.41, 29.62, 29.41], \"type\": \"scatter\"}], \"name\": \"82\"}, {\"data\": [{\"x\": [45.76, 51.31, 53.43, 32.16, 34.62, 44.86, 51.6, 50.47, 57.5, 57.65, 55.15, 55.28, 53.73, 44.71, 53.55], \"y\": [50.88, 40.87, 29.24, 39.58, 35.42, 48.69, 39.1, 34.16, 38.85, 8.82, 38.41, 9.14, 36.43, 29.58, 29.32], \"type\": \"scatter\"}], \"name\": \"83\"}, {\"data\": [{\"x\": [46.13, 51.74, 54.16, 32.48, 34.94, 45.35, 51.87, 50.87, 58.05, 58.3, 55.79, 55.98, 54.24, 45.03, 54.27], \"y\": [50.77, 40.5, 29.11, 39.76, 35.32, 48.54, 38.88, 34.0, 38.55, 9.1, 38.62, 9.26, 36.41, 29.51, 29.19], \"type\": \"scatter\"}], \"name\": \"84\"}, {\"data\": [{\"x\": [46.49, 52.2, 54.91, 32.8, 35.26, 45.85, 52.15, 51.29, 58.63, 58.95, 56.44, 56.67, 54.79, 45.39, 55.0], \"y\": [50.63, 40.16, 28.95, 39.94, 35.21, 48.36, 38.67, 33.82, 38.27, 9.38, 38.8, 9.42, 36.37, 29.43, 29.03], \"type\": \"scatter\"}], \"name\": \"85\"}, {\"data\": [{\"x\": [46.86, 52.71, 55.66, 33.11, 35.6, 46.35, 52.45, 51.74, 59.28, 59.6, 57.1, 57.37, 55.36, 45.8, 55.74], \"y\": [50.48, 39.82, 28.76, 40.13, 35.1, 48.18, 38.47, 33.64, 38.02, 9.68, 38.95, 9.59, 36.3, 29.32, 28.87], \"type\": \"scatter\"}], \"name\": \"86\"}, {\"data\": [{\"x\": [47.23, 53.24, 56.42, 33.44, 35.96, 46.88, 52.78, 52.22, 59.94, 60.24, 57.78, 58.07, 55.96, 46.25, 56.47], \"y\": [50.32, 39.51, 28.56, 40.31, 35.0, 47.97, 38.28, 33.42, 37.79, 9.99, 39.07, 9.79, 36.21, 29.21, 28.69], \"type\": \"scatter\"}], \"name\": \"87\"}, {\"data\": [{\"x\": [47.6, 53.79, 57.17, 33.76, 36.34, 47.41, 53.13, 52.72, 60.62, 60.9, 58.48, 58.77, 56.58, 46.71, 57.21], \"y\": [50.16, 39.2, 28.33, 40.5, 34.9, 47.77, 38.08, 33.19, 37.55, 10.32, 39.16, 10.0, 36.11, 29.07, 28.49], \"type\": \"scatter\"}], \"name\": \"88\"}, {\"data\": [{\"x\": [47.95, 54.35, 57.94, 34.09, 36.74, 47.96, 53.49, 53.24, 61.32, 61.55, 59.18, 59.49, 57.23, 47.22, 57.98], \"y\": [49.98, 38.9, 28.08, 40.68, 34.8, 47.56, 37.9, 32.96, 37.31, 10.64, 39.22, 10.2, 35.99, 28.92, 28.23], \"type\": \"scatter\"}], \"name\": \"89\"}, {\"data\": [{\"x\": [48.32, 54.93, 58.7, 34.41, 37.14, 48.53, 53.87, 53.79, 62.04, 62.21, 59.89, 60.21, 57.9, 47.75, 58.78], \"y\": [49.8, 38.61, 27.82, 40.86, 34.7, 47.35, 37.71, 32.72, 37.07, 10.96, 39.24, 10.41, 35.84, 28.77, 27.93], \"type\": \"scatter\"}], \"name\": \"90\"}, {\"data\": [{\"x\": [48.69, 55.51, 59.46, 34.74, 37.56, 49.1, 54.25, 54.34, 62.77, 62.88, 60.62, 60.93, 58.58, 48.31, 59.54], \"y\": [49.61, 38.33, 27.53, 41.03, 34.6, 47.13, 37.52, 32.46, 36.82, 11.28, 39.23, 10.63, 35.69, 28.6, 27.65], \"type\": \"scatter\"}], \"name\": \"91\"}, {\"data\": [{\"x\": [49.06, 56.1, 60.24, 35.06, 37.99, 49.68, 54.64, 54.91, 63.51, 63.56, 61.39, 61.67, 59.28, 48.87, 60.28], \"y\": [49.41, 38.05, 27.23, 41.21, 34.51, 46.91, 37.33, 32.2, 36.54, 11.58, 39.15, 10.84, 35.53, 28.43, 27.35], \"type\": \"scatter\"}], \"name\": \"92\"}, {\"data\": [{\"x\": [49.43, 56.7, 61.02, 35.38, 38.43, 50.28, 55.04, 55.49, 64.26, 64.24, 62.13, 62.42, 59.98, 49.47, 61.07], \"y\": [49.21, 37.78, 26.9, 41.38, 34.41, 46.68, 37.16, 31.94, 36.24, 11.86, 39.07, 11.04, 35.35, 28.28, 27.03], \"type\": \"scatter\"}], \"name\": \"93\"}, {\"data\": [{\"x\": [49.81, 57.29, 61.8, 35.72, 38.88, 50.89, 55.45, 56.08, 65.01, 64.92, 62.89, 63.17, 60.7, 50.07, 61.88], \"y\": [49.01, 37.5, 26.57, 41.55, 34.31, 46.46, 36.98, 31.67, 35.92, 12.14, 38.94, 11.24, 35.15, 28.11, 26.67], \"type\": \"scatter\"}], \"name\": \"94\"}, {\"data\": [{\"x\": [50.21, 57.9, 62.59, 36.07, 39.33, 51.5, 55.87, 56.68, 65.76, 65.62, 63.64, 63.94, 61.44, 50.68, 62.68], \"y\": [48.83, 37.2, 26.25, 41.71, 34.22, 46.22, 36.8, 31.4, 35.6, 12.4, 38.79, 11.43, 34.94, 27.95, 26.31], \"type\": \"scatter\"}], \"name\": \"95\"}, {\"data\": [{\"x\": [50.59, 58.5, 63.38, 36.42, 39.79, 52.12, 56.29, 57.3, 66.51, 66.32, 64.4, 64.71, 62.17, 51.29, 63.47], \"y\": [48.63, 36.9, 25.89, 41.86, 34.12, 45.98, 36.63, 31.12, 35.27, 12.64, 38.6, 11.62, 34.72, 27.79, 25.95], \"type\": \"scatter\"}], \"name\": \"96\"}, {\"data\": [{\"x\": [50.99, 59.1, 64.19, 36.78, 40.26, 52.75, 56.72, 57.92, 67.26, 67.02, 65.15, 65.5, 62.9, 51.91, 64.27], \"y\": [48.43, 36.6, 25.55, 42.0, 34.02, 45.74, 36.46, 30.85, 34.92, 12.87, 38.38, 11.8, 34.48, 27.63, 25.59], \"type\": \"scatter\"}], \"name\": \"97\"}, {\"data\": [{\"x\": [51.38, 59.69, 64.98, 37.13, 40.73, 53.38, 57.15, 58.55, 68.04, 67.75, 65.91, 66.29, 63.65, 52.54, 65.11], \"y\": [48.23, 36.3, 25.21, 42.15, 33.91, 45.5, 36.28, 30.57, 34.54, 13.09, 38.14, 11.99, 34.21, 27.47, 25.22], \"type\": \"scatter\"}], \"name\": \"98\"}, {\"data\": [{\"x\": [51.77, 60.29, 65.8, 37.49, 41.2, 54.0, 57.58, 59.18, 68.82, 68.46, 66.67, 67.09, 64.39, 53.17, 65.97], \"y\": [48.01, 35.99, 24.86, 42.29, 33.81, 45.25, 36.11, 30.28, 34.16, 13.29, 37.89, 12.17, 33.93, 27.31, 24.85], \"type\": \"scatter\"}], \"name\": \"99\"}, {\"data\": [{\"x\": [52.17, 60.89, 66.63, 37.85, 41.67, 54.62, 58.02, 59.82, 69.6, 69.18, 67.44, 67.9, 65.12, 53.8, 66.81], \"y\": [47.79, 35.68, 24.52, 42.43, 33.71, 45.0, 35.93, 30.0, 33.76, 13.49, 37.62, 12.33, 33.63, 27.16, 24.5], \"type\": \"scatter\"}], \"name\": \"100\"}, {\"data\": [{\"x\": [52.57, 61.49, 67.47, 38.21, 42.15, 55.25, 58.46, 60.47, 70.37, 69.89, 68.19, 68.71, 65.85, 54.43, 67.64], \"y\": [47.56, 35.36, 24.19, 42.57, 33.61, 44.74, 35.77, 29.71, 33.36, 13.66, 37.33, 12.48, 33.31, 27.01, 24.17], \"type\": \"scatter\"}], \"name\": \"101\"}, {\"data\": [{\"x\": [52.97, 62.09, 68.31, 38.57, 42.63, 55.87, 58.9, 61.11, 71.16, 70.62, 68.94, 69.53, 66.59, 55.05, 68.48], \"y\": [47.32, 35.04, 23.87, 42.69, 33.52, 44.49, 35.6, 29.41, 32.93, 13.83, 37.04, 12.63, 32.97, 26.85, 23.85], \"type\": \"scatter\"}], \"name\": \"102\"}, {\"data\": [{\"x\": [53.37, 62.69, 69.15, 38.93, 43.11, 56.49, 59.34, 61.76, 71.94, 71.34, 69.69, 70.35, 67.33, 55.67, 69.34], \"y\": [47.08, 34.7, 23.55, 42.83, 33.43, 44.23, 35.44, 29.11, 32.5, 13.98, 36.73, 12.75, 32.64, 26.69, 23.52], \"type\": \"scatter\"}], \"name\": \"103\"}, {\"data\": [{\"x\": [53.76, 63.29, 70.01, 39.29, 43.59, 57.12, 59.8, 62.43, 72.72, 72.06, 70.43, 71.18, 68.06, 56.28, 70.22], \"y\": [46.84, 34.37, 23.24, 42.95, 33.33, 43.97, 35.28, 28.81, 32.06, 14.12, 36.43, 12.87, 32.29, 26.53, 23.19], \"type\": \"scatter\"}], \"name\": \"104\"}, {\"data\": [{\"x\": [54.15, 63.9, 70.87, 39.64, 44.08, 57.75, 60.25, 63.08, 73.49, 72.77, 71.16, 72.01, 68.79, 56.9, 71.08], \"y\": [46.6, 34.04, 22.94, 43.07, 33.24, 43.71, 35.15, 28.51, 31.61, 14.24, 36.12, 12.97, 31.92, 26.35, 22.9], \"type\": \"scatter\"}], \"name\": \"105\"}, {\"data\": [{\"x\": [54.54, 64.5, 71.72, 40.0, 44.57, 58.37, 60.7, 63.75, 74.28, 73.49, 71.9, 72.84, 69.52, 57.51, 71.94], \"y\": [46.36, 33.71, 22.65, 43.18, 33.15, 43.45, 35.02, 28.22, 31.15, 14.36, 35.8, 13.07, 31.54, 26.18, 22.62], \"type\": \"scatter\"}], \"name\": \"106\"}, {\"data\": [{\"x\": [54.94, 65.11, 72.59, 40.35, 45.06, 58.99, 61.16, 64.41, 75.07, 74.22, 72.64, 73.67, 70.26, 58.11, 72.81], \"y\": [46.11, 33.39, 22.37, 43.29, 33.06, 43.19, 34.9, 27.92, 30.69, 14.49, 35.48, 13.16, 31.16, 26.01, 22.35], \"type\": \"scatter\"}], \"name\": \"107\"}, {\"data\": [{\"x\": [55.33, 65.72, 73.48, 40.71, 45.55, 59.63, 61.64, 65.09, 75.86, 74.94, 73.37, 74.52, 70.99, 58.71, 73.71], \"y\": [45.86, 33.07, 22.09, 43.39, 32.97, 42.93, 34.77, 27.64, 30.22, 14.61, 35.15, 13.25, 30.77, 25.85, 22.05], \"type\": \"scatter\"}], \"name\": \"108\"}, {\"data\": [{\"x\": [55.72, 66.33, 74.36, 41.06, 46.04, 60.26, 62.11, 65.76, 76.65, 75.66, 74.1, 75.38, 71.73, 59.3, 74.62], \"y\": [45.62, 32.76, 21.81, 43.49, 32.89, 42.67, 34.66, 27.35, 29.75, 14.71, 34.82, 13.33, 30.37, 25.67, 21.76], \"type\": \"scatter\"}], \"name\": \"109\"}, {\"data\": [{\"x\": [56.12, 66.95, 75.25, 41.42, 46.53, 60.89, 62.59, 66.45, 77.47, 76.39, 74.82, 76.23, 72.47, 59.89, 75.5], \"y\": [45.39, 32.45, 21.54, 43.58, 32.81, 42.4, 34.54, 27.06, 29.26, 14.8, 34.49, 13.41, 29.97, 25.5, 21.48], \"type\": \"scatter\"}], \"name\": \"110\"}, {\"data\": [{\"x\": [56.51, 67.56, 76.13, 41.77, 47.03, 61.53, 63.06, 67.15, 78.27, 77.13, 75.53, 77.09, 73.21, 60.47, 76.37], \"y\": [45.16, 32.15, 21.27, 43.68, 32.72, 42.12, 34.41, 26.77, 28.78, 14.88, 34.17, 13.51, 29.57, 25.32, 21.21], \"type\": \"scatter\"}], \"name\": \"111\"}, {\"data\": [{\"x\": [56.9, 68.19, 77.01, 42.12, 47.53, 62.19, 63.54, 67.84, 79.06, 77.87, 76.25, 77.96, 73.95, 61.05, 77.23], \"y\": [44.93, 31.84, 20.99, 43.77, 32.64, 41.84, 34.28, 26.49, 28.31, 14.95, 33.83, 13.58, 29.17, 25.15, 20.95], \"type\": \"scatter\"}], \"name\": \"112\"}, {\"data\": [{\"x\": [57.27, 68.81, 77.88, 42.47, 48.03, 62.84, 64.03, 68.54, 79.85, 78.63, 76.95, 78.82, 74.7, 61.63, 78.12], \"y\": [44.7, 31.54, 20.7, 43.86, 32.55, 41.57, 34.16, 26.2, 27.83, 15.01, 33.5, 13.67, 28.77, 24.97, 20.63], \"type\": \"scatter\"}], \"name\": \"113\"}, {\"data\": [{\"x\": [57.65, 69.42, 78.74, 42.83, 48.53, 63.49, 64.51, 69.24, 80.65, 79.42, 77.64, 79.67, 75.44, 62.2, 78.97], \"y\": [44.47, 31.25, 20.39, 43.96, 32.46, 41.29, 34.03, 25.93, 27.33, 15.07, 33.18, 13.76, 28.38, 24.79, 20.32], \"type\": \"scatter\"}], \"name\": \"114\"}, {\"data\": [{\"x\": [58.04, 70.03, 79.57, 43.19, 49.02, 64.15, 64.99, 69.94, 81.43, 80.21, 78.33, 80.52, 76.19, 62.77, 79.77], \"y\": [44.24, 30.96, 20.06, 44.05, 32.37, 41.01, 33.89, 25.65, 26.83, 15.12, 32.85, 13.84, 27.98, 24.62, 19.99], \"type\": \"scatter\"}], \"name\": \"115\"}, {\"data\": [{\"x\": [58.43, 70.64, 80.37, 43.54, 49.51, 64.8, 65.47, 70.65, 82.22, 81.01, 79.01, 81.35, 76.93, 63.35, 80.55], \"y\": [44.0, 30.67, 19.7, 44.14, 32.28, 40.73, 33.75, 25.36, 26.34, 15.15, 32.53, 13.92, 27.59, 24.44, 19.64], \"type\": \"scatter\"}], \"name\": \"116\"}, {\"data\": [{\"x\": [58.81, 71.24, 81.14, 43.91, 50.0, 65.44, 65.96, 71.36, 83.0, 81.81, 79.67, 82.16, 77.68, 63.91, 81.32], \"y\": [43.77, 30.39, 19.31, 44.22, 32.19, 40.44, 33.61, 25.08, 25.84, 15.19, 32.21, 14.01, 27.19, 24.26, 19.26], \"type\": \"scatter\"}], \"name\": \"117\"}, {\"data\": [{\"x\": [59.19, 71.84, 81.88, 44.27, 50.49, 66.1, 66.44, 72.08, 83.78, 82.64, 80.34, 82.98, 78.42, 64.47, 82.07], \"y\": [43.53, 30.1, 18.89, 44.29, 32.1, 40.16, 33.47, 24.81, 25.33, 15.22, 31.88, 14.08, 26.8, 24.08, 18.86], \"type\": \"scatter\"}], \"name\": \"118\"}, {\"data\": [{\"x\": [59.57, 72.44, 82.58, 44.63, 50.97, 66.74, 66.91, 72.8, 84.55, 83.46, 81.0, 83.77, 79.16, 65.02, 82.79], \"y\": [43.31, 29.82, 18.45, 44.36, 32.02, 39.88, 33.32, 24.53, 24.82, 15.25, 31.57, 14.13, 26.4, 23.88, 18.44], \"type\": \"scatter\"}], \"name\": \"119\"}, {\"data\": [{\"x\": [59.95, 73.04, 83.26, 45.0, 51.46, 67.37, 67.38, 73.52, 85.32, 84.27, 81.67, 84.55, 79.89, 65.57, 83.46], \"y\": [43.1, 29.53, 17.97, 44.42, 31.93, 39.6, 33.17, 24.25, 24.31, 15.28, 31.24, 14.15, 26.01, 23.69, 17.99], \"type\": \"scatter\"}], \"name\": \"120\"}, {\"data\": [{\"x\": [60.33, 73.64, 83.91, 45.36, 51.93, 67.98, 67.85, 74.24, 86.07, 85.09, 82.32, 85.31, 80.61, 66.11, 84.11], \"y\": [42.88, 29.25, 17.45, 44.48, 31.85, 39.32, 33.0, 23.96, 23.8, 15.3, 30.93, 14.16, 25.62, 23.49, 17.5], \"type\": \"scatter\"}], \"name\": \"121\"}, {\"data\": [{\"x\": [60.7, 74.24, 84.53, 45.72, 52.41, 68.61, 68.32, 74.96, 86.85, 85.89, 82.95, 86.05, 81.33, 66.65, 84.74], \"y\": [42.67, 28.94, 16.92, 44.53, 31.77, 39.04, 32.84, 23.66, 23.29, 15.29, 30.62, 14.12, 25.22, 23.28, 16.97], \"type\": \"scatter\"}], \"name\": \"122\"}, {\"data\": [{\"x\": [61.06, 74.83, 85.12, 46.09, 52.88, 69.22, 68.78, 75.69, 87.62, 86.67, 83.59, 86.78, 82.05, 67.18, 85.33], \"y\": [42.45, 28.65, 16.35, 44.58, 31.69, 38.77, 32.67, 23.35, 22.78, 15.27, 30.32, 14.05, 24.83, 23.07, 16.41], \"type\": \"scatter\"}], \"name\": \"123\"}, {\"data\": [{\"x\": [61.43, 75.42, 85.69, 46.45, 53.34, 69.82, 69.24, 76.44, 88.4, 87.45, 84.22, 87.47, 82.77, 67.71, 85.9], \"y\": [42.21, 28.35, 15.77, 44.63, 31.6, 38.49, 32.5, 23.04, 22.26, 15.23, 30.02, 13.95, 24.42, 22.85, 15.84], \"type\": \"scatter\"}], \"name\": \"124\"}, {\"data\": [{\"x\": [61.8, 75.99, 86.25, 46.81, 53.81, 70.41, 69.7, 77.17, 89.18, 88.21, 84.84, 88.13, 83.49, 68.24, 86.44], \"y\": [42.0, 28.04, 15.15, 44.66, 31.51, 38.23, 32.33, 22.71, 21.75, 15.16, 29.72, 13.81, 24.0, 22.63, 15.24], \"type\": \"scatter\"}], \"name\": \"125\"}, {\"data\": [{\"x\": [62.17, 76.57, 86.8, 47.18, 54.27, 71.0, 70.15, 77.9, 89.96, 88.94, 85.46, 88.76, 84.2, 68.76, 86.98], \"y\": [41.79, 27.74, 14.54, 44.69, 31.43, 37.96, 32.17, 22.38, 21.24, 15.04, 29.43, 13.62, 23.57, 22.39, 14.62], \"type\": \"scatter\"}], \"name\": \"126\"}, {\"data\": [{\"x\": [62.53, 77.13, 87.34, 47.54, 54.73, 71.58, 70.59, 78.63, 90.74, 89.64, 86.08, 89.35, 84.9, 69.28, 87.53], \"y\": [41.58, 27.42, 13.91, 44.71, 31.35, 37.68, 32.01, 22.03, 20.74, 14.89, 29.14, 13.39, 23.15, 22.15, 13.98], \"type\": \"scatter\"}], \"name\": \"127\"}, {\"data\": [{\"x\": [62.88, 77.69, 87.87, 47.9, 55.19, 72.15, 71.04, 79.35, 91.51, 90.32, 86.71, 89.92, 85.6, 69.79, 88.07], \"y\": [41.38, 27.1, 13.27, 44.72, 31.27, 37.4, 31.85, 21.66, 20.25, 14.7, 28.86, 13.11, 22.72, 21.91, 13.32], \"type\": \"scatter\"}], \"name\": \"128\"}, {\"data\": [{\"x\": [63.22, 78.26, 88.39, 48.26, 55.64, 72.72, 71.49, 80.07, 92.28, 90.97, 87.32, 90.44, 86.28, 70.29, 88.61], \"y\": [41.17, 26.78, 12.64, 44.72, 31.19, 37.14, 31.69, 21.29, 19.74, 14.48, 28.57, 12.78, 22.29, 21.66, 12.65], \"type\": \"scatter\"}], \"name\": \"129\"}, {\"data\": [{\"x\": [63.57, 78.81, 88.91, 48.62, 56.1, 73.29, 71.94, 80.78, 93.03, 91.58, 87.92, 90.94, 86.96, 70.79, 89.12], \"y\": [40.96, 26.45, 12.0, 44.71, 31.11, 36.88, 31.54, 20.91, 19.23, 14.2, 28.29, 12.41, 21.86, 21.4, 12.0], \"type\": \"scatter\"}], \"name\": \"130\"}, {\"data\": [{\"x\": [63.91, 79.36, 89.43, 48.98, 56.54, 73.86, 72.36, 81.48, 93.77, 92.17, 88.52, 91.43, 87.63, 71.27, 89.65], \"y\": [40.74, 26.12, 11.36, 44.7, 31.03, 36.62, 31.39, 20.5, 18.71, 13.9, 28.0, 12.01, 21.43, 21.13, 11.34], \"type\": \"scatter\"}], \"name\": \"131\"}, {\"data\": [{\"x\": [64.26, 79.89, 89.97, 49.34, 56.99, 74.41, 72.8, 82.19, 94.5, 92.74, 89.1, 91.9, 88.28, 71.74, 90.21], \"y\": [40.52, 25.8, 10.73, 44.68, 30.95, 36.36, 31.25, 20.09, 18.18, 13.55, 27.73, 11.59, 20.99, 20.86, 10.66], \"type\": \"scatter\"}], \"name\": \"132\"}, {\"data\": [{\"x\": [64.6, 80.41, 90.5, 49.69, 57.43, 74.96, 73.23, 82.88, 95.21, 93.29, 89.68, 92.34, 88.92, 72.22, 90.76], \"y\": [40.3, 25.47, 10.09, 44.66, 30.88, 36.1, 31.12, 19.67, 17.63, 13.16, 27.45, 11.13, 20.56, 20.59, 10.0], \"type\": \"scatter\"}], \"name\": \"133\"}, {\"data\": [{\"x\": [64.94, 80.94, 91.03, 50.05, 57.88, 75.51, 73.65, 83.56, 95.9, 93.83, 90.25, 92.77, 89.55, 72.69, 91.3], \"y\": [40.08, 25.14, 9.47, 44.63, 30.82, 35.85, 30.99, 19.24, 17.07, 12.74, 27.18, 10.66, 20.12, 20.33, 9.36], \"type\": \"scatter\"}], \"name\": \"134\"}, {\"data\": [{\"x\": [65.29, 81.47, 91.58, 50.42, 58.31, 76.07, 74.07, 84.24, 96.57, 94.36, 90.81, 93.19, 90.16, 73.15, 91.83], \"y\": [39.86, 24.81, 8.84, 44.61, 30.74, 35.61, 30.87, 18.81, 16.5, 12.29, 26.89, 10.17, 19.68, 20.06, 8.73], \"type\": \"scatter\"}], \"name\": \"135\"}, {\"data\": [{\"x\": [65.62, 81.99, 92.13, 50.79, 58.74, 76.61, 74.5, 84.92, 97.21, 94.89, 91.37, 93.6, 90.76, 73.6, 92.39], \"y\": [39.65, 24.5, 8.22, 44.58, 30.67, 35.39, 30.74, 18.39, 15.9, 11.82, 26.61, 9.69, 19.23, 19.8, 8.11], \"type\": \"scatter\"}], \"name\": \"136\"}, {\"data\": [{\"x\": [65.96, 82.51, 92.7, 51.16, 59.17, 77.17, 74.91, 85.59, 97.83, 95.41, 91.9, 94.0, 91.37, 74.06, 92.97], \"y\": [39.43, 24.18, 7.62, 44.57, 30.59, 35.17, 30.62, 17.96, 15.29, 11.35, 26.32, 9.21, 18.77, 19.53, 7.5], \"type\": \"scatter\"}], \"name\": \"137\"}, {\"data\": [{\"x\": [66.29, 83.03, 93.28, 51.53, 59.59, 77.73, 75.32, 86.26, 98.43, 95.93, 92.43, 94.38, 91.95, 74.51, 93.57], \"y\": [39.21, 23.86, 7.03, 44.56, 30.5, 34.95, 30.51, 17.53, 14.66, 10.86, 26.02, 8.75, 18.32, 19.26, 6.89], \"type\": \"scatter\"}], \"name\": \"138\"}, {\"data\": [{\"x\": [66.63, 83.55, 93.86, 51.91, 60.02, 78.28, 75.72, 86.92, 99.0, 96.44, 92.96, 94.73, 92.53, 74.95, 94.17], \"y\": [38.98, 23.54, 6.45, 44.56, 30.41, 34.73, 30.41, 17.09, 14.02, 10.37, 25.72, 8.32, 17.86, 19.0, 6.31], \"type\": \"scatter\"}], \"name\": \"139\"}, {\"data\": [{\"x\": [66.96, 84.06, 94.46, 52.28, 60.44, 78.83, 76.1, 87.58, 99.55, 96.93, 93.47, 95.05, 93.09, 75.39, 94.76], \"y\": [38.76, 23.23, 5.88, 44.56, 30.33, 34.52, 30.32, 16.66, 13.37, 9.89, 25.41, 7.92, 17.4, 18.74, 5.75], \"type\": \"scatter\"}], \"name\": \"140\"}, {\"data\": [{\"x\": [67.3, 84.57, 95.08, 52.65, 60.85, 79.38, 76.48, 88.23, 100.08, 97.43, 93.97, 95.34, 93.64, 75.82, 95.36], \"y\": [38.53, 22.92, 5.34, 44.56, 30.24, 34.32, 30.25, 16.23, 12.71, 9.41, 25.11, 7.54, 16.94, 18.48, 5.2], \"type\": \"scatter\"}], \"name\": \"141\"}, {\"data\": [{\"x\": [67.64, 85.08, 95.71, 53.01, 61.26, 79.94, 76.85, 88.88, 100.59, 97.92, 94.46, 95.6, 94.19, 76.23, 95.99], \"y\": [38.3, 22.61, 4.81, 44.57, 30.15, 34.11, 30.16, 15.81, 12.03, 8.93, 24.79, 7.2, 16.48, 18.22, 4.68], \"type\": \"scatter\"}], \"name\": \"142\"}, {\"data\": [{\"x\": [67.98, 85.58, 96.36, 53.37, 61.67, 80.5, 77.2, 89.51, 101.08, 98.4, 94.94, 95.81, 94.74, 76.62, 96.64], \"y\": [38.08, 22.31, 4.32, 44.58, 30.07, 33.9, 30.09, 15.4, 11.34, 8.47, 24.46, 6.91, 16.03, 17.97, 4.18], \"type\": \"scatter\"}], \"name\": \"143\"}, {\"data\": [{\"x\": [68.32, 86.09, 97.04, 53.73, 62.08, 81.06, 77.54, 90.13, 101.56, 98.89, 95.42, 95.97, 95.28, 77.0, 97.28], \"y\": [37.85, 22.0, 3.85, 44.6, 30.0, 33.69, 30.03, 14.98, 10.66, 8.01, 24.14, 6.66, 15.58, 17.72, 3.72], \"type\": \"scatter\"}], \"name\": \"144\"}, {\"data\": [{\"x\": [68.65, 86.58, 97.72, 54.08, 62.48, 81.61, 77.87, 90.76, 102.03, 99.39, 95.88, 96.11, 95.82, 77.37, 97.93], \"y\": [37.63, 21.7, 3.4, 44.62, 29.93, 33.48, 29.97, 14.57, 9.95, 7.55, 23.81, 6.45, 15.14, 17.47, 3.28], \"type\": \"scatter\"}], \"name\": \"145\"}, {\"data\": [{\"x\": [69.0, 87.08, 98.42, 54.42, 62.89, 82.15, 78.17, 91.38, 102.48, 99.89, 96.32, 96.2, 96.36, 77.73, 98.6], \"y\": [37.39, 21.41, 2.99, 44.63, 29.86, 33.27, 29.92, 14.16, 9.21, 7.1, 23.48, 6.3, 14.68, 17.23, 2.88], \"type\": \"scatter\"}], \"name\": \"146\"}, {\"data\": [{\"x\": [69.35, 87.55, 99.12, 54.75, 63.29, 82.69, 78.46, 91.98, 102.92, 100.39, 96.74, 96.26, 96.9, 78.08, 99.26], \"y\": [37.15, 21.1, 2.61, 44.65, 29.8, 33.07, 29.88, 13.74, 8.48, 6.66, 23.16, 6.19, 14.23, 17.0, 2.52], \"type\": \"scatter\"}], \"name\": \"147\"}, {\"data\": [{\"x\": [69.69, 88.03, 99.8, 55.08, 63.69, 83.23, 78.74, 92.58, 103.35, 100.91, 97.15, 96.29, 97.43, 78.43, 99.91], \"y\": [36.91, 20.8, 2.28, 44.68, 29.74, 32.86, 29.83, 13.36, 7.75, 6.22, 22.83, 6.13, 13.79, 16.78, 2.2], \"type\": \"scatter\"}], \"name\": \"148\"}, {\"data\": [{\"x\": [70.05, 88.49, 100.47, 55.41, 64.09, 83.76, 78.99, 93.16, 103.76, 101.44, 97.55, 96.3, 97.97, 78.78, 100.55], \"y\": [36.66, 20.52, 1.99, 44.7, 29.7, 32.65, 29.79, 12.97, 7.03, 5.79, 22.52, 6.1, 13.36, 16.57, 1.93], \"type\": \"scatter\"}], \"name\": \"149\"}, {\"data\": [{\"x\": [70.41, 88.94, 101.14, 55.73, 64.49, 84.28, 79.23, 93.72, 104.16, 101.97, 97.93, 96.3, 98.51, 79.12, 101.17], \"y\": [36.41, 20.23, 1.74, 44.73, 29.65, 32.45, 29.75, 12.58, 6.31, 5.36, 22.2, 6.1, 12.92, 16.36, 1.7], \"type\": \"scatter\"}], \"name\": \"150\"}, {\"data\": [{\"x\": [70.77, 89.38, 101.79, 56.05, 64.89, 84.8, 79.46, 94.27, 104.53, 102.51, 98.29, 96.28, 99.05, 79.46, 101.79], \"y\": [36.17, 19.94, 1.57, 44.76, 29.61, 32.25, 29.71, 12.2, 5.61, 4.94, 21.9, 6.11, 12.49, 16.15, 1.52], \"type\": \"scatter\"}], \"name\": \"151\"}, {\"data\": [{\"x\": [71.13, 89.8, 102.39, 56.36, 65.28, 85.3, 79.68, 94.81, 104.89, 103.06, 98.65, 96.27, 99.59, 79.79, 102.4], \"y\": [35.92, 19.66, 1.46, 44.78, 29.58, 32.05, 29.68, 11.84, 4.92, 4.52, 21.59, 6.14, 12.07, 15.95, 1.39], \"type\": \"scatter\"}], \"name\": \"152\"}, {\"data\": [{\"x\": [71.49, 90.22, 102.97, 56.69, 65.66, 85.81, 79.88, 95.33, 105.22, 103.61, 99.0, 96.25, 100.12, 80.12, 103.0], \"y\": [35.66, 19.38, 1.4, 44.81, 29.55, 31.84, 29.65, 11.49, 4.25, 4.09, 21.29, 6.18, 11.64, 15.76, 1.33], \"type\": \"scatter\"}], \"name\": \"153\"}, {\"data\": [{\"x\": [71.85, 90.64, 103.53, 57.01, 66.04, 86.33, 80.07, 95.84, 105.54, 104.14, 99.35, 96.24, 100.67, 80.45, 103.55], \"y\": [35.41, 19.11, 1.39, 44.84, 29.51, 31.64, 29.63, 11.14, 3.6, 3.65, 21.0, 6.22, 11.21, 15.58, 1.33], \"type\": \"scatter\"}], \"name\": \"154\"}, {\"data\": [{\"x\": [72.23, 91.04, 104.06, 57.33, 66.41, 86.86, 80.26, 96.34, 105.85, 104.66, 99.71, 96.22, 101.21, 80.78, 104.07], \"y\": [35.14, 18.84, 1.44, 44.87, 29.48, 31.43, 29.6, 10.8, 2.97, 3.2, 20.71, 6.25, 10.77, 15.41, 1.39], \"type\": \"scatter\"}], \"name\": \"155\"}, {\"data\": [{\"x\": [72.6, 91.43, 104.56, 57.65, 66.78, 87.38, 80.43, 96.83, 106.15, 105.15, 100.07, 96.21, 101.74, 81.11, 104.59], \"y\": [34.88, 18.57, 1.53, 44.88, 29.45, 31.23, 29.58, 10.48, 2.37, 2.74, 20.43, 6.28, 10.34, 15.25, 1.49], \"type\": \"scatter\"}], \"name\": \"156\"}, {\"data\": [{\"x\": [72.96, 91.81, 105.04, 57.98, 67.15, 87.9, 80.59, 97.3, 106.43, 105.62, 100.44, 96.2, 102.28, 81.44, 105.1], \"y\": [34.62, 18.31, 1.65, 44.91, 29.42, 31.03, 29.57, 10.17, 1.79, 2.28, 20.15, 6.29, 9.89, 15.1, 1.64], \"type\": \"scatter\"}], \"name\": \"157\"}, {\"data\": [{\"x\": [73.33, 92.19, 105.51, 58.3, 67.51, 88.43, 80.73, 97.76, 106.71, 106.06, 100.8, 96.18, 102.82, 81.77, 105.6], \"y\": [34.36, 18.04, 1.83, 44.93, 29.39, 30.82, 29.54, 9.87, 1.24, 1.82, 19.89, 6.31, 9.43, 14.95, 1.83], \"type\": \"scatter\"}], \"name\": \"158\"}, {\"data\": [{\"x\": [73.7, 92.56, 105.97, 58.63, 67.86, 88.94, 80.87, 98.21, 106.96, 106.47, 101.16, 96.18, 103.35, 82.09, 106.11], \"y\": [34.1, 17.78, 2.05, 44.94, 29.37, 30.62, 29.52, 9.58, 0.73, 1.36, 19.63, 6.31, 8.97, 14.81, 2.06], \"type\": \"scatter\"}], \"name\": \"159\"}, {\"data\": [{\"x\": [74.06, 92.92, 106.41, 58.95, 68.21, 89.46, 81.01, 98.64, 107.2, 106.85, 101.53, 96.17, 103.87, 82.41, 106.62], \"y\": [33.84, 17.52, 2.29, 44.95, 29.35, 30.42, 29.48, 9.3, 0.24, 0.92, 19.38, 6.32, 8.52, 14.68, 2.34], \"type\": \"scatter\"}], \"name\": \"160\"}, {\"data\": [{\"x\": [74.43, 93.27, 106.85, 59.27, 68.55, 89.97, 81.14, 99.07, 107.42, 107.21, 101.88, 96.17, 104.39, 82.73, 107.11], \"y\": [33.58, 17.27, 2.55, 44.97, 29.33, 30.22, 29.43, 9.03, -0.21, 0.49, 19.14, 6.32, 8.06, 14.55, 2.65], \"type\": \"scatter\"}], \"name\": \"161\"}, {\"data\": [{\"x\": [74.78, 93.62, 107.28, 59.59, 68.88, 90.49, 81.26, 99.48, 107.6, 107.54, 102.24, 96.19, 104.9, 83.04, 107.58], \"y\": [33.31, 17.03, 2.83, 44.98, 29.31, 30.02, 29.39, 8.77, -0.65, 0.08, 18.91, 6.31, 7.62, 14.43, 2.98], \"type\": \"scatter\"}], \"name\": \"162\"}, {\"data\": [{\"x\": [75.13, 93.96, 107.72, 59.92, 69.21, 90.99, 81.38, 99.89, 107.77, 107.84, 102.6, 96.2, 105.41, 83.35, 108.06], \"y\": [33.06, 16.79, 3.13, 45.0, 29.3, 29.83, 29.35, 8.54, -1.05, -0.3, 18.69, 6.31, 7.2, 14.31, 3.32], \"type\": \"scatter\"}], \"name\": \"163\"}, {\"data\": [{\"x\": [75.49, 94.3, 108.14, 60.24, 69.53, 91.5, 81.5, 100.3, 107.92, 108.11, 102.94, 96.22, 105.91, 83.64, 108.51], \"y\": [32.8, 16.58, 3.43, 45.02, 29.29, 29.63, 29.3, 8.32, -1.43, -0.64, 18.48, 6.31, 6.81, 14.2, 3.66], \"type\": \"scatter\"}], \"name\": \"164\"}, {\"data\": [{\"x\": [75.86, 94.62, 108.56, 60.56, 69.83, 91.99, 81.62, 100.69, 108.03, 108.37, 103.28, 96.24, 106.42, 83.93, 108.93], \"y\": [32.55, 16.37, 3.73, 45.04, 29.29, 29.44, 29.26, 8.11, -1.78, -0.94, 18.27, 6.32, 6.45, 14.1, 4.0], \"type\": \"scatter\"}], \"name\": \"165\"}, {\"data\": [{\"x\": [76.23, 94.93, 108.97, 60.88, 70.12, 92.48, 81.73, 101.08, 108.12, 108.62, 103.61, 96.26, 106.93, 84.22, 109.33], \"y\": [32.3, 16.19, 4.03, 45.06, 29.28, 29.25, 29.2, 7.91, -2.09, -1.21, 18.09, 6.32, 6.15, 13.97, 4.32], \"type\": \"scatter\"}], \"name\": \"166\"}, {\"data\": [{\"x\": [76.6, 95.22, 109.4, 61.2, 70.4, 92.94, 81.85, 101.47, 108.18, 108.86, 103.92, 96.25, 107.44, 84.5, 109.71], \"y\": [32.03, 16.01, 4.32, 45.08, 29.27, 29.1, 29.15, 7.73, -2.38, -1.42, 17.92, 6.31, 5.89, 13.86, 4.63], \"type\": \"scatter\"}], \"name\": \"167\"}, {\"data\": [{\"x\": [76.98, 95.51, 109.82, 61.52, 70.67, 93.39, 81.97, 101.84, 108.23, 109.11, 104.21, 96.26, 107.95, 84.79, 110.08], \"y\": [31.77, 15.84, 4.6, 45.11, 29.28, 28.93, 29.1, 7.56, -2.64, -1.59, 17.76, 6.31, 5.68, 13.76, 4.9], \"type\": \"scatter\"}], \"name\": \"168\"}, {\"data\": [{\"x\": [77.36, 95.77, 110.23, 61.84, 70.94, 93.84, 82.09, 102.21, 108.28, 109.36, 104.48, 96.27, 108.45, 85.06, 110.41], \"y\": [31.51, 15.68, 4.88, 45.13, 29.29, 28.77, 29.04, 7.4, -2.87, -1.73, 17.61, 6.31, 5.54, 13.68, 5.13], \"type\": \"scatter\"}], \"name\": \"169\"}]);\n",
       "                        }).then(function(){\n",
       "                            \n",
       "var gd = document.getElementById('4bf0b580-939d-45ff-96a6-baaeb1fc0391');\n",
       "var x = new MutationObserver(function (mutations, observer) {{\n",
       "        var display = window.getComputedStyle(gd).display;\n",
       "        if (!display || display === 'none') {{\n",
       "            console.log([gd, 'removed!']);\n",
       "            Plotly.purge(gd);\n",
       "            observer.disconnect();\n",
       "        }}\n",
       "}});\n",
       "\n",
       "// Listen for the removal of the full notebook cells\n",
       "var notebookContainer = gd.closest('#notebook-container');\n",
       "if (notebookContainer) {{\n",
       "    x.observe(notebookContainer, {childList: true});\n",
       "}}\n",
       "\n",
       "// Listen for the clearing of the current output cell\n",
       "var outputEl = gd.closest('.output');\n",
       "if (outputEl) {{\n",
       "    x.observe(outputEl, {childList: true});\n",
       "}}\n",
       "\n",
       "                        })                };                });            </script>        </div>"
      ]
     },
     "metadata": {},
     "output_type": "display_data"
    },
    {
     "name": "stdout",
     "output_type": "stream",
     "text": [
      "CPU times: user 668 ms, sys: 7.83 ms, total: 676 ms\n",
      "Wall time: 676 ms\n"
     ]
    }
   ],
   "source": [
    "%%time\n",
    "\n",
    "fig = plotting.animate_play(\n",
    "    interesting_play, \"x\", \"y\", \"frameId\",\n",
    "    uniform_number=\"jerseyNumber\",\n",
    "    home_away_identifier=lambda data: data[\"team\"] == \"home\",\n",
    "    hover_text=lambda data: data[\"displayName\"].str.cat(data[\"position\"], sep=\" \"),\n",
    "    ball_identifier=lambda data: (data[\"displayName\"] == \"Football\").values,\n",
    "    slider_label_generator=utilities.generate_time_elapsed_labels(interesting_play[\"time\"].min(), \"time\"),\n",
    "    team_abbreviations=\"team_abbreviation\",\n",
    "    events_of_interest=\"event\"\n",
    ")\n",
    "fig.show()"
   ]
  },
  {
   "cell_type": "code",
   "execution_count": 249,
   "id": "meaning-reminder",
   "metadata": {},
   "outputs": [],
   "source": [
    "# post_script = \"\"\"\n",
    "# console.log(\"{plot_id}\");\n",
    "# var plot_div = document.getElementById(\"{plot_id}\");\n",
    "# var main_svg = plot_div.querySelector(\".main-svg\");\n",
    "# main_svg.className += \"wooooo\";\n",
    "# \"\"\"\n",
    "fig.write_html(\"test.html\", auto_play=False, include_plotlyjs=\"cdn\", full_html=False, config={'displayModeBar': False})"
   ]
  },
  {
   "cell_type": "code",
   "execution_count": 182,
   "id": "suspended-action",
   "metadata": {},
   "outputs": [
    {
     "data": {
      "text/plain": [
       "['__class__',\n",
       " '__contains__',\n",
       " '__delattr__',\n",
       " '__dict__',\n",
       " '__dir__',\n",
       " '__doc__',\n",
       " '__eq__',\n",
       " '__format__',\n",
       " '__ge__',\n",
       " '__getattribute__',\n",
       " '__getitem__',\n",
       " '__gt__',\n",
       " '__hash__',\n",
       " '__init__',\n",
       " '__init_subclass__',\n",
       " '__iter__',\n",
       " '__le__',\n",
       " '__lt__',\n",
       " '__module__',\n",
       " '__ne__',\n",
       " '__new__',\n",
       " '__reduce__',\n",
       " '__reduce_ex__',\n",
       " '__repr__',\n",
       " '__setattr__',\n",
       " '__setitem__',\n",
       " '__sizeof__',\n",
       " '__str__',\n",
       " '__subclasshook__',\n",
       " '__weakref__',\n",
       " '_add_annotation_like',\n",
       " '_allow_disable_validation',\n",
       " '_animation_duration_validator',\n",
       " '_animation_easing_validator',\n",
       " '_batch_layout_edits',\n",
       " '_batch_trace_edits',\n",
       " '_bracket_re',\n",
       " '_build_dispatch_plan',\n",
       " '_build_update_params_from_batch',\n",
       " '_config',\n",
       " '_data',\n",
       " '_data_defaults',\n",
       " '_data_objs',\n",
       " '_data_validator',\n",
       " '_dispatch_layout_change_callbacks',\n",
       " '_dispatch_trace_change_callbacks',\n",
       " '_filter_by_selector',\n",
       " '_frame_objs',\n",
       " '_frames_validator',\n",
       " '_get_child_prop_defaults',\n",
       " '_get_child_props',\n",
       " '_get_subplot_coordinates',\n",
       " '_get_subplot_rows_columns',\n",
       " '_grid_ref',\n",
       " '_grid_str',\n",
       " '_has_subplots',\n",
       " '_in_batch_mode',\n",
       " '_index_is',\n",
       " '_init_child_props',\n",
       " '_initialize_layout_template',\n",
       " '_ipython_display_',\n",
       " '_is_dict_list',\n",
       " '_is_key_path_compatible',\n",
       " '_layout',\n",
       " '_layout_defaults',\n",
       " '_layout_obj',\n",
       " '_layout_validator',\n",
       " '_make_axis_spanning_layout_object',\n",
       " '_normalize_trace_indexes',\n",
       " '_perform_batch_animate',\n",
       " '_perform_plotly_relayout',\n",
       " '_perform_plotly_restyle',\n",
       " '_perform_plotly_update',\n",
       " '_perform_select_traces',\n",
       " '_perform_update',\n",
       " '_process_multiple_axis_spanning_shapes',\n",
       " '_raise_invalid_rows_cols',\n",
       " '_relayout_child',\n",
       " '_repr_html_',\n",
       " '_repr_mimebundle_',\n",
       " '_restyle_child',\n",
       " '_select_annotations_like',\n",
       " '_select_layout_subplots_by_prefix',\n",
       " '_select_subplot_coordinates',\n",
       " '_selector_matches',\n",
       " '_send_addTraces_msg',\n",
       " '_send_animate_msg',\n",
       " '_send_deleteTraces_msg',\n",
       " '_send_moveTraces_msg',\n",
       " '_send_relayout_msg',\n",
       " '_send_restyle_msg',\n",
       " '_send_update_msg',\n",
       " '_set_in',\n",
       " '_set_trace_grid_position',\n",
       " '_set_trace_uid',\n",
       " '_str_to_dict_path',\n",
       " '_subplot_not_empty',\n",
       " '_to_ordered_dict',\n",
       " '_valid_underscore_properties',\n",
       " '_validate',\n",
       " '_validate_get_grid_ref',\n",
       " '_validate_rows_cols',\n",
       " 'add_annotation',\n",
       " 'add_area',\n",
       " 'add_bar',\n",
       " 'add_barpolar',\n",
       " 'add_box',\n",
       " 'add_candlestick',\n",
       " 'add_carpet',\n",
       " 'add_choropleth',\n",
       " 'add_choroplethmapbox',\n",
       " 'add_cone',\n",
       " 'add_contour',\n",
       " 'add_contourcarpet',\n",
       " 'add_densitymapbox',\n",
       " 'add_funnel',\n",
       " 'add_funnelarea',\n",
       " 'add_heatmap',\n",
       " 'add_heatmapgl',\n",
       " 'add_histogram',\n",
       " 'add_histogram2d',\n",
       " 'add_histogram2dcontour',\n",
       " 'add_hline',\n",
       " 'add_hrect',\n",
       " 'add_image',\n",
       " 'add_indicator',\n",
       " 'add_isosurface',\n",
       " 'add_layout_image',\n",
       " 'add_mesh3d',\n",
       " 'add_ohlc',\n",
       " 'add_parcats',\n",
       " 'add_parcoords',\n",
       " 'add_pie',\n",
       " 'add_pointcloud',\n",
       " 'add_sankey',\n",
       " 'add_scatter',\n",
       " 'add_scatter3d',\n",
       " 'add_scattercarpet',\n",
       " 'add_scattergeo',\n",
       " 'add_scattergl',\n",
       " 'add_scattermapbox',\n",
       " 'add_scatterpolar',\n",
       " 'add_scatterpolargl',\n",
       " 'add_scatterternary',\n",
       " 'add_shape',\n",
       " 'add_splom',\n",
       " 'add_streamtube',\n",
       " 'add_sunburst',\n",
       " 'add_surface',\n",
       " 'add_table',\n",
       " 'add_trace',\n",
       " 'add_traces',\n",
       " 'add_treemap',\n",
       " 'add_violin',\n",
       " 'add_vline',\n",
       " 'add_volume',\n",
       " 'add_vrect',\n",
       " 'add_waterfall',\n",
       " 'append_trace',\n",
       " 'batch_animate',\n",
       " 'batch_update',\n",
       " 'data',\n",
       " 'for_each_annotation',\n",
       " 'for_each_coloraxis',\n",
       " 'for_each_geo',\n",
       " 'for_each_layout_image',\n",
       " 'for_each_mapbox',\n",
       " 'for_each_polar',\n",
       " 'for_each_scene',\n",
       " 'for_each_shape',\n",
       " 'for_each_ternary',\n",
       " 'for_each_trace',\n",
       " 'for_each_xaxis',\n",
       " 'for_each_yaxis',\n",
       " 'frames',\n",
       " 'full_figure_for_development',\n",
       " 'get_subplot',\n",
       " 'layout',\n",
       " 'plotly_relayout',\n",
       " 'plotly_restyle',\n",
       " 'plotly_update',\n",
       " 'pop',\n",
       " 'print_grid',\n",
       " 'select_annotations',\n",
       " 'select_coloraxes',\n",
       " 'select_geos',\n",
       " 'select_layout_images',\n",
       " 'select_mapboxes',\n",
       " 'select_polars',\n",
       " 'select_scenes',\n",
       " 'select_shapes',\n",
       " 'select_ternaries',\n",
       " 'select_traces',\n",
       " 'select_xaxes',\n",
       " 'select_yaxes',\n",
       " 'set_subplots',\n",
       " 'show',\n",
       " 'to_dict',\n",
       " 'to_html',\n",
       " 'to_image',\n",
       " 'to_json',\n",
       " 'to_ordered_dict',\n",
       " 'to_plotly_json',\n",
       " 'update',\n",
       " 'update_annotations',\n",
       " 'update_coloraxes',\n",
       " 'update_geos',\n",
       " 'update_layout',\n",
       " 'update_layout_images',\n",
       " 'update_mapboxes',\n",
       " 'update_polars',\n",
       " 'update_scenes',\n",
       " 'update_shapes',\n",
       " 'update_ternaries',\n",
       " 'update_traces',\n",
       " 'update_xaxes',\n",
       " 'update_yaxes',\n",
       " 'write_html',\n",
       " 'write_image',\n",
       " 'write_json']"
      ]
     },
     "execution_count": 182,
     "metadata": {},
     "output_type": "execute_result"
    }
   ],
   "source": [
    "dir(fig)"
   ]
  },
  {
   "cell_type": "code",
   "execution_count": null,
   "id": "powerful-sheriff",
   "metadata": {},
   "outputs": [],
   "source": []
  }
 ],
 "metadata": {
  "kernelspec": {
   "display_name": "Python 3",
   "language": "python",
   "name": "python3"
  },
  "language_info": {
   "codemirror_mode": {
    "name": "ipython",
    "version": 3
   },
   "file_extension": ".py",
   "mimetype": "text/x-python",
   "name": "python",
   "nbconvert_exporter": "python",
   "pygments_lexer": "ipython3",
   "version": "3.8.6"
  }
 },
 "nbformat": 4,
 "nbformat_minor": 5
}
