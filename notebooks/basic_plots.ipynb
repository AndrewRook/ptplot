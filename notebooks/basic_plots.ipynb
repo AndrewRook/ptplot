{
 "cells": [
  {
   "cell_type": "code",
   "execution_count": 1,
   "id": "still-eugene",
   "metadata": {},
   "outputs": [],
   "source": [
    "import dask.dataframe as dd\n",
    "import numpy as np\n",
    "import pandas as pd\n",
    "\n",
    "from ptplot import plotting\n",
    "\n",
    "%reload_ext autoreload\n",
    "%autoreload 2"
   ]
  },
  {
   "cell_type": "code",
   "execution_count": 2,
   "id": "loose-aging",
   "metadata": {},
   "outputs": [],
   "source": [
    "data_directory = \"../data/bigdatabowl_2021/\"\n",
    "play_descriptions = pd.read_csv(data_directory + \"plays.csv\")\n",
    "player_tracking_data = dd.read_csv(data_directory + \"week*.csv\", parse_dates=[\"time\"])"
   ]
  },
  {
   "cell_type": "markdown",
   "id": "attempted-heading",
   "metadata": {},
   "source": [
    "We'll pick a single play to look at, just for demonstration purposes. I've somewhat-randomly chosen a [long\n",
    "Aaron Rodgers-Randall Cobb touchdown pass from Week 1 of 2018](https://www.youtube.com/watch?v=I40ILjNdwZM&feature=emb_err_woyt)."
   ]
  },
  {
   "cell_type": "code",
   "execution_count": 3,
   "id": "behind-aircraft",
   "metadata": {},
   "outputs": [],
   "source": [
    "interesting_play = player_tracking_data[\n",
    "    (player_tracking_data[\"gameId\"] == 2018090912) &\n",
    "    (player_tracking_data[\"playId\"] == 3564)\n",
    "].compute()\n",
    "interesting_play[\"team_abbreviation\"] = np.where(interesting_play[\"team\"] == \"home\", \"GB\", \"CHI\")"
   ]
  },
  {
   "cell_type": "code",
   "execution_count": 4,
   "id": "exceptional-institution",
   "metadata": {},
   "outputs": [
    {
     "data": {
      "text/html": [
       "<div>\n",
       "<style scoped>\n",
       "    .dataframe tbody tr th:only-of-type {\n",
       "        vertical-align: middle;\n",
       "    }\n",
       "\n",
       "    .dataframe tbody tr th {\n",
       "        vertical-align: top;\n",
       "    }\n",
       "\n",
       "    .dataframe thead th {\n",
       "        text-align: right;\n",
       "    }\n",
       "</style>\n",
       "<table border=\"1\" class=\"dataframe\">\n",
       "  <thead>\n",
       "    <tr style=\"text-align: right;\">\n",
       "      <th></th>\n",
       "      <th>time</th>\n",
       "      <th>x</th>\n",
       "      <th>y</th>\n",
       "      <th>s</th>\n",
       "      <th>a</th>\n",
       "      <th>dis</th>\n",
       "      <th>o</th>\n",
       "      <th>dir</th>\n",
       "      <th>event</th>\n",
       "      <th>nflId</th>\n",
       "      <th>displayName</th>\n",
       "      <th>jerseyNumber</th>\n",
       "      <th>position</th>\n",
       "      <th>frameId</th>\n",
       "      <th>team</th>\n",
       "      <th>gameId</th>\n",
       "      <th>playId</th>\n",
       "      <th>playDirection</th>\n",
       "      <th>route</th>\n",
       "      <th>team_abbreviation</th>\n",
       "    </tr>\n",
       "  </thead>\n",
       "  <tbody>\n",
       "    <tr>\n",
       "      <th>315754</th>\n",
       "      <td>2018-09-10 03:11:31.599000+00:00</td>\n",
       "      <td>33.82</td>\n",
       "      <td>23.05</td>\n",
       "      <td>0.00</td>\n",
       "      <td>0.00</td>\n",
       "      <td>0.00</td>\n",
       "      <td>79.98</td>\n",
       "      <td>244.08</td>\n",
       "      <td>None</td>\n",
       "      <td>497236.0</td>\n",
       "      <td>Jimmy Graham</td>\n",
       "      <td>80.0</td>\n",
       "      <td>TE</td>\n",
       "      <td>1</td>\n",
       "      <td>home</td>\n",
       "      <td>2018090912</td>\n",
       "      <td>3564</td>\n",
       "      <td>right</td>\n",
       "      <td>CROSS</td>\n",
       "      <td>GB</td>\n",
       "    </tr>\n",
       "    <tr>\n",
       "      <th>315755</th>\n",
       "      <td>2018-09-10 03:11:31.599000+00:00</td>\n",
       "      <td>35.71</td>\n",
       "      <td>44.29</td>\n",
       "      <td>0.27</td>\n",
       "      <td>0.08</td>\n",
       "      <td>0.03</td>\n",
       "      <td>265.03</td>\n",
       "      <td>235.01</td>\n",
       "      <td>None</td>\n",
       "      <td>2495108.0</td>\n",
       "      <td>Prince Amukamara</td>\n",
       "      <td>20.0</td>\n",
       "      <td>CB</td>\n",
       "      <td>1</td>\n",
       "      <td>away</td>\n",
       "      <td>2018090912</td>\n",
       "      <td>3564</td>\n",
       "      <td>right</td>\n",
       "      <td>NaN</td>\n",
       "      <td>CHI</td>\n",
       "    </tr>\n",
       "    <tr>\n",
       "      <th>315756</th>\n",
       "      <td>2018-09-10 03:11:31.599000+00:00</td>\n",
       "      <td>32.78</td>\n",
       "      <td>19.21</td>\n",
       "      <td>0.00</td>\n",
       "      <td>0.00</td>\n",
       "      <td>0.00</td>\n",
       "      <td>49.33</td>\n",
       "      <td>182.31</td>\n",
       "      <td>None</td>\n",
       "      <td>2495448.0</td>\n",
       "      <td>Randall Cobb</td>\n",
       "      <td>18.0</td>\n",
       "      <td>WR</td>\n",
       "      <td>1</td>\n",
       "      <td>home</td>\n",
       "      <td>2018090912</td>\n",
       "      <td>3564</td>\n",
       "      <td>right</td>\n",
       "      <td>IN</td>\n",
       "      <td>GB</td>\n",
       "    </tr>\n",
       "    <tr>\n",
       "      <th>315757</th>\n",
       "      <td>2018-09-10 03:11:31.599000+00:00</td>\n",
       "      <td>29.66</td>\n",
       "      <td>29.79</td>\n",
       "      <td>0.00</td>\n",
       "      <td>0.00</td>\n",
       "      <td>0.00</td>\n",
       "      <td>104.44</td>\n",
       "      <td>92.47</td>\n",
       "      <td>None</td>\n",
       "      <td>2506363.0</td>\n",
       "      <td>Aaron Rodgers</td>\n",
       "      <td>12.0</td>\n",
       "      <td>QB</td>\n",
       "      <td>1</td>\n",
       "      <td>home</td>\n",
       "      <td>2018090912</td>\n",
       "      <td>3564</td>\n",
       "      <td>right</td>\n",
       "      <td>NaN</td>\n",
       "      <td>GB</td>\n",
       "    </tr>\n",
       "    <tr>\n",
       "      <th>315758</th>\n",
       "      <td>2018-09-10 03:11:31.599000+00:00</td>\n",
       "      <td>36.88</td>\n",
       "      <td>32.58</td>\n",
       "      <td>2.20</td>\n",
       "      <td>0.78</td>\n",
       "      <td>0.22</td>\n",
       "      <td>223.23</td>\n",
       "      <td>274.52</td>\n",
       "      <td>None</td>\n",
       "      <td>2532961.0</td>\n",
       "      <td>Danny Trevathan</td>\n",
       "      <td>59.0</td>\n",
       "      <td>ILB</td>\n",
       "      <td>1</td>\n",
       "      <td>away</td>\n",
       "      <td>2018090912</td>\n",
       "      <td>3564</td>\n",
       "      <td>right</td>\n",
       "      <td>NaN</td>\n",
       "      <td>CHI</td>\n",
       "    </tr>\n",
       "    <tr>\n",
       "      <th>315759</th>\n",
       "      <td>2018-09-10 03:11:31.599000+00:00</td>\n",
       "      <td>37.31</td>\n",
       "      <td>23.49</td>\n",
       "      <td>0.06</td>\n",
       "      <td>0.06</td>\n",
       "      <td>0.00</td>\n",
       "      <td>248.67</td>\n",
       "      <td>93.83</td>\n",
       "      <td>None</td>\n",
       "      <td>2541202.0</td>\n",
       "      <td>Marcus Cooper</td>\n",
       "      <td>31.0</td>\n",
       "      <td>CB</td>\n",
       "      <td>1</td>\n",
       "      <td>away</td>\n",
       "      <td>2018090912</td>\n",
       "      <td>3564</td>\n",
       "      <td>right</td>\n",
       "      <td>NaN</td>\n",
       "      <td>CHI</td>\n",
       "    </tr>\n",
       "    <tr>\n",
       "      <th>315760</th>\n",
       "      <td>2018-09-10 03:11:31.599000+00:00</td>\n",
       "      <td>33.44</td>\n",
       "      <td>44.85</td>\n",
       "      <td>0.00</td>\n",
       "      <td>0.00</td>\n",
       "      <td>0.00</td>\n",
       "      <td>81.35</td>\n",
       "      <td>277.28</td>\n",
       "      <td>None</td>\n",
       "      <td>2543495.0</td>\n",
       "      <td>Davante Adams</td>\n",
       "      <td>17.0</td>\n",
       "      <td>WR</td>\n",
       "      <td>1</td>\n",
       "      <td>home</td>\n",
       "      <td>2018090912</td>\n",
       "      <td>3564</td>\n",
       "      <td>right</td>\n",
       "      <td>HITCH</td>\n",
       "      <td>GB</td>\n",
       "    </tr>\n",
       "    <tr>\n",
       "      <th>315761</th>\n",
       "      <td>2018-09-10 03:11:31.599000+00:00</td>\n",
       "      <td>35.87</td>\n",
       "      <td>10.03</td>\n",
       "      <td>0.13</td>\n",
       "      <td>0.25</td>\n",
       "      <td>0.01</td>\n",
       "      <td>332.94</td>\n",
       "      <td>81.69</td>\n",
       "      <td>None</td>\n",
       "      <td>2543681.0</td>\n",
       "      <td>Kyle Fuller</td>\n",
       "      <td>23.0</td>\n",
       "      <td>CB</td>\n",
       "      <td>1</td>\n",
       "      <td>away</td>\n",
       "      <td>2018090912</td>\n",
       "      <td>3564</td>\n",
       "      <td>right</td>\n",
       "      <td>NaN</td>\n",
       "      <td>CHI</td>\n",
       "    </tr>\n",
       "    <tr>\n",
       "      <th>315762</th>\n",
       "      <td>2018-09-10 03:11:31.599000+00:00</td>\n",
       "      <td>43.53</td>\n",
       "      <td>35.92</td>\n",
       "      <td>0.55</td>\n",
       "      <td>0.40</td>\n",
       "      <td>0.04</td>\n",
       "      <td>264.75</td>\n",
       "      <td>329.65</td>\n",
       "      <td>None</td>\n",
       "      <td>2552385.0</td>\n",
       "      <td>Adrian Amos</td>\n",
       "      <td>38.0</td>\n",
       "      <td>FS</td>\n",
       "      <td>1</td>\n",
       "      <td>away</td>\n",
       "      <td>2018090912</td>\n",
       "      <td>3564</td>\n",
       "      <td>right</td>\n",
       "      <td>NaN</td>\n",
       "      <td>CHI</td>\n",
       "    </tr>\n",
       "    <tr>\n",
       "      <th>315763</th>\n",
       "      <td>2018-09-10 03:11:31.599000+00:00</td>\n",
       "      <td>30.04</td>\n",
       "      <td>32.53</td>\n",
       "      <td>0.00</td>\n",
       "      <td>0.00</td>\n",
       "      <td>0.01</td>\n",
       "      <td>90.39</td>\n",
       "      <td>65.99</td>\n",
       "      <td>None</td>\n",
       "      <td>2552429.0</td>\n",
       "      <td>Ty Montgomery</td>\n",
       "      <td>88.0</td>\n",
       "      <td>RB</td>\n",
       "      <td>1</td>\n",
       "      <td>home</td>\n",
       "      <td>2018090912</td>\n",
       "      <td>3564</td>\n",
       "      <td>right</td>\n",
       "      <td>FLAT</td>\n",
       "      <td>GB</td>\n",
       "    </tr>\n",
       "    <tr>\n",
       "      <th>315764</th>\n",
       "      <td>2018-09-10 03:11:31.599000+00:00</td>\n",
       "      <td>38.49</td>\n",
       "      <td>18.54</td>\n",
       "      <td>0.39</td>\n",
       "      <td>0.90</td>\n",
       "      <td>0.03</td>\n",
       "      <td>318.09</td>\n",
       "      <td>133.60</td>\n",
       "      <td>None</td>\n",
       "      <td>2553500.0</td>\n",
       "      <td>Bryce Callahan</td>\n",
       "      <td>37.0</td>\n",
       "      <td>CB</td>\n",
       "      <td>1</td>\n",
       "      <td>away</td>\n",
       "      <td>2018090912</td>\n",
       "      <td>3564</td>\n",
       "      <td>right</td>\n",
       "      <td>NaN</td>\n",
       "      <td>CHI</td>\n",
       "    </tr>\n",
       "    <tr>\n",
       "      <th>315765</th>\n",
       "      <td>2018-09-10 03:11:31.599000+00:00</td>\n",
       "      <td>35.62</td>\n",
       "      <td>27.20</td>\n",
       "      <td>0.02</td>\n",
       "      <td>0.02</td>\n",
       "      <td>0.00</td>\n",
       "      <td>283.45</td>\n",
       "      <td>334.27</td>\n",
       "      <td>None</td>\n",
       "      <td>2555285.0</td>\n",
       "      <td>Leonard Floyd</td>\n",
       "      <td>94.0</td>\n",
       "      <td>OLB</td>\n",
       "      <td>1</td>\n",
       "      <td>away</td>\n",
       "      <td>2018090912</td>\n",
       "      <td>3564</td>\n",
       "      <td>right</td>\n",
       "      <td>NaN</td>\n",
       "      <td>CHI</td>\n",
       "    </tr>\n",
       "    <tr>\n",
       "      <th>315766</th>\n",
       "      <td>2018-09-10 03:11:31.599000+00:00</td>\n",
       "      <td>32.77</td>\n",
       "      <td>10.37</td>\n",
       "      <td>0.00</td>\n",
       "      <td>0.00</td>\n",
       "      <td>0.00</td>\n",
       "      <td>101.70</td>\n",
       "      <td>20.85</td>\n",
       "      <td>None</td>\n",
       "      <td>2556460.0</td>\n",
       "      <td>Geronimo Allison</td>\n",
       "      <td>81.0</td>\n",
       "      <td>WR</td>\n",
       "      <td>1</td>\n",
       "      <td>home</td>\n",
       "      <td>2018090912</td>\n",
       "      <td>3564</td>\n",
       "      <td>right</td>\n",
       "      <td>IN</td>\n",
       "      <td>GB</td>\n",
       "    </tr>\n",
       "    <tr>\n",
       "      <th>315767</th>\n",
       "      <td>2018-09-10 03:11:31.599000+00:00</td>\n",
       "      <td>46.76</td>\n",
       "      <td>21.15</td>\n",
       "      <td>0.51</td>\n",
       "      <td>0.31</td>\n",
       "      <td>0.05</td>\n",
       "      <td>255.16</td>\n",
       "      <td>213.38</td>\n",
       "      <td>None</td>\n",
       "      <td>2558176.0</td>\n",
       "      <td>Eddie Jackson</td>\n",
       "      <td>39.0</td>\n",
       "      <td>FS</td>\n",
       "      <td>1</td>\n",
       "      <td>away</td>\n",
       "      <td>2018090912</td>\n",
       "      <td>3564</td>\n",
       "      <td>right</td>\n",
       "      <td>NaN</td>\n",
       "      <td>CHI</td>\n",
       "    </tr>\n",
       "    <tr>\n",
       "      <th>315768</th>\n",
       "      <td>2018-09-10 03:11:31.599000+00:00</td>\n",
       "      <td>34.69</td>\n",
       "      <td>29.77</td>\n",
       "      <td>0.00</td>\n",
       "      <td>0.00</td>\n",
       "      <td>0.00</td>\n",
       "      <td>NaN</td>\n",
       "      <td>NaN</td>\n",
       "      <td>None</td>\n",
       "      <td>NaN</td>\n",
       "      <td>Football</td>\n",
       "      <td>NaN</td>\n",
       "      <td>NaN</td>\n",
       "      <td>1</td>\n",
       "      <td>football</td>\n",
       "      <td>2018090912</td>\n",
       "      <td>3564</td>\n",
       "      <td>right</td>\n",
       "      <td>NaN</td>\n",
       "      <td>NaN</td>\n",
       "    </tr>\n",
       "  </tbody>\n",
       "</table>\n",
       "</div>"
      ],
      "text/plain": [
       "                                   time      x      y     s     a   dis  \\\n",
       "315754 2018-09-10 03:11:31.599000+00:00  33.82  23.05  0.00  0.00  0.00   \n",
       "315755 2018-09-10 03:11:31.599000+00:00  35.71  44.29  0.27  0.08  0.03   \n",
       "315756 2018-09-10 03:11:31.599000+00:00  32.78  19.21  0.00  0.00  0.00   \n",
       "315757 2018-09-10 03:11:31.599000+00:00  29.66  29.79  0.00  0.00  0.00   \n",
       "315758 2018-09-10 03:11:31.599000+00:00  36.88  32.58  2.20  0.78  0.22   \n",
       "315759 2018-09-10 03:11:31.599000+00:00  37.31  23.49  0.06  0.06  0.00   \n",
       "315760 2018-09-10 03:11:31.599000+00:00  33.44  44.85  0.00  0.00  0.00   \n",
       "315761 2018-09-10 03:11:31.599000+00:00  35.87  10.03  0.13  0.25  0.01   \n",
       "315762 2018-09-10 03:11:31.599000+00:00  43.53  35.92  0.55  0.40  0.04   \n",
       "315763 2018-09-10 03:11:31.599000+00:00  30.04  32.53  0.00  0.00  0.01   \n",
       "315764 2018-09-10 03:11:31.599000+00:00  38.49  18.54  0.39  0.90  0.03   \n",
       "315765 2018-09-10 03:11:31.599000+00:00  35.62  27.20  0.02  0.02  0.00   \n",
       "315766 2018-09-10 03:11:31.599000+00:00  32.77  10.37  0.00  0.00  0.00   \n",
       "315767 2018-09-10 03:11:31.599000+00:00  46.76  21.15  0.51  0.31  0.05   \n",
       "315768 2018-09-10 03:11:31.599000+00:00  34.69  29.77  0.00  0.00  0.00   \n",
       "\n",
       "             o     dir event      nflId       displayName  jerseyNumber  \\\n",
       "315754   79.98  244.08  None   497236.0      Jimmy Graham          80.0   \n",
       "315755  265.03  235.01  None  2495108.0  Prince Amukamara          20.0   \n",
       "315756   49.33  182.31  None  2495448.0      Randall Cobb          18.0   \n",
       "315757  104.44   92.47  None  2506363.0     Aaron Rodgers          12.0   \n",
       "315758  223.23  274.52  None  2532961.0   Danny Trevathan          59.0   \n",
       "315759  248.67   93.83  None  2541202.0     Marcus Cooper          31.0   \n",
       "315760   81.35  277.28  None  2543495.0     Davante Adams          17.0   \n",
       "315761  332.94   81.69  None  2543681.0       Kyle Fuller          23.0   \n",
       "315762  264.75  329.65  None  2552385.0       Adrian Amos          38.0   \n",
       "315763   90.39   65.99  None  2552429.0     Ty Montgomery          88.0   \n",
       "315764  318.09  133.60  None  2553500.0    Bryce Callahan          37.0   \n",
       "315765  283.45  334.27  None  2555285.0     Leonard Floyd          94.0   \n",
       "315766  101.70   20.85  None  2556460.0  Geronimo Allison          81.0   \n",
       "315767  255.16  213.38  None  2558176.0     Eddie Jackson          39.0   \n",
       "315768     NaN     NaN  None        NaN          Football           NaN   \n",
       "\n",
       "       position  frameId      team      gameId  playId playDirection  route  \\\n",
       "315754       TE        1      home  2018090912    3564         right  CROSS   \n",
       "315755       CB        1      away  2018090912    3564         right    NaN   \n",
       "315756       WR        1      home  2018090912    3564         right     IN   \n",
       "315757       QB        1      home  2018090912    3564         right    NaN   \n",
       "315758      ILB        1      away  2018090912    3564         right    NaN   \n",
       "315759       CB        1      away  2018090912    3564         right    NaN   \n",
       "315760       WR        1      home  2018090912    3564         right  HITCH   \n",
       "315761       CB        1      away  2018090912    3564         right    NaN   \n",
       "315762       FS        1      away  2018090912    3564         right    NaN   \n",
       "315763       RB        1      home  2018090912    3564         right   FLAT   \n",
       "315764       CB        1      away  2018090912    3564         right    NaN   \n",
       "315765      OLB        1      away  2018090912    3564         right    NaN   \n",
       "315766       WR        1      home  2018090912    3564         right     IN   \n",
       "315767       FS        1      away  2018090912    3564         right    NaN   \n",
       "315768      NaN        1  football  2018090912    3564         right    NaN   \n",
       "\n",
       "       team_abbreviation  \n",
       "315754                GB  \n",
       "315755               CHI  \n",
       "315756                GB  \n",
       "315757                GB  \n",
       "315758               CHI  \n",
       "315759               CHI  \n",
       "315760                GB  \n",
       "315761               CHI  \n",
       "315762               CHI  \n",
       "315763                GB  \n",
       "315764               CHI  \n",
       "315765               CHI  \n",
       "315766                GB  \n",
       "315767               CHI  \n",
       "315768               NaN  "
      ]
     },
     "execution_count": 4,
     "metadata": {},
     "output_type": "execute_result"
    }
   ],
   "source": [
    "interesting_play.loc[interesting_play[\"displayName\"] == \"Football\", \"team_abbreviation\"] = np.nan\n",
    "\n",
    "interesting_play.head(15)"
   ]
  },
  {
   "cell_type": "code",
   "execution_count": 9,
   "id": "painful-arthur",
   "metadata": {},
   "outputs": [
    {
     "data": {
      "application/vnd.plotly.v1+json": {
       "config": {
        "plotlyServerURL": "https://plot.ly"
       },
       "data": [
        {
         "hovertext": [
          "Jimmy Graham TE",
          "Prince Amukamara CB",
          "Randall Cobb WR",
          "Aaron Rodgers QB",
          "Danny Trevathan ILB",
          "Marcus Cooper CB",
          "Davante Adams WR",
          "Kyle Fuller CB",
          "Adrian Amos FS",
          "Ty Montgomery RB",
          "Bryce Callahan CB",
          "Leonard Floyd OLB",
          "Geronimo Allison WR",
          "Eddie Jackson FS",
          null
         ],
         "marker": {
          "color": [
           "rgb(238, 173, 30)",
           "white",
           "rgb(238, 173, 30)",
           "rgb(238, 173, 30)",
           "white",
           "white",
           "rgb(238, 173, 30)",
           "white",
           "white",
           "rgb(238, 173, 30)",
           "white",
           "white",
           "rgb(238, 173, 30)",
           "white",
           "brown"
          ],
          "line": {
           "color": [
            "rgb(28, 45, 37)",
            "rgb(200, 56, 3)",
            "rgb(28, 45, 37)",
            "rgb(28, 45, 37)",
            "rgb(200, 56, 3)",
            "rgb(200, 56, 3)",
            "rgb(28, 45, 37)",
            "rgb(200, 56, 3)",
            "rgb(200, 56, 3)",
            "rgb(28, 45, 37)",
            "rgb(200, 56, 3)",
            "rgb(200, 56, 3)",
            "rgb(28, 45, 37)",
            "rgb(200, 56, 3)",
            "black"
           ],
           "width": [
            2,
            2,
            2,
            2,
            2,
            2,
            2,
            2,
            2,
            2,
            2,
            2,
            2,
            2,
            1
           ]
          },
          "opacity": 1,
          "size": [
           16,
           16,
           16,
           16,
           16,
           16,
           16,
           16,
           16,
           16,
           16,
           16,
           16,
           16,
           12
          ],
          "symbol": [
           "circle",
           "circle",
           "circle",
           "circle",
           "circle",
           "circle",
           "circle",
           "circle",
           "circle",
           "circle",
           "circle",
           "circle",
           "circle",
           "circle",
           "diamond-wide"
          ]
         },
         "mode": "markers+text",
         "text": [
          80,
          20,
          18,
          12,
          59,
          31,
          17,
          23,
          38,
          88,
          37,
          94,
          81,
          39,
          null
         ],
         "textfont": {
          "color": [
           "white",
           "rgb(11, 22, 42)",
           "white",
           "white",
           "rgb(11, 22, 42)",
           "rgb(11, 22, 42)",
           "white",
           "rgb(11, 22, 42)",
           "rgb(11, 22, 42)",
           "white",
           "rgb(11, 22, 42)",
           "rgb(11, 22, 42)",
           "white",
           "rgb(11, 22, 42)",
           "white"
          ],
          "family": [
           "Gravitas One"
          ],
          "size": 9
         },
         "type": "scatter",
         "x": [
          33.81,
          35.53,
          32.8,
          29.69,
          35.59,
          37.29,
          33.46,
          36.06,
          43.55,
          30.03,
          38.55,
          35.6,
          32.79,
          46.54,
          34.69
         ],
         "y": [
          23.07,
          44.24,
          19.2,
          29.78,
          32.53,
          23.5,
          44.86,
          9.92,
          36.08,
          32.53,
          18.36,
          27.18,
          10.35,
          21.02,
          29.77
         ]
        }
       ],
       "layout": {
        "plot_bgcolor": "rgb(62, 126, 0)",
        "shapes": [
         {
          "layer": "below",
          "line": {
           "color": "white",
           "width": 5
          },
          "type": "line",
          "x0": 0,
          "x1": 120,
          "y0": 0,
          "y1": 0
         },
         {
          "layer": "below",
          "line": {
           "color": "white",
           "width": 5
          },
          "type": "line",
          "x0": 0,
          "x1": 120,
          "y0": 53.3,
          "y1": 53.3
         },
         {
          "layer": "below",
          "line": {
           "color": "white",
           "width": 5
          },
          "type": "line",
          "x0": 0,
          "x1": 0,
          "y0": 0,
          "y1": 53.3
         },
         {
          "layer": "below",
          "line": {
           "color": "white",
           "width": 5
          },
          "type": "line",
          "x0": 120,
          "x1": 120,
          "y0": 0,
          "y1": 53.3
         },
         {
          "layer": "below",
          "line": {
           "color": "white",
           "width": 2
          },
          "type": "line",
          "x0": 10,
          "x1": 10,
          "y0": 0,
          "y1": 53.3
         },
         {
          "layer": "below",
          "line": {
           "color": "white",
           "width": 2
          },
          "type": "line",
          "x0": 15,
          "x1": 15,
          "y0": 0,
          "y1": 53.3
         },
         {
          "layer": "below",
          "line": {
           "color": "white",
           "width": 2
          },
          "type": "line",
          "x0": 20,
          "x1": 20,
          "y0": 0,
          "y1": 53.3
         },
         {
          "layer": "below",
          "line": {
           "color": "white",
           "width": 2
          },
          "type": "line",
          "x0": 25,
          "x1": 25,
          "y0": 0,
          "y1": 53.3
         },
         {
          "layer": "below",
          "line": {
           "color": "white",
           "width": 2
          },
          "type": "line",
          "x0": 30,
          "x1": 30,
          "y0": 0,
          "y1": 53.3
         },
         {
          "layer": "below",
          "line": {
           "color": "white",
           "width": 2
          },
          "type": "line",
          "x0": 35,
          "x1": 35,
          "y0": 0,
          "y1": 53.3
         },
         {
          "layer": "below",
          "line": {
           "color": "white",
           "width": 2
          },
          "type": "line",
          "x0": 40,
          "x1": 40,
          "y0": 0,
          "y1": 53.3
         },
         {
          "layer": "below",
          "line": {
           "color": "white",
           "width": 2
          },
          "type": "line",
          "x0": 45,
          "x1": 45,
          "y0": 0,
          "y1": 53.3
         },
         {
          "layer": "below",
          "line": {
           "color": "white",
           "width": 2
          },
          "type": "line",
          "x0": 50,
          "x1": 50,
          "y0": 0,
          "y1": 53.3
         },
         {
          "layer": "below",
          "line": {
           "color": "white",
           "width": 2
          },
          "type": "line",
          "x0": 55,
          "x1": 55,
          "y0": 0,
          "y1": 53.3
         },
         {
          "layer": "below",
          "line": {
           "color": "white",
           "width": 2
          },
          "type": "line",
          "x0": 60,
          "x1": 60,
          "y0": 0,
          "y1": 53.3
         },
         {
          "layer": "below",
          "line": {
           "color": "white",
           "width": 2
          },
          "type": "line",
          "x0": 65,
          "x1": 65,
          "y0": 0,
          "y1": 53.3
         },
         {
          "layer": "below",
          "line": {
           "color": "white",
           "width": 2
          },
          "type": "line",
          "x0": 70,
          "x1": 70,
          "y0": 0,
          "y1": 53.3
         },
         {
          "layer": "below",
          "line": {
           "color": "white",
           "width": 2
          },
          "type": "line",
          "x0": 75,
          "x1": 75,
          "y0": 0,
          "y1": 53.3
         },
         {
          "layer": "below",
          "line": {
           "color": "white",
           "width": 2
          },
          "type": "line",
          "x0": 80,
          "x1": 80,
          "y0": 0,
          "y1": 53.3
         },
         {
          "layer": "below",
          "line": {
           "color": "white",
           "width": 2
          },
          "type": "line",
          "x0": 85,
          "x1": 85,
          "y0": 0,
          "y1": 53.3
         },
         {
          "layer": "below",
          "line": {
           "color": "white",
           "width": 2
          },
          "type": "line",
          "x0": 90,
          "x1": 90,
          "y0": 0,
          "y1": 53.3
         },
         {
          "layer": "below",
          "line": {
           "color": "white",
           "width": 2
          },
          "type": "line",
          "x0": 95,
          "x1": 95,
          "y0": 0,
          "y1": 53.3
         },
         {
          "layer": "below",
          "line": {
           "color": "white",
           "width": 2
          },
          "type": "line",
          "x0": 100,
          "x1": 100,
          "y0": 0,
          "y1": 53.3
         },
         {
          "layer": "below",
          "line": {
           "color": "white",
           "width": 2
          },
          "type": "line",
          "x0": 105,
          "x1": 105,
          "y0": 0,
          "y1": 53.3
         },
         {
          "layer": "below",
          "line": {
           "color": "white",
           "width": 2
          },
          "type": "line",
          "x0": 110,
          "x1": 110,
          "y0": 0,
          "y1": 53.3
         },
         {
          "layer": "below",
          "line": {
           "color": "white",
           "width": 2
          },
          "type": "line",
          "x0": 11,
          "x1": 11,
          "y0": 1,
          "y1": 1.6666666666666665
         },
         {
          "layer": "below",
          "line": {
           "color": "white",
           "width": 2
          },
          "type": "line",
          "x0": 11,
          "x1": 11,
          "y0": 23.58333,
          "y1": 24.249996666666668
         },
         {
          "layer": "below",
          "line": {
           "color": "white",
           "width": 2
          },
          "type": "line",
          "x0": 11,
          "x1": 11,
          "y0": 29.08333,
          "y1": 29.749996666666668
         },
         {
          "layer": "below",
          "line": {
           "color": "white",
           "width": 2
          },
          "type": "line",
          "x0": 11,
          "x1": 11,
          "y0": 51.63333333333333,
          "y1": 52.3
         },
         {
          "layer": "below",
          "line": {
           "color": "white",
           "width": 2
          },
          "type": "line",
          "x0": 12,
          "x1": 12,
          "y0": 1,
          "y1": 1.6666666666666665
         },
         {
          "layer": "below",
          "line": {
           "color": "white",
           "width": 2
          },
          "type": "line",
          "x0": 12,
          "x1": 12,
          "y0": 23.58333,
          "y1": 24.249996666666668
         },
         {
          "layer": "below",
          "line": {
           "color": "white",
           "width": 2
          },
          "type": "line",
          "x0": 12,
          "x1": 12,
          "y0": 29.08333,
          "y1": 29.749996666666668
         },
         {
          "layer": "below",
          "line": {
           "color": "white",
           "width": 2
          },
          "type": "line",
          "x0": 12,
          "x1": 12,
          "y0": 51.63333333333333,
          "y1": 52.3
         },
         {
          "layer": "below",
          "line": {
           "color": "white",
           "width": 2
          },
          "type": "line",
          "x0": 13,
          "x1": 13,
          "y0": 1,
          "y1": 1.6666666666666665
         },
         {
          "layer": "below",
          "line": {
           "color": "white",
           "width": 2
          },
          "type": "line",
          "x0": 13,
          "x1": 13,
          "y0": 23.58333,
          "y1": 24.249996666666668
         },
         {
          "layer": "below",
          "line": {
           "color": "white",
           "width": 2
          },
          "type": "line",
          "x0": 13,
          "x1": 13,
          "y0": 29.08333,
          "y1": 29.749996666666668
         },
         {
          "layer": "below",
          "line": {
           "color": "white",
           "width": 2
          },
          "type": "line",
          "x0": 13,
          "x1": 13,
          "y0": 51.63333333333333,
          "y1": 52.3
         },
         {
          "layer": "below",
          "line": {
           "color": "white",
           "width": 2
          },
          "type": "line",
          "x0": 14,
          "x1": 14,
          "y0": 1,
          "y1": 1.6666666666666665
         },
         {
          "layer": "below",
          "line": {
           "color": "white",
           "width": 2
          },
          "type": "line",
          "x0": 14,
          "x1": 14,
          "y0": 23.58333,
          "y1": 24.249996666666668
         },
         {
          "layer": "below",
          "line": {
           "color": "white",
           "width": 2
          },
          "type": "line",
          "x0": 14,
          "x1": 14,
          "y0": 29.08333,
          "y1": 29.749996666666668
         },
         {
          "layer": "below",
          "line": {
           "color": "white",
           "width": 2
          },
          "type": "line",
          "x0": 14,
          "x1": 14,
          "y0": 51.63333333333333,
          "y1": 52.3
         },
         {
          "layer": "below",
          "line": {
           "color": "white",
           "width": 2
          },
          "type": "line",
          "x0": 15,
          "x1": 15,
          "y0": 1,
          "y1": 1.6666666666666665
         },
         {
          "layer": "below",
          "line": {
           "color": "white",
           "width": 2
          },
          "type": "line",
          "x0": 15,
          "x1": 15,
          "y0": 23.58333,
          "y1": 24.249996666666668
         },
         {
          "layer": "below",
          "line": {
           "color": "white",
           "width": 2
          },
          "type": "line",
          "x0": 15,
          "x1": 15,
          "y0": 29.08333,
          "y1": 29.749996666666668
         },
         {
          "layer": "below",
          "line": {
           "color": "white",
           "width": 2
          },
          "type": "line",
          "x0": 15,
          "x1": 15,
          "y0": 51.63333333333333,
          "y1": 52.3
         },
         {
          "layer": "below",
          "line": {
           "color": "white",
           "width": 2
          },
          "type": "line",
          "x0": 16,
          "x1": 16,
          "y0": 1,
          "y1": 1.6666666666666665
         },
         {
          "layer": "below",
          "line": {
           "color": "white",
           "width": 2
          },
          "type": "line",
          "x0": 16,
          "x1": 16,
          "y0": 23.58333,
          "y1": 24.249996666666668
         },
         {
          "layer": "below",
          "line": {
           "color": "white",
           "width": 2
          },
          "type": "line",
          "x0": 16,
          "x1": 16,
          "y0": 29.08333,
          "y1": 29.749996666666668
         },
         {
          "layer": "below",
          "line": {
           "color": "white",
           "width": 2
          },
          "type": "line",
          "x0": 16,
          "x1": 16,
          "y0": 51.63333333333333,
          "y1": 52.3
         },
         {
          "layer": "below",
          "line": {
           "color": "white",
           "width": 2
          },
          "type": "line",
          "x0": 17,
          "x1": 17,
          "y0": 1,
          "y1": 1.6666666666666665
         },
         {
          "layer": "below",
          "line": {
           "color": "white",
           "width": 2
          },
          "type": "line",
          "x0": 17,
          "x1": 17,
          "y0": 23.58333,
          "y1": 24.249996666666668
         },
         {
          "layer": "below",
          "line": {
           "color": "white",
           "width": 2
          },
          "type": "line",
          "x0": 17,
          "x1": 17,
          "y0": 29.08333,
          "y1": 29.749996666666668
         },
         {
          "layer": "below",
          "line": {
           "color": "white",
           "width": 2
          },
          "type": "line",
          "x0": 17,
          "x1": 17,
          "y0": 51.63333333333333,
          "y1": 52.3
         },
         {
          "layer": "below",
          "line": {
           "color": "white",
           "width": 2
          },
          "type": "line",
          "x0": 18,
          "x1": 18,
          "y0": 1,
          "y1": 1.6666666666666665
         },
         {
          "layer": "below",
          "line": {
           "color": "white",
           "width": 2
          },
          "type": "line",
          "x0": 18,
          "x1": 18,
          "y0": 23.58333,
          "y1": 24.249996666666668
         },
         {
          "layer": "below",
          "line": {
           "color": "white",
           "width": 2
          },
          "type": "line",
          "x0": 18,
          "x1": 18,
          "y0": 29.08333,
          "y1": 29.749996666666668
         },
         {
          "layer": "below",
          "line": {
           "color": "white",
           "width": 2
          },
          "type": "line",
          "x0": 18,
          "x1": 18,
          "y0": 51.63333333333333,
          "y1": 52.3
         },
         {
          "layer": "below",
          "line": {
           "color": "white",
           "width": 2
          },
          "type": "line",
          "x0": 19,
          "x1": 19,
          "y0": 1,
          "y1": 1.6666666666666665
         },
         {
          "layer": "below",
          "line": {
           "color": "white",
           "width": 2
          },
          "type": "line",
          "x0": 19,
          "x1": 19,
          "y0": 23.58333,
          "y1": 24.249996666666668
         },
         {
          "layer": "below",
          "line": {
           "color": "white",
           "width": 2
          },
          "type": "line",
          "x0": 19,
          "x1": 19,
          "y0": 29.08333,
          "y1": 29.749996666666668
         },
         {
          "layer": "below",
          "line": {
           "color": "white",
           "width": 2
          },
          "type": "line",
          "x0": 19,
          "x1": 19,
          "y0": 51.63333333333333,
          "y1": 52.3
         },
         {
          "layer": "below",
          "line": {
           "color": "white",
           "width": 2
          },
          "type": "line",
          "x0": 21,
          "x1": 21,
          "y0": 1,
          "y1": 1.6666666666666665
         },
         {
          "layer": "below",
          "line": {
           "color": "white",
           "width": 2
          },
          "type": "line",
          "x0": 21,
          "x1": 21,
          "y0": 23.58333,
          "y1": 24.249996666666668
         },
         {
          "layer": "below",
          "line": {
           "color": "white",
           "width": 2
          },
          "type": "line",
          "x0": 21,
          "x1": 21,
          "y0": 29.08333,
          "y1": 29.749996666666668
         },
         {
          "layer": "below",
          "line": {
           "color": "white",
           "width": 2
          },
          "type": "line",
          "x0": 21,
          "x1": 21,
          "y0": 51.63333333333333,
          "y1": 52.3
         },
         {
          "layer": "below",
          "line": {
           "color": "white",
           "width": 2
          },
          "type": "line",
          "x0": 22,
          "x1": 22,
          "y0": 1,
          "y1": 1.6666666666666665
         },
         {
          "layer": "below",
          "line": {
           "color": "white",
           "width": 2
          },
          "type": "line",
          "x0": 22,
          "x1": 22,
          "y0": 23.58333,
          "y1": 24.249996666666668
         },
         {
          "layer": "below",
          "line": {
           "color": "white",
           "width": 2
          },
          "type": "line",
          "x0": 22,
          "x1": 22,
          "y0": 29.08333,
          "y1": 29.749996666666668
         },
         {
          "layer": "below",
          "line": {
           "color": "white",
           "width": 2
          },
          "type": "line",
          "x0": 22,
          "x1": 22,
          "y0": 51.63333333333333,
          "y1": 52.3
         },
         {
          "layer": "below",
          "line": {
           "color": "white",
           "width": 2
          },
          "type": "line",
          "x0": 23,
          "x1": 23,
          "y0": 1,
          "y1": 1.6666666666666665
         },
         {
          "layer": "below",
          "line": {
           "color": "white",
           "width": 2
          },
          "type": "line",
          "x0": 23,
          "x1": 23,
          "y0": 23.58333,
          "y1": 24.249996666666668
         },
         {
          "layer": "below",
          "line": {
           "color": "white",
           "width": 2
          },
          "type": "line",
          "x0": 23,
          "x1": 23,
          "y0": 29.08333,
          "y1": 29.749996666666668
         },
         {
          "layer": "below",
          "line": {
           "color": "white",
           "width": 2
          },
          "type": "line",
          "x0": 23,
          "x1": 23,
          "y0": 51.63333333333333,
          "y1": 52.3
         },
         {
          "layer": "below",
          "line": {
           "color": "white",
           "width": 2
          },
          "type": "line",
          "x0": 24,
          "x1": 24,
          "y0": 1,
          "y1": 1.6666666666666665
         },
         {
          "layer": "below",
          "line": {
           "color": "white",
           "width": 2
          },
          "type": "line",
          "x0": 24,
          "x1": 24,
          "y0": 23.58333,
          "y1": 24.249996666666668
         },
         {
          "layer": "below",
          "line": {
           "color": "white",
           "width": 2
          },
          "type": "line",
          "x0": 24,
          "x1": 24,
          "y0": 29.08333,
          "y1": 29.749996666666668
         },
         {
          "layer": "below",
          "line": {
           "color": "white",
           "width": 2
          },
          "type": "line",
          "x0": 24,
          "x1": 24,
          "y0": 51.63333333333333,
          "y1": 52.3
         },
         {
          "layer": "below",
          "line": {
           "color": "white",
           "width": 2
          },
          "type": "line",
          "x0": 25,
          "x1": 25,
          "y0": 1,
          "y1": 1.6666666666666665
         },
         {
          "layer": "below",
          "line": {
           "color": "white",
           "width": 2
          },
          "type": "line",
          "x0": 25,
          "x1": 25,
          "y0": 23.58333,
          "y1": 24.249996666666668
         },
         {
          "layer": "below",
          "line": {
           "color": "white",
           "width": 2
          },
          "type": "line",
          "x0": 25,
          "x1": 25,
          "y0": 29.08333,
          "y1": 29.749996666666668
         },
         {
          "layer": "below",
          "line": {
           "color": "white",
           "width": 2
          },
          "type": "line",
          "x0": 25,
          "x1": 25,
          "y0": 51.63333333333333,
          "y1": 52.3
         },
         {
          "layer": "below",
          "line": {
           "color": "white",
           "width": 2
          },
          "type": "line",
          "x0": 26,
          "x1": 26,
          "y0": 1,
          "y1": 1.6666666666666665
         },
         {
          "layer": "below",
          "line": {
           "color": "white",
           "width": 2
          },
          "type": "line",
          "x0": 26,
          "x1": 26,
          "y0": 23.58333,
          "y1": 24.249996666666668
         },
         {
          "layer": "below",
          "line": {
           "color": "white",
           "width": 2
          },
          "type": "line",
          "x0": 26,
          "x1": 26,
          "y0": 29.08333,
          "y1": 29.749996666666668
         },
         {
          "layer": "below",
          "line": {
           "color": "white",
           "width": 2
          },
          "type": "line",
          "x0": 26,
          "x1": 26,
          "y0": 51.63333333333333,
          "y1": 52.3
         },
         {
          "layer": "below",
          "line": {
           "color": "white",
           "width": 2
          },
          "type": "line",
          "x0": 27,
          "x1": 27,
          "y0": 1,
          "y1": 1.6666666666666665
         },
         {
          "layer": "below",
          "line": {
           "color": "white",
           "width": 2
          },
          "type": "line",
          "x0": 27,
          "x1": 27,
          "y0": 23.58333,
          "y1": 24.249996666666668
         },
         {
          "layer": "below",
          "line": {
           "color": "white",
           "width": 2
          },
          "type": "line",
          "x0": 27,
          "x1": 27,
          "y0": 29.08333,
          "y1": 29.749996666666668
         },
         {
          "layer": "below",
          "line": {
           "color": "white",
           "width": 2
          },
          "type": "line",
          "x0": 27,
          "x1": 27,
          "y0": 51.63333333333333,
          "y1": 52.3
         },
         {
          "layer": "below",
          "line": {
           "color": "white",
           "width": 2
          },
          "type": "line",
          "x0": 28,
          "x1": 28,
          "y0": 1,
          "y1": 1.6666666666666665
         },
         {
          "layer": "below",
          "line": {
           "color": "white",
           "width": 2
          },
          "type": "line",
          "x0": 28,
          "x1": 28,
          "y0": 23.58333,
          "y1": 24.249996666666668
         },
         {
          "layer": "below",
          "line": {
           "color": "white",
           "width": 2
          },
          "type": "line",
          "x0": 28,
          "x1": 28,
          "y0": 29.08333,
          "y1": 29.749996666666668
         },
         {
          "layer": "below",
          "line": {
           "color": "white",
           "width": 2
          },
          "type": "line",
          "x0": 28,
          "x1": 28,
          "y0": 51.63333333333333,
          "y1": 52.3
         },
         {
          "layer": "below",
          "line": {
           "color": "white",
           "width": 2
          },
          "type": "line",
          "x0": 29,
          "x1": 29,
          "y0": 1,
          "y1": 1.6666666666666665
         },
         {
          "layer": "below",
          "line": {
           "color": "white",
           "width": 2
          },
          "type": "line",
          "x0": 29,
          "x1": 29,
          "y0": 23.58333,
          "y1": 24.249996666666668
         },
         {
          "layer": "below",
          "line": {
           "color": "white",
           "width": 2
          },
          "type": "line",
          "x0": 29,
          "x1": 29,
          "y0": 29.08333,
          "y1": 29.749996666666668
         },
         {
          "layer": "below",
          "line": {
           "color": "white",
           "width": 2
          },
          "type": "line",
          "x0": 29,
          "x1": 29,
          "y0": 51.63333333333333,
          "y1": 52.3
         },
         {
          "layer": "below",
          "line": {
           "color": "white",
           "width": 2
          },
          "type": "line",
          "x0": 31,
          "x1": 31,
          "y0": 1,
          "y1": 1.6666666666666665
         },
         {
          "layer": "below",
          "line": {
           "color": "white",
           "width": 2
          },
          "type": "line",
          "x0": 31,
          "x1": 31,
          "y0": 23.58333,
          "y1": 24.249996666666668
         },
         {
          "layer": "below",
          "line": {
           "color": "white",
           "width": 2
          },
          "type": "line",
          "x0": 31,
          "x1": 31,
          "y0": 29.08333,
          "y1": 29.749996666666668
         },
         {
          "layer": "below",
          "line": {
           "color": "white",
           "width": 2
          },
          "type": "line",
          "x0": 31,
          "x1": 31,
          "y0": 51.63333333333333,
          "y1": 52.3
         },
         {
          "layer": "below",
          "line": {
           "color": "white",
           "width": 2
          },
          "type": "line",
          "x0": 32,
          "x1": 32,
          "y0": 1,
          "y1": 1.6666666666666665
         },
         {
          "layer": "below",
          "line": {
           "color": "white",
           "width": 2
          },
          "type": "line",
          "x0": 32,
          "x1": 32,
          "y0": 23.58333,
          "y1": 24.249996666666668
         },
         {
          "layer": "below",
          "line": {
           "color": "white",
           "width": 2
          },
          "type": "line",
          "x0": 32,
          "x1": 32,
          "y0": 29.08333,
          "y1": 29.749996666666668
         },
         {
          "layer": "below",
          "line": {
           "color": "white",
           "width": 2
          },
          "type": "line",
          "x0": 32,
          "x1": 32,
          "y0": 51.63333333333333,
          "y1": 52.3
         },
         {
          "layer": "below",
          "line": {
           "color": "white",
           "width": 2
          },
          "type": "line",
          "x0": 33,
          "x1": 33,
          "y0": 1,
          "y1": 1.6666666666666665
         },
         {
          "layer": "below",
          "line": {
           "color": "white",
           "width": 2
          },
          "type": "line",
          "x0": 33,
          "x1": 33,
          "y0": 23.58333,
          "y1": 24.249996666666668
         },
         {
          "layer": "below",
          "line": {
           "color": "white",
           "width": 2
          },
          "type": "line",
          "x0": 33,
          "x1": 33,
          "y0": 29.08333,
          "y1": 29.749996666666668
         },
         {
          "layer": "below",
          "line": {
           "color": "white",
           "width": 2
          },
          "type": "line",
          "x0": 33,
          "x1": 33,
          "y0": 51.63333333333333,
          "y1": 52.3
         },
         {
          "layer": "below",
          "line": {
           "color": "white",
           "width": 2
          },
          "type": "line",
          "x0": 34,
          "x1": 34,
          "y0": 1,
          "y1": 1.6666666666666665
         },
         {
          "layer": "below",
          "line": {
           "color": "white",
           "width": 2
          },
          "type": "line",
          "x0": 34,
          "x1": 34,
          "y0": 23.58333,
          "y1": 24.249996666666668
         },
         {
          "layer": "below",
          "line": {
           "color": "white",
           "width": 2
          },
          "type": "line",
          "x0": 34,
          "x1": 34,
          "y0": 29.08333,
          "y1": 29.749996666666668
         },
         {
          "layer": "below",
          "line": {
           "color": "white",
           "width": 2
          },
          "type": "line",
          "x0": 34,
          "x1": 34,
          "y0": 51.63333333333333,
          "y1": 52.3
         },
         {
          "layer": "below",
          "line": {
           "color": "white",
           "width": 2
          },
          "type": "line",
          "x0": 35,
          "x1": 35,
          "y0": 1,
          "y1": 1.6666666666666665
         },
         {
          "layer": "below",
          "line": {
           "color": "white",
           "width": 2
          },
          "type": "line",
          "x0": 35,
          "x1": 35,
          "y0": 23.58333,
          "y1": 24.249996666666668
         },
         {
          "layer": "below",
          "line": {
           "color": "white",
           "width": 2
          },
          "type": "line",
          "x0": 35,
          "x1": 35,
          "y0": 29.08333,
          "y1": 29.749996666666668
         },
         {
          "layer": "below",
          "line": {
           "color": "white",
           "width": 2
          },
          "type": "line",
          "x0": 35,
          "x1": 35,
          "y0": 51.63333333333333,
          "y1": 52.3
         },
         {
          "layer": "below",
          "line": {
           "color": "white",
           "width": 2
          },
          "type": "line",
          "x0": 36,
          "x1": 36,
          "y0": 1,
          "y1": 1.6666666666666665
         },
         {
          "layer": "below",
          "line": {
           "color": "white",
           "width": 2
          },
          "type": "line",
          "x0": 36,
          "x1": 36,
          "y0": 23.58333,
          "y1": 24.249996666666668
         },
         {
          "layer": "below",
          "line": {
           "color": "white",
           "width": 2
          },
          "type": "line",
          "x0": 36,
          "x1": 36,
          "y0": 29.08333,
          "y1": 29.749996666666668
         },
         {
          "layer": "below",
          "line": {
           "color": "white",
           "width": 2
          },
          "type": "line",
          "x0": 36,
          "x1": 36,
          "y0": 51.63333333333333,
          "y1": 52.3
         },
         {
          "layer": "below",
          "line": {
           "color": "white",
           "width": 2
          },
          "type": "line",
          "x0": 37,
          "x1": 37,
          "y0": 1,
          "y1": 1.6666666666666665
         },
         {
          "layer": "below",
          "line": {
           "color": "white",
           "width": 2
          },
          "type": "line",
          "x0": 37,
          "x1": 37,
          "y0": 23.58333,
          "y1": 24.249996666666668
         },
         {
          "layer": "below",
          "line": {
           "color": "white",
           "width": 2
          },
          "type": "line",
          "x0": 37,
          "x1": 37,
          "y0": 29.08333,
          "y1": 29.749996666666668
         },
         {
          "layer": "below",
          "line": {
           "color": "white",
           "width": 2
          },
          "type": "line",
          "x0": 37,
          "x1": 37,
          "y0": 51.63333333333333,
          "y1": 52.3
         },
         {
          "layer": "below",
          "line": {
           "color": "white",
           "width": 2
          },
          "type": "line",
          "x0": 38,
          "x1": 38,
          "y0": 1,
          "y1": 1.6666666666666665
         },
         {
          "layer": "below",
          "line": {
           "color": "white",
           "width": 2
          },
          "type": "line",
          "x0": 38,
          "x1": 38,
          "y0": 23.58333,
          "y1": 24.249996666666668
         },
         {
          "layer": "below",
          "line": {
           "color": "white",
           "width": 2
          },
          "type": "line",
          "x0": 38,
          "x1": 38,
          "y0": 29.08333,
          "y1": 29.749996666666668
         },
         {
          "layer": "below",
          "line": {
           "color": "white",
           "width": 2
          },
          "type": "line",
          "x0": 38,
          "x1": 38,
          "y0": 51.63333333333333,
          "y1": 52.3
         },
         {
          "layer": "below",
          "line": {
           "color": "white",
           "width": 2
          },
          "type": "line",
          "x0": 39,
          "x1": 39,
          "y0": 1,
          "y1": 1.6666666666666665
         },
         {
          "layer": "below",
          "line": {
           "color": "white",
           "width": 2
          },
          "type": "line",
          "x0": 39,
          "x1": 39,
          "y0": 23.58333,
          "y1": 24.249996666666668
         },
         {
          "layer": "below",
          "line": {
           "color": "white",
           "width": 2
          },
          "type": "line",
          "x0": 39,
          "x1": 39,
          "y0": 29.08333,
          "y1": 29.749996666666668
         },
         {
          "layer": "below",
          "line": {
           "color": "white",
           "width": 2
          },
          "type": "line",
          "x0": 39,
          "x1": 39,
          "y0": 51.63333333333333,
          "y1": 52.3
         },
         {
          "layer": "below",
          "line": {
           "color": "white",
           "width": 2
          },
          "type": "line",
          "x0": 41,
          "x1": 41,
          "y0": 1,
          "y1": 1.6666666666666665
         },
         {
          "layer": "below",
          "line": {
           "color": "white",
           "width": 2
          },
          "type": "line",
          "x0": 41,
          "x1": 41,
          "y0": 23.58333,
          "y1": 24.249996666666668
         },
         {
          "layer": "below",
          "line": {
           "color": "white",
           "width": 2
          },
          "type": "line",
          "x0": 41,
          "x1": 41,
          "y0": 29.08333,
          "y1": 29.749996666666668
         },
         {
          "layer": "below",
          "line": {
           "color": "white",
           "width": 2
          },
          "type": "line",
          "x0": 41,
          "x1": 41,
          "y0": 51.63333333333333,
          "y1": 52.3
         },
         {
          "layer": "below",
          "line": {
           "color": "white",
           "width": 2
          },
          "type": "line",
          "x0": 42,
          "x1": 42,
          "y0": 1,
          "y1": 1.6666666666666665
         },
         {
          "layer": "below",
          "line": {
           "color": "white",
           "width": 2
          },
          "type": "line",
          "x0": 42,
          "x1": 42,
          "y0": 23.58333,
          "y1": 24.249996666666668
         },
         {
          "layer": "below",
          "line": {
           "color": "white",
           "width": 2
          },
          "type": "line",
          "x0": 42,
          "x1": 42,
          "y0": 29.08333,
          "y1": 29.749996666666668
         },
         {
          "layer": "below",
          "line": {
           "color": "white",
           "width": 2
          },
          "type": "line",
          "x0": 42,
          "x1": 42,
          "y0": 51.63333333333333,
          "y1": 52.3
         },
         {
          "layer": "below",
          "line": {
           "color": "white",
           "width": 2
          },
          "type": "line",
          "x0": 43,
          "x1": 43,
          "y0": 1,
          "y1": 1.6666666666666665
         },
         {
          "layer": "below",
          "line": {
           "color": "white",
           "width": 2
          },
          "type": "line",
          "x0": 43,
          "x1": 43,
          "y0": 23.58333,
          "y1": 24.249996666666668
         },
         {
          "layer": "below",
          "line": {
           "color": "white",
           "width": 2
          },
          "type": "line",
          "x0": 43,
          "x1": 43,
          "y0": 29.08333,
          "y1": 29.749996666666668
         },
         {
          "layer": "below",
          "line": {
           "color": "white",
           "width": 2
          },
          "type": "line",
          "x0": 43,
          "x1": 43,
          "y0": 51.63333333333333,
          "y1": 52.3
         },
         {
          "layer": "below",
          "line": {
           "color": "white",
           "width": 2
          },
          "type": "line",
          "x0": 44,
          "x1": 44,
          "y0": 1,
          "y1": 1.6666666666666665
         },
         {
          "layer": "below",
          "line": {
           "color": "white",
           "width": 2
          },
          "type": "line",
          "x0": 44,
          "x1": 44,
          "y0": 23.58333,
          "y1": 24.249996666666668
         },
         {
          "layer": "below",
          "line": {
           "color": "white",
           "width": 2
          },
          "type": "line",
          "x0": 44,
          "x1": 44,
          "y0": 29.08333,
          "y1": 29.749996666666668
         },
         {
          "layer": "below",
          "line": {
           "color": "white",
           "width": 2
          },
          "type": "line",
          "x0": 44,
          "x1": 44,
          "y0": 51.63333333333333,
          "y1": 52.3
         },
         {
          "layer": "below",
          "line": {
           "color": "white",
           "width": 2
          },
          "type": "line",
          "x0": 45,
          "x1": 45,
          "y0": 1,
          "y1": 1.6666666666666665
         },
         {
          "layer": "below",
          "line": {
           "color": "white",
           "width": 2
          },
          "type": "line",
          "x0": 45,
          "x1": 45,
          "y0": 23.58333,
          "y1": 24.249996666666668
         },
         {
          "layer": "below",
          "line": {
           "color": "white",
           "width": 2
          },
          "type": "line",
          "x0": 45,
          "x1": 45,
          "y0": 29.08333,
          "y1": 29.749996666666668
         },
         {
          "layer": "below",
          "line": {
           "color": "white",
           "width": 2
          },
          "type": "line",
          "x0": 45,
          "x1": 45,
          "y0": 51.63333333333333,
          "y1": 52.3
         },
         {
          "layer": "below",
          "line": {
           "color": "white",
           "width": 2
          },
          "type": "line",
          "x0": 46,
          "x1": 46,
          "y0": 1,
          "y1": 1.6666666666666665
         },
         {
          "layer": "below",
          "line": {
           "color": "white",
           "width": 2
          },
          "type": "line",
          "x0": 46,
          "x1": 46,
          "y0": 23.58333,
          "y1": 24.249996666666668
         },
         {
          "layer": "below",
          "line": {
           "color": "white",
           "width": 2
          },
          "type": "line",
          "x0": 46,
          "x1": 46,
          "y0": 29.08333,
          "y1": 29.749996666666668
         },
         {
          "layer": "below",
          "line": {
           "color": "white",
           "width": 2
          },
          "type": "line",
          "x0": 46,
          "x1": 46,
          "y0": 51.63333333333333,
          "y1": 52.3
         },
         {
          "layer": "below",
          "line": {
           "color": "white",
           "width": 2
          },
          "type": "line",
          "x0": 47,
          "x1": 47,
          "y0": 1,
          "y1": 1.6666666666666665
         },
         {
          "layer": "below",
          "line": {
           "color": "white",
           "width": 2
          },
          "type": "line",
          "x0": 47,
          "x1": 47,
          "y0": 23.58333,
          "y1": 24.249996666666668
         },
         {
          "layer": "below",
          "line": {
           "color": "white",
           "width": 2
          },
          "type": "line",
          "x0": 47,
          "x1": 47,
          "y0": 29.08333,
          "y1": 29.749996666666668
         },
         {
          "layer": "below",
          "line": {
           "color": "white",
           "width": 2
          },
          "type": "line",
          "x0": 47,
          "x1": 47,
          "y0": 51.63333333333333,
          "y1": 52.3
         },
         {
          "layer": "below",
          "line": {
           "color": "white",
           "width": 2
          },
          "type": "line",
          "x0": 48,
          "x1": 48,
          "y0": 1,
          "y1": 1.6666666666666665
         },
         {
          "layer": "below",
          "line": {
           "color": "white",
           "width": 2
          },
          "type": "line",
          "x0": 48,
          "x1": 48,
          "y0": 23.58333,
          "y1": 24.249996666666668
         },
         {
          "layer": "below",
          "line": {
           "color": "white",
           "width": 2
          },
          "type": "line",
          "x0": 48,
          "x1": 48,
          "y0": 29.08333,
          "y1": 29.749996666666668
         },
         {
          "layer": "below",
          "line": {
           "color": "white",
           "width": 2
          },
          "type": "line",
          "x0": 48,
          "x1": 48,
          "y0": 51.63333333333333,
          "y1": 52.3
         },
         {
          "layer": "below",
          "line": {
           "color": "white",
           "width": 2
          },
          "type": "line",
          "x0": 49,
          "x1": 49,
          "y0": 1,
          "y1": 1.6666666666666665
         },
         {
          "layer": "below",
          "line": {
           "color": "white",
           "width": 2
          },
          "type": "line",
          "x0": 49,
          "x1": 49,
          "y0": 23.58333,
          "y1": 24.249996666666668
         },
         {
          "layer": "below",
          "line": {
           "color": "white",
           "width": 2
          },
          "type": "line",
          "x0": 49,
          "x1": 49,
          "y0": 29.08333,
          "y1": 29.749996666666668
         },
         {
          "layer": "below",
          "line": {
           "color": "white",
           "width": 2
          },
          "type": "line",
          "x0": 49,
          "x1": 49,
          "y0": 51.63333333333333,
          "y1": 52.3
         },
         {
          "layer": "below",
          "line": {
           "color": "white",
           "width": 2
          },
          "type": "line",
          "x0": 51,
          "x1": 51,
          "y0": 1,
          "y1": 1.6666666666666665
         },
         {
          "layer": "below",
          "line": {
           "color": "white",
           "width": 2
          },
          "type": "line",
          "x0": 51,
          "x1": 51,
          "y0": 23.58333,
          "y1": 24.249996666666668
         },
         {
          "layer": "below",
          "line": {
           "color": "white",
           "width": 2
          },
          "type": "line",
          "x0": 51,
          "x1": 51,
          "y0": 29.08333,
          "y1": 29.749996666666668
         },
         {
          "layer": "below",
          "line": {
           "color": "white",
           "width": 2
          },
          "type": "line",
          "x0": 51,
          "x1": 51,
          "y0": 51.63333333333333,
          "y1": 52.3
         },
         {
          "layer": "below",
          "line": {
           "color": "white",
           "width": 2
          },
          "type": "line",
          "x0": 52,
          "x1": 52,
          "y0": 1,
          "y1": 1.6666666666666665
         },
         {
          "layer": "below",
          "line": {
           "color": "white",
           "width": 2
          },
          "type": "line",
          "x0": 52,
          "x1": 52,
          "y0": 23.58333,
          "y1": 24.249996666666668
         },
         {
          "layer": "below",
          "line": {
           "color": "white",
           "width": 2
          },
          "type": "line",
          "x0": 52,
          "x1": 52,
          "y0": 29.08333,
          "y1": 29.749996666666668
         },
         {
          "layer": "below",
          "line": {
           "color": "white",
           "width": 2
          },
          "type": "line",
          "x0": 52,
          "x1": 52,
          "y0": 51.63333333333333,
          "y1": 52.3
         },
         {
          "layer": "below",
          "line": {
           "color": "white",
           "width": 2
          },
          "type": "line",
          "x0": 53,
          "x1": 53,
          "y0": 1,
          "y1": 1.6666666666666665
         },
         {
          "layer": "below",
          "line": {
           "color": "white",
           "width": 2
          },
          "type": "line",
          "x0": 53,
          "x1": 53,
          "y0": 23.58333,
          "y1": 24.249996666666668
         },
         {
          "layer": "below",
          "line": {
           "color": "white",
           "width": 2
          },
          "type": "line",
          "x0": 53,
          "x1": 53,
          "y0": 29.08333,
          "y1": 29.749996666666668
         },
         {
          "layer": "below",
          "line": {
           "color": "white",
           "width": 2
          },
          "type": "line",
          "x0": 53,
          "x1": 53,
          "y0": 51.63333333333333,
          "y1": 52.3
         },
         {
          "layer": "below",
          "line": {
           "color": "white",
           "width": 2
          },
          "type": "line",
          "x0": 54,
          "x1": 54,
          "y0": 1,
          "y1": 1.6666666666666665
         },
         {
          "layer": "below",
          "line": {
           "color": "white",
           "width": 2
          },
          "type": "line",
          "x0": 54,
          "x1": 54,
          "y0": 23.58333,
          "y1": 24.249996666666668
         },
         {
          "layer": "below",
          "line": {
           "color": "white",
           "width": 2
          },
          "type": "line",
          "x0": 54,
          "x1": 54,
          "y0": 29.08333,
          "y1": 29.749996666666668
         },
         {
          "layer": "below",
          "line": {
           "color": "white",
           "width": 2
          },
          "type": "line",
          "x0": 54,
          "x1": 54,
          "y0": 51.63333333333333,
          "y1": 52.3
         },
         {
          "layer": "below",
          "line": {
           "color": "white",
           "width": 2
          },
          "type": "line",
          "x0": 55,
          "x1": 55,
          "y0": 1,
          "y1": 1.6666666666666665
         },
         {
          "layer": "below",
          "line": {
           "color": "white",
           "width": 2
          },
          "type": "line",
          "x0": 55,
          "x1": 55,
          "y0": 23.58333,
          "y1": 24.249996666666668
         },
         {
          "layer": "below",
          "line": {
           "color": "white",
           "width": 2
          },
          "type": "line",
          "x0": 55,
          "x1": 55,
          "y0": 29.08333,
          "y1": 29.749996666666668
         },
         {
          "layer": "below",
          "line": {
           "color": "white",
           "width": 2
          },
          "type": "line",
          "x0": 55,
          "x1": 55,
          "y0": 51.63333333333333,
          "y1": 52.3
         },
         {
          "layer": "below",
          "line": {
           "color": "white",
           "width": 2
          },
          "type": "line",
          "x0": 56,
          "x1": 56,
          "y0": 1,
          "y1": 1.6666666666666665
         },
         {
          "layer": "below",
          "line": {
           "color": "white",
           "width": 2
          },
          "type": "line",
          "x0": 56,
          "x1": 56,
          "y0": 23.58333,
          "y1": 24.249996666666668
         },
         {
          "layer": "below",
          "line": {
           "color": "white",
           "width": 2
          },
          "type": "line",
          "x0": 56,
          "x1": 56,
          "y0": 29.08333,
          "y1": 29.749996666666668
         },
         {
          "layer": "below",
          "line": {
           "color": "white",
           "width": 2
          },
          "type": "line",
          "x0": 56,
          "x1": 56,
          "y0": 51.63333333333333,
          "y1": 52.3
         },
         {
          "layer": "below",
          "line": {
           "color": "white",
           "width": 2
          },
          "type": "line",
          "x0": 57,
          "x1": 57,
          "y0": 1,
          "y1": 1.6666666666666665
         },
         {
          "layer": "below",
          "line": {
           "color": "white",
           "width": 2
          },
          "type": "line",
          "x0": 57,
          "x1": 57,
          "y0": 23.58333,
          "y1": 24.249996666666668
         },
         {
          "layer": "below",
          "line": {
           "color": "white",
           "width": 2
          },
          "type": "line",
          "x0": 57,
          "x1": 57,
          "y0": 29.08333,
          "y1": 29.749996666666668
         },
         {
          "layer": "below",
          "line": {
           "color": "white",
           "width": 2
          },
          "type": "line",
          "x0": 57,
          "x1": 57,
          "y0": 51.63333333333333,
          "y1": 52.3
         },
         {
          "layer": "below",
          "line": {
           "color": "white",
           "width": 2
          },
          "type": "line",
          "x0": 58,
          "x1": 58,
          "y0": 1,
          "y1": 1.6666666666666665
         },
         {
          "layer": "below",
          "line": {
           "color": "white",
           "width": 2
          },
          "type": "line",
          "x0": 58,
          "x1": 58,
          "y0": 23.58333,
          "y1": 24.249996666666668
         },
         {
          "layer": "below",
          "line": {
           "color": "white",
           "width": 2
          },
          "type": "line",
          "x0": 58,
          "x1": 58,
          "y0": 29.08333,
          "y1": 29.749996666666668
         },
         {
          "layer": "below",
          "line": {
           "color": "white",
           "width": 2
          },
          "type": "line",
          "x0": 58,
          "x1": 58,
          "y0": 51.63333333333333,
          "y1": 52.3
         },
         {
          "layer": "below",
          "line": {
           "color": "white",
           "width": 2
          },
          "type": "line",
          "x0": 59,
          "x1": 59,
          "y0": 1,
          "y1": 1.6666666666666665
         },
         {
          "layer": "below",
          "line": {
           "color": "white",
           "width": 2
          },
          "type": "line",
          "x0": 59,
          "x1": 59,
          "y0": 23.58333,
          "y1": 24.249996666666668
         },
         {
          "layer": "below",
          "line": {
           "color": "white",
           "width": 2
          },
          "type": "line",
          "x0": 59,
          "x1": 59,
          "y0": 29.08333,
          "y1": 29.749996666666668
         },
         {
          "layer": "below",
          "line": {
           "color": "white",
           "width": 2
          },
          "type": "line",
          "x0": 59,
          "x1": 59,
          "y0": 51.63333333333333,
          "y1": 52.3
         },
         {
          "layer": "below",
          "line": {
           "color": "white",
           "width": 2
          },
          "type": "line",
          "x0": 61,
          "x1": 61,
          "y0": 1,
          "y1": 1.6666666666666665
         },
         {
          "layer": "below",
          "line": {
           "color": "white",
           "width": 2
          },
          "type": "line",
          "x0": 61,
          "x1": 61,
          "y0": 23.58333,
          "y1": 24.249996666666668
         },
         {
          "layer": "below",
          "line": {
           "color": "white",
           "width": 2
          },
          "type": "line",
          "x0": 61,
          "x1": 61,
          "y0": 29.08333,
          "y1": 29.749996666666668
         },
         {
          "layer": "below",
          "line": {
           "color": "white",
           "width": 2
          },
          "type": "line",
          "x0": 61,
          "x1": 61,
          "y0": 51.63333333333333,
          "y1": 52.3
         },
         {
          "layer": "below",
          "line": {
           "color": "white",
           "width": 2
          },
          "type": "line",
          "x0": 62,
          "x1": 62,
          "y0": 1,
          "y1": 1.6666666666666665
         },
         {
          "layer": "below",
          "line": {
           "color": "white",
           "width": 2
          },
          "type": "line",
          "x0": 62,
          "x1": 62,
          "y0": 23.58333,
          "y1": 24.249996666666668
         },
         {
          "layer": "below",
          "line": {
           "color": "white",
           "width": 2
          },
          "type": "line",
          "x0": 62,
          "x1": 62,
          "y0": 29.08333,
          "y1": 29.749996666666668
         },
         {
          "layer": "below",
          "line": {
           "color": "white",
           "width": 2
          },
          "type": "line",
          "x0": 62,
          "x1": 62,
          "y0": 51.63333333333333,
          "y1": 52.3
         },
         {
          "layer": "below",
          "line": {
           "color": "white",
           "width": 2
          },
          "type": "line",
          "x0": 63,
          "x1": 63,
          "y0": 1,
          "y1": 1.6666666666666665
         },
         {
          "layer": "below",
          "line": {
           "color": "white",
           "width": 2
          },
          "type": "line",
          "x0": 63,
          "x1": 63,
          "y0": 23.58333,
          "y1": 24.249996666666668
         },
         {
          "layer": "below",
          "line": {
           "color": "white",
           "width": 2
          },
          "type": "line",
          "x0": 63,
          "x1": 63,
          "y0": 29.08333,
          "y1": 29.749996666666668
         },
         {
          "layer": "below",
          "line": {
           "color": "white",
           "width": 2
          },
          "type": "line",
          "x0": 63,
          "x1": 63,
          "y0": 51.63333333333333,
          "y1": 52.3
         },
         {
          "layer": "below",
          "line": {
           "color": "white",
           "width": 2
          },
          "type": "line",
          "x0": 64,
          "x1": 64,
          "y0": 1,
          "y1": 1.6666666666666665
         },
         {
          "layer": "below",
          "line": {
           "color": "white",
           "width": 2
          },
          "type": "line",
          "x0": 64,
          "x1": 64,
          "y0": 23.58333,
          "y1": 24.249996666666668
         },
         {
          "layer": "below",
          "line": {
           "color": "white",
           "width": 2
          },
          "type": "line",
          "x0": 64,
          "x1": 64,
          "y0": 29.08333,
          "y1": 29.749996666666668
         },
         {
          "layer": "below",
          "line": {
           "color": "white",
           "width": 2
          },
          "type": "line",
          "x0": 64,
          "x1": 64,
          "y0": 51.63333333333333,
          "y1": 52.3
         },
         {
          "layer": "below",
          "line": {
           "color": "white",
           "width": 2
          },
          "type": "line",
          "x0": 65,
          "x1": 65,
          "y0": 1,
          "y1": 1.6666666666666665
         },
         {
          "layer": "below",
          "line": {
           "color": "white",
           "width": 2
          },
          "type": "line",
          "x0": 65,
          "x1": 65,
          "y0": 23.58333,
          "y1": 24.249996666666668
         },
         {
          "layer": "below",
          "line": {
           "color": "white",
           "width": 2
          },
          "type": "line",
          "x0": 65,
          "x1": 65,
          "y0": 29.08333,
          "y1": 29.749996666666668
         },
         {
          "layer": "below",
          "line": {
           "color": "white",
           "width": 2
          },
          "type": "line",
          "x0": 65,
          "x1": 65,
          "y0": 51.63333333333333,
          "y1": 52.3
         },
         {
          "layer": "below",
          "line": {
           "color": "white",
           "width": 2
          },
          "type": "line",
          "x0": 66,
          "x1": 66,
          "y0": 1,
          "y1": 1.6666666666666665
         },
         {
          "layer": "below",
          "line": {
           "color": "white",
           "width": 2
          },
          "type": "line",
          "x0": 66,
          "x1": 66,
          "y0": 23.58333,
          "y1": 24.249996666666668
         },
         {
          "layer": "below",
          "line": {
           "color": "white",
           "width": 2
          },
          "type": "line",
          "x0": 66,
          "x1": 66,
          "y0": 29.08333,
          "y1": 29.749996666666668
         },
         {
          "layer": "below",
          "line": {
           "color": "white",
           "width": 2
          },
          "type": "line",
          "x0": 66,
          "x1": 66,
          "y0": 51.63333333333333,
          "y1": 52.3
         },
         {
          "layer": "below",
          "line": {
           "color": "white",
           "width": 2
          },
          "type": "line",
          "x0": 67,
          "x1": 67,
          "y0": 1,
          "y1": 1.6666666666666665
         },
         {
          "layer": "below",
          "line": {
           "color": "white",
           "width": 2
          },
          "type": "line",
          "x0": 67,
          "x1": 67,
          "y0": 23.58333,
          "y1": 24.249996666666668
         },
         {
          "layer": "below",
          "line": {
           "color": "white",
           "width": 2
          },
          "type": "line",
          "x0": 67,
          "x1": 67,
          "y0": 29.08333,
          "y1": 29.749996666666668
         },
         {
          "layer": "below",
          "line": {
           "color": "white",
           "width": 2
          },
          "type": "line",
          "x0": 67,
          "x1": 67,
          "y0": 51.63333333333333,
          "y1": 52.3
         },
         {
          "layer": "below",
          "line": {
           "color": "white",
           "width": 2
          },
          "type": "line",
          "x0": 68,
          "x1": 68,
          "y0": 1,
          "y1": 1.6666666666666665
         },
         {
          "layer": "below",
          "line": {
           "color": "white",
           "width": 2
          },
          "type": "line",
          "x0": 68,
          "x1": 68,
          "y0": 23.58333,
          "y1": 24.249996666666668
         },
         {
          "layer": "below",
          "line": {
           "color": "white",
           "width": 2
          },
          "type": "line",
          "x0": 68,
          "x1": 68,
          "y0": 29.08333,
          "y1": 29.749996666666668
         },
         {
          "layer": "below",
          "line": {
           "color": "white",
           "width": 2
          },
          "type": "line",
          "x0": 68,
          "x1": 68,
          "y0": 51.63333333333333,
          "y1": 52.3
         },
         {
          "layer": "below",
          "line": {
           "color": "white",
           "width": 2
          },
          "type": "line",
          "x0": 69,
          "x1": 69,
          "y0": 1,
          "y1": 1.6666666666666665
         },
         {
          "layer": "below",
          "line": {
           "color": "white",
           "width": 2
          },
          "type": "line",
          "x0": 69,
          "x1": 69,
          "y0": 23.58333,
          "y1": 24.249996666666668
         },
         {
          "layer": "below",
          "line": {
           "color": "white",
           "width": 2
          },
          "type": "line",
          "x0": 69,
          "x1": 69,
          "y0": 29.08333,
          "y1": 29.749996666666668
         },
         {
          "layer": "below",
          "line": {
           "color": "white",
           "width": 2
          },
          "type": "line",
          "x0": 69,
          "x1": 69,
          "y0": 51.63333333333333,
          "y1": 52.3
         },
         {
          "layer": "below",
          "line": {
           "color": "white",
           "width": 2
          },
          "type": "line",
          "x0": 71,
          "x1": 71,
          "y0": 1,
          "y1": 1.6666666666666665
         },
         {
          "layer": "below",
          "line": {
           "color": "white",
           "width": 2
          },
          "type": "line",
          "x0": 71,
          "x1": 71,
          "y0": 23.58333,
          "y1": 24.249996666666668
         },
         {
          "layer": "below",
          "line": {
           "color": "white",
           "width": 2
          },
          "type": "line",
          "x0": 71,
          "x1": 71,
          "y0": 29.08333,
          "y1": 29.749996666666668
         },
         {
          "layer": "below",
          "line": {
           "color": "white",
           "width": 2
          },
          "type": "line",
          "x0": 71,
          "x1": 71,
          "y0": 51.63333333333333,
          "y1": 52.3
         },
         {
          "layer": "below",
          "line": {
           "color": "white",
           "width": 2
          },
          "type": "line",
          "x0": 72,
          "x1": 72,
          "y0": 1,
          "y1": 1.6666666666666665
         },
         {
          "layer": "below",
          "line": {
           "color": "white",
           "width": 2
          },
          "type": "line",
          "x0": 72,
          "x1": 72,
          "y0": 23.58333,
          "y1": 24.249996666666668
         },
         {
          "layer": "below",
          "line": {
           "color": "white",
           "width": 2
          },
          "type": "line",
          "x0": 72,
          "x1": 72,
          "y0": 29.08333,
          "y1": 29.749996666666668
         },
         {
          "layer": "below",
          "line": {
           "color": "white",
           "width": 2
          },
          "type": "line",
          "x0": 72,
          "x1": 72,
          "y0": 51.63333333333333,
          "y1": 52.3
         },
         {
          "layer": "below",
          "line": {
           "color": "white",
           "width": 2
          },
          "type": "line",
          "x0": 73,
          "x1": 73,
          "y0": 1,
          "y1": 1.6666666666666665
         },
         {
          "layer": "below",
          "line": {
           "color": "white",
           "width": 2
          },
          "type": "line",
          "x0": 73,
          "x1": 73,
          "y0": 23.58333,
          "y1": 24.249996666666668
         },
         {
          "layer": "below",
          "line": {
           "color": "white",
           "width": 2
          },
          "type": "line",
          "x0": 73,
          "x1": 73,
          "y0": 29.08333,
          "y1": 29.749996666666668
         },
         {
          "layer": "below",
          "line": {
           "color": "white",
           "width": 2
          },
          "type": "line",
          "x0": 73,
          "x1": 73,
          "y0": 51.63333333333333,
          "y1": 52.3
         },
         {
          "layer": "below",
          "line": {
           "color": "white",
           "width": 2
          },
          "type": "line",
          "x0": 74,
          "x1": 74,
          "y0": 1,
          "y1": 1.6666666666666665
         },
         {
          "layer": "below",
          "line": {
           "color": "white",
           "width": 2
          },
          "type": "line",
          "x0": 74,
          "x1": 74,
          "y0": 23.58333,
          "y1": 24.249996666666668
         },
         {
          "layer": "below",
          "line": {
           "color": "white",
           "width": 2
          },
          "type": "line",
          "x0": 74,
          "x1": 74,
          "y0": 29.08333,
          "y1": 29.749996666666668
         },
         {
          "layer": "below",
          "line": {
           "color": "white",
           "width": 2
          },
          "type": "line",
          "x0": 74,
          "x1": 74,
          "y0": 51.63333333333333,
          "y1": 52.3
         },
         {
          "layer": "below",
          "line": {
           "color": "white",
           "width": 2
          },
          "type": "line",
          "x0": 75,
          "x1": 75,
          "y0": 1,
          "y1": 1.6666666666666665
         },
         {
          "layer": "below",
          "line": {
           "color": "white",
           "width": 2
          },
          "type": "line",
          "x0": 75,
          "x1": 75,
          "y0": 23.58333,
          "y1": 24.249996666666668
         },
         {
          "layer": "below",
          "line": {
           "color": "white",
           "width": 2
          },
          "type": "line",
          "x0": 75,
          "x1": 75,
          "y0": 29.08333,
          "y1": 29.749996666666668
         },
         {
          "layer": "below",
          "line": {
           "color": "white",
           "width": 2
          },
          "type": "line",
          "x0": 75,
          "x1": 75,
          "y0": 51.63333333333333,
          "y1": 52.3
         },
         {
          "layer": "below",
          "line": {
           "color": "white",
           "width": 2
          },
          "type": "line",
          "x0": 76,
          "x1": 76,
          "y0": 1,
          "y1": 1.6666666666666665
         },
         {
          "layer": "below",
          "line": {
           "color": "white",
           "width": 2
          },
          "type": "line",
          "x0": 76,
          "x1": 76,
          "y0": 23.58333,
          "y1": 24.249996666666668
         },
         {
          "layer": "below",
          "line": {
           "color": "white",
           "width": 2
          },
          "type": "line",
          "x0": 76,
          "x1": 76,
          "y0": 29.08333,
          "y1": 29.749996666666668
         },
         {
          "layer": "below",
          "line": {
           "color": "white",
           "width": 2
          },
          "type": "line",
          "x0": 76,
          "x1": 76,
          "y0": 51.63333333333333,
          "y1": 52.3
         },
         {
          "layer": "below",
          "line": {
           "color": "white",
           "width": 2
          },
          "type": "line",
          "x0": 77,
          "x1": 77,
          "y0": 1,
          "y1": 1.6666666666666665
         },
         {
          "layer": "below",
          "line": {
           "color": "white",
           "width": 2
          },
          "type": "line",
          "x0": 77,
          "x1": 77,
          "y0": 23.58333,
          "y1": 24.249996666666668
         },
         {
          "layer": "below",
          "line": {
           "color": "white",
           "width": 2
          },
          "type": "line",
          "x0": 77,
          "x1": 77,
          "y0": 29.08333,
          "y1": 29.749996666666668
         },
         {
          "layer": "below",
          "line": {
           "color": "white",
           "width": 2
          },
          "type": "line",
          "x0": 77,
          "x1": 77,
          "y0": 51.63333333333333,
          "y1": 52.3
         },
         {
          "layer": "below",
          "line": {
           "color": "white",
           "width": 2
          },
          "type": "line",
          "x0": 78,
          "x1": 78,
          "y0": 1,
          "y1": 1.6666666666666665
         },
         {
          "layer": "below",
          "line": {
           "color": "white",
           "width": 2
          },
          "type": "line",
          "x0": 78,
          "x1": 78,
          "y0": 23.58333,
          "y1": 24.249996666666668
         },
         {
          "layer": "below",
          "line": {
           "color": "white",
           "width": 2
          },
          "type": "line",
          "x0": 78,
          "x1": 78,
          "y0": 29.08333,
          "y1": 29.749996666666668
         },
         {
          "layer": "below",
          "line": {
           "color": "white",
           "width": 2
          },
          "type": "line",
          "x0": 78,
          "x1": 78,
          "y0": 51.63333333333333,
          "y1": 52.3
         },
         {
          "layer": "below",
          "line": {
           "color": "white",
           "width": 2
          },
          "type": "line",
          "x0": 79,
          "x1": 79,
          "y0": 1,
          "y1": 1.6666666666666665
         },
         {
          "layer": "below",
          "line": {
           "color": "white",
           "width": 2
          },
          "type": "line",
          "x0": 79,
          "x1": 79,
          "y0": 23.58333,
          "y1": 24.249996666666668
         },
         {
          "layer": "below",
          "line": {
           "color": "white",
           "width": 2
          },
          "type": "line",
          "x0": 79,
          "x1": 79,
          "y0": 29.08333,
          "y1": 29.749996666666668
         },
         {
          "layer": "below",
          "line": {
           "color": "white",
           "width": 2
          },
          "type": "line",
          "x0": 79,
          "x1": 79,
          "y0": 51.63333333333333,
          "y1": 52.3
         },
         {
          "layer": "below",
          "line": {
           "color": "white",
           "width": 2
          },
          "type": "line",
          "x0": 81,
          "x1": 81,
          "y0": 1,
          "y1": 1.6666666666666665
         },
         {
          "layer": "below",
          "line": {
           "color": "white",
           "width": 2
          },
          "type": "line",
          "x0": 81,
          "x1": 81,
          "y0": 23.58333,
          "y1": 24.249996666666668
         },
         {
          "layer": "below",
          "line": {
           "color": "white",
           "width": 2
          },
          "type": "line",
          "x0": 81,
          "x1": 81,
          "y0": 29.08333,
          "y1": 29.749996666666668
         },
         {
          "layer": "below",
          "line": {
           "color": "white",
           "width": 2
          },
          "type": "line",
          "x0": 81,
          "x1": 81,
          "y0": 51.63333333333333,
          "y1": 52.3
         },
         {
          "layer": "below",
          "line": {
           "color": "white",
           "width": 2
          },
          "type": "line",
          "x0": 82,
          "x1": 82,
          "y0": 1,
          "y1": 1.6666666666666665
         },
         {
          "layer": "below",
          "line": {
           "color": "white",
           "width": 2
          },
          "type": "line",
          "x0": 82,
          "x1": 82,
          "y0": 23.58333,
          "y1": 24.249996666666668
         },
         {
          "layer": "below",
          "line": {
           "color": "white",
           "width": 2
          },
          "type": "line",
          "x0": 82,
          "x1": 82,
          "y0": 29.08333,
          "y1": 29.749996666666668
         },
         {
          "layer": "below",
          "line": {
           "color": "white",
           "width": 2
          },
          "type": "line",
          "x0": 82,
          "x1": 82,
          "y0": 51.63333333333333,
          "y1": 52.3
         },
         {
          "layer": "below",
          "line": {
           "color": "white",
           "width": 2
          },
          "type": "line",
          "x0": 83,
          "x1": 83,
          "y0": 1,
          "y1": 1.6666666666666665
         },
         {
          "layer": "below",
          "line": {
           "color": "white",
           "width": 2
          },
          "type": "line",
          "x0": 83,
          "x1": 83,
          "y0": 23.58333,
          "y1": 24.249996666666668
         },
         {
          "layer": "below",
          "line": {
           "color": "white",
           "width": 2
          },
          "type": "line",
          "x0": 83,
          "x1": 83,
          "y0": 29.08333,
          "y1": 29.749996666666668
         },
         {
          "layer": "below",
          "line": {
           "color": "white",
           "width": 2
          },
          "type": "line",
          "x0": 83,
          "x1": 83,
          "y0": 51.63333333333333,
          "y1": 52.3
         },
         {
          "layer": "below",
          "line": {
           "color": "white",
           "width": 2
          },
          "type": "line",
          "x0": 84,
          "x1": 84,
          "y0": 1,
          "y1": 1.6666666666666665
         },
         {
          "layer": "below",
          "line": {
           "color": "white",
           "width": 2
          },
          "type": "line",
          "x0": 84,
          "x1": 84,
          "y0": 23.58333,
          "y1": 24.249996666666668
         },
         {
          "layer": "below",
          "line": {
           "color": "white",
           "width": 2
          },
          "type": "line",
          "x0": 84,
          "x1": 84,
          "y0": 29.08333,
          "y1": 29.749996666666668
         },
         {
          "layer": "below",
          "line": {
           "color": "white",
           "width": 2
          },
          "type": "line",
          "x0": 84,
          "x1": 84,
          "y0": 51.63333333333333,
          "y1": 52.3
         },
         {
          "layer": "below",
          "line": {
           "color": "white",
           "width": 2
          },
          "type": "line",
          "x0": 85,
          "x1": 85,
          "y0": 1,
          "y1": 1.6666666666666665
         },
         {
          "layer": "below",
          "line": {
           "color": "white",
           "width": 2
          },
          "type": "line",
          "x0": 85,
          "x1": 85,
          "y0": 23.58333,
          "y1": 24.249996666666668
         },
         {
          "layer": "below",
          "line": {
           "color": "white",
           "width": 2
          },
          "type": "line",
          "x0": 85,
          "x1": 85,
          "y0": 29.08333,
          "y1": 29.749996666666668
         },
         {
          "layer": "below",
          "line": {
           "color": "white",
           "width": 2
          },
          "type": "line",
          "x0": 85,
          "x1": 85,
          "y0": 51.63333333333333,
          "y1": 52.3
         },
         {
          "layer": "below",
          "line": {
           "color": "white",
           "width": 2
          },
          "type": "line",
          "x0": 86,
          "x1": 86,
          "y0": 1,
          "y1": 1.6666666666666665
         },
         {
          "layer": "below",
          "line": {
           "color": "white",
           "width": 2
          },
          "type": "line",
          "x0": 86,
          "x1": 86,
          "y0": 23.58333,
          "y1": 24.249996666666668
         },
         {
          "layer": "below",
          "line": {
           "color": "white",
           "width": 2
          },
          "type": "line",
          "x0": 86,
          "x1": 86,
          "y0": 29.08333,
          "y1": 29.749996666666668
         },
         {
          "layer": "below",
          "line": {
           "color": "white",
           "width": 2
          },
          "type": "line",
          "x0": 86,
          "x1": 86,
          "y0": 51.63333333333333,
          "y1": 52.3
         },
         {
          "layer": "below",
          "line": {
           "color": "white",
           "width": 2
          },
          "type": "line",
          "x0": 87,
          "x1": 87,
          "y0": 1,
          "y1": 1.6666666666666665
         },
         {
          "layer": "below",
          "line": {
           "color": "white",
           "width": 2
          },
          "type": "line",
          "x0": 87,
          "x1": 87,
          "y0": 23.58333,
          "y1": 24.249996666666668
         },
         {
          "layer": "below",
          "line": {
           "color": "white",
           "width": 2
          },
          "type": "line",
          "x0": 87,
          "x1": 87,
          "y0": 29.08333,
          "y1": 29.749996666666668
         },
         {
          "layer": "below",
          "line": {
           "color": "white",
           "width": 2
          },
          "type": "line",
          "x0": 87,
          "x1": 87,
          "y0": 51.63333333333333,
          "y1": 52.3
         },
         {
          "layer": "below",
          "line": {
           "color": "white",
           "width": 2
          },
          "type": "line",
          "x0": 88,
          "x1": 88,
          "y0": 1,
          "y1": 1.6666666666666665
         },
         {
          "layer": "below",
          "line": {
           "color": "white",
           "width": 2
          },
          "type": "line",
          "x0": 88,
          "x1": 88,
          "y0": 23.58333,
          "y1": 24.249996666666668
         },
         {
          "layer": "below",
          "line": {
           "color": "white",
           "width": 2
          },
          "type": "line",
          "x0": 88,
          "x1": 88,
          "y0": 29.08333,
          "y1": 29.749996666666668
         },
         {
          "layer": "below",
          "line": {
           "color": "white",
           "width": 2
          },
          "type": "line",
          "x0": 88,
          "x1": 88,
          "y0": 51.63333333333333,
          "y1": 52.3
         },
         {
          "layer": "below",
          "line": {
           "color": "white",
           "width": 2
          },
          "type": "line",
          "x0": 89,
          "x1": 89,
          "y0": 1,
          "y1": 1.6666666666666665
         },
         {
          "layer": "below",
          "line": {
           "color": "white",
           "width": 2
          },
          "type": "line",
          "x0": 89,
          "x1": 89,
          "y0": 23.58333,
          "y1": 24.249996666666668
         },
         {
          "layer": "below",
          "line": {
           "color": "white",
           "width": 2
          },
          "type": "line",
          "x0": 89,
          "x1": 89,
          "y0": 29.08333,
          "y1": 29.749996666666668
         },
         {
          "layer": "below",
          "line": {
           "color": "white",
           "width": 2
          },
          "type": "line",
          "x0": 89,
          "x1": 89,
          "y0": 51.63333333333333,
          "y1": 52.3
         },
         {
          "layer": "below",
          "line": {
           "color": "white",
           "width": 2
          },
          "type": "line",
          "x0": 91,
          "x1": 91,
          "y0": 1,
          "y1": 1.6666666666666665
         },
         {
          "layer": "below",
          "line": {
           "color": "white",
           "width": 2
          },
          "type": "line",
          "x0": 91,
          "x1": 91,
          "y0": 23.58333,
          "y1": 24.249996666666668
         },
         {
          "layer": "below",
          "line": {
           "color": "white",
           "width": 2
          },
          "type": "line",
          "x0": 91,
          "x1": 91,
          "y0": 29.08333,
          "y1": 29.749996666666668
         },
         {
          "layer": "below",
          "line": {
           "color": "white",
           "width": 2
          },
          "type": "line",
          "x0": 91,
          "x1": 91,
          "y0": 51.63333333333333,
          "y1": 52.3
         },
         {
          "layer": "below",
          "line": {
           "color": "white",
           "width": 2
          },
          "type": "line",
          "x0": 92,
          "x1": 92,
          "y0": 1,
          "y1": 1.6666666666666665
         },
         {
          "layer": "below",
          "line": {
           "color": "white",
           "width": 2
          },
          "type": "line",
          "x0": 92,
          "x1": 92,
          "y0": 23.58333,
          "y1": 24.249996666666668
         },
         {
          "layer": "below",
          "line": {
           "color": "white",
           "width": 2
          },
          "type": "line",
          "x0": 92,
          "x1": 92,
          "y0": 29.08333,
          "y1": 29.749996666666668
         },
         {
          "layer": "below",
          "line": {
           "color": "white",
           "width": 2
          },
          "type": "line",
          "x0": 92,
          "x1": 92,
          "y0": 51.63333333333333,
          "y1": 52.3
         },
         {
          "layer": "below",
          "line": {
           "color": "white",
           "width": 2
          },
          "type": "line",
          "x0": 93,
          "x1": 93,
          "y0": 1,
          "y1": 1.6666666666666665
         },
         {
          "layer": "below",
          "line": {
           "color": "white",
           "width": 2
          },
          "type": "line",
          "x0": 93,
          "x1": 93,
          "y0": 23.58333,
          "y1": 24.249996666666668
         },
         {
          "layer": "below",
          "line": {
           "color": "white",
           "width": 2
          },
          "type": "line",
          "x0": 93,
          "x1": 93,
          "y0": 29.08333,
          "y1": 29.749996666666668
         },
         {
          "layer": "below",
          "line": {
           "color": "white",
           "width": 2
          },
          "type": "line",
          "x0": 93,
          "x1": 93,
          "y0": 51.63333333333333,
          "y1": 52.3
         },
         {
          "layer": "below",
          "line": {
           "color": "white",
           "width": 2
          },
          "type": "line",
          "x0": 94,
          "x1": 94,
          "y0": 1,
          "y1": 1.6666666666666665
         },
         {
          "layer": "below",
          "line": {
           "color": "white",
           "width": 2
          },
          "type": "line",
          "x0": 94,
          "x1": 94,
          "y0": 23.58333,
          "y1": 24.249996666666668
         },
         {
          "layer": "below",
          "line": {
           "color": "white",
           "width": 2
          },
          "type": "line",
          "x0": 94,
          "x1": 94,
          "y0": 29.08333,
          "y1": 29.749996666666668
         },
         {
          "layer": "below",
          "line": {
           "color": "white",
           "width": 2
          },
          "type": "line",
          "x0": 94,
          "x1": 94,
          "y0": 51.63333333333333,
          "y1": 52.3
         },
         {
          "layer": "below",
          "line": {
           "color": "white",
           "width": 2
          },
          "type": "line",
          "x0": 95,
          "x1": 95,
          "y0": 1,
          "y1": 1.6666666666666665
         },
         {
          "layer": "below",
          "line": {
           "color": "white",
           "width": 2
          },
          "type": "line",
          "x0": 95,
          "x1": 95,
          "y0": 23.58333,
          "y1": 24.249996666666668
         },
         {
          "layer": "below",
          "line": {
           "color": "white",
           "width": 2
          },
          "type": "line",
          "x0": 95,
          "x1": 95,
          "y0": 29.08333,
          "y1": 29.749996666666668
         },
         {
          "layer": "below",
          "line": {
           "color": "white",
           "width": 2
          },
          "type": "line",
          "x0": 95,
          "x1": 95,
          "y0": 51.63333333333333,
          "y1": 52.3
         },
         {
          "layer": "below",
          "line": {
           "color": "white",
           "width": 2
          },
          "type": "line",
          "x0": 96,
          "x1": 96,
          "y0": 1,
          "y1": 1.6666666666666665
         },
         {
          "layer": "below",
          "line": {
           "color": "white",
           "width": 2
          },
          "type": "line",
          "x0": 96,
          "x1": 96,
          "y0": 23.58333,
          "y1": 24.249996666666668
         },
         {
          "layer": "below",
          "line": {
           "color": "white",
           "width": 2
          },
          "type": "line",
          "x0": 96,
          "x1": 96,
          "y0": 29.08333,
          "y1": 29.749996666666668
         },
         {
          "layer": "below",
          "line": {
           "color": "white",
           "width": 2
          },
          "type": "line",
          "x0": 96,
          "x1": 96,
          "y0": 51.63333333333333,
          "y1": 52.3
         },
         {
          "layer": "below",
          "line": {
           "color": "white",
           "width": 2
          },
          "type": "line",
          "x0": 97,
          "x1": 97,
          "y0": 1,
          "y1": 1.6666666666666665
         },
         {
          "layer": "below",
          "line": {
           "color": "white",
           "width": 2
          },
          "type": "line",
          "x0": 97,
          "x1": 97,
          "y0": 23.58333,
          "y1": 24.249996666666668
         },
         {
          "layer": "below",
          "line": {
           "color": "white",
           "width": 2
          },
          "type": "line",
          "x0": 97,
          "x1": 97,
          "y0": 29.08333,
          "y1": 29.749996666666668
         },
         {
          "layer": "below",
          "line": {
           "color": "white",
           "width": 2
          },
          "type": "line",
          "x0": 97,
          "x1": 97,
          "y0": 51.63333333333333,
          "y1": 52.3
         },
         {
          "layer": "below",
          "line": {
           "color": "white",
           "width": 2
          },
          "type": "line",
          "x0": 98,
          "x1": 98,
          "y0": 1,
          "y1": 1.6666666666666665
         },
         {
          "layer": "below",
          "line": {
           "color": "white",
           "width": 2
          },
          "type": "line",
          "x0": 98,
          "x1": 98,
          "y0": 23.58333,
          "y1": 24.249996666666668
         },
         {
          "layer": "below",
          "line": {
           "color": "white",
           "width": 2
          },
          "type": "line",
          "x0": 98,
          "x1": 98,
          "y0": 29.08333,
          "y1": 29.749996666666668
         },
         {
          "layer": "below",
          "line": {
           "color": "white",
           "width": 2
          },
          "type": "line",
          "x0": 98,
          "x1": 98,
          "y0": 51.63333333333333,
          "y1": 52.3
         },
         {
          "layer": "below",
          "line": {
           "color": "white",
           "width": 2
          },
          "type": "line",
          "x0": 99,
          "x1": 99,
          "y0": 1,
          "y1": 1.6666666666666665
         },
         {
          "layer": "below",
          "line": {
           "color": "white",
           "width": 2
          },
          "type": "line",
          "x0": 99,
          "x1": 99,
          "y0": 23.58333,
          "y1": 24.249996666666668
         },
         {
          "layer": "below",
          "line": {
           "color": "white",
           "width": 2
          },
          "type": "line",
          "x0": 99,
          "x1": 99,
          "y0": 29.08333,
          "y1": 29.749996666666668
         },
         {
          "layer": "below",
          "line": {
           "color": "white",
           "width": 2
          },
          "type": "line",
          "x0": 99,
          "x1": 99,
          "y0": 51.63333333333333,
          "y1": 52.3
         },
         {
          "layer": "below",
          "line": {
           "color": "white",
           "width": 2
          },
          "type": "line",
          "x0": 101,
          "x1": 101,
          "y0": 1,
          "y1": 1.6666666666666665
         },
         {
          "layer": "below",
          "line": {
           "color": "white",
           "width": 2
          },
          "type": "line",
          "x0": 101,
          "x1": 101,
          "y0": 23.58333,
          "y1": 24.249996666666668
         },
         {
          "layer": "below",
          "line": {
           "color": "white",
           "width": 2
          },
          "type": "line",
          "x0": 101,
          "x1": 101,
          "y0": 29.08333,
          "y1": 29.749996666666668
         },
         {
          "layer": "below",
          "line": {
           "color": "white",
           "width": 2
          },
          "type": "line",
          "x0": 101,
          "x1": 101,
          "y0": 51.63333333333333,
          "y1": 52.3
         },
         {
          "layer": "below",
          "line": {
           "color": "white",
           "width": 2
          },
          "type": "line",
          "x0": 102,
          "x1": 102,
          "y0": 1,
          "y1": 1.6666666666666665
         },
         {
          "layer": "below",
          "line": {
           "color": "white",
           "width": 2
          },
          "type": "line",
          "x0": 102,
          "x1": 102,
          "y0": 23.58333,
          "y1": 24.249996666666668
         },
         {
          "layer": "below",
          "line": {
           "color": "white",
           "width": 2
          },
          "type": "line",
          "x0": 102,
          "x1": 102,
          "y0": 29.08333,
          "y1": 29.749996666666668
         },
         {
          "layer": "below",
          "line": {
           "color": "white",
           "width": 2
          },
          "type": "line",
          "x0": 102,
          "x1": 102,
          "y0": 51.63333333333333,
          "y1": 52.3
         },
         {
          "layer": "below",
          "line": {
           "color": "white",
           "width": 2
          },
          "type": "line",
          "x0": 103,
          "x1": 103,
          "y0": 1,
          "y1": 1.6666666666666665
         },
         {
          "layer": "below",
          "line": {
           "color": "white",
           "width": 2
          },
          "type": "line",
          "x0": 103,
          "x1": 103,
          "y0": 23.58333,
          "y1": 24.249996666666668
         },
         {
          "layer": "below",
          "line": {
           "color": "white",
           "width": 2
          },
          "type": "line",
          "x0": 103,
          "x1": 103,
          "y0": 29.08333,
          "y1": 29.749996666666668
         },
         {
          "layer": "below",
          "line": {
           "color": "white",
           "width": 2
          },
          "type": "line",
          "x0": 103,
          "x1": 103,
          "y0": 51.63333333333333,
          "y1": 52.3
         },
         {
          "layer": "below",
          "line": {
           "color": "white",
           "width": 2
          },
          "type": "line",
          "x0": 104,
          "x1": 104,
          "y0": 1,
          "y1": 1.6666666666666665
         },
         {
          "layer": "below",
          "line": {
           "color": "white",
           "width": 2
          },
          "type": "line",
          "x0": 104,
          "x1": 104,
          "y0": 23.58333,
          "y1": 24.249996666666668
         },
         {
          "layer": "below",
          "line": {
           "color": "white",
           "width": 2
          },
          "type": "line",
          "x0": 104,
          "x1": 104,
          "y0": 29.08333,
          "y1": 29.749996666666668
         },
         {
          "layer": "below",
          "line": {
           "color": "white",
           "width": 2
          },
          "type": "line",
          "x0": 104,
          "x1": 104,
          "y0": 51.63333333333333,
          "y1": 52.3
         },
         {
          "layer": "below",
          "line": {
           "color": "white",
           "width": 2
          },
          "type": "line",
          "x0": 105,
          "x1": 105,
          "y0": 1,
          "y1": 1.6666666666666665
         },
         {
          "layer": "below",
          "line": {
           "color": "white",
           "width": 2
          },
          "type": "line",
          "x0": 105,
          "x1": 105,
          "y0": 23.58333,
          "y1": 24.249996666666668
         },
         {
          "layer": "below",
          "line": {
           "color": "white",
           "width": 2
          },
          "type": "line",
          "x0": 105,
          "x1": 105,
          "y0": 29.08333,
          "y1": 29.749996666666668
         },
         {
          "layer": "below",
          "line": {
           "color": "white",
           "width": 2
          },
          "type": "line",
          "x0": 105,
          "x1": 105,
          "y0": 51.63333333333333,
          "y1": 52.3
         },
         {
          "layer": "below",
          "line": {
           "color": "white",
           "width": 2
          },
          "type": "line",
          "x0": 106,
          "x1": 106,
          "y0": 1,
          "y1": 1.6666666666666665
         },
         {
          "layer": "below",
          "line": {
           "color": "white",
           "width": 2
          },
          "type": "line",
          "x0": 106,
          "x1": 106,
          "y0": 23.58333,
          "y1": 24.249996666666668
         },
         {
          "layer": "below",
          "line": {
           "color": "white",
           "width": 2
          },
          "type": "line",
          "x0": 106,
          "x1": 106,
          "y0": 29.08333,
          "y1": 29.749996666666668
         },
         {
          "layer": "below",
          "line": {
           "color": "white",
           "width": 2
          },
          "type": "line",
          "x0": 106,
          "x1": 106,
          "y0": 51.63333333333333,
          "y1": 52.3
         },
         {
          "layer": "below",
          "line": {
           "color": "white",
           "width": 2
          },
          "type": "line",
          "x0": 107,
          "x1": 107,
          "y0": 1,
          "y1": 1.6666666666666665
         },
         {
          "layer": "below",
          "line": {
           "color": "white",
           "width": 2
          },
          "type": "line",
          "x0": 107,
          "x1": 107,
          "y0": 23.58333,
          "y1": 24.249996666666668
         },
         {
          "layer": "below",
          "line": {
           "color": "white",
           "width": 2
          },
          "type": "line",
          "x0": 107,
          "x1": 107,
          "y0": 29.08333,
          "y1": 29.749996666666668
         },
         {
          "layer": "below",
          "line": {
           "color": "white",
           "width": 2
          },
          "type": "line",
          "x0": 107,
          "x1": 107,
          "y0": 51.63333333333333,
          "y1": 52.3
         },
         {
          "layer": "below",
          "line": {
           "color": "white",
           "width": 2
          },
          "type": "line",
          "x0": 108,
          "x1": 108,
          "y0": 1,
          "y1": 1.6666666666666665
         },
         {
          "layer": "below",
          "line": {
           "color": "white",
           "width": 2
          },
          "type": "line",
          "x0": 108,
          "x1": 108,
          "y0": 23.58333,
          "y1": 24.249996666666668
         },
         {
          "layer": "below",
          "line": {
           "color": "white",
           "width": 2
          },
          "type": "line",
          "x0": 108,
          "x1": 108,
          "y0": 29.08333,
          "y1": 29.749996666666668
         },
         {
          "layer": "below",
          "line": {
           "color": "white",
           "width": 2
          },
          "type": "line",
          "x0": 108,
          "x1": 108,
          "y0": 51.63333333333333,
          "y1": 52.3
         },
         {
          "layer": "below",
          "line": {
           "color": "white",
           "width": 2
          },
          "type": "line",
          "x0": 109,
          "x1": 109,
          "y0": 1,
          "y1": 1.6666666666666665
         },
         {
          "layer": "below",
          "line": {
           "color": "white",
           "width": 2
          },
          "type": "line",
          "x0": 109,
          "x1": 109,
          "y0": 23.58333,
          "y1": 24.249996666666668
         },
         {
          "layer": "below",
          "line": {
           "color": "white",
           "width": 2
          },
          "type": "line",
          "x0": 109,
          "x1": 109,
          "y0": 29.08333,
          "y1": 29.749996666666668
         },
         {
          "layer": "below",
          "line": {
           "color": "white",
           "width": 2
          },
          "type": "line",
          "x0": 109,
          "x1": 109,
          "y0": 51.63333333333333,
          "y1": 52.3
         },
         {
          "fillcolor": "white",
          "layer": "below",
          "line": {
           "color": "white"
          },
          "path": "M 18.013,4.68 L 18.013,5.72 A 3.257,3.257 180.0 0,1 18.014,5.789 A 1.126,1.126 180.0 0,1 17.991,6.057 Q 17.963,6.16 17.893,6.1899999999999995 Q 17.823,6.22 17.663,6.22 L 17.418,6.22 A 0.095,0.095 180.0 0,0 17.328,6.34 Q 17.333000000000002,6.415 17.358,6.432 Q 17.383,6.45 17.421,6.45 L 17.473,6.45 Q 17.683,6.45 17.883,6.5169999999999995 Q 18.083000000000002,6.585 18.318,6.68 Q 18.348,6.6899999999999995 18.368000000000002,6.6899999999999995 Q 18.448,6.6899999999999995 18.448,6.574999999999999 L 18.448,4.68 Q 18.448,4.46 18.501,4.365 Q 18.553,4.27 18.666,4.245 Q 18.778000000000002,4.22 19.028000000000002,4.22 L 19.078,4.22 Q 19.118000000000002,4.22 19.136,4.199999999999999 Q 19.153000000000002,4.18 19.158,4.12 Q 19.158,4.0 19.068,4.0 Q 18.708000000000002,4.015000000000001 18.228,4.015000000000001 Q 17.753,4.015000000000001 17.393,4.0 A 0.095,0.095 180.0 0,0 17.303,4.12 Q 17.308,4.18 17.326,4.199999999999999 Q 17.343,4.22 17.383,4.22 Q 17.663,4.22 17.781000000000002,4.242 Q 17.898,4.265000000000001 17.956,4.359999999999999 Q 18.013,4.455 18.013,4.68 L 18.013,4.68",
          "type": "path"
         },
         {
          "fillcolor": "white",
          "layer": "below",
          "line": {
           "color": "white"
          },
          "path": "M 21.69,6.7509999999999994 Q 21.3,6.7509999999999994 21.033,6.561 Q 20.765,6.371 20.633,6.056 Q 20.5,5.741 20.5,5.371 Q 20.5,4.996 20.633,4.686 Q 20.765,4.376 21.033,4.188 Q 21.3,4.001 21.69,4.001 Q 22.06,4.001 22.33,4.191 Q 22.6,4.381 22.740000000000002,4.696 Q 22.88,5.011 22.88,5.371 Q 22.88,5.731 22.740000000000002,6.045999999999999 Q 22.6,6.361000000000001 22.33,6.556 Q 22.06,6.7509999999999994 21.69,6.7509999999999994 M 21.695,6.566 Q 22.03,6.566 22.215,6.256 Q 22.4,5.946 22.4,5.371 Q 22.4,4.796 22.215,4.491 Q 22.03,4.186 21.695,4.186 Q 21.35,4.186 21.165,4.4879999999999995 Q 20.98,4.791 20.98,5.371 Q 20.98,5.9510000000000005 21.165,6.258 Q 21.35,6.566 21.695,6.566",
          "type": "path"
         },
         {
          "fillcolor": "white",
          "layer": "below",
          "line": {
           "color": "white"
          },
          "path": "M 18.19,49.751 Q 17.8,49.751 17.533,49.561 Q 17.265,49.371 17.133,49.056 Q 17.0,48.741 17.0,48.371 Q 17.0,47.996 17.133,47.686 Q 17.265,47.376 17.533,47.188 Q 17.8,47.001 18.19,47.001 Q 18.56,47.001 18.83,47.191 Q 19.1,47.381 19.240000000000002,47.696 Q 19.38,48.011 19.38,48.371 Q 19.38,48.731 19.240000000000002,49.046 Q 19.1,49.361 18.83,49.556 Q 18.56,49.751 18.19,49.751 M 18.195,49.566 Q 18.53,49.566 18.715,49.256 Q 18.9,48.946 18.9,48.371 Q 18.9,47.796 18.715,47.491 Q 18.53,47.186 18.195,47.186 Q 17.85,47.186 17.665,47.488 Q 17.48,47.791 17.48,48.371 Q 17.48,48.951 17.665,49.258 Q 17.85,49.566 18.195,49.566",
          "type": "path"
         },
         {
          "fillcolor": "white",
          "layer": "below",
          "line": {
           "color": "white"
          },
          "path": "M 21.644647615158764,49.01 L 21.644647615158764,47.97 A 3.257,3.257 360.0 0,1 21.643647615158763,47.901 A 1.126,1.126 360.0 0,1 21.666647615158762,47.633 Q 21.69464761515876,47.53 21.76464761515876,47.5 Q 21.83464761515876,47.47 21.99464761515876,47.47 L 22.239647615158763,47.47 A 0.095,0.095 360.0 0,0 22.329647615158763,47.35 Q 22.324647615158764,47.275 22.29964761515876,47.258 Q 22.274647615158763,47.24 22.236647615158763,47.24 L 22.184647615158763,47.24 Q 21.974647615158762,47.24 21.774647615158763,47.173 Q 21.574647615158764,47.105 21.33964761515876,47.01 Q 21.309647615158763,47.0 21.289647615158763,47.0 Q 21.20964761515876,47.0 21.20964761515876,47.115 L 21.20964761515876,49.01 Q 21.20964761515876,49.23 21.15664761515876,49.325 Q 21.10464761515876,49.42 20.99164761515876,49.445 Q 20.879647615158763,49.47 20.629647615158763,49.47 L 20.579647615158763,49.47 Q 20.539647615158763,49.47 20.521647615158763,49.49 Q 20.504647615158763,49.51 20.49964761515876,49.57 Q 20.49964761515876,49.69 20.589647615158764,49.69 Q 20.949647615158764,49.675 21.429647615158764,49.675 Q 21.904647615158762,49.675 22.26464761515876,49.69 A 0.095,0.095 360.0 0,0 22.35464761515876,49.57 Q 22.349647615158762,49.51 22.33164761515876,49.49 Q 22.314647615158762,49.47 22.274647615158763,49.47 Q 21.99464761515876,49.47 21.876647615158763,49.448 Q 21.759647615158762,49.425 21.701647615158763,49.33 Q 21.644647615158764,49.235 21.644647615158764,49.01 L 21.644647615158764,49.01",
          "type": "path"
         },
         {
          "fillcolor": "white",
          "layer": "below",
          "line": {
           "color": "white"
          },
          "path": "M 27.747,4.38 L 27.747,4.355 L 29.087,4.355 A 0.449,0.449 180.0 0,0 29.269000000000002,4.327 Q 29.327,4.3 29.327,4.18 Q 29.327,4.0 29.152,4.0 L 27.477,4.0 Q 27.302,4.0 27.302,4.18 Q 27.307000000000002,4.285 27.359,4.35 Q 27.412,4.415 27.532,4.495 Q 27.927,4.76 28.144000000000002,4.932 Q 28.362000000000002,5.105 28.537,5.37 Q 28.712,5.635 28.712,5.965 Q 28.712,6.205 28.584,6.337 Q 28.457,6.47 28.227,6.47 Q 28.032,6.47 27.904,6.372 Q 27.777,6.275 27.777,6.105 Q 27.777,6.02 27.817,5.962 Q 27.857,5.904999999999999 27.899,5.87 Q 27.942,5.835 27.942,5.83 Q 27.942,5.795 27.874000000000002,5.745 Q 27.807000000000002,5.695 27.712,5.695 Q 27.557000000000002,5.695 27.464000000000002,5.792 Q 27.372,5.89 27.372,6.04 Q 27.372,6.24 27.507,6.38 Q 27.642,6.52 27.849,6.585 Q 28.057000000000002,6.65 28.272000000000002,6.65 Q 28.647000000000002,6.65 28.919,6.465 Q 29.192,6.279999999999999 29.192,5.9 Q 29.192,5.625 29.042,5.4 Q 28.892,5.175 28.684,5.0169999999999995 Q 28.477,4.859999999999999 28.142,4.645 Q 27.877000000000002,4.48 27.747,4.38",
          "type": "path"
         },
         {
          "fillcolor": "white",
          "layer": "below",
          "line": {
           "color": "white"
          },
          "path": "M 31.69,6.7509999999999994 Q 31.3,6.7509999999999994 31.033,6.561 Q 30.765,6.371 30.633,6.056 Q 30.5,5.741 30.5,5.371 Q 30.5,4.996 30.633,4.686 Q 30.765,4.376 31.033,4.188 Q 31.3,4.001 31.69,4.001 Q 32.06,4.001 32.33,4.191 Q 32.6,4.381 32.74,4.696 Q 32.88,5.011 32.88,5.371 Q 32.88,5.731 32.74,6.045999999999999 Q 32.6,6.361000000000001 32.33,6.556 Q 32.06,6.7509999999999994 31.69,6.7509999999999994 M 31.695,6.566 Q 32.03,6.566 32.215,6.256 Q 32.4,5.946 32.4,5.371 Q 32.4,4.796 32.215,4.491 Q 32.03,4.186 31.695,4.186 Q 31.35,4.186 31.165,4.4879999999999995 Q 30.98,4.791 30.98,5.371 Q 30.98,5.9510000000000005 31.165,6.258 Q 31.35,6.566 31.695,6.566",
          "type": "path"
         },
         {
          "fillcolor": "white",
          "layer": "below",
          "line": {
           "color": "white"
          },
          "path": "M 28.19,49.751 Q 27.8,49.751 27.533,49.561 Q 27.265,49.371 27.133,49.056 Q 27.0,48.741 27.0,48.371 Q 27.0,47.996 27.133,47.686 Q 27.265,47.376 27.533,47.188 Q 27.8,47.001 28.19,47.001 Q 28.56,47.001 28.83,47.191 Q 29.1,47.381 29.240000000000002,47.696 Q 29.38,48.011 29.38,48.371 Q 29.38,48.731 29.240000000000002,49.046 Q 29.1,49.361 28.83,49.556 Q 28.56,49.751 28.19,49.751 M 28.195,49.566 Q 28.53,49.566 28.715,49.256 Q 28.9,48.946 28.9,48.371 Q 28.9,47.796 28.715,47.491 Q 28.53,47.186 28.195,47.186 Q 27.85,47.186 27.665,47.488 Q 27.48,47.791 27.48,48.371 Q 27.48,48.951 27.665,49.258 Q 27.85,49.566 28.195,49.566",
          "type": "path"
         },
         {
          "fillcolor": "white",
          "layer": "below",
          "line": {
           "color": "white"
          },
          "path": "M 32.082,49.27 L 32.082,49.295 L 30.742,49.295 A 0.449,0.449 360.0 0,0 30.56,49.323 Q 30.502,49.35 30.502,49.47 Q 30.502,49.65 30.677,49.65 L 32.352,49.65 Q 32.527,49.65 32.527,49.47 Q 32.522,49.365 32.47,49.3 Q 32.417,49.235 32.297,49.155 Q 31.902,48.89 31.685,48.718 Q 31.467,48.545 31.292,48.28 Q 31.117,48.015 31.117,47.685 Q 31.117,47.445 31.245,47.313 Q 31.372,47.18 31.602,47.18 Q 31.797,47.18 31.925,47.278 Q 32.052,47.375 32.052,47.545 Q 32.052,47.63 32.012,47.688 Q 31.972,47.745 31.93,47.78 Q 31.887,47.815 31.887,47.82 Q 31.887,47.855 31.955,47.905 Q 32.022,47.955 32.117,47.955 Q 32.272,47.955 32.365,47.858 Q 32.457,47.76 32.457,47.61 Q 32.457,47.41 32.322,47.27 Q 32.187,47.13 31.98,47.065 Q 31.772,47.0 31.557,47.0 Q 31.182,47.0 30.91,47.185 Q 30.637,47.37 30.637,47.75 Q 30.637,48.025 30.787,48.25 Q 30.937,48.475 31.145,48.633 Q 31.352,48.79 31.687,49.005 Q 31.951999999999998,49.17 32.082,49.27",
          "type": "path"
         },
         {
          "fillcolor": "white",
          "layer": "below",
          "line": {
           "color": "white"
          },
          "path": "M 38.199999999999996,5.336 L 38.015,5.336 Q 37.98,5.336 37.959999999999994,5.366 Q 37.94,5.396 37.94,5.436 Q 37.94,5.481 37.959999999999994,5.513 Q 37.98,5.546 38.015,5.551 L 38.199999999999996,5.551 Q 38.394999999999996,5.571 38.513,5.726 Q 38.629999999999995,5.881 38.629999999999995,6.101 Q 38.629999999999995,6.341 38.495,6.468 Q 38.36,6.596 38.18,6.596 Q 38.01,6.596 37.888,6.498 Q 37.765,6.401 37.765,6.231 Q 37.765,6.121 37.808,6.083 Q 37.849999999999994,6.046 37.89,6.038 Q 37.93,6.031000000000001 37.93,6.026 Q 37.93,5.991 37.863,5.941 Q 37.794999999999995,5.891 37.699999999999996,5.891 Q 37.54,5.891 37.449999999999996,5.991 Q 37.36,6.091 37.36,6.246 Q 37.36,6.491 37.589999999999996,6.6259999999999994 Q 37.82,6.761 38.184999999999995,6.761 Q 38.574999999999996,6.761 38.83,6.591 Q 39.084999999999994,6.420999999999999 39.084999999999994,6.101 Q 39.084999999999994,5.891 38.937999999999995,5.711 Q 38.79,5.531 38.515,5.4559999999999995 L 38.515,5.436 Q 38.794999999999995,5.406 39.0,5.258 Q 39.205,5.111 39.205,4.791 Q 39.205,4.386 38.91,4.193 Q 38.614999999999995,4.001 38.169999999999995,4.001 Q 37.805,4.0009999999999994 37.553,4.143 Q 37.3,4.286 37.3,4.561 Q 37.3,4.7059999999999995 37.39,4.811 Q 37.48,4.916 37.64,4.916 Q 37.735,4.916 37.803,4.866 Q 37.87,4.816 37.87,4.781 Q 37.87,4.776 37.824999999999996,4.743 Q 37.779999999999994,4.711 37.742999999999995,4.656000000000001 Q 37.705,4.601 37.705,4.516 Q 37.705,4.361000000000001 37.837999999999994,4.273 Q 37.97,4.186 38.184999999999995,4.186 Q 38.72,4.186 38.72,4.781 Q 38.72,5.026 38.589999999999996,5.173 Q 38.459999999999994,5.321 38.199999999999996,5.336",
          "type": "path"
         },
         {
          "fillcolor": "white",
          "layer": "below",
          "line": {
           "color": "white"
          },
          "path": "M 41.69,6.7509999999999994 Q 41.3,6.7509999999999994 41.033,6.561 Q 40.765,6.371 40.633,6.056 Q 40.5,5.741 40.5,5.371 Q 40.5,4.996 40.633,4.686 Q 40.765,4.376 41.033,4.188 Q 41.3,4.001 41.69,4.001 Q 42.06,4.001 42.33,4.191 Q 42.6,4.381 42.74,4.696 Q 42.88,5.011 42.88,5.371 Q 42.88,5.731 42.74,6.045999999999999 Q 42.6,6.361000000000001 42.33,6.556 Q 42.06,6.7509999999999994 41.69,6.7509999999999994 M 41.695,6.566 Q 42.03,6.566 42.215,6.256 Q 42.4,5.946 42.4,5.371 Q 42.4,4.796 42.215,4.491 Q 42.03,4.186 41.695,4.186 Q 41.35,4.186 41.165,4.4879999999999995 Q 40.98,4.791 40.98,5.371 Q 40.98,5.9510000000000005 41.165,6.258 Q 41.35,6.566 41.695,6.566",
          "type": "path"
         },
         {
          "fillcolor": "white",
          "layer": "below",
          "line": {
           "color": "white"
          },
          "path": "M 38.19,49.751 Q 37.8,49.751 37.533,49.561 Q 37.265,49.371 37.133,49.056 Q 37.0,48.741 37.0,48.371 Q 37.0,47.996 37.133,47.686 Q 37.265,47.376 37.533,47.188 Q 37.8,47.001 38.19,47.001 Q 38.56,47.001 38.83,47.191 Q 39.1,47.381 39.24,47.696 Q 39.38,48.011 39.38,48.371 Q 39.38,48.731 39.24,49.046 Q 39.1,49.361 38.83,49.556 Q 38.56,49.751 38.19,49.751 M 38.195,49.566 Q 38.53,49.566 38.715,49.256 Q 38.9,48.946 38.9,48.371 Q 38.9,47.796 38.715,47.491 Q 38.53,47.186 38.195,47.186 Q 37.85,47.186 37.665,47.488 Q 37.48,47.791 37.48,48.371 Q 37.48,48.951 37.665,49.258 Q 37.85,49.566 38.195,49.566",
          "type": "path"
         },
         {
          "fillcolor": "white",
          "layer": "below",
          "line": {
           "color": "white"
          },
          "path": "M 41.505,48.426 L 41.69,48.426 Q 41.725,48.426 41.745,48.396 Q 41.765,48.366 41.765,48.326 Q 41.765,48.281 41.745,48.249 Q 41.725,48.216 41.69,48.211 L 41.505,48.211 Q 41.31,48.191 41.192,48.036 Q 41.075,47.881 41.075,47.661 Q 41.075,47.421 41.21,47.294 Q 41.345,47.166 41.525,47.166 Q 41.695,47.166 41.817,47.264 Q 41.94,47.361 41.94,47.531 Q 41.94,47.641 41.897,47.679 Q 41.855,47.716 41.815,47.724 Q 41.775,47.731 41.775,47.736 Q 41.775,47.771 41.842,47.821 Q 41.91,47.871 42.005,47.871 Q 42.165,47.871 42.255,47.771 Q 42.345,47.671 42.345,47.516 Q 42.345,47.271 42.115,47.136 Q 41.885,47.001 41.52,47.001 Q 41.13,47.001 40.875,47.171 Q 40.62,47.341 40.62,47.661 Q 40.62,47.871 40.767,48.051 Q 40.915,48.231 41.19,48.306 L 41.19,48.326 Q 40.91,48.356 40.705,48.504 Q 40.5,48.651 40.5,48.971000000000004 Q 40.5,49.376 40.795,49.569 Q 41.09,49.761 41.535,49.761 Q 41.9,49.761 42.152,49.619 Q 42.405,49.476 42.405,49.201 Q 42.405,49.056 42.315,48.951 Q 42.225,48.846000000000004 42.065,48.846000000000004 Q 41.97,48.846000000000004 41.902,48.896 Q 41.835,48.946 41.835,48.981 Q 41.835,48.986 41.88,49.019 Q 41.925,49.051 41.962,49.106 Q 42.0,49.161 42.0,49.246 Q 42.0,49.400999999999996 41.867,49.489 Q 41.735,49.576 41.52,49.576 Q 40.985,49.576 40.985,48.981 Q 40.985,48.736 41.115,48.589 Q 41.245,48.441 41.505,48.426",
          "type": "path"
         },
         {
          "fillcolor": "white",
          "layer": "below",
          "line": {
           "color": "white"
          },
          "path": "M 48.654999999999994,4.096 L 48.654999999999994,4.861 L 47.459999999999994,4.861 Q 47.379999999999995,4.861 47.339999999999996,4.911 Q 47.3,4.961 47.3,5.036 Q 47.3,5.101 47.334999999999994,5.146 L 48.739999999999995,6.680999999999999 Q 48.79,6.731 48.894999999999996,6.731 Q 48.974999999999994,6.731 49.029999999999994,6.689 Q 49.084999999999994,6.646 49.089999999999996,6.555999999999999 L 49.089999999999996,5.106 L 49.39,5.106 Q 49.459999999999994,5.106 49.489999999999995,5.0889999999999995 Q 49.519999999999996,5.071 49.525,4.986 Q 49.525,4.931 49.503,4.896 Q 49.48,4.861 49.43,4.861 L 49.089999999999996,4.861 L 49.089999999999996,4.096 Q 49.089999999999996,4.051 49.025,4.026 Q 48.959999999999994,4.0009999999999994 48.875,4.0009999999999994 Q 48.79,4.0009999999999994 48.724999999999994,4.026 Q 48.66,4.051 48.654999999999994,4.096 M 48.654999999999994,6.291 L 47.589999999999996,5.106 L 48.654999999999994,5.106 L 48.654999999999994,6.291",
          "type": "path"
         },
         {
          "fillcolor": "white",
          "layer": "below",
          "line": {
           "color": "white"
          },
          "path": "M 51.69,6.7509999999999994 Q 51.3,6.7509999999999994 51.033,6.561 Q 50.765,6.371 50.633,6.056 Q 50.5,5.741 50.5,5.371 Q 50.5,4.996 50.633,4.686 Q 50.765,4.376 51.033,4.188 Q 51.3,4.001 51.69,4.001 Q 52.06,4.001 52.33,4.191 Q 52.6,4.381 52.74,4.696 Q 52.88,5.011 52.88,5.371 Q 52.88,5.731 52.74,6.045999999999999 Q 52.6,6.361000000000001 52.33,6.556 Q 52.06,6.7509999999999994 51.69,6.7509999999999994 M 51.695,6.566 Q 52.03,6.566 52.215,6.256 Q 52.4,5.946 52.4,5.371 Q 52.4,4.796 52.215,4.491 Q 52.03,4.186 51.695,4.186 Q 51.35,4.186 51.165,4.4879999999999995 Q 50.98,4.791 50.98,5.371 Q 50.98,5.9510000000000005 51.165,6.258 Q 51.35,6.566 51.695,6.566",
          "type": "path"
         },
         {
          "fillcolor": "white",
          "layer": "below",
          "line": {
           "color": "white"
          },
          "path": "M 48.19,49.751 Q 47.8,49.751 47.533,49.561 Q 47.265,49.371 47.133,49.056 Q 47.0,48.741 47.0,48.371 Q 47.0,47.996 47.133,47.686 Q 47.265,47.376 47.533,47.188 Q 47.8,47.001 48.19,47.001 Q 48.56,47.001 48.83,47.191 Q 49.1,47.381 49.24,47.696 Q 49.38,48.011 49.38,48.371 Q 49.38,48.731 49.24,49.046 Q 49.1,49.361 48.83,49.556 Q 48.56,49.751 48.19,49.751 M 48.195,49.566 Q 48.53,49.566 48.715,49.256 Q 48.9,48.946 48.9,48.371 Q 48.9,47.796 48.715,47.491 Q 48.53,47.186 48.195,47.186 Q 47.85,47.186 47.665,47.488 Q 47.48,47.791 47.48,48.371 Q 47.48,48.951 47.665,49.258 Q 47.85,49.566 48.195,49.566",
          "type": "path"
         },
         {
          "fillcolor": "white",
          "layer": "below",
          "line": {
           "color": "white"
          },
          "path": "M 51.37,49.636 L 51.37,48.871 L 52.565,48.871 Q 52.645,48.871 52.685,48.821 Q 52.725,48.771 52.725,48.696 Q 52.725,48.631 52.69,48.586 L 51.285,47.051 Q 51.235,47.001 51.13,47.001 Q 51.05,47.001 50.995,47.043 Q 50.94,47.086 50.935,47.176 L 50.935,48.626 L 50.635,48.626 Q 50.565,48.626 50.535,48.643 Q 50.505,48.661 50.5,48.746 Q 50.5,48.801 50.522,48.836 Q 50.545,48.871 50.595,48.871 L 50.935,48.871 L 50.935,49.636 Q 50.935,49.681 51.0,49.706 Q 51.065,49.731 51.15,49.731 Q 51.235,49.731 51.3,49.706 Q 51.365,49.681 51.37,49.636 M 51.37,47.441 L 52.435,48.626 L 51.37,48.626 L 51.37,47.441",
          "type": "path"
         },
         {
          "fillcolor": "white",
          "layer": "below",
          "line": {
           "color": "white"
          },
          "path": "M 57.434999999999995,5.45 L 57.44,5.51 L 57.595,6.7 L 58.97,6.7 Q 59.04,6.7 59.083,6.655 Q 59.125,6.61 59.125,6.53 Q 59.125,6.345000000000001 58.934999999999995,6.345000000000001 L 57.824999999999996,6.345000000000001 L 57.72,5.65 Q 57.94,5.785 58.26,5.785 Q 58.474999999999994,5.785 58.693,5.69 Q 58.91,5.595000000000001 59.055,5.4 Q 59.199999999999996,5.205 59.199999999999996,4.915 Q 59.199999999999996,4.625 59.058,4.417 Q 58.915,4.21 58.678,4.105 Q 58.44,4.0 58.16,4.0 Q 57.79,4.0 57.544999999999995,4.135 Q 57.3,4.27 57.3,4.555 Q 57.3,4.71 57.393,4.827 Q 57.485,4.945 57.64,4.945 Q 57.735,4.945 57.803,4.8950000000000005 Q 57.87,4.845000000000001 57.87,4.8100000000000005 Q 57.87,4.805 57.824999999999996,4.765000000000001 Q 57.779999999999994,4.725 57.742999999999995,4.667 Q 57.705,4.61 57.705,4.535 Q 57.705,4.365 57.827999999999996,4.275 Q 57.949999999999996,4.1850000000000005 58.169999999999995,4.1850000000000005 Q 58.445,4.1850000000000005 58.583,4.380000000000001 Q 58.72,4.575 58.72,4.890000000000001 Q 58.72,5.18 58.58,5.372 Q 58.44,5.565 58.144999999999996,5.565 Q 58.01,5.565 57.913,5.522 Q 57.815,5.48 57.705,5.4 Q 57.64,5.355 57.598,5.332 Q 57.555,5.3100000000000005 57.515,5.3100000000000005 Q 57.434999999999995,5.3100000000000005 57.434999999999995,5.45 L 57.434999999999995,5.45",
          "type": "path"
         },
         {
          "fillcolor": "white",
          "layer": "below",
          "line": {
           "color": "white"
          },
          "path": "M 61.69,6.7509999999999994 Q 61.3,6.7509999999999994 61.033,6.561 Q 60.765,6.371 60.633,6.056 Q 60.5,5.741 60.5,5.371 Q 60.5,4.996 60.633,4.686 Q 60.765,4.376 61.033,4.188 Q 61.3,4.001 61.69,4.001 Q 62.06,4.001 62.33,4.191 Q 62.6,4.381 62.74,4.696 Q 62.88,5.011 62.88,5.371 Q 62.88,5.731 62.74,6.045999999999999 Q 62.6,6.361000000000001 62.33,6.556 Q 62.06,6.7509999999999994 61.69,6.7509999999999994 M 61.695,6.566 Q 62.03,6.566 62.215,6.256 Q 62.4,5.946 62.4,5.371 Q 62.4,4.796 62.215,4.491 Q 62.03,4.186 61.695,4.186 Q 61.35,4.186 61.165,4.4879999999999995 Q 60.98,4.791 60.98,5.371 Q 60.98,5.9510000000000005 61.165,6.258 Q 61.35,6.566 61.695,6.566",
          "type": "path"
         },
         {
          "fillcolor": "white",
          "layer": "below",
          "line": {
           "color": "white"
          },
          "path": "M 58.19,49.751 Q 57.8,49.751 57.533,49.561 Q 57.265,49.371 57.133,49.056 Q 57.0,48.741 57.0,48.371 Q 57.0,47.996 57.133,47.686 Q 57.265,47.376 57.533,47.188 Q 57.8,47.001 58.19,47.001 Q 58.56,47.001 58.83,47.191 Q 59.1,47.381 59.24,47.696 Q 59.38,48.011 59.38,48.371 Q 59.38,48.731 59.24,49.046 Q 59.1,49.361 58.83,49.556 Q 58.56,49.751 58.19,49.751 M 58.195,49.566 Q 58.53,49.566 58.715,49.256 Q 58.9,48.946 58.9,48.371 Q 58.9,47.796 58.715,47.491 Q 58.53,47.186 58.195,47.186 Q 57.85,47.186 57.665,47.488 Q 57.48,47.791 57.48,48.371 Q 57.48,48.951 57.665,49.258 Q 57.85,49.566 58.195,49.566",
          "type": "path"
         },
         {
          "fillcolor": "white",
          "layer": "below",
          "line": {
           "color": "white"
          },
          "path": "M 62.265,48.25 L 62.26,48.19 L 62.105,47.0 L 60.73,47.0 Q 60.66,47.0 60.617,47.045 Q 60.575,47.09 60.575,47.17 Q 60.575,47.355 60.765,47.355 L 61.875,47.355 L 61.98,48.05 Q 61.76,47.915 61.44,47.915 Q 61.225,47.915 61.007,48.01 Q 60.79,48.105 60.645,48.3 Q 60.5,48.495 60.5,48.785 Q 60.5,49.075 60.642,49.283 Q 60.785,49.49 61.022,49.595 Q 61.26,49.7 61.54,49.7 Q 61.91,49.7 62.155,49.565 Q 62.4,49.43 62.4,49.145 Q 62.4,48.99 62.307,48.873 Q 62.215,48.755 62.06,48.755 Q 61.965,48.755 61.897,48.805 Q 61.83,48.855 61.83,48.89 Q 61.83,48.895 61.875,48.935 Q 61.92,48.975 61.957,49.033 Q 61.995,49.09 61.995,49.165 Q 61.995,49.335 61.872,49.425 Q 61.75,49.515 61.53,49.515 Q 61.255,49.515 61.117,49.32 Q 60.98,49.125 60.98,48.81 Q 60.98,48.52 61.12,48.328 Q 61.26,48.135 61.555,48.135 Q 61.69,48.135 61.787,48.178 Q 61.885,48.22 61.995,48.3 Q 62.06,48.345 62.102,48.368 Q 62.145,48.39 62.185,48.39 Q 62.265,48.39 62.265,48.25 L 62.265,48.25",
          "type": "path"
         },
         {
          "fillcolor": "white",
          "layer": "below",
          "line": {
           "color": "white"
          },
          "path": "M 68.655,4.096 L 68.655,4.861 L 67.46,4.861 Q 67.38,4.861 67.34,4.911 Q 67.3,4.961 67.3,5.036 Q 67.3,5.101 67.335,5.146 L 68.74,6.680999999999999 Q 68.78999999999999,6.731 68.895,6.731 Q 68.975,6.731 69.03,6.689 Q 69.085,6.646 69.09,6.555999999999999 L 69.09,5.106 L 69.39,5.106 Q 69.46,5.106 69.49,5.0889999999999995 Q 69.52,5.071 69.52499999999999,4.986 Q 69.52499999999999,4.931 69.503,4.896 Q 69.48,4.861 69.42999999999999,4.861 L 69.09,4.861 L 69.09,4.096 Q 69.09,4.051 69.02499999999999,4.026 Q 68.96,4.0009999999999994 68.875,4.0009999999999994 Q 68.78999999999999,4.0009999999999994 68.725,4.026 Q 68.66,4.051 68.655,4.096 M 68.655,6.291 L 67.59,5.106 L 68.655,5.106 L 68.655,6.291",
          "type": "path"
         },
         {
          "fillcolor": "white",
          "layer": "below",
          "line": {
           "color": "white"
          },
          "path": "M 71.69,6.7509999999999994 Q 71.3,6.7509999999999994 71.033,6.561 Q 70.765,6.371 70.633,6.056 Q 70.5,5.741 70.5,5.371 Q 70.5,4.996 70.633,4.686 Q 70.765,4.376 71.033,4.188 Q 71.3,4.001 71.69,4.001 Q 72.06,4.001 72.33,4.191 Q 72.6,4.381 72.74,4.696 Q 72.88,5.011 72.88,5.371 Q 72.88,5.731 72.74,6.045999999999999 Q 72.6,6.361000000000001 72.33,6.556 Q 72.06,6.7509999999999994 71.69,6.7509999999999994 M 71.695,6.566 Q 72.03,6.566 72.215,6.256 Q 72.4,5.946 72.4,5.371 Q 72.4,4.796 72.215,4.491 Q 72.03,4.186 71.695,4.186 Q 71.35,4.186 71.165,4.4879999999999995 Q 70.98,4.791 70.98,5.371 Q 70.98,5.9510000000000005 71.165,6.258 Q 71.35,6.566 71.695,6.566",
          "type": "path"
         },
         {
          "fillcolor": "white",
          "layer": "below",
          "line": {
           "color": "white"
          },
          "path": "M 68.19,49.751 Q 67.8,49.751 67.533,49.561 Q 67.265,49.371 67.133,49.056 Q 67.0,48.741 67.0,48.371 Q 67.0,47.996 67.133,47.686 Q 67.265,47.376 67.533,47.188 Q 67.8,47.001 68.19,47.001 Q 68.56,47.001 68.83,47.191 Q 69.1,47.381 69.24,47.696 Q 69.38,48.011 69.38,48.371 Q 69.38,48.731 69.24,49.046 Q 69.1,49.361 68.83,49.556 Q 68.56,49.751 68.19,49.751 M 68.195,49.566 Q 68.53,49.566 68.715,49.256 Q 68.9,48.946 68.9,48.371 Q 68.9,47.796 68.715,47.491 Q 68.53,47.186 68.195,47.186 Q 67.85,47.186 67.665,47.488 Q 67.48,47.791 67.48,48.371 Q 67.48,48.951 67.665,49.258 Q 67.85,49.566 68.195,49.566",
          "type": "path"
         },
         {
          "fillcolor": "white",
          "layer": "below",
          "line": {
           "color": "white"
          },
          "path": "M 71.37,49.636 L 71.37,48.871 L 72.565,48.871 Q 72.645,48.871 72.685,48.821 Q 72.725,48.771 72.725,48.696 Q 72.725,48.631 72.69,48.586 L 71.285,47.051 Q 71.235,47.001 71.13,47.001 Q 71.05,47.001 70.995,47.043 Q 70.94,47.086 70.935,47.176 L 70.935,48.626 L 70.635,48.626 Q 70.565,48.626 70.535,48.643 Q 70.505,48.661 70.5,48.746 Q 70.5,48.801 70.522,48.836 Q 70.545,48.871 70.595,48.871 L 70.935,48.871 L 70.935,49.636 Q 70.935,49.681 71.0,49.706 Q 71.065,49.731 71.15,49.731 Q 71.235,49.731 71.3,49.706 Q 71.365,49.681 71.37,49.636 M 71.37,47.441 L 72.435,48.626 L 71.37,48.626 L 71.37,47.441",
          "type": "path"
         },
         {
          "fillcolor": "white",
          "layer": "below",
          "line": {
           "color": "white"
          },
          "path": "M 78.2,5.336 L 78.015,5.336 Q 77.98,5.336 77.96,5.366 Q 77.94,5.396 77.94,5.436 Q 77.94,5.481 77.96,5.513 Q 77.98,5.546 78.015,5.551 L 78.2,5.551 Q 78.395,5.571 78.51299999999999,5.726 Q 78.63,5.881 78.63,6.101 Q 78.63,6.341 78.49499999999999,6.468 Q 78.36,6.596 78.17999999999999,6.596 Q 78.00999999999999,6.596 77.88799999999999,6.498 Q 77.765,6.401 77.765,6.231 Q 77.765,6.121 77.80799999999999,6.083 Q 77.85,6.046 77.89,6.038 Q 77.92999999999999,6.031000000000001 77.92999999999999,6.026 Q 77.92999999999999,5.991 77.863,5.941 Q 77.795,5.891 77.7,5.891 Q 77.53999999999999,5.891 77.45,5.991 Q 77.36,6.091 77.36,6.246 Q 77.36,6.491 77.59,6.6259999999999994 Q 77.82,6.761 78.185,6.761 Q 78.575,6.761 78.83,6.591 Q 79.085,6.420999999999999 79.085,6.101 Q 79.085,5.891 78.938,5.711 Q 78.78999999999999,5.531 78.515,5.4559999999999995 L 78.515,5.436 Q 78.795,5.406 79.0,5.258 Q 79.205,5.111 79.205,4.791 Q 79.205,4.386 78.91,4.193 Q 78.615,4.001 78.17,4.001 Q 77.80499999999999,4.0009999999999994 77.553,4.143 Q 77.3,4.286 77.3,4.561 Q 77.3,4.7059999999999995 77.39,4.811 Q 77.48,4.916 77.64,4.916 Q 77.735,4.916 77.803,4.866 Q 77.86999999999999,4.816 77.86999999999999,4.781 Q 77.86999999999999,4.776 77.825,4.743 Q 77.78,4.711 77.743,4.656000000000001 Q 77.705,4.601 77.705,4.516 Q 77.705,4.361000000000001 77.838,4.273 Q 77.97,4.186 78.185,4.186 Q 78.72,4.186 78.72,4.781 Q 78.72,5.026 78.59,5.173 Q 78.46,5.321 78.2,5.336",
          "type": "path"
         },
         {
          "fillcolor": "white",
          "layer": "below",
          "line": {
           "color": "white"
          },
          "path": "M 81.69,6.7509999999999994 Q 81.3,6.7509999999999994 81.033,6.561 Q 80.765,6.371 80.633,6.056 Q 80.5,5.741 80.5,5.371 Q 80.5,4.996 80.633,4.686 Q 80.765,4.376 81.033,4.188 Q 81.3,4.001 81.69,4.001 Q 82.06,4.001 82.33,4.191 Q 82.6,4.381 82.74,4.696 Q 82.88,5.011 82.88,5.371 Q 82.88,5.731 82.74,6.045999999999999 Q 82.6,6.361000000000001 82.33,6.556 Q 82.06,6.7509999999999994 81.69,6.7509999999999994 M 81.695,6.566 Q 82.03,6.566 82.215,6.256 Q 82.4,5.946 82.4,5.371 Q 82.4,4.796 82.215,4.491 Q 82.03,4.186 81.695,4.186 Q 81.35,4.186 81.165,4.4879999999999995 Q 80.98,4.791 80.98,5.371 Q 80.98,5.9510000000000005 81.165,6.258 Q 81.35,6.566 81.695,6.566",
          "type": "path"
         },
         {
          "fillcolor": "white",
          "layer": "below",
          "line": {
           "color": "white"
          },
          "path": "M 78.19,49.751 Q 77.8,49.751 77.533,49.561 Q 77.265,49.371 77.133,49.056 Q 77.0,48.741 77.0,48.371 Q 77.0,47.996 77.133,47.686 Q 77.265,47.376 77.533,47.188 Q 77.8,47.001 78.19,47.001 Q 78.56,47.001 78.83,47.191 Q 79.1,47.381 79.24,47.696 Q 79.38,48.011 79.38,48.371 Q 79.38,48.731 79.24,49.046 Q 79.1,49.361 78.83,49.556 Q 78.56,49.751 78.19,49.751 M 78.195,49.566 Q 78.53,49.566 78.715,49.256 Q 78.9,48.946 78.9,48.371 Q 78.9,47.796 78.715,47.491 Q 78.53,47.186 78.195,47.186 Q 77.85,47.186 77.665,47.488 Q 77.48,47.791 77.48,48.371 Q 77.48,48.951 77.665,49.258 Q 77.85,49.566 78.195,49.566",
          "type": "path"
         },
         {
          "fillcolor": "white",
          "layer": "below",
          "line": {
           "color": "white"
          },
          "path": "M 81.505,48.426 L 81.69,48.426 Q 81.725,48.426 81.745,48.396 Q 81.765,48.366 81.765,48.326 Q 81.765,48.281 81.745,48.249 Q 81.725,48.216 81.69,48.211 L 81.505,48.211 Q 81.31,48.191 81.192,48.036 Q 81.075,47.881 81.075,47.661 Q 81.075,47.421 81.21,47.294 Q 81.345,47.166 81.525,47.166 Q 81.695,47.166 81.817,47.264 Q 81.94,47.361 81.94,47.531 Q 81.94,47.641 81.897,47.679 Q 81.855,47.716 81.815,47.724 Q 81.775,47.731 81.775,47.736 Q 81.775,47.771 81.842,47.821 Q 81.91,47.871 82.005,47.871 Q 82.165,47.871 82.255,47.771 Q 82.345,47.671 82.345,47.516 Q 82.345,47.271 82.115,47.136 Q 81.885,47.001 81.52,47.001 Q 81.13,47.001 80.875,47.171 Q 80.62,47.341 80.62,47.661 Q 80.62,47.871 80.767,48.051 Q 80.915,48.231 81.19,48.306 L 81.19,48.326 Q 80.91,48.356 80.705,48.504 Q 80.5,48.651 80.5,48.971000000000004 Q 80.5,49.376 80.795,49.569 Q 81.09,49.761 81.535,49.761 Q 81.9,49.761 82.152,49.619 Q 82.405,49.476 82.405,49.201 Q 82.405,49.056 82.315,48.951 Q 82.225,48.846000000000004 82.065,48.846000000000004 Q 81.97,48.846000000000004 81.902,48.896 Q 81.835,48.946 81.835,48.981 Q 81.835,48.986 81.88,49.019 Q 81.925,49.051 81.962,49.106 Q 82.0,49.161 82.0,49.246 Q 82.0,49.400999999999996 81.867,49.489 Q 81.735,49.576 81.52,49.576 Q 80.985,49.576 80.985,48.981 Q 80.985,48.736 81.115,48.589 Q 81.245,48.441 81.505,48.426",
          "type": "path"
         },
         {
          "fillcolor": "white",
          "layer": "below",
          "line": {
           "color": "white"
          },
          "path": "M 87.747,4.38 L 87.747,4.355 L 89.087,4.355 A 0.449,0.449 180.0 0,0 89.26899999999999,4.327 Q 89.327,4.3 89.327,4.18 Q 89.327,4.0 89.152,4.0 L 87.477,4.0 Q 87.30199999999999,4.0 87.30199999999999,4.18 Q 87.307,4.285 87.359,4.35 Q 87.41199999999999,4.415 87.532,4.495 Q 87.92699999999999,4.76 88.14399999999999,4.932 Q 88.362,5.105 88.53699999999999,5.37 Q 88.712,5.635 88.712,5.965 Q 88.712,6.205 88.584,6.337 Q 88.457,6.47 88.227,6.47 Q 88.032,6.47 87.904,6.372 Q 87.777,6.275 87.777,6.105 Q 87.777,6.02 87.817,5.962 Q 87.857,5.904999999999999 87.899,5.87 Q 87.942,5.835 87.942,5.83 Q 87.942,5.795 87.874,5.745 Q 87.807,5.695 87.712,5.695 Q 87.557,5.695 87.464,5.792 Q 87.372,5.89 87.372,6.04 Q 87.372,6.24 87.50699999999999,6.38 Q 87.642,6.52 87.849,6.585 Q 88.057,6.65 88.27199999999999,6.65 Q 88.64699999999999,6.65 88.919,6.465 Q 89.192,6.279999999999999 89.192,5.9 Q 89.192,5.625 89.042,5.4 Q 88.892,5.175 88.684,5.0169999999999995 Q 88.477,4.859999999999999 88.142,4.645 Q 87.877,4.48 87.747,4.38",
          "type": "path"
         },
         {
          "fillcolor": "white",
          "layer": "below",
          "line": {
           "color": "white"
          },
          "path": "M 91.69,6.7509999999999994 Q 91.3,6.7509999999999994 91.033,6.561 Q 90.765,6.371 90.633,6.056 Q 90.5,5.741 90.5,5.371 Q 90.5,4.996 90.633,4.686 Q 90.765,4.376 91.033,4.188 Q 91.3,4.001 91.69,4.001 Q 92.06,4.001 92.33,4.191 Q 92.6,4.381 92.74,4.696 Q 92.88,5.011 92.88,5.371 Q 92.88,5.731 92.74,6.045999999999999 Q 92.6,6.361000000000001 92.33,6.556 Q 92.06,6.7509999999999994 91.69,6.7509999999999994 M 91.695,6.566 Q 92.03,6.566 92.215,6.256 Q 92.4,5.946 92.4,5.371 Q 92.4,4.796 92.215,4.491 Q 92.03,4.186 91.695,4.186 Q 91.35,4.186 91.165,4.4879999999999995 Q 90.98,4.791 90.98,5.371 Q 90.98,5.9510000000000005 91.165,6.258 Q 91.35,6.566 91.695,6.566",
          "type": "path"
         },
         {
          "fillcolor": "white",
          "layer": "below",
          "line": {
           "color": "white"
          },
          "path": "M 88.19,49.751 Q 87.8,49.751 87.533,49.561 Q 87.265,49.371 87.133,49.056 Q 87.0,48.741 87.0,48.371 Q 87.0,47.996 87.133,47.686 Q 87.265,47.376 87.533,47.188 Q 87.8,47.001 88.19,47.001 Q 88.56,47.001 88.83,47.191 Q 89.1,47.381 89.24,47.696 Q 89.38,48.011 89.38,48.371 Q 89.38,48.731 89.24,49.046 Q 89.1,49.361 88.83,49.556 Q 88.56,49.751 88.19,49.751 M 88.195,49.566 Q 88.53,49.566 88.715,49.256 Q 88.9,48.946 88.9,48.371 Q 88.9,47.796 88.715,47.491 Q 88.53,47.186 88.195,47.186 Q 87.85,47.186 87.665,47.488 Q 87.48,47.791 87.48,48.371 Q 87.48,48.951 87.665,49.258 Q 87.85,49.566 88.195,49.566",
          "type": "path"
         },
         {
          "fillcolor": "white",
          "layer": "below",
          "line": {
           "color": "white"
          },
          "path": "M 92.082,49.27 L 92.082,49.295 L 90.742,49.295 A 0.449,0.449 360.0 0,0 90.56,49.323 Q 90.502,49.35 90.502,49.47 Q 90.502,49.65 90.677,49.65 L 92.352,49.65 Q 92.527,49.65 92.527,49.47 Q 92.522,49.365 92.47,49.3 Q 92.417,49.235 92.297,49.155 Q 91.902,48.89 91.685,48.718 Q 91.467,48.545 91.292,48.28 Q 91.117,48.015 91.117,47.685 Q 91.117,47.445 91.245,47.313 Q 91.372,47.18 91.602,47.18 Q 91.797,47.18 91.925,47.278 Q 92.052,47.375 92.052,47.545 Q 92.052,47.63 92.012,47.688 Q 91.972,47.745 91.93,47.78 Q 91.887,47.815 91.887,47.82 Q 91.887,47.855 91.955,47.905 Q 92.022,47.955 92.117,47.955 Q 92.272,47.955 92.365,47.858 Q 92.457,47.76 92.457,47.61 Q 92.457,47.41 92.322,47.27 Q 92.187,47.13 91.98,47.065 Q 91.772,47.0 91.557,47.0 Q 91.182,47.0 90.91,47.185 Q 90.637,47.37 90.637,47.75 Q 90.637,48.025 90.787,48.25 Q 90.937,48.475 91.145,48.633 Q 91.352,48.79 91.687,49.005 Q 91.952,49.17 92.082,49.27",
          "type": "path"
         },
         {
          "fillcolor": "white",
          "layer": "below",
          "line": {
           "color": "white"
          },
          "path": "M 98.01299999999999,4.68 L 98.01299999999999,5.72 A 3.257,3.257 180.0 0,1 98.014,5.789 A 1.126,1.126 180.0 0,1 97.991,6.057 Q 97.963,6.16 97.893,6.1899999999999995 Q 97.823,6.22 97.663,6.22 L 97.41799999999999,6.22 A 0.095,0.095 180.0 0,0 97.328,6.34 Q 97.333,6.415 97.358,6.432 Q 97.383,6.45 97.42099999999999,6.45 L 97.473,6.45 Q 97.68299999999999,6.45 97.883,6.5169999999999995 Q 98.083,6.585 98.318,6.68 Q 98.348,6.6899999999999995 98.368,6.6899999999999995 Q 98.448,6.6899999999999995 98.448,6.574999999999999 L 98.448,4.68 Q 98.448,4.46 98.50099999999999,4.365 Q 98.553,4.27 98.666,4.245 Q 98.77799999999999,4.22 99.02799999999999,4.22 L 99.078,4.22 Q 99.118,4.22 99.136,4.199999999999999 Q 99.15299999999999,4.18 99.158,4.12 Q 99.158,4.0 99.068,4.0 Q 98.708,4.015000000000001 98.228,4.015000000000001 Q 97.753,4.015000000000001 97.393,4.0 A 0.095,0.095 180.0 0,0 97.303,4.12 Q 97.30799999999999,4.18 97.326,4.199999999999999 Q 97.343,4.22 97.383,4.22 Q 97.663,4.22 97.78099999999999,4.242 Q 97.898,4.265000000000001 97.956,4.359999999999999 Q 98.01299999999999,4.455 98.01299999999999,4.68 L 98.01299999999999,4.68",
          "type": "path"
         },
         {
          "fillcolor": "white",
          "layer": "below",
          "line": {
           "color": "white"
          },
          "path": "M 101.69,6.7509999999999994 Q 101.3,6.7509999999999994 101.033,6.561 Q 100.765,6.371 100.633,6.056 Q 100.5,5.741 100.5,5.371 Q 100.5,4.996 100.633,4.686 Q 100.765,4.376 101.033,4.188 Q 101.3,4.001 101.69,4.001 Q 102.06,4.001 102.33,4.191 Q 102.6,4.381 102.74,4.696 Q 102.88,5.011 102.88,5.371 Q 102.88,5.731 102.74,6.045999999999999 Q 102.6,6.361000000000001 102.33,6.556 Q 102.06,6.7509999999999994 101.69,6.7509999999999994 M 101.695,6.566 Q 102.03,6.566 102.215,6.256 Q 102.4,5.946 102.4,5.371 Q 102.4,4.796 102.215,4.491 Q 102.03,4.186 101.695,4.186 Q 101.35,4.186 101.165,4.4879999999999995 Q 100.98,4.791 100.98,5.371 Q 100.98,5.9510000000000005 101.165,6.258 Q 101.35,6.566 101.695,6.566",
          "type": "path"
         },
         {
          "fillcolor": "white",
          "layer": "below",
          "line": {
           "color": "white"
          },
          "path": "M 98.19,49.751 Q 97.8,49.751 97.533,49.561 Q 97.265,49.371 97.133,49.056 Q 97.0,48.741 97.0,48.371 Q 97.0,47.996 97.133,47.686 Q 97.265,47.376 97.533,47.188 Q 97.8,47.001 98.19,47.001 Q 98.56,47.001 98.83,47.191 Q 99.1,47.381 99.24,47.696 Q 99.38,48.011 99.38,48.371 Q 99.38,48.731 99.24,49.046 Q 99.1,49.361 98.83,49.556 Q 98.56,49.751 98.19,49.751 M 98.195,49.566 Q 98.53,49.566 98.715,49.256 Q 98.9,48.946 98.9,48.371 Q 98.9,47.796 98.715,47.491 Q 98.53,47.186 98.195,47.186 Q 97.85,47.186 97.665,47.488 Q 97.48,47.791 97.48,48.371 Q 97.48,48.951 97.665,49.258 Q 97.85,49.566 98.195,49.566",
          "type": "path"
         },
         {
          "fillcolor": "white",
          "layer": "below",
          "line": {
           "color": "white"
          },
          "path": "M 101.64464761515876,49.01 L 101.64464761515876,47.97 A 3.257,3.257 360.0 0,1 101.64364761515876,47.901 A 1.126,1.126 360.0 0,1 101.66664761515877,47.633 Q 101.69464761515876,47.53 101.76464761515876,47.5 Q 101.83464761515876,47.47 101.99464761515877,47.47 L 102.23964761515876,47.47 A 0.095,0.095 360.0 0,0 102.32964761515876,47.35 Q 102.32464761515877,47.275 102.29964761515876,47.258 Q 102.27464761515876,47.24 102.23664761515876,47.24 L 102.18464761515877,47.24 Q 101.97464761515876,47.24 101.77464761515876,47.173 Q 101.57464761515877,47.105 101.33964761515877,47.01 Q 101.30964761515877,47.0 101.28964761515876,47.0 Q 101.20964761515876,47.0 101.20964761515876,47.115 L 101.20964761515876,49.01 Q 101.20964761515876,49.23 101.15664761515876,49.325 Q 101.10464761515877,49.42 100.99164761515877,49.445 Q 100.87964761515876,49.47 100.62964761515876,49.47 L 100.57964761515876,49.47 Q 100.53964761515876,49.47 100.52164761515876,49.49 Q 100.50464761515876,49.51 100.49964761515876,49.57 Q 100.49964761515876,49.69 100.58964761515877,49.69 Q 100.94964761515877,49.675 101.42964761515876,49.675 Q 101.90464761515877,49.675 102.26464761515876,49.69 A 0.095,0.095 360.0 0,0 102.35464761515877,49.57 Q 102.34964761515876,49.51 102.33164761515876,49.49 Q 102.31464761515876,49.47 102.27464761515876,49.47 Q 101.99464761515877,49.47 101.87664761515876,49.448 Q 101.75964761515877,49.425 101.70164761515876,49.33 Q 101.64464761515876,49.235 101.64464761515876,49.01 L 101.64464761515876,49.01",
          "type": "path"
         },
         {
          "fillcolor": "white",
          "layer": "below",
          "line": {
           "color": "white"
          },
          "path": "M 16.8 5.2 L 16.3 5.45 L 16.8 5.7 L 16.8 5.2 Z",
          "type": "path"
         },
         {
          "fillcolor": "white",
          "layer": "below",
          "line": {
           "color": "white"
          },
          "path": "M 103.6 5.2 L 104.1 5.45 L 103.6 5.7 L 103.6 5.2 Z",
          "type": "path"
         },
         {
          "fillcolor": "white",
          "layer": "below",
          "line": {
           "color": "white"
          },
          "path": "M 16.4 48.5 L 15.9 48.25 L 16.4 48.0 L 16.4 48.5 Z",
          "type": "path"
         },
         {
          "fillcolor": "white",
          "layer": "below",
          "line": {
           "color": "white"
          },
          "path": "M 103.2 48.5 L 103.7 48.25 L 103.2 48.0 L 103.2 48.5 Z",
          "type": "path"
         },
         {
          "fillcolor": "white",
          "layer": "below",
          "line": {
           "color": "white"
          },
          "path": "M 26.8 5.2 L 26.3 5.45 L 26.8 5.7 L 26.8 5.2 Z",
          "type": "path"
         },
         {
          "fillcolor": "white",
          "layer": "below",
          "line": {
           "color": "white"
          },
          "path": "M 93.6 5.2 L 94.1 5.45 L 93.6 5.7 L 93.6 5.2 Z",
          "type": "path"
         },
         {
          "fillcolor": "white",
          "layer": "below",
          "line": {
           "color": "white"
          },
          "path": "M 26.4 48.5 L 25.9 48.25 L 26.4 48.0 L 26.4 48.5 Z",
          "type": "path"
         },
         {
          "fillcolor": "white",
          "layer": "below",
          "line": {
           "color": "white"
          },
          "path": "M 93.2 48.5 L 93.7 48.25 L 93.2 48.0 L 93.2 48.5 Z",
          "type": "path"
         },
         {
          "fillcolor": "white",
          "layer": "below",
          "line": {
           "color": "white"
          },
          "path": "M 36.8 5.2 L 36.3 5.45 L 36.8 5.7 L 36.8 5.2 Z",
          "type": "path"
         },
         {
          "fillcolor": "white",
          "layer": "below",
          "line": {
           "color": "white"
          },
          "path": "M 83.6 5.2 L 84.1 5.45 L 83.6 5.7 L 83.6 5.2 Z",
          "type": "path"
         },
         {
          "fillcolor": "white",
          "layer": "below",
          "line": {
           "color": "white"
          },
          "path": "M 36.4 48.5 L 35.9 48.25 L 36.4 48.0 L 36.4 48.5 Z",
          "type": "path"
         },
         {
          "fillcolor": "white",
          "layer": "below",
          "line": {
           "color": "white"
          },
          "path": "M 83.2 48.5 L 83.7 48.25 L 83.2 48.0 L 83.2 48.5 Z",
          "type": "path"
         },
         {
          "fillcolor": "white",
          "layer": "below",
          "line": {
           "color": "white"
          },
          "path": "M 46.8 5.2 L 46.3 5.45 L 46.8 5.7 L 46.8 5.2 Z",
          "type": "path"
         },
         {
          "fillcolor": "white",
          "layer": "below",
          "line": {
           "color": "white"
          },
          "path": "M 73.6 5.2 L 74.1 5.45 L 73.6 5.7 L 73.6 5.2 Z",
          "type": "path"
         },
         {
          "fillcolor": "white",
          "layer": "below",
          "line": {
           "color": "white"
          },
          "path": "M 46.4 48.5 L 45.9 48.25 L 46.4 48.0 L 46.4 48.5 Z",
          "type": "path"
         },
         {
          "fillcolor": "white",
          "layer": "below",
          "line": {
           "color": "white"
          },
          "path": "M 73.2 48.5 L 73.7 48.25 L 73.2 48.0 L 73.2 48.5 Z",
          "type": "path"
         }
        ],
        "template": {
         "data": {
          "bar": [
           {
            "error_x": {
             "color": "#2a3f5f"
            },
            "error_y": {
             "color": "#2a3f5f"
            },
            "marker": {
             "line": {
              "color": "#E5ECF6",
              "width": 0.5
             }
            },
            "type": "bar"
           }
          ],
          "barpolar": [
           {
            "marker": {
             "line": {
              "color": "#E5ECF6",
              "width": 0.5
             }
            },
            "type": "barpolar"
           }
          ],
          "carpet": [
           {
            "aaxis": {
             "endlinecolor": "#2a3f5f",
             "gridcolor": "white",
             "linecolor": "white",
             "minorgridcolor": "white",
             "startlinecolor": "#2a3f5f"
            },
            "baxis": {
             "endlinecolor": "#2a3f5f",
             "gridcolor": "white",
             "linecolor": "white",
             "minorgridcolor": "white",
             "startlinecolor": "#2a3f5f"
            },
            "type": "carpet"
           }
          ],
          "choropleth": [
           {
            "colorbar": {
             "outlinewidth": 0,
             "ticks": ""
            },
            "type": "choropleth"
           }
          ],
          "contour": [
           {
            "colorbar": {
             "outlinewidth": 0,
             "ticks": ""
            },
            "colorscale": [
             [
              0,
              "#0d0887"
             ],
             [
              0.1111111111111111,
              "#46039f"
             ],
             [
              0.2222222222222222,
              "#7201a8"
             ],
             [
              0.3333333333333333,
              "#9c179e"
             ],
             [
              0.4444444444444444,
              "#bd3786"
             ],
             [
              0.5555555555555556,
              "#d8576b"
             ],
             [
              0.6666666666666666,
              "#ed7953"
             ],
             [
              0.7777777777777778,
              "#fb9f3a"
             ],
             [
              0.8888888888888888,
              "#fdca26"
             ],
             [
              1,
              "#f0f921"
             ]
            ],
            "type": "contour"
           }
          ],
          "contourcarpet": [
           {
            "colorbar": {
             "outlinewidth": 0,
             "ticks": ""
            },
            "type": "contourcarpet"
           }
          ],
          "heatmap": [
           {
            "colorbar": {
             "outlinewidth": 0,
             "ticks": ""
            },
            "colorscale": [
             [
              0,
              "#0d0887"
             ],
             [
              0.1111111111111111,
              "#46039f"
             ],
             [
              0.2222222222222222,
              "#7201a8"
             ],
             [
              0.3333333333333333,
              "#9c179e"
             ],
             [
              0.4444444444444444,
              "#bd3786"
             ],
             [
              0.5555555555555556,
              "#d8576b"
             ],
             [
              0.6666666666666666,
              "#ed7953"
             ],
             [
              0.7777777777777778,
              "#fb9f3a"
             ],
             [
              0.8888888888888888,
              "#fdca26"
             ],
             [
              1,
              "#f0f921"
             ]
            ],
            "type": "heatmap"
           }
          ],
          "heatmapgl": [
           {
            "colorbar": {
             "outlinewidth": 0,
             "ticks": ""
            },
            "colorscale": [
             [
              0,
              "#0d0887"
             ],
             [
              0.1111111111111111,
              "#46039f"
             ],
             [
              0.2222222222222222,
              "#7201a8"
             ],
             [
              0.3333333333333333,
              "#9c179e"
             ],
             [
              0.4444444444444444,
              "#bd3786"
             ],
             [
              0.5555555555555556,
              "#d8576b"
             ],
             [
              0.6666666666666666,
              "#ed7953"
             ],
             [
              0.7777777777777778,
              "#fb9f3a"
             ],
             [
              0.8888888888888888,
              "#fdca26"
             ],
             [
              1,
              "#f0f921"
             ]
            ],
            "type": "heatmapgl"
           }
          ],
          "histogram": [
           {
            "marker": {
             "colorbar": {
              "outlinewidth": 0,
              "ticks": ""
             }
            },
            "type": "histogram"
           }
          ],
          "histogram2d": [
           {
            "colorbar": {
             "outlinewidth": 0,
             "ticks": ""
            },
            "colorscale": [
             [
              0,
              "#0d0887"
             ],
             [
              0.1111111111111111,
              "#46039f"
             ],
             [
              0.2222222222222222,
              "#7201a8"
             ],
             [
              0.3333333333333333,
              "#9c179e"
             ],
             [
              0.4444444444444444,
              "#bd3786"
             ],
             [
              0.5555555555555556,
              "#d8576b"
             ],
             [
              0.6666666666666666,
              "#ed7953"
             ],
             [
              0.7777777777777778,
              "#fb9f3a"
             ],
             [
              0.8888888888888888,
              "#fdca26"
             ],
             [
              1,
              "#f0f921"
             ]
            ],
            "type": "histogram2d"
           }
          ],
          "histogram2dcontour": [
           {
            "colorbar": {
             "outlinewidth": 0,
             "ticks": ""
            },
            "colorscale": [
             [
              0,
              "#0d0887"
             ],
             [
              0.1111111111111111,
              "#46039f"
             ],
             [
              0.2222222222222222,
              "#7201a8"
             ],
             [
              0.3333333333333333,
              "#9c179e"
             ],
             [
              0.4444444444444444,
              "#bd3786"
             ],
             [
              0.5555555555555556,
              "#d8576b"
             ],
             [
              0.6666666666666666,
              "#ed7953"
             ],
             [
              0.7777777777777778,
              "#fb9f3a"
             ],
             [
              0.8888888888888888,
              "#fdca26"
             ],
             [
              1,
              "#f0f921"
             ]
            ],
            "type": "histogram2dcontour"
           }
          ],
          "mesh3d": [
           {
            "colorbar": {
             "outlinewidth": 0,
             "ticks": ""
            },
            "type": "mesh3d"
           }
          ],
          "parcoords": [
           {
            "line": {
             "colorbar": {
              "outlinewidth": 0,
              "ticks": ""
             }
            },
            "type": "parcoords"
           }
          ],
          "pie": [
           {
            "automargin": true,
            "type": "pie"
           }
          ],
          "scatter": [
           {
            "marker": {
             "colorbar": {
              "outlinewidth": 0,
              "ticks": ""
             }
            },
            "type": "scatter"
           }
          ],
          "scatter3d": [
           {
            "line": {
             "colorbar": {
              "outlinewidth": 0,
              "ticks": ""
             }
            },
            "marker": {
             "colorbar": {
              "outlinewidth": 0,
              "ticks": ""
             }
            },
            "type": "scatter3d"
           }
          ],
          "scattercarpet": [
           {
            "marker": {
             "colorbar": {
              "outlinewidth": 0,
              "ticks": ""
             }
            },
            "type": "scattercarpet"
           }
          ],
          "scattergeo": [
           {
            "marker": {
             "colorbar": {
              "outlinewidth": 0,
              "ticks": ""
             }
            },
            "type": "scattergeo"
           }
          ],
          "scattergl": [
           {
            "marker": {
             "colorbar": {
              "outlinewidth": 0,
              "ticks": ""
             }
            },
            "type": "scattergl"
           }
          ],
          "scattermapbox": [
           {
            "marker": {
             "colorbar": {
              "outlinewidth": 0,
              "ticks": ""
             }
            },
            "type": "scattermapbox"
           }
          ],
          "scatterpolar": [
           {
            "marker": {
             "colorbar": {
              "outlinewidth": 0,
              "ticks": ""
             }
            },
            "type": "scatterpolar"
           }
          ],
          "scatterpolargl": [
           {
            "marker": {
             "colorbar": {
              "outlinewidth": 0,
              "ticks": ""
             }
            },
            "type": "scatterpolargl"
           }
          ],
          "scatterternary": [
           {
            "marker": {
             "colorbar": {
              "outlinewidth": 0,
              "ticks": ""
             }
            },
            "type": "scatterternary"
           }
          ],
          "surface": [
           {
            "colorbar": {
             "outlinewidth": 0,
             "ticks": ""
            },
            "colorscale": [
             [
              0,
              "#0d0887"
             ],
             [
              0.1111111111111111,
              "#46039f"
             ],
             [
              0.2222222222222222,
              "#7201a8"
             ],
             [
              0.3333333333333333,
              "#9c179e"
             ],
             [
              0.4444444444444444,
              "#bd3786"
             ],
             [
              0.5555555555555556,
              "#d8576b"
             ],
             [
              0.6666666666666666,
              "#ed7953"
             ],
             [
              0.7777777777777778,
              "#fb9f3a"
             ],
             [
              0.8888888888888888,
              "#fdca26"
             ],
             [
              1,
              "#f0f921"
             ]
            ],
            "type": "surface"
           }
          ],
          "table": [
           {
            "cells": {
             "fill": {
              "color": "#EBF0F8"
             },
             "line": {
              "color": "white"
             }
            },
            "header": {
             "fill": {
              "color": "#C8D4E3"
             },
             "line": {
              "color": "white"
             }
            },
            "type": "table"
           }
          ]
         },
         "layout": {
          "annotationdefaults": {
           "arrowcolor": "#2a3f5f",
           "arrowhead": 0,
           "arrowwidth": 1
          },
          "autotypenumbers": "strict",
          "coloraxis": {
           "colorbar": {
            "outlinewidth": 0,
            "ticks": ""
           }
          },
          "colorscale": {
           "diverging": [
            [
             0,
             "#8e0152"
            ],
            [
             0.1,
             "#c51b7d"
            ],
            [
             0.2,
             "#de77ae"
            ],
            [
             0.3,
             "#f1b6da"
            ],
            [
             0.4,
             "#fde0ef"
            ],
            [
             0.5,
             "#f7f7f7"
            ],
            [
             0.6,
             "#e6f5d0"
            ],
            [
             0.7,
             "#b8e186"
            ],
            [
             0.8,
             "#7fbc41"
            ],
            [
             0.9,
             "#4d9221"
            ],
            [
             1,
             "#276419"
            ]
           ],
           "sequential": [
            [
             0,
             "#0d0887"
            ],
            [
             0.1111111111111111,
             "#46039f"
            ],
            [
             0.2222222222222222,
             "#7201a8"
            ],
            [
             0.3333333333333333,
             "#9c179e"
            ],
            [
             0.4444444444444444,
             "#bd3786"
            ],
            [
             0.5555555555555556,
             "#d8576b"
            ],
            [
             0.6666666666666666,
             "#ed7953"
            ],
            [
             0.7777777777777778,
             "#fb9f3a"
            ],
            [
             0.8888888888888888,
             "#fdca26"
            ],
            [
             1,
             "#f0f921"
            ]
           ],
           "sequentialminus": [
            [
             0,
             "#0d0887"
            ],
            [
             0.1111111111111111,
             "#46039f"
            ],
            [
             0.2222222222222222,
             "#7201a8"
            ],
            [
             0.3333333333333333,
             "#9c179e"
            ],
            [
             0.4444444444444444,
             "#bd3786"
            ],
            [
             0.5555555555555556,
             "#d8576b"
            ],
            [
             0.6666666666666666,
             "#ed7953"
            ],
            [
             0.7777777777777778,
             "#fb9f3a"
            ],
            [
             0.8888888888888888,
             "#fdca26"
            ],
            [
             1,
             "#f0f921"
            ]
           ]
          },
          "colorway": [
           "#636efa",
           "#EF553B",
           "#00cc96",
           "#ab63fa",
           "#FFA15A",
           "#19d3f3",
           "#FF6692",
           "#B6E880",
           "#FF97FF",
           "#FECB52"
          ],
          "font": {
           "color": "#2a3f5f"
          },
          "geo": {
           "bgcolor": "white",
           "lakecolor": "white",
           "landcolor": "#E5ECF6",
           "showlakes": true,
           "showland": true,
           "subunitcolor": "white"
          },
          "hoverlabel": {
           "align": "left"
          },
          "hovermode": "closest",
          "mapbox": {
           "style": "light"
          },
          "paper_bgcolor": "white",
          "plot_bgcolor": "#E5ECF6",
          "polar": {
           "angularaxis": {
            "gridcolor": "white",
            "linecolor": "white",
            "ticks": ""
           },
           "bgcolor": "#E5ECF6",
           "radialaxis": {
            "gridcolor": "white",
            "linecolor": "white",
            "ticks": ""
           }
          },
          "scene": {
           "xaxis": {
            "backgroundcolor": "#E5ECF6",
            "gridcolor": "white",
            "gridwidth": 2,
            "linecolor": "white",
            "showbackground": true,
            "ticks": "",
            "zerolinecolor": "white"
           },
           "yaxis": {
            "backgroundcolor": "#E5ECF6",
            "gridcolor": "white",
            "gridwidth": 2,
            "linecolor": "white",
            "showbackground": true,
            "ticks": "",
            "zerolinecolor": "white"
           },
           "zaxis": {
            "backgroundcolor": "#E5ECF6",
            "gridcolor": "white",
            "gridwidth": 2,
            "linecolor": "white",
            "showbackground": true,
            "ticks": "",
            "zerolinecolor": "white"
           }
          },
          "shapedefaults": {
           "line": {
            "color": "#2a3f5f"
           }
          },
          "ternary": {
           "aaxis": {
            "gridcolor": "white",
            "linecolor": "white",
            "ticks": ""
           },
           "baxis": {
            "gridcolor": "white",
            "linecolor": "white",
            "ticks": ""
           },
           "bgcolor": "#E5ECF6",
           "caxis": {
            "gridcolor": "white",
            "linecolor": "white",
            "ticks": ""
           }
          },
          "title": {
           "x": 0.05
          },
          "xaxis": {
           "automargin": true,
           "gridcolor": "white",
           "linecolor": "white",
           "ticks": "",
           "title": {
            "standoff": 15
           },
           "zerolinecolor": "white",
           "zerolinewidth": 2
          },
          "yaxis": {
           "automargin": true,
           "gridcolor": "white",
           "linecolor": "white",
           "ticks": "",
           "title": {
            "standoff": 15
           },
           "zerolinecolor": "white",
           "zerolinewidth": 2
          }
         }
        },
        "xaxis": {
         "range": [
          -3,
          123
         ],
         "showgrid": false,
         "showticklabels": false,
         "zeroline": false
        },
        "yaxis": {
         "range": [
          -5,
          58.3
         ],
         "showgrid": false,
         "showticklabels": false,
         "zeroline": false
        }
       }
      },
      "text/html": [
       "<div>                            <div id=\"396e3ea0-0d2a-405d-aa87-146cea4488cc\" class=\"plotly-graph-div\" style=\"height:525px; width:100%;\"></div>            <script type=\"text/javascript\">                require([\"plotly\"], function(Plotly) {                    window.PLOTLYENV=window.PLOTLYENV || {};                                    if (document.getElementById(\"396e3ea0-0d2a-405d-aa87-146cea4488cc\")) {                    Plotly.newPlot(                        \"396e3ea0-0d2a-405d-aa87-146cea4488cc\",                        [{\"hovertext\": [\"Jimmy Graham TE\", \"Prince Amukamara CB\", \"Randall Cobb WR\", \"Aaron Rodgers QB\", \"Danny Trevathan ILB\", \"Marcus Cooper CB\", \"Davante Adams WR\", \"Kyle Fuller CB\", \"Adrian Amos FS\", \"Ty Montgomery RB\", \"Bryce Callahan CB\", \"Leonard Floyd OLB\", \"Geronimo Allison WR\", \"Eddie Jackson FS\", null], \"marker\": {\"color\": [\"rgb(238, 173, 30)\", \"white\", \"rgb(238, 173, 30)\", \"rgb(238, 173, 30)\", \"white\", \"white\", \"rgb(238, 173, 30)\", \"white\", \"white\", \"rgb(238, 173, 30)\", \"white\", \"white\", \"rgb(238, 173, 30)\", \"white\", \"brown\"], \"line\": {\"color\": [\"rgb(28, 45, 37)\", \"rgb(200, 56, 3)\", \"rgb(28, 45, 37)\", \"rgb(28, 45, 37)\", \"rgb(200, 56, 3)\", \"rgb(200, 56, 3)\", \"rgb(28, 45, 37)\", \"rgb(200, 56, 3)\", \"rgb(200, 56, 3)\", \"rgb(28, 45, 37)\", \"rgb(200, 56, 3)\", \"rgb(200, 56, 3)\", \"rgb(28, 45, 37)\", \"rgb(200, 56, 3)\", \"black\"], \"width\": [2, 2, 2, 2, 2, 2, 2, 2, 2, 2, 2, 2, 2, 2, 1]}, \"opacity\": 1, \"size\": [16, 16, 16, 16, 16, 16, 16, 16, 16, 16, 16, 16, 16, 16, 12], \"symbol\": [\"circle\", \"circle\", \"circle\", \"circle\", \"circle\", \"circle\", \"circle\", \"circle\", \"circle\", \"circle\", \"circle\", \"circle\", \"circle\", \"circle\", \"diamond-wide\"]}, \"mode\": \"markers+text\", \"text\": [80.0, 20.0, 18.0, 12.0, 59.0, 31.0, 17.0, 23.0, 38.0, 88.0, 37.0, 94.0, 81.0, 39.0, null], \"textfont\": {\"color\": [\"white\", \"rgb(11, 22, 42)\", \"white\", \"white\", \"rgb(11, 22, 42)\", \"rgb(11, 22, 42)\", \"white\", \"rgb(11, 22, 42)\", \"rgb(11, 22, 42)\", \"white\", \"rgb(11, 22, 42)\", \"rgb(11, 22, 42)\", \"white\", \"rgb(11, 22, 42)\", \"white\"], \"family\": [\"Gravitas One\"], \"size\": 9}, \"type\": \"scatter\", \"x\": [33.81, 35.53, 32.8, 29.69, 35.59, 37.29, 33.46, 36.06, 43.55, 30.03, 38.55, 35.6, 32.79, 46.54, 34.69], \"y\": [23.07, 44.24, 19.2, 29.78, 32.53, 23.5, 44.86, 9.92, 36.08, 32.53, 18.36, 27.18, 10.35, 21.02, 29.77]}],                        {\"plot_bgcolor\": \"rgb(62, 126, 0)\", \"shapes\": [{\"layer\": \"below\", \"line\": {\"color\": \"white\", \"width\": 5}, \"type\": \"line\", \"x0\": 0, \"x1\": 120, \"y0\": 0, \"y1\": 0}, {\"layer\": \"below\", \"line\": {\"color\": \"white\", \"width\": 5}, \"type\": \"line\", \"x0\": 0, \"x1\": 120, \"y0\": 53.3, \"y1\": 53.3}, {\"layer\": \"below\", \"line\": {\"color\": \"white\", \"width\": 5}, \"type\": \"line\", \"x0\": 0, \"x1\": 0, \"y0\": 0, \"y1\": 53.3}, {\"layer\": \"below\", \"line\": {\"color\": \"white\", \"width\": 5}, \"type\": \"line\", \"x0\": 120, \"x1\": 120, \"y0\": 0, \"y1\": 53.3}, {\"layer\": \"below\", \"line\": {\"color\": \"white\", \"width\": 2}, \"type\": \"line\", \"x0\": 10, \"x1\": 10, \"y0\": 0, \"y1\": 53.3}, {\"layer\": \"below\", \"line\": {\"color\": \"white\", \"width\": 2}, \"type\": \"line\", \"x0\": 15, \"x1\": 15, \"y0\": 0, \"y1\": 53.3}, {\"layer\": \"below\", \"line\": {\"color\": \"white\", \"width\": 2}, \"type\": \"line\", \"x0\": 20, \"x1\": 20, \"y0\": 0, \"y1\": 53.3}, {\"layer\": \"below\", \"line\": {\"color\": \"white\", \"width\": 2}, \"type\": \"line\", \"x0\": 25, \"x1\": 25, \"y0\": 0, \"y1\": 53.3}, {\"layer\": \"below\", \"line\": {\"color\": \"white\", \"width\": 2}, \"type\": \"line\", \"x0\": 30, \"x1\": 30, \"y0\": 0, \"y1\": 53.3}, {\"layer\": \"below\", \"line\": {\"color\": \"white\", \"width\": 2}, \"type\": \"line\", \"x0\": 35, \"x1\": 35, \"y0\": 0, \"y1\": 53.3}, {\"layer\": \"below\", \"line\": {\"color\": \"white\", \"width\": 2}, \"type\": \"line\", \"x0\": 40, \"x1\": 40, \"y0\": 0, \"y1\": 53.3}, {\"layer\": \"below\", \"line\": {\"color\": \"white\", \"width\": 2}, \"type\": \"line\", \"x0\": 45, \"x1\": 45, \"y0\": 0, \"y1\": 53.3}, {\"layer\": \"below\", \"line\": {\"color\": \"white\", \"width\": 2}, \"type\": \"line\", \"x0\": 50, \"x1\": 50, \"y0\": 0, \"y1\": 53.3}, {\"layer\": \"below\", \"line\": {\"color\": \"white\", \"width\": 2}, \"type\": \"line\", \"x0\": 55, \"x1\": 55, \"y0\": 0, \"y1\": 53.3}, {\"layer\": \"below\", \"line\": {\"color\": \"white\", \"width\": 2}, \"type\": \"line\", \"x0\": 60, \"x1\": 60, \"y0\": 0, \"y1\": 53.3}, {\"layer\": \"below\", \"line\": {\"color\": \"white\", \"width\": 2}, \"type\": \"line\", \"x0\": 65, \"x1\": 65, \"y0\": 0, \"y1\": 53.3}, {\"layer\": \"below\", \"line\": {\"color\": \"white\", \"width\": 2}, \"type\": \"line\", \"x0\": 70, \"x1\": 70, \"y0\": 0, \"y1\": 53.3}, {\"layer\": \"below\", \"line\": {\"color\": \"white\", \"width\": 2}, \"type\": \"line\", \"x0\": 75, \"x1\": 75, \"y0\": 0, \"y1\": 53.3}, {\"layer\": \"below\", \"line\": {\"color\": \"white\", \"width\": 2}, \"type\": \"line\", \"x0\": 80, \"x1\": 80, \"y0\": 0, \"y1\": 53.3}, {\"layer\": \"below\", \"line\": {\"color\": \"white\", \"width\": 2}, \"type\": \"line\", \"x0\": 85, \"x1\": 85, \"y0\": 0, \"y1\": 53.3}, {\"layer\": \"below\", \"line\": {\"color\": \"white\", \"width\": 2}, \"type\": \"line\", \"x0\": 90, \"x1\": 90, \"y0\": 0, \"y1\": 53.3}, {\"layer\": \"below\", \"line\": {\"color\": \"white\", \"width\": 2}, \"type\": \"line\", \"x0\": 95, \"x1\": 95, \"y0\": 0, \"y1\": 53.3}, {\"layer\": \"below\", \"line\": {\"color\": \"white\", \"width\": 2}, \"type\": \"line\", \"x0\": 100, \"x1\": 100, \"y0\": 0, \"y1\": 53.3}, {\"layer\": \"below\", \"line\": {\"color\": \"white\", \"width\": 2}, \"type\": \"line\", \"x0\": 105, \"x1\": 105, \"y0\": 0, \"y1\": 53.3}, {\"layer\": \"below\", \"line\": {\"color\": \"white\", \"width\": 2}, \"type\": \"line\", \"x0\": 110, \"x1\": 110, \"y0\": 0, \"y1\": 53.3}, {\"layer\": \"below\", \"line\": {\"color\": \"white\", \"width\": 2}, \"type\": \"line\", \"x0\": 11, \"x1\": 11, \"y0\": 1, \"y1\": 1.6666666666666665}, {\"layer\": \"below\", \"line\": {\"color\": \"white\", \"width\": 2}, \"type\": \"line\", \"x0\": 11, \"x1\": 11, \"y0\": 23.58333, \"y1\": 24.249996666666668}, {\"layer\": \"below\", \"line\": {\"color\": \"white\", \"width\": 2}, \"type\": \"line\", \"x0\": 11, \"x1\": 11, \"y0\": 29.08333, \"y1\": 29.749996666666668}, {\"layer\": \"below\", \"line\": {\"color\": \"white\", \"width\": 2}, \"type\": \"line\", \"x0\": 11, \"x1\": 11, \"y0\": 51.63333333333333, \"y1\": 52.3}, {\"layer\": \"below\", \"line\": {\"color\": \"white\", \"width\": 2}, \"type\": \"line\", \"x0\": 12, \"x1\": 12, \"y0\": 1, \"y1\": 1.6666666666666665}, {\"layer\": \"below\", \"line\": {\"color\": \"white\", \"width\": 2}, \"type\": \"line\", \"x0\": 12, \"x1\": 12, \"y0\": 23.58333, \"y1\": 24.249996666666668}, {\"layer\": \"below\", \"line\": {\"color\": \"white\", \"width\": 2}, \"type\": \"line\", \"x0\": 12, \"x1\": 12, \"y0\": 29.08333, \"y1\": 29.749996666666668}, {\"layer\": \"below\", \"line\": {\"color\": \"white\", \"width\": 2}, \"type\": \"line\", \"x0\": 12, \"x1\": 12, \"y0\": 51.63333333333333, \"y1\": 52.3}, {\"layer\": \"below\", \"line\": {\"color\": \"white\", \"width\": 2}, \"type\": \"line\", \"x0\": 13, \"x1\": 13, \"y0\": 1, \"y1\": 1.6666666666666665}, {\"layer\": \"below\", \"line\": {\"color\": \"white\", \"width\": 2}, \"type\": \"line\", \"x0\": 13, \"x1\": 13, \"y0\": 23.58333, \"y1\": 24.249996666666668}, {\"layer\": \"below\", \"line\": {\"color\": \"white\", \"width\": 2}, \"type\": \"line\", \"x0\": 13, \"x1\": 13, \"y0\": 29.08333, \"y1\": 29.749996666666668}, {\"layer\": \"below\", \"line\": {\"color\": \"white\", \"width\": 2}, \"type\": \"line\", \"x0\": 13, \"x1\": 13, \"y0\": 51.63333333333333, \"y1\": 52.3}, {\"layer\": \"below\", \"line\": {\"color\": \"white\", \"width\": 2}, \"type\": \"line\", \"x0\": 14, \"x1\": 14, \"y0\": 1, \"y1\": 1.6666666666666665}, {\"layer\": \"below\", \"line\": {\"color\": \"white\", \"width\": 2}, \"type\": \"line\", \"x0\": 14, \"x1\": 14, \"y0\": 23.58333, \"y1\": 24.249996666666668}, {\"layer\": \"below\", \"line\": {\"color\": \"white\", \"width\": 2}, \"type\": \"line\", \"x0\": 14, \"x1\": 14, \"y0\": 29.08333, \"y1\": 29.749996666666668}, {\"layer\": \"below\", \"line\": {\"color\": \"white\", \"width\": 2}, \"type\": \"line\", \"x0\": 14, \"x1\": 14, \"y0\": 51.63333333333333, \"y1\": 52.3}, {\"layer\": \"below\", \"line\": {\"color\": \"white\", \"width\": 2}, \"type\": \"line\", \"x0\": 15, \"x1\": 15, \"y0\": 1, \"y1\": 1.6666666666666665}, {\"layer\": \"below\", \"line\": {\"color\": \"white\", \"width\": 2}, \"type\": \"line\", \"x0\": 15, \"x1\": 15, \"y0\": 23.58333, \"y1\": 24.249996666666668}, {\"layer\": \"below\", \"line\": {\"color\": \"white\", \"width\": 2}, \"type\": \"line\", \"x0\": 15, \"x1\": 15, \"y0\": 29.08333, \"y1\": 29.749996666666668}, {\"layer\": \"below\", \"line\": {\"color\": \"white\", \"width\": 2}, \"type\": \"line\", \"x0\": 15, \"x1\": 15, \"y0\": 51.63333333333333, \"y1\": 52.3}, {\"layer\": \"below\", \"line\": {\"color\": \"white\", \"width\": 2}, \"type\": \"line\", \"x0\": 16, \"x1\": 16, \"y0\": 1, \"y1\": 1.6666666666666665}, {\"layer\": \"below\", \"line\": {\"color\": \"white\", \"width\": 2}, \"type\": \"line\", \"x0\": 16, \"x1\": 16, \"y0\": 23.58333, \"y1\": 24.249996666666668}, {\"layer\": \"below\", \"line\": {\"color\": \"white\", \"width\": 2}, \"type\": \"line\", \"x0\": 16, \"x1\": 16, \"y0\": 29.08333, \"y1\": 29.749996666666668}, {\"layer\": \"below\", \"line\": {\"color\": \"white\", \"width\": 2}, \"type\": \"line\", \"x0\": 16, \"x1\": 16, \"y0\": 51.63333333333333, \"y1\": 52.3}, {\"layer\": \"below\", \"line\": {\"color\": \"white\", \"width\": 2}, \"type\": \"line\", \"x0\": 17, \"x1\": 17, \"y0\": 1, \"y1\": 1.6666666666666665}, {\"layer\": \"below\", \"line\": {\"color\": \"white\", \"width\": 2}, \"type\": \"line\", \"x0\": 17, \"x1\": 17, \"y0\": 23.58333, \"y1\": 24.249996666666668}, {\"layer\": \"below\", \"line\": {\"color\": \"white\", \"width\": 2}, \"type\": \"line\", \"x0\": 17, \"x1\": 17, \"y0\": 29.08333, \"y1\": 29.749996666666668}, {\"layer\": \"below\", \"line\": {\"color\": \"white\", \"width\": 2}, \"type\": \"line\", \"x0\": 17, \"x1\": 17, \"y0\": 51.63333333333333, \"y1\": 52.3}, {\"layer\": \"below\", \"line\": {\"color\": \"white\", \"width\": 2}, \"type\": \"line\", \"x0\": 18, \"x1\": 18, \"y0\": 1, \"y1\": 1.6666666666666665}, {\"layer\": \"below\", \"line\": {\"color\": \"white\", \"width\": 2}, \"type\": \"line\", \"x0\": 18, \"x1\": 18, \"y0\": 23.58333, \"y1\": 24.249996666666668}, {\"layer\": \"below\", \"line\": {\"color\": \"white\", \"width\": 2}, \"type\": \"line\", \"x0\": 18, \"x1\": 18, \"y0\": 29.08333, \"y1\": 29.749996666666668}, {\"layer\": \"below\", \"line\": {\"color\": \"white\", \"width\": 2}, \"type\": \"line\", \"x0\": 18, \"x1\": 18, \"y0\": 51.63333333333333, \"y1\": 52.3}, {\"layer\": \"below\", \"line\": {\"color\": \"white\", \"width\": 2}, \"type\": \"line\", \"x0\": 19, \"x1\": 19, \"y0\": 1, \"y1\": 1.6666666666666665}, {\"layer\": \"below\", \"line\": {\"color\": \"white\", \"width\": 2}, \"type\": \"line\", \"x0\": 19, \"x1\": 19, \"y0\": 23.58333, \"y1\": 24.249996666666668}, {\"layer\": \"below\", \"line\": {\"color\": \"white\", \"width\": 2}, \"type\": \"line\", \"x0\": 19, \"x1\": 19, \"y0\": 29.08333, \"y1\": 29.749996666666668}, {\"layer\": \"below\", \"line\": {\"color\": \"white\", \"width\": 2}, \"type\": \"line\", \"x0\": 19, \"x1\": 19, \"y0\": 51.63333333333333, \"y1\": 52.3}, {\"layer\": \"below\", \"line\": {\"color\": \"white\", \"width\": 2}, \"type\": \"line\", \"x0\": 21, \"x1\": 21, \"y0\": 1, \"y1\": 1.6666666666666665}, {\"layer\": \"below\", \"line\": {\"color\": \"white\", \"width\": 2}, \"type\": \"line\", \"x0\": 21, \"x1\": 21, \"y0\": 23.58333, \"y1\": 24.249996666666668}, {\"layer\": \"below\", \"line\": {\"color\": \"white\", \"width\": 2}, \"type\": \"line\", \"x0\": 21, \"x1\": 21, \"y0\": 29.08333, \"y1\": 29.749996666666668}, {\"layer\": \"below\", \"line\": {\"color\": \"white\", \"width\": 2}, \"type\": \"line\", \"x0\": 21, \"x1\": 21, \"y0\": 51.63333333333333, \"y1\": 52.3}, {\"layer\": \"below\", \"line\": {\"color\": \"white\", \"width\": 2}, \"type\": \"line\", \"x0\": 22, \"x1\": 22, \"y0\": 1, \"y1\": 1.6666666666666665}, {\"layer\": \"below\", \"line\": {\"color\": \"white\", \"width\": 2}, \"type\": \"line\", \"x0\": 22, \"x1\": 22, \"y0\": 23.58333, \"y1\": 24.249996666666668}, {\"layer\": \"below\", \"line\": {\"color\": \"white\", \"width\": 2}, \"type\": \"line\", \"x0\": 22, \"x1\": 22, \"y0\": 29.08333, \"y1\": 29.749996666666668}, {\"layer\": \"below\", \"line\": {\"color\": \"white\", \"width\": 2}, \"type\": \"line\", \"x0\": 22, \"x1\": 22, \"y0\": 51.63333333333333, \"y1\": 52.3}, {\"layer\": \"below\", \"line\": {\"color\": \"white\", \"width\": 2}, \"type\": \"line\", \"x0\": 23, \"x1\": 23, \"y0\": 1, \"y1\": 1.6666666666666665}, {\"layer\": \"below\", \"line\": {\"color\": \"white\", \"width\": 2}, \"type\": \"line\", \"x0\": 23, \"x1\": 23, \"y0\": 23.58333, \"y1\": 24.249996666666668}, {\"layer\": \"below\", \"line\": {\"color\": \"white\", \"width\": 2}, \"type\": \"line\", \"x0\": 23, \"x1\": 23, \"y0\": 29.08333, \"y1\": 29.749996666666668}, {\"layer\": \"below\", \"line\": {\"color\": \"white\", \"width\": 2}, \"type\": \"line\", \"x0\": 23, \"x1\": 23, \"y0\": 51.63333333333333, \"y1\": 52.3}, {\"layer\": \"below\", \"line\": {\"color\": \"white\", \"width\": 2}, \"type\": \"line\", \"x0\": 24, \"x1\": 24, \"y0\": 1, \"y1\": 1.6666666666666665}, {\"layer\": \"below\", \"line\": {\"color\": \"white\", \"width\": 2}, \"type\": \"line\", \"x0\": 24, \"x1\": 24, \"y0\": 23.58333, \"y1\": 24.249996666666668}, {\"layer\": \"below\", \"line\": {\"color\": \"white\", \"width\": 2}, \"type\": \"line\", \"x0\": 24, \"x1\": 24, \"y0\": 29.08333, \"y1\": 29.749996666666668}, {\"layer\": \"below\", \"line\": {\"color\": \"white\", \"width\": 2}, \"type\": \"line\", \"x0\": 24, \"x1\": 24, \"y0\": 51.63333333333333, \"y1\": 52.3}, {\"layer\": \"below\", \"line\": {\"color\": \"white\", \"width\": 2}, \"type\": \"line\", \"x0\": 25, \"x1\": 25, \"y0\": 1, \"y1\": 1.6666666666666665}, {\"layer\": \"below\", \"line\": {\"color\": \"white\", \"width\": 2}, \"type\": \"line\", \"x0\": 25, \"x1\": 25, \"y0\": 23.58333, \"y1\": 24.249996666666668}, {\"layer\": \"below\", \"line\": {\"color\": \"white\", \"width\": 2}, \"type\": \"line\", \"x0\": 25, \"x1\": 25, \"y0\": 29.08333, \"y1\": 29.749996666666668}, {\"layer\": \"below\", \"line\": {\"color\": \"white\", \"width\": 2}, \"type\": \"line\", \"x0\": 25, \"x1\": 25, \"y0\": 51.63333333333333, \"y1\": 52.3}, {\"layer\": \"below\", \"line\": {\"color\": \"white\", \"width\": 2}, \"type\": \"line\", \"x0\": 26, \"x1\": 26, \"y0\": 1, \"y1\": 1.6666666666666665}, {\"layer\": \"below\", \"line\": {\"color\": \"white\", \"width\": 2}, \"type\": \"line\", \"x0\": 26, \"x1\": 26, \"y0\": 23.58333, \"y1\": 24.249996666666668}, {\"layer\": \"below\", \"line\": {\"color\": \"white\", \"width\": 2}, \"type\": \"line\", \"x0\": 26, \"x1\": 26, \"y0\": 29.08333, \"y1\": 29.749996666666668}, {\"layer\": \"below\", \"line\": {\"color\": \"white\", \"width\": 2}, \"type\": \"line\", \"x0\": 26, \"x1\": 26, \"y0\": 51.63333333333333, \"y1\": 52.3}, {\"layer\": \"below\", \"line\": {\"color\": \"white\", \"width\": 2}, \"type\": \"line\", \"x0\": 27, \"x1\": 27, \"y0\": 1, \"y1\": 1.6666666666666665}, {\"layer\": \"below\", \"line\": {\"color\": \"white\", \"width\": 2}, \"type\": \"line\", \"x0\": 27, \"x1\": 27, \"y0\": 23.58333, \"y1\": 24.249996666666668}, {\"layer\": \"below\", \"line\": {\"color\": \"white\", \"width\": 2}, \"type\": \"line\", \"x0\": 27, \"x1\": 27, \"y0\": 29.08333, \"y1\": 29.749996666666668}, {\"layer\": \"below\", \"line\": {\"color\": \"white\", \"width\": 2}, \"type\": \"line\", \"x0\": 27, \"x1\": 27, \"y0\": 51.63333333333333, \"y1\": 52.3}, {\"layer\": \"below\", \"line\": {\"color\": \"white\", \"width\": 2}, \"type\": \"line\", \"x0\": 28, \"x1\": 28, \"y0\": 1, \"y1\": 1.6666666666666665}, {\"layer\": \"below\", \"line\": {\"color\": \"white\", \"width\": 2}, \"type\": \"line\", \"x0\": 28, \"x1\": 28, \"y0\": 23.58333, \"y1\": 24.249996666666668}, {\"layer\": \"below\", \"line\": {\"color\": \"white\", \"width\": 2}, \"type\": \"line\", \"x0\": 28, \"x1\": 28, \"y0\": 29.08333, \"y1\": 29.749996666666668}, {\"layer\": \"below\", \"line\": {\"color\": \"white\", \"width\": 2}, \"type\": \"line\", \"x0\": 28, \"x1\": 28, \"y0\": 51.63333333333333, \"y1\": 52.3}, {\"layer\": \"below\", \"line\": {\"color\": \"white\", \"width\": 2}, \"type\": \"line\", \"x0\": 29, \"x1\": 29, \"y0\": 1, \"y1\": 1.6666666666666665}, {\"layer\": \"below\", \"line\": {\"color\": \"white\", \"width\": 2}, \"type\": \"line\", \"x0\": 29, \"x1\": 29, \"y0\": 23.58333, \"y1\": 24.249996666666668}, {\"layer\": \"below\", \"line\": {\"color\": \"white\", \"width\": 2}, \"type\": \"line\", \"x0\": 29, \"x1\": 29, \"y0\": 29.08333, \"y1\": 29.749996666666668}, {\"layer\": \"below\", \"line\": {\"color\": \"white\", \"width\": 2}, \"type\": \"line\", \"x0\": 29, \"x1\": 29, \"y0\": 51.63333333333333, \"y1\": 52.3}, {\"layer\": \"below\", \"line\": {\"color\": \"white\", \"width\": 2}, \"type\": \"line\", \"x0\": 31, \"x1\": 31, \"y0\": 1, \"y1\": 1.6666666666666665}, {\"layer\": \"below\", \"line\": {\"color\": \"white\", \"width\": 2}, \"type\": \"line\", \"x0\": 31, \"x1\": 31, \"y0\": 23.58333, \"y1\": 24.249996666666668}, {\"layer\": \"below\", \"line\": {\"color\": \"white\", \"width\": 2}, \"type\": \"line\", \"x0\": 31, \"x1\": 31, \"y0\": 29.08333, \"y1\": 29.749996666666668}, {\"layer\": \"below\", \"line\": {\"color\": \"white\", \"width\": 2}, \"type\": \"line\", \"x0\": 31, \"x1\": 31, \"y0\": 51.63333333333333, \"y1\": 52.3}, {\"layer\": \"below\", \"line\": {\"color\": \"white\", \"width\": 2}, \"type\": \"line\", \"x0\": 32, \"x1\": 32, \"y0\": 1, \"y1\": 1.6666666666666665}, {\"layer\": \"below\", \"line\": {\"color\": \"white\", \"width\": 2}, \"type\": \"line\", \"x0\": 32, \"x1\": 32, \"y0\": 23.58333, \"y1\": 24.249996666666668}, {\"layer\": \"below\", \"line\": {\"color\": \"white\", \"width\": 2}, \"type\": \"line\", \"x0\": 32, \"x1\": 32, \"y0\": 29.08333, \"y1\": 29.749996666666668}, {\"layer\": \"below\", \"line\": {\"color\": \"white\", \"width\": 2}, \"type\": \"line\", \"x0\": 32, \"x1\": 32, \"y0\": 51.63333333333333, \"y1\": 52.3}, {\"layer\": \"below\", \"line\": {\"color\": \"white\", \"width\": 2}, \"type\": \"line\", \"x0\": 33, \"x1\": 33, \"y0\": 1, \"y1\": 1.6666666666666665}, {\"layer\": \"below\", \"line\": {\"color\": \"white\", \"width\": 2}, \"type\": \"line\", \"x0\": 33, \"x1\": 33, \"y0\": 23.58333, \"y1\": 24.249996666666668}, {\"layer\": \"below\", \"line\": {\"color\": \"white\", \"width\": 2}, \"type\": \"line\", \"x0\": 33, \"x1\": 33, \"y0\": 29.08333, \"y1\": 29.749996666666668}, {\"layer\": \"below\", \"line\": {\"color\": \"white\", \"width\": 2}, \"type\": \"line\", \"x0\": 33, \"x1\": 33, \"y0\": 51.63333333333333, \"y1\": 52.3}, {\"layer\": \"below\", \"line\": {\"color\": \"white\", \"width\": 2}, \"type\": \"line\", \"x0\": 34, \"x1\": 34, \"y0\": 1, \"y1\": 1.6666666666666665}, {\"layer\": \"below\", \"line\": {\"color\": \"white\", \"width\": 2}, \"type\": \"line\", \"x0\": 34, \"x1\": 34, \"y0\": 23.58333, \"y1\": 24.249996666666668}, {\"layer\": \"below\", \"line\": {\"color\": \"white\", \"width\": 2}, \"type\": \"line\", \"x0\": 34, \"x1\": 34, \"y0\": 29.08333, \"y1\": 29.749996666666668}, {\"layer\": \"below\", \"line\": {\"color\": \"white\", \"width\": 2}, \"type\": \"line\", \"x0\": 34, \"x1\": 34, \"y0\": 51.63333333333333, \"y1\": 52.3}, {\"layer\": \"below\", \"line\": {\"color\": \"white\", \"width\": 2}, \"type\": \"line\", \"x0\": 35, \"x1\": 35, \"y0\": 1, \"y1\": 1.6666666666666665}, {\"layer\": \"below\", \"line\": {\"color\": \"white\", \"width\": 2}, \"type\": \"line\", \"x0\": 35, \"x1\": 35, \"y0\": 23.58333, \"y1\": 24.249996666666668}, {\"layer\": \"below\", \"line\": {\"color\": \"white\", \"width\": 2}, \"type\": \"line\", \"x0\": 35, \"x1\": 35, \"y0\": 29.08333, \"y1\": 29.749996666666668}, {\"layer\": \"below\", \"line\": {\"color\": \"white\", \"width\": 2}, \"type\": \"line\", \"x0\": 35, \"x1\": 35, \"y0\": 51.63333333333333, \"y1\": 52.3}, {\"layer\": \"below\", \"line\": {\"color\": \"white\", \"width\": 2}, \"type\": \"line\", \"x0\": 36, \"x1\": 36, \"y0\": 1, \"y1\": 1.6666666666666665}, {\"layer\": \"below\", \"line\": {\"color\": \"white\", \"width\": 2}, \"type\": \"line\", \"x0\": 36, \"x1\": 36, \"y0\": 23.58333, \"y1\": 24.249996666666668}, {\"layer\": \"below\", \"line\": {\"color\": \"white\", \"width\": 2}, \"type\": \"line\", \"x0\": 36, \"x1\": 36, \"y0\": 29.08333, \"y1\": 29.749996666666668}, {\"layer\": \"below\", \"line\": {\"color\": \"white\", \"width\": 2}, \"type\": \"line\", \"x0\": 36, \"x1\": 36, \"y0\": 51.63333333333333, \"y1\": 52.3}, {\"layer\": \"below\", \"line\": {\"color\": \"white\", \"width\": 2}, \"type\": \"line\", \"x0\": 37, \"x1\": 37, \"y0\": 1, \"y1\": 1.6666666666666665}, {\"layer\": \"below\", \"line\": {\"color\": \"white\", \"width\": 2}, \"type\": \"line\", \"x0\": 37, \"x1\": 37, \"y0\": 23.58333, \"y1\": 24.249996666666668}, {\"layer\": \"below\", \"line\": {\"color\": \"white\", \"width\": 2}, \"type\": \"line\", \"x0\": 37, \"x1\": 37, \"y0\": 29.08333, \"y1\": 29.749996666666668}, {\"layer\": \"below\", \"line\": {\"color\": \"white\", \"width\": 2}, \"type\": \"line\", \"x0\": 37, \"x1\": 37, \"y0\": 51.63333333333333, \"y1\": 52.3}, {\"layer\": \"below\", \"line\": {\"color\": \"white\", \"width\": 2}, \"type\": \"line\", \"x0\": 38, \"x1\": 38, \"y0\": 1, \"y1\": 1.6666666666666665}, {\"layer\": \"below\", \"line\": {\"color\": \"white\", \"width\": 2}, \"type\": \"line\", \"x0\": 38, \"x1\": 38, \"y0\": 23.58333, \"y1\": 24.249996666666668}, {\"layer\": \"below\", \"line\": {\"color\": \"white\", \"width\": 2}, \"type\": \"line\", \"x0\": 38, \"x1\": 38, \"y0\": 29.08333, \"y1\": 29.749996666666668}, {\"layer\": \"below\", \"line\": {\"color\": \"white\", \"width\": 2}, \"type\": \"line\", \"x0\": 38, \"x1\": 38, \"y0\": 51.63333333333333, \"y1\": 52.3}, {\"layer\": \"below\", \"line\": {\"color\": \"white\", \"width\": 2}, \"type\": \"line\", \"x0\": 39, \"x1\": 39, \"y0\": 1, \"y1\": 1.6666666666666665}, {\"layer\": \"below\", \"line\": {\"color\": \"white\", \"width\": 2}, \"type\": \"line\", \"x0\": 39, \"x1\": 39, \"y0\": 23.58333, \"y1\": 24.249996666666668}, {\"layer\": \"below\", \"line\": {\"color\": \"white\", \"width\": 2}, \"type\": \"line\", \"x0\": 39, \"x1\": 39, \"y0\": 29.08333, \"y1\": 29.749996666666668}, {\"layer\": \"below\", \"line\": {\"color\": \"white\", \"width\": 2}, \"type\": \"line\", \"x0\": 39, \"x1\": 39, \"y0\": 51.63333333333333, \"y1\": 52.3}, {\"layer\": \"below\", \"line\": {\"color\": \"white\", \"width\": 2}, \"type\": \"line\", \"x0\": 41, \"x1\": 41, \"y0\": 1, \"y1\": 1.6666666666666665}, {\"layer\": \"below\", \"line\": {\"color\": \"white\", \"width\": 2}, \"type\": \"line\", \"x0\": 41, \"x1\": 41, \"y0\": 23.58333, \"y1\": 24.249996666666668}, {\"layer\": \"below\", \"line\": {\"color\": \"white\", \"width\": 2}, \"type\": \"line\", \"x0\": 41, \"x1\": 41, \"y0\": 29.08333, \"y1\": 29.749996666666668}, {\"layer\": \"below\", \"line\": {\"color\": \"white\", \"width\": 2}, \"type\": \"line\", \"x0\": 41, \"x1\": 41, \"y0\": 51.63333333333333, \"y1\": 52.3}, {\"layer\": \"below\", \"line\": {\"color\": \"white\", \"width\": 2}, \"type\": \"line\", \"x0\": 42, \"x1\": 42, \"y0\": 1, \"y1\": 1.6666666666666665}, {\"layer\": \"below\", \"line\": {\"color\": \"white\", \"width\": 2}, \"type\": \"line\", \"x0\": 42, \"x1\": 42, \"y0\": 23.58333, \"y1\": 24.249996666666668}, {\"layer\": \"below\", \"line\": {\"color\": \"white\", \"width\": 2}, \"type\": \"line\", \"x0\": 42, \"x1\": 42, \"y0\": 29.08333, \"y1\": 29.749996666666668}, {\"layer\": \"below\", \"line\": {\"color\": \"white\", \"width\": 2}, \"type\": \"line\", \"x0\": 42, \"x1\": 42, \"y0\": 51.63333333333333, \"y1\": 52.3}, {\"layer\": \"below\", \"line\": {\"color\": \"white\", \"width\": 2}, \"type\": \"line\", \"x0\": 43, \"x1\": 43, \"y0\": 1, \"y1\": 1.6666666666666665}, {\"layer\": \"below\", \"line\": {\"color\": \"white\", \"width\": 2}, \"type\": \"line\", \"x0\": 43, \"x1\": 43, \"y0\": 23.58333, \"y1\": 24.249996666666668}, {\"layer\": \"below\", \"line\": {\"color\": \"white\", \"width\": 2}, \"type\": \"line\", \"x0\": 43, \"x1\": 43, \"y0\": 29.08333, \"y1\": 29.749996666666668}, {\"layer\": \"below\", \"line\": {\"color\": \"white\", \"width\": 2}, \"type\": \"line\", \"x0\": 43, \"x1\": 43, \"y0\": 51.63333333333333, \"y1\": 52.3}, {\"layer\": \"below\", \"line\": {\"color\": \"white\", \"width\": 2}, \"type\": \"line\", \"x0\": 44, \"x1\": 44, \"y0\": 1, \"y1\": 1.6666666666666665}, {\"layer\": \"below\", \"line\": {\"color\": \"white\", \"width\": 2}, \"type\": \"line\", \"x0\": 44, \"x1\": 44, \"y0\": 23.58333, \"y1\": 24.249996666666668}, {\"layer\": \"below\", \"line\": {\"color\": \"white\", \"width\": 2}, \"type\": \"line\", \"x0\": 44, \"x1\": 44, \"y0\": 29.08333, \"y1\": 29.749996666666668}, {\"layer\": \"below\", \"line\": {\"color\": \"white\", \"width\": 2}, \"type\": \"line\", \"x0\": 44, \"x1\": 44, \"y0\": 51.63333333333333, \"y1\": 52.3}, {\"layer\": \"below\", \"line\": {\"color\": \"white\", \"width\": 2}, \"type\": \"line\", \"x0\": 45, \"x1\": 45, \"y0\": 1, \"y1\": 1.6666666666666665}, {\"layer\": \"below\", \"line\": {\"color\": \"white\", \"width\": 2}, \"type\": \"line\", \"x0\": 45, \"x1\": 45, \"y0\": 23.58333, \"y1\": 24.249996666666668}, {\"layer\": \"below\", \"line\": {\"color\": \"white\", \"width\": 2}, \"type\": \"line\", \"x0\": 45, \"x1\": 45, \"y0\": 29.08333, \"y1\": 29.749996666666668}, {\"layer\": \"below\", \"line\": {\"color\": \"white\", \"width\": 2}, \"type\": \"line\", \"x0\": 45, \"x1\": 45, \"y0\": 51.63333333333333, \"y1\": 52.3}, {\"layer\": \"below\", \"line\": {\"color\": \"white\", \"width\": 2}, \"type\": \"line\", \"x0\": 46, \"x1\": 46, \"y0\": 1, \"y1\": 1.6666666666666665}, {\"layer\": \"below\", \"line\": {\"color\": \"white\", \"width\": 2}, \"type\": \"line\", \"x0\": 46, \"x1\": 46, \"y0\": 23.58333, \"y1\": 24.249996666666668}, {\"layer\": \"below\", \"line\": {\"color\": \"white\", \"width\": 2}, \"type\": \"line\", \"x0\": 46, \"x1\": 46, \"y0\": 29.08333, \"y1\": 29.749996666666668}, {\"layer\": \"below\", \"line\": {\"color\": \"white\", \"width\": 2}, \"type\": \"line\", \"x0\": 46, \"x1\": 46, \"y0\": 51.63333333333333, \"y1\": 52.3}, {\"layer\": \"below\", \"line\": {\"color\": \"white\", \"width\": 2}, \"type\": \"line\", \"x0\": 47, \"x1\": 47, \"y0\": 1, \"y1\": 1.6666666666666665}, {\"layer\": \"below\", \"line\": {\"color\": \"white\", \"width\": 2}, \"type\": \"line\", \"x0\": 47, \"x1\": 47, \"y0\": 23.58333, \"y1\": 24.249996666666668}, {\"layer\": \"below\", \"line\": {\"color\": \"white\", \"width\": 2}, \"type\": \"line\", \"x0\": 47, \"x1\": 47, \"y0\": 29.08333, \"y1\": 29.749996666666668}, {\"layer\": \"below\", \"line\": {\"color\": \"white\", \"width\": 2}, \"type\": \"line\", \"x0\": 47, \"x1\": 47, \"y0\": 51.63333333333333, \"y1\": 52.3}, {\"layer\": \"below\", \"line\": {\"color\": \"white\", \"width\": 2}, \"type\": \"line\", \"x0\": 48, \"x1\": 48, \"y0\": 1, \"y1\": 1.6666666666666665}, {\"layer\": \"below\", \"line\": {\"color\": \"white\", \"width\": 2}, \"type\": \"line\", \"x0\": 48, \"x1\": 48, \"y0\": 23.58333, \"y1\": 24.249996666666668}, {\"layer\": \"below\", \"line\": {\"color\": \"white\", \"width\": 2}, \"type\": \"line\", \"x0\": 48, \"x1\": 48, \"y0\": 29.08333, \"y1\": 29.749996666666668}, {\"layer\": \"below\", \"line\": {\"color\": \"white\", \"width\": 2}, \"type\": \"line\", \"x0\": 48, \"x1\": 48, \"y0\": 51.63333333333333, \"y1\": 52.3}, {\"layer\": \"below\", \"line\": {\"color\": \"white\", \"width\": 2}, \"type\": \"line\", \"x0\": 49, \"x1\": 49, \"y0\": 1, \"y1\": 1.6666666666666665}, {\"layer\": \"below\", \"line\": {\"color\": \"white\", \"width\": 2}, \"type\": \"line\", \"x0\": 49, \"x1\": 49, \"y0\": 23.58333, \"y1\": 24.249996666666668}, {\"layer\": \"below\", \"line\": {\"color\": \"white\", \"width\": 2}, \"type\": \"line\", \"x0\": 49, \"x1\": 49, \"y0\": 29.08333, \"y1\": 29.749996666666668}, {\"layer\": \"below\", \"line\": {\"color\": \"white\", \"width\": 2}, \"type\": \"line\", \"x0\": 49, \"x1\": 49, \"y0\": 51.63333333333333, \"y1\": 52.3}, {\"layer\": \"below\", \"line\": {\"color\": \"white\", \"width\": 2}, \"type\": \"line\", \"x0\": 51, \"x1\": 51, \"y0\": 1, \"y1\": 1.6666666666666665}, {\"layer\": \"below\", \"line\": {\"color\": \"white\", \"width\": 2}, \"type\": \"line\", \"x0\": 51, \"x1\": 51, \"y0\": 23.58333, \"y1\": 24.249996666666668}, {\"layer\": \"below\", \"line\": {\"color\": \"white\", \"width\": 2}, \"type\": \"line\", \"x0\": 51, \"x1\": 51, \"y0\": 29.08333, \"y1\": 29.749996666666668}, {\"layer\": \"below\", \"line\": {\"color\": \"white\", \"width\": 2}, \"type\": \"line\", \"x0\": 51, \"x1\": 51, \"y0\": 51.63333333333333, \"y1\": 52.3}, {\"layer\": \"below\", \"line\": {\"color\": \"white\", \"width\": 2}, \"type\": \"line\", \"x0\": 52, \"x1\": 52, \"y0\": 1, \"y1\": 1.6666666666666665}, {\"layer\": \"below\", \"line\": {\"color\": \"white\", \"width\": 2}, \"type\": \"line\", \"x0\": 52, \"x1\": 52, \"y0\": 23.58333, \"y1\": 24.249996666666668}, {\"layer\": \"below\", \"line\": {\"color\": \"white\", \"width\": 2}, \"type\": \"line\", \"x0\": 52, \"x1\": 52, \"y0\": 29.08333, \"y1\": 29.749996666666668}, {\"layer\": \"below\", \"line\": {\"color\": \"white\", \"width\": 2}, \"type\": \"line\", \"x0\": 52, \"x1\": 52, \"y0\": 51.63333333333333, \"y1\": 52.3}, {\"layer\": \"below\", \"line\": {\"color\": \"white\", \"width\": 2}, \"type\": \"line\", \"x0\": 53, \"x1\": 53, \"y0\": 1, \"y1\": 1.6666666666666665}, {\"layer\": \"below\", \"line\": {\"color\": \"white\", \"width\": 2}, \"type\": \"line\", \"x0\": 53, \"x1\": 53, \"y0\": 23.58333, \"y1\": 24.249996666666668}, {\"layer\": \"below\", \"line\": {\"color\": \"white\", \"width\": 2}, \"type\": \"line\", \"x0\": 53, \"x1\": 53, \"y0\": 29.08333, \"y1\": 29.749996666666668}, {\"layer\": \"below\", \"line\": {\"color\": \"white\", \"width\": 2}, \"type\": \"line\", \"x0\": 53, \"x1\": 53, \"y0\": 51.63333333333333, \"y1\": 52.3}, {\"layer\": \"below\", \"line\": {\"color\": \"white\", \"width\": 2}, \"type\": \"line\", \"x0\": 54, \"x1\": 54, \"y0\": 1, \"y1\": 1.6666666666666665}, {\"layer\": \"below\", \"line\": {\"color\": \"white\", \"width\": 2}, \"type\": \"line\", \"x0\": 54, \"x1\": 54, \"y0\": 23.58333, \"y1\": 24.249996666666668}, {\"layer\": \"below\", \"line\": {\"color\": \"white\", \"width\": 2}, \"type\": \"line\", \"x0\": 54, \"x1\": 54, \"y0\": 29.08333, \"y1\": 29.749996666666668}, {\"layer\": \"below\", \"line\": {\"color\": \"white\", \"width\": 2}, \"type\": \"line\", \"x0\": 54, \"x1\": 54, \"y0\": 51.63333333333333, \"y1\": 52.3}, {\"layer\": \"below\", \"line\": {\"color\": \"white\", \"width\": 2}, \"type\": \"line\", \"x0\": 55, \"x1\": 55, \"y0\": 1, \"y1\": 1.6666666666666665}, {\"layer\": \"below\", \"line\": {\"color\": \"white\", \"width\": 2}, \"type\": \"line\", \"x0\": 55, \"x1\": 55, \"y0\": 23.58333, \"y1\": 24.249996666666668}, {\"layer\": \"below\", \"line\": {\"color\": \"white\", \"width\": 2}, \"type\": \"line\", \"x0\": 55, \"x1\": 55, \"y0\": 29.08333, \"y1\": 29.749996666666668}, {\"layer\": \"below\", \"line\": {\"color\": \"white\", \"width\": 2}, \"type\": \"line\", \"x0\": 55, \"x1\": 55, \"y0\": 51.63333333333333, \"y1\": 52.3}, {\"layer\": \"below\", \"line\": {\"color\": \"white\", \"width\": 2}, \"type\": \"line\", \"x0\": 56, \"x1\": 56, \"y0\": 1, \"y1\": 1.6666666666666665}, {\"layer\": \"below\", \"line\": {\"color\": \"white\", \"width\": 2}, \"type\": \"line\", \"x0\": 56, \"x1\": 56, \"y0\": 23.58333, \"y1\": 24.249996666666668}, {\"layer\": \"below\", \"line\": {\"color\": \"white\", \"width\": 2}, \"type\": \"line\", \"x0\": 56, \"x1\": 56, \"y0\": 29.08333, \"y1\": 29.749996666666668}, {\"layer\": \"below\", \"line\": {\"color\": \"white\", \"width\": 2}, \"type\": \"line\", \"x0\": 56, \"x1\": 56, \"y0\": 51.63333333333333, \"y1\": 52.3}, {\"layer\": \"below\", \"line\": {\"color\": \"white\", \"width\": 2}, \"type\": \"line\", \"x0\": 57, \"x1\": 57, \"y0\": 1, \"y1\": 1.6666666666666665}, {\"layer\": \"below\", \"line\": {\"color\": \"white\", \"width\": 2}, \"type\": \"line\", \"x0\": 57, \"x1\": 57, \"y0\": 23.58333, \"y1\": 24.249996666666668}, {\"layer\": \"below\", \"line\": {\"color\": \"white\", \"width\": 2}, \"type\": \"line\", \"x0\": 57, \"x1\": 57, \"y0\": 29.08333, \"y1\": 29.749996666666668}, {\"layer\": \"below\", \"line\": {\"color\": \"white\", \"width\": 2}, \"type\": \"line\", \"x0\": 57, \"x1\": 57, \"y0\": 51.63333333333333, \"y1\": 52.3}, {\"layer\": \"below\", \"line\": {\"color\": \"white\", \"width\": 2}, \"type\": \"line\", \"x0\": 58, \"x1\": 58, \"y0\": 1, \"y1\": 1.6666666666666665}, {\"layer\": \"below\", \"line\": {\"color\": \"white\", \"width\": 2}, \"type\": \"line\", \"x0\": 58, \"x1\": 58, \"y0\": 23.58333, \"y1\": 24.249996666666668}, {\"layer\": \"below\", \"line\": {\"color\": \"white\", \"width\": 2}, \"type\": \"line\", \"x0\": 58, \"x1\": 58, \"y0\": 29.08333, \"y1\": 29.749996666666668}, {\"layer\": \"below\", \"line\": {\"color\": \"white\", \"width\": 2}, \"type\": \"line\", \"x0\": 58, \"x1\": 58, \"y0\": 51.63333333333333, \"y1\": 52.3}, {\"layer\": \"below\", \"line\": {\"color\": \"white\", \"width\": 2}, \"type\": \"line\", \"x0\": 59, \"x1\": 59, \"y0\": 1, \"y1\": 1.6666666666666665}, {\"layer\": \"below\", \"line\": {\"color\": \"white\", \"width\": 2}, \"type\": \"line\", \"x0\": 59, \"x1\": 59, \"y0\": 23.58333, \"y1\": 24.249996666666668}, {\"layer\": \"below\", \"line\": {\"color\": \"white\", \"width\": 2}, \"type\": \"line\", \"x0\": 59, \"x1\": 59, \"y0\": 29.08333, \"y1\": 29.749996666666668}, {\"layer\": \"below\", \"line\": {\"color\": \"white\", \"width\": 2}, \"type\": \"line\", \"x0\": 59, \"x1\": 59, \"y0\": 51.63333333333333, \"y1\": 52.3}, {\"layer\": \"below\", \"line\": {\"color\": \"white\", \"width\": 2}, \"type\": \"line\", \"x0\": 61, \"x1\": 61, \"y0\": 1, \"y1\": 1.6666666666666665}, {\"layer\": \"below\", \"line\": {\"color\": \"white\", \"width\": 2}, \"type\": \"line\", \"x0\": 61, \"x1\": 61, \"y0\": 23.58333, \"y1\": 24.249996666666668}, {\"layer\": \"below\", \"line\": {\"color\": \"white\", \"width\": 2}, \"type\": \"line\", \"x0\": 61, \"x1\": 61, \"y0\": 29.08333, \"y1\": 29.749996666666668}, {\"layer\": \"below\", \"line\": {\"color\": \"white\", \"width\": 2}, \"type\": \"line\", \"x0\": 61, \"x1\": 61, \"y0\": 51.63333333333333, \"y1\": 52.3}, {\"layer\": \"below\", \"line\": {\"color\": \"white\", \"width\": 2}, \"type\": \"line\", \"x0\": 62, \"x1\": 62, \"y0\": 1, \"y1\": 1.6666666666666665}, {\"layer\": \"below\", \"line\": {\"color\": \"white\", \"width\": 2}, \"type\": \"line\", \"x0\": 62, \"x1\": 62, \"y0\": 23.58333, \"y1\": 24.249996666666668}, {\"layer\": \"below\", \"line\": {\"color\": \"white\", \"width\": 2}, \"type\": \"line\", \"x0\": 62, \"x1\": 62, \"y0\": 29.08333, \"y1\": 29.749996666666668}, {\"layer\": \"below\", \"line\": {\"color\": \"white\", \"width\": 2}, \"type\": \"line\", \"x0\": 62, \"x1\": 62, \"y0\": 51.63333333333333, \"y1\": 52.3}, {\"layer\": \"below\", \"line\": {\"color\": \"white\", \"width\": 2}, \"type\": \"line\", \"x0\": 63, \"x1\": 63, \"y0\": 1, \"y1\": 1.6666666666666665}, {\"layer\": \"below\", \"line\": {\"color\": \"white\", \"width\": 2}, \"type\": \"line\", \"x0\": 63, \"x1\": 63, \"y0\": 23.58333, \"y1\": 24.249996666666668}, {\"layer\": \"below\", \"line\": {\"color\": \"white\", \"width\": 2}, \"type\": \"line\", \"x0\": 63, \"x1\": 63, \"y0\": 29.08333, \"y1\": 29.749996666666668}, {\"layer\": \"below\", \"line\": {\"color\": \"white\", \"width\": 2}, \"type\": \"line\", \"x0\": 63, \"x1\": 63, \"y0\": 51.63333333333333, \"y1\": 52.3}, {\"layer\": \"below\", \"line\": {\"color\": \"white\", \"width\": 2}, \"type\": \"line\", \"x0\": 64, \"x1\": 64, \"y0\": 1, \"y1\": 1.6666666666666665}, {\"layer\": \"below\", \"line\": {\"color\": \"white\", \"width\": 2}, \"type\": \"line\", \"x0\": 64, \"x1\": 64, \"y0\": 23.58333, \"y1\": 24.249996666666668}, {\"layer\": \"below\", \"line\": {\"color\": \"white\", \"width\": 2}, \"type\": \"line\", \"x0\": 64, \"x1\": 64, \"y0\": 29.08333, \"y1\": 29.749996666666668}, {\"layer\": \"below\", \"line\": {\"color\": \"white\", \"width\": 2}, \"type\": \"line\", \"x0\": 64, \"x1\": 64, \"y0\": 51.63333333333333, \"y1\": 52.3}, {\"layer\": \"below\", \"line\": {\"color\": \"white\", \"width\": 2}, \"type\": \"line\", \"x0\": 65, \"x1\": 65, \"y0\": 1, \"y1\": 1.6666666666666665}, {\"layer\": \"below\", \"line\": {\"color\": \"white\", \"width\": 2}, \"type\": \"line\", \"x0\": 65, \"x1\": 65, \"y0\": 23.58333, \"y1\": 24.249996666666668}, {\"layer\": \"below\", \"line\": {\"color\": \"white\", \"width\": 2}, \"type\": \"line\", \"x0\": 65, \"x1\": 65, \"y0\": 29.08333, \"y1\": 29.749996666666668}, {\"layer\": \"below\", \"line\": {\"color\": \"white\", \"width\": 2}, \"type\": \"line\", \"x0\": 65, \"x1\": 65, \"y0\": 51.63333333333333, \"y1\": 52.3}, {\"layer\": \"below\", \"line\": {\"color\": \"white\", \"width\": 2}, \"type\": \"line\", \"x0\": 66, \"x1\": 66, \"y0\": 1, \"y1\": 1.6666666666666665}, {\"layer\": \"below\", \"line\": {\"color\": \"white\", \"width\": 2}, \"type\": \"line\", \"x0\": 66, \"x1\": 66, \"y0\": 23.58333, \"y1\": 24.249996666666668}, {\"layer\": \"below\", \"line\": {\"color\": \"white\", \"width\": 2}, \"type\": \"line\", \"x0\": 66, \"x1\": 66, \"y0\": 29.08333, \"y1\": 29.749996666666668}, {\"layer\": \"below\", \"line\": {\"color\": \"white\", \"width\": 2}, \"type\": \"line\", \"x0\": 66, \"x1\": 66, \"y0\": 51.63333333333333, \"y1\": 52.3}, {\"layer\": \"below\", \"line\": {\"color\": \"white\", \"width\": 2}, \"type\": \"line\", \"x0\": 67, \"x1\": 67, \"y0\": 1, \"y1\": 1.6666666666666665}, {\"layer\": \"below\", \"line\": {\"color\": \"white\", \"width\": 2}, \"type\": \"line\", \"x0\": 67, \"x1\": 67, \"y0\": 23.58333, \"y1\": 24.249996666666668}, {\"layer\": \"below\", \"line\": {\"color\": \"white\", \"width\": 2}, \"type\": \"line\", \"x0\": 67, \"x1\": 67, \"y0\": 29.08333, \"y1\": 29.749996666666668}, {\"layer\": \"below\", \"line\": {\"color\": \"white\", \"width\": 2}, \"type\": \"line\", \"x0\": 67, \"x1\": 67, \"y0\": 51.63333333333333, \"y1\": 52.3}, {\"layer\": \"below\", \"line\": {\"color\": \"white\", \"width\": 2}, \"type\": \"line\", \"x0\": 68, \"x1\": 68, \"y0\": 1, \"y1\": 1.6666666666666665}, {\"layer\": \"below\", \"line\": {\"color\": \"white\", \"width\": 2}, \"type\": \"line\", \"x0\": 68, \"x1\": 68, \"y0\": 23.58333, \"y1\": 24.249996666666668}, {\"layer\": \"below\", \"line\": {\"color\": \"white\", \"width\": 2}, \"type\": \"line\", \"x0\": 68, \"x1\": 68, \"y0\": 29.08333, \"y1\": 29.749996666666668}, {\"layer\": \"below\", \"line\": {\"color\": \"white\", \"width\": 2}, \"type\": \"line\", \"x0\": 68, \"x1\": 68, \"y0\": 51.63333333333333, \"y1\": 52.3}, {\"layer\": \"below\", \"line\": {\"color\": \"white\", \"width\": 2}, \"type\": \"line\", \"x0\": 69, \"x1\": 69, \"y0\": 1, \"y1\": 1.6666666666666665}, {\"layer\": \"below\", \"line\": {\"color\": \"white\", \"width\": 2}, \"type\": \"line\", \"x0\": 69, \"x1\": 69, \"y0\": 23.58333, \"y1\": 24.249996666666668}, {\"layer\": \"below\", \"line\": {\"color\": \"white\", \"width\": 2}, \"type\": \"line\", \"x0\": 69, \"x1\": 69, \"y0\": 29.08333, \"y1\": 29.749996666666668}, {\"layer\": \"below\", \"line\": {\"color\": \"white\", \"width\": 2}, \"type\": \"line\", \"x0\": 69, \"x1\": 69, \"y0\": 51.63333333333333, \"y1\": 52.3}, {\"layer\": \"below\", \"line\": {\"color\": \"white\", \"width\": 2}, \"type\": \"line\", \"x0\": 71, \"x1\": 71, \"y0\": 1, \"y1\": 1.6666666666666665}, {\"layer\": \"below\", \"line\": {\"color\": \"white\", \"width\": 2}, \"type\": \"line\", \"x0\": 71, \"x1\": 71, \"y0\": 23.58333, \"y1\": 24.249996666666668}, {\"layer\": \"below\", \"line\": {\"color\": \"white\", \"width\": 2}, \"type\": \"line\", \"x0\": 71, \"x1\": 71, \"y0\": 29.08333, \"y1\": 29.749996666666668}, {\"layer\": \"below\", \"line\": {\"color\": \"white\", \"width\": 2}, \"type\": \"line\", \"x0\": 71, \"x1\": 71, \"y0\": 51.63333333333333, \"y1\": 52.3}, {\"layer\": \"below\", \"line\": {\"color\": \"white\", \"width\": 2}, \"type\": \"line\", \"x0\": 72, \"x1\": 72, \"y0\": 1, \"y1\": 1.6666666666666665}, {\"layer\": \"below\", \"line\": {\"color\": \"white\", \"width\": 2}, \"type\": \"line\", \"x0\": 72, \"x1\": 72, \"y0\": 23.58333, \"y1\": 24.249996666666668}, {\"layer\": \"below\", \"line\": {\"color\": \"white\", \"width\": 2}, \"type\": \"line\", \"x0\": 72, \"x1\": 72, \"y0\": 29.08333, \"y1\": 29.749996666666668}, {\"layer\": \"below\", \"line\": {\"color\": \"white\", \"width\": 2}, \"type\": \"line\", \"x0\": 72, \"x1\": 72, \"y0\": 51.63333333333333, \"y1\": 52.3}, {\"layer\": \"below\", \"line\": {\"color\": \"white\", \"width\": 2}, \"type\": \"line\", \"x0\": 73, \"x1\": 73, \"y0\": 1, \"y1\": 1.6666666666666665}, {\"layer\": \"below\", \"line\": {\"color\": \"white\", \"width\": 2}, \"type\": \"line\", \"x0\": 73, \"x1\": 73, \"y0\": 23.58333, \"y1\": 24.249996666666668}, {\"layer\": \"below\", \"line\": {\"color\": \"white\", \"width\": 2}, \"type\": \"line\", \"x0\": 73, \"x1\": 73, \"y0\": 29.08333, \"y1\": 29.749996666666668}, {\"layer\": \"below\", \"line\": {\"color\": \"white\", \"width\": 2}, \"type\": \"line\", \"x0\": 73, \"x1\": 73, \"y0\": 51.63333333333333, \"y1\": 52.3}, {\"layer\": \"below\", \"line\": {\"color\": \"white\", \"width\": 2}, \"type\": \"line\", \"x0\": 74, \"x1\": 74, \"y0\": 1, \"y1\": 1.6666666666666665}, {\"layer\": \"below\", \"line\": {\"color\": \"white\", \"width\": 2}, \"type\": \"line\", \"x0\": 74, \"x1\": 74, \"y0\": 23.58333, \"y1\": 24.249996666666668}, {\"layer\": \"below\", \"line\": {\"color\": \"white\", \"width\": 2}, \"type\": \"line\", \"x0\": 74, \"x1\": 74, \"y0\": 29.08333, \"y1\": 29.749996666666668}, {\"layer\": \"below\", \"line\": {\"color\": \"white\", \"width\": 2}, \"type\": \"line\", \"x0\": 74, \"x1\": 74, \"y0\": 51.63333333333333, \"y1\": 52.3}, {\"layer\": \"below\", \"line\": {\"color\": \"white\", \"width\": 2}, \"type\": \"line\", \"x0\": 75, \"x1\": 75, \"y0\": 1, \"y1\": 1.6666666666666665}, {\"layer\": \"below\", \"line\": {\"color\": \"white\", \"width\": 2}, \"type\": \"line\", \"x0\": 75, \"x1\": 75, \"y0\": 23.58333, \"y1\": 24.249996666666668}, {\"layer\": \"below\", \"line\": {\"color\": \"white\", \"width\": 2}, \"type\": \"line\", \"x0\": 75, \"x1\": 75, \"y0\": 29.08333, \"y1\": 29.749996666666668}, {\"layer\": \"below\", \"line\": {\"color\": \"white\", \"width\": 2}, \"type\": \"line\", \"x0\": 75, \"x1\": 75, \"y0\": 51.63333333333333, \"y1\": 52.3}, {\"layer\": \"below\", \"line\": {\"color\": \"white\", \"width\": 2}, \"type\": \"line\", \"x0\": 76, \"x1\": 76, \"y0\": 1, \"y1\": 1.6666666666666665}, {\"layer\": \"below\", \"line\": {\"color\": \"white\", \"width\": 2}, \"type\": \"line\", \"x0\": 76, \"x1\": 76, \"y0\": 23.58333, \"y1\": 24.249996666666668}, {\"layer\": \"below\", \"line\": {\"color\": \"white\", \"width\": 2}, \"type\": \"line\", \"x0\": 76, \"x1\": 76, \"y0\": 29.08333, \"y1\": 29.749996666666668}, {\"layer\": \"below\", \"line\": {\"color\": \"white\", \"width\": 2}, \"type\": \"line\", \"x0\": 76, \"x1\": 76, \"y0\": 51.63333333333333, \"y1\": 52.3}, {\"layer\": \"below\", \"line\": {\"color\": \"white\", \"width\": 2}, \"type\": \"line\", \"x0\": 77, \"x1\": 77, \"y0\": 1, \"y1\": 1.6666666666666665}, {\"layer\": \"below\", \"line\": {\"color\": \"white\", \"width\": 2}, \"type\": \"line\", \"x0\": 77, \"x1\": 77, \"y0\": 23.58333, \"y1\": 24.249996666666668}, {\"layer\": \"below\", \"line\": {\"color\": \"white\", \"width\": 2}, \"type\": \"line\", \"x0\": 77, \"x1\": 77, \"y0\": 29.08333, \"y1\": 29.749996666666668}, {\"layer\": \"below\", \"line\": {\"color\": \"white\", \"width\": 2}, \"type\": \"line\", \"x0\": 77, \"x1\": 77, \"y0\": 51.63333333333333, \"y1\": 52.3}, {\"layer\": \"below\", \"line\": {\"color\": \"white\", \"width\": 2}, \"type\": \"line\", \"x0\": 78, \"x1\": 78, \"y0\": 1, \"y1\": 1.6666666666666665}, {\"layer\": \"below\", \"line\": {\"color\": \"white\", \"width\": 2}, \"type\": \"line\", \"x0\": 78, \"x1\": 78, \"y0\": 23.58333, \"y1\": 24.249996666666668}, {\"layer\": \"below\", \"line\": {\"color\": \"white\", \"width\": 2}, \"type\": \"line\", \"x0\": 78, \"x1\": 78, \"y0\": 29.08333, \"y1\": 29.749996666666668}, {\"layer\": \"below\", \"line\": {\"color\": \"white\", \"width\": 2}, \"type\": \"line\", \"x0\": 78, \"x1\": 78, \"y0\": 51.63333333333333, \"y1\": 52.3}, {\"layer\": \"below\", \"line\": {\"color\": \"white\", \"width\": 2}, \"type\": \"line\", \"x0\": 79, \"x1\": 79, \"y0\": 1, \"y1\": 1.6666666666666665}, {\"layer\": \"below\", \"line\": {\"color\": \"white\", \"width\": 2}, \"type\": \"line\", \"x0\": 79, \"x1\": 79, \"y0\": 23.58333, \"y1\": 24.249996666666668}, {\"layer\": \"below\", \"line\": {\"color\": \"white\", \"width\": 2}, \"type\": \"line\", \"x0\": 79, \"x1\": 79, \"y0\": 29.08333, \"y1\": 29.749996666666668}, {\"layer\": \"below\", \"line\": {\"color\": \"white\", \"width\": 2}, \"type\": \"line\", \"x0\": 79, \"x1\": 79, \"y0\": 51.63333333333333, \"y1\": 52.3}, {\"layer\": \"below\", \"line\": {\"color\": \"white\", \"width\": 2}, \"type\": \"line\", \"x0\": 81, \"x1\": 81, \"y0\": 1, \"y1\": 1.6666666666666665}, {\"layer\": \"below\", \"line\": {\"color\": \"white\", \"width\": 2}, \"type\": \"line\", \"x0\": 81, \"x1\": 81, \"y0\": 23.58333, \"y1\": 24.249996666666668}, {\"layer\": \"below\", \"line\": {\"color\": \"white\", \"width\": 2}, \"type\": \"line\", \"x0\": 81, \"x1\": 81, \"y0\": 29.08333, \"y1\": 29.749996666666668}, {\"layer\": \"below\", \"line\": {\"color\": \"white\", \"width\": 2}, \"type\": \"line\", \"x0\": 81, \"x1\": 81, \"y0\": 51.63333333333333, \"y1\": 52.3}, {\"layer\": \"below\", \"line\": {\"color\": \"white\", \"width\": 2}, \"type\": \"line\", \"x0\": 82, \"x1\": 82, \"y0\": 1, \"y1\": 1.6666666666666665}, {\"layer\": \"below\", \"line\": {\"color\": \"white\", \"width\": 2}, \"type\": \"line\", \"x0\": 82, \"x1\": 82, \"y0\": 23.58333, \"y1\": 24.249996666666668}, {\"layer\": \"below\", \"line\": {\"color\": \"white\", \"width\": 2}, \"type\": \"line\", \"x0\": 82, \"x1\": 82, \"y0\": 29.08333, \"y1\": 29.749996666666668}, {\"layer\": \"below\", \"line\": {\"color\": \"white\", \"width\": 2}, \"type\": \"line\", \"x0\": 82, \"x1\": 82, \"y0\": 51.63333333333333, \"y1\": 52.3}, {\"layer\": \"below\", \"line\": {\"color\": \"white\", \"width\": 2}, \"type\": \"line\", \"x0\": 83, \"x1\": 83, \"y0\": 1, \"y1\": 1.6666666666666665}, {\"layer\": \"below\", \"line\": {\"color\": \"white\", \"width\": 2}, \"type\": \"line\", \"x0\": 83, \"x1\": 83, \"y0\": 23.58333, \"y1\": 24.249996666666668}, {\"layer\": \"below\", \"line\": {\"color\": \"white\", \"width\": 2}, \"type\": \"line\", \"x0\": 83, \"x1\": 83, \"y0\": 29.08333, \"y1\": 29.749996666666668}, {\"layer\": \"below\", \"line\": {\"color\": \"white\", \"width\": 2}, \"type\": \"line\", \"x0\": 83, \"x1\": 83, \"y0\": 51.63333333333333, \"y1\": 52.3}, {\"layer\": \"below\", \"line\": {\"color\": \"white\", \"width\": 2}, \"type\": \"line\", \"x0\": 84, \"x1\": 84, \"y0\": 1, \"y1\": 1.6666666666666665}, {\"layer\": \"below\", \"line\": {\"color\": \"white\", \"width\": 2}, \"type\": \"line\", \"x0\": 84, \"x1\": 84, \"y0\": 23.58333, \"y1\": 24.249996666666668}, {\"layer\": \"below\", \"line\": {\"color\": \"white\", \"width\": 2}, \"type\": \"line\", \"x0\": 84, \"x1\": 84, \"y0\": 29.08333, \"y1\": 29.749996666666668}, {\"layer\": \"below\", \"line\": {\"color\": \"white\", \"width\": 2}, \"type\": \"line\", \"x0\": 84, \"x1\": 84, \"y0\": 51.63333333333333, \"y1\": 52.3}, {\"layer\": \"below\", \"line\": {\"color\": \"white\", \"width\": 2}, \"type\": \"line\", \"x0\": 85, \"x1\": 85, \"y0\": 1, \"y1\": 1.6666666666666665}, {\"layer\": \"below\", \"line\": {\"color\": \"white\", \"width\": 2}, \"type\": \"line\", \"x0\": 85, \"x1\": 85, \"y0\": 23.58333, \"y1\": 24.249996666666668}, {\"layer\": \"below\", \"line\": {\"color\": \"white\", \"width\": 2}, \"type\": \"line\", \"x0\": 85, \"x1\": 85, \"y0\": 29.08333, \"y1\": 29.749996666666668}, {\"layer\": \"below\", \"line\": {\"color\": \"white\", \"width\": 2}, \"type\": \"line\", \"x0\": 85, \"x1\": 85, \"y0\": 51.63333333333333, \"y1\": 52.3}, {\"layer\": \"below\", \"line\": {\"color\": \"white\", \"width\": 2}, \"type\": \"line\", \"x0\": 86, \"x1\": 86, \"y0\": 1, \"y1\": 1.6666666666666665}, {\"layer\": \"below\", \"line\": {\"color\": \"white\", \"width\": 2}, \"type\": \"line\", \"x0\": 86, \"x1\": 86, \"y0\": 23.58333, \"y1\": 24.249996666666668}, {\"layer\": \"below\", \"line\": {\"color\": \"white\", \"width\": 2}, \"type\": \"line\", \"x0\": 86, \"x1\": 86, \"y0\": 29.08333, \"y1\": 29.749996666666668}, {\"layer\": \"below\", \"line\": {\"color\": \"white\", \"width\": 2}, \"type\": \"line\", \"x0\": 86, \"x1\": 86, \"y0\": 51.63333333333333, \"y1\": 52.3}, {\"layer\": \"below\", \"line\": {\"color\": \"white\", \"width\": 2}, \"type\": \"line\", \"x0\": 87, \"x1\": 87, \"y0\": 1, \"y1\": 1.6666666666666665}, {\"layer\": \"below\", \"line\": {\"color\": \"white\", \"width\": 2}, \"type\": \"line\", \"x0\": 87, \"x1\": 87, \"y0\": 23.58333, \"y1\": 24.249996666666668}, {\"layer\": \"below\", \"line\": {\"color\": \"white\", \"width\": 2}, \"type\": \"line\", \"x0\": 87, \"x1\": 87, \"y0\": 29.08333, \"y1\": 29.749996666666668}, {\"layer\": \"below\", \"line\": {\"color\": \"white\", \"width\": 2}, \"type\": \"line\", \"x0\": 87, \"x1\": 87, \"y0\": 51.63333333333333, \"y1\": 52.3}, {\"layer\": \"below\", \"line\": {\"color\": \"white\", \"width\": 2}, \"type\": \"line\", \"x0\": 88, \"x1\": 88, \"y0\": 1, \"y1\": 1.6666666666666665}, {\"layer\": \"below\", \"line\": {\"color\": \"white\", \"width\": 2}, \"type\": \"line\", \"x0\": 88, \"x1\": 88, \"y0\": 23.58333, \"y1\": 24.249996666666668}, {\"layer\": \"below\", \"line\": {\"color\": \"white\", \"width\": 2}, \"type\": \"line\", \"x0\": 88, \"x1\": 88, \"y0\": 29.08333, \"y1\": 29.749996666666668}, {\"layer\": \"below\", \"line\": {\"color\": \"white\", \"width\": 2}, \"type\": \"line\", \"x0\": 88, \"x1\": 88, \"y0\": 51.63333333333333, \"y1\": 52.3}, {\"layer\": \"below\", \"line\": {\"color\": \"white\", \"width\": 2}, \"type\": \"line\", \"x0\": 89, \"x1\": 89, \"y0\": 1, \"y1\": 1.6666666666666665}, {\"layer\": \"below\", \"line\": {\"color\": \"white\", \"width\": 2}, \"type\": \"line\", \"x0\": 89, \"x1\": 89, \"y0\": 23.58333, \"y1\": 24.249996666666668}, {\"layer\": \"below\", \"line\": {\"color\": \"white\", \"width\": 2}, \"type\": \"line\", \"x0\": 89, \"x1\": 89, \"y0\": 29.08333, \"y1\": 29.749996666666668}, {\"layer\": \"below\", \"line\": {\"color\": \"white\", \"width\": 2}, \"type\": \"line\", \"x0\": 89, \"x1\": 89, \"y0\": 51.63333333333333, \"y1\": 52.3}, {\"layer\": \"below\", \"line\": {\"color\": \"white\", \"width\": 2}, \"type\": \"line\", \"x0\": 91, \"x1\": 91, \"y0\": 1, \"y1\": 1.6666666666666665}, {\"layer\": \"below\", \"line\": {\"color\": \"white\", \"width\": 2}, \"type\": \"line\", \"x0\": 91, \"x1\": 91, \"y0\": 23.58333, \"y1\": 24.249996666666668}, {\"layer\": \"below\", \"line\": {\"color\": \"white\", \"width\": 2}, \"type\": \"line\", \"x0\": 91, \"x1\": 91, \"y0\": 29.08333, \"y1\": 29.749996666666668}, {\"layer\": \"below\", \"line\": {\"color\": \"white\", \"width\": 2}, \"type\": \"line\", \"x0\": 91, \"x1\": 91, \"y0\": 51.63333333333333, \"y1\": 52.3}, {\"layer\": \"below\", \"line\": {\"color\": \"white\", \"width\": 2}, \"type\": \"line\", \"x0\": 92, \"x1\": 92, \"y0\": 1, \"y1\": 1.6666666666666665}, {\"layer\": \"below\", \"line\": {\"color\": \"white\", \"width\": 2}, \"type\": \"line\", \"x0\": 92, \"x1\": 92, \"y0\": 23.58333, \"y1\": 24.249996666666668}, {\"layer\": \"below\", \"line\": {\"color\": \"white\", \"width\": 2}, \"type\": \"line\", \"x0\": 92, \"x1\": 92, \"y0\": 29.08333, \"y1\": 29.749996666666668}, {\"layer\": \"below\", \"line\": {\"color\": \"white\", \"width\": 2}, \"type\": \"line\", \"x0\": 92, \"x1\": 92, \"y0\": 51.63333333333333, \"y1\": 52.3}, {\"layer\": \"below\", \"line\": {\"color\": \"white\", \"width\": 2}, \"type\": \"line\", \"x0\": 93, \"x1\": 93, \"y0\": 1, \"y1\": 1.6666666666666665}, {\"layer\": \"below\", \"line\": {\"color\": \"white\", \"width\": 2}, \"type\": \"line\", \"x0\": 93, \"x1\": 93, \"y0\": 23.58333, \"y1\": 24.249996666666668}, {\"layer\": \"below\", \"line\": {\"color\": \"white\", \"width\": 2}, \"type\": \"line\", \"x0\": 93, \"x1\": 93, \"y0\": 29.08333, \"y1\": 29.749996666666668}, {\"layer\": \"below\", \"line\": {\"color\": \"white\", \"width\": 2}, \"type\": \"line\", \"x0\": 93, \"x1\": 93, \"y0\": 51.63333333333333, \"y1\": 52.3}, {\"layer\": \"below\", \"line\": {\"color\": \"white\", \"width\": 2}, \"type\": \"line\", \"x0\": 94, \"x1\": 94, \"y0\": 1, \"y1\": 1.6666666666666665}, {\"layer\": \"below\", \"line\": {\"color\": \"white\", \"width\": 2}, \"type\": \"line\", \"x0\": 94, \"x1\": 94, \"y0\": 23.58333, \"y1\": 24.249996666666668}, {\"layer\": \"below\", \"line\": {\"color\": \"white\", \"width\": 2}, \"type\": \"line\", \"x0\": 94, \"x1\": 94, \"y0\": 29.08333, \"y1\": 29.749996666666668}, {\"layer\": \"below\", \"line\": {\"color\": \"white\", \"width\": 2}, \"type\": \"line\", \"x0\": 94, \"x1\": 94, \"y0\": 51.63333333333333, \"y1\": 52.3}, {\"layer\": \"below\", \"line\": {\"color\": \"white\", \"width\": 2}, \"type\": \"line\", \"x0\": 95, \"x1\": 95, \"y0\": 1, \"y1\": 1.6666666666666665}, {\"layer\": \"below\", \"line\": {\"color\": \"white\", \"width\": 2}, \"type\": \"line\", \"x0\": 95, \"x1\": 95, \"y0\": 23.58333, \"y1\": 24.249996666666668}, {\"layer\": \"below\", \"line\": {\"color\": \"white\", \"width\": 2}, \"type\": \"line\", \"x0\": 95, \"x1\": 95, \"y0\": 29.08333, \"y1\": 29.749996666666668}, {\"layer\": \"below\", \"line\": {\"color\": \"white\", \"width\": 2}, \"type\": \"line\", \"x0\": 95, \"x1\": 95, \"y0\": 51.63333333333333, \"y1\": 52.3}, {\"layer\": \"below\", \"line\": {\"color\": \"white\", \"width\": 2}, \"type\": \"line\", \"x0\": 96, \"x1\": 96, \"y0\": 1, \"y1\": 1.6666666666666665}, {\"layer\": \"below\", \"line\": {\"color\": \"white\", \"width\": 2}, \"type\": \"line\", \"x0\": 96, \"x1\": 96, \"y0\": 23.58333, \"y1\": 24.249996666666668}, {\"layer\": \"below\", \"line\": {\"color\": \"white\", \"width\": 2}, \"type\": \"line\", \"x0\": 96, \"x1\": 96, \"y0\": 29.08333, \"y1\": 29.749996666666668}, {\"layer\": \"below\", \"line\": {\"color\": \"white\", \"width\": 2}, \"type\": \"line\", \"x0\": 96, \"x1\": 96, \"y0\": 51.63333333333333, \"y1\": 52.3}, {\"layer\": \"below\", \"line\": {\"color\": \"white\", \"width\": 2}, \"type\": \"line\", \"x0\": 97, \"x1\": 97, \"y0\": 1, \"y1\": 1.6666666666666665}, {\"layer\": \"below\", \"line\": {\"color\": \"white\", \"width\": 2}, \"type\": \"line\", \"x0\": 97, \"x1\": 97, \"y0\": 23.58333, \"y1\": 24.249996666666668}, {\"layer\": \"below\", \"line\": {\"color\": \"white\", \"width\": 2}, \"type\": \"line\", \"x0\": 97, \"x1\": 97, \"y0\": 29.08333, \"y1\": 29.749996666666668}, {\"layer\": \"below\", \"line\": {\"color\": \"white\", \"width\": 2}, \"type\": \"line\", \"x0\": 97, \"x1\": 97, \"y0\": 51.63333333333333, \"y1\": 52.3}, {\"layer\": \"below\", \"line\": {\"color\": \"white\", \"width\": 2}, \"type\": \"line\", \"x0\": 98, \"x1\": 98, \"y0\": 1, \"y1\": 1.6666666666666665}, {\"layer\": \"below\", \"line\": {\"color\": \"white\", \"width\": 2}, \"type\": \"line\", \"x0\": 98, \"x1\": 98, \"y0\": 23.58333, \"y1\": 24.249996666666668}, {\"layer\": \"below\", \"line\": {\"color\": \"white\", \"width\": 2}, \"type\": \"line\", \"x0\": 98, \"x1\": 98, \"y0\": 29.08333, \"y1\": 29.749996666666668}, {\"layer\": \"below\", \"line\": {\"color\": \"white\", \"width\": 2}, \"type\": \"line\", \"x0\": 98, \"x1\": 98, \"y0\": 51.63333333333333, \"y1\": 52.3}, {\"layer\": \"below\", \"line\": {\"color\": \"white\", \"width\": 2}, \"type\": \"line\", \"x0\": 99, \"x1\": 99, \"y0\": 1, \"y1\": 1.6666666666666665}, {\"layer\": \"below\", \"line\": {\"color\": \"white\", \"width\": 2}, \"type\": \"line\", \"x0\": 99, \"x1\": 99, \"y0\": 23.58333, \"y1\": 24.249996666666668}, {\"layer\": \"below\", \"line\": {\"color\": \"white\", \"width\": 2}, \"type\": \"line\", \"x0\": 99, \"x1\": 99, \"y0\": 29.08333, \"y1\": 29.749996666666668}, {\"layer\": \"below\", \"line\": {\"color\": \"white\", \"width\": 2}, \"type\": \"line\", \"x0\": 99, \"x1\": 99, \"y0\": 51.63333333333333, \"y1\": 52.3}, {\"layer\": \"below\", \"line\": {\"color\": \"white\", \"width\": 2}, \"type\": \"line\", \"x0\": 101, \"x1\": 101, \"y0\": 1, \"y1\": 1.6666666666666665}, {\"layer\": \"below\", \"line\": {\"color\": \"white\", \"width\": 2}, \"type\": \"line\", \"x0\": 101, \"x1\": 101, \"y0\": 23.58333, \"y1\": 24.249996666666668}, {\"layer\": \"below\", \"line\": {\"color\": \"white\", \"width\": 2}, \"type\": \"line\", \"x0\": 101, \"x1\": 101, \"y0\": 29.08333, \"y1\": 29.749996666666668}, {\"layer\": \"below\", \"line\": {\"color\": \"white\", \"width\": 2}, \"type\": \"line\", \"x0\": 101, \"x1\": 101, \"y0\": 51.63333333333333, \"y1\": 52.3}, {\"layer\": \"below\", \"line\": {\"color\": \"white\", \"width\": 2}, \"type\": \"line\", \"x0\": 102, \"x1\": 102, \"y0\": 1, \"y1\": 1.6666666666666665}, {\"layer\": \"below\", \"line\": {\"color\": \"white\", \"width\": 2}, \"type\": \"line\", \"x0\": 102, \"x1\": 102, \"y0\": 23.58333, \"y1\": 24.249996666666668}, {\"layer\": \"below\", \"line\": {\"color\": \"white\", \"width\": 2}, \"type\": \"line\", \"x0\": 102, \"x1\": 102, \"y0\": 29.08333, \"y1\": 29.749996666666668}, {\"layer\": \"below\", \"line\": {\"color\": \"white\", \"width\": 2}, \"type\": \"line\", \"x0\": 102, \"x1\": 102, \"y0\": 51.63333333333333, \"y1\": 52.3}, {\"layer\": \"below\", \"line\": {\"color\": \"white\", \"width\": 2}, \"type\": \"line\", \"x0\": 103, \"x1\": 103, \"y0\": 1, \"y1\": 1.6666666666666665}, {\"layer\": \"below\", \"line\": {\"color\": \"white\", \"width\": 2}, \"type\": \"line\", \"x0\": 103, \"x1\": 103, \"y0\": 23.58333, \"y1\": 24.249996666666668}, {\"layer\": \"below\", \"line\": {\"color\": \"white\", \"width\": 2}, \"type\": \"line\", \"x0\": 103, \"x1\": 103, \"y0\": 29.08333, \"y1\": 29.749996666666668}, {\"layer\": \"below\", \"line\": {\"color\": \"white\", \"width\": 2}, \"type\": \"line\", \"x0\": 103, \"x1\": 103, \"y0\": 51.63333333333333, \"y1\": 52.3}, {\"layer\": \"below\", \"line\": {\"color\": \"white\", \"width\": 2}, \"type\": \"line\", \"x0\": 104, \"x1\": 104, \"y0\": 1, \"y1\": 1.6666666666666665}, {\"layer\": \"below\", \"line\": {\"color\": \"white\", \"width\": 2}, \"type\": \"line\", \"x0\": 104, \"x1\": 104, \"y0\": 23.58333, \"y1\": 24.249996666666668}, {\"layer\": \"below\", \"line\": {\"color\": \"white\", \"width\": 2}, \"type\": \"line\", \"x0\": 104, \"x1\": 104, \"y0\": 29.08333, \"y1\": 29.749996666666668}, {\"layer\": \"below\", \"line\": {\"color\": \"white\", \"width\": 2}, \"type\": \"line\", \"x0\": 104, \"x1\": 104, \"y0\": 51.63333333333333, \"y1\": 52.3}, {\"layer\": \"below\", \"line\": {\"color\": \"white\", \"width\": 2}, \"type\": \"line\", \"x0\": 105, \"x1\": 105, \"y0\": 1, \"y1\": 1.6666666666666665}, {\"layer\": \"below\", \"line\": {\"color\": \"white\", \"width\": 2}, \"type\": \"line\", \"x0\": 105, \"x1\": 105, \"y0\": 23.58333, \"y1\": 24.249996666666668}, {\"layer\": \"below\", \"line\": {\"color\": \"white\", \"width\": 2}, \"type\": \"line\", \"x0\": 105, \"x1\": 105, \"y0\": 29.08333, \"y1\": 29.749996666666668}, {\"layer\": \"below\", \"line\": {\"color\": \"white\", \"width\": 2}, \"type\": \"line\", \"x0\": 105, \"x1\": 105, \"y0\": 51.63333333333333, \"y1\": 52.3}, {\"layer\": \"below\", \"line\": {\"color\": \"white\", \"width\": 2}, \"type\": \"line\", \"x0\": 106, \"x1\": 106, \"y0\": 1, \"y1\": 1.6666666666666665}, {\"layer\": \"below\", \"line\": {\"color\": \"white\", \"width\": 2}, \"type\": \"line\", \"x0\": 106, \"x1\": 106, \"y0\": 23.58333, \"y1\": 24.249996666666668}, {\"layer\": \"below\", \"line\": {\"color\": \"white\", \"width\": 2}, \"type\": \"line\", \"x0\": 106, \"x1\": 106, \"y0\": 29.08333, \"y1\": 29.749996666666668}, {\"layer\": \"below\", \"line\": {\"color\": \"white\", \"width\": 2}, \"type\": \"line\", \"x0\": 106, \"x1\": 106, \"y0\": 51.63333333333333, \"y1\": 52.3}, {\"layer\": \"below\", \"line\": {\"color\": \"white\", \"width\": 2}, \"type\": \"line\", \"x0\": 107, \"x1\": 107, \"y0\": 1, \"y1\": 1.6666666666666665}, {\"layer\": \"below\", \"line\": {\"color\": \"white\", \"width\": 2}, \"type\": \"line\", \"x0\": 107, \"x1\": 107, \"y0\": 23.58333, \"y1\": 24.249996666666668}, {\"layer\": \"below\", \"line\": {\"color\": \"white\", \"width\": 2}, \"type\": \"line\", \"x0\": 107, \"x1\": 107, \"y0\": 29.08333, \"y1\": 29.749996666666668}, {\"layer\": \"below\", \"line\": {\"color\": \"white\", \"width\": 2}, \"type\": \"line\", \"x0\": 107, \"x1\": 107, \"y0\": 51.63333333333333, \"y1\": 52.3}, {\"layer\": \"below\", \"line\": {\"color\": \"white\", \"width\": 2}, \"type\": \"line\", \"x0\": 108, \"x1\": 108, \"y0\": 1, \"y1\": 1.6666666666666665}, {\"layer\": \"below\", \"line\": {\"color\": \"white\", \"width\": 2}, \"type\": \"line\", \"x0\": 108, \"x1\": 108, \"y0\": 23.58333, \"y1\": 24.249996666666668}, {\"layer\": \"below\", \"line\": {\"color\": \"white\", \"width\": 2}, \"type\": \"line\", \"x0\": 108, \"x1\": 108, \"y0\": 29.08333, \"y1\": 29.749996666666668}, {\"layer\": \"below\", \"line\": {\"color\": \"white\", \"width\": 2}, \"type\": \"line\", \"x0\": 108, \"x1\": 108, \"y0\": 51.63333333333333, \"y1\": 52.3}, {\"layer\": \"below\", \"line\": {\"color\": \"white\", \"width\": 2}, \"type\": \"line\", \"x0\": 109, \"x1\": 109, \"y0\": 1, \"y1\": 1.6666666666666665}, {\"layer\": \"below\", \"line\": {\"color\": \"white\", \"width\": 2}, \"type\": \"line\", \"x0\": 109, \"x1\": 109, \"y0\": 23.58333, \"y1\": 24.249996666666668}, {\"layer\": \"below\", \"line\": {\"color\": \"white\", \"width\": 2}, \"type\": \"line\", \"x0\": 109, \"x1\": 109, \"y0\": 29.08333, \"y1\": 29.749996666666668}, {\"layer\": \"below\", \"line\": {\"color\": \"white\", \"width\": 2}, \"type\": \"line\", \"x0\": 109, \"x1\": 109, \"y0\": 51.63333333333333, \"y1\": 52.3}, {\"fillcolor\": \"white\", \"layer\": \"below\", \"line\": {\"color\": \"white\"}, \"path\": \"M 18.013,4.68 L 18.013,5.72 A 3.257,3.257 180.0 0,1 18.014,5.789 A 1.126,1.126 180.0 0,1 17.991,6.057 Q 17.963,6.16 17.893,6.1899999999999995 Q 17.823,6.22 17.663,6.22 L 17.418,6.22 A 0.095,0.095 180.0 0,0 17.328,6.34 Q 17.333000000000002,6.415 17.358,6.432 Q 17.383,6.45 17.421,6.45 L 17.473,6.45 Q 17.683,6.45 17.883,6.5169999999999995 Q 18.083000000000002,6.585 18.318,6.68 Q 18.348,6.6899999999999995 18.368000000000002,6.6899999999999995 Q 18.448,6.6899999999999995 18.448,6.574999999999999 L 18.448,4.68 Q 18.448,4.46 18.501,4.365 Q 18.553,4.27 18.666,4.245 Q 18.778000000000002,4.22 19.028000000000002,4.22 L 19.078,4.22 Q 19.118000000000002,4.22 19.136,4.199999999999999 Q 19.153000000000002,4.18 19.158,4.12 Q 19.158,4.0 19.068,4.0 Q 18.708000000000002,4.015000000000001 18.228,4.015000000000001 Q 17.753,4.015000000000001 17.393,4.0 A 0.095,0.095 180.0 0,0 17.303,4.12 Q 17.308,4.18 17.326,4.199999999999999 Q 17.343,4.22 17.383,4.22 Q 17.663,4.22 17.781000000000002,4.242 Q 17.898,4.265000000000001 17.956,4.359999999999999 Q 18.013,4.455 18.013,4.68 L 18.013,4.68\", \"type\": \"path\"}, {\"fillcolor\": \"white\", \"layer\": \"below\", \"line\": {\"color\": \"white\"}, \"path\": \"M 21.69,6.7509999999999994 Q 21.3,6.7509999999999994 21.033,6.561 Q 20.765,6.371 20.633,6.056 Q 20.5,5.741 20.5,5.371 Q 20.5,4.996 20.633,4.686 Q 20.765,4.376 21.033,4.188 Q 21.3,4.001 21.69,4.001 Q 22.06,4.001 22.33,4.191 Q 22.6,4.381 22.740000000000002,4.696 Q 22.88,5.011 22.88,5.371 Q 22.88,5.731 22.740000000000002,6.045999999999999 Q 22.6,6.361000000000001 22.33,6.556 Q 22.06,6.7509999999999994 21.69,6.7509999999999994 M 21.695,6.566 Q 22.03,6.566 22.215,6.256 Q 22.4,5.946 22.4,5.371 Q 22.4,4.796 22.215,4.491 Q 22.03,4.186 21.695,4.186 Q 21.35,4.186 21.165,4.4879999999999995 Q 20.98,4.791 20.98,5.371 Q 20.98,5.9510000000000005 21.165,6.258 Q 21.35,6.566 21.695,6.566\", \"type\": \"path\"}, {\"fillcolor\": \"white\", \"layer\": \"below\", \"line\": {\"color\": \"white\"}, \"path\": \"M 18.19,49.751 Q 17.8,49.751 17.533,49.561 Q 17.265,49.371 17.133,49.056 Q 17.0,48.741 17.0,48.371 Q 17.0,47.996 17.133,47.686 Q 17.265,47.376 17.533,47.188 Q 17.8,47.001 18.19,47.001 Q 18.56,47.001 18.83,47.191 Q 19.1,47.381 19.240000000000002,47.696 Q 19.38,48.011 19.38,48.371 Q 19.38,48.731 19.240000000000002,49.046 Q 19.1,49.361 18.83,49.556 Q 18.56,49.751 18.19,49.751 M 18.195,49.566 Q 18.53,49.566 18.715,49.256 Q 18.9,48.946 18.9,48.371 Q 18.9,47.796 18.715,47.491 Q 18.53,47.186 18.195,47.186 Q 17.85,47.186 17.665,47.488 Q 17.48,47.791 17.48,48.371 Q 17.48,48.951 17.665,49.258 Q 17.85,49.566 18.195,49.566\", \"type\": \"path\"}, {\"fillcolor\": \"white\", \"layer\": \"below\", \"line\": {\"color\": \"white\"}, \"path\": \"M 21.644647615158764,49.01 L 21.644647615158764,47.97 A 3.257,3.257 360.0 0,1 21.643647615158763,47.901 A 1.126,1.126 360.0 0,1 21.666647615158762,47.633 Q 21.69464761515876,47.53 21.76464761515876,47.5 Q 21.83464761515876,47.47 21.99464761515876,47.47 L 22.239647615158763,47.47 A 0.095,0.095 360.0 0,0 22.329647615158763,47.35 Q 22.324647615158764,47.275 22.29964761515876,47.258 Q 22.274647615158763,47.24 22.236647615158763,47.24 L 22.184647615158763,47.24 Q 21.974647615158762,47.24 21.774647615158763,47.173 Q 21.574647615158764,47.105 21.33964761515876,47.01 Q 21.309647615158763,47.0 21.289647615158763,47.0 Q 21.20964761515876,47.0 21.20964761515876,47.115 L 21.20964761515876,49.01 Q 21.20964761515876,49.23 21.15664761515876,49.325 Q 21.10464761515876,49.42 20.99164761515876,49.445 Q 20.879647615158763,49.47 20.629647615158763,49.47 L 20.579647615158763,49.47 Q 20.539647615158763,49.47 20.521647615158763,49.49 Q 20.504647615158763,49.51 20.49964761515876,49.57 Q 20.49964761515876,49.69 20.589647615158764,49.69 Q 20.949647615158764,49.675 21.429647615158764,49.675 Q 21.904647615158762,49.675 22.26464761515876,49.69 A 0.095,0.095 360.0 0,0 22.35464761515876,49.57 Q 22.349647615158762,49.51 22.33164761515876,49.49 Q 22.314647615158762,49.47 22.274647615158763,49.47 Q 21.99464761515876,49.47 21.876647615158763,49.448 Q 21.759647615158762,49.425 21.701647615158763,49.33 Q 21.644647615158764,49.235 21.644647615158764,49.01 L 21.644647615158764,49.01\", \"type\": \"path\"}, {\"fillcolor\": \"white\", \"layer\": \"below\", \"line\": {\"color\": \"white\"}, \"path\": \"M 27.747,4.38 L 27.747,4.355 L 29.087,4.355 A 0.449,0.449 180.0 0,0 29.269000000000002,4.327 Q 29.327,4.3 29.327,4.18 Q 29.327,4.0 29.152,4.0 L 27.477,4.0 Q 27.302,4.0 27.302,4.18 Q 27.307000000000002,4.285 27.359,4.35 Q 27.412,4.415 27.532,4.495 Q 27.927,4.76 28.144000000000002,4.932 Q 28.362000000000002,5.105 28.537,5.37 Q 28.712,5.635 28.712,5.965 Q 28.712,6.205 28.584,6.337 Q 28.457,6.47 28.227,6.47 Q 28.032,6.47 27.904,6.372 Q 27.777,6.275 27.777,6.105 Q 27.777,6.02 27.817,5.962 Q 27.857,5.904999999999999 27.899,5.87 Q 27.942,5.835 27.942,5.83 Q 27.942,5.795 27.874000000000002,5.745 Q 27.807000000000002,5.695 27.712,5.695 Q 27.557000000000002,5.695 27.464000000000002,5.792 Q 27.372,5.89 27.372,6.04 Q 27.372,6.24 27.507,6.38 Q 27.642,6.52 27.849,6.585 Q 28.057000000000002,6.65 28.272000000000002,6.65 Q 28.647000000000002,6.65 28.919,6.465 Q 29.192,6.279999999999999 29.192,5.9 Q 29.192,5.625 29.042,5.4 Q 28.892,5.175 28.684,5.0169999999999995 Q 28.477,4.859999999999999 28.142,4.645 Q 27.877000000000002,4.48 27.747,4.38\", \"type\": \"path\"}, {\"fillcolor\": \"white\", \"layer\": \"below\", \"line\": {\"color\": \"white\"}, \"path\": \"M 31.69,6.7509999999999994 Q 31.3,6.7509999999999994 31.033,6.561 Q 30.765,6.371 30.633,6.056 Q 30.5,5.741 30.5,5.371 Q 30.5,4.996 30.633,4.686 Q 30.765,4.376 31.033,4.188 Q 31.3,4.001 31.69,4.001 Q 32.06,4.001 32.33,4.191 Q 32.6,4.381 32.74,4.696 Q 32.88,5.011 32.88,5.371 Q 32.88,5.731 32.74,6.045999999999999 Q 32.6,6.361000000000001 32.33,6.556 Q 32.06,6.7509999999999994 31.69,6.7509999999999994 M 31.695,6.566 Q 32.03,6.566 32.215,6.256 Q 32.4,5.946 32.4,5.371 Q 32.4,4.796 32.215,4.491 Q 32.03,4.186 31.695,4.186 Q 31.35,4.186 31.165,4.4879999999999995 Q 30.98,4.791 30.98,5.371 Q 30.98,5.9510000000000005 31.165,6.258 Q 31.35,6.566 31.695,6.566\", \"type\": \"path\"}, {\"fillcolor\": \"white\", \"layer\": \"below\", \"line\": {\"color\": \"white\"}, \"path\": \"M 28.19,49.751 Q 27.8,49.751 27.533,49.561 Q 27.265,49.371 27.133,49.056 Q 27.0,48.741 27.0,48.371 Q 27.0,47.996 27.133,47.686 Q 27.265,47.376 27.533,47.188 Q 27.8,47.001 28.19,47.001 Q 28.56,47.001 28.83,47.191 Q 29.1,47.381 29.240000000000002,47.696 Q 29.38,48.011 29.38,48.371 Q 29.38,48.731 29.240000000000002,49.046 Q 29.1,49.361 28.83,49.556 Q 28.56,49.751 28.19,49.751 M 28.195,49.566 Q 28.53,49.566 28.715,49.256 Q 28.9,48.946 28.9,48.371 Q 28.9,47.796 28.715,47.491 Q 28.53,47.186 28.195,47.186 Q 27.85,47.186 27.665,47.488 Q 27.48,47.791 27.48,48.371 Q 27.48,48.951 27.665,49.258 Q 27.85,49.566 28.195,49.566\", \"type\": \"path\"}, {\"fillcolor\": \"white\", \"layer\": \"below\", \"line\": {\"color\": \"white\"}, \"path\": \"M 32.082,49.27 L 32.082,49.295 L 30.742,49.295 A 0.449,0.449 360.0 0,0 30.56,49.323 Q 30.502,49.35 30.502,49.47 Q 30.502,49.65 30.677,49.65 L 32.352,49.65 Q 32.527,49.65 32.527,49.47 Q 32.522,49.365 32.47,49.3 Q 32.417,49.235 32.297,49.155 Q 31.902,48.89 31.685,48.718 Q 31.467,48.545 31.292,48.28 Q 31.117,48.015 31.117,47.685 Q 31.117,47.445 31.245,47.313 Q 31.372,47.18 31.602,47.18 Q 31.797,47.18 31.925,47.278 Q 32.052,47.375 32.052,47.545 Q 32.052,47.63 32.012,47.688 Q 31.972,47.745 31.93,47.78 Q 31.887,47.815 31.887,47.82 Q 31.887,47.855 31.955,47.905 Q 32.022,47.955 32.117,47.955 Q 32.272,47.955 32.365,47.858 Q 32.457,47.76 32.457,47.61 Q 32.457,47.41 32.322,47.27 Q 32.187,47.13 31.98,47.065 Q 31.772,47.0 31.557,47.0 Q 31.182,47.0 30.91,47.185 Q 30.637,47.37 30.637,47.75 Q 30.637,48.025 30.787,48.25 Q 30.937,48.475 31.145,48.633 Q 31.352,48.79 31.687,49.005 Q 31.951999999999998,49.17 32.082,49.27\", \"type\": \"path\"}, {\"fillcolor\": \"white\", \"layer\": \"below\", \"line\": {\"color\": \"white\"}, \"path\": \"M 38.199999999999996,5.336 L 38.015,5.336 Q 37.98,5.336 37.959999999999994,5.366 Q 37.94,5.396 37.94,5.436 Q 37.94,5.481 37.959999999999994,5.513 Q 37.98,5.546 38.015,5.551 L 38.199999999999996,5.551 Q 38.394999999999996,5.571 38.513,5.726 Q 38.629999999999995,5.881 38.629999999999995,6.101 Q 38.629999999999995,6.341 38.495,6.468 Q 38.36,6.596 38.18,6.596 Q 38.01,6.596 37.888,6.498 Q 37.765,6.401 37.765,6.231 Q 37.765,6.121 37.808,6.083 Q 37.849999999999994,6.046 37.89,6.038 Q 37.93,6.031000000000001 37.93,6.026 Q 37.93,5.991 37.863,5.941 Q 37.794999999999995,5.891 37.699999999999996,5.891 Q 37.54,5.891 37.449999999999996,5.991 Q 37.36,6.091 37.36,6.246 Q 37.36,6.491 37.589999999999996,6.6259999999999994 Q 37.82,6.761 38.184999999999995,6.761 Q 38.574999999999996,6.761 38.83,6.591 Q 39.084999999999994,6.420999999999999 39.084999999999994,6.101 Q 39.084999999999994,5.891 38.937999999999995,5.711 Q 38.79,5.531 38.515,5.4559999999999995 L 38.515,5.436 Q 38.794999999999995,5.406 39.0,5.258 Q 39.205,5.111 39.205,4.791 Q 39.205,4.386 38.91,4.193 Q 38.614999999999995,4.001 38.169999999999995,4.001 Q 37.805,4.0009999999999994 37.553,4.143 Q 37.3,4.286 37.3,4.561 Q 37.3,4.7059999999999995 37.39,4.811 Q 37.48,4.916 37.64,4.916 Q 37.735,4.916 37.803,4.866 Q 37.87,4.816 37.87,4.781 Q 37.87,4.776 37.824999999999996,4.743 Q 37.779999999999994,4.711 37.742999999999995,4.656000000000001 Q 37.705,4.601 37.705,4.516 Q 37.705,4.361000000000001 37.837999999999994,4.273 Q 37.97,4.186 38.184999999999995,4.186 Q 38.72,4.186 38.72,4.781 Q 38.72,5.026 38.589999999999996,5.173 Q 38.459999999999994,5.321 38.199999999999996,5.336\", \"type\": \"path\"}, {\"fillcolor\": \"white\", \"layer\": \"below\", \"line\": {\"color\": \"white\"}, \"path\": \"M 41.69,6.7509999999999994 Q 41.3,6.7509999999999994 41.033,6.561 Q 40.765,6.371 40.633,6.056 Q 40.5,5.741 40.5,5.371 Q 40.5,4.996 40.633,4.686 Q 40.765,4.376 41.033,4.188 Q 41.3,4.001 41.69,4.001 Q 42.06,4.001 42.33,4.191 Q 42.6,4.381 42.74,4.696 Q 42.88,5.011 42.88,5.371 Q 42.88,5.731 42.74,6.045999999999999 Q 42.6,6.361000000000001 42.33,6.556 Q 42.06,6.7509999999999994 41.69,6.7509999999999994 M 41.695,6.566 Q 42.03,6.566 42.215,6.256 Q 42.4,5.946 42.4,5.371 Q 42.4,4.796 42.215,4.491 Q 42.03,4.186 41.695,4.186 Q 41.35,4.186 41.165,4.4879999999999995 Q 40.98,4.791 40.98,5.371 Q 40.98,5.9510000000000005 41.165,6.258 Q 41.35,6.566 41.695,6.566\", \"type\": \"path\"}, {\"fillcolor\": \"white\", \"layer\": \"below\", \"line\": {\"color\": \"white\"}, \"path\": \"M 38.19,49.751 Q 37.8,49.751 37.533,49.561 Q 37.265,49.371 37.133,49.056 Q 37.0,48.741 37.0,48.371 Q 37.0,47.996 37.133,47.686 Q 37.265,47.376 37.533,47.188 Q 37.8,47.001 38.19,47.001 Q 38.56,47.001 38.83,47.191 Q 39.1,47.381 39.24,47.696 Q 39.38,48.011 39.38,48.371 Q 39.38,48.731 39.24,49.046 Q 39.1,49.361 38.83,49.556 Q 38.56,49.751 38.19,49.751 M 38.195,49.566 Q 38.53,49.566 38.715,49.256 Q 38.9,48.946 38.9,48.371 Q 38.9,47.796 38.715,47.491 Q 38.53,47.186 38.195,47.186 Q 37.85,47.186 37.665,47.488 Q 37.48,47.791 37.48,48.371 Q 37.48,48.951 37.665,49.258 Q 37.85,49.566 38.195,49.566\", \"type\": \"path\"}, {\"fillcolor\": \"white\", \"layer\": \"below\", \"line\": {\"color\": \"white\"}, \"path\": \"M 41.505,48.426 L 41.69,48.426 Q 41.725,48.426 41.745,48.396 Q 41.765,48.366 41.765,48.326 Q 41.765,48.281 41.745,48.249 Q 41.725,48.216 41.69,48.211 L 41.505,48.211 Q 41.31,48.191 41.192,48.036 Q 41.075,47.881 41.075,47.661 Q 41.075,47.421 41.21,47.294 Q 41.345,47.166 41.525,47.166 Q 41.695,47.166 41.817,47.264 Q 41.94,47.361 41.94,47.531 Q 41.94,47.641 41.897,47.679 Q 41.855,47.716 41.815,47.724 Q 41.775,47.731 41.775,47.736 Q 41.775,47.771 41.842,47.821 Q 41.91,47.871 42.005,47.871 Q 42.165,47.871 42.255,47.771 Q 42.345,47.671 42.345,47.516 Q 42.345,47.271 42.115,47.136 Q 41.885,47.001 41.52,47.001 Q 41.13,47.001 40.875,47.171 Q 40.62,47.341 40.62,47.661 Q 40.62,47.871 40.767,48.051 Q 40.915,48.231 41.19,48.306 L 41.19,48.326 Q 40.91,48.356 40.705,48.504 Q 40.5,48.651 40.5,48.971000000000004 Q 40.5,49.376 40.795,49.569 Q 41.09,49.761 41.535,49.761 Q 41.9,49.761 42.152,49.619 Q 42.405,49.476 42.405,49.201 Q 42.405,49.056 42.315,48.951 Q 42.225,48.846000000000004 42.065,48.846000000000004 Q 41.97,48.846000000000004 41.902,48.896 Q 41.835,48.946 41.835,48.981 Q 41.835,48.986 41.88,49.019 Q 41.925,49.051 41.962,49.106 Q 42.0,49.161 42.0,49.246 Q 42.0,49.400999999999996 41.867,49.489 Q 41.735,49.576 41.52,49.576 Q 40.985,49.576 40.985,48.981 Q 40.985,48.736 41.115,48.589 Q 41.245,48.441 41.505,48.426\", \"type\": \"path\"}, {\"fillcolor\": \"white\", \"layer\": \"below\", \"line\": {\"color\": \"white\"}, \"path\": \"M 48.654999999999994,4.096 L 48.654999999999994,4.861 L 47.459999999999994,4.861 Q 47.379999999999995,4.861 47.339999999999996,4.911 Q 47.3,4.961 47.3,5.036 Q 47.3,5.101 47.334999999999994,5.146 L 48.739999999999995,6.680999999999999 Q 48.79,6.731 48.894999999999996,6.731 Q 48.974999999999994,6.731 49.029999999999994,6.689 Q 49.084999999999994,6.646 49.089999999999996,6.555999999999999 L 49.089999999999996,5.106 L 49.39,5.106 Q 49.459999999999994,5.106 49.489999999999995,5.0889999999999995 Q 49.519999999999996,5.071 49.525,4.986 Q 49.525,4.931 49.503,4.896 Q 49.48,4.861 49.43,4.861 L 49.089999999999996,4.861 L 49.089999999999996,4.096 Q 49.089999999999996,4.051 49.025,4.026 Q 48.959999999999994,4.0009999999999994 48.875,4.0009999999999994 Q 48.79,4.0009999999999994 48.724999999999994,4.026 Q 48.66,4.051 48.654999999999994,4.096 M 48.654999999999994,6.291 L 47.589999999999996,5.106 L 48.654999999999994,5.106 L 48.654999999999994,6.291\", \"type\": \"path\"}, {\"fillcolor\": \"white\", \"layer\": \"below\", \"line\": {\"color\": \"white\"}, \"path\": \"M 51.69,6.7509999999999994 Q 51.3,6.7509999999999994 51.033,6.561 Q 50.765,6.371 50.633,6.056 Q 50.5,5.741 50.5,5.371 Q 50.5,4.996 50.633,4.686 Q 50.765,4.376 51.033,4.188 Q 51.3,4.001 51.69,4.001 Q 52.06,4.001 52.33,4.191 Q 52.6,4.381 52.74,4.696 Q 52.88,5.011 52.88,5.371 Q 52.88,5.731 52.74,6.045999999999999 Q 52.6,6.361000000000001 52.33,6.556 Q 52.06,6.7509999999999994 51.69,6.7509999999999994 M 51.695,6.566 Q 52.03,6.566 52.215,6.256 Q 52.4,5.946 52.4,5.371 Q 52.4,4.796 52.215,4.491 Q 52.03,4.186 51.695,4.186 Q 51.35,4.186 51.165,4.4879999999999995 Q 50.98,4.791 50.98,5.371 Q 50.98,5.9510000000000005 51.165,6.258 Q 51.35,6.566 51.695,6.566\", \"type\": \"path\"}, {\"fillcolor\": \"white\", \"layer\": \"below\", \"line\": {\"color\": \"white\"}, \"path\": \"M 48.19,49.751 Q 47.8,49.751 47.533,49.561 Q 47.265,49.371 47.133,49.056 Q 47.0,48.741 47.0,48.371 Q 47.0,47.996 47.133,47.686 Q 47.265,47.376 47.533,47.188 Q 47.8,47.001 48.19,47.001 Q 48.56,47.001 48.83,47.191 Q 49.1,47.381 49.24,47.696 Q 49.38,48.011 49.38,48.371 Q 49.38,48.731 49.24,49.046 Q 49.1,49.361 48.83,49.556 Q 48.56,49.751 48.19,49.751 M 48.195,49.566 Q 48.53,49.566 48.715,49.256 Q 48.9,48.946 48.9,48.371 Q 48.9,47.796 48.715,47.491 Q 48.53,47.186 48.195,47.186 Q 47.85,47.186 47.665,47.488 Q 47.48,47.791 47.48,48.371 Q 47.48,48.951 47.665,49.258 Q 47.85,49.566 48.195,49.566\", \"type\": \"path\"}, {\"fillcolor\": \"white\", \"layer\": \"below\", \"line\": {\"color\": \"white\"}, \"path\": \"M 51.37,49.636 L 51.37,48.871 L 52.565,48.871 Q 52.645,48.871 52.685,48.821 Q 52.725,48.771 52.725,48.696 Q 52.725,48.631 52.69,48.586 L 51.285,47.051 Q 51.235,47.001 51.13,47.001 Q 51.05,47.001 50.995,47.043 Q 50.94,47.086 50.935,47.176 L 50.935,48.626 L 50.635,48.626 Q 50.565,48.626 50.535,48.643 Q 50.505,48.661 50.5,48.746 Q 50.5,48.801 50.522,48.836 Q 50.545,48.871 50.595,48.871 L 50.935,48.871 L 50.935,49.636 Q 50.935,49.681 51.0,49.706 Q 51.065,49.731 51.15,49.731 Q 51.235,49.731 51.3,49.706 Q 51.365,49.681 51.37,49.636 M 51.37,47.441 L 52.435,48.626 L 51.37,48.626 L 51.37,47.441\", \"type\": \"path\"}, {\"fillcolor\": \"white\", \"layer\": \"below\", \"line\": {\"color\": \"white\"}, \"path\": \"M 57.434999999999995,5.45 L 57.44,5.51 L 57.595,6.7 L 58.97,6.7 Q 59.04,6.7 59.083,6.655 Q 59.125,6.61 59.125,6.53 Q 59.125,6.345000000000001 58.934999999999995,6.345000000000001 L 57.824999999999996,6.345000000000001 L 57.72,5.65 Q 57.94,5.785 58.26,5.785 Q 58.474999999999994,5.785 58.693,5.69 Q 58.91,5.595000000000001 59.055,5.4 Q 59.199999999999996,5.205 59.199999999999996,4.915 Q 59.199999999999996,4.625 59.058,4.417 Q 58.915,4.21 58.678,4.105 Q 58.44,4.0 58.16,4.0 Q 57.79,4.0 57.544999999999995,4.135 Q 57.3,4.27 57.3,4.555 Q 57.3,4.71 57.393,4.827 Q 57.485,4.945 57.64,4.945 Q 57.735,4.945 57.803,4.8950000000000005 Q 57.87,4.845000000000001 57.87,4.8100000000000005 Q 57.87,4.805 57.824999999999996,4.765000000000001 Q 57.779999999999994,4.725 57.742999999999995,4.667 Q 57.705,4.61 57.705,4.535 Q 57.705,4.365 57.827999999999996,4.275 Q 57.949999999999996,4.1850000000000005 58.169999999999995,4.1850000000000005 Q 58.445,4.1850000000000005 58.583,4.380000000000001 Q 58.72,4.575 58.72,4.890000000000001 Q 58.72,5.18 58.58,5.372 Q 58.44,5.565 58.144999999999996,5.565 Q 58.01,5.565 57.913,5.522 Q 57.815,5.48 57.705,5.4 Q 57.64,5.355 57.598,5.332 Q 57.555,5.3100000000000005 57.515,5.3100000000000005 Q 57.434999999999995,5.3100000000000005 57.434999999999995,5.45 L 57.434999999999995,5.45\", \"type\": \"path\"}, {\"fillcolor\": \"white\", \"layer\": \"below\", \"line\": {\"color\": \"white\"}, \"path\": \"M 61.69,6.7509999999999994 Q 61.3,6.7509999999999994 61.033,6.561 Q 60.765,6.371 60.633,6.056 Q 60.5,5.741 60.5,5.371 Q 60.5,4.996 60.633,4.686 Q 60.765,4.376 61.033,4.188 Q 61.3,4.001 61.69,4.001 Q 62.06,4.001 62.33,4.191 Q 62.6,4.381 62.74,4.696 Q 62.88,5.011 62.88,5.371 Q 62.88,5.731 62.74,6.045999999999999 Q 62.6,6.361000000000001 62.33,6.556 Q 62.06,6.7509999999999994 61.69,6.7509999999999994 M 61.695,6.566 Q 62.03,6.566 62.215,6.256 Q 62.4,5.946 62.4,5.371 Q 62.4,4.796 62.215,4.491 Q 62.03,4.186 61.695,4.186 Q 61.35,4.186 61.165,4.4879999999999995 Q 60.98,4.791 60.98,5.371 Q 60.98,5.9510000000000005 61.165,6.258 Q 61.35,6.566 61.695,6.566\", \"type\": \"path\"}, {\"fillcolor\": \"white\", \"layer\": \"below\", \"line\": {\"color\": \"white\"}, \"path\": \"M 58.19,49.751 Q 57.8,49.751 57.533,49.561 Q 57.265,49.371 57.133,49.056 Q 57.0,48.741 57.0,48.371 Q 57.0,47.996 57.133,47.686 Q 57.265,47.376 57.533,47.188 Q 57.8,47.001 58.19,47.001 Q 58.56,47.001 58.83,47.191 Q 59.1,47.381 59.24,47.696 Q 59.38,48.011 59.38,48.371 Q 59.38,48.731 59.24,49.046 Q 59.1,49.361 58.83,49.556 Q 58.56,49.751 58.19,49.751 M 58.195,49.566 Q 58.53,49.566 58.715,49.256 Q 58.9,48.946 58.9,48.371 Q 58.9,47.796 58.715,47.491 Q 58.53,47.186 58.195,47.186 Q 57.85,47.186 57.665,47.488 Q 57.48,47.791 57.48,48.371 Q 57.48,48.951 57.665,49.258 Q 57.85,49.566 58.195,49.566\", \"type\": \"path\"}, {\"fillcolor\": \"white\", \"layer\": \"below\", \"line\": {\"color\": \"white\"}, \"path\": \"M 62.265,48.25 L 62.26,48.19 L 62.105,47.0 L 60.73,47.0 Q 60.66,47.0 60.617,47.045 Q 60.575,47.09 60.575,47.17 Q 60.575,47.355 60.765,47.355 L 61.875,47.355 L 61.98,48.05 Q 61.76,47.915 61.44,47.915 Q 61.225,47.915 61.007,48.01 Q 60.79,48.105 60.645,48.3 Q 60.5,48.495 60.5,48.785 Q 60.5,49.075 60.642,49.283 Q 60.785,49.49 61.022,49.595 Q 61.26,49.7 61.54,49.7 Q 61.91,49.7 62.155,49.565 Q 62.4,49.43 62.4,49.145 Q 62.4,48.99 62.307,48.873 Q 62.215,48.755 62.06,48.755 Q 61.965,48.755 61.897,48.805 Q 61.83,48.855 61.83,48.89 Q 61.83,48.895 61.875,48.935 Q 61.92,48.975 61.957,49.033 Q 61.995,49.09 61.995,49.165 Q 61.995,49.335 61.872,49.425 Q 61.75,49.515 61.53,49.515 Q 61.255,49.515 61.117,49.32 Q 60.98,49.125 60.98,48.81 Q 60.98,48.52 61.12,48.328 Q 61.26,48.135 61.555,48.135 Q 61.69,48.135 61.787,48.178 Q 61.885,48.22 61.995,48.3 Q 62.06,48.345 62.102,48.368 Q 62.145,48.39 62.185,48.39 Q 62.265,48.39 62.265,48.25 L 62.265,48.25\", \"type\": \"path\"}, {\"fillcolor\": \"white\", \"layer\": \"below\", \"line\": {\"color\": \"white\"}, \"path\": \"M 68.655,4.096 L 68.655,4.861 L 67.46,4.861 Q 67.38,4.861 67.34,4.911 Q 67.3,4.961 67.3,5.036 Q 67.3,5.101 67.335,5.146 L 68.74,6.680999999999999 Q 68.78999999999999,6.731 68.895,6.731 Q 68.975,6.731 69.03,6.689 Q 69.085,6.646 69.09,6.555999999999999 L 69.09,5.106 L 69.39,5.106 Q 69.46,5.106 69.49,5.0889999999999995 Q 69.52,5.071 69.52499999999999,4.986 Q 69.52499999999999,4.931 69.503,4.896 Q 69.48,4.861 69.42999999999999,4.861 L 69.09,4.861 L 69.09,4.096 Q 69.09,4.051 69.02499999999999,4.026 Q 68.96,4.0009999999999994 68.875,4.0009999999999994 Q 68.78999999999999,4.0009999999999994 68.725,4.026 Q 68.66,4.051 68.655,4.096 M 68.655,6.291 L 67.59,5.106 L 68.655,5.106 L 68.655,6.291\", \"type\": \"path\"}, {\"fillcolor\": \"white\", \"layer\": \"below\", \"line\": {\"color\": \"white\"}, \"path\": \"M 71.69,6.7509999999999994 Q 71.3,6.7509999999999994 71.033,6.561 Q 70.765,6.371 70.633,6.056 Q 70.5,5.741 70.5,5.371 Q 70.5,4.996 70.633,4.686 Q 70.765,4.376 71.033,4.188 Q 71.3,4.001 71.69,4.001 Q 72.06,4.001 72.33,4.191 Q 72.6,4.381 72.74,4.696 Q 72.88,5.011 72.88,5.371 Q 72.88,5.731 72.74,6.045999999999999 Q 72.6,6.361000000000001 72.33,6.556 Q 72.06,6.7509999999999994 71.69,6.7509999999999994 M 71.695,6.566 Q 72.03,6.566 72.215,6.256 Q 72.4,5.946 72.4,5.371 Q 72.4,4.796 72.215,4.491 Q 72.03,4.186 71.695,4.186 Q 71.35,4.186 71.165,4.4879999999999995 Q 70.98,4.791 70.98,5.371 Q 70.98,5.9510000000000005 71.165,6.258 Q 71.35,6.566 71.695,6.566\", \"type\": \"path\"}, {\"fillcolor\": \"white\", \"layer\": \"below\", \"line\": {\"color\": \"white\"}, \"path\": \"M 68.19,49.751 Q 67.8,49.751 67.533,49.561 Q 67.265,49.371 67.133,49.056 Q 67.0,48.741 67.0,48.371 Q 67.0,47.996 67.133,47.686 Q 67.265,47.376 67.533,47.188 Q 67.8,47.001 68.19,47.001 Q 68.56,47.001 68.83,47.191 Q 69.1,47.381 69.24,47.696 Q 69.38,48.011 69.38,48.371 Q 69.38,48.731 69.24,49.046 Q 69.1,49.361 68.83,49.556 Q 68.56,49.751 68.19,49.751 M 68.195,49.566 Q 68.53,49.566 68.715,49.256 Q 68.9,48.946 68.9,48.371 Q 68.9,47.796 68.715,47.491 Q 68.53,47.186 68.195,47.186 Q 67.85,47.186 67.665,47.488 Q 67.48,47.791 67.48,48.371 Q 67.48,48.951 67.665,49.258 Q 67.85,49.566 68.195,49.566\", \"type\": \"path\"}, {\"fillcolor\": \"white\", \"layer\": \"below\", \"line\": {\"color\": \"white\"}, \"path\": \"M 71.37,49.636 L 71.37,48.871 L 72.565,48.871 Q 72.645,48.871 72.685,48.821 Q 72.725,48.771 72.725,48.696 Q 72.725,48.631 72.69,48.586 L 71.285,47.051 Q 71.235,47.001 71.13,47.001 Q 71.05,47.001 70.995,47.043 Q 70.94,47.086 70.935,47.176 L 70.935,48.626 L 70.635,48.626 Q 70.565,48.626 70.535,48.643 Q 70.505,48.661 70.5,48.746 Q 70.5,48.801 70.522,48.836 Q 70.545,48.871 70.595,48.871 L 70.935,48.871 L 70.935,49.636 Q 70.935,49.681 71.0,49.706 Q 71.065,49.731 71.15,49.731 Q 71.235,49.731 71.3,49.706 Q 71.365,49.681 71.37,49.636 M 71.37,47.441 L 72.435,48.626 L 71.37,48.626 L 71.37,47.441\", \"type\": \"path\"}, {\"fillcolor\": \"white\", \"layer\": \"below\", \"line\": {\"color\": \"white\"}, \"path\": \"M 78.2,5.336 L 78.015,5.336 Q 77.98,5.336 77.96,5.366 Q 77.94,5.396 77.94,5.436 Q 77.94,5.481 77.96,5.513 Q 77.98,5.546 78.015,5.551 L 78.2,5.551 Q 78.395,5.571 78.51299999999999,5.726 Q 78.63,5.881 78.63,6.101 Q 78.63,6.341 78.49499999999999,6.468 Q 78.36,6.596 78.17999999999999,6.596 Q 78.00999999999999,6.596 77.88799999999999,6.498 Q 77.765,6.401 77.765,6.231 Q 77.765,6.121 77.80799999999999,6.083 Q 77.85,6.046 77.89,6.038 Q 77.92999999999999,6.031000000000001 77.92999999999999,6.026 Q 77.92999999999999,5.991 77.863,5.941 Q 77.795,5.891 77.7,5.891 Q 77.53999999999999,5.891 77.45,5.991 Q 77.36,6.091 77.36,6.246 Q 77.36,6.491 77.59,6.6259999999999994 Q 77.82,6.761 78.185,6.761 Q 78.575,6.761 78.83,6.591 Q 79.085,6.420999999999999 79.085,6.101 Q 79.085,5.891 78.938,5.711 Q 78.78999999999999,5.531 78.515,5.4559999999999995 L 78.515,5.436 Q 78.795,5.406 79.0,5.258 Q 79.205,5.111 79.205,4.791 Q 79.205,4.386 78.91,4.193 Q 78.615,4.001 78.17,4.001 Q 77.80499999999999,4.0009999999999994 77.553,4.143 Q 77.3,4.286 77.3,4.561 Q 77.3,4.7059999999999995 77.39,4.811 Q 77.48,4.916 77.64,4.916 Q 77.735,4.916 77.803,4.866 Q 77.86999999999999,4.816 77.86999999999999,4.781 Q 77.86999999999999,4.776 77.825,4.743 Q 77.78,4.711 77.743,4.656000000000001 Q 77.705,4.601 77.705,4.516 Q 77.705,4.361000000000001 77.838,4.273 Q 77.97,4.186 78.185,4.186 Q 78.72,4.186 78.72,4.781 Q 78.72,5.026 78.59,5.173 Q 78.46,5.321 78.2,5.336\", \"type\": \"path\"}, {\"fillcolor\": \"white\", \"layer\": \"below\", \"line\": {\"color\": \"white\"}, \"path\": \"M 81.69,6.7509999999999994 Q 81.3,6.7509999999999994 81.033,6.561 Q 80.765,6.371 80.633,6.056 Q 80.5,5.741 80.5,5.371 Q 80.5,4.996 80.633,4.686 Q 80.765,4.376 81.033,4.188 Q 81.3,4.001 81.69,4.001 Q 82.06,4.001 82.33,4.191 Q 82.6,4.381 82.74,4.696 Q 82.88,5.011 82.88,5.371 Q 82.88,5.731 82.74,6.045999999999999 Q 82.6,6.361000000000001 82.33,6.556 Q 82.06,6.7509999999999994 81.69,6.7509999999999994 M 81.695,6.566 Q 82.03,6.566 82.215,6.256 Q 82.4,5.946 82.4,5.371 Q 82.4,4.796 82.215,4.491 Q 82.03,4.186 81.695,4.186 Q 81.35,4.186 81.165,4.4879999999999995 Q 80.98,4.791 80.98,5.371 Q 80.98,5.9510000000000005 81.165,6.258 Q 81.35,6.566 81.695,6.566\", \"type\": \"path\"}, {\"fillcolor\": \"white\", \"layer\": \"below\", \"line\": {\"color\": \"white\"}, \"path\": \"M 78.19,49.751 Q 77.8,49.751 77.533,49.561 Q 77.265,49.371 77.133,49.056 Q 77.0,48.741 77.0,48.371 Q 77.0,47.996 77.133,47.686 Q 77.265,47.376 77.533,47.188 Q 77.8,47.001 78.19,47.001 Q 78.56,47.001 78.83,47.191 Q 79.1,47.381 79.24,47.696 Q 79.38,48.011 79.38,48.371 Q 79.38,48.731 79.24,49.046 Q 79.1,49.361 78.83,49.556 Q 78.56,49.751 78.19,49.751 M 78.195,49.566 Q 78.53,49.566 78.715,49.256 Q 78.9,48.946 78.9,48.371 Q 78.9,47.796 78.715,47.491 Q 78.53,47.186 78.195,47.186 Q 77.85,47.186 77.665,47.488 Q 77.48,47.791 77.48,48.371 Q 77.48,48.951 77.665,49.258 Q 77.85,49.566 78.195,49.566\", \"type\": \"path\"}, {\"fillcolor\": \"white\", \"layer\": \"below\", \"line\": {\"color\": \"white\"}, \"path\": \"M 81.505,48.426 L 81.69,48.426 Q 81.725,48.426 81.745,48.396 Q 81.765,48.366 81.765,48.326 Q 81.765,48.281 81.745,48.249 Q 81.725,48.216 81.69,48.211 L 81.505,48.211 Q 81.31,48.191 81.192,48.036 Q 81.075,47.881 81.075,47.661 Q 81.075,47.421 81.21,47.294 Q 81.345,47.166 81.525,47.166 Q 81.695,47.166 81.817,47.264 Q 81.94,47.361 81.94,47.531 Q 81.94,47.641 81.897,47.679 Q 81.855,47.716 81.815,47.724 Q 81.775,47.731 81.775,47.736 Q 81.775,47.771 81.842,47.821 Q 81.91,47.871 82.005,47.871 Q 82.165,47.871 82.255,47.771 Q 82.345,47.671 82.345,47.516 Q 82.345,47.271 82.115,47.136 Q 81.885,47.001 81.52,47.001 Q 81.13,47.001 80.875,47.171 Q 80.62,47.341 80.62,47.661 Q 80.62,47.871 80.767,48.051 Q 80.915,48.231 81.19,48.306 L 81.19,48.326 Q 80.91,48.356 80.705,48.504 Q 80.5,48.651 80.5,48.971000000000004 Q 80.5,49.376 80.795,49.569 Q 81.09,49.761 81.535,49.761 Q 81.9,49.761 82.152,49.619 Q 82.405,49.476 82.405,49.201 Q 82.405,49.056 82.315,48.951 Q 82.225,48.846000000000004 82.065,48.846000000000004 Q 81.97,48.846000000000004 81.902,48.896 Q 81.835,48.946 81.835,48.981 Q 81.835,48.986 81.88,49.019 Q 81.925,49.051 81.962,49.106 Q 82.0,49.161 82.0,49.246 Q 82.0,49.400999999999996 81.867,49.489 Q 81.735,49.576 81.52,49.576 Q 80.985,49.576 80.985,48.981 Q 80.985,48.736 81.115,48.589 Q 81.245,48.441 81.505,48.426\", \"type\": \"path\"}, {\"fillcolor\": \"white\", \"layer\": \"below\", \"line\": {\"color\": \"white\"}, \"path\": \"M 87.747,4.38 L 87.747,4.355 L 89.087,4.355 A 0.449,0.449 180.0 0,0 89.26899999999999,4.327 Q 89.327,4.3 89.327,4.18 Q 89.327,4.0 89.152,4.0 L 87.477,4.0 Q 87.30199999999999,4.0 87.30199999999999,4.18 Q 87.307,4.285 87.359,4.35 Q 87.41199999999999,4.415 87.532,4.495 Q 87.92699999999999,4.76 88.14399999999999,4.932 Q 88.362,5.105 88.53699999999999,5.37 Q 88.712,5.635 88.712,5.965 Q 88.712,6.205 88.584,6.337 Q 88.457,6.47 88.227,6.47 Q 88.032,6.47 87.904,6.372 Q 87.777,6.275 87.777,6.105 Q 87.777,6.02 87.817,5.962 Q 87.857,5.904999999999999 87.899,5.87 Q 87.942,5.835 87.942,5.83 Q 87.942,5.795 87.874,5.745 Q 87.807,5.695 87.712,5.695 Q 87.557,5.695 87.464,5.792 Q 87.372,5.89 87.372,6.04 Q 87.372,6.24 87.50699999999999,6.38 Q 87.642,6.52 87.849,6.585 Q 88.057,6.65 88.27199999999999,6.65 Q 88.64699999999999,6.65 88.919,6.465 Q 89.192,6.279999999999999 89.192,5.9 Q 89.192,5.625 89.042,5.4 Q 88.892,5.175 88.684,5.0169999999999995 Q 88.477,4.859999999999999 88.142,4.645 Q 87.877,4.48 87.747,4.38\", \"type\": \"path\"}, {\"fillcolor\": \"white\", \"layer\": \"below\", \"line\": {\"color\": \"white\"}, \"path\": \"M 91.69,6.7509999999999994 Q 91.3,6.7509999999999994 91.033,6.561 Q 90.765,6.371 90.633,6.056 Q 90.5,5.741 90.5,5.371 Q 90.5,4.996 90.633,4.686 Q 90.765,4.376 91.033,4.188 Q 91.3,4.001 91.69,4.001 Q 92.06,4.001 92.33,4.191 Q 92.6,4.381 92.74,4.696 Q 92.88,5.011 92.88,5.371 Q 92.88,5.731 92.74,6.045999999999999 Q 92.6,6.361000000000001 92.33,6.556 Q 92.06,6.7509999999999994 91.69,6.7509999999999994 M 91.695,6.566 Q 92.03,6.566 92.215,6.256 Q 92.4,5.946 92.4,5.371 Q 92.4,4.796 92.215,4.491 Q 92.03,4.186 91.695,4.186 Q 91.35,4.186 91.165,4.4879999999999995 Q 90.98,4.791 90.98,5.371 Q 90.98,5.9510000000000005 91.165,6.258 Q 91.35,6.566 91.695,6.566\", \"type\": \"path\"}, {\"fillcolor\": \"white\", \"layer\": \"below\", \"line\": {\"color\": \"white\"}, \"path\": \"M 88.19,49.751 Q 87.8,49.751 87.533,49.561 Q 87.265,49.371 87.133,49.056 Q 87.0,48.741 87.0,48.371 Q 87.0,47.996 87.133,47.686 Q 87.265,47.376 87.533,47.188 Q 87.8,47.001 88.19,47.001 Q 88.56,47.001 88.83,47.191 Q 89.1,47.381 89.24,47.696 Q 89.38,48.011 89.38,48.371 Q 89.38,48.731 89.24,49.046 Q 89.1,49.361 88.83,49.556 Q 88.56,49.751 88.19,49.751 M 88.195,49.566 Q 88.53,49.566 88.715,49.256 Q 88.9,48.946 88.9,48.371 Q 88.9,47.796 88.715,47.491 Q 88.53,47.186 88.195,47.186 Q 87.85,47.186 87.665,47.488 Q 87.48,47.791 87.48,48.371 Q 87.48,48.951 87.665,49.258 Q 87.85,49.566 88.195,49.566\", \"type\": \"path\"}, {\"fillcolor\": \"white\", \"layer\": \"below\", \"line\": {\"color\": \"white\"}, \"path\": \"M 92.082,49.27 L 92.082,49.295 L 90.742,49.295 A 0.449,0.449 360.0 0,0 90.56,49.323 Q 90.502,49.35 90.502,49.47 Q 90.502,49.65 90.677,49.65 L 92.352,49.65 Q 92.527,49.65 92.527,49.47 Q 92.522,49.365 92.47,49.3 Q 92.417,49.235 92.297,49.155 Q 91.902,48.89 91.685,48.718 Q 91.467,48.545 91.292,48.28 Q 91.117,48.015 91.117,47.685 Q 91.117,47.445 91.245,47.313 Q 91.372,47.18 91.602,47.18 Q 91.797,47.18 91.925,47.278 Q 92.052,47.375 92.052,47.545 Q 92.052,47.63 92.012,47.688 Q 91.972,47.745 91.93,47.78 Q 91.887,47.815 91.887,47.82 Q 91.887,47.855 91.955,47.905 Q 92.022,47.955 92.117,47.955 Q 92.272,47.955 92.365,47.858 Q 92.457,47.76 92.457,47.61 Q 92.457,47.41 92.322,47.27 Q 92.187,47.13 91.98,47.065 Q 91.772,47.0 91.557,47.0 Q 91.182,47.0 90.91,47.185 Q 90.637,47.37 90.637,47.75 Q 90.637,48.025 90.787,48.25 Q 90.937,48.475 91.145,48.633 Q 91.352,48.79 91.687,49.005 Q 91.952,49.17 92.082,49.27\", \"type\": \"path\"}, {\"fillcolor\": \"white\", \"layer\": \"below\", \"line\": {\"color\": \"white\"}, \"path\": \"M 98.01299999999999,4.68 L 98.01299999999999,5.72 A 3.257,3.257 180.0 0,1 98.014,5.789 A 1.126,1.126 180.0 0,1 97.991,6.057 Q 97.963,6.16 97.893,6.1899999999999995 Q 97.823,6.22 97.663,6.22 L 97.41799999999999,6.22 A 0.095,0.095 180.0 0,0 97.328,6.34 Q 97.333,6.415 97.358,6.432 Q 97.383,6.45 97.42099999999999,6.45 L 97.473,6.45 Q 97.68299999999999,6.45 97.883,6.5169999999999995 Q 98.083,6.585 98.318,6.68 Q 98.348,6.6899999999999995 98.368,6.6899999999999995 Q 98.448,6.6899999999999995 98.448,6.574999999999999 L 98.448,4.68 Q 98.448,4.46 98.50099999999999,4.365 Q 98.553,4.27 98.666,4.245 Q 98.77799999999999,4.22 99.02799999999999,4.22 L 99.078,4.22 Q 99.118,4.22 99.136,4.199999999999999 Q 99.15299999999999,4.18 99.158,4.12 Q 99.158,4.0 99.068,4.0 Q 98.708,4.015000000000001 98.228,4.015000000000001 Q 97.753,4.015000000000001 97.393,4.0 A 0.095,0.095 180.0 0,0 97.303,4.12 Q 97.30799999999999,4.18 97.326,4.199999999999999 Q 97.343,4.22 97.383,4.22 Q 97.663,4.22 97.78099999999999,4.242 Q 97.898,4.265000000000001 97.956,4.359999999999999 Q 98.01299999999999,4.455 98.01299999999999,4.68 L 98.01299999999999,4.68\", \"type\": \"path\"}, {\"fillcolor\": \"white\", \"layer\": \"below\", \"line\": {\"color\": \"white\"}, \"path\": \"M 101.69,6.7509999999999994 Q 101.3,6.7509999999999994 101.033,6.561 Q 100.765,6.371 100.633,6.056 Q 100.5,5.741 100.5,5.371 Q 100.5,4.996 100.633,4.686 Q 100.765,4.376 101.033,4.188 Q 101.3,4.001 101.69,4.001 Q 102.06,4.001 102.33,4.191 Q 102.6,4.381 102.74,4.696 Q 102.88,5.011 102.88,5.371 Q 102.88,5.731 102.74,6.045999999999999 Q 102.6,6.361000000000001 102.33,6.556 Q 102.06,6.7509999999999994 101.69,6.7509999999999994 M 101.695,6.566 Q 102.03,6.566 102.215,6.256 Q 102.4,5.946 102.4,5.371 Q 102.4,4.796 102.215,4.491 Q 102.03,4.186 101.695,4.186 Q 101.35,4.186 101.165,4.4879999999999995 Q 100.98,4.791 100.98,5.371 Q 100.98,5.9510000000000005 101.165,6.258 Q 101.35,6.566 101.695,6.566\", \"type\": \"path\"}, {\"fillcolor\": \"white\", \"layer\": \"below\", \"line\": {\"color\": \"white\"}, \"path\": \"M 98.19,49.751 Q 97.8,49.751 97.533,49.561 Q 97.265,49.371 97.133,49.056 Q 97.0,48.741 97.0,48.371 Q 97.0,47.996 97.133,47.686 Q 97.265,47.376 97.533,47.188 Q 97.8,47.001 98.19,47.001 Q 98.56,47.001 98.83,47.191 Q 99.1,47.381 99.24,47.696 Q 99.38,48.011 99.38,48.371 Q 99.38,48.731 99.24,49.046 Q 99.1,49.361 98.83,49.556 Q 98.56,49.751 98.19,49.751 M 98.195,49.566 Q 98.53,49.566 98.715,49.256 Q 98.9,48.946 98.9,48.371 Q 98.9,47.796 98.715,47.491 Q 98.53,47.186 98.195,47.186 Q 97.85,47.186 97.665,47.488 Q 97.48,47.791 97.48,48.371 Q 97.48,48.951 97.665,49.258 Q 97.85,49.566 98.195,49.566\", \"type\": \"path\"}, {\"fillcolor\": \"white\", \"layer\": \"below\", \"line\": {\"color\": \"white\"}, \"path\": \"M 101.64464761515876,49.01 L 101.64464761515876,47.97 A 3.257,3.257 360.0 0,1 101.64364761515876,47.901 A 1.126,1.126 360.0 0,1 101.66664761515877,47.633 Q 101.69464761515876,47.53 101.76464761515876,47.5 Q 101.83464761515876,47.47 101.99464761515877,47.47 L 102.23964761515876,47.47 A 0.095,0.095 360.0 0,0 102.32964761515876,47.35 Q 102.32464761515877,47.275 102.29964761515876,47.258 Q 102.27464761515876,47.24 102.23664761515876,47.24 L 102.18464761515877,47.24 Q 101.97464761515876,47.24 101.77464761515876,47.173 Q 101.57464761515877,47.105 101.33964761515877,47.01 Q 101.30964761515877,47.0 101.28964761515876,47.0 Q 101.20964761515876,47.0 101.20964761515876,47.115 L 101.20964761515876,49.01 Q 101.20964761515876,49.23 101.15664761515876,49.325 Q 101.10464761515877,49.42 100.99164761515877,49.445 Q 100.87964761515876,49.47 100.62964761515876,49.47 L 100.57964761515876,49.47 Q 100.53964761515876,49.47 100.52164761515876,49.49 Q 100.50464761515876,49.51 100.49964761515876,49.57 Q 100.49964761515876,49.69 100.58964761515877,49.69 Q 100.94964761515877,49.675 101.42964761515876,49.675 Q 101.90464761515877,49.675 102.26464761515876,49.69 A 0.095,0.095 360.0 0,0 102.35464761515877,49.57 Q 102.34964761515876,49.51 102.33164761515876,49.49 Q 102.31464761515876,49.47 102.27464761515876,49.47 Q 101.99464761515877,49.47 101.87664761515876,49.448 Q 101.75964761515877,49.425 101.70164761515876,49.33 Q 101.64464761515876,49.235 101.64464761515876,49.01 L 101.64464761515876,49.01\", \"type\": \"path\"}, {\"fillcolor\": \"white\", \"layer\": \"below\", \"line\": {\"color\": \"white\"}, \"path\": \"M 16.8 5.2 L 16.3 5.45 L 16.8 5.7 L 16.8 5.2 Z\", \"type\": \"path\"}, {\"fillcolor\": \"white\", \"layer\": \"below\", \"line\": {\"color\": \"white\"}, \"path\": \"M 103.6 5.2 L 104.1 5.45 L 103.6 5.7 L 103.6 5.2 Z\", \"type\": \"path\"}, {\"fillcolor\": \"white\", \"layer\": \"below\", \"line\": {\"color\": \"white\"}, \"path\": \"M 16.4 48.5 L 15.9 48.25 L 16.4 48.0 L 16.4 48.5 Z\", \"type\": \"path\"}, {\"fillcolor\": \"white\", \"layer\": \"below\", \"line\": {\"color\": \"white\"}, \"path\": \"M 103.2 48.5 L 103.7 48.25 L 103.2 48.0 L 103.2 48.5 Z\", \"type\": \"path\"}, {\"fillcolor\": \"white\", \"layer\": \"below\", \"line\": {\"color\": \"white\"}, \"path\": \"M 26.8 5.2 L 26.3 5.45 L 26.8 5.7 L 26.8 5.2 Z\", \"type\": \"path\"}, {\"fillcolor\": \"white\", \"layer\": \"below\", \"line\": {\"color\": \"white\"}, \"path\": \"M 93.6 5.2 L 94.1 5.45 L 93.6 5.7 L 93.6 5.2 Z\", \"type\": \"path\"}, {\"fillcolor\": \"white\", \"layer\": \"below\", \"line\": {\"color\": \"white\"}, \"path\": \"M 26.4 48.5 L 25.9 48.25 L 26.4 48.0 L 26.4 48.5 Z\", \"type\": \"path\"}, {\"fillcolor\": \"white\", \"layer\": \"below\", \"line\": {\"color\": \"white\"}, \"path\": \"M 93.2 48.5 L 93.7 48.25 L 93.2 48.0 L 93.2 48.5 Z\", \"type\": \"path\"}, {\"fillcolor\": \"white\", \"layer\": \"below\", \"line\": {\"color\": \"white\"}, \"path\": \"M 36.8 5.2 L 36.3 5.45 L 36.8 5.7 L 36.8 5.2 Z\", \"type\": \"path\"}, {\"fillcolor\": \"white\", \"layer\": \"below\", \"line\": {\"color\": \"white\"}, \"path\": \"M 83.6 5.2 L 84.1 5.45 L 83.6 5.7 L 83.6 5.2 Z\", \"type\": \"path\"}, {\"fillcolor\": \"white\", \"layer\": \"below\", \"line\": {\"color\": \"white\"}, \"path\": \"M 36.4 48.5 L 35.9 48.25 L 36.4 48.0 L 36.4 48.5 Z\", \"type\": \"path\"}, {\"fillcolor\": \"white\", \"layer\": \"below\", \"line\": {\"color\": \"white\"}, \"path\": \"M 83.2 48.5 L 83.7 48.25 L 83.2 48.0 L 83.2 48.5 Z\", \"type\": \"path\"}, {\"fillcolor\": \"white\", \"layer\": \"below\", \"line\": {\"color\": \"white\"}, \"path\": \"M 46.8 5.2 L 46.3 5.45 L 46.8 5.7 L 46.8 5.2 Z\", \"type\": \"path\"}, {\"fillcolor\": \"white\", \"layer\": \"below\", \"line\": {\"color\": \"white\"}, \"path\": \"M 73.6 5.2 L 74.1 5.45 L 73.6 5.7 L 73.6 5.2 Z\", \"type\": \"path\"}, {\"fillcolor\": \"white\", \"layer\": \"below\", \"line\": {\"color\": \"white\"}, \"path\": \"M 46.4 48.5 L 45.9 48.25 L 46.4 48.0 L 46.4 48.5 Z\", \"type\": \"path\"}, {\"fillcolor\": \"white\", \"layer\": \"below\", \"line\": {\"color\": \"white\"}, \"path\": \"M 73.2 48.5 L 73.7 48.25 L 73.2 48.0 L 73.2 48.5 Z\", \"type\": \"path\"}], \"template\": {\"data\": {\"bar\": [{\"error_x\": {\"color\": \"#2a3f5f\"}, \"error_y\": {\"color\": \"#2a3f5f\"}, \"marker\": {\"line\": {\"color\": \"#E5ECF6\", \"width\": 0.5}}, \"type\": \"bar\"}], \"barpolar\": [{\"marker\": {\"line\": {\"color\": \"#E5ECF6\", \"width\": 0.5}}, \"type\": \"barpolar\"}], \"carpet\": [{\"aaxis\": {\"endlinecolor\": \"#2a3f5f\", \"gridcolor\": \"white\", \"linecolor\": \"white\", \"minorgridcolor\": \"white\", \"startlinecolor\": \"#2a3f5f\"}, \"baxis\": {\"endlinecolor\": \"#2a3f5f\", \"gridcolor\": \"white\", \"linecolor\": \"white\", \"minorgridcolor\": \"white\", \"startlinecolor\": \"#2a3f5f\"}, \"type\": \"carpet\"}], \"choropleth\": [{\"colorbar\": {\"outlinewidth\": 0, \"ticks\": \"\"}, \"type\": \"choropleth\"}], \"contour\": [{\"colorbar\": {\"outlinewidth\": 0, \"ticks\": \"\"}, \"colorscale\": [[0.0, \"#0d0887\"], [0.1111111111111111, \"#46039f\"], [0.2222222222222222, \"#7201a8\"], [0.3333333333333333, \"#9c179e\"], [0.4444444444444444, \"#bd3786\"], [0.5555555555555556, \"#d8576b\"], [0.6666666666666666, \"#ed7953\"], [0.7777777777777778, \"#fb9f3a\"], [0.8888888888888888, \"#fdca26\"], [1.0, \"#f0f921\"]], \"type\": \"contour\"}], \"contourcarpet\": [{\"colorbar\": {\"outlinewidth\": 0, \"ticks\": \"\"}, \"type\": \"contourcarpet\"}], \"heatmap\": [{\"colorbar\": {\"outlinewidth\": 0, \"ticks\": \"\"}, \"colorscale\": [[0.0, \"#0d0887\"], [0.1111111111111111, \"#46039f\"], [0.2222222222222222, \"#7201a8\"], [0.3333333333333333, \"#9c179e\"], [0.4444444444444444, \"#bd3786\"], [0.5555555555555556, \"#d8576b\"], [0.6666666666666666, \"#ed7953\"], [0.7777777777777778, \"#fb9f3a\"], [0.8888888888888888, \"#fdca26\"], [1.0, \"#f0f921\"]], \"type\": \"heatmap\"}], \"heatmapgl\": [{\"colorbar\": {\"outlinewidth\": 0, \"ticks\": \"\"}, \"colorscale\": [[0.0, \"#0d0887\"], [0.1111111111111111, \"#46039f\"], [0.2222222222222222, \"#7201a8\"], [0.3333333333333333, \"#9c179e\"], [0.4444444444444444, \"#bd3786\"], [0.5555555555555556, \"#d8576b\"], [0.6666666666666666, \"#ed7953\"], [0.7777777777777778, \"#fb9f3a\"], [0.8888888888888888, \"#fdca26\"], [1.0, \"#f0f921\"]], \"type\": \"heatmapgl\"}], \"histogram\": [{\"marker\": {\"colorbar\": {\"outlinewidth\": 0, \"ticks\": \"\"}}, \"type\": \"histogram\"}], \"histogram2d\": [{\"colorbar\": {\"outlinewidth\": 0, \"ticks\": \"\"}, \"colorscale\": [[0.0, \"#0d0887\"], [0.1111111111111111, \"#46039f\"], [0.2222222222222222, \"#7201a8\"], [0.3333333333333333, \"#9c179e\"], [0.4444444444444444, \"#bd3786\"], [0.5555555555555556, \"#d8576b\"], [0.6666666666666666, \"#ed7953\"], [0.7777777777777778, \"#fb9f3a\"], [0.8888888888888888, \"#fdca26\"], [1.0, \"#f0f921\"]], \"type\": \"histogram2d\"}], \"histogram2dcontour\": [{\"colorbar\": {\"outlinewidth\": 0, \"ticks\": \"\"}, \"colorscale\": [[0.0, \"#0d0887\"], [0.1111111111111111, \"#46039f\"], [0.2222222222222222, \"#7201a8\"], [0.3333333333333333, \"#9c179e\"], [0.4444444444444444, \"#bd3786\"], [0.5555555555555556, \"#d8576b\"], [0.6666666666666666, \"#ed7953\"], [0.7777777777777778, \"#fb9f3a\"], [0.8888888888888888, \"#fdca26\"], [1.0, \"#f0f921\"]], \"type\": \"histogram2dcontour\"}], \"mesh3d\": [{\"colorbar\": {\"outlinewidth\": 0, \"ticks\": \"\"}, \"type\": \"mesh3d\"}], \"parcoords\": [{\"line\": {\"colorbar\": {\"outlinewidth\": 0, \"ticks\": \"\"}}, \"type\": \"parcoords\"}], \"pie\": [{\"automargin\": true, \"type\": \"pie\"}], \"scatter\": [{\"marker\": {\"colorbar\": {\"outlinewidth\": 0, \"ticks\": \"\"}}, \"type\": \"scatter\"}], \"scatter3d\": [{\"line\": {\"colorbar\": {\"outlinewidth\": 0, \"ticks\": \"\"}}, \"marker\": {\"colorbar\": {\"outlinewidth\": 0, \"ticks\": \"\"}}, \"type\": \"scatter3d\"}], \"scattercarpet\": [{\"marker\": {\"colorbar\": {\"outlinewidth\": 0, \"ticks\": \"\"}}, \"type\": \"scattercarpet\"}], \"scattergeo\": [{\"marker\": {\"colorbar\": {\"outlinewidth\": 0, \"ticks\": \"\"}}, \"type\": \"scattergeo\"}], \"scattergl\": [{\"marker\": {\"colorbar\": {\"outlinewidth\": 0, \"ticks\": \"\"}}, \"type\": \"scattergl\"}], \"scattermapbox\": [{\"marker\": {\"colorbar\": {\"outlinewidth\": 0, \"ticks\": \"\"}}, \"type\": \"scattermapbox\"}], \"scatterpolar\": [{\"marker\": {\"colorbar\": {\"outlinewidth\": 0, \"ticks\": \"\"}}, \"type\": \"scatterpolar\"}], \"scatterpolargl\": [{\"marker\": {\"colorbar\": {\"outlinewidth\": 0, \"ticks\": \"\"}}, \"type\": \"scatterpolargl\"}], \"scatterternary\": [{\"marker\": {\"colorbar\": {\"outlinewidth\": 0, \"ticks\": \"\"}}, \"type\": \"scatterternary\"}], \"surface\": [{\"colorbar\": {\"outlinewidth\": 0, \"ticks\": \"\"}, \"colorscale\": [[0.0, \"#0d0887\"], [0.1111111111111111, \"#46039f\"], [0.2222222222222222, \"#7201a8\"], [0.3333333333333333, \"#9c179e\"], [0.4444444444444444, \"#bd3786\"], [0.5555555555555556, \"#d8576b\"], [0.6666666666666666, \"#ed7953\"], [0.7777777777777778, \"#fb9f3a\"], [0.8888888888888888, \"#fdca26\"], [1.0, \"#f0f921\"]], \"type\": \"surface\"}], \"table\": [{\"cells\": {\"fill\": {\"color\": \"#EBF0F8\"}, \"line\": {\"color\": \"white\"}}, \"header\": {\"fill\": {\"color\": \"#C8D4E3\"}, \"line\": {\"color\": \"white\"}}, \"type\": \"table\"}]}, \"layout\": {\"annotationdefaults\": {\"arrowcolor\": \"#2a3f5f\", \"arrowhead\": 0, \"arrowwidth\": 1}, \"autotypenumbers\": \"strict\", \"coloraxis\": {\"colorbar\": {\"outlinewidth\": 0, \"ticks\": \"\"}}, \"colorscale\": {\"diverging\": [[0, \"#8e0152\"], [0.1, \"#c51b7d\"], [0.2, \"#de77ae\"], [0.3, \"#f1b6da\"], [0.4, \"#fde0ef\"], [0.5, \"#f7f7f7\"], [0.6, \"#e6f5d0\"], [0.7, \"#b8e186\"], [0.8, \"#7fbc41\"], [0.9, \"#4d9221\"], [1, \"#276419\"]], \"sequential\": [[0.0, \"#0d0887\"], [0.1111111111111111, \"#46039f\"], [0.2222222222222222, \"#7201a8\"], [0.3333333333333333, \"#9c179e\"], [0.4444444444444444, \"#bd3786\"], [0.5555555555555556, \"#d8576b\"], [0.6666666666666666, \"#ed7953\"], [0.7777777777777778, \"#fb9f3a\"], [0.8888888888888888, \"#fdca26\"], [1.0, \"#f0f921\"]], \"sequentialminus\": [[0.0, \"#0d0887\"], [0.1111111111111111, \"#46039f\"], [0.2222222222222222, \"#7201a8\"], [0.3333333333333333, \"#9c179e\"], [0.4444444444444444, \"#bd3786\"], [0.5555555555555556, \"#d8576b\"], [0.6666666666666666, \"#ed7953\"], [0.7777777777777778, \"#fb9f3a\"], [0.8888888888888888, \"#fdca26\"], [1.0, \"#f0f921\"]]}, \"colorway\": [\"#636efa\", \"#EF553B\", \"#00cc96\", \"#ab63fa\", \"#FFA15A\", \"#19d3f3\", \"#FF6692\", \"#B6E880\", \"#FF97FF\", \"#FECB52\"], \"font\": {\"color\": \"#2a3f5f\"}, \"geo\": {\"bgcolor\": \"white\", \"lakecolor\": \"white\", \"landcolor\": \"#E5ECF6\", \"showlakes\": true, \"showland\": true, \"subunitcolor\": \"white\"}, \"hoverlabel\": {\"align\": \"left\"}, \"hovermode\": \"closest\", \"mapbox\": {\"style\": \"light\"}, \"paper_bgcolor\": \"white\", \"plot_bgcolor\": \"#E5ECF6\", \"polar\": {\"angularaxis\": {\"gridcolor\": \"white\", \"linecolor\": \"white\", \"ticks\": \"\"}, \"bgcolor\": \"#E5ECF6\", \"radialaxis\": {\"gridcolor\": \"white\", \"linecolor\": \"white\", \"ticks\": \"\"}}, \"scene\": {\"xaxis\": {\"backgroundcolor\": \"#E5ECF6\", \"gridcolor\": \"white\", \"gridwidth\": 2, \"linecolor\": \"white\", \"showbackground\": true, \"ticks\": \"\", \"zerolinecolor\": \"white\"}, \"yaxis\": {\"backgroundcolor\": \"#E5ECF6\", \"gridcolor\": \"white\", \"gridwidth\": 2, \"linecolor\": \"white\", \"showbackground\": true, \"ticks\": \"\", \"zerolinecolor\": \"white\"}, \"zaxis\": {\"backgroundcolor\": \"#E5ECF6\", \"gridcolor\": \"white\", \"gridwidth\": 2, \"linecolor\": \"white\", \"showbackground\": true, \"ticks\": \"\", \"zerolinecolor\": \"white\"}}, \"shapedefaults\": {\"line\": {\"color\": \"#2a3f5f\"}}, \"ternary\": {\"aaxis\": {\"gridcolor\": \"white\", \"linecolor\": \"white\", \"ticks\": \"\"}, \"baxis\": {\"gridcolor\": \"white\", \"linecolor\": \"white\", \"ticks\": \"\"}, \"bgcolor\": \"#E5ECF6\", \"caxis\": {\"gridcolor\": \"white\", \"linecolor\": \"white\", \"ticks\": \"\"}}, \"title\": {\"x\": 0.05}, \"xaxis\": {\"automargin\": true, \"gridcolor\": \"white\", \"linecolor\": \"white\", \"ticks\": \"\", \"title\": {\"standoff\": 15}, \"zerolinecolor\": \"white\", \"zerolinewidth\": 2}, \"yaxis\": {\"automargin\": true, \"gridcolor\": \"white\", \"linecolor\": \"white\", \"ticks\": \"\", \"title\": {\"standoff\": 15}, \"zerolinecolor\": \"white\", \"zerolinewidth\": 2}}}, \"xaxis\": {\"range\": [-3, 123], \"showgrid\": false, \"showticklabels\": false, \"zeroline\": false}, \"yaxis\": {\"range\": [-5, 58.3], \"showgrid\": false, \"showticklabels\": false, \"zeroline\": false}},                        {\"responsive\": true}                    ).then(function(){\n",
       "                            \n",
       "var gd = document.getElementById('396e3ea0-0d2a-405d-aa87-146cea4488cc');\n",
       "var x = new MutationObserver(function (mutations, observer) {{\n",
       "        var display = window.getComputedStyle(gd).display;\n",
       "        if (!display || display === 'none') {{\n",
       "            console.log([gd, 'removed!']);\n",
       "            Plotly.purge(gd);\n",
       "            observer.disconnect();\n",
       "        }}\n",
       "}});\n",
       "\n",
       "// Listen for the removal of the full notebook cells\n",
       "var notebookContainer = gd.closest('#notebook-container');\n",
       "if (notebookContainer) {{\n",
       "    x.observe(notebookContainer, {childList: true});\n",
       "}}\n",
       "\n",
       "// Listen for the clearing of the current output cell\n",
       "var outputEl = gd.closest('.output');\n",
       "if (outputEl) {{\n",
       "    x.observe(outputEl, {childList: true});\n",
       "}}\n",
       "\n",
       "                        })                };                });            </script>        </div>"
      ]
     },
     "metadata": {},
     "output_type": "display_data"
    }
   ],
   "source": [
    "fig = plotting.plot_frame(\n",
    "    interesting_play[interesting_play[\"event\"] == \"ball_snap\"], \"x\", \"y\",\n",
    "    uniform_number_column=\"jerseyNumber\",\n",
    "    home_away_identifier=lambda data: data[\"team\"] == \"home\",\n",
    "    hover_text_generator=lambda data: data[\"displayName\"].str.cat(data[\"position\"], sep=\" \"),\n",
    "    ball_identifier=lambda data: (data[\"displayName\"] == \"Football\").values,\n",
    "    team_column=\"team_abbreviation\"\n",
    ")\n",
    "fig.show()"
   ]
  },
  {
   "cell_type": "code",
   "execution_count": null,
   "id": "eight-eating",
   "metadata": {},
   "outputs": [],
   "source": [
    "fig.update_layout(width=1000, height=700)\n",
    "fig.show()"
   ]
  },
  {
   "cell_type": "code",
   "execution_count": null,
   "id": "honey-chemical",
   "metadata": {},
   "outputs": [],
   "source": []
  }
 ],
 "metadata": {
  "kernelspec": {
   "display_name": "Python 3",
   "language": "python",
   "name": "python3"
  },
  "language_info": {
   "codemirror_mode": {
    "name": "ipython",
    "version": 3
   },
   "file_extension": ".py",
   "mimetype": "text/x-python",
   "name": "python",
   "nbconvert_exporter": "python",
   "pygments_lexer": "ipython3",
   "version": "3.8.6"
  }
 },
 "nbformat": 4,
 "nbformat_minor": 5
}
