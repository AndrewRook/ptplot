{
 "cells": [
  {
   "cell_type": "code",
   "execution_count": 1,
   "id": "velvet-object",
   "metadata": {},
   "outputs": [],
   "source": [
    "import plotly.graph_objects as go\n",
    "\n",
    "from ptplot._assets.core import Field\n",
    "from ptplot._assets import nfl_field as nfl\n",
    "from ptplot.plotting import create_field\n",
    "\n",
    "%reload_ext autoreload\n",
    "%autoreload 2"
   ]
  },
  {
   "cell_type": "code",
   "execution_count": 76,
   "id": "demonstrated-explanation",
   "metadata": {},
   "outputs": [
    {
     "data": {
      "application/vnd.plotly.v1+json": {
       "config": {
        "plotlyServerURL": "https://plot.ly"
       },
       "data": [],
       "layout": {
        "height": 600,
        "margin": {
         "b": 80,
         "l": 5,
         "r": 5,
         "t": 100
        },
        "plot_bgcolor": "rgb(195,217,192)",
        "shapes": [
         {
          "layer": "below",
          "line": {
           "color": "white",
           "width": 5
          },
          "type": "line",
          "x0": 0,
          "x1": 120,
          "y0": 0,
          "y1": 0
         },
         {
          "layer": "below",
          "line": {
           "color": "white",
           "width": 5
          },
          "type": "line",
          "x0": 0,
          "x1": 120,
          "y0": 53.3,
          "y1": 53.3
         },
         {
          "layer": "below",
          "line": {
           "color": "white",
           "width": 5
          },
          "type": "line",
          "x0": 0,
          "x1": 0,
          "y0": 0,
          "y1": 53.3
         },
         {
          "layer": "below",
          "line": {
           "color": "white",
           "width": 5
          },
          "type": "line",
          "x0": 120,
          "x1": 120,
          "y0": 0,
          "y1": 53.3
         },
         {
          "layer": "below",
          "line": {
           "color": "white",
           "width": 2
          },
          "type": "line",
          "x0": 10,
          "x1": 10,
          "y0": 0,
          "y1": 53.3
         },
         {
          "layer": "below",
          "line": {
           "color": "white",
           "width": 2
          },
          "type": "line",
          "x0": 15,
          "x1": 15,
          "y0": 0,
          "y1": 53.3
         },
         {
          "layer": "below",
          "line": {
           "color": "white",
           "width": 2
          },
          "type": "line",
          "x0": 20,
          "x1": 20,
          "y0": 0,
          "y1": 53.3
         },
         {
          "layer": "below",
          "line": {
           "color": "white",
           "width": 2
          },
          "type": "line",
          "x0": 25,
          "x1": 25,
          "y0": 0,
          "y1": 53.3
         },
         {
          "layer": "below",
          "line": {
           "color": "white",
           "width": 2
          },
          "type": "line",
          "x0": 30,
          "x1": 30,
          "y0": 0,
          "y1": 53.3
         },
         {
          "layer": "below",
          "line": {
           "color": "white",
           "width": 2
          },
          "type": "line",
          "x0": 35,
          "x1": 35,
          "y0": 0,
          "y1": 53.3
         },
         {
          "layer": "below",
          "line": {
           "color": "white",
           "width": 2
          },
          "type": "line",
          "x0": 40,
          "x1": 40,
          "y0": 0,
          "y1": 53.3
         },
         {
          "layer": "below",
          "line": {
           "color": "white",
           "width": 2
          },
          "type": "line",
          "x0": 45,
          "x1": 45,
          "y0": 0,
          "y1": 53.3
         },
         {
          "layer": "below",
          "line": {
           "color": "white",
           "width": 2
          },
          "type": "line",
          "x0": 50,
          "x1": 50,
          "y0": 0,
          "y1": 53.3
         },
         {
          "layer": "below",
          "line": {
           "color": "white",
           "width": 2
          },
          "type": "line",
          "x0": 55,
          "x1": 55,
          "y0": 0,
          "y1": 53.3
         },
         {
          "layer": "below",
          "line": {
           "color": "white",
           "width": 2
          },
          "type": "line",
          "x0": 60,
          "x1": 60,
          "y0": 0,
          "y1": 53.3
         },
         {
          "layer": "below",
          "line": {
           "color": "white",
           "width": 2
          },
          "type": "line",
          "x0": 65,
          "x1": 65,
          "y0": 0,
          "y1": 53.3
         },
         {
          "layer": "below",
          "line": {
           "color": "white",
           "width": 2
          },
          "type": "line",
          "x0": 70,
          "x1": 70,
          "y0": 0,
          "y1": 53.3
         },
         {
          "layer": "below",
          "line": {
           "color": "white",
           "width": 2
          },
          "type": "line",
          "x0": 75,
          "x1": 75,
          "y0": 0,
          "y1": 53.3
         },
         {
          "layer": "below",
          "line": {
           "color": "white",
           "width": 2
          },
          "type": "line",
          "x0": 80,
          "x1": 80,
          "y0": 0,
          "y1": 53.3
         },
         {
          "layer": "below",
          "line": {
           "color": "white",
           "width": 2
          },
          "type": "line",
          "x0": 85,
          "x1": 85,
          "y0": 0,
          "y1": 53.3
         },
         {
          "layer": "below",
          "line": {
           "color": "white",
           "width": 2
          },
          "type": "line",
          "x0": 90,
          "x1": 90,
          "y0": 0,
          "y1": 53.3
         },
         {
          "layer": "below",
          "line": {
           "color": "white",
           "width": 2
          },
          "type": "line",
          "x0": 95,
          "x1": 95,
          "y0": 0,
          "y1": 53.3
         },
         {
          "layer": "below",
          "line": {
           "color": "white",
           "width": 2
          },
          "type": "line",
          "x0": 100,
          "x1": 100,
          "y0": 0,
          "y1": 53.3
         },
         {
          "layer": "below",
          "line": {
           "color": "white",
           "width": 2
          },
          "type": "line",
          "x0": 105,
          "x1": 105,
          "y0": 0,
          "y1": 53.3
         },
         {
          "layer": "below",
          "line": {
           "color": "white",
           "width": 2
          },
          "type": "line",
          "x0": 110,
          "x1": 110,
          "y0": 0,
          "y1": 53.3
         },
         {
          "layer": "below",
          "line": {
           "color": "white",
           "width": 2
          },
          "type": "line",
          "x0": 11,
          "x1": 11,
          "y0": 1,
          "y1": 1.6666666666666665
         },
         {
          "layer": "below",
          "line": {
           "color": "white",
           "width": 2
          },
          "type": "line",
          "x0": 11,
          "x1": 11,
          "y0": 23.58333,
          "y1": 24.249996666666668
         },
         {
          "layer": "below",
          "line": {
           "color": "white",
           "width": 2
          },
          "type": "line",
          "x0": 11,
          "x1": 11,
          "y0": 29.08333,
          "y1": 29.749996666666668
         },
         {
          "layer": "below",
          "line": {
           "color": "white",
           "width": 2
          },
          "type": "line",
          "x0": 11,
          "x1": 11,
          "y0": 51.63333333333333,
          "y1": 52.3
         },
         {
          "layer": "below",
          "line": {
           "color": "white",
           "width": 2
          },
          "type": "line",
          "x0": 12,
          "x1": 12,
          "y0": 1,
          "y1": 1.6666666666666665
         },
         {
          "layer": "below",
          "line": {
           "color": "white",
           "width": 2
          },
          "type": "line",
          "x0": 12,
          "x1": 12,
          "y0": 23.58333,
          "y1": 24.249996666666668
         },
         {
          "layer": "below",
          "line": {
           "color": "white",
           "width": 2
          },
          "type": "line",
          "x0": 12,
          "x1": 12,
          "y0": 29.08333,
          "y1": 29.749996666666668
         },
         {
          "layer": "below",
          "line": {
           "color": "white",
           "width": 2
          },
          "type": "line",
          "x0": 12,
          "x1": 12,
          "y0": 51.63333333333333,
          "y1": 52.3
         },
         {
          "layer": "below",
          "line": {
           "color": "white",
           "width": 2
          },
          "type": "line",
          "x0": 13,
          "x1": 13,
          "y0": 1,
          "y1": 1.6666666666666665
         },
         {
          "layer": "below",
          "line": {
           "color": "white",
           "width": 2
          },
          "type": "line",
          "x0": 13,
          "x1": 13,
          "y0": 23.58333,
          "y1": 24.249996666666668
         },
         {
          "layer": "below",
          "line": {
           "color": "white",
           "width": 2
          },
          "type": "line",
          "x0": 13,
          "x1": 13,
          "y0": 29.08333,
          "y1": 29.749996666666668
         },
         {
          "layer": "below",
          "line": {
           "color": "white",
           "width": 2
          },
          "type": "line",
          "x0": 13,
          "x1": 13,
          "y0": 51.63333333333333,
          "y1": 52.3
         },
         {
          "layer": "below",
          "line": {
           "color": "white",
           "width": 2
          },
          "type": "line",
          "x0": 14,
          "x1": 14,
          "y0": 1,
          "y1": 1.6666666666666665
         },
         {
          "layer": "below",
          "line": {
           "color": "white",
           "width": 2
          },
          "type": "line",
          "x0": 14,
          "x1": 14,
          "y0": 23.58333,
          "y1": 24.249996666666668
         },
         {
          "layer": "below",
          "line": {
           "color": "white",
           "width": 2
          },
          "type": "line",
          "x0": 14,
          "x1": 14,
          "y0": 29.08333,
          "y1": 29.749996666666668
         },
         {
          "layer": "below",
          "line": {
           "color": "white",
           "width": 2
          },
          "type": "line",
          "x0": 14,
          "x1": 14,
          "y0": 51.63333333333333,
          "y1": 52.3
         },
         {
          "layer": "below",
          "line": {
           "color": "white",
           "width": 2
          },
          "type": "line",
          "x0": 15,
          "x1": 15,
          "y0": 1,
          "y1": 1.6666666666666665
         },
         {
          "layer": "below",
          "line": {
           "color": "white",
           "width": 2
          },
          "type": "line",
          "x0": 15,
          "x1": 15,
          "y0": 23.58333,
          "y1": 24.249996666666668
         },
         {
          "layer": "below",
          "line": {
           "color": "white",
           "width": 2
          },
          "type": "line",
          "x0": 15,
          "x1": 15,
          "y0": 29.08333,
          "y1": 29.749996666666668
         },
         {
          "layer": "below",
          "line": {
           "color": "white",
           "width": 2
          },
          "type": "line",
          "x0": 15,
          "x1": 15,
          "y0": 51.63333333333333,
          "y1": 52.3
         },
         {
          "layer": "below",
          "line": {
           "color": "white",
           "width": 2
          },
          "type": "line",
          "x0": 16,
          "x1": 16,
          "y0": 1,
          "y1": 1.6666666666666665
         },
         {
          "layer": "below",
          "line": {
           "color": "white",
           "width": 2
          },
          "type": "line",
          "x0": 16,
          "x1": 16,
          "y0": 23.58333,
          "y1": 24.249996666666668
         },
         {
          "layer": "below",
          "line": {
           "color": "white",
           "width": 2
          },
          "type": "line",
          "x0": 16,
          "x1": 16,
          "y0": 29.08333,
          "y1": 29.749996666666668
         },
         {
          "layer": "below",
          "line": {
           "color": "white",
           "width": 2
          },
          "type": "line",
          "x0": 16,
          "x1": 16,
          "y0": 51.63333333333333,
          "y1": 52.3
         },
         {
          "layer": "below",
          "line": {
           "color": "white",
           "width": 2
          },
          "type": "line",
          "x0": 17,
          "x1": 17,
          "y0": 1,
          "y1": 1.6666666666666665
         },
         {
          "layer": "below",
          "line": {
           "color": "white",
           "width": 2
          },
          "type": "line",
          "x0": 17,
          "x1": 17,
          "y0": 23.58333,
          "y1": 24.249996666666668
         },
         {
          "layer": "below",
          "line": {
           "color": "white",
           "width": 2
          },
          "type": "line",
          "x0": 17,
          "x1": 17,
          "y0": 29.08333,
          "y1": 29.749996666666668
         },
         {
          "layer": "below",
          "line": {
           "color": "white",
           "width": 2
          },
          "type": "line",
          "x0": 17,
          "x1": 17,
          "y0": 51.63333333333333,
          "y1": 52.3
         },
         {
          "layer": "below",
          "line": {
           "color": "white",
           "width": 2
          },
          "type": "line",
          "x0": 18,
          "x1": 18,
          "y0": 1,
          "y1": 1.6666666666666665
         },
         {
          "layer": "below",
          "line": {
           "color": "white",
           "width": 2
          },
          "type": "line",
          "x0": 18,
          "x1": 18,
          "y0": 23.58333,
          "y1": 24.249996666666668
         },
         {
          "layer": "below",
          "line": {
           "color": "white",
           "width": 2
          },
          "type": "line",
          "x0": 18,
          "x1": 18,
          "y0": 29.08333,
          "y1": 29.749996666666668
         },
         {
          "layer": "below",
          "line": {
           "color": "white",
           "width": 2
          },
          "type": "line",
          "x0": 18,
          "x1": 18,
          "y0": 51.63333333333333,
          "y1": 52.3
         },
         {
          "layer": "below",
          "line": {
           "color": "white",
           "width": 2
          },
          "type": "line",
          "x0": 19,
          "x1": 19,
          "y0": 1,
          "y1": 1.6666666666666665
         },
         {
          "layer": "below",
          "line": {
           "color": "white",
           "width": 2
          },
          "type": "line",
          "x0": 19,
          "x1": 19,
          "y0": 23.58333,
          "y1": 24.249996666666668
         },
         {
          "layer": "below",
          "line": {
           "color": "white",
           "width": 2
          },
          "type": "line",
          "x0": 19,
          "x1": 19,
          "y0": 29.08333,
          "y1": 29.749996666666668
         },
         {
          "layer": "below",
          "line": {
           "color": "white",
           "width": 2
          },
          "type": "line",
          "x0": 19,
          "x1": 19,
          "y0": 51.63333333333333,
          "y1": 52.3
         },
         {
          "layer": "below",
          "line": {
           "color": "white",
           "width": 2
          },
          "type": "line",
          "x0": 21,
          "x1": 21,
          "y0": 1,
          "y1": 1.6666666666666665
         },
         {
          "layer": "below",
          "line": {
           "color": "white",
           "width": 2
          },
          "type": "line",
          "x0": 21,
          "x1": 21,
          "y0": 23.58333,
          "y1": 24.249996666666668
         },
         {
          "layer": "below",
          "line": {
           "color": "white",
           "width": 2
          },
          "type": "line",
          "x0": 21,
          "x1": 21,
          "y0": 29.08333,
          "y1": 29.749996666666668
         },
         {
          "layer": "below",
          "line": {
           "color": "white",
           "width": 2
          },
          "type": "line",
          "x0": 21,
          "x1": 21,
          "y0": 51.63333333333333,
          "y1": 52.3
         },
         {
          "layer": "below",
          "line": {
           "color": "white",
           "width": 2
          },
          "type": "line",
          "x0": 22,
          "x1": 22,
          "y0": 1,
          "y1": 1.6666666666666665
         },
         {
          "layer": "below",
          "line": {
           "color": "white",
           "width": 2
          },
          "type": "line",
          "x0": 22,
          "x1": 22,
          "y0": 23.58333,
          "y1": 24.249996666666668
         },
         {
          "layer": "below",
          "line": {
           "color": "white",
           "width": 2
          },
          "type": "line",
          "x0": 22,
          "x1": 22,
          "y0": 29.08333,
          "y1": 29.749996666666668
         },
         {
          "layer": "below",
          "line": {
           "color": "white",
           "width": 2
          },
          "type": "line",
          "x0": 22,
          "x1": 22,
          "y0": 51.63333333333333,
          "y1": 52.3
         },
         {
          "layer": "below",
          "line": {
           "color": "white",
           "width": 2
          },
          "type": "line",
          "x0": 23,
          "x1": 23,
          "y0": 1,
          "y1": 1.6666666666666665
         },
         {
          "layer": "below",
          "line": {
           "color": "white",
           "width": 2
          },
          "type": "line",
          "x0": 23,
          "x1": 23,
          "y0": 23.58333,
          "y1": 24.249996666666668
         },
         {
          "layer": "below",
          "line": {
           "color": "white",
           "width": 2
          },
          "type": "line",
          "x0": 23,
          "x1": 23,
          "y0": 29.08333,
          "y1": 29.749996666666668
         },
         {
          "layer": "below",
          "line": {
           "color": "white",
           "width": 2
          },
          "type": "line",
          "x0": 23,
          "x1": 23,
          "y0": 51.63333333333333,
          "y1": 52.3
         },
         {
          "layer": "below",
          "line": {
           "color": "white",
           "width": 2
          },
          "type": "line",
          "x0": 24,
          "x1": 24,
          "y0": 1,
          "y1": 1.6666666666666665
         },
         {
          "layer": "below",
          "line": {
           "color": "white",
           "width": 2
          },
          "type": "line",
          "x0": 24,
          "x1": 24,
          "y0": 23.58333,
          "y1": 24.249996666666668
         },
         {
          "layer": "below",
          "line": {
           "color": "white",
           "width": 2
          },
          "type": "line",
          "x0": 24,
          "x1": 24,
          "y0": 29.08333,
          "y1": 29.749996666666668
         },
         {
          "layer": "below",
          "line": {
           "color": "white",
           "width": 2
          },
          "type": "line",
          "x0": 24,
          "x1": 24,
          "y0": 51.63333333333333,
          "y1": 52.3
         },
         {
          "layer": "below",
          "line": {
           "color": "white",
           "width": 2
          },
          "type": "line",
          "x0": 25,
          "x1": 25,
          "y0": 1,
          "y1": 1.6666666666666665
         },
         {
          "layer": "below",
          "line": {
           "color": "white",
           "width": 2
          },
          "type": "line",
          "x0": 25,
          "x1": 25,
          "y0": 23.58333,
          "y1": 24.249996666666668
         },
         {
          "layer": "below",
          "line": {
           "color": "white",
           "width": 2
          },
          "type": "line",
          "x0": 25,
          "x1": 25,
          "y0": 29.08333,
          "y1": 29.749996666666668
         },
         {
          "layer": "below",
          "line": {
           "color": "white",
           "width": 2
          },
          "type": "line",
          "x0": 25,
          "x1": 25,
          "y0": 51.63333333333333,
          "y1": 52.3
         },
         {
          "layer": "below",
          "line": {
           "color": "white",
           "width": 2
          },
          "type": "line",
          "x0": 26,
          "x1": 26,
          "y0": 1,
          "y1": 1.6666666666666665
         },
         {
          "layer": "below",
          "line": {
           "color": "white",
           "width": 2
          },
          "type": "line",
          "x0": 26,
          "x1": 26,
          "y0": 23.58333,
          "y1": 24.249996666666668
         },
         {
          "layer": "below",
          "line": {
           "color": "white",
           "width": 2
          },
          "type": "line",
          "x0": 26,
          "x1": 26,
          "y0": 29.08333,
          "y1": 29.749996666666668
         },
         {
          "layer": "below",
          "line": {
           "color": "white",
           "width": 2
          },
          "type": "line",
          "x0": 26,
          "x1": 26,
          "y0": 51.63333333333333,
          "y1": 52.3
         },
         {
          "layer": "below",
          "line": {
           "color": "white",
           "width": 2
          },
          "type": "line",
          "x0": 27,
          "x1": 27,
          "y0": 1,
          "y1": 1.6666666666666665
         },
         {
          "layer": "below",
          "line": {
           "color": "white",
           "width": 2
          },
          "type": "line",
          "x0": 27,
          "x1": 27,
          "y0": 23.58333,
          "y1": 24.249996666666668
         },
         {
          "layer": "below",
          "line": {
           "color": "white",
           "width": 2
          },
          "type": "line",
          "x0": 27,
          "x1": 27,
          "y0": 29.08333,
          "y1": 29.749996666666668
         },
         {
          "layer": "below",
          "line": {
           "color": "white",
           "width": 2
          },
          "type": "line",
          "x0": 27,
          "x1": 27,
          "y0": 51.63333333333333,
          "y1": 52.3
         },
         {
          "layer": "below",
          "line": {
           "color": "white",
           "width": 2
          },
          "type": "line",
          "x0": 28,
          "x1": 28,
          "y0": 1,
          "y1": 1.6666666666666665
         },
         {
          "layer": "below",
          "line": {
           "color": "white",
           "width": 2
          },
          "type": "line",
          "x0": 28,
          "x1": 28,
          "y0": 23.58333,
          "y1": 24.249996666666668
         },
         {
          "layer": "below",
          "line": {
           "color": "white",
           "width": 2
          },
          "type": "line",
          "x0": 28,
          "x1": 28,
          "y0": 29.08333,
          "y1": 29.749996666666668
         },
         {
          "layer": "below",
          "line": {
           "color": "white",
           "width": 2
          },
          "type": "line",
          "x0": 28,
          "x1": 28,
          "y0": 51.63333333333333,
          "y1": 52.3
         },
         {
          "layer": "below",
          "line": {
           "color": "white",
           "width": 2
          },
          "type": "line",
          "x0": 29,
          "x1": 29,
          "y0": 1,
          "y1": 1.6666666666666665
         },
         {
          "layer": "below",
          "line": {
           "color": "white",
           "width": 2
          },
          "type": "line",
          "x0": 29,
          "x1": 29,
          "y0": 23.58333,
          "y1": 24.249996666666668
         },
         {
          "layer": "below",
          "line": {
           "color": "white",
           "width": 2
          },
          "type": "line",
          "x0": 29,
          "x1": 29,
          "y0": 29.08333,
          "y1": 29.749996666666668
         },
         {
          "layer": "below",
          "line": {
           "color": "white",
           "width": 2
          },
          "type": "line",
          "x0": 29,
          "x1": 29,
          "y0": 51.63333333333333,
          "y1": 52.3
         },
         {
          "layer": "below",
          "line": {
           "color": "white",
           "width": 2
          },
          "type": "line",
          "x0": 31,
          "x1": 31,
          "y0": 1,
          "y1": 1.6666666666666665
         },
         {
          "layer": "below",
          "line": {
           "color": "white",
           "width": 2
          },
          "type": "line",
          "x0": 31,
          "x1": 31,
          "y0": 23.58333,
          "y1": 24.249996666666668
         },
         {
          "layer": "below",
          "line": {
           "color": "white",
           "width": 2
          },
          "type": "line",
          "x0": 31,
          "x1": 31,
          "y0": 29.08333,
          "y1": 29.749996666666668
         },
         {
          "layer": "below",
          "line": {
           "color": "white",
           "width": 2
          },
          "type": "line",
          "x0": 31,
          "x1": 31,
          "y0": 51.63333333333333,
          "y1": 52.3
         },
         {
          "layer": "below",
          "line": {
           "color": "white",
           "width": 2
          },
          "type": "line",
          "x0": 32,
          "x1": 32,
          "y0": 1,
          "y1": 1.6666666666666665
         },
         {
          "layer": "below",
          "line": {
           "color": "white",
           "width": 2
          },
          "type": "line",
          "x0": 32,
          "x1": 32,
          "y0": 23.58333,
          "y1": 24.249996666666668
         },
         {
          "layer": "below",
          "line": {
           "color": "white",
           "width": 2
          },
          "type": "line",
          "x0": 32,
          "x1": 32,
          "y0": 29.08333,
          "y1": 29.749996666666668
         },
         {
          "layer": "below",
          "line": {
           "color": "white",
           "width": 2
          },
          "type": "line",
          "x0": 32,
          "x1": 32,
          "y0": 51.63333333333333,
          "y1": 52.3
         },
         {
          "layer": "below",
          "line": {
           "color": "white",
           "width": 2
          },
          "type": "line",
          "x0": 33,
          "x1": 33,
          "y0": 1,
          "y1": 1.6666666666666665
         },
         {
          "layer": "below",
          "line": {
           "color": "white",
           "width": 2
          },
          "type": "line",
          "x0": 33,
          "x1": 33,
          "y0": 23.58333,
          "y1": 24.249996666666668
         },
         {
          "layer": "below",
          "line": {
           "color": "white",
           "width": 2
          },
          "type": "line",
          "x0": 33,
          "x1": 33,
          "y0": 29.08333,
          "y1": 29.749996666666668
         },
         {
          "layer": "below",
          "line": {
           "color": "white",
           "width": 2
          },
          "type": "line",
          "x0": 33,
          "x1": 33,
          "y0": 51.63333333333333,
          "y1": 52.3
         },
         {
          "layer": "below",
          "line": {
           "color": "white",
           "width": 2
          },
          "type": "line",
          "x0": 34,
          "x1": 34,
          "y0": 1,
          "y1": 1.6666666666666665
         },
         {
          "layer": "below",
          "line": {
           "color": "white",
           "width": 2
          },
          "type": "line",
          "x0": 34,
          "x1": 34,
          "y0": 23.58333,
          "y1": 24.249996666666668
         },
         {
          "layer": "below",
          "line": {
           "color": "white",
           "width": 2
          },
          "type": "line",
          "x0": 34,
          "x1": 34,
          "y0": 29.08333,
          "y1": 29.749996666666668
         },
         {
          "layer": "below",
          "line": {
           "color": "white",
           "width": 2
          },
          "type": "line",
          "x0": 34,
          "x1": 34,
          "y0": 51.63333333333333,
          "y1": 52.3
         },
         {
          "layer": "below",
          "line": {
           "color": "white",
           "width": 2
          },
          "type": "line",
          "x0": 35,
          "x1": 35,
          "y0": 1,
          "y1": 1.6666666666666665
         },
         {
          "layer": "below",
          "line": {
           "color": "white",
           "width": 2
          },
          "type": "line",
          "x0": 35,
          "x1": 35,
          "y0": 23.58333,
          "y1": 24.249996666666668
         },
         {
          "layer": "below",
          "line": {
           "color": "white",
           "width": 2
          },
          "type": "line",
          "x0": 35,
          "x1": 35,
          "y0": 29.08333,
          "y1": 29.749996666666668
         },
         {
          "layer": "below",
          "line": {
           "color": "white",
           "width": 2
          },
          "type": "line",
          "x0": 35,
          "x1": 35,
          "y0": 51.63333333333333,
          "y1": 52.3
         },
         {
          "layer": "below",
          "line": {
           "color": "white",
           "width": 2
          },
          "type": "line",
          "x0": 36,
          "x1": 36,
          "y0": 1,
          "y1": 1.6666666666666665
         },
         {
          "layer": "below",
          "line": {
           "color": "white",
           "width": 2
          },
          "type": "line",
          "x0": 36,
          "x1": 36,
          "y0": 23.58333,
          "y1": 24.249996666666668
         },
         {
          "layer": "below",
          "line": {
           "color": "white",
           "width": 2
          },
          "type": "line",
          "x0": 36,
          "x1": 36,
          "y0": 29.08333,
          "y1": 29.749996666666668
         },
         {
          "layer": "below",
          "line": {
           "color": "white",
           "width": 2
          },
          "type": "line",
          "x0": 36,
          "x1": 36,
          "y0": 51.63333333333333,
          "y1": 52.3
         },
         {
          "layer": "below",
          "line": {
           "color": "white",
           "width": 2
          },
          "type": "line",
          "x0": 37,
          "x1": 37,
          "y0": 1,
          "y1": 1.6666666666666665
         },
         {
          "layer": "below",
          "line": {
           "color": "white",
           "width": 2
          },
          "type": "line",
          "x0": 37,
          "x1": 37,
          "y0": 23.58333,
          "y1": 24.249996666666668
         },
         {
          "layer": "below",
          "line": {
           "color": "white",
           "width": 2
          },
          "type": "line",
          "x0": 37,
          "x1": 37,
          "y0": 29.08333,
          "y1": 29.749996666666668
         },
         {
          "layer": "below",
          "line": {
           "color": "white",
           "width": 2
          },
          "type": "line",
          "x0": 37,
          "x1": 37,
          "y0": 51.63333333333333,
          "y1": 52.3
         },
         {
          "layer": "below",
          "line": {
           "color": "white",
           "width": 2
          },
          "type": "line",
          "x0": 38,
          "x1": 38,
          "y0": 1,
          "y1": 1.6666666666666665
         },
         {
          "layer": "below",
          "line": {
           "color": "white",
           "width": 2
          },
          "type": "line",
          "x0": 38,
          "x1": 38,
          "y0": 23.58333,
          "y1": 24.249996666666668
         },
         {
          "layer": "below",
          "line": {
           "color": "white",
           "width": 2
          },
          "type": "line",
          "x0": 38,
          "x1": 38,
          "y0": 29.08333,
          "y1": 29.749996666666668
         },
         {
          "layer": "below",
          "line": {
           "color": "white",
           "width": 2
          },
          "type": "line",
          "x0": 38,
          "x1": 38,
          "y0": 51.63333333333333,
          "y1": 52.3
         },
         {
          "layer": "below",
          "line": {
           "color": "white",
           "width": 2
          },
          "type": "line",
          "x0": 39,
          "x1": 39,
          "y0": 1,
          "y1": 1.6666666666666665
         },
         {
          "layer": "below",
          "line": {
           "color": "white",
           "width": 2
          },
          "type": "line",
          "x0": 39,
          "x1": 39,
          "y0": 23.58333,
          "y1": 24.249996666666668
         },
         {
          "layer": "below",
          "line": {
           "color": "white",
           "width": 2
          },
          "type": "line",
          "x0": 39,
          "x1": 39,
          "y0": 29.08333,
          "y1": 29.749996666666668
         },
         {
          "layer": "below",
          "line": {
           "color": "white",
           "width": 2
          },
          "type": "line",
          "x0": 39,
          "x1": 39,
          "y0": 51.63333333333333,
          "y1": 52.3
         },
         {
          "layer": "below",
          "line": {
           "color": "white",
           "width": 2
          },
          "type": "line",
          "x0": 41,
          "x1": 41,
          "y0": 1,
          "y1": 1.6666666666666665
         },
         {
          "layer": "below",
          "line": {
           "color": "white",
           "width": 2
          },
          "type": "line",
          "x0": 41,
          "x1": 41,
          "y0": 23.58333,
          "y1": 24.249996666666668
         },
         {
          "layer": "below",
          "line": {
           "color": "white",
           "width": 2
          },
          "type": "line",
          "x0": 41,
          "x1": 41,
          "y0": 29.08333,
          "y1": 29.749996666666668
         },
         {
          "layer": "below",
          "line": {
           "color": "white",
           "width": 2
          },
          "type": "line",
          "x0": 41,
          "x1": 41,
          "y0": 51.63333333333333,
          "y1": 52.3
         },
         {
          "layer": "below",
          "line": {
           "color": "white",
           "width": 2
          },
          "type": "line",
          "x0": 42,
          "x1": 42,
          "y0": 1,
          "y1": 1.6666666666666665
         },
         {
          "layer": "below",
          "line": {
           "color": "white",
           "width": 2
          },
          "type": "line",
          "x0": 42,
          "x1": 42,
          "y0": 23.58333,
          "y1": 24.249996666666668
         },
         {
          "layer": "below",
          "line": {
           "color": "white",
           "width": 2
          },
          "type": "line",
          "x0": 42,
          "x1": 42,
          "y0": 29.08333,
          "y1": 29.749996666666668
         },
         {
          "layer": "below",
          "line": {
           "color": "white",
           "width": 2
          },
          "type": "line",
          "x0": 42,
          "x1": 42,
          "y0": 51.63333333333333,
          "y1": 52.3
         },
         {
          "layer": "below",
          "line": {
           "color": "white",
           "width": 2
          },
          "type": "line",
          "x0": 43,
          "x1": 43,
          "y0": 1,
          "y1": 1.6666666666666665
         },
         {
          "layer": "below",
          "line": {
           "color": "white",
           "width": 2
          },
          "type": "line",
          "x0": 43,
          "x1": 43,
          "y0": 23.58333,
          "y1": 24.249996666666668
         },
         {
          "layer": "below",
          "line": {
           "color": "white",
           "width": 2
          },
          "type": "line",
          "x0": 43,
          "x1": 43,
          "y0": 29.08333,
          "y1": 29.749996666666668
         },
         {
          "layer": "below",
          "line": {
           "color": "white",
           "width": 2
          },
          "type": "line",
          "x0": 43,
          "x1": 43,
          "y0": 51.63333333333333,
          "y1": 52.3
         },
         {
          "layer": "below",
          "line": {
           "color": "white",
           "width": 2
          },
          "type": "line",
          "x0": 44,
          "x1": 44,
          "y0": 1,
          "y1": 1.6666666666666665
         },
         {
          "layer": "below",
          "line": {
           "color": "white",
           "width": 2
          },
          "type": "line",
          "x0": 44,
          "x1": 44,
          "y0": 23.58333,
          "y1": 24.249996666666668
         },
         {
          "layer": "below",
          "line": {
           "color": "white",
           "width": 2
          },
          "type": "line",
          "x0": 44,
          "x1": 44,
          "y0": 29.08333,
          "y1": 29.749996666666668
         },
         {
          "layer": "below",
          "line": {
           "color": "white",
           "width": 2
          },
          "type": "line",
          "x0": 44,
          "x1": 44,
          "y0": 51.63333333333333,
          "y1": 52.3
         },
         {
          "layer": "below",
          "line": {
           "color": "white",
           "width": 2
          },
          "type": "line",
          "x0": 45,
          "x1": 45,
          "y0": 1,
          "y1": 1.6666666666666665
         },
         {
          "layer": "below",
          "line": {
           "color": "white",
           "width": 2
          },
          "type": "line",
          "x0": 45,
          "x1": 45,
          "y0": 23.58333,
          "y1": 24.249996666666668
         },
         {
          "layer": "below",
          "line": {
           "color": "white",
           "width": 2
          },
          "type": "line",
          "x0": 45,
          "x1": 45,
          "y0": 29.08333,
          "y1": 29.749996666666668
         },
         {
          "layer": "below",
          "line": {
           "color": "white",
           "width": 2
          },
          "type": "line",
          "x0": 45,
          "x1": 45,
          "y0": 51.63333333333333,
          "y1": 52.3
         },
         {
          "layer": "below",
          "line": {
           "color": "white",
           "width": 2
          },
          "type": "line",
          "x0": 46,
          "x1": 46,
          "y0": 1,
          "y1": 1.6666666666666665
         },
         {
          "layer": "below",
          "line": {
           "color": "white",
           "width": 2
          },
          "type": "line",
          "x0": 46,
          "x1": 46,
          "y0": 23.58333,
          "y1": 24.249996666666668
         },
         {
          "layer": "below",
          "line": {
           "color": "white",
           "width": 2
          },
          "type": "line",
          "x0": 46,
          "x1": 46,
          "y0": 29.08333,
          "y1": 29.749996666666668
         },
         {
          "layer": "below",
          "line": {
           "color": "white",
           "width": 2
          },
          "type": "line",
          "x0": 46,
          "x1": 46,
          "y0": 51.63333333333333,
          "y1": 52.3
         },
         {
          "layer": "below",
          "line": {
           "color": "white",
           "width": 2
          },
          "type": "line",
          "x0": 47,
          "x1": 47,
          "y0": 1,
          "y1": 1.6666666666666665
         },
         {
          "layer": "below",
          "line": {
           "color": "white",
           "width": 2
          },
          "type": "line",
          "x0": 47,
          "x1": 47,
          "y0": 23.58333,
          "y1": 24.249996666666668
         },
         {
          "layer": "below",
          "line": {
           "color": "white",
           "width": 2
          },
          "type": "line",
          "x0": 47,
          "x1": 47,
          "y0": 29.08333,
          "y1": 29.749996666666668
         },
         {
          "layer": "below",
          "line": {
           "color": "white",
           "width": 2
          },
          "type": "line",
          "x0": 47,
          "x1": 47,
          "y0": 51.63333333333333,
          "y1": 52.3
         },
         {
          "layer": "below",
          "line": {
           "color": "white",
           "width": 2
          },
          "type": "line",
          "x0": 48,
          "x1": 48,
          "y0": 1,
          "y1": 1.6666666666666665
         },
         {
          "layer": "below",
          "line": {
           "color": "white",
           "width": 2
          },
          "type": "line",
          "x0": 48,
          "x1": 48,
          "y0": 23.58333,
          "y1": 24.249996666666668
         },
         {
          "layer": "below",
          "line": {
           "color": "white",
           "width": 2
          },
          "type": "line",
          "x0": 48,
          "x1": 48,
          "y0": 29.08333,
          "y1": 29.749996666666668
         },
         {
          "layer": "below",
          "line": {
           "color": "white",
           "width": 2
          },
          "type": "line",
          "x0": 48,
          "x1": 48,
          "y0": 51.63333333333333,
          "y1": 52.3
         },
         {
          "layer": "below",
          "line": {
           "color": "white",
           "width": 2
          },
          "type": "line",
          "x0": 49,
          "x1": 49,
          "y0": 1,
          "y1": 1.6666666666666665
         },
         {
          "layer": "below",
          "line": {
           "color": "white",
           "width": 2
          },
          "type": "line",
          "x0": 49,
          "x1": 49,
          "y0": 23.58333,
          "y1": 24.249996666666668
         },
         {
          "layer": "below",
          "line": {
           "color": "white",
           "width": 2
          },
          "type": "line",
          "x0": 49,
          "x1": 49,
          "y0": 29.08333,
          "y1": 29.749996666666668
         },
         {
          "layer": "below",
          "line": {
           "color": "white",
           "width": 2
          },
          "type": "line",
          "x0": 49,
          "x1": 49,
          "y0": 51.63333333333333,
          "y1": 52.3
         },
         {
          "layer": "below",
          "line": {
           "color": "white",
           "width": 2
          },
          "type": "line",
          "x0": 51,
          "x1": 51,
          "y0": 1,
          "y1": 1.6666666666666665
         },
         {
          "layer": "below",
          "line": {
           "color": "white",
           "width": 2
          },
          "type": "line",
          "x0": 51,
          "x1": 51,
          "y0": 23.58333,
          "y1": 24.249996666666668
         },
         {
          "layer": "below",
          "line": {
           "color": "white",
           "width": 2
          },
          "type": "line",
          "x0": 51,
          "x1": 51,
          "y0": 29.08333,
          "y1": 29.749996666666668
         },
         {
          "layer": "below",
          "line": {
           "color": "white",
           "width": 2
          },
          "type": "line",
          "x0": 51,
          "x1": 51,
          "y0": 51.63333333333333,
          "y1": 52.3
         },
         {
          "layer": "below",
          "line": {
           "color": "white",
           "width": 2
          },
          "type": "line",
          "x0": 52,
          "x1": 52,
          "y0": 1,
          "y1": 1.6666666666666665
         },
         {
          "layer": "below",
          "line": {
           "color": "white",
           "width": 2
          },
          "type": "line",
          "x0": 52,
          "x1": 52,
          "y0": 23.58333,
          "y1": 24.249996666666668
         },
         {
          "layer": "below",
          "line": {
           "color": "white",
           "width": 2
          },
          "type": "line",
          "x0": 52,
          "x1": 52,
          "y0": 29.08333,
          "y1": 29.749996666666668
         },
         {
          "layer": "below",
          "line": {
           "color": "white",
           "width": 2
          },
          "type": "line",
          "x0": 52,
          "x1": 52,
          "y0": 51.63333333333333,
          "y1": 52.3
         },
         {
          "layer": "below",
          "line": {
           "color": "white",
           "width": 2
          },
          "type": "line",
          "x0": 53,
          "x1": 53,
          "y0": 1,
          "y1": 1.6666666666666665
         },
         {
          "layer": "below",
          "line": {
           "color": "white",
           "width": 2
          },
          "type": "line",
          "x0": 53,
          "x1": 53,
          "y0": 23.58333,
          "y1": 24.249996666666668
         },
         {
          "layer": "below",
          "line": {
           "color": "white",
           "width": 2
          },
          "type": "line",
          "x0": 53,
          "x1": 53,
          "y0": 29.08333,
          "y1": 29.749996666666668
         },
         {
          "layer": "below",
          "line": {
           "color": "white",
           "width": 2
          },
          "type": "line",
          "x0": 53,
          "x1": 53,
          "y0": 51.63333333333333,
          "y1": 52.3
         },
         {
          "layer": "below",
          "line": {
           "color": "white",
           "width": 2
          },
          "type": "line",
          "x0": 54,
          "x1": 54,
          "y0": 1,
          "y1": 1.6666666666666665
         },
         {
          "layer": "below",
          "line": {
           "color": "white",
           "width": 2
          },
          "type": "line",
          "x0": 54,
          "x1": 54,
          "y0": 23.58333,
          "y1": 24.249996666666668
         },
         {
          "layer": "below",
          "line": {
           "color": "white",
           "width": 2
          },
          "type": "line",
          "x0": 54,
          "x1": 54,
          "y0": 29.08333,
          "y1": 29.749996666666668
         },
         {
          "layer": "below",
          "line": {
           "color": "white",
           "width": 2
          },
          "type": "line",
          "x0": 54,
          "x1": 54,
          "y0": 51.63333333333333,
          "y1": 52.3
         },
         {
          "layer": "below",
          "line": {
           "color": "white",
           "width": 2
          },
          "type": "line",
          "x0": 55,
          "x1": 55,
          "y0": 1,
          "y1": 1.6666666666666665
         },
         {
          "layer": "below",
          "line": {
           "color": "white",
           "width": 2
          },
          "type": "line",
          "x0": 55,
          "x1": 55,
          "y0": 23.58333,
          "y1": 24.249996666666668
         },
         {
          "layer": "below",
          "line": {
           "color": "white",
           "width": 2
          },
          "type": "line",
          "x0": 55,
          "x1": 55,
          "y0": 29.08333,
          "y1": 29.749996666666668
         },
         {
          "layer": "below",
          "line": {
           "color": "white",
           "width": 2
          },
          "type": "line",
          "x0": 55,
          "x1": 55,
          "y0": 51.63333333333333,
          "y1": 52.3
         },
         {
          "layer": "below",
          "line": {
           "color": "white",
           "width": 2
          },
          "type": "line",
          "x0": 56,
          "x1": 56,
          "y0": 1,
          "y1": 1.6666666666666665
         },
         {
          "layer": "below",
          "line": {
           "color": "white",
           "width": 2
          },
          "type": "line",
          "x0": 56,
          "x1": 56,
          "y0": 23.58333,
          "y1": 24.249996666666668
         },
         {
          "layer": "below",
          "line": {
           "color": "white",
           "width": 2
          },
          "type": "line",
          "x0": 56,
          "x1": 56,
          "y0": 29.08333,
          "y1": 29.749996666666668
         },
         {
          "layer": "below",
          "line": {
           "color": "white",
           "width": 2
          },
          "type": "line",
          "x0": 56,
          "x1": 56,
          "y0": 51.63333333333333,
          "y1": 52.3
         },
         {
          "layer": "below",
          "line": {
           "color": "white",
           "width": 2
          },
          "type": "line",
          "x0": 57,
          "x1": 57,
          "y0": 1,
          "y1": 1.6666666666666665
         },
         {
          "layer": "below",
          "line": {
           "color": "white",
           "width": 2
          },
          "type": "line",
          "x0": 57,
          "x1": 57,
          "y0": 23.58333,
          "y1": 24.249996666666668
         },
         {
          "layer": "below",
          "line": {
           "color": "white",
           "width": 2
          },
          "type": "line",
          "x0": 57,
          "x1": 57,
          "y0": 29.08333,
          "y1": 29.749996666666668
         },
         {
          "layer": "below",
          "line": {
           "color": "white",
           "width": 2
          },
          "type": "line",
          "x0": 57,
          "x1": 57,
          "y0": 51.63333333333333,
          "y1": 52.3
         },
         {
          "layer": "below",
          "line": {
           "color": "white",
           "width": 2
          },
          "type": "line",
          "x0": 58,
          "x1": 58,
          "y0": 1,
          "y1": 1.6666666666666665
         },
         {
          "layer": "below",
          "line": {
           "color": "white",
           "width": 2
          },
          "type": "line",
          "x0": 58,
          "x1": 58,
          "y0": 23.58333,
          "y1": 24.249996666666668
         },
         {
          "layer": "below",
          "line": {
           "color": "white",
           "width": 2
          },
          "type": "line",
          "x0": 58,
          "x1": 58,
          "y0": 29.08333,
          "y1": 29.749996666666668
         },
         {
          "layer": "below",
          "line": {
           "color": "white",
           "width": 2
          },
          "type": "line",
          "x0": 58,
          "x1": 58,
          "y0": 51.63333333333333,
          "y1": 52.3
         },
         {
          "layer": "below",
          "line": {
           "color": "white",
           "width": 2
          },
          "type": "line",
          "x0": 59,
          "x1": 59,
          "y0": 1,
          "y1": 1.6666666666666665
         },
         {
          "layer": "below",
          "line": {
           "color": "white",
           "width": 2
          },
          "type": "line",
          "x0": 59,
          "x1": 59,
          "y0": 23.58333,
          "y1": 24.249996666666668
         },
         {
          "layer": "below",
          "line": {
           "color": "white",
           "width": 2
          },
          "type": "line",
          "x0": 59,
          "x1": 59,
          "y0": 29.08333,
          "y1": 29.749996666666668
         },
         {
          "layer": "below",
          "line": {
           "color": "white",
           "width": 2
          },
          "type": "line",
          "x0": 59,
          "x1": 59,
          "y0": 51.63333333333333,
          "y1": 52.3
         },
         {
          "layer": "below",
          "line": {
           "color": "white",
           "width": 2
          },
          "type": "line",
          "x0": 61,
          "x1": 61,
          "y0": 1,
          "y1": 1.6666666666666665
         },
         {
          "layer": "below",
          "line": {
           "color": "white",
           "width": 2
          },
          "type": "line",
          "x0": 61,
          "x1": 61,
          "y0": 23.58333,
          "y1": 24.249996666666668
         },
         {
          "layer": "below",
          "line": {
           "color": "white",
           "width": 2
          },
          "type": "line",
          "x0": 61,
          "x1": 61,
          "y0": 29.08333,
          "y1": 29.749996666666668
         },
         {
          "layer": "below",
          "line": {
           "color": "white",
           "width": 2
          },
          "type": "line",
          "x0": 61,
          "x1": 61,
          "y0": 51.63333333333333,
          "y1": 52.3
         },
         {
          "layer": "below",
          "line": {
           "color": "white",
           "width": 2
          },
          "type": "line",
          "x0": 62,
          "x1": 62,
          "y0": 1,
          "y1": 1.6666666666666665
         },
         {
          "layer": "below",
          "line": {
           "color": "white",
           "width": 2
          },
          "type": "line",
          "x0": 62,
          "x1": 62,
          "y0": 23.58333,
          "y1": 24.249996666666668
         },
         {
          "layer": "below",
          "line": {
           "color": "white",
           "width": 2
          },
          "type": "line",
          "x0": 62,
          "x1": 62,
          "y0": 29.08333,
          "y1": 29.749996666666668
         },
         {
          "layer": "below",
          "line": {
           "color": "white",
           "width": 2
          },
          "type": "line",
          "x0": 62,
          "x1": 62,
          "y0": 51.63333333333333,
          "y1": 52.3
         },
         {
          "layer": "below",
          "line": {
           "color": "white",
           "width": 2
          },
          "type": "line",
          "x0": 63,
          "x1": 63,
          "y0": 1,
          "y1": 1.6666666666666665
         },
         {
          "layer": "below",
          "line": {
           "color": "white",
           "width": 2
          },
          "type": "line",
          "x0": 63,
          "x1": 63,
          "y0": 23.58333,
          "y1": 24.249996666666668
         },
         {
          "layer": "below",
          "line": {
           "color": "white",
           "width": 2
          },
          "type": "line",
          "x0": 63,
          "x1": 63,
          "y0": 29.08333,
          "y1": 29.749996666666668
         },
         {
          "layer": "below",
          "line": {
           "color": "white",
           "width": 2
          },
          "type": "line",
          "x0": 63,
          "x1": 63,
          "y0": 51.63333333333333,
          "y1": 52.3
         },
         {
          "layer": "below",
          "line": {
           "color": "white",
           "width": 2
          },
          "type": "line",
          "x0": 64,
          "x1": 64,
          "y0": 1,
          "y1": 1.6666666666666665
         },
         {
          "layer": "below",
          "line": {
           "color": "white",
           "width": 2
          },
          "type": "line",
          "x0": 64,
          "x1": 64,
          "y0": 23.58333,
          "y1": 24.249996666666668
         },
         {
          "layer": "below",
          "line": {
           "color": "white",
           "width": 2
          },
          "type": "line",
          "x0": 64,
          "x1": 64,
          "y0": 29.08333,
          "y1": 29.749996666666668
         },
         {
          "layer": "below",
          "line": {
           "color": "white",
           "width": 2
          },
          "type": "line",
          "x0": 64,
          "x1": 64,
          "y0": 51.63333333333333,
          "y1": 52.3
         },
         {
          "layer": "below",
          "line": {
           "color": "white",
           "width": 2
          },
          "type": "line",
          "x0": 65,
          "x1": 65,
          "y0": 1,
          "y1": 1.6666666666666665
         },
         {
          "layer": "below",
          "line": {
           "color": "white",
           "width": 2
          },
          "type": "line",
          "x0": 65,
          "x1": 65,
          "y0": 23.58333,
          "y1": 24.249996666666668
         },
         {
          "layer": "below",
          "line": {
           "color": "white",
           "width": 2
          },
          "type": "line",
          "x0": 65,
          "x1": 65,
          "y0": 29.08333,
          "y1": 29.749996666666668
         },
         {
          "layer": "below",
          "line": {
           "color": "white",
           "width": 2
          },
          "type": "line",
          "x0": 65,
          "x1": 65,
          "y0": 51.63333333333333,
          "y1": 52.3
         },
         {
          "layer": "below",
          "line": {
           "color": "white",
           "width": 2
          },
          "type": "line",
          "x0": 66,
          "x1": 66,
          "y0": 1,
          "y1": 1.6666666666666665
         },
         {
          "layer": "below",
          "line": {
           "color": "white",
           "width": 2
          },
          "type": "line",
          "x0": 66,
          "x1": 66,
          "y0": 23.58333,
          "y1": 24.249996666666668
         },
         {
          "layer": "below",
          "line": {
           "color": "white",
           "width": 2
          },
          "type": "line",
          "x0": 66,
          "x1": 66,
          "y0": 29.08333,
          "y1": 29.749996666666668
         },
         {
          "layer": "below",
          "line": {
           "color": "white",
           "width": 2
          },
          "type": "line",
          "x0": 66,
          "x1": 66,
          "y0": 51.63333333333333,
          "y1": 52.3
         },
         {
          "layer": "below",
          "line": {
           "color": "white",
           "width": 2
          },
          "type": "line",
          "x0": 67,
          "x1": 67,
          "y0": 1,
          "y1": 1.6666666666666665
         },
         {
          "layer": "below",
          "line": {
           "color": "white",
           "width": 2
          },
          "type": "line",
          "x0": 67,
          "x1": 67,
          "y0": 23.58333,
          "y1": 24.249996666666668
         },
         {
          "layer": "below",
          "line": {
           "color": "white",
           "width": 2
          },
          "type": "line",
          "x0": 67,
          "x1": 67,
          "y0": 29.08333,
          "y1": 29.749996666666668
         },
         {
          "layer": "below",
          "line": {
           "color": "white",
           "width": 2
          },
          "type": "line",
          "x0": 67,
          "x1": 67,
          "y0": 51.63333333333333,
          "y1": 52.3
         },
         {
          "layer": "below",
          "line": {
           "color": "white",
           "width": 2
          },
          "type": "line",
          "x0": 68,
          "x1": 68,
          "y0": 1,
          "y1": 1.6666666666666665
         },
         {
          "layer": "below",
          "line": {
           "color": "white",
           "width": 2
          },
          "type": "line",
          "x0": 68,
          "x1": 68,
          "y0": 23.58333,
          "y1": 24.249996666666668
         },
         {
          "layer": "below",
          "line": {
           "color": "white",
           "width": 2
          },
          "type": "line",
          "x0": 68,
          "x1": 68,
          "y0": 29.08333,
          "y1": 29.749996666666668
         },
         {
          "layer": "below",
          "line": {
           "color": "white",
           "width": 2
          },
          "type": "line",
          "x0": 68,
          "x1": 68,
          "y0": 51.63333333333333,
          "y1": 52.3
         },
         {
          "layer": "below",
          "line": {
           "color": "white",
           "width": 2
          },
          "type": "line",
          "x0": 69,
          "x1": 69,
          "y0": 1,
          "y1": 1.6666666666666665
         },
         {
          "layer": "below",
          "line": {
           "color": "white",
           "width": 2
          },
          "type": "line",
          "x0": 69,
          "x1": 69,
          "y0": 23.58333,
          "y1": 24.249996666666668
         },
         {
          "layer": "below",
          "line": {
           "color": "white",
           "width": 2
          },
          "type": "line",
          "x0": 69,
          "x1": 69,
          "y0": 29.08333,
          "y1": 29.749996666666668
         },
         {
          "layer": "below",
          "line": {
           "color": "white",
           "width": 2
          },
          "type": "line",
          "x0": 69,
          "x1": 69,
          "y0": 51.63333333333333,
          "y1": 52.3
         },
         {
          "layer": "below",
          "line": {
           "color": "white",
           "width": 2
          },
          "type": "line",
          "x0": 71,
          "x1": 71,
          "y0": 1,
          "y1": 1.6666666666666665
         },
         {
          "layer": "below",
          "line": {
           "color": "white",
           "width": 2
          },
          "type": "line",
          "x0": 71,
          "x1": 71,
          "y0": 23.58333,
          "y1": 24.249996666666668
         },
         {
          "layer": "below",
          "line": {
           "color": "white",
           "width": 2
          },
          "type": "line",
          "x0": 71,
          "x1": 71,
          "y0": 29.08333,
          "y1": 29.749996666666668
         },
         {
          "layer": "below",
          "line": {
           "color": "white",
           "width": 2
          },
          "type": "line",
          "x0": 71,
          "x1": 71,
          "y0": 51.63333333333333,
          "y1": 52.3
         },
         {
          "layer": "below",
          "line": {
           "color": "white",
           "width": 2
          },
          "type": "line",
          "x0": 72,
          "x1": 72,
          "y0": 1,
          "y1": 1.6666666666666665
         },
         {
          "layer": "below",
          "line": {
           "color": "white",
           "width": 2
          },
          "type": "line",
          "x0": 72,
          "x1": 72,
          "y0": 23.58333,
          "y1": 24.249996666666668
         },
         {
          "layer": "below",
          "line": {
           "color": "white",
           "width": 2
          },
          "type": "line",
          "x0": 72,
          "x1": 72,
          "y0": 29.08333,
          "y1": 29.749996666666668
         },
         {
          "layer": "below",
          "line": {
           "color": "white",
           "width": 2
          },
          "type": "line",
          "x0": 72,
          "x1": 72,
          "y0": 51.63333333333333,
          "y1": 52.3
         },
         {
          "layer": "below",
          "line": {
           "color": "white",
           "width": 2
          },
          "type": "line",
          "x0": 73,
          "x1": 73,
          "y0": 1,
          "y1": 1.6666666666666665
         },
         {
          "layer": "below",
          "line": {
           "color": "white",
           "width": 2
          },
          "type": "line",
          "x0": 73,
          "x1": 73,
          "y0": 23.58333,
          "y1": 24.249996666666668
         },
         {
          "layer": "below",
          "line": {
           "color": "white",
           "width": 2
          },
          "type": "line",
          "x0": 73,
          "x1": 73,
          "y0": 29.08333,
          "y1": 29.749996666666668
         },
         {
          "layer": "below",
          "line": {
           "color": "white",
           "width": 2
          },
          "type": "line",
          "x0": 73,
          "x1": 73,
          "y0": 51.63333333333333,
          "y1": 52.3
         },
         {
          "layer": "below",
          "line": {
           "color": "white",
           "width": 2
          },
          "type": "line",
          "x0": 74,
          "x1": 74,
          "y0": 1,
          "y1": 1.6666666666666665
         },
         {
          "layer": "below",
          "line": {
           "color": "white",
           "width": 2
          },
          "type": "line",
          "x0": 74,
          "x1": 74,
          "y0": 23.58333,
          "y1": 24.249996666666668
         },
         {
          "layer": "below",
          "line": {
           "color": "white",
           "width": 2
          },
          "type": "line",
          "x0": 74,
          "x1": 74,
          "y0": 29.08333,
          "y1": 29.749996666666668
         },
         {
          "layer": "below",
          "line": {
           "color": "white",
           "width": 2
          },
          "type": "line",
          "x0": 74,
          "x1": 74,
          "y0": 51.63333333333333,
          "y1": 52.3
         },
         {
          "layer": "below",
          "line": {
           "color": "white",
           "width": 2
          },
          "type": "line",
          "x0": 75,
          "x1": 75,
          "y0": 1,
          "y1": 1.6666666666666665
         },
         {
          "layer": "below",
          "line": {
           "color": "white",
           "width": 2
          },
          "type": "line",
          "x0": 75,
          "x1": 75,
          "y0": 23.58333,
          "y1": 24.249996666666668
         },
         {
          "layer": "below",
          "line": {
           "color": "white",
           "width": 2
          },
          "type": "line",
          "x0": 75,
          "x1": 75,
          "y0": 29.08333,
          "y1": 29.749996666666668
         },
         {
          "layer": "below",
          "line": {
           "color": "white",
           "width": 2
          },
          "type": "line",
          "x0": 75,
          "x1": 75,
          "y0": 51.63333333333333,
          "y1": 52.3
         },
         {
          "layer": "below",
          "line": {
           "color": "white",
           "width": 2
          },
          "type": "line",
          "x0": 76,
          "x1": 76,
          "y0": 1,
          "y1": 1.6666666666666665
         },
         {
          "layer": "below",
          "line": {
           "color": "white",
           "width": 2
          },
          "type": "line",
          "x0": 76,
          "x1": 76,
          "y0": 23.58333,
          "y1": 24.249996666666668
         },
         {
          "layer": "below",
          "line": {
           "color": "white",
           "width": 2
          },
          "type": "line",
          "x0": 76,
          "x1": 76,
          "y0": 29.08333,
          "y1": 29.749996666666668
         },
         {
          "layer": "below",
          "line": {
           "color": "white",
           "width": 2
          },
          "type": "line",
          "x0": 76,
          "x1": 76,
          "y0": 51.63333333333333,
          "y1": 52.3
         },
         {
          "layer": "below",
          "line": {
           "color": "white",
           "width": 2
          },
          "type": "line",
          "x0": 77,
          "x1": 77,
          "y0": 1,
          "y1": 1.6666666666666665
         },
         {
          "layer": "below",
          "line": {
           "color": "white",
           "width": 2
          },
          "type": "line",
          "x0": 77,
          "x1": 77,
          "y0": 23.58333,
          "y1": 24.249996666666668
         },
         {
          "layer": "below",
          "line": {
           "color": "white",
           "width": 2
          },
          "type": "line",
          "x0": 77,
          "x1": 77,
          "y0": 29.08333,
          "y1": 29.749996666666668
         },
         {
          "layer": "below",
          "line": {
           "color": "white",
           "width": 2
          },
          "type": "line",
          "x0": 77,
          "x1": 77,
          "y0": 51.63333333333333,
          "y1": 52.3
         },
         {
          "layer": "below",
          "line": {
           "color": "white",
           "width": 2
          },
          "type": "line",
          "x0": 78,
          "x1": 78,
          "y0": 1,
          "y1": 1.6666666666666665
         },
         {
          "layer": "below",
          "line": {
           "color": "white",
           "width": 2
          },
          "type": "line",
          "x0": 78,
          "x1": 78,
          "y0": 23.58333,
          "y1": 24.249996666666668
         },
         {
          "layer": "below",
          "line": {
           "color": "white",
           "width": 2
          },
          "type": "line",
          "x0": 78,
          "x1": 78,
          "y0": 29.08333,
          "y1": 29.749996666666668
         },
         {
          "layer": "below",
          "line": {
           "color": "white",
           "width": 2
          },
          "type": "line",
          "x0": 78,
          "x1": 78,
          "y0": 51.63333333333333,
          "y1": 52.3
         },
         {
          "layer": "below",
          "line": {
           "color": "white",
           "width": 2
          },
          "type": "line",
          "x0": 79,
          "x1": 79,
          "y0": 1,
          "y1": 1.6666666666666665
         },
         {
          "layer": "below",
          "line": {
           "color": "white",
           "width": 2
          },
          "type": "line",
          "x0": 79,
          "x1": 79,
          "y0": 23.58333,
          "y1": 24.249996666666668
         },
         {
          "layer": "below",
          "line": {
           "color": "white",
           "width": 2
          },
          "type": "line",
          "x0": 79,
          "x1": 79,
          "y0": 29.08333,
          "y1": 29.749996666666668
         },
         {
          "layer": "below",
          "line": {
           "color": "white",
           "width": 2
          },
          "type": "line",
          "x0": 79,
          "x1": 79,
          "y0": 51.63333333333333,
          "y1": 52.3
         },
         {
          "layer": "below",
          "line": {
           "color": "white",
           "width": 2
          },
          "type": "line",
          "x0": 81,
          "x1": 81,
          "y0": 1,
          "y1": 1.6666666666666665
         },
         {
          "layer": "below",
          "line": {
           "color": "white",
           "width": 2
          },
          "type": "line",
          "x0": 81,
          "x1": 81,
          "y0": 23.58333,
          "y1": 24.249996666666668
         },
         {
          "layer": "below",
          "line": {
           "color": "white",
           "width": 2
          },
          "type": "line",
          "x0": 81,
          "x1": 81,
          "y0": 29.08333,
          "y1": 29.749996666666668
         },
         {
          "layer": "below",
          "line": {
           "color": "white",
           "width": 2
          },
          "type": "line",
          "x0": 81,
          "x1": 81,
          "y0": 51.63333333333333,
          "y1": 52.3
         },
         {
          "layer": "below",
          "line": {
           "color": "white",
           "width": 2
          },
          "type": "line",
          "x0": 82,
          "x1": 82,
          "y0": 1,
          "y1": 1.6666666666666665
         },
         {
          "layer": "below",
          "line": {
           "color": "white",
           "width": 2
          },
          "type": "line",
          "x0": 82,
          "x1": 82,
          "y0": 23.58333,
          "y1": 24.249996666666668
         },
         {
          "layer": "below",
          "line": {
           "color": "white",
           "width": 2
          },
          "type": "line",
          "x0": 82,
          "x1": 82,
          "y0": 29.08333,
          "y1": 29.749996666666668
         },
         {
          "layer": "below",
          "line": {
           "color": "white",
           "width": 2
          },
          "type": "line",
          "x0": 82,
          "x1": 82,
          "y0": 51.63333333333333,
          "y1": 52.3
         },
         {
          "layer": "below",
          "line": {
           "color": "white",
           "width": 2
          },
          "type": "line",
          "x0": 83,
          "x1": 83,
          "y0": 1,
          "y1": 1.6666666666666665
         },
         {
          "layer": "below",
          "line": {
           "color": "white",
           "width": 2
          },
          "type": "line",
          "x0": 83,
          "x1": 83,
          "y0": 23.58333,
          "y1": 24.249996666666668
         },
         {
          "layer": "below",
          "line": {
           "color": "white",
           "width": 2
          },
          "type": "line",
          "x0": 83,
          "x1": 83,
          "y0": 29.08333,
          "y1": 29.749996666666668
         },
         {
          "layer": "below",
          "line": {
           "color": "white",
           "width": 2
          },
          "type": "line",
          "x0": 83,
          "x1": 83,
          "y0": 51.63333333333333,
          "y1": 52.3
         },
         {
          "layer": "below",
          "line": {
           "color": "white",
           "width": 2
          },
          "type": "line",
          "x0": 84,
          "x1": 84,
          "y0": 1,
          "y1": 1.6666666666666665
         },
         {
          "layer": "below",
          "line": {
           "color": "white",
           "width": 2
          },
          "type": "line",
          "x0": 84,
          "x1": 84,
          "y0": 23.58333,
          "y1": 24.249996666666668
         },
         {
          "layer": "below",
          "line": {
           "color": "white",
           "width": 2
          },
          "type": "line",
          "x0": 84,
          "x1": 84,
          "y0": 29.08333,
          "y1": 29.749996666666668
         },
         {
          "layer": "below",
          "line": {
           "color": "white",
           "width": 2
          },
          "type": "line",
          "x0": 84,
          "x1": 84,
          "y0": 51.63333333333333,
          "y1": 52.3
         },
         {
          "layer": "below",
          "line": {
           "color": "white",
           "width": 2
          },
          "type": "line",
          "x0": 85,
          "x1": 85,
          "y0": 1,
          "y1": 1.6666666666666665
         },
         {
          "layer": "below",
          "line": {
           "color": "white",
           "width": 2
          },
          "type": "line",
          "x0": 85,
          "x1": 85,
          "y0": 23.58333,
          "y1": 24.249996666666668
         },
         {
          "layer": "below",
          "line": {
           "color": "white",
           "width": 2
          },
          "type": "line",
          "x0": 85,
          "x1": 85,
          "y0": 29.08333,
          "y1": 29.749996666666668
         },
         {
          "layer": "below",
          "line": {
           "color": "white",
           "width": 2
          },
          "type": "line",
          "x0": 85,
          "x1": 85,
          "y0": 51.63333333333333,
          "y1": 52.3
         },
         {
          "layer": "below",
          "line": {
           "color": "white",
           "width": 2
          },
          "type": "line",
          "x0": 86,
          "x1": 86,
          "y0": 1,
          "y1": 1.6666666666666665
         },
         {
          "layer": "below",
          "line": {
           "color": "white",
           "width": 2
          },
          "type": "line",
          "x0": 86,
          "x1": 86,
          "y0": 23.58333,
          "y1": 24.249996666666668
         },
         {
          "layer": "below",
          "line": {
           "color": "white",
           "width": 2
          },
          "type": "line",
          "x0": 86,
          "x1": 86,
          "y0": 29.08333,
          "y1": 29.749996666666668
         },
         {
          "layer": "below",
          "line": {
           "color": "white",
           "width": 2
          },
          "type": "line",
          "x0": 86,
          "x1": 86,
          "y0": 51.63333333333333,
          "y1": 52.3
         },
         {
          "layer": "below",
          "line": {
           "color": "white",
           "width": 2
          },
          "type": "line",
          "x0": 87,
          "x1": 87,
          "y0": 1,
          "y1": 1.6666666666666665
         },
         {
          "layer": "below",
          "line": {
           "color": "white",
           "width": 2
          },
          "type": "line",
          "x0": 87,
          "x1": 87,
          "y0": 23.58333,
          "y1": 24.249996666666668
         },
         {
          "layer": "below",
          "line": {
           "color": "white",
           "width": 2
          },
          "type": "line",
          "x0": 87,
          "x1": 87,
          "y0": 29.08333,
          "y1": 29.749996666666668
         },
         {
          "layer": "below",
          "line": {
           "color": "white",
           "width": 2
          },
          "type": "line",
          "x0": 87,
          "x1": 87,
          "y0": 51.63333333333333,
          "y1": 52.3
         },
         {
          "layer": "below",
          "line": {
           "color": "white",
           "width": 2
          },
          "type": "line",
          "x0": 88,
          "x1": 88,
          "y0": 1,
          "y1": 1.6666666666666665
         },
         {
          "layer": "below",
          "line": {
           "color": "white",
           "width": 2
          },
          "type": "line",
          "x0": 88,
          "x1": 88,
          "y0": 23.58333,
          "y1": 24.249996666666668
         },
         {
          "layer": "below",
          "line": {
           "color": "white",
           "width": 2
          },
          "type": "line",
          "x0": 88,
          "x1": 88,
          "y0": 29.08333,
          "y1": 29.749996666666668
         },
         {
          "layer": "below",
          "line": {
           "color": "white",
           "width": 2
          },
          "type": "line",
          "x0": 88,
          "x1": 88,
          "y0": 51.63333333333333,
          "y1": 52.3
         },
         {
          "layer": "below",
          "line": {
           "color": "white",
           "width": 2
          },
          "type": "line",
          "x0": 89,
          "x1": 89,
          "y0": 1,
          "y1": 1.6666666666666665
         },
         {
          "layer": "below",
          "line": {
           "color": "white",
           "width": 2
          },
          "type": "line",
          "x0": 89,
          "x1": 89,
          "y0": 23.58333,
          "y1": 24.249996666666668
         },
         {
          "layer": "below",
          "line": {
           "color": "white",
           "width": 2
          },
          "type": "line",
          "x0": 89,
          "x1": 89,
          "y0": 29.08333,
          "y1": 29.749996666666668
         },
         {
          "layer": "below",
          "line": {
           "color": "white",
           "width": 2
          },
          "type": "line",
          "x0": 89,
          "x1": 89,
          "y0": 51.63333333333333,
          "y1": 52.3
         },
         {
          "layer": "below",
          "line": {
           "color": "white",
           "width": 2
          },
          "type": "line",
          "x0": 91,
          "x1": 91,
          "y0": 1,
          "y1": 1.6666666666666665
         },
         {
          "layer": "below",
          "line": {
           "color": "white",
           "width": 2
          },
          "type": "line",
          "x0": 91,
          "x1": 91,
          "y0": 23.58333,
          "y1": 24.249996666666668
         },
         {
          "layer": "below",
          "line": {
           "color": "white",
           "width": 2
          },
          "type": "line",
          "x0": 91,
          "x1": 91,
          "y0": 29.08333,
          "y1": 29.749996666666668
         },
         {
          "layer": "below",
          "line": {
           "color": "white",
           "width": 2
          },
          "type": "line",
          "x0": 91,
          "x1": 91,
          "y0": 51.63333333333333,
          "y1": 52.3
         },
         {
          "layer": "below",
          "line": {
           "color": "white",
           "width": 2
          },
          "type": "line",
          "x0": 92,
          "x1": 92,
          "y0": 1,
          "y1": 1.6666666666666665
         },
         {
          "layer": "below",
          "line": {
           "color": "white",
           "width": 2
          },
          "type": "line",
          "x0": 92,
          "x1": 92,
          "y0": 23.58333,
          "y1": 24.249996666666668
         },
         {
          "layer": "below",
          "line": {
           "color": "white",
           "width": 2
          },
          "type": "line",
          "x0": 92,
          "x1": 92,
          "y0": 29.08333,
          "y1": 29.749996666666668
         },
         {
          "layer": "below",
          "line": {
           "color": "white",
           "width": 2
          },
          "type": "line",
          "x0": 92,
          "x1": 92,
          "y0": 51.63333333333333,
          "y1": 52.3
         },
         {
          "layer": "below",
          "line": {
           "color": "white",
           "width": 2
          },
          "type": "line",
          "x0": 93,
          "x1": 93,
          "y0": 1,
          "y1": 1.6666666666666665
         },
         {
          "layer": "below",
          "line": {
           "color": "white",
           "width": 2
          },
          "type": "line",
          "x0": 93,
          "x1": 93,
          "y0": 23.58333,
          "y1": 24.249996666666668
         },
         {
          "layer": "below",
          "line": {
           "color": "white",
           "width": 2
          },
          "type": "line",
          "x0": 93,
          "x1": 93,
          "y0": 29.08333,
          "y1": 29.749996666666668
         },
         {
          "layer": "below",
          "line": {
           "color": "white",
           "width": 2
          },
          "type": "line",
          "x0": 93,
          "x1": 93,
          "y0": 51.63333333333333,
          "y1": 52.3
         },
         {
          "layer": "below",
          "line": {
           "color": "white",
           "width": 2
          },
          "type": "line",
          "x0": 94,
          "x1": 94,
          "y0": 1,
          "y1": 1.6666666666666665
         },
         {
          "layer": "below",
          "line": {
           "color": "white",
           "width": 2
          },
          "type": "line",
          "x0": 94,
          "x1": 94,
          "y0": 23.58333,
          "y1": 24.249996666666668
         },
         {
          "layer": "below",
          "line": {
           "color": "white",
           "width": 2
          },
          "type": "line",
          "x0": 94,
          "x1": 94,
          "y0": 29.08333,
          "y1": 29.749996666666668
         },
         {
          "layer": "below",
          "line": {
           "color": "white",
           "width": 2
          },
          "type": "line",
          "x0": 94,
          "x1": 94,
          "y0": 51.63333333333333,
          "y1": 52.3
         },
         {
          "layer": "below",
          "line": {
           "color": "white",
           "width": 2
          },
          "type": "line",
          "x0": 95,
          "x1": 95,
          "y0": 1,
          "y1": 1.6666666666666665
         },
         {
          "layer": "below",
          "line": {
           "color": "white",
           "width": 2
          },
          "type": "line",
          "x0": 95,
          "x1": 95,
          "y0": 23.58333,
          "y1": 24.249996666666668
         },
         {
          "layer": "below",
          "line": {
           "color": "white",
           "width": 2
          },
          "type": "line",
          "x0": 95,
          "x1": 95,
          "y0": 29.08333,
          "y1": 29.749996666666668
         },
         {
          "layer": "below",
          "line": {
           "color": "white",
           "width": 2
          },
          "type": "line",
          "x0": 95,
          "x1": 95,
          "y0": 51.63333333333333,
          "y1": 52.3
         },
         {
          "layer": "below",
          "line": {
           "color": "white",
           "width": 2
          },
          "type": "line",
          "x0": 96,
          "x1": 96,
          "y0": 1,
          "y1": 1.6666666666666665
         },
         {
          "layer": "below",
          "line": {
           "color": "white",
           "width": 2
          },
          "type": "line",
          "x0": 96,
          "x1": 96,
          "y0": 23.58333,
          "y1": 24.249996666666668
         },
         {
          "layer": "below",
          "line": {
           "color": "white",
           "width": 2
          },
          "type": "line",
          "x0": 96,
          "x1": 96,
          "y0": 29.08333,
          "y1": 29.749996666666668
         },
         {
          "layer": "below",
          "line": {
           "color": "white",
           "width": 2
          },
          "type": "line",
          "x0": 96,
          "x1": 96,
          "y0": 51.63333333333333,
          "y1": 52.3
         },
         {
          "layer": "below",
          "line": {
           "color": "white",
           "width": 2
          },
          "type": "line",
          "x0": 97,
          "x1": 97,
          "y0": 1,
          "y1": 1.6666666666666665
         },
         {
          "layer": "below",
          "line": {
           "color": "white",
           "width": 2
          },
          "type": "line",
          "x0": 97,
          "x1": 97,
          "y0": 23.58333,
          "y1": 24.249996666666668
         },
         {
          "layer": "below",
          "line": {
           "color": "white",
           "width": 2
          },
          "type": "line",
          "x0": 97,
          "x1": 97,
          "y0": 29.08333,
          "y1": 29.749996666666668
         },
         {
          "layer": "below",
          "line": {
           "color": "white",
           "width": 2
          },
          "type": "line",
          "x0": 97,
          "x1": 97,
          "y0": 51.63333333333333,
          "y1": 52.3
         },
         {
          "layer": "below",
          "line": {
           "color": "white",
           "width": 2
          },
          "type": "line",
          "x0": 98,
          "x1": 98,
          "y0": 1,
          "y1": 1.6666666666666665
         },
         {
          "layer": "below",
          "line": {
           "color": "white",
           "width": 2
          },
          "type": "line",
          "x0": 98,
          "x1": 98,
          "y0": 23.58333,
          "y1": 24.249996666666668
         },
         {
          "layer": "below",
          "line": {
           "color": "white",
           "width": 2
          },
          "type": "line",
          "x0": 98,
          "x1": 98,
          "y0": 29.08333,
          "y1": 29.749996666666668
         },
         {
          "layer": "below",
          "line": {
           "color": "white",
           "width": 2
          },
          "type": "line",
          "x0": 98,
          "x1": 98,
          "y0": 51.63333333333333,
          "y1": 52.3
         },
         {
          "layer": "below",
          "line": {
           "color": "white",
           "width": 2
          },
          "type": "line",
          "x0": 99,
          "x1": 99,
          "y0": 1,
          "y1": 1.6666666666666665
         },
         {
          "layer": "below",
          "line": {
           "color": "white",
           "width": 2
          },
          "type": "line",
          "x0": 99,
          "x1": 99,
          "y0": 23.58333,
          "y1": 24.249996666666668
         },
         {
          "layer": "below",
          "line": {
           "color": "white",
           "width": 2
          },
          "type": "line",
          "x0": 99,
          "x1": 99,
          "y0": 29.08333,
          "y1": 29.749996666666668
         },
         {
          "layer": "below",
          "line": {
           "color": "white",
           "width": 2
          },
          "type": "line",
          "x0": 99,
          "x1": 99,
          "y0": 51.63333333333333,
          "y1": 52.3
         },
         {
          "layer": "below",
          "line": {
           "color": "white",
           "width": 2
          },
          "type": "line",
          "x0": 101,
          "x1": 101,
          "y0": 1,
          "y1": 1.6666666666666665
         },
         {
          "layer": "below",
          "line": {
           "color": "white",
           "width": 2
          },
          "type": "line",
          "x0": 101,
          "x1": 101,
          "y0": 23.58333,
          "y1": 24.249996666666668
         },
         {
          "layer": "below",
          "line": {
           "color": "white",
           "width": 2
          },
          "type": "line",
          "x0": 101,
          "x1": 101,
          "y0": 29.08333,
          "y1": 29.749996666666668
         },
         {
          "layer": "below",
          "line": {
           "color": "white",
           "width": 2
          },
          "type": "line",
          "x0": 101,
          "x1": 101,
          "y0": 51.63333333333333,
          "y1": 52.3
         },
         {
          "layer": "below",
          "line": {
           "color": "white",
           "width": 2
          },
          "type": "line",
          "x0": 102,
          "x1": 102,
          "y0": 1,
          "y1": 1.6666666666666665
         },
         {
          "layer": "below",
          "line": {
           "color": "white",
           "width": 2
          },
          "type": "line",
          "x0": 102,
          "x1": 102,
          "y0": 23.58333,
          "y1": 24.249996666666668
         },
         {
          "layer": "below",
          "line": {
           "color": "white",
           "width": 2
          },
          "type": "line",
          "x0": 102,
          "x1": 102,
          "y0": 29.08333,
          "y1": 29.749996666666668
         },
         {
          "layer": "below",
          "line": {
           "color": "white",
           "width": 2
          },
          "type": "line",
          "x0": 102,
          "x1": 102,
          "y0": 51.63333333333333,
          "y1": 52.3
         },
         {
          "layer": "below",
          "line": {
           "color": "white",
           "width": 2
          },
          "type": "line",
          "x0": 103,
          "x1": 103,
          "y0": 1,
          "y1": 1.6666666666666665
         },
         {
          "layer": "below",
          "line": {
           "color": "white",
           "width": 2
          },
          "type": "line",
          "x0": 103,
          "x1": 103,
          "y0": 23.58333,
          "y1": 24.249996666666668
         },
         {
          "layer": "below",
          "line": {
           "color": "white",
           "width": 2
          },
          "type": "line",
          "x0": 103,
          "x1": 103,
          "y0": 29.08333,
          "y1": 29.749996666666668
         },
         {
          "layer": "below",
          "line": {
           "color": "white",
           "width": 2
          },
          "type": "line",
          "x0": 103,
          "x1": 103,
          "y0": 51.63333333333333,
          "y1": 52.3
         },
         {
          "layer": "below",
          "line": {
           "color": "white",
           "width": 2
          },
          "type": "line",
          "x0": 104,
          "x1": 104,
          "y0": 1,
          "y1": 1.6666666666666665
         },
         {
          "layer": "below",
          "line": {
           "color": "white",
           "width": 2
          },
          "type": "line",
          "x0": 104,
          "x1": 104,
          "y0": 23.58333,
          "y1": 24.249996666666668
         },
         {
          "layer": "below",
          "line": {
           "color": "white",
           "width": 2
          },
          "type": "line",
          "x0": 104,
          "x1": 104,
          "y0": 29.08333,
          "y1": 29.749996666666668
         },
         {
          "layer": "below",
          "line": {
           "color": "white",
           "width": 2
          },
          "type": "line",
          "x0": 104,
          "x1": 104,
          "y0": 51.63333333333333,
          "y1": 52.3
         },
         {
          "layer": "below",
          "line": {
           "color": "white",
           "width": 2
          },
          "type": "line",
          "x0": 105,
          "x1": 105,
          "y0": 1,
          "y1": 1.6666666666666665
         },
         {
          "layer": "below",
          "line": {
           "color": "white",
           "width": 2
          },
          "type": "line",
          "x0": 105,
          "x1": 105,
          "y0": 23.58333,
          "y1": 24.249996666666668
         },
         {
          "layer": "below",
          "line": {
           "color": "white",
           "width": 2
          },
          "type": "line",
          "x0": 105,
          "x1": 105,
          "y0": 29.08333,
          "y1": 29.749996666666668
         },
         {
          "layer": "below",
          "line": {
           "color": "white",
           "width": 2
          },
          "type": "line",
          "x0": 105,
          "x1": 105,
          "y0": 51.63333333333333,
          "y1": 52.3
         },
         {
          "layer": "below",
          "line": {
           "color": "white",
           "width": 2
          },
          "type": "line",
          "x0": 106,
          "x1": 106,
          "y0": 1,
          "y1": 1.6666666666666665
         },
         {
          "layer": "below",
          "line": {
           "color": "white",
           "width": 2
          },
          "type": "line",
          "x0": 106,
          "x1": 106,
          "y0": 23.58333,
          "y1": 24.249996666666668
         },
         {
          "layer": "below",
          "line": {
           "color": "white",
           "width": 2
          },
          "type": "line",
          "x0": 106,
          "x1": 106,
          "y0": 29.08333,
          "y1": 29.749996666666668
         },
         {
          "layer": "below",
          "line": {
           "color": "white",
           "width": 2
          },
          "type": "line",
          "x0": 106,
          "x1": 106,
          "y0": 51.63333333333333,
          "y1": 52.3
         },
         {
          "layer": "below",
          "line": {
           "color": "white",
           "width": 2
          },
          "type": "line",
          "x0": 107,
          "x1": 107,
          "y0": 1,
          "y1": 1.6666666666666665
         },
         {
          "layer": "below",
          "line": {
           "color": "white",
           "width": 2
          },
          "type": "line",
          "x0": 107,
          "x1": 107,
          "y0": 23.58333,
          "y1": 24.249996666666668
         },
         {
          "layer": "below",
          "line": {
           "color": "white",
           "width": 2
          },
          "type": "line",
          "x0": 107,
          "x1": 107,
          "y0": 29.08333,
          "y1": 29.749996666666668
         },
         {
          "layer": "below",
          "line": {
           "color": "white",
           "width": 2
          },
          "type": "line",
          "x0": 107,
          "x1": 107,
          "y0": 51.63333333333333,
          "y1": 52.3
         },
         {
          "layer": "below",
          "line": {
           "color": "white",
           "width": 2
          },
          "type": "line",
          "x0": 108,
          "x1": 108,
          "y0": 1,
          "y1": 1.6666666666666665
         },
         {
          "layer": "below",
          "line": {
           "color": "white",
           "width": 2
          },
          "type": "line",
          "x0": 108,
          "x1": 108,
          "y0": 23.58333,
          "y1": 24.249996666666668
         },
         {
          "layer": "below",
          "line": {
           "color": "white",
           "width": 2
          },
          "type": "line",
          "x0": 108,
          "x1": 108,
          "y0": 29.08333,
          "y1": 29.749996666666668
         },
         {
          "layer": "below",
          "line": {
           "color": "white",
           "width": 2
          },
          "type": "line",
          "x0": 108,
          "x1": 108,
          "y0": 51.63333333333333,
          "y1": 52.3
         },
         {
          "layer": "below",
          "line": {
           "color": "white",
           "width": 2
          },
          "type": "line",
          "x0": 109,
          "x1": 109,
          "y0": 1,
          "y1": 1.6666666666666665
         },
         {
          "layer": "below",
          "line": {
           "color": "white",
           "width": 2
          },
          "type": "line",
          "x0": 109,
          "x1": 109,
          "y0": 23.58333,
          "y1": 24.249996666666668
         },
         {
          "layer": "below",
          "line": {
           "color": "white",
           "width": 2
          },
          "type": "line",
          "x0": 109,
          "x1": 109,
          "y0": 29.08333,
          "y1": 29.749996666666668
         },
         {
          "layer": "below",
          "line": {
           "color": "white",
           "width": 2
          },
          "type": "line",
          "x0": 109,
          "x1": 109,
          "y0": 51.63333333333333,
          "y1": 52.3
         },
         {
          "fillcolor": "white",
          "layer": "below",
          "line": {
           "color": "white"
          },
          "path": "M 18.013,4.68 L 18.013,5.72 A 3.257,3.257 180.0 0,1 18.014,5.789 A 1.126,1.126 180.0 0,1 17.991,6.057 Q 17.963,6.16 17.893,6.1899999999999995 Q 17.823,6.22 17.663,6.22 L 17.418,6.22 A 0.095,0.095 180.0 0,0 17.328,6.34 Q 17.333000000000002,6.415 17.358,6.432 Q 17.383,6.45 17.421,6.45 L 17.473,6.45 Q 17.683,6.45 17.883,6.5169999999999995 Q 18.083000000000002,6.585 18.318,6.68 Q 18.348,6.6899999999999995 18.368000000000002,6.6899999999999995 Q 18.448,6.6899999999999995 18.448,6.574999999999999 L 18.448,4.68 Q 18.448,4.46 18.501,4.365 Q 18.553,4.27 18.666,4.245 Q 18.778000000000002,4.22 19.028000000000002,4.22 L 19.078,4.22 Q 19.118000000000002,4.22 19.136,4.199999999999999 Q 19.153000000000002,4.18 19.158,4.12 Q 19.158,4.0 19.068,4.0 Q 18.708000000000002,4.015000000000001 18.228,4.015000000000001 Q 17.753,4.015000000000001 17.393,4.0 A 0.095,0.095 180.0 0,0 17.303,4.12 Q 17.308,4.18 17.326,4.199999999999999 Q 17.343,4.22 17.383,4.22 Q 17.663,4.22 17.781000000000002,4.242 Q 17.898,4.265000000000001 17.956,4.359999999999999 Q 18.013,4.455 18.013,4.68 L 18.013,4.68",
          "type": "path"
         },
         {
          "fillcolor": "white",
          "layer": "below",
          "line": {
           "color": "white"
          },
          "path": "M 21.644647615158764,49.01 L 21.644647615158764,47.97 A 3.257,3.257 360.0 0,1 21.643647615158763,47.901 A 1.126,1.126 360.0 0,1 21.666647615158762,47.633 Q 21.69464761515876,47.53 21.76464761515876,47.5 Q 21.83464761515876,47.47 21.99464761515876,47.47 L 22.239647615158763,47.47 A 0.095,0.095 360.0 0,0 22.329647615158763,47.35 Q 22.324647615158764,47.275 22.29964761515876,47.258 Q 22.274647615158763,47.24 22.236647615158763,47.24 L 22.184647615158763,47.24 Q 21.974647615158762,47.24 21.774647615158763,47.173 Q 21.574647615158764,47.105 21.33964761515876,47.01 Q 21.309647615158763,47.0 21.289647615158763,47.0 Q 21.20964761515876,47.0 21.20964761515876,47.115 L 21.20964761515876,49.01 Q 21.20964761515876,49.23 21.15664761515876,49.325 Q 21.10464761515876,49.42 20.99164761515876,49.445 Q 20.879647615158763,49.47 20.629647615158763,49.47 L 20.579647615158763,49.47 Q 20.539647615158763,49.47 20.521647615158763,49.49 Q 20.504647615158763,49.51 20.49964761515876,49.57 Q 20.49964761515876,49.69 20.589647615158764,49.69 Q 20.949647615158764,49.675 21.429647615158764,49.675 Q 21.904647615158762,49.675 22.26464761515876,49.69 A 0.095,0.095 360.0 0,0 22.35464761515876,49.57 Q 22.349647615158762,49.51 22.33164761515876,49.49 Q 22.314647615158762,49.47 22.274647615158763,49.47 Q 21.99464761515876,49.47 21.876647615158763,49.448 Q 21.759647615158762,49.425 21.701647615158763,49.33 Q 21.644647615158764,49.235 21.644647615158764,49.01 L 21.644647615158764,49.01",
          "type": "path"
         },
         {
          "fillcolor": "white",
          "layer": "below",
          "line": {
           "color": "white"
          },
          "path": "M 21.69,6.7509999999999994 Q 21.3,6.7509999999999994 21.033,6.561 Q 20.765,6.371 20.633,6.056 Q 20.5,5.741 20.5,5.371 Q 20.5,4.996 20.633,4.686 Q 20.765,4.376 21.033,4.188 Q 21.3,4.0009999999999994 21.69,4.0009999999999994 Q 22.06,4.0009999999999994 22.33,4.191 Q 22.6,4.381 22.740000000000002,4.696 Q 22.88,5.011 22.88,5.371 Q 22.88,5.731 22.740000000000002,6.045999999999999 Q 22.6,6.361000000000001 22.33,6.556 Q 22.06,6.7509999999999994 21.69,6.7509999999999994 M 21.695,6.566 Q 22.03,6.566 22.215,6.256 Q 22.4,5.946 22.4,5.371 Q 22.4,4.796 22.215,4.491 Q 22.03,4.186 21.695,4.186 Q 21.35,4.186 21.165,4.4879999999999995 Q 20.98,4.791 20.98,5.371 Q 20.98,5.9510000000000005 21.165,6.258 Q 21.35,6.566 21.695,6.566",
          "type": "path"
         },
         {
          "fillcolor": "white",
          "layer": "below",
          "line": {
           "color": "white"
          },
          "path": "M 18.267647615158765,46.939 Q 18.657647615158762,46.939 18.924647615158765,47.129 Q 19.192647615158762,47.319 19.324647615158764,47.634 Q 19.457647615158763,47.949 19.457647615158763,48.319 Q 19.457647615158763,48.694 19.324647615158764,49.004 Q 19.192647615158762,49.314 18.924647615158765,49.502 Q 18.657647615158766,49.689 18.267647615158765,49.689 Q 17.897647615158764,49.689 17.627647615158764,49.499 Q 17.357647615158765,49.309 17.217647615158764,48.994 Q 17.077647615158764,48.679 17.077647615158764,48.319 Q 17.077647615158764,47.959 17.217647615158764,47.644 Q 17.357647615158765,47.329 17.627647615158764,47.134 Q 17.897647615158764,46.939 18.267647615158765,46.939 M 18.262647615158762,47.124 Q 17.927647615158765,47.124 17.742647615158763,47.434 Q 17.557647615158764,47.744 17.557647615158764,48.319 Q 17.557647615158764,48.894 17.742647615158763,49.199 Q 17.927647615158765,49.504 18.262647615158762,49.504 Q 18.607647615158765,49.504 18.792647615158764,49.202 Q 18.977647615158762,48.899 18.977647615158762,48.319 Q 18.977647615158762,47.739 18.792647615158764,47.432 Q 18.607647615158765,47.124 18.262647615158762,47.124",
          "type": "path"
         },
         {
          "fillcolor": "white",
          "layer": "below",
          "line": {
           "color": "white"
          },
          "path": "M 27.747,4.38 L 27.747,4.355 L 29.087,4.355 A 0.449,0.449 180.0 0,0 29.269000000000002,4.327 Q 29.327,4.3 29.327,4.18 Q 29.327,4.0 29.152,4.0 L 27.477,4.0 Q 27.302,4.0 27.302,4.18 Q 27.307000000000002,4.285 27.359,4.35 Q 27.412,4.415 27.532,4.495 Q 27.927,4.76 28.144000000000002,4.932 Q 28.362000000000002,5.105 28.537,5.37 Q 28.712,5.635 28.712,5.965 Q 28.712,6.205 28.584,6.337 Q 28.457,6.47 28.227,6.47 Q 28.032,6.47 27.904,6.372 Q 27.777,6.275 27.777,6.105 Q 27.777,6.02 27.817,5.962 Q 27.857,5.904999999999999 27.899,5.87 Q 27.942,5.835 27.942,5.83 Q 27.942,5.795 27.874000000000002,5.745 Q 27.807000000000002,5.695 27.712,5.695 Q 27.557000000000002,5.695 27.464000000000002,5.792 Q 27.372,5.89 27.372,6.04 Q 27.372,6.24 27.507,6.38 Q 27.642,6.52 27.849,6.585 Q 28.057000000000002,6.65 28.272000000000002,6.65 Q 28.647000000000002,6.65 28.919,6.465 Q 29.192,6.279999999999999 29.192,5.9 Q 29.192,5.625 29.042,5.4 Q 28.892,5.175 28.684,5.0169999999999995 Q 28.477,4.859999999999999 28.142,4.645 Q 27.877000000000002,4.48 27.747,4.38",
          "type": "path"
         },
         {
          "fillcolor": "white",
          "layer": "below",
          "line": {
           "color": "white"
          },
          "path": "M 32.082,49.27 L 32.082,49.295 L 30.742,49.295 A 0.449,0.449 360.0 0,0 30.56,49.323 Q 30.502,49.35 30.502,49.47 Q 30.502,49.65 30.677,49.65 L 32.352,49.65 Q 32.527,49.65 32.527,49.47 Q 32.522,49.365 32.47,49.3 Q 32.417,49.235 32.297,49.155 Q 31.902,48.89 31.685,48.718 Q 31.467,48.545 31.292,48.28 Q 31.117,48.015 31.117,47.685 Q 31.117,47.445 31.245,47.313 Q 31.372,47.18 31.602,47.18 Q 31.797,47.18 31.925,47.278 Q 32.052,47.375 32.052,47.545 Q 32.052,47.63 32.012,47.688 Q 31.972,47.745 31.93,47.78 Q 31.887,47.815 31.887,47.82 Q 31.887,47.855 31.955,47.905 Q 32.022,47.955 32.117,47.955 Q 32.272,47.955 32.365,47.858 Q 32.457,47.76 32.457,47.61 Q 32.457,47.41 32.322,47.27 Q 32.187,47.13 31.98,47.065 Q 31.772,47.0 31.557,47.0 Q 31.182,47.0 30.91,47.185 Q 30.637,47.37 30.637,47.75 Q 30.637,48.025 30.787,48.25 Q 30.937,48.475 31.145,48.633 Q 31.352,48.79 31.687,49.005 Q 31.951999999999998,49.17 32.082,49.27",
          "type": "path"
         },
         {
          "fillcolor": "white",
          "layer": "below",
          "line": {
           "color": "white"
          },
          "path": "M 31.69,6.7509999999999994 Q 31.3,6.7509999999999994 31.033,6.561 Q 30.765,6.371 30.633,6.056 Q 30.5,5.741 30.5,5.371 Q 30.5,4.996 30.633,4.686 Q 30.765,4.376 31.033,4.188 Q 31.3,4.0009999999999994 31.69,4.0009999999999994 Q 32.06,4.0009999999999994 32.33,4.191 Q 32.6,4.381 32.74,4.696 Q 32.88,5.011 32.88,5.371 Q 32.88,5.731 32.74,6.045999999999999 Q 32.6,6.361000000000001 32.33,6.556 Q 32.06,6.7509999999999994 31.69,6.7509999999999994 M 31.695,6.566 Q 32.03,6.566 32.215,6.256 Q 32.4,5.946 32.4,5.371 Q 32.4,4.796 32.215,4.491 Q 32.03,4.186 31.695,4.186 Q 31.35,4.186 31.165,4.4879999999999995 Q 30.98,4.791 30.98,5.371 Q 30.98,5.9510000000000005 31.165,6.258 Q 31.35,6.566 31.695,6.566",
          "type": "path"
         },
         {
          "fillcolor": "white",
          "layer": "below",
          "line": {
           "color": "white"
          },
          "path": "M 28.439,46.899 Q 28.829,46.899 29.096,47.089 Q 29.364,47.278999999999996 29.496000000000002,47.594 Q 29.629,47.909 29.629,48.278999999999996 Q 29.629,48.653999999999996 29.496000000000002,48.964 Q 29.364,49.274 29.096,49.462 Q 28.829,49.649 28.439,49.649 Q 28.069000000000003,49.649 27.799000000000003,49.459 Q 27.529,49.269 27.389000000000003,48.954 Q 27.249000000000002,48.639 27.249000000000002,48.279 Q 27.249000000000002,47.919 27.389000000000003,47.604 Q 27.529,47.289 27.799,47.094 Q 28.069000000000003,46.899 28.439,46.899 M 28.434,47.084 Q 28.099,47.084 27.914,47.394 Q 27.729000000000003,47.704 27.729000000000003,48.278999999999996 Q 27.729000000000003,48.854 27.914,49.159 Q 28.099,49.464 28.434,49.464 Q 28.779,49.464 28.964000000000002,49.162 Q 29.149,48.859 29.149,48.278999999999996 Q 29.149,47.699 28.964000000000002,47.392 Q 28.779,47.084 28.434,47.084",
          "type": "path"
         },
         {
          "fillcolor": "white",
          "layer": "below",
          "line": {
           "color": "white"
          },
          "path": "M 38.199999999999996,5.336 L 38.015,5.336 Q 37.98,5.336 37.959999999999994,5.366 Q 37.94,5.396 37.94,5.436 Q 37.94,5.481 37.959999999999994,5.513 Q 37.98,5.546 38.015,5.551 L 38.199999999999996,5.551 Q 38.394999999999996,5.571 38.513,5.726 Q 38.629999999999995,5.881 38.629999999999995,6.101 Q 38.629999999999995,6.341 38.495,6.468 Q 38.36,6.596 38.18,6.596 Q 38.01,6.596 37.888,6.498 Q 37.765,6.401 37.765,6.231 Q 37.765,6.121 37.808,6.083 Q 37.849999999999994,6.046 37.89,6.038 Q 37.93,6.031000000000001 37.93,6.026 Q 37.93,5.991 37.863,5.941 Q 37.794999999999995,5.891 37.699999999999996,5.891 Q 37.54,5.891 37.449999999999996,5.991 Q 37.36,6.091 37.36,6.246 Q 37.36,6.491 37.589999999999996,6.6259999999999994 Q 37.82,6.761 38.184999999999995,6.761 Q 38.574999999999996,6.761 38.83,6.591 Q 39.084999999999994,6.420999999999999 39.084999999999994,6.101 Q 39.084999999999994,5.891 38.937999999999995,5.711 Q 38.79,5.531 38.515,5.4559999999999995 L 38.515,5.436 Q 38.794999999999995,5.406 39.0,5.258 Q 39.205,5.111 39.205,4.791 Q 39.205,4.386 38.91,4.193 Q 38.614999999999995,4.0009999999999994 38.169999999999995,4.0009999999999994 Q 37.805,4.0009999999999994 37.553,4.143 Q 37.3,4.286 37.3,4.561 Q 37.3,4.7059999999999995 37.39,4.811 Q 37.48,4.916 37.64,4.916 Q 37.735,4.916 37.803,4.866 Q 37.87,4.816 37.87,4.781 Q 37.87,4.776 37.824999999999996,4.743 Q 37.779999999999994,4.711 37.742999999999995,4.656000000000001 Q 37.705,4.601 37.705,4.516 Q 37.705,4.361000000000001 37.837999999999994,4.273 Q 37.97,4.186 38.184999999999995,4.186 Q 38.72,4.186 38.72,4.781 Q 38.72,5.026 38.589999999999996,5.173 Q 38.459999999999994,5.321 38.199999999999996,5.336",
          "type": "path"
         },
         {
          "fillcolor": "white",
          "layer": "below",
          "line": {
           "color": "white"
          },
          "path": "M 41.505,48.426 L 41.69,48.426 Q 41.725,48.426 41.745,48.396 Q 41.765,48.366 41.765,48.326 Q 41.765,48.281 41.745,48.249 Q 41.725,48.216 41.69,48.211 L 41.505,48.211 Q 41.31,48.191 41.192,48.036 Q 41.075,47.881 41.075,47.661 Q 41.075,47.421 41.21,47.294 Q 41.345,47.166 41.525,47.166 Q 41.695,47.166 41.817,47.264 Q 41.94,47.361 41.94,47.531 Q 41.94,47.641 41.897,47.679 Q 41.855,47.716 41.815,47.724 Q 41.775,47.731 41.775,47.736 Q 41.775,47.771 41.842,47.821 Q 41.91,47.871 42.005,47.871 Q 42.165,47.871 42.255,47.771 Q 42.345,47.671 42.345,47.516 Q 42.345,47.271 42.115,47.136 Q 41.885,47.001 41.52,47.001 Q 41.13,47.001 40.875,47.171 Q 40.62,47.341 40.62,47.661 Q 40.62,47.871 40.767,48.051 Q 40.915,48.231 41.19,48.306 L 41.19,48.326 Q 40.91,48.356 40.705,48.504 Q 40.5,48.651 40.5,48.971000000000004 Q 40.5,49.376 40.795,49.569 Q 41.09,49.761 41.535,49.761 Q 41.9,49.761 42.152,49.619 Q 42.405,49.476 42.405,49.201 Q 42.405,49.056 42.315,48.951 Q 42.225,48.846000000000004 42.065,48.846000000000004 Q 41.97,48.846000000000004 41.902,48.896 Q 41.835,48.946 41.835,48.981 Q 41.835,48.986 41.88,49.019 Q 41.925,49.051 41.962,49.106 Q 42.0,49.161 42.0,49.246 Q 42.0,49.400999999999996 41.867,49.489 Q 41.735,49.576 41.52,49.576 Q 40.985,49.576 40.985,48.981 Q 40.985,48.736 41.115,48.589 Q 41.245,48.441 41.505,48.426",
          "type": "path"
         },
         {
          "fillcolor": "white",
          "layer": "below",
          "line": {
           "color": "white"
          },
          "path": "M 41.69,6.7509999999999994 Q 41.3,6.7509999999999994 41.033,6.561 Q 40.765,6.371 40.633,6.056 Q 40.5,5.741 40.5,5.371 Q 40.5,4.996 40.633,4.686 Q 40.765,4.376 41.033,4.188 Q 41.3,4.0009999999999994 41.69,4.0009999999999994 Q 42.06,4.0009999999999994 42.33,4.191 Q 42.6,4.381 42.74,4.696 Q 42.88,5.011 42.88,5.371 Q 42.88,5.731 42.74,6.045999999999999 Q 42.6,6.361000000000001 42.33,6.556 Q 42.06,6.7509999999999994 41.69,6.7509999999999994 M 41.695,6.566 Q 42.03,6.566 42.215,6.256 Q 42.4,5.946 42.4,5.371 Q 42.4,4.796 42.215,4.491 Q 42.03,4.186 41.695,4.186 Q 41.35,4.186 41.165,4.4879999999999995 Q 40.98,4.791 40.98,5.371 Q 40.98,5.9510000000000005 41.165,6.258 Q 41.35,6.566 41.695,6.566",
          "type": "path"
         },
         {
          "fillcolor": "white",
          "layer": "below",
          "line": {
           "color": "white"
          },
          "path": "M 38.315,47.011 Q 38.705,47.011 38.972,47.201 Q 39.24,47.391 39.372,47.706 Q 39.505,48.021 39.505,48.391 Q 39.505,48.766 39.372,49.076 Q 39.24,49.386 38.972,49.574 Q 38.705,49.761 38.315000000000005,49.761 Q 37.945,49.761 37.675000000000004,49.571 Q 37.405,49.381 37.265,49.066 Q 37.125,48.751 37.125,48.391 Q 37.125,48.031 37.265,47.716 Q 37.405,47.401 37.675000000000004,47.206 Q 37.945,47.011 38.315,47.011 M 38.31,47.196 Q 37.975,47.196 37.79,47.506 Q 37.605000000000004,47.816 37.605000000000004,48.391 Q 37.605000000000004,48.966 37.79,49.271 Q 37.975,49.576 38.31,49.576 Q 38.655,49.576 38.84,49.274 Q 39.025,48.971 39.025,48.391 Q 39.025,47.811 38.84,47.504 Q 38.655,47.196 38.31,47.196",
          "type": "path"
         },
         {
          "fillcolor": "white",
          "layer": "below",
          "line": {
           "color": "white"
          },
          "path": "M 48.654999999999994,4.096 L 48.654999999999994,4.861 L 47.459999999999994,4.861 Q 47.379999999999995,4.861 47.339999999999996,4.911 Q 47.3,4.961 47.3,5.036 Q 47.3,5.101 47.334999999999994,5.146 L 48.739999999999995,6.680999999999999 Q 48.79,6.731 48.894999999999996,6.731 Q 48.974999999999994,6.731 49.029999999999994,6.689 Q 49.084999999999994,6.646 49.089999999999996,6.555999999999999 L 49.089999999999996,5.106 L 49.39,5.106 Q 49.459999999999994,5.106 49.489999999999995,5.0889999999999995 Q 49.519999999999996,5.071 49.525,4.986 Q 49.525,4.931 49.503,4.896 Q 49.48,4.861 49.43,4.861 L 49.089999999999996,4.861 L 49.089999999999996,4.096 Q 49.089999999999996,4.051 49.025,4.026 Q 48.959999999999994,4.0009999999999994 48.875,4.0009999999999994 Q 48.79,4.0009999999999994 48.724999999999994,4.026 Q 48.66,4.051 48.654999999999994,4.096 M 48.654999999999994,6.291 L 47.589999999999996,5.106 L 48.654999999999994,5.106 L 48.654999999999994,6.291",
          "type": "path"
         },
         {
          "fillcolor": "white",
          "layer": "below",
          "line": {
           "color": "white"
          },
          "path": "M 51.37,49.636 L 51.37,48.871 L 52.565,48.871 Q 52.645,48.871 52.685,48.821 Q 52.725,48.771 52.725,48.696 Q 52.725,48.631 52.69,48.586 L 51.285,47.051 Q 51.235,47.001 51.13,47.001 Q 51.05,47.001 50.995,47.043 Q 50.94,47.086 50.935,47.176 L 50.935,48.626 L 50.635,48.626 Q 50.565,48.626 50.535,48.643 Q 50.505,48.661 50.5,48.746 Q 50.5,48.801 50.522,48.836 Q 50.545,48.871 50.595,48.871 L 50.935,48.871 L 50.935,49.636 Q 50.935,49.681 51.0,49.706 Q 51.065,49.731 51.15,49.731 Q 51.235,49.731 51.3,49.706 Q 51.365,49.681 51.37,49.636 M 51.37,47.441 L 52.435,48.626 L 51.37,48.626 L 51.37,47.441",
          "type": "path"
         },
         {
          "fillcolor": "white",
          "layer": "below",
          "line": {
           "color": "white"
          },
          "path": "M 51.69,6.7509999999999994 Q 51.3,6.7509999999999994 51.033,6.561 Q 50.765,6.371 50.633,6.056 Q 50.5,5.741 50.5,5.371 Q 50.5,4.996 50.633,4.686 Q 50.765,4.376 51.033,4.188 Q 51.3,4.0009999999999994 51.69,4.0009999999999994 Q 52.06,4.0009999999999994 52.33,4.191 Q 52.6,4.381 52.74,4.696 Q 52.88,5.011 52.88,5.371 Q 52.88,5.731 52.74,6.045999999999999 Q 52.6,6.361000000000001 52.33,6.556 Q 52.06,6.7509999999999994 51.69,6.7509999999999994 M 51.695,6.566 Q 52.03,6.566 52.215,6.256 Q 52.4,5.946 52.4,5.371 Q 52.4,4.796 52.215,4.491 Q 52.03,4.186 51.695,4.186 Q 51.35,4.186 51.165,4.4879999999999995 Q 50.98,4.791 50.98,5.371 Q 50.98,5.9510000000000005 51.165,6.258 Q 51.35,6.566 51.695,6.566",
          "type": "path"
         },
         {
          "fillcolor": "white",
          "layer": "below",
          "line": {
           "color": "white"
          },
          "path": "M 48.635,46.981 Q 49.025,46.981 49.292,47.171 Q 49.56,47.361 49.692,47.676 Q 49.825,47.991 49.825,48.361 Q 49.825,48.736 49.692,49.046 Q 49.56,49.356 49.292,49.544 Q 49.025,49.731 48.635000000000005,49.731 Q 48.265,49.731 47.995000000000005,49.541 Q 47.725,49.351 47.585,49.036 Q 47.445,48.721000000000004 47.445,48.361 Q 47.445,48.001 47.585,47.686 Q 47.725,47.371 47.995000000000005,47.176 Q 48.265,46.981 48.635,46.981 M 48.63,47.166 Q 48.295,47.166 48.11,47.476 Q 47.925000000000004,47.786 47.925000000000004,48.361 Q 47.925000000000004,48.936 48.11,49.241 Q 48.295,49.546 48.63,49.546 Q 48.975,49.546 49.160000000000004,49.244 Q 49.345,48.941 49.345,48.361 Q 49.345,47.781 49.160000000000004,47.474 Q 48.975,47.166 48.63,47.166",
          "type": "path"
         },
         {
          "fillcolor": "white",
          "layer": "below",
          "line": {
           "color": "white"
          },
          "path": "M 57.434999999999995,5.45 L 57.44,5.51 L 57.595,6.7 L 58.97,6.7 Q 59.04,6.7 59.083,6.655 Q 59.125,6.61 59.125,6.53 Q 59.125,6.345000000000001 58.934999999999995,6.345000000000001 L 57.824999999999996,6.345000000000001 L 57.72,5.65 Q 57.94,5.785 58.26,5.785 Q 58.474999999999994,5.785 58.693,5.69 Q 58.91,5.595000000000001 59.055,5.4 Q 59.199999999999996,5.205 59.199999999999996,4.915 Q 59.199999999999996,4.625 59.058,4.417 Q 58.915,4.21 58.678,4.105 Q 58.44,4.0 58.16,4.0 Q 57.79,4.0 57.544999999999995,4.135 Q 57.3,4.27 57.3,4.555 Q 57.3,4.71 57.393,4.827 Q 57.485,4.945 57.64,4.945 Q 57.735,4.945 57.803,4.8950000000000005 Q 57.87,4.845000000000001 57.87,4.8100000000000005 Q 57.87,4.805 57.824999999999996,4.765000000000001 Q 57.779999999999994,4.725 57.742999999999995,4.667 Q 57.705,4.61 57.705,4.535 Q 57.705,4.365 57.827999999999996,4.275 Q 57.949999999999996,4.1850000000000005 58.169999999999995,4.1850000000000005 Q 58.445,4.1850000000000005 58.583,4.380000000000001 Q 58.72,4.575 58.72,4.890000000000001 Q 58.72,5.18 58.58,5.372 Q 58.44,5.565 58.144999999999996,5.565 Q 58.01,5.565 57.913,5.522 Q 57.815,5.48 57.705,5.4 Q 57.64,5.355 57.598,5.332 Q 57.555,5.3100000000000005 57.515,5.3100000000000005 Q 57.434999999999995,5.3100000000000005 57.434999999999995,5.45 L 57.434999999999995,5.45",
          "type": "path"
         },
         {
          "fillcolor": "white",
          "layer": "below",
          "line": {
           "color": "white"
          },
          "path": "M 62.265,48.25 L 62.26,48.19 L 62.105,47.0 L 60.73,47.0 Q 60.66,47.0 60.617,47.045 Q 60.575,47.09 60.575,47.17 Q 60.575,47.355 60.765,47.355 L 61.875,47.355 L 61.98,48.05 Q 61.76,47.915 61.44,47.915 Q 61.225,47.915 61.007,48.01 Q 60.79,48.105 60.645,48.3 Q 60.5,48.495 60.5,48.785 Q 60.5,49.075 60.642,49.283 Q 60.785,49.49 61.022,49.595 Q 61.26,49.7 61.54,49.7 Q 61.91,49.7 62.155,49.565 Q 62.4,49.43 62.4,49.145 Q 62.4,48.99 62.307,48.873 Q 62.215,48.755 62.06,48.755 Q 61.965,48.755 61.897,48.805 Q 61.83,48.855 61.83,48.89 Q 61.83,48.895 61.875,48.935 Q 61.92,48.975 61.957,49.033 Q 61.995,49.09 61.995,49.165 Q 61.995,49.335 61.872,49.425 Q 61.75,49.515 61.53,49.515 Q 61.255,49.515 61.117,49.32 Q 60.98,49.125 60.98,48.81 Q 60.98,48.52 61.12,48.328 Q 61.26,48.135 61.555,48.135 Q 61.69,48.135 61.787,48.178 Q 61.885,48.22 61.995,48.3 Q 62.06,48.345 62.102,48.368 Q 62.145,48.39 62.185,48.39 Q 62.265,48.39 62.265,48.25 L 62.265,48.25",
          "type": "path"
         },
         {
          "fillcolor": "white",
          "layer": "below",
          "line": {
           "color": "white"
          },
          "path": "M 61.69,6.7509999999999994 Q 61.3,6.7509999999999994 61.033,6.561 Q 60.765,6.371 60.633,6.056 Q 60.5,5.741 60.5,5.371 Q 60.5,4.996 60.633,4.686 Q 60.765,4.376 61.033,4.188 Q 61.3,4.0009999999999994 61.69,4.0009999999999994 Q 62.06,4.0009999999999994 62.33,4.191 Q 62.6,4.381 62.74,4.696 Q 62.88,5.011 62.88,5.371 Q 62.88,5.731 62.74,6.045999999999999 Q 62.6,6.361000000000001 62.33,6.556 Q 62.06,6.7509999999999994 61.69,6.7509999999999994 M 61.695,6.566 Q 62.03,6.566 62.215,6.256 Q 62.4,5.946 62.4,5.371 Q 62.4,4.796 62.215,4.491 Q 62.03,4.186 61.695,4.186 Q 61.35,4.186 61.165,4.4879999999999995 Q 60.98,4.791 60.98,5.371 Q 60.98,5.9510000000000005 61.165,6.258 Q 61.35,6.566 61.695,6.566",
          "type": "path"
         },
         {
          "fillcolor": "white",
          "layer": "below",
          "line": {
           "color": "white"
          },
          "path": "M 58.31,46.949 Q 58.7,46.949 58.967,47.139 Q 59.235,47.329 59.367000000000004,47.644 Q 59.5,47.959 59.5,48.329 Q 59.5,48.704 59.367000000000004,49.014 Q 59.235,49.324 58.967,49.512 Q 58.7,49.699 58.31,49.699 Q 57.940000000000005,49.699 57.67,49.509 Q 57.4,49.319 57.26,49.004 Q 57.120000000000005,48.689 57.120000000000005,48.329 Q 57.120000000000005,47.969 57.26,47.654 Q 57.4,47.339 57.67,47.144 Q 57.94,46.949 58.31,46.949 M 58.305,47.134 Q 57.97,47.134 57.785000000000004,47.444 Q 57.6,47.754 57.6,48.329 Q 57.6,48.904 57.785000000000004,49.209 Q 57.97,49.514 58.305,49.514 Q 58.65,49.514 58.835,49.212 Q 59.02,48.909 59.02,48.329 Q 59.02,47.749 58.835,47.442 Q 58.65,47.134 58.305,47.134",
          "type": "path"
         },
         {
          "fillcolor": "white",
          "layer": "below",
          "line": {
           "color": "white"
          },
          "path": "M 68.655,4.096 L 68.655,4.861 L 67.46,4.861 Q 67.38,4.861 67.34,4.911 Q 67.3,4.961 67.3,5.036 Q 67.3,5.101 67.335,5.146 L 68.74,6.680999999999999 Q 68.78999999999999,6.731 68.895,6.731 Q 68.975,6.731 69.03,6.689 Q 69.085,6.646 69.09,6.555999999999999 L 69.09,5.106 L 69.39,5.106 Q 69.46,5.106 69.49,5.0889999999999995 Q 69.52,5.071 69.52499999999999,4.986 Q 69.52499999999999,4.931 69.503,4.896 Q 69.48,4.861 69.42999999999999,4.861 L 69.09,4.861 L 69.09,4.096 Q 69.09,4.051 69.02499999999999,4.026 Q 68.96,4.0009999999999994 68.875,4.0009999999999994 Q 68.78999999999999,4.0009999999999994 68.725,4.026 Q 68.66,4.051 68.655,4.096 M 68.655,6.291 L 67.59,5.106 L 68.655,5.106 L 68.655,6.291",
          "type": "path"
         },
         {
          "fillcolor": "white",
          "layer": "below",
          "line": {
           "color": "white"
          },
          "path": "M 71.37,49.636 L 71.37,48.871 L 72.565,48.871 Q 72.645,48.871 72.685,48.821 Q 72.725,48.771 72.725,48.696 Q 72.725,48.631 72.69,48.586 L 71.285,47.051 Q 71.235,47.001 71.13,47.001 Q 71.05,47.001 70.995,47.043 Q 70.94,47.086 70.935,47.176 L 70.935,48.626 L 70.635,48.626 Q 70.565,48.626 70.535,48.643 Q 70.505,48.661 70.5,48.746 Q 70.5,48.801 70.522,48.836 Q 70.545,48.871 70.595,48.871 L 70.935,48.871 L 70.935,49.636 Q 70.935,49.681 71.0,49.706 Q 71.065,49.731 71.15,49.731 Q 71.235,49.731 71.3,49.706 Q 71.365,49.681 71.37,49.636 M 71.37,47.441 L 72.435,48.626 L 71.37,48.626 L 71.37,47.441",
          "type": "path"
         },
         {
          "fillcolor": "white",
          "layer": "below",
          "line": {
           "color": "white"
          },
          "path": "M 71.69,6.7509999999999994 Q 71.3,6.7509999999999994 71.033,6.561 Q 70.765,6.371 70.633,6.056 Q 70.5,5.741 70.5,5.371 Q 70.5,4.996 70.633,4.686 Q 70.765,4.376 71.033,4.188 Q 71.3,4.0009999999999994 71.69,4.0009999999999994 Q 72.06,4.0009999999999994 72.33,4.191 Q 72.6,4.381 72.74,4.696 Q 72.88,5.011 72.88,5.371 Q 72.88,5.731 72.74,6.045999999999999 Q 72.6,6.361000000000001 72.33,6.556 Q 72.06,6.7509999999999994 71.69,6.7509999999999994 M 71.695,6.566 Q 72.03,6.566 72.215,6.256 Q 72.4,5.946 72.4,5.371 Q 72.4,4.796 72.215,4.491 Q 72.03,4.186 71.695,4.186 Q 71.35,4.186 71.165,4.4879999999999995 Q 70.98,4.791 70.98,5.371 Q 70.98,5.9510000000000005 71.165,6.258 Q 71.35,6.566 71.695,6.566",
          "type": "path"
         },
         {
          "fillcolor": "white",
          "layer": "below",
          "line": {
           "color": "white"
          },
          "path": "M 68.63499999999999,46.981 Q 69.02499999999999,46.981 69.29199999999999,47.171 Q 69.55999999999999,47.361 69.692,47.676 Q 69.82499999999999,47.991 69.82499999999999,48.361 Q 69.82499999999999,48.736 69.692,49.046 Q 69.55999999999999,49.356 69.292,49.544 Q 69.02499999999999,49.731 68.63499999999999,49.731 Q 68.265,49.731 67.99499999999999,49.541 Q 67.725,49.351 67.585,49.036 Q 67.445,48.721000000000004 67.445,48.361 Q 67.445,48.001 67.585,47.686 Q 67.725,47.371 67.99499999999999,47.176 Q 68.265,46.981 68.63499999999999,46.981 M 68.63,47.166 Q 68.29499999999999,47.166 68.11,47.476 Q 67.925,47.786 67.925,48.361 Q 67.925,48.936 68.11,49.241 Q 68.29499999999999,49.546 68.63,49.546 Q 68.975,49.546 69.16,49.244 Q 69.345,48.941 69.345,48.361 Q 69.345,47.781 69.16,47.474 Q 68.975,47.166 68.63,47.166",
          "type": "path"
         },
         {
          "fillcolor": "white",
          "layer": "below",
          "line": {
           "color": "white"
          },
          "path": "M 78.2,5.336 L 78.015,5.336 Q 77.98,5.336 77.96,5.366 Q 77.94,5.396 77.94,5.436 Q 77.94,5.481 77.96,5.513 Q 77.98,5.546 78.015,5.551 L 78.2,5.551 Q 78.395,5.571 78.51299999999999,5.726 Q 78.63,5.881 78.63,6.101 Q 78.63,6.341 78.49499999999999,6.468 Q 78.36,6.596 78.17999999999999,6.596 Q 78.00999999999999,6.596 77.88799999999999,6.498 Q 77.765,6.401 77.765,6.231 Q 77.765,6.121 77.80799999999999,6.083 Q 77.85,6.046 77.89,6.038 Q 77.92999999999999,6.031000000000001 77.92999999999999,6.026 Q 77.92999999999999,5.991 77.863,5.941 Q 77.795,5.891 77.7,5.891 Q 77.53999999999999,5.891 77.45,5.991 Q 77.36,6.091 77.36,6.246 Q 77.36,6.491 77.59,6.6259999999999994 Q 77.82,6.761 78.185,6.761 Q 78.575,6.761 78.83,6.591 Q 79.085,6.420999999999999 79.085,6.101 Q 79.085,5.891 78.938,5.711 Q 78.78999999999999,5.531 78.515,5.4559999999999995 L 78.515,5.436 Q 78.795,5.406 79.0,5.258 Q 79.205,5.111 79.205,4.791 Q 79.205,4.386 78.91,4.193 Q 78.615,4.0009999999999994 78.17,4.0009999999999994 Q 77.80499999999999,4.0009999999999994 77.553,4.143 Q 77.3,4.286 77.3,4.561 Q 77.3,4.7059999999999995 77.39,4.811 Q 77.48,4.916 77.64,4.916 Q 77.735,4.916 77.803,4.866 Q 77.86999999999999,4.816 77.86999999999999,4.781 Q 77.86999999999999,4.776 77.825,4.743 Q 77.78,4.711 77.743,4.656000000000001 Q 77.705,4.601 77.705,4.516 Q 77.705,4.361000000000001 77.838,4.273 Q 77.97,4.186 78.185,4.186 Q 78.72,4.186 78.72,4.781 Q 78.72,5.026 78.59,5.173 Q 78.46,5.321 78.2,5.336",
          "type": "path"
         },
         {
          "fillcolor": "white",
          "layer": "below",
          "line": {
           "color": "white"
          },
          "path": "M 81.505,48.426 L 81.69,48.426 Q 81.725,48.426 81.745,48.396 Q 81.765,48.366 81.765,48.326 Q 81.765,48.281 81.745,48.249 Q 81.725,48.216 81.69,48.211 L 81.505,48.211 Q 81.31,48.191 81.192,48.036 Q 81.075,47.881 81.075,47.661 Q 81.075,47.421 81.21,47.294 Q 81.345,47.166 81.525,47.166 Q 81.695,47.166 81.817,47.264 Q 81.94,47.361 81.94,47.531 Q 81.94,47.641 81.897,47.679 Q 81.855,47.716 81.815,47.724 Q 81.775,47.731 81.775,47.736 Q 81.775,47.771 81.842,47.821 Q 81.91,47.871 82.005,47.871 Q 82.165,47.871 82.255,47.771 Q 82.345,47.671 82.345,47.516 Q 82.345,47.271 82.115,47.136 Q 81.885,47.001 81.52,47.001 Q 81.13,47.001 80.875,47.171 Q 80.62,47.341 80.62,47.661 Q 80.62,47.871 80.767,48.051 Q 80.915,48.231 81.19,48.306 L 81.19,48.326 Q 80.91,48.356 80.705,48.504 Q 80.5,48.651 80.5,48.971000000000004 Q 80.5,49.376 80.795,49.569 Q 81.09,49.761 81.535,49.761 Q 81.9,49.761 82.152,49.619 Q 82.405,49.476 82.405,49.201 Q 82.405,49.056 82.315,48.951 Q 82.225,48.846000000000004 82.065,48.846000000000004 Q 81.97,48.846000000000004 81.902,48.896 Q 81.835,48.946 81.835,48.981 Q 81.835,48.986 81.88,49.019 Q 81.925,49.051 81.962,49.106 Q 82.0,49.161 82.0,49.246 Q 82.0,49.400999999999996 81.867,49.489 Q 81.735,49.576 81.52,49.576 Q 80.985,49.576 80.985,48.981 Q 80.985,48.736 81.115,48.589 Q 81.245,48.441 81.505,48.426",
          "type": "path"
         },
         {
          "fillcolor": "white",
          "layer": "below",
          "line": {
           "color": "white"
          },
          "path": "M 81.69,6.7509999999999994 Q 81.3,6.7509999999999994 81.033,6.561 Q 80.765,6.371 80.633,6.056 Q 80.5,5.741 80.5,5.371 Q 80.5,4.996 80.633,4.686 Q 80.765,4.376 81.033,4.188 Q 81.3,4.0009999999999994 81.69,4.0009999999999994 Q 82.06,4.0009999999999994 82.33,4.191 Q 82.6,4.381 82.74,4.696 Q 82.88,5.011 82.88,5.371 Q 82.88,5.731 82.74,6.045999999999999 Q 82.6,6.361000000000001 82.33,6.556 Q 82.06,6.7509999999999994 81.69,6.7509999999999994 M 81.695,6.566 Q 82.03,6.566 82.215,6.256 Q 82.4,5.946 82.4,5.371 Q 82.4,4.796 82.215,4.491 Q 82.03,4.186 81.695,4.186 Q 81.35,4.186 81.165,4.4879999999999995 Q 80.98,4.791 80.98,5.371 Q 80.98,5.9510000000000005 81.165,6.258 Q 81.35,6.566 81.695,6.566",
          "type": "path"
         },
         {
          "fillcolor": "white",
          "layer": "below",
          "line": {
           "color": "white"
          },
          "path": "M 78.315,47.011 Q 78.705,47.011 78.972,47.201 Q 79.24,47.391 79.372,47.706 Q 79.505,48.021 79.505,48.391 Q 79.505,48.766 79.372,49.076 Q 79.24,49.386 78.972,49.574 Q 78.705,49.761 78.315,49.761 Q 77.945,49.761 77.675,49.571 Q 77.405,49.381 77.265,49.066 Q 77.125,48.751 77.125,48.391 Q 77.125,48.031 77.265,47.716 Q 77.405,47.401 77.675,47.206 Q 77.945,47.011 78.315,47.011 M 78.30999999999999,47.196 Q 77.975,47.196 77.78999999999999,47.506 Q 77.60499999999999,47.816 77.60499999999999,48.391 Q 77.60499999999999,48.966 77.78999999999999,49.271 Q 77.975,49.576 78.30999999999999,49.576 Q 78.655,49.576 78.83999999999999,49.274 Q 79.02499999999999,48.971 79.02499999999999,48.391 Q 79.02499999999999,47.811 78.83999999999999,47.504 Q 78.655,47.196 78.30999999999999,47.196",
          "type": "path"
         },
         {
          "fillcolor": "white",
          "layer": "below",
          "line": {
           "color": "white"
          },
          "path": "M 87.747,4.38 L 87.747,4.355 L 89.087,4.355 A 0.449,0.449 180.0 0,0 89.26899999999999,4.327 Q 89.327,4.3 89.327,4.18 Q 89.327,4.0 89.152,4.0 L 87.477,4.0 Q 87.30199999999999,4.0 87.30199999999999,4.18 Q 87.307,4.285 87.359,4.35 Q 87.41199999999999,4.415 87.532,4.495 Q 87.92699999999999,4.76 88.14399999999999,4.932 Q 88.362,5.105 88.53699999999999,5.37 Q 88.712,5.635 88.712,5.965 Q 88.712,6.205 88.584,6.337 Q 88.457,6.47 88.227,6.47 Q 88.032,6.47 87.904,6.372 Q 87.777,6.275 87.777,6.105 Q 87.777,6.02 87.817,5.962 Q 87.857,5.904999999999999 87.899,5.87 Q 87.942,5.835 87.942,5.83 Q 87.942,5.795 87.874,5.745 Q 87.807,5.695 87.712,5.695 Q 87.557,5.695 87.464,5.792 Q 87.372,5.89 87.372,6.04 Q 87.372,6.24 87.50699999999999,6.38 Q 87.642,6.52 87.849,6.585 Q 88.057,6.65 88.27199999999999,6.65 Q 88.64699999999999,6.65 88.919,6.465 Q 89.192,6.279999999999999 89.192,5.9 Q 89.192,5.625 89.042,5.4 Q 88.892,5.175 88.684,5.0169999999999995 Q 88.477,4.859999999999999 88.142,4.645 Q 87.877,4.48 87.747,4.38",
          "type": "path"
         },
         {
          "fillcolor": "white",
          "layer": "below",
          "line": {
           "color": "white"
          },
          "path": "M 92.082,49.27 L 92.082,49.295 L 90.742,49.295 A 0.449,0.449 360.0 0,0 90.56,49.323 Q 90.502,49.35 90.502,49.47 Q 90.502,49.65 90.677,49.65 L 92.352,49.65 Q 92.527,49.65 92.527,49.47 Q 92.522,49.365 92.47,49.3 Q 92.417,49.235 92.297,49.155 Q 91.902,48.89 91.685,48.718 Q 91.467,48.545 91.292,48.28 Q 91.117,48.015 91.117,47.685 Q 91.117,47.445 91.245,47.313 Q 91.372,47.18 91.602,47.18 Q 91.797,47.18 91.925,47.278 Q 92.052,47.375 92.052,47.545 Q 92.052,47.63 92.012,47.688 Q 91.972,47.745 91.93,47.78 Q 91.887,47.815 91.887,47.82 Q 91.887,47.855 91.955,47.905 Q 92.022,47.955 92.117,47.955 Q 92.272,47.955 92.365,47.858 Q 92.457,47.76 92.457,47.61 Q 92.457,47.41 92.322,47.27 Q 92.187,47.13 91.98,47.065 Q 91.772,47.0 91.557,47.0 Q 91.182,47.0 90.91,47.185 Q 90.637,47.37 90.637,47.75 Q 90.637,48.025 90.787,48.25 Q 90.937,48.475 91.145,48.633 Q 91.352,48.79 91.687,49.005 Q 91.952,49.17 92.082,49.27",
          "type": "path"
         },
         {
          "fillcolor": "white",
          "layer": "below",
          "line": {
           "color": "white"
          },
          "path": "M 91.69,6.7509999999999994 Q 91.3,6.7509999999999994 91.033,6.561 Q 90.765,6.371 90.633,6.056 Q 90.5,5.741 90.5,5.371 Q 90.5,4.996 90.633,4.686 Q 90.765,4.376 91.033,4.188 Q 91.3,4.0009999999999994 91.69,4.0009999999999994 Q 92.06,4.0009999999999994 92.33,4.191 Q 92.6,4.381 92.74,4.696 Q 92.88,5.011 92.88,5.371 Q 92.88,5.731 92.74,6.045999999999999 Q 92.6,6.361000000000001 92.33,6.556 Q 92.06,6.7509999999999994 91.69,6.7509999999999994 M 91.695,6.566 Q 92.03,6.566 92.215,6.256 Q 92.4,5.946 92.4,5.371 Q 92.4,4.796 92.215,4.491 Q 92.03,4.186 91.695,4.186 Q 91.35,4.186 91.165,4.4879999999999995 Q 90.98,4.791 90.98,5.371 Q 90.98,5.9510000000000005 91.165,6.258 Q 91.35,6.566 91.695,6.566",
          "type": "path"
         },
         {
          "fillcolor": "white",
          "layer": "below",
          "line": {
           "color": "white"
          },
          "path": "M 88.439,46.899 Q 88.829,46.899 89.09599999999999,47.089 Q 89.36399999999999,47.278999999999996 89.496,47.594 Q 89.62899999999999,47.909 89.62899999999999,48.278999999999996 Q 89.62899999999999,48.653999999999996 89.496,48.964 Q 89.36399999999999,49.274 89.09599999999999,49.462 Q 88.829,49.649 88.439,49.649 Q 88.06899999999999,49.649 87.79899999999999,49.459 Q 87.529,49.269 87.389,48.954 Q 87.249,48.639 87.249,48.279 Q 87.249,47.919 87.389,47.604 Q 87.529,47.289 87.79899999999999,47.094 Q 88.06899999999999,46.899 88.439,46.899 M 88.434,47.084 Q 88.09899999999999,47.084 87.91399999999999,47.394 Q 87.729,47.704 87.729,48.278999999999996 Q 87.729,48.854 87.91399999999999,49.159 Q 88.09899999999999,49.464 88.434,49.464 Q 88.779,49.464 88.964,49.162 Q 89.149,48.859 89.149,48.278999999999996 Q 89.149,47.699 88.964,47.392 Q 88.779,47.084 88.434,47.084",
          "type": "path"
         },
         {
          "fillcolor": "white",
          "layer": "below",
          "line": {
           "color": "white"
          },
          "path": "M 98.01299999999999,4.68 L 98.01299999999999,5.72 A 3.257,3.257 180.0 0,1 98.014,5.789 A 1.126,1.126 180.0 0,1 97.991,6.057 Q 97.963,6.16 97.893,6.1899999999999995 Q 97.823,6.22 97.663,6.22 L 97.41799999999999,6.22 A 0.095,0.095 180.0 0,0 97.328,6.34 Q 97.333,6.415 97.358,6.432 Q 97.383,6.45 97.42099999999999,6.45 L 97.473,6.45 Q 97.68299999999999,6.45 97.883,6.5169999999999995 Q 98.083,6.585 98.318,6.68 Q 98.348,6.6899999999999995 98.368,6.6899999999999995 Q 98.448,6.6899999999999995 98.448,6.574999999999999 L 98.448,4.68 Q 98.448,4.46 98.50099999999999,4.365 Q 98.553,4.27 98.666,4.245 Q 98.77799999999999,4.22 99.02799999999999,4.22 L 99.078,4.22 Q 99.118,4.22 99.136,4.199999999999999 Q 99.15299999999999,4.18 99.158,4.12 Q 99.158,4.0 99.068,4.0 Q 98.708,4.015000000000001 98.228,4.015000000000001 Q 97.753,4.015000000000001 97.393,4.0 A 0.095,0.095 180.0 0,0 97.303,4.12 Q 97.30799999999999,4.18 97.326,4.199999999999999 Q 97.343,4.22 97.383,4.22 Q 97.663,4.22 97.78099999999999,4.242 Q 97.898,4.265000000000001 97.956,4.359999999999999 Q 98.01299999999999,4.455 98.01299999999999,4.68 L 98.01299999999999,4.68",
          "type": "path"
         },
         {
          "fillcolor": "white",
          "layer": "below",
          "line": {
           "color": "white"
          },
          "path": "M 101.64464761515876,49.01 L 101.64464761515876,47.97 A 3.257,3.257 360.0 0,1 101.64364761515876,47.901 A 1.126,1.126 360.0 0,1 101.66664761515877,47.633 Q 101.69464761515876,47.53 101.76464761515876,47.5 Q 101.83464761515876,47.47 101.99464761515877,47.47 L 102.23964761515876,47.47 A 0.095,0.095 360.0 0,0 102.32964761515876,47.35 Q 102.32464761515877,47.275 102.29964761515876,47.258 Q 102.27464761515876,47.24 102.23664761515876,47.24 L 102.18464761515877,47.24 Q 101.97464761515876,47.24 101.77464761515876,47.173 Q 101.57464761515877,47.105 101.33964761515877,47.01 Q 101.30964761515877,47.0 101.28964761515876,47.0 Q 101.20964761515876,47.0 101.20964761515876,47.115 L 101.20964761515876,49.01 Q 101.20964761515876,49.23 101.15664761515876,49.325 Q 101.10464761515877,49.42 100.99164761515877,49.445 Q 100.87964761515876,49.47 100.62964761515876,49.47 L 100.57964761515876,49.47 Q 100.53964761515876,49.47 100.52164761515876,49.49 Q 100.50464761515876,49.51 100.49964761515876,49.57 Q 100.49964761515876,49.69 100.58964761515877,49.69 Q 100.94964761515877,49.675 101.42964761515876,49.675 Q 101.90464761515877,49.675 102.26464761515876,49.69 A 0.095,0.095 360.0 0,0 102.35464761515877,49.57 Q 102.34964761515876,49.51 102.33164761515876,49.49 Q 102.31464761515876,49.47 102.27464761515876,49.47 Q 101.99464761515877,49.47 101.87664761515876,49.448 Q 101.75964761515877,49.425 101.70164761515876,49.33 Q 101.64464761515876,49.235 101.64464761515876,49.01 L 101.64464761515876,49.01",
          "type": "path"
         },
         {
          "fillcolor": "white",
          "layer": "below",
          "line": {
           "color": "white"
          },
          "path": "M 101.69,6.7509999999999994 Q 101.3,6.7509999999999994 101.033,6.561 Q 100.765,6.371 100.633,6.056 Q 100.5,5.741 100.5,5.371 Q 100.5,4.996 100.633,4.686 Q 100.765,4.376 101.033,4.188 Q 101.3,4.0009999999999994 101.69,4.0009999999999994 Q 102.06,4.0009999999999994 102.33,4.191 Q 102.6,4.381 102.74,4.696 Q 102.88,5.011 102.88,5.371 Q 102.88,5.731 102.74,6.045999999999999 Q 102.6,6.361000000000001 102.33,6.556 Q 102.06,6.7509999999999994 101.69,6.7509999999999994 M 101.695,6.566 Q 102.03,6.566 102.215,6.256 Q 102.4,5.946 102.4,5.371 Q 102.4,4.796 102.215,4.491 Q 102.03,4.186 101.695,4.186 Q 101.35,4.186 101.165,4.4879999999999995 Q 100.98,4.791 100.98,5.371 Q 100.98,5.9510000000000005 101.165,6.258 Q 101.35,6.566 101.695,6.566",
          "type": "path"
         },
         {
          "fillcolor": "white",
          "layer": "below",
          "line": {
           "color": "white"
          },
          "path": "M 98.26764761515875,46.939 Q 98.65764761515875,46.939 98.92464761515876,47.129 Q 99.19264761515876,47.319 99.32464761515875,47.634 Q 99.45764761515876,47.949 99.45764761515876,48.319 Q 99.45764761515876,48.694 99.32464761515875,49.004 Q 99.19264761515876,49.314 98.92464761515876,49.502 Q 98.65764761515875,49.689 98.26764761515875,49.689 Q 97.89764761515876,49.689 97.62764761515875,49.499 Q 97.35764761515875,49.309 97.21764761515875,48.994 Q 97.07764761515875,48.679 97.07764761515875,48.319 Q 97.07764761515875,47.959 97.21764761515875,47.644 Q 97.35764761515875,47.329 97.62764761515875,47.134 Q 97.89764761515876,46.939 98.26764761515875,46.939 M 98.26264761515876,47.124 Q 97.92764761515876,47.124 97.74264761515876,47.434 Q 97.55764761515876,47.744 97.55764761515876,48.319 Q 97.55764761515876,48.894 97.74264761515876,49.199 Q 97.92764761515876,49.504 98.26264761515876,49.504 Q 98.60764761515875,49.504 98.79264761515876,49.202 Q 98.97764761515876,48.899 98.97764761515876,48.319 Q 98.97764761515876,47.739 98.79264761515876,47.432 Q 98.60764761515875,47.124 98.26264761515876,47.124",
          "type": "path"
         },
         {
          "fillcolor": "white",
          "layer": "below",
          "line": {
           "color": "white"
          },
          "path": "M 16.9,5.0 L 16.1,5.2 L 16.9,5.4 L 16.9,5.0",
          "type": "path"
         },
         {
          "fillcolor": "white",
          "layer": "below",
          "line": {
           "color": "white"
          },
          "path": "M 26.9,5.0 L 26.1,5.2 L 26.9,5.4 L 26.9,5.0",
          "type": "path"
         },
         {
          "fillcolor": "white",
          "layer": "below",
          "line": {
           "color": "white"
          },
          "path": "M 36.9,5.0 L 36.1,5.2 L 36.9,5.4 L 36.9,5.0",
          "type": "path"
         },
         {
          "fillcolor": "white",
          "layer": "below",
          "line": {
           "color": "white"
          },
          "path": "M 46.9,5.0 L 46.1,5.2 L 46.9,5.4 L 46.9,5.0",
          "type": "path"
         },
         {
          "fillcolor": "white",
          "layer": "below",
          "line": {
           "color": "white"
          },
          "path": "M 73.39999999999999,5.4 L 74.2,5.2 L 73.39999999999999,5.0 L 73.39999999999999,5.4",
          "type": "path"
         },
         {
          "fillcolor": "white",
          "layer": "below",
          "line": {
           "color": "white"
          },
          "path": "M 83.39999999999999,5.4 L 84.2,5.2 L 83.39999999999999,5.0 L 83.39999999999999,5.4",
          "type": "path"
         },
         {
          "fillcolor": "white",
          "layer": "below",
          "line": {
           "color": "white"
          },
          "path": "M 93.39999999999999,5.4 L 94.2,5.2 L 93.39999999999999,5.0 L 93.39999999999999,5.4",
          "type": "path"
         },
         {
          "fillcolor": "white",
          "layer": "below",
          "line": {
           "color": "white"
          },
          "path": "M 103.39999999999999,5.4 L 104.2,5.2 L 103.39999999999999,5.0 L 103.39999999999999,5.4",
          "type": "path"
         },
         {
          "fillcolor": "white",
          "layer": "below",
          "line": {
           "color": "white"
          },
          "path": "M 103.1,48.7 L 103.9,48.5 L 103.1,48.3 L 103.1,48.7",
          "type": "path"
         },
         {
          "fillcolor": "white",
          "layer": "below",
          "line": {
           "color": "white"
          },
          "path": "M 93.1,48.7 L 93.9,48.5 L 93.1,48.3 L 93.1,48.7",
          "type": "path"
         },
         {
          "fillcolor": "white",
          "layer": "below",
          "line": {
           "color": "white"
          },
          "path": "M 83.1,48.7 L 83.9,48.5 L 83.1,48.3 L 83.1,48.7",
          "type": "path"
         },
         {
          "fillcolor": "white",
          "layer": "below",
          "line": {
           "color": "white"
          },
          "path": "M 73.1,48.7 L 73.9,48.5 L 73.1,48.3 L 73.1,48.7",
          "type": "path"
         },
         {
          "fillcolor": "white",
          "layer": "below",
          "line": {
           "color": "white"
          },
          "path": "M 46.6,48.3 L 45.800000000000004,48.5 L 46.6,48.7 L 46.6,48.3",
          "type": "path"
         },
         {
          "fillcolor": "white",
          "layer": "below",
          "line": {
           "color": "white"
          },
          "path": "M 36.6,48.3 L 35.800000000000004,48.5 L 36.6,48.7 L 36.6,48.3",
          "type": "path"
         },
         {
          "fillcolor": "white",
          "layer": "below",
          "line": {
           "color": "white"
          },
          "path": "M 26.6,48.3 L 25.800000000000004,48.5 L 26.6,48.7 L 26.6,48.3",
          "type": "path"
         },
         {
          "fillcolor": "white",
          "layer": "below",
          "line": {
           "color": "white"
          },
          "path": "M 16.6,48.3 L 15.800000000000002,48.5 L 16.6,48.7 L 16.6,48.3",
          "type": "path"
         }
        ],
        "template": {
         "data": {
          "bar": [
           {
            "error_x": {
             "color": "#2a3f5f"
            },
            "error_y": {
             "color": "#2a3f5f"
            },
            "marker": {
             "line": {
              "color": "#E5ECF6",
              "width": 0.5
             }
            },
            "type": "bar"
           }
          ],
          "barpolar": [
           {
            "marker": {
             "line": {
              "color": "#E5ECF6",
              "width": 0.5
             }
            },
            "type": "barpolar"
           }
          ],
          "carpet": [
           {
            "aaxis": {
             "endlinecolor": "#2a3f5f",
             "gridcolor": "white",
             "linecolor": "white",
             "minorgridcolor": "white",
             "startlinecolor": "#2a3f5f"
            },
            "baxis": {
             "endlinecolor": "#2a3f5f",
             "gridcolor": "white",
             "linecolor": "white",
             "minorgridcolor": "white",
             "startlinecolor": "#2a3f5f"
            },
            "type": "carpet"
           }
          ],
          "choropleth": [
           {
            "colorbar": {
             "outlinewidth": 0,
             "ticks": ""
            },
            "type": "choropleth"
           }
          ],
          "contour": [
           {
            "colorbar": {
             "outlinewidth": 0,
             "ticks": ""
            },
            "colorscale": [
             [
              0,
              "#0d0887"
             ],
             [
              0.1111111111111111,
              "#46039f"
             ],
             [
              0.2222222222222222,
              "#7201a8"
             ],
             [
              0.3333333333333333,
              "#9c179e"
             ],
             [
              0.4444444444444444,
              "#bd3786"
             ],
             [
              0.5555555555555556,
              "#d8576b"
             ],
             [
              0.6666666666666666,
              "#ed7953"
             ],
             [
              0.7777777777777778,
              "#fb9f3a"
             ],
             [
              0.8888888888888888,
              "#fdca26"
             ],
             [
              1,
              "#f0f921"
             ]
            ],
            "type": "contour"
           }
          ],
          "contourcarpet": [
           {
            "colorbar": {
             "outlinewidth": 0,
             "ticks": ""
            },
            "type": "contourcarpet"
           }
          ],
          "heatmap": [
           {
            "colorbar": {
             "outlinewidth": 0,
             "ticks": ""
            },
            "colorscale": [
             [
              0,
              "#0d0887"
             ],
             [
              0.1111111111111111,
              "#46039f"
             ],
             [
              0.2222222222222222,
              "#7201a8"
             ],
             [
              0.3333333333333333,
              "#9c179e"
             ],
             [
              0.4444444444444444,
              "#bd3786"
             ],
             [
              0.5555555555555556,
              "#d8576b"
             ],
             [
              0.6666666666666666,
              "#ed7953"
             ],
             [
              0.7777777777777778,
              "#fb9f3a"
             ],
             [
              0.8888888888888888,
              "#fdca26"
             ],
             [
              1,
              "#f0f921"
             ]
            ],
            "type": "heatmap"
           }
          ],
          "heatmapgl": [
           {
            "colorbar": {
             "outlinewidth": 0,
             "ticks": ""
            },
            "colorscale": [
             [
              0,
              "#0d0887"
             ],
             [
              0.1111111111111111,
              "#46039f"
             ],
             [
              0.2222222222222222,
              "#7201a8"
             ],
             [
              0.3333333333333333,
              "#9c179e"
             ],
             [
              0.4444444444444444,
              "#bd3786"
             ],
             [
              0.5555555555555556,
              "#d8576b"
             ],
             [
              0.6666666666666666,
              "#ed7953"
             ],
             [
              0.7777777777777778,
              "#fb9f3a"
             ],
             [
              0.8888888888888888,
              "#fdca26"
             ],
             [
              1,
              "#f0f921"
             ]
            ],
            "type": "heatmapgl"
           }
          ],
          "histogram": [
           {
            "marker": {
             "colorbar": {
              "outlinewidth": 0,
              "ticks": ""
             }
            },
            "type": "histogram"
           }
          ],
          "histogram2d": [
           {
            "colorbar": {
             "outlinewidth": 0,
             "ticks": ""
            },
            "colorscale": [
             [
              0,
              "#0d0887"
             ],
             [
              0.1111111111111111,
              "#46039f"
             ],
             [
              0.2222222222222222,
              "#7201a8"
             ],
             [
              0.3333333333333333,
              "#9c179e"
             ],
             [
              0.4444444444444444,
              "#bd3786"
             ],
             [
              0.5555555555555556,
              "#d8576b"
             ],
             [
              0.6666666666666666,
              "#ed7953"
             ],
             [
              0.7777777777777778,
              "#fb9f3a"
             ],
             [
              0.8888888888888888,
              "#fdca26"
             ],
             [
              1,
              "#f0f921"
             ]
            ],
            "type": "histogram2d"
           }
          ],
          "histogram2dcontour": [
           {
            "colorbar": {
             "outlinewidth": 0,
             "ticks": ""
            },
            "colorscale": [
             [
              0,
              "#0d0887"
             ],
             [
              0.1111111111111111,
              "#46039f"
             ],
             [
              0.2222222222222222,
              "#7201a8"
             ],
             [
              0.3333333333333333,
              "#9c179e"
             ],
             [
              0.4444444444444444,
              "#bd3786"
             ],
             [
              0.5555555555555556,
              "#d8576b"
             ],
             [
              0.6666666666666666,
              "#ed7953"
             ],
             [
              0.7777777777777778,
              "#fb9f3a"
             ],
             [
              0.8888888888888888,
              "#fdca26"
             ],
             [
              1,
              "#f0f921"
             ]
            ],
            "type": "histogram2dcontour"
           }
          ],
          "mesh3d": [
           {
            "colorbar": {
             "outlinewidth": 0,
             "ticks": ""
            },
            "type": "mesh3d"
           }
          ],
          "parcoords": [
           {
            "line": {
             "colorbar": {
              "outlinewidth": 0,
              "ticks": ""
             }
            },
            "type": "parcoords"
           }
          ],
          "pie": [
           {
            "automargin": true,
            "type": "pie"
           }
          ],
          "scatter": [
           {
            "marker": {
             "colorbar": {
              "outlinewidth": 0,
              "ticks": ""
             }
            },
            "type": "scatter"
           }
          ],
          "scatter3d": [
           {
            "line": {
             "colorbar": {
              "outlinewidth": 0,
              "ticks": ""
             }
            },
            "marker": {
             "colorbar": {
              "outlinewidth": 0,
              "ticks": ""
             }
            },
            "type": "scatter3d"
           }
          ],
          "scattercarpet": [
           {
            "marker": {
             "colorbar": {
              "outlinewidth": 0,
              "ticks": ""
             }
            },
            "type": "scattercarpet"
           }
          ],
          "scattergeo": [
           {
            "marker": {
             "colorbar": {
              "outlinewidth": 0,
              "ticks": ""
             }
            },
            "type": "scattergeo"
           }
          ],
          "scattergl": [
           {
            "marker": {
             "colorbar": {
              "outlinewidth": 0,
              "ticks": ""
             }
            },
            "type": "scattergl"
           }
          ],
          "scattermapbox": [
           {
            "marker": {
             "colorbar": {
              "outlinewidth": 0,
              "ticks": ""
             }
            },
            "type": "scattermapbox"
           }
          ],
          "scatterpolar": [
           {
            "marker": {
             "colorbar": {
              "outlinewidth": 0,
              "ticks": ""
             }
            },
            "type": "scatterpolar"
           }
          ],
          "scatterpolargl": [
           {
            "marker": {
             "colorbar": {
              "outlinewidth": 0,
              "ticks": ""
             }
            },
            "type": "scatterpolargl"
           }
          ],
          "scatterternary": [
           {
            "marker": {
             "colorbar": {
              "outlinewidth": 0,
              "ticks": ""
             }
            },
            "type": "scatterternary"
           }
          ],
          "surface": [
           {
            "colorbar": {
             "outlinewidth": 0,
             "ticks": ""
            },
            "colorscale": [
             [
              0,
              "#0d0887"
             ],
             [
              0.1111111111111111,
              "#46039f"
             ],
             [
              0.2222222222222222,
              "#7201a8"
             ],
             [
              0.3333333333333333,
              "#9c179e"
             ],
             [
              0.4444444444444444,
              "#bd3786"
             ],
             [
              0.5555555555555556,
              "#d8576b"
             ],
             [
              0.6666666666666666,
              "#ed7953"
             ],
             [
              0.7777777777777778,
              "#fb9f3a"
             ],
             [
              0.8888888888888888,
              "#fdca26"
             ],
             [
              1,
              "#f0f921"
             ]
            ],
            "type": "surface"
           }
          ],
          "table": [
           {
            "cells": {
             "fill": {
              "color": "#EBF0F8"
             },
             "line": {
              "color": "white"
             }
            },
            "header": {
             "fill": {
              "color": "#C8D4E3"
             },
             "line": {
              "color": "white"
             }
            },
            "type": "table"
           }
          ]
         },
         "layout": {
          "annotationdefaults": {
           "arrowcolor": "#2a3f5f",
           "arrowhead": 0,
           "arrowwidth": 1
          },
          "autotypenumbers": "strict",
          "coloraxis": {
           "colorbar": {
            "outlinewidth": 0,
            "ticks": ""
           }
          },
          "colorscale": {
           "diverging": [
            [
             0,
             "#8e0152"
            ],
            [
             0.1,
             "#c51b7d"
            ],
            [
             0.2,
             "#de77ae"
            ],
            [
             0.3,
             "#f1b6da"
            ],
            [
             0.4,
             "#fde0ef"
            ],
            [
             0.5,
             "#f7f7f7"
            ],
            [
             0.6,
             "#e6f5d0"
            ],
            [
             0.7,
             "#b8e186"
            ],
            [
             0.8,
             "#7fbc41"
            ],
            [
             0.9,
             "#4d9221"
            ],
            [
             1,
             "#276419"
            ]
           ],
           "sequential": [
            [
             0,
             "#0d0887"
            ],
            [
             0.1111111111111111,
             "#46039f"
            ],
            [
             0.2222222222222222,
             "#7201a8"
            ],
            [
             0.3333333333333333,
             "#9c179e"
            ],
            [
             0.4444444444444444,
             "#bd3786"
            ],
            [
             0.5555555555555556,
             "#d8576b"
            ],
            [
             0.6666666666666666,
             "#ed7953"
            ],
            [
             0.7777777777777778,
             "#fb9f3a"
            ],
            [
             0.8888888888888888,
             "#fdca26"
            ],
            [
             1,
             "#f0f921"
            ]
           ],
           "sequentialminus": [
            [
             0,
             "#0d0887"
            ],
            [
             0.1111111111111111,
             "#46039f"
            ],
            [
             0.2222222222222222,
             "#7201a8"
            ],
            [
             0.3333333333333333,
             "#9c179e"
            ],
            [
             0.4444444444444444,
             "#bd3786"
            ],
            [
             0.5555555555555556,
             "#d8576b"
            ],
            [
             0.6666666666666666,
             "#ed7953"
            ],
            [
             0.7777777777777778,
             "#fb9f3a"
            ],
            [
             0.8888888888888888,
             "#fdca26"
            ],
            [
             1,
             "#f0f921"
            ]
           ]
          },
          "colorway": [
           "#636efa",
           "#EF553B",
           "#00cc96",
           "#ab63fa",
           "#FFA15A",
           "#19d3f3",
           "#FF6692",
           "#B6E880",
           "#FF97FF",
           "#FECB52"
          ],
          "font": {
           "color": "#2a3f5f"
          },
          "geo": {
           "bgcolor": "white",
           "lakecolor": "white",
           "landcolor": "#E5ECF6",
           "showlakes": true,
           "showland": true,
           "subunitcolor": "white"
          },
          "hoverlabel": {
           "align": "left"
          },
          "hovermode": "closest",
          "mapbox": {
           "style": "light"
          },
          "paper_bgcolor": "white",
          "plot_bgcolor": "#E5ECF6",
          "polar": {
           "angularaxis": {
            "gridcolor": "white",
            "linecolor": "white",
            "ticks": ""
           },
           "bgcolor": "#E5ECF6",
           "radialaxis": {
            "gridcolor": "white",
            "linecolor": "white",
            "ticks": ""
           }
          },
          "scene": {
           "xaxis": {
            "backgroundcolor": "#E5ECF6",
            "gridcolor": "white",
            "gridwidth": 2,
            "linecolor": "white",
            "showbackground": true,
            "ticks": "",
            "zerolinecolor": "white"
           },
           "yaxis": {
            "backgroundcolor": "#E5ECF6",
            "gridcolor": "white",
            "gridwidth": 2,
            "linecolor": "white",
            "showbackground": true,
            "ticks": "",
            "zerolinecolor": "white"
           },
           "zaxis": {
            "backgroundcolor": "#E5ECF6",
            "gridcolor": "white",
            "gridwidth": 2,
            "linecolor": "white",
            "showbackground": true,
            "ticks": "",
            "zerolinecolor": "white"
           }
          },
          "shapedefaults": {
           "line": {
            "color": "#2a3f5f"
           }
          },
          "ternary": {
           "aaxis": {
            "gridcolor": "white",
            "linecolor": "white",
            "ticks": ""
           },
           "baxis": {
            "gridcolor": "white",
            "linecolor": "white",
            "ticks": ""
           },
           "bgcolor": "#E5ECF6",
           "caxis": {
            "gridcolor": "white",
            "linecolor": "white",
            "ticks": ""
           }
          },
          "title": {
           "x": 0.05
          },
          "xaxis": {
           "automargin": true,
           "gridcolor": "white",
           "linecolor": "white",
           "ticks": "",
           "title": {
            "standoff": 15
           },
           "zerolinecolor": "white",
           "zerolinewidth": 2
          },
          "yaxis": {
           "automargin": true,
           "gridcolor": "white",
           "linecolor": "white",
           "ticks": "",
           "title": {
            "standoff": 15
           },
           "zerolinecolor": "white",
           "zerolinewidth": 2
          }
         }
        },
        "width": 900,
        "xaxis": {
         "range": [
          -3,
          123
         ],
         "showgrid": false,
         "showticklabels": false,
         "zeroline": false
        },
        "yaxis": {
         "range": [
          -5,
          58.3
         ],
         "showgrid": false,
         "showticklabels": false,
         "zeroline": false
        }
       }
      },
      "text/html": [
       "<div>                            <div id=\"ec36cc6f-03d7-435d-9946-60f5d2d63c57\" class=\"plotly-graph-div\" style=\"height:600px; width:900px;\"></div>            <script type=\"text/javascript\">                require([\"plotly\"], function(Plotly) {                    window.PLOTLYENV=window.PLOTLYENV || {};                                    if (document.getElementById(\"ec36cc6f-03d7-435d-9946-60f5d2d63c57\")) {                    Plotly.newPlot(                        \"ec36cc6f-03d7-435d-9946-60f5d2d63c57\",                        [],                        {\"height\": 600, \"margin\": {\"b\": 80, \"l\": 5, \"r\": 5, \"t\": 100}, \"plot_bgcolor\": \"rgb(195,217,192)\", \"shapes\": [{\"layer\": \"below\", \"line\": {\"color\": \"white\", \"width\": 5}, \"type\": \"line\", \"x0\": 0, \"x1\": 120, \"y0\": 0, \"y1\": 0}, {\"layer\": \"below\", \"line\": {\"color\": \"white\", \"width\": 5}, \"type\": \"line\", \"x0\": 0, \"x1\": 120, \"y0\": 53.3, \"y1\": 53.3}, {\"layer\": \"below\", \"line\": {\"color\": \"white\", \"width\": 5}, \"type\": \"line\", \"x0\": 0, \"x1\": 0, \"y0\": 0, \"y1\": 53.3}, {\"layer\": \"below\", \"line\": {\"color\": \"white\", \"width\": 5}, \"type\": \"line\", \"x0\": 120, \"x1\": 120, \"y0\": 0, \"y1\": 53.3}, {\"layer\": \"below\", \"line\": {\"color\": \"white\", \"width\": 2}, \"type\": \"line\", \"x0\": 10, \"x1\": 10, \"y0\": 0, \"y1\": 53.3}, {\"layer\": \"below\", \"line\": {\"color\": \"white\", \"width\": 2}, \"type\": \"line\", \"x0\": 15, \"x1\": 15, \"y0\": 0, \"y1\": 53.3}, {\"layer\": \"below\", \"line\": {\"color\": \"white\", \"width\": 2}, \"type\": \"line\", \"x0\": 20, \"x1\": 20, \"y0\": 0, \"y1\": 53.3}, {\"layer\": \"below\", \"line\": {\"color\": \"white\", \"width\": 2}, \"type\": \"line\", \"x0\": 25, \"x1\": 25, \"y0\": 0, \"y1\": 53.3}, {\"layer\": \"below\", \"line\": {\"color\": \"white\", \"width\": 2}, \"type\": \"line\", \"x0\": 30, \"x1\": 30, \"y0\": 0, \"y1\": 53.3}, {\"layer\": \"below\", \"line\": {\"color\": \"white\", \"width\": 2}, \"type\": \"line\", \"x0\": 35, \"x1\": 35, \"y0\": 0, \"y1\": 53.3}, {\"layer\": \"below\", \"line\": {\"color\": \"white\", \"width\": 2}, \"type\": \"line\", \"x0\": 40, \"x1\": 40, \"y0\": 0, \"y1\": 53.3}, {\"layer\": \"below\", \"line\": {\"color\": \"white\", \"width\": 2}, \"type\": \"line\", \"x0\": 45, \"x1\": 45, \"y0\": 0, \"y1\": 53.3}, {\"layer\": \"below\", \"line\": {\"color\": \"white\", \"width\": 2}, \"type\": \"line\", \"x0\": 50, \"x1\": 50, \"y0\": 0, \"y1\": 53.3}, {\"layer\": \"below\", \"line\": {\"color\": \"white\", \"width\": 2}, \"type\": \"line\", \"x0\": 55, \"x1\": 55, \"y0\": 0, \"y1\": 53.3}, {\"layer\": \"below\", \"line\": {\"color\": \"white\", \"width\": 2}, \"type\": \"line\", \"x0\": 60, \"x1\": 60, \"y0\": 0, \"y1\": 53.3}, {\"layer\": \"below\", \"line\": {\"color\": \"white\", \"width\": 2}, \"type\": \"line\", \"x0\": 65, \"x1\": 65, \"y0\": 0, \"y1\": 53.3}, {\"layer\": \"below\", \"line\": {\"color\": \"white\", \"width\": 2}, \"type\": \"line\", \"x0\": 70, \"x1\": 70, \"y0\": 0, \"y1\": 53.3}, {\"layer\": \"below\", \"line\": {\"color\": \"white\", \"width\": 2}, \"type\": \"line\", \"x0\": 75, \"x1\": 75, \"y0\": 0, \"y1\": 53.3}, {\"layer\": \"below\", \"line\": {\"color\": \"white\", \"width\": 2}, \"type\": \"line\", \"x0\": 80, \"x1\": 80, \"y0\": 0, \"y1\": 53.3}, {\"layer\": \"below\", \"line\": {\"color\": \"white\", \"width\": 2}, \"type\": \"line\", \"x0\": 85, \"x1\": 85, \"y0\": 0, \"y1\": 53.3}, {\"layer\": \"below\", \"line\": {\"color\": \"white\", \"width\": 2}, \"type\": \"line\", \"x0\": 90, \"x1\": 90, \"y0\": 0, \"y1\": 53.3}, {\"layer\": \"below\", \"line\": {\"color\": \"white\", \"width\": 2}, \"type\": \"line\", \"x0\": 95, \"x1\": 95, \"y0\": 0, \"y1\": 53.3}, {\"layer\": \"below\", \"line\": {\"color\": \"white\", \"width\": 2}, \"type\": \"line\", \"x0\": 100, \"x1\": 100, \"y0\": 0, \"y1\": 53.3}, {\"layer\": \"below\", \"line\": {\"color\": \"white\", \"width\": 2}, \"type\": \"line\", \"x0\": 105, \"x1\": 105, \"y0\": 0, \"y1\": 53.3}, {\"layer\": \"below\", \"line\": {\"color\": \"white\", \"width\": 2}, \"type\": \"line\", \"x0\": 110, \"x1\": 110, \"y0\": 0, \"y1\": 53.3}, {\"layer\": \"below\", \"line\": {\"color\": \"white\", \"width\": 2}, \"type\": \"line\", \"x0\": 11, \"x1\": 11, \"y0\": 1, \"y1\": 1.6666666666666665}, {\"layer\": \"below\", \"line\": {\"color\": \"white\", \"width\": 2}, \"type\": \"line\", \"x0\": 11, \"x1\": 11, \"y0\": 23.58333, \"y1\": 24.249996666666668}, {\"layer\": \"below\", \"line\": {\"color\": \"white\", \"width\": 2}, \"type\": \"line\", \"x0\": 11, \"x1\": 11, \"y0\": 29.08333, \"y1\": 29.749996666666668}, {\"layer\": \"below\", \"line\": {\"color\": \"white\", \"width\": 2}, \"type\": \"line\", \"x0\": 11, \"x1\": 11, \"y0\": 51.63333333333333, \"y1\": 52.3}, {\"layer\": \"below\", \"line\": {\"color\": \"white\", \"width\": 2}, \"type\": \"line\", \"x0\": 12, \"x1\": 12, \"y0\": 1, \"y1\": 1.6666666666666665}, {\"layer\": \"below\", \"line\": {\"color\": \"white\", \"width\": 2}, \"type\": \"line\", \"x0\": 12, \"x1\": 12, \"y0\": 23.58333, \"y1\": 24.249996666666668}, {\"layer\": \"below\", \"line\": {\"color\": \"white\", \"width\": 2}, \"type\": \"line\", \"x0\": 12, \"x1\": 12, \"y0\": 29.08333, \"y1\": 29.749996666666668}, {\"layer\": \"below\", \"line\": {\"color\": \"white\", \"width\": 2}, \"type\": \"line\", \"x0\": 12, \"x1\": 12, \"y0\": 51.63333333333333, \"y1\": 52.3}, {\"layer\": \"below\", \"line\": {\"color\": \"white\", \"width\": 2}, \"type\": \"line\", \"x0\": 13, \"x1\": 13, \"y0\": 1, \"y1\": 1.6666666666666665}, {\"layer\": \"below\", \"line\": {\"color\": \"white\", \"width\": 2}, \"type\": \"line\", \"x0\": 13, \"x1\": 13, \"y0\": 23.58333, \"y1\": 24.249996666666668}, {\"layer\": \"below\", \"line\": {\"color\": \"white\", \"width\": 2}, \"type\": \"line\", \"x0\": 13, \"x1\": 13, \"y0\": 29.08333, \"y1\": 29.749996666666668}, {\"layer\": \"below\", \"line\": {\"color\": \"white\", \"width\": 2}, \"type\": \"line\", \"x0\": 13, \"x1\": 13, \"y0\": 51.63333333333333, \"y1\": 52.3}, {\"layer\": \"below\", \"line\": {\"color\": \"white\", \"width\": 2}, \"type\": \"line\", \"x0\": 14, \"x1\": 14, \"y0\": 1, \"y1\": 1.6666666666666665}, {\"layer\": \"below\", \"line\": {\"color\": \"white\", \"width\": 2}, \"type\": \"line\", \"x0\": 14, \"x1\": 14, \"y0\": 23.58333, \"y1\": 24.249996666666668}, {\"layer\": \"below\", \"line\": {\"color\": \"white\", \"width\": 2}, \"type\": \"line\", \"x0\": 14, \"x1\": 14, \"y0\": 29.08333, \"y1\": 29.749996666666668}, {\"layer\": \"below\", \"line\": {\"color\": \"white\", \"width\": 2}, \"type\": \"line\", \"x0\": 14, \"x1\": 14, \"y0\": 51.63333333333333, \"y1\": 52.3}, {\"layer\": \"below\", \"line\": {\"color\": \"white\", \"width\": 2}, \"type\": \"line\", \"x0\": 15, \"x1\": 15, \"y0\": 1, \"y1\": 1.6666666666666665}, {\"layer\": \"below\", \"line\": {\"color\": \"white\", \"width\": 2}, \"type\": \"line\", \"x0\": 15, \"x1\": 15, \"y0\": 23.58333, \"y1\": 24.249996666666668}, {\"layer\": \"below\", \"line\": {\"color\": \"white\", \"width\": 2}, \"type\": \"line\", \"x0\": 15, \"x1\": 15, \"y0\": 29.08333, \"y1\": 29.749996666666668}, {\"layer\": \"below\", \"line\": {\"color\": \"white\", \"width\": 2}, \"type\": \"line\", \"x0\": 15, \"x1\": 15, \"y0\": 51.63333333333333, \"y1\": 52.3}, {\"layer\": \"below\", \"line\": {\"color\": \"white\", \"width\": 2}, \"type\": \"line\", \"x0\": 16, \"x1\": 16, \"y0\": 1, \"y1\": 1.6666666666666665}, {\"layer\": \"below\", \"line\": {\"color\": \"white\", \"width\": 2}, \"type\": \"line\", \"x0\": 16, \"x1\": 16, \"y0\": 23.58333, \"y1\": 24.249996666666668}, {\"layer\": \"below\", \"line\": {\"color\": \"white\", \"width\": 2}, \"type\": \"line\", \"x0\": 16, \"x1\": 16, \"y0\": 29.08333, \"y1\": 29.749996666666668}, {\"layer\": \"below\", \"line\": {\"color\": \"white\", \"width\": 2}, \"type\": \"line\", \"x0\": 16, \"x1\": 16, \"y0\": 51.63333333333333, \"y1\": 52.3}, {\"layer\": \"below\", \"line\": {\"color\": \"white\", \"width\": 2}, \"type\": \"line\", \"x0\": 17, \"x1\": 17, \"y0\": 1, \"y1\": 1.6666666666666665}, {\"layer\": \"below\", \"line\": {\"color\": \"white\", \"width\": 2}, \"type\": \"line\", \"x0\": 17, \"x1\": 17, \"y0\": 23.58333, \"y1\": 24.249996666666668}, {\"layer\": \"below\", \"line\": {\"color\": \"white\", \"width\": 2}, \"type\": \"line\", \"x0\": 17, \"x1\": 17, \"y0\": 29.08333, \"y1\": 29.749996666666668}, {\"layer\": \"below\", \"line\": {\"color\": \"white\", \"width\": 2}, \"type\": \"line\", \"x0\": 17, \"x1\": 17, \"y0\": 51.63333333333333, \"y1\": 52.3}, {\"layer\": \"below\", \"line\": {\"color\": \"white\", \"width\": 2}, \"type\": \"line\", \"x0\": 18, \"x1\": 18, \"y0\": 1, \"y1\": 1.6666666666666665}, {\"layer\": \"below\", \"line\": {\"color\": \"white\", \"width\": 2}, \"type\": \"line\", \"x0\": 18, \"x1\": 18, \"y0\": 23.58333, \"y1\": 24.249996666666668}, {\"layer\": \"below\", \"line\": {\"color\": \"white\", \"width\": 2}, \"type\": \"line\", \"x0\": 18, \"x1\": 18, \"y0\": 29.08333, \"y1\": 29.749996666666668}, {\"layer\": \"below\", \"line\": {\"color\": \"white\", \"width\": 2}, \"type\": \"line\", \"x0\": 18, \"x1\": 18, \"y0\": 51.63333333333333, \"y1\": 52.3}, {\"layer\": \"below\", \"line\": {\"color\": \"white\", \"width\": 2}, \"type\": \"line\", \"x0\": 19, \"x1\": 19, \"y0\": 1, \"y1\": 1.6666666666666665}, {\"layer\": \"below\", \"line\": {\"color\": \"white\", \"width\": 2}, \"type\": \"line\", \"x0\": 19, \"x1\": 19, \"y0\": 23.58333, \"y1\": 24.249996666666668}, {\"layer\": \"below\", \"line\": {\"color\": \"white\", \"width\": 2}, \"type\": \"line\", \"x0\": 19, \"x1\": 19, \"y0\": 29.08333, \"y1\": 29.749996666666668}, {\"layer\": \"below\", \"line\": {\"color\": \"white\", \"width\": 2}, \"type\": \"line\", \"x0\": 19, \"x1\": 19, \"y0\": 51.63333333333333, \"y1\": 52.3}, {\"layer\": \"below\", \"line\": {\"color\": \"white\", \"width\": 2}, \"type\": \"line\", \"x0\": 21, \"x1\": 21, \"y0\": 1, \"y1\": 1.6666666666666665}, {\"layer\": \"below\", \"line\": {\"color\": \"white\", \"width\": 2}, \"type\": \"line\", \"x0\": 21, \"x1\": 21, \"y0\": 23.58333, \"y1\": 24.249996666666668}, {\"layer\": \"below\", \"line\": {\"color\": \"white\", \"width\": 2}, \"type\": \"line\", \"x0\": 21, \"x1\": 21, \"y0\": 29.08333, \"y1\": 29.749996666666668}, {\"layer\": \"below\", \"line\": {\"color\": \"white\", \"width\": 2}, \"type\": \"line\", \"x0\": 21, \"x1\": 21, \"y0\": 51.63333333333333, \"y1\": 52.3}, {\"layer\": \"below\", \"line\": {\"color\": \"white\", \"width\": 2}, \"type\": \"line\", \"x0\": 22, \"x1\": 22, \"y0\": 1, \"y1\": 1.6666666666666665}, {\"layer\": \"below\", \"line\": {\"color\": \"white\", \"width\": 2}, \"type\": \"line\", \"x0\": 22, \"x1\": 22, \"y0\": 23.58333, \"y1\": 24.249996666666668}, {\"layer\": \"below\", \"line\": {\"color\": \"white\", \"width\": 2}, \"type\": \"line\", \"x0\": 22, \"x1\": 22, \"y0\": 29.08333, \"y1\": 29.749996666666668}, {\"layer\": \"below\", \"line\": {\"color\": \"white\", \"width\": 2}, \"type\": \"line\", \"x0\": 22, \"x1\": 22, \"y0\": 51.63333333333333, \"y1\": 52.3}, {\"layer\": \"below\", \"line\": {\"color\": \"white\", \"width\": 2}, \"type\": \"line\", \"x0\": 23, \"x1\": 23, \"y0\": 1, \"y1\": 1.6666666666666665}, {\"layer\": \"below\", \"line\": {\"color\": \"white\", \"width\": 2}, \"type\": \"line\", \"x0\": 23, \"x1\": 23, \"y0\": 23.58333, \"y1\": 24.249996666666668}, {\"layer\": \"below\", \"line\": {\"color\": \"white\", \"width\": 2}, \"type\": \"line\", \"x0\": 23, \"x1\": 23, \"y0\": 29.08333, \"y1\": 29.749996666666668}, {\"layer\": \"below\", \"line\": {\"color\": \"white\", \"width\": 2}, \"type\": \"line\", \"x0\": 23, \"x1\": 23, \"y0\": 51.63333333333333, \"y1\": 52.3}, {\"layer\": \"below\", \"line\": {\"color\": \"white\", \"width\": 2}, \"type\": \"line\", \"x0\": 24, \"x1\": 24, \"y0\": 1, \"y1\": 1.6666666666666665}, {\"layer\": \"below\", \"line\": {\"color\": \"white\", \"width\": 2}, \"type\": \"line\", \"x0\": 24, \"x1\": 24, \"y0\": 23.58333, \"y1\": 24.249996666666668}, {\"layer\": \"below\", \"line\": {\"color\": \"white\", \"width\": 2}, \"type\": \"line\", \"x0\": 24, \"x1\": 24, \"y0\": 29.08333, \"y1\": 29.749996666666668}, {\"layer\": \"below\", \"line\": {\"color\": \"white\", \"width\": 2}, \"type\": \"line\", \"x0\": 24, \"x1\": 24, \"y0\": 51.63333333333333, \"y1\": 52.3}, {\"layer\": \"below\", \"line\": {\"color\": \"white\", \"width\": 2}, \"type\": \"line\", \"x0\": 25, \"x1\": 25, \"y0\": 1, \"y1\": 1.6666666666666665}, {\"layer\": \"below\", \"line\": {\"color\": \"white\", \"width\": 2}, \"type\": \"line\", \"x0\": 25, \"x1\": 25, \"y0\": 23.58333, \"y1\": 24.249996666666668}, {\"layer\": \"below\", \"line\": {\"color\": \"white\", \"width\": 2}, \"type\": \"line\", \"x0\": 25, \"x1\": 25, \"y0\": 29.08333, \"y1\": 29.749996666666668}, {\"layer\": \"below\", \"line\": {\"color\": \"white\", \"width\": 2}, \"type\": \"line\", \"x0\": 25, \"x1\": 25, \"y0\": 51.63333333333333, \"y1\": 52.3}, {\"layer\": \"below\", \"line\": {\"color\": \"white\", \"width\": 2}, \"type\": \"line\", \"x0\": 26, \"x1\": 26, \"y0\": 1, \"y1\": 1.6666666666666665}, {\"layer\": \"below\", \"line\": {\"color\": \"white\", \"width\": 2}, \"type\": \"line\", \"x0\": 26, \"x1\": 26, \"y0\": 23.58333, \"y1\": 24.249996666666668}, {\"layer\": \"below\", \"line\": {\"color\": \"white\", \"width\": 2}, \"type\": \"line\", \"x0\": 26, \"x1\": 26, \"y0\": 29.08333, \"y1\": 29.749996666666668}, {\"layer\": \"below\", \"line\": {\"color\": \"white\", \"width\": 2}, \"type\": \"line\", \"x0\": 26, \"x1\": 26, \"y0\": 51.63333333333333, \"y1\": 52.3}, {\"layer\": \"below\", \"line\": {\"color\": \"white\", \"width\": 2}, \"type\": \"line\", \"x0\": 27, \"x1\": 27, \"y0\": 1, \"y1\": 1.6666666666666665}, {\"layer\": \"below\", \"line\": {\"color\": \"white\", \"width\": 2}, \"type\": \"line\", \"x0\": 27, \"x1\": 27, \"y0\": 23.58333, \"y1\": 24.249996666666668}, {\"layer\": \"below\", \"line\": {\"color\": \"white\", \"width\": 2}, \"type\": \"line\", \"x0\": 27, \"x1\": 27, \"y0\": 29.08333, \"y1\": 29.749996666666668}, {\"layer\": \"below\", \"line\": {\"color\": \"white\", \"width\": 2}, \"type\": \"line\", \"x0\": 27, \"x1\": 27, \"y0\": 51.63333333333333, \"y1\": 52.3}, {\"layer\": \"below\", \"line\": {\"color\": \"white\", \"width\": 2}, \"type\": \"line\", \"x0\": 28, \"x1\": 28, \"y0\": 1, \"y1\": 1.6666666666666665}, {\"layer\": \"below\", \"line\": {\"color\": \"white\", \"width\": 2}, \"type\": \"line\", \"x0\": 28, \"x1\": 28, \"y0\": 23.58333, \"y1\": 24.249996666666668}, {\"layer\": \"below\", \"line\": {\"color\": \"white\", \"width\": 2}, \"type\": \"line\", \"x0\": 28, \"x1\": 28, \"y0\": 29.08333, \"y1\": 29.749996666666668}, {\"layer\": \"below\", \"line\": {\"color\": \"white\", \"width\": 2}, \"type\": \"line\", \"x0\": 28, \"x1\": 28, \"y0\": 51.63333333333333, \"y1\": 52.3}, {\"layer\": \"below\", \"line\": {\"color\": \"white\", \"width\": 2}, \"type\": \"line\", \"x0\": 29, \"x1\": 29, \"y0\": 1, \"y1\": 1.6666666666666665}, {\"layer\": \"below\", \"line\": {\"color\": \"white\", \"width\": 2}, \"type\": \"line\", \"x0\": 29, \"x1\": 29, \"y0\": 23.58333, \"y1\": 24.249996666666668}, {\"layer\": \"below\", \"line\": {\"color\": \"white\", \"width\": 2}, \"type\": \"line\", \"x0\": 29, \"x1\": 29, \"y0\": 29.08333, \"y1\": 29.749996666666668}, {\"layer\": \"below\", \"line\": {\"color\": \"white\", \"width\": 2}, \"type\": \"line\", \"x0\": 29, \"x1\": 29, \"y0\": 51.63333333333333, \"y1\": 52.3}, {\"layer\": \"below\", \"line\": {\"color\": \"white\", \"width\": 2}, \"type\": \"line\", \"x0\": 31, \"x1\": 31, \"y0\": 1, \"y1\": 1.6666666666666665}, {\"layer\": \"below\", \"line\": {\"color\": \"white\", \"width\": 2}, \"type\": \"line\", \"x0\": 31, \"x1\": 31, \"y0\": 23.58333, \"y1\": 24.249996666666668}, {\"layer\": \"below\", \"line\": {\"color\": \"white\", \"width\": 2}, \"type\": \"line\", \"x0\": 31, \"x1\": 31, \"y0\": 29.08333, \"y1\": 29.749996666666668}, {\"layer\": \"below\", \"line\": {\"color\": \"white\", \"width\": 2}, \"type\": \"line\", \"x0\": 31, \"x1\": 31, \"y0\": 51.63333333333333, \"y1\": 52.3}, {\"layer\": \"below\", \"line\": {\"color\": \"white\", \"width\": 2}, \"type\": \"line\", \"x0\": 32, \"x1\": 32, \"y0\": 1, \"y1\": 1.6666666666666665}, {\"layer\": \"below\", \"line\": {\"color\": \"white\", \"width\": 2}, \"type\": \"line\", \"x0\": 32, \"x1\": 32, \"y0\": 23.58333, \"y1\": 24.249996666666668}, {\"layer\": \"below\", \"line\": {\"color\": \"white\", \"width\": 2}, \"type\": \"line\", \"x0\": 32, \"x1\": 32, \"y0\": 29.08333, \"y1\": 29.749996666666668}, {\"layer\": \"below\", \"line\": {\"color\": \"white\", \"width\": 2}, \"type\": \"line\", \"x0\": 32, \"x1\": 32, \"y0\": 51.63333333333333, \"y1\": 52.3}, {\"layer\": \"below\", \"line\": {\"color\": \"white\", \"width\": 2}, \"type\": \"line\", \"x0\": 33, \"x1\": 33, \"y0\": 1, \"y1\": 1.6666666666666665}, {\"layer\": \"below\", \"line\": {\"color\": \"white\", \"width\": 2}, \"type\": \"line\", \"x0\": 33, \"x1\": 33, \"y0\": 23.58333, \"y1\": 24.249996666666668}, {\"layer\": \"below\", \"line\": {\"color\": \"white\", \"width\": 2}, \"type\": \"line\", \"x0\": 33, \"x1\": 33, \"y0\": 29.08333, \"y1\": 29.749996666666668}, {\"layer\": \"below\", \"line\": {\"color\": \"white\", \"width\": 2}, \"type\": \"line\", \"x0\": 33, \"x1\": 33, \"y0\": 51.63333333333333, \"y1\": 52.3}, {\"layer\": \"below\", \"line\": {\"color\": \"white\", \"width\": 2}, \"type\": \"line\", \"x0\": 34, \"x1\": 34, \"y0\": 1, \"y1\": 1.6666666666666665}, {\"layer\": \"below\", \"line\": {\"color\": \"white\", \"width\": 2}, \"type\": \"line\", \"x0\": 34, \"x1\": 34, \"y0\": 23.58333, \"y1\": 24.249996666666668}, {\"layer\": \"below\", \"line\": {\"color\": \"white\", \"width\": 2}, \"type\": \"line\", \"x0\": 34, \"x1\": 34, \"y0\": 29.08333, \"y1\": 29.749996666666668}, {\"layer\": \"below\", \"line\": {\"color\": \"white\", \"width\": 2}, \"type\": \"line\", \"x0\": 34, \"x1\": 34, \"y0\": 51.63333333333333, \"y1\": 52.3}, {\"layer\": \"below\", \"line\": {\"color\": \"white\", \"width\": 2}, \"type\": \"line\", \"x0\": 35, \"x1\": 35, \"y0\": 1, \"y1\": 1.6666666666666665}, {\"layer\": \"below\", \"line\": {\"color\": \"white\", \"width\": 2}, \"type\": \"line\", \"x0\": 35, \"x1\": 35, \"y0\": 23.58333, \"y1\": 24.249996666666668}, {\"layer\": \"below\", \"line\": {\"color\": \"white\", \"width\": 2}, \"type\": \"line\", \"x0\": 35, \"x1\": 35, \"y0\": 29.08333, \"y1\": 29.749996666666668}, {\"layer\": \"below\", \"line\": {\"color\": \"white\", \"width\": 2}, \"type\": \"line\", \"x0\": 35, \"x1\": 35, \"y0\": 51.63333333333333, \"y1\": 52.3}, {\"layer\": \"below\", \"line\": {\"color\": \"white\", \"width\": 2}, \"type\": \"line\", \"x0\": 36, \"x1\": 36, \"y0\": 1, \"y1\": 1.6666666666666665}, {\"layer\": \"below\", \"line\": {\"color\": \"white\", \"width\": 2}, \"type\": \"line\", \"x0\": 36, \"x1\": 36, \"y0\": 23.58333, \"y1\": 24.249996666666668}, {\"layer\": \"below\", \"line\": {\"color\": \"white\", \"width\": 2}, \"type\": \"line\", \"x0\": 36, \"x1\": 36, \"y0\": 29.08333, \"y1\": 29.749996666666668}, {\"layer\": \"below\", \"line\": {\"color\": \"white\", \"width\": 2}, \"type\": \"line\", \"x0\": 36, \"x1\": 36, \"y0\": 51.63333333333333, \"y1\": 52.3}, {\"layer\": \"below\", \"line\": {\"color\": \"white\", \"width\": 2}, \"type\": \"line\", \"x0\": 37, \"x1\": 37, \"y0\": 1, \"y1\": 1.6666666666666665}, {\"layer\": \"below\", \"line\": {\"color\": \"white\", \"width\": 2}, \"type\": \"line\", \"x0\": 37, \"x1\": 37, \"y0\": 23.58333, \"y1\": 24.249996666666668}, {\"layer\": \"below\", \"line\": {\"color\": \"white\", \"width\": 2}, \"type\": \"line\", \"x0\": 37, \"x1\": 37, \"y0\": 29.08333, \"y1\": 29.749996666666668}, {\"layer\": \"below\", \"line\": {\"color\": \"white\", \"width\": 2}, \"type\": \"line\", \"x0\": 37, \"x1\": 37, \"y0\": 51.63333333333333, \"y1\": 52.3}, {\"layer\": \"below\", \"line\": {\"color\": \"white\", \"width\": 2}, \"type\": \"line\", \"x0\": 38, \"x1\": 38, \"y0\": 1, \"y1\": 1.6666666666666665}, {\"layer\": \"below\", \"line\": {\"color\": \"white\", \"width\": 2}, \"type\": \"line\", \"x0\": 38, \"x1\": 38, \"y0\": 23.58333, \"y1\": 24.249996666666668}, {\"layer\": \"below\", \"line\": {\"color\": \"white\", \"width\": 2}, \"type\": \"line\", \"x0\": 38, \"x1\": 38, \"y0\": 29.08333, \"y1\": 29.749996666666668}, {\"layer\": \"below\", \"line\": {\"color\": \"white\", \"width\": 2}, \"type\": \"line\", \"x0\": 38, \"x1\": 38, \"y0\": 51.63333333333333, \"y1\": 52.3}, {\"layer\": \"below\", \"line\": {\"color\": \"white\", \"width\": 2}, \"type\": \"line\", \"x0\": 39, \"x1\": 39, \"y0\": 1, \"y1\": 1.6666666666666665}, {\"layer\": \"below\", \"line\": {\"color\": \"white\", \"width\": 2}, \"type\": \"line\", \"x0\": 39, \"x1\": 39, \"y0\": 23.58333, \"y1\": 24.249996666666668}, {\"layer\": \"below\", \"line\": {\"color\": \"white\", \"width\": 2}, \"type\": \"line\", \"x0\": 39, \"x1\": 39, \"y0\": 29.08333, \"y1\": 29.749996666666668}, {\"layer\": \"below\", \"line\": {\"color\": \"white\", \"width\": 2}, \"type\": \"line\", \"x0\": 39, \"x1\": 39, \"y0\": 51.63333333333333, \"y1\": 52.3}, {\"layer\": \"below\", \"line\": {\"color\": \"white\", \"width\": 2}, \"type\": \"line\", \"x0\": 41, \"x1\": 41, \"y0\": 1, \"y1\": 1.6666666666666665}, {\"layer\": \"below\", \"line\": {\"color\": \"white\", \"width\": 2}, \"type\": \"line\", \"x0\": 41, \"x1\": 41, \"y0\": 23.58333, \"y1\": 24.249996666666668}, {\"layer\": \"below\", \"line\": {\"color\": \"white\", \"width\": 2}, \"type\": \"line\", \"x0\": 41, \"x1\": 41, \"y0\": 29.08333, \"y1\": 29.749996666666668}, {\"layer\": \"below\", \"line\": {\"color\": \"white\", \"width\": 2}, \"type\": \"line\", \"x0\": 41, \"x1\": 41, \"y0\": 51.63333333333333, \"y1\": 52.3}, {\"layer\": \"below\", \"line\": {\"color\": \"white\", \"width\": 2}, \"type\": \"line\", \"x0\": 42, \"x1\": 42, \"y0\": 1, \"y1\": 1.6666666666666665}, {\"layer\": \"below\", \"line\": {\"color\": \"white\", \"width\": 2}, \"type\": \"line\", \"x0\": 42, \"x1\": 42, \"y0\": 23.58333, \"y1\": 24.249996666666668}, {\"layer\": \"below\", \"line\": {\"color\": \"white\", \"width\": 2}, \"type\": \"line\", \"x0\": 42, \"x1\": 42, \"y0\": 29.08333, \"y1\": 29.749996666666668}, {\"layer\": \"below\", \"line\": {\"color\": \"white\", \"width\": 2}, \"type\": \"line\", \"x0\": 42, \"x1\": 42, \"y0\": 51.63333333333333, \"y1\": 52.3}, {\"layer\": \"below\", \"line\": {\"color\": \"white\", \"width\": 2}, \"type\": \"line\", \"x0\": 43, \"x1\": 43, \"y0\": 1, \"y1\": 1.6666666666666665}, {\"layer\": \"below\", \"line\": {\"color\": \"white\", \"width\": 2}, \"type\": \"line\", \"x0\": 43, \"x1\": 43, \"y0\": 23.58333, \"y1\": 24.249996666666668}, {\"layer\": \"below\", \"line\": {\"color\": \"white\", \"width\": 2}, \"type\": \"line\", \"x0\": 43, \"x1\": 43, \"y0\": 29.08333, \"y1\": 29.749996666666668}, {\"layer\": \"below\", \"line\": {\"color\": \"white\", \"width\": 2}, \"type\": \"line\", \"x0\": 43, \"x1\": 43, \"y0\": 51.63333333333333, \"y1\": 52.3}, {\"layer\": \"below\", \"line\": {\"color\": \"white\", \"width\": 2}, \"type\": \"line\", \"x0\": 44, \"x1\": 44, \"y0\": 1, \"y1\": 1.6666666666666665}, {\"layer\": \"below\", \"line\": {\"color\": \"white\", \"width\": 2}, \"type\": \"line\", \"x0\": 44, \"x1\": 44, \"y0\": 23.58333, \"y1\": 24.249996666666668}, {\"layer\": \"below\", \"line\": {\"color\": \"white\", \"width\": 2}, \"type\": \"line\", \"x0\": 44, \"x1\": 44, \"y0\": 29.08333, \"y1\": 29.749996666666668}, {\"layer\": \"below\", \"line\": {\"color\": \"white\", \"width\": 2}, \"type\": \"line\", \"x0\": 44, \"x1\": 44, \"y0\": 51.63333333333333, \"y1\": 52.3}, {\"layer\": \"below\", \"line\": {\"color\": \"white\", \"width\": 2}, \"type\": \"line\", \"x0\": 45, \"x1\": 45, \"y0\": 1, \"y1\": 1.6666666666666665}, {\"layer\": \"below\", \"line\": {\"color\": \"white\", \"width\": 2}, \"type\": \"line\", \"x0\": 45, \"x1\": 45, \"y0\": 23.58333, \"y1\": 24.249996666666668}, {\"layer\": \"below\", \"line\": {\"color\": \"white\", \"width\": 2}, \"type\": \"line\", \"x0\": 45, \"x1\": 45, \"y0\": 29.08333, \"y1\": 29.749996666666668}, {\"layer\": \"below\", \"line\": {\"color\": \"white\", \"width\": 2}, \"type\": \"line\", \"x0\": 45, \"x1\": 45, \"y0\": 51.63333333333333, \"y1\": 52.3}, {\"layer\": \"below\", \"line\": {\"color\": \"white\", \"width\": 2}, \"type\": \"line\", \"x0\": 46, \"x1\": 46, \"y0\": 1, \"y1\": 1.6666666666666665}, {\"layer\": \"below\", \"line\": {\"color\": \"white\", \"width\": 2}, \"type\": \"line\", \"x0\": 46, \"x1\": 46, \"y0\": 23.58333, \"y1\": 24.249996666666668}, {\"layer\": \"below\", \"line\": {\"color\": \"white\", \"width\": 2}, \"type\": \"line\", \"x0\": 46, \"x1\": 46, \"y0\": 29.08333, \"y1\": 29.749996666666668}, {\"layer\": \"below\", \"line\": {\"color\": \"white\", \"width\": 2}, \"type\": \"line\", \"x0\": 46, \"x1\": 46, \"y0\": 51.63333333333333, \"y1\": 52.3}, {\"layer\": \"below\", \"line\": {\"color\": \"white\", \"width\": 2}, \"type\": \"line\", \"x0\": 47, \"x1\": 47, \"y0\": 1, \"y1\": 1.6666666666666665}, {\"layer\": \"below\", \"line\": {\"color\": \"white\", \"width\": 2}, \"type\": \"line\", \"x0\": 47, \"x1\": 47, \"y0\": 23.58333, \"y1\": 24.249996666666668}, {\"layer\": \"below\", \"line\": {\"color\": \"white\", \"width\": 2}, \"type\": \"line\", \"x0\": 47, \"x1\": 47, \"y0\": 29.08333, \"y1\": 29.749996666666668}, {\"layer\": \"below\", \"line\": {\"color\": \"white\", \"width\": 2}, \"type\": \"line\", \"x0\": 47, \"x1\": 47, \"y0\": 51.63333333333333, \"y1\": 52.3}, {\"layer\": \"below\", \"line\": {\"color\": \"white\", \"width\": 2}, \"type\": \"line\", \"x0\": 48, \"x1\": 48, \"y0\": 1, \"y1\": 1.6666666666666665}, {\"layer\": \"below\", \"line\": {\"color\": \"white\", \"width\": 2}, \"type\": \"line\", \"x0\": 48, \"x1\": 48, \"y0\": 23.58333, \"y1\": 24.249996666666668}, {\"layer\": \"below\", \"line\": {\"color\": \"white\", \"width\": 2}, \"type\": \"line\", \"x0\": 48, \"x1\": 48, \"y0\": 29.08333, \"y1\": 29.749996666666668}, {\"layer\": \"below\", \"line\": {\"color\": \"white\", \"width\": 2}, \"type\": \"line\", \"x0\": 48, \"x1\": 48, \"y0\": 51.63333333333333, \"y1\": 52.3}, {\"layer\": \"below\", \"line\": {\"color\": \"white\", \"width\": 2}, \"type\": \"line\", \"x0\": 49, \"x1\": 49, \"y0\": 1, \"y1\": 1.6666666666666665}, {\"layer\": \"below\", \"line\": {\"color\": \"white\", \"width\": 2}, \"type\": \"line\", \"x0\": 49, \"x1\": 49, \"y0\": 23.58333, \"y1\": 24.249996666666668}, {\"layer\": \"below\", \"line\": {\"color\": \"white\", \"width\": 2}, \"type\": \"line\", \"x0\": 49, \"x1\": 49, \"y0\": 29.08333, \"y1\": 29.749996666666668}, {\"layer\": \"below\", \"line\": {\"color\": \"white\", \"width\": 2}, \"type\": \"line\", \"x0\": 49, \"x1\": 49, \"y0\": 51.63333333333333, \"y1\": 52.3}, {\"layer\": \"below\", \"line\": {\"color\": \"white\", \"width\": 2}, \"type\": \"line\", \"x0\": 51, \"x1\": 51, \"y0\": 1, \"y1\": 1.6666666666666665}, {\"layer\": \"below\", \"line\": {\"color\": \"white\", \"width\": 2}, \"type\": \"line\", \"x0\": 51, \"x1\": 51, \"y0\": 23.58333, \"y1\": 24.249996666666668}, {\"layer\": \"below\", \"line\": {\"color\": \"white\", \"width\": 2}, \"type\": \"line\", \"x0\": 51, \"x1\": 51, \"y0\": 29.08333, \"y1\": 29.749996666666668}, {\"layer\": \"below\", \"line\": {\"color\": \"white\", \"width\": 2}, \"type\": \"line\", \"x0\": 51, \"x1\": 51, \"y0\": 51.63333333333333, \"y1\": 52.3}, {\"layer\": \"below\", \"line\": {\"color\": \"white\", \"width\": 2}, \"type\": \"line\", \"x0\": 52, \"x1\": 52, \"y0\": 1, \"y1\": 1.6666666666666665}, {\"layer\": \"below\", \"line\": {\"color\": \"white\", \"width\": 2}, \"type\": \"line\", \"x0\": 52, \"x1\": 52, \"y0\": 23.58333, \"y1\": 24.249996666666668}, {\"layer\": \"below\", \"line\": {\"color\": \"white\", \"width\": 2}, \"type\": \"line\", \"x0\": 52, \"x1\": 52, \"y0\": 29.08333, \"y1\": 29.749996666666668}, {\"layer\": \"below\", \"line\": {\"color\": \"white\", \"width\": 2}, \"type\": \"line\", \"x0\": 52, \"x1\": 52, \"y0\": 51.63333333333333, \"y1\": 52.3}, {\"layer\": \"below\", \"line\": {\"color\": \"white\", \"width\": 2}, \"type\": \"line\", \"x0\": 53, \"x1\": 53, \"y0\": 1, \"y1\": 1.6666666666666665}, {\"layer\": \"below\", \"line\": {\"color\": \"white\", \"width\": 2}, \"type\": \"line\", \"x0\": 53, \"x1\": 53, \"y0\": 23.58333, \"y1\": 24.249996666666668}, {\"layer\": \"below\", \"line\": {\"color\": \"white\", \"width\": 2}, \"type\": \"line\", \"x0\": 53, \"x1\": 53, \"y0\": 29.08333, \"y1\": 29.749996666666668}, {\"layer\": \"below\", \"line\": {\"color\": \"white\", \"width\": 2}, \"type\": \"line\", \"x0\": 53, \"x1\": 53, \"y0\": 51.63333333333333, \"y1\": 52.3}, {\"layer\": \"below\", \"line\": {\"color\": \"white\", \"width\": 2}, \"type\": \"line\", \"x0\": 54, \"x1\": 54, \"y0\": 1, \"y1\": 1.6666666666666665}, {\"layer\": \"below\", \"line\": {\"color\": \"white\", \"width\": 2}, \"type\": \"line\", \"x0\": 54, \"x1\": 54, \"y0\": 23.58333, \"y1\": 24.249996666666668}, {\"layer\": \"below\", \"line\": {\"color\": \"white\", \"width\": 2}, \"type\": \"line\", \"x0\": 54, \"x1\": 54, \"y0\": 29.08333, \"y1\": 29.749996666666668}, {\"layer\": \"below\", \"line\": {\"color\": \"white\", \"width\": 2}, \"type\": \"line\", \"x0\": 54, \"x1\": 54, \"y0\": 51.63333333333333, \"y1\": 52.3}, {\"layer\": \"below\", \"line\": {\"color\": \"white\", \"width\": 2}, \"type\": \"line\", \"x0\": 55, \"x1\": 55, \"y0\": 1, \"y1\": 1.6666666666666665}, {\"layer\": \"below\", \"line\": {\"color\": \"white\", \"width\": 2}, \"type\": \"line\", \"x0\": 55, \"x1\": 55, \"y0\": 23.58333, \"y1\": 24.249996666666668}, {\"layer\": \"below\", \"line\": {\"color\": \"white\", \"width\": 2}, \"type\": \"line\", \"x0\": 55, \"x1\": 55, \"y0\": 29.08333, \"y1\": 29.749996666666668}, {\"layer\": \"below\", \"line\": {\"color\": \"white\", \"width\": 2}, \"type\": \"line\", \"x0\": 55, \"x1\": 55, \"y0\": 51.63333333333333, \"y1\": 52.3}, {\"layer\": \"below\", \"line\": {\"color\": \"white\", \"width\": 2}, \"type\": \"line\", \"x0\": 56, \"x1\": 56, \"y0\": 1, \"y1\": 1.6666666666666665}, {\"layer\": \"below\", \"line\": {\"color\": \"white\", \"width\": 2}, \"type\": \"line\", \"x0\": 56, \"x1\": 56, \"y0\": 23.58333, \"y1\": 24.249996666666668}, {\"layer\": \"below\", \"line\": {\"color\": \"white\", \"width\": 2}, \"type\": \"line\", \"x0\": 56, \"x1\": 56, \"y0\": 29.08333, \"y1\": 29.749996666666668}, {\"layer\": \"below\", \"line\": {\"color\": \"white\", \"width\": 2}, \"type\": \"line\", \"x0\": 56, \"x1\": 56, \"y0\": 51.63333333333333, \"y1\": 52.3}, {\"layer\": \"below\", \"line\": {\"color\": \"white\", \"width\": 2}, \"type\": \"line\", \"x0\": 57, \"x1\": 57, \"y0\": 1, \"y1\": 1.6666666666666665}, {\"layer\": \"below\", \"line\": {\"color\": \"white\", \"width\": 2}, \"type\": \"line\", \"x0\": 57, \"x1\": 57, \"y0\": 23.58333, \"y1\": 24.249996666666668}, {\"layer\": \"below\", \"line\": {\"color\": \"white\", \"width\": 2}, \"type\": \"line\", \"x0\": 57, \"x1\": 57, \"y0\": 29.08333, \"y1\": 29.749996666666668}, {\"layer\": \"below\", \"line\": {\"color\": \"white\", \"width\": 2}, \"type\": \"line\", \"x0\": 57, \"x1\": 57, \"y0\": 51.63333333333333, \"y1\": 52.3}, {\"layer\": \"below\", \"line\": {\"color\": \"white\", \"width\": 2}, \"type\": \"line\", \"x0\": 58, \"x1\": 58, \"y0\": 1, \"y1\": 1.6666666666666665}, {\"layer\": \"below\", \"line\": {\"color\": \"white\", \"width\": 2}, \"type\": \"line\", \"x0\": 58, \"x1\": 58, \"y0\": 23.58333, \"y1\": 24.249996666666668}, {\"layer\": \"below\", \"line\": {\"color\": \"white\", \"width\": 2}, \"type\": \"line\", \"x0\": 58, \"x1\": 58, \"y0\": 29.08333, \"y1\": 29.749996666666668}, {\"layer\": \"below\", \"line\": {\"color\": \"white\", \"width\": 2}, \"type\": \"line\", \"x0\": 58, \"x1\": 58, \"y0\": 51.63333333333333, \"y1\": 52.3}, {\"layer\": \"below\", \"line\": {\"color\": \"white\", \"width\": 2}, \"type\": \"line\", \"x0\": 59, \"x1\": 59, \"y0\": 1, \"y1\": 1.6666666666666665}, {\"layer\": \"below\", \"line\": {\"color\": \"white\", \"width\": 2}, \"type\": \"line\", \"x0\": 59, \"x1\": 59, \"y0\": 23.58333, \"y1\": 24.249996666666668}, {\"layer\": \"below\", \"line\": {\"color\": \"white\", \"width\": 2}, \"type\": \"line\", \"x0\": 59, \"x1\": 59, \"y0\": 29.08333, \"y1\": 29.749996666666668}, {\"layer\": \"below\", \"line\": {\"color\": \"white\", \"width\": 2}, \"type\": \"line\", \"x0\": 59, \"x1\": 59, \"y0\": 51.63333333333333, \"y1\": 52.3}, {\"layer\": \"below\", \"line\": {\"color\": \"white\", \"width\": 2}, \"type\": \"line\", \"x0\": 61, \"x1\": 61, \"y0\": 1, \"y1\": 1.6666666666666665}, {\"layer\": \"below\", \"line\": {\"color\": \"white\", \"width\": 2}, \"type\": \"line\", \"x0\": 61, \"x1\": 61, \"y0\": 23.58333, \"y1\": 24.249996666666668}, {\"layer\": \"below\", \"line\": {\"color\": \"white\", \"width\": 2}, \"type\": \"line\", \"x0\": 61, \"x1\": 61, \"y0\": 29.08333, \"y1\": 29.749996666666668}, {\"layer\": \"below\", \"line\": {\"color\": \"white\", \"width\": 2}, \"type\": \"line\", \"x0\": 61, \"x1\": 61, \"y0\": 51.63333333333333, \"y1\": 52.3}, {\"layer\": \"below\", \"line\": {\"color\": \"white\", \"width\": 2}, \"type\": \"line\", \"x0\": 62, \"x1\": 62, \"y0\": 1, \"y1\": 1.6666666666666665}, {\"layer\": \"below\", \"line\": {\"color\": \"white\", \"width\": 2}, \"type\": \"line\", \"x0\": 62, \"x1\": 62, \"y0\": 23.58333, \"y1\": 24.249996666666668}, {\"layer\": \"below\", \"line\": {\"color\": \"white\", \"width\": 2}, \"type\": \"line\", \"x0\": 62, \"x1\": 62, \"y0\": 29.08333, \"y1\": 29.749996666666668}, {\"layer\": \"below\", \"line\": {\"color\": \"white\", \"width\": 2}, \"type\": \"line\", \"x0\": 62, \"x1\": 62, \"y0\": 51.63333333333333, \"y1\": 52.3}, {\"layer\": \"below\", \"line\": {\"color\": \"white\", \"width\": 2}, \"type\": \"line\", \"x0\": 63, \"x1\": 63, \"y0\": 1, \"y1\": 1.6666666666666665}, {\"layer\": \"below\", \"line\": {\"color\": \"white\", \"width\": 2}, \"type\": \"line\", \"x0\": 63, \"x1\": 63, \"y0\": 23.58333, \"y1\": 24.249996666666668}, {\"layer\": \"below\", \"line\": {\"color\": \"white\", \"width\": 2}, \"type\": \"line\", \"x0\": 63, \"x1\": 63, \"y0\": 29.08333, \"y1\": 29.749996666666668}, {\"layer\": \"below\", \"line\": {\"color\": \"white\", \"width\": 2}, \"type\": \"line\", \"x0\": 63, \"x1\": 63, \"y0\": 51.63333333333333, \"y1\": 52.3}, {\"layer\": \"below\", \"line\": {\"color\": \"white\", \"width\": 2}, \"type\": \"line\", \"x0\": 64, \"x1\": 64, \"y0\": 1, \"y1\": 1.6666666666666665}, {\"layer\": \"below\", \"line\": {\"color\": \"white\", \"width\": 2}, \"type\": \"line\", \"x0\": 64, \"x1\": 64, \"y0\": 23.58333, \"y1\": 24.249996666666668}, {\"layer\": \"below\", \"line\": {\"color\": \"white\", \"width\": 2}, \"type\": \"line\", \"x0\": 64, \"x1\": 64, \"y0\": 29.08333, \"y1\": 29.749996666666668}, {\"layer\": \"below\", \"line\": {\"color\": \"white\", \"width\": 2}, \"type\": \"line\", \"x0\": 64, \"x1\": 64, \"y0\": 51.63333333333333, \"y1\": 52.3}, {\"layer\": \"below\", \"line\": {\"color\": \"white\", \"width\": 2}, \"type\": \"line\", \"x0\": 65, \"x1\": 65, \"y0\": 1, \"y1\": 1.6666666666666665}, {\"layer\": \"below\", \"line\": {\"color\": \"white\", \"width\": 2}, \"type\": \"line\", \"x0\": 65, \"x1\": 65, \"y0\": 23.58333, \"y1\": 24.249996666666668}, {\"layer\": \"below\", \"line\": {\"color\": \"white\", \"width\": 2}, \"type\": \"line\", \"x0\": 65, \"x1\": 65, \"y0\": 29.08333, \"y1\": 29.749996666666668}, {\"layer\": \"below\", \"line\": {\"color\": \"white\", \"width\": 2}, \"type\": \"line\", \"x0\": 65, \"x1\": 65, \"y0\": 51.63333333333333, \"y1\": 52.3}, {\"layer\": \"below\", \"line\": {\"color\": \"white\", \"width\": 2}, \"type\": \"line\", \"x0\": 66, \"x1\": 66, \"y0\": 1, \"y1\": 1.6666666666666665}, {\"layer\": \"below\", \"line\": {\"color\": \"white\", \"width\": 2}, \"type\": \"line\", \"x0\": 66, \"x1\": 66, \"y0\": 23.58333, \"y1\": 24.249996666666668}, {\"layer\": \"below\", \"line\": {\"color\": \"white\", \"width\": 2}, \"type\": \"line\", \"x0\": 66, \"x1\": 66, \"y0\": 29.08333, \"y1\": 29.749996666666668}, {\"layer\": \"below\", \"line\": {\"color\": \"white\", \"width\": 2}, \"type\": \"line\", \"x0\": 66, \"x1\": 66, \"y0\": 51.63333333333333, \"y1\": 52.3}, {\"layer\": \"below\", \"line\": {\"color\": \"white\", \"width\": 2}, \"type\": \"line\", \"x0\": 67, \"x1\": 67, \"y0\": 1, \"y1\": 1.6666666666666665}, {\"layer\": \"below\", \"line\": {\"color\": \"white\", \"width\": 2}, \"type\": \"line\", \"x0\": 67, \"x1\": 67, \"y0\": 23.58333, \"y1\": 24.249996666666668}, {\"layer\": \"below\", \"line\": {\"color\": \"white\", \"width\": 2}, \"type\": \"line\", \"x0\": 67, \"x1\": 67, \"y0\": 29.08333, \"y1\": 29.749996666666668}, {\"layer\": \"below\", \"line\": {\"color\": \"white\", \"width\": 2}, \"type\": \"line\", \"x0\": 67, \"x1\": 67, \"y0\": 51.63333333333333, \"y1\": 52.3}, {\"layer\": \"below\", \"line\": {\"color\": \"white\", \"width\": 2}, \"type\": \"line\", \"x0\": 68, \"x1\": 68, \"y0\": 1, \"y1\": 1.6666666666666665}, {\"layer\": \"below\", \"line\": {\"color\": \"white\", \"width\": 2}, \"type\": \"line\", \"x0\": 68, \"x1\": 68, \"y0\": 23.58333, \"y1\": 24.249996666666668}, {\"layer\": \"below\", \"line\": {\"color\": \"white\", \"width\": 2}, \"type\": \"line\", \"x0\": 68, \"x1\": 68, \"y0\": 29.08333, \"y1\": 29.749996666666668}, {\"layer\": \"below\", \"line\": {\"color\": \"white\", \"width\": 2}, \"type\": \"line\", \"x0\": 68, \"x1\": 68, \"y0\": 51.63333333333333, \"y1\": 52.3}, {\"layer\": \"below\", \"line\": {\"color\": \"white\", \"width\": 2}, \"type\": \"line\", \"x0\": 69, \"x1\": 69, \"y0\": 1, \"y1\": 1.6666666666666665}, {\"layer\": \"below\", \"line\": {\"color\": \"white\", \"width\": 2}, \"type\": \"line\", \"x0\": 69, \"x1\": 69, \"y0\": 23.58333, \"y1\": 24.249996666666668}, {\"layer\": \"below\", \"line\": {\"color\": \"white\", \"width\": 2}, \"type\": \"line\", \"x0\": 69, \"x1\": 69, \"y0\": 29.08333, \"y1\": 29.749996666666668}, {\"layer\": \"below\", \"line\": {\"color\": \"white\", \"width\": 2}, \"type\": \"line\", \"x0\": 69, \"x1\": 69, \"y0\": 51.63333333333333, \"y1\": 52.3}, {\"layer\": \"below\", \"line\": {\"color\": \"white\", \"width\": 2}, \"type\": \"line\", \"x0\": 71, \"x1\": 71, \"y0\": 1, \"y1\": 1.6666666666666665}, {\"layer\": \"below\", \"line\": {\"color\": \"white\", \"width\": 2}, \"type\": \"line\", \"x0\": 71, \"x1\": 71, \"y0\": 23.58333, \"y1\": 24.249996666666668}, {\"layer\": \"below\", \"line\": {\"color\": \"white\", \"width\": 2}, \"type\": \"line\", \"x0\": 71, \"x1\": 71, \"y0\": 29.08333, \"y1\": 29.749996666666668}, {\"layer\": \"below\", \"line\": {\"color\": \"white\", \"width\": 2}, \"type\": \"line\", \"x0\": 71, \"x1\": 71, \"y0\": 51.63333333333333, \"y1\": 52.3}, {\"layer\": \"below\", \"line\": {\"color\": \"white\", \"width\": 2}, \"type\": \"line\", \"x0\": 72, \"x1\": 72, \"y0\": 1, \"y1\": 1.6666666666666665}, {\"layer\": \"below\", \"line\": {\"color\": \"white\", \"width\": 2}, \"type\": \"line\", \"x0\": 72, \"x1\": 72, \"y0\": 23.58333, \"y1\": 24.249996666666668}, {\"layer\": \"below\", \"line\": {\"color\": \"white\", \"width\": 2}, \"type\": \"line\", \"x0\": 72, \"x1\": 72, \"y0\": 29.08333, \"y1\": 29.749996666666668}, {\"layer\": \"below\", \"line\": {\"color\": \"white\", \"width\": 2}, \"type\": \"line\", \"x0\": 72, \"x1\": 72, \"y0\": 51.63333333333333, \"y1\": 52.3}, {\"layer\": \"below\", \"line\": {\"color\": \"white\", \"width\": 2}, \"type\": \"line\", \"x0\": 73, \"x1\": 73, \"y0\": 1, \"y1\": 1.6666666666666665}, {\"layer\": \"below\", \"line\": {\"color\": \"white\", \"width\": 2}, \"type\": \"line\", \"x0\": 73, \"x1\": 73, \"y0\": 23.58333, \"y1\": 24.249996666666668}, {\"layer\": \"below\", \"line\": {\"color\": \"white\", \"width\": 2}, \"type\": \"line\", \"x0\": 73, \"x1\": 73, \"y0\": 29.08333, \"y1\": 29.749996666666668}, {\"layer\": \"below\", \"line\": {\"color\": \"white\", \"width\": 2}, \"type\": \"line\", \"x0\": 73, \"x1\": 73, \"y0\": 51.63333333333333, \"y1\": 52.3}, {\"layer\": \"below\", \"line\": {\"color\": \"white\", \"width\": 2}, \"type\": \"line\", \"x0\": 74, \"x1\": 74, \"y0\": 1, \"y1\": 1.6666666666666665}, {\"layer\": \"below\", \"line\": {\"color\": \"white\", \"width\": 2}, \"type\": \"line\", \"x0\": 74, \"x1\": 74, \"y0\": 23.58333, \"y1\": 24.249996666666668}, {\"layer\": \"below\", \"line\": {\"color\": \"white\", \"width\": 2}, \"type\": \"line\", \"x0\": 74, \"x1\": 74, \"y0\": 29.08333, \"y1\": 29.749996666666668}, {\"layer\": \"below\", \"line\": {\"color\": \"white\", \"width\": 2}, \"type\": \"line\", \"x0\": 74, \"x1\": 74, \"y0\": 51.63333333333333, \"y1\": 52.3}, {\"layer\": \"below\", \"line\": {\"color\": \"white\", \"width\": 2}, \"type\": \"line\", \"x0\": 75, \"x1\": 75, \"y0\": 1, \"y1\": 1.6666666666666665}, {\"layer\": \"below\", \"line\": {\"color\": \"white\", \"width\": 2}, \"type\": \"line\", \"x0\": 75, \"x1\": 75, \"y0\": 23.58333, \"y1\": 24.249996666666668}, {\"layer\": \"below\", \"line\": {\"color\": \"white\", \"width\": 2}, \"type\": \"line\", \"x0\": 75, \"x1\": 75, \"y0\": 29.08333, \"y1\": 29.749996666666668}, {\"layer\": \"below\", \"line\": {\"color\": \"white\", \"width\": 2}, \"type\": \"line\", \"x0\": 75, \"x1\": 75, \"y0\": 51.63333333333333, \"y1\": 52.3}, {\"layer\": \"below\", \"line\": {\"color\": \"white\", \"width\": 2}, \"type\": \"line\", \"x0\": 76, \"x1\": 76, \"y0\": 1, \"y1\": 1.6666666666666665}, {\"layer\": \"below\", \"line\": {\"color\": \"white\", \"width\": 2}, \"type\": \"line\", \"x0\": 76, \"x1\": 76, \"y0\": 23.58333, \"y1\": 24.249996666666668}, {\"layer\": \"below\", \"line\": {\"color\": \"white\", \"width\": 2}, \"type\": \"line\", \"x0\": 76, \"x1\": 76, \"y0\": 29.08333, \"y1\": 29.749996666666668}, {\"layer\": \"below\", \"line\": {\"color\": \"white\", \"width\": 2}, \"type\": \"line\", \"x0\": 76, \"x1\": 76, \"y0\": 51.63333333333333, \"y1\": 52.3}, {\"layer\": \"below\", \"line\": {\"color\": \"white\", \"width\": 2}, \"type\": \"line\", \"x0\": 77, \"x1\": 77, \"y0\": 1, \"y1\": 1.6666666666666665}, {\"layer\": \"below\", \"line\": {\"color\": \"white\", \"width\": 2}, \"type\": \"line\", \"x0\": 77, \"x1\": 77, \"y0\": 23.58333, \"y1\": 24.249996666666668}, {\"layer\": \"below\", \"line\": {\"color\": \"white\", \"width\": 2}, \"type\": \"line\", \"x0\": 77, \"x1\": 77, \"y0\": 29.08333, \"y1\": 29.749996666666668}, {\"layer\": \"below\", \"line\": {\"color\": \"white\", \"width\": 2}, \"type\": \"line\", \"x0\": 77, \"x1\": 77, \"y0\": 51.63333333333333, \"y1\": 52.3}, {\"layer\": \"below\", \"line\": {\"color\": \"white\", \"width\": 2}, \"type\": \"line\", \"x0\": 78, \"x1\": 78, \"y0\": 1, \"y1\": 1.6666666666666665}, {\"layer\": \"below\", \"line\": {\"color\": \"white\", \"width\": 2}, \"type\": \"line\", \"x0\": 78, \"x1\": 78, \"y0\": 23.58333, \"y1\": 24.249996666666668}, {\"layer\": \"below\", \"line\": {\"color\": \"white\", \"width\": 2}, \"type\": \"line\", \"x0\": 78, \"x1\": 78, \"y0\": 29.08333, \"y1\": 29.749996666666668}, {\"layer\": \"below\", \"line\": {\"color\": \"white\", \"width\": 2}, \"type\": \"line\", \"x0\": 78, \"x1\": 78, \"y0\": 51.63333333333333, \"y1\": 52.3}, {\"layer\": \"below\", \"line\": {\"color\": \"white\", \"width\": 2}, \"type\": \"line\", \"x0\": 79, \"x1\": 79, \"y0\": 1, \"y1\": 1.6666666666666665}, {\"layer\": \"below\", \"line\": {\"color\": \"white\", \"width\": 2}, \"type\": \"line\", \"x0\": 79, \"x1\": 79, \"y0\": 23.58333, \"y1\": 24.249996666666668}, {\"layer\": \"below\", \"line\": {\"color\": \"white\", \"width\": 2}, \"type\": \"line\", \"x0\": 79, \"x1\": 79, \"y0\": 29.08333, \"y1\": 29.749996666666668}, {\"layer\": \"below\", \"line\": {\"color\": \"white\", \"width\": 2}, \"type\": \"line\", \"x0\": 79, \"x1\": 79, \"y0\": 51.63333333333333, \"y1\": 52.3}, {\"layer\": \"below\", \"line\": {\"color\": \"white\", \"width\": 2}, \"type\": \"line\", \"x0\": 81, \"x1\": 81, \"y0\": 1, \"y1\": 1.6666666666666665}, {\"layer\": \"below\", \"line\": {\"color\": \"white\", \"width\": 2}, \"type\": \"line\", \"x0\": 81, \"x1\": 81, \"y0\": 23.58333, \"y1\": 24.249996666666668}, {\"layer\": \"below\", \"line\": {\"color\": \"white\", \"width\": 2}, \"type\": \"line\", \"x0\": 81, \"x1\": 81, \"y0\": 29.08333, \"y1\": 29.749996666666668}, {\"layer\": \"below\", \"line\": {\"color\": \"white\", \"width\": 2}, \"type\": \"line\", \"x0\": 81, \"x1\": 81, \"y0\": 51.63333333333333, \"y1\": 52.3}, {\"layer\": \"below\", \"line\": {\"color\": \"white\", \"width\": 2}, \"type\": \"line\", \"x0\": 82, \"x1\": 82, \"y0\": 1, \"y1\": 1.6666666666666665}, {\"layer\": \"below\", \"line\": {\"color\": \"white\", \"width\": 2}, \"type\": \"line\", \"x0\": 82, \"x1\": 82, \"y0\": 23.58333, \"y1\": 24.249996666666668}, {\"layer\": \"below\", \"line\": {\"color\": \"white\", \"width\": 2}, \"type\": \"line\", \"x0\": 82, \"x1\": 82, \"y0\": 29.08333, \"y1\": 29.749996666666668}, {\"layer\": \"below\", \"line\": {\"color\": \"white\", \"width\": 2}, \"type\": \"line\", \"x0\": 82, \"x1\": 82, \"y0\": 51.63333333333333, \"y1\": 52.3}, {\"layer\": \"below\", \"line\": {\"color\": \"white\", \"width\": 2}, \"type\": \"line\", \"x0\": 83, \"x1\": 83, \"y0\": 1, \"y1\": 1.6666666666666665}, {\"layer\": \"below\", \"line\": {\"color\": \"white\", \"width\": 2}, \"type\": \"line\", \"x0\": 83, \"x1\": 83, \"y0\": 23.58333, \"y1\": 24.249996666666668}, {\"layer\": \"below\", \"line\": {\"color\": \"white\", \"width\": 2}, \"type\": \"line\", \"x0\": 83, \"x1\": 83, \"y0\": 29.08333, \"y1\": 29.749996666666668}, {\"layer\": \"below\", \"line\": {\"color\": \"white\", \"width\": 2}, \"type\": \"line\", \"x0\": 83, \"x1\": 83, \"y0\": 51.63333333333333, \"y1\": 52.3}, {\"layer\": \"below\", \"line\": {\"color\": \"white\", \"width\": 2}, \"type\": \"line\", \"x0\": 84, \"x1\": 84, \"y0\": 1, \"y1\": 1.6666666666666665}, {\"layer\": \"below\", \"line\": {\"color\": \"white\", \"width\": 2}, \"type\": \"line\", \"x0\": 84, \"x1\": 84, \"y0\": 23.58333, \"y1\": 24.249996666666668}, {\"layer\": \"below\", \"line\": {\"color\": \"white\", \"width\": 2}, \"type\": \"line\", \"x0\": 84, \"x1\": 84, \"y0\": 29.08333, \"y1\": 29.749996666666668}, {\"layer\": \"below\", \"line\": {\"color\": \"white\", \"width\": 2}, \"type\": \"line\", \"x0\": 84, \"x1\": 84, \"y0\": 51.63333333333333, \"y1\": 52.3}, {\"layer\": \"below\", \"line\": {\"color\": \"white\", \"width\": 2}, \"type\": \"line\", \"x0\": 85, \"x1\": 85, \"y0\": 1, \"y1\": 1.6666666666666665}, {\"layer\": \"below\", \"line\": {\"color\": \"white\", \"width\": 2}, \"type\": \"line\", \"x0\": 85, \"x1\": 85, \"y0\": 23.58333, \"y1\": 24.249996666666668}, {\"layer\": \"below\", \"line\": {\"color\": \"white\", \"width\": 2}, \"type\": \"line\", \"x0\": 85, \"x1\": 85, \"y0\": 29.08333, \"y1\": 29.749996666666668}, {\"layer\": \"below\", \"line\": {\"color\": \"white\", \"width\": 2}, \"type\": \"line\", \"x0\": 85, \"x1\": 85, \"y0\": 51.63333333333333, \"y1\": 52.3}, {\"layer\": \"below\", \"line\": {\"color\": \"white\", \"width\": 2}, \"type\": \"line\", \"x0\": 86, \"x1\": 86, \"y0\": 1, \"y1\": 1.6666666666666665}, {\"layer\": \"below\", \"line\": {\"color\": \"white\", \"width\": 2}, \"type\": \"line\", \"x0\": 86, \"x1\": 86, \"y0\": 23.58333, \"y1\": 24.249996666666668}, {\"layer\": \"below\", \"line\": {\"color\": \"white\", \"width\": 2}, \"type\": \"line\", \"x0\": 86, \"x1\": 86, \"y0\": 29.08333, \"y1\": 29.749996666666668}, {\"layer\": \"below\", \"line\": {\"color\": \"white\", \"width\": 2}, \"type\": \"line\", \"x0\": 86, \"x1\": 86, \"y0\": 51.63333333333333, \"y1\": 52.3}, {\"layer\": \"below\", \"line\": {\"color\": \"white\", \"width\": 2}, \"type\": \"line\", \"x0\": 87, \"x1\": 87, \"y0\": 1, \"y1\": 1.6666666666666665}, {\"layer\": \"below\", \"line\": {\"color\": \"white\", \"width\": 2}, \"type\": \"line\", \"x0\": 87, \"x1\": 87, \"y0\": 23.58333, \"y1\": 24.249996666666668}, {\"layer\": \"below\", \"line\": {\"color\": \"white\", \"width\": 2}, \"type\": \"line\", \"x0\": 87, \"x1\": 87, \"y0\": 29.08333, \"y1\": 29.749996666666668}, {\"layer\": \"below\", \"line\": {\"color\": \"white\", \"width\": 2}, \"type\": \"line\", \"x0\": 87, \"x1\": 87, \"y0\": 51.63333333333333, \"y1\": 52.3}, {\"layer\": \"below\", \"line\": {\"color\": \"white\", \"width\": 2}, \"type\": \"line\", \"x0\": 88, \"x1\": 88, \"y0\": 1, \"y1\": 1.6666666666666665}, {\"layer\": \"below\", \"line\": {\"color\": \"white\", \"width\": 2}, \"type\": \"line\", \"x0\": 88, \"x1\": 88, \"y0\": 23.58333, \"y1\": 24.249996666666668}, {\"layer\": \"below\", \"line\": {\"color\": \"white\", \"width\": 2}, \"type\": \"line\", \"x0\": 88, \"x1\": 88, \"y0\": 29.08333, \"y1\": 29.749996666666668}, {\"layer\": \"below\", \"line\": {\"color\": \"white\", \"width\": 2}, \"type\": \"line\", \"x0\": 88, \"x1\": 88, \"y0\": 51.63333333333333, \"y1\": 52.3}, {\"layer\": \"below\", \"line\": {\"color\": \"white\", \"width\": 2}, \"type\": \"line\", \"x0\": 89, \"x1\": 89, \"y0\": 1, \"y1\": 1.6666666666666665}, {\"layer\": \"below\", \"line\": {\"color\": \"white\", \"width\": 2}, \"type\": \"line\", \"x0\": 89, \"x1\": 89, \"y0\": 23.58333, \"y1\": 24.249996666666668}, {\"layer\": \"below\", \"line\": {\"color\": \"white\", \"width\": 2}, \"type\": \"line\", \"x0\": 89, \"x1\": 89, \"y0\": 29.08333, \"y1\": 29.749996666666668}, {\"layer\": \"below\", \"line\": {\"color\": \"white\", \"width\": 2}, \"type\": \"line\", \"x0\": 89, \"x1\": 89, \"y0\": 51.63333333333333, \"y1\": 52.3}, {\"layer\": \"below\", \"line\": {\"color\": \"white\", \"width\": 2}, \"type\": \"line\", \"x0\": 91, \"x1\": 91, \"y0\": 1, \"y1\": 1.6666666666666665}, {\"layer\": \"below\", \"line\": {\"color\": \"white\", \"width\": 2}, \"type\": \"line\", \"x0\": 91, \"x1\": 91, \"y0\": 23.58333, \"y1\": 24.249996666666668}, {\"layer\": \"below\", \"line\": {\"color\": \"white\", \"width\": 2}, \"type\": \"line\", \"x0\": 91, \"x1\": 91, \"y0\": 29.08333, \"y1\": 29.749996666666668}, {\"layer\": \"below\", \"line\": {\"color\": \"white\", \"width\": 2}, \"type\": \"line\", \"x0\": 91, \"x1\": 91, \"y0\": 51.63333333333333, \"y1\": 52.3}, {\"layer\": \"below\", \"line\": {\"color\": \"white\", \"width\": 2}, \"type\": \"line\", \"x0\": 92, \"x1\": 92, \"y0\": 1, \"y1\": 1.6666666666666665}, {\"layer\": \"below\", \"line\": {\"color\": \"white\", \"width\": 2}, \"type\": \"line\", \"x0\": 92, \"x1\": 92, \"y0\": 23.58333, \"y1\": 24.249996666666668}, {\"layer\": \"below\", \"line\": {\"color\": \"white\", \"width\": 2}, \"type\": \"line\", \"x0\": 92, \"x1\": 92, \"y0\": 29.08333, \"y1\": 29.749996666666668}, {\"layer\": \"below\", \"line\": {\"color\": \"white\", \"width\": 2}, \"type\": \"line\", \"x0\": 92, \"x1\": 92, \"y0\": 51.63333333333333, \"y1\": 52.3}, {\"layer\": \"below\", \"line\": {\"color\": \"white\", \"width\": 2}, \"type\": \"line\", \"x0\": 93, \"x1\": 93, \"y0\": 1, \"y1\": 1.6666666666666665}, {\"layer\": \"below\", \"line\": {\"color\": \"white\", \"width\": 2}, \"type\": \"line\", \"x0\": 93, \"x1\": 93, \"y0\": 23.58333, \"y1\": 24.249996666666668}, {\"layer\": \"below\", \"line\": {\"color\": \"white\", \"width\": 2}, \"type\": \"line\", \"x0\": 93, \"x1\": 93, \"y0\": 29.08333, \"y1\": 29.749996666666668}, {\"layer\": \"below\", \"line\": {\"color\": \"white\", \"width\": 2}, \"type\": \"line\", \"x0\": 93, \"x1\": 93, \"y0\": 51.63333333333333, \"y1\": 52.3}, {\"layer\": \"below\", \"line\": {\"color\": \"white\", \"width\": 2}, \"type\": \"line\", \"x0\": 94, \"x1\": 94, \"y0\": 1, \"y1\": 1.6666666666666665}, {\"layer\": \"below\", \"line\": {\"color\": \"white\", \"width\": 2}, \"type\": \"line\", \"x0\": 94, \"x1\": 94, \"y0\": 23.58333, \"y1\": 24.249996666666668}, {\"layer\": \"below\", \"line\": {\"color\": \"white\", \"width\": 2}, \"type\": \"line\", \"x0\": 94, \"x1\": 94, \"y0\": 29.08333, \"y1\": 29.749996666666668}, {\"layer\": \"below\", \"line\": {\"color\": \"white\", \"width\": 2}, \"type\": \"line\", \"x0\": 94, \"x1\": 94, \"y0\": 51.63333333333333, \"y1\": 52.3}, {\"layer\": \"below\", \"line\": {\"color\": \"white\", \"width\": 2}, \"type\": \"line\", \"x0\": 95, \"x1\": 95, \"y0\": 1, \"y1\": 1.6666666666666665}, {\"layer\": \"below\", \"line\": {\"color\": \"white\", \"width\": 2}, \"type\": \"line\", \"x0\": 95, \"x1\": 95, \"y0\": 23.58333, \"y1\": 24.249996666666668}, {\"layer\": \"below\", \"line\": {\"color\": \"white\", \"width\": 2}, \"type\": \"line\", \"x0\": 95, \"x1\": 95, \"y0\": 29.08333, \"y1\": 29.749996666666668}, {\"layer\": \"below\", \"line\": {\"color\": \"white\", \"width\": 2}, \"type\": \"line\", \"x0\": 95, \"x1\": 95, \"y0\": 51.63333333333333, \"y1\": 52.3}, {\"layer\": \"below\", \"line\": {\"color\": \"white\", \"width\": 2}, \"type\": \"line\", \"x0\": 96, \"x1\": 96, \"y0\": 1, \"y1\": 1.6666666666666665}, {\"layer\": \"below\", \"line\": {\"color\": \"white\", \"width\": 2}, \"type\": \"line\", \"x0\": 96, \"x1\": 96, \"y0\": 23.58333, \"y1\": 24.249996666666668}, {\"layer\": \"below\", \"line\": {\"color\": \"white\", \"width\": 2}, \"type\": \"line\", \"x0\": 96, \"x1\": 96, \"y0\": 29.08333, \"y1\": 29.749996666666668}, {\"layer\": \"below\", \"line\": {\"color\": \"white\", \"width\": 2}, \"type\": \"line\", \"x0\": 96, \"x1\": 96, \"y0\": 51.63333333333333, \"y1\": 52.3}, {\"layer\": \"below\", \"line\": {\"color\": \"white\", \"width\": 2}, \"type\": \"line\", \"x0\": 97, \"x1\": 97, \"y0\": 1, \"y1\": 1.6666666666666665}, {\"layer\": \"below\", \"line\": {\"color\": \"white\", \"width\": 2}, \"type\": \"line\", \"x0\": 97, \"x1\": 97, \"y0\": 23.58333, \"y1\": 24.249996666666668}, {\"layer\": \"below\", \"line\": {\"color\": \"white\", \"width\": 2}, \"type\": \"line\", \"x0\": 97, \"x1\": 97, \"y0\": 29.08333, \"y1\": 29.749996666666668}, {\"layer\": \"below\", \"line\": {\"color\": \"white\", \"width\": 2}, \"type\": \"line\", \"x0\": 97, \"x1\": 97, \"y0\": 51.63333333333333, \"y1\": 52.3}, {\"layer\": \"below\", \"line\": {\"color\": \"white\", \"width\": 2}, \"type\": \"line\", \"x0\": 98, \"x1\": 98, \"y0\": 1, \"y1\": 1.6666666666666665}, {\"layer\": \"below\", \"line\": {\"color\": \"white\", \"width\": 2}, \"type\": \"line\", \"x0\": 98, \"x1\": 98, \"y0\": 23.58333, \"y1\": 24.249996666666668}, {\"layer\": \"below\", \"line\": {\"color\": \"white\", \"width\": 2}, \"type\": \"line\", \"x0\": 98, \"x1\": 98, \"y0\": 29.08333, \"y1\": 29.749996666666668}, {\"layer\": \"below\", \"line\": {\"color\": \"white\", \"width\": 2}, \"type\": \"line\", \"x0\": 98, \"x1\": 98, \"y0\": 51.63333333333333, \"y1\": 52.3}, {\"layer\": \"below\", \"line\": {\"color\": \"white\", \"width\": 2}, \"type\": \"line\", \"x0\": 99, \"x1\": 99, \"y0\": 1, \"y1\": 1.6666666666666665}, {\"layer\": \"below\", \"line\": {\"color\": \"white\", \"width\": 2}, \"type\": \"line\", \"x0\": 99, \"x1\": 99, \"y0\": 23.58333, \"y1\": 24.249996666666668}, {\"layer\": \"below\", \"line\": {\"color\": \"white\", \"width\": 2}, \"type\": \"line\", \"x0\": 99, \"x1\": 99, \"y0\": 29.08333, \"y1\": 29.749996666666668}, {\"layer\": \"below\", \"line\": {\"color\": \"white\", \"width\": 2}, \"type\": \"line\", \"x0\": 99, \"x1\": 99, \"y0\": 51.63333333333333, \"y1\": 52.3}, {\"layer\": \"below\", \"line\": {\"color\": \"white\", \"width\": 2}, \"type\": \"line\", \"x0\": 101, \"x1\": 101, \"y0\": 1, \"y1\": 1.6666666666666665}, {\"layer\": \"below\", \"line\": {\"color\": \"white\", \"width\": 2}, \"type\": \"line\", \"x0\": 101, \"x1\": 101, \"y0\": 23.58333, \"y1\": 24.249996666666668}, {\"layer\": \"below\", \"line\": {\"color\": \"white\", \"width\": 2}, \"type\": \"line\", \"x0\": 101, \"x1\": 101, \"y0\": 29.08333, \"y1\": 29.749996666666668}, {\"layer\": \"below\", \"line\": {\"color\": \"white\", \"width\": 2}, \"type\": \"line\", \"x0\": 101, \"x1\": 101, \"y0\": 51.63333333333333, \"y1\": 52.3}, {\"layer\": \"below\", \"line\": {\"color\": \"white\", \"width\": 2}, \"type\": \"line\", \"x0\": 102, \"x1\": 102, \"y0\": 1, \"y1\": 1.6666666666666665}, {\"layer\": \"below\", \"line\": {\"color\": \"white\", \"width\": 2}, \"type\": \"line\", \"x0\": 102, \"x1\": 102, \"y0\": 23.58333, \"y1\": 24.249996666666668}, {\"layer\": \"below\", \"line\": {\"color\": \"white\", \"width\": 2}, \"type\": \"line\", \"x0\": 102, \"x1\": 102, \"y0\": 29.08333, \"y1\": 29.749996666666668}, {\"layer\": \"below\", \"line\": {\"color\": \"white\", \"width\": 2}, \"type\": \"line\", \"x0\": 102, \"x1\": 102, \"y0\": 51.63333333333333, \"y1\": 52.3}, {\"layer\": \"below\", \"line\": {\"color\": \"white\", \"width\": 2}, \"type\": \"line\", \"x0\": 103, \"x1\": 103, \"y0\": 1, \"y1\": 1.6666666666666665}, {\"layer\": \"below\", \"line\": {\"color\": \"white\", \"width\": 2}, \"type\": \"line\", \"x0\": 103, \"x1\": 103, \"y0\": 23.58333, \"y1\": 24.249996666666668}, {\"layer\": \"below\", \"line\": {\"color\": \"white\", \"width\": 2}, \"type\": \"line\", \"x0\": 103, \"x1\": 103, \"y0\": 29.08333, \"y1\": 29.749996666666668}, {\"layer\": \"below\", \"line\": {\"color\": \"white\", \"width\": 2}, \"type\": \"line\", \"x0\": 103, \"x1\": 103, \"y0\": 51.63333333333333, \"y1\": 52.3}, {\"layer\": \"below\", \"line\": {\"color\": \"white\", \"width\": 2}, \"type\": \"line\", \"x0\": 104, \"x1\": 104, \"y0\": 1, \"y1\": 1.6666666666666665}, {\"layer\": \"below\", \"line\": {\"color\": \"white\", \"width\": 2}, \"type\": \"line\", \"x0\": 104, \"x1\": 104, \"y0\": 23.58333, \"y1\": 24.249996666666668}, {\"layer\": \"below\", \"line\": {\"color\": \"white\", \"width\": 2}, \"type\": \"line\", \"x0\": 104, \"x1\": 104, \"y0\": 29.08333, \"y1\": 29.749996666666668}, {\"layer\": \"below\", \"line\": {\"color\": \"white\", \"width\": 2}, \"type\": \"line\", \"x0\": 104, \"x1\": 104, \"y0\": 51.63333333333333, \"y1\": 52.3}, {\"layer\": \"below\", \"line\": {\"color\": \"white\", \"width\": 2}, \"type\": \"line\", \"x0\": 105, \"x1\": 105, \"y0\": 1, \"y1\": 1.6666666666666665}, {\"layer\": \"below\", \"line\": {\"color\": \"white\", \"width\": 2}, \"type\": \"line\", \"x0\": 105, \"x1\": 105, \"y0\": 23.58333, \"y1\": 24.249996666666668}, {\"layer\": \"below\", \"line\": {\"color\": \"white\", \"width\": 2}, \"type\": \"line\", \"x0\": 105, \"x1\": 105, \"y0\": 29.08333, \"y1\": 29.749996666666668}, {\"layer\": \"below\", \"line\": {\"color\": \"white\", \"width\": 2}, \"type\": \"line\", \"x0\": 105, \"x1\": 105, \"y0\": 51.63333333333333, \"y1\": 52.3}, {\"layer\": \"below\", \"line\": {\"color\": \"white\", \"width\": 2}, \"type\": \"line\", \"x0\": 106, \"x1\": 106, \"y0\": 1, \"y1\": 1.6666666666666665}, {\"layer\": \"below\", \"line\": {\"color\": \"white\", \"width\": 2}, \"type\": \"line\", \"x0\": 106, \"x1\": 106, \"y0\": 23.58333, \"y1\": 24.249996666666668}, {\"layer\": \"below\", \"line\": {\"color\": \"white\", \"width\": 2}, \"type\": \"line\", \"x0\": 106, \"x1\": 106, \"y0\": 29.08333, \"y1\": 29.749996666666668}, {\"layer\": \"below\", \"line\": {\"color\": \"white\", \"width\": 2}, \"type\": \"line\", \"x0\": 106, \"x1\": 106, \"y0\": 51.63333333333333, \"y1\": 52.3}, {\"layer\": \"below\", \"line\": {\"color\": \"white\", \"width\": 2}, \"type\": \"line\", \"x0\": 107, \"x1\": 107, \"y0\": 1, \"y1\": 1.6666666666666665}, {\"layer\": \"below\", \"line\": {\"color\": \"white\", \"width\": 2}, \"type\": \"line\", \"x0\": 107, \"x1\": 107, \"y0\": 23.58333, \"y1\": 24.249996666666668}, {\"layer\": \"below\", \"line\": {\"color\": \"white\", \"width\": 2}, \"type\": \"line\", \"x0\": 107, \"x1\": 107, \"y0\": 29.08333, \"y1\": 29.749996666666668}, {\"layer\": \"below\", \"line\": {\"color\": \"white\", \"width\": 2}, \"type\": \"line\", \"x0\": 107, \"x1\": 107, \"y0\": 51.63333333333333, \"y1\": 52.3}, {\"layer\": \"below\", \"line\": {\"color\": \"white\", \"width\": 2}, \"type\": \"line\", \"x0\": 108, \"x1\": 108, \"y0\": 1, \"y1\": 1.6666666666666665}, {\"layer\": \"below\", \"line\": {\"color\": \"white\", \"width\": 2}, \"type\": \"line\", \"x0\": 108, \"x1\": 108, \"y0\": 23.58333, \"y1\": 24.249996666666668}, {\"layer\": \"below\", \"line\": {\"color\": \"white\", \"width\": 2}, \"type\": \"line\", \"x0\": 108, \"x1\": 108, \"y0\": 29.08333, \"y1\": 29.749996666666668}, {\"layer\": \"below\", \"line\": {\"color\": \"white\", \"width\": 2}, \"type\": \"line\", \"x0\": 108, \"x1\": 108, \"y0\": 51.63333333333333, \"y1\": 52.3}, {\"layer\": \"below\", \"line\": {\"color\": \"white\", \"width\": 2}, \"type\": \"line\", \"x0\": 109, \"x1\": 109, \"y0\": 1, \"y1\": 1.6666666666666665}, {\"layer\": \"below\", \"line\": {\"color\": \"white\", \"width\": 2}, \"type\": \"line\", \"x0\": 109, \"x1\": 109, \"y0\": 23.58333, \"y1\": 24.249996666666668}, {\"layer\": \"below\", \"line\": {\"color\": \"white\", \"width\": 2}, \"type\": \"line\", \"x0\": 109, \"x1\": 109, \"y0\": 29.08333, \"y1\": 29.749996666666668}, {\"layer\": \"below\", \"line\": {\"color\": \"white\", \"width\": 2}, \"type\": \"line\", \"x0\": 109, \"x1\": 109, \"y0\": 51.63333333333333, \"y1\": 52.3}, {\"fillcolor\": \"white\", \"layer\": \"below\", \"line\": {\"color\": \"white\"}, \"path\": \"M 18.013,4.68 L 18.013,5.72 A 3.257,3.257 180.0 0,1 18.014,5.789 A 1.126,1.126 180.0 0,1 17.991,6.057 Q 17.963,6.16 17.893,6.1899999999999995 Q 17.823,6.22 17.663,6.22 L 17.418,6.22 A 0.095,0.095 180.0 0,0 17.328,6.34 Q 17.333000000000002,6.415 17.358,6.432 Q 17.383,6.45 17.421,6.45 L 17.473,6.45 Q 17.683,6.45 17.883,6.5169999999999995 Q 18.083000000000002,6.585 18.318,6.68 Q 18.348,6.6899999999999995 18.368000000000002,6.6899999999999995 Q 18.448,6.6899999999999995 18.448,6.574999999999999 L 18.448,4.68 Q 18.448,4.46 18.501,4.365 Q 18.553,4.27 18.666,4.245 Q 18.778000000000002,4.22 19.028000000000002,4.22 L 19.078,4.22 Q 19.118000000000002,4.22 19.136,4.199999999999999 Q 19.153000000000002,4.18 19.158,4.12 Q 19.158,4.0 19.068,4.0 Q 18.708000000000002,4.015000000000001 18.228,4.015000000000001 Q 17.753,4.015000000000001 17.393,4.0 A 0.095,0.095 180.0 0,0 17.303,4.12 Q 17.308,4.18 17.326,4.199999999999999 Q 17.343,4.22 17.383,4.22 Q 17.663,4.22 17.781000000000002,4.242 Q 17.898,4.265000000000001 17.956,4.359999999999999 Q 18.013,4.455 18.013,4.68 L 18.013,4.68\", \"type\": \"path\"}, {\"fillcolor\": \"white\", \"layer\": \"below\", \"line\": {\"color\": \"white\"}, \"path\": \"M 21.644647615158764,49.01 L 21.644647615158764,47.97 A 3.257,3.257 360.0 0,1 21.643647615158763,47.901 A 1.126,1.126 360.0 0,1 21.666647615158762,47.633 Q 21.69464761515876,47.53 21.76464761515876,47.5 Q 21.83464761515876,47.47 21.99464761515876,47.47 L 22.239647615158763,47.47 A 0.095,0.095 360.0 0,0 22.329647615158763,47.35 Q 22.324647615158764,47.275 22.29964761515876,47.258 Q 22.274647615158763,47.24 22.236647615158763,47.24 L 22.184647615158763,47.24 Q 21.974647615158762,47.24 21.774647615158763,47.173 Q 21.574647615158764,47.105 21.33964761515876,47.01 Q 21.309647615158763,47.0 21.289647615158763,47.0 Q 21.20964761515876,47.0 21.20964761515876,47.115 L 21.20964761515876,49.01 Q 21.20964761515876,49.23 21.15664761515876,49.325 Q 21.10464761515876,49.42 20.99164761515876,49.445 Q 20.879647615158763,49.47 20.629647615158763,49.47 L 20.579647615158763,49.47 Q 20.539647615158763,49.47 20.521647615158763,49.49 Q 20.504647615158763,49.51 20.49964761515876,49.57 Q 20.49964761515876,49.69 20.589647615158764,49.69 Q 20.949647615158764,49.675 21.429647615158764,49.675 Q 21.904647615158762,49.675 22.26464761515876,49.69 A 0.095,0.095 360.0 0,0 22.35464761515876,49.57 Q 22.349647615158762,49.51 22.33164761515876,49.49 Q 22.314647615158762,49.47 22.274647615158763,49.47 Q 21.99464761515876,49.47 21.876647615158763,49.448 Q 21.759647615158762,49.425 21.701647615158763,49.33 Q 21.644647615158764,49.235 21.644647615158764,49.01 L 21.644647615158764,49.01\", \"type\": \"path\"}, {\"fillcolor\": \"white\", \"layer\": \"below\", \"line\": {\"color\": \"white\"}, \"path\": \"M 21.69,6.7509999999999994 Q 21.3,6.7509999999999994 21.033,6.561 Q 20.765,6.371 20.633,6.056 Q 20.5,5.741 20.5,5.371 Q 20.5,4.996 20.633,4.686 Q 20.765,4.376 21.033,4.188 Q 21.3,4.0009999999999994 21.69,4.0009999999999994 Q 22.06,4.0009999999999994 22.33,4.191 Q 22.6,4.381 22.740000000000002,4.696 Q 22.88,5.011 22.88,5.371 Q 22.88,5.731 22.740000000000002,6.045999999999999 Q 22.6,6.361000000000001 22.33,6.556 Q 22.06,6.7509999999999994 21.69,6.7509999999999994 M 21.695,6.566 Q 22.03,6.566 22.215,6.256 Q 22.4,5.946 22.4,5.371 Q 22.4,4.796 22.215,4.491 Q 22.03,4.186 21.695,4.186 Q 21.35,4.186 21.165,4.4879999999999995 Q 20.98,4.791 20.98,5.371 Q 20.98,5.9510000000000005 21.165,6.258 Q 21.35,6.566 21.695,6.566\", \"type\": \"path\"}, {\"fillcolor\": \"white\", \"layer\": \"below\", \"line\": {\"color\": \"white\"}, \"path\": \"M 18.267647615158765,46.939 Q 18.657647615158762,46.939 18.924647615158765,47.129 Q 19.192647615158762,47.319 19.324647615158764,47.634 Q 19.457647615158763,47.949 19.457647615158763,48.319 Q 19.457647615158763,48.694 19.324647615158764,49.004 Q 19.192647615158762,49.314 18.924647615158765,49.502 Q 18.657647615158766,49.689 18.267647615158765,49.689 Q 17.897647615158764,49.689 17.627647615158764,49.499 Q 17.357647615158765,49.309 17.217647615158764,48.994 Q 17.077647615158764,48.679 17.077647615158764,48.319 Q 17.077647615158764,47.959 17.217647615158764,47.644 Q 17.357647615158765,47.329 17.627647615158764,47.134 Q 17.897647615158764,46.939 18.267647615158765,46.939 M 18.262647615158762,47.124 Q 17.927647615158765,47.124 17.742647615158763,47.434 Q 17.557647615158764,47.744 17.557647615158764,48.319 Q 17.557647615158764,48.894 17.742647615158763,49.199 Q 17.927647615158765,49.504 18.262647615158762,49.504 Q 18.607647615158765,49.504 18.792647615158764,49.202 Q 18.977647615158762,48.899 18.977647615158762,48.319 Q 18.977647615158762,47.739 18.792647615158764,47.432 Q 18.607647615158765,47.124 18.262647615158762,47.124\", \"type\": \"path\"}, {\"fillcolor\": \"white\", \"layer\": \"below\", \"line\": {\"color\": \"white\"}, \"path\": \"M 27.747,4.38 L 27.747,4.355 L 29.087,4.355 A 0.449,0.449 180.0 0,0 29.269000000000002,4.327 Q 29.327,4.3 29.327,4.18 Q 29.327,4.0 29.152,4.0 L 27.477,4.0 Q 27.302,4.0 27.302,4.18 Q 27.307000000000002,4.285 27.359,4.35 Q 27.412,4.415 27.532,4.495 Q 27.927,4.76 28.144000000000002,4.932 Q 28.362000000000002,5.105 28.537,5.37 Q 28.712,5.635 28.712,5.965 Q 28.712,6.205 28.584,6.337 Q 28.457,6.47 28.227,6.47 Q 28.032,6.47 27.904,6.372 Q 27.777,6.275 27.777,6.105 Q 27.777,6.02 27.817,5.962 Q 27.857,5.904999999999999 27.899,5.87 Q 27.942,5.835 27.942,5.83 Q 27.942,5.795 27.874000000000002,5.745 Q 27.807000000000002,5.695 27.712,5.695 Q 27.557000000000002,5.695 27.464000000000002,5.792 Q 27.372,5.89 27.372,6.04 Q 27.372,6.24 27.507,6.38 Q 27.642,6.52 27.849,6.585 Q 28.057000000000002,6.65 28.272000000000002,6.65 Q 28.647000000000002,6.65 28.919,6.465 Q 29.192,6.279999999999999 29.192,5.9 Q 29.192,5.625 29.042,5.4 Q 28.892,5.175 28.684,5.0169999999999995 Q 28.477,4.859999999999999 28.142,4.645 Q 27.877000000000002,4.48 27.747,4.38\", \"type\": \"path\"}, {\"fillcolor\": \"white\", \"layer\": \"below\", \"line\": {\"color\": \"white\"}, \"path\": \"M 32.082,49.27 L 32.082,49.295 L 30.742,49.295 A 0.449,0.449 360.0 0,0 30.56,49.323 Q 30.502,49.35 30.502,49.47 Q 30.502,49.65 30.677,49.65 L 32.352,49.65 Q 32.527,49.65 32.527,49.47 Q 32.522,49.365 32.47,49.3 Q 32.417,49.235 32.297,49.155 Q 31.902,48.89 31.685,48.718 Q 31.467,48.545 31.292,48.28 Q 31.117,48.015 31.117,47.685 Q 31.117,47.445 31.245,47.313 Q 31.372,47.18 31.602,47.18 Q 31.797,47.18 31.925,47.278 Q 32.052,47.375 32.052,47.545 Q 32.052,47.63 32.012,47.688 Q 31.972,47.745 31.93,47.78 Q 31.887,47.815 31.887,47.82 Q 31.887,47.855 31.955,47.905 Q 32.022,47.955 32.117,47.955 Q 32.272,47.955 32.365,47.858 Q 32.457,47.76 32.457,47.61 Q 32.457,47.41 32.322,47.27 Q 32.187,47.13 31.98,47.065 Q 31.772,47.0 31.557,47.0 Q 31.182,47.0 30.91,47.185 Q 30.637,47.37 30.637,47.75 Q 30.637,48.025 30.787,48.25 Q 30.937,48.475 31.145,48.633 Q 31.352,48.79 31.687,49.005 Q 31.951999999999998,49.17 32.082,49.27\", \"type\": \"path\"}, {\"fillcolor\": \"white\", \"layer\": \"below\", \"line\": {\"color\": \"white\"}, \"path\": \"M 31.69,6.7509999999999994 Q 31.3,6.7509999999999994 31.033,6.561 Q 30.765,6.371 30.633,6.056 Q 30.5,5.741 30.5,5.371 Q 30.5,4.996 30.633,4.686 Q 30.765,4.376 31.033,4.188 Q 31.3,4.0009999999999994 31.69,4.0009999999999994 Q 32.06,4.0009999999999994 32.33,4.191 Q 32.6,4.381 32.74,4.696 Q 32.88,5.011 32.88,5.371 Q 32.88,5.731 32.74,6.045999999999999 Q 32.6,6.361000000000001 32.33,6.556 Q 32.06,6.7509999999999994 31.69,6.7509999999999994 M 31.695,6.566 Q 32.03,6.566 32.215,6.256 Q 32.4,5.946 32.4,5.371 Q 32.4,4.796 32.215,4.491 Q 32.03,4.186 31.695,4.186 Q 31.35,4.186 31.165,4.4879999999999995 Q 30.98,4.791 30.98,5.371 Q 30.98,5.9510000000000005 31.165,6.258 Q 31.35,6.566 31.695,6.566\", \"type\": \"path\"}, {\"fillcolor\": \"white\", \"layer\": \"below\", \"line\": {\"color\": \"white\"}, \"path\": \"M 28.439,46.899 Q 28.829,46.899 29.096,47.089 Q 29.364,47.278999999999996 29.496000000000002,47.594 Q 29.629,47.909 29.629,48.278999999999996 Q 29.629,48.653999999999996 29.496000000000002,48.964 Q 29.364,49.274 29.096,49.462 Q 28.829,49.649 28.439,49.649 Q 28.069000000000003,49.649 27.799000000000003,49.459 Q 27.529,49.269 27.389000000000003,48.954 Q 27.249000000000002,48.639 27.249000000000002,48.279 Q 27.249000000000002,47.919 27.389000000000003,47.604 Q 27.529,47.289 27.799,47.094 Q 28.069000000000003,46.899 28.439,46.899 M 28.434,47.084 Q 28.099,47.084 27.914,47.394 Q 27.729000000000003,47.704 27.729000000000003,48.278999999999996 Q 27.729000000000003,48.854 27.914,49.159 Q 28.099,49.464 28.434,49.464 Q 28.779,49.464 28.964000000000002,49.162 Q 29.149,48.859 29.149,48.278999999999996 Q 29.149,47.699 28.964000000000002,47.392 Q 28.779,47.084 28.434,47.084\", \"type\": \"path\"}, {\"fillcolor\": \"white\", \"layer\": \"below\", \"line\": {\"color\": \"white\"}, \"path\": \"M 38.199999999999996,5.336 L 38.015,5.336 Q 37.98,5.336 37.959999999999994,5.366 Q 37.94,5.396 37.94,5.436 Q 37.94,5.481 37.959999999999994,5.513 Q 37.98,5.546 38.015,5.551 L 38.199999999999996,5.551 Q 38.394999999999996,5.571 38.513,5.726 Q 38.629999999999995,5.881 38.629999999999995,6.101 Q 38.629999999999995,6.341 38.495,6.468 Q 38.36,6.596 38.18,6.596 Q 38.01,6.596 37.888,6.498 Q 37.765,6.401 37.765,6.231 Q 37.765,6.121 37.808,6.083 Q 37.849999999999994,6.046 37.89,6.038 Q 37.93,6.031000000000001 37.93,6.026 Q 37.93,5.991 37.863,5.941 Q 37.794999999999995,5.891 37.699999999999996,5.891 Q 37.54,5.891 37.449999999999996,5.991 Q 37.36,6.091 37.36,6.246 Q 37.36,6.491 37.589999999999996,6.6259999999999994 Q 37.82,6.761 38.184999999999995,6.761 Q 38.574999999999996,6.761 38.83,6.591 Q 39.084999999999994,6.420999999999999 39.084999999999994,6.101 Q 39.084999999999994,5.891 38.937999999999995,5.711 Q 38.79,5.531 38.515,5.4559999999999995 L 38.515,5.436 Q 38.794999999999995,5.406 39.0,5.258 Q 39.205,5.111 39.205,4.791 Q 39.205,4.386 38.91,4.193 Q 38.614999999999995,4.0009999999999994 38.169999999999995,4.0009999999999994 Q 37.805,4.0009999999999994 37.553,4.143 Q 37.3,4.286 37.3,4.561 Q 37.3,4.7059999999999995 37.39,4.811 Q 37.48,4.916 37.64,4.916 Q 37.735,4.916 37.803,4.866 Q 37.87,4.816 37.87,4.781 Q 37.87,4.776 37.824999999999996,4.743 Q 37.779999999999994,4.711 37.742999999999995,4.656000000000001 Q 37.705,4.601 37.705,4.516 Q 37.705,4.361000000000001 37.837999999999994,4.273 Q 37.97,4.186 38.184999999999995,4.186 Q 38.72,4.186 38.72,4.781 Q 38.72,5.026 38.589999999999996,5.173 Q 38.459999999999994,5.321 38.199999999999996,5.336\", \"type\": \"path\"}, {\"fillcolor\": \"white\", \"layer\": \"below\", \"line\": {\"color\": \"white\"}, \"path\": \"M 41.505,48.426 L 41.69,48.426 Q 41.725,48.426 41.745,48.396 Q 41.765,48.366 41.765,48.326 Q 41.765,48.281 41.745,48.249 Q 41.725,48.216 41.69,48.211 L 41.505,48.211 Q 41.31,48.191 41.192,48.036 Q 41.075,47.881 41.075,47.661 Q 41.075,47.421 41.21,47.294 Q 41.345,47.166 41.525,47.166 Q 41.695,47.166 41.817,47.264 Q 41.94,47.361 41.94,47.531 Q 41.94,47.641 41.897,47.679 Q 41.855,47.716 41.815,47.724 Q 41.775,47.731 41.775,47.736 Q 41.775,47.771 41.842,47.821 Q 41.91,47.871 42.005,47.871 Q 42.165,47.871 42.255,47.771 Q 42.345,47.671 42.345,47.516 Q 42.345,47.271 42.115,47.136 Q 41.885,47.001 41.52,47.001 Q 41.13,47.001 40.875,47.171 Q 40.62,47.341 40.62,47.661 Q 40.62,47.871 40.767,48.051 Q 40.915,48.231 41.19,48.306 L 41.19,48.326 Q 40.91,48.356 40.705,48.504 Q 40.5,48.651 40.5,48.971000000000004 Q 40.5,49.376 40.795,49.569 Q 41.09,49.761 41.535,49.761 Q 41.9,49.761 42.152,49.619 Q 42.405,49.476 42.405,49.201 Q 42.405,49.056 42.315,48.951 Q 42.225,48.846000000000004 42.065,48.846000000000004 Q 41.97,48.846000000000004 41.902,48.896 Q 41.835,48.946 41.835,48.981 Q 41.835,48.986 41.88,49.019 Q 41.925,49.051 41.962,49.106 Q 42.0,49.161 42.0,49.246 Q 42.0,49.400999999999996 41.867,49.489 Q 41.735,49.576 41.52,49.576 Q 40.985,49.576 40.985,48.981 Q 40.985,48.736 41.115,48.589 Q 41.245,48.441 41.505,48.426\", \"type\": \"path\"}, {\"fillcolor\": \"white\", \"layer\": \"below\", \"line\": {\"color\": \"white\"}, \"path\": \"M 41.69,6.7509999999999994 Q 41.3,6.7509999999999994 41.033,6.561 Q 40.765,6.371 40.633,6.056 Q 40.5,5.741 40.5,5.371 Q 40.5,4.996 40.633,4.686 Q 40.765,4.376 41.033,4.188 Q 41.3,4.0009999999999994 41.69,4.0009999999999994 Q 42.06,4.0009999999999994 42.33,4.191 Q 42.6,4.381 42.74,4.696 Q 42.88,5.011 42.88,5.371 Q 42.88,5.731 42.74,6.045999999999999 Q 42.6,6.361000000000001 42.33,6.556 Q 42.06,6.7509999999999994 41.69,6.7509999999999994 M 41.695,6.566 Q 42.03,6.566 42.215,6.256 Q 42.4,5.946 42.4,5.371 Q 42.4,4.796 42.215,4.491 Q 42.03,4.186 41.695,4.186 Q 41.35,4.186 41.165,4.4879999999999995 Q 40.98,4.791 40.98,5.371 Q 40.98,5.9510000000000005 41.165,6.258 Q 41.35,6.566 41.695,6.566\", \"type\": \"path\"}, {\"fillcolor\": \"white\", \"layer\": \"below\", \"line\": {\"color\": \"white\"}, \"path\": \"M 38.315,47.011 Q 38.705,47.011 38.972,47.201 Q 39.24,47.391 39.372,47.706 Q 39.505,48.021 39.505,48.391 Q 39.505,48.766 39.372,49.076 Q 39.24,49.386 38.972,49.574 Q 38.705,49.761 38.315000000000005,49.761 Q 37.945,49.761 37.675000000000004,49.571 Q 37.405,49.381 37.265,49.066 Q 37.125,48.751 37.125,48.391 Q 37.125,48.031 37.265,47.716 Q 37.405,47.401 37.675000000000004,47.206 Q 37.945,47.011 38.315,47.011 M 38.31,47.196 Q 37.975,47.196 37.79,47.506 Q 37.605000000000004,47.816 37.605000000000004,48.391 Q 37.605000000000004,48.966 37.79,49.271 Q 37.975,49.576 38.31,49.576 Q 38.655,49.576 38.84,49.274 Q 39.025,48.971 39.025,48.391 Q 39.025,47.811 38.84,47.504 Q 38.655,47.196 38.31,47.196\", \"type\": \"path\"}, {\"fillcolor\": \"white\", \"layer\": \"below\", \"line\": {\"color\": \"white\"}, \"path\": \"M 48.654999999999994,4.096 L 48.654999999999994,4.861 L 47.459999999999994,4.861 Q 47.379999999999995,4.861 47.339999999999996,4.911 Q 47.3,4.961 47.3,5.036 Q 47.3,5.101 47.334999999999994,5.146 L 48.739999999999995,6.680999999999999 Q 48.79,6.731 48.894999999999996,6.731 Q 48.974999999999994,6.731 49.029999999999994,6.689 Q 49.084999999999994,6.646 49.089999999999996,6.555999999999999 L 49.089999999999996,5.106 L 49.39,5.106 Q 49.459999999999994,5.106 49.489999999999995,5.0889999999999995 Q 49.519999999999996,5.071 49.525,4.986 Q 49.525,4.931 49.503,4.896 Q 49.48,4.861 49.43,4.861 L 49.089999999999996,4.861 L 49.089999999999996,4.096 Q 49.089999999999996,4.051 49.025,4.026 Q 48.959999999999994,4.0009999999999994 48.875,4.0009999999999994 Q 48.79,4.0009999999999994 48.724999999999994,4.026 Q 48.66,4.051 48.654999999999994,4.096 M 48.654999999999994,6.291 L 47.589999999999996,5.106 L 48.654999999999994,5.106 L 48.654999999999994,6.291\", \"type\": \"path\"}, {\"fillcolor\": \"white\", \"layer\": \"below\", \"line\": {\"color\": \"white\"}, \"path\": \"M 51.37,49.636 L 51.37,48.871 L 52.565,48.871 Q 52.645,48.871 52.685,48.821 Q 52.725,48.771 52.725,48.696 Q 52.725,48.631 52.69,48.586 L 51.285,47.051 Q 51.235,47.001 51.13,47.001 Q 51.05,47.001 50.995,47.043 Q 50.94,47.086 50.935,47.176 L 50.935,48.626 L 50.635,48.626 Q 50.565,48.626 50.535,48.643 Q 50.505,48.661 50.5,48.746 Q 50.5,48.801 50.522,48.836 Q 50.545,48.871 50.595,48.871 L 50.935,48.871 L 50.935,49.636 Q 50.935,49.681 51.0,49.706 Q 51.065,49.731 51.15,49.731 Q 51.235,49.731 51.3,49.706 Q 51.365,49.681 51.37,49.636 M 51.37,47.441 L 52.435,48.626 L 51.37,48.626 L 51.37,47.441\", \"type\": \"path\"}, {\"fillcolor\": \"white\", \"layer\": \"below\", \"line\": {\"color\": \"white\"}, \"path\": \"M 51.69,6.7509999999999994 Q 51.3,6.7509999999999994 51.033,6.561 Q 50.765,6.371 50.633,6.056 Q 50.5,5.741 50.5,5.371 Q 50.5,4.996 50.633,4.686 Q 50.765,4.376 51.033,4.188 Q 51.3,4.0009999999999994 51.69,4.0009999999999994 Q 52.06,4.0009999999999994 52.33,4.191 Q 52.6,4.381 52.74,4.696 Q 52.88,5.011 52.88,5.371 Q 52.88,5.731 52.74,6.045999999999999 Q 52.6,6.361000000000001 52.33,6.556 Q 52.06,6.7509999999999994 51.69,6.7509999999999994 M 51.695,6.566 Q 52.03,6.566 52.215,6.256 Q 52.4,5.946 52.4,5.371 Q 52.4,4.796 52.215,4.491 Q 52.03,4.186 51.695,4.186 Q 51.35,4.186 51.165,4.4879999999999995 Q 50.98,4.791 50.98,5.371 Q 50.98,5.9510000000000005 51.165,6.258 Q 51.35,6.566 51.695,6.566\", \"type\": \"path\"}, {\"fillcolor\": \"white\", \"layer\": \"below\", \"line\": {\"color\": \"white\"}, \"path\": \"M 48.635,46.981 Q 49.025,46.981 49.292,47.171 Q 49.56,47.361 49.692,47.676 Q 49.825,47.991 49.825,48.361 Q 49.825,48.736 49.692,49.046 Q 49.56,49.356 49.292,49.544 Q 49.025,49.731 48.635000000000005,49.731 Q 48.265,49.731 47.995000000000005,49.541 Q 47.725,49.351 47.585,49.036 Q 47.445,48.721000000000004 47.445,48.361 Q 47.445,48.001 47.585,47.686 Q 47.725,47.371 47.995000000000005,47.176 Q 48.265,46.981 48.635,46.981 M 48.63,47.166 Q 48.295,47.166 48.11,47.476 Q 47.925000000000004,47.786 47.925000000000004,48.361 Q 47.925000000000004,48.936 48.11,49.241 Q 48.295,49.546 48.63,49.546 Q 48.975,49.546 49.160000000000004,49.244 Q 49.345,48.941 49.345,48.361 Q 49.345,47.781 49.160000000000004,47.474 Q 48.975,47.166 48.63,47.166\", \"type\": \"path\"}, {\"fillcolor\": \"white\", \"layer\": \"below\", \"line\": {\"color\": \"white\"}, \"path\": \"M 57.434999999999995,5.45 L 57.44,5.51 L 57.595,6.7 L 58.97,6.7 Q 59.04,6.7 59.083,6.655 Q 59.125,6.61 59.125,6.53 Q 59.125,6.345000000000001 58.934999999999995,6.345000000000001 L 57.824999999999996,6.345000000000001 L 57.72,5.65 Q 57.94,5.785 58.26,5.785 Q 58.474999999999994,5.785 58.693,5.69 Q 58.91,5.595000000000001 59.055,5.4 Q 59.199999999999996,5.205 59.199999999999996,4.915 Q 59.199999999999996,4.625 59.058,4.417 Q 58.915,4.21 58.678,4.105 Q 58.44,4.0 58.16,4.0 Q 57.79,4.0 57.544999999999995,4.135 Q 57.3,4.27 57.3,4.555 Q 57.3,4.71 57.393,4.827 Q 57.485,4.945 57.64,4.945 Q 57.735,4.945 57.803,4.8950000000000005 Q 57.87,4.845000000000001 57.87,4.8100000000000005 Q 57.87,4.805 57.824999999999996,4.765000000000001 Q 57.779999999999994,4.725 57.742999999999995,4.667 Q 57.705,4.61 57.705,4.535 Q 57.705,4.365 57.827999999999996,4.275 Q 57.949999999999996,4.1850000000000005 58.169999999999995,4.1850000000000005 Q 58.445,4.1850000000000005 58.583,4.380000000000001 Q 58.72,4.575 58.72,4.890000000000001 Q 58.72,5.18 58.58,5.372 Q 58.44,5.565 58.144999999999996,5.565 Q 58.01,5.565 57.913,5.522 Q 57.815,5.48 57.705,5.4 Q 57.64,5.355 57.598,5.332 Q 57.555,5.3100000000000005 57.515,5.3100000000000005 Q 57.434999999999995,5.3100000000000005 57.434999999999995,5.45 L 57.434999999999995,5.45\", \"type\": \"path\"}, {\"fillcolor\": \"white\", \"layer\": \"below\", \"line\": {\"color\": \"white\"}, \"path\": \"M 62.265,48.25 L 62.26,48.19 L 62.105,47.0 L 60.73,47.0 Q 60.66,47.0 60.617,47.045 Q 60.575,47.09 60.575,47.17 Q 60.575,47.355 60.765,47.355 L 61.875,47.355 L 61.98,48.05 Q 61.76,47.915 61.44,47.915 Q 61.225,47.915 61.007,48.01 Q 60.79,48.105 60.645,48.3 Q 60.5,48.495 60.5,48.785 Q 60.5,49.075 60.642,49.283 Q 60.785,49.49 61.022,49.595 Q 61.26,49.7 61.54,49.7 Q 61.91,49.7 62.155,49.565 Q 62.4,49.43 62.4,49.145 Q 62.4,48.99 62.307,48.873 Q 62.215,48.755 62.06,48.755 Q 61.965,48.755 61.897,48.805 Q 61.83,48.855 61.83,48.89 Q 61.83,48.895 61.875,48.935 Q 61.92,48.975 61.957,49.033 Q 61.995,49.09 61.995,49.165 Q 61.995,49.335 61.872,49.425 Q 61.75,49.515 61.53,49.515 Q 61.255,49.515 61.117,49.32 Q 60.98,49.125 60.98,48.81 Q 60.98,48.52 61.12,48.328 Q 61.26,48.135 61.555,48.135 Q 61.69,48.135 61.787,48.178 Q 61.885,48.22 61.995,48.3 Q 62.06,48.345 62.102,48.368 Q 62.145,48.39 62.185,48.39 Q 62.265,48.39 62.265,48.25 L 62.265,48.25\", \"type\": \"path\"}, {\"fillcolor\": \"white\", \"layer\": \"below\", \"line\": {\"color\": \"white\"}, \"path\": \"M 61.69,6.7509999999999994 Q 61.3,6.7509999999999994 61.033,6.561 Q 60.765,6.371 60.633,6.056 Q 60.5,5.741 60.5,5.371 Q 60.5,4.996 60.633,4.686 Q 60.765,4.376 61.033,4.188 Q 61.3,4.0009999999999994 61.69,4.0009999999999994 Q 62.06,4.0009999999999994 62.33,4.191 Q 62.6,4.381 62.74,4.696 Q 62.88,5.011 62.88,5.371 Q 62.88,5.731 62.74,6.045999999999999 Q 62.6,6.361000000000001 62.33,6.556 Q 62.06,6.7509999999999994 61.69,6.7509999999999994 M 61.695,6.566 Q 62.03,6.566 62.215,6.256 Q 62.4,5.946 62.4,5.371 Q 62.4,4.796 62.215,4.491 Q 62.03,4.186 61.695,4.186 Q 61.35,4.186 61.165,4.4879999999999995 Q 60.98,4.791 60.98,5.371 Q 60.98,5.9510000000000005 61.165,6.258 Q 61.35,6.566 61.695,6.566\", \"type\": \"path\"}, {\"fillcolor\": \"white\", \"layer\": \"below\", \"line\": {\"color\": \"white\"}, \"path\": \"M 58.31,46.949 Q 58.7,46.949 58.967,47.139 Q 59.235,47.329 59.367000000000004,47.644 Q 59.5,47.959 59.5,48.329 Q 59.5,48.704 59.367000000000004,49.014 Q 59.235,49.324 58.967,49.512 Q 58.7,49.699 58.31,49.699 Q 57.940000000000005,49.699 57.67,49.509 Q 57.4,49.319 57.26,49.004 Q 57.120000000000005,48.689 57.120000000000005,48.329 Q 57.120000000000005,47.969 57.26,47.654 Q 57.4,47.339 57.67,47.144 Q 57.94,46.949 58.31,46.949 M 58.305,47.134 Q 57.97,47.134 57.785000000000004,47.444 Q 57.6,47.754 57.6,48.329 Q 57.6,48.904 57.785000000000004,49.209 Q 57.97,49.514 58.305,49.514 Q 58.65,49.514 58.835,49.212 Q 59.02,48.909 59.02,48.329 Q 59.02,47.749 58.835,47.442 Q 58.65,47.134 58.305,47.134\", \"type\": \"path\"}, {\"fillcolor\": \"white\", \"layer\": \"below\", \"line\": {\"color\": \"white\"}, \"path\": \"M 68.655,4.096 L 68.655,4.861 L 67.46,4.861 Q 67.38,4.861 67.34,4.911 Q 67.3,4.961 67.3,5.036 Q 67.3,5.101 67.335,5.146 L 68.74,6.680999999999999 Q 68.78999999999999,6.731 68.895,6.731 Q 68.975,6.731 69.03,6.689 Q 69.085,6.646 69.09,6.555999999999999 L 69.09,5.106 L 69.39,5.106 Q 69.46,5.106 69.49,5.0889999999999995 Q 69.52,5.071 69.52499999999999,4.986 Q 69.52499999999999,4.931 69.503,4.896 Q 69.48,4.861 69.42999999999999,4.861 L 69.09,4.861 L 69.09,4.096 Q 69.09,4.051 69.02499999999999,4.026 Q 68.96,4.0009999999999994 68.875,4.0009999999999994 Q 68.78999999999999,4.0009999999999994 68.725,4.026 Q 68.66,4.051 68.655,4.096 M 68.655,6.291 L 67.59,5.106 L 68.655,5.106 L 68.655,6.291\", \"type\": \"path\"}, {\"fillcolor\": \"white\", \"layer\": \"below\", \"line\": {\"color\": \"white\"}, \"path\": \"M 71.37,49.636 L 71.37,48.871 L 72.565,48.871 Q 72.645,48.871 72.685,48.821 Q 72.725,48.771 72.725,48.696 Q 72.725,48.631 72.69,48.586 L 71.285,47.051 Q 71.235,47.001 71.13,47.001 Q 71.05,47.001 70.995,47.043 Q 70.94,47.086 70.935,47.176 L 70.935,48.626 L 70.635,48.626 Q 70.565,48.626 70.535,48.643 Q 70.505,48.661 70.5,48.746 Q 70.5,48.801 70.522,48.836 Q 70.545,48.871 70.595,48.871 L 70.935,48.871 L 70.935,49.636 Q 70.935,49.681 71.0,49.706 Q 71.065,49.731 71.15,49.731 Q 71.235,49.731 71.3,49.706 Q 71.365,49.681 71.37,49.636 M 71.37,47.441 L 72.435,48.626 L 71.37,48.626 L 71.37,47.441\", \"type\": \"path\"}, {\"fillcolor\": \"white\", \"layer\": \"below\", \"line\": {\"color\": \"white\"}, \"path\": \"M 71.69,6.7509999999999994 Q 71.3,6.7509999999999994 71.033,6.561 Q 70.765,6.371 70.633,6.056 Q 70.5,5.741 70.5,5.371 Q 70.5,4.996 70.633,4.686 Q 70.765,4.376 71.033,4.188 Q 71.3,4.0009999999999994 71.69,4.0009999999999994 Q 72.06,4.0009999999999994 72.33,4.191 Q 72.6,4.381 72.74,4.696 Q 72.88,5.011 72.88,5.371 Q 72.88,5.731 72.74,6.045999999999999 Q 72.6,6.361000000000001 72.33,6.556 Q 72.06,6.7509999999999994 71.69,6.7509999999999994 M 71.695,6.566 Q 72.03,6.566 72.215,6.256 Q 72.4,5.946 72.4,5.371 Q 72.4,4.796 72.215,4.491 Q 72.03,4.186 71.695,4.186 Q 71.35,4.186 71.165,4.4879999999999995 Q 70.98,4.791 70.98,5.371 Q 70.98,5.9510000000000005 71.165,6.258 Q 71.35,6.566 71.695,6.566\", \"type\": \"path\"}, {\"fillcolor\": \"white\", \"layer\": \"below\", \"line\": {\"color\": \"white\"}, \"path\": \"M 68.63499999999999,46.981 Q 69.02499999999999,46.981 69.29199999999999,47.171 Q 69.55999999999999,47.361 69.692,47.676 Q 69.82499999999999,47.991 69.82499999999999,48.361 Q 69.82499999999999,48.736 69.692,49.046 Q 69.55999999999999,49.356 69.292,49.544 Q 69.02499999999999,49.731 68.63499999999999,49.731 Q 68.265,49.731 67.99499999999999,49.541 Q 67.725,49.351 67.585,49.036 Q 67.445,48.721000000000004 67.445,48.361 Q 67.445,48.001 67.585,47.686 Q 67.725,47.371 67.99499999999999,47.176 Q 68.265,46.981 68.63499999999999,46.981 M 68.63,47.166 Q 68.29499999999999,47.166 68.11,47.476 Q 67.925,47.786 67.925,48.361 Q 67.925,48.936 68.11,49.241 Q 68.29499999999999,49.546 68.63,49.546 Q 68.975,49.546 69.16,49.244 Q 69.345,48.941 69.345,48.361 Q 69.345,47.781 69.16,47.474 Q 68.975,47.166 68.63,47.166\", \"type\": \"path\"}, {\"fillcolor\": \"white\", \"layer\": \"below\", \"line\": {\"color\": \"white\"}, \"path\": \"M 78.2,5.336 L 78.015,5.336 Q 77.98,5.336 77.96,5.366 Q 77.94,5.396 77.94,5.436 Q 77.94,5.481 77.96,5.513 Q 77.98,5.546 78.015,5.551 L 78.2,5.551 Q 78.395,5.571 78.51299999999999,5.726 Q 78.63,5.881 78.63,6.101 Q 78.63,6.341 78.49499999999999,6.468 Q 78.36,6.596 78.17999999999999,6.596 Q 78.00999999999999,6.596 77.88799999999999,6.498 Q 77.765,6.401 77.765,6.231 Q 77.765,6.121 77.80799999999999,6.083 Q 77.85,6.046 77.89,6.038 Q 77.92999999999999,6.031000000000001 77.92999999999999,6.026 Q 77.92999999999999,5.991 77.863,5.941 Q 77.795,5.891 77.7,5.891 Q 77.53999999999999,5.891 77.45,5.991 Q 77.36,6.091 77.36,6.246 Q 77.36,6.491 77.59,6.6259999999999994 Q 77.82,6.761 78.185,6.761 Q 78.575,6.761 78.83,6.591 Q 79.085,6.420999999999999 79.085,6.101 Q 79.085,5.891 78.938,5.711 Q 78.78999999999999,5.531 78.515,5.4559999999999995 L 78.515,5.436 Q 78.795,5.406 79.0,5.258 Q 79.205,5.111 79.205,4.791 Q 79.205,4.386 78.91,4.193 Q 78.615,4.0009999999999994 78.17,4.0009999999999994 Q 77.80499999999999,4.0009999999999994 77.553,4.143 Q 77.3,4.286 77.3,4.561 Q 77.3,4.7059999999999995 77.39,4.811 Q 77.48,4.916 77.64,4.916 Q 77.735,4.916 77.803,4.866 Q 77.86999999999999,4.816 77.86999999999999,4.781 Q 77.86999999999999,4.776 77.825,4.743 Q 77.78,4.711 77.743,4.656000000000001 Q 77.705,4.601 77.705,4.516 Q 77.705,4.361000000000001 77.838,4.273 Q 77.97,4.186 78.185,4.186 Q 78.72,4.186 78.72,4.781 Q 78.72,5.026 78.59,5.173 Q 78.46,5.321 78.2,5.336\", \"type\": \"path\"}, {\"fillcolor\": \"white\", \"layer\": \"below\", \"line\": {\"color\": \"white\"}, \"path\": \"M 81.505,48.426 L 81.69,48.426 Q 81.725,48.426 81.745,48.396 Q 81.765,48.366 81.765,48.326 Q 81.765,48.281 81.745,48.249 Q 81.725,48.216 81.69,48.211 L 81.505,48.211 Q 81.31,48.191 81.192,48.036 Q 81.075,47.881 81.075,47.661 Q 81.075,47.421 81.21,47.294 Q 81.345,47.166 81.525,47.166 Q 81.695,47.166 81.817,47.264 Q 81.94,47.361 81.94,47.531 Q 81.94,47.641 81.897,47.679 Q 81.855,47.716 81.815,47.724 Q 81.775,47.731 81.775,47.736 Q 81.775,47.771 81.842,47.821 Q 81.91,47.871 82.005,47.871 Q 82.165,47.871 82.255,47.771 Q 82.345,47.671 82.345,47.516 Q 82.345,47.271 82.115,47.136 Q 81.885,47.001 81.52,47.001 Q 81.13,47.001 80.875,47.171 Q 80.62,47.341 80.62,47.661 Q 80.62,47.871 80.767,48.051 Q 80.915,48.231 81.19,48.306 L 81.19,48.326 Q 80.91,48.356 80.705,48.504 Q 80.5,48.651 80.5,48.971000000000004 Q 80.5,49.376 80.795,49.569 Q 81.09,49.761 81.535,49.761 Q 81.9,49.761 82.152,49.619 Q 82.405,49.476 82.405,49.201 Q 82.405,49.056 82.315,48.951 Q 82.225,48.846000000000004 82.065,48.846000000000004 Q 81.97,48.846000000000004 81.902,48.896 Q 81.835,48.946 81.835,48.981 Q 81.835,48.986 81.88,49.019 Q 81.925,49.051 81.962,49.106 Q 82.0,49.161 82.0,49.246 Q 82.0,49.400999999999996 81.867,49.489 Q 81.735,49.576 81.52,49.576 Q 80.985,49.576 80.985,48.981 Q 80.985,48.736 81.115,48.589 Q 81.245,48.441 81.505,48.426\", \"type\": \"path\"}, {\"fillcolor\": \"white\", \"layer\": \"below\", \"line\": {\"color\": \"white\"}, \"path\": \"M 81.69,6.7509999999999994 Q 81.3,6.7509999999999994 81.033,6.561 Q 80.765,6.371 80.633,6.056 Q 80.5,5.741 80.5,5.371 Q 80.5,4.996 80.633,4.686 Q 80.765,4.376 81.033,4.188 Q 81.3,4.0009999999999994 81.69,4.0009999999999994 Q 82.06,4.0009999999999994 82.33,4.191 Q 82.6,4.381 82.74,4.696 Q 82.88,5.011 82.88,5.371 Q 82.88,5.731 82.74,6.045999999999999 Q 82.6,6.361000000000001 82.33,6.556 Q 82.06,6.7509999999999994 81.69,6.7509999999999994 M 81.695,6.566 Q 82.03,6.566 82.215,6.256 Q 82.4,5.946 82.4,5.371 Q 82.4,4.796 82.215,4.491 Q 82.03,4.186 81.695,4.186 Q 81.35,4.186 81.165,4.4879999999999995 Q 80.98,4.791 80.98,5.371 Q 80.98,5.9510000000000005 81.165,6.258 Q 81.35,6.566 81.695,6.566\", \"type\": \"path\"}, {\"fillcolor\": \"white\", \"layer\": \"below\", \"line\": {\"color\": \"white\"}, \"path\": \"M 78.315,47.011 Q 78.705,47.011 78.972,47.201 Q 79.24,47.391 79.372,47.706 Q 79.505,48.021 79.505,48.391 Q 79.505,48.766 79.372,49.076 Q 79.24,49.386 78.972,49.574 Q 78.705,49.761 78.315,49.761 Q 77.945,49.761 77.675,49.571 Q 77.405,49.381 77.265,49.066 Q 77.125,48.751 77.125,48.391 Q 77.125,48.031 77.265,47.716 Q 77.405,47.401 77.675,47.206 Q 77.945,47.011 78.315,47.011 M 78.30999999999999,47.196 Q 77.975,47.196 77.78999999999999,47.506 Q 77.60499999999999,47.816 77.60499999999999,48.391 Q 77.60499999999999,48.966 77.78999999999999,49.271 Q 77.975,49.576 78.30999999999999,49.576 Q 78.655,49.576 78.83999999999999,49.274 Q 79.02499999999999,48.971 79.02499999999999,48.391 Q 79.02499999999999,47.811 78.83999999999999,47.504 Q 78.655,47.196 78.30999999999999,47.196\", \"type\": \"path\"}, {\"fillcolor\": \"white\", \"layer\": \"below\", \"line\": {\"color\": \"white\"}, \"path\": \"M 87.747,4.38 L 87.747,4.355 L 89.087,4.355 A 0.449,0.449 180.0 0,0 89.26899999999999,4.327 Q 89.327,4.3 89.327,4.18 Q 89.327,4.0 89.152,4.0 L 87.477,4.0 Q 87.30199999999999,4.0 87.30199999999999,4.18 Q 87.307,4.285 87.359,4.35 Q 87.41199999999999,4.415 87.532,4.495 Q 87.92699999999999,4.76 88.14399999999999,4.932 Q 88.362,5.105 88.53699999999999,5.37 Q 88.712,5.635 88.712,5.965 Q 88.712,6.205 88.584,6.337 Q 88.457,6.47 88.227,6.47 Q 88.032,6.47 87.904,6.372 Q 87.777,6.275 87.777,6.105 Q 87.777,6.02 87.817,5.962 Q 87.857,5.904999999999999 87.899,5.87 Q 87.942,5.835 87.942,5.83 Q 87.942,5.795 87.874,5.745 Q 87.807,5.695 87.712,5.695 Q 87.557,5.695 87.464,5.792 Q 87.372,5.89 87.372,6.04 Q 87.372,6.24 87.50699999999999,6.38 Q 87.642,6.52 87.849,6.585 Q 88.057,6.65 88.27199999999999,6.65 Q 88.64699999999999,6.65 88.919,6.465 Q 89.192,6.279999999999999 89.192,5.9 Q 89.192,5.625 89.042,5.4 Q 88.892,5.175 88.684,5.0169999999999995 Q 88.477,4.859999999999999 88.142,4.645 Q 87.877,4.48 87.747,4.38\", \"type\": \"path\"}, {\"fillcolor\": \"white\", \"layer\": \"below\", \"line\": {\"color\": \"white\"}, \"path\": \"M 92.082,49.27 L 92.082,49.295 L 90.742,49.295 A 0.449,0.449 360.0 0,0 90.56,49.323 Q 90.502,49.35 90.502,49.47 Q 90.502,49.65 90.677,49.65 L 92.352,49.65 Q 92.527,49.65 92.527,49.47 Q 92.522,49.365 92.47,49.3 Q 92.417,49.235 92.297,49.155 Q 91.902,48.89 91.685,48.718 Q 91.467,48.545 91.292,48.28 Q 91.117,48.015 91.117,47.685 Q 91.117,47.445 91.245,47.313 Q 91.372,47.18 91.602,47.18 Q 91.797,47.18 91.925,47.278 Q 92.052,47.375 92.052,47.545 Q 92.052,47.63 92.012,47.688 Q 91.972,47.745 91.93,47.78 Q 91.887,47.815 91.887,47.82 Q 91.887,47.855 91.955,47.905 Q 92.022,47.955 92.117,47.955 Q 92.272,47.955 92.365,47.858 Q 92.457,47.76 92.457,47.61 Q 92.457,47.41 92.322,47.27 Q 92.187,47.13 91.98,47.065 Q 91.772,47.0 91.557,47.0 Q 91.182,47.0 90.91,47.185 Q 90.637,47.37 90.637,47.75 Q 90.637,48.025 90.787,48.25 Q 90.937,48.475 91.145,48.633 Q 91.352,48.79 91.687,49.005 Q 91.952,49.17 92.082,49.27\", \"type\": \"path\"}, {\"fillcolor\": \"white\", \"layer\": \"below\", \"line\": {\"color\": \"white\"}, \"path\": \"M 91.69,6.7509999999999994 Q 91.3,6.7509999999999994 91.033,6.561 Q 90.765,6.371 90.633,6.056 Q 90.5,5.741 90.5,5.371 Q 90.5,4.996 90.633,4.686 Q 90.765,4.376 91.033,4.188 Q 91.3,4.0009999999999994 91.69,4.0009999999999994 Q 92.06,4.0009999999999994 92.33,4.191 Q 92.6,4.381 92.74,4.696 Q 92.88,5.011 92.88,5.371 Q 92.88,5.731 92.74,6.045999999999999 Q 92.6,6.361000000000001 92.33,6.556 Q 92.06,6.7509999999999994 91.69,6.7509999999999994 M 91.695,6.566 Q 92.03,6.566 92.215,6.256 Q 92.4,5.946 92.4,5.371 Q 92.4,4.796 92.215,4.491 Q 92.03,4.186 91.695,4.186 Q 91.35,4.186 91.165,4.4879999999999995 Q 90.98,4.791 90.98,5.371 Q 90.98,5.9510000000000005 91.165,6.258 Q 91.35,6.566 91.695,6.566\", \"type\": \"path\"}, {\"fillcolor\": \"white\", \"layer\": \"below\", \"line\": {\"color\": \"white\"}, \"path\": \"M 88.439,46.899 Q 88.829,46.899 89.09599999999999,47.089 Q 89.36399999999999,47.278999999999996 89.496,47.594 Q 89.62899999999999,47.909 89.62899999999999,48.278999999999996 Q 89.62899999999999,48.653999999999996 89.496,48.964 Q 89.36399999999999,49.274 89.09599999999999,49.462 Q 88.829,49.649 88.439,49.649 Q 88.06899999999999,49.649 87.79899999999999,49.459 Q 87.529,49.269 87.389,48.954 Q 87.249,48.639 87.249,48.279 Q 87.249,47.919 87.389,47.604 Q 87.529,47.289 87.79899999999999,47.094 Q 88.06899999999999,46.899 88.439,46.899 M 88.434,47.084 Q 88.09899999999999,47.084 87.91399999999999,47.394 Q 87.729,47.704 87.729,48.278999999999996 Q 87.729,48.854 87.91399999999999,49.159 Q 88.09899999999999,49.464 88.434,49.464 Q 88.779,49.464 88.964,49.162 Q 89.149,48.859 89.149,48.278999999999996 Q 89.149,47.699 88.964,47.392 Q 88.779,47.084 88.434,47.084\", \"type\": \"path\"}, {\"fillcolor\": \"white\", \"layer\": \"below\", \"line\": {\"color\": \"white\"}, \"path\": \"M 98.01299999999999,4.68 L 98.01299999999999,5.72 A 3.257,3.257 180.0 0,1 98.014,5.789 A 1.126,1.126 180.0 0,1 97.991,6.057 Q 97.963,6.16 97.893,6.1899999999999995 Q 97.823,6.22 97.663,6.22 L 97.41799999999999,6.22 A 0.095,0.095 180.0 0,0 97.328,6.34 Q 97.333,6.415 97.358,6.432 Q 97.383,6.45 97.42099999999999,6.45 L 97.473,6.45 Q 97.68299999999999,6.45 97.883,6.5169999999999995 Q 98.083,6.585 98.318,6.68 Q 98.348,6.6899999999999995 98.368,6.6899999999999995 Q 98.448,6.6899999999999995 98.448,6.574999999999999 L 98.448,4.68 Q 98.448,4.46 98.50099999999999,4.365 Q 98.553,4.27 98.666,4.245 Q 98.77799999999999,4.22 99.02799999999999,4.22 L 99.078,4.22 Q 99.118,4.22 99.136,4.199999999999999 Q 99.15299999999999,4.18 99.158,4.12 Q 99.158,4.0 99.068,4.0 Q 98.708,4.015000000000001 98.228,4.015000000000001 Q 97.753,4.015000000000001 97.393,4.0 A 0.095,0.095 180.0 0,0 97.303,4.12 Q 97.30799999999999,4.18 97.326,4.199999999999999 Q 97.343,4.22 97.383,4.22 Q 97.663,4.22 97.78099999999999,4.242 Q 97.898,4.265000000000001 97.956,4.359999999999999 Q 98.01299999999999,4.455 98.01299999999999,4.68 L 98.01299999999999,4.68\", \"type\": \"path\"}, {\"fillcolor\": \"white\", \"layer\": \"below\", \"line\": {\"color\": \"white\"}, \"path\": \"M 101.64464761515876,49.01 L 101.64464761515876,47.97 A 3.257,3.257 360.0 0,1 101.64364761515876,47.901 A 1.126,1.126 360.0 0,1 101.66664761515877,47.633 Q 101.69464761515876,47.53 101.76464761515876,47.5 Q 101.83464761515876,47.47 101.99464761515877,47.47 L 102.23964761515876,47.47 A 0.095,0.095 360.0 0,0 102.32964761515876,47.35 Q 102.32464761515877,47.275 102.29964761515876,47.258 Q 102.27464761515876,47.24 102.23664761515876,47.24 L 102.18464761515877,47.24 Q 101.97464761515876,47.24 101.77464761515876,47.173 Q 101.57464761515877,47.105 101.33964761515877,47.01 Q 101.30964761515877,47.0 101.28964761515876,47.0 Q 101.20964761515876,47.0 101.20964761515876,47.115 L 101.20964761515876,49.01 Q 101.20964761515876,49.23 101.15664761515876,49.325 Q 101.10464761515877,49.42 100.99164761515877,49.445 Q 100.87964761515876,49.47 100.62964761515876,49.47 L 100.57964761515876,49.47 Q 100.53964761515876,49.47 100.52164761515876,49.49 Q 100.50464761515876,49.51 100.49964761515876,49.57 Q 100.49964761515876,49.69 100.58964761515877,49.69 Q 100.94964761515877,49.675 101.42964761515876,49.675 Q 101.90464761515877,49.675 102.26464761515876,49.69 A 0.095,0.095 360.0 0,0 102.35464761515877,49.57 Q 102.34964761515876,49.51 102.33164761515876,49.49 Q 102.31464761515876,49.47 102.27464761515876,49.47 Q 101.99464761515877,49.47 101.87664761515876,49.448 Q 101.75964761515877,49.425 101.70164761515876,49.33 Q 101.64464761515876,49.235 101.64464761515876,49.01 L 101.64464761515876,49.01\", \"type\": \"path\"}, {\"fillcolor\": \"white\", \"layer\": \"below\", \"line\": {\"color\": \"white\"}, \"path\": \"M 101.69,6.7509999999999994 Q 101.3,6.7509999999999994 101.033,6.561 Q 100.765,6.371 100.633,6.056 Q 100.5,5.741 100.5,5.371 Q 100.5,4.996 100.633,4.686 Q 100.765,4.376 101.033,4.188 Q 101.3,4.0009999999999994 101.69,4.0009999999999994 Q 102.06,4.0009999999999994 102.33,4.191 Q 102.6,4.381 102.74,4.696 Q 102.88,5.011 102.88,5.371 Q 102.88,5.731 102.74,6.045999999999999 Q 102.6,6.361000000000001 102.33,6.556 Q 102.06,6.7509999999999994 101.69,6.7509999999999994 M 101.695,6.566 Q 102.03,6.566 102.215,6.256 Q 102.4,5.946 102.4,5.371 Q 102.4,4.796 102.215,4.491 Q 102.03,4.186 101.695,4.186 Q 101.35,4.186 101.165,4.4879999999999995 Q 100.98,4.791 100.98,5.371 Q 100.98,5.9510000000000005 101.165,6.258 Q 101.35,6.566 101.695,6.566\", \"type\": \"path\"}, {\"fillcolor\": \"white\", \"layer\": \"below\", \"line\": {\"color\": \"white\"}, \"path\": \"M 98.26764761515875,46.939 Q 98.65764761515875,46.939 98.92464761515876,47.129 Q 99.19264761515876,47.319 99.32464761515875,47.634 Q 99.45764761515876,47.949 99.45764761515876,48.319 Q 99.45764761515876,48.694 99.32464761515875,49.004 Q 99.19264761515876,49.314 98.92464761515876,49.502 Q 98.65764761515875,49.689 98.26764761515875,49.689 Q 97.89764761515876,49.689 97.62764761515875,49.499 Q 97.35764761515875,49.309 97.21764761515875,48.994 Q 97.07764761515875,48.679 97.07764761515875,48.319 Q 97.07764761515875,47.959 97.21764761515875,47.644 Q 97.35764761515875,47.329 97.62764761515875,47.134 Q 97.89764761515876,46.939 98.26764761515875,46.939 M 98.26264761515876,47.124 Q 97.92764761515876,47.124 97.74264761515876,47.434 Q 97.55764761515876,47.744 97.55764761515876,48.319 Q 97.55764761515876,48.894 97.74264761515876,49.199 Q 97.92764761515876,49.504 98.26264761515876,49.504 Q 98.60764761515875,49.504 98.79264761515876,49.202 Q 98.97764761515876,48.899 98.97764761515876,48.319 Q 98.97764761515876,47.739 98.79264761515876,47.432 Q 98.60764761515875,47.124 98.26264761515876,47.124\", \"type\": \"path\"}, {\"fillcolor\": \"white\", \"layer\": \"below\", \"line\": {\"color\": \"white\"}, \"path\": \"M 16.9,5.0 L 16.1,5.2 L 16.9,5.4 L 16.9,5.0\", \"type\": \"path\"}, {\"fillcolor\": \"white\", \"layer\": \"below\", \"line\": {\"color\": \"white\"}, \"path\": \"M 26.9,5.0 L 26.1,5.2 L 26.9,5.4 L 26.9,5.0\", \"type\": \"path\"}, {\"fillcolor\": \"white\", \"layer\": \"below\", \"line\": {\"color\": \"white\"}, \"path\": \"M 36.9,5.0 L 36.1,5.2 L 36.9,5.4 L 36.9,5.0\", \"type\": \"path\"}, {\"fillcolor\": \"white\", \"layer\": \"below\", \"line\": {\"color\": \"white\"}, \"path\": \"M 46.9,5.0 L 46.1,5.2 L 46.9,5.4 L 46.9,5.0\", \"type\": \"path\"}, {\"fillcolor\": \"white\", \"layer\": \"below\", \"line\": {\"color\": \"white\"}, \"path\": \"M 73.39999999999999,5.4 L 74.2,5.2 L 73.39999999999999,5.0 L 73.39999999999999,5.4\", \"type\": \"path\"}, {\"fillcolor\": \"white\", \"layer\": \"below\", \"line\": {\"color\": \"white\"}, \"path\": \"M 83.39999999999999,5.4 L 84.2,5.2 L 83.39999999999999,5.0 L 83.39999999999999,5.4\", \"type\": \"path\"}, {\"fillcolor\": \"white\", \"layer\": \"below\", \"line\": {\"color\": \"white\"}, \"path\": \"M 93.39999999999999,5.4 L 94.2,5.2 L 93.39999999999999,5.0 L 93.39999999999999,5.4\", \"type\": \"path\"}, {\"fillcolor\": \"white\", \"layer\": \"below\", \"line\": {\"color\": \"white\"}, \"path\": \"M 103.39999999999999,5.4 L 104.2,5.2 L 103.39999999999999,5.0 L 103.39999999999999,5.4\", \"type\": \"path\"}, {\"fillcolor\": \"white\", \"layer\": \"below\", \"line\": {\"color\": \"white\"}, \"path\": \"M 103.1,48.7 L 103.9,48.5 L 103.1,48.3 L 103.1,48.7\", \"type\": \"path\"}, {\"fillcolor\": \"white\", \"layer\": \"below\", \"line\": {\"color\": \"white\"}, \"path\": \"M 93.1,48.7 L 93.9,48.5 L 93.1,48.3 L 93.1,48.7\", \"type\": \"path\"}, {\"fillcolor\": \"white\", \"layer\": \"below\", \"line\": {\"color\": \"white\"}, \"path\": \"M 83.1,48.7 L 83.9,48.5 L 83.1,48.3 L 83.1,48.7\", \"type\": \"path\"}, {\"fillcolor\": \"white\", \"layer\": \"below\", \"line\": {\"color\": \"white\"}, \"path\": \"M 73.1,48.7 L 73.9,48.5 L 73.1,48.3 L 73.1,48.7\", \"type\": \"path\"}, {\"fillcolor\": \"white\", \"layer\": \"below\", \"line\": {\"color\": \"white\"}, \"path\": \"M 46.6,48.3 L 45.800000000000004,48.5 L 46.6,48.7 L 46.6,48.3\", \"type\": \"path\"}, {\"fillcolor\": \"white\", \"layer\": \"below\", \"line\": {\"color\": \"white\"}, \"path\": \"M 36.6,48.3 L 35.800000000000004,48.5 L 36.6,48.7 L 36.6,48.3\", \"type\": \"path\"}, {\"fillcolor\": \"white\", \"layer\": \"below\", \"line\": {\"color\": \"white\"}, \"path\": \"M 26.6,48.3 L 25.800000000000004,48.5 L 26.6,48.7 L 26.6,48.3\", \"type\": \"path\"}, {\"fillcolor\": \"white\", \"layer\": \"below\", \"line\": {\"color\": \"white\"}, \"path\": \"M 16.6,48.3 L 15.800000000000002,48.5 L 16.6,48.7 L 16.6,48.3\", \"type\": \"path\"}], \"template\": {\"data\": {\"bar\": [{\"error_x\": {\"color\": \"#2a3f5f\"}, \"error_y\": {\"color\": \"#2a3f5f\"}, \"marker\": {\"line\": {\"color\": \"#E5ECF6\", \"width\": 0.5}}, \"type\": \"bar\"}], \"barpolar\": [{\"marker\": {\"line\": {\"color\": \"#E5ECF6\", \"width\": 0.5}}, \"type\": \"barpolar\"}], \"carpet\": [{\"aaxis\": {\"endlinecolor\": \"#2a3f5f\", \"gridcolor\": \"white\", \"linecolor\": \"white\", \"minorgridcolor\": \"white\", \"startlinecolor\": \"#2a3f5f\"}, \"baxis\": {\"endlinecolor\": \"#2a3f5f\", \"gridcolor\": \"white\", \"linecolor\": \"white\", \"minorgridcolor\": \"white\", \"startlinecolor\": \"#2a3f5f\"}, \"type\": \"carpet\"}], \"choropleth\": [{\"colorbar\": {\"outlinewidth\": 0, \"ticks\": \"\"}, \"type\": \"choropleth\"}], \"contour\": [{\"colorbar\": {\"outlinewidth\": 0, \"ticks\": \"\"}, \"colorscale\": [[0.0, \"#0d0887\"], [0.1111111111111111, \"#46039f\"], [0.2222222222222222, \"#7201a8\"], [0.3333333333333333, \"#9c179e\"], [0.4444444444444444, \"#bd3786\"], [0.5555555555555556, \"#d8576b\"], [0.6666666666666666, \"#ed7953\"], [0.7777777777777778, \"#fb9f3a\"], [0.8888888888888888, \"#fdca26\"], [1.0, \"#f0f921\"]], \"type\": \"contour\"}], \"contourcarpet\": [{\"colorbar\": {\"outlinewidth\": 0, \"ticks\": \"\"}, \"type\": \"contourcarpet\"}], \"heatmap\": [{\"colorbar\": {\"outlinewidth\": 0, \"ticks\": \"\"}, \"colorscale\": [[0.0, \"#0d0887\"], [0.1111111111111111, \"#46039f\"], [0.2222222222222222, \"#7201a8\"], [0.3333333333333333, \"#9c179e\"], [0.4444444444444444, \"#bd3786\"], [0.5555555555555556, \"#d8576b\"], [0.6666666666666666, \"#ed7953\"], [0.7777777777777778, \"#fb9f3a\"], [0.8888888888888888, \"#fdca26\"], [1.0, \"#f0f921\"]], \"type\": \"heatmap\"}], \"heatmapgl\": [{\"colorbar\": {\"outlinewidth\": 0, \"ticks\": \"\"}, \"colorscale\": [[0.0, \"#0d0887\"], [0.1111111111111111, \"#46039f\"], [0.2222222222222222, \"#7201a8\"], [0.3333333333333333, \"#9c179e\"], [0.4444444444444444, \"#bd3786\"], [0.5555555555555556, \"#d8576b\"], [0.6666666666666666, \"#ed7953\"], [0.7777777777777778, \"#fb9f3a\"], [0.8888888888888888, \"#fdca26\"], [1.0, \"#f0f921\"]], \"type\": \"heatmapgl\"}], \"histogram\": [{\"marker\": {\"colorbar\": {\"outlinewidth\": 0, \"ticks\": \"\"}}, \"type\": \"histogram\"}], \"histogram2d\": [{\"colorbar\": {\"outlinewidth\": 0, \"ticks\": \"\"}, \"colorscale\": [[0.0, \"#0d0887\"], [0.1111111111111111, \"#46039f\"], [0.2222222222222222, \"#7201a8\"], [0.3333333333333333, \"#9c179e\"], [0.4444444444444444, \"#bd3786\"], [0.5555555555555556, \"#d8576b\"], [0.6666666666666666, \"#ed7953\"], [0.7777777777777778, \"#fb9f3a\"], [0.8888888888888888, \"#fdca26\"], [1.0, \"#f0f921\"]], \"type\": \"histogram2d\"}], \"histogram2dcontour\": [{\"colorbar\": {\"outlinewidth\": 0, \"ticks\": \"\"}, \"colorscale\": [[0.0, \"#0d0887\"], [0.1111111111111111, \"#46039f\"], [0.2222222222222222, \"#7201a8\"], [0.3333333333333333, \"#9c179e\"], [0.4444444444444444, \"#bd3786\"], [0.5555555555555556, \"#d8576b\"], [0.6666666666666666, \"#ed7953\"], [0.7777777777777778, \"#fb9f3a\"], [0.8888888888888888, \"#fdca26\"], [1.0, \"#f0f921\"]], \"type\": \"histogram2dcontour\"}], \"mesh3d\": [{\"colorbar\": {\"outlinewidth\": 0, \"ticks\": \"\"}, \"type\": \"mesh3d\"}], \"parcoords\": [{\"line\": {\"colorbar\": {\"outlinewidth\": 0, \"ticks\": \"\"}}, \"type\": \"parcoords\"}], \"pie\": [{\"automargin\": true, \"type\": \"pie\"}], \"scatter\": [{\"marker\": {\"colorbar\": {\"outlinewidth\": 0, \"ticks\": \"\"}}, \"type\": \"scatter\"}], \"scatter3d\": [{\"line\": {\"colorbar\": {\"outlinewidth\": 0, \"ticks\": \"\"}}, \"marker\": {\"colorbar\": {\"outlinewidth\": 0, \"ticks\": \"\"}}, \"type\": \"scatter3d\"}], \"scattercarpet\": [{\"marker\": {\"colorbar\": {\"outlinewidth\": 0, \"ticks\": \"\"}}, \"type\": \"scattercarpet\"}], \"scattergeo\": [{\"marker\": {\"colorbar\": {\"outlinewidth\": 0, \"ticks\": \"\"}}, \"type\": \"scattergeo\"}], \"scattergl\": [{\"marker\": {\"colorbar\": {\"outlinewidth\": 0, \"ticks\": \"\"}}, \"type\": \"scattergl\"}], \"scattermapbox\": [{\"marker\": {\"colorbar\": {\"outlinewidth\": 0, \"ticks\": \"\"}}, \"type\": \"scattermapbox\"}], \"scatterpolar\": [{\"marker\": {\"colorbar\": {\"outlinewidth\": 0, \"ticks\": \"\"}}, \"type\": \"scatterpolar\"}], \"scatterpolargl\": [{\"marker\": {\"colorbar\": {\"outlinewidth\": 0, \"ticks\": \"\"}}, \"type\": \"scatterpolargl\"}], \"scatterternary\": [{\"marker\": {\"colorbar\": {\"outlinewidth\": 0, \"ticks\": \"\"}}, \"type\": \"scatterternary\"}], \"surface\": [{\"colorbar\": {\"outlinewidth\": 0, \"ticks\": \"\"}, \"colorscale\": [[0.0, \"#0d0887\"], [0.1111111111111111, \"#46039f\"], [0.2222222222222222, \"#7201a8\"], [0.3333333333333333, \"#9c179e\"], [0.4444444444444444, \"#bd3786\"], [0.5555555555555556, \"#d8576b\"], [0.6666666666666666, \"#ed7953\"], [0.7777777777777778, \"#fb9f3a\"], [0.8888888888888888, \"#fdca26\"], [1.0, \"#f0f921\"]], \"type\": \"surface\"}], \"table\": [{\"cells\": {\"fill\": {\"color\": \"#EBF0F8\"}, \"line\": {\"color\": \"white\"}}, \"header\": {\"fill\": {\"color\": \"#C8D4E3\"}, \"line\": {\"color\": \"white\"}}, \"type\": \"table\"}]}, \"layout\": {\"annotationdefaults\": {\"arrowcolor\": \"#2a3f5f\", \"arrowhead\": 0, \"arrowwidth\": 1}, \"autotypenumbers\": \"strict\", \"coloraxis\": {\"colorbar\": {\"outlinewidth\": 0, \"ticks\": \"\"}}, \"colorscale\": {\"diverging\": [[0, \"#8e0152\"], [0.1, \"#c51b7d\"], [0.2, \"#de77ae\"], [0.3, \"#f1b6da\"], [0.4, \"#fde0ef\"], [0.5, \"#f7f7f7\"], [0.6, \"#e6f5d0\"], [0.7, \"#b8e186\"], [0.8, \"#7fbc41\"], [0.9, \"#4d9221\"], [1, \"#276419\"]], \"sequential\": [[0.0, \"#0d0887\"], [0.1111111111111111, \"#46039f\"], [0.2222222222222222, \"#7201a8\"], [0.3333333333333333, \"#9c179e\"], [0.4444444444444444, \"#bd3786\"], [0.5555555555555556, \"#d8576b\"], [0.6666666666666666, \"#ed7953\"], [0.7777777777777778, \"#fb9f3a\"], [0.8888888888888888, \"#fdca26\"], [1.0, \"#f0f921\"]], \"sequentialminus\": [[0.0, \"#0d0887\"], [0.1111111111111111, \"#46039f\"], [0.2222222222222222, \"#7201a8\"], [0.3333333333333333, \"#9c179e\"], [0.4444444444444444, \"#bd3786\"], [0.5555555555555556, \"#d8576b\"], [0.6666666666666666, \"#ed7953\"], [0.7777777777777778, \"#fb9f3a\"], [0.8888888888888888, \"#fdca26\"], [1.0, \"#f0f921\"]]}, \"colorway\": [\"#636efa\", \"#EF553B\", \"#00cc96\", \"#ab63fa\", \"#FFA15A\", \"#19d3f3\", \"#FF6692\", \"#B6E880\", \"#FF97FF\", \"#FECB52\"], \"font\": {\"color\": \"#2a3f5f\"}, \"geo\": {\"bgcolor\": \"white\", \"lakecolor\": \"white\", \"landcolor\": \"#E5ECF6\", \"showlakes\": true, \"showland\": true, \"subunitcolor\": \"white\"}, \"hoverlabel\": {\"align\": \"left\"}, \"hovermode\": \"closest\", \"mapbox\": {\"style\": \"light\"}, \"paper_bgcolor\": \"white\", \"plot_bgcolor\": \"#E5ECF6\", \"polar\": {\"angularaxis\": {\"gridcolor\": \"white\", \"linecolor\": \"white\", \"ticks\": \"\"}, \"bgcolor\": \"#E5ECF6\", \"radialaxis\": {\"gridcolor\": \"white\", \"linecolor\": \"white\", \"ticks\": \"\"}}, \"scene\": {\"xaxis\": {\"backgroundcolor\": \"#E5ECF6\", \"gridcolor\": \"white\", \"gridwidth\": 2, \"linecolor\": \"white\", \"showbackground\": true, \"ticks\": \"\", \"zerolinecolor\": \"white\"}, \"yaxis\": {\"backgroundcolor\": \"#E5ECF6\", \"gridcolor\": \"white\", \"gridwidth\": 2, \"linecolor\": \"white\", \"showbackground\": true, \"ticks\": \"\", \"zerolinecolor\": \"white\"}, \"zaxis\": {\"backgroundcolor\": \"#E5ECF6\", \"gridcolor\": \"white\", \"gridwidth\": 2, \"linecolor\": \"white\", \"showbackground\": true, \"ticks\": \"\", \"zerolinecolor\": \"white\"}}, \"shapedefaults\": {\"line\": {\"color\": \"#2a3f5f\"}}, \"ternary\": {\"aaxis\": {\"gridcolor\": \"white\", \"linecolor\": \"white\", \"ticks\": \"\"}, \"baxis\": {\"gridcolor\": \"white\", \"linecolor\": \"white\", \"ticks\": \"\"}, \"bgcolor\": \"#E5ECF6\", \"caxis\": {\"gridcolor\": \"white\", \"linecolor\": \"white\", \"ticks\": \"\"}}, \"title\": {\"x\": 0.05}, \"xaxis\": {\"automargin\": true, \"gridcolor\": \"white\", \"linecolor\": \"white\", \"ticks\": \"\", \"title\": {\"standoff\": 15}, \"zerolinecolor\": \"white\", \"zerolinewidth\": 2}, \"yaxis\": {\"automargin\": true, \"gridcolor\": \"white\", \"linecolor\": \"white\", \"ticks\": \"\", \"title\": {\"standoff\": 15}, \"zerolinecolor\": \"white\", \"zerolinewidth\": 2}}}, \"width\": 900, \"xaxis\": {\"range\": [-3, 123], \"showgrid\": false, \"showticklabels\": false, \"zeroline\": false}, \"yaxis\": {\"range\": [-5, 58.3], \"showgrid\": false, \"showticklabels\": false, \"zeroline\": false}},                        {\"responsive\": true}                    ).then(function(){\n",
       "                            \n",
       "var gd = document.getElementById('ec36cc6f-03d7-435d-9946-60f5d2d63c57');\n",
       "var x = new MutationObserver(function (mutations, observer) {{\n",
       "        var display = window.getComputedStyle(gd).display;\n",
       "        if (!display || display === 'none') {{\n",
       "            console.log([gd, 'removed!']);\n",
       "            Plotly.purge(gd);\n",
       "            observer.disconnect();\n",
       "        }}\n",
       "}});\n",
       "\n",
       "// Listen for the removal of the full notebook cells\n",
       "var notebookContainer = gd.closest('#notebook-container');\n",
       "if (notebookContainer) {{\n",
       "    x.observe(notebookContainer, {childList: true});\n",
       "}}\n",
       "\n",
       "// Listen for the clearing of the current output cell\n",
       "var outputEl = gd.closest('.output');\n",
       "if (outputEl) {{\n",
       "    x.observe(outputEl, {childList: true});\n",
       "}}\n",
       "\n",
       "                        })                };                });            </script>        </div>"
      ]
     },
     "metadata": {},
     "output_type": "display_data"
    }
   ],
   "source": [
    "horizontal_field = Field(nfl.FIELD_LENGTH, nfl.FIELD_WIDTH, nfl._make_field_lines_markers(), nfl.BACKGROUND_COLOR)\n",
    "fig = create_field(sport_field=horizontal_field)\n",
    "fig.update_layout(width=900, height=600)"
   ]
  },
  {
   "cell_type": "code",
   "execution_count": 79,
   "id": "tested-specification",
   "metadata": {},
   "outputs": [
    {
     "data": {
      "application/vnd.plotly.v1+json": {
       "config": {
        "plotlyServerURL": "https://plot.ly"
       },
       "data": [],
       "layout": {
        "margin": {
         "b": 80,
         "l": 5,
         "r": 5,
         "t": 100
        },
        "plot_bgcolor": "rgb(195,217,192)",
        "shapes": [
         {
          "layer": "below",
          "line": {
           "color": "white",
           "width": 5
          },
          "type": "line",
          "x0": 0,
          "x1": 0,
          "y0": 0,
          "y1": 120
         },
         {
          "layer": "below",
          "line": {
           "color": "white",
           "width": 5
          },
          "type": "line",
          "x0": 53.3,
          "x1": 53.3,
          "y0": 0,
          "y1": 120
         },
         {
          "layer": "below",
          "line": {
           "color": "white",
           "width": 5
          },
          "type": "line",
          "x0": 0,
          "x1": 53.3,
          "y0": 0,
          "y1": 0
         },
         {
          "layer": "below",
          "line": {
           "color": "white",
           "width": 5
          },
          "type": "line",
          "x0": 0,
          "x1": 53.3,
          "y0": 120,
          "y1": 120
         },
         {
          "layer": "below",
          "line": {
           "color": "white",
           "width": 2
          },
          "type": "line",
          "x0": 0,
          "x1": 53.3,
          "y0": 10,
          "y1": 10
         },
         {
          "layer": "below",
          "line": {
           "color": "white",
           "width": 2
          },
          "type": "line",
          "x0": 0,
          "x1": 53.3,
          "y0": 15,
          "y1": 15
         },
         {
          "layer": "below",
          "line": {
           "color": "white",
           "width": 2
          },
          "type": "line",
          "x0": 0,
          "x1": 53.3,
          "y0": 20,
          "y1": 20
         },
         {
          "layer": "below",
          "line": {
           "color": "white",
           "width": 2
          },
          "type": "line",
          "x0": 0,
          "x1": 53.3,
          "y0": 25,
          "y1": 25
         },
         {
          "layer": "below",
          "line": {
           "color": "white",
           "width": 2
          },
          "type": "line",
          "x0": 0,
          "x1": 53.3,
          "y0": 30,
          "y1": 30
         },
         {
          "layer": "below",
          "line": {
           "color": "white",
           "width": 2
          },
          "type": "line",
          "x0": 0,
          "x1": 53.3,
          "y0": 35,
          "y1": 35
         },
         {
          "layer": "below",
          "line": {
           "color": "white",
           "width": 2
          },
          "type": "line",
          "x0": 0,
          "x1": 53.3,
          "y0": 40,
          "y1": 40
         },
         {
          "layer": "below",
          "line": {
           "color": "white",
           "width": 2
          },
          "type": "line",
          "x0": 0,
          "x1": 53.3,
          "y0": 45,
          "y1": 45
         },
         {
          "layer": "below",
          "line": {
           "color": "white",
           "width": 2
          },
          "type": "line",
          "x0": 0,
          "x1": 53.3,
          "y0": 50,
          "y1": 50
         },
         {
          "layer": "below",
          "line": {
           "color": "white",
           "width": 2
          },
          "type": "line",
          "x0": 0,
          "x1": 53.3,
          "y0": 55,
          "y1": 55
         },
         {
          "layer": "below",
          "line": {
           "color": "white",
           "width": 2
          },
          "type": "line",
          "x0": 0,
          "x1": 53.3,
          "y0": 60,
          "y1": 60
         },
         {
          "layer": "below",
          "line": {
           "color": "white",
           "width": 2
          },
          "type": "line",
          "x0": 0,
          "x1": 53.3,
          "y0": 65,
          "y1": 65
         },
         {
          "layer": "below",
          "line": {
           "color": "white",
           "width": 2
          },
          "type": "line",
          "x0": 0,
          "x1": 53.3,
          "y0": 70,
          "y1": 70
         },
         {
          "layer": "below",
          "line": {
           "color": "white",
           "width": 2
          },
          "type": "line",
          "x0": 0,
          "x1": 53.3,
          "y0": 75,
          "y1": 75
         },
         {
          "layer": "below",
          "line": {
           "color": "white",
           "width": 2
          },
          "type": "line",
          "x0": 0,
          "x1": 53.3,
          "y0": 80,
          "y1": 80
         },
         {
          "layer": "below",
          "line": {
           "color": "white",
           "width": 2
          },
          "type": "line",
          "x0": 0,
          "x1": 53.3,
          "y0": 85,
          "y1": 85
         },
         {
          "layer": "below",
          "line": {
           "color": "white",
           "width": 2
          },
          "type": "line",
          "x0": 0,
          "x1": 53.3,
          "y0": 90,
          "y1": 90
         },
         {
          "layer": "below",
          "line": {
           "color": "white",
           "width": 2
          },
          "type": "line",
          "x0": 0,
          "x1": 53.3,
          "y0": 95,
          "y1": 95
         },
         {
          "layer": "below",
          "line": {
           "color": "white",
           "width": 2
          },
          "type": "line",
          "x0": 0,
          "x1": 53.3,
          "y0": 100,
          "y1": 100
         },
         {
          "layer": "below",
          "line": {
           "color": "white",
           "width": 2
          },
          "type": "line",
          "x0": 0,
          "x1": 53.3,
          "y0": 105,
          "y1": 105
         },
         {
          "layer": "below",
          "line": {
           "color": "white",
           "width": 2
          },
          "type": "line",
          "x0": 0,
          "x1": 53.3,
          "y0": 110,
          "y1": 110
         },
         {
          "layer": "below",
          "line": {
           "color": "white",
           "width": 2
          },
          "type": "line",
          "x0": 1,
          "x1": 1.6666666666666665,
          "y0": 11,
          "y1": 11
         },
         {
          "layer": "below",
          "line": {
           "color": "white",
           "width": 2
          },
          "type": "line",
          "x0": 23.58333,
          "x1": 24.249996666666668,
          "y0": 11,
          "y1": 11
         },
         {
          "layer": "below",
          "line": {
           "color": "white",
           "width": 2
          },
          "type": "line",
          "x0": 29.08333,
          "x1": 29.749996666666668,
          "y0": 11,
          "y1": 11
         },
         {
          "layer": "below",
          "line": {
           "color": "white",
           "width": 2
          },
          "type": "line",
          "x0": 51.63333333333333,
          "x1": 52.3,
          "y0": 11,
          "y1": 11
         },
         {
          "layer": "below",
          "line": {
           "color": "white",
           "width": 2
          },
          "type": "line",
          "x0": 1,
          "x1": 1.6666666666666665,
          "y0": 12,
          "y1": 12
         },
         {
          "layer": "below",
          "line": {
           "color": "white",
           "width": 2
          },
          "type": "line",
          "x0": 23.58333,
          "x1": 24.249996666666668,
          "y0": 12,
          "y1": 12
         },
         {
          "layer": "below",
          "line": {
           "color": "white",
           "width": 2
          },
          "type": "line",
          "x0": 29.08333,
          "x1": 29.749996666666668,
          "y0": 12,
          "y1": 12
         },
         {
          "layer": "below",
          "line": {
           "color": "white",
           "width": 2
          },
          "type": "line",
          "x0": 51.63333333333333,
          "x1": 52.3,
          "y0": 12,
          "y1": 12
         },
         {
          "layer": "below",
          "line": {
           "color": "white",
           "width": 2
          },
          "type": "line",
          "x0": 1,
          "x1": 1.6666666666666665,
          "y0": 13,
          "y1": 13
         },
         {
          "layer": "below",
          "line": {
           "color": "white",
           "width": 2
          },
          "type": "line",
          "x0": 23.58333,
          "x1": 24.249996666666668,
          "y0": 13,
          "y1": 13
         },
         {
          "layer": "below",
          "line": {
           "color": "white",
           "width": 2
          },
          "type": "line",
          "x0": 29.08333,
          "x1": 29.749996666666668,
          "y0": 13,
          "y1": 13
         },
         {
          "layer": "below",
          "line": {
           "color": "white",
           "width": 2
          },
          "type": "line",
          "x0": 51.63333333333333,
          "x1": 52.3,
          "y0": 13,
          "y1": 13
         },
         {
          "layer": "below",
          "line": {
           "color": "white",
           "width": 2
          },
          "type": "line",
          "x0": 1,
          "x1": 1.6666666666666665,
          "y0": 14,
          "y1": 14
         },
         {
          "layer": "below",
          "line": {
           "color": "white",
           "width": 2
          },
          "type": "line",
          "x0": 23.58333,
          "x1": 24.249996666666668,
          "y0": 14,
          "y1": 14
         },
         {
          "layer": "below",
          "line": {
           "color": "white",
           "width": 2
          },
          "type": "line",
          "x0": 29.08333,
          "x1": 29.749996666666668,
          "y0": 14,
          "y1": 14
         },
         {
          "layer": "below",
          "line": {
           "color": "white",
           "width": 2
          },
          "type": "line",
          "x0": 51.63333333333333,
          "x1": 52.3,
          "y0": 14,
          "y1": 14
         },
         {
          "layer": "below",
          "line": {
           "color": "white",
           "width": 2
          },
          "type": "line",
          "x0": 1,
          "x1": 1.6666666666666665,
          "y0": 15,
          "y1": 15
         },
         {
          "layer": "below",
          "line": {
           "color": "white",
           "width": 2
          },
          "type": "line",
          "x0": 23.58333,
          "x1": 24.249996666666668,
          "y0": 15,
          "y1": 15
         },
         {
          "layer": "below",
          "line": {
           "color": "white",
           "width": 2
          },
          "type": "line",
          "x0": 29.08333,
          "x1": 29.749996666666668,
          "y0": 15,
          "y1": 15
         },
         {
          "layer": "below",
          "line": {
           "color": "white",
           "width": 2
          },
          "type": "line",
          "x0": 51.63333333333333,
          "x1": 52.3,
          "y0": 15,
          "y1": 15
         },
         {
          "layer": "below",
          "line": {
           "color": "white",
           "width": 2
          },
          "type": "line",
          "x0": 1,
          "x1": 1.6666666666666665,
          "y0": 16,
          "y1": 16
         },
         {
          "layer": "below",
          "line": {
           "color": "white",
           "width": 2
          },
          "type": "line",
          "x0": 23.58333,
          "x1": 24.249996666666668,
          "y0": 16,
          "y1": 16
         },
         {
          "layer": "below",
          "line": {
           "color": "white",
           "width": 2
          },
          "type": "line",
          "x0": 29.08333,
          "x1": 29.749996666666668,
          "y0": 16,
          "y1": 16
         },
         {
          "layer": "below",
          "line": {
           "color": "white",
           "width": 2
          },
          "type": "line",
          "x0": 51.63333333333333,
          "x1": 52.3,
          "y0": 16,
          "y1": 16
         },
         {
          "layer": "below",
          "line": {
           "color": "white",
           "width": 2
          },
          "type": "line",
          "x0": 1,
          "x1": 1.6666666666666665,
          "y0": 17,
          "y1": 17
         },
         {
          "layer": "below",
          "line": {
           "color": "white",
           "width": 2
          },
          "type": "line",
          "x0": 23.58333,
          "x1": 24.249996666666668,
          "y0": 17,
          "y1": 17
         },
         {
          "layer": "below",
          "line": {
           "color": "white",
           "width": 2
          },
          "type": "line",
          "x0": 29.08333,
          "x1": 29.749996666666668,
          "y0": 17,
          "y1": 17
         },
         {
          "layer": "below",
          "line": {
           "color": "white",
           "width": 2
          },
          "type": "line",
          "x0": 51.63333333333333,
          "x1": 52.3,
          "y0": 17,
          "y1": 17
         },
         {
          "layer": "below",
          "line": {
           "color": "white",
           "width": 2
          },
          "type": "line",
          "x0": 1,
          "x1": 1.6666666666666665,
          "y0": 18,
          "y1": 18
         },
         {
          "layer": "below",
          "line": {
           "color": "white",
           "width": 2
          },
          "type": "line",
          "x0": 23.58333,
          "x1": 24.249996666666668,
          "y0": 18,
          "y1": 18
         },
         {
          "layer": "below",
          "line": {
           "color": "white",
           "width": 2
          },
          "type": "line",
          "x0": 29.08333,
          "x1": 29.749996666666668,
          "y0": 18,
          "y1": 18
         },
         {
          "layer": "below",
          "line": {
           "color": "white",
           "width": 2
          },
          "type": "line",
          "x0": 51.63333333333333,
          "x1": 52.3,
          "y0": 18,
          "y1": 18
         },
         {
          "layer": "below",
          "line": {
           "color": "white",
           "width": 2
          },
          "type": "line",
          "x0": 1,
          "x1": 1.6666666666666665,
          "y0": 19,
          "y1": 19
         },
         {
          "layer": "below",
          "line": {
           "color": "white",
           "width": 2
          },
          "type": "line",
          "x0": 23.58333,
          "x1": 24.249996666666668,
          "y0": 19,
          "y1": 19
         },
         {
          "layer": "below",
          "line": {
           "color": "white",
           "width": 2
          },
          "type": "line",
          "x0": 29.08333,
          "x1": 29.749996666666668,
          "y0": 19,
          "y1": 19
         },
         {
          "layer": "below",
          "line": {
           "color": "white",
           "width": 2
          },
          "type": "line",
          "x0": 51.63333333333333,
          "x1": 52.3,
          "y0": 19,
          "y1": 19
         },
         {
          "layer": "below",
          "line": {
           "color": "white",
           "width": 2
          },
          "type": "line",
          "x0": 1,
          "x1": 1.6666666666666665,
          "y0": 21,
          "y1": 21
         },
         {
          "layer": "below",
          "line": {
           "color": "white",
           "width": 2
          },
          "type": "line",
          "x0": 23.58333,
          "x1": 24.249996666666668,
          "y0": 21,
          "y1": 21
         },
         {
          "layer": "below",
          "line": {
           "color": "white",
           "width": 2
          },
          "type": "line",
          "x0": 29.08333,
          "x1": 29.749996666666668,
          "y0": 21,
          "y1": 21
         },
         {
          "layer": "below",
          "line": {
           "color": "white",
           "width": 2
          },
          "type": "line",
          "x0": 51.63333333333333,
          "x1": 52.3,
          "y0": 21,
          "y1": 21
         },
         {
          "layer": "below",
          "line": {
           "color": "white",
           "width": 2
          },
          "type": "line",
          "x0": 1,
          "x1": 1.6666666666666665,
          "y0": 22,
          "y1": 22
         },
         {
          "layer": "below",
          "line": {
           "color": "white",
           "width": 2
          },
          "type": "line",
          "x0": 23.58333,
          "x1": 24.249996666666668,
          "y0": 22,
          "y1": 22
         },
         {
          "layer": "below",
          "line": {
           "color": "white",
           "width": 2
          },
          "type": "line",
          "x0": 29.08333,
          "x1": 29.749996666666668,
          "y0": 22,
          "y1": 22
         },
         {
          "layer": "below",
          "line": {
           "color": "white",
           "width": 2
          },
          "type": "line",
          "x0": 51.63333333333333,
          "x1": 52.3,
          "y0": 22,
          "y1": 22
         },
         {
          "layer": "below",
          "line": {
           "color": "white",
           "width": 2
          },
          "type": "line",
          "x0": 1,
          "x1": 1.6666666666666665,
          "y0": 23,
          "y1": 23
         },
         {
          "layer": "below",
          "line": {
           "color": "white",
           "width": 2
          },
          "type": "line",
          "x0": 23.58333,
          "x1": 24.249996666666668,
          "y0": 23,
          "y1": 23
         },
         {
          "layer": "below",
          "line": {
           "color": "white",
           "width": 2
          },
          "type": "line",
          "x0": 29.08333,
          "x1": 29.749996666666668,
          "y0": 23,
          "y1": 23
         },
         {
          "layer": "below",
          "line": {
           "color": "white",
           "width": 2
          },
          "type": "line",
          "x0": 51.63333333333333,
          "x1": 52.3,
          "y0": 23,
          "y1": 23
         },
         {
          "layer": "below",
          "line": {
           "color": "white",
           "width": 2
          },
          "type": "line",
          "x0": 1,
          "x1": 1.6666666666666665,
          "y0": 24,
          "y1": 24
         },
         {
          "layer": "below",
          "line": {
           "color": "white",
           "width": 2
          },
          "type": "line",
          "x0": 23.58333,
          "x1": 24.249996666666668,
          "y0": 24,
          "y1": 24
         },
         {
          "layer": "below",
          "line": {
           "color": "white",
           "width": 2
          },
          "type": "line",
          "x0": 29.08333,
          "x1": 29.749996666666668,
          "y0": 24,
          "y1": 24
         },
         {
          "layer": "below",
          "line": {
           "color": "white",
           "width": 2
          },
          "type": "line",
          "x0": 51.63333333333333,
          "x1": 52.3,
          "y0": 24,
          "y1": 24
         },
         {
          "layer": "below",
          "line": {
           "color": "white",
           "width": 2
          },
          "type": "line",
          "x0": 1,
          "x1": 1.6666666666666665,
          "y0": 25,
          "y1": 25
         },
         {
          "layer": "below",
          "line": {
           "color": "white",
           "width": 2
          },
          "type": "line",
          "x0": 23.58333,
          "x1": 24.249996666666668,
          "y0": 25,
          "y1": 25
         },
         {
          "layer": "below",
          "line": {
           "color": "white",
           "width": 2
          },
          "type": "line",
          "x0": 29.08333,
          "x1": 29.749996666666668,
          "y0": 25,
          "y1": 25
         },
         {
          "layer": "below",
          "line": {
           "color": "white",
           "width": 2
          },
          "type": "line",
          "x0": 51.63333333333333,
          "x1": 52.3,
          "y0": 25,
          "y1": 25
         },
         {
          "layer": "below",
          "line": {
           "color": "white",
           "width": 2
          },
          "type": "line",
          "x0": 1,
          "x1": 1.6666666666666665,
          "y0": 26,
          "y1": 26
         },
         {
          "layer": "below",
          "line": {
           "color": "white",
           "width": 2
          },
          "type": "line",
          "x0": 23.58333,
          "x1": 24.249996666666668,
          "y0": 26,
          "y1": 26
         },
         {
          "layer": "below",
          "line": {
           "color": "white",
           "width": 2
          },
          "type": "line",
          "x0": 29.08333,
          "x1": 29.749996666666668,
          "y0": 26,
          "y1": 26
         },
         {
          "layer": "below",
          "line": {
           "color": "white",
           "width": 2
          },
          "type": "line",
          "x0": 51.63333333333333,
          "x1": 52.3,
          "y0": 26,
          "y1": 26
         },
         {
          "layer": "below",
          "line": {
           "color": "white",
           "width": 2
          },
          "type": "line",
          "x0": 1,
          "x1": 1.6666666666666665,
          "y0": 27,
          "y1": 27
         },
         {
          "layer": "below",
          "line": {
           "color": "white",
           "width": 2
          },
          "type": "line",
          "x0": 23.58333,
          "x1": 24.249996666666668,
          "y0": 27,
          "y1": 27
         },
         {
          "layer": "below",
          "line": {
           "color": "white",
           "width": 2
          },
          "type": "line",
          "x0": 29.08333,
          "x1": 29.749996666666668,
          "y0": 27,
          "y1": 27
         },
         {
          "layer": "below",
          "line": {
           "color": "white",
           "width": 2
          },
          "type": "line",
          "x0": 51.63333333333333,
          "x1": 52.3,
          "y0": 27,
          "y1": 27
         },
         {
          "layer": "below",
          "line": {
           "color": "white",
           "width": 2
          },
          "type": "line",
          "x0": 1,
          "x1": 1.6666666666666665,
          "y0": 28,
          "y1": 28
         },
         {
          "layer": "below",
          "line": {
           "color": "white",
           "width": 2
          },
          "type": "line",
          "x0": 23.58333,
          "x1": 24.249996666666668,
          "y0": 28,
          "y1": 28
         },
         {
          "layer": "below",
          "line": {
           "color": "white",
           "width": 2
          },
          "type": "line",
          "x0": 29.08333,
          "x1": 29.749996666666668,
          "y0": 28,
          "y1": 28
         },
         {
          "layer": "below",
          "line": {
           "color": "white",
           "width": 2
          },
          "type": "line",
          "x0": 51.63333333333333,
          "x1": 52.3,
          "y0": 28,
          "y1": 28
         },
         {
          "layer": "below",
          "line": {
           "color": "white",
           "width": 2
          },
          "type": "line",
          "x0": 1,
          "x1": 1.6666666666666665,
          "y0": 29,
          "y1": 29
         },
         {
          "layer": "below",
          "line": {
           "color": "white",
           "width": 2
          },
          "type": "line",
          "x0": 23.58333,
          "x1": 24.249996666666668,
          "y0": 29,
          "y1": 29
         },
         {
          "layer": "below",
          "line": {
           "color": "white",
           "width": 2
          },
          "type": "line",
          "x0": 29.08333,
          "x1": 29.749996666666668,
          "y0": 29,
          "y1": 29
         },
         {
          "layer": "below",
          "line": {
           "color": "white",
           "width": 2
          },
          "type": "line",
          "x0": 51.63333333333333,
          "x1": 52.3,
          "y0": 29,
          "y1": 29
         },
         {
          "layer": "below",
          "line": {
           "color": "white",
           "width": 2
          },
          "type": "line",
          "x0": 1,
          "x1": 1.6666666666666665,
          "y0": 31,
          "y1": 31
         },
         {
          "layer": "below",
          "line": {
           "color": "white",
           "width": 2
          },
          "type": "line",
          "x0": 23.58333,
          "x1": 24.249996666666668,
          "y0": 31,
          "y1": 31
         },
         {
          "layer": "below",
          "line": {
           "color": "white",
           "width": 2
          },
          "type": "line",
          "x0": 29.08333,
          "x1": 29.749996666666668,
          "y0": 31,
          "y1": 31
         },
         {
          "layer": "below",
          "line": {
           "color": "white",
           "width": 2
          },
          "type": "line",
          "x0": 51.63333333333333,
          "x1": 52.3,
          "y0": 31,
          "y1": 31
         },
         {
          "layer": "below",
          "line": {
           "color": "white",
           "width": 2
          },
          "type": "line",
          "x0": 1,
          "x1": 1.6666666666666665,
          "y0": 32,
          "y1": 32
         },
         {
          "layer": "below",
          "line": {
           "color": "white",
           "width": 2
          },
          "type": "line",
          "x0": 23.58333,
          "x1": 24.249996666666668,
          "y0": 32,
          "y1": 32
         },
         {
          "layer": "below",
          "line": {
           "color": "white",
           "width": 2
          },
          "type": "line",
          "x0": 29.08333,
          "x1": 29.749996666666668,
          "y0": 32,
          "y1": 32
         },
         {
          "layer": "below",
          "line": {
           "color": "white",
           "width": 2
          },
          "type": "line",
          "x0": 51.63333333333333,
          "x1": 52.3,
          "y0": 32,
          "y1": 32
         },
         {
          "layer": "below",
          "line": {
           "color": "white",
           "width": 2
          },
          "type": "line",
          "x0": 1,
          "x1": 1.6666666666666665,
          "y0": 33,
          "y1": 33
         },
         {
          "layer": "below",
          "line": {
           "color": "white",
           "width": 2
          },
          "type": "line",
          "x0": 23.58333,
          "x1": 24.249996666666668,
          "y0": 33,
          "y1": 33
         },
         {
          "layer": "below",
          "line": {
           "color": "white",
           "width": 2
          },
          "type": "line",
          "x0": 29.08333,
          "x1": 29.749996666666668,
          "y0": 33,
          "y1": 33
         },
         {
          "layer": "below",
          "line": {
           "color": "white",
           "width": 2
          },
          "type": "line",
          "x0": 51.63333333333333,
          "x1": 52.3,
          "y0": 33,
          "y1": 33
         },
         {
          "layer": "below",
          "line": {
           "color": "white",
           "width": 2
          },
          "type": "line",
          "x0": 1,
          "x1": 1.6666666666666665,
          "y0": 34,
          "y1": 34
         },
         {
          "layer": "below",
          "line": {
           "color": "white",
           "width": 2
          },
          "type": "line",
          "x0": 23.58333,
          "x1": 24.249996666666668,
          "y0": 34,
          "y1": 34
         },
         {
          "layer": "below",
          "line": {
           "color": "white",
           "width": 2
          },
          "type": "line",
          "x0": 29.08333,
          "x1": 29.749996666666668,
          "y0": 34,
          "y1": 34
         },
         {
          "layer": "below",
          "line": {
           "color": "white",
           "width": 2
          },
          "type": "line",
          "x0": 51.63333333333333,
          "x1": 52.3,
          "y0": 34,
          "y1": 34
         },
         {
          "layer": "below",
          "line": {
           "color": "white",
           "width": 2
          },
          "type": "line",
          "x0": 1,
          "x1": 1.6666666666666665,
          "y0": 35,
          "y1": 35
         },
         {
          "layer": "below",
          "line": {
           "color": "white",
           "width": 2
          },
          "type": "line",
          "x0": 23.58333,
          "x1": 24.249996666666668,
          "y0": 35,
          "y1": 35
         },
         {
          "layer": "below",
          "line": {
           "color": "white",
           "width": 2
          },
          "type": "line",
          "x0": 29.08333,
          "x1": 29.749996666666668,
          "y0": 35,
          "y1": 35
         },
         {
          "layer": "below",
          "line": {
           "color": "white",
           "width": 2
          },
          "type": "line",
          "x0": 51.63333333333333,
          "x1": 52.3,
          "y0": 35,
          "y1": 35
         },
         {
          "layer": "below",
          "line": {
           "color": "white",
           "width": 2
          },
          "type": "line",
          "x0": 1,
          "x1": 1.6666666666666665,
          "y0": 36,
          "y1": 36
         },
         {
          "layer": "below",
          "line": {
           "color": "white",
           "width": 2
          },
          "type": "line",
          "x0": 23.58333,
          "x1": 24.249996666666668,
          "y0": 36,
          "y1": 36
         },
         {
          "layer": "below",
          "line": {
           "color": "white",
           "width": 2
          },
          "type": "line",
          "x0": 29.08333,
          "x1": 29.749996666666668,
          "y0": 36,
          "y1": 36
         },
         {
          "layer": "below",
          "line": {
           "color": "white",
           "width": 2
          },
          "type": "line",
          "x0": 51.63333333333333,
          "x1": 52.3,
          "y0": 36,
          "y1": 36
         },
         {
          "layer": "below",
          "line": {
           "color": "white",
           "width": 2
          },
          "type": "line",
          "x0": 1,
          "x1": 1.6666666666666665,
          "y0": 37,
          "y1": 37
         },
         {
          "layer": "below",
          "line": {
           "color": "white",
           "width": 2
          },
          "type": "line",
          "x0": 23.58333,
          "x1": 24.249996666666668,
          "y0": 37,
          "y1": 37
         },
         {
          "layer": "below",
          "line": {
           "color": "white",
           "width": 2
          },
          "type": "line",
          "x0": 29.08333,
          "x1": 29.749996666666668,
          "y0": 37,
          "y1": 37
         },
         {
          "layer": "below",
          "line": {
           "color": "white",
           "width": 2
          },
          "type": "line",
          "x0": 51.63333333333333,
          "x1": 52.3,
          "y0": 37,
          "y1": 37
         },
         {
          "layer": "below",
          "line": {
           "color": "white",
           "width": 2
          },
          "type": "line",
          "x0": 1,
          "x1": 1.6666666666666665,
          "y0": 38,
          "y1": 38
         },
         {
          "layer": "below",
          "line": {
           "color": "white",
           "width": 2
          },
          "type": "line",
          "x0": 23.58333,
          "x1": 24.249996666666668,
          "y0": 38,
          "y1": 38
         },
         {
          "layer": "below",
          "line": {
           "color": "white",
           "width": 2
          },
          "type": "line",
          "x0": 29.08333,
          "x1": 29.749996666666668,
          "y0": 38,
          "y1": 38
         },
         {
          "layer": "below",
          "line": {
           "color": "white",
           "width": 2
          },
          "type": "line",
          "x0": 51.63333333333333,
          "x1": 52.3,
          "y0": 38,
          "y1": 38
         },
         {
          "layer": "below",
          "line": {
           "color": "white",
           "width": 2
          },
          "type": "line",
          "x0": 1,
          "x1": 1.6666666666666665,
          "y0": 39,
          "y1": 39
         },
         {
          "layer": "below",
          "line": {
           "color": "white",
           "width": 2
          },
          "type": "line",
          "x0": 23.58333,
          "x1": 24.249996666666668,
          "y0": 39,
          "y1": 39
         },
         {
          "layer": "below",
          "line": {
           "color": "white",
           "width": 2
          },
          "type": "line",
          "x0": 29.08333,
          "x1": 29.749996666666668,
          "y0": 39,
          "y1": 39
         },
         {
          "layer": "below",
          "line": {
           "color": "white",
           "width": 2
          },
          "type": "line",
          "x0": 51.63333333333333,
          "x1": 52.3,
          "y0": 39,
          "y1": 39
         },
         {
          "layer": "below",
          "line": {
           "color": "white",
           "width": 2
          },
          "type": "line",
          "x0": 1,
          "x1": 1.6666666666666665,
          "y0": 41,
          "y1": 41
         },
         {
          "layer": "below",
          "line": {
           "color": "white",
           "width": 2
          },
          "type": "line",
          "x0": 23.58333,
          "x1": 24.249996666666668,
          "y0": 41,
          "y1": 41
         },
         {
          "layer": "below",
          "line": {
           "color": "white",
           "width": 2
          },
          "type": "line",
          "x0": 29.08333,
          "x1": 29.749996666666668,
          "y0": 41,
          "y1": 41
         },
         {
          "layer": "below",
          "line": {
           "color": "white",
           "width": 2
          },
          "type": "line",
          "x0": 51.63333333333333,
          "x1": 52.3,
          "y0": 41,
          "y1": 41
         },
         {
          "layer": "below",
          "line": {
           "color": "white",
           "width": 2
          },
          "type": "line",
          "x0": 1,
          "x1": 1.6666666666666665,
          "y0": 42,
          "y1": 42
         },
         {
          "layer": "below",
          "line": {
           "color": "white",
           "width": 2
          },
          "type": "line",
          "x0": 23.58333,
          "x1": 24.249996666666668,
          "y0": 42,
          "y1": 42
         },
         {
          "layer": "below",
          "line": {
           "color": "white",
           "width": 2
          },
          "type": "line",
          "x0": 29.08333,
          "x1": 29.749996666666668,
          "y0": 42,
          "y1": 42
         },
         {
          "layer": "below",
          "line": {
           "color": "white",
           "width": 2
          },
          "type": "line",
          "x0": 51.63333333333333,
          "x1": 52.3,
          "y0": 42,
          "y1": 42
         },
         {
          "layer": "below",
          "line": {
           "color": "white",
           "width": 2
          },
          "type": "line",
          "x0": 1,
          "x1": 1.6666666666666665,
          "y0": 43,
          "y1": 43
         },
         {
          "layer": "below",
          "line": {
           "color": "white",
           "width": 2
          },
          "type": "line",
          "x0": 23.58333,
          "x1": 24.249996666666668,
          "y0": 43,
          "y1": 43
         },
         {
          "layer": "below",
          "line": {
           "color": "white",
           "width": 2
          },
          "type": "line",
          "x0": 29.08333,
          "x1": 29.749996666666668,
          "y0": 43,
          "y1": 43
         },
         {
          "layer": "below",
          "line": {
           "color": "white",
           "width": 2
          },
          "type": "line",
          "x0": 51.63333333333333,
          "x1": 52.3,
          "y0": 43,
          "y1": 43
         },
         {
          "layer": "below",
          "line": {
           "color": "white",
           "width": 2
          },
          "type": "line",
          "x0": 1,
          "x1": 1.6666666666666665,
          "y0": 44,
          "y1": 44
         },
         {
          "layer": "below",
          "line": {
           "color": "white",
           "width": 2
          },
          "type": "line",
          "x0": 23.58333,
          "x1": 24.249996666666668,
          "y0": 44,
          "y1": 44
         },
         {
          "layer": "below",
          "line": {
           "color": "white",
           "width": 2
          },
          "type": "line",
          "x0": 29.08333,
          "x1": 29.749996666666668,
          "y0": 44,
          "y1": 44
         },
         {
          "layer": "below",
          "line": {
           "color": "white",
           "width": 2
          },
          "type": "line",
          "x0": 51.63333333333333,
          "x1": 52.3,
          "y0": 44,
          "y1": 44
         },
         {
          "layer": "below",
          "line": {
           "color": "white",
           "width": 2
          },
          "type": "line",
          "x0": 1,
          "x1": 1.6666666666666665,
          "y0": 45,
          "y1": 45
         },
         {
          "layer": "below",
          "line": {
           "color": "white",
           "width": 2
          },
          "type": "line",
          "x0": 23.58333,
          "x1": 24.249996666666668,
          "y0": 45,
          "y1": 45
         },
         {
          "layer": "below",
          "line": {
           "color": "white",
           "width": 2
          },
          "type": "line",
          "x0": 29.08333,
          "x1": 29.749996666666668,
          "y0": 45,
          "y1": 45
         },
         {
          "layer": "below",
          "line": {
           "color": "white",
           "width": 2
          },
          "type": "line",
          "x0": 51.63333333333333,
          "x1": 52.3,
          "y0": 45,
          "y1": 45
         },
         {
          "layer": "below",
          "line": {
           "color": "white",
           "width": 2
          },
          "type": "line",
          "x0": 1,
          "x1": 1.6666666666666665,
          "y0": 46,
          "y1": 46
         },
         {
          "layer": "below",
          "line": {
           "color": "white",
           "width": 2
          },
          "type": "line",
          "x0": 23.58333,
          "x1": 24.249996666666668,
          "y0": 46,
          "y1": 46
         },
         {
          "layer": "below",
          "line": {
           "color": "white",
           "width": 2
          },
          "type": "line",
          "x0": 29.08333,
          "x1": 29.749996666666668,
          "y0": 46,
          "y1": 46
         },
         {
          "layer": "below",
          "line": {
           "color": "white",
           "width": 2
          },
          "type": "line",
          "x0": 51.63333333333333,
          "x1": 52.3,
          "y0": 46,
          "y1": 46
         },
         {
          "layer": "below",
          "line": {
           "color": "white",
           "width": 2
          },
          "type": "line",
          "x0": 1,
          "x1": 1.6666666666666665,
          "y0": 47,
          "y1": 47
         },
         {
          "layer": "below",
          "line": {
           "color": "white",
           "width": 2
          },
          "type": "line",
          "x0": 23.58333,
          "x1": 24.249996666666668,
          "y0": 47,
          "y1": 47
         },
         {
          "layer": "below",
          "line": {
           "color": "white",
           "width": 2
          },
          "type": "line",
          "x0": 29.08333,
          "x1": 29.749996666666668,
          "y0": 47,
          "y1": 47
         },
         {
          "layer": "below",
          "line": {
           "color": "white",
           "width": 2
          },
          "type": "line",
          "x0": 51.63333333333333,
          "x1": 52.3,
          "y0": 47,
          "y1": 47
         },
         {
          "layer": "below",
          "line": {
           "color": "white",
           "width": 2
          },
          "type": "line",
          "x0": 1,
          "x1": 1.6666666666666665,
          "y0": 48,
          "y1": 48
         },
         {
          "layer": "below",
          "line": {
           "color": "white",
           "width": 2
          },
          "type": "line",
          "x0": 23.58333,
          "x1": 24.249996666666668,
          "y0": 48,
          "y1": 48
         },
         {
          "layer": "below",
          "line": {
           "color": "white",
           "width": 2
          },
          "type": "line",
          "x0": 29.08333,
          "x1": 29.749996666666668,
          "y0": 48,
          "y1": 48
         },
         {
          "layer": "below",
          "line": {
           "color": "white",
           "width": 2
          },
          "type": "line",
          "x0": 51.63333333333333,
          "x1": 52.3,
          "y0": 48,
          "y1": 48
         },
         {
          "layer": "below",
          "line": {
           "color": "white",
           "width": 2
          },
          "type": "line",
          "x0": 1,
          "x1": 1.6666666666666665,
          "y0": 49,
          "y1": 49
         },
         {
          "layer": "below",
          "line": {
           "color": "white",
           "width": 2
          },
          "type": "line",
          "x0": 23.58333,
          "x1": 24.249996666666668,
          "y0": 49,
          "y1": 49
         },
         {
          "layer": "below",
          "line": {
           "color": "white",
           "width": 2
          },
          "type": "line",
          "x0": 29.08333,
          "x1": 29.749996666666668,
          "y0": 49,
          "y1": 49
         },
         {
          "layer": "below",
          "line": {
           "color": "white",
           "width": 2
          },
          "type": "line",
          "x0": 51.63333333333333,
          "x1": 52.3,
          "y0": 49,
          "y1": 49
         },
         {
          "layer": "below",
          "line": {
           "color": "white",
           "width": 2
          },
          "type": "line",
          "x0": 1,
          "x1": 1.6666666666666665,
          "y0": 51,
          "y1": 51
         },
         {
          "layer": "below",
          "line": {
           "color": "white",
           "width": 2
          },
          "type": "line",
          "x0": 23.58333,
          "x1": 24.249996666666668,
          "y0": 51,
          "y1": 51
         },
         {
          "layer": "below",
          "line": {
           "color": "white",
           "width": 2
          },
          "type": "line",
          "x0": 29.08333,
          "x1": 29.749996666666668,
          "y0": 51,
          "y1": 51
         },
         {
          "layer": "below",
          "line": {
           "color": "white",
           "width": 2
          },
          "type": "line",
          "x0": 51.63333333333333,
          "x1": 52.3,
          "y0": 51,
          "y1": 51
         },
         {
          "layer": "below",
          "line": {
           "color": "white",
           "width": 2
          },
          "type": "line",
          "x0": 1,
          "x1": 1.6666666666666665,
          "y0": 52,
          "y1": 52
         },
         {
          "layer": "below",
          "line": {
           "color": "white",
           "width": 2
          },
          "type": "line",
          "x0": 23.58333,
          "x1": 24.249996666666668,
          "y0": 52,
          "y1": 52
         },
         {
          "layer": "below",
          "line": {
           "color": "white",
           "width": 2
          },
          "type": "line",
          "x0": 29.08333,
          "x1": 29.749996666666668,
          "y0": 52,
          "y1": 52
         },
         {
          "layer": "below",
          "line": {
           "color": "white",
           "width": 2
          },
          "type": "line",
          "x0": 51.63333333333333,
          "x1": 52.3,
          "y0": 52,
          "y1": 52
         },
         {
          "layer": "below",
          "line": {
           "color": "white",
           "width": 2
          },
          "type": "line",
          "x0": 1,
          "x1": 1.6666666666666665,
          "y0": 53,
          "y1": 53
         },
         {
          "layer": "below",
          "line": {
           "color": "white",
           "width": 2
          },
          "type": "line",
          "x0": 23.58333,
          "x1": 24.249996666666668,
          "y0": 53,
          "y1": 53
         },
         {
          "layer": "below",
          "line": {
           "color": "white",
           "width": 2
          },
          "type": "line",
          "x0": 29.08333,
          "x1": 29.749996666666668,
          "y0": 53,
          "y1": 53
         },
         {
          "layer": "below",
          "line": {
           "color": "white",
           "width": 2
          },
          "type": "line",
          "x0": 51.63333333333333,
          "x1": 52.3,
          "y0": 53,
          "y1": 53
         },
         {
          "layer": "below",
          "line": {
           "color": "white",
           "width": 2
          },
          "type": "line",
          "x0": 1,
          "x1": 1.6666666666666665,
          "y0": 54,
          "y1": 54
         },
         {
          "layer": "below",
          "line": {
           "color": "white",
           "width": 2
          },
          "type": "line",
          "x0": 23.58333,
          "x1": 24.249996666666668,
          "y0": 54,
          "y1": 54
         },
         {
          "layer": "below",
          "line": {
           "color": "white",
           "width": 2
          },
          "type": "line",
          "x0": 29.08333,
          "x1": 29.749996666666668,
          "y0": 54,
          "y1": 54
         },
         {
          "layer": "below",
          "line": {
           "color": "white",
           "width": 2
          },
          "type": "line",
          "x0": 51.63333333333333,
          "x1": 52.3,
          "y0": 54,
          "y1": 54
         },
         {
          "layer": "below",
          "line": {
           "color": "white",
           "width": 2
          },
          "type": "line",
          "x0": 1,
          "x1": 1.6666666666666665,
          "y0": 55,
          "y1": 55
         },
         {
          "layer": "below",
          "line": {
           "color": "white",
           "width": 2
          },
          "type": "line",
          "x0": 23.58333,
          "x1": 24.249996666666668,
          "y0": 55,
          "y1": 55
         },
         {
          "layer": "below",
          "line": {
           "color": "white",
           "width": 2
          },
          "type": "line",
          "x0": 29.08333,
          "x1": 29.749996666666668,
          "y0": 55,
          "y1": 55
         },
         {
          "layer": "below",
          "line": {
           "color": "white",
           "width": 2
          },
          "type": "line",
          "x0": 51.63333333333333,
          "x1": 52.3,
          "y0": 55,
          "y1": 55
         },
         {
          "layer": "below",
          "line": {
           "color": "white",
           "width": 2
          },
          "type": "line",
          "x0": 1,
          "x1": 1.6666666666666665,
          "y0": 56,
          "y1": 56
         },
         {
          "layer": "below",
          "line": {
           "color": "white",
           "width": 2
          },
          "type": "line",
          "x0": 23.58333,
          "x1": 24.249996666666668,
          "y0": 56,
          "y1": 56
         },
         {
          "layer": "below",
          "line": {
           "color": "white",
           "width": 2
          },
          "type": "line",
          "x0": 29.08333,
          "x1": 29.749996666666668,
          "y0": 56,
          "y1": 56
         },
         {
          "layer": "below",
          "line": {
           "color": "white",
           "width": 2
          },
          "type": "line",
          "x0": 51.63333333333333,
          "x1": 52.3,
          "y0": 56,
          "y1": 56
         },
         {
          "layer": "below",
          "line": {
           "color": "white",
           "width": 2
          },
          "type": "line",
          "x0": 1,
          "x1": 1.6666666666666665,
          "y0": 57,
          "y1": 57
         },
         {
          "layer": "below",
          "line": {
           "color": "white",
           "width": 2
          },
          "type": "line",
          "x0": 23.58333,
          "x1": 24.249996666666668,
          "y0": 57,
          "y1": 57
         },
         {
          "layer": "below",
          "line": {
           "color": "white",
           "width": 2
          },
          "type": "line",
          "x0": 29.08333,
          "x1": 29.749996666666668,
          "y0": 57,
          "y1": 57
         },
         {
          "layer": "below",
          "line": {
           "color": "white",
           "width": 2
          },
          "type": "line",
          "x0": 51.63333333333333,
          "x1": 52.3,
          "y0": 57,
          "y1": 57
         },
         {
          "layer": "below",
          "line": {
           "color": "white",
           "width": 2
          },
          "type": "line",
          "x0": 1,
          "x1": 1.6666666666666665,
          "y0": 58,
          "y1": 58
         },
         {
          "layer": "below",
          "line": {
           "color": "white",
           "width": 2
          },
          "type": "line",
          "x0": 23.58333,
          "x1": 24.249996666666668,
          "y0": 58,
          "y1": 58
         },
         {
          "layer": "below",
          "line": {
           "color": "white",
           "width": 2
          },
          "type": "line",
          "x0": 29.08333,
          "x1": 29.749996666666668,
          "y0": 58,
          "y1": 58
         },
         {
          "layer": "below",
          "line": {
           "color": "white",
           "width": 2
          },
          "type": "line",
          "x0": 51.63333333333333,
          "x1": 52.3,
          "y0": 58,
          "y1": 58
         },
         {
          "layer": "below",
          "line": {
           "color": "white",
           "width": 2
          },
          "type": "line",
          "x0": 1,
          "x1": 1.6666666666666665,
          "y0": 59,
          "y1": 59
         },
         {
          "layer": "below",
          "line": {
           "color": "white",
           "width": 2
          },
          "type": "line",
          "x0": 23.58333,
          "x1": 24.249996666666668,
          "y0": 59,
          "y1": 59
         },
         {
          "layer": "below",
          "line": {
           "color": "white",
           "width": 2
          },
          "type": "line",
          "x0": 29.08333,
          "x1": 29.749996666666668,
          "y0": 59,
          "y1": 59
         },
         {
          "layer": "below",
          "line": {
           "color": "white",
           "width": 2
          },
          "type": "line",
          "x0": 51.63333333333333,
          "x1": 52.3,
          "y0": 59,
          "y1": 59
         },
         {
          "layer": "below",
          "line": {
           "color": "white",
           "width": 2
          },
          "type": "line",
          "x0": 1,
          "x1": 1.6666666666666665,
          "y0": 61,
          "y1": 61
         },
         {
          "layer": "below",
          "line": {
           "color": "white",
           "width": 2
          },
          "type": "line",
          "x0": 23.58333,
          "x1": 24.249996666666668,
          "y0": 61,
          "y1": 61
         },
         {
          "layer": "below",
          "line": {
           "color": "white",
           "width": 2
          },
          "type": "line",
          "x0": 29.08333,
          "x1": 29.749996666666668,
          "y0": 61,
          "y1": 61
         },
         {
          "layer": "below",
          "line": {
           "color": "white",
           "width": 2
          },
          "type": "line",
          "x0": 51.63333333333333,
          "x1": 52.3,
          "y0": 61,
          "y1": 61
         },
         {
          "layer": "below",
          "line": {
           "color": "white",
           "width": 2
          },
          "type": "line",
          "x0": 1,
          "x1": 1.6666666666666665,
          "y0": 62,
          "y1": 62
         },
         {
          "layer": "below",
          "line": {
           "color": "white",
           "width": 2
          },
          "type": "line",
          "x0": 23.58333,
          "x1": 24.249996666666668,
          "y0": 62,
          "y1": 62
         },
         {
          "layer": "below",
          "line": {
           "color": "white",
           "width": 2
          },
          "type": "line",
          "x0": 29.08333,
          "x1": 29.749996666666668,
          "y0": 62,
          "y1": 62
         },
         {
          "layer": "below",
          "line": {
           "color": "white",
           "width": 2
          },
          "type": "line",
          "x0": 51.63333333333333,
          "x1": 52.3,
          "y0": 62,
          "y1": 62
         },
         {
          "layer": "below",
          "line": {
           "color": "white",
           "width": 2
          },
          "type": "line",
          "x0": 1,
          "x1": 1.6666666666666665,
          "y0": 63,
          "y1": 63
         },
         {
          "layer": "below",
          "line": {
           "color": "white",
           "width": 2
          },
          "type": "line",
          "x0": 23.58333,
          "x1": 24.249996666666668,
          "y0": 63,
          "y1": 63
         },
         {
          "layer": "below",
          "line": {
           "color": "white",
           "width": 2
          },
          "type": "line",
          "x0": 29.08333,
          "x1": 29.749996666666668,
          "y0": 63,
          "y1": 63
         },
         {
          "layer": "below",
          "line": {
           "color": "white",
           "width": 2
          },
          "type": "line",
          "x0": 51.63333333333333,
          "x1": 52.3,
          "y0": 63,
          "y1": 63
         },
         {
          "layer": "below",
          "line": {
           "color": "white",
           "width": 2
          },
          "type": "line",
          "x0": 1,
          "x1": 1.6666666666666665,
          "y0": 64,
          "y1": 64
         },
         {
          "layer": "below",
          "line": {
           "color": "white",
           "width": 2
          },
          "type": "line",
          "x0": 23.58333,
          "x1": 24.249996666666668,
          "y0": 64,
          "y1": 64
         },
         {
          "layer": "below",
          "line": {
           "color": "white",
           "width": 2
          },
          "type": "line",
          "x0": 29.08333,
          "x1": 29.749996666666668,
          "y0": 64,
          "y1": 64
         },
         {
          "layer": "below",
          "line": {
           "color": "white",
           "width": 2
          },
          "type": "line",
          "x0": 51.63333333333333,
          "x1": 52.3,
          "y0": 64,
          "y1": 64
         },
         {
          "layer": "below",
          "line": {
           "color": "white",
           "width": 2
          },
          "type": "line",
          "x0": 1,
          "x1": 1.6666666666666665,
          "y0": 65,
          "y1": 65
         },
         {
          "layer": "below",
          "line": {
           "color": "white",
           "width": 2
          },
          "type": "line",
          "x0": 23.58333,
          "x1": 24.249996666666668,
          "y0": 65,
          "y1": 65
         },
         {
          "layer": "below",
          "line": {
           "color": "white",
           "width": 2
          },
          "type": "line",
          "x0": 29.08333,
          "x1": 29.749996666666668,
          "y0": 65,
          "y1": 65
         },
         {
          "layer": "below",
          "line": {
           "color": "white",
           "width": 2
          },
          "type": "line",
          "x0": 51.63333333333333,
          "x1": 52.3,
          "y0": 65,
          "y1": 65
         },
         {
          "layer": "below",
          "line": {
           "color": "white",
           "width": 2
          },
          "type": "line",
          "x0": 1,
          "x1": 1.6666666666666665,
          "y0": 66,
          "y1": 66
         },
         {
          "layer": "below",
          "line": {
           "color": "white",
           "width": 2
          },
          "type": "line",
          "x0": 23.58333,
          "x1": 24.249996666666668,
          "y0": 66,
          "y1": 66
         },
         {
          "layer": "below",
          "line": {
           "color": "white",
           "width": 2
          },
          "type": "line",
          "x0": 29.08333,
          "x1": 29.749996666666668,
          "y0": 66,
          "y1": 66
         },
         {
          "layer": "below",
          "line": {
           "color": "white",
           "width": 2
          },
          "type": "line",
          "x0": 51.63333333333333,
          "x1": 52.3,
          "y0": 66,
          "y1": 66
         },
         {
          "layer": "below",
          "line": {
           "color": "white",
           "width": 2
          },
          "type": "line",
          "x0": 1,
          "x1": 1.6666666666666665,
          "y0": 67,
          "y1": 67
         },
         {
          "layer": "below",
          "line": {
           "color": "white",
           "width": 2
          },
          "type": "line",
          "x0": 23.58333,
          "x1": 24.249996666666668,
          "y0": 67,
          "y1": 67
         },
         {
          "layer": "below",
          "line": {
           "color": "white",
           "width": 2
          },
          "type": "line",
          "x0": 29.08333,
          "x1": 29.749996666666668,
          "y0": 67,
          "y1": 67
         },
         {
          "layer": "below",
          "line": {
           "color": "white",
           "width": 2
          },
          "type": "line",
          "x0": 51.63333333333333,
          "x1": 52.3,
          "y0": 67,
          "y1": 67
         },
         {
          "layer": "below",
          "line": {
           "color": "white",
           "width": 2
          },
          "type": "line",
          "x0": 1,
          "x1": 1.6666666666666665,
          "y0": 68,
          "y1": 68
         },
         {
          "layer": "below",
          "line": {
           "color": "white",
           "width": 2
          },
          "type": "line",
          "x0": 23.58333,
          "x1": 24.249996666666668,
          "y0": 68,
          "y1": 68
         },
         {
          "layer": "below",
          "line": {
           "color": "white",
           "width": 2
          },
          "type": "line",
          "x0": 29.08333,
          "x1": 29.749996666666668,
          "y0": 68,
          "y1": 68
         },
         {
          "layer": "below",
          "line": {
           "color": "white",
           "width": 2
          },
          "type": "line",
          "x0": 51.63333333333333,
          "x1": 52.3,
          "y0": 68,
          "y1": 68
         },
         {
          "layer": "below",
          "line": {
           "color": "white",
           "width": 2
          },
          "type": "line",
          "x0": 1,
          "x1": 1.6666666666666665,
          "y0": 69,
          "y1": 69
         },
         {
          "layer": "below",
          "line": {
           "color": "white",
           "width": 2
          },
          "type": "line",
          "x0": 23.58333,
          "x1": 24.249996666666668,
          "y0": 69,
          "y1": 69
         },
         {
          "layer": "below",
          "line": {
           "color": "white",
           "width": 2
          },
          "type": "line",
          "x0": 29.08333,
          "x1": 29.749996666666668,
          "y0": 69,
          "y1": 69
         },
         {
          "layer": "below",
          "line": {
           "color": "white",
           "width": 2
          },
          "type": "line",
          "x0": 51.63333333333333,
          "x1": 52.3,
          "y0": 69,
          "y1": 69
         },
         {
          "layer": "below",
          "line": {
           "color": "white",
           "width": 2
          },
          "type": "line",
          "x0": 1,
          "x1": 1.6666666666666665,
          "y0": 71,
          "y1": 71
         },
         {
          "layer": "below",
          "line": {
           "color": "white",
           "width": 2
          },
          "type": "line",
          "x0": 23.58333,
          "x1": 24.249996666666668,
          "y0": 71,
          "y1": 71
         },
         {
          "layer": "below",
          "line": {
           "color": "white",
           "width": 2
          },
          "type": "line",
          "x0": 29.08333,
          "x1": 29.749996666666668,
          "y0": 71,
          "y1": 71
         },
         {
          "layer": "below",
          "line": {
           "color": "white",
           "width": 2
          },
          "type": "line",
          "x0": 51.63333333333333,
          "x1": 52.3,
          "y0": 71,
          "y1": 71
         },
         {
          "layer": "below",
          "line": {
           "color": "white",
           "width": 2
          },
          "type": "line",
          "x0": 1,
          "x1": 1.6666666666666665,
          "y0": 72,
          "y1": 72
         },
         {
          "layer": "below",
          "line": {
           "color": "white",
           "width": 2
          },
          "type": "line",
          "x0": 23.58333,
          "x1": 24.249996666666668,
          "y0": 72,
          "y1": 72
         },
         {
          "layer": "below",
          "line": {
           "color": "white",
           "width": 2
          },
          "type": "line",
          "x0": 29.08333,
          "x1": 29.749996666666668,
          "y0": 72,
          "y1": 72
         },
         {
          "layer": "below",
          "line": {
           "color": "white",
           "width": 2
          },
          "type": "line",
          "x0": 51.63333333333333,
          "x1": 52.3,
          "y0": 72,
          "y1": 72
         },
         {
          "layer": "below",
          "line": {
           "color": "white",
           "width": 2
          },
          "type": "line",
          "x0": 1,
          "x1": 1.6666666666666665,
          "y0": 73,
          "y1": 73
         },
         {
          "layer": "below",
          "line": {
           "color": "white",
           "width": 2
          },
          "type": "line",
          "x0": 23.58333,
          "x1": 24.249996666666668,
          "y0": 73,
          "y1": 73
         },
         {
          "layer": "below",
          "line": {
           "color": "white",
           "width": 2
          },
          "type": "line",
          "x0": 29.08333,
          "x1": 29.749996666666668,
          "y0": 73,
          "y1": 73
         },
         {
          "layer": "below",
          "line": {
           "color": "white",
           "width": 2
          },
          "type": "line",
          "x0": 51.63333333333333,
          "x1": 52.3,
          "y0": 73,
          "y1": 73
         },
         {
          "layer": "below",
          "line": {
           "color": "white",
           "width": 2
          },
          "type": "line",
          "x0": 1,
          "x1": 1.6666666666666665,
          "y0": 74,
          "y1": 74
         },
         {
          "layer": "below",
          "line": {
           "color": "white",
           "width": 2
          },
          "type": "line",
          "x0": 23.58333,
          "x1": 24.249996666666668,
          "y0": 74,
          "y1": 74
         },
         {
          "layer": "below",
          "line": {
           "color": "white",
           "width": 2
          },
          "type": "line",
          "x0": 29.08333,
          "x1": 29.749996666666668,
          "y0": 74,
          "y1": 74
         },
         {
          "layer": "below",
          "line": {
           "color": "white",
           "width": 2
          },
          "type": "line",
          "x0": 51.63333333333333,
          "x1": 52.3,
          "y0": 74,
          "y1": 74
         },
         {
          "layer": "below",
          "line": {
           "color": "white",
           "width": 2
          },
          "type": "line",
          "x0": 1,
          "x1": 1.6666666666666665,
          "y0": 75,
          "y1": 75
         },
         {
          "layer": "below",
          "line": {
           "color": "white",
           "width": 2
          },
          "type": "line",
          "x0": 23.58333,
          "x1": 24.249996666666668,
          "y0": 75,
          "y1": 75
         },
         {
          "layer": "below",
          "line": {
           "color": "white",
           "width": 2
          },
          "type": "line",
          "x0": 29.08333,
          "x1": 29.749996666666668,
          "y0": 75,
          "y1": 75
         },
         {
          "layer": "below",
          "line": {
           "color": "white",
           "width": 2
          },
          "type": "line",
          "x0": 51.63333333333333,
          "x1": 52.3,
          "y0": 75,
          "y1": 75
         },
         {
          "layer": "below",
          "line": {
           "color": "white",
           "width": 2
          },
          "type": "line",
          "x0": 1,
          "x1": 1.6666666666666665,
          "y0": 76,
          "y1": 76
         },
         {
          "layer": "below",
          "line": {
           "color": "white",
           "width": 2
          },
          "type": "line",
          "x0": 23.58333,
          "x1": 24.249996666666668,
          "y0": 76,
          "y1": 76
         },
         {
          "layer": "below",
          "line": {
           "color": "white",
           "width": 2
          },
          "type": "line",
          "x0": 29.08333,
          "x1": 29.749996666666668,
          "y0": 76,
          "y1": 76
         },
         {
          "layer": "below",
          "line": {
           "color": "white",
           "width": 2
          },
          "type": "line",
          "x0": 51.63333333333333,
          "x1": 52.3,
          "y0": 76,
          "y1": 76
         },
         {
          "layer": "below",
          "line": {
           "color": "white",
           "width": 2
          },
          "type": "line",
          "x0": 1,
          "x1": 1.6666666666666665,
          "y0": 77,
          "y1": 77
         },
         {
          "layer": "below",
          "line": {
           "color": "white",
           "width": 2
          },
          "type": "line",
          "x0": 23.58333,
          "x1": 24.249996666666668,
          "y0": 77,
          "y1": 77
         },
         {
          "layer": "below",
          "line": {
           "color": "white",
           "width": 2
          },
          "type": "line",
          "x0": 29.08333,
          "x1": 29.749996666666668,
          "y0": 77,
          "y1": 77
         },
         {
          "layer": "below",
          "line": {
           "color": "white",
           "width": 2
          },
          "type": "line",
          "x0": 51.63333333333333,
          "x1": 52.3,
          "y0": 77,
          "y1": 77
         },
         {
          "layer": "below",
          "line": {
           "color": "white",
           "width": 2
          },
          "type": "line",
          "x0": 1,
          "x1": 1.6666666666666665,
          "y0": 78,
          "y1": 78
         },
         {
          "layer": "below",
          "line": {
           "color": "white",
           "width": 2
          },
          "type": "line",
          "x0": 23.58333,
          "x1": 24.249996666666668,
          "y0": 78,
          "y1": 78
         },
         {
          "layer": "below",
          "line": {
           "color": "white",
           "width": 2
          },
          "type": "line",
          "x0": 29.08333,
          "x1": 29.749996666666668,
          "y0": 78,
          "y1": 78
         },
         {
          "layer": "below",
          "line": {
           "color": "white",
           "width": 2
          },
          "type": "line",
          "x0": 51.63333333333333,
          "x1": 52.3,
          "y0": 78,
          "y1": 78
         },
         {
          "layer": "below",
          "line": {
           "color": "white",
           "width": 2
          },
          "type": "line",
          "x0": 1,
          "x1": 1.6666666666666665,
          "y0": 79,
          "y1": 79
         },
         {
          "layer": "below",
          "line": {
           "color": "white",
           "width": 2
          },
          "type": "line",
          "x0": 23.58333,
          "x1": 24.249996666666668,
          "y0": 79,
          "y1": 79
         },
         {
          "layer": "below",
          "line": {
           "color": "white",
           "width": 2
          },
          "type": "line",
          "x0": 29.08333,
          "x1": 29.749996666666668,
          "y0": 79,
          "y1": 79
         },
         {
          "layer": "below",
          "line": {
           "color": "white",
           "width": 2
          },
          "type": "line",
          "x0": 51.63333333333333,
          "x1": 52.3,
          "y0": 79,
          "y1": 79
         },
         {
          "layer": "below",
          "line": {
           "color": "white",
           "width": 2
          },
          "type": "line",
          "x0": 1,
          "x1": 1.6666666666666665,
          "y0": 81,
          "y1": 81
         },
         {
          "layer": "below",
          "line": {
           "color": "white",
           "width": 2
          },
          "type": "line",
          "x0": 23.58333,
          "x1": 24.249996666666668,
          "y0": 81,
          "y1": 81
         },
         {
          "layer": "below",
          "line": {
           "color": "white",
           "width": 2
          },
          "type": "line",
          "x0": 29.08333,
          "x1": 29.749996666666668,
          "y0": 81,
          "y1": 81
         },
         {
          "layer": "below",
          "line": {
           "color": "white",
           "width": 2
          },
          "type": "line",
          "x0": 51.63333333333333,
          "x1": 52.3,
          "y0": 81,
          "y1": 81
         },
         {
          "layer": "below",
          "line": {
           "color": "white",
           "width": 2
          },
          "type": "line",
          "x0": 1,
          "x1": 1.6666666666666665,
          "y0": 82,
          "y1": 82
         },
         {
          "layer": "below",
          "line": {
           "color": "white",
           "width": 2
          },
          "type": "line",
          "x0": 23.58333,
          "x1": 24.249996666666668,
          "y0": 82,
          "y1": 82
         },
         {
          "layer": "below",
          "line": {
           "color": "white",
           "width": 2
          },
          "type": "line",
          "x0": 29.08333,
          "x1": 29.749996666666668,
          "y0": 82,
          "y1": 82
         },
         {
          "layer": "below",
          "line": {
           "color": "white",
           "width": 2
          },
          "type": "line",
          "x0": 51.63333333333333,
          "x1": 52.3,
          "y0": 82,
          "y1": 82
         },
         {
          "layer": "below",
          "line": {
           "color": "white",
           "width": 2
          },
          "type": "line",
          "x0": 1,
          "x1": 1.6666666666666665,
          "y0": 83,
          "y1": 83
         },
         {
          "layer": "below",
          "line": {
           "color": "white",
           "width": 2
          },
          "type": "line",
          "x0": 23.58333,
          "x1": 24.249996666666668,
          "y0": 83,
          "y1": 83
         },
         {
          "layer": "below",
          "line": {
           "color": "white",
           "width": 2
          },
          "type": "line",
          "x0": 29.08333,
          "x1": 29.749996666666668,
          "y0": 83,
          "y1": 83
         },
         {
          "layer": "below",
          "line": {
           "color": "white",
           "width": 2
          },
          "type": "line",
          "x0": 51.63333333333333,
          "x1": 52.3,
          "y0": 83,
          "y1": 83
         },
         {
          "layer": "below",
          "line": {
           "color": "white",
           "width": 2
          },
          "type": "line",
          "x0": 1,
          "x1": 1.6666666666666665,
          "y0": 84,
          "y1": 84
         },
         {
          "layer": "below",
          "line": {
           "color": "white",
           "width": 2
          },
          "type": "line",
          "x0": 23.58333,
          "x1": 24.249996666666668,
          "y0": 84,
          "y1": 84
         },
         {
          "layer": "below",
          "line": {
           "color": "white",
           "width": 2
          },
          "type": "line",
          "x0": 29.08333,
          "x1": 29.749996666666668,
          "y0": 84,
          "y1": 84
         },
         {
          "layer": "below",
          "line": {
           "color": "white",
           "width": 2
          },
          "type": "line",
          "x0": 51.63333333333333,
          "x1": 52.3,
          "y0": 84,
          "y1": 84
         },
         {
          "layer": "below",
          "line": {
           "color": "white",
           "width": 2
          },
          "type": "line",
          "x0": 1,
          "x1": 1.6666666666666665,
          "y0": 85,
          "y1": 85
         },
         {
          "layer": "below",
          "line": {
           "color": "white",
           "width": 2
          },
          "type": "line",
          "x0": 23.58333,
          "x1": 24.249996666666668,
          "y0": 85,
          "y1": 85
         },
         {
          "layer": "below",
          "line": {
           "color": "white",
           "width": 2
          },
          "type": "line",
          "x0": 29.08333,
          "x1": 29.749996666666668,
          "y0": 85,
          "y1": 85
         },
         {
          "layer": "below",
          "line": {
           "color": "white",
           "width": 2
          },
          "type": "line",
          "x0": 51.63333333333333,
          "x1": 52.3,
          "y0": 85,
          "y1": 85
         },
         {
          "layer": "below",
          "line": {
           "color": "white",
           "width": 2
          },
          "type": "line",
          "x0": 1,
          "x1": 1.6666666666666665,
          "y0": 86,
          "y1": 86
         },
         {
          "layer": "below",
          "line": {
           "color": "white",
           "width": 2
          },
          "type": "line",
          "x0": 23.58333,
          "x1": 24.249996666666668,
          "y0": 86,
          "y1": 86
         },
         {
          "layer": "below",
          "line": {
           "color": "white",
           "width": 2
          },
          "type": "line",
          "x0": 29.08333,
          "x1": 29.749996666666668,
          "y0": 86,
          "y1": 86
         },
         {
          "layer": "below",
          "line": {
           "color": "white",
           "width": 2
          },
          "type": "line",
          "x0": 51.63333333333333,
          "x1": 52.3,
          "y0": 86,
          "y1": 86
         },
         {
          "layer": "below",
          "line": {
           "color": "white",
           "width": 2
          },
          "type": "line",
          "x0": 1,
          "x1": 1.6666666666666665,
          "y0": 87,
          "y1": 87
         },
         {
          "layer": "below",
          "line": {
           "color": "white",
           "width": 2
          },
          "type": "line",
          "x0": 23.58333,
          "x1": 24.249996666666668,
          "y0": 87,
          "y1": 87
         },
         {
          "layer": "below",
          "line": {
           "color": "white",
           "width": 2
          },
          "type": "line",
          "x0": 29.08333,
          "x1": 29.749996666666668,
          "y0": 87,
          "y1": 87
         },
         {
          "layer": "below",
          "line": {
           "color": "white",
           "width": 2
          },
          "type": "line",
          "x0": 51.63333333333333,
          "x1": 52.3,
          "y0": 87,
          "y1": 87
         },
         {
          "layer": "below",
          "line": {
           "color": "white",
           "width": 2
          },
          "type": "line",
          "x0": 1,
          "x1": 1.6666666666666665,
          "y0": 88,
          "y1": 88
         },
         {
          "layer": "below",
          "line": {
           "color": "white",
           "width": 2
          },
          "type": "line",
          "x0": 23.58333,
          "x1": 24.249996666666668,
          "y0": 88,
          "y1": 88
         },
         {
          "layer": "below",
          "line": {
           "color": "white",
           "width": 2
          },
          "type": "line",
          "x0": 29.08333,
          "x1": 29.749996666666668,
          "y0": 88,
          "y1": 88
         },
         {
          "layer": "below",
          "line": {
           "color": "white",
           "width": 2
          },
          "type": "line",
          "x0": 51.63333333333333,
          "x1": 52.3,
          "y0": 88,
          "y1": 88
         },
         {
          "layer": "below",
          "line": {
           "color": "white",
           "width": 2
          },
          "type": "line",
          "x0": 1,
          "x1": 1.6666666666666665,
          "y0": 89,
          "y1": 89
         },
         {
          "layer": "below",
          "line": {
           "color": "white",
           "width": 2
          },
          "type": "line",
          "x0": 23.58333,
          "x1": 24.249996666666668,
          "y0": 89,
          "y1": 89
         },
         {
          "layer": "below",
          "line": {
           "color": "white",
           "width": 2
          },
          "type": "line",
          "x0": 29.08333,
          "x1": 29.749996666666668,
          "y0": 89,
          "y1": 89
         },
         {
          "layer": "below",
          "line": {
           "color": "white",
           "width": 2
          },
          "type": "line",
          "x0": 51.63333333333333,
          "x1": 52.3,
          "y0": 89,
          "y1": 89
         },
         {
          "layer": "below",
          "line": {
           "color": "white",
           "width": 2
          },
          "type": "line",
          "x0": 1,
          "x1": 1.6666666666666665,
          "y0": 91,
          "y1": 91
         },
         {
          "layer": "below",
          "line": {
           "color": "white",
           "width": 2
          },
          "type": "line",
          "x0": 23.58333,
          "x1": 24.249996666666668,
          "y0": 91,
          "y1": 91
         },
         {
          "layer": "below",
          "line": {
           "color": "white",
           "width": 2
          },
          "type": "line",
          "x0": 29.08333,
          "x1": 29.749996666666668,
          "y0": 91,
          "y1": 91
         },
         {
          "layer": "below",
          "line": {
           "color": "white",
           "width": 2
          },
          "type": "line",
          "x0": 51.63333333333333,
          "x1": 52.3,
          "y0": 91,
          "y1": 91
         },
         {
          "layer": "below",
          "line": {
           "color": "white",
           "width": 2
          },
          "type": "line",
          "x0": 1,
          "x1": 1.6666666666666665,
          "y0": 92,
          "y1": 92
         },
         {
          "layer": "below",
          "line": {
           "color": "white",
           "width": 2
          },
          "type": "line",
          "x0": 23.58333,
          "x1": 24.249996666666668,
          "y0": 92,
          "y1": 92
         },
         {
          "layer": "below",
          "line": {
           "color": "white",
           "width": 2
          },
          "type": "line",
          "x0": 29.08333,
          "x1": 29.749996666666668,
          "y0": 92,
          "y1": 92
         },
         {
          "layer": "below",
          "line": {
           "color": "white",
           "width": 2
          },
          "type": "line",
          "x0": 51.63333333333333,
          "x1": 52.3,
          "y0": 92,
          "y1": 92
         },
         {
          "layer": "below",
          "line": {
           "color": "white",
           "width": 2
          },
          "type": "line",
          "x0": 1,
          "x1": 1.6666666666666665,
          "y0": 93,
          "y1": 93
         },
         {
          "layer": "below",
          "line": {
           "color": "white",
           "width": 2
          },
          "type": "line",
          "x0": 23.58333,
          "x1": 24.249996666666668,
          "y0": 93,
          "y1": 93
         },
         {
          "layer": "below",
          "line": {
           "color": "white",
           "width": 2
          },
          "type": "line",
          "x0": 29.08333,
          "x1": 29.749996666666668,
          "y0": 93,
          "y1": 93
         },
         {
          "layer": "below",
          "line": {
           "color": "white",
           "width": 2
          },
          "type": "line",
          "x0": 51.63333333333333,
          "x1": 52.3,
          "y0": 93,
          "y1": 93
         },
         {
          "layer": "below",
          "line": {
           "color": "white",
           "width": 2
          },
          "type": "line",
          "x0": 1,
          "x1": 1.6666666666666665,
          "y0": 94,
          "y1": 94
         },
         {
          "layer": "below",
          "line": {
           "color": "white",
           "width": 2
          },
          "type": "line",
          "x0": 23.58333,
          "x1": 24.249996666666668,
          "y0": 94,
          "y1": 94
         },
         {
          "layer": "below",
          "line": {
           "color": "white",
           "width": 2
          },
          "type": "line",
          "x0": 29.08333,
          "x1": 29.749996666666668,
          "y0": 94,
          "y1": 94
         },
         {
          "layer": "below",
          "line": {
           "color": "white",
           "width": 2
          },
          "type": "line",
          "x0": 51.63333333333333,
          "x1": 52.3,
          "y0": 94,
          "y1": 94
         },
         {
          "layer": "below",
          "line": {
           "color": "white",
           "width": 2
          },
          "type": "line",
          "x0": 1,
          "x1": 1.6666666666666665,
          "y0": 95,
          "y1": 95
         },
         {
          "layer": "below",
          "line": {
           "color": "white",
           "width": 2
          },
          "type": "line",
          "x0": 23.58333,
          "x1": 24.249996666666668,
          "y0": 95,
          "y1": 95
         },
         {
          "layer": "below",
          "line": {
           "color": "white",
           "width": 2
          },
          "type": "line",
          "x0": 29.08333,
          "x1": 29.749996666666668,
          "y0": 95,
          "y1": 95
         },
         {
          "layer": "below",
          "line": {
           "color": "white",
           "width": 2
          },
          "type": "line",
          "x0": 51.63333333333333,
          "x1": 52.3,
          "y0": 95,
          "y1": 95
         },
         {
          "layer": "below",
          "line": {
           "color": "white",
           "width": 2
          },
          "type": "line",
          "x0": 1,
          "x1": 1.6666666666666665,
          "y0": 96,
          "y1": 96
         },
         {
          "layer": "below",
          "line": {
           "color": "white",
           "width": 2
          },
          "type": "line",
          "x0": 23.58333,
          "x1": 24.249996666666668,
          "y0": 96,
          "y1": 96
         },
         {
          "layer": "below",
          "line": {
           "color": "white",
           "width": 2
          },
          "type": "line",
          "x0": 29.08333,
          "x1": 29.749996666666668,
          "y0": 96,
          "y1": 96
         },
         {
          "layer": "below",
          "line": {
           "color": "white",
           "width": 2
          },
          "type": "line",
          "x0": 51.63333333333333,
          "x1": 52.3,
          "y0": 96,
          "y1": 96
         },
         {
          "layer": "below",
          "line": {
           "color": "white",
           "width": 2
          },
          "type": "line",
          "x0": 1,
          "x1": 1.6666666666666665,
          "y0": 97,
          "y1": 97
         },
         {
          "layer": "below",
          "line": {
           "color": "white",
           "width": 2
          },
          "type": "line",
          "x0": 23.58333,
          "x1": 24.249996666666668,
          "y0": 97,
          "y1": 97
         },
         {
          "layer": "below",
          "line": {
           "color": "white",
           "width": 2
          },
          "type": "line",
          "x0": 29.08333,
          "x1": 29.749996666666668,
          "y0": 97,
          "y1": 97
         },
         {
          "layer": "below",
          "line": {
           "color": "white",
           "width": 2
          },
          "type": "line",
          "x0": 51.63333333333333,
          "x1": 52.3,
          "y0": 97,
          "y1": 97
         },
         {
          "layer": "below",
          "line": {
           "color": "white",
           "width": 2
          },
          "type": "line",
          "x0": 1,
          "x1": 1.6666666666666665,
          "y0": 98,
          "y1": 98
         },
         {
          "layer": "below",
          "line": {
           "color": "white",
           "width": 2
          },
          "type": "line",
          "x0": 23.58333,
          "x1": 24.249996666666668,
          "y0": 98,
          "y1": 98
         },
         {
          "layer": "below",
          "line": {
           "color": "white",
           "width": 2
          },
          "type": "line",
          "x0": 29.08333,
          "x1": 29.749996666666668,
          "y0": 98,
          "y1": 98
         },
         {
          "layer": "below",
          "line": {
           "color": "white",
           "width": 2
          },
          "type": "line",
          "x0": 51.63333333333333,
          "x1": 52.3,
          "y0": 98,
          "y1": 98
         },
         {
          "layer": "below",
          "line": {
           "color": "white",
           "width": 2
          },
          "type": "line",
          "x0": 1,
          "x1": 1.6666666666666665,
          "y0": 99,
          "y1": 99
         },
         {
          "layer": "below",
          "line": {
           "color": "white",
           "width": 2
          },
          "type": "line",
          "x0": 23.58333,
          "x1": 24.249996666666668,
          "y0": 99,
          "y1": 99
         },
         {
          "layer": "below",
          "line": {
           "color": "white",
           "width": 2
          },
          "type": "line",
          "x0": 29.08333,
          "x1": 29.749996666666668,
          "y0": 99,
          "y1": 99
         },
         {
          "layer": "below",
          "line": {
           "color": "white",
           "width": 2
          },
          "type": "line",
          "x0": 51.63333333333333,
          "x1": 52.3,
          "y0": 99,
          "y1": 99
         },
         {
          "layer": "below",
          "line": {
           "color": "white",
           "width": 2
          },
          "type": "line",
          "x0": 1,
          "x1": 1.6666666666666665,
          "y0": 101,
          "y1": 101
         },
         {
          "layer": "below",
          "line": {
           "color": "white",
           "width": 2
          },
          "type": "line",
          "x0": 23.58333,
          "x1": 24.249996666666668,
          "y0": 101,
          "y1": 101
         },
         {
          "layer": "below",
          "line": {
           "color": "white",
           "width": 2
          },
          "type": "line",
          "x0": 29.08333,
          "x1": 29.749996666666668,
          "y0": 101,
          "y1": 101
         },
         {
          "layer": "below",
          "line": {
           "color": "white",
           "width": 2
          },
          "type": "line",
          "x0": 51.63333333333333,
          "x1": 52.3,
          "y0": 101,
          "y1": 101
         },
         {
          "layer": "below",
          "line": {
           "color": "white",
           "width": 2
          },
          "type": "line",
          "x0": 1,
          "x1": 1.6666666666666665,
          "y0": 102,
          "y1": 102
         },
         {
          "layer": "below",
          "line": {
           "color": "white",
           "width": 2
          },
          "type": "line",
          "x0": 23.58333,
          "x1": 24.249996666666668,
          "y0": 102,
          "y1": 102
         },
         {
          "layer": "below",
          "line": {
           "color": "white",
           "width": 2
          },
          "type": "line",
          "x0": 29.08333,
          "x1": 29.749996666666668,
          "y0": 102,
          "y1": 102
         },
         {
          "layer": "below",
          "line": {
           "color": "white",
           "width": 2
          },
          "type": "line",
          "x0": 51.63333333333333,
          "x1": 52.3,
          "y0": 102,
          "y1": 102
         },
         {
          "layer": "below",
          "line": {
           "color": "white",
           "width": 2
          },
          "type": "line",
          "x0": 1,
          "x1": 1.6666666666666665,
          "y0": 103,
          "y1": 103
         },
         {
          "layer": "below",
          "line": {
           "color": "white",
           "width": 2
          },
          "type": "line",
          "x0": 23.58333,
          "x1": 24.249996666666668,
          "y0": 103,
          "y1": 103
         },
         {
          "layer": "below",
          "line": {
           "color": "white",
           "width": 2
          },
          "type": "line",
          "x0": 29.08333,
          "x1": 29.749996666666668,
          "y0": 103,
          "y1": 103
         },
         {
          "layer": "below",
          "line": {
           "color": "white",
           "width": 2
          },
          "type": "line",
          "x0": 51.63333333333333,
          "x1": 52.3,
          "y0": 103,
          "y1": 103
         },
         {
          "layer": "below",
          "line": {
           "color": "white",
           "width": 2
          },
          "type": "line",
          "x0": 1,
          "x1": 1.6666666666666665,
          "y0": 104,
          "y1": 104
         },
         {
          "layer": "below",
          "line": {
           "color": "white",
           "width": 2
          },
          "type": "line",
          "x0": 23.58333,
          "x1": 24.249996666666668,
          "y0": 104,
          "y1": 104
         },
         {
          "layer": "below",
          "line": {
           "color": "white",
           "width": 2
          },
          "type": "line",
          "x0": 29.08333,
          "x1": 29.749996666666668,
          "y0": 104,
          "y1": 104
         },
         {
          "layer": "below",
          "line": {
           "color": "white",
           "width": 2
          },
          "type": "line",
          "x0": 51.63333333333333,
          "x1": 52.3,
          "y0": 104,
          "y1": 104
         },
         {
          "layer": "below",
          "line": {
           "color": "white",
           "width": 2
          },
          "type": "line",
          "x0": 1,
          "x1": 1.6666666666666665,
          "y0": 105,
          "y1": 105
         },
         {
          "layer": "below",
          "line": {
           "color": "white",
           "width": 2
          },
          "type": "line",
          "x0": 23.58333,
          "x1": 24.249996666666668,
          "y0": 105,
          "y1": 105
         },
         {
          "layer": "below",
          "line": {
           "color": "white",
           "width": 2
          },
          "type": "line",
          "x0": 29.08333,
          "x1": 29.749996666666668,
          "y0": 105,
          "y1": 105
         },
         {
          "layer": "below",
          "line": {
           "color": "white",
           "width": 2
          },
          "type": "line",
          "x0": 51.63333333333333,
          "x1": 52.3,
          "y0": 105,
          "y1": 105
         },
         {
          "layer": "below",
          "line": {
           "color": "white",
           "width": 2
          },
          "type": "line",
          "x0": 1,
          "x1": 1.6666666666666665,
          "y0": 106,
          "y1": 106
         },
         {
          "layer": "below",
          "line": {
           "color": "white",
           "width": 2
          },
          "type": "line",
          "x0": 23.58333,
          "x1": 24.249996666666668,
          "y0": 106,
          "y1": 106
         },
         {
          "layer": "below",
          "line": {
           "color": "white",
           "width": 2
          },
          "type": "line",
          "x0": 29.08333,
          "x1": 29.749996666666668,
          "y0": 106,
          "y1": 106
         },
         {
          "layer": "below",
          "line": {
           "color": "white",
           "width": 2
          },
          "type": "line",
          "x0": 51.63333333333333,
          "x1": 52.3,
          "y0": 106,
          "y1": 106
         },
         {
          "layer": "below",
          "line": {
           "color": "white",
           "width": 2
          },
          "type": "line",
          "x0": 1,
          "x1": 1.6666666666666665,
          "y0": 107,
          "y1": 107
         },
         {
          "layer": "below",
          "line": {
           "color": "white",
           "width": 2
          },
          "type": "line",
          "x0": 23.58333,
          "x1": 24.249996666666668,
          "y0": 107,
          "y1": 107
         },
         {
          "layer": "below",
          "line": {
           "color": "white",
           "width": 2
          },
          "type": "line",
          "x0": 29.08333,
          "x1": 29.749996666666668,
          "y0": 107,
          "y1": 107
         },
         {
          "layer": "below",
          "line": {
           "color": "white",
           "width": 2
          },
          "type": "line",
          "x0": 51.63333333333333,
          "x1": 52.3,
          "y0": 107,
          "y1": 107
         },
         {
          "layer": "below",
          "line": {
           "color": "white",
           "width": 2
          },
          "type": "line",
          "x0": 1,
          "x1": 1.6666666666666665,
          "y0": 108,
          "y1": 108
         },
         {
          "layer": "below",
          "line": {
           "color": "white",
           "width": 2
          },
          "type": "line",
          "x0": 23.58333,
          "x1": 24.249996666666668,
          "y0": 108,
          "y1": 108
         },
         {
          "layer": "below",
          "line": {
           "color": "white",
           "width": 2
          },
          "type": "line",
          "x0": 29.08333,
          "x1": 29.749996666666668,
          "y0": 108,
          "y1": 108
         },
         {
          "layer": "below",
          "line": {
           "color": "white",
           "width": 2
          },
          "type": "line",
          "x0": 51.63333333333333,
          "x1": 52.3,
          "y0": 108,
          "y1": 108
         },
         {
          "layer": "below",
          "line": {
           "color": "white",
           "width": 2
          },
          "type": "line",
          "x0": 1,
          "x1": 1.6666666666666665,
          "y0": 109,
          "y1": 109
         },
         {
          "layer": "below",
          "line": {
           "color": "white",
           "width": 2
          },
          "type": "line",
          "x0": 23.58333,
          "x1": 24.249996666666668,
          "y0": 109,
          "y1": 109
         },
         {
          "layer": "below",
          "line": {
           "color": "white",
           "width": 2
          },
          "type": "line",
          "x0": 29.08333,
          "x1": 29.749996666666668,
          "y0": 109,
          "y1": 109
         },
         {
          "layer": "below",
          "line": {
           "color": "white",
           "width": 2
          },
          "type": "line",
          "x0": 51.63333333333333,
          "x1": 52.3,
          "y0": 109,
          "y1": 109
         },
         {
          "fillcolor": "white",
          "layer": "below",
          "line": {
           "color": "white"
          },
          "path": "M 48.59382380757938,17.92917619242062 L 47.553823807579384,17.92917619242062 A 3.257,3.257 270.0 0,1 47.48482380757938,17.93017619242062 A 1.126,1.126 270.0 0,1 47.21682380757938,17.907176192420618 Q 47.11382380757938,17.87917619242062 47.08382380757938,17.80917619242062 Q 47.053823807579384,17.73917619242062 47.053823807579384,17.57917619242062 L 47.053823807579384,17.33417619242062 A 0.095,0.095 270.0 0,0 46.93382380757938,17.24417619242062 Q 46.858823807579384,17.24917619242062 46.84182380757938,17.27417619242062 Q 46.82382380757938,17.29917619242062 46.82382380757938,17.33717619242062 L 46.82382380757938,17.38917619242062 Q 46.82382380757938,17.599176192420618 46.75682380757938,17.79917619242062 Q 46.68882380757938,17.99917619242062 46.59382380757938,18.23417619242062 Q 46.58382380757938,18.26417619242062 46.58382380757938,18.28417619242062 Q 46.58382380757938,18.36417619242062 46.69882380757938,18.36417619242062 L 48.59382380757938,18.36417619242062 Q 48.81382380757938,18.36417619242062 48.90882380757938,18.41717619242062 Q 49.00382380757938,18.46917619242062 49.02882380757938,18.58217619242062 Q 49.053823807579384,18.69417619242062 49.053823807579384,18.94417619242062 L 49.053823807579384,18.994176192420618 Q 49.053823807579384,19.03417619242062 49.07382380757938,19.052176192420617 Q 49.09382380757938,19.06917619242062 49.15382380757938,19.07417619242062 Q 49.27382380757938,19.07417619242062 49.27382380757938,18.98417619242062 Q 49.25882380757938,18.62417619242062 49.25882380757938,18.14417619242062 Q 49.25882380757938,17.66917619242062 49.27382380757938,17.30917619242062 A 0.095,0.095 270.0 0,0 49.15382380757938,17.21917619242062 Q 49.09382380757938,17.224176192420618 49.07382380757938,17.24217619242062 Q 49.053823807579384,17.259176192420618 49.053823807579384,17.29917619242062 Q 49.053823807579384,17.57917619242062 49.03182380757938,17.69717619242062 Q 49.00882380757938,17.814176192420618 48.913823807579384,17.872176192420618 Q 48.81882380757938,17.92917619242062 48.59382380757938,17.92917619242062 L 48.59382380757938,17.92917619242062",
          "type": "path"
         },
         {
          "fillcolor": "white",
          "layer": "below",
          "line": {
           "color": "white"
          },
          "path": "M 4.2638238075793815,22.060823807579382 L 5.3038238075793815,22.060823807579382 A 3.257,3.257 450.0 0,1 5.3728238075793815,22.05982380757938 A 1.126,1.126 450.0 0,1 5.640823807579381,22.08282380757938 Q 5.743823807579382,22.11082380757938 5.773823807579381,22.18082380757938 Q 5.803823807579381,22.25082380757938 5.803823807579381,22.41082380757938 L 5.803823807579381,22.65582380757938 A 0.095,0.095 450.0 0,0 5.923823807579382,22.74582380757938 Q 5.998823807579381,22.740823807579382 6.015823807579381,22.71582380757938 Q 6.033823807579381,22.69082380757938 6.033823807579381,22.65282380757938 L 6.033823807579381,22.60082380757938 Q 6.033823807579381,22.39082380757938 6.100823807579381,22.19082380757938 Q 6.168823807579381,21.990823807579382 6.2638238075793815,21.755823807579382 Q 6.273823807579381,21.72582380757938 6.273823807579381,21.70582380757938 Q 6.273823807579381,21.62582380757938 6.158823807579381,21.62582380757938 L 4.2638238075793815,21.62582380757938 Q 4.043823807579381,21.62582380757938 3.948823807579381,21.572823807579383 Q 3.8538238075793814,21.520823807579383 3.8288238075793815,21.40782380757938 Q 3.803823807579381,21.29582380757938 3.8038238075793807,21.04582380757938 L 3.8038238075793807,20.99582380757938 Q 3.8038238075793807,20.95582380757938 3.7838238075793806,20.93782380757938 Q 3.763823807579381,20.92082380757938 3.703823807579381,20.915823807579383 Q 3.583823807579381,20.915823807579383 3.583823807579381,21.005823807579382 Q 3.5988238075793815,21.365823807579382 3.5988238075793815,21.845823807579382 Q 3.5988238075793815,22.32082380757938 3.5838238075793813,22.68082380757938 A 0.095,0.095 450.0 0,0 3.7038238075793815,22.770823807579383 Q 3.7638238075793815,22.76582380757938 3.783823807579381,22.74782380757938 Q 3.803823807579381,22.73082380757938 3.803823807579381,22.69082380757938 Q 3.803823807579381,22.41082380757938 3.8258238075793813,22.29282380757938 Q 3.8488238075793815,22.17582380757938 3.9438238075793812,22.11782380757938 Q 4.038823807579381,22.060823807579382 4.2638238075793815,22.060823807579382 L 4.2638238075793815,22.060823807579382",
          "type": "path"
         },
         {
          "fillcolor": "white",
          "layer": "below",
          "line": {
           "color": "white"
          },
          "path": "M 46.52282380757938,22.006176192420618 Q 46.52282380757938,21.616176192420617 46.71282380757938,21.349176192420618 Q 46.90282380757938,21.081176192420617 47.21782380757938,20.949176192420616 Q 47.53282380757938,20.816176192420617 47.90282380757938,20.816176192420617 Q 48.27782380757938,20.816176192420617 48.58782380757938,20.949176192420616 Q 48.89782380757938,21.081176192420617 49.08582380757938,21.349176192420618 Q 49.27282380757938,21.616176192420617 49.27282380757938,22.006176192420618 Q 49.27282380757938,22.376176192420616 49.08282380757938,22.64617619242062 Q 48.89282380757938,22.916176192420618 48.57782380757938,23.05617619242062 Q 48.26282380757938,23.196176192420616 47.90282380757938,23.196176192420616 Q 47.54282380757938,23.196176192420616 47.227823807579384,23.05617619242062 Q 46.91282380757938,22.916176192420618 46.71782380757938,22.64617619242062 Q 46.52282380757938,22.37617619242062 46.52282380757938,22.006176192420618 M 46.70782380757938,22.011176192420617 Q 46.70782380757938,22.346176192420618 47.01782380757938,22.531176192420617 Q 47.32782380757938,22.71617619242062 47.90282380757938,22.71617619242062 Q 48.477823807579384,22.71617619242062 48.78282380757938,22.531176192420617 Q 49.08782380757938,22.346176192420618 49.08782380757938,22.011176192420617 Q 49.08782380757938,21.666176192420618 48.78582380757938,21.481176192420616 Q 48.48282380757938,21.296176192420617 47.90282380757938,21.296176192420617 Q 47.32282380757938,21.296176192420617 47.01582380757938,21.481176192420616 Q 46.70782380757938,21.666176192420618 46.70782380757938,22.011176192420617",
          "type": "path"
         },
         {
          "fillcolor": "white",
          "layer": "below",
          "line": {
           "color": "white"
          },
          "path": "M 6.334823807579381,18.183823807579383 Q 6.334823807579381,18.573823807579384 6.144823807579382,18.840823807579383 Q 5.954823807579381,19.108823807579384 5.639823807579381,19.240823807579382 Q 5.3248238075793815,19.373823807579384 4.954823807579381,19.373823807579384 Q 4.579823807579381,19.373823807579384 4.269823807579382,19.240823807579382 Q 3.9598238075793812,19.108823807579384 3.771823807579381,18.840823807579383 Q 3.5848238075793812,18.573823807579384 3.5848238075793812,18.183823807579383 Q 3.584823807579381,17.813823807579382 3.774823807579381,17.543823807579383 Q 3.964823807579381,17.273823807579383 4.279823807579381,17.133823807579383 Q 4.594823807579381,16.993823807579382 4.954823807579381,16.993823807579382 Q 5.314823807579381,16.993823807579382 5.629823807579381,17.133823807579383 Q 5.944823807579381,17.273823807579383 6.139823807579381,17.543823807579383 Q 6.334823807579381,17.813823807579382 6.334823807579381,18.183823807579383 M 6.149823807579381,18.178823807579384 Q 6.149823807579381,17.843823807579383 5.839823807579381,17.65882380757938 Q 5.5298238075793815,17.473823807579382 4.954823807579381,17.473823807579382 Q 4.379823807579381,17.473823807579382 4.0748238075793815,17.65882380757938 Q 3.7698238075793813,17.843823807579383 3.7698238075793813,18.178823807579384 Q 3.7698238075793813,18.523823807579383 4.071823807579381,18.708823807579382 Q 4.374823807579381,18.893823807579384 4.954823807579381,18.893823807579384 Q 5.534823807579381,18.893823807579384 5.841823807579381,18.708823807579382 Q 6.149823807579381,18.523823807579383 6.149823807579381,18.178823807579384",
          "type": "path"
         },
         {
          "fillcolor": "white",
          "layer": "below",
          "line": {
           "color": "white"
          },
          "path": "M 48.9595,27.5575 L 48.9845,27.5575 L 48.9845,28.8975 A 0.449,0.449 270.0 0,0 49.0125,29.0795 Q 49.039500000000004,29.137500000000003 49.1595,29.137500000000003 Q 49.3395,29.137500000000003 49.3395,28.962500000000002 L 49.3395,27.2875 Q 49.3395,27.1125 49.1595,27.1125 Q 49.0545,27.1175 48.9895,27.1695 Q 48.9245,27.2225 48.8445,27.3425 Q 48.5795,27.7375 48.4075,27.9545 Q 48.2345,28.1725 47.9695,28.3475 Q 47.7045,28.5225 47.3745,28.5225 Q 47.1345,28.5225 47.0025,28.3945 Q 46.8695,28.267500000000002 46.8695,28.0375 Q 46.8695,27.8425 46.9675,27.7145 Q 47.0645,27.587500000000002 47.2345,27.587500000000002 Q 47.3195,27.587500000000002 47.3775,27.6275 Q 47.4345,27.6675 47.4695,27.709500000000002 Q 47.5045,27.7525 47.5095,27.7525 Q 47.5445,27.7525 47.5945,27.6845 Q 47.6445,27.6175 47.6445,27.5225 Q 47.6445,27.3675 47.5475,27.2745 Q 47.4495,27.1825 47.2995,27.1825 Q 47.0995,27.1825 46.9595,27.317500000000003 Q 46.8195,27.4525 46.7545,27.6595 Q 46.6895,27.8675 46.6895,28.0825 Q 46.6895,28.4575 46.8745,28.7295 Q 47.0595,29.0025 47.4395,29.0025 Q 47.7145,29.0025 47.9395,28.8525 Q 48.1645,28.7025 48.3225,28.494500000000002 Q 48.4795,28.2875 48.6945,27.9525 Q 48.8595,27.6875 48.9595,27.5575",
          "type": "path"
         },
         {
          "fillcolor": "white",
          "layer": "below",
          "line": {
           "color": "white"
          },
          "path": "M 4.0695,32.3925 L 4.0445,32.3925 L 4.0445,31.052500000000002 A 0.449,0.449 450.0 0,0 4.0165,30.8705 Q 3.9894999999999996,30.8125 3.8694999999999995,30.8125 Q 3.6895,30.8125 3.6895,30.9875 L 3.6895000000000002,32.6625 Q 3.6895000000000002,32.8375 3.8695,32.8375 Q 3.9745,32.8325 4.0395,32.7805 Q 4.1045,32.7275 4.1845,32.6075 Q 4.4495000000000005,32.2125 4.6215,31.9955 Q 4.7945,31.7775 5.0595,31.6025 Q 5.3245000000000005,31.4275 5.6545,31.4275 Q 5.8945,31.4275 6.0264999999999995,31.5555 Q 6.1594999999999995,31.6825 6.1594999999999995,31.9125 Q 6.1594999999999995,32.1075 6.0615,32.2355 Q 5.9645,32.3625 5.7945,32.3625 Q 5.7095,32.3625 5.6515,32.3225 Q 5.5945,32.2825 5.5595,32.2405 Q 5.5245,32.1975 5.519500000000001,32.1975 Q 5.4845,32.1975 5.4345,32.2655 Q 5.3845,32.3325 5.3845,32.4275 Q 5.3845,32.582499999999996 5.4815000000000005,32.6755 Q 5.5795,32.7675 5.7295,32.7675 Q 5.9295,32.7675 6.0695,32.6325 Q 6.2095,32.4975 6.2745,32.2905 Q 6.3395,32.082499999999996 6.3395,31.8675 Q 6.3395,31.4925 6.1545,31.2205 Q 5.9695,30.947499999999998 5.589499999999999,30.9475 Q 5.3145,30.9475 5.089499999999999,31.0975 Q 4.8645,31.2475 4.7065,31.4555 Q 4.5495,31.6625 4.3345,31.9975 Q 4.1695,32.2625 4.0695,32.3925",
          "type": "path"
         },
         {
          "fillcolor": "white",
          "layer": "below",
          "line": {
           "color": "white"
          },
          "path": "M 46.5885,31.900499999999997 Q 46.5885,31.5105 46.7785,31.243499999999997 Q 46.9685,30.9755 47.2835,30.8435 Q 47.5985,30.7105 47.9685,30.7105 Q 48.3435,30.7105 48.6535,30.8435 Q 48.963499999999996,30.975499999999997 49.1515,31.243499999999997 Q 49.338499999999996,31.5105 49.338499999999996,31.900499999999997 Q 49.338499999999996,32.2705 49.1485,32.5405 Q 48.9585,32.8105 48.6435,32.9505 Q 48.3285,33.0905 47.9685,33.0905 Q 47.6085,33.0905 47.2935,32.9505 Q 46.9785,32.8105 46.7835,32.5405 Q 46.5885,32.2705 46.5885,31.900499999999997 M 46.7735,31.9055 Q 46.7735,32.2405 47.0835,32.4255 Q 47.3935,32.6105 47.9685,32.6105 Q 48.5435,32.6105 48.8485,32.4255 Q 49.1535,32.2405 49.1535,31.9055 Q 49.1535,31.560499999999998 48.8515,31.3755 Q 48.5485,31.1905 47.9685,31.1905 Q 47.3885,31.1905 47.0815,31.3755 Q 46.7735,31.560499999999998 46.7735,31.9055",
          "type": "path"
         },
         {
          "fillcolor": "white",
          "layer": "below",
          "line": {
           "color": "white"
          },
          "path": "M 6.4405,28.2495 Q 6.4405,28.6395 6.2505,28.9065 Q 6.0605,29.174500000000002 5.7455,29.3065 Q 5.4305,29.439500000000002 5.0605,29.439500000000002 Q 4.6855,29.439500000000002 4.375500000000001,29.3065 Q 4.0655,29.174500000000002 3.8775,28.9065 Q 3.6905,28.6395 3.6905,28.2495 Q 3.6905,27.8795 3.8804999999999996,27.6095 Q 4.0705,27.3395 4.3854999999999995,27.1995 Q 4.7005,27.0595 5.060499999999999,27.0595 Q 5.4205,27.0595 5.7355,27.1995 Q 6.0504999999999995,27.3395 6.2455,27.6095 Q 6.4405,27.8795 6.4405,28.2495 M 6.2555,28.244500000000002 Q 6.2555,27.9095 5.945499999999999,27.724500000000003 Q 5.6355,27.5395 5.060499999999999,27.5395 Q 4.4855,27.5395 4.1805,27.724500000000003 Q 3.8754999999999997,27.9095 3.8754999999999997,28.244500000000002 Q 3.8754999999999997,28.5895 4.1775,28.774500000000003 Q 4.4805,28.959500000000002 5.0605,28.959500000000002 Q 5.6405,28.959500000000002 5.9475,28.7745 Q 6.2555,28.5895 6.2555,28.244500000000002",
          "type": "path"
         },
         {
          "fillcolor": "white",
          "layer": "below",
          "line": {
           "color": "white"
          },
          "path": "M 47.9975,38.128499999999995 L 47.9975,37.9435 Q 47.9975,37.9085 47.9675,37.8885 Q 47.9375,37.8685 47.8975,37.8685 Q 47.8525,37.8685 47.8205,37.8885 Q 47.7875,37.9085 47.7825,37.9435 L 47.7825,38.128499999999995 Q 47.7625,38.323499999999996 47.6075,38.4415 Q 47.4525,38.558499999999995 47.2325,38.558499999999995 Q 46.9925,38.558499999999995 46.8655,38.4235 Q 46.7375,38.2885 46.7375,38.1085 Q 46.7375,37.9385 46.8355,37.8165 Q 46.9325,37.6935 47.1025,37.6935 Q 47.2125,37.6935 47.2505,37.7365 Q 47.2875,37.778499999999994 47.2955,37.8185 Q 47.3025,37.8585 47.3075,37.8585 Q 47.3425,37.8585 47.3925,37.7915 Q 47.4425,37.723499999999994 47.4425,37.628499999999995 Q 47.4425,37.4685 47.3425,37.378499999999995 Q 47.2425,37.2885 47.0875,37.2885 Q 46.8425,37.2885 46.7075,37.518499999999996 Q 46.5725,37.7485 46.5725,38.113499999999995 Q 46.5725,38.503499999999995 46.7425,38.7585 Q 46.9125,39.01349999999999 47.2325,39.01349999999999 Q 47.4425,39.01349999999999 47.6225,38.866499999999995 Q 47.8025,38.7185 47.8775,38.4435 L 47.8975,38.4435 Q 47.9275,38.723499999999994 48.0755,38.9285 Q 48.2225,39.1335 48.5425,39.1335 Q 48.9475,39.1335 49.1405,38.838499999999996 Q 49.3325,38.543499999999995 49.3325,38.098499999999994 Q 49.3325,37.7335 49.1905,37.4815 Q 49.0475,37.2285 48.7725,37.2285 Q 48.6275,37.2285 48.5225,37.3185 Q 48.4175,37.4085 48.4175,37.5685 Q 48.4175,37.6635 48.4675,37.7315 Q 48.5175,37.7985 48.5525,37.7985 Q 48.5575,37.7985 48.5905,37.753499999999995 Q 48.6225,37.708499999999994 48.6775,37.671499999999995 Q 48.7325,37.6335 48.8175,37.6335 Q 48.9725,37.6335 49.0605,37.76649999999999 Q 49.1475,37.8985 49.1475,38.113499999999995 Q 49.1475,38.6485 48.5525,38.6485 Q 48.3075,38.6485 48.1605,38.518499999999996 Q 48.0125,38.38849999999999 47.9975,38.128499999999995",
          "type": "path"
         },
         {
          "fillcolor": "white",
          "layer": "below",
          "line": {
           "color": "white"
          },
          "path": "M 4.9075,41.9335 L 4.9075,42.1185 Q 4.9075,42.1535 4.9375,42.1735 Q 4.9675,42.1935 5.0075,42.1935 Q 5.0525,42.1935 5.0845,42.1735 Q 5.1175,42.1535 5.1225000000000005,42.1185 L 5.1225000000000005,41.9335 Q 5.1425,41.7385 5.297499999999999,41.6205 Q 5.4525,41.5035 5.672499999999999,41.5035 Q 5.9125,41.5035 6.0395,41.6385 Q 6.1675,41.7735 6.1675,41.9535 Q 6.1675,42.1235 6.0695,42.2455 Q 5.9725,42.3685 5.8025,42.3685 Q 5.6925,42.3685 5.6545000000000005,42.3255 Q 5.617500000000001,42.2835 5.609500000000001,42.2435 Q 5.6025,42.2035 5.5975,42.2035 Q 5.5625,42.2035 5.5125,42.2705 Q 5.4625,42.338499999999996 5.4625,42.4335 Q 5.4625,42.5935 5.5625,42.6835 Q 5.6625000000000005,42.7735 5.8175,42.7735 Q 6.0625,42.7735 6.1975,42.5435 Q 6.3325,42.3135 6.3325,41.9485 Q 6.3325,41.5585 6.1625,41.3035 Q 5.9925,41.0485 5.672499999999999,41.0485 Q 5.4625,41.0485 5.2825,41.1955 Q 5.1025,41.3435 5.0275,41.6185 L 5.0075,41.6185 Q 4.9775,41.3385 4.8294999999999995,41.1335 Q 4.6825,40.9285 4.3625,40.9285 Q 3.9574999999999996,40.9285 3.7645,41.2235 Q 3.5725,41.5185 3.5725,41.9635 Q 3.5725,42.3285 3.7145,42.5805 Q 3.8575000000000004,42.8335 4.1325,42.8335 Q 4.2775,42.8335 4.3825,42.7435 Q 4.4875,42.6535 4.4875,42.4935 Q 4.4875,42.3985 4.4375,42.3305 Q 4.3875,42.2635 4.3525,42.2635 Q 4.3475,42.2635 4.3145,42.3085 Q 4.2825,42.3535 4.2275,42.3905 Q 4.1725,42.4285 4.0875,42.4285 Q 3.9325,42.4285 3.8445,42.2955 Q 3.7575,42.1635 3.7575,41.9485 Q 3.7575,41.4135 4.3525,41.4135 Q 4.5975,41.4135 4.7445,41.5435 Q 4.8925,41.6735 4.9075,41.9335",
          "type": "path"
         },
         {
          "fillcolor": "white",
          "layer": "below",
          "line": {
           "color": "white"
          },
          "path": "M 46.5825,42.018499999999996 Q 46.5825,41.628499999999995 46.7725,41.3615 Q 46.9625,41.0935 47.2775,40.9615 Q 47.5925,40.8285 47.9625,40.8285 Q 48.3375,40.8285 48.6475,40.9615 Q 48.9575,41.0935 49.1455,41.3615 Q 49.3325,41.628499999999995 49.3325,42.018499999999996 Q 49.3325,42.3885 49.1425,42.6585 Q 48.9525,42.9285 48.6375,43.0685 Q 48.3225,43.2085 47.9625,43.2085 Q 47.6025,43.2085 47.2875,43.0685 Q 46.9725,42.9285 46.7775,42.6585 Q 46.5825,42.3885 46.5825,42.018499999999996 M 46.7675,42.0235 Q 46.7675,42.3585 47.0775,42.5435 Q 47.3875,42.7285 47.9625,42.7285 Q 48.5375,42.7285 48.8425,42.5435 Q 49.1475,42.3585 49.1475,42.0235 Q 49.1475,41.6785 48.8455,41.4935 Q 48.5425,41.308499999999995 47.9625,41.308499999999995 Q 47.3825,41.308499999999995 47.0755,41.4935 Q 46.7675,41.6785 46.7675,42.0235",
          "type": "path"
         },
         {
          "fillcolor": "white",
          "layer": "below",
          "line": {
           "color": "white"
          },
          "path": "M 6.3225,38.243500000000004 Q 6.3225,38.6335 6.1325,38.9005 Q 5.9425,39.1685 5.6275,39.3005 Q 5.3125,39.4335 4.9425,39.4335 Q 4.5675,39.4335 4.2575,39.3005 Q 3.9475000000000002,39.1685 3.7595,38.9005 Q 3.5725,38.633500000000005 3.5725,38.243500000000004 Q 3.5725,37.8735 3.7624999999999997,37.603500000000004 Q 3.9524999999999997,37.3335 4.2675,37.1935 Q 4.5825,37.0535 4.9425,37.0535 Q 5.3025,37.0535 5.6175,37.1935 Q 5.9325,37.3335 6.1274999999999995,37.603500000000004 Q 6.3225,37.8735 6.3225,38.243500000000004 M 6.137499999999999,38.2385 Q 6.137499999999999,37.9035 5.8275,37.7185 Q 5.5175,37.533500000000004 4.9425,37.533500000000004 Q 4.3675,37.533500000000004 4.0625,37.7185 Q 3.7575,37.9035 3.7575,38.2385 Q 3.7575,38.5835 4.0595,38.7685 Q 4.3625,38.9535 4.9425,38.9535 Q 5.5225,38.9535 5.8294999999999995,38.7685 Q 6.137499999999999,38.5835 6.137499999999999,38.2385",
          "type": "path"
         },
         {
          "fillcolor": "white",
          "layer": "below",
          "line": {
           "color": "white"
          },
          "path": "M 49.3825,48.4085 L 48.6175,48.4085 L 48.6175,47.213499999999996 Q 48.6175,47.1335 48.5675,47.0935 Q 48.5175,47.0535 48.4425,47.0535 Q 48.3775,47.0535 48.3325,47.088499999999996 L 46.7975,48.4935 Q 46.7475,48.543499999999995 46.7475,48.6485 Q 46.7475,48.7285 46.789500000000004,48.7835 Q 46.8325,48.838499999999996 46.9225,48.8435 L 48.3725,48.8435 L 48.3725,49.143499999999996 Q 48.3725,49.213499999999996 48.3895,49.2435 Q 48.4075,49.2735 48.4925,49.278499999999994 Q 48.5475,49.278499999999994 48.5825,49.256499999999996 Q 48.6175,49.2335 48.6175,49.183499999999995 L 48.6175,48.8435 L 49.3825,48.8435 Q 49.4275,48.8435 49.4525,48.778499999999994 Q 49.4775,48.713499999999996 49.4775,48.628499999999995 Q 49.4775,48.543499999999995 49.4525,48.4785 Q 49.4275,48.4135 49.3825,48.4085 M 47.1875,48.4085 L 48.3725,47.3435 L 48.3725,48.4085 L 47.1875,48.4085",
          "type": "path"
         },
         {
          "fillcolor": "white",
          "layer": "below",
          "line": {
           "color": "white"
          },
          "path": "M 3.8425,51.6235 L 4.6075,51.6235 L 4.6075,52.8185 Q 4.6075,52.8985 4.657500000000001,52.9385 Q 4.7075000000000005,52.9785 4.782500000000001,52.9785 Q 4.8475,52.9785 4.8925,52.9435 L 6.4275,51.5385 Q 6.4775,51.4885 6.4775,51.3835 Q 6.4775,51.3035 6.435499999999999,51.2485 Q 6.3925,51.1935 6.302499999999999,51.1885 L 4.8525,51.1885 L 4.8525,50.8885 Q 4.8525,50.8185 4.8355,50.7885 Q 4.8175,50.7585 4.7325,50.7535 Q 4.6775,50.7535 4.6425,50.7755 Q 4.6075,50.7985 4.6075,50.8485 L 4.6075,51.1885 L 3.8424999999999994,51.1885 Q 3.7974999999999994,51.1885 3.7725,51.2535 Q 3.7475,51.3185 3.7475,51.4035 Q 3.7475,51.4885 3.7725,51.5535 Q 3.7975,51.6185 3.8425,51.6235 M 6.0375,51.6235 L 4.8525,52.6885 L 4.8525,51.6235 L 6.0375,51.6235",
          "type": "path"
         },
         {
          "fillcolor": "white",
          "layer": "below",
          "line": {
           "color": "white"
          },
          "path": "M 46.7275,51.8435 Q 46.7275,51.4535 46.9175,51.186499999999995 Q 47.1075,50.9185 47.4225,50.7865 Q 47.7375,50.6535 48.1075,50.6535 Q 48.4825,50.6535 48.7925,50.7865 Q 49.1025,50.9185 49.2905,51.186499999999995 Q 49.4775,51.4535 49.4775,51.8435 Q 49.4775,52.213499999999996 49.2875,52.4835 Q 49.0975,52.753499999999995 48.7825,52.893499999999996 Q 48.4675,53.0335 48.1075,53.0335 Q 47.7475,53.0335 47.4325,52.893499999999996 Q 47.1175,52.753499999999995 46.9225,52.4835 Q 46.7275,52.213499999999996 46.7275,51.8435 M 46.9125,51.8485 Q 46.9125,52.183499999999995 47.2225,52.3685 Q 47.5325,52.5535 48.1075,52.5535 Q 48.6825,52.5535 48.9875,52.3685 Q 49.2925,52.183499999999995 49.2925,51.8485 Q 49.2925,51.503499999999995 48.9905,51.3185 Q 48.6875,51.1335 48.1075,51.1335 Q 47.5275,51.1335 47.2205,51.3185 Q 46.9125,51.503499999999995 46.9125,51.8485",
          "type": "path"
         },
         {
          "fillcolor": "white",
          "layer": "below",
          "line": {
           "color": "white"
          },
          "path": "M 6.4975000000000005,48.3885 Q 6.4975000000000005,48.7785 6.3075,49.045500000000004 Q 6.117500000000001,49.313500000000005 5.8025,49.4455 Q 5.487500000000001,49.5785 5.117500000000001,49.5785 Q 4.742500000000001,49.5785 4.4325,49.4455 Q 4.1225000000000005,49.313500000000005 3.9345,49.045500000000004 Q 3.7475,48.7785 3.7475,48.3885 Q 3.7475,48.0185 3.9375,47.7485 Q 4.1274999999999995,47.478500000000004 4.4425,47.3385 Q 4.7575,47.1985 5.1175,47.1985 Q 5.4775,47.1985 5.7924999999999995,47.3385 Q 6.1075,47.478500000000004 6.3025,47.7485 Q 6.4975000000000005,48.0185 6.4975000000000005,48.3885 M 6.3125,48.3835 Q 6.3125,48.048500000000004 6.0024999999999995,47.8635 Q 5.6925,47.6785 5.1175,47.6785 Q 4.5425,47.6785 4.2375,47.8635 Q 3.9325,48.048500000000004 3.9325,48.3835 Q 3.9325,48.728500000000004 4.234500000000001,48.9135 Q 4.5375000000000005,49.0985 5.117500000000001,49.0985 Q 5.6975,49.0985 6.0045,48.9135 Q 6.3125,48.728500000000004 6.3125,48.3835",
          "type": "path"
         },
         {
          "fillcolor": "white",
          "layer": "below",
          "line": {
           "color": "white"
          },
          "path": "M 47.85,57.334999999999994 L 47.79,57.339999999999996 L 46.6,57.495 L 46.6,58.87 Q 46.6,58.94 46.645,58.983 Q 46.69,59.025 46.77,59.025 Q 46.955,59.025 46.955,58.834999999999994 L 46.955,57.724999999999994 L 47.65,57.62 Q 47.515,57.839999999999996 47.515,58.16 Q 47.515,58.375 47.61,58.592999999999996 Q 47.705,58.809999999999995 47.9,58.955 Q 48.095,59.099999999999994 48.385,59.099999999999994 Q 48.675,59.099999999999994 48.883,58.958 Q 49.09,58.815 49.195,58.577999999999996 Q 49.3,58.339999999999996 49.3,58.059999999999995 Q 49.3,57.69 49.165,57.445 Q 49.03,57.199999999999996 48.745,57.199999999999996 Q 48.59,57.199999999999996 48.473,57.293 Q 48.355,57.385 48.355,57.54 Q 48.355,57.635 48.405,57.702999999999996 Q 48.455,57.769999999999996 48.49,57.769999999999996 Q 48.495,57.769999999999996 48.535,57.724999999999994 Q 48.575,57.68 48.633,57.643 Q 48.69,57.605 48.765,57.605 Q 48.935,57.605 49.025,57.727999999999994 Q 49.115,57.849999999999994 49.115,58.07 Q 49.115,58.345 48.92,58.483 Q 48.725,58.62 48.41,58.62 Q 48.12,58.62 47.928,58.48 Q 47.735,58.339999999999996 47.735,58.044999999999995 Q 47.735,57.91 47.778,57.812999999999995 Q 47.82,57.714999999999996 47.9,57.605 Q 47.945,57.54 47.968,57.498 Q 47.99,57.455 47.99,57.415 Q 47.99,57.334999999999994 47.85,57.334999999999994 L 47.85,57.334999999999994",
          "type": "path"
         },
         {
          "fillcolor": "white",
          "layer": "below",
          "line": {
           "color": "white"
          },
          "path": "M 5.050000000000001,62.665 L 5.11,62.66 L 6.300000000000001,62.505 L 6.3,61.13 Q 6.3,61.06 6.255,61.017 Q 6.21,60.975 6.13,60.975 Q 5.945,60.975 5.945,61.165 L 5.945,62.275 L 5.25,62.38 Q 5.385,62.16 5.385,61.84 Q 5.385,61.625 5.29,61.407 Q 5.195,61.19 5.0,61.045 Q 4.805,60.9 4.515,60.9 Q 4.225,60.9 4.017,61.042 Q 3.8099999999999996,61.185 3.705,61.422 Q 3.5999999999999996,61.660000000000004 3.5999999999999996,61.94 Q 3.5999999999999996,62.31 3.7350000000000003,62.555 Q 3.87,62.8 4.155,62.8 Q 4.3100000000000005,62.8 4.4270000000000005,62.707 Q 4.545,62.615 4.545,62.46 Q 4.545,62.365 4.495,62.297 Q 4.445,62.23 4.41,62.23 Q 4.405,62.23 4.365,62.275 Q 4.325,62.32 4.267,62.357 Q 4.21,62.395 4.135,62.395 Q 3.9650000000000003,62.395 3.875,62.272 Q 3.785,62.15 3.785,61.93 Q 3.785,61.655 3.98,61.517 Q 4.175,61.38 4.49,61.38 Q 4.78,61.38 4.9719999999999995,61.52 Q 5.165,61.66 5.165,61.955 Q 5.165,62.09 5.122,62.187 Q 5.08,62.285 5.0,62.395 Q 4.955,62.46 4.932,62.502 Q 4.91,62.545 4.91,62.585 Q 4.91,62.665 5.05,62.665 L 5.050000000000001,62.665",
          "type": "path"
         },
         {
          "fillcolor": "white",
          "layer": "below",
          "line": {
           "color": "white"
          },
          "path": "M 46.549,61.99 Q 46.549,61.6 46.739,61.333 Q 46.929,61.065 47.244,60.933 Q 47.559,60.8 47.929,60.8 Q 48.304,60.8 48.614,60.933 Q 48.924,61.065 49.112,61.333 Q 49.299,61.6 49.299,61.99 Q 49.299,62.36 49.109,62.629999999999995 Q 48.919,62.9 48.604,63.04 Q 48.289,63.18 47.929,63.18 Q 47.569,63.18 47.254,63.04 Q 46.939,62.9 46.744,62.629999999999995 Q 46.549,62.36 46.549,61.99 M 46.734,61.995 Q 46.734,62.33 47.044,62.515 Q 47.354,62.699999999999996 47.929,62.699999999999996 Q 48.504,62.699999999999996 48.809,62.515 Q 49.114,62.33 49.114,61.995 Q 49.114,61.65 48.812,61.464999999999996 Q 48.509,61.28 47.929,61.28 Q 47.349,61.28 47.042,61.464999999999996 Q 46.734,61.65 46.734,61.995",
          "type": "path"
         },
         {
          "fillcolor": "white",
          "layer": "below",
          "line": {
           "color": "white"
          },
          "path": "M 6.351,58.21 Q 6.351,58.6 6.161,58.867000000000004 Q 5.971,59.135 5.656000000000001,59.267 Q 5.341,59.4 4.971,59.4 Q 4.596,59.4 4.286,59.267 Q 3.976,59.135000000000005 3.788,58.867000000000004 Q 3.601,58.6 3.601,58.21 Q 3.6009999999999995,57.84 3.7909999999999995,57.57 Q 3.981,57.300000000000004 4.295999999999999,57.160000000000004 Q 4.611,57.02 4.971,57.02 Q 5.3309999999999995,57.02 5.645999999999999,57.160000000000004 Q 5.961,57.300000000000004 6.156,57.57 Q 6.350999999999999,57.84 6.351,58.21 M 6.1659999999999995,58.205 Q 6.1659999999999995,57.870000000000005 5.856,57.685 Q 5.545999999999999,57.5 4.971,57.5 Q 4.396,57.5 4.090999999999999,57.685 Q 3.7859999999999996,57.870000000000005 3.7859999999999996,58.205 Q 3.7859999999999996,58.550000000000004 4.088,58.735 Q 4.391,58.92 4.971,58.92 Q 5.551,58.92 5.858,58.735 Q 6.1659999999999995,58.550000000000004 6.1659999999999995,58.205",
          "type": "path"
         },
         {
          "fillcolor": "white",
          "layer": "below",
          "line": {
           "color": "white"
          },
          "path": "M 49.3825,68.4085 L 48.6175,68.4085 L 48.6175,67.2135 Q 48.6175,67.1335 48.5675,67.09349999999999 Q 48.5175,67.0535 48.4425,67.0535 Q 48.3775,67.0535 48.3325,67.0885 L 46.7975,68.4935 Q 46.7475,68.5435 46.7475,68.6485 Q 46.7475,68.7285 46.789500000000004,68.7835 Q 46.8325,68.8385 46.9225,68.84349999999999 L 48.3725,68.84349999999999 L 48.3725,69.1435 Q 48.3725,69.2135 48.3895,69.2435 Q 48.4075,69.2735 48.4925,69.2785 Q 48.5475,69.2785 48.5825,69.2565 Q 48.6175,69.23349999999999 48.6175,69.1835 L 48.6175,68.84349999999999 L 49.3825,68.84349999999999 Q 49.4275,68.84349999999999 49.4525,68.7785 Q 49.4775,68.7135 49.4775,68.6285 Q 49.4775,68.5435 49.4525,68.4785 Q 49.4275,68.4135 49.3825,68.4085 M 47.1875,68.4085 L 48.3725,67.34349999999999 L 48.3725,68.4085 L 47.1875,68.4085",
          "type": "path"
         },
         {
          "fillcolor": "white",
          "layer": "below",
          "line": {
           "color": "white"
          },
          "path": "M 3.8425,71.6235 L 4.6075,71.6235 L 4.6075,72.8185 Q 4.6075,72.8985 4.657500000000001,72.9385 Q 4.7075000000000005,72.9785 4.782500000000001,72.9785 Q 4.8475,72.9785 4.8925,72.9435 L 6.4275,71.5385 Q 6.4775,71.4885 6.4775,71.3835 Q 6.4775,71.3035 6.435499999999999,71.24849999999999 Q 6.3925,71.1935 6.302499999999999,71.1885 L 4.8525,71.1885 L 4.8525,70.8885 Q 4.8525,70.8185 4.8355,70.7885 Q 4.8175,70.7585 4.7325,70.7535 Q 4.6775,70.7535 4.6425,70.7755 Q 4.6075,70.7985 4.6075,70.8485 L 4.6075,71.1885 L 3.8424999999999994,71.1885 Q 3.7974999999999994,71.1885 3.7725,71.2535 Q 3.7475,71.3185 3.7475,71.4035 Q 3.7475,71.4885 3.7725,71.5535 Q 3.7975,71.6185 3.8425,71.6235 M 6.0375,71.62349999999999 L 4.8525,72.6885 L 4.8525,71.6235 L 6.0375,71.62349999999999",
          "type": "path"
         },
         {
          "fillcolor": "white",
          "layer": "below",
          "line": {
           "color": "white"
          },
          "path": "M 46.7275,71.8435 Q 46.7275,71.4535 46.9175,71.18650000000001 Q 47.1075,70.91850000000001 47.4225,70.7865 Q 47.7375,70.65350000000001 48.1075,70.65350000000001 Q 48.4825,70.65350000000001 48.7925,70.7865 Q 49.1025,70.91850000000001 49.2905,71.18650000000001 Q 49.4775,71.4535 49.4775,71.8435 Q 49.4775,72.21350000000001 49.2875,72.4835 Q 49.0975,72.7535 48.7825,72.8935 Q 48.4675,73.0335 48.1075,73.0335 Q 47.7475,73.0335 47.4325,72.8935 Q 47.1175,72.7535 46.9225,72.4835 Q 46.7275,72.21350000000001 46.7275,71.8435 M 46.9125,71.8485 Q 46.9125,72.18350000000001 47.2225,72.36850000000001 Q 47.5325,72.5535 48.1075,72.5535 Q 48.6825,72.5535 48.9875,72.36850000000001 Q 49.2925,72.18350000000001 49.2925,71.8485 Q 49.2925,71.5035 48.9905,71.3185 Q 48.6875,71.13350000000001 48.1075,71.13350000000001 Q 47.5275,71.13350000000001 47.2205,71.3185 Q 46.9125,71.5035 46.9125,71.8485",
          "type": "path"
         },
         {
          "fillcolor": "white",
          "layer": "below",
          "line": {
           "color": "white"
          },
          "path": "M 6.4975000000000005,68.3885 Q 6.4975000000000005,68.7785 6.3075,69.04549999999999 Q 6.117500000000001,69.31349999999999 5.8025,69.4455 Q 5.487500000000001,69.57849999999999 5.117500000000001,69.57849999999999 Q 4.742500000000001,69.57849999999999 4.4325,69.4455 Q 4.1225000000000005,69.31349999999999 3.9345,69.04549999999999 Q 3.7475,68.7785 3.7475,68.3885 Q 3.7475,68.01849999999999 3.9375,67.74849999999999 Q 4.1274999999999995,67.4785 4.4425,67.3385 Q 4.7575,67.1985 5.1175,67.1985 Q 5.4775,67.1985 5.7924999999999995,67.3385 Q 6.1075,67.4785 6.3025,67.74849999999999 Q 6.4975000000000005,68.01849999999999 6.4975000000000005,68.3885 M 6.3125,68.3835 Q 6.3125,68.04849999999999 6.0024999999999995,67.86349999999999 Q 5.6925,67.6785 5.1175,67.6785 Q 4.5425,67.6785 4.2375,67.86349999999999 Q 3.9325,68.04849999999999 3.9325,68.3835 Q 3.9325,68.7285 4.234500000000001,68.9135 Q 4.5375000000000005,69.0985 5.117500000000001,69.0985 Q 5.6975,69.0985 6.0045,68.9135 Q 6.3125,68.7285 6.3125,68.3835",
          "type": "path"
         },
         {
          "fillcolor": "white",
          "layer": "below",
          "line": {
           "color": "white"
          },
          "path": "M 47.9975,78.1285 L 47.9975,77.9435 Q 47.9975,77.9085 47.9675,77.8885 Q 47.9375,77.8685 47.8975,77.8685 Q 47.8525,77.8685 47.8205,77.8885 Q 47.7875,77.9085 47.7825,77.9435 L 47.7825,78.1285 Q 47.7625,78.3235 47.6075,78.44149999999999 Q 47.4525,78.5585 47.2325,78.5585 Q 46.9925,78.5585 46.8655,78.4235 Q 46.7375,78.2885 46.7375,78.10849999999999 Q 46.7375,77.93849999999999 46.8355,77.81649999999999 Q 46.9325,77.6935 47.1025,77.6935 Q 47.2125,77.6935 47.2505,77.73649999999999 Q 47.2875,77.7785 47.2955,77.8185 Q 47.3025,77.85849999999999 47.3075,77.85849999999999 Q 47.3425,77.85849999999999 47.3925,77.7915 Q 47.4425,77.7235 47.4425,77.6285 Q 47.4425,77.46849999999999 47.3425,77.3785 Q 47.2425,77.2885 47.0875,77.2885 Q 46.8425,77.2885 46.7075,77.5185 Q 46.5725,77.74849999999999 46.5725,78.1135 Q 46.5725,78.5035 46.7425,78.7585 Q 46.9125,79.0135 47.2325,79.0135 Q 47.4425,79.0135 47.6225,78.8665 Q 47.8025,78.71849999999999 47.8775,78.4435 L 47.8975,78.4435 Q 47.9275,78.7235 48.0755,78.9285 Q 48.2225,79.1335 48.5425,79.1335 Q 48.9475,79.1335 49.1405,78.8385 Q 49.3325,78.5435 49.3325,78.0985 Q 49.3325,77.73349999999999 49.1905,77.4815 Q 49.0475,77.2285 48.7725,77.2285 Q 48.6275,77.2285 48.5225,77.3185 Q 48.4175,77.4085 48.4175,77.5685 Q 48.4175,77.6635 48.4675,77.7315 Q 48.5175,77.79849999999999 48.5525,77.79849999999999 Q 48.5575,77.79849999999999 48.5905,77.7535 Q 48.6225,77.7085 48.6775,77.6715 Q 48.7325,77.6335 48.8175,77.6335 Q 48.9725,77.6335 49.0605,77.7665 Q 49.1475,77.8985 49.1475,78.1135 Q 49.1475,78.6485 48.5525,78.6485 Q 48.3075,78.6485 48.1605,78.5185 Q 48.0125,78.3885 47.9975,78.1285",
          "type": "path"
         },
         {
          "fillcolor": "white",
          "layer": "below",
          "line": {
           "color": "white"
          },
          "path": "M 4.9075,81.9335 L 4.9075,82.1185 Q 4.9075,82.1535 4.9375,82.1735 Q 4.9675,82.1935 5.0075,82.1935 Q 5.0525,82.1935 5.0845,82.1735 Q 5.1175,82.1535 5.1225000000000005,82.1185 L 5.1225000000000005,81.9335 Q 5.1425,81.7385 5.297499999999999,81.62049999999999 Q 5.4525,81.5035 5.672499999999999,81.5035 Q 5.9125,81.5035 6.0395,81.6385 Q 6.1675,81.7735 6.1675,81.9535 Q 6.1675,82.1235 6.0695,82.24549999999999 Q 5.9725,82.3685 5.8025,82.3685 Q 5.6925,82.3685 5.6545000000000005,82.3255 Q 5.617500000000001,82.2835 5.609500000000001,82.2435 Q 5.6025,82.2035 5.5975,82.2035 Q 5.5625,82.2035 5.5125,82.2705 Q 5.4625,82.3385 5.4625,82.4335 Q 5.4625,82.5935 5.5625,82.6835 Q 5.6625000000000005,82.7735 5.8175,82.7735 Q 6.0625,82.7735 6.1975,82.5435 Q 6.3325,82.3135 6.3325,81.9485 Q 6.3325,81.5585 6.1625,81.3035 Q 5.9925,81.0485 5.672499999999999,81.0485 Q 5.4625,81.0485 5.2825,81.1955 Q 5.1025,81.3435 5.0275,81.6185 L 5.0075,81.6185 Q 4.9775,81.3385 4.8294999999999995,81.1335 Q 4.6825,80.9285 4.3625,80.9285 Q 3.9574999999999996,80.9285 3.7645,81.2235 Q 3.5725,81.5185 3.5725,81.9635 Q 3.5725,82.3285 3.7145,82.5805 Q 3.8575000000000004,82.8335 4.1325,82.8335 Q 4.2775,82.8335 4.3825,82.7435 Q 4.4875,82.6535 4.4875,82.4935 Q 4.4875,82.3985 4.4375,82.3305 Q 4.3875,82.2635 4.3525,82.2635 Q 4.3475,82.2635 4.3145,82.3085 Q 4.2825,82.3535 4.2275,82.3905 Q 4.1725,82.4285 4.0875,82.4285 Q 3.9325,82.4285 3.8445,82.2955 Q 3.7575,82.1635 3.7575,81.9485 Q 3.7575,81.4135 4.3525,81.4135 Q 4.5975,81.4135 4.7445,81.5435 Q 4.8925,81.6735 4.9075,81.9335",
          "type": "path"
         },
         {
          "fillcolor": "white",
          "layer": "below",
          "line": {
           "color": "white"
          },
          "path": "M 46.5825,82.0185 Q 46.5825,81.6285 46.7725,81.3615 Q 46.9625,81.0935 47.2775,80.9615 Q 47.5925,80.8285 47.9625,80.8285 Q 48.3375,80.8285 48.6475,80.9615 Q 48.9575,81.0935 49.1455,81.3615 Q 49.3325,81.6285 49.3325,82.0185 Q 49.3325,82.38850000000001 49.1425,82.6585 Q 48.9525,82.9285 48.6375,83.0685 Q 48.3225,83.2085 47.9625,83.2085 Q 47.6025,83.2085 47.2875,83.0685 Q 46.9725,82.9285 46.7775,82.6585 Q 46.5825,82.38850000000001 46.5825,82.0185 M 46.7675,82.02350000000001 Q 46.7675,82.3585 47.0775,82.54350000000001 Q 47.3875,82.72850000000001 47.9625,82.72850000000001 Q 48.5375,82.72850000000001 48.8425,82.54350000000001 Q 49.1475,82.3585 49.1475,82.02350000000001 Q 49.1475,81.6785 48.8455,81.49350000000001 Q 48.5425,81.30850000000001 47.9625,81.30850000000001 Q 47.3825,81.30850000000001 47.0755,81.49350000000001 Q 46.7675,81.6785 46.7675,82.02350000000001",
          "type": "path"
         },
         {
          "fillcolor": "white",
          "layer": "below",
          "line": {
           "color": "white"
          },
          "path": "M 6.3225,78.2435 Q 6.3225,78.6335 6.1325,78.9005 Q 5.9425,79.1685 5.6275,79.3005 Q 5.3125,79.4335 4.9425,79.4335 Q 4.5675,79.4335 4.2575,79.3005 Q 3.9475000000000002,79.1685 3.7595,78.9005 Q 3.5725,78.6335 3.5725,78.2435 Q 3.5725,77.87349999999999 3.7624999999999997,77.6035 Q 3.9524999999999997,77.3335 4.2675,77.1935 Q 4.5825,77.0535 4.9425,77.0535 Q 5.3025,77.0535 5.6175,77.1935 Q 5.9325,77.3335 6.1274999999999995,77.6035 Q 6.3225,77.87349999999999 6.3225,78.2435 M 6.137499999999999,78.23849999999999 Q 6.137499999999999,77.9035 5.8275,77.71849999999999 Q 5.5175,77.53349999999999 4.9425,77.53349999999999 Q 4.3675,77.53349999999999 4.0625,77.71849999999999 Q 3.7575,77.9035 3.7575,78.23849999999999 Q 3.7575,78.5835 4.0595,78.76849999999999 Q 4.3625,78.95349999999999 4.9425,78.95349999999999 Q 5.5225,78.95349999999999 5.8294999999999995,78.76849999999999 Q 6.137499999999999,78.5835 6.137499999999999,78.23849999999999",
          "type": "path"
         },
         {
          "fillcolor": "white",
          "layer": "below",
          "line": {
           "color": "white"
          },
          "path": "M 48.9595,87.55749999999999 L 48.9845,87.55749999999999 L 48.9845,88.8975 A 0.449,0.449 270.0 0,0 49.0125,89.0795 Q 49.039500000000004,89.1375 49.1595,89.1375 Q 49.3395,89.1375 49.3395,88.96249999999999 L 49.3395,87.2875 Q 49.3395,87.1125 49.1595,87.1125 Q 49.0545,87.11749999999999 48.9895,87.1695 Q 48.9245,87.2225 48.8445,87.3425 Q 48.5795,87.7375 48.4075,87.9545 Q 48.2345,88.1725 47.9695,88.3475 Q 47.7045,88.5225 47.3745,88.5225 Q 47.1345,88.5225 47.0025,88.3945 Q 46.8695,88.2675 46.8695,88.0375 Q 46.8695,87.8425 46.9675,87.7145 Q 47.0645,87.58749999999999 47.2345,87.58749999999999 Q 47.3195,87.58749999999999 47.3775,87.6275 Q 47.4345,87.6675 47.4695,87.70949999999999 Q 47.5045,87.7525 47.5095,87.7525 Q 47.5445,87.7525 47.5945,87.6845 Q 47.6445,87.61749999999999 47.6445,87.5225 Q 47.6445,87.36749999999999 47.5475,87.2745 Q 47.4495,87.18249999999999 47.2995,87.18249999999999 Q 47.0995,87.18249999999999 46.9595,87.3175 Q 46.8195,87.4525 46.7545,87.6595 Q 46.6895,87.86749999999999 46.6895,88.0825 Q 46.6895,88.4575 46.8745,88.7295 Q 47.0595,89.0025 47.4395,89.0025 Q 47.7145,89.0025 47.9395,88.85249999999999 Q 48.1645,88.7025 48.3225,88.4945 Q 48.4795,88.2875 48.6945,87.9525 Q 48.8595,87.6875 48.9595,87.55749999999999",
          "type": "path"
         },
         {
          "fillcolor": "white",
          "layer": "below",
          "line": {
           "color": "white"
          },
          "path": "M 4.0695,92.3925 L 4.0445,92.3925 L 4.0445,91.0525 A 0.449,0.449 450.0 0,0 4.0165,90.8705 Q 3.9894999999999996,90.8125 3.8694999999999995,90.8125 Q 3.6895,90.8125 3.6895,90.9875 L 3.6895000000000002,92.6625 Q 3.6895000000000002,92.8375 3.8695,92.8375 Q 3.9745,92.8325 4.0395,92.7805 Q 4.1045,92.7275 4.1845,92.6075 Q 4.4495000000000005,92.2125 4.6215,91.9955 Q 4.7945,91.7775 5.0595,91.6025 Q 5.3245000000000005,91.4275 5.6545,91.4275 Q 5.8945,91.4275 6.0264999999999995,91.5555 Q 6.1594999999999995,91.6825 6.1594999999999995,91.9125 Q 6.1594999999999995,92.1075 6.0615,92.2355 Q 5.9645,92.3625 5.7945,92.3625 Q 5.7095,92.3625 5.6515,92.3225 Q 5.5945,92.2825 5.5595,92.2405 Q 5.5245,92.1975 5.519500000000001,92.1975 Q 5.4845,92.1975 5.4345,92.2655 Q 5.3845,92.3325 5.3845,92.4275 Q 5.3845,92.5825 5.4815000000000005,92.6755 Q 5.5795,92.7675 5.7295,92.7675 Q 5.9295,92.7675 6.0695,92.6325 Q 6.2095,92.4975 6.2745,92.2905 Q 6.3395,92.0825 6.3395,91.8675 Q 6.3395,91.4925 6.1545,91.2205 Q 5.9695,90.9475 5.589499999999999,90.9475 Q 5.3145,90.9475 5.089499999999999,91.0975 Q 4.8645,91.2475 4.7065,91.4555 Q 4.5495,91.6625 4.3345,91.9975 Q 4.1695,92.2625 4.0695,92.3925",
          "type": "path"
         },
         {
          "fillcolor": "white",
          "layer": "below",
          "line": {
           "color": "white"
          },
          "path": "M 46.5885,91.90050000000001 Q 46.5885,91.51050000000001 46.7785,91.24350000000001 Q 46.9685,90.97550000000001 47.2835,90.8435 Q 47.5985,90.71050000000001 47.9685,90.71050000000001 Q 48.3435,90.71050000000001 48.6535,90.8435 Q 48.963499999999996,90.97550000000001 49.1515,91.24350000000001 Q 49.338499999999996,91.51050000000001 49.338499999999996,91.90050000000001 Q 49.338499999999996,92.2705 49.1485,92.54050000000001 Q 48.9585,92.8105 48.6435,92.9505 Q 48.3285,93.0905 47.9685,93.0905 Q 47.6085,93.0905 47.2935,92.9505 Q 46.9785,92.8105 46.7835,92.54050000000001 Q 46.5885,92.27050000000001 46.5885,91.90050000000001 M 46.7735,91.9055 Q 46.7735,92.24050000000001 47.0835,92.4255 Q 47.3935,92.6105 47.9685,92.6105 Q 48.5435,92.6105 48.8485,92.4255 Q 49.1535,92.24050000000001 49.1535,91.9055 Q 49.1535,91.5605 48.8515,91.3755 Q 48.5485,91.1905 47.9685,91.1905 Q 47.3885,91.1905 47.0815,91.3755 Q 46.7735,91.5605 46.7735,91.9055",
          "type": "path"
         },
         {
          "fillcolor": "white",
          "layer": "below",
          "line": {
           "color": "white"
          },
          "path": "M 6.4405,88.2495 Q 6.4405,88.6395 6.2505,88.9065 Q 6.0605,89.1745 5.7455,89.3065 Q 5.4305,89.4395 5.0605,89.4395 Q 4.6855,89.4395 4.375500000000001,89.3065 Q 4.0655,89.1745 3.8775,88.9065 Q 3.6905,88.6395 3.6905,88.2495 Q 3.6905,87.8795 3.8804999999999996,87.6095 Q 4.0705,87.3395 4.3854999999999995,87.1995 Q 4.7005,87.0595 5.060499999999999,87.0595 Q 5.4205,87.0595 5.7355,87.1995 Q 6.0504999999999995,87.33949999999999 6.2455,87.6095 Q 6.4405,87.8795 6.4405,88.2495 M 6.2555,88.24449999999999 Q 6.2555,87.9095 5.945499999999999,87.72449999999999 Q 5.6355,87.53949999999999 5.060499999999999,87.53949999999999 Q 4.4855,87.53949999999999 4.1805,87.72449999999999 Q 3.8754999999999997,87.9095 3.8754999999999997,88.24449999999999 Q 3.8754999999999997,88.5895 4.1775,88.77449999999999 Q 4.4805,88.95949999999999 5.0605,88.95949999999999 Q 5.6405,88.95949999999999 5.9475,88.77449999999999 Q 6.2555,88.58949999999999 6.2555,88.24449999999999",
          "type": "path"
         },
         {
          "fillcolor": "white",
          "layer": "below",
          "line": {
           "color": "white"
          },
          "path": "M 48.59382380757938,97.92917619242061 L 47.553823807579384,97.92917619242061 A 3.257,3.257 270.0 0,1 47.48482380757938,97.93017619242062 A 1.126,1.126 270.0 0,1 47.21682380757938,97.90717619242062 Q 47.11382380757938,97.87917619242062 47.08382380757938,97.80917619242062 Q 47.053823807579384,97.73917619242062 47.053823807579384,97.57917619242062 L 47.053823807579384,97.33417619242061 A 0.095,0.095 270.0 0,0 46.93382380757938,97.24417619242061 Q 46.858823807579384,97.24917619242062 46.84182380757938,97.27417619242061 Q 46.82382380757938,97.29917619242062 46.82382380757938,97.33717619242061 L 46.82382380757938,97.38917619242062 Q 46.82382380757938,97.59917619242061 46.75682380757938,97.79917619242062 Q 46.68882380757938,97.99917619242062 46.59382380757938,98.23417619242062 Q 46.58382380757938,98.26417619242062 46.58382380757938,98.28417619242062 Q 46.58382380757938,98.36417619242062 46.69882380757938,98.36417619242062 L 48.59382380757938,98.36417619242062 Q 48.81382380757938,98.36417619242062 48.90882380757938,98.41717619242061 Q 49.00382380757938,98.46917619242062 49.02882380757938,98.58217619242062 Q 49.053823807579384,98.69417619242061 49.053823807579384,98.94417619242061 L 49.053823807579384,98.99417619242061 Q 49.053823807579384,99.03417619242062 49.07382380757938,99.05217619242062 Q 49.09382380757938,99.06917619242061 49.15382380757938,99.07417619242062 Q 49.27382380757938,99.07417619242062 49.27382380757938,98.98417619242062 Q 49.25882380757938,98.62417619242062 49.25882380757938,98.14417619242062 Q 49.25882380757938,97.66917619242062 49.27382380757938,97.30917619242062 A 0.095,0.095 270.0 0,0 49.15382380757938,97.21917619242062 Q 49.09382380757938,97.22417619242061 49.07382380757938,97.24217619242062 Q 49.053823807579384,97.25917619242061 49.053823807579384,97.29917619242062 Q 49.053823807579384,97.57917619242062 49.03182380757938,97.69717619242061 Q 49.00882380757938,97.81417619242062 48.913823807579384,97.87217619242061 Q 48.81882380757938,97.92917619242061 48.59382380757938,97.92917619242061 L 48.59382380757938,97.92917619242061",
          "type": "path"
         },
         {
          "fillcolor": "white",
          "layer": "below",
          "line": {
           "color": "white"
          },
          "path": "M 4.2638238075793815,102.06082380757938 L 5.3038238075793815,102.06082380757938 A 3.257,3.257 450.0 0,1 5.3728238075793815,102.05982380757938 A 1.126,1.126 450.0 0,1 5.640823807579381,102.08282380757939 Q 5.743823807579382,102.11082380757938 5.773823807579381,102.18082380757939 Q 5.803823807579381,102.25082380757938 5.803823807579381,102.41082380757938 L 5.803823807579381,102.65582380757938 A 0.095,0.095 450.0 0,0 5.923823807579382,102.74582380757938 Q 5.998823807579381,102.74082380757937 6.015823807579381,102.71582380757938 Q 6.033823807579381,102.69082380757938 6.033823807579381,102.65282380757938 L 6.033823807579381,102.60082380757939 Q 6.033823807579381,102.39082380757938 6.100823807579381,102.19082380757938 Q 6.168823807579381,101.99082380757937 6.2638238075793815,101.75582380757938 Q 6.273823807579381,101.72582380757937 6.273823807579381,101.70582380757938 Q 6.273823807579381,101.62582380757938 6.158823807579381,101.62582380757938 L 4.2638238075793815,101.62582380757938 Q 4.043823807579381,101.62582380757938 3.948823807579381,101.57282380757938 Q 3.8538238075793814,101.52082380757938 3.8288238075793815,101.40782380757938 Q 3.803823807579381,101.29582380757938 3.8038238075793807,101.04582380757938 L 3.8038238075793807,100.99582380757938 Q 3.8038238075793807,100.95582380757938 3.7838238075793806,100.93782380757938 Q 3.763823807579381,100.92082380757938 3.703823807579381,100.91582380757939 Q 3.583823807579381,100.91582380757939 3.583823807579381,101.00582380757938 Q 3.5988238075793815,101.36582380757937 3.5988238075793815,101.84582380757938 Q 3.5988238075793815,102.32082380757939 3.5838238075793813,102.68082380757939 A 0.095,0.095 450.0 0,0 3.7038238075793815,102.77082380757938 Q 3.7638238075793815,102.76582380757938 3.783823807579381,102.74782380757938 Q 3.803823807579381,102.73082380757938 3.803823807579381,102.69082380757938 Q 3.803823807579381,102.41082380757938 3.8258238075793813,102.29282380757938 Q 3.8488238075793815,102.17582380757938 3.9438238075793812,102.11782380757938 Q 4.038823807579381,102.06082380757938 4.2638238075793815,102.06082380757938 L 4.2638238075793815,102.06082380757938",
          "type": "path"
         },
         {
          "fillcolor": "white",
          "layer": "below",
          "line": {
           "color": "white"
          },
          "path": "M 46.52282380757938,102.00617619242063 Q 46.52282380757938,101.61617619242062 46.71282380757938,101.34917619242063 Q 46.90282380757938,101.08117619242063 47.21782380757938,100.94917619242062 Q 47.53282380757938,100.81617619242063 47.90282380757938,100.81617619242063 Q 48.27782380757938,100.81617619242063 48.58782380757938,100.94917619242062 Q 48.89782380757938,101.08117619242063 49.08582380757938,101.34917619242063 Q 49.27282380757938,101.61617619242062 49.27282380757938,102.00617619242063 Q 49.27282380757938,102.37617619242063 49.08282380757938,102.64617619242063 Q 48.89282380757938,102.91617619242062 48.57782380757938,103.05617619242062 Q 48.26282380757938,103.19617619242062 47.90282380757938,103.19617619242062 Q 47.54282380757938,103.19617619242062 47.227823807579384,103.05617619242062 Q 46.91282380757938,102.91617619242062 46.71782380757938,102.64617619242063 Q 46.52282380757938,102.37617619242063 46.52282380757938,102.00617619242063 M 46.70782380757938,102.01117619242062 Q 46.70782380757938,102.34617619242063 47.01782380757938,102.53117619242063 Q 47.32782380757938,102.71617619242062 47.90282380757938,102.71617619242062 Q 48.477823807579384,102.71617619242062 48.78282380757938,102.53117619242063 Q 49.08782380757938,102.34617619242063 49.08782380757938,102.01117619242062 Q 49.08782380757938,101.66617619242062 48.78582380757938,101.48117619242062 Q 48.48282380757938,101.29617619242063 47.90282380757938,101.29617619242063 Q 47.32282380757938,101.29617619242063 47.01582380757938,101.48117619242062 Q 46.70782380757938,101.66617619242062 46.70782380757938,102.01117619242062",
          "type": "path"
         },
         {
          "fillcolor": "white",
          "layer": "below",
          "line": {
           "color": "white"
          },
          "path": "M 6.334823807579381,98.18382380757937 Q 6.334823807579381,98.57382380757937 6.144823807579382,98.84082380757937 Q 5.954823807579381,99.10882380757937 5.639823807579381,99.24082380757937 Q 5.3248238075793815,99.37382380757937 4.954823807579381,99.37382380757937 Q 4.579823807579381,99.37382380757937 4.269823807579382,99.24082380757937 Q 3.9598238075793812,99.10882380757937 3.771823807579381,98.84082380757937 Q 3.5848238075793812,98.57382380757937 3.5848238075793812,98.18382380757937 Q 3.584823807579381,97.81382380757938 3.774823807579381,97.54382380757937 Q 3.964823807579381,97.27382380757938 4.279823807579381,97.13382380757938 Q 4.594823807579381,96.99382380757937 4.954823807579381,96.99382380757937 Q 5.314823807579381,96.99382380757937 5.629823807579381,97.13382380757938 Q 5.944823807579381,97.27382380757938 6.139823807579381,97.54382380757937 Q 6.334823807579381,97.81382380757938 6.334823807579381,98.18382380757937 M 6.149823807579381,98.17882380757938 Q 6.149823807579381,97.84382380757937 5.839823807579381,97.65882380757938 Q 5.5298238075793815,97.47382380757938 4.954823807579381,97.47382380757938 Q 4.379823807579381,97.47382380757938 4.0748238075793815,97.65882380757938 Q 3.7698238075793813,97.84382380757937 3.7698238075793813,98.17882380757938 Q 3.7698238075793813,98.52382380757938 4.071823807579381,98.70882380757938 Q 4.374823807579381,98.89382380757938 4.954823807579381,98.89382380757938 Q 5.534823807579381,98.89382380757938 5.841823807579381,98.70882380757938 Q 6.149823807579381,98.52382380757938 6.149823807579381,98.17882380757938",
          "type": "path"
         },
         {
          "fillcolor": "white",
          "layer": "below",
          "line": {
           "color": "white"
          },
          "path": "M 5.4,16.5 L 5.2,15.700000000000001 L 5.0,16.5 L 5.4,16.5",
          "type": "path"
         },
         {
          "fillcolor": "white",
          "layer": "below",
          "line": {
           "color": "white"
          },
          "path": "M 5.4,26.5 L 5.2,25.700000000000003 L 5.0,26.5 L 5.4,26.5",
          "type": "path"
         },
         {
          "fillcolor": "white",
          "layer": "below",
          "line": {
           "color": "white"
          },
          "path": "M 5.4,36.5 L 5.2,35.7 L 5.0,36.5 L 5.4,36.5",
          "type": "path"
         },
         {
          "fillcolor": "white",
          "layer": "below",
          "line": {
           "color": "white"
          },
          "path": "M 5.4,46.5 L 5.2,45.7 L 5.0,46.5 L 5.4,46.5",
          "type": "path"
         },
         {
          "fillcolor": "white",
          "layer": "below",
          "line": {
           "color": "white"
          },
          "path": "M 5.0,73.39999999999999 L 5.2,74.2 L 5.4,73.39999999999999 L 5.0,73.39999999999999",
          "type": "path"
         },
         {
          "fillcolor": "white",
          "layer": "below",
          "line": {
           "color": "white"
          },
          "path": "M 5.0,83.39999999999999 L 5.2,84.2 L 5.4,83.39999999999999 L 5.0,83.39999999999999",
          "type": "path"
         },
         {
          "fillcolor": "white",
          "layer": "below",
          "line": {
           "color": "white"
          },
          "path": "M 5.0,93.39999999999999 L 5.2,94.2 L 5.4,93.39999999999999 L 5.0,93.39999999999999",
          "type": "path"
         },
         {
          "fillcolor": "white",
          "layer": "below",
          "line": {
           "color": "white"
          },
          "path": "M 5.0,103.39999999999999 L 5.2,104.2 L 5.4,103.39999999999999 L 5.0,103.39999999999999",
          "type": "path"
         },
         {
          "fillcolor": "white",
          "layer": "below",
          "line": {
           "color": "white"
          },
          "path": "M 47.9,103.5 L 48.1,104.30000000000001 L 48.300000000000004,103.5 L 47.9,103.5",
          "type": "path"
         },
         {
          "fillcolor": "white",
          "layer": "below",
          "line": {
           "color": "white"
          },
          "path": "M 47.9,93.5 L 48.1,94.30000000000001 L 48.300000000000004,93.5 L 47.9,93.5",
          "type": "path"
         },
         {
          "fillcolor": "white",
          "layer": "below",
          "line": {
           "color": "white"
          },
          "path": "M 47.9,83.5 L 48.1,84.30000000000001 L 48.300000000000004,83.5 L 47.9,83.5",
          "type": "path"
         },
         {
          "fillcolor": "white",
          "layer": "below",
          "line": {
           "color": "white"
          },
          "path": "M 47.9,73.5 L 48.1,74.30000000000001 L 48.300000000000004,73.5 L 47.9,73.5",
          "type": "path"
         },
         {
          "fillcolor": "white",
          "layer": "below",
          "line": {
           "color": "white"
          },
          "path": "M 48.300000000000004,46.6 L 48.1,45.800000000000004 L 47.9,46.6 L 48.300000000000004,46.6",
          "type": "path"
         },
         {
          "fillcolor": "white",
          "layer": "below",
          "line": {
           "color": "white"
          },
          "path": "M 48.300000000000004,36.6 L 48.1,35.800000000000004 L 47.9,36.6 L 48.300000000000004,36.6",
          "type": "path"
         },
         {
          "fillcolor": "white",
          "layer": "below",
          "line": {
           "color": "white"
          },
          "path": "M 48.300000000000004,26.6 L 48.1,25.800000000000004 L 47.9,26.6 L 48.300000000000004,26.6",
          "type": "path"
         },
         {
          "fillcolor": "white",
          "layer": "below",
          "line": {
           "color": "white"
          },
          "path": "M 48.300000000000004,16.6 L 48.1,15.800000000000002 L 47.9,16.6 L 48.300000000000004,16.6",
          "type": "path"
         }
        ],
        "template": {
         "data": {
          "bar": [
           {
            "error_x": {
             "color": "#2a3f5f"
            },
            "error_y": {
             "color": "#2a3f5f"
            },
            "marker": {
             "line": {
              "color": "#E5ECF6",
              "width": 0.5
             }
            },
            "type": "bar"
           }
          ],
          "barpolar": [
           {
            "marker": {
             "line": {
              "color": "#E5ECF6",
              "width": 0.5
             }
            },
            "type": "barpolar"
           }
          ],
          "carpet": [
           {
            "aaxis": {
             "endlinecolor": "#2a3f5f",
             "gridcolor": "white",
             "linecolor": "white",
             "minorgridcolor": "white",
             "startlinecolor": "#2a3f5f"
            },
            "baxis": {
             "endlinecolor": "#2a3f5f",
             "gridcolor": "white",
             "linecolor": "white",
             "minorgridcolor": "white",
             "startlinecolor": "#2a3f5f"
            },
            "type": "carpet"
           }
          ],
          "choropleth": [
           {
            "colorbar": {
             "outlinewidth": 0,
             "ticks": ""
            },
            "type": "choropleth"
           }
          ],
          "contour": [
           {
            "colorbar": {
             "outlinewidth": 0,
             "ticks": ""
            },
            "colorscale": [
             [
              0,
              "#0d0887"
             ],
             [
              0.1111111111111111,
              "#46039f"
             ],
             [
              0.2222222222222222,
              "#7201a8"
             ],
             [
              0.3333333333333333,
              "#9c179e"
             ],
             [
              0.4444444444444444,
              "#bd3786"
             ],
             [
              0.5555555555555556,
              "#d8576b"
             ],
             [
              0.6666666666666666,
              "#ed7953"
             ],
             [
              0.7777777777777778,
              "#fb9f3a"
             ],
             [
              0.8888888888888888,
              "#fdca26"
             ],
             [
              1,
              "#f0f921"
             ]
            ],
            "type": "contour"
           }
          ],
          "contourcarpet": [
           {
            "colorbar": {
             "outlinewidth": 0,
             "ticks": ""
            },
            "type": "contourcarpet"
           }
          ],
          "heatmap": [
           {
            "colorbar": {
             "outlinewidth": 0,
             "ticks": ""
            },
            "colorscale": [
             [
              0,
              "#0d0887"
             ],
             [
              0.1111111111111111,
              "#46039f"
             ],
             [
              0.2222222222222222,
              "#7201a8"
             ],
             [
              0.3333333333333333,
              "#9c179e"
             ],
             [
              0.4444444444444444,
              "#bd3786"
             ],
             [
              0.5555555555555556,
              "#d8576b"
             ],
             [
              0.6666666666666666,
              "#ed7953"
             ],
             [
              0.7777777777777778,
              "#fb9f3a"
             ],
             [
              0.8888888888888888,
              "#fdca26"
             ],
             [
              1,
              "#f0f921"
             ]
            ],
            "type": "heatmap"
           }
          ],
          "heatmapgl": [
           {
            "colorbar": {
             "outlinewidth": 0,
             "ticks": ""
            },
            "colorscale": [
             [
              0,
              "#0d0887"
             ],
             [
              0.1111111111111111,
              "#46039f"
             ],
             [
              0.2222222222222222,
              "#7201a8"
             ],
             [
              0.3333333333333333,
              "#9c179e"
             ],
             [
              0.4444444444444444,
              "#bd3786"
             ],
             [
              0.5555555555555556,
              "#d8576b"
             ],
             [
              0.6666666666666666,
              "#ed7953"
             ],
             [
              0.7777777777777778,
              "#fb9f3a"
             ],
             [
              0.8888888888888888,
              "#fdca26"
             ],
             [
              1,
              "#f0f921"
             ]
            ],
            "type": "heatmapgl"
           }
          ],
          "histogram": [
           {
            "marker": {
             "colorbar": {
              "outlinewidth": 0,
              "ticks": ""
             }
            },
            "type": "histogram"
           }
          ],
          "histogram2d": [
           {
            "colorbar": {
             "outlinewidth": 0,
             "ticks": ""
            },
            "colorscale": [
             [
              0,
              "#0d0887"
             ],
             [
              0.1111111111111111,
              "#46039f"
             ],
             [
              0.2222222222222222,
              "#7201a8"
             ],
             [
              0.3333333333333333,
              "#9c179e"
             ],
             [
              0.4444444444444444,
              "#bd3786"
             ],
             [
              0.5555555555555556,
              "#d8576b"
             ],
             [
              0.6666666666666666,
              "#ed7953"
             ],
             [
              0.7777777777777778,
              "#fb9f3a"
             ],
             [
              0.8888888888888888,
              "#fdca26"
             ],
             [
              1,
              "#f0f921"
             ]
            ],
            "type": "histogram2d"
           }
          ],
          "histogram2dcontour": [
           {
            "colorbar": {
             "outlinewidth": 0,
             "ticks": ""
            },
            "colorscale": [
             [
              0,
              "#0d0887"
             ],
             [
              0.1111111111111111,
              "#46039f"
             ],
             [
              0.2222222222222222,
              "#7201a8"
             ],
             [
              0.3333333333333333,
              "#9c179e"
             ],
             [
              0.4444444444444444,
              "#bd3786"
             ],
             [
              0.5555555555555556,
              "#d8576b"
             ],
             [
              0.6666666666666666,
              "#ed7953"
             ],
             [
              0.7777777777777778,
              "#fb9f3a"
             ],
             [
              0.8888888888888888,
              "#fdca26"
             ],
             [
              1,
              "#f0f921"
             ]
            ],
            "type": "histogram2dcontour"
           }
          ],
          "mesh3d": [
           {
            "colorbar": {
             "outlinewidth": 0,
             "ticks": ""
            },
            "type": "mesh3d"
           }
          ],
          "parcoords": [
           {
            "line": {
             "colorbar": {
              "outlinewidth": 0,
              "ticks": ""
             }
            },
            "type": "parcoords"
           }
          ],
          "pie": [
           {
            "automargin": true,
            "type": "pie"
           }
          ],
          "scatter": [
           {
            "marker": {
             "colorbar": {
              "outlinewidth": 0,
              "ticks": ""
             }
            },
            "type": "scatter"
           }
          ],
          "scatter3d": [
           {
            "line": {
             "colorbar": {
              "outlinewidth": 0,
              "ticks": ""
             }
            },
            "marker": {
             "colorbar": {
              "outlinewidth": 0,
              "ticks": ""
             }
            },
            "type": "scatter3d"
           }
          ],
          "scattercarpet": [
           {
            "marker": {
             "colorbar": {
              "outlinewidth": 0,
              "ticks": ""
             }
            },
            "type": "scattercarpet"
           }
          ],
          "scattergeo": [
           {
            "marker": {
             "colorbar": {
              "outlinewidth": 0,
              "ticks": ""
             }
            },
            "type": "scattergeo"
           }
          ],
          "scattergl": [
           {
            "marker": {
             "colorbar": {
              "outlinewidth": 0,
              "ticks": ""
             }
            },
            "type": "scattergl"
           }
          ],
          "scattermapbox": [
           {
            "marker": {
             "colorbar": {
              "outlinewidth": 0,
              "ticks": ""
             }
            },
            "type": "scattermapbox"
           }
          ],
          "scatterpolar": [
           {
            "marker": {
             "colorbar": {
              "outlinewidth": 0,
              "ticks": ""
             }
            },
            "type": "scatterpolar"
           }
          ],
          "scatterpolargl": [
           {
            "marker": {
             "colorbar": {
              "outlinewidth": 0,
              "ticks": ""
             }
            },
            "type": "scatterpolargl"
           }
          ],
          "scatterternary": [
           {
            "marker": {
             "colorbar": {
              "outlinewidth": 0,
              "ticks": ""
             }
            },
            "type": "scatterternary"
           }
          ],
          "surface": [
           {
            "colorbar": {
             "outlinewidth": 0,
             "ticks": ""
            },
            "colorscale": [
             [
              0,
              "#0d0887"
             ],
             [
              0.1111111111111111,
              "#46039f"
             ],
             [
              0.2222222222222222,
              "#7201a8"
             ],
             [
              0.3333333333333333,
              "#9c179e"
             ],
             [
              0.4444444444444444,
              "#bd3786"
             ],
             [
              0.5555555555555556,
              "#d8576b"
             ],
             [
              0.6666666666666666,
              "#ed7953"
             ],
             [
              0.7777777777777778,
              "#fb9f3a"
             ],
             [
              0.8888888888888888,
              "#fdca26"
             ],
             [
              1,
              "#f0f921"
             ]
            ],
            "type": "surface"
           }
          ],
          "table": [
           {
            "cells": {
             "fill": {
              "color": "#EBF0F8"
             },
             "line": {
              "color": "white"
             }
            },
            "header": {
             "fill": {
              "color": "#C8D4E3"
             },
             "line": {
              "color": "white"
             }
            },
            "type": "table"
           }
          ]
         },
         "layout": {
          "annotationdefaults": {
           "arrowcolor": "#2a3f5f",
           "arrowhead": 0,
           "arrowwidth": 1
          },
          "autotypenumbers": "strict",
          "coloraxis": {
           "colorbar": {
            "outlinewidth": 0,
            "ticks": ""
           }
          },
          "colorscale": {
           "diverging": [
            [
             0,
             "#8e0152"
            ],
            [
             0.1,
             "#c51b7d"
            ],
            [
             0.2,
             "#de77ae"
            ],
            [
             0.3,
             "#f1b6da"
            ],
            [
             0.4,
             "#fde0ef"
            ],
            [
             0.5,
             "#f7f7f7"
            ],
            [
             0.6,
             "#e6f5d0"
            ],
            [
             0.7,
             "#b8e186"
            ],
            [
             0.8,
             "#7fbc41"
            ],
            [
             0.9,
             "#4d9221"
            ],
            [
             1,
             "#276419"
            ]
           ],
           "sequential": [
            [
             0,
             "#0d0887"
            ],
            [
             0.1111111111111111,
             "#46039f"
            ],
            [
             0.2222222222222222,
             "#7201a8"
            ],
            [
             0.3333333333333333,
             "#9c179e"
            ],
            [
             0.4444444444444444,
             "#bd3786"
            ],
            [
             0.5555555555555556,
             "#d8576b"
            ],
            [
             0.6666666666666666,
             "#ed7953"
            ],
            [
             0.7777777777777778,
             "#fb9f3a"
            ],
            [
             0.8888888888888888,
             "#fdca26"
            ],
            [
             1,
             "#f0f921"
            ]
           ],
           "sequentialminus": [
            [
             0,
             "#0d0887"
            ],
            [
             0.1111111111111111,
             "#46039f"
            ],
            [
             0.2222222222222222,
             "#7201a8"
            ],
            [
             0.3333333333333333,
             "#9c179e"
            ],
            [
             0.4444444444444444,
             "#bd3786"
            ],
            [
             0.5555555555555556,
             "#d8576b"
            ],
            [
             0.6666666666666666,
             "#ed7953"
            ],
            [
             0.7777777777777778,
             "#fb9f3a"
            ],
            [
             0.8888888888888888,
             "#fdca26"
            ],
            [
             1,
             "#f0f921"
            ]
           ]
          },
          "colorway": [
           "#636efa",
           "#EF553B",
           "#00cc96",
           "#ab63fa",
           "#FFA15A",
           "#19d3f3",
           "#FF6692",
           "#B6E880",
           "#FF97FF",
           "#FECB52"
          ],
          "font": {
           "color": "#2a3f5f"
          },
          "geo": {
           "bgcolor": "white",
           "lakecolor": "white",
           "landcolor": "#E5ECF6",
           "showlakes": true,
           "showland": true,
           "subunitcolor": "white"
          },
          "hoverlabel": {
           "align": "left"
          },
          "hovermode": "closest",
          "mapbox": {
           "style": "light"
          },
          "paper_bgcolor": "white",
          "plot_bgcolor": "#E5ECF6",
          "polar": {
           "angularaxis": {
            "gridcolor": "white",
            "linecolor": "white",
            "ticks": ""
           },
           "bgcolor": "#E5ECF6",
           "radialaxis": {
            "gridcolor": "white",
            "linecolor": "white",
            "ticks": ""
           }
          },
          "scene": {
           "xaxis": {
            "backgroundcolor": "#E5ECF6",
            "gridcolor": "white",
            "gridwidth": 2,
            "linecolor": "white",
            "showbackground": true,
            "ticks": "",
            "zerolinecolor": "white"
           },
           "yaxis": {
            "backgroundcolor": "#E5ECF6",
            "gridcolor": "white",
            "gridwidth": 2,
            "linecolor": "white",
            "showbackground": true,
            "ticks": "",
            "zerolinecolor": "white"
           },
           "zaxis": {
            "backgroundcolor": "#E5ECF6",
            "gridcolor": "white",
            "gridwidth": 2,
            "linecolor": "white",
            "showbackground": true,
            "ticks": "",
            "zerolinecolor": "white"
           }
          },
          "shapedefaults": {
           "line": {
            "color": "#2a3f5f"
           }
          },
          "ternary": {
           "aaxis": {
            "gridcolor": "white",
            "linecolor": "white",
            "ticks": ""
           },
           "baxis": {
            "gridcolor": "white",
            "linecolor": "white",
            "ticks": ""
           },
           "bgcolor": "#E5ECF6",
           "caxis": {
            "gridcolor": "white",
            "linecolor": "white",
            "ticks": ""
           }
          },
          "title": {
           "x": 0.05
          },
          "xaxis": {
           "automargin": true,
           "gridcolor": "white",
           "linecolor": "white",
           "ticks": "",
           "title": {
            "standoff": 15
           },
           "zerolinecolor": "white",
           "zerolinewidth": 2
          },
          "yaxis": {
           "automargin": true,
           "gridcolor": "white",
           "linecolor": "white",
           "ticks": "",
           "title": {
            "standoff": 15
           },
           "zerolinecolor": "white",
           "zerolinewidth": 2
          }
         }
        },
        "xaxis": {
         "range": [
          -3,
          56.3
         ],
         "showgrid": false,
         "showticklabels": false,
         "zeroline": false
        },
        "yaxis": {
         "range": [
          -5,
          125
         ],
         "showgrid": false,
         "showticklabels": false,
         "zeroline": false
        }
       }
      },
      "text/html": [
       "<div>                            <div id=\"8ce82ffc-edeb-4851-9b14-f1d6ec2b54f3\" class=\"plotly-graph-div\" style=\"height:525px; width:100%;\"></div>            <script type=\"text/javascript\">                require([\"plotly\"], function(Plotly) {                    window.PLOTLYENV=window.PLOTLYENV || {};                                    if (document.getElementById(\"8ce82ffc-edeb-4851-9b14-f1d6ec2b54f3\")) {                    Plotly.newPlot(                        \"8ce82ffc-edeb-4851-9b14-f1d6ec2b54f3\",                        [],                        {\"margin\": {\"b\": 80, \"l\": 5, \"r\": 5, \"t\": 100}, \"plot_bgcolor\": \"rgb(195,217,192)\", \"shapes\": [{\"layer\": \"below\", \"line\": {\"color\": \"white\", \"width\": 5}, \"type\": \"line\", \"x0\": 0, \"x1\": 0, \"y0\": 0, \"y1\": 120}, {\"layer\": \"below\", \"line\": {\"color\": \"white\", \"width\": 5}, \"type\": \"line\", \"x0\": 53.3, \"x1\": 53.3, \"y0\": 0, \"y1\": 120}, {\"layer\": \"below\", \"line\": {\"color\": \"white\", \"width\": 5}, \"type\": \"line\", \"x0\": 0, \"x1\": 53.3, \"y0\": 0, \"y1\": 0}, {\"layer\": \"below\", \"line\": {\"color\": \"white\", \"width\": 5}, \"type\": \"line\", \"x0\": 0, \"x1\": 53.3, \"y0\": 120, \"y1\": 120}, {\"layer\": \"below\", \"line\": {\"color\": \"white\", \"width\": 2}, \"type\": \"line\", \"x0\": 0, \"x1\": 53.3, \"y0\": 10, \"y1\": 10}, {\"layer\": \"below\", \"line\": {\"color\": \"white\", \"width\": 2}, \"type\": \"line\", \"x0\": 0, \"x1\": 53.3, \"y0\": 15, \"y1\": 15}, {\"layer\": \"below\", \"line\": {\"color\": \"white\", \"width\": 2}, \"type\": \"line\", \"x0\": 0, \"x1\": 53.3, \"y0\": 20, \"y1\": 20}, {\"layer\": \"below\", \"line\": {\"color\": \"white\", \"width\": 2}, \"type\": \"line\", \"x0\": 0, \"x1\": 53.3, \"y0\": 25, \"y1\": 25}, {\"layer\": \"below\", \"line\": {\"color\": \"white\", \"width\": 2}, \"type\": \"line\", \"x0\": 0, \"x1\": 53.3, \"y0\": 30, \"y1\": 30}, {\"layer\": \"below\", \"line\": {\"color\": \"white\", \"width\": 2}, \"type\": \"line\", \"x0\": 0, \"x1\": 53.3, \"y0\": 35, \"y1\": 35}, {\"layer\": \"below\", \"line\": {\"color\": \"white\", \"width\": 2}, \"type\": \"line\", \"x0\": 0, \"x1\": 53.3, \"y0\": 40, \"y1\": 40}, {\"layer\": \"below\", \"line\": {\"color\": \"white\", \"width\": 2}, \"type\": \"line\", \"x0\": 0, \"x1\": 53.3, \"y0\": 45, \"y1\": 45}, {\"layer\": \"below\", \"line\": {\"color\": \"white\", \"width\": 2}, \"type\": \"line\", \"x0\": 0, \"x1\": 53.3, \"y0\": 50, \"y1\": 50}, {\"layer\": \"below\", \"line\": {\"color\": \"white\", \"width\": 2}, \"type\": \"line\", \"x0\": 0, \"x1\": 53.3, \"y0\": 55, \"y1\": 55}, {\"layer\": \"below\", \"line\": {\"color\": \"white\", \"width\": 2}, \"type\": \"line\", \"x0\": 0, \"x1\": 53.3, \"y0\": 60, \"y1\": 60}, {\"layer\": \"below\", \"line\": {\"color\": \"white\", \"width\": 2}, \"type\": \"line\", \"x0\": 0, \"x1\": 53.3, \"y0\": 65, \"y1\": 65}, {\"layer\": \"below\", \"line\": {\"color\": \"white\", \"width\": 2}, \"type\": \"line\", \"x0\": 0, \"x1\": 53.3, \"y0\": 70, \"y1\": 70}, {\"layer\": \"below\", \"line\": {\"color\": \"white\", \"width\": 2}, \"type\": \"line\", \"x0\": 0, \"x1\": 53.3, \"y0\": 75, \"y1\": 75}, {\"layer\": \"below\", \"line\": {\"color\": \"white\", \"width\": 2}, \"type\": \"line\", \"x0\": 0, \"x1\": 53.3, \"y0\": 80, \"y1\": 80}, {\"layer\": \"below\", \"line\": {\"color\": \"white\", \"width\": 2}, \"type\": \"line\", \"x0\": 0, \"x1\": 53.3, \"y0\": 85, \"y1\": 85}, {\"layer\": \"below\", \"line\": {\"color\": \"white\", \"width\": 2}, \"type\": \"line\", \"x0\": 0, \"x1\": 53.3, \"y0\": 90, \"y1\": 90}, {\"layer\": \"below\", \"line\": {\"color\": \"white\", \"width\": 2}, \"type\": \"line\", \"x0\": 0, \"x1\": 53.3, \"y0\": 95, \"y1\": 95}, {\"layer\": \"below\", \"line\": {\"color\": \"white\", \"width\": 2}, \"type\": \"line\", \"x0\": 0, \"x1\": 53.3, \"y0\": 100, \"y1\": 100}, {\"layer\": \"below\", \"line\": {\"color\": \"white\", \"width\": 2}, \"type\": \"line\", \"x0\": 0, \"x1\": 53.3, \"y0\": 105, \"y1\": 105}, {\"layer\": \"below\", \"line\": {\"color\": \"white\", \"width\": 2}, \"type\": \"line\", \"x0\": 0, \"x1\": 53.3, \"y0\": 110, \"y1\": 110}, {\"layer\": \"below\", \"line\": {\"color\": \"white\", \"width\": 2}, \"type\": \"line\", \"x0\": 1, \"x1\": 1.6666666666666665, \"y0\": 11, \"y1\": 11}, {\"layer\": \"below\", \"line\": {\"color\": \"white\", \"width\": 2}, \"type\": \"line\", \"x0\": 23.58333, \"x1\": 24.249996666666668, \"y0\": 11, \"y1\": 11}, {\"layer\": \"below\", \"line\": {\"color\": \"white\", \"width\": 2}, \"type\": \"line\", \"x0\": 29.08333, \"x1\": 29.749996666666668, \"y0\": 11, \"y1\": 11}, {\"layer\": \"below\", \"line\": {\"color\": \"white\", \"width\": 2}, \"type\": \"line\", \"x0\": 51.63333333333333, \"x1\": 52.3, \"y0\": 11, \"y1\": 11}, {\"layer\": \"below\", \"line\": {\"color\": \"white\", \"width\": 2}, \"type\": \"line\", \"x0\": 1, \"x1\": 1.6666666666666665, \"y0\": 12, \"y1\": 12}, {\"layer\": \"below\", \"line\": {\"color\": \"white\", \"width\": 2}, \"type\": \"line\", \"x0\": 23.58333, \"x1\": 24.249996666666668, \"y0\": 12, \"y1\": 12}, {\"layer\": \"below\", \"line\": {\"color\": \"white\", \"width\": 2}, \"type\": \"line\", \"x0\": 29.08333, \"x1\": 29.749996666666668, \"y0\": 12, \"y1\": 12}, {\"layer\": \"below\", \"line\": {\"color\": \"white\", \"width\": 2}, \"type\": \"line\", \"x0\": 51.63333333333333, \"x1\": 52.3, \"y0\": 12, \"y1\": 12}, {\"layer\": \"below\", \"line\": {\"color\": \"white\", \"width\": 2}, \"type\": \"line\", \"x0\": 1, \"x1\": 1.6666666666666665, \"y0\": 13, \"y1\": 13}, {\"layer\": \"below\", \"line\": {\"color\": \"white\", \"width\": 2}, \"type\": \"line\", \"x0\": 23.58333, \"x1\": 24.249996666666668, \"y0\": 13, \"y1\": 13}, {\"layer\": \"below\", \"line\": {\"color\": \"white\", \"width\": 2}, \"type\": \"line\", \"x0\": 29.08333, \"x1\": 29.749996666666668, \"y0\": 13, \"y1\": 13}, {\"layer\": \"below\", \"line\": {\"color\": \"white\", \"width\": 2}, \"type\": \"line\", \"x0\": 51.63333333333333, \"x1\": 52.3, \"y0\": 13, \"y1\": 13}, {\"layer\": \"below\", \"line\": {\"color\": \"white\", \"width\": 2}, \"type\": \"line\", \"x0\": 1, \"x1\": 1.6666666666666665, \"y0\": 14, \"y1\": 14}, {\"layer\": \"below\", \"line\": {\"color\": \"white\", \"width\": 2}, \"type\": \"line\", \"x0\": 23.58333, \"x1\": 24.249996666666668, \"y0\": 14, \"y1\": 14}, {\"layer\": \"below\", \"line\": {\"color\": \"white\", \"width\": 2}, \"type\": \"line\", \"x0\": 29.08333, \"x1\": 29.749996666666668, \"y0\": 14, \"y1\": 14}, {\"layer\": \"below\", \"line\": {\"color\": \"white\", \"width\": 2}, \"type\": \"line\", \"x0\": 51.63333333333333, \"x1\": 52.3, \"y0\": 14, \"y1\": 14}, {\"layer\": \"below\", \"line\": {\"color\": \"white\", \"width\": 2}, \"type\": \"line\", \"x0\": 1, \"x1\": 1.6666666666666665, \"y0\": 15, \"y1\": 15}, {\"layer\": \"below\", \"line\": {\"color\": \"white\", \"width\": 2}, \"type\": \"line\", \"x0\": 23.58333, \"x1\": 24.249996666666668, \"y0\": 15, \"y1\": 15}, {\"layer\": \"below\", \"line\": {\"color\": \"white\", \"width\": 2}, \"type\": \"line\", \"x0\": 29.08333, \"x1\": 29.749996666666668, \"y0\": 15, \"y1\": 15}, {\"layer\": \"below\", \"line\": {\"color\": \"white\", \"width\": 2}, \"type\": \"line\", \"x0\": 51.63333333333333, \"x1\": 52.3, \"y0\": 15, \"y1\": 15}, {\"layer\": \"below\", \"line\": {\"color\": \"white\", \"width\": 2}, \"type\": \"line\", \"x0\": 1, \"x1\": 1.6666666666666665, \"y0\": 16, \"y1\": 16}, {\"layer\": \"below\", \"line\": {\"color\": \"white\", \"width\": 2}, \"type\": \"line\", \"x0\": 23.58333, \"x1\": 24.249996666666668, \"y0\": 16, \"y1\": 16}, {\"layer\": \"below\", \"line\": {\"color\": \"white\", \"width\": 2}, \"type\": \"line\", \"x0\": 29.08333, \"x1\": 29.749996666666668, \"y0\": 16, \"y1\": 16}, {\"layer\": \"below\", \"line\": {\"color\": \"white\", \"width\": 2}, \"type\": \"line\", \"x0\": 51.63333333333333, \"x1\": 52.3, \"y0\": 16, \"y1\": 16}, {\"layer\": \"below\", \"line\": {\"color\": \"white\", \"width\": 2}, \"type\": \"line\", \"x0\": 1, \"x1\": 1.6666666666666665, \"y0\": 17, \"y1\": 17}, {\"layer\": \"below\", \"line\": {\"color\": \"white\", \"width\": 2}, \"type\": \"line\", \"x0\": 23.58333, \"x1\": 24.249996666666668, \"y0\": 17, \"y1\": 17}, {\"layer\": \"below\", \"line\": {\"color\": \"white\", \"width\": 2}, \"type\": \"line\", \"x0\": 29.08333, \"x1\": 29.749996666666668, \"y0\": 17, \"y1\": 17}, {\"layer\": \"below\", \"line\": {\"color\": \"white\", \"width\": 2}, \"type\": \"line\", \"x0\": 51.63333333333333, \"x1\": 52.3, \"y0\": 17, \"y1\": 17}, {\"layer\": \"below\", \"line\": {\"color\": \"white\", \"width\": 2}, \"type\": \"line\", \"x0\": 1, \"x1\": 1.6666666666666665, \"y0\": 18, \"y1\": 18}, {\"layer\": \"below\", \"line\": {\"color\": \"white\", \"width\": 2}, \"type\": \"line\", \"x0\": 23.58333, \"x1\": 24.249996666666668, \"y0\": 18, \"y1\": 18}, {\"layer\": \"below\", \"line\": {\"color\": \"white\", \"width\": 2}, \"type\": \"line\", \"x0\": 29.08333, \"x1\": 29.749996666666668, \"y0\": 18, \"y1\": 18}, {\"layer\": \"below\", \"line\": {\"color\": \"white\", \"width\": 2}, \"type\": \"line\", \"x0\": 51.63333333333333, \"x1\": 52.3, \"y0\": 18, \"y1\": 18}, {\"layer\": \"below\", \"line\": {\"color\": \"white\", \"width\": 2}, \"type\": \"line\", \"x0\": 1, \"x1\": 1.6666666666666665, \"y0\": 19, \"y1\": 19}, {\"layer\": \"below\", \"line\": {\"color\": \"white\", \"width\": 2}, \"type\": \"line\", \"x0\": 23.58333, \"x1\": 24.249996666666668, \"y0\": 19, \"y1\": 19}, {\"layer\": \"below\", \"line\": {\"color\": \"white\", \"width\": 2}, \"type\": \"line\", \"x0\": 29.08333, \"x1\": 29.749996666666668, \"y0\": 19, \"y1\": 19}, {\"layer\": \"below\", \"line\": {\"color\": \"white\", \"width\": 2}, \"type\": \"line\", \"x0\": 51.63333333333333, \"x1\": 52.3, \"y0\": 19, \"y1\": 19}, {\"layer\": \"below\", \"line\": {\"color\": \"white\", \"width\": 2}, \"type\": \"line\", \"x0\": 1, \"x1\": 1.6666666666666665, \"y0\": 21, \"y1\": 21}, {\"layer\": \"below\", \"line\": {\"color\": \"white\", \"width\": 2}, \"type\": \"line\", \"x0\": 23.58333, \"x1\": 24.249996666666668, \"y0\": 21, \"y1\": 21}, {\"layer\": \"below\", \"line\": {\"color\": \"white\", \"width\": 2}, \"type\": \"line\", \"x0\": 29.08333, \"x1\": 29.749996666666668, \"y0\": 21, \"y1\": 21}, {\"layer\": \"below\", \"line\": {\"color\": \"white\", \"width\": 2}, \"type\": \"line\", \"x0\": 51.63333333333333, \"x1\": 52.3, \"y0\": 21, \"y1\": 21}, {\"layer\": \"below\", \"line\": {\"color\": \"white\", \"width\": 2}, \"type\": \"line\", \"x0\": 1, \"x1\": 1.6666666666666665, \"y0\": 22, \"y1\": 22}, {\"layer\": \"below\", \"line\": {\"color\": \"white\", \"width\": 2}, \"type\": \"line\", \"x0\": 23.58333, \"x1\": 24.249996666666668, \"y0\": 22, \"y1\": 22}, {\"layer\": \"below\", \"line\": {\"color\": \"white\", \"width\": 2}, \"type\": \"line\", \"x0\": 29.08333, \"x1\": 29.749996666666668, \"y0\": 22, \"y1\": 22}, {\"layer\": \"below\", \"line\": {\"color\": \"white\", \"width\": 2}, \"type\": \"line\", \"x0\": 51.63333333333333, \"x1\": 52.3, \"y0\": 22, \"y1\": 22}, {\"layer\": \"below\", \"line\": {\"color\": \"white\", \"width\": 2}, \"type\": \"line\", \"x0\": 1, \"x1\": 1.6666666666666665, \"y0\": 23, \"y1\": 23}, {\"layer\": \"below\", \"line\": {\"color\": \"white\", \"width\": 2}, \"type\": \"line\", \"x0\": 23.58333, \"x1\": 24.249996666666668, \"y0\": 23, \"y1\": 23}, {\"layer\": \"below\", \"line\": {\"color\": \"white\", \"width\": 2}, \"type\": \"line\", \"x0\": 29.08333, \"x1\": 29.749996666666668, \"y0\": 23, \"y1\": 23}, {\"layer\": \"below\", \"line\": {\"color\": \"white\", \"width\": 2}, \"type\": \"line\", \"x0\": 51.63333333333333, \"x1\": 52.3, \"y0\": 23, \"y1\": 23}, {\"layer\": \"below\", \"line\": {\"color\": \"white\", \"width\": 2}, \"type\": \"line\", \"x0\": 1, \"x1\": 1.6666666666666665, \"y0\": 24, \"y1\": 24}, {\"layer\": \"below\", \"line\": {\"color\": \"white\", \"width\": 2}, \"type\": \"line\", \"x0\": 23.58333, \"x1\": 24.249996666666668, \"y0\": 24, \"y1\": 24}, {\"layer\": \"below\", \"line\": {\"color\": \"white\", \"width\": 2}, \"type\": \"line\", \"x0\": 29.08333, \"x1\": 29.749996666666668, \"y0\": 24, \"y1\": 24}, {\"layer\": \"below\", \"line\": {\"color\": \"white\", \"width\": 2}, \"type\": \"line\", \"x0\": 51.63333333333333, \"x1\": 52.3, \"y0\": 24, \"y1\": 24}, {\"layer\": \"below\", \"line\": {\"color\": \"white\", \"width\": 2}, \"type\": \"line\", \"x0\": 1, \"x1\": 1.6666666666666665, \"y0\": 25, \"y1\": 25}, {\"layer\": \"below\", \"line\": {\"color\": \"white\", \"width\": 2}, \"type\": \"line\", \"x0\": 23.58333, \"x1\": 24.249996666666668, \"y0\": 25, \"y1\": 25}, {\"layer\": \"below\", \"line\": {\"color\": \"white\", \"width\": 2}, \"type\": \"line\", \"x0\": 29.08333, \"x1\": 29.749996666666668, \"y0\": 25, \"y1\": 25}, {\"layer\": \"below\", \"line\": {\"color\": \"white\", \"width\": 2}, \"type\": \"line\", \"x0\": 51.63333333333333, \"x1\": 52.3, \"y0\": 25, \"y1\": 25}, {\"layer\": \"below\", \"line\": {\"color\": \"white\", \"width\": 2}, \"type\": \"line\", \"x0\": 1, \"x1\": 1.6666666666666665, \"y0\": 26, \"y1\": 26}, {\"layer\": \"below\", \"line\": {\"color\": \"white\", \"width\": 2}, \"type\": \"line\", \"x0\": 23.58333, \"x1\": 24.249996666666668, \"y0\": 26, \"y1\": 26}, {\"layer\": \"below\", \"line\": {\"color\": \"white\", \"width\": 2}, \"type\": \"line\", \"x0\": 29.08333, \"x1\": 29.749996666666668, \"y0\": 26, \"y1\": 26}, {\"layer\": \"below\", \"line\": {\"color\": \"white\", \"width\": 2}, \"type\": \"line\", \"x0\": 51.63333333333333, \"x1\": 52.3, \"y0\": 26, \"y1\": 26}, {\"layer\": \"below\", \"line\": {\"color\": \"white\", \"width\": 2}, \"type\": \"line\", \"x0\": 1, \"x1\": 1.6666666666666665, \"y0\": 27, \"y1\": 27}, {\"layer\": \"below\", \"line\": {\"color\": \"white\", \"width\": 2}, \"type\": \"line\", \"x0\": 23.58333, \"x1\": 24.249996666666668, \"y0\": 27, \"y1\": 27}, {\"layer\": \"below\", \"line\": {\"color\": \"white\", \"width\": 2}, \"type\": \"line\", \"x0\": 29.08333, \"x1\": 29.749996666666668, \"y0\": 27, \"y1\": 27}, {\"layer\": \"below\", \"line\": {\"color\": \"white\", \"width\": 2}, \"type\": \"line\", \"x0\": 51.63333333333333, \"x1\": 52.3, \"y0\": 27, \"y1\": 27}, {\"layer\": \"below\", \"line\": {\"color\": \"white\", \"width\": 2}, \"type\": \"line\", \"x0\": 1, \"x1\": 1.6666666666666665, \"y0\": 28, \"y1\": 28}, {\"layer\": \"below\", \"line\": {\"color\": \"white\", \"width\": 2}, \"type\": \"line\", \"x0\": 23.58333, \"x1\": 24.249996666666668, \"y0\": 28, \"y1\": 28}, {\"layer\": \"below\", \"line\": {\"color\": \"white\", \"width\": 2}, \"type\": \"line\", \"x0\": 29.08333, \"x1\": 29.749996666666668, \"y0\": 28, \"y1\": 28}, {\"layer\": \"below\", \"line\": {\"color\": \"white\", \"width\": 2}, \"type\": \"line\", \"x0\": 51.63333333333333, \"x1\": 52.3, \"y0\": 28, \"y1\": 28}, {\"layer\": \"below\", \"line\": {\"color\": \"white\", \"width\": 2}, \"type\": \"line\", \"x0\": 1, \"x1\": 1.6666666666666665, \"y0\": 29, \"y1\": 29}, {\"layer\": \"below\", \"line\": {\"color\": \"white\", \"width\": 2}, \"type\": \"line\", \"x0\": 23.58333, \"x1\": 24.249996666666668, \"y0\": 29, \"y1\": 29}, {\"layer\": \"below\", \"line\": {\"color\": \"white\", \"width\": 2}, \"type\": \"line\", \"x0\": 29.08333, \"x1\": 29.749996666666668, \"y0\": 29, \"y1\": 29}, {\"layer\": \"below\", \"line\": {\"color\": \"white\", \"width\": 2}, \"type\": \"line\", \"x0\": 51.63333333333333, \"x1\": 52.3, \"y0\": 29, \"y1\": 29}, {\"layer\": \"below\", \"line\": {\"color\": \"white\", \"width\": 2}, \"type\": \"line\", \"x0\": 1, \"x1\": 1.6666666666666665, \"y0\": 31, \"y1\": 31}, {\"layer\": \"below\", \"line\": {\"color\": \"white\", \"width\": 2}, \"type\": \"line\", \"x0\": 23.58333, \"x1\": 24.249996666666668, \"y0\": 31, \"y1\": 31}, {\"layer\": \"below\", \"line\": {\"color\": \"white\", \"width\": 2}, \"type\": \"line\", \"x0\": 29.08333, \"x1\": 29.749996666666668, \"y0\": 31, \"y1\": 31}, {\"layer\": \"below\", \"line\": {\"color\": \"white\", \"width\": 2}, \"type\": \"line\", \"x0\": 51.63333333333333, \"x1\": 52.3, \"y0\": 31, \"y1\": 31}, {\"layer\": \"below\", \"line\": {\"color\": \"white\", \"width\": 2}, \"type\": \"line\", \"x0\": 1, \"x1\": 1.6666666666666665, \"y0\": 32, \"y1\": 32}, {\"layer\": \"below\", \"line\": {\"color\": \"white\", \"width\": 2}, \"type\": \"line\", \"x0\": 23.58333, \"x1\": 24.249996666666668, \"y0\": 32, \"y1\": 32}, {\"layer\": \"below\", \"line\": {\"color\": \"white\", \"width\": 2}, \"type\": \"line\", \"x0\": 29.08333, \"x1\": 29.749996666666668, \"y0\": 32, \"y1\": 32}, {\"layer\": \"below\", \"line\": {\"color\": \"white\", \"width\": 2}, \"type\": \"line\", \"x0\": 51.63333333333333, \"x1\": 52.3, \"y0\": 32, \"y1\": 32}, {\"layer\": \"below\", \"line\": {\"color\": \"white\", \"width\": 2}, \"type\": \"line\", \"x0\": 1, \"x1\": 1.6666666666666665, \"y0\": 33, \"y1\": 33}, {\"layer\": \"below\", \"line\": {\"color\": \"white\", \"width\": 2}, \"type\": \"line\", \"x0\": 23.58333, \"x1\": 24.249996666666668, \"y0\": 33, \"y1\": 33}, {\"layer\": \"below\", \"line\": {\"color\": \"white\", \"width\": 2}, \"type\": \"line\", \"x0\": 29.08333, \"x1\": 29.749996666666668, \"y0\": 33, \"y1\": 33}, {\"layer\": \"below\", \"line\": {\"color\": \"white\", \"width\": 2}, \"type\": \"line\", \"x0\": 51.63333333333333, \"x1\": 52.3, \"y0\": 33, \"y1\": 33}, {\"layer\": \"below\", \"line\": {\"color\": \"white\", \"width\": 2}, \"type\": \"line\", \"x0\": 1, \"x1\": 1.6666666666666665, \"y0\": 34, \"y1\": 34}, {\"layer\": \"below\", \"line\": {\"color\": \"white\", \"width\": 2}, \"type\": \"line\", \"x0\": 23.58333, \"x1\": 24.249996666666668, \"y0\": 34, \"y1\": 34}, {\"layer\": \"below\", \"line\": {\"color\": \"white\", \"width\": 2}, \"type\": \"line\", \"x0\": 29.08333, \"x1\": 29.749996666666668, \"y0\": 34, \"y1\": 34}, {\"layer\": \"below\", \"line\": {\"color\": \"white\", \"width\": 2}, \"type\": \"line\", \"x0\": 51.63333333333333, \"x1\": 52.3, \"y0\": 34, \"y1\": 34}, {\"layer\": \"below\", \"line\": {\"color\": \"white\", \"width\": 2}, \"type\": \"line\", \"x0\": 1, \"x1\": 1.6666666666666665, \"y0\": 35, \"y1\": 35}, {\"layer\": \"below\", \"line\": {\"color\": \"white\", \"width\": 2}, \"type\": \"line\", \"x0\": 23.58333, \"x1\": 24.249996666666668, \"y0\": 35, \"y1\": 35}, {\"layer\": \"below\", \"line\": {\"color\": \"white\", \"width\": 2}, \"type\": \"line\", \"x0\": 29.08333, \"x1\": 29.749996666666668, \"y0\": 35, \"y1\": 35}, {\"layer\": \"below\", \"line\": {\"color\": \"white\", \"width\": 2}, \"type\": \"line\", \"x0\": 51.63333333333333, \"x1\": 52.3, \"y0\": 35, \"y1\": 35}, {\"layer\": \"below\", \"line\": {\"color\": \"white\", \"width\": 2}, \"type\": \"line\", \"x0\": 1, \"x1\": 1.6666666666666665, \"y0\": 36, \"y1\": 36}, {\"layer\": \"below\", \"line\": {\"color\": \"white\", \"width\": 2}, \"type\": \"line\", \"x0\": 23.58333, \"x1\": 24.249996666666668, \"y0\": 36, \"y1\": 36}, {\"layer\": \"below\", \"line\": {\"color\": \"white\", \"width\": 2}, \"type\": \"line\", \"x0\": 29.08333, \"x1\": 29.749996666666668, \"y0\": 36, \"y1\": 36}, {\"layer\": \"below\", \"line\": {\"color\": \"white\", \"width\": 2}, \"type\": \"line\", \"x0\": 51.63333333333333, \"x1\": 52.3, \"y0\": 36, \"y1\": 36}, {\"layer\": \"below\", \"line\": {\"color\": \"white\", \"width\": 2}, \"type\": \"line\", \"x0\": 1, \"x1\": 1.6666666666666665, \"y0\": 37, \"y1\": 37}, {\"layer\": \"below\", \"line\": {\"color\": \"white\", \"width\": 2}, \"type\": \"line\", \"x0\": 23.58333, \"x1\": 24.249996666666668, \"y0\": 37, \"y1\": 37}, {\"layer\": \"below\", \"line\": {\"color\": \"white\", \"width\": 2}, \"type\": \"line\", \"x0\": 29.08333, \"x1\": 29.749996666666668, \"y0\": 37, \"y1\": 37}, {\"layer\": \"below\", \"line\": {\"color\": \"white\", \"width\": 2}, \"type\": \"line\", \"x0\": 51.63333333333333, \"x1\": 52.3, \"y0\": 37, \"y1\": 37}, {\"layer\": \"below\", \"line\": {\"color\": \"white\", \"width\": 2}, \"type\": \"line\", \"x0\": 1, \"x1\": 1.6666666666666665, \"y0\": 38, \"y1\": 38}, {\"layer\": \"below\", \"line\": {\"color\": \"white\", \"width\": 2}, \"type\": \"line\", \"x0\": 23.58333, \"x1\": 24.249996666666668, \"y0\": 38, \"y1\": 38}, {\"layer\": \"below\", \"line\": {\"color\": \"white\", \"width\": 2}, \"type\": \"line\", \"x0\": 29.08333, \"x1\": 29.749996666666668, \"y0\": 38, \"y1\": 38}, {\"layer\": \"below\", \"line\": {\"color\": \"white\", \"width\": 2}, \"type\": \"line\", \"x0\": 51.63333333333333, \"x1\": 52.3, \"y0\": 38, \"y1\": 38}, {\"layer\": \"below\", \"line\": {\"color\": \"white\", \"width\": 2}, \"type\": \"line\", \"x0\": 1, \"x1\": 1.6666666666666665, \"y0\": 39, \"y1\": 39}, {\"layer\": \"below\", \"line\": {\"color\": \"white\", \"width\": 2}, \"type\": \"line\", \"x0\": 23.58333, \"x1\": 24.249996666666668, \"y0\": 39, \"y1\": 39}, {\"layer\": \"below\", \"line\": {\"color\": \"white\", \"width\": 2}, \"type\": \"line\", \"x0\": 29.08333, \"x1\": 29.749996666666668, \"y0\": 39, \"y1\": 39}, {\"layer\": \"below\", \"line\": {\"color\": \"white\", \"width\": 2}, \"type\": \"line\", \"x0\": 51.63333333333333, \"x1\": 52.3, \"y0\": 39, \"y1\": 39}, {\"layer\": \"below\", \"line\": {\"color\": \"white\", \"width\": 2}, \"type\": \"line\", \"x0\": 1, \"x1\": 1.6666666666666665, \"y0\": 41, \"y1\": 41}, {\"layer\": \"below\", \"line\": {\"color\": \"white\", \"width\": 2}, \"type\": \"line\", \"x0\": 23.58333, \"x1\": 24.249996666666668, \"y0\": 41, \"y1\": 41}, {\"layer\": \"below\", \"line\": {\"color\": \"white\", \"width\": 2}, \"type\": \"line\", \"x0\": 29.08333, \"x1\": 29.749996666666668, \"y0\": 41, \"y1\": 41}, {\"layer\": \"below\", \"line\": {\"color\": \"white\", \"width\": 2}, \"type\": \"line\", \"x0\": 51.63333333333333, \"x1\": 52.3, \"y0\": 41, \"y1\": 41}, {\"layer\": \"below\", \"line\": {\"color\": \"white\", \"width\": 2}, \"type\": \"line\", \"x0\": 1, \"x1\": 1.6666666666666665, \"y0\": 42, \"y1\": 42}, {\"layer\": \"below\", \"line\": {\"color\": \"white\", \"width\": 2}, \"type\": \"line\", \"x0\": 23.58333, \"x1\": 24.249996666666668, \"y0\": 42, \"y1\": 42}, {\"layer\": \"below\", \"line\": {\"color\": \"white\", \"width\": 2}, \"type\": \"line\", \"x0\": 29.08333, \"x1\": 29.749996666666668, \"y0\": 42, \"y1\": 42}, {\"layer\": \"below\", \"line\": {\"color\": \"white\", \"width\": 2}, \"type\": \"line\", \"x0\": 51.63333333333333, \"x1\": 52.3, \"y0\": 42, \"y1\": 42}, {\"layer\": \"below\", \"line\": {\"color\": \"white\", \"width\": 2}, \"type\": \"line\", \"x0\": 1, \"x1\": 1.6666666666666665, \"y0\": 43, \"y1\": 43}, {\"layer\": \"below\", \"line\": {\"color\": \"white\", \"width\": 2}, \"type\": \"line\", \"x0\": 23.58333, \"x1\": 24.249996666666668, \"y0\": 43, \"y1\": 43}, {\"layer\": \"below\", \"line\": {\"color\": \"white\", \"width\": 2}, \"type\": \"line\", \"x0\": 29.08333, \"x1\": 29.749996666666668, \"y0\": 43, \"y1\": 43}, {\"layer\": \"below\", \"line\": {\"color\": \"white\", \"width\": 2}, \"type\": \"line\", \"x0\": 51.63333333333333, \"x1\": 52.3, \"y0\": 43, \"y1\": 43}, {\"layer\": \"below\", \"line\": {\"color\": \"white\", \"width\": 2}, \"type\": \"line\", \"x0\": 1, \"x1\": 1.6666666666666665, \"y0\": 44, \"y1\": 44}, {\"layer\": \"below\", \"line\": {\"color\": \"white\", \"width\": 2}, \"type\": \"line\", \"x0\": 23.58333, \"x1\": 24.249996666666668, \"y0\": 44, \"y1\": 44}, {\"layer\": \"below\", \"line\": {\"color\": \"white\", \"width\": 2}, \"type\": \"line\", \"x0\": 29.08333, \"x1\": 29.749996666666668, \"y0\": 44, \"y1\": 44}, {\"layer\": \"below\", \"line\": {\"color\": \"white\", \"width\": 2}, \"type\": \"line\", \"x0\": 51.63333333333333, \"x1\": 52.3, \"y0\": 44, \"y1\": 44}, {\"layer\": \"below\", \"line\": {\"color\": \"white\", \"width\": 2}, \"type\": \"line\", \"x0\": 1, \"x1\": 1.6666666666666665, \"y0\": 45, \"y1\": 45}, {\"layer\": \"below\", \"line\": {\"color\": \"white\", \"width\": 2}, \"type\": \"line\", \"x0\": 23.58333, \"x1\": 24.249996666666668, \"y0\": 45, \"y1\": 45}, {\"layer\": \"below\", \"line\": {\"color\": \"white\", \"width\": 2}, \"type\": \"line\", \"x0\": 29.08333, \"x1\": 29.749996666666668, \"y0\": 45, \"y1\": 45}, {\"layer\": \"below\", \"line\": {\"color\": \"white\", \"width\": 2}, \"type\": \"line\", \"x0\": 51.63333333333333, \"x1\": 52.3, \"y0\": 45, \"y1\": 45}, {\"layer\": \"below\", \"line\": {\"color\": \"white\", \"width\": 2}, \"type\": \"line\", \"x0\": 1, \"x1\": 1.6666666666666665, \"y0\": 46, \"y1\": 46}, {\"layer\": \"below\", \"line\": {\"color\": \"white\", \"width\": 2}, \"type\": \"line\", \"x0\": 23.58333, \"x1\": 24.249996666666668, \"y0\": 46, \"y1\": 46}, {\"layer\": \"below\", \"line\": {\"color\": \"white\", \"width\": 2}, \"type\": \"line\", \"x0\": 29.08333, \"x1\": 29.749996666666668, \"y0\": 46, \"y1\": 46}, {\"layer\": \"below\", \"line\": {\"color\": \"white\", \"width\": 2}, \"type\": \"line\", \"x0\": 51.63333333333333, \"x1\": 52.3, \"y0\": 46, \"y1\": 46}, {\"layer\": \"below\", \"line\": {\"color\": \"white\", \"width\": 2}, \"type\": \"line\", \"x0\": 1, \"x1\": 1.6666666666666665, \"y0\": 47, \"y1\": 47}, {\"layer\": \"below\", \"line\": {\"color\": \"white\", \"width\": 2}, \"type\": \"line\", \"x0\": 23.58333, \"x1\": 24.249996666666668, \"y0\": 47, \"y1\": 47}, {\"layer\": \"below\", \"line\": {\"color\": \"white\", \"width\": 2}, \"type\": \"line\", \"x0\": 29.08333, \"x1\": 29.749996666666668, \"y0\": 47, \"y1\": 47}, {\"layer\": \"below\", \"line\": {\"color\": \"white\", \"width\": 2}, \"type\": \"line\", \"x0\": 51.63333333333333, \"x1\": 52.3, \"y0\": 47, \"y1\": 47}, {\"layer\": \"below\", \"line\": {\"color\": \"white\", \"width\": 2}, \"type\": \"line\", \"x0\": 1, \"x1\": 1.6666666666666665, \"y0\": 48, \"y1\": 48}, {\"layer\": \"below\", \"line\": {\"color\": \"white\", \"width\": 2}, \"type\": \"line\", \"x0\": 23.58333, \"x1\": 24.249996666666668, \"y0\": 48, \"y1\": 48}, {\"layer\": \"below\", \"line\": {\"color\": \"white\", \"width\": 2}, \"type\": \"line\", \"x0\": 29.08333, \"x1\": 29.749996666666668, \"y0\": 48, \"y1\": 48}, {\"layer\": \"below\", \"line\": {\"color\": \"white\", \"width\": 2}, \"type\": \"line\", \"x0\": 51.63333333333333, \"x1\": 52.3, \"y0\": 48, \"y1\": 48}, {\"layer\": \"below\", \"line\": {\"color\": \"white\", \"width\": 2}, \"type\": \"line\", \"x0\": 1, \"x1\": 1.6666666666666665, \"y0\": 49, \"y1\": 49}, {\"layer\": \"below\", \"line\": {\"color\": \"white\", \"width\": 2}, \"type\": \"line\", \"x0\": 23.58333, \"x1\": 24.249996666666668, \"y0\": 49, \"y1\": 49}, {\"layer\": \"below\", \"line\": {\"color\": \"white\", \"width\": 2}, \"type\": \"line\", \"x0\": 29.08333, \"x1\": 29.749996666666668, \"y0\": 49, \"y1\": 49}, {\"layer\": \"below\", \"line\": {\"color\": \"white\", \"width\": 2}, \"type\": \"line\", \"x0\": 51.63333333333333, \"x1\": 52.3, \"y0\": 49, \"y1\": 49}, {\"layer\": \"below\", \"line\": {\"color\": \"white\", \"width\": 2}, \"type\": \"line\", \"x0\": 1, \"x1\": 1.6666666666666665, \"y0\": 51, \"y1\": 51}, {\"layer\": \"below\", \"line\": {\"color\": \"white\", \"width\": 2}, \"type\": \"line\", \"x0\": 23.58333, \"x1\": 24.249996666666668, \"y0\": 51, \"y1\": 51}, {\"layer\": \"below\", \"line\": {\"color\": \"white\", \"width\": 2}, \"type\": \"line\", \"x0\": 29.08333, \"x1\": 29.749996666666668, \"y0\": 51, \"y1\": 51}, {\"layer\": \"below\", \"line\": {\"color\": \"white\", \"width\": 2}, \"type\": \"line\", \"x0\": 51.63333333333333, \"x1\": 52.3, \"y0\": 51, \"y1\": 51}, {\"layer\": \"below\", \"line\": {\"color\": \"white\", \"width\": 2}, \"type\": \"line\", \"x0\": 1, \"x1\": 1.6666666666666665, \"y0\": 52, \"y1\": 52}, {\"layer\": \"below\", \"line\": {\"color\": \"white\", \"width\": 2}, \"type\": \"line\", \"x0\": 23.58333, \"x1\": 24.249996666666668, \"y0\": 52, \"y1\": 52}, {\"layer\": \"below\", \"line\": {\"color\": \"white\", \"width\": 2}, \"type\": \"line\", \"x0\": 29.08333, \"x1\": 29.749996666666668, \"y0\": 52, \"y1\": 52}, {\"layer\": \"below\", \"line\": {\"color\": \"white\", \"width\": 2}, \"type\": \"line\", \"x0\": 51.63333333333333, \"x1\": 52.3, \"y0\": 52, \"y1\": 52}, {\"layer\": \"below\", \"line\": {\"color\": \"white\", \"width\": 2}, \"type\": \"line\", \"x0\": 1, \"x1\": 1.6666666666666665, \"y0\": 53, \"y1\": 53}, {\"layer\": \"below\", \"line\": {\"color\": \"white\", \"width\": 2}, \"type\": \"line\", \"x0\": 23.58333, \"x1\": 24.249996666666668, \"y0\": 53, \"y1\": 53}, {\"layer\": \"below\", \"line\": {\"color\": \"white\", \"width\": 2}, \"type\": \"line\", \"x0\": 29.08333, \"x1\": 29.749996666666668, \"y0\": 53, \"y1\": 53}, {\"layer\": \"below\", \"line\": {\"color\": \"white\", \"width\": 2}, \"type\": \"line\", \"x0\": 51.63333333333333, \"x1\": 52.3, \"y0\": 53, \"y1\": 53}, {\"layer\": \"below\", \"line\": {\"color\": \"white\", \"width\": 2}, \"type\": \"line\", \"x0\": 1, \"x1\": 1.6666666666666665, \"y0\": 54, \"y1\": 54}, {\"layer\": \"below\", \"line\": {\"color\": \"white\", \"width\": 2}, \"type\": \"line\", \"x0\": 23.58333, \"x1\": 24.249996666666668, \"y0\": 54, \"y1\": 54}, {\"layer\": \"below\", \"line\": {\"color\": \"white\", \"width\": 2}, \"type\": \"line\", \"x0\": 29.08333, \"x1\": 29.749996666666668, \"y0\": 54, \"y1\": 54}, {\"layer\": \"below\", \"line\": {\"color\": \"white\", \"width\": 2}, \"type\": \"line\", \"x0\": 51.63333333333333, \"x1\": 52.3, \"y0\": 54, \"y1\": 54}, {\"layer\": \"below\", \"line\": {\"color\": \"white\", \"width\": 2}, \"type\": \"line\", \"x0\": 1, \"x1\": 1.6666666666666665, \"y0\": 55, \"y1\": 55}, {\"layer\": \"below\", \"line\": {\"color\": \"white\", \"width\": 2}, \"type\": \"line\", \"x0\": 23.58333, \"x1\": 24.249996666666668, \"y0\": 55, \"y1\": 55}, {\"layer\": \"below\", \"line\": {\"color\": \"white\", \"width\": 2}, \"type\": \"line\", \"x0\": 29.08333, \"x1\": 29.749996666666668, \"y0\": 55, \"y1\": 55}, {\"layer\": \"below\", \"line\": {\"color\": \"white\", \"width\": 2}, \"type\": \"line\", \"x0\": 51.63333333333333, \"x1\": 52.3, \"y0\": 55, \"y1\": 55}, {\"layer\": \"below\", \"line\": {\"color\": \"white\", \"width\": 2}, \"type\": \"line\", \"x0\": 1, \"x1\": 1.6666666666666665, \"y0\": 56, \"y1\": 56}, {\"layer\": \"below\", \"line\": {\"color\": \"white\", \"width\": 2}, \"type\": \"line\", \"x0\": 23.58333, \"x1\": 24.249996666666668, \"y0\": 56, \"y1\": 56}, {\"layer\": \"below\", \"line\": {\"color\": \"white\", \"width\": 2}, \"type\": \"line\", \"x0\": 29.08333, \"x1\": 29.749996666666668, \"y0\": 56, \"y1\": 56}, {\"layer\": \"below\", \"line\": {\"color\": \"white\", \"width\": 2}, \"type\": \"line\", \"x0\": 51.63333333333333, \"x1\": 52.3, \"y0\": 56, \"y1\": 56}, {\"layer\": \"below\", \"line\": {\"color\": \"white\", \"width\": 2}, \"type\": \"line\", \"x0\": 1, \"x1\": 1.6666666666666665, \"y0\": 57, \"y1\": 57}, {\"layer\": \"below\", \"line\": {\"color\": \"white\", \"width\": 2}, \"type\": \"line\", \"x0\": 23.58333, \"x1\": 24.249996666666668, \"y0\": 57, \"y1\": 57}, {\"layer\": \"below\", \"line\": {\"color\": \"white\", \"width\": 2}, \"type\": \"line\", \"x0\": 29.08333, \"x1\": 29.749996666666668, \"y0\": 57, \"y1\": 57}, {\"layer\": \"below\", \"line\": {\"color\": \"white\", \"width\": 2}, \"type\": \"line\", \"x0\": 51.63333333333333, \"x1\": 52.3, \"y0\": 57, \"y1\": 57}, {\"layer\": \"below\", \"line\": {\"color\": \"white\", \"width\": 2}, \"type\": \"line\", \"x0\": 1, \"x1\": 1.6666666666666665, \"y0\": 58, \"y1\": 58}, {\"layer\": \"below\", \"line\": {\"color\": \"white\", \"width\": 2}, \"type\": \"line\", \"x0\": 23.58333, \"x1\": 24.249996666666668, \"y0\": 58, \"y1\": 58}, {\"layer\": \"below\", \"line\": {\"color\": \"white\", \"width\": 2}, \"type\": \"line\", \"x0\": 29.08333, \"x1\": 29.749996666666668, \"y0\": 58, \"y1\": 58}, {\"layer\": \"below\", \"line\": {\"color\": \"white\", \"width\": 2}, \"type\": \"line\", \"x0\": 51.63333333333333, \"x1\": 52.3, \"y0\": 58, \"y1\": 58}, {\"layer\": \"below\", \"line\": {\"color\": \"white\", \"width\": 2}, \"type\": \"line\", \"x0\": 1, \"x1\": 1.6666666666666665, \"y0\": 59, \"y1\": 59}, {\"layer\": \"below\", \"line\": {\"color\": \"white\", \"width\": 2}, \"type\": \"line\", \"x0\": 23.58333, \"x1\": 24.249996666666668, \"y0\": 59, \"y1\": 59}, {\"layer\": \"below\", \"line\": {\"color\": \"white\", \"width\": 2}, \"type\": \"line\", \"x0\": 29.08333, \"x1\": 29.749996666666668, \"y0\": 59, \"y1\": 59}, {\"layer\": \"below\", \"line\": {\"color\": \"white\", \"width\": 2}, \"type\": \"line\", \"x0\": 51.63333333333333, \"x1\": 52.3, \"y0\": 59, \"y1\": 59}, {\"layer\": \"below\", \"line\": {\"color\": \"white\", \"width\": 2}, \"type\": \"line\", \"x0\": 1, \"x1\": 1.6666666666666665, \"y0\": 61, \"y1\": 61}, {\"layer\": \"below\", \"line\": {\"color\": \"white\", \"width\": 2}, \"type\": \"line\", \"x0\": 23.58333, \"x1\": 24.249996666666668, \"y0\": 61, \"y1\": 61}, {\"layer\": \"below\", \"line\": {\"color\": \"white\", \"width\": 2}, \"type\": \"line\", \"x0\": 29.08333, \"x1\": 29.749996666666668, \"y0\": 61, \"y1\": 61}, {\"layer\": \"below\", \"line\": {\"color\": \"white\", \"width\": 2}, \"type\": \"line\", \"x0\": 51.63333333333333, \"x1\": 52.3, \"y0\": 61, \"y1\": 61}, {\"layer\": \"below\", \"line\": {\"color\": \"white\", \"width\": 2}, \"type\": \"line\", \"x0\": 1, \"x1\": 1.6666666666666665, \"y0\": 62, \"y1\": 62}, {\"layer\": \"below\", \"line\": {\"color\": \"white\", \"width\": 2}, \"type\": \"line\", \"x0\": 23.58333, \"x1\": 24.249996666666668, \"y0\": 62, \"y1\": 62}, {\"layer\": \"below\", \"line\": {\"color\": \"white\", \"width\": 2}, \"type\": \"line\", \"x0\": 29.08333, \"x1\": 29.749996666666668, \"y0\": 62, \"y1\": 62}, {\"layer\": \"below\", \"line\": {\"color\": \"white\", \"width\": 2}, \"type\": \"line\", \"x0\": 51.63333333333333, \"x1\": 52.3, \"y0\": 62, \"y1\": 62}, {\"layer\": \"below\", \"line\": {\"color\": \"white\", \"width\": 2}, \"type\": \"line\", \"x0\": 1, \"x1\": 1.6666666666666665, \"y0\": 63, \"y1\": 63}, {\"layer\": \"below\", \"line\": {\"color\": \"white\", \"width\": 2}, \"type\": \"line\", \"x0\": 23.58333, \"x1\": 24.249996666666668, \"y0\": 63, \"y1\": 63}, {\"layer\": \"below\", \"line\": {\"color\": \"white\", \"width\": 2}, \"type\": \"line\", \"x0\": 29.08333, \"x1\": 29.749996666666668, \"y0\": 63, \"y1\": 63}, {\"layer\": \"below\", \"line\": {\"color\": \"white\", \"width\": 2}, \"type\": \"line\", \"x0\": 51.63333333333333, \"x1\": 52.3, \"y0\": 63, \"y1\": 63}, {\"layer\": \"below\", \"line\": {\"color\": \"white\", \"width\": 2}, \"type\": \"line\", \"x0\": 1, \"x1\": 1.6666666666666665, \"y0\": 64, \"y1\": 64}, {\"layer\": \"below\", \"line\": {\"color\": \"white\", \"width\": 2}, \"type\": \"line\", \"x0\": 23.58333, \"x1\": 24.249996666666668, \"y0\": 64, \"y1\": 64}, {\"layer\": \"below\", \"line\": {\"color\": \"white\", \"width\": 2}, \"type\": \"line\", \"x0\": 29.08333, \"x1\": 29.749996666666668, \"y0\": 64, \"y1\": 64}, {\"layer\": \"below\", \"line\": {\"color\": \"white\", \"width\": 2}, \"type\": \"line\", \"x0\": 51.63333333333333, \"x1\": 52.3, \"y0\": 64, \"y1\": 64}, {\"layer\": \"below\", \"line\": {\"color\": \"white\", \"width\": 2}, \"type\": \"line\", \"x0\": 1, \"x1\": 1.6666666666666665, \"y0\": 65, \"y1\": 65}, {\"layer\": \"below\", \"line\": {\"color\": \"white\", \"width\": 2}, \"type\": \"line\", \"x0\": 23.58333, \"x1\": 24.249996666666668, \"y0\": 65, \"y1\": 65}, {\"layer\": \"below\", \"line\": {\"color\": \"white\", \"width\": 2}, \"type\": \"line\", \"x0\": 29.08333, \"x1\": 29.749996666666668, \"y0\": 65, \"y1\": 65}, {\"layer\": \"below\", \"line\": {\"color\": \"white\", \"width\": 2}, \"type\": \"line\", \"x0\": 51.63333333333333, \"x1\": 52.3, \"y0\": 65, \"y1\": 65}, {\"layer\": \"below\", \"line\": {\"color\": \"white\", \"width\": 2}, \"type\": \"line\", \"x0\": 1, \"x1\": 1.6666666666666665, \"y0\": 66, \"y1\": 66}, {\"layer\": \"below\", \"line\": {\"color\": \"white\", \"width\": 2}, \"type\": \"line\", \"x0\": 23.58333, \"x1\": 24.249996666666668, \"y0\": 66, \"y1\": 66}, {\"layer\": \"below\", \"line\": {\"color\": \"white\", \"width\": 2}, \"type\": \"line\", \"x0\": 29.08333, \"x1\": 29.749996666666668, \"y0\": 66, \"y1\": 66}, {\"layer\": \"below\", \"line\": {\"color\": \"white\", \"width\": 2}, \"type\": \"line\", \"x0\": 51.63333333333333, \"x1\": 52.3, \"y0\": 66, \"y1\": 66}, {\"layer\": \"below\", \"line\": {\"color\": \"white\", \"width\": 2}, \"type\": \"line\", \"x0\": 1, \"x1\": 1.6666666666666665, \"y0\": 67, \"y1\": 67}, {\"layer\": \"below\", \"line\": {\"color\": \"white\", \"width\": 2}, \"type\": \"line\", \"x0\": 23.58333, \"x1\": 24.249996666666668, \"y0\": 67, \"y1\": 67}, {\"layer\": \"below\", \"line\": {\"color\": \"white\", \"width\": 2}, \"type\": \"line\", \"x0\": 29.08333, \"x1\": 29.749996666666668, \"y0\": 67, \"y1\": 67}, {\"layer\": \"below\", \"line\": {\"color\": \"white\", \"width\": 2}, \"type\": \"line\", \"x0\": 51.63333333333333, \"x1\": 52.3, \"y0\": 67, \"y1\": 67}, {\"layer\": \"below\", \"line\": {\"color\": \"white\", \"width\": 2}, \"type\": \"line\", \"x0\": 1, \"x1\": 1.6666666666666665, \"y0\": 68, \"y1\": 68}, {\"layer\": \"below\", \"line\": {\"color\": \"white\", \"width\": 2}, \"type\": \"line\", \"x0\": 23.58333, \"x1\": 24.249996666666668, \"y0\": 68, \"y1\": 68}, {\"layer\": \"below\", \"line\": {\"color\": \"white\", \"width\": 2}, \"type\": \"line\", \"x0\": 29.08333, \"x1\": 29.749996666666668, \"y0\": 68, \"y1\": 68}, {\"layer\": \"below\", \"line\": {\"color\": \"white\", \"width\": 2}, \"type\": \"line\", \"x0\": 51.63333333333333, \"x1\": 52.3, \"y0\": 68, \"y1\": 68}, {\"layer\": \"below\", \"line\": {\"color\": \"white\", \"width\": 2}, \"type\": \"line\", \"x0\": 1, \"x1\": 1.6666666666666665, \"y0\": 69, \"y1\": 69}, {\"layer\": \"below\", \"line\": {\"color\": \"white\", \"width\": 2}, \"type\": \"line\", \"x0\": 23.58333, \"x1\": 24.249996666666668, \"y0\": 69, \"y1\": 69}, {\"layer\": \"below\", \"line\": {\"color\": \"white\", \"width\": 2}, \"type\": \"line\", \"x0\": 29.08333, \"x1\": 29.749996666666668, \"y0\": 69, \"y1\": 69}, {\"layer\": \"below\", \"line\": {\"color\": \"white\", \"width\": 2}, \"type\": \"line\", \"x0\": 51.63333333333333, \"x1\": 52.3, \"y0\": 69, \"y1\": 69}, {\"layer\": \"below\", \"line\": {\"color\": \"white\", \"width\": 2}, \"type\": \"line\", \"x0\": 1, \"x1\": 1.6666666666666665, \"y0\": 71, \"y1\": 71}, {\"layer\": \"below\", \"line\": {\"color\": \"white\", \"width\": 2}, \"type\": \"line\", \"x0\": 23.58333, \"x1\": 24.249996666666668, \"y0\": 71, \"y1\": 71}, {\"layer\": \"below\", \"line\": {\"color\": \"white\", \"width\": 2}, \"type\": \"line\", \"x0\": 29.08333, \"x1\": 29.749996666666668, \"y0\": 71, \"y1\": 71}, {\"layer\": \"below\", \"line\": {\"color\": \"white\", \"width\": 2}, \"type\": \"line\", \"x0\": 51.63333333333333, \"x1\": 52.3, \"y0\": 71, \"y1\": 71}, {\"layer\": \"below\", \"line\": {\"color\": \"white\", \"width\": 2}, \"type\": \"line\", \"x0\": 1, \"x1\": 1.6666666666666665, \"y0\": 72, \"y1\": 72}, {\"layer\": \"below\", \"line\": {\"color\": \"white\", \"width\": 2}, \"type\": \"line\", \"x0\": 23.58333, \"x1\": 24.249996666666668, \"y0\": 72, \"y1\": 72}, {\"layer\": \"below\", \"line\": {\"color\": \"white\", \"width\": 2}, \"type\": \"line\", \"x0\": 29.08333, \"x1\": 29.749996666666668, \"y0\": 72, \"y1\": 72}, {\"layer\": \"below\", \"line\": {\"color\": \"white\", \"width\": 2}, \"type\": \"line\", \"x0\": 51.63333333333333, \"x1\": 52.3, \"y0\": 72, \"y1\": 72}, {\"layer\": \"below\", \"line\": {\"color\": \"white\", \"width\": 2}, \"type\": \"line\", \"x0\": 1, \"x1\": 1.6666666666666665, \"y0\": 73, \"y1\": 73}, {\"layer\": \"below\", \"line\": {\"color\": \"white\", \"width\": 2}, \"type\": \"line\", \"x0\": 23.58333, \"x1\": 24.249996666666668, \"y0\": 73, \"y1\": 73}, {\"layer\": \"below\", \"line\": {\"color\": \"white\", \"width\": 2}, \"type\": \"line\", \"x0\": 29.08333, \"x1\": 29.749996666666668, \"y0\": 73, \"y1\": 73}, {\"layer\": \"below\", \"line\": {\"color\": \"white\", \"width\": 2}, \"type\": \"line\", \"x0\": 51.63333333333333, \"x1\": 52.3, \"y0\": 73, \"y1\": 73}, {\"layer\": \"below\", \"line\": {\"color\": \"white\", \"width\": 2}, \"type\": \"line\", \"x0\": 1, \"x1\": 1.6666666666666665, \"y0\": 74, \"y1\": 74}, {\"layer\": \"below\", \"line\": {\"color\": \"white\", \"width\": 2}, \"type\": \"line\", \"x0\": 23.58333, \"x1\": 24.249996666666668, \"y0\": 74, \"y1\": 74}, {\"layer\": \"below\", \"line\": {\"color\": \"white\", \"width\": 2}, \"type\": \"line\", \"x0\": 29.08333, \"x1\": 29.749996666666668, \"y0\": 74, \"y1\": 74}, {\"layer\": \"below\", \"line\": {\"color\": \"white\", \"width\": 2}, \"type\": \"line\", \"x0\": 51.63333333333333, \"x1\": 52.3, \"y0\": 74, \"y1\": 74}, {\"layer\": \"below\", \"line\": {\"color\": \"white\", \"width\": 2}, \"type\": \"line\", \"x0\": 1, \"x1\": 1.6666666666666665, \"y0\": 75, \"y1\": 75}, {\"layer\": \"below\", \"line\": {\"color\": \"white\", \"width\": 2}, \"type\": \"line\", \"x0\": 23.58333, \"x1\": 24.249996666666668, \"y0\": 75, \"y1\": 75}, {\"layer\": \"below\", \"line\": {\"color\": \"white\", \"width\": 2}, \"type\": \"line\", \"x0\": 29.08333, \"x1\": 29.749996666666668, \"y0\": 75, \"y1\": 75}, {\"layer\": \"below\", \"line\": {\"color\": \"white\", \"width\": 2}, \"type\": \"line\", \"x0\": 51.63333333333333, \"x1\": 52.3, \"y0\": 75, \"y1\": 75}, {\"layer\": \"below\", \"line\": {\"color\": \"white\", \"width\": 2}, \"type\": \"line\", \"x0\": 1, \"x1\": 1.6666666666666665, \"y0\": 76, \"y1\": 76}, {\"layer\": \"below\", \"line\": {\"color\": \"white\", \"width\": 2}, \"type\": \"line\", \"x0\": 23.58333, \"x1\": 24.249996666666668, \"y0\": 76, \"y1\": 76}, {\"layer\": \"below\", \"line\": {\"color\": \"white\", \"width\": 2}, \"type\": \"line\", \"x0\": 29.08333, \"x1\": 29.749996666666668, \"y0\": 76, \"y1\": 76}, {\"layer\": \"below\", \"line\": {\"color\": \"white\", \"width\": 2}, \"type\": \"line\", \"x0\": 51.63333333333333, \"x1\": 52.3, \"y0\": 76, \"y1\": 76}, {\"layer\": \"below\", \"line\": {\"color\": \"white\", \"width\": 2}, \"type\": \"line\", \"x0\": 1, \"x1\": 1.6666666666666665, \"y0\": 77, \"y1\": 77}, {\"layer\": \"below\", \"line\": {\"color\": \"white\", \"width\": 2}, \"type\": \"line\", \"x0\": 23.58333, \"x1\": 24.249996666666668, \"y0\": 77, \"y1\": 77}, {\"layer\": \"below\", \"line\": {\"color\": \"white\", \"width\": 2}, \"type\": \"line\", \"x0\": 29.08333, \"x1\": 29.749996666666668, \"y0\": 77, \"y1\": 77}, {\"layer\": \"below\", \"line\": {\"color\": \"white\", \"width\": 2}, \"type\": \"line\", \"x0\": 51.63333333333333, \"x1\": 52.3, \"y0\": 77, \"y1\": 77}, {\"layer\": \"below\", \"line\": {\"color\": \"white\", \"width\": 2}, \"type\": \"line\", \"x0\": 1, \"x1\": 1.6666666666666665, \"y0\": 78, \"y1\": 78}, {\"layer\": \"below\", \"line\": {\"color\": \"white\", \"width\": 2}, \"type\": \"line\", \"x0\": 23.58333, \"x1\": 24.249996666666668, \"y0\": 78, \"y1\": 78}, {\"layer\": \"below\", \"line\": {\"color\": \"white\", \"width\": 2}, \"type\": \"line\", \"x0\": 29.08333, \"x1\": 29.749996666666668, \"y0\": 78, \"y1\": 78}, {\"layer\": \"below\", \"line\": {\"color\": \"white\", \"width\": 2}, \"type\": \"line\", \"x0\": 51.63333333333333, \"x1\": 52.3, \"y0\": 78, \"y1\": 78}, {\"layer\": \"below\", \"line\": {\"color\": \"white\", \"width\": 2}, \"type\": \"line\", \"x0\": 1, \"x1\": 1.6666666666666665, \"y0\": 79, \"y1\": 79}, {\"layer\": \"below\", \"line\": {\"color\": \"white\", \"width\": 2}, \"type\": \"line\", \"x0\": 23.58333, \"x1\": 24.249996666666668, \"y0\": 79, \"y1\": 79}, {\"layer\": \"below\", \"line\": {\"color\": \"white\", \"width\": 2}, \"type\": \"line\", \"x0\": 29.08333, \"x1\": 29.749996666666668, \"y0\": 79, \"y1\": 79}, {\"layer\": \"below\", \"line\": {\"color\": \"white\", \"width\": 2}, \"type\": \"line\", \"x0\": 51.63333333333333, \"x1\": 52.3, \"y0\": 79, \"y1\": 79}, {\"layer\": \"below\", \"line\": {\"color\": \"white\", \"width\": 2}, \"type\": \"line\", \"x0\": 1, \"x1\": 1.6666666666666665, \"y0\": 81, \"y1\": 81}, {\"layer\": \"below\", \"line\": {\"color\": \"white\", \"width\": 2}, \"type\": \"line\", \"x0\": 23.58333, \"x1\": 24.249996666666668, \"y0\": 81, \"y1\": 81}, {\"layer\": \"below\", \"line\": {\"color\": \"white\", \"width\": 2}, \"type\": \"line\", \"x0\": 29.08333, \"x1\": 29.749996666666668, \"y0\": 81, \"y1\": 81}, {\"layer\": \"below\", \"line\": {\"color\": \"white\", \"width\": 2}, \"type\": \"line\", \"x0\": 51.63333333333333, \"x1\": 52.3, \"y0\": 81, \"y1\": 81}, {\"layer\": \"below\", \"line\": {\"color\": \"white\", \"width\": 2}, \"type\": \"line\", \"x0\": 1, \"x1\": 1.6666666666666665, \"y0\": 82, \"y1\": 82}, {\"layer\": \"below\", \"line\": {\"color\": \"white\", \"width\": 2}, \"type\": \"line\", \"x0\": 23.58333, \"x1\": 24.249996666666668, \"y0\": 82, \"y1\": 82}, {\"layer\": \"below\", \"line\": {\"color\": \"white\", \"width\": 2}, \"type\": \"line\", \"x0\": 29.08333, \"x1\": 29.749996666666668, \"y0\": 82, \"y1\": 82}, {\"layer\": \"below\", \"line\": {\"color\": \"white\", \"width\": 2}, \"type\": \"line\", \"x0\": 51.63333333333333, \"x1\": 52.3, \"y0\": 82, \"y1\": 82}, {\"layer\": \"below\", \"line\": {\"color\": \"white\", \"width\": 2}, \"type\": \"line\", \"x0\": 1, \"x1\": 1.6666666666666665, \"y0\": 83, \"y1\": 83}, {\"layer\": \"below\", \"line\": {\"color\": \"white\", \"width\": 2}, \"type\": \"line\", \"x0\": 23.58333, \"x1\": 24.249996666666668, \"y0\": 83, \"y1\": 83}, {\"layer\": \"below\", \"line\": {\"color\": \"white\", \"width\": 2}, \"type\": \"line\", \"x0\": 29.08333, \"x1\": 29.749996666666668, \"y0\": 83, \"y1\": 83}, {\"layer\": \"below\", \"line\": {\"color\": \"white\", \"width\": 2}, \"type\": \"line\", \"x0\": 51.63333333333333, \"x1\": 52.3, \"y0\": 83, \"y1\": 83}, {\"layer\": \"below\", \"line\": {\"color\": \"white\", \"width\": 2}, \"type\": \"line\", \"x0\": 1, \"x1\": 1.6666666666666665, \"y0\": 84, \"y1\": 84}, {\"layer\": \"below\", \"line\": {\"color\": \"white\", \"width\": 2}, \"type\": \"line\", \"x0\": 23.58333, \"x1\": 24.249996666666668, \"y0\": 84, \"y1\": 84}, {\"layer\": \"below\", \"line\": {\"color\": \"white\", \"width\": 2}, \"type\": \"line\", \"x0\": 29.08333, \"x1\": 29.749996666666668, \"y0\": 84, \"y1\": 84}, {\"layer\": \"below\", \"line\": {\"color\": \"white\", \"width\": 2}, \"type\": \"line\", \"x0\": 51.63333333333333, \"x1\": 52.3, \"y0\": 84, \"y1\": 84}, {\"layer\": \"below\", \"line\": {\"color\": \"white\", \"width\": 2}, \"type\": \"line\", \"x0\": 1, \"x1\": 1.6666666666666665, \"y0\": 85, \"y1\": 85}, {\"layer\": \"below\", \"line\": {\"color\": \"white\", \"width\": 2}, \"type\": \"line\", \"x0\": 23.58333, \"x1\": 24.249996666666668, \"y0\": 85, \"y1\": 85}, {\"layer\": \"below\", \"line\": {\"color\": \"white\", \"width\": 2}, \"type\": \"line\", \"x0\": 29.08333, \"x1\": 29.749996666666668, \"y0\": 85, \"y1\": 85}, {\"layer\": \"below\", \"line\": {\"color\": \"white\", \"width\": 2}, \"type\": \"line\", \"x0\": 51.63333333333333, \"x1\": 52.3, \"y0\": 85, \"y1\": 85}, {\"layer\": \"below\", \"line\": {\"color\": \"white\", \"width\": 2}, \"type\": \"line\", \"x0\": 1, \"x1\": 1.6666666666666665, \"y0\": 86, \"y1\": 86}, {\"layer\": \"below\", \"line\": {\"color\": \"white\", \"width\": 2}, \"type\": \"line\", \"x0\": 23.58333, \"x1\": 24.249996666666668, \"y0\": 86, \"y1\": 86}, {\"layer\": \"below\", \"line\": {\"color\": \"white\", \"width\": 2}, \"type\": \"line\", \"x0\": 29.08333, \"x1\": 29.749996666666668, \"y0\": 86, \"y1\": 86}, {\"layer\": \"below\", \"line\": {\"color\": \"white\", \"width\": 2}, \"type\": \"line\", \"x0\": 51.63333333333333, \"x1\": 52.3, \"y0\": 86, \"y1\": 86}, {\"layer\": \"below\", \"line\": {\"color\": \"white\", \"width\": 2}, \"type\": \"line\", \"x0\": 1, \"x1\": 1.6666666666666665, \"y0\": 87, \"y1\": 87}, {\"layer\": \"below\", \"line\": {\"color\": \"white\", \"width\": 2}, \"type\": \"line\", \"x0\": 23.58333, \"x1\": 24.249996666666668, \"y0\": 87, \"y1\": 87}, {\"layer\": \"below\", \"line\": {\"color\": \"white\", \"width\": 2}, \"type\": \"line\", \"x0\": 29.08333, \"x1\": 29.749996666666668, \"y0\": 87, \"y1\": 87}, {\"layer\": \"below\", \"line\": {\"color\": \"white\", \"width\": 2}, \"type\": \"line\", \"x0\": 51.63333333333333, \"x1\": 52.3, \"y0\": 87, \"y1\": 87}, {\"layer\": \"below\", \"line\": {\"color\": \"white\", \"width\": 2}, \"type\": \"line\", \"x0\": 1, \"x1\": 1.6666666666666665, \"y0\": 88, \"y1\": 88}, {\"layer\": \"below\", \"line\": {\"color\": \"white\", \"width\": 2}, \"type\": \"line\", \"x0\": 23.58333, \"x1\": 24.249996666666668, \"y0\": 88, \"y1\": 88}, {\"layer\": \"below\", \"line\": {\"color\": \"white\", \"width\": 2}, \"type\": \"line\", \"x0\": 29.08333, \"x1\": 29.749996666666668, \"y0\": 88, \"y1\": 88}, {\"layer\": \"below\", \"line\": {\"color\": \"white\", \"width\": 2}, \"type\": \"line\", \"x0\": 51.63333333333333, \"x1\": 52.3, \"y0\": 88, \"y1\": 88}, {\"layer\": \"below\", \"line\": {\"color\": \"white\", \"width\": 2}, \"type\": \"line\", \"x0\": 1, \"x1\": 1.6666666666666665, \"y0\": 89, \"y1\": 89}, {\"layer\": \"below\", \"line\": {\"color\": \"white\", \"width\": 2}, \"type\": \"line\", \"x0\": 23.58333, \"x1\": 24.249996666666668, \"y0\": 89, \"y1\": 89}, {\"layer\": \"below\", \"line\": {\"color\": \"white\", \"width\": 2}, \"type\": \"line\", \"x0\": 29.08333, \"x1\": 29.749996666666668, \"y0\": 89, \"y1\": 89}, {\"layer\": \"below\", \"line\": {\"color\": \"white\", \"width\": 2}, \"type\": \"line\", \"x0\": 51.63333333333333, \"x1\": 52.3, \"y0\": 89, \"y1\": 89}, {\"layer\": \"below\", \"line\": {\"color\": \"white\", \"width\": 2}, \"type\": \"line\", \"x0\": 1, \"x1\": 1.6666666666666665, \"y0\": 91, \"y1\": 91}, {\"layer\": \"below\", \"line\": {\"color\": \"white\", \"width\": 2}, \"type\": \"line\", \"x0\": 23.58333, \"x1\": 24.249996666666668, \"y0\": 91, \"y1\": 91}, {\"layer\": \"below\", \"line\": {\"color\": \"white\", \"width\": 2}, \"type\": \"line\", \"x0\": 29.08333, \"x1\": 29.749996666666668, \"y0\": 91, \"y1\": 91}, {\"layer\": \"below\", \"line\": {\"color\": \"white\", \"width\": 2}, \"type\": \"line\", \"x0\": 51.63333333333333, \"x1\": 52.3, \"y0\": 91, \"y1\": 91}, {\"layer\": \"below\", \"line\": {\"color\": \"white\", \"width\": 2}, \"type\": \"line\", \"x0\": 1, \"x1\": 1.6666666666666665, \"y0\": 92, \"y1\": 92}, {\"layer\": \"below\", \"line\": {\"color\": \"white\", \"width\": 2}, \"type\": \"line\", \"x0\": 23.58333, \"x1\": 24.249996666666668, \"y0\": 92, \"y1\": 92}, {\"layer\": \"below\", \"line\": {\"color\": \"white\", \"width\": 2}, \"type\": \"line\", \"x0\": 29.08333, \"x1\": 29.749996666666668, \"y0\": 92, \"y1\": 92}, {\"layer\": \"below\", \"line\": {\"color\": \"white\", \"width\": 2}, \"type\": \"line\", \"x0\": 51.63333333333333, \"x1\": 52.3, \"y0\": 92, \"y1\": 92}, {\"layer\": \"below\", \"line\": {\"color\": \"white\", \"width\": 2}, \"type\": \"line\", \"x0\": 1, \"x1\": 1.6666666666666665, \"y0\": 93, \"y1\": 93}, {\"layer\": \"below\", \"line\": {\"color\": \"white\", \"width\": 2}, \"type\": \"line\", \"x0\": 23.58333, \"x1\": 24.249996666666668, \"y0\": 93, \"y1\": 93}, {\"layer\": \"below\", \"line\": {\"color\": \"white\", \"width\": 2}, \"type\": \"line\", \"x0\": 29.08333, \"x1\": 29.749996666666668, \"y0\": 93, \"y1\": 93}, {\"layer\": \"below\", \"line\": {\"color\": \"white\", \"width\": 2}, \"type\": \"line\", \"x0\": 51.63333333333333, \"x1\": 52.3, \"y0\": 93, \"y1\": 93}, {\"layer\": \"below\", \"line\": {\"color\": \"white\", \"width\": 2}, \"type\": \"line\", \"x0\": 1, \"x1\": 1.6666666666666665, \"y0\": 94, \"y1\": 94}, {\"layer\": \"below\", \"line\": {\"color\": \"white\", \"width\": 2}, \"type\": \"line\", \"x0\": 23.58333, \"x1\": 24.249996666666668, \"y0\": 94, \"y1\": 94}, {\"layer\": \"below\", \"line\": {\"color\": \"white\", \"width\": 2}, \"type\": \"line\", \"x0\": 29.08333, \"x1\": 29.749996666666668, \"y0\": 94, \"y1\": 94}, {\"layer\": \"below\", \"line\": {\"color\": \"white\", \"width\": 2}, \"type\": \"line\", \"x0\": 51.63333333333333, \"x1\": 52.3, \"y0\": 94, \"y1\": 94}, {\"layer\": \"below\", \"line\": {\"color\": \"white\", \"width\": 2}, \"type\": \"line\", \"x0\": 1, \"x1\": 1.6666666666666665, \"y0\": 95, \"y1\": 95}, {\"layer\": \"below\", \"line\": {\"color\": \"white\", \"width\": 2}, \"type\": \"line\", \"x0\": 23.58333, \"x1\": 24.249996666666668, \"y0\": 95, \"y1\": 95}, {\"layer\": \"below\", \"line\": {\"color\": \"white\", \"width\": 2}, \"type\": \"line\", \"x0\": 29.08333, \"x1\": 29.749996666666668, \"y0\": 95, \"y1\": 95}, {\"layer\": \"below\", \"line\": {\"color\": \"white\", \"width\": 2}, \"type\": \"line\", \"x0\": 51.63333333333333, \"x1\": 52.3, \"y0\": 95, \"y1\": 95}, {\"layer\": \"below\", \"line\": {\"color\": \"white\", \"width\": 2}, \"type\": \"line\", \"x0\": 1, \"x1\": 1.6666666666666665, \"y0\": 96, \"y1\": 96}, {\"layer\": \"below\", \"line\": {\"color\": \"white\", \"width\": 2}, \"type\": \"line\", \"x0\": 23.58333, \"x1\": 24.249996666666668, \"y0\": 96, \"y1\": 96}, {\"layer\": \"below\", \"line\": {\"color\": \"white\", \"width\": 2}, \"type\": \"line\", \"x0\": 29.08333, \"x1\": 29.749996666666668, \"y0\": 96, \"y1\": 96}, {\"layer\": \"below\", \"line\": {\"color\": \"white\", \"width\": 2}, \"type\": \"line\", \"x0\": 51.63333333333333, \"x1\": 52.3, \"y0\": 96, \"y1\": 96}, {\"layer\": \"below\", \"line\": {\"color\": \"white\", \"width\": 2}, \"type\": \"line\", \"x0\": 1, \"x1\": 1.6666666666666665, \"y0\": 97, \"y1\": 97}, {\"layer\": \"below\", \"line\": {\"color\": \"white\", \"width\": 2}, \"type\": \"line\", \"x0\": 23.58333, \"x1\": 24.249996666666668, \"y0\": 97, \"y1\": 97}, {\"layer\": \"below\", \"line\": {\"color\": \"white\", \"width\": 2}, \"type\": \"line\", \"x0\": 29.08333, \"x1\": 29.749996666666668, \"y0\": 97, \"y1\": 97}, {\"layer\": \"below\", \"line\": {\"color\": \"white\", \"width\": 2}, \"type\": \"line\", \"x0\": 51.63333333333333, \"x1\": 52.3, \"y0\": 97, \"y1\": 97}, {\"layer\": \"below\", \"line\": {\"color\": \"white\", \"width\": 2}, \"type\": \"line\", \"x0\": 1, \"x1\": 1.6666666666666665, \"y0\": 98, \"y1\": 98}, {\"layer\": \"below\", \"line\": {\"color\": \"white\", \"width\": 2}, \"type\": \"line\", \"x0\": 23.58333, \"x1\": 24.249996666666668, \"y0\": 98, \"y1\": 98}, {\"layer\": \"below\", \"line\": {\"color\": \"white\", \"width\": 2}, \"type\": \"line\", \"x0\": 29.08333, \"x1\": 29.749996666666668, \"y0\": 98, \"y1\": 98}, {\"layer\": \"below\", \"line\": {\"color\": \"white\", \"width\": 2}, \"type\": \"line\", \"x0\": 51.63333333333333, \"x1\": 52.3, \"y0\": 98, \"y1\": 98}, {\"layer\": \"below\", \"line\": {\"color\": \"white\", \"width\": 2}, \"type\": \"line\", \"x0\": 1, \"x1\": 1.6666666666666665, \"y0\": 99, \"y1\": 99}, {\"layer\": \"below\", \"line\": {\"color\": \"white\", \"width\": 2}, \"type\": \"line\", \"x0\": 23.58333, \"x1\": 24.249996666666668, \"y0\": 99, \"y1\": 99}, {\"layer\": \"below\", \"line\": {\"color\": \"white\", \"width\": 2}, \"type\": \"line\", \"x0\": 29.08333, \"x1\": 29.749996666666668, \"y0\": 99, \"y1\": 99}, {\"layer\": \"below\", \"line\": {\"color\": \"white\", \"width\": 2}, \"type\": \"line\", \"x0\": 51.63333333333333, \"x1\": 52.3, \"y0\": 99, \"y1\": 99}, {\"layer\": \"below\", \"line\": {\"color\": \"white\", \"width\": 2}, \"type\": \"line\", \"x0\": 1, \"x1\": 1.6666666666666665, \"y0\": 101, \"y1\": 101}, {\"layer\": \"below\", \"line\": {\"color\": \"white\", \"width\": 2}, \"type\": \"line\", \"x0\": 23.58333, \"x1\": 24.249996666666668, \"y0\": 101, \"y1\": 101}, {\"layer\": \"below\", \"line\": {\"color\": \"white\", \"width\": 2}, \"type\": \"line\", \"x0\": 29.08333, \"x1\": 29.749996666666668, \"y0\": 101, \"y1\": 101}, {\"layer\": \"below\", \"line\": {\"color\": \"white\", \"width\": 2}, \"type\": \"line\", \"x0\": 51.63333333333333, \"x1\": 52.3, \"y0\": 101, \"y1\": 101}, {\"layer\": \"below\", \"line\": {\"color\": \"white\", \"width\": 2}, \"type\": \"line\", \"x0\": 1, \"x1\": 1.6666666666666665, \"y0\": 102, \"y1\": 102}, {\"layer\": \"below\", \"line\": {\"color\": \"white\", \"width\": 2}, \"type\": \"line\", \"x0\": 23.58333, \"x1\": 24.249996666666668, \"y0\": 102, \"y1\": 102}, {\"layer\": \"below\", \"line\": {\"color\": \"white\", \"width\": 2}, \"type\": \"line\", \"x0\": 29.08333, \"x1\": 29.749996666666668, \"y0\": 102, \"y1\": 102}, {\"layer\": \"below\", \"line\": {\"color\": \"white\", \"width\": 2}, \"type\": \"line\", \"x0\": 51.63333333333333, \"x1\": 52.3, \"y0\": 102, \"y1\": 102}, {\"layer\": \"below\", \"line\": {\"color\": \"white\", \"width\": 2}, \"type\": \"line\", \"x0\": 1, \"x1\": 1.6666666666666665, \"y0\": 103, \"y1\": 103}, {\"layer\": \"below\", \"line\": {\"color\": \"white\", \"width\": 2}, \"type\": \"line\", \"x0\": 23.58333, \"x1\": 24.249996666666668, \"y0\": 103, \"y1\": 103}, {\"layer\": \"below\", \"line\": {\"color\": \"white\", \"width\": 2}, \"type\": \"line\", \"x0\": 29.08333, \"x1\": 29.749996666666668, \"y0\": 103, \"y1\": 103}, {\"layer\": \"below\", \"line\": {\"color\": \"white\", \"width\": 2}, \"type\": \"line\", \"x0\": 51.63333333333333, \"x1\": 52.3, \"y0\": 103, \"y1\": 103}, {\"layer\": \"below\", \"line\": {\"color\": \"white\", \"width\": 2}, \"type\": \"line\", \"x0\": 1, \"x1\": 1.6666666666666665, \"y0\": 104, \"y1\": 104}, {\"layer\": \"below\", \"line\": {\"color\": \"white\", \"width\": 2}, \"type\": \"line\", \"x0\": 23.58333, \"x1\": 24.249996666666668, \"y0\": 104, \"y1\": 104}, {\"layer\": \"below\", \"line\": {\"color\": \"white\", \"width\": 2}, \"type\": \"line\", \"x0\": 29.08333, \"x1\": 29.749996666666668, \"y0\": 104, \"y1\": 104}, {\"layer\": \"below\", \"line\": {\"color\": \"white\", \"width\": 2}, \"type\": \"line\", \"x0\": 51.63333333333333, \"x1\": 52.3, \"y0\": 104, \"y1\": 104}, {\"layer\": \"below\", \"line\": {\"color\": \"white\", \"width\": 2}, \"type\": \"line\", \"x0\": 1, \"x1\": 1.6666666666666665, \"y0\": 105, \"y1\": 105}, {\"layer\": \"below\", \"line\": {\"color\": \"white\", \"width\": 2}, \"type\": \"line\", \"x0\": 23.58333, \"x1\": 24.249996666666668, \"y0\": 105, \"y1\": 105}, {\"layer\": \"below\", \"line\": {\"color\": \"white\", \"width\": 2}, \"type\": \"line\", \"x0\": 29.08333, \"x1\": 29.749996666666668, \"y0\": 105, \"y1\": 105}, {\"layer\": \"below\", \"line\": {\"color\": \"white\", \"width\": 2}, \"type\": \"line\", \"x0\": 51.63333333333333, \"x1\": 52.3, \"y0\": 105, \"y1\": 105}, {\"layer\": \"below\", \"line\": {\"color\": \"white\", \"width\": 2}, \"type\": \"line\", \"x0\": 1, \"x1\": 1.6666666666666665, \"y0\": 106, \"y1\": 106}, {\"layer\": \"below\", \"line\": {\"color\": \"white\", \"width\": 2}, \"type\": \"line\", \"x0\": 23.58333, \"x1\": 24.249996666666668, \"y0\": 106, \"y1\": 106}, {\"layer\": \"below\", \"line\": {\"color\": \"white\", \"width\": 2}, \"type\": \"line\", \"x0\": 29.08333, \"x1\": 29.749996666666668, \"y0\": 106, \"y1\": 106}, {\"layer\": \"below\", \"line\": {\"color\": \"white\", \"width\": 2}, \"type\": \"line\", \"x0\": 51.63333333333333, \"x1\": 52.3, \"y0\": 106, \"y1\": 106}, {\"layer\": \"below\", \"line\": {\"color\": \"white\", \"width\": 2}, \"type\": \"line\", \"x0\": 1, \"x1\": 1.6666666666666665, \"y0\": 107, \"y1\": 107}, {\"layer\": \"below\", \"line\": {\"color\": \"white\", \"width\": 2}, \"type\": \"line\", \"x0\": 23.58333, \"x1\": 24.249996666666668, \"y0\": 107, \"y1\": 107}, {\"layer\": \"below\", \"line\": {\"color\": \"white\", \"width\": 2}, \"type\": \"line\", \"x0\": 29.08333, \"x1\": 29.749996666666668, \"y0\": 107, \"y1\": 107}, {\"layer\": \"below\", \"line\": {\"color\": \"white\", \"width\": 2}, \"type\": \"line\", \"x0\": 51.63333333333333, \"x1\": 52.3, \"y0\": 107, \"y1\": 107}, {\"layer\": \"below\", \"line\": {\"color\": \"white\", \"width\": 2}, \"type\": \"line\", \"x0\": 1, \"x1\": 1.6666666666666665, \"y0\": 108, \"y1\": 108}, {\"layer\": \"below\", \"line\": {\"color\": \"white\", \"width\": 2}, \"type\": \"line\", \"x0\": 23.58333, \"x1\": 24.249996666666668, \"y0\": 108, \"y1\": 108}, {\"layer\": \"below\", \"line\": {\"color\": \"white\", \"width\": 2}, \"type\": \"line\", \"x0\": 29.08333, \"x1\": 29.749996666666668, \"y0\": 108, \"y1\": 108}, {\"layer\": \"below\", \"line\": {\"color\": \"white\", \"width\": 2}, \"type\": \"line\", \"x0\": 51.63333333333333, \"x1\": 52.3, \"y0\": 108, \"y1\": 108}, {\"layer\": \"below\", \"line\": {\"color\": \"white\", \"width\": 2}, \"type\": \"line\", \"x0\": 1, \"x1\": 1.6666666666666665, \"y0\": 109, \"y1\": 109}, {\"layer\": \"below\", \"line\": {\"color\": \"white\", \"width\": 2}, \"type\": \"line\", \"x0\": 23.58333, \"x1\": 24.249996666666668, \"y0\": 109, \"y1\": 109}, {\"layer\": \"below\", \"line\": {\"color\": \"white\", \"width\": 2}, \"type\": \"line\", \"x0\": 29.08333, \"x1\": 29.749996666666668, \"y0\": 109, \"y1\": 109}, {\"layer\": \"below\", \"line\": {\"color\": \"white\", \"width\": 2}, \"type\": \"line\", \"x0\": 51.63333333333333, \"x1\": 52.3, \"y0\": 109, \"y1\": 109}, {\"fillcolor\": \"white\", \"layer\": \"below\", \"line\": {\"color\": \"white\"}, \"path\": \"M 48.59382380757938,17.92917619242062 L 47.553823807579384,17.92917619242062 A 3.257,3.257 270.0 0,1 47.48482380757938,17.93017619242062 A 1.126,1.126 270.0 0,1 47.21682380757938,17.907176192420618 Q 47.11382380757938,17.87917619242062 47.08382380757938,17.80917619242062 Q 47.053823807579384,17.73917619242062 47.053823807579384,17.57917619242062 L 47.053823807579384,17.33417619242062 A 0.095,0.095 270.0 0,0 46.93382380757938,17.24417619242062 Q 46.858823807579384,17.24917619242062 46.84182380757938,17.27417619242062 Q 46.82382380757938,17.29917619242062 46.82382380757938,17.33717619242062 L 46.82382380757938,17.38917619242062 Q 46.82382380757938,17.599176192420618 46.75682380757938,17.79917619242062 Q 46.68882380757938,17.99917619242062 46.59382380757938,18.23417619242062 Q 46.58382380757938,18.26417619242062 46.58382380757938,18.28417619242062 Q 46.58382380757938,18.36417619242062 46.69882380757938,18.36417619242062 L 48.59382380757938,18.36417619242062 Q 48.81382380757938,18.36417619242062 48.90882380757938,18.41717619242062 Q 49.00382380757938,18.46917619242062 49.02882380757938,18.58217619242062 Q 49.053823807579384,18.69417619242062 49.053823807579384,18.94417619242062 L 49.053823807579384,18.994176192420618 Q 49.053823807579384,19.03417619242062 49.07382380757938,19.052176192420617 Q 49.09382380757938,19.06917619242062 49.15382380757938,19.07417619242062 Q 49.27382380757938,19.07417619242062 49.27382380757938,18.98417619242062 Q 49.25882380757938,18.62417619242062 49.25882380757938,18.14417619242062 Q 49.25882380757938,17.66917619242062 49.27382380757938,17.30917619242062 A 0.095,0.095 270.0 0,0 49.15382380757938,17.21917619242062 Q 49.09382380757938,17.224176192420618 49.07382380757938,17.24217619242062 Q 49.053823807579384,17.259176192420618 49.053823807579384,17.29917619242062 Q 49.053823807579384,17.57917619242062 49.03182380757938,17.69717619242062 Q 49.00882380757938,17.814176192420618 48.913823807579384,17.872176192420618 Q 48.81882380757938,17.92917619242062 48.59382380757938,17.92917619242062 L 48.59382380757938,17.92917619242062\", \"type\": \"path\"}, {\"fillcolor\": \"white\", \"layer\": \"below\", \"line\": {\"color\": \"white\"}, \"path\": \"M 4.2638238075793815,22.060823807579382 L 5.3038238075793815,22.060823807579382 A 3.257,3.257 450.0 0,1 5.3728238075793815,22.05982380757938 A 1.126,1.126 450.0 0,1 5.640823807579381,22.08282380757938 Q 5.743823807579382,22.11082380757938 5.773823807579381,22.18082380757938 Q 5.803823807579381,22.25082380757938 5.803823807579381,22.41082380757938 L 5.803823807579381,22.65582380757938 A 0.095,0.095 450.0 0,0 5.923823807579382,22.74582380757938 Q 5.998823807579381,22.740823807579382 6.015823807579381,22.71582380757938 Q 6.033823807579381,22.69082380757938 6.033823807579381,22.65282380757938 L 6.033823807579381,22.60082380757938 Q 6.033823807579381,22.39082380757938 6.100823807579381,22.19082380757938 Q 6.168823807579381,21.990823807579382 6.2638238075793815,21.755823807579382 Q 6.273823807579381,21.72582380757938 6.273823807579381,21.70582380757938 Q 6.273823807579381,21.62582380757938 6.158823807579381,21.62582380757938 L 4.2638238075793815,21.62582380757938 Q 4.043823807579381,21.62582380757938 3.948823807579381,21.572823807579383 Q 3.8538238075793814,21.520823807579383 3.8288238075793815,21.40782380757938 Q 3.803823807579381,21.29582380757938 3.8038238075793807,21.04582380757938 L 3.8038238075793807,20.99582380757938 Q 3.8038238075793807,20.95582380757938 3.7838238075793806,20.93782380757938 Q 3.763823807579381,20.92082380757938 3.703823807579381,20.915823807579383 Q 3.583823807579381,20.915823807579383 3.583823807579381,21.005823807579382 Q 3.5988238075793815,21.365823807579382 3.5988238075793815,21.845823807579382 Q 3.5988238075793815,22.32082380757938 3.5838238075793813,22.68082380757938 A 0.095,0.095 450.0 0,0 3.7038238075793815,22.770823807579383 Q 3.7638238075793815,22.76582380757938 3.783823807579381,22.74782380757938 Q 3.803823807579381,22.73082380757938 3.803823807579381,22.69082380757938 Q 3.803823807579381,22.41082380757938 3.8258238075793813,22.29282380757938 Q 3.8488238075793815,22.17582380757938 3.9438238075793812,22.11782380757938 Q 4.038823807579381,22.060823807579382 4.2638238075793815,22.060823807579382 L 4.2638238075793815,22.060823807579382\", \"type\": \"path\"}, {\"fillcolor\": \"white\", \"layer\": \"below\", \"line\": {\"color\": \"white\"}, \"path\": \"M 46.52282380757938,22.006176192420618 Q 46.52282380757938,21.616176192420617 46.71282380757938,21.349176192420618 Q 46.90282380757938,21.081176192420617 47.21782380757938,20.949176192420616 Q 47.53282380757938,20.816176192420617 47.90282380757938,20.816176192420617 Q 48.27782380757938,20.816176192420617 48.58782380757938,20.949176192420616 Q 48.89782380757938,21.081176192420617 49.08582380757938,21.349176192420618 Q 49.27282380757938,21.616176192420617 49.27282380757938,22.006176192420618 Q 49.27282380757938,22.376176192420616 49.08282380757938,22.64617619242062 Q 48.89282380757938,22.916176192420618 48.57782380757938,23.05617619242062 Q 48.26282380757938,23.196176192420616 47.90282380757938,23.196176192420616 Q 47.54282380757938,23.196176192420616 47.227823807579384,23.05617619242062 Q 46.91282380757938,22.916176192420618 46.71782380757938,22.64617619242062 Q 46.52282380757938,22.37617619242062 46.52282380757938,22.006176192420618 M 46.70782380757938,22.011176192420617 Q 46.70782380757938,22.346176192420618 47.01782380757938,22.531176192420617 Q 47.32782380757938,22.71617619242062 47.90282380757938,22.71617619242062 Q 48.477823807579384,22.71617619242062 48.78282380757938,22.531176192420617 Q 49.08782380757938,22.346176192420618 49.08782380757938,22.011176192420617 Q 49.08782380757938,21.666176192420618 48.78582380757938,21.481176192420616 Q 48.48282380757938,21.296176192420617 47.90282380757938,21.296176192420617 Q 47.32282380757938,21.296176192420617 47.01582380757938,21.481176192420616 Q 46.70782380757938,21.666176192420618 46.70782380757938,22.011176192420617\", \"type\": \"path\"}, {\"fillcolor\": \"white\", \"layer\": \"below\", \"line\": {\"color\": \"white\"}, \"path\": \"M 6.334823807579381,18.183823807579383 Q 6.334823807579381,18.573823807579384 6.144823807579382,18.840823807579383 Q 5.954823807579381,19.108823807579384 5.639823807579381,19.240823807579382 Q 5.3248238075793815,19.373823807579384 4.954823807579381,19.373823807579384 Q 4.579823807579381,19.373823807579384 4.269823807579382,19.240823807579382 Q 3.9598238075793812,19.108823807579384 3.771823807579381,18.840823807579383 Q 3.5848238075793812,18.573823807579384 3.5848238075793812,18.183823807579383 Q 3.584823807579381,17.813823807579382 3.774823807579381,17.543823807579383 Q 3.964823807579381,17.273823807579383 4.279823807579381,17.133823807579383 Q 4.594823807579381,16.993823807579382 4.954823807579381,16.993823807579382 Q 5.314823807579381,16.993823807579382 5.629823807579381,17.133823807579383 Q 5.944823807579381,17.273823807579383 6.139823807579381,17.543823807579383 Q 6.334823807579381,17.813823807579382 6.334823807579381,18.183823807579383 M 6.149823807579381,18.178823807579384 Q 6.149823807579381,17.843823807579383 5.839823807579381,17.65882380757938 Q 5.5298238075793815,17.473823807579382 4.954823807579381,17.473823807579382 Q 4.379823807579381,17.473823807579382 4.0748238075793815,17.65882380757938 Q 3.7698238075793813,17.843823807579383 3.7698238075793813,18.178823807579384 Q 3.7698238075793813,18.523823807579383 4.071823807579381,18.708823807579382 Q 4.374823807579381,18.893823807579384 4.954823807579381,18.893823807579384 Q 5.534823807579381,18.893823807579384 5.841823807579381,18.708823807579382 Q 6.149823807579381,18.523823807579383 6.149823807579381,18.178823807579384\", \"type\": \"path\"}, {\"fillcolor\": \"white\", \"layer\": \"below\", \"line\": {\"color\": \"white\"}, \"path\": \"M 48.9595,27.5575 L 48.9845,27.5575 L 48.9845,28.8975 A 0.449,0.449 270.0 0,0 49.0125,29.0795 Q 49.039500000000004,29.137500000000003 49.1595,29.137500000000003 Q 49.3395,29.137500000000003 49.3395,28.962500000000002 L 49.3395,27.2875 Q 49.3395,27.1125 49.1595,27.1125 Q 49.0545,27.1175 48.9895,27.1695 Q 48.9245,27.2225 48.8445,27.3425 Q 48.5795,27.7375 48.4075,27.9545 Q 48.2345,28.1725 47.9695,28.3475 Q 47.7045,28.5225 47.3745,28.5225 Q 47.1345,28.5225 47.0025,28.3945 Q 46.8695,28.267500000000002 46.8695,28.0375 Q 46.8695,27.8425 46.9675,27.7145 Q 47.0645,27.587500000000002 47.2345,27.587500000000002 Q 47.3195,27.587500000000002 47.3775,27.6275 Q 47.4345,27.6675 47.4695,27.709500000000002 Q 47.5045,27.7525 47.5095,27.7525 Q 47.5445,27.7525 47.5945,27.6845 Q 47.6445,27.6175 47.6445,27.5225 Q 47.6445,27.3675 47.5475,27.2745 Q 47.4495,27.1825 47.2995,27.1825 Q 47.0995,27.1825 46.9595,27.317500000000003 Q 46.8195,27.4525 46.7545,27.6595 Q 46.6895,27.8675 46.6895,28.0825 Q 46.6895,28.4575 46.8745,28.7295 Q 47.0595,29.0025 47.4395,29.0025 Q 47.7145,29.0025 47.9395,28.8525 Q 48.1645,28.7025 48.3225,28.494500000000002 Q 48.4795,28.2875 48.6945,27.9525 Q 48.8595,27.6875 48.9595,27.5575\", \"type\": \"path\"}, {\"fillcolor\": \"white\", \"layer\": \"below\", \"line\": {\"color\": \"white\"}, \"path\": \"M 4.0695,32.3925 L 4.0445,32.3925 L 4.0445,31.052500000000002 A 0.449,0.449 450.0 0,0 4.0165,30.8705 Q 3.9894999999999996,30.8125 3.8694999999999995,30.8125 Q 3.6895,30.8125 3.6895,30.9875 L 3.6895000000000002,32.6625 Q 3.6895000000000002,32.8375 3.8695,32.8375 Q 3.9745,32.8325 4.0395,32.7805 Q 4.1045,32.7275 4.1845,32.6075 Q 4.4495000000000005,32.2125 4.6215,31.9955 Q 4.7945,31.7775 5.0595,31.6025 Q 5.3245000000000005,31.4275 5.6545,31.4275 Q 5.8945,31.4275 6.0264999999999995,31.5555 Q 6.1594999999999995,31.6825 6.1594999999999995,31.9125 Q 6.1594999999999995,32.1075 6.0615,32.2355 Q 5.9645,32.3625 5.7945,32.3625 Q 5.7095,32.3625 5.6515,32.3225 Q 5.5945,32.2825 5.5595,32.2405 Q 5.5245,32.1975 5.519500000000001,32.1975 Q 5.4845,32.1975 5.4345,32.2655 Q 5.3845,32.3325 5.3845,32.4275 Q 5.3845,32.582499999999996 5.4815000000000005,32.6755 Q 5.5795,32.7675 5.7295,32.7675 Q 5.9295,32.7675 6.0695,32.6325 Q 6.2095,32.4975 6.2745,32.2905 Q 6.3395,32.082499999999996 6.3395,31.8675 Q 6.3395,31.4925 6.1545,31.2205 Q 5.9695,30.947499999999998 5.589499999999999,30.9475 Q 5.3145,30.9475 5.089499999999999,31.0975 Q 4.8645,31.2475 4.7065,31.4555 Q 4.5495,31.6625 4.3345,31.9975 Q 4.1695,32.2625 4.0695,32.3925\", \"type\": \"path\"}, {\"fillcolor\": \"white\", \"layer\": \"below\", \"line\": {\"color\": \"white\"}, \"path\": \"M 46.5885,31.900499999999997 Q 46.5885,31.5105 46.7785,31.243499999999997 Q 46.9685,30.9755 47.2835,30.8435 Q 47.5985,30.7105 47.9685,30.7105 Q 48.3435,30.7105 48.6535,30.8435 Q 48.963499999999996,30.975499999999997 49.1515,31.243499999999997 Q 49.338499999999996,31.5105 49.338499999999996,31.900499999999997 Q 49.338499999999996,32.2705 49.1485,32.5405 Q 48.9585,32.8105 48.6435,32.9505 Q 48.3285,33.0905 47.9685,33.0905 Q 47.6085,33.0905 47.2935,32.9505 Q 46.9785,32.8105 46.7835,32.5405 Q 46.5885,32.2705 46.5885,31.900499999999997 M 46.7735,31.9055 Q 46.7735,32.2405 47.0835,32.4255 Q 47.3935,32.6105 47.9685,32.6105 Q 48.5435,32.6105 48.8485,32.4255 Q 49.1535,32.2405 49.1535,31.9055 Q 49.1535,31.560499999999998 48.8515,31.3755 Q 48.5485,31.1905 47.9685,31.1905 Q 47.3885,31.1905 47.0815,31.3755 Q 46.7735,31.560499999999998 46.7735,31.9055\", \"type\": \"path\"}, {\"fillcolor\": \"white\", \"layer\": \"below\", \"line\": {\"color\": \"white\"}, \"path\": \"M 6.4405,28.2495 Q 6.4405,28.6395 6.2505,28.9065 Q 6.0605,29.174500000000002 5.7455,29.3065 Q 5.4305,29.439500000000002 5.0605,29.439500000000002 Q 4.6855,29.439500000000002 4.375500000000001,29.3065 Q 4.0655,29.174500000000002 3.8775,28.9065 Q 3.6905,28.6395 3.6905,28.2495 Q 3.6905,27.8795 3.8804999999999996,27.6095 Q 4.0705,27.3395 4.3854999999999995,27.1995 Q 4.7005,27.0595 5.060499999999999,27.0595 Q 5.4205,27.0595 5.7355,27.1995 Q 6.0504999999999995,27.3395 6.2455,27.6095 Q 6.4405,27.8795 6.4405,28.2495 M 6.2555,28.244500000000002 Q 6.2555,27.9095 5.945499999999999,27.724500000000003 Q 5.6355,27.5395 5.060499999999999,27.5395 Q 4.4855,27.5395 4.1805,27.724500000000003 Q 3.8754999999999997,27.9095 3.8754999999999997,28.244500000000002 Q 3.8754999999999997,28.5895 4.1775,28.774500000000003 Q 4.4805,28.959500000000002 5.0605,28.959500000000002 Q 5.6405,28.959500000000002 5.9475,28.7745 Q 6.2555,28.5895 6.2555,28.244500000000002\", \"type\": \"path\"}, {\"fillcolor\": \"white\", \"layer\": \"below\", \"line\": {\"color\": \"white\"}, \"path\": \"M 47.9975,38.128499999999995 L 47.9975,37.9435 Q 47.9975,37.9085 47.9675,37.8885 Q 47.9375,37.8685 47.8975,37.8685 Q 47.8525,37.8685 47.8205,37.8885 Q 47.7875,37.9085 47.7825,37.9435 L 47.7825,38.128499999999995 Q 47.7625,38.323499999999996 47.6075,38.4415 Q 47.4525,38.558499999999995 47.2325,38.558499999999995 Q 46.9925,38.558499999999995 46.8655,38.4235 Q 46.7375,38.2885 46.7375,38.1085 Q 46.7375,37.9385 46.8355,37.8165 Q 46.9325,37.6935 47.1025,37.6935 Q 47.2125,37.6935 47.2505,37.7365 Q 47.2875,37.778499999999994 47.2955,37.8185 Q 47.3025,37.8585 47.3075,37.8585 Q 47.3425,37.8585 47.3925,37.7915 Q 47.4425,37.723499999999994 47.4425,37.628499999999995 Q 47.4425,37.4685 47.3425,37.378499999999995 Q 47.2425,37.2885 47.0875,37.2885 Q 46.8425,37.2885 46.7075,37.518499999999996 Q 46.5725,37.7485 46.5725,38.113499999999995 Q 46.5725,38.503499999999995 46.7425,38.7585 Q 46.9125,39.01349999999999 47.2325,39.01349999999999 Q 47.4425,39.01349999999999 47.6225,38.866499999999995 Q 47.8025,38.7185 47.8775,38.4435 L 47.8975,38.4435 Q 47.9275,38.723499999999994 48.0755,38.9285 Q 48.2225,39.1335 48.5425,39.1335 Q 48.9475,39.1335 49.1405,38.838499999999996 Q 49.3325,38.543499999999995 49.3325,38.098499999999994 Q 49.3325,37.7335 49.1905,37.4815 Q 49.0475,37.2285 48.7725,37.2285 Q 48.6275,37.2285 48.5225,37.3185 Q 48.4175,37.4085 48.4175,37.5685 Q 48.4175,37.6635 48.4675,37.7315 Q 48.5175,37.7985 48.5525,37.7985 Q 48.5575,37.7985 48.5905,37.753499999999995 Q 48.6225,37.708499999999994 48.6775,37.671499999999995 Q 48.7325,37.6335 48.8175,37.6335 Q 48.9725,37.6335 49.0605,37.76649999999999 Q 49.1475,37.8985 49.1475,38.113499999999995 Q 49.1475,38.6485 48.5525,38.6485 Q 48.3075,38.6485 48.1605,38.518499999999996 Q 48.0125,38.38849999999999 47.9975,38.128499999999995\", \"type\": \"path\"}, {\"fillcolor\": \"white\", \"layer\": \"below\", \"line\": {\"color\": \"white\"}, \"path\": \"M 4.9075,41.9335 L 4.9075,42.1185 Q 4.9075,42.1535 4.9375,42.1735 Q 4.9675,42.1935 5.0075,42.1935 Q 5.0525,42.1935 5.0845,42.1735 Q 5.1175,42.1535 5.1225000000000005,42.1185 L 5.1225000000000005,41.9335 Q 5.1425,41.7385 5.297499999999999,41.6205 Q 5.4525,41.5035 5.672499999999999,41.5035 Q 5.9125,41.5035 6.0395,41.6385 Q 6.1675,41.7735 6.1675,41.9535 Q 6.1675,42.1235 6.0695,42.2455 Q 5.9725,42.3685 5.8025,42.3685 Q 5.6925,42.3685 5.6545000000000005,42.3255 Q 5.617500000000001,42.2835 5.609500000000001,42.2435 Q 5.6025,42.2035 5.5975,42.2035 Q 5.5625,42.2035 5.5125,42.2705 Q 5.4625,42.338499999999996 5.4625,42.4335 Q 5.4625,42.5935 5.5625,42.6835 Q 5.6625000000000005,42.7735 5.8175,42.7735 Q 6.0625,42.7735 6.1975,42.5435 Q 6.3325,42.3135 6.3325,41.9485 Q 6.3325,41.5585 6.1625,41.3035 Q 5.9925,41.0485 5.672499999999999,41.0485 Q 5.4625,41.0485 5.2825,41.1955 Q 5.1025,41.3435 5.0275,41.6185 L 5.0075,41.6185 Q 4.9775,41.3385 4.8294999999999995,41.1335 Q 4.6825,40.9285 4.3625,40.9285 Q 3.9574999999999996,40.9285 3.7645,41.2235 Q 3.5725,41.5185 3.5725,41.9635 Q 3.5725,42.3285 3.7145,42.5805 Q 3.8575000000000004,42.8335 4.1325,42.8335 Q 4.2775,42.8335 4.3825,42.7435 Q 4.4875,42.6535 4.4875,42.4935 Q 4.4875,42.3985 4.4375,42.3305 Q 4.3875,42.2635 4.3525,42.2635 Q 4.3475,42.2635 4.3145,42.3085 Q 4.2825,42.3535 4.2275,42.3905 Q 4.1725,42.4285 4.0875,42.4285 Q 3.9325,42.4285 3.8445,42.2955 Q 3.7575,42.1635 3.7575,41.9485 Q 3.7575,41.4135 4.3525,41.4135 Q 4.5975,41.4135 4.7445,41.5435 Q 4.8925,41.6735 4.9075,41.9335\", \"type\": \"path\"}, {\"fillcolor\": \"white\", \"layer\": \"below\", \"line\": {\"color\": \"white\"}, \"path\": \"M 46.5825,42.018499999999996 Q 46.5825,41.628499999999995 46.7725,41.3615 Q 46.9625,41.0935 47.2775,40.9615 Q 47.5925,40.8285 47.9625,40.8285 Q 48.3375,40.8285 48.6475,40.9615 Q 48.9575,41.0935 49.1455,41.3615 Q 49.3325,41.628499999999995 49.3325,42.018499999999996 Q 49.3325,42.3885 49.1425,42.6585 Q 48.9525,42.9285 48.6375,43.0685 Q 48.3225,43.2085 47.9625,43.2085 Q 47.6025,43.2085 47.2875,43.0685 Q 46.9725,42.9285 46.7775,42.6585 Q 46.5825,42.3885 46.5825,42.018499999999996 M 46.7675,42.0235 Q 46.7675,42.3585 47.0775,42.5435 Q 47.3875,42.7285 47.9625,42.7285 Q 48.5375,42.7285 48.8425,42.5435 Q 49.1475,42.3585 49.1475,42.0235 Q 49.1475,41.6785 48.8455,41.4935 Q 48.5425,41.308499999999995 47.9625,41.308499999999995 Q 47.3825,41.308499999999995 47.0755,41.4935 Q 46.7675,41.6785 46.7675,42.0235\", \"type\": \"path\"}, {\"fillcolor\": \"white\", \"layer\": \"below\", \"line\": {\"color\": \"white\"}, \"path\": \"M 6.3225,38.243500000000004 Q 6.3225,38.6335 6.1325,38.9005 Q 5.9425,39.1685 5.6275,39.3005 Q 5.3125,39.4335 4.9425,39.4335 Q 4.5675,39.4335 4.2575,39.3005 Q 3.9475000000000002,39.1685 3.7595,38.9005 Q 3.5725,38.633500000000005 3.5725,38.243500000000004 Q 3.5725,37.8735 3.7624999999999997,37.603500000000004 Q 3.9524999999999997,37.3335 4.2675,37.1935 Q 4.5825,37.0535 4.9425,37.0535 Q 5.3025,37.0535 5.6175,37.1935 Q 5.9325,37.3335 6.1274999999999995,37.603500000000004 Q 6.3225,37.8735 6.3225,38.243500000000004 M 6.137499999999999,38.2385 Q 6.137499999999999,37.9035 5.8275,37.7185 Q 5.5175,37.533500000000004 4.9425,37.533500000000004 Q 4.3675,37.533500000000004 4.0625,37.7185 Q 3.7575,37.9035 3.7575,38.2385 Q 3.7575,38.5835 4.0595,38.7685 Q 4.3625,38.9535 4.9425,38.9535 Q 5.5225,38.9535 5.8294999999999995,38.7685 Q 6.137499999999999,38.5835 6.137499999999999,38.2385\", \"type\": \"path\"}, {\"fillcolor\": \"white\", \"layer\": \"below\", \"line\": {\"color\": \"white\"}, \"path\": \"M 49.3825,48.4085 L 48.6175,48.4085 L 48.6175,47.213499999999996 Q 48.6175,47.1335 48.5675,47.0935 Q 48.5175,47.0535 48.4425,47.0535 Q 48.3775,47.0535 48.3325,47.088499999999996 L 46.7975,48.4935 Q 46.7475,48.543499999999995 46.7475,48.6485 Q 46.7475,48.7285 46.789500000000004,48.7835 Q 46.8325,48.838499999999996 46.9225,48.8435 L 48.3725,48.8435 L 48.3725,49.143499999999996 Q 48.3725,49.213499999999996 48.3895,49.2435 Q 48.4075,49.2735 48.4925,49.278499999999994 Q 48.5475,49.278499999999994 48.5825,49.256499999999996 Q 48.6175,49.2335 48.6175,49.183499999999995 L 48.6175,48.8435 L 49.3825,48.8435 Q 49.4275,48.8435 49.4525,48.778499999999994 Q 49.4775,48.713499999999996 49.4775,48.628499999999995 Q 49.4775,48.543499999999995 49.4525,48.4785 Q 49.4275,48.4135 49.3825,48.4085 M 47.1875,48.4085 L 48.3725,47.3435 L 48.3725,48.4085 L 47.1875,48.4085\", \"type\": \"path\"}, {\"fillcolor\": \"white\", \"layer\": \"below\", \"line\": {\"color\": \"white\"}, \"path\": \"M 3.8425,51.6235 L 4.6075,51.6235 L 4.6075,52.8185 Q 4.6075,52.8985 4.657500000000001,52.9385 Q 4.7075000000000005,52.9785 4.782500000000001,52.9785 Q 4.8475,52.9785 4.8925,52.9435 L 6.4275,51.5385 Q 6.4775,51.4885 6.4775,51.3835 Q 6.4775,51.3035 6.435499999999999,51.2485 Q 6.3925,51.1935 6.302499999999999,51.1885 L 4.8525,51.1885 L 4.8525,50.8885 Q 4.8525,50.8185 4.8355,50.7885 Q 4.8175,50.7585 4.7325,50.7535 Q 4.6775,50.7535 4.6425,50.7755 Q 4.6075,50.7985 4.6075,50.8485 L 4.6075,51.1885 L 3.8424999999999994,51.1885 Q 3.7974999999999994,51.1885 3.7725,51.2535 Q 3.7475,51.3185 3.7475,51.4035 Q 3.7475,51.4885 3.7725,51.5535 Q 3.7975,51.6185 3.8425,51.6235 M 6.0375,51.6235 L 4.8525,52.6885 L 4.8525,51.6235 L 6.0375,51.6235\", \"type\": \"path\"}, {\"fillcolor\": \"white\", \"layer\": \"below\", \"line\": {\"color\": \"white\"}, \"path\": \"M 46.7275,51.8435 Q 46.7275,51.4535 46.9175,51.186499999999995 Q 47.1075,50.9185 47.4225,50.7865 Q 47.7375,50.6535 48.1075,50.6535 Q 48.4825,50.6535 48.7925,50.7865 Q 49.1025,50.9185 49.2905,51.186499999999995 Q 49.4775,51.4535 49.4775,51.8435 Q 49.4775,52.213499999999996 49.2875,52.4835 Q 49.0975,52.753499999999995 48.7825,52.893499999999996 Q 48.4675,53.0335 48.1075,53.0335 Q 47.7475,53.0335 47.4325,52.893499999999996 Q 47.1175,52.753499999999995 46.9225,52.4835 Q 46.7275,52.213499999999996 46.7275,51.8435 M 46.9125,51.8485 Q 46.9125,52.183499999999995 47.2225,52.3685 Q 47.5325,52.5535 48.1075,52.5535 Q 48.6825,52.5535 48.9875,52.3685 Q 49.2925,52.183499999999995 49.2925,51.8485 Q 49.2925,51.503499999999995 48.9905,51.3185 Q 48.6875,51.1335 48.1075,51.1335 Q 47.5275,51.1335 47.2205,51.3185 Q 46.9125,51.503499999999995 46.9125,51.8485\", \"type\": \"path\"}, {\"fillcolor\": \"white\", \"layer\": \"below\", \"line\": {\"color\": \"white\"}, \"path\": \"M 6.4975000000000005,48.3885 Q 6.4975000000000005,48.7785 6.3075,49.045500000000004 Q 6.117500000000001,49.313500000000005 5.8025,49.4455 Q 5.487500000000001,49.5785 5.117500000000001,49.5785 Q 4.742500000000001,49.5785 4.4325,49.4455 Q 4.1225000000000005,49.313500000000005 3.9345,49.045500000000004 Q 3.7475,48.7785 3.7475,48.3885 Q 3.7475,48.0185 3.9375,47.7485 Q 4.1274999999999995,47.478500000000004 4.4425,47.3385 Q 4.7575,47.1985 5.1175,47.1985 Q 5.4775,47.1985 5.7924999999999995,47.3385 Q 6.1075,47.478500000000004 6.3025,47.7485 Q 6.4975000000000005,48.0185 6.4975000000000005,48.3885 M 6.3125,48.3835 Q 6.3125,48.048500000000004 6.0024999999999995,47.8635 Q 5.6925,47.6785 5.1175,47.6785 Q 4.5425,47.6785 4.2375,47.8635 Q 3.9325,48.048500000000004 3.9325,48.3835 Q 3.9325,48.728500000000004 4.234500000000001,48.9135 Q 4.5375000000000005,49.0985 5.117500000000001,49.0985 Q 5.6975,49.0985 6.0045,48.9135 Q 6.3125,48.728500000000004 6.3125,48.3835\", \"type\": \"path\"}, {\"fillcolor\": \"white\", \"layer\": \"below\", \"line\": {\"color\": \"white\"}, \"path\": \"M 47.85,57.334999999999994 L 47.79,57.339999999999996 L 46.6,57.495 L 46.6,58.87 Q 46.6,58.94 46.645,58.983 Q 46.69,59.025 46.77,59.025 Q 46.955,59.025 46.955,58.834999999999994 L 46.955,57.724999999999994 L 47.65,57.62 Q 47.515,57.839999999999996 47.515,58.16 Q 47.515,58.375 47.61,58.592999999999996 Q 47.705,58.809999999999995 47.9,58.955 Q 48.095,59.099999999999994 48.385,59.099999999999994 Q 48.675,59.099999999999994 48.883,58.958 Q 49.09,58.815 49.195,58.577999999999996 Q 49.3,58.339999999999996 49.3,58.059999999999995 Q 49.3,57.69 49.165,57.445 Q 49.03,57.199999999999996 48.745,57.199999999999996 Q 48.59,57.199999999999996 48.473,57.293 Q 48.355,57.385 48.355,57.54 Q 48.355,57.635 48.405,57.702999999999996 Q 48.455,57.769999999999996 48.49,57.769999999999996 Q 48.495,57.769999999999996 48.535,57.724999999999994 Q 48.575,57.68 48.633,57.643 Q 48.69,57.605 48.765,57.605 Q 48.935,57.605 49.025,57.727999999999994 Q 49.115,57.849999999999994 49.115,58.07 Q 49.115,58.345 48.92,58.483 Q 48.725,58.62 48.41,58.62 Q 48.12,58.62 47.928,58.48 Q 47.735,58.339999999999996 47.735,58.044999999999995 Q 47.735,57.91 47.778,57.812999999999995 Q 47.82,57.714999999999996 47.9,57.605 Q 47.945,57.54 47.968,57.498 Q 47.99,57.455 47.99,57.415 Q 47.99,57.334999999999994 47.85,57.334999999999994 L 47.85,57.334999999999994\", \"type\": \"path\"}, {\"fillcolor\": \"white\", \"layer\": \"below\", \"line\": {\"color\": \"white\"}, \"path\": \"M 5.050000000000001,62.665 L 5.11,62.66 L 6.300000000000001,62.505 L 6.3,61.13 Q 6.3,61.06 6.255,61.017 Q 6.21,60.975 6.13,60.975 Q 5.945,60.975 5.945,61.165 L 5.945,62.275 L 5.25,62.38 Q 5.385,62.16 5.385,61.84 Q 5.385,61.625 5.29,61.407 Q 5.195,61.19 5.0,61.045 Q 4.805,60.9 4.515,60.9 Q 4.225,60.9 4.017,61.042 Q 3.8099999999999996,61.185 3.705,61.422 Q 3.5999999999999996,61.660000000000004 3.5999999999999996,61.94 Q 3.5999999999999996,62.31 3.7350000000000003,62.555 Q 3.87,62.8 4.155,62.8 Q 4.3100000000000005,62.8 4.4270000000000005,62.707 Q 4.545,62.615 4.545,62.46 Q 4.545,62.365 4.495,62.297 Q 4.445,62.23 4.41,62.23 Q 4.405,62.23 4.365,62.275 Q 4.325,62.32 4.267,62.357 Q 4.21,62.395 4.135,62.395 Q 3.9650000000000003,62.395 3.875,62.272 Q 3.785,62.15 3.785,61.93 Q 3.785,61.655 3.98,61.517 Q 4.175,61.38 4.49,61.38 Q 4.78,61.38 4.9719999999999995,61.52 Q 5.165,61.66 5.165,61.955 Q 5.165,62.09 5.122,62.187 Q 5.08,62.285 5.0,62.395 Q 4.955,62.46 4.932,62.502 Q 4.91,62.545 4.91,62.585 Q 4.91,62.665 5.05,62.665 L 5.050000000000001,62.665\", \"type\": \"path\"}, {\"fillcolor\": \"white\", \"layer\": \"below\", \"line\": {\"color\": \"white\"}, \"path\": \"M 46.549,61.99 Q 46.549,61.6 46.739,61.333 Q 46.929,61.065 47.244,60.933 Q 47.559,60.8 47.929,60.8 Q 48.304,60.8 48.614,60.933 Q 48.924,61.065 49.112,61.333 Q 49.299,61.6 49.299,61.99 Q 49.299,62.36 49.109,62.629999999999995 Q 48.919,62.9 48.604,63.04 Q 48.289,63.18 47.929,63.18 Q 47.569,63.18 47.254,63.04 Q 46.939,62.9 46.744,62.629999999999995 Q 46.549,62.36 46.549,61.99 M 46.734,61.995 Q 46.734,62.33 47.044,62.515 Q 47.354,62.699999999999996 47.929,62.699999999999996 Q 48.504,62.699999999999996 48.809,62.515 Q 49.114,62.33 49.114,61.995 Q 49.114,61.65 48.812,61.464999999999996 Q 48.509,61.28 47.929,61.28 Q 47.349,61.28 47.042,61.464999999999996 Q 46.734,61.65 46.734,61.995\", \"type\": \"path\"}, {\"fillcolor\": \"white\", \"layer\": \"below\", \"line\": {\"color\": \"white\"}, \"path\": \"M 6.351,58.21 Q 6.351,58.6 6.161,58.867000000000004 Q 5.971,59.135 5.656000000000001,59.267 Q 5.341,59.4 4.971,59.4 Q 4.596,59.4 4.286,59.267 Q 3.976,59.135000000000005 3.788,58.867000000000004 Q 3.601,58.6 3.601,58.21 Q 3.6009999999999995,57.84 3.7909999999999995,57.57 Q 3.981,57.300000000000004 4.295999999999999,57.160000000000004 Q 4.611,57.02 4.971,57.02 Q 5.3309999999999995,57.02 5.645999999999999,57.160000000000004 Q 5.961,57.300000000000004 6.156,57.57 Q 6.350999999999999,57.84 6.351,58.21 M 6.1659999999999995,58.205 Q 6.1659999999999995,57.870000000000005 5.856,57.685 Q 5.545999999999999,57.5 4.971,57.5 Q 4.396,57.5 4.090999999999999,57.685 Q 3.7859999999999996,57.870000000000005 3.7859999999999996,58.205 Q 3.7859999999999996,58.550000000000004 4.088,58.735 Q 4.391,58.92 4.971,58.92 Q 5.551,58.92 5.858,58.735 Q 6.1659999999999995,58.550000000000004 6.1659999999999995,58.205\", \"type\": \"path\"}, {\"fillcolor\": \"white\", \"layer\": \"below\", \"line\": {\"color\": \"white\"}, \"path\": \"M 49.3825,68.4085 L 48.6175,68.4085 L 48.6175,67.2135 Q 48.6175,67.1335 48.5675,67.09349999999999 Q 48.5175,67.0535 48.4425,67.0535 Q 48.3775,67.0535 48.3325,67.0885 L 46.7975,68.4935 Q 46.7475,68.5435 46.7475,68.6485 Q 46.7475,68.7285 46.789500000000004,68.7835 Q 46.8325,68.8385 46.9225,68.84349999999999 L 48.3725,68.84349999999999 L 48.3725,69.1435 Q 48.3725,69.2135 48.3895,69.2435 Q 48.4075,69.2735 48.4925,69.2785 Q 48.5475,69.2785 48.5825,69.2565 Q 48.6175,69.23349999999999 48.6175,69.1835 L 48.6175,68.84349999999999 L 49.3825,68.84349999999999 Q 49.4275,68.84349999999999 49.4525,68.7785 Q 49.4775,68.7135 49.4775,68.6285 Q 49.4775,68.5435 49.4525,68.4785 Q 49.4275,68.4135 49.3825,68.4085 M 47.1875,68.4085 L 48.3725,67.34349999999999 L 48.3725,68.4085 L 47.1875,68.4085\", \"type\": \"path\"}, {\"fillcolor\": \"white\", \"layer\": \"below\", \"line\": {\"color\": \"white\"}, \"path\": \"M 3.8425,71.6235 L 4.6075,71.6235 L 4.6075,72.8185 Q 4.6075,72.8985 4.657500000000001,72.9385 Q 4.7075000000000005,72.9785 4.782500000000001,72.9785 Q 4.8475,72.9785 4.8925,72.9435 L 6.4275,71.5385 Q 6.4775,71.4885 6.4775,71.3835 Q 6.4775,71.3035 6.435499999999999,71.24849999999999 Q 6.3925,71.1935 6.302499999999999,71.1885 L 4.8525,71.1885 L 4.8525,70.8885 Q 4.8525,70.8185 4.8355,70.7885 Q 4.8175,70.7585 4.7325,70.7535 Q 4.6775,70.7535 4.6425,70.7755 Q 4.6075,70.7985 4.6075,70.8485 L 4.6075,71.1885 L 3.8424999999999994,71.1885 Q 3.7974999999999994,71.1885 3.7725,71.2535 Q 3.7475,71.3185 3.7475,71.4035 Q 3.7475,71.4885 3.7725,71.5535 Q 3.7975,71.6185 3.8425,71.6235 M 6.0375,71.62349999999999 L 4.8525,72.6885 L 4.8525,71.6235 L 6.0375,71.62349999999999\", \"type\": \"path\"}, {\"fillcolor\": \"white\", \"layer\": \"below\", \"line\": {\"color\": \"white\"}, \"path\": \"M 46.7275,71.8435 Q 46.7275,71.4535 46.9175,71.18650000000001 Q 47.1075,70.91850000000001 47.4225,70.7865 Q 47.7375,70.65350000000001 48.1075,70.65350000000001 Q 48.4825,70.65350000000001 48.7925,70.7865 Q 49.1025,70.91850000000001 49.2905,71.18650000000001 Q 49.4775,71.4535 49.4775,71.8435 Q 49.4775,72.21350000000001 49.2875,72.4835 Q 49.0975,72.7535 48.7825,72.8935 Q 48.4675,73.0335 48.1075,73.0335 Q 47.7475,73.0335 47.4325,72.8935 Q 47.1175,72.7535 46.9225,72.4835 Q 46.7275,72.21350000000001 46.7275,71.8435 M 46.9125,71.8485 Q 46.9125,72.18350000000001 47.2225,72.36850000000001 Q 47.5325,72.5535 48.1075,72.5535 Q 48.6825,72.5535 48.9875,72.36850000000001 Q 49.2925,72.18350000000001 49.2925,71.8485 Q 49.2925,71.5035 48.9905,71.3185 Q 48.6875,71.13350000000001 48.1075,71.13350000000001 Q 47.5275,71.13350000000001 47.2205,71.3185 Q 46.9125,71.5035 46.9125,71.8485\", \"type\": \"path\"}, {\"fillcolor\": \"white\", \"layer\": \"below\", \"line\": {\"color\": \"white\"}, \"path\": \"M 6.4975000000000005,68.3885 Q 6.4975000000000005,68.7785 6.3075,69.04549999999999 Q 6.117500000000001,69.31349999999999 5.8025,69.4455 Q 5.487500000000001,69.57849999999999 5.117500000000001,69.57849999999999 Q 4.742500000000001,69.57849999999999 4.4325,69.4455 Q 4.1225000000000005,69.31349999999999 3.9345,69.04549999999999 Q 3.7475,68.7785 3.7475,68.3885 Q 3.7475,68.01849999999999 3.9375,67.74849999999999 Q 4.1274999999999995,67.4785 4.4425,67.3385 Q 4.7575,67.1985 5.1175,67.1985 Q 5.4775,67.1985 5.7924999999999995,67.3385 Q 6.1075,67.4785 6.3025,67.74849999999999 Q 6.4975000000000005,68.01849999999999 6.4975000000000005,68.3885 M 6.3125,68.3835 Q 6.3125,68.04849999999999 6.0024999999999995,67.86349999999999 Q 5.6925,67.6785 5.1175,67.6785 Q 4.5425,67.6785 4.2375,67.86349999999999 Q 3.9325,68.04849999999999 3.9325,68.3835 Q 3.9325,68.7285 4.234500000000001,68.9135 Q 4.5375000000000005,69.0985 5.117500000000001,69.0985 Q 5.6975,69.0985 6.0045,68.9135 Q 6.3125,68.7285 6.3125,68.3835\", \"type\": \"path\"}, {\"fillcolor\": \"white\", \"layer\": \"below\", \"line\": {\"color\": \"white\"}, \"path\": \"M 47.9975,78.1285 L 47.9975,77.9435 Q 47.9975,77.9085 47.9675,77.8885 Q 47.9375,77.8685 47.8975,77.8685 Q 47.8525,77.8685 47.8205,77.8885 Q 47.7875,77.9085 47.7825,77.9435 L 47.7825,78.1285 Q 47.7625,78.3235 47.6075,78.44149999999999 Q 47.4525,78.5585 47.2325,78.5585 Q 46.9925,78.5585 46.8655,78.4235 Q 46.7375,78.2885 46.7375,78.10849999999999 Q 46.7375,77.93849999999999 46.8355,77.81649999999999 Q 46.9325,77.6935 47.1025,77.6935 Q 47.2125,77.6935 47.2505,77.73649999999999 Q 47.2875,77.7785 47.2955,77.8185 Q 47.3025,77.85849999999999 47.3075,77.85849999999999 Q 47.3425,77.85849999999999 47.3925,77.7915 Q 47.4425,77.7235 47.4425,77.6285 Q 47.4425,77.46849999999999 47.3425,77.3785 Q 47.2425,77.2885 47.0875,77.2885 Q 46.8425,77.2885 46.7075,77.5185 Q 46.5725,77.74849999999999 46.5725,78.1135 Q 46.5725,78.5035 46.7425,78.7585 Q 46.9125,79.0135 47.2325,79.0135 Q 47.4425,79.0135 47.6225,78.8665 Q 47.8025,78.71849999999999 47.8775,78.4435 L 47.8975,78.4435 Q 47.9275,78.7235 48.0755,78.9285 Q 48.2225,79.1335 48.5425,79.1335 Q 48.9475,79.1335 49.1405,78.8385 Q 49.3325,78.5435 49.3325,78.0985 Q 49.3325,77.73349999999999 49.1905,77.4815 Q 49.0475,77.2285 48.7725,77.2285 Q 48.6275,77.2285 48.5225,77.3185 Q 48.4175,77.4085 48.4175,77.5685 Q 48.4175,77.6635 48.4675,77.7315 Q 48.5175,77.79849999999999 48.5525,77.79849999999999 Q 48.5575,77.79849999999999 48.5905,77.7535 Q 48.6225,77.7085 48.6775,77.6715 Q 48.7325,77.6335 48.8175,77.6335 Q 48.9725,77.6335 49.0605,77.7665 Q 49.1475,77.8985 49.1475,78.1135 Q 49.1475,78.6485 48.5525,78.6485 Q 48.3075,78.6485 48.1605,78.5185 Q 48.0125,78.3885 47.9975,78.1285\", \"type\": \"path\"}, {\"fillcolor\": \"white\", \"layer\": \"below\", \"line\": {\"color\": \"white\"}, \"path\": \"M 4.9075,81.9335 L 4.9075,82.1185 Q 4.9075,82.1535 4.9375,82.1735 Q 4.9675,82.1935 5.0075,82.1935 Q 5.0525,82.1935 5.0845,82.1735 Q 5.1175,82.1535 5.1225000000000005,82.1185 L 5.1225000000000005,81.9335 Q 5.1425,81.7385 5.297499999999999,81.62049999999999 Q 5.4525,81.5035 5.672499999999999,81.5035 Q 5.9125,81.5035 6.0395,81.6385 Q 6.1675,81.7735 6.1675,81.9535 Q 6.1675,82.1235 6.0695,82.24549999999999 Q 5.9725,82.3685 5.8025,82.3685 Q 5.6925,82.3685 5.6545000000000005,82.3255 Q 5.617500000000001,82.2835 5.609500000000001,82.2435 Q 5.6025,82.2035 5.5975,82.2035 Q 5.5625,82.2035 5.5125,82.2705 Q 5.4625,82.3385 5.4625,82.4335 Q 5.4625,82.5935 5.5625,82.6835 Q 5.6625000000000005,82.7735 5.8175,82.7735 Q 6.0625,82.7735 6.1975,82.5435 Q 6.3325,82.3135 6.3325,81.9485 Q 6.3325,81.5585 6.1625,81.3035 Q 5.9925,81.0485 5.672499999999999,81.0485 Q 5.4625,81.0485 5.2825,81.1955 Q 5.1025,81.3435 5.0275,81.6185 L 5.0075,81.6185 Q 4.9775,81.3385 4.8294999999999995,81.1335 Q 4.6825,80.9285 4.3625,80.9285 Q 3.9574999999999996,80.9285 3.7645,81.2235 Q 3.5725,81.5185 3.5725,81.9635 Q 3.5725,82.3285 3.7145,82.5805 Q 3.8575000000000004,82.8335 4.1325,82.8335 Q 4.2775,82.8335 4.3825,82.7435 Q 4.4875,82.6535 4.4875,82.4935 Q 4.4875,82.3985 4.4375,82.3305 Q 4.3875,82.2635 4.3525,82.2635 Q 4.3475,82.2635 4.3145,82.3085 Q 4.2825,82.3535 4.2275,82.3905 Q 4.1725,82.4285 4.0875,82.4285 Q 3.9325,82.4285 3.8445,82.2955 Q 3.7575,82.1635 3.7575,81.9485 Q 3.7575,81.4135 4.3525,81.4135 Q 4.5975,81.4135 4.7445,81.5435 Q 4.8925,81.6735 4.9075,81.9335\", \"type\": \"path\"}, {\"fillcolor\": \"white\", \"layer\": \"below\", \"line\": {\"color\": \"white\"}, \"path\": \"M 46.5825,82.0185 Q 46.5825,81.6285 46.7725,81.3615 Q 46.9625,81.0935 47.2775,80.9615 Q 47.5925,80.8285 47.9625,80.8285 Q 48.3375,80.8285 48.6475,80.9615 Q 48.9575,81.0935 49.1455,81.3615 Q 49.3325,81.6285 49.3325,82.0185 Q 49.3325,82.38850000000001 49.1425,82.6585 Q 48.9525,82.9285 48.6375,83.0685 Q 48.3225,83.2085 47.9625,83.2085 Q 47.6025,83.2085 47.2875,83.0685 Q 46.9725,82.9285 46.7775,82.6585 Q 46.5825,82.38850000000001 46.5825,82.0185 M 46.7675,82.02350000000001 Q 46.7675,82.3585 47.0775,82.54350000000001 Q 47.3875,82.72850000000001 47.9625,82.72850000000001 Q 48.5375,82.72850000000001 48.8425,82.54350000000001 Q 49.1475,82.3585 49.1475,82.02350000000001 Q 49.1475,81.6785 48.8455,81.49350000000001 Q 48.5425,81.30850000000001 47.9625,81.30850000000001 Q 47.3825,81.30850000000001 47.0755,81.49350000000001 Q 46.7675,81.6785 46.7675,82.02350000000001\", \"type\": \"path\"}, {\"fillcolor\": \"white\", \"layer\": \"below\", \"line\": {\"color\": \"white\"}, \"path\": \"M 6.3225,78.2435 Q 6.3225,78.6335 6.1325,78.9005 Q 5.9425,79.1685 5.6275,79.3005 Q 5.3125,79.4335 4.9425,79.4335 Q 4.5675,79.4335 4.2575,79.3005 Q 3.9475000000000002,79.1685 3.7595,78.9005 Q 3.5725,78.6335 3.5725,78.2435 Q 3.5725,77.87349999999999 3.7624999999999997,77.6035 Q 3.9524999999999997,77.3335 4.2675,77.1935 Q 4.5825,77.0535 4.9425,77.0535 Q 5.3025,77.0535 5.6175,77.1935 Q 5.9325,77.3335 6.1274999999999995,77.6035 Q 6.3225,77.87349999999999 6.3225,78.2435 M 6.137499999999999,78.23849999999999 Q 6.137499999999999,77.9035 5.8275,77.71849999999999 Q 5.5175,77.53349999999999 4.9425,77.53349999999999 Q 4.3675,77.53349999999999 4.0625,77.71849999999999 Q 3.7575,77.9035 3.7575,78.23849999999999 Q 3.7575,78.5835 4.0595,78.76849999999999 Q 4.3625,78.95349999999999 4.9425,78.95349999999999 Q 5.5225,78.95349999999999 5.8294999999999995,78.76849999999999 Q 6.137499999999999,78.5835 6.137499999999999,78.23849999999999\", \"type\": \"path\"}, {\"fillcolor\": \"white\", \"layer\": \"below\", \"line\": {\"color\": \"white\"}, \"path\": \"M 48.9595,87.55749999999999 L 48.9845,87.55749999999999 L 48.9845,88.8975 A 0.449,0.449 270.0 0,0 49.0125,89.0795 Q 49.039500000000004,89.1375 49.1595,89.1375 Q 49.3395,89.1375 49.3395,88.96249999999999 L 49.3395,87.2875 Q 49.3395,87.1125 49.1595,87.1125 Q 49.0545,87.11749999999999 48.9895,87.1695 Q 48.9245,87.2225 48.8445,87.3425 Q 48.5795,87.7375 48.4075,87.9545 Q 48.2345,88.1725 47.9695,88.3475 Q 47.7045,88.5225 47.3745,88.5225 Q 47.1345,88.5225 47.0025,88.3945 Q 46.8695,88.2675 46.8695,88.0375 Q 46.8695,87.8425 46.9675,87.7145 Q 47.0645,87.58749999999999 47.2345,87.58749999999999 Q 47.3195,87.58749999999999 47.3775,87.6275 Q 47.4345,87.6675 47.4695,87.70949999999999 Q 47.5045,87.7525 47.5095,87.7525 Q 47.5445,87.7525 47.5945,87.6845 Q 47.6445,87.61749999999999 47.6445,87.5225 Q 47.6445,87.36749999999999 47.5475,87.2745 Q 47.4495,87.18249999999999 47.2995,87.18249999999999 Q 47.0995,87.18249999999999 46.9595,87.3175 Q 46.8195,87.4525 46.7545,87.6595 Q 46.6895,87.86749999999999 46.6895,88.0825 Q 46.6895,88.4575 46.8745,88.7295 Q 47.0595,89.0025 47.4395,89.0025 Q 47.7145,89.0025 47.9395,88.85249999999999 Q 48.1645,88.7025 48.3225,88.4945 Q 48.4795,88.2875 48.6945,87.9525 Q 48.8595,87.6875 48.9595,87.55749999999999\", \"type\": \"path\"}, {\"fillcolor\": \"white\", \"layer\": \"below\", \"line\": {\"color\": \"white\"}, \"path\": \"M 4.0695,92.3925 L 4.0445,92.3925 L 4.0445,91.0525 A 0.449,0.449 450.0 0,0 4.0165,90.8705 Q 3.9894999999999996,90.8125 3.8694999999999995,90.8125 Q 3.6895,90.8125 3.6895,90.9875 L 3.6895000000000002,92.6625 Q 3.6895000000000002,92.8375 3.8695,92.8375 Q 3.9745,92.8325 4.0395,92.7805 Q 4.1045,92.7275 4.1845,92.6075 Q 4.4495000000000005,92.2125 4.6215,91.9955 Q 4.7945,91.7775 5.0595,91.6025 Q 5.3245000000000005,91.4275 5.6545,91.4275 Q 5.8945,91.4275 6.0264999999999995,91.5555 Q 6.1594999999999995,91.6825 6.1594999999999995,91.9125 Q 6.1594999999999995,92.1075 6.0615,92.2355 Q 5.9645,92.3625 5.7945,92.3625 Q 5.7095,92.3625 5.6515,92.3225 Q 5.5945,92.2825 5.5595,92.2405 Q 5.5245,92.1975 5.519500000000001,92.1975 Q 5.4845,92.1975 5.4345,92.2655 Q 5.3845,92.3325 5.3845,92.4275 Q 5.3845,92.5825 5.4815000000000005,92.6755 Q 5.5795,92.7675 5.7295,92.7675 Q 5.9295,92.7675 6.0695,92.6325 Q 6.2095,92.4975 6.2745,92.2905 Q 6.3395,92.0825 6.3395,91.8675 Q 6.3395,91.4925 6.1545,91.2205 Q 5.9695,90.9475 5.589499999999999,90.9475 Q 5.3145,90.9475 5.089499999999999,91.0975 Q 4.8645,91.2475 4.7065,91.4555 Q 4.5495,91.6625 4.3345,91.9975 Q 4.1695,92.2625 4.0695,92.3925\", \"type\": \"path\"}, {\"fillcolor\": \"white\", \"layer\": \"below\", \"line\": {\"color\": \"white\"}, \"path\": \"M 46.5885,91.90050000000001 Q 46.5885,91.51050000000001 46.7785,91.24350000000001 Q 46.9685,90.97550000000001 47.2835,90.8435 Q 47.5985,90.71050000000001 47.9685,90.71050000000001 Q 48.3435,90.71050000000001 48.6535,90.8435 Q 48.963499999999996,90.97550000000001 49.1515,91.24350000000001 Q 49.338499999999996,91.51050000000001 49.338499999999996,91.90050000000001 Q 49.338499999999996,92.2705 49.1485,92.54050000000001 Q 48.9585,92.8105 48.6435,92.9505 Q 48.3285,93.0905 47.9685,93.0905 Q 47.6085,93.0905 47.2935,92.9505 Q 46.9785,92.8105 46.7835,92.54050000000001 Q 46.5885,92.27050000000001 46.5885,91.90050000000001 M 46.7735,91.9055 Q 46.7735,92.24050000000001 47.0835,92.4255 Q 47.3935,92.6105 47.9685,92.6105 Q 48.5435,92.6105 48.8485,92.4255 Q 49.1535,92.24050000000001 49.1535,91.9055 Q 49.1535,91.5605 48.8515,91.3755 Q 48.5485,91.1905 47.9685,91.1905 Q 47.3885,91.1905 47.0815,91.3755 Q 46.7735,91.5605 46.7735,91.9055\", \"type\": \"path\"}, {\"fillcolor\": \"white\", \"layer\": \"below\", \"line\": {\"color\": \"white\"}, \"path\": \"M 6.4405,88.2495 Q 6.4405,88.6395 6.2505,88.9065 Q 6.0605,89.1745 5.7455,89.3065 Q 5.4305,89.4395 5.0605,89.4395 Q 4.6855,89.4395 4.375500000000001,89.3065 Q 4.0655,89.1745 3.8775,88.9065 Q 3.6905,88.6395 3.6905,88.2495 Q 3.6905,87.8795 3.8804999999999996,87.6095 Q 4.0705,87.3395 4.3854999999999995,87.1995 Q 4.7005,87.0595 5.060499999999999,87.0595 Q 5.4205,87.0595 5.7355,87.1995 Q 6.0504999999999995,87.33949999999999 6.2455,87.6095 Q 6.4405,87.8795 6.4405,88.2495 M 6.2555,88.24449999999999 Q 6.2555,87.9095 5.945499999999999,87.72449999999999 Q 5.6355,87.53949999999999 5.060499999999999,87.53949999999999 Q 4.4855,87.53949999999999 4.1805,87.72449999999999 Q 3.8754999999999997,87.9095 3.8754999999999997,88.24449999999999 Q 3.8754999999999997,88.5895 4.1775,88.77449999999999 Q 4.4805,88.95949999999999 5.0605,88.95949999999999 Q 5.6405,88.95949999999999 5.9475,88.77449999999999 Q 6.2555,88.58949999999999 6.2555,88.24449999999999\", \"type\": \"path\"}, {\"fillcolor\": \"white\", \"layer\": \"below\", \"line\": {\"color\": \"white\"}, \"path\": \"M 48.59382380757938,97.92917619242061 L 47.553823807579384,97.92917619242061 A 3.257,3.257 270.0 0,1 47.48482380757938,97.93017619242062 A 1.126,1.126 270.0 0,1 47.21682380757938,97.90717619242062 Q 47.11382380757938,97.87917619242062 47.08382380757938,97.80917619242062 Q 47.053823807579384,97.73917619242062 47.053823807579384,97.57917619242062 L 47.053823807579384,97.33417619242061 A 0.095,0.095 270.0 0,0 46.93382380757938,97.24417619242061 Q 46.858823807579384,97.24917619242062 46.84182380757938,97.27417619242061 Q 46.82382380757938,97.29917619242062 46.82382380757938,97.33717619242061 L 46.82382380757938,97.38917619242062 Q 46.82382380757938,97.59917619242061 46.75682380757938,97.79917619242062 Q 46.68882380757938,97.99917619242062 46.59382380757938,98.23417619242062 Q 46.58382380757938,98.26417619242062 46.58382380757938,98.28417619242062 Q 46.58382380757938,98.36417619242062 46.69882380757938,98.36417619242062 L 48.59382380757938,98.36417619242062 Q 48.81382380757938,98.36417619242062 48.90882380757938,98.41717619242061 Q 49.00382380757938,98.46917619242062 49.02882380757938,98.58217619242062 Q 49.053823807579384,98.69417619242061 49.053823807579384,98.94417619242061 L 49.053823807579384,98.99417619242061 Q 49.053823807579384,99.03417619242062 49.07382380757938,99.05217619242062 Q 49.09382380757938,99.06917619242061 49.15382380757938,99.07417619242062 Q 49.27382380757938,99.07417619242062 49.27382380757938,98.98417619242062 Q 49.25882380757938,98.62417619242062 49.25882380757938,98.14417619242062 Q 49.25882380757938,97.66917619242062 49.27382380757938,97.30917619242062 A 0.095,0.095 270.0 0,0 49.15382380757938,97.21917619242062 Q 49.09382380757938,97.22417619242061 49.07382380757938,97.24217619242062 Q 49.053823807579384,97.25917619242061 49.053823807579384,97.29917619242062 Q 49.053823807579384,97.57917619242062 49.03182380757938,97.69717619242061 Q 49.00882380757938,97.81417619242062 48.913823807579384,97.87217619242061 Q 48.81882380757938,97.92917619242061 48.59382380757938,97.92917619242061 L 48.59382380757938,97.92917619242061\", \"type\": \"path\"}, {\"fillcolor\": \"white\", \"layer\": \"below\", \"line\": {\"color\": \"white\"}, \"path\": \"M 4.2638238075793815,102.06082380757938 L 5.3038238075793815,102.06082380757938 A 3.257,3.257 450.0 0,1 5.3728238075793815,102.05982380757938 A 1.126,1.126 450.0 0,1 5.640823807579381,102.08282380757939 Q 5.743823807579382,102.11082380757938 5.773823807579381,102.18082380757939 Q 5.803823807579381,102.25082380757938 5.803823807579381,102.41082380757938 L 5.803823807579381,102.65582380757938 A 0.095,0.095 450.0 0,0 5.923823807579382,102.74582380757938 Q 5.998823807579381,102.74082380757937 6.015823807579381,102.71582380757938 Q 6.033823807579381,102.69082380757938 6.033823807579381,102.65282380757938 L 6.033823807579381,102.60082380757939 Q 6.033823807579381,102.39082380757938 6.100823807579381,102.19082380757938 Q 6.168823807579381,101.99082380757937 6.2638238075793815,101.75582380757938 Q 6.273823807579381,101.72582380757937 6.273823807579381,101.70582380757938 Q 6.273823807579381,101.62582380757938 6.158823807579381,101.62582380757938 L 4.2638238075793815,101.62582380757938 Q 4.043823807579381,101.62582380757938 3.948823807579381,101.57282380757938 Q 3.8538238075793814,101.52082380757938 3.8288238075793815,101.40782380757938 Q 3.803823807579381,101.29582380757938 3.8038238075793807,101.04582380757938 L 3.8038238075793807,100.99582380757938 Q 3.8038238075793807,100.95582380757938 3.7838238075793806,100.93782380757938 Q 3.763823807579381,100.92082380757938 3.703823807579381,100.91582380757939 Q 3.583823807579381,100.91582380757939 3.583823807579381,101.00582380757938 Q 3.5988238075793815,101.36582380757937 3.5988238075793815,101.84582380757938 Q 3.5988238075793815,102.32082380757939 3.5838238075793813,102.68082380757939 A 0.095,0.095 450.0 0,0 3.7038238075793815,102.77082380757938 Q 3.7638238075793815,102.76582380757938 3.783823807579381,102.74782380757938 Q 3.803823807579381,102.73082380757938 3.803823807579381,102.69082380757938 Q 3.803823807579381,102.41082380757938 3.8258238075793813,102.29282380757938 Q 3.8488238075793815,102.17582380757938 3.9438238075793812,102.11782380757938 Q 4.038823807579381,102.06082380757938 4.2638238075793815,102.06082380757938 L 4.2638238075793815,102.06082380757938\", \"type\": \"path\"}, {\"fillcolor\": \"white\", \"layer\": \"below\", \"line\": {\"color\": \"white\"}, \"path\": \"M 46.52282380757938,102.00617619242063 Q 46.52282380757938,101.61617619242062 46.71282380757938,101.34917619242063 Q 46.90282380757938,101.08117619242063 47.21782380757938,100.94917619242062 Q 47.53282380757938,100.81617619242063 47.90282380757938,100.81617619242063 Q 48.27782380757938,100.81617619242063 48.58782380757938,100.94917619242062 Q 48.89782380757938,101.08117619242063 49.08582380757938,101.34917619242063 Q 49.27282380757938,101.61617619242062 49.27282380757938,102.00617619242063 Q 49.27282380757938,102.37617619242063 49.08282380757938,102.64617619242063 Q 48.89282380757938,102.91617619242062 48.57782380757938,103.05617619242062 Q 48.26282380757938,103.19617619242062 47.90282380757938,103.19617619242062 Q 47.54282380757938,103.19617619242062 47.227823807579384,103.05617619242062 Q 46.91282380757938,102.91617619242062 46.71782380757938,102.64617619242063 Q 46.52282380757938,102.37617619242063 46.52282380757938,102.00617619242063 M 46.70782380757938,102.01117619242062 Q 46.70782380757938,102.34617619242063 47.01782380757938,102.53117619242063 Q 47.32782380757938,102.71617619242062 47.90282380757938,102.71617619242062 Q 48.477823807579384,102.71617619242062 48.78282380757938,102.53117619242063 Q 49.08782380757938,102.34617619242063 49.08782380757938,102.01117619242062 Q 49.08782380757938,101.66617619242062 48.78582380757938,101.48117619242062 Q 48.48282380757938,101.29617619242063 47.90282380757938,101.29617619242063 Q 47.32282380757938,101.29617619242063 47.01582380757938,101.48117619242062 Q 46.70782380757938,101.66617619242062 46.70782380757938,102.01117619242062\", \"type\": \"path\"}, {\"fillcolor\": \"white\", \"layer\": \"below\", \"line\": {\"color\": \"white\"}, \"path\": \"M 6.334823807579381,98.18382380757937 Q 6.334823807579381,98.57382380757937 6.144823807579382,98.84082380757937 Q 5.954823807579381,99.10882380757937 5.639823807579381,99.24082380757937 Q 5.3248238075793815,99.37382380757937 4.954823807579381,99.37382380757937 Q 4.579823807579381,99.37382380757937 4.269823807579382,99.24082380757937 Q 3.9598238075793812,99.10882380757937 3.771823807579381,98.84082380757937 Q 3.5848238075793812,98.57382380757937 3.5848238075793812,98.18382380757937 Q 3.584823807579381,97.81382380757938 3.774823807579381,97.54382380757937 Q 3.964823807579381,97.27382380757938 4.279823807579381,97.13382380757938 Q 4.594823807579381,96.99382380757937 4.954823807579381,96.99382380757937 Q 5.314823807579381,96.99382380757937 5.629823807579381,97.13382380757938 Q 5.944823807579381,97.27382380757938 6.139823807579381,97.54382380757937 Q 6.334823807579381,97.81382380757938 6.334823807579381,98.18382380757937 M 6.149823807579381,98.17882380757938 Q 6.149823807579381,97.84382380757937 5.839823807579381,97.65882380757938 Q 5.5298238075793815,97.47382380757938 4.954823807579381,97.47382380757938 Q 4.379823807579381,97.47382380757938 4.0748238075793815,97.65882380757938 Q 3.7698238075793813,97.84382380757937 3.7698238075793813,98.17882380757938 Q 3.7698238075793813,98.52382380757938 4.071823807579381,98.70882380757938 Q 4.374823807579381,98.89382380757938 4.954823807579381,98.89382380757938 Q 5.534823807579381,98.89382380757938 5.841823807579381,98.70882380757938 Q 6.149823807579381,98.52382380757938 6.149823807579381,98.17882380757938\", \"type\": \"path\"}, {\"fillcolor\": \"white\", \"layer\": \"below\", \"line\": {\"color\": \"white\"}, \"path\": \"M 5.4,16.5 L 5.2,15.700000000000001 L 5.0,16.5 L 5.4,16.5\", \"type\": \"path\"}, {\"fillcolor\": \"white\", \"layer\": \"below\", \"line\": {\"color\": \"white\"}, \"path\": \"M 5.4,26.5 L 5.2,25.700000000000003 L 5.0,26.5 L 5.4,26.5\", \"type\": \"path\"}, {\"fillcolor\": \"white\", \"layer\": \"below\", \"line\": {\"color\": \"white\"}, \"path\": \"M 5.4,36.5 L 5.2,35.7 L 5.0,36.5 L 5.4,36.5\", \"type\": \"path\"}, {\"fillcolor\": \"white\", \"layer\": \"below\", \"line\": {\"color\": \"white\"}, \"path\": \"M 5.4,46.5 L 5.2,45.7 L 5.0,46.5 L 5.4,46.5\", \"type\": \"path\"}, {\"fillcolor\": \"white\", \"layer\": \"below\", \"line\": {\"color\": \"white\"}, \"path\": \"M 5.0,73.39999999999999 L 5.2,74.2 L 5.4,73.39999999999999 L 5.0,73.39999999999999\", \"type\": \"path\"}, {\"fillcolor\": \"white\", \"layer\": \"below\", \"line\": {\"color\": \"white\"}, \"path\": \"M 5.0,83.39999999999999 L 5.2,84.2 L 5.4,83.39999999999999 L 5.0,83.39999999999999\", \"type\": \"path\"}, {\"fillcolor\": \"white\", \"layer\": \"below\", \"line\": {\"color\": \"white\"}, \"path\": \"M 5.0,93.39999999999999 L 5.2,94.2 L 5.4,93.39999999999999 L 5.0,93.39999999999999\", \"type\": \"path\"}, {\"fillcolor\": \"white\", \"layer\": \"below\", \"line\": {\"color\": \"white\"}, \"path\": \"M 5.0,103.39999999999999 L 5.2,104.2 L 5.4,103.39999999999999 L 5.0,103.39999999999999\", \"type\": \"path\"}, {\"fillcolor\": \"white\", \"layer\": \"below\", \"line\": {\"color\": \"white\"}, \"path\": \"M 47.9,103.5 L 48.1,104.30000000000001 L 48.300000000000004,103.5 L 47.9,103.5\", \"type\": \"path\"}, {\"fillcolor\": \"white\", \"layer\": \"below\", \"line\": {\"color\": \"white\"}, \"path\": \"M 47.9,93.5 L 48.1,94.30000000000001 L 48.300000000000004,93.5 L 47.9,93.5\", \"type\": \"path\"}, {\"fillcolor\": \"white\", \"layer\": \"below\", \"line\": {\"color\": \"white\"}, \"path\": \"M 47.9,83.5 L 48.1,84.30000000000001 L 48.300000000000004,83.5 L 47.9,83.5\", \"type\": \"path\"}, {\"fillcolor\": \"white\", \"layer\": \"below\", \"line\": {\"color\": \"white\"}, \"path\": \"M 47.9,73.5 L 48.1,74.30000000000001 L 48.300000000000004,73.5 L 47.9,73.5\", \"type\": \"path\"}, {\"fillcolor\": \"white\", \"layer\": \"below\", \"line\": {\"color\": \"white\"}, \"path\": \"M 48.300000000000004,46.6 L 48.1,45.800000000000004 L 47.9,46.6 L 48.300000000000004,46.6\", \"type\": \"path\"}, {\"fillcolor\": \"white\", \"layer\": \"below\", \"line\": {\"color\": \"white\"}, \"path\": \"M 48.300000000000004,36.6 L 48.1,35.800000000000004 L 47.9,36.6 L 48.300000000000004,36.6\", \"type\": \"path\"}, {\"fillcolor\": \"white\", \"layer\": \"below\", \"line\": {\"color\": \"white\"}, \"path\": \"M 48.300000000000004,26.6 L 48.1,25.800000000000004 L 47.9,26.6 L 48.300000000000004,26.6\", \"type\": \"path\"}, {\"fillcolor\": \"white\", \"layer\": \"below\", \"line\": {\"color\": \"white\"}, \"path\": \"M 48.300000000000004,16.6 L 48.1,15.800000000000002 L 47.9,16.6 L 48.300000000000004,16.6\", \"type\": \"path\"}], \"template\": {\"data\": {\"bar\": [{\"error_x\": {\"color\": \"#2a3f5f\"}, \"error_y\": {\"color\": \"#2a3f5f\"}, \"marker\": {\"line\": {\"color\": \"#E5ECF6\", \"width\": 0.5}}, \"type\": \"bar\"}], \"barpolar\": [{\"marker\": {\"line\": {\"color\": \"#E5ECF6\", \"width\": 0.5}}, \"type\": \"barpolar\"}], \"carpet\": [{\"aaxis\": {\"endlinecolor\": \"#2a3f5f\", \"gridcolor\": \"white\", \"linecolor\": \"white\", \"minorgridcolor\": \"white\", \"startlinecolor\": \"#2a3f5f\"}, \"baxis\": {\"endlinecolor\": \"#2a3f5f\", \"gridcolor\": \"white\", \"linecolor\": \"white\", \"minorgridcolor\": \"white\", \"startlinecolor\": \"#2a3f5f\"}, \"type\": \"carpet\"}], \"choropleth\": [{\"colorbar\": {\"outlinewidth\": 0, \"ticks\": \"\"}, \"type\": \"choropleth\"}], \"contour\": [{\"colorbar\": {\"outlinewidth\": 0, \"ticks\": \"\"}, \"colorscale\": [[0.0, \"#0d0887\"], [0.1111111111111111, \"#46039f\"], [0.2222222222222222, \"#7201a8\"], [0.3333333333333333, \"#9c179e\"], [0.4444444444444444, \"#bd3786\"], [0.5555555555555556, \"#d8576b\"], [0.6666666666666666, \"#ed7953\"], [0.7777777777777778, \"#fb9f3a\"], [0.8888888888888888, \"#fdca26\"], [1.0, \"#f0f921\"]], \"type\": \"contour\"}], \"contourcarpet\": [{\"colorbar\": {\"outlinewidth\": 0, \"ticks\": \"\"}, \"type\": \"contourcarpet\"}], \"heatmap\": [{\"colorbar\": {\"outlinewidth\": 0, \"ticks\": \"\"}, \"colorscale\": [[0.0, \"#0d0887\"], [0.1111111111111111, \"#46039f\"], [0.2222222222222222, \"#7201a8\"], [0.3333333333333333, \"#9c179e\"], [0.4444444444444444, \"#bd3786\"], [0.5555555555555556, \"#d8576b\"], [0.6666666666666666, \"#ed7953\"], [0.7777777777777778, \"#fb9f3a\"], [0.8888888888888888, \"#fdca26\"], [1.0, \"#f0f921\"]], \"type\": \"heatmap\"}], \"heatmapgl\": [{\"colorbar\": {\"outlinewidth\": 0, \"ticks\": \"\"}, \"colorscale\": [[0.0, \"#0d0887\"], [0.1111111111111111, \"#46039f\"], [0.2222222222222222, \"#7201a8\"], [0.3333333333333333, \"#9c179e\"], [0.4444444444444444, \"#bd3786\"], [0.5555555555555556, \"#d8576b\"], [0.6666666666666666, \"#ed7953\"], [0.7777777777777778, \"#fb9f3a\"], [0.8888888888888888, \"#fdca26\"], [1.0, \"#f0f921\"]], \"type\": \"heatmapgl\"}], \"histogram\": [{\"marker\": {\"colorbar\": {\"outlinewidth\": 0, \"ticks\": \"\"}}, \"type\": \"histogram\"}], \"histogram2d\": [{\"colorbar\": {\"outlinewidth\": 0, \"ticks\": \"\"}, \"colorscale\": [[0.0, \"#0d0887\"], [0.1111111111111111, \"#46039f\"], [0.2222222222222222, \"#7201a8\"], [0.3333333333333333, \"#9c179e\"], [0.4444444444444444, \"#bd3786\"], [0.5555555555555556, \"#d8576b\"], [0.6666666666666666, \"#ed7953\"], [0.7777777777777778, \"#fb9f3a\"], [0.8888888888888888, \"#fdca26\"], [1.0, \"#f0f921\"]], \"type\": \"histogram2d\"}], \"histogram2dcontour\": [{\"colorbar\": {\"outlinewidth\": 0, \"ticks\": \"\"}, \"colorscale\": [[0.0, \"#0d0887\"], [0.1111111111111111, \"#46039f\"], [0.2222222222222222, \"#7201a8\"], [0.3333333333333333, \"#9c179e\"], [0.4444444444444444, \"#bd3786\"], [0.5555555555555556, \"#d8576b\"], [0.6666666666666666, \"#ed7953\"], [0.7777777777777778, \"#fb9f3a\"], [0.8888888888888888, \"#fdca26\"], [1.0, \"#f0f921\"]], \"type\": \"histogram2dcontour\"}], \"mesh3d\": [{\"colorbar\": {\"outlinewidth\": 0, \"ticks\": \"\"}, \"type\": \"mesh3d\"}], \"parcoords\": [{\"line\": {\"colorbar\": {\"outlinewidth\": 0, \"ticks\": \"\"}}, \"type\": \"parcoords\"}], \"pie\": [{\"automargin\": true, \"type\": \"pie\"}], \"scatter\": [{\"marker\": {\"colorbar\": {\"outlinewidth\": 0, \"ticks\": \"\"}}, \"type\": \"scatter\"}], \"scatter3d\": [{\"line\": {\"colorbar\": {\"outlinewidth\": 0, \"ticks\": \"\"}}, \"marker\": {\"colorbar\": {\"outlinewidth\": 0, \"ticks\": \"\"}}, \"type\": \"scatter3d\"}], \"scattercarpet\": [{\"marker\": {\"colorbar\": {\"outlinewidth\": 0, \"ticks\": \"\"}}, \"type\": \"scattercarpet\"}], \"scattergeo\": [{\"marker\": {\"colorbar\": {\"outlinewidth\": 0, \"ticks\": \"\"}}, \"type\": \"scattergeo\"}], \"scattergl\": [{\"marker\": {\"colorbar\": {\"outlinewidth\": 0, \"ticks\": \"\"}}, \"type\": \"scattergl\"}], \"scattermapbox\": [{\"marker\": {\"colorbar\": {\"outlinewidth\": 0, \"ticks\": \"\"}}, \"type\": \"scattermapbox\"}], \"scatterpolar\": [{\"marker\": {\"colorbar\": {\"outlinewidth\": 0, \"ticks\": \"\"}}, \"type\": \"scatterpolar\"}], \"scatterpolargl\": [{\"marker\": {\"colorbar\": {\"outlinewidth\": 0, \"ticks\": \"\"}}, \"type\": \"scatterpolargl\"}], \"scatterternary\": [{\"marker\": {\"colorbar\": {\"outlinewidth\": 0, \"ticks\": \"\"}}, \"type\": \"scatterternary\"}], \"surface\": [{\"colorbar\": {\"outlinewidth\": 0, \"ticks\": \"\"}, \"colorscale\": [[0.0, \"#0d0887\"], [0.1111111111111111, \"#46039f\"], [0.2222222222222222, \"#7201a8\"], [0.3333333333333333, \"#9c179e\"], [0.4444444444444444, \"#bd3786\"], [0.5555555555555556, \"#d8576b\"], [0.6666666666666666, \"#ed7953\"], [0.7777777777777778, \"#fb9f3a\"], [0.8888888888888888, \"#fdca26\"], [1.0, \"#f0f921\"]], \"type\": \"surface\"}], \"table\": [{\"cells\": {\"fill\": {\"color\": \"#EBF0F8\"}, \"line\": {\"color\": \"white\"}}, \"header\": {\"fill\": {\"color\": \"#C8D4E3\"}, \"line\": {\"color\": \"white\"}}, \"type\": \"table\"}]}, \"layout\": {\"annotationdefaults\": {\"arrowcolor\": \"#2a3f5f\", \"arrowhead\": 0, \"arrowwidth\": 1}, \"autotypenumbers\": \"strict\", \"coloraxis\": {\"colorbar\": {\"outlinewidth\": 0, \"ticks\": \"\"}}, \"colorscale\": {\"diverging\": [[0, \"#8e0152\"], [0.1, \"#c51b7d\"], [0.2, \"#de77ae\"], [0.3, \"#f1b6da\"], [0.4, \"#fde0ef\"], [0.5, \"#f7f7f7\"], [0.6, \"#e6f5d0\"], [0.7, \"#b8e186\"], [0.8, \"#7fbc41\"], [0.9, \"#4d9221\"], [1, \"#276419\"]], \"sequential\": [[0.0, \"#0d0887\"], [0.1111111111111111, \"#46039f\"], [0.2222222222222222, \"#7201a8\"], [0.3333333333333333, \"#9c179e\"], [0.4444444444444444, \"#bd3786\"], [0.5555555555555556, \"#d8576b\"], [0.6666666666666666, \"#ed7953\"], [0.7777777777777778, \"#fb9f3a\"], [0.8888888888888888, \"#fdca26\"], [1.0, \"#f0f921\"]], \"sequentialminus\": [[0.0, \"#0d0887\"], [0.1111111111111111, \"#46039f\"], [0.2222222222222222, \"#7201a8\"], [0.3333333333333333, \"#9c179e\"], [0.4444444444444444, \"#bd3786\"], [0.5555555555555556, \"#d8576b\"], [0.6666666666666666, \"#ed7953\"], [0.7777777777777778, \"#fb9f3a\"], [0.8888888888888888, \"#fdca26\"], [1.0, \"#f0f921\"]]}, \"colorway\": [\"#636efa\", \"#EF553B\", \"#00cc96\", \"#ab63fa\", \"#FFA15A\", \"#19d3f3\", \"#FF6692\", \"#B6E880\", \"#FF97FF\", \"#FECB52\"], \"font\": {\"color\": \"#2a3f5f\"}, \"geo\": {\"bgcolor\": \"white\", \"lakecolor\": \"white\", \"landcolor\": \"#E5ECF6\", \"showlakes\": true, \"showland\": true, \"subunitcolor\": \"white\"}, \"hoverlabel\": {\"align\": \"left\"}, \"hovermode\": \"closest\", \"mapbox\": {\"style\": \"light\"}, \"paper_bgcolor\": \"white\", \"plot_bgcolor\": \"#E5ECF6\", \"polar\": {\"angularaxis\": {\"gridcolor\": \"white\", \"linecolor\": \"white\", \"ticks\": \"\"}, \"bgcolor\": \"#E5ECF6\", \"radialaxis\": {\"gridcolor\": \"white\", \"linecolor\": \"white\", \"ticks\": \"\"}}, \"scene\": {\"xaxis\": {\"backgroundcolor\": \"#E5ECF6\", \"gridcolor\": \"white\", \"gridwidth\": 2, \"linecolor\": \"white\", \"showbackground\": true, \"ticks\": \"\", \"zerolinecolor\": \"white\"}, \"yaxis\": {\"backgroundcolor\": \"#E5ECF6\", \"gridcolor\": \"white\", \"gridwidth\": 2, \"linecolor\": \"white\", \"showbackground\": true, \"ticks\": \"\", \"zerolinecolor\": \"white\"}, \"zaxis\": {\"backgroundcolor\": \"#E5ECF6\", \"gridcolor\": \"white\", \"gridwidth\": 2, \"linecolor\": \"white\", \"showbackground\": true, \"ticks\": \"\", \"zerolinecolor\": \"white\"}}, \"shapedefaults\": {\"line\": {\"color\": \"#2a3f5f\"}}, \"ternary\": {\"aaxis\": {\"gridcolor\": \"white\", \"linecolor\": \"white\", \"ticks\": \"\"}, \"baxis\": {\"gridcolor\": \"white\", \"linecolor\": \"white\", \"ticks\": \"\"}, \"bgcolor\": \"#E5ECF6\", \"caxis\": {\"gridcolor\": \"white\", \"linecolor\": \"white\", \"ticks\": \"\"}}, \"title\": {\"x\": 0.05}, \"xaxis\": {\"automargin\": true, \"gridcolor\": \"white\", \"linecolor\": \"white\", \"ticks\": \"\", \"title\": {\"standoff\": 15}, \"zerolinecolor\": \"white\", \"zerolinewidth\": 2}, \"yaxis\": {\"automargin\": true, \"gridcolor\": \"white\", \"linecolor\": \"white\", \"ticks\": \"\", \"title\": {\"standoff\": 15}, \"zerolinecolor\": \"white\", \"zerolinewidth\": 2}}}, \"xaxis\": {\"range\": [-3, 56.3], \"showgrid\": false, \"showticklabels\": false, \"zeroline\": false}, \"yaxis\": {\"range\": [-5, 125], \"showgrid\": false, \"showticklabels\": false, \"zeroline\": false}},                        {\"responsive\": true}                    ).then(function(){\n",
       "                            \n",
       "var gd = document.getElementById('8ce82ffc-edeb-4851-9b14-f1d6ec2b54f3');\n",
       "var x = new MutationObserver(function (mutations, observer) {{\n",
       "        var display = window.getComputedStyle(gd).display;\n",
       "        if (!display || display === 'none') {{\n",
       "            console.log([gd, 'removed!']);\n",
       "            Plotly.purge(gd);\n",
       "            observer.disconnect();\n",
       "        }}\n",
       "}});\n",
       "\n",
       "// Listen for the removal of the full notebook cells\n",
       "var notebookContainer = gd.closest('#notebook-container');\n",
       "if (notebookContainer) {{\n",
       "    x.observe(notebookContainer, {childList: true});\n",
       "}}\n",
       "\n",
       "// Listen for the clearing of the current output cell\n",
       "var outputEl = gd.closest('.output');\n",
       "if (outputEl) {{\n",
       "    x.observe(outputEl, {childList: true});\n",
       "}}\n",
       "\n",
       "                        })                };                });            </script>        </div>"
      ]
     },
     "metadata": {},
     "output_type": "display_data"
    }
   ],
   "source": [
    "vertical_field = Field(\n",
    "    nfl.FIELD_WIDTH, nfl.FIELD_LENGTH, nfl._make_field_lines_markers(vertical_field=True), nfl.BACKGROUND_COLOR\n",
    ")\n",
    "fig = create_field(sport_field=vertical_field)\n",
    "#fig.update_layout(width=700, height=1000)\n",
    "fig.show()"
   ]
  },
  {
   "cell_type": "code",
   "execution_count": 82,
   "id": "champion-crossing",
   "metadata": {},
   "outputs": [
    {
     "data": {
      "text/html": [
       "<div>\n",
       "<style scoped>\n",
       "    .dataframe tbody tr th:only-of-type {\n",
       "        vertical-align: middle;\n",
       "    }\n",
       "\n",
       "    .dataframe tbody tr th {\n",
       "        vertical-align: top;\n",
       "    }\n",
       "\n",
       "    .dataframe thead th {\n",
       "        text-align: right;\n",
       "    }\n",
       "</style>\n",
       "<table border=\"1\" class=\"dataframe\">\n",
       "  <thead>\n",
       "    <tr style=\"text-align: right;\">\n",
       "      <th></th>\n",
       "      <th>0</th>\n",
       "      <th>1</th>\n",
       "    </tr>\n",
       "  </thead>\n",
       "  <tbody>\n",
       "    <tr>\n",
       "      <th>CLE</th>\n",
       "      <td>rgb(255, 60, 0)</td>\n",
       "      <td>rgb(49, 29, 0)</td>\n",
       "    </tr>\n",
       "    <tr>\n",
       "      <th>GB</th>\n",
       "      <td>rgb(28, 45, 37)</td>\n",
       "      <td>rgb(238, 173, 30)</td>\n",
       "    </tr>\n",
       "  </tbody>\n",
       "</table>\n",
       "</div>"
      ],
      "text/plain": [
       "                   0                  1\n",
       "CLE  rgb(255, 60, 0)     rgb(49, 29, 0)\n",
       "GB   rgb(28, 45, 37)  rgb(238, 173, 30)"
      ]
     },
     "execution_count": 82,
     "metadata": {},
     "output_type": "execute_result"
    }
   ],
   "source": [
    "import pandas as pd\n",
    "colors = pd.DataFrame({\n",
    "    \"CLE\": [\"rgb(255, 60, 0)\", \"rgb(49, 29, 0)\"],\n",
    "    \"GB\": [\"rgb(28, 45, 37)\", \"rgb(238, 173, 30)\"]\n",
    "})\n",
    "colors.T"
   ]
  },
  {
   "cell_type": "code",
   "execution_count": 84,
   "id": "generic-aviation",
   "metadata": {},
   "outputs": [
    {
     "data": {
      "text/html": [
       "<div>\n",
       "<style scoped>\n",
       "    .dataframe tbody tr th:only-of-type {\n",
       "        vertical-align: middle;\n",
       "    }\n",
       "\n",
       "    .dataframe tbody tr th {\n",
       "        vertical-align: top;\n",
       "    }\n",
       "\n",
       "    .dataframe thead th {\n",
       "        text-align: right;\n",
       "    }\n",
       "</style>\n",
       "<table border=\"1\" class=\"dataframe\">\n",
       "  <thead>\n",
       "    <tr style=\"text-align: right;\">\n",
       "      <th></th>\n",
       "      <th>CLE</th>\n",
       "      <th>GB</th>\n",
       "      <th>CLE</th>\n",
       "      <th>GB</th>\n",
       "      <th>GB</th>\n",
       "      <th>CLE</th>\n",
       "    </tr>\n",
       "  </thead>\n",
       "  <tbody>\n",
       "    <tr>\n",
       "      <th>0</th>\n",
       "      <td>rgb(255, 60, 0)</td>\n",
       "      <td>rgb(28, 45, 37)</td>\n",
       "      <td>rgb(255, 60, 0)</td>\n",
       "      <td>rgb(28, 45, 37)</td>\n",
       "      <td>rgb(28, 45, 37)</td>\n",
       "      <td>rgb(255, 60, 0)</td>\n",
       "    </tr>\n",
       "    <tr>\n",
       "      <th>1</th>\n",
       "      <td>rgb(49, 29, 0)</td>\n",
       "      <td>rgb(238, 173, 30)</td>\n",
       "      <td>rgb(49, 29, 0)</td>\n",
       "      <td>rgb(238, 173, 30)</td>\n",
       "      <td>rgb(238, 173, 30)</td>\n",
       "      <td>rgb(49, 29, 0)</td>\n",
       "    </tr>\n",
       "  </tbody>\n",
       "</table>\n",
       "</div>"
      ],
      "text/plain": [
       "               CLE                 GB              CLE                 GB  \\\n",
       "0  rgb(255, 60, 0)    rgb(28, 45, 37)  rgb(255, 60, 0)    rgb(28, 45, 37)   \n",
       "1   rgb(49, 29, 0)  rgb(238, 173, 30)   rgb(49, 29, 0)  rgb(238, 173, 30)   \n",
       "\n",
       "                  GB              CLE  \n",
       "0    rgb(28, 45, 37)  rgb(255, 60, 0)  \n",
       "1  rgb(238, 173, 30)   rgb(49, 29, 0)  "
      ]
     },
     "execution_count": 84,
     "metadata": {},
     "output_type": "execute_result"
    }
   ],
   "source": [
    "test = pd.Series([\"CLE\", \"GB\", \"CLE\", \"GB\", \"GB\", \"CLE\"])\n",
    "colors[test]"
   ]
  },
  {
   "cell_type": "code",
   "execution_count": 87,
   "id": "differential-ozone",
   "metadata": {},
   "outputs": [
    {
     "data": {
      "text/html": [
       "<div>\n",
       "<style scoped>\n",
       "    .dataframe tbody tr th:only-of-type {\n",
       "        vertical-align: middle;\n",
       "    }\n",
       "\n",
       "    .dataframe tbody tr th {\n",
       "        vertical-align: top;\n",
       "    }\n",
       "\n",
       "    .dataframe thead th {\n",
       "        text-align: right;\n",
       "    }\n",
       "</style>\n",
       "<table border=\"1\" class=\"dataframe\">\n",
       "  <thead>\n",
       "    <tr style=\"text-align: right;\">\n",
       "      <th></th>\n",
       "      <th>ARI</th>\n",
       "      <th>ATL</th>\n",
       "    </tr>\n",
       "  </thead>\n",
       "  <tbody>\n",
       "    <tr>\n",
       "      <th>0</th>\n",
       "      <td>#97233f</td>\n",
       "      <td>#a71930</td>\n",
       "    </tr>\n",
       "    <tr>\n",
       "      <th>1</th>\n",
       "      <td>black</td>\n",
       "      <td>#a5acaf</td>\n",
       "    </tr>\n",
       "    <tr>\n",
       "      <th>2</th>\n",
       "      <td>None</td>\n",
       "      <td>black</td>\n",
       "    </tr>\n",
       "  </tbody>\n",
       "</table>\n",
       "</div>"
      ],
      "text/plain": [
       "       ARI      ATL\n",
       "0  #97233f  #a71930\n",
       "1    black  #a5acaf\n",
       "2     None    black"
      ]
     },
     "execution_count": 87,
     "metadata": {},
     "output_type": "execute_result"
    }
   ],
   "source": [
    "TEAM_COLORS = {\n",
    "    \"ARI\": [\"#97233f\", \"black\"],\n",
    "    \"ATL\": [\"#a71930\", \"#a5acaf\", \"black\"]\n",
    "}\n",
    "max_number_colors = max(len(color_list) for _, color_list in TEAM_COLORS.items())\n",
    "TEAM_COLORS = pd.DataFrame({\n",
    "    team: color_list + [None] * (max_number_colors - len(color_list))\n",
    "    for team, color_list in TEAM_COLORS.items()\n",
    "})\n",
    "TEAM_COLORS"
   ]
  },
  {
   "cell_type": "code",
   "execution_count": 88,
   "id": "sealed-aaron",
   "metadata": {},
   "outputs": [
    {
     "data": {
      "text/html": [
       "<div>\n",
       "<style scoped>\n",
       "    .dataframe tbody tr th:only-of-type {\n",
       "        vertical-align: middle;\n",
       "    }\n",
       "\n",
       "    .dataframe tbody tr th {\n",
       "        vertical-align: top;\n",
       "    }\n",
       "\n",
       "    .dataframe thead th {\n",
       "        text-align: right;\n",
       "    }\n",
       "</style>\n",
       "<table border=\"1\" class=\"dataframe\">\n",
       "  <thead>\n",
       "    <tr style=\"text-align: right;\">\n",
       "      <th></th>\n",
       "      <th>ARI</th>\n",
       "      <th>ATL</th>\n",
       "    </tr>\n",
       "  </thead>\n",
       "  <tbody>\n",
       "    <tr>\n",
       "      <th>0</th>\n",
       "      <td>False</td>\n",
       "      <td>False</td>\n",
       "    </tr>\n",
       "    <tr>\n",
       "      <th>1</th>\n",
       "      <td>False</td>\n",
       "      <td>False</td>\n",
       "    </tr>\n",
       "    <tr>\n",
       "      <th>2</th>\n",
       "      <td>True</td>\n",
       "      <td>False</td>\n",
       "    </tr>\n",
       "  </tbody>\n",
       "</table>\n",
       "</div>"
      ],
      "text/plain": [
       "     ARI    ATL\n",
       "0  False  False\n",
       "1  False  False\n",
       "2   True  False"
      ]
     },
     "execution_count": 88,
     "metadata": {},
     "output_type": "execute_result"
    }
   ],
   "source": [
    "TEAM_COLORS.isnull()"
   ]
  },
  {
   "cell_type": "code",
   "execution_count": 89,
   "id": "bibliographic-double",
   "metadata": {},
   "outputs": [],
   "source": [
    "from ptplot._assets.nfl_teams import TEAM_COLORS"
   ]
  },
  {
   "cell_type": "code",
   "execution_count": 90,
   "id": "failing-nevada",
   "metadata": {},
   "outputs": [
    {
     "data": {
      "text/html": [
       "<div>\n",
       "<style scoped>\n",
       "    .dataframe tbody tr th:only-of-type {\n",
       "        vertical-align: middle;\n",
       "    }\n",
       "\n",
       "    .dataframe tbody tr th {\n",
       "        vertical-align: top;\n",
       "    }\n",
       "\n",
       "    .dataframe thead th {\n",
       "        text-align: right;\n",
       "    }\n",
       "</style>\n",
       "<table border=\"1\" class=\"dataframe\">\n",
       "  <thead>\n",
       "    <tr style=\"text-align: right;\">\n",
       "      <th></th>\n",
       "      <th>ARI</th>\n",
       "      <th>ATL</th>\n",
       "      <th>BAL</th>\n",
       "      <th>BUF</th>\n",
       "      <th>CAR</th>\n",
       "      <th>CHI</th>\n",
       "      <th>CIN</th>\n",
       "      <th>CLE</th>\n",
       "      <th>DAL</th>\n",
       "      <th>DEN</th>\n",
       "      <th>...</th>\n",
       "      <th>NO</th>\n",
       "      <th>NYG</th>\n",
       "      <th>NYJ</th>\n",
       "      <th>PHI</th>\n",
       "      <th>PIT</th>\n",
       "      <th>SF</th>\n",
       "      <th>SEA</th>\n",
       "      <th>TB</th>\n",
       "      <th>TEN</th>\n",
       "      <th>WAS</th>\n",
       "    </tr>\n",
       "  </thead>\n",
       "  <tbody>\n",
       "    <tr>\n",
       "      <th>0</th>\n",
       "      <td>#97233f</td>\n",
       "      <td>#a71930</td>\n",
       "      <td>#241773</td>\n",
       "      <td>#00338d</td>\n",
       "      <td>#0085ca</td>\n",
       "      <td>#0b162a</td>\n",
       "      <td>#fb4f14</td>\n",
       "      <td>#311d00</td>\n",
       "      <td>#002244</td>\n",
       "      <td>#fb4f14</td>\n",
       "      <td>...</td>\n",
       "      <td>black</td>\n",
       "      <td>#0b2265</td>\n",
       "      <td>#003f2d</td>\n",
       "      <td>#004c54</td>\n",
       "      <td>black</td>\n",
       "      <td>#aa0000</td>\n",
       "      <td>#002244</td>\n",
       "      <td>#d50a0a</td>\n",
       "      <td>#002244</td>\n",
       "      <td>#773141</td>\n",
       "    </tr>\n",
       "    <tr>\n",
       "      <th>1</th>\n",
       "      <td>black</td>\n",
       "      <td>#a5acaf</td>\n",
       "      <td>#9e7c0c</td>\n",
       "      <td>#c60c30</td>\n",
       "      <td>#bfc0bf</td>\n",
       "      <td>#c83803</td>\n",
       "      <td>black</td>\n",
       "      <td>#ff3c00</td>\n",
       "      <td>#869397</td>\n",
       "      <td>#002244</td>\n",
       "      <td>...</td>\n",
       "      <td>#d3bc8d</td>\n",
       "      <td>#a71930</td>\n",
       "      <td>white</td>\n",
       "      <td>#a5acaf</td>\n",
       "      <td>#ffb612</td>\n",
       "      <td>#b3995d</td>\n",
       "      <td>#69be28</td>\n",
       "      <td>#34302b</td>\n",
       "      <td>#4b92db</td>\n",
       "      <td>#ffb612</td>\n",
       "    </tr>\n",
       "    <tr>\n",
       "      <th>2</th>\n",
       "      <td>None</td>\n",
       "      <td>black</td>\n",
       "      <td>black</td>\n",
       "      <td>None</td>\n",
       "      <td>black</td>\n",
       "      <td>None</td>\n",
       "      <td>None</td>\n",
       "      <td>None</td>\n",
       "      <td>#00338d</td>\n",
       "      <td>None</td>\n",
       "      <td>...</td>\n",
       "      <td>None</td>\n",
       "      <td>#a5acaf</td>\n",
       "      <td>None</td>\n",
       "      <td>black</td>\n",
       "      <td>#c60c30</td>\n",
       "      <td>None</td>\n",
       "      <td>#a5acaf</td>\n",
       "      <td>#ff7900</td>\n",
       "      <td>#c60c30</td>\n",
       "      <td>None</td>\n",
       "    </tr>\n",
       "    <tr>\n",
       "      <th>3</th>\n",
       "      <td>None</td>\n",
       "      <td>None</td>\n",
       "      <td>None</td>\n",
       "      <td>None</td>\n",
       "      <td>None</td>\n",
       "      <td>None</td>\n",
       "      <td>None</td>\n",
       "      <td>None</td>\n",
       "      <td>None</td>\n",
       "      <td>None</td>\n",
       "      <td>...</td>\n",
       "      <td>None</td>\n",
       "      <td>None</td>\n",
       "      <td>None</td>\n",
       "      <td>None</td>\n",
       "      <td>#00539b</td>\n",
       "      <td>None</td>\n",
       "      <td>None</td>\n",
       "      <td>None</td>\n",
       "      <td>#a5acaf</td>\n",
       "      <td>None</td>\n",
       "    </tr>\n",
       "  </tbody>\n",
       "</table>\n",
       "<p>4 rows × 32 columns</p>\n",
       "</div>"
      ],
      "text/plain": [
       "       ARI      ATL      BAL      BUF      CAR      CHI      CIN      CLE  \\\n",
       "0  #97233f  #a71930  #241773  #00338d  #0085ca  #0b162a  #fb4f14  #311d00   \n",
       "1    black  #a5acaf  #9e7c0c  #c60c30  #bfc0bf  #c83803    black  #ff3c00   \n",
       "2     None    black    black     None    black     None     None     None   \n",
       "3     None     None     None     None     None     None     None     None   \n",
       "\n",
       "       DAL      DEN  ...       NO      NYG      NYJ      PHI      PIT  \\\n",
       "0  #002244  #fb4f14  ...    black  #0b2265  #003f2d  #004c54    black   \n",
       "1  #869397  #002244  ...  #d3bc8d  #a71930    white  #a5acaf  #ffb612   \n",
       "2  #00338d     None  ...     None  #a5acaf     None    black  #c60c30   \n",
       "3     None     None  ...     None     None     None     None  #00539b   \n",
       "\n",
       "        SF      SEA       TB      TEN      WAS  \n",
       "0  #aa0000  #002244  #d50a0a  #002244  #773141  \n",
       "1  #b3995d  #69be28  #34302b  #4b92db  #ffb612  \n",
       "2     None  #a5acaf  #ff7900  #c60c30     None  \n",
       "3     None     None     None  #a5acaf     None  \n",
       "\n",
       "[4 rows x 32 columns]"
      ]
     },
     "execution_count": 90,
     "metadata": {},
     "output_type": "execute_result"
    }
   ],
   "source": [
    "TEAM_COLORS"
   ]
  },
  {
   "cell_type": "code",
   "execution_count": 110,
   "id": "fatty-prophet",
   "metadata": {},
   "outputs": [
    {
     "data": {
      "text/html": [
       "<div>\n",
       "<style scoped>\n",
       "    .dataframe tbody tr th:only-of-type {\n",
       "        vertical-align: middle;\n",
       "    }\n",
       "\n",
       "    .dataframe tbody tr th {\n",
       "        vertical-align: top;\n",
       "    }\n",
       "\n",
       "    .dataframe thead th {\n",
       "        text-align: right;\n",
       "    }\n",
       "</style>\n",
       "<table border=\"1\" class=\"dataframe\">\n",
       "  <thead>\n",
       "    <tr style=\"text-align: right;\">\n",
       "      <th></th>\n",
       "      <th>0</th>\n",
       "      <th>1</th>\n",
       "    </tr>\n",
       "  </thead>\n",
       "  <tbody>\n",
       "    <tr>\n",
       "      <th>0</th>\n",
       "      <td>#311d00</td>\n",
       "      <td>#ff3c00</td>\n",
       "    </tr>\n",
       "    <tr>\n",
       "      <th>1</th>\n",
       "      <td>#203731</td>\n",
       "      <td>#ffb612</td>\n",
       "    </tr>\n",
       "    <tr>\n",
       "      <th>2</th>\n",
       "      <td>#03202f</td>\n",
       "      <td>#a71930</td>\n",
       "    </tr>\n",
       "    <tr>\n",
       "      <th>3</th>\n",
       "      <td>#311d00</td>\n",
       "      <td>#ff3c00</td>\n",
       "    </tr>\n",
       "    <tr>\n",
       "      <th>4</th>\n",
       "      <td>#311d00</td>\n",
       "      <td>#ff3c00</td>\n",
       "    </tr>\n",
       "    <tr>\n",
       "      <th>5</th>\n",
       "      <td>#002244</td>\n",
       "      <td>#4b92db</td>\n",
       "    </tr>\n",
       "    <tr>\n",
       "      <th>6</th>\n",
       "      <td>None</td>\n",
       "      <td>None</td>\n",
       "    </tr>\n",
       "  </tbody>\n",
       "</table>\n",
       "</div>"
      ],
      "text/plain": [
       "         0        1\n",
       "0  #311d00  #ff3c00\n",
       "1  #203731  #ffb612\n",
       "2  #03202f  #a71930\n",
       "3  #311d00  #ff3c00\n",
       "4  #311d00  #ff3c00\n",
       "5  #002244  #4b92db\n",
       "6     None     None"
      ]
     },
     "execution_count": 110,
     "metadata": {},
     "output_type": "execute_result"
    }
   ],
   "source": [
    "import numpy as np\n",
    "woo = TEAM_COLORS.copy(deep=True)\n",
    "woo[np.nan] = None\n",
    "test = pd.DataFrame({\n",
    "    \"team\": [\"CLE\", \"GB\", \"HOU\", \"CLE\", \"CLE\", \"TEN\", np.nan]\n",
    "})\n",
    "mapped_colors = woo[test[\"team\"]]#.fillna(\"white\").T\n",
    "mapped_colors.loc[mapped_colors.index[:2], :].T.reset_index(drop=True)"
   ]
  },
  {
   "cell_type": "code",
   "execution_count": null,
   "id": "educated-exemption",
   "metadata": {},
   "outputs": [],
   "source": []
  }
 ],
 "metadata": {
  "kernelspec": {
   "display_name": "Python 3",
   "language": "python",
   "name": "python3"
  },
  "language_info": {
   "codemirror_mode": {
    "name": "ipython",
    "version": 3
   },
   "file_extension": ".py",
   "mimetype": "text/x-python",
   "name": "python",
   "nbconvert_exporter": "python",
   "pygments_lexer": "ipython3",
   "version": "3.8.6"
  }
 },
 "nbformat": 4,
 "nbformat_minor": 5
}
